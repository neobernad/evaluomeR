{
 "cells": [
  {
   "cell_type": "markdown",
   "id": "285a2f02",
   "metadata": {},
   "source": [
    "# evaluomeR - RSKC - metric relevancy"
   ]
  },
  {
   "cell_type": "code",
   "execution_count": 1,
   "id": "9ba99e51",
   "metadata": {
    "scrolled": true
   },
   "outputs": [
    {
     "name": "stderr",
     "output_type": "stream",
     "text": [
      "Loading required package: SummarizedExperiment\n",
      "Loading required package: GenomicRanges\n",
      "Loading required package: stats4\n",
      "Loading required package: BiocGenerics\n",
      "Loading required package: parallel\n",
      "\n",
      "Attaching package: 'BiocGenerics'\n",
      "\n",
      "The following objects are masked from 'package:parallel':\n",
      "\n",
      "    clusterApply, clusterApplyLB, clusterCall, clusterEvalQ,\n",
      "    clusterExport, clusterMap, parApply, parCapply, parLapply,\n",
      "    parLapplyLB, parRapply, parSapply, parSapplyLB\n",
      "\n",
      "The following objects are masked from 'package:stats':\n",
      "\n",
      "    IQR, mad, sd, var, xtabs\n",
      "\n",
      "The following objects are masked from 'package:base':\n",
      "\n",
      "    anyDuplicated, append, as.data.frame, basename, cbind, colnames,\n",
      "    dirname, do.call, duplicated, eval, evalq, Filter, Find, get, grep,\n",
      "    grepl, intersect, is.unsorted, lapply, Map, mapply, match, mget,\n",
      "    order, paste, pmax, pmax.int, pmin, pmin.int, Position, rank,\n",
      "    rbind, Reduce, rownames, sapply, setdiff, sort, table, tapply,\n",
      "    union, unique, unsplit, which, which.max, which.min\n",
      "\n",
      "Loading required package: S4Vectors\n",
      "\n",
      "Attaching package: 'S4Vectors'\n",
      "\n",
      "The following object is masked from 'package:base':\n",
      "\n",
      "    expand.grid\n",
      "\n",
      "Loading required package: IRanges\n",
      "\n",
      "Attaching package: 'IRanges'\n",
      "\n",
      "The following object is masked from 'package:grDevices':\n",
      "\n",
      "    windows\n",
      "\n",
      "Loading required package: GenomeInfoDb\n",
      "Loading required package: Biobase\n",
      "Welcome to Bioconductor\n",
      "\n",
      "    Vignettes contain introductory material; view with\n",
      "    'browseVignettes()'. To cite Bioconductor, see\n",
      "    'citation(\"Biobase\")', and for packages 'citation(\"pkgname\")'.\n",
      "\n",
      "Loading required package: DelayedArray\n",
      "Loading required package: matrixStats\n",
      "\n",
      "Attaching package: 'matrixStats'\n",
      "\n",
      "The following objects are masked from 'package:Biobase':\n",
      "\n",
      "    anyMissing, rowMedians\n",
      "\n",
      "Loading required package: BiocParallel\n",
      "\n",
      "Attaching package: 'DelayedArray'\n",
      "\n",
      "The following objects are masked from 'package:matrixStats':\n",
      "\n",
      "    colMaxs, colMins, colRanges, rowMaxs, rowMins, rowRanges\n",
      "\n",
      "The following objects are masked from 'package:base':\n",
      "\n",
      "    aperm, apply, rowsum\n",
      "\n",
      "Loading required package: MultiAssayExperiment\n",
      "Loading required package: dplyr\n",
      "\n",
      "Attaching package: 'dplyr'\n",
      "\n",
      "The following object is masked from 'package:matrixStats':\n",
      "\n",
      "    count\n",
      "\n",
      "The following object is masked from 'package:Biobase':\n",
      "\n",
      "    combine\n",
      "\n",
      "The following objects are masked from 'package:GenomicRanges':\n",
      "\n",
      "    intersect, setdiff, union\n",
      "\n",
      "The following object is masked from 'package:GenomeInfoDb':\n",
      "\n",
      "    intersect\n",
      "\n",
      "The following objects are masked from 'package:IRanges':\n",
      "\n",
      "    collapse, desc, intersect, setdiff, slice, union\n",
      "\n",
      "The following objects are masked from 'package:S4Vectors':\n",
      "\n",
      "    first, intersect, rename, setdiff, setequal, union\n",
      "\n",
      "The following objects are masked from 'package:BiocGenerics':\n",
      "\n",
      "    combine, intersect, setdiff, union\n",
      "\n",
      "The following objects are masked from 'package:stats':\n",
      "\n",
      "    filter, lag\n",
      "\n",
      "The following objects are masked from 'package:base':\n",
      "\n",
      "    intersect, setdiff, setequal, union\n",
      "\n",
      "Loading required package: cluster\n",
      "Loading required package: fpc\n",
      "Loading required package: randomForest\n",
      "Warning message:\n",
      "\"package 'randomForest' was built under R version 3.6.3\"randomForest 4.6-14\n",
      "Type rfNews() to see new features/changes/bug fixes.\n",
      "\n",
      "Attaching package: 'randomForest'\n",
      "\n",
      "The following object is masked from 'package:dplyr':\n",
      "\n",
      "    combine\n",
      "\n",
      "The following object is masked from 'package:Biobase':\n",
      "\n",
      "    combine\n",
      "\n",
      "The following object is masked from 'package:BiocGenerics':\n",
      "\n",
      "    combine\n",
      "\n",
      "Loading required package: flexmix\n",
      "Loading required package: lattice\n",
      "Loading required package: RSKC\n",
      "Warning message:\n",
      "\"package 'RSKC' was built under R version 3.6.3\"Loading required package: flexclust\n",
      "Loading required package: grid\n",
      "Loading required package: modeltools\n"
     ]
    }
   ],
   "source": [
    "library(\"ISLR\") \n",
    "library(\"sparcl\")\n",
    "library(\"evaluomeR\")\n",
    "\n",
    "\n",
    "options(scipen=10)"
   ]
  },
  {
   "cell_type": "markdown",
   "id": "28d20d7c",
   "metadata": {},
   "source": [
    "# Table of contents\n",
    "* [Dataset](#dataset)\n",
    "* [evaluomeR CBIs](#cbis)\n",
    "* [Metrics relevancy](#metrics_relevancy)\n",
    "    * [Optimal K value](#optimal_k)\n",
    "    * [Figuring out the L<sub>1</sub> upper boundry](#l1_boundry)\n",
    "    * [Figuring out the best alpha](#alpha)\n",
    "    * [Relevancy table](#relevancy_table)"
   ]
  },
  {
   "cell_type": "markdown",
   "id": "0645c2e1",
   "metadata": {},
   "source": [
    "# Dataset <a class=\"anchor\" id=\"dataset\"></a>\n",
    "We are going to use the NCI60 dataset, actually a subsample of the first 500 columns for testing purposes."
   ]
  },
  {
   "cell_type": "code",
   "execution_count": 2,
   "id": "7de4bfd0",
   "metadata": {},
   "outputs": [
    {
     "data": {
      "text/html": [
       "<table>\n",
       "<thead><tr><th></th><th scope=col>Description</th><th scope=col>1</th><th scope=col>2</th><th scope=col>3</th><th scope=col>4</th><th scope=col>5</th><th scope=col>6</th><th scope=col>7</th><th scope=col>8</th><th scope=col>9</th><th scope=col>...</th><th scope=col>490</th><th scope=col>491</th><th scope=col>492</th><th scope=col>493</th><th scope=col>494</th><th scope=col>495</th><th scope=col>496</th><th scope=col>497</th><th scope=col>498</th><th scope=col>499</th></tr></thead>\n",
       "<tbody>\n",
       "\t<tr><th scope=row>V1</th><td>CNS          </td><td>0.300000     </td><td> 1.180000    </td><td> 0.550000    </td><td> 1.140000    </td><td>-0.265000    </td><td>-7.000000e-02</td><td> 0.350000    </td><td>-0.315000    </td><td>-0.45000000  </td><td>...          </td><td>-0.430000    </td><td>-0.035000    </td><td> 0.100000    </td><td>-0.285000    </td><td>-0.140000    </td><td> 0.01999023  </td><td> 0.370000    </td><td>-0.38000000  </td><td>-0.37250000  </td><td>-0.3200195   </td></tr>\n",
       "\t<tr><th scope=row>V2</th><td>CNS          </td><td>0.679961     </td><td> 1.289961    </td><td> 0.169961    </td><td> 0.379961    </td><td> 0.464961    </td><td> 5.799610e-01</td><td> 0.699961    </td><td> 0.724961    </td><td>-0.04003899  </td><td>...          </td><td>-0.330039    </td><td>-0.605039    </td><td>-0.580039    </td><td>-0.985039    </td><td>-0.550039    </td><td> 0.41995120  </td><td> 0.129961    </td><td>-0.09003899  </td><td> 0.03746101  </td><td> 0.0000000   </td></tr>\n",
       "\t<tr><th scope=row>V3</th><td>CNS          </td><td>0.940000     </td><td>-0.040000    </td><td>-0.170000    </td><td>-0.040000    </td><td>-0.605000    </td><td> 0.000000e+00</td><td> 0.090000    </td><td> 0.645000    </td><td> 0.43000000  </td><td>...          </td><td> 0.230000    </td><td>-0.775000    </td><td>-0.850000    </td><td>-0.665000    </td><td>-0.860000    </td><td> 0.23999020  </td><td>-1.190000    </td><td>-0.84000000  </td><td>-0.51250000  </td><td>-0.8900195   </td></tr>\n",
       "\t<tr><th scope=row>V4</th><td>RENAL        </td><td>0.280000     </td><td>-0.310000    </td><td> 0.680000    </td><td>-0.810000    </td><td> 0.625000    </td><td>-1.387779e-17</td><td> 0.170000    </td><td> 0.245000    </td><td> 0.02000000  </td><td>...          </td><td>-0.180000    </td><td> 0.385000    </td><td>-0.680000    </td><td>-0.115000    </td><td>-0.660000    </td><td> 0.12999020  </td><td>-0.600000    </td><td>-0.52000000  </td><td>-0.32250000  </td><td>-0.2600195   </td></tr>\n",
       "\t<tr><th scope=row>V5</th><td>BREAST       </td><td>0.485000     </td><td>-0.465000    </td><td> 0.395000    </td><td> 0.905000    </td><td> 0.200000    </td><td>-5.000000e-03</td><td> 0.085000    </td><td> 0.110000    </td><td> 0.23500000  </td><td>...          </td><td>-0.195000    </td><td>-0.150000    </td><td>-0.755000    </td><td>-0.720000    </td><td>-0.355000    </td><td>-1.31500977  </td><td>-0.975000    </td><td>-0.81500000  </td><td>-0.67750000  </td><td>-1.3450195   </td></tr>\n",
       "\t<tr><th scope=row>V6</th><td>CNS          </td><td>0.310000     </td><td>-0.030000    </td><td>-0.100000    </td><td>-0.460000    </td><td>-0.205000    </td><td>-5.400000e-01</td><td>-0.640000    </td><td>-0.585000    </td><td>-0.77000000  </td><td>...          </td><td>-0.670000    </td><td>-0.515000    </td><td>-0.140000    </td><td>-0.215000    </td><td>-0.140000    </td><td> 0.30999020  </td><td>-0.060000    </td><td>-0.57000000  </td><td>-0.54250000  </td><td>-0.5500195   </td></tr>\n",
       "</tbody>\n",
       "</table>\n"
      ],
      "text/latex": [
       "\\begin{tabular}{r|llllllllllllllllllllllllllllllllllllllllllllllllllllllllllllllllllllllllllllllllllllllllllllllllllllllllllllllllllllllllllllllllllllllllllllllllllllllllllllllllllllllllllllllllllllllllllllllllllllllllllllllllllllllllllllllllllllllllllllllllllllllllllllllllllllllllllllllllllllllllllllllllllllllllllllllllllllllllllllllllllllllllllllllllllllllllllllllllllllllllllllllllllllllllllllllllllllllllllllllllllllllllllllllllllllllllllllllllllllllllllllllllllllllllllllllllllllllllllllllllllllllllllllllllllll}\n",
       "  & Description & 1 & 2 & 3 & 4 & 5 & 6 & 7 & 8 & 9 & ... & 490 & 491 & 492 & 493 & 494 & 495 & 496 & 497 & 498 & 499\\\\\n",
       "\\hline\n",
       "\tV1 & CNS           & 0.300000      &  1.180000     &  0.550000     &  1.140000     & -0.265000     & -7.000000e-02 &  0.350000     & -0.315000     & -0.45000000   & ...           & -0.430000     & -0.035000     &  0.100000     & -0.285000     & -0.140000     &  0.01999023   &  0.370000     & -0.38000000   & -0.37250000   & -0.3200195   \\\\\n",
       "\tV2 & CNS           & 0.679961      &  1.289961     &  0.169961     &  0.379961     &  0.464961     &  5.799610e-01 &  0.699961     &  0.724961     & -0.04003899   & ...           & -0.330039     & -0.605039     & -0.580039     & -0.985039     & -0.550039     &  0.41995120   &  0.129961     & -0.09003899   &  0.03746101   &  0.0000000   \\\\\n",
       "\tV3 & CNS           & 0.940000      & -0.040000     & -0.170000     & -0.040000     & -0.605000     &  0.000000e+00 &  0.090000     &  0.645000     &  0.43000000   & ...           &  0.230000     & -0.775000     & -0.850000     & -0.665000     & -0.860000     &  0.23999020   & -1.190000     & -0.84000000   & -0.51250000   & -0.8900195   \\\\\n",
       "\tV4 & RENAL         & 0.280000      & -0.310000     &  0.680000     & -0.810000     &  0.625000     & -1.387779e-17 &  0.170000     &  0.245000     &  0.02000000   & ...           & -0.180000     &  0.385000     & -0.680000     & -0.115000     & -0.660000     &  0.12999020   & -0.600000     & -0.52000000   & -0.32250000   & -0.2600195   \\\\\n",
       "\tV5 & BREAST        & 0.485000      & -0.465000     &  0.395000     &  0.905000     &  0.200000     & -5.000000e-03 &  0.085000     &  0.110000     &  0.23500000   & ...           & -0.195000     & -0.150000     & -0.755000     & -0.720000     & -0.355000     & -1.31500977   & -0.975000     & -0.81500000   & -0.67750000   & -1.3450195   \\\\\n",
       "\tV6 & CNS           & 0.310000      & -0.030000     & -0.100000     & -0.460000     & -0.205000     & -5.400000e-01 & -0.640000     & -0.585000     & -0.77000000   & ...           & -0.670000     & -0.515000     & -0.140000     & -0.215000     & -0.140000     &  0.30999020   & -0.060000     & -0.57000000   & -0.54250000   & -0.5500195   \\\\\n",
       "\\end{tabular}\n"
      ],
      "text/markdown": [
       "\n",
       "| <!--/--> | Description | 1 | 2 | 3 | 4 | 5 | 6 | 7 | 8 | 9 | ... | 490 | 491 | 492 | 493 | 494 | 495 | 496 | 497 | 498 | 499 |\n",
       "|---|---|---|---|---|---|---|---|---|---|---|---|---|---|---|---|---|---|---|---|---|---|\n",
       "| V1 | CNS           | 0.300000      |  1.180000     |  0.550000     |  1.140000     | -0.265000     | -7.000000e-02 |  0.350000     | -0.315000     | -0.45000000   | ...           | -0.430000     | -0.035000     |  0.100000     | -0.285000     | -0.140000     |  0.01999023   |  0.370000     | -0.38000000   | -0.37250000   | -0.3200195    |\n",
       "| V2 | CNS           | 0.679961      |  1.289961     |  0.169961     |  0.379961     |  0.464961     |  5.799610e-01 |  0.699961     |  0.724961     | -0.04003899   | ...           | -0.330039     | -0.605039     | -0.580039     | -0.985039     | -0.550039     |  0.41995120   |  0.129961     | -0.09003899   |  0.03746101   |  0.0000000    |\n",
       "| V3 | CNS           | 0.940000      | -0.040000     | -0.170000     | -0.040000     | -0.605000     |  0.000000e+00 |  0.090000     |  0.645000     |  0.43000000   | ...           |  0.230000     | -0.775000     | -0.850000     | -0.665000     | -0.860000     |  0.23999020   | -1.190000     | -0.84000000   | -0.51250000   | -0.8900195    |\n",
       "| V4 | RENAL         | 0.280000      | -0.310000     |  0.680000     | -0.810000     |  0.625000     | -1.387779e-17 |  0.170000     |  0.245000     |  0.02000000   | ...           | -0.180000     |  0.385000     | -0.680000     | -0.115000     | -0.660000     |  0.12999020   | -0.600000     | -0.52000000   | -0.32250000   | -0.2600195    |\n",
       "| V5 | BREAST        | 0.485000      | -0.465000     |  0.395000     |  0.905000     |  0.200000     | -5.000000e-03 |  0.085000     |  0.110000     |  0.23500000   | ...           | -0.195000     | -0.150000     | -0.755000     | -0.720000     | -0.355000     | -1.31500977   | -0.975000     | -0.81500000   | -0.67750000   | -1.3450195    |\n",
       "| V6 | CNS           | 0.310000      | -0.030000     | -0.100000     | -0.460000     | -0.205000     | -5.400000e-01 | -0.640000     | -0.585000     | -0.77000000   | ...           | -0.670000     | -0.515000     | -0.140000     | -0.215000     | -0.140000     |  0.30999020   | -0.060000     | -0.57000000   | -0.54250000   | -0.5500195    |\n",
       "\n"
      ],
      "text/plain": [
       "   Description 1        2         3         4         5         6            \n",
       "V1 CNS         0.300000  1.180000  0.550000  1.140000 -0.265000 -7.000000e-02\n",
       "V2 CNS         0.679961  1.289961  0.169961  0.379961  0.464961  5.799610e-01\n",
       "V3 CNS         0.940000 -0.040000 -0.170000 -0.040000 -0.605000  0.000000e+00\n",
       "V4 RENAL       0.280000 -0.310000  0.680000 -0.810000  0.625000 -1.387779e-17\n",
       "V5 BREAST      0.485000 -0.465000  0.395000  0.905000  0.200000 -5.000000e-03\n",
       "V6 CNS         0.310000 -0.030000 -0.100000 -0.460000 -0.205000 -5.400000e-01\n",
       "   7         8         9           ... 490       491       492       493      \n",
       "V1  0.350000 -0.315000 -0.45000000 ... -0.430000 -0.035000  0.100000 -0.285000\n",
       "V2  0.699961  0.724961 -0.04003899 ... -0.330039 -0.605039 -0.580039 -0.985039\n",
       "V3  0.090000  0.645000  0.43000000 ...  0.230000 -0.775000 -0.850000 -0.665000\n",
       "V4  0.170000  0.245000  0.02000000 ... -0.180000  0.385000 -0.680000 -0.115000\n",
       "V5  0.085000  0.110000  0.23500000 ... -0.195000 -0.150000 -0.755000 -0.720000\n",
       "V6 -0.640000 -0.585000 -0.77000000 ... -0.670000 -0.515000 -0.140000 -0.215000\n",
       "   494       495         496       497         498         499       \n",
       "V1 -0.140000  0.01999023  0.370000 -0.38000000 -0.37250000 -0.3200195\n",
       "V2 -0.550039  0.41995120  0.129961 -0.09003899  0.03746101  0.0000000\n",
       "V3 -0.860000  0.23999020 -1.190000 -0.84000000 -0.51250000 -0.8900195\n",
       "V4 -0.660000  0.12999020 -0.600000 -0.52000000 -0.32250000 -0.2600195\n",
       "V5 -0.355000 -1.31500977 -0.975000 -0.81500000 -0.67750000 -1.3450195\n",
       "V6 -0.140000  0.30999020 -0.060000 -0.57000000 -0.54250000 -0.5500195"
      ]
     },
     "metadata": {},
     "output_type": "display_data"
    }
   ],
   "source": [
    "seed = 13606\n",
    "set.seed(seed)\n",
    "\n",
    "nci60 = as.data.frame(NCI60$data)\n",
    "# Creating a Description column\n",
    "nci60[\"labels\"] = rownames(nci60)\n",
    "nci60 = nci60[ , c(\"labels\", names(nci60)[names(nci60) != \"labels\"])]\n",
    "nci60[\"labels\"] = NCI60$labs\n",
    "colnames(nci60)[colnames(nci60) == 'labels'] <- 'Description'\n",
    "nci60 = nci60[1:500]\n",
    "head(nci60)"
   ]
  },
  {
   "cell_type": "markdown",
   "id": "b0d43550",
   "metadata": {},
   "source": [
    "# evaluomeR CBIs <a class=\"anchor\" id=\"cbis\"></a>\n",
    "Available clusterboot interfaces (clustering methods) in evaluomeR"
   ]
  },
  {
   "cell_type": "code",
   "execution_count": 3,
   "id": "e79d1dab",
   "metadata": {},
   "outputs": [
    {
     "name": "stdout",
     "output_type": "stream",
     "text": [
      "\"kmeans\", \"clara\", \"clara_pam\", \"hclust\", \"pamk\", \"pamk_pam\", \"rskc\""
     ]
    }
   ],
   "source": [
    "cat(paste(shQuote(evaluomeRSupportedCBI(), type=\"cmd\"), collapse=\", \"))"
   ]
  },
  {
   "cell_type": "markdown",
   "id": "cad71aa5",
   "metadata": {},
   "source": [
    "# Metrics relevancy <a class=\"anchor\" id=\"metrics_relevancy\"></a>\n",
    "We need to compute the optimal K value of the dataset and the L1 boundry in order to compute the table of metrics relevancy."
   ]
  },
  {
   "cell_type": "markdown",
   "id": "bcb9cb47",
   "metadata": {},
   "source": [
    "## Optimal K value <a class=\"anchor\" id=\"optimal_k\"></a>\n",
    "Calculating the optimal $k$ value with *kmeans* CBI for the whole dataset (`all_metrics=TRUE`). We consider the $k$ range [3,6] for the analysis, avoiding $k=2$ to prevent binary classifications."
   ]
  },
  {
   "cell_type": "code",
   "execution_count": 4,
   "id": "e6c066b5",
   "metadata": {},
   "outputs": [
    {
     "name": "stderr",
     "output_type": "stream",
     "text": [
      "\n",
      "Data loaded.\n",
      "Number of rows: 64\n",
      "Number of columns: 500\n",
      "\n",
      "\n",
      "Processing all metrics, 'merge', in dataframe (499)\n",
      "\tCalculation of k = 3\n",
      "\tCalculation of k = 4\n",
      "\tCalculation of k = 5\n",
      "\tCalculation of k = 6\n",
      "\n",
      "Data loaded.\n",
      "Number of rows: 64\n",
      "Number of columns: 500\n",
      "\n",
      "\n",
      "Processing all metrics, 'merge', in dataframe (499)\n",
      "\tCalculation of k = 3\n",
      "\tCalculation of k = 4\n",
      "\tCalculation of k = 5\n",
      "\tCalculation of k = 6\n",
      "Processing metric: all_metrics\n",
      "\n",
      "\tBoth Ks do not have a stable classification: '4', '3'\n",
      "\n",
      "\tUsing '3' since it provides higher silhouette width\n",
      "\n"
     ]
    }
   ],
   "source": [
    "k.range=c(3,6)\n",
    "cbi = \"kmeans\"\n",
    "\n",
    "stab_range = stabilityRange(data=nci60, k.range=k.range, \n",
    "                            bs=100, seed=seed,\n",
    "                            all_metrics=TRUE,\n",
    "                            cbi=cbi)\n",
    "stab = standardizeStabilityData(stab_range)\n",
    "\n",
    "# Qual\n",
    "qual_range = qualityRange(data=nci60, k.range=k.range, \n",
    "                            all_metrics=TRUE, seed=seed,\n",
    "                            cbi=cbi)\n",
    "qual = standardizeQualityData(qual_range)\n",
    "\n",
    "# K opt\n",
    "k_opt = getOptimalKValue(stab_range, qual_range, k.range= k.range)\n",
    "optimal_k = as.numeric(k_opt$Global_optimal_k)"
   ]
  },
  {
   "cell_type": "markdown",
   "id": "acd7b272",
   "metadata": {},
   "source": [
    "We are going to use $k=3$ as the optimal K value."
   ]
  },
  {
   "cell_type": "markdown",
   "id": "d5eb0571",
   "metadata": {},
   "source": [
    "## Figuring out the L<sub>1</sub> upper boundry <a class=\"anchor\" id=\"l1_boundry\"></a>\n",
    "This algorithm for tuning the L<sub>1</sub> parameter and others are presented in 'sparcl' R package.\n",
    "Considering that for the dataset the global optimal $k$ is $k=3$, we can now compute the permutations to figure out the boundry L<sub>1</sub> with the method 'KMeansSparseCluster.permute' from 'sparcl'.\n",
    "\n",
    "Note: 1 $<$ L<sub>1</sub> $\\leq$ $\\sqrt{num.variables}$."
   ]
  },
  {
   "cell_type": "code",
   "execution_count": 5,
   "id": "84718cbe",
   "metadata": {
    "scrolled": true
   },
   "outputs": [
    {
     "name": "stdout",
     "output_type": "stream",
     "text": [
      "Best L1 for k=3 is: 9.01320962196161"
     ]
    }
   ],
   "source": [
    "nci60_metrics = nci60[-1] # Removing 'Description' column as it is not numeric\n",
    "wbounds = seq(2,sqrt(ncol(nci60_metrics)), len=30)\n",
    "km.perm <- sparcl::KMeansSparseCluster.permute(nci60_metrics, K=optimal_k, wbounds=wbounds, nperms=5, silent=TRUE)\n",
    "L1 = km.perm$bestw\n",
    "cat(paste0(\"Best L1 for k=\", optimal_k, \" is: \", L1))"
   ]
  },
  {
   "cell_type": "markdown",
   "id": "34c57b66",
   "metadata": {},
   "source": [
    "The best L<sub>1</sub> upper boundry for $k=3$ is $L_{1}=9$."
   ]
  },
  {
   "cell_type": "markdown",
   "id": "b83d7d3d",
   "metadata": {},
   "source": [
    "## Figuring out the best alpha <a class=\"anchor\" id=\"alpha\"></a>"
   ]
  },
  {
   "cell_type": "code",
   "execution_count": 6,
   "id": "966d3c99",
   "metadata": {},
   "outputs": [],
   "source": [
    "# Structure to keep track of stability and qualit of each RSKC run.\n",
    "rskc_run <- function(stab, qual, alpha) {\n",
    "  structure(list(stab = stab, mean_stab = mean(as.double(stab)),\n",
    "                 qual = qual, mean_qual = mean(as.double(qual)),\n",
    "                 alpha = alpha), class = \"rskc_run\")\n",
    "}\n",
    "run_list = list()\n",
    "# Helpers\n",
    "best_stab = -Inf\n",
    "best_qual = -Inf\n",
    "best_alpha_stab = 0\n",
    "best_alpha_qual = 0\n",
    "getBestRun <- function(run_list) {\n",
    "    for (run in run_list)\n",
    "        if (run$mean_stab > best_stab) {\n",
    "            best_stab = run$mean_stab\n",
    "            best_alpha_stab = run$alpha\n",
    "        }\n",
    "        if (run$mean_qual > best_qual) {\n",
    "            best_qual = run$best_qual\n",
    "            best_alpha_qual = run$alpha\n",
    "        }\n",
    "\n",
    "    return(\n",
    "        list(\"best_alpha_stab\" = best_alpha_stab,\n",
    "                \"best_alpha_qual\"=best_alpha_qual)\n",
    "          )\n",
    "}"
   ]
  },
  {
   "cell_type": "code",
   "execution_count": 7,
   "id": "3fa353ee",
   "metadata": {},
   "outputs": [
    {
     "name": "stderr",
     "output_type": "stream",
     "text": [
      "\n",
      "Data loaded.\n",
      "Number of rows: 64\n",
      "Number of columns: 500\n",
      "\n",
      "\n",
      "Processing all metrics, 'merge', in dataframe (499)\n",
      "\tCalculation of k = 3\n",
      "\n",
      "Data loaded.\n",
      "Number of rows: 64\n",
      "Number of columns: 500\n",
      "\n",
      "\n",
      "Processing all metrics, 'merge', in dataframe (499)\n",
      "\tCalculation of k = 3\n",
      "\n",
      "Data loaded.\n",
      "Number of rows: 64\n",
      "Number of columns: 500\n",
      "\n",
      "\n",
      "Processing all metrics, 'merge', in dataframe (499)\n",
      "\tCalculation of k = 3\n",
      "\n",
      "Data loaded.\n",
      "Number of rows: 64\n",
      "Number of columns: 500\n",
      "\n",
      "\n",
      "Processing all metrics, 'merge', in dataframe (499)\n",
      "\tCalculation of k = 3\n",
      "\n",
      "Data loaded.\n",
      "Number of rows: 64\n",
      "Number of columns: 500\n",
      "\n",
      "\n",
      "Processing all metrics, 'merge', in dataframe (499)\n",
      "\tCalculation of k = 3\n",
      "\n",
      "Data loaded.\n",
      "Number of rows: 64\n",
      "Number of columns: 500\n",
      "\n",
      "\n",
      "Processing all metrics, 'merge', in dataframe (499)\n",
      "\tCalculation of k = 3\n",
      "\n",
      "Data loaded.\n",
      "Number of rows: 64\n",
      "Number of columns: 500\n",
      "\n",
      "\n",
      "Processing all metrics, 'merge', in dataframe (499)\n",
      "\tCalculation of k = 3\n",
      "\n",
      "Data loaded.\n",
      "Number of rows: 64\n",
      "Number of columns: 500\n",
      "\n",
      "\n",
      "Processing all metrics, 'merge', in dataframe (499)\n",
      "\tCalculation of k = 3\n",
      "\n",
      "Data loaded.\n",
      "Number of rows: 64\n",
      "Number of columns: 500\n",
      "\n",
      "\n",
      "Processing all metrics, 'merge', in dataframe (499)\n",
      "\tCalculation of k = 3\n",
      "\n",
      "Data loaded.\n",
      "Number of rows: 64\n",
      "Number of columns: 500\n",
      "\n",
      "\n",
      "Processing all metrics, 'merge', in dataframe (499)\n",
      "\tCalculation of k = 3\n",
      "\n",
      "Data loaded.\n",
      "Number of rows: 64\n",
      "Number of columns: 500\n",
      "\n",
      "\n",
      "Processing all metrics, 'merge', in dataframe (499)\n",
      "\tCalculation of k = 3\n",
      "\n",
      "Data loaded.\n",
      "Number of rows: 64\n",
      "Number of columns: 500\n",
      "\n",
      "\n",
      "Processing all metrics, 'merge', in dataframe (499)\n",
      "\tCalculation of k = 3\n"
     ]
    }
   ],
   "source": [
    "alpha_values = seq(0, 0.25, 0.05)\n",
    "index = 1\n",
    "for (alpha in alpha_values) {\n",
    "    stab = stability(data=nci60, k=optimal_k, \n",
    "                                bs=100, seed=seed,\n",
    "                                all_metrics=TRUE,\n",
    "                                cbi=\"rskc\", L1=floor(L1), alpha=alpha)\n",
    "    stab_table = standardizeStabilityData(stab)\n",
    "    \n",
    "    qual = quality(data=nci60, k=optimal_k, \n",
    "                                seed=seed,\n",
    "                                all_metrics=TRUE,\n",
    "                                cbi=\"rskc\", L1=floor(L1), alpha=alpha)\n",
    "    qual_table = standardizeQualityData(qual)\n",
    "    \n",
    "    run_list[[index]] <- rskc_run(stab = stab_table, qual = qual_table, alpha=alpha)\n",
    "    index = index + 1\n",
    "}"
   ]
  },
  {
   "cell_type": "code",
   "execution_count": 13,
   "id": "8d2e3be6",
   "metadata": {
    "scrolled": true
   },
   "outputs": [
    {
     "data": {
      "text/html": [
       "<dl>\n",
       "\t<dt>$best_alpha_stab</dt>\n",
       "\t\t<dd>0.05</dd>\n",
       "\t<dt>$best_alpha_qual</dt>\n",
       "\t\t<dd>0.25</dd>\n",
       "</dl>\n"
      ],
      "text/latex": [
       "\\begin{description}\n",
       "\\item[\\$best\\_alpha\\_stab] 0.05\n",
       "\\item[\\$best\\_alpha\\_qual] 0.25\n",
       "\\end{description}\n"
      ],
      "text/markdown": [
       "$best_alpha_stab\n",
       ":   0.05\n",
       "$best_alpha_qual\n",
       ":   0.25\n",
       "\n",
       "\n"
      ],
      "text/plain": [
       "$best_alpha_stab\n",
       "[1] 0.05\n",
       "\n",
       "$best_alpha_qual\n",
       "[1] 0.25\n"
      ]
     },
     "metadata": {},
     "output_type": "display_data"
    }
   ],
   "source": [
    "getBestRun(run_list)"
   ]
  },
  {
   "cell_type": "code",
   "execution_count": 14,
   "id": "3481a29a",
   "metadata": {},
   "outputs": [
    {
     "data": {
      "text/html": [
       "0.05"
      ],
      "text/latex": [
       "0.05"
      ],
      "text/markdown": [
       "0.05"
      ],
      "text/plain": [
       "[1] 0.05"
      ]
     },
     "metadata": {},
     "output_type": "display_data"
    }
   ],
   "source": [
    "getBestRun(run_list)$best_alpha_stab"
   ]
  },
  {
   "cell_type": "code",
   "execution_count": 10,
   "id": "442eb247",
   "metadata": {},
   "outputs": [
    {
     "data": {
      "text/plain": [
       "$stab\n",
       "                  k_3\n",
       "all_metrics 0.7636242\n",
       "\n",
       "$mean_stab\n",
       "[1] 0.7636242\n",
       "\n",
       "$qual\n",
       "                  k_3\n",
       "all_metrics 0.1064326\n",
       "\n",
       "$mean_qual\n",
       "[1] 0.1064326\n",
       "\n",
       "$alpha\n",
       "[1] 0\n",
       "\n",
       "attr(,\"class\")\n",
       "[1] \"rskc_run\""
      ]
     },
     "metadata": {},
     "output_type": "display_data"
    }
   ],
   "source": [
    "run_list[[1]]"
   ]
  },
  {
   "cell_type": "markdown",
   "id": "e4bd9f3c",
   "metadata": {},
   "source": [
    "## Relevancy table <a class=\"anchor\" id=\"relevancy_table\"></a>\n",
    "Now we know that optimal $k$ value is $k=3$ and that $L_{1}=9$, from our previous analysis. With this we have everything set up to get the relevancy table of the metrics.\n",
    "\n",
    "**Note**: Remove the first column `Description` method `evaluomeR::getMetricsRelevancy`, that is why we use `nci60_metrics` instead of `nci60` dataframe."
   ]
  },
  {
   "cell_type": "code",
   "execution_count": 15,
   "id": "2a8086f1",
   "metadata": {},
   "outputs": [
    {
     "name": "stdout",
     "output_type": "stream",
     "text": [
      "[1] \"Alpha set as: 0.05\"\n",
      "[1] \"L1 set as: 9\"\n",
      "    metric    weight\n",
      "256    256 0.4507365\n",
      "257    257 0.3533068\n",
      "252    252 0.3330739\n"
     ]
    }
   ],
   "source": [
    "nci60_relevancy = getMetricsRelevancy(nci60_metrics, alpha=getBestRun(run_list)$best_alpha_stab, k=optimal_k, L1=floor(L1), seed=seed)\n",
    "relevancy_table = nci60_relevancy$relevancy\n",
    "print(head(relevancy_table, 3))"
   ]
  }
 ],
 "metadata": {
  "kernelspec": {
   "display_name": "R",
   "language": "R",
   "name": "ir"
  },
  "language_info": {
   "codemirror_mode": "r",
   "file_extension": ".r",
   "mimetype": "text/x-r-source",
   "name": "R",
   "pygments_lexer": "r",
   "version": "3.6.1"
  }
 },
 "nbformat": 4,
 "nbformat_minor": 5
}
