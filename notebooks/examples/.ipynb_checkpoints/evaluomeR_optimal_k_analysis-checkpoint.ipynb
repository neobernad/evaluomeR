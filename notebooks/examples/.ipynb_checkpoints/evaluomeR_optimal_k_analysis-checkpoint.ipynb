{
 "cells": [
  {
   "cell_type": "markdown",
   "id": "285a2f02",
   "metadata": {},
   "source": [
    "# evaluomeR - optimal $k$ analysis"
   ]
  },
  {
   "cell_type": "code",
   "execution_count": 1,
   "id": "9ba99e51",
   "metadata": {
    "scrolled": true
   },
   "outputs": [
    {
     "name": "stderr",
     "output_type": "stream",
     "text": [
      "Loading required package: SummarizedExperiment\n",
      "Loading required package: GenomicRanges\n",
      "Loading required package: stats4\n",
      "Loading required package: BiocGenerics\n",
      "Loading required package: parallel\n",
      "\n",
      "Attaching package: 'BiocGenerics'\n",
      "\n",
      "The following objects are masked from 'package:parallel':\n",
      "\n",
      "    clusterApply, clusterApplyLB, clusterCall, clusterEvalQ,\n",
      "    clusterExport, clusterMap, parApply, parCapply, parLapply,\n",
      "    parLapplyLB, parRapply, parSapply, parSapplyLB\n",
      "\n",
      "The following objects are masked from 'package:stats':\n",
      "\n",
      "    IQR, mad, sd, var, xtabs\n",
      "\n",
      "The following objects are masked from 'package:base':\n",
      "\n",
      "    anyDuplicated, append, as.data.frame, basename, cbind, colnames,\n",
      "    dirname, do.call, duplicated, eval, evalq, Filter, Find, get, grep,\n",
      "    grepl, intersect, is.unsorted, lapply, Map, mapply, match, mget,\n",
      "    order, paste, pmax, pmax.int, pmin, pmin.int, Position, rank,\n",
      "    rbind, Reduce, rownames, sapply, setdiff, sort, table, tapply,\n",
      "    union, unique, unsplit, which, which.max, which.min\n",
      "\n",
      "Loading required package: S4Vectors\n",
      "\n",
      "Attaching package: 'S4Vectors'\n",
      "\n",
      "The following object is masked from 'package:base':\n",
      "\n",
      "    expand.grid\n",
      "\n",
      "Loading required package: IRanges\n",
      "\n",
      "Attaching package: 'IRanges'\n",
      "\n",
      "The following object is masked from 'package:grDevices':\n",
      "\n",
      "    windows\n",
      "\n",
      "Loading required package: GenomeInfoDb\n",
      "Loading required package: Biobase\n",
      "Welcome to Bioconductor\n",
      "\n",
      "    Vignettes contain introductory material; view with\n",
      "    'browseVignettes()'. To cite Bioconductor, see\n",
      "    'citation(\"Biobase\")', and for packages 'citation(\"pkgname\")'.\n",
      "\n",
      "Loading required package: DelayedArray\n",
      "Loading required package: matrixStats\n",
      "\n",
      "Attaching package: 'matrixStats'\n",
      "\n",
      "The following objects are masked from 'package:Biobase':\n",
      "\n",
      "    anyMissing, rowMedians\n",
      "\n",
      "Loading required package: BiocParallel\n",
      "\n",
      "Attaching package: 'DelayedArray'\n",
      "\n",
      "The following objects are masked from 'package:matrixStats':\n",
      "\n",
      "    colMaxs, colMins, colRanges, rowMaxs, rowMins, rowRanges\n",
      "\n",
      "The following objects are masked from 'package:base':\n",
      "\n",
      "    aperm, apply, rowsum\n",
      "\n",
      "Loading required package: MultiAssayExperiment\n",
      "Loading required package: dplyr\n",
      "\n",
      "Attaching package: 'dplyr'\n",
      "\n",
      "The following object is masked from 'package:matrixStats':\n",
      "\n",
      "    count\n",
      "\n",
      "The following object is masked from 'package:Biobase':\n",
      "\n",
      "    combine\n",
      "\n",
      "The following objects are masked from 'package:GenomicRanges':\n",
      "\n",
      "    intersect, setdiff, union\n",
      "\n",
      "The following object is masked from 'package:GenomeInfoDb':\n",
      "\n",
      "    intersect\n",
      "\n",
      "The following objects are masked from 'package:IRanges':\n",
      "\n",
      "    collapse, desc, intersect, setdiff, slice, union\n",
      "\n",
      "The following objects are masked from 'package:S4Vectors':\n",
      "\n",
      "    first, intersect, rename, setdiff, setequal, union\n",
      "\n",
      "The following objects are masked from 'package:BiocGenerics':\n",
      "\n",
      "    combine, intersect, setdiff, union\n",
      "\n",
      "The following objects are masked from 'package:stats':\n",
      "\n",
      "    filter, lag\n",
      "\n",
      "The following objects are masked from 'package:base':\n",
      "\n",
      "    intersect, setdiff, setequal, union\n",
      "\n",
      "Loading required package: cluster\n",
      "Loading required package: fpc\n",
      "Loading required package: randomForest\n",
      "Warning message:\n",
      "\"package 'randomForest' was built under R version 3.6.3\"randomForest 4.6-14\n",
      "Type rfNews() to see new features/changes/bug fixes.\n",
      "\n",
      "Attaching package: 'randomForest'\n",
      "\n",
      "The following object is masked from 'package:dplyr':\n",
      "\n",
      "    combine\n",
      "\n",
      "The following object is masked from 'package:Biobase':\n",
      "\n",
      "    combine\n",
      "\n",
      "The following object is masked from 'package:BiocGenerics':\n",
      "\n",
      "    combine\n",
      "\n",
      "Loading required package: flexmix\n",
      "Loading required package: lattice\n",
      "Loading required package: RSKC\n",
      "Warning message:\n",
      "\"package 'RSKC' was built under R version 3.6.3\"Loading required package: flexclust\n",
      "Loading required package: grid\n",
      "Loading required package: modeltools\n",
      "Loading required package: sparcl\n"
     ]
    }
   ],
   "source": [
    "library(\"evaluomeR\")\n",
    "\n",
    "options(scipen=10)"
   ]
  },
  {
   "cell_type": "markdown",
   "id": "28d20d7c",
   "metadata": {},
   "source": [
    "# Table of contents\n",
    "* [Dataset](#dataset)\n",
    "* [Analysis per metric](#single)\n",
    "    * [Stability](#single_stab)\n",
    "    * [Quality](#single_qual)\n",
    "    * [Optimal K value](#single_optimal)\n",
    "* [Analysis for all the metrics](#all)\n",
    "    * [Stability](#all_stab)\n",
    "    * [Quality](#all_qual)\n",
    "    * [Optimal K value](#all_optimal)"
   ]
  },
  {
   "cell_type": "markdown",
   "id": "0645c2e1",
   "metadata": {},
   "source": [
    "# Dataset <a class=\"anchor\" id=\"dataset\"></a>"
   ]
  },
  {
   "cell_type": "code",
   "execution_count": 8,
   "id": "7de4bfd0",
   "metadata": {},
   "outputs": [
    {
     "data": {
      "text/html": [
       "<table>\n",
       "<thead><tr><th scope=col>Description</th><th scope=col>ANOnto</th><th scope=col>AROnto</th><th scope=col>CBOOnto</th><th scope=col>CBOOnto2</th><th scope=col>CROnto</th><th scope=col>DITOnto</th><th scope=col>INROnto</th><th scope=col>LCOMOnto</th><th scope=col>NACOnto</th><th scope=col>NOCOnto</th><th scope=col>NOMOnto</th><th scope=col>POnto</th><th scope=col>PROnto</th><th scope=col>RFCOnto</th><th scope=col>RROnto</th><th scope=col>TMOnto</th><th scope=col>TMOnto2</th><th scope=col>WMCOnto</th><th scope=col>WMCOnto2</th></tr></thead>\n",
       "<tbody>\n",
       "\t<tr><td>ADO         </td><td>0.0000000   </td><td>3.9503849   </td><td>0.9991446   </td><td>0.9991446   </td><td>   0.9957228</td><td> 3          </td><td>0.9991446   </td><td>1.999142    </td><td>1.000000    </td><td>292.000000  </td><td>   2.9632164</td><td>0.9957228   </td><td>0.7478411   </td><td>   3.9623610</td><td>0.252158895 </td><td>0.00000000  </td><td>0.000000    </td><td>1.999142    </td><td>1.000000    </td></tr>\n",
       "\t<tr><td>AEO         </td><td>0.9298246   </td><td>0.5438596   </td><td>0.9824561   </td><td>0.9824561   </td><td>   0.0000000</td><td> 5          </td><td>0.9824561   </td><td>2.357143    </td><td>1.000000    </td><td>  3.733333  </td><td>   0.9824561</td><td>0.5789474   </td><td>0.5000000   </td><td>   1.9649123</td><td>0.500000000 </td><td>0.00000000  </td><td>0.000000    </td><td>2.357143    </td><td>1.000000    </td></tr>\n",
       "\t<tr><td>AFO         </td><td>0.7500000   </td><td>0.0000000   </td><td>0.8750000   </td><td>0.8750000   </td><td>3998.8750000</td><td> 3          </td><td>0.8750000   </td><td>1.333333    </td><td>1.000000    </td><td>  3.500000  </td><td>2275.7500000</td><td>0.2500000   </td><td>0.9996157   </td><td>2276.6250000</td><td>0.000384341 </td><td>0.00000000  </td><td>0.000000    </td><td>1.333333    </td><td>1.000000    </td></tr>\n",
       "\t<tr><td>AGRO        </td><td>0.9907407   </td><td>3.1018519   </td><td>1.0694444   </td><td>1.0694444   </td><td>   0.3634259</td><td>16          </td><td>1.0694444   </td><td>7.695971    </td><td>1.052174    </td><td>  2.287129  </td><td>   1.2037037</td><td>1.0555556   </td><td>0.5295316   </td><td>   2.2731481</td><td>0.470468432 </td><td>0.06264501  </td><td>2.148148    </td><td>9.134783    </td><td>1.186957    </td></tr>\n",
       "\t<tr><td>AGRORDF     </td><td>1.2362637   </td><td>0.0000000   </td><td>1.0659341   </td><td>1.0659341   </td><td>   0.0000000</td><td> 6          </td><td>1.0329670   </td><td>2.467532    </td><td>1.077465    </td><td>  4.700000  </td><td>   0.5879121</td><td>0.8571429   </td><td>0.3627119   </td><td>   1.6538462</td><td>0.637288136 </td><td>0.07182320  </td><td>2.000000    </td><td>2.676056    </td><td>1.084507    </td></tr>\n",
       "\t<tr><td>ANAEETHES   </td><td>0.0000000   </td><td>0.0000000   </td><td>0.6666667   </td><td>0.6666667   </td><td>1107.6666670</td><td> 2          </td><td>0.6666667   </td><td>1.000000    </td><td>1.000000    </td><td>  2.000000  </td><td>   0.0000000</td><td>0.0000000   </td><td>0.0000000   </td><td>   0.6666667</td><td>1.000000000 </td><td>0.00000000  </td><td>0.000000    </td><td>1.000000    </td><td>1.000000    </td></tr>\n",
       "</tbody>\n",
       "</table>\n"
      ],
      "text/latex": [
       "\\begin{tabular}{r|llllllllllllllllllll}\n",
       " Description & ANOnto & AROnto & CBOOnto & CBOOnto2 & CROnto & DITOnto & INROnto & LCOMOnto & NACOnto & NOCOnto & NOMOnto & POnto & PROnto & RFCOnto & RROnto & TMOnto & TMOnto2 & WMCOnto & WMCOnto2\\\\\n",
       "\\hline\n",
       "\t ADO          & 0.0000000    & 3.9503849    & 0.9991446    & 0.9991446    &    0.9957228 &  3           & 0.9991446    & 1.999142     & 1.000000     & 292.000000   &    2.9632164 & 0.9957228    & 0.7478411    &    3.9623610 & 0.252158895  & 0.00000000   & 0.000000     & 1.999142     & 1.000000    \\\\\n",
       "\t AEO          & 0.9298246    & 0.5438596    & 0.9824561    & 0.9824561    &    0.0000000 &  5           & 0.9824561    & 2.357143     & 1.000000     &   3.733333   &    0.9824561 & 0.5789474    & 0.5000000    &    1.9649123 & 0.500000000  & 0.00000000   & 0.000000     & 2.357143     & 1.000000    \\\\\n",
       "\t AFO          & 0.7500000    & 0.0000000    & 0.8750000    & 0.8750000    & 3998.8750000 &  3           & 0.8750000    & 1.333333     & 1.000000     &   3.500000   & 2275.7500000 & 0.2500000    & 0.9996157    & 2276.6250000 & 0.000384341  & 0.00000000   & 0.000000     & 1.333333     & 1.000000    \\\\\n",
       "\t AGRO         & 0.9907407    & 3.1018519    & 1.0694444    & 1.0694444    &    0.3634259 & 16           & 1.0694444    & 7.695971     & 1.052174     &   2.287129   &    1.2037037 & 1.0555556    & 0.5295316    &    2.2731481 & 0.470468432  & 0.06264501   & 2.148148     & 9.134783     & 1.186957    \\\\\n",
       "\t AGRORDF      & 1.2362637    & 0.0000000    & 1.0659341    & 1.0659341    &    0.0000000 &  6           & 1.0329670    & 2.467532     & 1.077465     &   4.700000   &    0.5879121 & 0.8571429    & 0.3627119    &    1.6538462 & 0.637288136  & 0.07182320   & 2.000000     & 2.676056     & 1.084507    \\\\\n",
       "\t ANAEETHES    & 0.0000000    & 0.0000000    & 0.6666667    & 0.6666667    & 1107.6666670 &  2           & 0.6666667    & 1.000000     & 1.000000     &   2.000000   &    0.0000000 & 0.0000000    & 0.0000000    &    0.6666667 & 1.000000000  & 0.00000000   & 0.000000     & 1.000000     & 1.000000    \\\\\n",
       "\\end{tabular}\n"
      ],
      "text/markdown": [
       "\n",
       "| Description | ANOnto | AROnto | CBOOnto | CBOOnto2 | CROnto | DITOnto | INROnto | LCOMOnto | NACOnto | NOCOnto | NOMOnto | POnto | PROnto | RFCOnto | RROnto | TMOnto | TMOnto2 | WMCOnto | WMCOnto2 |\n",
       "|---|---|---|---|---|---|---|---|---|---|---|---|---|---|---|---|---|---|---|---|\n",
       "| ADO          | 0.0000000    | 3.9503849    | 0.9991446    | 0.9991446    |    0.9957228 |  3           | 0.9991446    | 1.999142     | 1.000000     | 292.000000   |    2.9632164 | 0.9957228    | 0.7478411    |    3.9623610 | 0.252158895  | 0.00000000   | 0.000000     | 1.999142     | 1.000000     |\n",
       "| AEO          | 0.9298246    | 0.5438596    | 0.9824561    | 0.9824561    |    0.0000000 |  5           | 0.9824561    | 2.357143     | 1.000000     |   3.733333   |    0.9824561 | 0.5789474    | 0.5000000    |    1.9649123 | 0.500000000  | 0.00000000   | 0.000000     | 2.357143     | 1.000000     |\n",
       "| AFO          | 0.7500000    | 0.0000000    | 0.8750000    | 0.8750000    | 3998.8750000 |  3           | 0.8750000    | 1.333333     | 1.000000     |   3.500000   | 2275.7500000 | 0.2500000    | 0.9996157    | 2276.6250000 | 0.000384341  | 0.00000000   | 0.000000     | 1.333333     | 1.000000     |\n",
       "| AGRO         | 0.9907407    | 3.1018519    | 1.0694444    | 1.0694444    |    0.3634259 | 16           | 1.0694444    | 7.695971     | 1.052174     |   2.287129   |    1.2037037 | 1.0555556    | 0.5295316    |    2.2731481 | 0.470468432  | 0.06264501   | 2.148148     | 9.134783     | 1.186957     |\n",
       "| AGRORDF      | 1.2362637    | 0.0000000    | 1.0659341    | 1.0659341    |    0.0000000 |  6           | 1.0329670    | 2.467532     | 1.077465     |   4.700000   |    0.5879121 | 0.8571429    | 0.3627119    |    1.6538462 | 0.637288136  | 0.07182320   | 2.000000     | 2.676056     | 1.084507     |\n",
       "| ANAEETHES    | 0.0000000    | 0.0000000    | 0.6666667    | 0.6666667    | 1107.6666670 |  2           | 0.6666667    | 1.000000     | 1.000000     |   2.000000   |    0.0000000 | 0.0000000    | 0.0000000    |    0.6666667 | 1.000000000  | 0.00000000   | 0.000000     | 1.000000     | 1.000000     |\n",
       "\n"
      ],
      "text/plain": [
       "  Description ANOnto    AROnto    CBOOnto   CBOOnto2  CROnto       DITOnto\n",
       "1 ADO         0.0000000 3.9503849 0.9991446 0.9991446    0.9957228  3     \n",
       "2 AEO         0.9298246 0.5438596 0.9824561 0.9824561    0.0000000  5     \n",
       "3 AFO         0.7500000 0.0000000 0.8750000 0.8750000 3998.8750000  3     \n",
       "4 AGRO        0.9907407 3.1018519 1.0694444 1.0694444    0.3634259 16     \n",
       "5 AGRORDF     1.2362637 0.0000000 1.0659341 1.0659341    0.0000000  6     \n",
       "6 ANAEETHES   0.0000000 0.0000000 0.6666667 0.6666667 1107.6666670  2     \n",
       "  INROnto   LCOMOnto NACOnto  NOCOnto    NOMOnto      POnto     PROnto   \n",
       "1 0.9991446 1.999142 1.000000 292.000000    2.9632164 0.9957228 0.7478411\n",
       "2 0.9824561 2.357143 1.000000   3.733333    0.9824561 0.5789474 0.5000000\n",
       "3 0.8750000 1.333333 1.000000   3.500000 2275.7500000 0.2500000 0.9996157\n",
       "4 1.0694444 7.695971 1.052174   2.287129    1.2037037 1.0555556 0.5295316\n",
       "5 1.0329670 2.467532 1.077465   4.700000    0.5879121 0.8571429 0.3627119\n",
       "6 0.6666667 1.000000 1.000000   2.000000    0.0000000 0.0000000 0.0000000\n",
       "  RFCOnto      RROnto      TMOnto     TMOnto2  WMCOnto  WMCOnto2\n",
       "1    3.9623610 0.252158895 0.00000000 0.000000 1.999142 1.000000\n",
       "2    1.9649123 0.500000000 0.00000000 0.000000 2.357143 1.000000\n",
       "3 2276.6250000 0.000384341 0.00000000 0.000000 1.333333 1.000000\n",
       "4    2.2731481 0.470468432 0.06264501 2.148148 9.134783 1.186957\n",
       "5    1.6538462 0.637288136 0.07182320 2.000000 2.676056 1.084507\n",
       "6    0.6666667 1.000000000 0.00000000 0.000000 1.000000 1.000000"
      ]
     },
     "metadata": {},
     "output_type": "display_data"
    }
   ],
   "source": [
    "seed = 13606\n",
    "set.seed(seed)\n",
    "\n",
    "agro_df = read.csv(paste0(getwd(), \"/\",\"data/agro.csv\"), header=TRUE, stringsAsFactors=FALSE)\n",
    "head(agro_df)"
   ]
  },
  {
   "cell_type": "markdown",
   "id": "cad71aa5",
   "metadata": {},
   "source": [
    "# Analysis per metric <a class=\"anchor\" id=\"single\"></a>\n",
    "This demonstrates how to conduct an optimal $k$ analysis for each metric or feature in an input dataset. In this instance, we iterate over the range of $k \\in [3,6]$. To avoid binary classifications, we exclude $k=2$. The CBI *kmeans* serves as the default clustering method."
   ]
  },
  {
   "cell_type": "code",
   "execution_count": 9,
   "id": "83fccf76",
   "metadata": {},
   "outputs": [],
   "source": [
    "k.range=c(3,6)\n",
    "cbi=\"kmeans\""
   ]
  },
  {
   "cell_type": "markdown",
   "id": "b59294a0",
   "metadata": {},
   "source": [
    "### Stability <a class=\"anchor\" id=\"single_stab\"></a>\n",
    "First off, we have to compute the stabilities for the range of k provided, this is achieved via the `stabilityRange` method. As the output of  `stabilityRange` returns an [ExperimentList](https://rdrr.io/bioc/MultiAssayExperiment/man/ExperimentList.html) object. We can cast the output into a dataframe with the `standardizeStabilityData` method."
   ]
  },
  {
   "cell_type": "code",
   "execution_count": 10,
   "id": "0777fd3d",
   "metadata": {
    "scrolled": true
   },
   "outputs": [
    {
     "name": "stderr",
     "output_type": "stream",
     "text": [
      "\n",
      "Data loaded.\n",
      "Number of rows: 78\n",
      "Number of columns: 20\n",
      "\n",
      "\n",
      "Processing metric: ANOnto(1)\n",
      "\tCalculation of k = 3\n",
      "\tCalculation of k = 4\n",
      "\tCalculation of k = 5\n",
      "\tCalculation of k = 6\n",
      "Processing metric: AROnto(2)\n",
      "\tCalculation of k = 3\n",
      "\tCalculation of k = 4\n",
      "\tCalculation of k = 5\n",
      "\tCalculation of k = 6\n",
      "Processing metric: CBOOnto(3)\n",
      "\tCalculation of k = 3\n",
      "\tCalculation of k = 4\n",
      "\tCalculation of k = 5\n",
      "\tCalculation of k = 6\n",
      "Processing metric: CBOOnto2(4)\n",
      "\tCalculation of k = 3\n",
      "\tCalculation of k = 4\n",
      "\tCalculation of k = 5\n",
      "\tCalculation of k = 6\n",
      "Processing metric: CROnto(5)\n",
      "\tCalculation of k = 3\n",
      "\tCalculation of k = 4\n",
      "\tCalculation of k = 5\n",
      "\tCalculation of k = 6\n",
      "Processing metric: DITOnto(6)\n",
      "\tCalculation of k = 3\n",
      "\tCalculation of k = 4\n",
      "\tCalculation of k = 5\n",
      "\tCalculation of k = 6\n",
      "Processing metric: INROnto(7)\n",
      "\tCalculation of k = 3\n",
      "\tCalculation of k = 4\n",
      "\tCalculation of k = 5\n",
      "\tCalculation of k = 6\n",
      "Processing metric: LCOMOnto(8)\n",
      "\tCalculation of k = 3\n",
      "\tCalculation of k = 4\n",
      "\tCalculation of k = 5\n",
      "\tCalculation of k = 6\n",
      "Processing metric: NACOnto(9)\n",
      "\tCalculation of k = 3\n",
      "\tCalculation of k = 4\n",
      "\tCalculation of k = 5\n",
      "\tCalculation of k = 6\n",
      "Processing metric: NOCOnto(10)\n",
      "\tCalculation of k = 3\n",
      "\tCalculation of k = 4\n",
      "\tCalculation of k = 5\n",
      "\tCalculation of k = 6\n",
      "Processing metric: NOMOnto(11)\n",
      "\tCalculation of k = 3\n",
      "\tCalculation of k = 4\n",
      "\tCalculation of k = 5\n",
      "\tCalculation of k = 6\n",
      "Processing metric: POnto(12)\n",
      "\tCalculation of k = 3\n",
      "\tCalculation of k = 4\n",
      "\tCalculation of k = 5\n",
      "\tCalculation of k = 6\n",
      "Processing metric: PROnto(13)\n",
      "\tCalculation of k = 3\n",
      "\tCalculation of k = 4\n",
      "\tCalculation of k = 5\n",
      "\tCalculation of k = 6\n",
      "Processing metric: RFCOnto(14)\n",
      "\tCalculation of k = 3\n",
      "\tCalculation of k = 4\n",
      "\tCalculation of k = 5\n",
      "\tCalculation of k = 6\n",
      "Processing metric: RROnto(15)\n",
      "\tCalculation of k = 3\n",
      "\tCalculation of k = 4\n",
      "\tCalculation of k = 5\n",
      "\tCalculation of k = 6\n",
      "Processing metric: TMOnto(16)\n",
      "\tCalculation of k = 3\n",
      "\tCalculation of k = 4\n",
      "\tCalculation of k = 5\n",
      "\tCalculation of k = 6\n",
      "Processing metric: TMOnto2(17)\n",
      "\tCalculation of k = 3\n",
      "\tCalculation of k = 4\n",
      "\tCalculation of k = 5\n",
      "\tCalculation of k = 6\n",
      "Processing metric: WMCOnto(18)\n",
      "\tCalculation of k = 3\n",
      "\tCalculation of k = 4\n",
      "\tCalculation of k = 5\n",
      "\tCalculation of k = 6\n",
      "Processing metric: WMCOnto2(19)\n",
      "\tCalculation of k = 3\n",
      "\tCalculation of k = 4\n",
      "\tCalculation of k = 5\n",
      "\tCalculation of k = 6\n"
     ]
    }
   ],
   "source": [
    "stab_range = stabilityRange(data=agro_df, k.range=k.range, \n",
    "                            bs=100,\n",
    "                            cbi=cbi)\n",
    "stab = standardizeStabilityData(stab_range)"
   ]
  },
  {
   "cell_type": "markdown",
   "id": "5742dd61",
   "metadata": {},
   "source": [
    "Stabilities for each metric and for each $k$ value can be seen in the `stab` dataframe:"
   ]
  },
  {
   "cell_type": "code",
   "execution_count": 11,
   "id": "1ee413d5",
   "metadata": {},
   "outputs": [
    {
     "data": {
      "text/html": [
       "<table>\n",
       "<thead><tr><th></th><th scope=col>k_3</th><th scope=col>k_4</th><th scope=col>k_5</th><th scope=col>k_6</th></tr></thead>\n",
       "<tbody>\n",
       "\t<tr><th scope=row>ANOnto</th><td>0.8708931</td><td>0.7841959</td><td>0.7296689</td><td>0.7509900</td></tr>\n",
       "\t<tr><th scope=row>AROnto</th><td>0.9538625</td><td>0.8022600</td><td>0.8061481</td><td>0.7299783</td></tr>\n",
       "\t<tr><th scope=row>CBOOnto</th><td>0.8458175</td><td>0.7740625</td><td>0.7687425</td><td>0.7984101</td></tr>\n",
       "\t<tr><th scope=row>CBOOnto2</th><td>0.8458175</td><td>0.7740625</td><td>0.7687425</td><td>0.7984101</td></tr>\n",
       "\t<tr><th scope=row>CROnto</th><td>0.6771065</td><td>0.6210210</td><td>0.6142683</td><td>0.7003332</td></tr>\n",
       "\t<tr><th scope=row>DITOnto</th><td>0.9577282</td><td>0.6616042</td><td>0.6735508</td><td>0.6662409</td></tr>\n",
       "\t<tr><th scope=row>INROnto</th><td>0.8881516</td><td>0.7434687</td><td>0.7773876</td><td>0.8161579</td></tr>\n",
       "\t<tr><th scope=row>LCOMOnto</th><td>0.7587954</td><td>0.6595053</td><td>0.8119282</td><td>0.7424450</td></tr>\n",
       "\t<tr><th scope=row>NACOnto</th><td>0.8386325</td><td>0.7071669</td><td>0.8002024</td><td>0.8274214</td></tr>\n",
       "\t<tr><th scope=row>NOCOnto</th><td>0.8909113</td><td>0.9233513</td><td>0.8334101</td><td>0.8407038</td></tr>\n",
       "\t<tr><th scope=row>NOMOnto</th><td>0.8266276</td><td>0.7977407</td><td>0.7167089</td><td>0.6987901</td></tr>\n",
       "\t<tr><th scope=row>POnto</th><td>0.8106502</td><td>0.7744126</td><td>0.8108449</td><td>0.7948458</td></tr>\n",
       "\t<tr><th scope=row>PROnto</th><td>0.9397563</td><td>0.9277347</td><td>0.7268650</td><td>0.7433955</td></tr>\n",
       "\t<tr><th scope=row>RFCOnto</th><td>0.8392505</td><td>0.7924332</td><td>0.7140725</td><td>0.7773289</td></tr>\n",
       "\t<tr><th scope=row>RROnto</th><td>0.9397563</td><td>0.9277347</td><td>0.7268650</td><td>0.7433955</td></tr>\n",
       "\t<tr><th scope=row>TMOnto</th><td>0.7255721</td><td>0.7622915</td><td>0.7890530</td><td>0.8096754</td></tr>\n",
       "\t<tr><th scope=row>TMOnto2</th><td>0.9392694</td><td>0.9715023</td><td>0.7930306</td><td>0.7824816</td></tr>\n",
       "\t<tr><th scope=row>WMCOnto</th><td>0.9160737</td><td>0.8934944</td><td>0.8689572</td><td>0.8079096</td></tr>\n",
       "\t<tr><th scope=row>WMCOnto2</th><td>0.6248603</td><td>0.7318015</td><td>0.8141992</td><td>0.8215117</td></tr>\n",
       "</tbody>\n",
       "</table>\n"
      ],
      "text/latex": [
       "\\begin{tabular}{r|llll}\n",
       "  & k\\_3 & k\\_4 & k\\_5 & k\\_6\\\\\n",
       "\\hline\n",
       "\tANOnto & 0.8708931 & 0.7841959 & 0.7296689 & 0.7509900\\\\\n",
       "\tAROnto & 0.9538625 & 0.8022600 & 0.8061481 & 0.7299783\\\\\n",
       "\tCBOOnto & 0.8458175 & 0.7740625 & 0.7687425 & 0.7984101\\\\\n",
       "\tCBOOnto2 & 0.8458175 & 0.7740625 & 0.7687425 & 0.7984101\\\\\n",
       "\tCROnto & 0.6771065 & 0.6210210 & 0.6142683 & 0.7003332\\\\\n",
       "\tDITOnto & 0.9577282 & 0.6616042 & 0.6735508 & 0.6662409\\\\\n",
       "\tINROnto & 0.8881516 & 0.7434687 & 0.7773876 & 0.8161579\\\\\n",
       "\tLCOMOnto & 0.7587954 & 0.6595053 & 0.8119282 & 0.7424450\\\\\n",
       "\tNACOnto & 0.8386325 & 0.7071669 & 0.8002024 & 0.8274214\\\\\n",
       "\tNOCOnto & 0.8909113 & 0.9233513 & 0.8334101 & 0.8407038\\\\\n",
       "\tNOMOnto & 0.8266276 & 0.7977407 & 0.7167089 & 0.6987901\\\\\n",
       "\tPOnto & 0.8106502 & 0.7744126 & 0.8108449 & 0.7948458\\\\\n",
       "\tPROnto & 0.9397563 & 0.9277347 & 0.7268650 & 0.7433955\\\\\n",
       "\tRFCOnto & 0.8392505 & 0.7924332 & 0.7140725 & 0.7773289\\\\\n",
       "\tRROnto & 0.9397563 & 0.9277347 & 0.7268650 & 0.7433955\\\\\n",
       "\tTMOnto & 0.7255721 & 0.7622915 & 0.7890530 & 0.8096754\\\\\n",
       "\tTMOnto2 & 0.9392694 & 0.9715023 & 0.7930306 & 0.7824816\\\\\n",
       "\tWMCOnto & 0.9160737 & 0.8934944 & 0.8689572 & 0.8079096\\\\\n",
       "\tWMCOnto2 & 0.6248603 & 0.7318015 & 0.8141992 & 0.8215117\\\\\n",
       "\\end{tabular}\n"
      ],
      "text/markdown": [
       "\n",
       "| <!--/--> | k_3 | k_4 | k_5 | k_6 |\n",
       "|---|---|---|---|---|\n",
       "| ANOnto | 0.8708931 | 0.7841959 | 0.7296689 | 0.7509900 |\n",
       "| AROnto | 0.9538625 | 0.8022600 | 0.8061481 | 0.7299783 |\n",
       "| CBOOnto | 0.8458175 | 0.7740625 | 0.7687425 | 0.7984101 |\n",
       "| CBOOnto2 | 0.8458175 | 0.7740625 | 0.7687425 | 0.7984101 |\n",
       "| CROnto | 0.6771065 | 0.6210210 | 0.6142683 | 0.7003332 |\n",
       "| DITOnto | 0.9577282 | 0.6616042 | 0.6735508 | 0.6662409 |\n",
       "| INROnto | 0.8881516 | 0.7434687 | 0.7773876 | 0.8161579 |\n",
       "| LCOMOnto | 0.7587954 | 0.6595053 | 0.8119282 | 0.7424450 |\n",
       "| NACOnto | 0.8386325 | 0.7071669 | 0.8002024 | 0.8274214 |\n",
       "| NOCOnto | 0.8909113 | 0.9233513 | 0.8334101 | 0.8407038 |\n",
       "| NOMOnto | 0.8266276 | 0.7977407 | 0.7167089 | 0.6987901 |\n",
       "| POnto | 0.8106502 | 0.7744126 | 0.8108449 | 0.7948458 |\n",
       "| PROnto | 0.9397563 | 0.9277347 | 0.7268650 | 0.7433955 |\n",
       "| RFCOnto | 0.8392505 | 0.7924332 | 0.7140725 | 0.7773289 |\n",
       "| RROnto | 0.9397563 | 0.9277347 | 0.7268650 | 0.7433955 |\n",
       "| TMOnto | 0.7255721 | 0.7622915 | 0.7890530 | 0.8096754 |\n",
       "| TMOnto2 | 0.9392694 | 0.9715023 | 0.7930306 | 0.7824816 |\n",
       "| WMCOnto | 0.9160737 | 0.8934944 | 0.8689572 | 0.8079096 |\n",
       "| WMCOnto2 | 0.6248603 | 0.7318015 | 0.8141992 | 0.8215117 |\n",
       "\n"
      ],
      "text/plain": [
       "         k_3       k_4       k_5       k_6      \n",
       "ANOnto   0.8708931 0.7841959 0.7296689 0.7509900\n",
       "AROnto   0.9538625 0.8022600 0.8061481 0.7299783\n",
       "CBOOnto  0.8458175 0.7740625 0.7687425 0.7984101\n",
       "CBOOnto2 0.8458175 0.7740625 0.7687425 0.7984101\n",
       "CROnto   0.6771065 0.6210210 0.6142683 0.7003332\n",
       "DITOnto  0.9577282 0.6616042 0.6735508 0.6662409\n",
       "INROnto  0.8881516 0.7434687 0.7773876 0.8161579\n",
       "LCOMOnto 0.7587954 0.6595053 0.8119282 0.7424450\n",
       "NACOnto  0.8386325 0.7071669 0.8002024 0.8274214\n",
       "NOCOnto  0.8909113 0.9233513 0.8334101 0.8407038\n",
       "NOMOnto  0.8266276 0.7977407 0.7167089 0.6987901\n",
       "POnto    0.8106502 0.7744126 0.8108449 0.7948458\n",
       "PROnto   0.9397563 0.9277347 0.7268650 0.7433955\n",
       "RFCOnto  0.8392505 0.7924332 0.7140725 0.7773289\n",
       "RROnto   0.9397563 0.9277347 0.7268650 0.7433955\n",
       "TMOnto   0.7255721 0.7622915 0.7890530 0.8096754\n",
       "TMOnto2  0.9392694 0.9715023 0.7930306 0.7824816\n",
       "WMCOnto  0.9160737 0.8934944 0.8689572 0.8079096\n",
       "WMCOnto2 0.6248603 0.7318015 0.8141992 0.8215117"
      ]
     },
     "metadata": {},
     "output_type": "display_data"
    }
   ],
   "source": [
    "stab"
   ]
  },
  {
   "cell_type": "markdown",
   "id": "d4750238",
   "metadata": {},
   "source": [
    "### Quality <a class=\"anchor\" id=\"single_qual\"></a>\n",
    "For goodness analysis, we will do a similar endevour as in stability analysis. For this, we have the `qualityRange` method that returns an [ExperimentList](https://rdrr.io/bioc/MultiAssayExperiment/man/ExperimentList.html) and the method `standardizeQualityData` to transform it into a dataframe."
   ]
  },
  {
   "cell_type": "code",
   "execution_count": 13,
   "id": "df8786cb",
   "metadata": {
    "scrolled": true
   },
   "outputs": [
    {
     "name": "stderr",
     "output_type": "stream",
     "text": [
      "\n",
      "Data loaded.\n",
      "Number of rows: 78\n",
      "Number of columns: 20\n",
      "\n",
      "\n",
      "Processing metric: ANOnto(1)\n",
      "\tCalculation of k = 3\n",
      "\tCalculation of k = 4\n",
      "\tCalculation of k = 5\n",
      "\tCalculation of k = 6\n",
      "Processing metric: AROnto(2)\n",
      "\tCalculation of k = 3\n",
      "\tCalculation of k = 4\n",
      "\tCalculation of k = 5\n",
      "\tCalculation of k = 6\n",
      "Processing metric: CBOOnto(3)\n",
      "\tCalculation of k = 3\n",
      "\tCalculation of k = 4\n",
      "\tCalculation of k = 5\n",
      "\tCalculation of k = 6\n",
      "Processing metric: CBOOnto2(4)\n",
      "\tCalculation of k = 3\n",
      "\tCalculation of k = 4\n",
      "\tCalculation of k = 5\n",
      "\tCalculation of k = 6\n",
      "Processing metric: CROnto(5)\n",
      "\tCalculation of k = 3\n",
      "\tCalculation of k = 4\n",
      "\tCalculation of k = 5\n",
      "\tCalculation of k = 6\n",
      "Processing metric: DITOnto(6)\n",
      "\tCalculation of k = 3\n",
      "\tCalculation of k = 4\n",
      "\tCalculation of k = 5\n",
      "\tCalculation of k = 6\n",
      "Processing metric: INROnto(7)\n",
      "\tCalculation of k = 3\n",
      "\tCalculation of k = 4\n",
      "\tCalculation of k = 5\n",
      "\tCalculation of k = 6\n",
      "Processing metric: LCOMOnto(8)\n",
      "\tCalculation of k = 3\n",
      "\tCalculation of k = 4\n",
      "\tCalculation of k = 5\n",
      "\tCalculation of k = 6\n",
      "Processing metric: NACOnto(9)\n",
      "\tCalculation of k = 3\n",
      "\tCalculation of k = 4\n",
      "\tCalculation of k = 5\n",
      "\tCalculation of k = 6\n",
      "Processing metric: NOCOnto(10)\n",
      "\tCalculation of k = 3\n",
      "\tCalculation of k = 4\n",
      "\tCalculation of k = 5\n",
      "\tCalculation of k = 6\n",
      "Processing metric: NOMOnto(11)\n",
      "\tCalculation of k = 3\n",
      "\tCalculation of k = 4\n",
      "\tCalculation of k = 5\n",
      "\tCalculation of k = 6\n",
      "Processing metric: POnto(12)\n",
      "\tCalculation of k = 3\n",
      "\tCalculation of k = 4\n",
      "\tCalculation of k = 5\n",
      "\tCalculation of k = 6\n",
      "Processing metric: PROnto(13)\n",
      "\tCalculation of k = 3\n",
      "\tCalculation of k = 4\n",
      "\tCalculation of k = 5\n",
      "\tCalculation of k = 6\n",
      "Processing metric: RFCOnto(14)\n",
      "\tCalculation of k = 3\n",
      "\tCalculation of k = 4\n",
      "\tCalculation of k = 5\n",
      "\tCalculation of k = 6\n",
      "Processing metric: RROnto(15)\n",
      "\tCalculation of k = 3\n",
      "\tCalculation of k = 4\n",
      "\tCalculation of k = 5\n",
      "\tCalculation of k = 6\n",
      "Processing metric: TMOnto(16)\n",
      "\tCalculation of k = 3\n",
      "\tCalculation of k = 4\n",
      "\tCalculation of k = 5\n",
      "\tCalculation of k = 6\n",
      "Processing metric: TMOnto2(17)\n",
      "\tCalculation of k = 3\n",
      "\tCalculation of k = 4\n",
      "\tCalculation of k = 5\n",
      "\tCalculation of k = 6\n",
      "Processing metric: WMCOnto(18)\n",
      "\tCalculation of k = 3\n",
      "\tCalculation of k = 4\n",
      "\tCalculation of k = 5\n",
      "\tCalculation of k = 6\n",
      "Processing metric: WMCOnto2(19)\n",
      "\tCalculation of k = 3\n",
      "\tCalculation of k = 4\n",
      "\tCalculation of k = 5\n",
      "\tCalculation of k = 6\n"
     ]
    }
   ],
   "source": [
    "qual_range = qualityRange(data=agro_df, k.range=k.range, \n",
    "                            cbi=cbi)\n",
    "qual = standardizeQualityData(qual_range)"
   ]
  },
  {
   "cell_type": "markdown",
   "id": "e12cce1a",
   "metadata": {},
   "source": [
    "Qualities for each metric and for each $k$ value can be seen in the `qual` dataframe:"
   ]
  },
  {
   "cell_type": "code",
   "execution_count": 14,
   "id": "6f03f1d9",
   "metadata": {},
   "outputs": [
    {
     "data": {
      "text/html": [
       "<table>\n",
       "<thead><tr><th></th><th scope=col>k_3</th><th scope=col>k_4</th><th scope=col>k_5</th><th scope=col>k_6</th></tr></thead>\n",
       "<tbody>\n",
       "\t<tr><th scope=row>ANOnto</th><td>0.7152389</td><td>0.6387411</td><td>0.6808635</td><td>0.6765904</td></tr>\n",
       "\t<tr><th scope=row>AROnto</th><td>0.8966460</td><td>0.8767875</td><td>0.8710151</td><td>0.8708180</td></tr>\n",
       "\t<tr><th scope=row>CBOOnto</th><td>0.7988265</td><td>0.6202850</td><td>0.6473309</td><td>0.6854217</td></tr>\n",
       "\t<tr><th scope=row>CBOOnto2</th><td>0.7988265</td><td>0.6202850</td><td>0.6473309</td><td>0.6854217</td></tr>\n",
       "\t<tr><th scope=row>CROnto</th><td>0.9680079</td><td>0.9529486</td><td>0.9482417</td><td>0.8346625</td></tr>\n",
       "\t<tr><th scope=row>DITOnto</th><td>0.6993418</td><td>0.6905454</td><td>0.6873396</td><td>0.6297655</td></tr>\n",
       "\t<tr><th scope=row>INROnto</th><td>0.8115823</td><td>0.7898743</td><td>0.6626684</td><td>0.6826380</td></tr>\n",
       "\t<tr><th scope=row>LCOMOnto</th><td>0.6586388</td><td>0.6236585</td><td>0.5938650</td><td>0.5267501</td></tr>\n",
       "\t<tr><th scope=row>NACOnto</th><td>0.7939808</td><td>0.7795742</td><td>0.7838550</td><td>0.7953857</td></tr>\n",
       "\t<tr><th scope=row>NOCOnto</th><td>0.6785191</td><td>0.6616432</td><td>0.6106745</td><td>0.5431912</td></tr>\n",
       "\t<tr><th scope=row>NOMOnto</th><td>0.8911743</td><td>0.8431933</td><td>0.7662422</td><td>0.5633719</td></tr>\n",
       "\t<tr><th scope=row>POnto</th><td>0.7234619</td><td>0.7480782</td><td>0.7179820</td><td>0.6357562</td></tr>\n",
       "\t<tr><th scope=row>PROnto</th><td>0.6619591</td><td>0.6848638</td><td>0.6777675</td><td>0.6438626</td></tr>\n",
       "\t<tr><th scope=row>RFCOnto</th><td>0.8887569</td><td>0.8350144</td><td>0.7559018</td><td>0.6145020</td></tr>\n",
       "\t<tr><th scope=row>RROnto</th><td>0.6619591</td><td>0.6848638</td><td>0.6777675</td><td>0.6438626</td></tr>\n",
       "\t<tr><th scope=row>TMOnto</th><td>0.7812205</td><td>0.7450750</td><td>0.7923881</td><td>0.8101193</td></tr>\n",
       "\t<tr><th scope=row>TMOnto2</th><td>0.9052492</td><td>0.8903122</td><td>0.8972925</td><td>0.8714089</td></tr>\n",
       "\t<tr><th scope=row>WMCOnto</th><td>0.8277199</td><td>0.6724180</td><td>0.5721746</td><td>0.5946256</td></tr>\n",
       "\t<tr><th scope=row>WMCOnto2</th><td>0.7501779</td><td>0.8616690</td><td>0.7827319</td><td>0.7574440</td></tr>\n",
       "</tbody>\n",
       "</table>\n"
      ],
      "text/latex": [
       "\\begin{tabular}{r|llll}\n",
       "  & k\\_3 & k\\_4 & k\\_5 & k\\_6\\\\\n",
       "\\hline\n",
       "\tANOnto & 0.7152389 & 0.6387411 & 0.6808635 & 0.6765904\\\\\n",
       "\tAROnto & 0.8966460 & 0.8767875 & 0.8710151 & 0.8708180\\\\\n",
       "\tCBOOnto & 0.7988265 & 0.6202850 & 0.6473309 & 0.6854217\\\\\n",
       "\tCBOOnto2 & 0.7988265 & 0.6202850 & 0.6473309 & 0.6854217\\\\\n",
       "\tCROnto & 0.9680079 & 0.9529486 & 0.9482417 & 0.8346625\\\\\n",
       "\tDITOnto & 0.6993418 & 0.6905454 & 0.6873396 & 0.6297655\\\\\n",
       "\tINROnto & 0.8115823 & 0.7898743 & 0.6626684 & 0.6826380\\\\\n",
       "\tLCOMOnto & 0.6586388 & 0.6236585 & 0.5938650 & 0.5267501\\\\\n",
       "\tNACOnto & 0.7939808 & 0.7795742 & 0.7838550 & 0.7953857\\\\\n",
       "\tNOCOnto & 0.6785191 & 0.6616432 & 0.6106745 & 0.5431912\\\\\n",
       "\tNOMOnto & 0.8911743 & 0.8431933 & 0.7662422 & 0.5633719\\\\\n",
       "\tPOnto & 0.7234619 & 0.7480782 & 0.7179820 & 0.6357562\\\\\n",
       "\tPROnto & 0.6619591 & 0.6848638 & 0.6777675 & 0.6438626\\\\\n",
       "\tRFCOnto & 0.8887569 & 0.8350144 & 0.7559018 & 0.6145020\\\\\n",
       "\tRROnto & 0.6619591 & 0.6848638 & 0.6777675 & 0.6438626\\\\\n",
       "\tTMOnto & 0.7812205 & 0.7450750 & 0.7923881 & 0.8101193\\\\\n",
       "\tTMOnto2 & 0.9052492 & 0.8903122 & 0.8972925 & 0.8714089\\\\\n",
       "\tWMCOnto & 0.8277199 & 0.6724180 & 0.5721746 & 0.5946256\\\\\n",
       "\tWMCOnto2 & 0.7501779 & 0.8616690 & 0.7827319 & 0.7574440\\\\\n",
       "\\end{tabular}\n"
      ],
      "text/markdown": [
       "\n",
       "| <!--/--> | k_3 | k_4 | k_5 | k_6 |\n",
       "|---|---|---|---|---|\n",
       "| ANOnto | 0.7152389 | 0.6387411 | 0.6808635 | 0.6765904 |\n",
       "| AROnto | 0.8966460 | 0.8767875 | 0.8710151 | 0.8708180 |\n",
       "| CBOOnto | 0.7988265 | 0.6202850 | 0.6473309 | 0.6854217 |\n",
       "| CBOOnto2 | 0.7988265 | 0.6202850 | 0.6473309 | 0.6854217 |\n",
       "| CROnto | 0.9680079 | 0.9529486 | 0.9482417 | 0.8346625 |\n",
       "| DITOnto | 0.6993418 | 0.6905454 | 0.6873396 | 0.6297655 |\n",
       "| INROnto | 0.8115823 | 0.7898743 | 0.6626684 | 0.6826380 |\n",
       "| LCOMOnto | 0.6586388 | 0.6236585 | 0.5938650 | 0.5267501 |\n",
       "| NACOnto | 0.7939808 | 0.7795742 | 0.7838550 | 0.7953857 |\n",
       "| NOCOnto | 0.6785191 | 0.6616432 | 0.6106745 | 0.5431912 |\n",
       "| NOMOnto | 0.8911743 | 0.8431933 | 0.7662422 | 0.5633719 |\n",
       "| POnto | 0.7234619 | 0.7480782 | 0.7179820 | 0.6357562 |\n",
       "| PROnto | 0.6619591 | 0.6848638 | 0.6777675 | 0.6438626 |\n",
       "| RFCOnto | 0.8887569 | 0.8350144 | 0.7559018 | 0.6145020 |\n",
       "| RROnto | 0.6619591 | 0.6848638 | 0.6777675 | 0.6438626 |\n",
       "| TMOnto | 0.7812205 | 0.7450750 | 0.7923881 | 0.8101193 |\n",
       "| TMOnto2 | 0.9052492 | 0.8903122 | 0.8972925 | 0.8714089 |\n",
       "| WMCOnto | 0.8277199 | 0.6724180 | 0.5721746 | 0.5946256 |\n",
       "| WMCOnto2 | 0.7501779 | 0.8616690 | 0.7827319 | 0.7574440 |\n",
       "\n"
      ],
      "text/plain": [
       "         k_3       k_4       k_5       k_6      \n",
       "ANOnto   0.7152389 0.6387411 0.6808635 0.6765904\n",
       "AROnto   0.8966460 0.8767875 0.8710151 0.8708180\n",
       "CBOOnto  0.7988265 0.6202850 0.6473309 0.6854217\n",
       "CBOOnto2 0.7988265 0.6202850 0.6473309 0.6854217\n",
       "CROnto   0.9680079 0.9529486 0.9482417 0.8346625\n",
       "DITOnto  0.6993418 0.6905454 0.6873396 0.6297655\n",
       "INROnto  0.8115823 0.7898743 0.6626684 0.6826380\n",
       "LCOMOnto 0.6586388 0.6236585 0.5938650 0.5267501\n",
       "NACOnto  0.7939808 0.7795742 0.7838550 0.7953857\n",
       "NOCOnto  0.6785191 0.6616432 0.6106745 0.5431912\n",
       "NOMOnto  0.8911743 0.8431933 0.7662422 0.5633719\n",
       "POnto    0.7234619 0.7480782 0.7179820 0.6357562\n",
       "PROnto   0.6619591 0.6848638 0.6777675 0.6438626\n",
       "RFCOnto  0.8887569 0.8350144 0.7559018 0.6145020\n",
       "RROnto   0.6619591 0.6848638 0.6777675 0.6438626\n",
       "TMOnto   0.7812205 0.7450750 0.7923881 0.8101193\n",
       "TMOnto2  0.9052492 0.8903122 0.8972925 0.8714089\n",
       "WMCOnto  0.8277199 0.6724180 0.5721746 0.5946256\n",
       "WMCOnto2 0.7501779 0.8616690 0.7827319 0.7574440"
      ]
     },
     "metadata": {},
     "output_type": "display_data"
    }
   ],
   "source": [
    "qual"
   ]
  },
  {
   "cell_type": "markdown",
   "id": "bcb9cb47",
   "metadata": {},
   "source": [
    "### Optimal K value <a class=\"anchor\" id=\"single_optimal\"></a>\n",
    "In this Section we show how to compute the optimal $k$ value of a dataset **per metric**."
   ]
  },
  {
   "cell_type": "code",
   "execution_count": 20,
   "id": "e6c066b5",
   "metadata": {},
   "outputs": [
    {
     "name": "stderr",
     "output_type": "stream",
     "text": [
      "Processing metric: all_metrics\n",
      "\n",
      "\tMaximum stability and quality values matches the same K value: '3'\n",
      "\n"
     ]
    }
   ],
   "source": [
    "k_opt = getOptimalKValue(stab_range, qual_range, k.range= k.range)\n",
    "optimal_k = as.numeric(k_opt$Global_optimal_k)"
   ]
  },
  {
   "cell_type": "markdown",
   "id": "b51c7e09",
   "metadata": {},
   "source": [
    "In the following table, we show the $k$ where the metric was most stable in `Stability_max_k` column, in what $k$ we had the highest goodness (quality) in `Quality_max_k` and what is the decision of `evaluomeR` to compute the overall $k$ value of the metric in `Global_optimal_k`."
   ]
  },
  {
   "cell_type": "code",
   "execution_count": 6,
   "id": "fc4d330f",
   "metadata": {},
   "outputs": [
    {
     "data": {
      "text/html": [
       "<table>\n",
       "<thead><tr><th scope=col>Metric</th><th scope=col>Stability_max_k</th><th scope=col>Stability_max_k_stab</th><th scope=col>Stability_max_k_qual</th><th scope=col>Quality_max_k</th><th scope=col>Quality_max_k_stab</th><th scope=col>Quality_max_k_qual</th><th scope=col>Global_optimal_k</th></tr></thead>\n",
       "<tbody>\n",
       "\t<tr><td>ANOnto   </td><td>3        </td><td>0.8708931</td><td>0.7152389</td><td>3        </td><td>0.8708931</td><td>0.7152389</td><td>3        </td></tr>\n",
       "\t<tr><td>AROnto   </td><td>3        </td><td>0.9538625</td><td>0.8966460</td><td>3        </td><td>0.9538625</td><td>0.8966460</td><td>3        </td></tr>\n",
       "\t<tr><td>CBOOnto  </td><td>3        </td><td>0.8458175</td><td>0.7988265</td><td>3        </td><td>0.8458175</td><td>0.7988265</td><td>3        </td></tr>\n",
       "\t<tr><td>CBOOnto2 </td><td>3        </td><td>0.8458175</td><td>0.7988265</td><td>3        </td><td>0.8458175</td><td>0.7988265</td><td>3        </td></tr>\n",
       "\t<tr><td>CROnto   </td><td>8        </td><td>0.7162224</td><td>0.8539272</td><td>3        </td><td>0.6771065</td><td>0.9680079</td><td>3        </td></tr>\n",
       "\t<tr><td>DITOnto  </td><td>3        </td><td>0.9577282</td><td>0.6993418</td><td>3        </td><td>0.9577282</td><td>0.6993418</td><td>3        </td></tr>\n",
       "\t<tr><td>INROnto  </td><td>3        </td><td>0.8881516</td><td>0.8115823</td><td>3        </td><td>0.8881516</td><td>0.8115823</td><td>3        </td></tr>\n",
       "\t<tr><td>LCOMOnto </td><td>5        </td><td>0.8119282</td><td>0.5938650</td><td>3        </td><td>0.7587954</td><td>0.6586388</td><td>3        </td></tr>\n",
       "\t<tr><td>NACOnto  </td><td>3        </td><td>0.8386325</td><td>0.7939808</td><td>10       </td><td>0.7901522</td><td>0.8304728</td><td>10       </td></tr>\n",
       "\t<tr><td>NOCOnto  </td><td>4        </td><td>0.9233513</td><td>0.6616432</td><td>3        </td><td>0.8909113</td><td>0.6785191</td><td>3        </td></tr>\n",
       "\t<tr><td>NOMOnto  </td><td>3        </td><td>0.8266276</td><td>0.8911743</td><td>3        </td><td>0.8266276</td><td>0.8911743</td><td>3        </td></tr>\n",
       "\t<tr><td>POnto    </td><td>5        </td><td>0.8108449</td><td>0.7179820</td><td>4        </td><td>0.7744126</td><td>0.7480782</td><td>4        </td></tr>\n",
       "\t<tr><td>PROnto   </td><td>3        </td><td>0.9397563</td><td>0.6619591</td><td>4        </td><td>0.9277347</td><td>0.6848638</td><td>4        </td></tr>\n",
       "\t<tr><td>RFCOnto  </td><td>3        </td><td>0.8392505</td><td>0.8887569</td><td>3        </td><td>0.8392505</td><td>0.8887569</td><td>3        </td></tr>\n",
       "\t<tr><td>RROnto   </td><td>3        </td><td>0.9397563</td><td>0.6619591</td><td>4        </td><td>0.9277347</td><td>0.6848638</td><td>4        </td></tr>\n",
       "\t<tr><td>TMOnto   </td><td>6        </td><td>0.8096754</td><td>0.8101193</td><td>8        </td><td>0.7631246</td><td>0.8423246</td><td>8        </td></tr>\n",
       "\t<tr><td>TMOnto2  </td><td>4        </td><td>0.9715023</td><td>0.8903122</td><td>3        </td><td>0.9392694</td><td>0.9052492</td><td>3        </td></tr>\n",
       "\t<tr><td>WMCOnto  </td><td>3        </td><td>0.9160737</td><td>0.8277199</td><td>3        </td><td>0.9160737</td><td>0.8277199</td><td>3        </td></tr>\n",
       "\t<tr><td>WMCOnto2 </td><td>6        </td><td>0.8215117</td><td>0.7574440</td><td>4        </td><td>0.7318015</td><td>0.8616690</td><td>6        </td></tr>\n",
       "</tbody>\n",
       "</table>\n"
      ],
      "text/latex": [
       "\\begin{tabular}{r|llllllll}\n",
       " Metric & Stability\\_max\\_k & Stability\\_max\\_k\\_stab & Stability\\_max\\_k\\_qual & Quality\\_max\\_k & Quality\\_max\\_k\\_stab & Quality\\_max\\_k\\_qual & Global\\_optimal\\_k\\\\\n",
       "\\hline\n",
       "\t ANOnto    & 3         & 0.8708931 & 0.7152389 & 3         & 0.8708931 & 0.7152389 & 3        \\\\\n",
       "\t AROnto    & 3         & 0.9538625 & 0.8966460 & 3         & 0.9538625 & 0.8966460 & 3        \\\\\n",
       "\t CBOOnto   & 3         & 0.8458175 & 0.7988265 & 3         & 0.8458175 & 0.7988265 & 3        \\\\\n",
       "\t CBOOnto2  & 3         & 0.8458175 & 0.7988265 & 3         & 0.8458175 & 0.7988265 & 3        \\\\\n",
       "\t CROnto    & 8         & 0.7162224 & 0.8539272 & 3         & 0.6771065 & 0.9680079 & 3        \\\\\n",
       "\t DITOnto   & 3         & 0.9577282 & 0.6993418 & 3         & 0.9577282 & 0.6993418 & 3        \\\\\n",
       "\t INROnto   & 3         & 0.8881516 & 0.8115823 & 3         & 0.8881516 & 0.8115823 & 3        \\\\\n",
       "\t LCOMOnto  & 5         & 0.8119282 & 0.5938650 & 3         & 0.7587954 & 0.6586388 & 3        \\\\\n",
       "\t NACOnto   & 3         & 0.8386325 & 0.7939808 & 10        & 0.7901522 & 0.8304728 & 10       \\\\\n",
       "\t NOCOnto   & 4         & 0.9233513 & 0.6616432 & 3         & 0.8909113 & 0.6785191 & 3        \\\\\n",
       "\t NOMOnto   & 3         & 0.8266276 & 0.8911743 & 3         & 0.8266276 & 0.8911743 & 3        \\\\\n",
       "\t POnto     & 5         & 0.8108449 & 0.7179820 & 4         & 0.7744126 & 0.7480782 & 4        \\\\\n",
       "\t PROnto    & 3         & 0.9397563 & 0.6619591 & 4         & 0.9277347 & 0.6848638 & 4        \\\\\n",
       "\t RFCOnto   & 3         & 0.8392505 & 0.8887569 & 3         & 0.8392505 & 0.8887569 & 3        \\\\\n",
       "\t RROnto    & 3         & 0.9397563 & 0.6619591 & 4         & 0.9277347 & 0.6848638 & 4        \\\\\n",
       "\t TMOnto    & 6         & 0.8096754 & 0.8101193 & 8         & 0.7631246 & 0.8423246 & 8        \\\\\n",
       "\t TMOnto2   & 4         & 0.9715023 & 0.8903122 & 3         & 0.9392694 & 0.9052492 & 3        \\\\\n",
       "\t WMCOnto   & 3         & 0.9160737 & 0.8277199 & 3         & 0.9160737 & 0.8277199 & 3        \\\\\n",
       "\t WMCOnto2  & 6         & 0.8215117 & 0.7574440 & 4         & 0.7318015 & 0.8616690 & 6        \\\\\n",
       "\\end{tabular}\n"
      ],
      "text/markdown": [
       "\n",
       "| Metric | Stability_max_k | Stability_max_k_stab | Stability_max_k_qual | Quality_max_k | Quality_max_k_stab | Quality_max_k_qual | Global_optimal_k |\n",
       "|---|---|---|---|---|---|---|---|\n",
       "| ANOnto    | 3         | 0.8708931 | 0.7152389 | 3         | 0.8708931 | 0.7152389 | 3         |\n",
       "| AROnto    | 3         | 0.9538625 | 0.8966460 | 3         | 0.9538625 | 0.8966460 | 3         |\n",
       "| CBOOnto   | 3         | 0.8458175 | 0.7988265 | 3         | 0.8458175 | 0.7988265 | 3         |\n",
       "| CBOOnto2  | 3         | 0.8458175 | 0.7988265 | 3         | 0.8458175 | 0.7988265 | 3         |\n",
       "| CROnto    | 8         | 0.7162224 | 0.8539272 | 3         | 0.6771065 | 0.9680079 | 3         |\n",
       "| DITOnto   | 3         | 0.9577282 | 0.6993418 | 3         | 0.9577282 | 0.6993418 | 3         |\n",
       "| INROnto   | 3         | 0.8881516 | 0.8115823 | 3         | 0.8881516 | 0.8115823 | 3         |\n",
       "| LCOMOnto  | 5         | 0.8119282 | 0.5938650 | 3         | 0.7587954 | 0.6586388 | 3         |\n",
       "| NACOnto   | 3         | 0.8386325 | 0.7939808 | 10        | 0.7901522 | 0.8304728 | 10        |\n",
       "| NOCOnto   | 4         | 0.9233513 | 0.6616432 | 3         | 0.8909113 | 0.6785191 | 3         |\n",
       "| NOMOnto   | 3         | 0.8266276 | 0.8911743 | 3         | 0.8266276 | 0.8911743 | 3         |\n",
       "| POnto     | 5         | 0.8108449 | 0.7179820 | 4         | 0.7744126 | 0.7480782 | 4         |\n",
       "| PROnto    | 3         | 0.9397563 | 0.6619591 | 4         | 0.9277347 | 0.6848638 | 4         |\n",
       "| RFCOnto   | 3         | 0.8392505 | 0.8887569 | 3         | 0.8392505 | 0.8887569 | 3         |\n",
       "| RROnto    | 3         | 0.9397563 | 0.6619591 | 4         | 0.9277347 | 0.6848638 | 4         |\n",
       "| TMOnto    | 6         | 0.8096754 | 0.8101193 | 8         | 0.7631246 | 0.8423246 | 8         |\n",
       "| TMOnto2   | 4         | 0.9715023 | 0.8903122 | 3         | 0.9392694 | 0.9052492 | 3         |\n",
       "| WMCOnto   | 3         | 0.9160737 | 0.8277199 | 3         | 0.9160737 | 0.8277199 | 3         |\n",
       "| WMCOnto2  | 6         | 0.8215117 | 0.7574440 | 4         | 0.7318015 | 0.8616690 | 6         |\n",
       "\n"
      ],
      "text/plain": [
       "   Metric   Stability_max_k Stability_max_k_stab Stability_max_k_qual\n",
       "1  ANOnto   3               0.8708931            0.7152389           \n",
       "2  AROnto   3               0.9538625            0.8966460           \n",
       "3  CBOOnto  3               0.8458175            0.7988265           \n",
       "4  CBOOnto2 3               0.8458175            0.7988265           \n",
       "5  CROnto   8               0.7162224            0.8539272           \n",
       "6  DITOnto  3               0.9577282            0.6993418           \n",
       "7  INROnto  3               0.8881516            0.8115823           \n",
       "8  LCOMOnto 5               0.8119282            0.5938650           \n",
       "9  NACOnto  3               0.8386325            0.7939808           \n",
       "10 NOCOnto  4               0.9233513            0.6616432           \n",
       "11 NOMOnto  3               0.8266276            0.8911743           \n",
       "12 POnto    5               0.8108449            0.7179820           \n",
       "13 PROnto   3               0.9397563            0.6619591           \n",
       "14 RFCOnto  3               0.8392505            0.8887569           \n",
       "15 RROnto   3               0.9397563            0.6619591           \n",
       "16 TMOnto   6               0.8096754            0.8101193           \n",
       "17 TMOnto2  4               0.9715023            0.8903122           \n",
       "18 WMCOnto  3               0.9160737            0.8277199           \n",
       "19 WMCOnto2 6               0.8215117            0.7574440           \n",
       "   Quality_max_k Quality_max_k_stab Quality_max_k_qual Global_optimal_k\n",
       "1  3             0.8708931          0.7152389          3               \n",
       "2  3             0.9538625          0.8966460          3               \n",
       "3  3             0.8458175          0.7988265          3               \n",
       "4  3             0.8458175          0.7988265          3               \n",
       "5  3             0.6771065          0.9680079          3               \n",
       "6  3             0.9577282          0.6993418          3               \n",
       "7  3             0.8881516          0.8115823          3               \n",
       "8  3             0.7587954          0.6586388          3               \n",
       "9  10            0.7901522          0.8304728          10              \n",
       "10 3             0.8909113          0.6785191          3               \n",
       "11 3             0.8266276          0.8911743          3               \n",
       "12 4             0.7744126          0.7480782          4               \n",
       "13 4             0.9277347          0.6848638          4               \n",
       "14 3             0.8392505          0.8887569          3               \n",
       "15 4             0.9277347          0.6848638          4               \n",
       "16 8             0.7631246          0.8423246          8               \n",
       "17 3             0.9392694          0.9052492          3               \n",
       "18 3             0.9160737          0.8277199          3               \n",
       "19 4             0.7318015          0.8616690          6               "
      ]
     },
     "metadata": {},
     "output_type": "display_data"
    }
   ],
   "source": [
    "k_opt"
   ]
  },
  {
   "cell_type": "markdown",
   "id": "e03283b9",
   "metadata": {},
   "source": [
    "# Analysis for all the metrics <a class=\"anchor\" id=\"all\"></a>\n",
    "This outlines the process of determining an optimal $k$ value for the entire dataset. In this scenario, we calculate the optimal $k$ across the dataset as a whole. Once again we consider a $k$ range such as $k \\in [3, 6]$, excluding $k = 2$ to avoid binary classifications. The CBI *kmeans* method is utilized as the default clustering algorithm."
   ]
  },
  {
   "cell_type": "markdown",
   "id": "12994c0d",
   "metadata": {},
   "source": [
    "### Stability <a class=\"anchor\" id=\"all_stab\"></a>\n",
    "Here we set the parameter `all_metrics=TRUE` in order to consider the stability of all the metrics as a whole."
   ]
  },
  {
   "cell_type": "code",
   "execution_count": 17,
   "id": "4a5b012c",
   "metadata": {},
   "outputs": [
    {
     "name": "stderr",
     "output_type": "stream",
     "text": [
      "\n",
      "Data loaded.\n",
      "Number of rows: 78\n",
      "Number of columns: 20\n",
      "\n",
      "\n",
      "Processing all metrics, 'merge', in dataframe (19)\n",
      "\tCalculation of k = 3\n",
      "\tCalculation of k = 4\n",
      "\tCalculation of k = 5\n",
      "\tCalculation of k = 6\n"
     ]
    },
    {
     "data": {
      "text/html": [
       "<table>\n",
       "<thead><tr><th></th><th scope=col>k_3</th><th scope=col>k_4</th><th scope=col>k_5</th><th scope=col>k_6</th></tr></thead>\n",
       "<tbody>\n",
       "\t<tr><th scope=row>all_metrics</th><td>0.6858984</td><td>0.6734864</td><td>0.6597495</td><td>0.6645691</td></tr>\n",
       "</tbody>\n",
       "</table>\n"
      ],
      "text/latex": [
       "\\begin{tabular}{r|llll}\n",
       "  & k\\_3 & k\\_4 & k\\_5 & k\\_6\\\\\n",
       "\\hline\n",
       "\tall\\_metrics & 0.6858984 & 0.6734864 & 0.6597495 & 0.6645691\\\\\n",
       "\\end{tabular}\n"
      ],
      "text/markdown": [
       "\n",
       "| <!--/--> | k_3 | k_4 | k_5 | k_6 |\n",
       "|---|---|---|---|---|\n",
       "| all_metrics | 0.6858984 | 0.6734864 | 0.6597495 | 0.6645691 |\n",
       "\n"
      ],
      "text/plain": [
       "            k_3       k_4       k_5       k_6      \n",
       "all_metrics 0.6858984 0.6734864 0.6597495 0.6645691"
      ]
     },
     "metadata": {},
     "output_type": "display_data"
    }
   ],
   "source": [
    "stab_range = stabilityRange(data=agro_df, k.range=k.range,\n",
    "                            all_metrics=TRUE,\n",
    "                            bs=100,\n",
    "                            cbi=cbi)\n",
    "stab = standardizeStabilityData(stab_range)\n",
    "stab"
   ]
  },
  {
   "cell_type": "markdown",
   "id": "4e53ec78",
   "metadata": {},
   "source": [
    "In the table above, not all individual metrics are displayed; instead, a combined variable named `all_metrics` wchih represents the overall stability of metrics across the dataset."
   ]
  },
  {
   "cell_type": "markdown",
   "id": "49296c2b",
   "metadata": {},
   "source": [
    "### Quality <a class=\"anchor\" id=\"all_qual\"></a>\n",
    "Similarly as in the * [Stability](#all_stab) Section, setting up the parameter `all_metrics=TRUE` is needed to consider all the metrics."
   ]
  },
  {
   "cell_type": "code",
   "execution_count": 18,
   "id": "b5313fec",
   "metadata": {},
   "outputs": [
    {
     "name": "stderr",
     "output_type": "stream",
     "text": [
      "\n",
      "Data loaded.\n",
      "Number of rows: 78\n",
      "Number of columns: 20\n",
      "\n",
      "\n",
      "Processing all metrics, 'merge', in dataframe (19)\n",
      "\tCalculation of k = 3\n",
      "\tCalculation of k = 4\n",
      "\tCalculation of k = 5\n",
      "\tCalculation of k = 6\n"
     ]
    },
    {
     "data": {
      "text/html": [
       "<table>\n",
       "<thead><tr><th></th><th scope=col>k_3</th><th scope=col>k_4</th><th scope=col>k_5</th><th scope=col>k_6</th></tr></thead>\n",
       "<tbody>\n",
       "\t<tr><th scope=row>all_metrics</th><td>0.9652177</td><td>0.9491769</td><td>0.9192709</td><td>0.8646877</td></tr>\n",
       "</tbody>\n",
       "</table>\n"
      ],
      "text/latex": [
       "\\begin{tabular}{r|llll}\n",
       "  & k\\_3 & k\\_4 & k\\_5 & k\\_6\\\\\n",
       "\\hline\n",
       "\tall\\_metrics & 0.9652177 & 0.9491769 & 0.9192709 & 0.8646877\\\\\n",
       "\\end{tabular}\n"
      ],
      "text/markdown": [
       "\n",
       "| <!--/--> | k_3 | k_4 | k_5 | k_6 |\n",
       "|---|---|---|---|---|\n",
       "| all_metrics | 0.9652177 | 0.9491769 | 0.9192709 | 0.8646877 |\n",
       "\n"
      ],
      "text/plain": [
       "            k_3       k_4       k_5       k_6      \n",
       "all_metrics 0.9652177 0.9491769 0.9192709 0.8646877"
      ]
     },
     "metadata": {},
     "output_type": "display_data"
    }
   ],
   "source": [
    "qual_range = qualityRange(data=agro_df, k.range=k.range,\n",
    "                          all_metrics=TRUE,\n",
    "                          cbi=cbi)\n",
    "qual = standardizeQualityData(qual_range)\n",
    "qual"
   ]
  },
  {
   "cell_type": "markdown",
   "id": "cce879b4",
   "metadata": {},
   "source": [
    "### Optimal K value <a class=\"anchor\" id=\"all_optimal\"></a>\n",
    "In this Section we show how to compute the optimal $k$ value considering all the metrics from **the whole dataset**."
   ]
  },
  {
   "cell_type": "code",
   "execution_count": 22,
   "id": "d74ff471",
   "metadata": {},
   "outputs": [
    {
     "name": "stderr",
     "output_type": "stream",
     "text": [
      "Processing metric: all_metrics\n",
      "\n",
      "\tMaximum stability and quality values matches the same K value: '3'\n",
      "\n"
     ]
    },
    {
     "data": {
      "text/html": [
       "<table>\n",
       "<thead><tr><th scope=col>Metric</th><th scope=col>Stability_max_k</th><th scope=col>Stability_max_k_stab</th><th scope=col>Stability_max_k_qual</th><th scope=col>Quality_max_k</th><th scope=col>Quality_max_k_stab</th><th scope=col>Quality_max_k_qual</th><th scope=col>Global_optimal_k</th></tr></thead>\n",
       "<tbody>\n",
       "\t<tr><td>all_metrics</td><td>3          </td><td>0.6858984  </td><td>0.9652177  </td><td>3          </td><td>0.6858984  </td><td>0.9652177  </td><td>3          </td></tr>\n",
       "</tbody>\n",
       "</table>\n"
      ],
      "text/latex": [
       "\\begin{tabular}{r|llllllll}\n",
       " Metric & Stability\\_max\\_k & Stability\\_max\\_k\\_stab & Stability\\_max\\_k\\_qual & Quality\\_max\\_k & Quality\\_max\\_k\\_stab & Quality\\_max\\_k\\_qual & Global\\_optimal\\_k\\\\\n",
       "\\hline\n",
       "\t all\\_metrics & 3             & 0.6858984     & 0.9652177     & 3             & 0.6858984     & 0.9652177     & 3            \\\\\n",
       "\\end{tabular}\n"
      ],
      "text/markdown": [
       "\n",
       "| Metric | Stability_max_k | Stability_max_k_stab | Stability_max_k_qual | Quality_max_k | Quality_max_k_stab | Quality_max_k_qual | Global_optimal_k |\n",
       "|---|---|---|---|---|---|---|---|\n",
       "| all_metrics | 3           | 0.6858984   | 0.9652177   | 3           | 0.6858984   | 0.9652177   | 3           |\n",
       "\n"
      ],
      "text/plain": [
       "  Metric      Stability_max_k Stability_max_k_stab Stability_max_k_qual\n",
       "1 all_metrics 3               0.6858984            0.9652177           \n",
       "  Quality_max_k Quality_max_k_stab Quality_max_k_qual Global_optimal_k\n",
       "1 3             0.6858984          0.9652177          3               "
      ]
     },
     "metadata": {},
     "output_type": "display_data"
    }
   ],
   "source": [
    "k_opt = getOptimalKValue(stab_range, qual_range, k.range= k.range)\n",
    "optimal_k = as.numeric(k_opt$Global_optimal_k)\n",
    "k_opt"
   ]
  },
  {
   "cell_type": "markdown",
   "id": "04c629f8",
   "metadata": {},
   "source": [
    "In the previous table, according to the column `Global_optimal_k`, `evaluomeR` considered that the optimal $k$ value for the given dataset is $k=3$."
   ]
  }
 ],
 "metadata": {
  "kernelspec": {
   "display_name": "R",
   "language": "R",
   "name": "ir"
  },
  "language_info": {
   "codemirror_mode": "r",
   "file_extension": ".r",
   "mimetype": "text/x-r-source",
   "name": "R",
   "pygments_lexer": "r",
   "version": "3.6.1"
  }
 },
 "nbformat": 4,
 "nbformat_minor": 5
}
