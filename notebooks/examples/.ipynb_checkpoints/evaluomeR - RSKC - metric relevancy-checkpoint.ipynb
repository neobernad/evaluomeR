{
 "cells": [
  {
   "cell_type": "markdown",
   "id": "285a2f02",
   "metadata": {},
   "source": [
    "# evaluomeR - RSKC - metric relevancy"
   ]
  },
  {
   "cell_type": "code",
   "execution_count": 38,
   "id": "9ba99e51",
   "metadata": {
    "scrolled": true
   },
   "outputs": [],
   "source": [
    "library(\"evaluomeR\")\n",
    "library(\"sparcl\")\n",
    "#library(\"psych\")\n",
    "#library(\"scales\")\n",
    "#library(\"caret\")\n",
    "\n",
    "options(scipen=10)"
   ]
  },
  {
   "cell_type": "markdown",
   "id": "28d20d7c",
   "metadata": {},
   "source": [
    "# Table of contents\n",
    "* [Dataset](#dataset)\n",
    "* [evaluomeR CBIs](#cbis)\n",
    "* [Metrics relevancy](#metrics_relevancy)\n",
    "    * [Optimal K value](#optimal_k)\n",
    "    * [Figuring out the L<sub>1</sub> upper boundry](#l1_boundry)\n",
    "     * [Trimmed cases](#rskc_trimmed)\n",
    "     * [Relevancy table](#rskc_relevancy_table)\n",
    "* [References](#references)"
   ]
  },
  {
   "cell_type": "markdown",
   "id": "0645c2e1",
   "metadata": {},
   "source": [
    "# Dataset <a class=\"anchor\" id=\"dataset\"></a>"
   ]
  },
  {
   "cell_type": "code",
   "execution_count": 23,
   "id": "7de4bfd0",
   "metadata": {},
   "outputs": [
    {
     "data": {
      "text/html": [
       "<table>\n",
       "<thead><tr><th scope=col>Description</th><th scope=col>ANOnto</th><th scope=col>AROnto</th><th scope=col>CBOOnto</th><th scope=col>CBOOnto2</th><th scope=col>CROnto</th><th scope=col>DITOnto</th><th scope=col>INROnto</th><th scope=col>LCOMOnto</th><th scope=col>NACOnto</th><th scope=col>NOCOnto</th><th scope=col>NOMOnto</th><th scope=col>POnto</th><th scope=col>PROnto</th><th scope=col>RFCOnto</th><th scope=col>RROnto</th><th scope=col>TMOnto</th><th scope=col>TMOnto2</th><th scope=col>WMCOnto</th><th scope=col>WMCOnto2</th></tr></thead>\n",
       "<tbody>\n",
       "\t<tr><td>ADO         </td><td>0.0000000   </td><td>3.9503849   </td><td>0.9991446   </td><td>0.9991446   </td><td>   0.9957228</td><td> 3          </td><td>0.9991446   </td><td>1.999142    </td><td>1.000000    </td><td>292.000000  </td><td>   2.9632164</td><td>0.9957228   </td><td>0.7478411   </td><td>   3.9623610</td><td>0.252158895 </td><td>0.00000000  </td><td>0.000000    </td><td>1.999142    </td><td>1.000000    </td></tr>\n",
       "\t<tr><td>AEO         </td><td>0.9298246   </td><td>0.5438596   </td><td>0.9824561   </td><td>0.9824561   </td><td>   0.0000000</td><td> 5          </td><td>0.9824561   </td><td>2.357143    </td><td>1.000000    </td><td>  3.733333  </td><td>   0.9824561</td><td>0.5789474   </td><td>0.5000000   </td><td>   1.9649123</td><td>0.500000000 </td><td>0.00000000  </td><td>0.000000    </td><td>2.357143    </td><td>1.000000    </td></tr>\n",
       "\t<tr><td>AFO         </td><td>0.7500000   </td><td>0.0000000   </td><td>0.8750000   </td><td>0.8750000   </td><td>3998.8750000</td><td> 3          </td><td>0.8750000   </td><td>1.333333    </td><td>1.000000    </td><td>  3.500000  </td><td>2275.7500000</td><td>0.2500000   </td><td>0.9996157   </td><td>2276.6250000</td><td>0.000384341 </td><td>0.00000000  </td><td>0.000000    </td><td>1.333333    </td><td>1.000000    </td></tr>\n",
       "\t<tr><td>AGRO        </td><td>0.9907407   </td><td>3.1018519   </td><td>1.0694444   </td><td>1.0694444   </td><td>   0.3634259</td><td>16          </td><td>1.0694444   </td><td>7.695971    </td><td>1.052174    </td><td>  2.287129  </td><td>   1.2037037</td><td>1.0555556   </td><td>0.5295316   </td><td>   2.2731481</td><td>0.470468432 </td><td>0.06264501  </td><td>2.148148    </td><td>9.134783    </td><td>1.186957    </td></tr>\n",
       "\t<tr><td>AGRORDF     </td><td>1.2362637   </td><td>0.0000000   </td><td>1.0659341   </td><td>1.0659341   </td><td>   0.0000000</td><td> 6          </td><td>1.0329670   </td><td>2.467532    </td><td>1.077465    </td><td>  4.700000  </td><td>   0.5879121</td><td>0.8571429   </td><td>0.3627119   </td><td>   1.6538462</td><td>0.637288136 </td><td>0.07182320  </td><td>2.000000    </td><td>2.676056    </td><td>1.084507    </td></tr>\n",
       "\t<tr><td>ANAEETHES   </td><td>0.0000000   </td><td>0.0000000   </td><td>0.6666667   </td><td>0.6666667   </td><td>1107.6666670</td><td> 2          </td><td>0.6666667   </td><td>1.000000    </td><td>1.000000    </td><td>  2.000000  </td><td>   0.0000000</td><td>0.0000000   </td><td>0.0000000   </td><td>   0.6666667</td><td>1.000000000 </td><td>0.00000000  </td><td>0.000000    </td><td>1.000000    </td><td>1.000000    </td></tr>\n",
       "</tbody>\n",
       "</table>\n"
      ],
      "text/latex": [
       "\\begin{tabular}{r|llllllllllllllllllll}\n",
       " Description & ANOnto & AROnto & CBOOnto & CBOOnto2 & CROnto & DITOnto & INROnto & LCOMOnto & NACOnto & NOCOnto & NOMOnto & POnto & PROnto & RFCOnto & RROnto & TMOnto & TMOnto2 & WMCOnto & WMCOnto2\\\\\n",
       "\\hline\n",
       "\t ADO          & 0.0000000    & 3.9503849    & 0.9991446    & 0.9991446    &    0.9957228 &  3           & 0.9991446    & 1.999142     & 1.000000     & 292.000000   &    2.9632164 & 0.9957228    & 0.7478411    &    3.9623610 & 0.252158895  & 0.00000000   & 0.000000     & 1.999142     & 1.000000    \\\\\n",
       "\t AEO          & 0.9298246    & 0.5438596    & 0.9824561    & 0.9824561    &    0.0000000 &  5           & 0.9824561    & 2.357143     & 1.000000     &   3.733333   &    0.9824561 & 0.5789474    & 0.5000000    &    1.9649123 & 0.500000000  & 0.00000000   & 0.000000     & 2.357143     & 1.000000    \\\\\n",
       "\t AFO          & 0.7500000    & 0.0000000    & 0.8750000    & 0.8750000    & 3998.8750000 &  3           & 0.8750000    & 1.333333     & 1.000000     &   3.500000   & 2275.7500000 & 0.2500000    & 0.9996157    & 2276.6250000 & 0.000384341  & 0.00000000   & 0.000000     & 1.333333     & 1.000000    \\\\\n",
       "\t AGRO         & 0.9907407    & 3.1018519    & 1.0694444    & 1.0694444    &    0.3634259 & 16           & 1.0694444    & 7.695971     & 1.052174     &   2.287129   &    1.2037037 & 1.0555556    & 0.5295316    &    2.2731481 & 0.470468432  & 0.06264501   & 2.148148     & 9.134783     & 1.186957    \\\\\n",
       "\t AGRORDF      & 1.2362637    & 0.0000000    & 1.0659341    & 1.0659341    &    0.0000000 &  6           & 1.0329670    & 2.467532     & 1.077465     &   4.700000   &    0.5879121 & 0.8571429    & 0.3627119    &    1.6538462 & 0.637288136  & 0.07182320   & 2.000000     & 2.676056     & 1.084507    \\\\\n",
       "\t ANAEETHES    & 0.0000000    & 0.0000000    & 0.6666667    & 0.6666667    & 1107.6666670 &  2           & 0.6666667    & 1.000000     & 1.000000     &   2.000000   &    0.0000000 & 0.0000000    & 0.0000000    &    0.6666667 & 1.000000000  & 0.00000000   & 0.000000     & 1.000000     & 1.000000    \\\\\n",
       "\\end{tabular}\n"
      ],
      "text/markdown": [
       "\n",
       "| Description | ANOnto | AROnto | CBOOnto | CBOOnto2 | CROnto | DITOnto | INROnto | LCOMOnto | NACOnto | NOCOnto | NOMOnto | POnto | PROnto | RFCOnto | RROnto | TMOnto | TMOnto2 | WMCOnto | WMCOnto2 |\n",
       "|---|---|---|---|---|---|---|---|---|---|---|---|---|---|---|---|---|---|---|---|\n",
       "| ADO          | 0.0000000    | 3.9503849    | 0.9991446    | 0.9991446    |    0.9957228 |  3           | 0.9991446    | 1.999142     | 1.000000     | 292.000000   |    2.9632164 | 0.9957228    | 0.7478411    |    3.9623610 | 0.252158895  | 0.00000000   | 0.000000     | 1.999142     | 1.000000     |\n",
       "| AEO          | 0.9298246    | 0.5438596    | 0.9824561    | 0.9824561    |    0.0000000 |  5           | 0.9824561    | 2.357143     | 1.000000     |   3.733333   |    0.9824561 | 0.5789474    | 0.5000000    |    1.9649123 | 0.500000000  | 0.00000000   | 0.000000     | 2.357143     | 1.000000     |\n",
       "| AFO          | 0.7500000    | 0.0000000    | 0.8750000    | 0.8750000    | 3998.8750000 |  3           | 0.8750000    | 1.333333     | 1.000000     |   3.500000   | 2275.7500000 | 0.2500000    | 0.9996157    | 2276.6250000 | 0.000384341  | 0.00000000   | 0.000000     | 1.333333     | 1.000000     |\n",
       "| AGRO         | 0.9907407    | 3.1018519    | 1.0694444    | 1.0694444    |    0.3634259 | 16           | 1.0694444    | 7.695971     | 1.052174     |   2.287129   |    1.2037037 | 1.0555556    | 0.5295316    |    2.2731481 | 0.470468432  | 0.06264501   | 2.148148     | 9.134783     | 1.186957     |\n",
       "| AGRORDF      | 1.2362637    | 0.0000000    | 1.0659341    | 1.0659341    |    0.0000000 |  6           | 1.0329670    | 2.467532     | 1.077465     |   4.700000   |    0.5879121 | 0.8571429    | 0.3627119    |    1.6538462 | 0.637288136  | 0.07182320   | 2.000000     | 2.676056     | 1.084507     |\n",
       "| ANAEETHES    | 0.0000000    | 0.0000000    | 0.6666667    | 0.6666667    | 1107.6666670 |  2           | 0.6666667    | 1.000000     | 1.000000     |   2.000000   |    0.0000000 | 0.0000000    | 0.0000000    |    0.6666667 | 1.000000000  | 0.00000000   | 0.000000     | 1.000000     | 1.000000     |\n",
       "\n"
      ],
      "text/plain": [
       "  Description ANOnto    AROnto    CBOOnto   CBOOnto2  CROnto       DITOnto\n",
       "1 ADO         0.0000000 3.9503849 0.9991446 0.9991446    0.9957228  3     \n",
       "2 AEO         0.9298246 0.5438596 0.9824561 0.9824561    0.0000000  5     \n",
       "3 AFO         0.7500000 0.0000000 0.8750000 0.8750000 3998.8750000  3     \n",
       "4 AGRO        0.9907407 3.1018519 1.0694444 1.0694444    0.3634259 16     \n",
       "5 AGRORDF     1.2362637 0.0000000 1.0659341 1.0659341    0.0000000  6     \n",
       "6 ANAEETHES   0.0000000 0.0000000 0.6666667 0.6666667 1107.6666670  2     \n",
       "  INROnto   LCOMOnto NACOnto  NOCOnto    NOMOnto      POnto     PROnto   \n",
       "1 0.9991446 1.999142 1.000000 292.000000    2.9632164 0.9957228 0.7478411\n",
       "2 0.9824561 2.357143 1.000000   3.733333    0.9824561 0.5789474 0.5000000\n",
       "3 0.8750000 1.333333 1.000000   3.500000 2275.7500000 0.2500000 0.9996157\n",
       "4 1.0694444 7.695971 1.052174   2.287129    1.2037037 1.0555556 0.5295316\n",
       "5 1.0329670 2.467532 1.077465   4.700000    0.5879121 0.8571429 0.3627119\n",
       "6 0.6666667 1.000000 1.000000   2.000000    0.0000000 0.0000000 0.0000000\n",
       "  RFCOnto      RROnto      TMOnto     TMOnto2  WMCOnto  WMCOnto2\n",
       "1    3.9623610 0.252158895 0.00000000 0.000000 1.999142 1.000000\n",
       "2    1.9649123 0.500000000 0.00000000 0.000000 2.357143 1.000000\n",
       "3 2276.6250000 0.000384341 0.00000000 0.000000 1.333333 1.000000\n",
       "4    2.2731481 0.470468432 0.06264501 2.148148 9.134783 1.186957\n",
       "5    1.6538462 0.637288136 0.07182320 2.000000 2.676056 1.084507\n",
       "6    0.6666667 1.000000000 0.00000000 0.000000 1.000000 1.000000"
      ]
     },
     "metadata": {},
     "output_type": "display_data"
    }
   ],
   "source": [
    "seed = 13606\n",
    "set.seed(seed)\n",
    "\n",
    "agro_df = read.csv(paste0(getwd(), \"/\",\"data/agro.csv\"), header=TRUE, stringsAsFactors=FALSE)\n",
    "head(agro_df)"
   ]
  },
  {
   "cell_type": "markdown",
   "id": "b0d43550",
   "metadata": {},
   "source": [
    "# evaluomeR CBIs <a class=\"anchor\" id=\"cbis\"></a>\n",
    "Available clusterboot interfaces (clustering methods) in evaluomeR"
   ]
  },
  {
   "cell_type": "code",
   "execution_count": 21,
   "id": "e79d1dab",
   "metadata": {},
   "outputs": [
    {
     "name": "stdout",
     "output_type": "stream",
     "text": [
      "\"kmeans\", \"clara\", \"clara_pam\", \"hclust\", \"pamk\", \"pamk_pam\", \"rskc\""
     ]
    }
   ],
   "source": [
    "cat(paste(shQuote(evaluomeRSupportedCBI(), type=\"cmd\"), collapse=\", \"))"
   ]
  },
  {
   "cell_type": "markdown",
   "id": "cad71aa5",
   "metadata": {},
   "source": [
    "# Metrics relevancy <a class=\"anchor\" id=\"metrics_relevancy\"></a>\n",
    "We need to compute the optimal K value of the dataset and the L1 boundry in order to compute the table of metrics relevancy."
   ]
  },
  {
   "cell_type": "markdown",
   "id": "bcb9cb47",
   "metadata": {},
   "source": [
    "## Optimal K value <a class=\"anchor\" id=\"optimal_k\"></a>\n",
    "Calculating the optimal K value with *kmeans* CBI. Here, we make use of *evaluomeR* to figure out the optimal $k$ value. We consider the $k$ range [3,6] for the analysis, avoiding $k=2$ to prevent from having binary classifications."
   ]
  },
  {
   "cell_type": "code",
   "execution_count": 45,
   "id": "e6c066b5",
   "metadata": {},
   "outputs": [
    {
     "name": "stderr",
     "output_type": "stream",
     "text": [
      "\n",
      "Data loaded.\n",
      "Number of rows: 78\n",
      "Number of columns: 20\n",
      "\n",
      "\n",
      "Processing all metrics, 'merge', in dataframe (19)\n",
      "\tCalculation of k = 3\n",
      "\tCalculation of k = 4\n",
      "\tCalculation of k = 5\n",
      "\tCalculation of k = 6\n",
      "\n",
      "Data loaded.\n",
      "Number of rows: 78\n",
      "Number of columns: 20\n",
      "\n",
      "\n",
      "Processing all metrics, 'merge', in dataframe (19)\n",
      "\tCalculation of k = 3\n",
      "\tCalculation of k = 4\n",
      "\tCalculation of k = 5\n",
      "\tCalculation of k = 6\n",
      "Processing metric: all_metrics\n",
      "\n",
      "\tMaximum stability and quality values matches the same K value: '3'\n",
      "\n"
     ]
    }
   ],
   "source": [
    "k.range=c(3,6)\n",
    "cbi = \"kmeans\"\n",
    "\n",
    "stab_range = stabilityRange(data=agro_df, k.range=k.range, \n",
    "                            bs=100, seed=seed,\n",
    "                            all_metrics=TRUE,\n",
    "                            cbi=cbi)\n",
    "stab = standardizeStabilityData(stab_range)\n",
    "\n",
    "# Qual\n",
    "qual_range = qualityRange(data=agro_df, k.range=k.range, \n",
    "                            all_metrics=TRUE, seed=seed,\n",
    "                            cbi=cbi)\n",
    "qual = standardizeQualityData(qual_range)\n",
    "\n",
    "# K opt\n",
    "k_opt = getOptimalKValue(stab_range, qual_range, k.range= k.range)\n",
    "optimal_k = as.numeric(k_opt$Global_optimal_k)"
   ]
  },
  {
   "cell_type": "markdown",
   "id": "acd7b272",
   "metadata": {},
   "source": [
    "We are going to use $k=3$ as the optimal K value."
   ]
  },
  {
   "cell_type": "markdown",
   "id": "d5eb0571",
   "metadata": {},
   "source": [
    "## Figuring out the L<sub>1</sub> upper boundry <a class=\"anchor\" id=\"l1_boundry\"></a>"
   ]
  },
  {
   "cell_type": "markdown",
   "id": "40ad9a17",
   "metadata": {},
   "source": [
    "This algorithm for tuning the L<sub>1</sub> parameter and others are presented in 'sparcl' R package.\n",
    "Considering that for the dataset the global optimal $k$ is $k=3$, we can now compute the permutations to figure out the boundry L<sub>1</sub> with the method 'KMeansSparseCluster.permute' from 'sparcl'.\n",
    "\n",
    "Note: 1 $<$ L<sub>1</sub> $\\leq$ $\\sqrt{num.variables}$."
   ]
  },
  {
   "cell_type": "code",
   "execution_count": 50,
   "id": "84718cbe",
   "metadata": {},
   "outputs": [
    {
     "name": "stdout",
     "output_type": "stream",
     "text": [
      "Best L1 for k=3 is: 2"
     ]
    }
   ],
   "source": [
    "data = agro_df[-1] # Removing 'Description' column as it is not numeric\n",
    "wbounds = seq(2,sqrt(ncol(data)), len=30)\n",
    "km.perm <- sparcl::KMeansSparseCluster.permute(data, K=optimal_k, wbounds=wbounds, nperms=5, silent=TRUE)\n",
    "L1 = km.perm$bestw\n",
    "cat(paste0(\"Best L1 for k=\", optimal_k, \" is: \", L1))"
   ]
  },
  {
   "cell_type": "markdown",
   "id": "77bc7805",
   "metadata": {},
   "source": [
    "The best L<sub>1</sub> upper boundry for $k=3$ is 2."
   ]
  },
  {
   "cell_type": "code",
   "execution_count": 6,
   "id": "3f41a79d",
   "metadata": {},
   "outputs": [],
   "source": [
    "# HASTA AQUI\n",
    "rskc_run <- function(stab, qual, alpha) {\n",
    "  structure(list(stab = stab, mean_stab = mean(as.double(stab)),\n",
    "                 qual = qual, mean_qual = mean(as.double(qual)),\n",
    "                 alpha = alpha), class = \"rskc_run\")\n",
    "}\n",
    "run_list = list()"
   ]
  },
  {
   "cell_type": "code",
   "execution_count": 7,
   "id": "cf7bb85b",
   "metadata": {},
   "outputs": [
    {
     "name": "stderr",
     "output_type": "stream",
     "text": [
      "\n",
      "Data loaded.\n",
      "Number of rows: 78\n",
      "Number of columns: 20\n",
      "\n",
      "\n",
      "Processing all metrics, 'merge', in dataframe (19)\n",
      "\tCalculation of k = 2\n",
      "\tCalculation of k = 3\n",
      "\tCalculation of k = 4\n",
      "\tCalculation of k = 5\n",
      "\tCalculation of k = 6\n",
      "\n",
      "Data loaded.\n",
      "Number of rows: 78\n",
      "Number of columns: 20\n",
      "\n",
      "\n",
      "Processing all metrics, 'merge', in dataframe (19)\n",
      "\tCalculation of k = 2\n",
      "\tCalculation of k = 3\n",
      "\tCalculation of k = 4\n",
      "\tCalculation of k = 5\n",
      "\tCalculation of k = 6\n",
      "\n",
      "Data loaded.\n",
      "Number of rows: 78\n",
      "Number of columns: 20\n",
      "\n",
      "\n",
      "Processing all metrics, 'merge', in dataframe (19)\n",
      "\tCalculation of k = 2\n"
     ]
    },
    {
     "name": "stdout",
     "output_type": "stream",
     "text": [
      "alpha is too large for n \n",
      "alpha is too large for n \n",
      "alpha is too large for n \n",
      "alpha is too large for n \n",
      "alpha is too large for n \n",
      "alpha is too large for n \n",
      "alpha is too large for n \n",
      "alpha is too large for n \n",
      "alpha is too large for n \n",
      "Step (a), (a2) and (b) are repeated over the maximum number of iterations. The algorithm might not converge.alpha is too large for n \n",
      "alpha is too large for n \n",
      "alpha is too large for n \n",
      "alpha is too large for n \n",
      "alpha is too large for n \n",
      "alpha is too large for n \n",
      "alpha is too large for n \n",
      "alpha is too large for n \n",
      "alpha is too large for n \n",
      "Step (a), (a2) and (b) are repeated over the maximum number of iterations. The algorithm might not converge.alpha is too large for n \n",
      "alpha is too large for n \n",
      "alpha is too large for n \n",
      "alpha is too large for n \n",
      "alpha is too large for n \n",
      "alpha is too large for n \n",
      "alpha is too large for n \n",
      "alpha is too large for n \n",
      "alpha is too large for n \n",
      "Step (a), (a2) and (b) are repeated over the maximum number of iterations. The algorithm might not converge.alpha is too large for n \n",
      "alpha is too large for n \n",
      "alpha is too large for n \n",
      "alpha is too large for n \n",
      "alpha is too large for n \n",
      "alpha is too large for n \n",
      "alpha is too large for n \n",
      "alpha is too large for n \n",
      "alpha is too large for n \n",
      "Step (a), (a2) and (b) are repeated over the maximum number of iterations. The algorithm might not converge.alpha is too large for n \n",
      "alpha is too large for n \n",
      "alpha is too large for n \n",
      "alpha is too large for n \n",
      "alpha is too large for n \n",
      "alpha is too large for n \n",
      "alpha is too large for n \n",
      "alpha is too large for n \n",
      "alpha is too large for n \n",
      "Step (a), (a2) and (b) are repeated over the maximum number of iterations. The algorithm might not converge.alpha is too large for n \n",
      "alpha is too large for n \n",
      "alpha is too large for n \n",
      "alpha is too large for n \n",
      "alpha is too large for n \n",
      "alpha is too large for n \n",
      "alpha is too large for n \n",
      "alpha is too large for n \n",
      "alpha is too large for n \n",
      "Step (a), (a2) and (b) are repeated over the maximum number of iterations. The algorithm might not converge."
     ]
    },
    {
     "name": "stderr",
     "output_type": "stream",
     "text": [
      "\tCalculation of k = 3\n",
      "\tCalculation of k = 4\n",
      "\tCalculation of k = 5\n",
      "\tCalculation of k = 6\n",
      "\n",
      "Data loaded.\n",
      "Number of rows: 78\n",
      "Number of columns: 20\n",
      "\n",
      "\n",
      "Processing all metrics, 'merge', in dataframe (19)\n",
      "\tCalculation of k = 2\n",
      "\tCalculation of k = 3\n",
      "\tCalculation of k = 4\n",
      "\tCalculation of k = 5\n",
      "\tCalculation of k = 6\n",
      "\n",
      "Data loaded.\n",
      "Number of rows: 78\n",
      "Number of columns: 20\n",
      "\n",
      "\n",
      "Processing all metrics, 'merge', in dataframe (19)\n",
      "\tCalculation of k = 2\n",
      "\tCalculation of k = 3\n",
      "\tCalculation of k = 4\n",
      "\tCalculation of k = 5\n",
      "\tCalculation of k = 6\n",
      "\n",
      "Data loaded.\n",
      "Number of rows: 78\n",
      "Number of columns: 20\n",
      "\n",
      "\n",
      "Processing all metrics, 'merge', in dataframe (19)\n",
      "\tCalculation of k = 2\n",
      "\tCalculation of k = 3\n",
      "\tCalculation of k = 4\n",
      "\tCalculation of k = 5\n",
      "\tCalculation of k = 6\n",
      "\n",
      "Data loaded.\n",
      "Number of rows: 78\n",
      "Number of columns: 20\n",
      "\n",
      "\n",
      "Processing all metrics, 'merge', in dataframe (19)\n",
      "\tCalculation of k = 2\n",
      "\tCalculation of k = 3\n",
      "\tCalculation of k = 4\n",
      "\tCalculation of k = 5\n",
      "\tCalculation of k = 6\n",
      "\n",
      "Data loaded.\n",
      "Number of rows: 78\n",
      "Number of columns: 20\n",
      "\n",
      "\n",
      "Processing all metrics, 'merge', in dataframe (19)\n",
      "\tCalculation of k = 2\n",
      "\tCalculation of k = 3\n",
      "\tCalculation of k = 4\n",
      "\tCalculation of k = 5\n",
      "\tCalculation of k = 6\n",
      "\n",
      "Data loaded.\n",
      "Number of rows: 78\n",
      "Number of columns: 20\n",
      "\n",
      "\n",
      "Processing all metrics, 'merge', in dataframe (19)\n",
      "\tCalculation of k = 2\n",
      "\tCalculation of k = 3\n",
      "\tCalculation of k = 4\n",
      "\tCalculation of k = 5\n",
      "\tCalculation of k = 6\n",
      "\n",
      "Data loaded.\n",
      "Number of rows: 78\n",
      "Number of columns: 20\n",
      "\n",
      "\n",
      "Processing all metrics, 'merge', in dataframe (19)\n",
      "\tCalculation of k = 2\n",
      "\tCalculation of k = 3\n",
      "\tCalculation of k = 4\n",
      "\tCalculation of k = 5\n",
      "\tCalculation of k = 6\n",
      "\n",
      "Data loaded.\n",
      "Number of rows: 78\n",
      "Number of columns: 20\n",
      "\n",
      "\n",
      "Processing all metrics, 'merge', in dataframe (19)\n",
      "\tCalculation of k = 2\n",
      "\tCalculation of k = 3\n",
      "\tCalculation of k = 4\n",
      "\tCalculation of k = 5\n",
      "\tCalculation of k = 6\n",
      "\n",
      "Data loaded.\n",
      "Number of rows: 78\n",
      "Number of columns: 20\n",
      "\n",
      "\n",
      "Processing all metrics, 'merge', in dataframe (19)\n",
      "\tCalculation of k = 2\n",
      "\tCalculation of k = 3\n",
      "\tCalculation of k = 4\n",
      "\tCalculation of k = 5\n",
      "\tCalculation of k = 6\n"
     ]
    }
   ],
   "source": [
    "alpha_values = seq(0, 0.25, 0.05)\n",
    "index = 1\n",
    "for (alpha in alpha_values) {\n",
    "    stab = stabilityRange(data=input_df, k.range=k.range, \n",
    "                                bs=100, seed=seed,\n",
    "                                all_metrics=TRUE,\n",
    "                                cbi=\"rskc\", L1=2, alpha=alpha)\n",
    "    stab_table = standardizeStabilityData(stab)\n",
    "    \n",
    "    qual = qualityRange(data=input_df, k.range=k.range, \n",
    "                                seed=seed,\n",
    "                                all_metrics=TRUE,\n",
    "                                cbi=\"rskc\", L1=2, alpha=alpha)\n",
    "    qual_table = standardizeQualityData(qual)\n",
    "    \n",
    "    run_list[[index]] <- rskc_run(stab = stab_table, qual = qual_table, alpha=alpha)\n",
    "    index = index + 1\n",
    "}"
   ]
  },
  {
   "cell_type": "code",
   "execution_count": 8,
   "id": "366045e4",
   "metadata": {},
   "outputs": [],
   "source": [
    "best_stab = -Inf\n",
    "best_qual = -Inf\n",
    "best_alpha_stab = 0\n",
    "best_alpha_qual = 0\n",
    "getBestRun <- function(run_list) {\n",
    "    for (run in run_list)\n",
    "        if (run$mean_stab > best_stab) {\n",
    "            best_stab = run$mean_stab\n",
    "            best_alpha_stab = run$alpha\n",
    "        }\n",
    "        if (run$mean_qual > best_qual) {\n",
    "            best_qual = run$best_qual\n",
    "            best_alpha_qual = run$alpha\n",
    "        }\n",
    "\n",
    "    return(\n",
    "        list(\"best_alpha_stab\" = best_alpha_stab,\n",
    "                \"best_alpha_qual\"=best_alpha_qual)\n",
    "          )\n",
    "}"
   ]
  },
  {
   "cell_type": "code",
   "execution_count": 9,
   "id": "d171f81a",
   "metadata": {},
   "outputs": [
    {
     "data": {
      "text/html": [
       "<dl>\n",
       "\t<dt>$best_alpha_stab</dt>\n",
       "\t\t<dd>0</dd>\n",
       "\t<dt>$best_alpha_qual</dt>\n",
       "\t\t<dd>0.25</dd>\n",
       "</dl>\n"
      ],
      "text/latex": [
       "\\begin{description}\n",
       "\\item[\\$best\\_alpha\\_stab] 0\n",
       "\\item[\\$best\\_alpha\\_qual] 0.25\n",
       "\\end{description}\n"
      ],
      "text/markdown": [
       "$best_alpha_stab\n",
       ":   0\n",
       "$best_alpha_qual\n",
       ":   0.25\n",
       "\n",
       "\n"
      ],
      "text/plain": [
       "$best_alpha_stab\n",
       "[1] 0\n",
       "\n",
       "$best_alpha_qual\n",
       "[1] 0.25\n"
      ]
     },
     "metadata": {},
     "output_type": "display_data"
    }
   ],
   "source": [
    "getBestRun(run_list)"
   ]
  },
  {
   "cell_type": "code",
   "execution_count": 10,
   "id": "2511cc33",
   "metadata": {},
   "outputs": [
    {
     "data": {
      "text/plain": [
       "$stab\n",
       "                 k_2      k_3       k_4       k_5       k_6\n",
       "all_metrics 0.922938 0.763779 0.6835521 0.6574005 0.7228951\n",
       "\n",
       "$mean_stab\n",
       "[1] 0.750113\n",
       "\n",
       "$qual\n",
       "                  k_2       k_3       k_4       k_5        k_6\n",
       "all_metrics 0.9765144 0.9652177 0.9491769 0.9192709 0.09758856\n",
       "\n",
       "$mean_qual\n",
       "[1] 0.7815537\n",
       "\n",
       "$alpha\n",
       "[1] 0\n",
       "\n",
       "attr(,\"class\")\n",
       "[1] \"rskc_run\""
      ]
     },
     "metadata": {},
     "output_type": "display_data"
    }
   ],
   "source": [
    "run_list[[1]]"
   ]
  },
  {
   "cell_type": "code",
   "execution_count": 20,
   "id": "0d68cdcf",
   "metadata": {},
   "outputs": [
    {
     "name": "stdout",
     "output_type": "stream",
     "text": [
      "[1] \"Alpha set as: 0\"\n",
      "[1] \"L1 set as: 2\"\n"
     ]
    },
    {
     "data": {
      "text/html": [
       "<table>\n",
       "<thead><tr><th></th><th scope=col>metric</th><th scope=col>weight</th></tr></thead>\n",
       "<tbody>\n",
       "\t<tr><th scope=row>5</th><td>CROnto              </td><td>0.999994852839666715</td></tr>\n",
       "\t<tr><th scope=row>11</th><td>NOMOnto             </td><td>0.002268831192932223</td></tr>\n",
       "\t<tr><th scope=row>14</th><td>RFCOnto             </td><td>0.002268633768701414</td></tr>\n",
       "\t<tr><th scope=row>10</th><td>NOCOnto             </td><td>0.000000093242941073</td></tr>\n",
       "\t<tr><th scope=row>18</th><td>WMCOnto             </td><td>0.000000060450218928</td></tr>\n",
       "\t<tr><th scope=row>6</th><td>DITOnto             </td><td>0.000000047918994503</td></tr>\n",
       "\t<tr><th scope=row>8</th><td>LCOMOnto            </td><td>0.000000010651039836</td></tr>\n",
       "\t<tr><th scope=row>2</th><td>AROnto              </td><td>0.000000001000350998</td></tr>\n",
       "\t<tr><th scope=row>17</th><td>TMOnto2             </td><td>0.000000000945103542</td></tr>\n",
       "\t<tr><th scope=row>12</th><td>POnto               </td><td>0.000000000393327390</td></tr>\n",
       "\t<tr><th scope=row>1</th><td>ANOnto              </td><td>0.000000000307179023</td></tr>\n",
       "\t<tr><th scope=row>15</th><td>RROnto              </td><td>0.000000000242709543</td></tr>\n",
       "\t<tr><th scope=row>13</th><td>PROnto              </td><td>0.000000000242709543</td></tr>\n",
       "\t<tr><th scope=row>19</th><td>WMCOnto2            </td><td>0.000000000199326549</td></tr>\n",
       "\t<tr><th scope=row>3</th><td>CBOOnto             </td><td>0.000000000066382874</td></tr>\n",
       "\t<tr><th scope=row>4</th><td>CBOOnto2            </td><td>0.000000000066382874</td></tr>\n",
       "\t<tr><th scope=row>7</th><td>INROnto             </td><td>0.000000000065150434</td></tr>\n",
       "\t<tr><th scope=row>9</th><td>NACOnto             </td><td>0.000000000003105056</td></tr>\n",
       "\t<tr><th scope=row>16</th><td>TMOnto              </td><td>0.000000000001201208</td></tr>\n",
       "</tbody>\n",
       "</table>\n"
      ],
      "text/latex": [
       "\\begin{tabular}{r|ll}\n",
       "  & metric & weight\\\\\n",
       "\\hline\n",
       "\t5 & CROnto               & 0.999994852839666715\\\\\n",
       "\t11 & NOMOnto              & 0.002268831192932223\\\\\n",
       "\t14 & RFCOnto              & 0.002268633768701414\\\\\n",
       "\t10 & NOCOnto              & 0.000000093242941073\\\\\n",
       "\t18 & WMCOnto              & 0.000000060450218928\\\\\n",
       "\t6 & DITOnto              & 0.000000047918994503\\\\\n",
       "\t8 & LCOMOnto             & 0.000000010651039836\\\\\n",
       "\t2 & AROnto               & 0.000000001000350998\\\\\n",
       "\t17 & TMOnto2              & 0.000000000945103542\\\\\n",
       "\t12 & POnto                & 0.000000000393327390\\\\\n",
       "\t1 & ANOnto               & 0.000000000307179023\\\\\n",
       "\t15 & RROnto               & 0.000000000242709543\\\\\n",
       "\t13 & PROnto               & 0.000000000242709543\\\\\n",
       "\t19 & WMCOnto2             & 0.000000000199326549\\\\\n",
       "\t3 & CBOOnto              & 0.000000000066382874\\\\\n",
       "\t4 & CBOOnto2             & 0.000000000066382874\\\\\n",
       "\t7 & INROnto              & 0.000000000065150434\\\\\n",
       "\t9 & NACOnto              & 0.000000000003105056\\\\\n",
       "\t16 & TMOnto               & 0.000000000001201208\\\\\n",
       "\\end{tabular}\n"
      ],
      "text/markdown": [
       "\n",
       "| <!--/--> | metric | weight |\n",
       "|---|---|---|\n",
       "| 5 | CROnto               | 0.999994852839666715 |\n",
       "| 11 | NOMOnto              | 0.002268831192932223 |\n",
       "| 14 | RFCOnto              | 0.002268633768701414 |\n",
       "| 10 | NOCOnto              | 0.000000093242941073 |\n",
       "| 18 | WMCOnto              | 0.000000060450218928 |\n",
       "| 6 | DITOnto              | 0.000000047918994503 |\n",
       "| 8 | LCOMOnto             | 0.000000010651039836 |\n",
       "| 2 | AROnto               | 0.000000001000350998 |\n",
       "| 17 | TMOnto2              | 0.000000000945103542 |\n",
       "| 12 | POnto                | 0.000000000393327390 |\n",
       "| 1 | ANOnto               | 0.000000000307179023 |\n",
       "| 15 | RROnto               | 0.000000000242709543 |\n",
       "| 13 | PROnto               | 0.000000000242709543 |\n",
       "| 19 | WMCOnto2             | 0.000000000199326549 |\n",
       "| 3 | CBOOnto              | 0.000000000066382874 |\n",
       "| 4 | CBOOnto2             | 0.000000000066382874 |\n",
       "| 7 | INROnto              | 0.000000000065150434 |\n",
       "| 9 | NACOnto              | 0.000000000003105056 |\n",
       "| 16 | TMOnto               | 0.000000000001201208 |\n",
       "\n"
      ],
      "text/plain": [
       "   metric   weight              \n",
       "5  CROnto   0.999994852839666715\n",
       "11 NOMOnto  0.002268831192932223\n",
       "14 RFCOnto  0.002268633768701414\n",
       "10 NOCOnto  0.000000093242941073\n",
       "18 WMCOnto  0.000000060450218928\n",
       "6  DITOnto  0.000000047918994503\n",
       "8  LCOMOnto 0.000000010651039836\n",
       "2  AROnto   0.000000001000350998\n",
       "17 TMOnto2  0.000000000945103542\n",
       "12 POnto    0.000000000393327390\n",
       "1  ANOnto   0.000000000307179023\n",
       "15 RROnto   0.000000000242709543\n",
       "13 PROnto   0.000000000242709543\n",
       "19 WMCOnto2 0.000000000199326549\n",
       "3  CBOOnto  0.000000000066382874\n",
       "4  CBOOnto2 0.000000000066382874\n",
       "7  INROnto  0.000000000065150434\n",
       "9  NACOnto  0.000000000003105056\n",
       "16 TMOnto   0.000000000001201208"
      ]
     },
     "metadata": {},
     "output_type": "display_data"
    }
   ],
   "source": [
    "#RSKC(data, 3, alpha=0, L1 = 2)\n",
    "# Relevancy of metrics according to the optimal K, L1 and alpha\n",
    "agroRelevancy = getMetricsRelevancy(input_df[-1], alpha=0, k=3, L1=2, seed=seed)\n",
    "agroRelevancyMetrics = agroRelevancy$relevancy\n",
    "agroRelevancyMetrics"
   ]
  },
  {
   "cell_type": "code",
   "execution_count": 13,
   "id": "5c6aef4e",
   "metadata": {},
   "outputs": [],
   "source": []
  }
 ],
 "metadata": {
  "kernelspec": {
   "display_name": "R",
   "language": "R",
   "name": "ir"
  },
  "language_info": {
   "codemirror_mode": "r",
   "file_extension": ".r",
   "mimetype": "text/x-r-source",
   "name": "R",
   "pygments_lexer": "r",
   "version": "3.6.1"
  }
 },
 "nbformat": 4,
 "nbformat_minor": 5
}
