{
 "cells": [
  {
   "cell_type": "markdown",
   "id": "285a2f02",
   "metadata": {},
   "source": [
    "# evaluomeR r 1"
   ]
  },
  {
   "cell_type": "code",
   "execution_count": 58,
   "id": "9ba99e51",
   "metadata": {
    "scrolled": true
   },
   "outputs": [],
   "source": [
    "library(\"evaluomeR\")\n",
    "library(\"sparcl\")"
   ]
  },
  {
   "cell_type": "markdown",
   "id": "93f21df5",
   "metadata": {},
   "source": [
    "# Table of contents\n",
    "* [Dataset](#dataset)\n",
    "* [RSKC usage](#rskc)\n",
    "    * [Optimal K value](#rskc_optimal_k)\n",
    "    * [Figuring out the L<sub>1</sub> upper boundry](#rskc_l1_boundry)\n",
    "    * [Metrics relevancy](#rskc_metrics_relevancy)\n",
    "     * [Trimmed cases](#rskc_trimmed)\n",
    "     * [Relevancy table](#rskc_relevancy_table)\n",
    "* [References](#references)"
   ]
  },
  {
   "cell_type": "markdown",
   "id": "66d92248",
   "metadata": {},
   "source": [
    "# Dataset <a class=\"anchor\" id=\"dataset\"></a>"
   ]
  },
  {
   "cell_type": "code",
   "execution_count": 13,
   "id": "f757a75e",
   "metadata": {},
   "outputs": [
    {
     "name": "stdout",
     "output_type": "stream",
     "text": [
      "[1] \"C:/Users/Neo/workspace-r/evaluomeR/notebooks/local/../../usecases/usecase2/data/agro.csv\"\n"
     ]
    }
   ],
   "source": [
    "print(paste0(getwd(), \"/\",\"../../usecases/usecase2/data/agro.csv\"))"
   ]
  },
  {
   "cell_type": "code",
   "execution_count": 38,
   "id": "85415681",
   "metadata": {},
   "outputs": [],
   "source": [
    "# usecases\\usecase2\\data\n",
    "seed = 13606\n",
    "k.range=c(2,6)\n",
    "set.seed(seed)\n",
    "agro_portal = read.csv(paste0(getwd(), \"/\",\"../../usecases/usecase2/data/agro.csv\"), header=TRUE, stringsAsFactors=FALSE)\n",
    "obo_foundry = read.csv(paste0(getwd(), \"/\",\"../../usecases/usecase2/data/obo-119.csv\"), header=TRUE, stringsAsFactors=FALSE)"
   ]
  },
  {
   "cell_type": "code",
   "execution_count": 71,
   "id": "7ee7c33f",
   "metadata": {},
   "outputs": [],
   "source": [
    "data = agro_portal[, -1]"
   ]
  },
  {
   "cell_type": "code",
   "execution_count": 84,
   "id": "60fe7dde",
   "metadata": {},
   "outputs": [],
   "source": [
    "# wbounds = seq(2,sqrt(ncol(data)), len=30)\n",
    "# km.perm <- KMeansSparseCluster.permute(data,K=3,wbounds=wbounds,nperms=5,silent = TRUE)\n",
    "# L1_agro = km.perm$bestw"
   ]
  },
  {
   "cell_type": "code",
   "execution_count": 90,
   "id": "519ae767",
   "metadata": {
    "scrolled": true
   },
   "outputs": [
    {
     "name": "stderr",
     "output_type": "stream",
     "text": [
      "\n",
      "Data loaded.\n",
      "Number of rows: 78\n",
      "Number of columns: 20\n",
      "\n",
      "\n",
      "Processing all metrics, 'merge', in dataframe (19)\n",
      "\tCalculation of k = 2\n",
      "\tCalculation of k = 3\n",
      "\tCalculation of k = 4\n",
      "\tCalculation of k = 5\n",
      "\tCalculation of k = 6\n"
     ]
    }
   ],
   "source": [
    "stabAgro <- stabilityRange(data=agro_portal, k.range=k.range, \n",
    "                            bs=100, seed=seed,\n",
    "                            all_metrics=TRUE,\n",
    "                            cbi=\"rskc\", L1=10)"
   ]
  },
  {
   "cell_type": "code",
   "execution_count": 92,
   "id": "7872e2ae",
   "metadata": {},
   "outputs": [
    {
     "data": {
      "text/html": [
       "<table>\n",
       "<thead><tr><th scope=col>Metric</th><th scope=col>Mean_stability_k_2</th><th scope=col>Mean_stability_k_3</th><th scope=col>Mean_stability_k_4</th><th scope=col>Mean_stability_k_5</th><th scope=col>Mean_stability_k_6</th></tr></thead>\n",
       "<tbody>\n",
       "\t<tr><td>all_metrics      </td><td>0.922938044757029</td><td>0.763779029021748</td><td>0.683552127430209</td><td>0.657400513507254</td><td>0.722895145829167</td></tr>\n",
       "</tbody>\n",
       "</table>\n"
      ],
      "text/latex": [
       "\\begin{tabular}{llllll}\n",
       " Metric & Mean\\_stability\\_k\\_2 & Mean\\_stability\\_k\\_3 & Mean\\_stability\\_k\\_4 & Mean\\_stability\\_k\\_5 & Mean\\_stability\\_k\\_6\\\\\n",
       "\\hline\n",
       "\t all\\_metrics     & 0.922938044757029 & 0.763779029021748 & 0.683552127430209 & 0.657400513507254 & 0.722895145829167\\\\\n",
       "\\end{tabular}\n"
      ],
      "text/markdown": [
       "\n",
       "| Metric | Mean_stability_k_2 | Mean_stability_k_3 | Mean_stability_k_4 | Mean_stability_k_5 | Mean_stability_k_6 |\n",
       "|---|---|---|---|---|---|\n",
       "| all_metrics       | 0.922938044757029 | 0.763779029021748 | 0.683552127430209 | 0.657400513507254 | 0.722895145829167 |\n",
       "\n"
      ],
      "text/plain": [
       "     Metric      Mean_stability_k_2 Mean_stability_k_3 Mean_stability_k_4\n",
       "[1,] all_metrics 0.922938044757029  0.763779029021748  0.683552127430209 \n",
       "     Mean_stability_k_5 Mean_stability_k_6\n",
       "[1,] 0.657400513507254  0.722895145829167 "
      ]
     },
     "metadata": {},
     "output_type": "display_data"
    }
   ],
   "source": [
    "assay(stabAgro)"
   ]
  },
  {
   "cell_type": "code",
   "execution_count": 94,
   "id": "8e1bacd8",
   "metadata": {},
   "outputs": [
    {
     "name": "stderr",
     "output_type": "stream",
     "text": [
      "\n",
      "Data loaded.\n",
      "Number of rows: 119\n",
      "Number of columns: 20\n",
      "\n",
      "\n",
      "Processing all metrics, 'merge', in dataframe (19)\n",
      "\tCalculation of k = 2\n",
      "\tCalculation of k = 3\n",
      "\tCalculation of k = 4\n",
      "\tCalculation of k = 5\n",
      "\tCalculation of k = 6\n"
     ]
    }
   ],
   "source": [
    "stabObo <- stabilityRange(data=obo_foundry, k.range=k.range, \n",
    "                            bs=100, seed=seed,\n",
    "                            all_metrics=TRUE,\n",
    "                            cbi=\"rskc\", L1=10)"
   ]
  },
  {
   "cell_type": "code",
   "execution_count": 95,
   "id": "c4c59a43",
   "metadata": {},
   "outputs": [
    {
     "data": {
      "text/html": [
       "<table>\n",
       "<thead><tr><th scope=col>Metric</th><th scope=col>Mean_stability_k_2</th><th scope=col>Mean_stability_k_3</th><th scope=col>Mean_stability_k_4</th><th scope=col>Mean_stability_k_5</th><th scope=col>Mean_stability_k_6</th></tr></thead>\n",
       "<tbody>\n",
       "\t<tr><td>all_metrics      </td><td>0.823239830161548</td><td>0.828554529157228</td><td>0.784038158292888</td><td>0.810498025769748</td><td>0.774373794305039</td></tr>\n",
       "</tbody>\n",
       "</table>\n"
      ],
      "text/latex": [
       "\\begin{tabular}{llllll}\n",
       " Metric & Mean\\_stability\\_k\\_2 & Mean\\_stability\\_k\\_3 & Mean\\_stability\\_k\\_4 & Mean\\_stability\\_k\\_5 & Mean\\_stability\\_k\\_6\\\\\n",
       "\\hline\n",
       "\t all\\_metrics     & 0.823239830161548 & 0.828554529157228 & 0.784038158292888 & 0.810498025769748 & 0.774373794305039\\\\\n",
       "\\end{tabular}\n"
      ],
      "text/markdown": [
       "\n",
       "| Metric | Mean_stability_k_2 | Mean_stability_k_3 | Mean_stability_k_4 | Mean_stability_k_5 | Mean_stability_k_6 |\n",
       "|---|---|---|---|---|---|\n",
       "| all_metrics       | 0.823239830161548 | 0.828554529157228 | 0.784038158292888 | 0.810498025769748 | 0.774373794305039 |\n",
       "\n"
      ],
      "text/plain": [
       "     Metric      Mean_stability_k_2 Mean_stability_k_3 Mean_stability_k_4\n",
       "[1,] all_metrics 0.823239830161548  0.828554529157228  0.784038158292888 \n",
       "     Mean_stability_k_5 Mean_stability_k_6\n",
       "[1,] 0.810498025769748  0.774373794305039 "
      ]
     },
     "metadata": {},
     "output_type": "display_data"
    }
   ],
   "source": [
    "assay(stabObo)"
   ]
  }
 ],
 "metadata": {
  "kernelspec": {
   "display_name": "R",
   "language": "R",
   "name": "ir"
  },
  "language_info": {
   "codemirror_mode": "r",
   "file_extension": ".r",
   "mimetype": "text/x-r-source",
   "name": "R",
   "pygments_lexer": "r",
   "version": "3.6.1"
  }
 },
 "nbformat": 4,
 "nbformat_minor": 5
}
