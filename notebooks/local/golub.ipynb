{
 "cells": [
  {
   "cell_type": "markdown",
   "id": "285a2f02",
   "metadata": {},
   "source": [
    " # golub dataset"
   ]
  },
  {
   "cell_type": "code",
   "execution_count": null,
   "id": "9ba99e51",
   "metadata": {
    "scrolled": true
   },
   "outputs": [],
   "source": [
    "# install.packages(\"binom\") # Installed from R studio as needs compilation\n",
    "# if (!require(\"BiocManager\", quietly = TRUE))\n",
    "#     install.packages(\"BiocManager\")\n",
    "\n",
    "# BiocManager::install(\"cancerclass\")"
   ]
  },
  {
   "cell_type": "code",
   "execution_count": null,
   "id": "5b925569",
   "metadata": {
    "scrolled": true
   },
   "outputs": [],
   "source": [
    "library(\"binom\") \n",
    "library(\"evaluomeR\")\n",
    "library(\"cancerclass\")\n",
    "library(\"dplyr\")\n",
    "library(\"caret\")\n",
    "\n",
    "options(scipen=10)"
   ]
  },
  {
   "cell_type": "markdown",
   "id": "58895eee",
   "metadata": {},
   "source": [
    "# Table of contents\n",
    "* [Dataset](#dataset)\n",
    "    * [Removing correlated](#correlated)\n",
    "    * [Top 200](#top)\n",
    "    * [evaluomeR](#evaluomer)\n",
    "* [Clest](#clest)\n",
    "* [PCA](#pca)\n",
    "* [Sensitivity](#sensitivity)\n",
    "* [CER](#cer)"
   ]
  },
  {
   "cell_type": "markdown",
   "id": "08d0e886",
   "metadata": {},
   "source": [
    "# Dataset <a class=\"anchor\" id=\"dataset\"></a>"
   ]
  },
  {
   "cell_type": "code",
   "execution_count": null,
   "id": "0a1bb939",
   "metadata": {},
   "outputs": [],
   "source": [
    "load(\"leukemia.RData\")\n",
    "golub = as.data.frame(leukemia)"
   ]
  },
  {
   "cell_type": "code",
   "execution_count": 2,
   "id": "1dbf79ec",
   "metadata": {},
   "outputs": [
    {
     "name": "stderr",
     "output_type": "stream",
     "text": [
      "Loading required package: SummarizedExperiment\n",
      "Loading required package: GenomicRanges\n",
      "Loading required package: stats4\n",
      "Loading required package: S4Vectors\n",
      "\n",
      "Attaching package: 'S4Vectors'\n",
      "\n",
      "The following object is masked from 'package:base':\n",
      "\n",
      "    expand.grid\n",
      "\n",
      "Loading required package: IRanges\n",
      "\n",
      "Attaching package: 'IRanges'\n",
      "\n",
      "The following object is masked from 'package:grDevices':\n",
      "\n",
      "    windows\n",
      "\n",
      "Loading required package: GenomeInfoDb\n",
      "Loading required package: DelayedArray\n",
      "Loading required package: matrixStats\n",
      "\n",
      "Attaching package: 'matrixStats'\n",
      "\n",
      "The following objects are masked from 'package:Biobase':\n",
      "\n",
      "    anyMissing, rowMedians\n",
      "\n",
      "Loading required package: BiocParallel\n",
      "\n",
      "Attaching package: 'DelayedArray'\n",
      "\n",
      "The following objects are masked from 'package:matrixStats':\n",
      "\n",
      "    colMaxs, colMins, colRanges, rowMaxs, rowMins, rowRanges\n",
      "\n",
      "The following objects are masked from 'package:base':\n",
      "\n",
      "    aperm, apply, rowsum\n",
      "\n",
      "Loading required package: MultiAssayExperiment\n",
      "Loading required package: cluster\n",
      "Loading required package: fpc\n",
      "Loading required package: randomForest\n",
      "Warning message:\n",
      "\"package 'randomForest' was built under R version 3.6.3\"randomForest 4.6-14\n",
      "Type rfNews() to see new features/changes/bug fixes.\n",
      "\n",
      "Attaching package: 'randomForest'\n",
      "\n",
      "The following object is masked from 'package:Biobase':\n",
      "\n",
      "    combine\n",
      "\n",
      "The following object is masked from 'package:BiocGenerics':\n",
      "\n",
      "    combine\n",
      "\n",
      "Loading required package: flexmix\n",
      "Loading required package: lattice\n",
      "Loading required package: RSKC\n",
      "Warning message:\n",
      "\"package 'RSKC' was built under R version 3.6.3\"Loading required package: flexclust\n",
      "Loading required package: grid\n",
      "Loading required package: modeltools\n",
      "\n",
      "Attaching package: 'modeltools'\n",
      "\n",
      "The following object is masked from 'package:cancerclass':\n",
      "\n",
      "    fit\n",
      "\n",
      "Loading required package: sparcl\n",
      "\n",
      "Data loaded.\n",
      "Number of rows: 72\n",
      "Number of columns: 101\n",
      "\n",
      "\n",
      "Processing all metrics, 'merge', in dataframe (100)\n",
      "\tCalculation of k = 3\n",
      "\tCalculation of k = 4\n",
      "\tCalculation of k = 5\n",
      "\tCalculation of k = 6\n",
      "\tCalculation of k = 7\n",
      "\tCalculation of k = 8\n",
      "\tCalculation of k = 9\n",
      "\tCalculation of k = 10\n",
      "\n",
      "Data loaded.\n",
      "Number of rows: 72\n",
      "Number of columns: 101\n",
      "\n",
      "\n",
      "Processing all metrics, 'merge', in dataframe (100)\n",
      "\tCalculation of k = 3\n",
      "\tCalculation of k = 4\n",
      "\tCalculation of k = 5\n",
      "\tCalculation of k = 6\n",
      "\tCalculation of k = 7\n",
      "\tCalculation of k = 8\n",
      "\tCalculation of k = 9\n",
      "\tCalculation of k = 10\n",
      "Processing metric: all_metrics\n",
      "\n",
      "\tMaximum stability and quality values matches the same K value: '3'\n",
      "\n"
     ]
    },
    {
     "name": "stdout",
     "output_type": "stream",
     "text": [
      "[1] \"Optimal k: 3\"\n"
     ]
    }
   ],
   "source": [
    "library(\"evaluomeR\") \n",
    "library(\"cancerclass\")\n",
    "\n",
    "load(\"leukemia.RData\")\n",
    "golub = as.data.frame(leukemia)\n",
    "golub[\"Class\"] = NULL\n",
    "golub[\"sample\"] = NULL\n",
    "golub[\"type\"] = NULL\n",
    "golub[\"FAB\"] = NULL\n",
    "golub[\"gender\"] = NULL\n",
    "\n",
    "colnames(golub)[colnames(golub) == 'Case'] <- 'Description'\n",
    "\n",
    "seed = 13606\n",
    "k.range=c(3,10)\n",
    "cbi = \"clara\"\n",
    "stab_range = stabilityRange(data=golub, k.range=k.range, \n",
    "                            bs=100, seed=seed,\n",
    "                            all_metrics=TRUE,\n",
    "                            cbi=cbi)\n",
    "stab = standardizeStabilityData(stab_range)\n",
    "\n",
    "# Qual\n",
    "qual_range = qualityRange(data=golub, k.range=k.range, \n",
    "                            all_metrics=TRUE, seed=seed,\n",
    "                            cbi=cbi)\n",
    "\n",
    "qual = standardizeQualityData(qual_range)\n",
    "# K opt\n",
    "k_opt = getOptimalKValue(stab_range, qual_range, k.range= k.range)\n",
    "optimal_k = k_opt$Global_optimal_k\n",
    "optimal_k_str = paste0(\"k_\", optimal_k)\n",
    "print(paste0(\"Optimal k: \", optimal_k))"
   ]
  },
  {
   "cell_type": "code",
   "execution_count": null,
   "id": "fb1f9054",
   "metadata": {},
   "outputs": [],
   "source": [
    "head(golub)"
   ]
  },
  {
   "cell_type": "code",
   "execution_count": null,
   "id": "e3d9ffb3",
   "metadata": {},
   "outputs": [],
   "source": [
    "unique(golub[\"Class\"])"
   ]
  },
  {
   "cell_type": "code",
   "execution_count": null,
   "id": "bbfc7598",
   "metadata": {},
   "outputs": [],
   "source": [
    "# https://rdrr.io/bioc/cancerclass/man/GOLUB.html"
   ]
  },
  {
   "cell_type": "code",
   "execution_count": null,
   "id": "97b05861",
   "metadata": {},
   "outputs": [],
   "source": [
    "# data(GOLUB1)\n",
    "# golub = as.data.frame(rdata_golub)"
   ]
  },
  {
   "cell_type": "code",
   "execution_count": null,
   "id": "50cb9920",
   "metadata": {},
   "outputs": [],
   "source": [
    "head(golub)\n",
    "print(paste0(\"Rows: \", nrow(golub)))\n",
    "print(paste0(\"Columns: \", ncol(golub)))\n",
    "# En el artículo dice: The data are then summarized by a 72 × 3,571"
   ]
  },
  {
   "cell_type": "code",
   "execution_count": null,
   "id": "ee296298",
   "metadata": {},
   "outputs": [],
   "source": [
    "#golub[\"class\"] = NULL\n",
    "golub[\"Class\"] = NULL # leukemia\n",
    "golub[\"sample\"] = NULL\n",
    "golub[\"type\"] = NULL\n",
    "golub[\"FAB\"] = NULL\n",
    "golub[\"gender\"] = NULL\n",
    "print(paste0(\"Rows: \", nrow(golub)))\n",
    "print(paste0(\"Columns: \", ncol(golub)))\n",
    "#golub[\"labels\"] = rownames(golub)\n",
    "#golub = golub[ , c(\"labels\", names(golub)[names(golub) != \"labels\"])] "
   ]
  },
  {
   "cell_type": "code",
   "execution_count": null,
   "id": "98546ca9",
   "metadata": {},
   "outputs": [],
   "source": [
    "head(golub)"
   ]
  },
  {
   "cell_type": "markdown",
   "id": "639e3439",
   "metadata": {},
   "source": [
    "# Removing correlated <a class=\"anchor\" id=\"correlated\"></a>"
   ]
  },
  {
   "cell_type": "code",
   "execution_count": null,
   "id": "0b871b64",
   "metadata": {},
   "outputs": [],
   "source": [
    "data = golub[-1]\n",
    "R = cor(data)\n",
    "head(R)"
   ]
  },
  {
   "cell_type": "code",
   "execution_count": null,
   "id": "c7c96cda",
   "metadata": {},
   "outputs": [],
   "source": [
    "cor_metrics = findCorrelation(R, cutoff = 1, verbose = FALSE, names=TRUE)\n",
    "length(cor_metrics)"
   ]
  },
  {
   "cell_type": "markdown",
   "id": "4e6e93c0",
   "metadata": {},
   "source": [
    "# Top 200 <a class=\"anchor\" id=\"top\"></a>"
   ]
  },
  {
   "cell_type": "code",
   "execution_count": null,
   "id": "fc27a4a6",
   "metadata": {},
   "outputs": [],
   "source": [
    "variance = sort(sapply(golub[-1], var,na.rm = TRUE), decreasing = TRUE)  # Sorted gene variance\n",
    "gene_var = as.data.frame(variance)\n",
    "gene_var[\"gene\"] = rownames(gene_var)\n",
    "head(gene_var)"
   ]
  },
  {
   "cell_type": "code",
   "execution_count": null,
   "id": "ad5808dc",
   "metadata": {},
   "outputs": [],
   "source": [
    "top_number = 100\n",
    "top_genes = gene_var[c(1:top_number), ]\n",
    "head(top_genes)"
   ]
  },
  {
   "cell_type": "code",
   "execution_count": null,
   "id": "05a6eb6d",
   "metadata": {},
   "outputs": [],
   "source": [
    "gene_list = as.list(top_genes[\"gene\"])"
   ]
  },
  {
   "cell_type": "code",
   "execution_count": null,
   "id": "925e786a",
   "metadata": {},
   "outputs": [],
   "source": [
    "top_gene_list = unlist(setdiff(gene_list, names(golub)))\n",
    "top_gene_list"
   ]
  },
  {
   "cell_type": "code",
   "execution_count": null,
   "id": "b3fd3c62",
   "metadata": {},
   "outputs": [],
   "source": [
    "top_golub = golub[, top_gene_list]\n",
    "top_golub[\"labels\"] = rownames(top_golub)\n",
    "top_golub = top_golub[ , c(\"labels\", names(top_golub)[names(top_golub) != \"labels\"])] "
   ]
  },
  {
   "cell_type": "code",
   "execution_count": null,
   "id": "3ac2a74a",
   "metadata": {},
   "outputs": [],
   "source": [
    "head(top_golub)"
   ]
  },
  {
   "cell_type": "markdown",
   "id": "82a10a31",
   "metadata": {},
   "source": [
    "# evaluomeR K analysis"
   ]
  },
  {
   "cell_type": "code",
   "execution_count": null,
   "id": "3ae91fdf",
   "metadata": {},
   "outputs": [],
   "source": [
    "seed = 13606\n",
    "k.range=c(3,10)\n",
    "cbi = \"clara\"\n",
    "top_golub = golub\n",
    "colnames(top_golub)[colnames(top_golub) == 'Case'] <- 'Description'\n",
    "# Stab\n",
    "stab_range = stabilityRange(data=top_golub, k.range=k.range, \n",
    "                            bs=100, seed=seed,\n",
    "                            all_metrics=TRUE,\n",
    "                            cbi=cbi)\n",
    "stab = standardizeStabilityData(stab_range)\n",
    "\n",
    "# Qual\n",
    "qual_range = qualityRange(data=top_golub, k.range=k.range, \n",
    "                            all_metrics=TRUE, seed=seed,\n",
    "                            cbi=cbi)\n",
    "qual = standardizeQualityData(qual_range)\n",
    "\n",
    "# K opt\n",
    "# K opt\n",
    "k_opt = getOptimalKValue(stab_range, qual_range, k.range= k.range)\n",
    "optimal_k = k_opt$Global_optimal_k\n",
    "optimal_k_str = paste0(\"k_\", optimal_k)\n",
    "print(paste0(\"Optimal k: \", optimal_k))"
   ]
  },
  {
   "cell_type": "code",
   "execution_count": null,
   "id": "ec99c5e5",
   "metadata": {},
   "outputs": [],
   "source": [
    "print(paste0(\"W/ \", cbi))\n",
    "stab\n",
    "qual\n",
    "print(paste0(\"Stab in k=\", optimal_k,\": \", stab[optimal_k_str]))\n",
    "print(paste0(\"Qual in k=\", optimal_k,\": \", qual[optimal_k_str]))"
   ]
  },
  {
   "cell_type": "markdown",
   "id": "e1dd0c73",
   "metadata": {},
   "source": [
    "# Clusters"
   ]
  },
  {
   "cell_type": "code",
   "execution_count": null,
   "id": "afc1d7d4",
   "metadata": {},
   "outputs": [],
   "source": [
    "individuals_per_cluster = function(qualityResult) {\n",
    "  qual_df = as.data.frame(assay(qualityResult))\n",
    "\n",
    "\n",
    "  cluster_pos_str = as.character(unlist(qual_df[\"Cluster_position\"]))\n",
    "  cluster_labels_str = as.character(unlist(qual_df[\"Cluster_labels\"]))\n",
    "\n",
    "  cluster_pos = as.list(strsplit(cluster_pos_str, \",\")[[1]])\n",
    "  cluster_labels = as.list(strsplit(cluster_labels_str, \",\")[[1]])\n",
    "\n",
    "  individuals_in_cluster = as.data.frame(cbind(cluster_labels, cluster_pos))\n",
    "  colnames(individuals_in_cluster) = c(\"Individual\", \"InCluster\")\n",
    "\n",
    "  return(individuals_in_cluster)\n",
    "}"
   ]
  },
  {
   "cell_type": "code",
   "execution_count": null,
   "id": "fd0297d5",
   "metadata": {},
   "outputs": [],
   "source": [
    "qual_cbi = qualityRange(data=top_golub, k.range=k.range, \n",
    "                            all_metrics=TRUE, seed=seed,\n",
    "                            cbi=cbi)\n",
    "cluster_individuals = individuals_per_cluster(assay(qual_cbi[optimal_k_str]))\n",
    "print(paste0(\"CBI: \", cbi, \" - k: \", optimal_k))\n",
    "standardizeQualityData(qual_cbi)\n",
    "for (cluster_i in 1:optimal_k) {\n",
    "    ind_in_cluster = paste(unlist(cluster_individuals[cluster_individuals$InCluster == cluster_i, ][\"Individual\"]), collapse = \",\")\n",
    "    print(paste(\"Cluster\", cluster_i, \":\", ind_in_cluster))\n",
    "    print(\"---\")\n",
    "}"
   ]
  },
  {
   "cell_type": "markdown",
   "id": "904be851",
   "metadata": {},
   "source": [
    "# Clest <a class=\"anchor\" id=\"clest\"></a>"
   ]
  },
  {
   "cell_type": "code",
   "execution_count": null,
   "id": "33107b5b",
   "metadata": {
    "scrolled": true
   },
   "outputs": [],
   "source": [
    "#top_golub_copy = top_golub\n",
    "#top_golub[-1]"
   ]
  },
  {
   "cell_type": "code",
   "execution_count": null,
   "id": "33b5c2f0",
   "metadata": {},
   "outputs": [],
   "source": [
    "# -- Clest\n",
    "#golub_clest = Clest(as.matrix(top_golub_copy[-1]), maxK = 6, alpha=0, B=3, B0=10, beta = 0.01, nstart=100,pca=FALSE,L1=3,silent=TRUE);"
   ]
  },
  {
   "cell_type": "code",
   "execution_count": null,
   "id": "e3aa5566",
   "metadata": {},
   "outputs": [],
   "source": [
    "#names(golub_clest)\n",
    "#golub_clest$observedCERs\n",
    "#golub_clest$K"
   ]
  },
  {
   "cell_type": "code",
   "execution_count": null,
   "id": "4838e7f1",
   "metadata": {},
   "outputs": [],
   "source": [
    "#?Clest"
   ]
  },
  {
   "cell_type": "markdown",
   "id": "884dc7ff",
   "metadata": {},
   "source": [
    "# PCA <a class=\"anchor\" id=\"pca\"></a>"
   ]
  },
  {
   "cell_type": "code",
   "execution_count": null,
   "id": "e5482b73",
   "metadata": {},
   "outputs": [],
   "source": [
    "#PCA\n",
    "print(length(cluster_individuals$InCluster))\n",
    "print(nrow(top_golub))\n",
    "top_golub[\"inCluster\"] = as.numeric(cluster_individuals$InCluster)\n",
    "unique(cluster_individuals$InCluster)"
   ]
  },
  {
   "cell_type": "code",
   "execution_count": null,
   "id": "d23dbe21",
   "metadata": {},
   "outputs": [],
   "source": [
    "pca_matrix = top_golub %>% select(-Description, -inCluster)\n",
    "head(pca_matrix)"
   ]
  },
  {
   "cell_type": "code",
   "execution_count": null,
   "id": "1dd385ff",
   "metadata": {},
   "outputs": [],
   "source": [
    "pca_result <- prcomp(pca_matrix, scale. = TRUE)"
   ]
  },
  {
   "cell_type": "code",
   "execution_count": null,
   "id": "1534bc2e",
   "metadata": {},
   "outputs": [],
   "source": [
    "pca_df <- data.frame(pca_result$x)\n",
    "pca_df$Cluster <- as.factor(top_golub$inCluster)\n",
    "pca_df$Individual <- top_golub$Description\n",
    "\n",
    "# Plot PCA results\n",
    "\n",
    "ggplot2::ggplot(pca_df, ggplot2::aes(x = PC1, y = PC2, color = Cluster, label = Individual)) +\n",
    "  ggplot2::geom_point(size = 3) +\n",
    "  ggplot2::geom_text(vjust = 1, hjust = 1) +\n",
    "  ggplot2::labs(title = \"PCA of Features\",\n",
    "       x = \"Principal Component 1\",\n",
    "       y = \"Principal Component 2\") +\n",
    "  ggplot2::theme_minimal()"
   ]
  },
  {
   "cell_type": "markdown",
   "id": "b7fd561d",
   "metadata": {},
   "source": [
    "# Sensitivity <a class=\"anchor\" id=\"sensitivity\"></a>"
   ]
  },
  {
   "cell_type": "code",
   "execution_count": null,
   "id": "b7ec4e1e",
   "metadata": {},
   "outputs": [],
   "source": [
    "library(\"MLmetrics\")"
   ]
  },
  {
   "cell_type": "code",
   "execution_count": null,
   "id": "328d1516",
   "metadata": {},
   "outputs": [],
   "source": [
    "top_golub[\"Class\"] = as.data.frame(leukemia)[\"Class\"]\n",
    "head(top_golub)[, c(\"Description\", \"Class\")]"
   ]
  },
  {
   "cell_type": "code",
   "execution_count": null,
   "id": "1642b419",
   "metadata": {},
   "outputs": [],
   "source": [
    "# Define levels and their corresponding numbers\n",
    "# Order is important\n",
    "# kmeans k = 4\n",
    "#level_mapping <- c(\"M\" = 1, \"T\" = 2, \"MM\" = 3, \"B\" = 4)\n",
    "# clara k = 3\n",
    "level_mapping <- c(\"B\" = 1, \"T\" = 2, \"M\" = 3)\n"
   ]
  },
  {
   "cell_type": "code",
   "execution_count": null,
   "id": "6ca1a97f",
   "metadata": {},
   "outputs": [],
   "source": [
    "map_strings_to_numbers <- function(strings) {\n",
    "  factorized <- factor(strings, levels = names(level_mapping))\n",
    "  as.numeric(factorized)\n",
    "}\n",
    "top_golub[\"Class_n\"] = lapply(top_golub[\"Class\"], map_strings_to_numbers)\n",
    "top_golub[, c(\"Description\", \"Class\", \"Class_n\")]"
   ]
  },
  {
   "cell_type": "code",
   "execution_count": null,
   "id": "ec847c32",
   "metadata": {
    "scrolled": true
   },
   "outputs": [],
   "source": [
    "# Getting a vector of clusters\n",
    "actual = as.factor(as.vector(unlist(top_golub[\"Class_n\"])))\n",
    "predicted <- factor(as.vector(unlist(top_golub[\"inCluster\"])))\n",
    "\n",
    "print(\"actual\")\n",
    "actual\n",
    "print(\"predicted\")\n",
    "predicted"
   ]
  },
  {
   "cell_type": "code",
   "execution_count": null,
   "id": "0ecd0c82",
   "metadata": {},
   "outputs": [],
   "source": [
    "sens <- Sensitivity(y_pred = predicted, y_true = actual)\n",
    "sens = format(round(sens*100, 2), nsmall = 2)\n",
    "print(paste0(\"Sensitivity: \", sens, \"%\"))"
   ]
  },
  {
   "cell_type": "markdown",
   "id": "69f1248e",
   "metadata": {},
   "source": [
    "# CER <a class=\"anchor\" id=\"cer\"></a>"
   ]
  },
  {
   "cell_type": "code",
   "execution_count": null,
   "id": "fc3052a4",
   "metadata": {},
   "outputs": [],
   "source": [
    "cer <- CER(predicted, actual)\n",
    "cer = format(round(cer*100, 2), nsmall = 2)\n",
    "print(paste0(\"CER: \", cer, \"%\"))"
   ]
  }
 ],
 "metadata": {
  "kernelspec": {
   "display_name": "R",
   "language": "R",
   "name": "ir"
  },
  "language_info": {
   "codemirror_mode": "r",
   "file_extension": ".r",
   "mimetype": "text/x-r-source",
   "name": "R",
   "pygments_lexer": "r",
   "version": "3.6.1"
  }
 },
 "nbformat": 4,
 "nbformat_minor": 5
}
