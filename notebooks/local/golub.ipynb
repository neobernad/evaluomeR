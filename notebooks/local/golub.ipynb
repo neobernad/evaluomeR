{
 "cells": [
  {
   "cell_type": "markdown",
   "id": "285a2f02",
   "metadata": {},
   "source": [
    "# golub dataset"
   ]
  },
  {
   "cell_type": "code",
   "execution_count": null,
   "id": "9ba99e51",
   "metadata": {
    "scrolled": true
   },
   "outputs": [],
   "source": [
    "# install.packages(\"binom\") # Installed from R studio as needs compilation\n",
    "# if (!require(\"BiocManager\", quietly = TRUE))\n",
    "#     install.packages(\"BiocManager\")\n",
    "\n",
    "# BiocManager::install(\"cancerclass\")"
   ]
  },
  {
   "cell_type": "code",
   "execution_count": 1,
   "id": "5b925569",
   "metadata": {
    "scrolled": true
   },
   "outputs": [
    {
     "name": "stderr",
     "output_type": "stream",
     "text": [
      "Loading required package: SummarizedExperiment\n",
      "Loading required package: GenomicRanges\n",
      "Loading required package: stats4\n",
      "Loading required package: BiocGenerics\n",
      "Loading required package: parallel\n",
      "\n",
      "Attaching package: 'BiocGenerics'\n",
      "\n",
      "The following objects are masked from 'package:parallel':\n",
      "\n",
      "    clusterApply, clusterApplyLB, clusterCall, clusterEvalQ,\n",
      "    clusterExport, clusterMap, parApply, parCapply, parLapply,\n",
      "    parLapplyLB, parRapply, parSapply, parSapplyLB\n",
      "\n",
      "The following objects are masked from 'package:stats':\n",
      "\n",
      "    IQR, mad, sd, var, xtabs\n",
      "\n",
      "The following objects are masked from 'package:base':\n",
      "\n",
      "    anyDuplicated, append, as.data.frame, basename, cbind, colnames,\n",
      "    dirname, do.call, duplicated, eval, evalq, Filter, Find, get, grep,\n",
      "    grepl, intersect, is.unsorted, lapply, Map, mapply, match, mget,\n",
      "    order, paste, pmax, pmax.int, pmin, pmin.int, Position, rank,\n",
      "    rbind, Reduce, rownames, sapply, setdiff, sort, table, tapply,\n",
      "    union, unique, unsplit, which, which.max, which.min\n",
      "\n",
      "Loading required package: S4Vectors\n",
      "\n",
      "Attaching package: 'S4Vectors'\n",
      "\n",
      "The following object is masked from 'package:base':\n",
      "\n",
      "    expand.grid\n",
      "\n",
      "Loading required package: IRanges\n",
      "\n",
      "Attaching package: 'IRanges'\n",
      "\n",
      "The following object is masked from 'package:grDevices':\n",
      "\n",
      "    windows\n",
      "\n",
      "Loading required package: GenomeInfoDb\n",
      "Loading required package: Biobase\n",
      "Welcome to Bioconductor\n",
      "\n",
      "    Vignettes contain introductory material; view with\n",
      "    'browseVignettes()'. To cite Bioconductor, see\n",
      "    'citation(\"Biobase\")', and for packages 'citation(\"pkgname\")'.\n",
      "\n",
      "Loading required package: DelayedArray\n",
      "Loading required package: matrixStats\n",
      "\n",
      "Attaching package: 'matrixStats'\n",
      "\n",
      "The following objects are masked from 'package:Biobase':\n",
      "\n",
      "    anyMissing, rowMedians\n",
      "\n",
      "Loading required package: BiocParallel\n",
      "\n",
      "Attaching package: 'DelayedArray'\n",
      "\n",
      "The following objects are masked from 'package:matrixStats':\n",
      "\n",
      "    colMaxs, colMins, colRanges, rowMaxs, rowMins, rowRanges\n",
      "\n",
      "The following objects are masked from 'package:base':\n",
      "\n",
      "    aperm, apply, rowsum\n",
      "\n",
      "Loading required package: MultiAssayExperiment\n",
      "Loading required package: cluster\n",
      "Loading required package: fpc\n",
      "Loading required package: randomForest\n",
      "Warning message:\n",
      "\"package 'randomForest' was built under R version 3.6.3\"randomForest 4.6-14\n",
      "Type rfNews() to see new features/changes/bug fixes.\n",
      "\n",
      "Attaching package: 'randomForest'\n",
      "\n",
      "The following object is masked from 'package:Biobase':\n",
      "\n",
      "    combine\n",
      "\n",
      "The following object is masked from 'package:BiocGenerics':\n",
      "\n",
      "    combine\n",
      "\n",
      "Loading required package: flexmix\n",
      "Loading required package: lattice\n",
      "Loading required package: RSKC\n",
      "Warning message:\n",
      "\"package 'RSKC' was built under R version 3.6.3\"Loading required package: flexclust\n",
      "Loading required package: grid\n",
      "Loading required package: modeltools\n",
      "Loading required package: sparcl\n",
      "\n",
      "Attaching package: 'cancerclass'\n",
      "\n",
      "The following objects are masked from 'package:flexclust':\n",
      "\n",
      "    plot, predict, summary\n",
      "\n",
      "The following object is masked from 'package:modeltools':\n",
      "\n",
      "    fit\n",
      "\n",
      "The following objects are masked from 'package:flexmix':\n",
      "\n",
      "    plot, predict, summary\n",
      "\n",
      "The following object is masked from 'package:DelayedArray':\n",
      "\n",
      "    summary\n",
      "\n",
      "The following object is masked from 'package:GenomicRanges':\n",
      "\n",
      "    summary\n",
      "\n",
      "The following object is masked from 'package:GenomeInfoDb':\n",
      "\n",
      "    summary\n",
      "\n",
      "The following object is masked from 'package:IRanges':\n",
      "\n",
      "    summary\n",
      "\n",
      "The following object is masked from 'package:S4Vectors':\n",
      "\n",
      "    summary\n",
      "\n",
      "The following objects are masked from 'package:stats4':\n",
      "\n",
      "    plot, summary\n",
      "\n",
      "The following objects are masked from 'package:stats':\n",
      "\n",
      "    filter, predict\n",
      "\n",
      "The following object is masked from 'package:graphics':\n",
      "\n",
      "    plot\n",
      "\n",
      "The following object is masked from 'package:base':\n",
      "\n",
      "    summary\n",
      "\n",
      "\n",
      "Attaching package: 'dplyr'\n",
      "\n",
      "The following object is masked from 'package:cancerclass':\n",
      "\n",
      "    filter\n",
      "\n",
      "The following object is masked from 'package:randomForest':\n",
      "\n",
      "    combine\n",
      "\n",
      "The following object is masked from 'package:matrixStats':\n",
      "\n",
      "    count\n",
      "\n",
      "The following object is masked from 'package:Biobase':\n",
      "\n",
      "    combine\n",
      "\n",
      "The following objects are masked from 'package:GenomicRanges':\n",
      "\n",
      "    intersect, setdiff, union\n",
      "\n",
      "The following object is masked from 'package:GenomeInfoDb':\n",
      "\n",
      "    intersect\n",
      "\n",
      "The following objects are masked from 'package:IRanges':\n",
      "\n",
      "    collapse, desc, intersect, setdiff, slice, union\n",
      "\n",
      "The following objects are masked from 'package:S4Vectors':\n",
      "\n",
      "    first, intersect, rename, setdiff, setequal, union\n",
      "\n",
      "The following objects are masked from 'package:BiocGenerics':\n",
      "\n",
      "    combine, intersect, setdiff, union\n",
      "\n",
      "The following objects are masked from 'package:stats':\n",
      "\n",
      "    filter, lag\n",
      "\n",
      "The following objects are masked from 'package:base':\n",
      "\n",
      "    intersect, setdiff, setequal, union\n",
      "\n"
     ]
    }
   ],
   "source": [
    "library(\"binom\") \n",
    "library(\"evaluomeR\")\n",
    "library(\"cancerclass\")\n",
    "library(\"dplyr\")\n",
    "\n",
    "options(scipen=10)"
   ]
  },
  {
   "cell_type": "code",
   "execution_count": null,
   "id": "bbfc7598",
   "metadata": {},
   "outputs": [],
   "source": [
    "# https://rdrr.io/bioc/cancerclass/man/GOLUB.html"
   ]
  },
  {
   "cell_type": "code",
   "execution_count": 2,
   "id": "97b05861",
   "metadata": {},
   "outputs": [],
   "source": [
    "data(GOLUB1)\n",
    "golub = as.data.frame(GOLUB1)"
   ]
  },
  {
   "cell_type": "code",
   "execution_count": 3,
   "id": "50cb9920",
   "metadata": {},
   "outputs": [
    {
     "data": {
      "text/html": [
       "<table>\n",
       "<thead><tr><th></th><th scope=col>AFFX.BioDn.3_at</th><th scope=col>AFFX.BioB.5_st</th><th scope=col>AFFX.HUMISGF3A.M97935_MA_at</th><th scope=col>AFFX.HUMISGF3A.M97935_MB_at</th><th scope=col>AFFX.HUMISGF3A.M97935_3_at</th><th scope=col>AFFX.HUMRGE.M10098_5_at</th><th scope=col>AFFX.HUMRGE.M10098_M_at</th><th scope=col>AFFX.HUMRGE.M10098_3_at</th><th scope=col>AFFX.HUMGAPDH.M33197_5_at</th><th scope=col>AFFX.HUMGAPDH.M33197_M_at</th><th scope=col>...</th><th scope=col>U58516_at</th><th scope=col>X06956_at</th><th scope=col>X83863_at</th><th scope=col>Z17240_at</th><th scope=col>M71243_f_at</th><th scope=col>class</th><th scope=col>sample</th><th scope=col>type</th><th scope=col>FAB</th><th scope=col>gender</th></tr></thead>\n",
       "<tbody>\n",
       "\t<tr><th scope=row>X1</th><td> 199  </td><td> 206  </td><td> -13  </td><td>215   </td><td> 797  </td><td>14538 </td><td>9738  </td><td>8529  </td><td>15076 </td><td>11126 </td><td>...   </td><td> 511  </td><td>389   </td><td> 793  </td><td>329   </td><td>191   </td><td>ALL   </td><td>BM    </td><td>B-cell</td><td>      </td><td>M     </td></tr>\n",
       "\t<tr><th scope=row>X2</th><td>-330  </td><td>  74  </td><td>-219  </td><td>116   </td><td> 433  </td><td>  615 </td><td> 115  </td><td>1518  </td><td>19448 </td><td>13568 </td><td>...   </td><td> 837  </td><td>442   </td><td> 782  </td><td>295   </td><td> 76   </td><td>ALL   </td><td>BM    </td><td>T-cell</td><td>      </td><td>M     </td></tr>\n",
       "\t<tr><th scope=row>X3</th><td>  33  </td><td>-215  </td><td> 104  </td><td>476   </td><td>1474  </td><td> 5669 </td><td>3272  </td><td>3668  </td><td>27410 </td><td>16756 </td><td>...   </td><td>1199  </td><td>168   </td><td>1138  </td><td>777   </td><td>228   </td><td>ALL   </td><td>BM    </td><td>T-cell</td><td>      </td><td>M     </td></tr>\n",
       "\t<tr><th scope=row>X4</th><td> 158  </td><td>  31  </td><td>-148  </td><td>155   </td><td> 415  </td><td> 4850 </td><td>2293  </td><td>2569  </td><td>14920 </td><td>11439 </td><td>...   </td><td> 835  </td><td>174   </td><td> 627  </td><td>170   </td><td>126   </td><td>ALL   </td><td>BM    </td><td>B-cell</td><td>      </td><td>      </td></tr>\n",
       "\t<tr><th scope=row>X5</th><td>   4  </td><td> 252  </td><td> -55  </td><td>122   </td><td> 483  </td><td> 1284 </td><td>2731  </td><td> 316  </td><td>14653 </td><td>15030 </td><td>...   </td><td> 649  </td><td>504   </td><td> 250  </td><td>314   </td><td> 56   </td><td>ALL   </td><td>BM    </td><td>B-cell</td><td>      </td><td>      </td></tr>\n",
       "\t<tr><th scope=row>X6</th><td>  67  </td><td> 193  </td><td>-327  </td><td>176   </td><td> 412  </td><td> 4148 </td><td>2743  </td><td>2404  </td><td>25771 </td><td>24420 </td><td>...   </td><td>1221  </td><td>172   </td><td> 645  </td><td>341   </td><td>193   </td><td>ALL   </td><td>BM    </td><td>T-cell</td><td>      </td><td>M     </td></tr>\n",
       "</tbody>\n",
       "</table>\n"
      ],
      "text/latex": [
       "\\begin{tabular}{r|llllllllllllllllllllllllllllllllllllllllllllllllllllllllllllllllllllllllllllllllllllllllllllllllllllllllllllllllllllllllllllllllllllllllllllllllllllllllllllllllllllllllllllllllllllllllllllllllllllllllllllllllllllllllllllllllllllllllllllllllllllllllllllllllllllllllllllllllllllllllllllllllllllllllllllllllllllllllllllllllllllllllllllllllllllllllllllllllllllllllllllllllllllllllllllllllllllllllllllllllllllllllllllllllllllllllllllllllllllllllllllllllllllllllllllllllllllllllllllllllllllllllllllllllllllllllllllllllllllllllllllllllllllllllllllllllllllllllllllllllllllllllllllllllllllllllllllllllllllllllllllllllllllllllllllllllllllllllllllllllllllllllllllllllllllllllllllllllllllllllllllllllllllllllllllllllllllllllllllllllllllllllllllllllllllllllllllllllllllllllllllllllllllllllllllllllllllllllllllllllllllllllllllllllllllllllllllllllllllllllllllllllllllllllllllllllllllllllllllllllllllllllllllllllllllllllllllllllllllllllllllllllllllllllllllllllllllllllllllllllllllllllllllllllllllllllllllllllllllllllllllllllllllllllllllllllllllllllllllllllllllllllllllllllllllllllllllllllllllllllllllllllllllllllllllllllllllllllllllllllllllllllllllllllllllllllllllllllllllllllllllllllllllllllllllllllllllllllllllllllllllllllllllllllllllllllllllllllllllllllllllllllllllllllllllllllllllllllllllllllllllllllllllllllllllllllllllllllllllllllllllllllllllllllllllllllllllllllllllllllllllllllllllllllllllllllllllllllllllllllllllllllllllllllllllllllllllllllllllllllllllllllllllllllllllllllllllllllllllllllllllllllllllllllllllllllllllllllllllllllllllllllllllllllllllllllllllllllllllllllllllllllllllllllllllllllllllllllllllllllllllllllllllllllllllllllllllllllllllllllllllllllllllllllllllllllllllllllllllllllllllllllllllllllllllllllllllllllllllllllllllllllllllllllllllllllllllllllllllllllllllllllllllllllllllllllllllllllllllllllllllllllllllllllllllllllllllllllllllllllllllllllllllllllllllllllllllllllllllllllllllllllllllllllllllllllllllllllllllllllllllllllllllllllllllllllllllllllllllllllllllllllllllllllllllllllllllllllllllllllllllllllllllllllllllllllllllllllllllllllllllllllllllllllllllllllllllllllllllllllllllllllllllllllllllllllllllllllllllllllllllllllllllllllllllllllllllllllllllllllllllllllllllllllllllllllllllllllllllllllllllllllllllllllllllllllllllllllllllllllllllllllllllllllllllllllllllllllllllllllllllllllllllllllllllllllllllllllllllllllllllllllllllllllllllllllllllllllllllllllllllllllllllllllllllllllllllllllllllllllllllllllllllllllllllllllllllllllllllllllllllllllllllllllllllllllllllllllllllllllllllllllllllllllllllllllllllllllllllllllllllllllllllllllllllllllllllllllllllllllllllllllllllllllllllllllllllllllllllllllllllllllllllllllllllllllllllllllllllllllllllllllllllllllllllllllllllllllllllllllllllllllllllllllllllllllllllllllllllllllllllllllllllllllllllllllllllllllllllllllllllllllllllllllllllllllllllllllllllllllllllllllllllllllllllllllllllllllllllllllllllllllllllllllllllllllllllllllllllllllllllllllllllllllllllllllllllllllllllllllllllllllllllllllllllllllllllllllllllllllllllllllllllllllllllllllllllllllllllllllllllllllllllllllllllllllllllllllllllllllllllllllllllllllllllllllllllllllllllllllllllllllllllllllllllllllllllllllllllllllllllllllllllllllllllllllllllllllllllllllllllllllllllllllllllllllllllllllllllllllllllllllllllllllllllllllllllllllllllllllllllllllllllllllllllllllllllllllllllllllllllllllllllllllllllllllllllllllllllllllllllllllllllllllllllllllllllllllllllllllllllllllllllllllllllllllllllllllllllllllllllllllllllllllllllllllllllllllllllllllllllllllllllllllllllllllllllllllllllllllllllllllllllllllllllllllllllllllllllllllllllllllllllllllllllllllllllllllllllllllllllllllllllllll}\n",
       "  & AFFX.BioDn.3\\_at & AFFX.BioB.5\\_st & AFFX.HUMISGF3A.M97935\\_MA\\_at & AFFX.HUMISGF3A.M97935\\_MB\\_at & AFFX.HUMISGF3A.M97935\\_3\\_at & AFFX.HUMRGE.M10098\\_5\\_at & AFFX.HUMRGE.M10098\\_M\\_at & AFFX.HUMRGE.M10098\\_3\\_at & AFFX.HUMGAPDH.M33197\\_5\\_at & AFFX.HUMGAPDH.M33197\\_M\\_at & ... & U58516\\_at & X06956\\_at & X83863\\_at & Z17240\\_at & M71243\\_f\\_at & class & sample & type & FAB & gender\\\\\n",
       "\\hline\n",
       "\tX1 &  199   &  206   &  -13   & 215    &  797   & 14538  & 9738   & 8529   & 15076  & 11126  & ...    &  511   & 389    &  793   & 329    & 191    & ALL    & BM     & B-cell &        & M     \\\\\n",
       "\tX2 & -330   &   74   & -219   & 116    &  433   &   615  &  115   & 1518   & 19448  & 13568  & ...    &  837   & 442    &  782   & 295    &  76    & ALL    & BM     & T-cell &        & M     \\\\\n",
       "\tX3 &   33   & -215   &  104   & 476    & 1474   &  5669  & 3272   & 3668   & 27410  & 16756  & ...    & 1199   & 168    & 1138   & 777    & 228    & ALL    & BM     & T-cell &        & M     \\\\\n",
       "\tX4 &  158   &   31   & -148   & 155    &  415   &  4850  & 2293   & 2569   & 14920  & 11439  & ...    &  835   & 174    &  627   & 170    & 126    & ALL    & BM     & B-cell &        &       \\\\\n",
       "\tX5 &    4   &  252   &  -55   & 122    &  483   &  1284  & 2731   &  316   & 14653  & 15030  & ...    &  649   & 504    &  250   & 314    &  56    & ALL    & BM     & B-cell &        &       \\\\\n",
       "\tX6 &   67   &  193   & -327   & 176    &  412   &  4148  & 2743   & 2404   & 25771  & 24420  & ...    & 1221   & 172    &  645   & 341    & 193    & ALL    & BM     & T-cell &        & M     \\\\\n",
       "\\end{tabular}\n"
      ],
      "text/markdown": [
       "\n",
       "| <!--/--> | AFFX.BioDn.3_at | AFFX.BioB.5_st | AFFX.HUMISGF3A.M97935_MA_at | AFFX.HUMISGF3A.M97935_MB_at | AFFX.HUMISGF3A.M97935_3_at | AFFX.HUMRGE.M10098_5_at | AFFX.HUMRGE.M10098_M_at | AFFX.HUMRGE.M10098_3_at | AFFX.HUMGAPDH.M33197_5_at | AFFX.HUMGAPDH.M33197_M_at | ... | U58516_at | X06956_at | X83863_at | Z17240_at | M71243_f_at | class | sample | type | FAB | gender |\n",
       "|---|---|---|---|---|---|---|---|---|---|---|---|---|---|---|---|---|---|---|---|---|---|\n",
       "| X1 |  199   |  206   |  -13   | 215    |  797   | 14538  | 9738   | 8529   | 15076  | 11126  | ...    |  511   | 389    |  793   | 329    | 191    | ALL    | BM     | B-cell |        | M      |\n",
       "| X2 | -330   |   74   | -219   | 116    |  433   |   615  |  115   | 1518   | 19448  | 13568  | ...    |  837   | 442    |  782   | 295    |  76    | ALL    | BM     | T-cell |        | M      |\n",
       "| X3 |   33   | -215   |  104   | 476    | 1474   |  5669  | 3272   | 3668   | 27410  | 16756  | ...    | 1199   | 168    | 1138   | 777    | 228    | ALL    | BM     | T-cell |        | M      |\n",
       "| X4 |  158   |   31   | -148   | 155    |  415   |  4850  | 2293   | 2569   | 14920  | 11439  | ...    |  835   | 174    |  627   | 170    | 126    | ALL    | BM     | B-cell |        |        |\n",
       "| X5 |    4   |  252   |  -55   | 122    |  483   |  1284  | 2731   |  316   | 14653  | 15030  | ...    |  649   | 504    |  250   | 314    |  56    | ALL    | BM     | B-cell |        |        |\n",
       "| X6 |   67   |  193   | -327   | 176    |  412   |  4148  | 2743   | 2404   | 25771  | 24420  | ...    | 1221   | 172    |  645   | 341    | 193    | ALL    | BM     | T-cell |        | M      |\n",
       "\n"
      ],
      "text/plain": [
       "   AFFX.BioDn.3_at AFFX.BioB.5_st AFFX.HUMISGF3A.M97935_MA_at\n",
       "X1  199             206            -13                       \n",
       "X2 -330              74           -219                       \n",
       "X3   33            -215            104                       \n",
       "X4  158              31           -148                       \n",
       "X5    4             252            -55                       \n",
       "X6   67             193           -327                       \n",
       "   AFFX.HUMISGF3A.M97935_MB_at AFFX.HUMISGF3A.M97935_3_at\n",
       "X1 215                          797                      \n",
       "X2 116                          433                      \n",
       "X3 476                         1474                      \n",
       "X4 155                          415                      \n",
       "X5 122                          483                      \n",
       "X6 176                          412                      \n",
       "   AFFX.HUMRGE.M10098_5_at AFFX.HUMRGE.M10098_M_at AFFX.HUMRGE.M10098_3_at\n",
       "X1 14538                   9738                    8529                   \n",
       "X2   615                    115                    1518                   \n",
       "X3  5669                   3272                    3668                   \n",
       "X4  4850                   2293                    2569                   \n",
       "X5  1284                   2731                     316                   \n",
       "X6  4148                   2743                    2404                   \n",
       "   AFFX.HUMGAPDH.M33197_5_at AFFX.HUMGAPDH.M33197_M_at ... U58516_at X06956_at\n",
       "X1 15076                     11126                     ...  511      389      \n",
       "X2 19448                     13568                     ...  837      442      \n",
       "X3 27410                     16756                     ... 1199      168      \n",
       "X4 14920                     11439                     ...  835      174      \n",
       "X5 14653                     15030                     ...  649      504      \n",
       "X6 25771                     24420                     ... 1221      172      \n",
       "   X83863_at Z17240_at M71243_f_at class sample type   FAB gender\n",
       "X1  793      329       191         ALL   BM     B-cell     M     \n",
       "X2  782      295        76         ALL   BM     T-cell     M     \n",
       "X3 1138      777       228         ALL   BM     T-cell     M     \n",
       "X4  627      170       126         ALL   BM     B-cell           \n",
       "X5  250      314        56         ALL   BM     B-cell           \n",
       "X6  645      341       193         ALL   BM     T-cell     M     "
      ]
     },
     "metadata": {},
     "output_type": "display_data"
    },
    {
     "name": "stdout",
     "output_type": "stream",
     "text": [
      "[1] \"Rows: 72\"\n",
      "[1] \"Columns: 3576\"\n"
     ]
    }
   ],
   "source": [
    "head(golub)\n",
    "print(paste0(\"Rows: \", nrow(golub)))\n",
    "print(paste0(\"Columns: \", ncol(golub)))\n",
    "# En el artículo dice: The data are then summarized by a 72 × 3,571"
   ]
  },
  {
   "cell_type": "code",
   "execution_count": 10,
   "id": "ee296298",
   "metadata": {},
   "outputs": [
    {
     "name": "stdout",
     "output_type": "stream",
     "text": [
      "[1] \"Rows: 72\"\n",
      "[1] \"Columns: 3572\"\n"
     ]
    }
   ],
   "source": [
    "golub[\"class\"] = NULL\n",
    "golub[\"sample\"] = NULL\n",
    "golub[\"type\"] = NULL\n",
    "golub[\"FAB\"] = NULL\n",
    "golub[\"gender\"] = NULL\n",
    "print(paste0(\"Rows: \", nrow(golub)))\n",
    "print(paste0(\"Columns: \", ncol(golub)))\n",
    "golub[\"labels\"] = rownames(golub)\n",
    "golub = golub[ , c(\"labels\", names(golub)[names(golub) != \"labels\"])] "
   ]
  },
  {
   "cell_type": "code",
   "execution_count": 11,
   "id": "bebe41ba",
   "metadata": {},
   "outputs": [
    {
     "data": {
      "text/html": [
       "<table>\n",
       "<thead><tr><th></th><th scope=col>labels</th><th scope=col>AFFX.BioDn.3_at</th><th scope=col>AFFX.BioB.5_st</th><th scope=col>AFFX.HUMISGF3A.M97935_MA_at</th><th scope=col>AFFX.HUMISGF3A.M97935_MB_at</th><th scope=col>AFFX.HUMISGF3A.M97935_3_at</th><th scope=col>AFFX.HUMRGE.M10098_5_at</th><th scope=col>AFFX.HUMRGE.M10098_M_at</th><th scope=col>AFFX.HUMRGE.M10098_3_at</th><th scope=col>AFFX.HUMGAPDH.M33197_5_at</th><th scope=col>...</th><th scope=col>U88902_cds1_f_at</th><th scope=col>D64015_at</th><th scope=col>L78833_cds4_at</th><th scope=col>M93143_at</th><th scope=col>U29175_at</th><th scope=col>U58516_at</th><th scope=col>X06956_at</th><th scope=col>X83863_at</th><th scope=col>Z17240_at</th><th scope=col>M71243_f_at</th></tr></thead>\n",
       "<tbody>\n",
       "\t<tr><th scope=row>X1</th><td>X1   </td><td> 199 </td><td> 206 </td><td> -13 </td><td>215  </td><td> 797 </td><td>14538</td><td>9738 </td><td>8529 </td><td>15076</td><td>...  </td><td>346  </td><td>229  </td><td>349  </td><td>384  </td><td>1582 </td><td> 511 </td><td>389  </td><td> 793 </td><td>329  </td><td>191  </td></tr>\n",
       "\t<tr><th scope=row>X2</th><td>X2   </td><td>-330 </td><td>  74 </td><td>-219 </td><td>116  </td><td> 433 </td><td>  615</td><td> 115 </td><td>1518 </td><td>19448</td><td>...  </td><td>290  </td><td>194  </td><td>214  </td><td>231  </td><td> 624 </td><td> 837 </td><td>442  </td><td> 782 </td><td>295  </td><td> 76  </td></tr>\n",
       "\t<tr><th scope=row>X3</th><td>X3   </td><td>  33 </td><td>-215 </td><td> 104 </td><td>476  </td><td>1474 </td><td> 5669</td><td>3272 </td><td>3668 </td><td>27410</td><td>...  </td><td>220  </td><td>294  </td><td>464  </td><td>720  </td><td> 753 </td><td>1199 </td><td>168  </td><td>1138 </td><td>777  </td><td>228  </td></tr>\n",
       "\t<tr><th scope=row>X4</th><td>X4   </td><td> 158 </td><td>  31 </td><td>-148 </td><td>155  </td><td> 415 </td><td> 4850</td><td>2293 </td><td>2569 </td><td>14920</td><td>...  </td><td>430  </td><td>128  </td><td>342  </td><td>307  </td><td> 743 </td><td> 835 </td><td>174  </td><td> 627 </td><td>170  </td><td>126  </td></tr>\n",
       "\t<tr><th scope=row>X5</th><td>X5   </td><td>   4 </td><td> 252 </td><td> -55 </td><td>122  </td><td> 483 </td><td> 1284</td><td>2731 </td><td> 316 </td><td>14653</td><td>...  </td><td>159  </td><td> 71  </td><td>159  </td><td>178  </td><td> 626 </td><td> 649 </td><td>504  </td><td> 250 </td><td>314  </td><td> 56  </td></tr>\n",
       "\t<tr><th scope=row>X6</th><td>X6   </td><td>  67 </td><td> 193 </td><td>-327 </td><td>176  </td><td> 412 </td><td> 4148</td><td>2743 </td><td>2404 </td><td>25771</td><td>...  </td><td>199  </td><td>168  </td><td>147  </td><td>384  </td><td>1157 </td><td>1221 </td><td>172  </td><td> 645 </td><td>341  </td><td>193  </td></tr>\n",
       "</tbody>\n",
       "</table>\n"
      ],
      "text/latex": [
       "\\begin{tabular}{r|llllllllllllllllllllllllllllllllllllllllllllllllllllllllllllllllllllllllllllllllllllllllllllllllllllllllllllllllllllllllllllllllllllllllllllllllllllllllllllllllllllllllllllllllllllllllllllllllllllllllllllllllllllllllllllllllllllllllllllllllllllllllllllllllllllllllllllllllllllllllllllllllllllllllllllllllllllllllllllllllllllllllllllllllllllllllllllllllllllllllllllllllllllllllllllllllllllllllllllllllllllllllllllllllllllllllllllllllllllllllllllllllllllllllllllllllllllllllllllllllllllllllllllllllllllllllllllllllllllllllllllllllllllllllllllllllllllllllllllllllllllllllllllllllllllllllllllllllllllllllllllllllllllllllllllllllllllllllllllllllllllllllllllllllllllllllllllllllllllllllllllllllllllllllllllllllllllllllllllllllllllllllllllllllllllllllllllllllllllllllllllllllllllllllllllllllllllllllllllllllllllllllllllllllllllllllllllllllllllllllllllllllllllllllllllllllllllllllllllllllllllllllllllllllllllllllllllllllllllllllllllllllllllllllllllllllllllllllllllllllllllllllllllllllllllllllllllllllllllllllllllllllllllllllllllllllllllllllllllllllllllllllllllllllllllllllllllllllllllllllllllllllllllllllllllllllllllllllllllllllllllllllllllllllllllllllllllllllllllllllllllllllllllllllllllllllllllllllllllllllllllllllllllllllllllllllllllllllllllllllllllllllllllllllllllllllllllllllllllllllllllllllllllllllllllllllllllllllllllllllllllllllllllllllllllllllllllllllllllllllllllllllllllllllllllllllllllllllllllllllllllllllllllllllllllllllllllllllllllllllllllllllllllllllllllllllllllllllllllllllllllllllllllllllllllllllllllllllllllllllllllllllllllllllllllllllllllllllllllllllllllllllllllllllllllllllllllllllllllllllllllllllllllllllllllllllllllllllllllllllllllllllllllllllllllllllllllllllllllllllllllllllllllllllllllllllllllllllllllllllllllllllllllllllllllllllllllllllllllllllllllllllllllllllllllllllllllllllllllllllllllllllllllllllllllllllllllllllllllllllllllllllllllllllllllllllllllllllllllllllllllllllllllllllllllllllllllllllllllllllllllllllllllllllllllllllllllllllllllllllllllllllllllllllllllllllllllllllllllllllllllllllllllllllllllllllllllllllllllllllllllllllllllllllllllllllllllllllllllllllllllllllllllllllllllllllllllllllllllllllllllllllllllllllllllllllllllllllllllllllllllllllllllllllllllllllllllllllllllllllllllllllllllllllllllllllllllllllllllllllllllllllllllllllllllllllllllllllllllllllllllllllllllllllllllllllllllllllllllllllllllllllllllllllllllllllllllllllllllllllllllllllllllllllllllllllllllllllllllllllllllllllllllllllllllllllllllllllllllllllllllllllllllllllllllllllllllllllllllllllllllllllllllllllllllllllllllllllllllllllllllllllllllllllllllllllllllllllllllllllllllllllllllllllllllllllllllllllllllllllllllllllllllllllllllllllllllllllllllllllllllllllllllllllllllllllllllllllllllllllllllllllllllllllllllllllllllllllllllllllllllllllllllllllllllllllllllllllllllllllllllllllllllllllllllllllllllllllllllllllllllllllllllllllllllllllllllllllllllllllllllllllllllllllllllllllllllllllllllllllllllllllllllllllllllllllllllllllllllllllllllllllllllllllllllllllllllllllllllllllllllllllllllllllllllllllllllllllllllllllllllllllllllllllllllllllllllllllllllllllllllllllllllllllllllllllllllllllllllllllllllllllllllllllllllllllllllllllllllllllllllllllllllllllllllllllllllllllllllllllllllllllllllllllllllllllllllllllllllllllllllllllllllllllllllllllllllllllllllllllllllllllllllllllllllllllllllllllllllllllllllllllllllllllllllllllllllllllllllllllllllllllllllllllllllllllllllllllllllllllllllllllllllllllllllllllllllllllllllllllllllllllllllllllllllllllllllllllllllllllllllllllllllllllllllllllllllllllllllllllllllllllllllllllllllllllllllllllllllllllllllllllllllllllllllllllllllllllllllllllllllllllllll}\n",
       "  & labels & AFFX.BioDn.3\\_at & AFFX.BioB.5\\_st & AFFX.HUMISGF3A.M97935\\_MA\\_at & AFFX.HUMISGF3A.M97935\\_MB\\_at & AFFX.HUMISGF3A.M97935\\_3\\_at & AFFX.HUMRGE.M10098\\_5\\_at & AFFX.HUMRGE.M10098\\_M\\_at & AFFX.HUMRGE.M10098\\_3\\_at & AFFX.HUMGAPDH.M33197\\_5\\_at & ... & U88902\\_cds1\\_f\\_at & D64015\\_at & L78833\\_cds4\\_at & M93143\\_at & U29175\\_at & U58516\\_at & X06956\\_at & X83863\\_at & Z17240\\_at & M71243\\_f\\_at\\\\\n",
       "\\hline\n",
       "\tX1 & X1    &  199  &  206  &  -13  & 215   &  797  & 14538 & 9738  & 8529  & 15076 & ...   & 346   & 229   & 349   & 384   & 1582  &  511  & 389   &  793  & 329   & 191  \\\\\n",
       "\tX2 & X2    & -330  &   74  & -219  & 116   &  433  &   615 &  115  & 1518  & 19448 & ...   & 290   & 194   & 214   & 231   &  624  &  837  & 442   &  782  & 295   &  76  \\\\\n",
       "\tX3 & X3    &   33  & -215  &  104  & 476   & 1474  &  5669 & 3272  & 3668  & 27410 & ...   & 220   & 294   & 464   & 720   &  753  & 1199  & 168   & 1138  & 777   & 228  \\\\\n",
       "\tX4 & X4    &  158  &   31  & -148  & 155   &  415  &  4850 & 2293  & 2569  & 14920 & ...   & 430   & 128   & 342   & 307   &  743  &  835  & 174   &  627  & 170   & 126  \\\\\n",
       "\tX5 & X5    &    4  &  252  &  -55  & 122   &  483  &  1284 & 2731  &  316  & 14653 & ...   & 159   &  71   & 159   & 178   &  626  &  649  & 504   &  250  & 314   &  56  \\\\\n",
       "\tX6 & X6    &   67  &  193  & -327  & 176   &  412  &  4148 & 2743  & 2404  & 25771 & ...   & 199   & 168   & 147   & 384   & 1157  & 1221  & 172   &  645  & 341   & 193  \\\\\n",
       "\\end{tabular}\n"
      ],
      "text/markdown": [
       "\n",
       "| <!--/--> | labels | AFFX.BioDn.3_at | AFFX.BioB.5_st | AFFX.HUMISGF3A.M97935_MA_at | AFFX.HUMISGF3A.M97935_MB_at | AFFX.HUMISGF3A.M97935_3_at | AFFX.HUMRGE.M10098_5_at | AFFX.HUMRGE.M10098_M_at | AFFX.HUMRGE.M10098_3_at | AFFX.HUMGAPDH.M33197_5_at | ... | U88902_cds1_f_at | D64015_at | L78833_cds4_at | M93143_at | U29175_at | U58516_at | X06956_at | X83863_at | Z17240_at | M71243_f_at |\n",
       "|---|---|---|---|---|---|---|---|---|---|---|---|---|---|---|---|---|---|---|---|---|---|\n",
       "| X1 | X1    |  199  |  206  |  -13  | 215   |  797  | 14538 | 9738  | 8529  | 15076 | ...   | 346   | 229   | 349   | 384   | 1582  |  511  | 389   |  793  | 329   | 191   |\n",
       "| X2 | X2    | -330  |   74  | -219  | 116   |  433  |   615 |  115  | 1518  | 19448 | ...   | 290   | 194   | 214   | 231   |  624  |  837  | 442   |  782  | 295   |  76   |\n",
       "| X3 | X3    |   33  | -215  |  104  | 476   | 1474  |  5669 | 3272  | 3668  | 27410 | ...   | 220   | 294   | 464   | 720   |  753  | 1199  | 168   | 1138  | 777   | 228   |\n",
       "| X4 | X4    |  158  |   31  | -148  | 155   |  415  |  4850 | 2293  | 2569  | 14920 | ...   | 430   | 128   | 342   | 307   |  743  |  835  | 174   |  627  | 170   | 126   |\n",
       "| X5 | X5    |    4  |  252  |  -55  | 122   |  483  |  1284 | 2731  |  316  | 14653 | ...   | 159   |  71   | 159   | 178   |  626  |  649  | 504   |  250  | 314   |  56   |\n",
       "| X6 | X6    |   67  |  193  | -327  | 176   |  412  |  4148 | 2743  | 2404  | 25771 | ...   | 199   | 168   | 147   | 384   | 1157  | 1221  | 172   |  645  | 341   | 193   |\n",
       "\n"
      ],
      "text/plain": [
       "   labels AFFX.BioDn.3_at AFFX.BioB.5_st AFFX.HUMISGF3A.M97935_MA_at\n",
       "X1 X1      199             206            -13                       \n",
       "X2 X2     -330              74           -219                       \n",
       "X3 X3       33            -215            104                       \n",
       "X4 X4      158              31           -148                       \n",
       "X5 X5        4             252            -55                       \n",
       "X6 X6       67             193           -327                       \n",
       "   AFFX.HUMISGF3A.M97935_MB_at AFFX.HUMISGF3A.M97935_3_at\n",
       "X1 215                          797                      \n",
       "X2 116                          433                      \n",
       "X3 476                         1474                      \n",
       "X4 155                          415                      \n",
       "X5 122                          483                      \n",
       "X6 176                          412                      \n",
       "   AFFX.HUMRGE.M10098_5_at AFFX.HUMRGE.M10098_M_at AFFX.HUMRGE.M10098_3_at\n",
       "X1 14538                   9738                    8529                   \n",
       "X2   615                    115                    1518                   \n",
       "X3  5669                   3272                    3668                   \n",
       "X4  4850                   2293                    2569                   \n",
       "X5  1284                   2731                     316                   \n",
       "X6  4148                   2743                    2404                   \n",
       "   AFFX.HUMGAPDH.M33197_5_at ... U88902_cds1_f_at D64015_at L78833_cds4_at\n",
       "X1 15076                     ... 346              229       349           \n",
       "X2 19448                     ... 290              194       214           \n",
       "X3 27410                     ... 220              294       464           \n",
       "X4 14920                     ... 430              128       342           \n",
       "X5 14653                     ... 159               71       159           \n",
       "X6 25771                     ... 199              168       147           \n",
       "   M93143_at U29175_at U58516_at X06956_at X83863_at Z17240_at M71243_f_at\n",
       "X1 384       1582       511      389        793      329       191        \n",
       "X2 231        624       837      442        782      295        76        \n",
       "X3 720        753      1199      168       1138      777       228        \n",
       "X4 307        743       835      174        627      170       126        \n",
       "X5 178        626       649      504        250      314        56        \n",
       "X6 384       1157      1221      172        645      341       193        "
      ]
     },
     "metadata": {},
     "output_type": "display_data"
    }
   ],
   "source": [
    "head(golub)"
   ]
  },
  {
   "cell_type": "code",
   "execution_count": 12,
   "id": "a60b800d",
   "metadata": {},
   "outputs": [],
   "source": [
    "variance = sort(sapply(golub[-1], var), decreasing = TRUE)  # Sorted gene variance\n",
    "gene_var = as.data.frame(variance)\n",
    "gene_var[\"gene\"] = rownames(gene_var)"
   ]
  },
  {
   "cell_type": "code",
   "execution_count": null,
   "id": "89a5ce6f",
   "metadata": {},
   "outputs": [],
   "source": [
    "top_number = 100\n",
    "top_genes = gene_var[c(1:top_number), ]\n",
    "head(top_genes)"
   ]
  },
  {
   "cell_type": "code",
   "execution_count": null,
   "id": "7a0d743b",
   "metadata": {},
   "outputs": [],
   "source": [
    "gene_list = as.list(top_genes[\"gene\"])"
   ]
  },
  {
   "cell_type": "code",
   "execution_count": null,
   "id": "3e1a7031",
   "metadata": {},
   "outputs": [],
   "source": [
    "top_gene_list = unlist(setdiff(gene_list, names(golub)))\n",
    "top_gene_list"
   ]
  },
  {
   "cell_type": "code",
   "execution_count": null,
   "id": "4378c7cc",
   "metadata": {},
   "outputs": [],
   "source": [
    "top_golub = golub[, top_gene_list]\n",
    "top_golub[\"labels\"] = rownames(top_golub)\n",
    "top_golub = golub[ , c(\"labels\", names(top_golub)[names(top_golub) != \"labels\"])] "
   ]
  },
  {
   "cell_type": "code",
   "execution_count": null,
   "id": "32184ea8",
   "metadata": {},
   "outputs": [],
   "source": [
    "head(top_golub)"
   ]
  },
  {
   "cell_type": "markdown",
   "id": "82a10a31",
   "metadata": {},
   "source": [
    "# evaluomeR K analysis"
   ]
  },
  {
   "cell_type": "code",
   "execution_count": null,
   "id": "3ae91fdf",
   "metadata": {},
   "outputs": [],
   "source": [
    "seed = 13606\n",
    "k.range=c(2,6)\n",
    "cbi = \"kmeans\"\n",
    "\n",
    "golub_stab_range = stabilityRange(data=top_golub, k.range=k.range, \n",
    "                            bs=500, seed=seed,\n",
    "                            all_metrics=TRUE,\n",
    "                            cbi=cbi)\n",
    "golub_stab = standardizeStabilityData(golub_stab_range)"
   ]
  },
  {
   "cell_type": "code",
   "execution_count": null,
   "id": "cab1b310",
   "metadata": {},
   "outputs": [],
   "source": [
    "golub_qual_range = qualityRange(data=top_golub, k.range=k.range, \n",
    "                            seed=seed,\n",
    "                            all_metrics=TRUE,\n",
    "                            cbi=cbi)\n",
    "golub_qual = standardizeQualityData(golub_qual_range)"
   ]
  },
  {
   "cell_type": "code",
   "execution_count": null,
   "id": "a1893312",
   "metadata": {},
   "outputs": [],
   "source": [
    "print(\"W/ kmeans:\")\n",
    "golub_stab\n",
    "golub_qual"
   ]
  },
  {
   "cell_type": "code",
   "execution_count": null,
   "id": "24aaa172",
   "metadata": {},
   "outputs": [],
   "source": [
    "k.range.opt = c(3,6)\n",
    "golub_k_opt = getOptimalKValue(golub_stab_range, golub_qual_range, k.range= k.range.opt)"
   ]
  }
 ],
 "metadata": {
  "kernelspec": {
   "display_name": "R",
   "language": "R",
   "name": "ir"
  },
  "language_info": {
   "codemirror_mode": "r",
   "file_extension": ".r",
   "mimetype": "text/x-r-source",
   "name": "R",
   "pygments_lexer": "r",
   "version": "3.6.1"
  }
 },
 "nbformat": 4,
 "nbformat_minor": 5
}
