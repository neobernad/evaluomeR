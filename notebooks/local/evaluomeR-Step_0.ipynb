{
 "cells": [
  {
   "cell_type": "markdown",
   "id": "285a2f02",
   "metadata": {},
   "source": [
    "# evaluomeR Step 0"
   ]
  },
  {
   "cell_type": "code",
   "execution_count": 51,
   "id": "9ba99e51",
   "metadata": {
    "scrolled": true
   },
   "outputs": [],
   "source": [
    "library(\"evaluomeR\")\n",
    "library(\"psych\")\n",
    "library(\"scales\")\n",
    "library(\"caret\")\n",
    "\n",
    "options(scipen=10)"
   ]
  },
  {
   "cell_type": "code",
   "execution_count": 52,
   "id": "97b05861",
   "metadata": {},
   "outputs": [],
   "source": [
    "# https://www.r-data-scientist.com/es/blog/statistical-tests/bartlett-test/\n",
    "# https://www.r-data-scientist.com/es/blog/statistical-tests/kaiser-meyer-olkin-test/"
   ]
  },
  {
   "cell_type": "markdown",
   "id": "d4189ae3",
   "metadata": {},
   "source": [
    "# Table of contents\n",
    "* [PCA](#pca)\n",
    "* [Bartlett Sphericity Test](#bartlett)\n",
    "    * [Bartlett Sphericity Test - Conclusiones](#bartlett-conclusion)\n",
    "* [Kaiser-Meyer-Olkin Test](#kmo)\n",
    "* [References](#references)"
   ]
  },
  {
   "cell_type": "markdown",
   "id": "7902cfa3",
   "metadata": {},
   "source": [
    "# PCA <a class=\"anchor\" id=\"pca\"></a>"
   ]
  },
  {
   "cell_type": "code",
   "execution_count": 53,
   "id": "7de4bfd0",
   "metadata": {},
   "outputs": [],
   "source": [
    "# data(\"rnaMetrics\")\n",
    "seed = 13606\n",
    "scaled = FALSE\n",
    "k.range=c(2,6)\n",
    "set.seed(seed)\n",
    "#input_df = read.csv(paste0(getwd(), \"/\",\"../../usecases/usecase2/data/agro.csv\"), header=TRUE, stringsAsFactors=FALSE)\n",
    "input_df = read.csv(paste0(getwd(), \"/\",\"../../usecases/usecase2/data/obo-119.csv\"), header=TRUE, stringsAsFactors=FALSE)\n",
    "#input_df = as.data.frame(assay(rnaMetrics))\n",
    "data = input_df[-1]"
   ]
  },
  {
   "cell_type": "code",
   "execution_count": 54,
   "id": "78a7d785",
   "metadata": {},
   "outputs": [
    {
     "data": {
      "text/html": [
       "<table>\n",
       "<thead><tr><th scope=col>ANOnto</th><th scope=col>AROnto</th><th scope=col>CBOOnto</th><th scope=col>CBOOnto2</th><th scope=col>CROnto</th><th scope=col>DITOnto</th><th scope=col>INROnto</th><th scope=col>LCOMOnto</th><th scope=col>NACOnto</th><th scope=col>NOCOnto</th><th scope=col>NOMOnto</th><th scope=col>POnto</th><th scope=col>PROnto</th><th scope=col>RFCOnto</th><th scope=col>RROnto</th><th scope=col>TMOnto</th><th scope=col>TMOnto2</th><th scope=col>WMCOnto</th><th scope=col>WMCOnto2</th></tr></thead>\n",
       "<tbody>\n",
       "\t<tr><td>0.9920319  </td><td>0.000000   </td><td>1.0677291  </td><td>1.0677291  </td><td>0.003984064</td><td>13         </td><td>1.0677291  </td><td>6.258065   </td><td>1.089744   </td><td>2.821053   </td><td>0.4462151  </td><td>1.0637450  </td><td>0.2947368  </td><td>1.5139442  </td><td>0.7052632  </td><td>0.068000000</td><td>2.117647   </td><td>7.461538   </td><td>1.192308   </td></tr>\n",
       "\t<tr><td>0.9907407  </td><td>3.101852   </td><td>1.0694444  </td><td>1.0694444  </td><td>0.363425926</td><td>16         </td><td>1.0694444  </td><td>7.695971   </td><td>1.052174   </td><td>2.287129   </td><td>1.2037037  </td><td>1.0555556  </td><td>0.5295316  </td><td>2.2731481  </td><td>0.4704684  </td><td>0.062645012</td><td>2.148148   </td><td>9.134783   </td><td>1.186957   </td></tr>\n",
       "\t<tr><td>1.0263930  </td><td>0.000000   </td><td>1.0000000  </td><td>1.0000000  </td><td>0.002932551</td><td> 9         </td><td>1.0000000  </td><td>3.914179   </td><td>1.003745   </td><td>4.608108   </td><td>0.0000000  </td><td>0.8914956  </td><td>0.0000000  </td><td>1.0000000  </td><td>1.0000000  </td><td>0.002941176</td><td>2.000000   </td><td>3.928839   </td><td>1.003745   </td></tr>\n",
       "\t<tr><td>1.2913386  </td><td>3.503937   </td><td>1.0157480  </td><td>1.0157480  </td><td>0.212598425</td><td> 8         </td><td>1.0157480  </td><td>4.602151   </td><td>1.022222   </td><td>3.486486   </td><td>3.2677165  </td><td>1.0078740  </td><td>0.7628676  </td><td>4.2834646  </td><td>0.2371324  </td><td>0.047619048</td><td>2.000000   </td><td>4.755556   </td><td>1.033333   </td></tr>\n",
       "\t<tr><td>0.9722222  </td><td>0.000000   </td><td>0.9722222  </td><td>0.9722222  </td><td>0.000000000</td><td> 7         </td><td>0.9722222  </td><td>4.904762   </td><td>1.000000   </td><td>2.333333   </td><td>0.0000000  </td><td>0.9444444  </td><td>0.0000000  </td><td>0.9722222  </td><td>1.0000000  </td><td>0.000000000</td><td>0.000000   </td><td>4.904762   </td><td>1.000000   </td></tr>\n",
       "\t<tr><td>1.0948905  </td><td>0.000000   </td><td>1.3357664  </td><td>1.3357664  </td><td>0.007299270</td><td> 5         </td><td>1.3357664  </td><td>2.968944   </td><td>1.302083   </td><td>4.463415   </td><td>1.2335766  </td><td>0.8978102  </td><td>0.4801136  </td><td>2.5693431  </td><td>0.5198864  </td><td>0.000000000</td><td>0.000000   </td><td>4.979167   </td><td>1.677083   </td></tr>\n",
       "</tbody>\n",
       "</table>\n"
      ],
      "text/latex": [
       "\\begin{tabular}{r|lllllllllllllllllll}\n",
       " ANOnto & AROnto & CBOOnto & CBOOnto2 & CROnto & DITOnto & INROnto & LCOMOnto & NACOnto & NOCOnto & NOMOnto & POnto & PROnto & RFCOnto & RROnto & TMOnto & TMOnto2 & WMCOnto & WMCOnto2\\\\\n",
       "\\hline\n",
       "\t 0.9920319   & 0.000000    & 1.0677291   & 1.0677291   & 0.003984064 & 13          & 1.0677291   & 6.258065    & 1.089744    & 2.821053    & 0.4462151   & 1.0637450   & 0.2947368   & 1.5139442   & 0.7052632   & 0.068000000 & 2.117647    & 7.461538    & 1.192308   \\\\\n",
       "\t 0.9907407   & 3.101852    & 1.0694444   & 1.0694444   & 0.363425926 & 16          & 1.0694444   & 7.695971    & 1.052174    & 2.287129    & 1.2037037   & 1.0555556   & 0.5295316   & 2.2731481   & 0.4704684   & 0.062645012 & 2.148148    & 9.134783    & 1.186957   \\\\\n",
       "\t 1.0263930   & 0.000000    & 1.0000000   & 1.0000000   & 0.002932551 &  9          & 1.0000000   & 3.914179    & 1.003745    & 4.608108    & 0.0000000   & 0.8914956   & 0.0000000   & 1.0000000   & 1.0000000   & 0.002941176 & 2.000000    & 3.928839    & 1.003745   \\\\\n",
       "\t 1.2913386   & 3.503937    & 1.0157480   & 1.0157480   & 0.212598425 &  8          & 1.0157480   & 4.602151    & 1.022222    & 3.486486    & 3.2677165   & 1.0078740   & 0.7628676   & 4.2834646   & 0.2371324   & 0.047619048 & 2.000000    & 4.755556    & 1.033333   \\\\\n",
       "\t 0.9722222   & 0.000000    & 0.9722222   & 0.9722222   & 0.000000000 &  7          & 0.9722222   & 4.904762    & 1.000000    & 2.333333    & 0.0000000   & 0.9444444   & 0.0000000   & 0.9722222   & 1.0000000   & 0.000000000 & 0.000000    & 4.904762    & 1.000000   \\\\\n",
       "\t 1.0948905   & 0.000000    & 1.3357664   & 1.3357664   & 0.007299270 &  5          & 1.3357664   & 2.968944    & 1.302083    & 4.463415    & 1.2335766   & 0.8978102   & 0.4801136   & 2.5693431   & 0.5198864   & 0.000000000 & 0.000000    & 4.979167    & 1.677083   \\\\\n",
       "\\end{tabular}\n"
      ],
      "text/markdown": [
       "\n",
       "| ANOnto | AROnto | CBOOnto | CBOOnto2 | CROnto | DITOnto | INROnto | LCOMOnto | NACOnto | NOCOnto | NOMOnto | POnto | PROnto | RFCOnto | RROnto | TMOnto | TMOnto2 | WMCOnto | WMCOnto2 |\n",
       "|---|---|---|---|---|---|---|---|---|---|---|---|---|---|---|---|---|---|---|\n",
       "| 0.9920319   | 0.000000    | 1.0677291   | 1.0677291   | 0.003984064 | 13          | 1.0677291   | 6.258065    | 1.089744    | 2.821053    | 0.4462151   | 1.0637450   | 0.2947368   | 1.5139442   | 0.7052632   | 0.068000000 | 2.117647    | 7.461538    | 1.192308    |\n",
       "| 0.9907407   | 3.101852    | 1.0694444   | 1.0694444   | 0.363425926 | 16          | 1.0694444   | 7.695971    | 1.052174    | 2.287129    | 1.2037037   | 1.0555556   | 0.5295316   | 2.2731481   | 0.4704684   | 0.062645012 | 2.148148    | 9.134783    | 1.186957    |\n",
       "| 1.0263930   | 0.000000    | 1.0000000   | 1.0000000   | 0.002932551 |  9          | 1.0000000   | 3.914179    | 1.003745    | 4.608108    | 0.0000000   | 0.8914956   | 0.0000000   | 1.0000000   | 1.0000000   | 0.002941176 | 2.000000    | 3.928839    | 1.003745    |\n",
       "| 1.2913386   | 3.503937    | 1.0157480   | 1.0157480   | 0.212598425 |  8          | 1.0157480   | 4.602151    | 1.022222    | 3.486486    | 3.2677165   | 1.0078740   | 0.7628676   | 4.2834646   | 0.2371324   | 0.047619048 | 2.000000    | 4.755556    | 1.033333    |\n",
       "| 0.9722222   | 0.000000    | 0.9722222   | 0.9722222   | 0.000000000 |  7          | 0.9722222   | 4.904762    | 1.000000    | 2.333333    | 0.0000000   | 0.9444444   | 0.0000000   | 0.9722222   | 1.0000000   | 0.000000000 | 0.000000    | 4.904762    | 1.000000    |\n",
       "| 1.0948905   | 0.000000    | 1.3357664   | 1.3357664   | 0.007299270 |  5          | 1.3357664   | 2.968944    | 1.302083    | 4.463415    | 1.2335766   | 0.8978102   | 0.4801136   | 2.5693431   | 0.5198864   | 0.000000000 | 0.000000    | 4.979167    | 1.677083    |\n",
       "\n"
      ],
      "text/plain": [
       "  ANOnto    AROnto   CBOOnto   CBOOnto2  CROnto      DITOnto INROnto   LCOMOnto\n",
       "1 0.9920319 0.000000 1.0677291 1.0677291 0.003984064 13      1.0677291 6.258065\n",
       "2 0.9907407 3.101852 1.0694444 1.0694444 0.363425926 16      1.0694444 7.695971\n",
       "3 1.0263930 0.000000 1.0000000 1.0000000 0.002932551  9      1.0000000 3.914179\n",
       "4 1.2913386 3.503937 1.0157480 1.0157480 0.212598425  8      1.0157480 4.602151\n",
       "5 0.9722222 0.000000 0.9722222 0.9722222 0.000000000  7      0.9722222 4.904762\n",
       "6 1.0948905 0.000000 1.3357664 1.3357664 0.007299270  5      1.3357664 2.968944\n",
       "  NACOnto  NOCOnto  NOMOnto   POnto     PROnto    RFCOnto   RROnto   \n",
       "1 1.089744 2.821053 0.4462151 1.0637450 0.2947368 1.5139442 0.7052632\n",
       "2 1.052174 2.287129 1.2037037 1.0555556 0.5295316 2.2731481 0.4704684\n",
       "3 1.003745 4.608108 0.0000000 0.8914956 0.0000000 1.0000000 1.0000000\n",
       "4 1.022222 3.486486 3.2677165 1.0078740 0.7628676 4.2834646 0.2371324\n",
       "5 1.000000 2.333333 0.0000000 0.9444444 0.0000000 0.9722222 1.0000000\n",
       "6 1.302083 4.463415 1.2335766 0.8978102 0.4801136 2.5693431 0.5198864\n",
       "  TMOnto      TMOnto2  WMCOnto  WMCOnto2\n",
       "1 0.068000000 2.117647 7.461538 1.192308\n",
       "2 0.062645012 2.148148 9.134783 1.186957\n",
       "3 0.002941176 2.000000 3.928839 1.003745\n",
       "4 0.047619048 2.000000 4.755556 1.033333\n",
       "5 0.000000000 0.000000 4.904762 1.000000\n",
       "6 0.000000000 0.000000 4.979167 1.677083"
      ]
     },
     "metadata": {},
     "output_type": "display_data"
    }
   ],
   "source": [
    "if (scaled) {\n",
    "    data = scales::rescale(as.matrix(data), to=c(0,1))\n",
    "}\n",
    "head(data)"
   ]
  },
  {
   "cell_type": "code",
   "execution_count": 55,
   "id": "e7fc5623",
   "metadata": {},
   "outputs": [],
   "source": [
    "data.pca = princomp(data, cor = TRUE)\n",
    "# Calcular la proporción acumulada de la varianza explicada de los factores\n",
    "parte.pca <- data.pca$sdev^2/sum(data.pca$sdev^2)*100"
   ]
  },
  {
   "cell_type": "code",
   "execution_count": 56,
   "id": "9202d736",
   "metadata": {},
   "outputs": [
    {
     "name": "stdout",
     "output_type": "stream",
     "text": [
      "      Comp.1       Comp.2       Comp.3       Comp.4       Comp.5       Comp.6 \n",
      "3.133963e+01 1.769217e+01 1.071152e+01 9.965851e+00 6.334460e+00 5.676066e+00 \n",
      "      Comp.7       Comp.8       Comp.9      Comp.10      Comp.11      Comp.12 \n",
      "5.205313e+00 3.568967e+00 3.065736e+00 2.665487e+00 1.672320e+00 9.697028e-01 \n",
      "     Comp.13      Comp.14      Comp.15      Comp.16      Comp.17      Comp.18 \n",
      "7.247634e-01 3.888385e-01 1.835784e-02 8.185915e-04 1.838596e-15 1.628800e-16 \n",
      "     Comp.19 \n",
      "0.000000e+00 \n"
     ]
    }
   ],
   "source": [
    "print(parte.pca)"
   ]
  },
  {
   "cell_type": "code",
   "execution_count": 57,
   "id": "7b77215c",
   "metadata": {},
   "outputs": [
    {
     "name": "stdout",
     "output_type": "stream",
     "text": [
      "   Comp.1    Comp.2    Comp.3    Comp.4    Comp.5    Comp.6    Comp.7    Comp.8 \n",
      " 31.33963  49.03180  59.74332  69.70917  76.04363  81.71970  86.92501  90.49398 \n",
      "   Comp.9   Comp.10   Comp.11   Comp.12   Comp.13   Comp.14   Comp.15   Comp.16 \n",
      " 93.55971  96.22520  97.89752  98.86722  99.59199  99.98082  99.99918 100.00000 \n",
      "  Comp.17   Comp.18   Comp.19 \n",
      "100.00000 100.00000 100.00000 \n"
     ]
    }
   ],
   "source": [
    "print(cumsum(parte.pca))"
   ]
  },
  {
   "cell_type": "code",
   "execution_count": 58,
   "id": "ea23f24c",
   "metadata": {},
   "outputs": [
    {
     "data": {
      "image/png": "[encoded data removed]",
      "text/plain": [
       "plot without title"
      ]
     },
     "metadata": {},
     "output_type": "display_data"
    }
   ],
   "source": [
    "# Representación gráfica del PCA\n",
    "biplot(data.pca)"
   ]
  },
  {
   "cell_type": "markdown",
   "id": "43c110a5",
   "metadata": {},
   "source": [
    "# Bartlett Sphericity Test <a class=\"anchor\" id=\"bartlett\"></a>"
   ]
  },
  {
   "cell_type": "code",
   "execution_count": 59,
   "id": "9d5698f0",
   "metadata": {},
   "outputs": [],
   "source": [
    "R = cor(data)\n",
    "#print(correlations)"
   ]
  },
  {
   "cell_type": "code",
   "execution_count": 60,
   "id": "9e43a564",
   "metadata": {},
   "outputs": [
    {
     "data": {
      "text/html": [
       "<table>\n",
       "<thead><tr><th></th><th scope=col>ANOnto</th><th scope=col>AROnto</th><th scope=col>CBOOnto</th><th scope=col>CBOOnto2</th><th scope=col>CROnto</th><th scope=col>DITOnto</th><th scope=col>INROnto</th><th scope=col>LCOMOnto</th><th scope=col>NACOnto</th><th scope=col>NOCOnto</th><th scope=col>NOMOnto</th><th scope=col>POnto</th><th scope=col>PROnto</th><th scope=col>RFCOnto</th><th scope=col>RROnto</th><th scope=col>TMOnto</th><th scope=col>TMOnto2</th><th scope=col>WMCOnto</th><th scope=col>WMCOnto2</th></tr></thead>\n",
       "<tbody>\n",
       "\t<tr><th scope=row>ANOnto</th><td> 1.000000000 </td><td>-0.024159127 </td><td>-0.114160981 </td><td>-0.114160981 </td><td>-0.139373499 </td><td>-0.294768202 </td><td>-0.110779620 </td><td>-0.3075771383</td><td>-0.17930987  </td><td> 0.093276309 </td><td>-0.101673093 </td><td> 0.38873547  </td><td> 0.118256309 </td><td>-0.12199832  </td><td>-0.118256309 </td><td> 0.13515249  </td><td> 0.0664143218</td><td>-0.005817731 </td><td>-0.001813093 </td></tr>\n",
       "\t<tr><th scope=row>AROnto</th><td>-0.024159127 </td><td> 1.000000000 </td><td> 0.006109972 </td><td> 0.006109972 </td><td> 0.018910110 </td><td> 0.171233042 </td><td>-0.029435115 </td><td> 0.2089147219</td><td>-0.02748452  </td><td>-0.065038653 </td><td> 0.262292865 </td><td>-0.01314738  </td><td> 0.262873140 </td><td> 0.25742995  </td><td>-0.262873140 </td><td>-0.10615419  </td><td>-0.1328694664</td><td>-0.007930807 </td><td>-0.010735583 </td></tr>\n",
       "\t<tr><th scope=row>CBOOnto</th><td>-0.114160981 </td><td> 0.006109972 </td><td> 1.000000000 </td><td> 1.000000000 </td><td> 0.151252450 </td><td> 0.489034218 </td><td> 0.943343086 </td><td> 0.3068560112</td><td> 0.86446340  </td><td> 0.042399184 </td><td> 0.016303412 </td><td> 0.18988776  </td><td>-0.019509225 </td><td> 0.21459945  </td><td> 0.019509225 </td><td> 0.39155759  </td><td> 0.1695368781</td><td> 0.793126917 </td><td> 0.788009558 </td></tr>\n",
       "\t<tr><th scope=row>CBOOnto2</th><td>-0.114160981 </td><td> 0.006109972 </td><td> 1.000000000 </td><td> 1.000000000 </td><td> 0.151252450 </td><td> 0.489034218 </td><td> 0.943343086 </td><td> 0.3068560112</td><td> 0.86446340  </td><td> 0.042399184 </td><td> 0.016303412 </td><td> 0.18988776  </td><td>-0.019509225 </td><td> 0.21459945  </td><td> 0.019509225 </td><td> 0.39155759  </td><td> 0.1695368781</td><td> 0.793126917 </td><td> 0.788009558 </td></tr>\n",
       "\t<tr><th scope=row>CROnto</th><td>-0.139373499 </td><td> 0.018910110 </td><td> 0.151252450 </td><td> 0.151252450 </td><td> 1.000000000 </td><td> 0.269467553 </td><td> 0.176002859 </td><td> 0.1655639095</td><td> 0.04001342  </td><td>-0.007100867 </td><td> 0.119692822 </td><td> 0.03411915  </td><td> 0.262287440 </td><td> 0.14696967  </td><td>-0.262287440 </td><td>-0.10441417  </td><td> 0.0458093444</td><td> 0.282694371 </td><td> 0.282840643 </td></tr>\n",
       "\t<tr><th scope=row>DITOnto</th><td>-0.294768202 </td><td> 0.171233042 </td><td> 0.489034218 </td><td> 0.489034218 </td><td> 0.269467553 </td><td> 1.000000000 </td><td> 0.446623864 </td><td> 0.8264292652</td><td> 0.43360911  </td><td>-0.171509165 </td><td> 0.009904869 </td><td> 0.19290675  </td><td>-0.018071345 </td><td> 0.10683366  </td><td> 0.018071345 </td><td> 0.26319368  </td><td> 0.1529288829</td><td> 0.345142358 </td><td> 0.334760617 </td></tr>\n",
       "\t<tr><th scope=row>INROnto</th><td>-0.110779620 </td><td>-0.029435115 </td><td> 0.943343086 </td><td> 0.943343086 </td><td> 0.176002859 </td><td> 0.446623864 </td><td> 1.000000000 </td><td> 0.2945191157</td><td> 0.88797350  </td><td> 0.067962523 </td><td> 0.003297389 </td><td> 0.15960810  </td><td>-0.081227259 </td><td> 0.19063851  </td><td> 0.081227259 </td><td> 0.37650058  </td><td> 0.1418682443</td><td> 0.868802298 </td><td> 0.862995938 </td></tr>\n",
       "\t<tr><th scope=row>LCOMOnto</th><td>-0.307577138 </td><td> 0.208914722 </td><td> 0.306856011 </td><td> 0.306856011 </td><td> 0.165563909 </td><td> 0.826429265 </td><td> 0.294519116 </td><td> 1.0000000000</td><td> 0.36999386  </td><td>-0.168150702 </td><td>-0.018676017 </td><td> 0.21634471  </td><td>-0.149084700 </td><td> 0.04272091  </td><td> 0.149084700 </td><td> 0.20308810  </td><td>-0.0007221436</td><td> 0.134684935 </td><td> 0.119358553 </td></tr>\n",
       "\t<tr><th scope=row>NACOnto</th><td>-0.179309872 </td><td>-0.027484518 </td><td> 0.864463400 </td><td> 0.864463400 </td><td> 0.040013420 </td><td> 0.433609108 </td><td> 0.887973497 </td><td> 0.3699938615</td><td> 1.00000000  </td><td> 0.077353728 </td><td> 0.020588758 </td><td> 0.18089347  </td><td>-0.086258462 </td><td> 0.19185795  </td><td> 0.086258462 </td><td> 0.51366893  </td><td> 0.1787315877</td><td> 0.552717898 </td><td> 0.543014849 </td></tr>\n",
       "\t<tr><th scope=row>NOCOnto</th><td> 0.093276309 </td><td>-0.065038653 </td><td> 0.042399184 </td><td> 0.042399184 </td><td>-0.007100867 </td><td>-0.171509165 </td><td> 0.067962523 </td><td>-0.1681507023</td><td> 0.07735373  </td><td> 1.000000000 </td><td> 0.047661584 </td><td>-0.27061609  </td><td> 0.211046984 </td><td> 0.05498096  </td><td>-0.211046984 </td><td>-0.15474978  </td><td>-0.1912189782</td><td> 0.039390629 </td><td> 0.034514990 </td></tr>\n",
       "\t<tr><th scope=row>NOMOnto</th><td>-0.101673093 </td><td> 0.262292865 </td><td> 0.016303412 </td><td> 0.016303412 </td><td> 0.119692822 </td><td> 0.009904869 </td><td> 0.003297389 </td><td>-0.0186760165</td><td> 0.02058876  </td><td> 0.047661584 </td><td> 1.000000000 </td><td>-0.10717993  </td><td> 0.562820936 </td><td> 0.98007103  </td><td>-0.562820936 </td><td>-0.03991162  </td><td> 0.0418721255</td><td> 0.017195785 </td><td> 0.016612492 </td></tr>\n",
       "\t<tr><th scope=row>POnto</th><td> 0.388735472 </td><td>-0.013147380 </td><td> 0.189887760 </td><td> 0.189887760 </td><td> 0.034119153 </td><td> 0.192906749 </td><td> 0.159608097 </td><td> 0.2163447078</td><td> 0.18089347  </td><td>-0.270616092 </td><td>-0.107179929 </td><td> 1.00000000  </td><td>-0.076656735 </td><td>-0.06697107  </td><td> 0.076656735 </td><td> 0.69752562  </td><td> 0.2954736573</td><td> 0.094565902 </td><td> 0.095842313 </td></tr>\n",
       "\t<tr><th scope=row>PROnto</th><td> 0.118256309 </td><td> 0.262873140 </td><td>-0.019509225 </td><td>-0.019509225 </td><td> 0.262287440 </td><td>-0.018071345 </td><td>-0.081227259 </td><td>-0.1490847004</td><td>-0.08625846  </td><td> 0.211046984 </td><td> 0.562820936 </td><td>-0.07665673  </td><td> 1.000000000 </td><td> 0.54590551  </td><td>-1.000000000 </td><td>-0.08557217  </td><td>-0.0031365083</td><td>-0.041991309 </td><td>-0.041483761 </td></tr>\n",
       "\t<tr><th scope=row>RFCOnto</th><td>-0.121998319 </td><td> 0.257429947 </td><td> 0.214599452 </td><td> 0.214599452 </td><td> 0.146969668 </td><td> 0.106833658 </td><td> 0.190638511 </td><td> 0.0427209068</td><td> 0.19185795  </td><td> 0.054980965 </td><td> 0.980071033 </td><td>-0.06697107  </td><td> 0.545905514 </td><td> 1.00000000  </td><td>-0.545905514 </td><td> 0.03880527  </td><td> 0.0745845596</td><td> 0.174370898 </td><td> 0.172784434 </td></tr>\n",
       "\t<tr><th scope=row>RROnto</th><td>-0.118256309 </td><td>-0.262873140 </td><td> 0.019509225 </td><td> 0.019509225 </td><td>-0.262287440 </td><td> 0.018071345 </td><td> 0.081227259 </td><td> 0.1490847004</td><td> 0.08625846  </td><td>-0.211046984 </td><td>-0.562820936 </td><td> 0.07665673  </td><td>-1.000000000 </td><td>-0.54590551  </td><td> 1.000000000 </td><td> 0.08557217  </td><td> 0.0031365083</td><td> 0.041991309 </td><td> 0.041483761 </td></tr>\n",
       "\t<tr><th scope=row>TMOnto</th><td> 0.135152489 </td><td>-0.106154190 </td><td> 0.391557589 </td><td> 0.391557589 </td><td>-0.104414175 </td><td> 0.263193676 </td><td> 0.376500579 </td><td> 0.2030881044</td><td> 0.51366893  </td><td>-0.154749783 </td><td>-0.039911625 </td><td> 0.69752562  </td><td>-0.085572172 </td><td> 0.03880527  </td><td> 0.085572172 </td><td> 1.00000000  </td><td> 0.4128095555</td><td> 0.131662571 </td><td> 0.133112890 </td></tr>\n",
       "\t<tr><th scope=row>TMOnto2</th><td> 0.066414322 </td><td>-0.132869466 </td><td> 0.169536878 </td><td> 0.169536878 </td><td> 0.045809344 </td><td> 0.152928883 </td><td> 0.141868244 </td><td>-0.0007221436</td><td> 0.17873159  </td><td>-0.191218978 </td><td> 0.041872126 </td><td> 0.29547366  </td><td>-0.003136508 </td><td> 0.07458456  </td><td> 0.003136508 </td><td> 0.41280956  </td><td> 1.0000000000</td><td> 0.058767818 </td><td> 0.056693684 </td></tr>\n",
       "\t<tr><th scope=row>WMCOnto</th><td>-0.005817731 </td><td>-0.007930807 </td><td> 0.793126917 </td><td> 0.793126917 </td><td> 0.282694371 </td><td> 0.345142358 </td><td> 0.868802298 </td><td> 0.1346849353</td><td> 0.55271790  </td><td> 0.039390629 </td><td> 0.017195785 </td><td> 0.09456590  </td><td>-0.041991309 </td><td> 0.17437090  </td><td> 0.041991309 </td><td> 0.13166257  </td><td> 0.0587678183</td><td> 1.000000000 </td><td> 0.999616051 </td></tr>\n",
       "\t<tr><th scope=row>WMCOnto2</th><td>-0.001813093 </td><td>-0.010735583 </td><td> 0.788009558 </td><td> 0.788009558 </td><td> 0.282840643 </td><td> 0.334760617 </td><td> 0.862995938 </td><td> 0.1193585533</td><td> 0.54301485  </td><td> 0.034514990 </td><td> 0.016612492 </td><td> 0.09584231  </td><td>-0.041483761 </td><td> 0.17278443  </td><td> 0.041483761 </td><td> 0.13311289  </td><td> 0.0566936835</td><td> 0.999616051 </td><td> 1.000000000 </td></tr>\n",
       "</tbody>\n",
       "</table>\n"
      ],
      "text/latex": [
       "\\begin{tabular}{r|lllllllllllllllllll}\n",
       "  & ANOnto & AROnto & CBOOnto & CBOOnto2 & CROnto & DITOnto & INROnto & LCOMOnto & NACOnto & NOCOnto & NOMOnto & POnto & PROnto & RFCOnto & RROnto & TMOnto & TMOnto2 & WMCOnto & WMCOnto2\\\\\n",
       "\\hline\n",
       "\tANOnto &  1.000000000  & -0.024159127  & -0.114160981  & -0.114160981  & -0.139373499  & -0.294768202  & -0.110779620  & -0.3075771383 & -0.17930987   &  0.093276309  & -0.101673093  &  0.38873547   &  0.118256309  & -0.12199832   & -0.118256309  &  0.13515249   &  0.0664143218 & -0.005817731  & -0.001813093 \\\\\n",
       "\tAROnto & -0.024159127  &  1.000000000  &  0.006109972  &  0.006109972  &  0.018910110  &  0.171233042  & -0.029435115  &  0.2089147219 & -0.02748452   & -0.065038653  &  0.262292865  & -0.01314738   &  0.262873140  &  0.25742995   & -0.262873140  & -0.10615419   & -0.1328694664 & -0.007930807  & -0.010735583 \\\\\n",
       "\tCBOOnto & -0.114160981  &  0.006109972  &  1.000000000  &  1.000000000  &  0.151252450  &  0.489034218  &  0.943343086  &  0.3068560112 &  0.86446340   &  0.042399184  &  0.016303412  &  0.18988776   & -0.019509225  &  0.21459945   &  0.019509225  &  0.39155759   &  0.1695368781 &  0.793126917  &  0.788009558 \\\\\n",
       "\tCBOOnto2 & -0.114160981  &  0.006109972  &  1.000000000  &  1.000000000  &  0.151252450  &  0.489034218  &  0.943343086  &  0.3068560112 &  0.86446340   &  0.042399184  &  0.016303412  &  0.18988776   & -0.019509225  &  0.21459945   &  0.019509225  &  0.39155759   &  0.1695368781 &  0.793126917  &  0.788009558 \\\\\n",
       "\tCROnto & -0.139373499  &  0.018910110  &  0.151252450  &  0.151252450  &  1.000000000  &  0.269467553  &  0.176002859  &  0.1655639095 &  0.04001342   & -0.007100867  &  0.119692822  &  0.03411915   &  0.262287440  &  0.14696967   & -0.262287440  & -0.10441417   &  0.0458093444 &  0.282694371  &  0.282840643 \\\\\n",
       "\tDITOnto & -0.294768202  &  0.171233042  &  0.489034218  &  0.489034218  &  0.269467553  &  1.000000000  &  0.446623864  &  0.8264292652 &  0.43360911   & -0.171509165  &  0.009904869  &  0.19290675   & -0.018071345  &  0.10683366   &  0.018071345  &  0.26319368   &  0.1529288829 &  0.345142358  &  0.334760617 \\\\\n",
       "\tINROnto & -0.110779620  & -0.029435115  &  0.943343086  &  0.943343086  &  0.176002859  &  0.446623864  &  1.000000000  &  0.2945191157 &  0.88797350   &  0.067962523  &  0.003297389  &  0.15960810   & -0.081227259  &  0.19063851   &  0.081227259  &  0.37650058   &  0.1418682443 &  0.868802298  &  0.862995938 \\\\\n",
       "\tLCOMOnto & -0.307577138  &  0.208914722  &  0.306856011  &  0.306856011  &  0.165563909  &  0.826429265  &  0.294519116  &  1.0000000000 &  0.36999386   & -0.168150702  & -0.018676017  &  0.21634471   & -0.149084700  &  0.04272091   &  0.149084700  &  0.20308810   & -0.0007221436 &  0.134684935  &  0.119358553 \\\\\n",
       "\tNACOnto & -0.179309872  & -0.027484518  &  0.864463400  &  0.864463400  &  0.040013420  &  0.433609108  &  0.887973497  &  0.3699938615 &  1.00000000   &  0.077353728  &  0.020588758  &  0.18089347   & -0.086258462  &  0.19185795   &  0.086258462  &  0.51366893   &  0.1787315877 &  0.552717898  &  0.543014849 \\\\\n",
       "\tNOCOnto &  0.093276309  & -0.065038653  &  0.042399184  &  0.042399184  & -0.007100867  & -0.171509165  &  0.067962523  & -0.1681507023 &  0.07735373   &  1.000000000  &  0.047661584  & -0.27061609   &  0.211046984  &  0.05498096   & -0.211046984  & -0.15474978   & -0.1912189782 &  0.039390629  &  0.034514990 \\\\\n",
       "\tNOMOnto & -0.101673093  &  0.262292865  &  0.016303412  &  0.016303412  &  0.119692822  &  0.009904869  &  0.003297389  & -0.0186760165 &  0.02058876   &  0.047661584  &  1.000000000  & -0.10717993   &  0.562820936  &  0.98007103   & -0.562820936  & -0.03991162   &  0.0418721255 &  0.017195785  &  0.016612492 \\\\\n",
       "\tPOnto &  0.388735472  & -0.013147380  &  0.189887760  &  0.189887760  &  0.034119153  &  0.192906749  &  0.159608097  &  0.2163447078 &  0.18089347   & -0.270616092  & -0.107179929  &  1.00000000   & -0.076656735  & -0.06697107   &  0.076656735  &  0.69752562   &  0.2954736573 &  0.094565902  &  0.095842313 \\\\\n",
       "\tPROnto &  0.118256309  &  0.262873140  & -0.019509225  & -0.019509225  &  0.262287440  & -0.018071345  & -0.081227259  & -0.1490847004 & -0.08625846   &  0.211046984  &  0.562820936  & -0.07665673   &  1.000000000  &  0.54590551   & -1.000000000  & -0.08557217   & -0.0031365083 & -0.041991309  & -0.041483761 \\\\\n",
       "\tRFCOnto & -0.121998319  &  0.257429947  &  0.214599452  &  0.214599452  &  0.146969668  &  0.106833658  &  0.190638511  &  0.0427209068 &  0.19185795   &  0.054980965  &  0.980071033  & -0.06697107   &  0.545905514  &  1.00000000   & -0.545905514  &  0.03880527   &  0.0745845596 &  0.174370898  &  0.172784434 \\\\\n",
       "\tRROnto & -0.118256309  & -0.262873140  &  0.019509225  &  0.019509225  & -0.262287440  &  0.018071345  &  0.081227259  &  0.1490847004 &  0.08625846   & -0.211046984  & -0.562820936  &  0.07665673   & -1.000000000  & -0.54590551   &  1.000000000  &  0.08557217   &  0.0031365083 &  0.041991309  &  0.041483761 \\\\\n",
       "\tTMOnto &  0.135152489  & -0.106154190  &  0.391557589  &  0.391557589  & -0.104414175  &  0.263193676  &  0.376500579  &  0.2030881044 &  0.51366893   & -0.154749783  & -0.039911625  &  0.69752562   & -0.085572172  &  0.03880527   &  0.085572172  &  1.00000000   &  0.4128095555 &  0.131662571  &  0.133112890 \\\\\n",
       "\tTMOnto2 &  0.066414322  & -0.132869466  &  0.169536878  &  0.169536878  &  0.045809344  &  0.152928883  &  0.141868244  & -0.0007221436 &  0.17873159   & -0.191218978  &  0.041872126  &  0.29547366   & -0.003136508  &  0.07458456   &  0.003136508  &  0.41280956   &  1.0000000000 &  0.058767818  &  0.056693684 \\\\\n",
       "\tWMCOnto & -0.005817731  & -0.007930807  &  0.793126917  &  0.793126917  &  0.282694371  &  0.345142358  &  0.868802298  &  0.1346849353 &  0.55271790   &  0.039390629  &  0.017195785  &  0.09456590   & -0.041991309  &  0.17437090   &  0.041991309  &  0.13166257   &  0.0587678183 &  1.000000000  &  0.999616051 \\\\\n",
       "\tWMCOnto2 & -0.001813093  & -0.010735583  &  0.788009558  &  0.788009558  &  0.282840643  &  0.334760617  &  0.862995938  &  0.1193585533 &  0.54301485   &  0.034514990  &  0.016612492  &  0.09584231   & -0.041483761  &  0.17278443   &  0.041483761  &  0.13311289   &  0.0566936835 &  0.999616051  &  1.000000000 \\\\\n",
       "\\end{tabular}\n"
      ],
      "text/markdown": [
       "\n",
       "| <!--/--> | ANOnto | AROnto | CBOOnto | CBOOnto2 | CROnto | DITOnto | INROnto | LCOMOnto | NACOnto | NOCOnto | NOMOnto | POnto | PROnto | RFCOnto | RROnto | TMOnto | TMOnto2 | WMCOnto | WMCOnto2 |\n",
       "|---|---|---|---|---|---|---|---|---|---|---|---|---|---|---|---|---|---|---|---|\n",
       "| ANOnto |  1.000000000  | -0.024159127  | -0.114160981  | -0.114160981  | -0.139373499  | -0.294768202  | -0.110779620  | -0.3075771383 | -0.17930987   |  0.093276309  | -0.101673093  |  0.38873547   |  0.118256309  | -0.12199832   | -0.118256309  |  0.13515249   |  0.0664143218 | -0.005817731  | -0.001813093  |\n",
       "| AROnto | -0.024159127  |  1.000000000  |  0.006109972  |  0.006109972  |  0.018910110  |  0.171233042  | -0.029435115  |  0.2089147219 | -0.02748452   | -0.065038653  |  0.262292865  | -0.01314738   |  0.262873140  |  0.25742995   | -0.262873140  | -0.10615419   | -0.1328694664 | -0.007930807  | -0.010735583  |\n",
       "| CBOOnto | -0.114160981  |  0.006109972  |  1.000000000  |  1.000000000  |  0.151252450  |  0.489034218  |  0.943343086  |  0.3068560112 |  0.86446340   |  0.042399184  |  0.016303412  |  0.18988776   | -0.019509225  |  0.21459945   |  0.019509225  |  0.39155759   |  0.1695368781 |  0.793126917  |  0.788009558  |\n",
       "| CBOOnto2 | -0.114160981  |  0.006109972  |  1.000000000  |  1.000000000  |  0.151252450  |  0.489034218  |  0.943343086  |  0.3068560112 |  0.86446340   |  0.042399184  |  0.016303412  |  0.18988776   | -0.019509225  |  0.21459945   |  0.019509225  |  0.39155759   |  0.1695368781 |  0.793126917  |  0.788009558  |\n",
       "| CROnto | -0.139373499  |  0.018910110  |  0.151252450  |  0.151252450  |  1.000000000  |  0.269467553  |  0.176002859  |  0.1655639095 |  0.04001342   | -0.007100867  |  0.119692822  |  0.03411915   |  0.262287440  |  0.14696967   | -0.262287440  | -0.10441417   |  0.0458093444 |  0.282694371  |  0.282840643  |\n",
       "| DITOnto | -0.294768202  |  0.171233042  |  0.489034218  |  0.489034218  |  0.269467553  |  1.000000000  |  0.446623864  |  0.8264292652 |  0.43360911   | -0.171509165  |  0.009904869  |  0.19290675   | -0.018071345  |  0.10683366   |  0.018071345  |  0.26319368   |  0.1529288829 |  0.345142358  |  0.334760617  |\n",
       "| INROnto | -0.110779620  | -0.029435115  |  0.943343086  |  0.943343086  |  0.176002859  |  0.446623864  |  1.000000000  |  0.2945191157 |  0.88797350   |  0.067962523  |  0.003297389  |  0.15960810   | -0.081227259  |  0.19063851   |  0.081227259  |  0.37650058   |  0.1418682443 |  0.868802298  |  0.862995938  |\n",
       "| LCOMOnto | -0.307577138  |  0.208914722  |  0.306856011  |  0.306856011  |  0.165563909  |  0.826429265  |  0.294519116  |  1.0000000000 |  0.36999386   | -0.168150702  | -0.018676017  |  0.21634471   | -0.149084700  |  0.04272091   |  0.149084700  |  0.20308810   | -0.0007221436 |  0.134684935  |  0.119358553  |\n",
       "| NACOnto | -0.179309872  | -0.027484518  |  0.864463400  |  0.864463400  |  0.040013420  |  0.433609108  |  0.887973497  |  0.3699938615 |  1.00000000   |  0.077353728  |  0.020588758  |  0.18089347   | -0.086258462  |  0.19185795   |  0.086258462  |  0.51366893   |  0.1787315877 |  0.552717898  |  0.543014849  |\n",
       "| NOCOnto |  0.093276309  | -0.065038653  |  0.042399184  |  0.042399184  | -0.007100867  | -0.171509165  |  0.067962523  | -0.1681507023 |  0.07735373   |  1.000000000  |  0.047661584  | -0.27061609   |  0.211046984  |  0.05498096   | -0.211046984  | -0.15474978   | -0.1912189782 |  0.039390629  |  0.034514990  |\n",
       "| NOMOnto | -0.101673093  |  0.262292865  |  0.016303412  |  0.016303412  |  0.119692822  |  0.009904869  |  0.003297389  | -0.0186760165 |  0.02058876   |  0.047661584  |  1.000000000  | -0.10717993   |  0.562820936  |  0.98007103   | -0.562820936  | -0.03991162   |  0.0418721255 |  0.017195785  |  0.016612492  |\n",
       "| POnto |  0.388735472  | -0.013147380  |  0.189887760  |  0.189887760  |  0.034119153  |  0.192906749  |  0.159608097  |  0.2163447078 |  0.18089347   | -0.270616092  | -0.107179929  |  1.00000000   | -0.076656735  | -0.06697107   |  0.076656735  |  0.69752562   |  0.2954736573 |  0.094565902  |  0.095842313  |\n",
       "| PROnto |  0.118256309  |  0.262873140  | -0.019509225  | -0.019509225  |  0.262287440  | -0.018071345  | -0.081227259  | -0.1490847004 | -0.08625846   |  0.211046984  |  0.562820936  | -0.07665673   |  1.000000000  |  0.54590551   | -1.000000000  | -0.08557217   | -0.0031365083 | -0.041991309  | -0.041483761  |\n",
       "| RFCOnto | -0.121998319  |  0.257429947  |  0.214599452  |  0.214599452  |  0.146969668  |  0.106833658  |  0.190638511  |  0.0427209068 |  0.19185795   |  0.054980965  |  0.980071033  | -0.06697107   |  0.545905514  |  1.00000000   | -0.545905514  |  0.03880527   |  0.0745845596 |  0.174370898  |  0.172784434  |\n",
       "| RROnto | -0.118256309  | -0.262873140  |  0.019509225  |  0.019509225  | -0.262287440  |  0.018071345  |  0.081227259  |  0.1490847004 |  0.08625846   | -0.211046984  | -0.562820936  |  0.07665673   | -1.000000000  | -0.54590551   |  1.000000000  |  0.08557217   |  0.0031365083 |  0.041991309  |  0.041483761  |\n",
       "| TMOnto |  0.135152489  | -0.106154190  |  0.391557589  |  0.391557589  | -0.104414175  |  0.263193676  |  0.376500579  |  0.2030881044 |  0.51366893   | -0.154749783  | -0.039911625  |  0.69752562   | -0.085572172  |  0.03880527   |  0.085572172  |  1.00000000   |  0.4128095555 |  0.131662571  |  0.133112890  |\n",
       "| TMOnto2 |  0.066414322  | -0.132869466  |  0.169536878  |  0.169536878  |  0.045809344  |  0.152928883  |  0.141868244  | -0.0007221436 |  0.17873159   | -0.191218978  |  0.041872126  |  0.29547366   | -0.003136508  |  0.07458456   |  0.003136508  |  0.41280956   |  1.0000000000 |  0.058767818  |  0.056693684  |\n",
       "| WMCOnto | -0.005817731  | -0.007930807  |  0.793126917  |  0.793126917  |  0.282694371  |  0.345142358  |  0.868802298  |  0.1346849353 |  0.55271790   |  0.039390629  |  0.017195785  |  0.09456590   | -0.041991309  |  0.17437090   |  0.041991309  |  0.13166257   |  0.0587678183 |  1.000000000  |  0.999616051  |\n",
       "| WMCOnto2 | -0.001813093  | -0.010735583  |  0.788009558  |  0.788009558  |  0.282840643  |  0.334760617  |  0.862995938  |  0.1193585533 |  0.54301485   |  0.034514990  |  0.016612492  |  0.09584231   | -0.041483761  |  0.17278443   |  0.041483761  |  0.13311289   |  0.0566936835 |  0.999616051  |  1.000000000  |\n",
       "\n"
      ],
      "text/plain": [
       "         ANOnto       AROnto       CBOOnto      CBOOnto2     CROnto      \n",
       "ANOnto    1.000000000 -0.024159127 -0.114160981 -0.114160981 -0.139373499\n",
       "AROnto   -0.024159127  1.000000000  0.006109972  0.006109972  0.018910110\n",
       "CBOOnto  -0.114160981  0.006109972  1.000000000  1.000000000  0.151252450\n",
       "CBOOnto2 -0.114160981  0.006109972  1.000000000  1.000000000  0.151252450\n",
       "CROnto   -0.139373499  0.018910110  0.151252450  0.151252450  1.000000000\n",
       "DITOnto  -0.294768202  0.171233042  0.489034218  0.489034218  0.269467553\n",
       "INROnto  -0.110779620 -0.029435115  0.943343086  0.943343086  0.176002859\n",
       "LCOMOnto -0.307577138  0.208914722  0.306856011  0.306856011  0.165563909\n",
       "NACOnto  -0.179309872 -0.027484518  0.864463400  0.864463400  0.040013420\n",
       "NOCOnto   0.093276309 -0.065038653  0.042399184  0.042399184 -0.007100867\n",
       "NOMOnto  -0.101673093  0.262292865  0.016303412  0.016303412  0.119692822\n",
       "POnto     0.388735472 -0.013147380  0.189887760  0.189887760  0.034119153\n",
       "PROnto    0.118256309  0.262873140 -0.019509225 -0.019509225  0.262287440\n",
       "RFCOnto  -0.121998319  0.257429947  0.214599452  0.214599452  0.146969668\n",
       "RROnto   -0.118256309 -0.262873140  0.019509225  0.019509225 -0.262287440\n",
       "TMOnto    0.135152489 -0.106154190  0.391557589  0.391557589 -0.104414175\n",
       "TMOnto2   0.066414322 -0.132869466  0.169536878  0.169536878  0.045809344\n",
       "WMCOnto  -0.005817731 -0.007930807  0.793126917  0.793126917  0.282694371\n",
       "WMCOnto2 -0.001813093 -0.010735583  0.788009558  0.788009558  0.282840643\n",
       "         DITOnto      INROnto      LCOMOnto      NACOnto     NOCOnto     \n",
       "ANOnto   -0.294768202 -0.110779620 -0.3075771383 -0.17930987  0.093276309\n",
       "AROnto    0.171233042 -0.029435115  0.2089147219 -0.02748452 -0.065038653\n",
       "CBOOnto   0.489034218  0.943343086  0.3068560112  0.86446340  0.042399184\n",
       "CBOOnto2  0.489034218  0.943343086  0.3068560112  0.86446340  0.042399184\n",
       "CROnto    0.269467553  0.176002859  0.1655639095  0.04001342 -0.007100867\n",
       "DITOnto   1.000000000  0.446623864  0.8264292652  0.43360911 -0.171509165\n",
       "INROnto   0.446623864  1.000000000  0.2945191157  0.88797350  0.067962523\n",
       "LCOMOnto  0.826429265  0.294519116  1.0000000000  0.36999386 -0.168150702\n",
       "NACOnto   0.433609108  0.887973497  0.3699938615  1.00000000  0.077353728\n",
       "NOCOnto  -0.171509165  0.067962523 -0.1681507023  0.07735373  1.000000000\n",
       "NOMOnto   0.009904869  0.003297389 -0.0186760165  0.02058876  0.047661584\n",
       "POnto     0.192906749  0.159608097  0.2163447078  0.18089347 -0.270616092\n",
       "PROnto   -0.018071345 -0.081227259 -0.1490847004 -0.08625846  0.211046984\n",
       "RFCOnto   0.106833658  0.190638511  0.0427209068  0.19185795  0.054980965\n",
       "RROnto    0.018071345  0.081227259  0.1490847004  0.08625846 -0.211046984\n",
       "TMOnto    0.263193676  0.376500579  0.2030881044  0.51366893 -0.154749783\n",
       "TMOnto2   0.152928883  0.141868244 -0.0007221436  0.17873159 -0.191218978\n",
       "WMCOnto   0.345142358  0.868802298  0.1346849353  0.55271790  0.039390629\n",
       "WMCOnto2  0.334760617  0.862995938  0.1193585533  0.54301485  0.034514990\n",
       "         NOMOnto      POnto       PROnto       RFCOnto     RROnto      \n",
       "ANOnto   -0.101673093  0.38873547  0.118256309 -0.12199832 -0.118256309\n",
       "AROnto    0.262292865 -0.01314738  0.262873140  0.25742995 -0.262873140\n",
       "CBOOnto   0.016303412  0.18988776 -0.019509225  0.21459945  0.019509225\n",
       "CBOOnto2  0.016303412  0.18988776 -0.019509225  0.21459945  0.019509225\n",
       "CROnto    0.119692822  0.03411915  0.262287440  0.14696967 -0.262287440\n",
       "DITOnto   0.009904869  0.19290675 -0.018071345  0.10683366  0.018071345\n",
       "INROnto   0.003297389  0.15960810 -0.081227259  0.19063851  0.081227259\n",
       "LCOMOnto -0.018676017  0.21634471 -0.149084700  0.04272091  0.149084700\n",
       "NACOnto   0.020588758  0.18089347 -0.086258462  0.19185795  0.086258462\n",
       "NOCOnto   0.047661584 -0.27061609  0.211046984  0.05498096 -0.211046984\n",
       "NOMOnto   1.000000000 -0.10717993  0.562820936  0.98007103 -0.562820936\n",
       "POnto    -0.107179929  1.00000000 -0.076656735 -0.06697107  0.076656735\n",
       "PROnto    0.562820936 -0.07665673  1.000000000  0.54590551 -1.000000000\n",
       "RFCOnto   0.980071033 -0.06697107  0.545905514  1.00000000 -0.545905514\n",
       "RROnto   -0.562820936  0.07665673 -1.000000000 -0.54590551  1.000000000\n",
       "TMOnto   -0.039911625  0.69752562 -0.085572172  0.03880527  0.085572172\n",
       "TMOnto2   0.041872126  0.29547366 -0.003136508  0.07458456  0.003136508\n",
       "WMCOnto   0.017195785  0.09456590 -0.041991309  0.17437090  0.041991309\n",
       "WMCOnto2  0.016612492  0.09584231 -0.041483761  0.17278443  0.041483761\n",
       "         TMOnto      TMOnto2       WMCOnto      WMCOnto2    \n",
       "ANOnto    0.13515249  0.0664143218 -0.005817731 -0.001813093\n",
       "AROnto   -0.10615419 -0.1328694664 -0.007930807 -0.010735583\n",
       "CBOOnto   0.39155759  0.1695368781  0.793126917  0.788009558\n",
       "CBOOnto2  0.39155759  0.1695368781  0.793126917  0.788009558\n",
       "CROnto   -0.10441417  0.0458093444  0.282694371  0.282840643\n",
       "DITOnto   0.26319368  0.1529288829  0.345142358  0.334760617\n",
       "INROnto   0.37650058  0.1418682443  0.868802298  0.862995938\n",
       "LCOMOnto  0.20308810 -0.0007221436  0.134684935  0.119358553\n",
       "NACOnto   0.51366893  0.1787315877  0.552717898  0.543014849\n",
       "NOCOnto  -0.15474978 -0.1912189782  0.039390629  0.034514990\n",
       "NOMOnto  -0.03991162  0.0418721255  0.017195785  0.016612492\n",
       "POnto     0.69752562  0.2954736573  0.094565902  0.095842313\n",
       "PROnto   -0.08557217 -0.0031365083 -0.041991309 -0.041483761\n",
       "RFCOnto   0.03880527  0.0745845596  0.174370898  0.172784434\n",
       "RROnto    0.08557217  0.0031365083  0.041991309  0.041483761\n",
       "TMOnto    1.00000000  0.4128095555  0.131662571  0.133112890\n",
       "TMOnto2   0.41280956  1.0000000000  0.058767818  0.056693684\n",
       "WMCOnto   0.13166257  0.0587678183  1.000000000  0.999616051\n",
       "WMCOnto2  0.13311289  0.0566936835  0.999616051  1.000000000"
      ]
     },
     "metadata": {},
     "output_type": "display_data"
    }
   ],
   "source": [
    "R"
   ]
  },
  {
   "cell_type": "code",
   "execution_count": 61,
   "id": "9b881fc6",
   "metadata": {},
   "outputs": [
    {
     "data": {
      "text/html": [
       "<ol class=list-inline>\n",
       "\t<li>'CBOOnto'</li>\n",
       "\t<li>'WMCOnto'</li>\n",
       "\t<li>'RFCOnto'</li>\n",
       "\t<li>'RROnto'</li>\n",
       "</ol>\n"
      ],
      "text/latex": [
       "\\begin{enumerate*}\n",
       "\\item 'CBOOnto'\n",
       "\\item 'WMCOnto'\n",
       "\\item 'RFCOnto'\n",
       "\\item 'RROnto'\n",
       "\\end{enumerate*}\n"
      ],
      "text/markdown": [
       "1. 'CBOOnto'\n",
       "2. 'WMCOnto'\n",
       "3. 'RFCOnto'\n",
       "4. 'RROnto'\n",
       "\n",
       "\n"
      ],
      "text/plain": [
       "[1] \"CBOOnto\" \"WMCOnto\" \"RFCOnto\" \"RROnto\" "
      ]
     },
     "metadata": {},
     "output_type": "display_data"
    }
   ],
   "source": [
    "cor_metrics = findCorrelation(R, cutoff = 0.95, verbose = FALSE, names=TRUE)\n",
    "cor_metrics"
   ]
  },
  {
   "cell_type": "code",
   "execution_count": 62,
   "id": "48c5b855",
   "metadata": {},
   "outputs": [
    {
     "data": {
      "text/html": [
       "15"
      ],
      "text/latex": [
       "15"
      ],
      "text/markdown": [
       "15"
      ],
      "text/plain": [
       "[1] 15"
      ]
     },
     "metadata": {},
     "output_type": "display_data"
    },
    {
     "data": {
      "text/html": [
       "15"
      ],
      "text/latex": [
       "15"
      ],
      "text/markdown": [
       "15"
      ],
      "text/plain": [
       "[1] 15"
      ]
     },
     "metadata": {},
     "output_type": "display_data"
    }
   ],
   "source": [
    "R = R[, !colnames(R) %in% cor_metrics]\n",
    "R = R[!rownames(R) %in% cor_metrics, ]\n",
    "ncol(R)\n",
    "nrow(R)"
   ]
  },
  {
   "cell_type": "code",
   "execution_count": 63,
   "id": "90172d0f",
   "metadata": {},
   "outputs": [
    {
     "name": "stdout",
     "output_type": "stream",
     "text": [
      "$chisq\n",
      "[1] 1441.891\n",
      "\n",
      "$p.value\n",
      "[1] 1.158353e-233\n",
      "\n",
      "$df\n",
      "[1] 105\n",
      "\n"
     ]
    }
   ],
   "source": [
    "print(cortest.bartlett(R, n = nrow(data)))"
   ]
  },
  {
   "cell_type": "markdown",
   "id": "a5568506",
   "metadata": {},
   "source": [
    "## Bartlett Sphericity Test  - Conclusion<a class=\"anchor\" id=\"bartlett-conclusion\"></a>"
   ]
  },
  {
   "cell_type": "markdown",
   "id": "f5ca1f3f",
   "metadata": {},
   "source": [
    "Se rechaza la hipótesis nula al nivel del 5% (valor p=0<0.05). Por lo tanto, se puede realizar de manera eficiente un PCA en el conjunto de datos.\n",
    "\n",
    "**Nota**:\n",
    "La prueba de Bartlett tiene un gran inconveniente. Tiende a ser siempre estadísticamente significativo cuando aumenta el número de instancias n.\n",
    "\n",
    "Algunas referencias aconsejan utilizar esta prueba solo si la relación n:p (número de instancias dividido entre el número de variables) es inferior a 5."
   ]
  },
  {
   "cell_type": "code",
   "execution_count": 64,
   "id": "f438e685",
   "metadata": {},
   "outputs": [
    {
     "data": {
      "text/html": [
       "6.26315789473684"
      ],
      "text/latex": [
       "6.26315789473684"
      ],
      "text/markdown": [
       "6.26315789473684"
      ],
      "text/plain": [
       "[1] 6.263158"
      ]
     },
     "metadata": {},
     "output_type": "display_data"
    }
   ],
   "source": [
    "# Relación n:p es 4.10:\n",
    "nrow(data)/ncol(data)"
   ]
  },
  {
   "cell_type": "markdown",
   "id": "eae51fb0",
   "metadata": {},
   "source": [
    "# Kaiser-Meyer-Olkin Test <a class=\"anchor\" id=\"kmo\"></a>\n"
   ]
  },
  {
   "cell_type": "code",
   "execution_count": 65,
   "id": "825ffea5",
   "metadata": {},
   "outputs": [],
   "source": [
    "R = cor(data)"
   ]
  },
  {
   "cell_type": "code",
   "execution_count": 66,
   "id": "e73dc72b",
   "metadata": {},
   "outputs": [
    {
     "data": {
      "text/html": [
       "15"
      ],
      "text/latex": [
       "15"
      ],
      "text/markdown": [
       "15"
      ],
      "text/plain": [
       "[1] 15"
      ]
     },
     "metadata": {},
     "output_type": "display_data"
    },
    {
     "data": {
      "text/html": [
       "15"
      ],
      "text/latex": [
       "15"
      ],
      "text/markdown": [
       "15"
      ],
      "text/plain": [
       "[1] 15"
      ]
     },
     "metadata": {},
     "output_type": "display_data"
    }
   ],
   "source": [
    "R = R[, !colnames(R) %in% cor_metrics]\n",
    "R = R[!rownames(R) %in% cor_metrics, ]\n",
    "ncol(R)\n",
    "nrow(R)"
   ]
  },
  {
   "cell_type": "code",
   "execution_count": 67,
   "id": "df126a79",
   "metadata": {},
   "outputs": [],
   "source": [
    "kmo_value = psych::KMO(R)"
   ]
  },
  {
   "cell_type": "code",
   "execution_count": 68,
   "id": "802f9c94",
   "metadata": {},
   "outputs": [
    {
     "data": {
      "text/html": [
       "0.598332800207232"
      ],
      "text/latex": [
       "0.598332800207232"
      ],
      "text/markdown": [
       "0.598332800207232"
      ],
      "text/plain": [
       "[1] 0.5983328"
      ]
     },
     "metadata": {},
     "output_type": "display_data"
    }
   ],
   "source": [
    "kmo_value$MSA"
   ]
  },
  {
   "cell_type": "markdown",
   "id": "205d3c28",
   "metadata": {},
   "source": [
    "La matriz de correlación parcial se puede obtener a partir de la matriz de correlación. Se calcula la inversa de esta última:\n",
    "\n",
    "![equation](https://latex.codecogs.com/svg.image?R^{-1}=(v)_{ij})"
   ]
  },
  {
   "cell_type": "markdown",
   "id": "14e92c6c",
   "metadata": {},
   "source": [
    "Si el índice KMO es alto (≈1), el PCA puede actuar de manera eficiente.\n",
    "Si el índice KMO es bajo (≈0), el PCA no es relevante."
   ]
  },
  {
   "cell_type": "markdown",
   "id": "1c7b8bff",
   "metadata": {},
   "source": [
    "# Method"
   ]
  },
  {
   "cell_type": "code",
   "execution_count": 69,
   "id": "86216fb8",
   "metadata": {},
   "outputs": [],
   "source": [
    "# Assuming first column is the 'description' one\n",
    "# Try catch: Try KMO, if won't work find correlations, cut them off, and retry\n",
    "correlation_tests <- function(input_data, cutoff=0.95) {\n",
    "    \n",
    "    data = input_df[-1] # Removing 'description' column\n",
    "    R = cor(data) # Correlations\n",
    "    cor_metrics = findCorrelation(R, cutoff = cutoff, verbose = FALSE, names=TRUE)\n",
    "    # Removes highly correlated metrics from R\n",
    "    R = R[, !colnames(R) %in% cor_metrics]\n",
    "    R = R[!rownames(R) %in% cor_metrics, ]\n",
    "    \n",
    "    r_bartlett = psych::cortest.bartlett(R, n = nrow(data))\n",
    "    print(paste0(\"Bartlett p-value: \", r_bartlett$p.value))\n",
    "\n",
    "    r_kmo = psych::KMO(R)\n",
    "    print(paste0(\"KMO value: \", r_kmo$MSA))\n",
    "    \n",
    "    cleaned_df = input_df[, !colnames(input_df) %in% cor_metrics]\n",
    "\n",
    "    result = NULL\n",
    "    result$pca = (r_bartlett$p.value < 0.05) && (r_kmo$MSA >= 0.5)\n",
    "    result$bartlett = r_bartlett$p.value\n",
    "    result$kmo = r_kmo$MSA\n",
    "    result$removed_metrics = cor_metrics\n",
    "    result$data = cleaned_df\n",
    "    return(result)\n",
    "}"
   ]
  },
  {
   "cell_type": "code",
   "execution_count": 70,
   "id": "2a838a2c",
   "metadata": {},
   "outputs": [
    {
     "name": "stdout",
     "output_type": "stream",
     "text": [
      "[1] \"Bartlett p-value: 1.15835303183017e-233\"\n",
      "[1] \"KMO value: 0.598332800207232\"\n"
     ]
    },
    {
     "data": {
      "text/html": [
       "<ol class=list-inline>\n",
       "\t<li>'pca'</li>\n",
       "\t<li>'bartlett'</li>\n",
       "\t<li>'kmo'</li>\n",
       "\t<li>'removed_metrics'</li>\n",
       "\t<li>'data'</li>\n",
       "</ol>\n"
      ],
      "text/latex": [
       "\\begin{enumerate*}\n",
       "\\item 'pca'\n",
       "\\item 'bartlett'\n",
       "\\item 'kmo'\n",
       "\\item 'removed\\_metrics'\n",
       "\\item 'data'\n",
       "\\end{enumerate*}\n"
      ],
      "text/markdown": [
       "1. 'pca'\n",
       "2. 'bartlett'\n",
       "3. 'kmo'\n",
       "4. 'removed_metrics'\n",
       "5. 'data'\n",
       "\n",
       "\n"
      ],
      "text/plain": [
       "[1] \"pca\"             \"bartlett\"        \"kmo\"             \"removed_metrics\"\n",
       "[5] \"data\"           "
      ]
     },
     "metadata": {},
     "output_type": "display_data"
    }
   ],
   "source": [
    "#input_df = read.csv(paste0(getwd(), \"/\",\"../../usecases/usecase2/data/agro.csv\"), header=TRUE, stringsAsFactors=FALSE)\n",
    "input_df = read.csv(paste0(getwd(), \"/\",\"../../usecases/usecase2/data/obo-119.csv\"), header=TRUE, stringsAsFactors=FALSE)\n",
    "\n",
    "result = correlation_tests(input_df, cutoff=0.98)\n",
    "names(result)\n"
   ]
  },
  {
   "cell_type": "code",
   "execution_count": 71,
   "id": "4170ac43",
   "metadata": {},
   "outputs": [
    {
     "data": {
      "text/html": [
       "<ol class=list-inline>\n",
       "\t<li>'CBOOnto'</li>\n",
       "\t<li>'WMCOnto'</li>\n",
       "\t<li>'RFCOnto'</li>\n",
       "\t<li>'RROnto'</li>\n",
       "</ol>\n"
      ],
      "text/latex": [
       "\\begin{enumerate*}\n",
       "\\item 'CBOOnto'\n",
       "\\item 'WMCOnto'\n",
       "\\item 'RFCOnto'\n",
       "\\item 'RROnto'\n",
       "\\end{enumerate*}\n"
      ],
      "text/markdown": [
       "1. 'CBOOnto'\n",
       "2. 'WMCOnto'\n",
       "3. 'RFCOnto'\n",
       "4. 'RROnto'\n",
       "\n",
       "\n"
      ],
      "text/plain": [
       "[1] \"CBOOnto\" \"WMCOnto\" \"RFCOnto\" \"RROnto\" "
      ]
     },
     "metadata": {},
     "output_type": "display_data"
    }
   ],
   "source": [
    "result$removed_metrics"
   ]
  },
  {
   "cell_type": "code",
   "execution_count": 72,
   "id": "825144e9",
   "metadata": {
    "scrolled": true
   },
   "outputs": [
    {
     "data": {
      "text/html": [
       "<ol class=list-inline>\n",
       "\t<li>'CBOOnto'</li>\n",
       "\t<li>'WMCOnto'</li>\n",
       "\t<li>'RFCOnto'</li>\n",
       "\t<li>'RROnto'</li>\n",
       "</ol>\n"
      ],
      "text/latex": [
       "\\begin{enumerate*}\n",
       "\\item 'CBOOnto'\n",
       "\\item 'WMCOnto'\n",
       "\\item 'RFCOnto'\n",
       "\\item 'RROnto'\n",
       "\\end{enumerate*}\n"
      ],
      "text/markdown": [
       "1. 'CBOOnto'\n",
       "2. 'WMCOnto'\n",
       "3. 'RFCOnto'\n",
       "4. 'RROnto'\n",
       "\n",
       "\n"
      ],
      "text/plain": [
       "[1] \"CBOOnto\" \"WMCOnto\" \"RFCOnto\" \"RROnto\" "
      ]
     },
     "metadata": {},
     "output_type": "display_data"
    }
   ],
   "source": [
    "result$removed_metrics"
   ]
  },
  {
   "cell_type": "markdown",
   "id": "74896283",
   "metadata": {},
   "source": [
    "# PCA"
   ]
  },
  {
   "cell_type": "code",
   "execution_count": 73,
   "id": "74cb649c",
   "metadata": {},
   "outputs": [],
   "source": [
    "# PCA ahora\n",
    "data.pca = princomp(result$data[-1], cor = TRUE)\n",
    "# Calcular la proporción acumulada de la varianza explicada de los factores\n",
    "parte.pca <- data.pca$sdev^2/sum(data.pca$sdev^2)*100"
   ]
  },
  {
   "cell_type": "code",
   "execution_count": 74,
   "id": "b3ca2ddb",
   "metadata": {},
   "outputs": [
    {
     "name": "stdout",
     "output_type": "stream",
     "text": [
      "     Comp.1      Comp.2      Comp.3      Comp.4      Comp.5      Comp.6 \n",
      "29.19582197 14.24746933 11.73007490 11.31380902  7.12145634  6.72491716 \n",
      "     Comp.7      Comp.8      Comp.9     Comp.10     Comp.11     Comp.12 \n",
      " 5.71170042  4.11156710  3.27977457  2.51260640  1.78895131  1.17054265 \n",
      "    Comp.13     Comp.14     Comp.15 \n",
      " 0.68471284  0.38549300  0.02110299 \n",
      "   Comp.1    Comp.2    Comp.3    Comp.4    Comp.5    Comp.6    Comp.7    Comp.8 \n",
      " 29.19582  43.44329  55.17337  66.48718  73.60863  80.33355  86.04525  90.15682 \n",
      "   Comp.9   Comp.10   Comp.11   Comp.12   Comp.13   Comp.14   Comp.15 \n",
      " 93.43659  95.94920  97.73815  98.90869  99.59340  99.97890 100.00000 \n"
     ]
    },
    {
     "data": {
      "image/png": "[encoded data removed]",
      "text/plain": [
       "plot without title"
      ]
     },
     "metadata": {},
     "output_type": "display_data"
    }
   ],
   "source": [
    "# Representación gráfica del PCA\n",
    "print(parte.pca)\n",
    "print(cumsum(parte.pca))\n",
    "biplot(data.pca)"
   ]
  },
  {
   "cell_type": "markdown",
   "id": "6550720a",
   "metadata": {},
   "source": [
    "# References <a class=\"anchor\" id=\"references\"></a>"
   ]
  },
  {
   "cell_type": "markdown",
   "id": "34a12eb6",
   "metadata": {},
   "source": [
    "<a id=\"1\">[1]</a>\n",
    "https://www.r-data-scientist.com/es/blog/statistical-tests/bartlett-test/\n",
    "\n",
    "<a id=\"2\">[2]</a>\n",
    "https://www.r-data-scientist.com/es/blog/statistical-tests/kaiser-meyer-olkin-test/\n"
   ]
  }
 ],
 "metadata": {
  "kernelspec": {
   "display_name": "R",
   "language": "R",
   "name": "ir"
  },
  "language_info": {
   "codemirror_mode": "r",
   "file_extension": ".r",
   "mimetype": "text/x-r-source",
   "name": "R",
   "pygments_lexer": "r",
   "version": "4.4.1"
  }
 },
 "nbformat": 4,
 "nbformat_minor": 5
}
