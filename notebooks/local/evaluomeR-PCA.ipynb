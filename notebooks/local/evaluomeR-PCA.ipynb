{
 "cells": [
  {
   "cell_type": "markdown",
   "id": "285a2f02",
   "metadata": {},
   "source": [
    "# evaluomeR PCA"
   ]
  },
  {
   "cell_type": "code",
   "execution_count": 60,
   "id": "9ba99e51",
   "metadata": {
    "scrolled": true
   },
   "outputs": [
    {
     "name": "stderr",
     "output_type": "stream",
     "text": [
      "Warning message:\n",
      "\"package 'caret' was built under R version 3.6.3\"Loading required package: ggplot2\n",
      "\n",
      "Attaching package: 'ggplot2'\n",
      "\n",
      "The following objects are masked from 'package:psych':\n",
      "\n",
      "    %+%, alpha\n",
      "\n",
      "The following object is masked from 'package:randomForest':\n",
      "\n",
      "    margin\n",
      "\n"
     ]
    }
   ],
   "source": [
    "library(\"evaluomeR\")\n",
    "library(\"psych\")\n",
    "library(\"REdaS\")\n",
    "library(\"scales\")\n",
    "library(\"caret\")\n",
    "\n",
    "options(scipen=10)"
   ]
  },
  {
   "cell_type": "code",
   "execution_count": null,
   "id": "97b05861",
   "metadata": {},
   "outputs": [],
   "source": [
    "# https://www.r-data-scientist.com/es/blog/statistical-tests/bartlett-test/\n",
    "# https://www.r-data-scientist.com/es/blog/statistical-tests/kaiser-meyer-olkin-test/"
   ]
  },
  {
   "cell_type": "markdown",
   "id": "d4189ae3",
   "metadata": {},
   "source": [
    "# Table of contents\n",
    "* [PCA](#pca)\n",
    "* [Bartlett Sphericity Test](#bartlett)\n",
    "    * [Bartlett Sphericity Test - Conclusiones](#bartlett-conclusion)\n",
    "* [Kaiser-Meyer-Olkin Test](#kmo)\n",
    "* [References](#references)"
   ]
  },
  {
   "cell_type": "markdown",
   "id": "7902cfa3",
   "metadata": {},
   "source": [
    "# PCA <a class=\"anchor\" id=\"pca\"></a>"
   ]
  },
  {
   "cell_type": "code",
   "execution_count": 37,
   "id": "7de4bfd0",
   "metadata": {},
   "outputs": [],
   "source": [
    "# data(\"rnaMetrics\")\n",
    "seed = 13606\n",
    "scaled = TRUE\n",
    "k.range=c(2,6)\n",
    "set.seed(seed)\n",
    "input_df = read.csv(paste0(getwd(), \"/\",\"../../usecases/usecase2/data/agro.csv\"), header=TRUE, stringsAsFactors=FALSE)\n",
    "#input_df = read.csv(paste0(getwd(), \"/\",\"../../usecases/usecase2/data/obo-119.csv\"), header=TRUE, stringsAsFactors=FALSE)\n",
    "#input_df = as.data.frame(assay(rnaMetrics))\n",
    "data = input_df[-1]"
   ]
  },
  {
   "cell_type": "code",
   "execution_count": 41,
   "id": "78a7d785",
   "metadata": {},
   "outputs": [],
   "source": [
    "if (scaled) {\n",
    "    data = scales::rescale(as.matrix(data), to=c(0,1))\n",
    "}\n",
    "head(data)"
   ]
  },
  {
   "cell_type": "code",
   "execution_count": 43,
   "id": "e7fc5623",
   "metadata": {},
   "outputs": [],
   "source": [
    "data.pca = princomp(data, cor = TRUE)\n",
    "# Calcular la proporción acumulada de la varianza explicada de los factores\n",
    "parte.pca <- data.pca$sdev^2/sum(data.pca$sdev^2)*100"
   ]
  },
  {
   "cell_type": "code",
   "execution_count": 44,
   "id": "9202d736",
   "metadata": {},
   "outputs": [
    {
     "name": "stdout",
     "output_type": "stream",
     "text": [
      "      Comp.1       Comp.2       Comp.3       Comp.4       Comp.5       Comp.6 \n",
      "3.770477e+01 1.617399e+01 1.023493e+01 8.436831e+00 7.270416e+00 5.503505e+00 \n",
      "      Comp.7       Comp.8       Comp.9      Comp.10      Comp.11      Comp.12 \n",
      "3.810833e+00 3.350284e+00 2.136361e+00 1.980596e+00 1.814285e+00 8.926306e-01 \n",
      "     Comp.13      Comp.14      Comp.15      Comp.16      Comp.17      Comp.18 \n",
      "3.532935e-01 2.829189e-01 4.808988e-02 6.268514e-03 4.145966e-16 0.000000e+00 \n",
      "     Comp.19 \n",
      "0.000000e+00 \n"
     ]
    }
   ],
   "source": [
    "print(parte.pca)"
   ]
  },
  {
   "cell_type": "code",
   "execution_count": 45,
   "id": "7b77215c",
   "metadata": {},
   "outputs": [
    {
     "name": "stdout",
     "output_type": "stream",
     "text": [
      "   Comp.1    Comp.2    Comp.3    Comp.4    Comp.5    Comp.6    Comp.7    Comp.8 \n",
      " 37.70477  53.87876  64.11369  72.55052  79.82093  85.32444  89.13527  92.48556 \n",
      "   Comp.9   Comp.10   Comp.11   Comp.12   Comp.13   Comp.14   Comp.15   Comp.16 \n",
      " 94.62192  96.60251  98.41680  99.30943  99.66272  99.94564  99.99373 100.00000 \n",
      "  Comp.17   Comp.18   Comp.19 \n",
      "100.00000 100.00000 100.00000 \n"
     ]
    }
   ],
   "source": [
    "print(cumsum(parte.pca))"
   ]
  },
  {
   "cell_type": "code",
   "execution_count": 46,
   "id": "ea23f24c",
   "metadata": {},
   "outputs": [
    {
     "data": {
      "image/png": "[encoded data removed]",
      "text/plain": [
       "plot without title"
      ]
     },
     "metadata": {},
     "output_type": "display_data"
    }
   ],
   "source": [
    "# Representación gráfica del PCA\n",
    "biplot(data.pca)"
   ]
  },
  {
   "cell_type": "markdown",
   "id": "43c110a5",
   "metadata": {},
   "source": [
    "# Bartlett Sphericity Test <a class=\"anchor\" id=\"bartlett\"></a>"
   ]
  },
  {
   "cell_type": "code",
   "execution_count": 120,
   "id": "9d5698f0",
   "metadata": {},
   "outputs": [],
   "source": [
    "R = cor(data)\n",
    "#print(correlations)"
   ]
  },
  {
   "cell_type": "code",
   "execution_count": 84,
   "id": "9b881fc6",
   "metadata": {},
   "outputs": [],
   "source": [
    "cor_metrics = findCorrelation(R, cutoff = 0.99, verbose = FALSE, names=TRUE)"
   ]
  },
  {
   "cell_type": "code",
   "execution_count": 91,
   "id": "4687c663",
   "metadata": {},
   "outputs": [
    {
     "data": {
      "text/html": [
       "<ol class=list-inline>\n",
       "\t<li>'CBOOnto'</li>\n",
       "\t<li>'CBOOnto2'</li>\n",
       "\t<li>'RFCOnto'</li>\n",
       "\t<li>'PROnto'</li>\n",
       "</ol>\n"
      ],
      "text/latex": [
       "\\begin{enumerate*}\n",
       "\\item 'CBOOnto'\n",
       "\\item 'CBOOnto2'\n",
       "\\item 'RFCOnto'\n",
       "\\item 'PROnto'\n",
       "\\end{enumerate*}\n"
      ],
      "text/markdown": [
       "1. 'CBOOnto'\n",
       "2. 'CBOOnto2'\n",
       "3. 'RFCOnto'\n",
       "4. 'PROnto'\n",
       "\n",
       "\n"
      ],
      "text/plain": [
       "[1] \"CBOOnto\"  \"CBOOnto2\" \"RFCOnto\"  \"PROnto\"  "
      ]
     },
     "metadata": {},
     "output_type": "display_data"
    }
   ],
   "source": [
    "as.character(cor_metrics)"
   ]
  },
  {
   "cell_type": "code",
   "execution_count": 121,
   "id": "48c5b855",
   "metadata": {},
   "outputs": [],
   "source": [
    "R = R[, !colnames(R) %in% cor_metrics]\n",
    "R = R[!rownames(R) %in% cor_metrics, ]\n",
    "ncol(R)\n",
    "nrow(R)"
   ]
  },
  {
   "cell_type": "code",
   "execution_count": 124,
   "id": "90172d0f",
   "metadata": {},
   "outputs": [
    {
     "name": "stdout",
     "output_type": "stream",
     "text": [
      "$chisq\n",
      "[1] 1115.857\n",
      "\n",
      "$p.value\n",
      "[1] 1.373885e-168\n",
      "\n",
      "$df\n",
      "[1] 105\n",
      "\n"
     ]
    }
   ],
   "source": [
    "print(cortest.bartlett(R, n = nrow(data)))"
   ]
  },
  {
   "cell_type": "markdown",
   "id": "a5568506",
   "metadata": {},
   "source": [
    "## Bartlett Sphericity Test  - Conclusion<a class=\"anchor\" id=\"bartlett-conclusion\"></a>"
   ]
  },
  {
   "cell_type": "markdown",
   "id": "f5ca1f3f",
   "metadata": {},
   "source": [
    "Se rechaza la hipótesis nula al nivel del 5% (valor p=0<0.05). Por lo tanto, se puede realizar de manera eficiente un PCA en el conjunto de datos.\n",
    "\n",
    "**Nota**:\n",
    "La prueba de Bartlett tiene un gran inconveniente. Tiende a ser siempre estadísticamente significativo cuando aumenta el número de instancias n.\n",
    "\n",
    "Algunas referencias aconsejan utilizar esta prueba solo si la relación n:p (número de instancias dividido entre el número de variables) es inferior a 5."
   ]
  },
  {
   "cell_type": "code",
   "execution_count": 125,
   "id": "f438e685",
   "metadata": {},
   "outputs": [
    {
     "data": {
      "text/html": [
       "4.10526315789474"
      ],
      "text/latex": [
       "4.10526315789474"
      ],
      "text/markdown": [
       "4.10526315789474"
      ],
      "text/plain": [
       "[1] 4.105263"
      ]
     },
     "metadata": {},
     "output_type": "display_data"
    }
   ],
   "source": [
    "# Relación n:p es 4.10:\n",
    "nrow(data)/ncol(data)"
   ]
  },
  {
   "cell_type": "markdown",
   "id": "eae51fb0",
   "metadata": {},
   "source": [
    "# Kaiser-Meyer-Olkin Test <a class=\"anchor\" id=\"kmo\"></a>\n"
   ]
  },
  {
   "cell_type": "code",
   "execution_count": 127,
   "id": "825ffea5",
   "metadata": {},
   "outputs": [],
   "source": [
    "R = cor(data)"
   ]
  },
  {
   "cell_type": "code",
   "execution_count": 128,
   "id": "e73dc72b",
   "metadata": {},
   "outputs": [
    {
     "data": {
      "text/html": [
       "15"
      ],
      "text/latex": [
       "15"
      ],
      "text/markdown": [
       "15"
      ],
      "text/plain": [
       "[1] 15"
      ]
     },
     "metadata": {},
     "output_type": "display_data"
    },
    {
     "data": {
      "text/html": [
       "15"
      ],
      "text/latex": [
       "15"
      ],
      "text/markdown": [
       "15"
      ],
      "text/plain": [
       "[1] 15"
      ]
     },
     "metadata": {},
     "output_type": "display_data"
    }
   ],
   "source": [
    "R = R[, !colnames(R) %in% cor_metrics]\n",
    "R = R[!rownames(R) %in% cor_metrics, ]\n",
    "ncol(R)\n",
    "nrow(R)"
   ]
  },
  {
   "cell_type": "code",
   "execution_count": 129,
   "id": "df126a79",
   "metadata": {},
   "outputs": [],
   "source": [
    "kmo_value = psych::KMO(R)"
   ]
  },
  {
   "cell_type": "code",
   "execution_count": 130,
   "id": "802f9c94",
   "metadata": {},
   "outputs": [
    {
     "data": {
      "text/html": [
       "0.637078811841661"
      ],
      "text/latex": [
       "0.637078811841661"
      ],
      "text/markdown": [
       "0.637078811841661"
      ],
      "text/plain": [
       "[1] 0.6370788"
      ]
     },
     "metadata": {},
     "output_type": "display_data"
    }
   ],
   "source": [
    "kmo_value$MSA"
   ]
  },
  {
   "cell_type": "markdown",
   "id": "205d3c28",
   "metadata": {},
   "source": [
    "La matriz de correlación parcial se puede obtener a partir de la matriz de correlación. Se calcula la inversa de esta última:\n",
    "\n",
    "![equation](https://latex.codecogs.com/svg.image?R^{-1}=(v)_{ij})"
   ]
  },
  {
   "cell_type": "code",
   "execution_count": null,
   "id": "f69d6b40",
   "metadata": {},
   "outputs": [],
   "source": [
    "invR <- solve(R)\n",
    "print(invR)"
   ]
  },
  {
   "cell_type": "code",
   "execution_count": null,
   "id": "e8ff02ec",
   "metadata": {},
   "outputs": [],
   "source": [
    "# Matriz de correlación parcial\n",
    "A <- matrix(1, nrow(invR), ncol(invR))\n",
    "for (i in 1:nrow(invR)){\n",
    "  for (j in (i):ncol(invR)){\n",
    "    # Sobre la diagonal\n",
    "    A[i,j] <- -invR[i,j]/sqrt(invR[i,i]*invR[j,j])\n",
    "    # Debajo de la diagonal\n",
    "    A[j,i] <- A[i,j]\n",
    "  }\n",
    "}\n",
    "\n",
    "colnames(A) <- colnames(data)\n",
    "rownames(A) <- colnames(data)\n",
    "print(A)"
   ]
  },
  {
   "cell_type": "code",
   "execution_count": null,
   "id": "66312ff0",
   "metadata": {},
   "outputs": [],
   "source": [
    "kmo.num <- sum(R^2) - sum(diag(R^2))\n",
    "kmo.denom <- kmo.num + (sum(A^2) - sum(diag(A^2)))\n",
    "kmo <- kmo.num/kmo.denom\n",
    "print(\"KMO index:\")\n",
    "print(kmo)"
   ]
  },
  {
   "cell_type": "markdown",
   "id": "14e92c6c",
   "metadata": {},
   "source": [
    "Si el índice KMO es alto (≈1), el PCA puede actuar de manera eficiente.\n",
    "Si el índice KMO es bajo (≈0), el PCA no es relevante."
   ]
  },
  {
   "cell_type": "code",
   "execution_count": null,
   "id": "5633ae84",
   "metadata": {},
   "outputs": [],
   "source": [
    "bart_spher(data)"
   ]
  },
  {
   "cell_type": "code",
   "execution_count": null,
   "id": "62fefebb",
   "metadata": {},
   "outputs": [],
   "source": [
    "KMOS(data)"
   ]
  },
  {
   "cell_type": "markdown",
   "id": "6550720a",
   "metadata": {},
   "source": [
    "# References <a class=\"anchor\" id=\"references\"></a>"
   ]
  },
  {
   "cell_type": "markdown",
   "id": "34a12eb6",
   "metadata": {},
   "source": [
    "<a id=\"1\">[1]</a>\n",
    "https://www.r-data-scientist.com/es/blog/statistical-tests/bartlett-test/\n"
   ]
  }
 ],
 "metadata": {
  "kernelspec": {
   "display_name": "R",
   "language": "R",
   "name": "ir"
  },
  "language_info": {
   "codemirror_mode": "r",
   "file_extension": ".r",
   "mimetype": "text/x-r-source",
   "name": "R",
   "pygments_lexer": "r",
   "version": "3.6.1"
  }
 },
 "nbformat": 4,
 "nbformat_minor": 5
}
