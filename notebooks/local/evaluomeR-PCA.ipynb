{
 "cells": [
  {
   "cell_type": "markdown",
   "id": "285a2f02",
   "metadata": {},
   "source": [
    "# evaluomeR PCA"
   ]
  },
  {
   "cell_type": "code",
   "execution_count": 22,
   "id": "9ba99e51",
   "metadata": {
    "scrolled": true
   },
   "outputs": [],
   "source": [
    "library(\"evaluomeR\")\n",
    "library(\"psych\")\n",
    "library(\"scales\")\n",
    "library(\"caret\")\n",
    "\n",
    "options(scipen=10)"
   ]
  },
  {
   "cell_type": "code",
   "execution_count": 51,
   "id": "459528fa",
   "metadata": {},
   "outputs": [],
   "source": [
    "?psych"
   ]
  },
  {
   "cell_type": "code",
   "execution_count": 2,
   "id": "97b05861",
   "metadata": {},
   "outputs": [],
   "source": [
    "# https://www.r-data-scientist.com/es/blog/statistical-tests/bartlett-test/\n",
    "# https://www.r-data-scientist.com/es/blog/statistical-tests/kaiser-meyer-olkin-test/"
   ]
  },
  {
   "cell_type": "markdown",
   "id": "d4189ae3",
   "metadata": {},
   "source": [
    "# Table of contents\n",
    "* [PCA](#pca)\n",
    "* [Bartlett Sphericity Test](#bartlett)\n",
    "    * [Bartlett Sphericity Test - Conclusiones](#bartlett-conclusion)\n",
    "* [Kaiser-Meyer-Olkin Test](#kmo)\n",
    "* [References](#references)"
   ]
  },
  {
   "cell_type": "markdown",
   "id": "7902cfa3",
   "metadata": {},
   "source": [
    "# PCA <a class=\"anchor\" id=\"pca\"></a>"
   ]
  },
  {
   "cell_type": "code",
   "execution_count": 24,
   "id": "7de4bfd0",
   "metadata": {},
   "outputs": [],
   "source": [
    "# data(\"rnaMetrics\")\n",
    "seed = 13606\n",
    "scaled = FALSE\n",
    "k.range=c(2,6)\n",
    "set.seed(seed)\n",
    "input_df = read.csv(paste0(getwd(), \"/\",\"../../usecases/usecase2/data/agro.csv\"), header=TRUE, stringsAsFactors=FALSE)\n",
    "#input_df = read.csv(paste0(getwd(), \"/\",\"../../usecases/usecase2/data/obo-119.csv\"), header=TRUE, stringsAsFactors=FALSE)\n",
    "#input_df = as.data.frame(assay(rnaMetrics))\n",
    "data = input_df[-1]"
   ]
  },
  {
   "cell_type": "code",
   "execution_count": 25,
   "id": "78a7d785",
   "metadata": {},
   "outputs": [
    {
     "data": {
      "text/html": [
       "<table>\n",
       "<thead><tr><th scope=col>ANOnto</th><th scope=col>AROnto</th><th scope=col>CBOOnto</th><th scope=col>CBOOnto2</th><th scope=col>CROnto</th><th scope=col>DITOnto</th><th scope=col>INROnto</th><th scope=col>LCOMOnto</th><th scope=col>NACOnto</th><th scope=col>NOCOnto</th><th scope=col>NOMOnto</th><th scope=col>POnto</th><th scope=col>PROnto</th><th scope=col>RFCOnto</th><th scope=col>RROnto</th><th scope=col>TMOnto</th><th scope=col>TMOnto2</th><th scope=col>WMCOnto</th><th scope=col>WMCOnto2</th></tr></thead>\n",
       "<tbody>\n",
       "\t<tr><td>0.0000000   </td><td>3.9503849   </td><td>0.9991446   </td><td>0.9991446   </td><td>   0.9957228</td><td> 3          </td><td>0.9991446   </td><td>1.999142    </td><td>1.000000    </td><td>292.000000  </td><td>   2.9632164</td><td>0.9957228   </td><td>0.7478411   </td><td>   3.9623610</td><td>0.252158895 </td><td>0.00000000  </td><td>0.000000    </td><td>1.999142    </td><td>1.000000    </td></tr>\n",
       "\t<tr><td>0.9298246   </td><td>0.5438596   </td><td>0.9824561   </td><td>0.9824561   </td><td>   0.0000000</td><td> 5          </td><td>0.9824561   </td><td>2.357143    </td><td>1.000000    </td><td>  3.733333  </td><td>   0.9824561</td><td>0.5789474   </td><td>0.5000000   </td><td>   1.9649123</td><td>0.500000000 </td><td>0.00000000  </td><td>0.000000    </td><td>2.357143    </td><td>1.000000    </td></tr>\n",
       "\t<tr><td>0.7500000   </td><td>0.0000000   </td><td>0.8750000   </td><td>0.8750000   </td><td>3998.8750000</td><td> 3          </td><td>0.8750000   </td><td>1.333333    </td><td>1.000000    </td><td>  3.500000  </td><td>2275.7500000</td><td>0.2500000   </td><td>0.9996157   </td><td>2276.6250000</td><td>0.000384341 </td><td>0.00000000  </td><td>0.000000    </td><td>1.333333    </td><td>1.000000    </td></tr>\n",
       "\t<tr><td>0.9907407   </td><td>3.1018519   </td><td>1.0694444   </td><td>1.0694444   </td><td>   0.3634259</td><td>16          </td><td>1.0694444   </td><td>7.695971    </td><td>1.052174    </td><td>  2.287129  </td><td>   1.2037037</td><td>1.0555556   </td><td>0.5295316   </td><td>   2.2731481</td><td>0.470468432 </td><td>0.06264501  </td><td>2.148148    </td><td>9.134783    </td><td>1.186957    </td></tr>\n",
       "\t<tr><td>1.2362637   </td><td>0.0000000   </td><td>1.0659341   </td><td>1.0659341   </td><td>   0.0000000</td><td> 6          </td><td>1.0329670   </td><td>2.467532    </td><td>1.077465    </td><td>  4.700000  </td><td>   0.5879121</td><td>0.8571429   </td><td>0.3627119   </td><td>   1.6538462</td><td>0.637288136 </td><td>0.07182320  </td><td>2.000000    </td><td>2.676056    </td><td>1.084507    </td></tr>\n",
       "\t<tr><td>0.0000000   </td><td>0.0000000   </td><td>0.6666667   </td><td>0.6666667   </td><td>1107.6666670</td><td> 2          </td><td>0.6666667   </td><td>1.000000    </td><td>1.000000    </td><td>  2.000000  </td><td>   0.0000000</td><td>0.0000000   </td><td>0.0000000   </td><td>   0.6666667</td><td>1.000000000 </td><td>0.00000000  </td><td>0.000000    </td><td>1.000000    </td><td>1.000000    </td></tr>\n",
       "</tbody>\n",
       "</table>\n"
      ],
      "text/latex": [
       "\\begin{tabular}{r|lllllllllllllllllll}\n",
       " ANOnto & AROnto & CBOOnto & CBOOnto2 & CROnto & DITOnto & INROnto & LCOMOnto & NACOnto & NOCOnto & NOMOnto & POnto & PROnto & RFCOnto & RROnto & TMOnto & TMOnto2 & WMCOnto & WMCOnto2\\\\\n",
       "\\hline\n",
       "\t 0.0000000    & 3.9503849    & 0.9991446    & 0.9991446    &    0.9957228 &  3           & 0.9991446    & 1.999142     & 1.000000     & 292.000000   &    2.9632164 & 0.9957228    & 0.7478411    &    3.9623610 & 0.252158895  & 0.00000000   & 0.000000     & 1.999142     & 1.000000    \\\\\n",
       "\t 0.9298246    & 0.5438596    & 0.9824561    & 0.9824561    &    0.0000000 &  5           & 0.9824561    & 2.357143     & 1.000000     &   3.733333   &    0.9824561 & 0.5789474    & 0.5000000    &    1.9649123 & 0.500000000  & 0.00000000   & 0.000000     & 2.357143     & 1.000000    \\\\\n",
       "\t 0.7500000    & 0.0000000    & 0.8750000    & 0.8750000    & 3998.8750000 &  3           & 0.8750000    & 1.333333     & 1.000000     &   3.500000   & 2275.7500000 & 0.2500000    & 0.9996157    & 2276.6250000 & 0.000384341  & 0.00000000   & 0.000000     & 1.333333     & 1.000000    \\\\\n",
       "\t 0.9907407    & 3.1018519    & 1.0694444    & 1.0694444    &    0.3634259 & 16           & 1.0694444    & 7.695971     & 1.052174     &   2.287129   &    1.2037037 & 1.0555556    & 0.5295316    &    2.2731481 & 0.470468432  & 0.06264501   & 2.148148     & 9.134783     & 1.186957    \\\\\n",
       "\t 1.2362637    & 0.0000000    & 1.0659341    & 1.0659341    &    0.0000000 &  6           & 1.0329670    & 2.467532     & 1.077465     &   4.700000   &    0.5879121 & 0.8571429    & 0.3627119    &    1.6538462 & 0.637288136  & 0.07182320   & 2.000000     & 2.676056     & 1.084507    \\\\\n",
       "\t 0.0000000    & 0.0000000    & 0.6666667    & 0.6666667    & 1107.6666670 &  2           & 0.6666667    & 1.000000     & 1.000000     &   2.000000   &    0.0000000 & 0.0000000    & 0.0000000    &    0.6666667 & 1.000000000  & 0.00000000   & 0.000000     & 1.000000     & 1.000000    \\\\\n",
       "\\end{tabular}\n"
      ],
      "text/markdown": [
       "\n",
       "| ANOnto | AROnto | CBOOnto | CBOOnto2 | CROnto | DITOnto | INROnto | LCOMOnto | NACOnto | NOCOnto | NOMOnto | POnto | PROnto | RFCOnto | RROnto | TMOnto | TMOnto2 | WMCOnto | WMCOnto2 |\n",
       "|---|---|---|---|---|---|---|---|---|---|---|---|---|---|---|---|---|---|---|\n",
       "| 0.0000000    | 3.9503849    | 0.9991446    | 0.9991446    |    0.9957228 |  3           | 0.9991446    | 1.999142     | 1.000000     | 292.000000   |    2.9632164 | 0.9957228    | 0.7478411    |    3.9623610 | 0.252158895  | 0.00000000   | 0.000000     | 1.999142     | 1.000000     |\n",
       "| 0.9298246    | 0.5438596    | 0.9824561    | 0.9824561    |    0.0000000 |  5           | 0.9824561    | 2.357143     | 1.000000     |   3.733333   |    0.9824561 | 0.5789474    | 0.5000000    |    1.9649123 | 0.500000000  | 0.00000000   | 0.000000     | 2.357143     | 1.000000     |\n",
       "| 0.7500000    | 0.0000000    | 0.8750000    | 0.8750000    | 3998.8750000 |  3           | 0.8750000    | 1.333333     | 1.000000     |   3.500000   | 2275.7500000 | 0.2500000    | 0.9996157    | 2276.6250000 | 0.000384341  | 0.00000000   | 0.000000     | 1.333333     | 1.000000     |\n",
       "| 0.9907407    | 3.1018519    | 1.0694444    | 1.0694444    |    0.3634259 | 16           | 1.0694444    | 7.695971     | 1.052174     |   2.287129   |    1.2037037 | 1.0555556    | 0.5295316    |    2.2731481 | 0.470468432  | 0.06264501   | 2.148148     | 9.134783     | 1.186957     |\n",
       "| 1.2362637    | 0.0000000    | 1.0659341    | 1.0659341    |    0.0000000 |  6           | 1.0329670    | 2.467532     | 1.077465     |   4.700000   |    0.5879121 | 0.8571429    | 0.3627119    |    1.6538462 | 0.637288136  | 0.07182320   | 2.000000     | 2.676056     | 1.084507     |\n",
       "| 0.0000000    | 0.0000000    | 0.6666667    | 0.6666667    | 1107.6666670 |  2           | 0.6666667    | 1.000000     | 1.000000     |   2.000000   |    0.0000000 | 0.0000000    | 0.0000000    |    0.6666667 | 1.000000000  | 0.00000000   | 0.000000     | 1.000000     | 1.000000     |\n",
       "\n"
      ],
      "text/plain": [
       "  ANOnto    AROnto    CBOOnto   CBOOnto2  CROnto       DITOnto INROnto  \n",
       "1 0.0000000 3.9503849 0.9991446 0.9991446    0.9957228  3      0.9991446\n",
       "2 0.9298246 0.5438596 0.9824561 0.9824561    0.0000000  5      0.9824561\n",
       "3 0.7500000 0.0000000 0.8750000 0.8750000 3998.8750000  3      0.8750000\n",
       "4 0.9907407 3.1018519 1.0694444 1.0694444    0.3634259 16      1.0694444\n",
       "5 1.2362637 0.0000000 1.0659341 1.0659341    0.0000000  6      1.0329670\n",
       "6 0.0000000 0.0000000 0.6666667 0.6666667 1107.6666670  2      0.6666667\n",
       "  LCOMOnto NACOnto  NOCOnto    NOMOnto      POnto     PROnto    RFCOnto     \n",
       "1 1.999142 1.000000 292.000000    2.9632164 0.9957228 0.7478411    3.9623610\n",
       "2 2.357143 1.000000   3.733333    0.9824561 0.5789474 0.5000000    1.9649123\n",
       "3 1.333333 1.000000   3.500000 2275.7500000 0.2500000 0.9996157 2276.6250000\n",
       "4 7.695971 1.052174   2.287129    1.2037037 1.0555556 0.5295316    2.2731481\n",
       "5 2.467532 1.077465   4.700000    0.5879121 0.8571429 0.3627119    1.6538462\n",
       "6 1.000000 1.000000   2.000000    0.0000000 0.0000000 0.0000000    0.6666667\n",
       "  RROnto      TMOnto     TMOnto2  WMCOnto  WMCOnto2\n",
       "1 0.252158895 0.00000000 0.000000 1.999142 1.000000\n",
       "2 0.500000000 0.00000000 0.000000 2.357143 1.000000\n",
       "3 0.000384341 0.00000000 0.000000 1.333333 1.000000\n",
       "4 0.470468432 0.06264501 2.148148 9.134783 1.186957\n",
       "5 0.637288136 0.07182320 2.000000 2.676056 1.084507\n",
       "6 1.000000000 0.00000000 0.000000 1.000000 1.000000"
      ]
     },
     "metadata": {},
     "output_type": "display_data"
    }
   ],
   "source": [
    "if (scaled) {\n",
    "    data = scales::rescale(as.matrix(data), to=c(0,1))\n",
    "}\n",
    "head(data)"
   ]
  },
  {
   "cell_type": "code",
   "execution_count": 26,
   "id": "e7fc5623",
   "metadata": {},
   "outputs": [],
   "source": [
    "data.pca = princomp(data, cor = TRUE)\n",
    "# Calcular la proporción acumulada de la varianza explicada de los factores\n",
    "parte.pca <- data.pca$sdev^2/sum(data.pca$sdev^2)*100"
   ]
  },
  {
   "cell_type": "code",
   "execution_count": 27,
   "id": "9202d736",
   "metadata": {},
   "outputs": [
    {
     "name": "stdout",
     "output_type": "stream",
     "text": [
      "      Comp.1       Comp.2       Comp.3       Comp.4       Comp.5       Comp.6 \n",
      "3.770477e+01 1.617399e+01 1.023493e+01 8.436831e+00 7.270416e+00 5.503505e+00 \n",
      "      Comp.7       Comp.8       Comp.9      Comp.10      Comp.11      Comp.12 \n",
      "3.810833e+00 3.350284e+00 2.136361e+00 1.980596e+00 1.814285e+00 8.926306e-01 \n",
      "     Comp.13      Comp.14      Comp.15      Comp.16      Comp.17      Comp.18 \n",
      "3.532935e-01 2.829189e-01 4.808988e-02 6.268514e-03 4.825372e-15 1.199166e-15 \n",
      "     Comp.19 \n",
      "0.000000e+00 \n"
     ]
    }
   ],
   "source": [
    "print(parte.pca)"
   ]
  },
  {
   "cell_type": "code",
   "execution_count": 28,
   "id": "7b77215c",
   "metadata": {},
   "outputs": [
    {
     "name": "stdout",
     "output_type": "stream",
     "text": [
      "   Comp.1    Comp.2    Comp.3    Comp.4    Comp.5    Comp.6    Comp.7    Comp.8 \n",
      " 37.70477  53.87876  64.11369  72.55052  79.82093  85.32444  89.13527  92.48556 \n",
      "   Comp.9   Comp.10   Comp.11   Comp.12   Comp.13   Comp.14   Comp.15   Comp.16 \n",
      " 94.62192  96.60251  98.41680  99.30943  99.66272  99.94564  99.99373 100.00000 \n",
      "  Comp.17   Comp.18   Comp.19 \n",
      "100.00000 100.00000 100.00000 \n"
     ]
    }
   ],
   "source": [
    "print(cumsum(parte.pca))"
   ]
  },
  {
   "cell_type": "code",
   "execution_count": 29,
   "id": "ea23f24c",
   "metadata": {},
   "outputs": [
    {
     "data": {
      "image/png": "[encoded data removed]",
      "text/plain": [
       "plot without title"
      ]
     },
     "metadata": {},
     "output_type": "display_data"
    }
   ],
   "source": [
    "# Representación gráfica del PCA\n",
    "biplot(data.pca)"
   ]
  },
  {
   "cell_type": "markdown",
   "id": "43c110a5",
   "metadata": {},
   "source": [
    "# Bartlett Sphericity Test <a class=\"anchor\" id=\"bartlett\"></a>"
   ]
  },
  {
   "cell_type": "code",
   "execution_count": 46,
   "id": "9d5698f0",
   "metadata": {},
   "outputs": [],
   "source": [
    "R = cor(data)\n",
    "#print(correlations)"
   ]
  },
  {
   "cell_type": "code",
   "execution_count": 48,
   "id": "9b881fc6",
   "metadata": {},
   "outputs": [
    {
     "data": {
      "text/html": [
       "<ol class=list-inline>\n",
       "\t<li>'CBOOnto'</li>\n",
       "\t<li>'CBOOnto2'</li>\n",
       "\t<li>'WMCOnto'</li>\n",
       "\t<li>'RFCOnto'</li>\n",
       "\t<li>'PROnto'</li>\n",
       "</ol>\n"
      ],
      "text/latex": [
       "\\begin{enumerate*}\n",
       "\\item 'CBOOnto'\n",
       "\\item 'CBOOnto2'\n",
       "\\item 'WMCOnto'\n",
       "\\item 'RFCOnto'\n",
       "\\item 'PROnto'\n",
       "\\end{enumerate*}\n"
      ],
      "text/markdown": [
       "1. 'CBOOnto'\n",
       "2. 'CBOOnto2'\n",
       "3. 'WMCOnto'\n",
       "4. 'RFCOnto'\n",
       "5. 'PROnto'\n",
       "\n",
       "\n"
      ],
      "text/plain": [
       "[1] \"CBOOnto\"  \"CBOOnto2\" \"WMCOnto\"  \"RFCOnto\"  \"PROnto\"  "
      ]
     },
     "metadata": {},
     "output_type": "display_data"
    }
   ],
   "source": [
    "cor_metrics = findCorrelation(R, cutoff = 0.9, verbose = FALSE, names=TRUE)\n",
    "cor_metrics"
   ]
  },
  {
   "cell_type": "code",
   "execution_count": 33,
   "id": "48c5b855",
   "metadata": {},
   "outputs": [
    {
     "data": {
      "text/html": [
       "14"
      ],
      "text/latex": [
       "14"
      ],
      "text/markdown": [
       "14"
      ],
      "text/plain": [
       "[1] 14"
      ]
     },
     "metadata": {},
     "output_type": "display_data"
    },
    {
     "data": {
      "text/html": [
       "14"
      ],
      "text/latex": [
       "14"
      ],
      "text/markdown": [
       "14"
      ],
      "text/plain": [
       "[1] 14"
      ]
     },
     "metadata": {},
     "output_type": "display_data"
    }
   ],
   "source": [
    "R = R[, !colnames(R) %in% cor_metrics]\n",
    "R = R[!rownames(R) %in% cor_metrics, ]\n",
    "ncol(R)\n",
    "nrow(R)"
   ]
  },
  {
   "cell_type": "code",
   "execution_count": 34,
   "id": "90172d0f",
   "metadata": {},
   "outputs": [
    {
     "name": "stdout",
     "output_type": "stream",
     "text": [
      "$chisq\n",
      "[1] 687.513\n",
      "\n",
      "$p.value\n",
      "[1] 2.407766e-92\n",
      "\n",
      "$df\n",
      "[1] 91\n",
      "\n"
     ]
    }
   ],
   "source": [
    "print(cortest.bartlett(R, n = nrow(data)))"
   ]
  },
  {
   "cell_type": "markdown",
   "id": "a5568506",
   "metadata": {},
   "source": [
    "## Bartlett Sphericity Test  - Conclusion<a class=\"anchor\" id=\"bartlett-conclusion\"></a>"
   ]
  },
  {
   "cell_type": "markdown",
   "id": "f5ca1f3f",
   "metadata": {},
   "source": [
    "Se rechaza la hipótesis nula al nivel del 5% (valor p=0<0.05). Por lo tanto, se puede realizar de manera eficiente un PCA en el conjunto de datos.\n",
    "\n",
    "**Nota**:\n",
    "La prueba de Bartlett tiene un gran inconveniente. Tiende a ser siempre estadísticamente significativo cuando aumenta el número de instancias n.\n",
    "\n",
    "Algunas referencias aconsejan utilizar esta prueba solo si la relación n:p (número de instancias dividido entre el número de variables) es inferior a 5."
   ]
  },
  {
   "cell_type": "code",
   "execution_count": 35,
   "id": "f438e685",
   "metadata": {},
   "outputs": [
    {
     "data": {
      "text/html": [
       "4.10526315789474"
      ],
      "text/latex": [
       "4.10526315789474"
      ],
      "text/markdown": [
       "4.10526315789474"
      ],
      "text/plain": [
       "[1] 4.105263"
      ]
     },
     "metadata": {},
     "output_type": "display_data"
    }
   ],
   "source": [
    "# Relación n:p es 4.10:\n",
    "nrow(data)/ncol(data)"
   ]
  },
  {
   "cell_type": "markdown",
   "id": "eae51fb0",
   "metadata": {},
   "source": [
    "# Kaiser-Meyer-Olkin Test <a class=\"anchor\" id=\"kmo\"></a>\n"
   ]
  },
  {
   "cell_type": "code",
   "execution_count": 36,
   "id": "825ffea5",
   "metadata": {},
   "outputs": [],
   "source": [
    "R = cor(data)"
   ]
  },
  {
   "cell_type": "code",
   "execution_count": 37,
   "id": "e73dc72b",
   "metadata": {},
   "outputs": [
    {
     "data": {
      "text/html": [
       "14"
      ],
      "text/latex": [
       "14"
      ],
      "text/markdown": [
       "14"
      ],
      "text/plain": [
       "[1] 14"
      ]
     },
     "metadata": {},
     "output_type": "display_data"
    },
    {
     "data": {
      "text/html": [
       "14"
      ],
      "text/latex": [
       "14"
      ],
      "text/markdown": [
       "14"
      ],
      "text/plain": [
       "[1] 14"
      ]
     },
     "metadata": {},
     "output_type": "display_data"
    }
   ],
   "source": [
    "R = R[, !colnames(R) %in% cor_metrics]\n",
    "R = R[!rownames(R) %in% cor_metrics, ]\n",
    "ncol(R)\n",
    "nrow(R)"
   ]
  },
  {
   "cell_type": "code",
   "execution_count": 38,
   "id": "df126a79",
   "metadata": {},
   "outputs": [],
   "source": [
    "kmo_value = psych::KMO(R)"
   ]
  },
  {
   "cell_type": "code",
   "execution_count": 39,
   "id": "802f9c94",
   "metadata": {},
   "outputs": [
    {
     "data": {
      "text/html": [
       "0.679282534271074"
      ],
      "text/latex": [
       "0.679282534271074"
      ],
      "text/markdown": [
       "0.679282534271074"
      ],
      "text/plain": [
       "[1] 0.6792825"
      ]
     },
     "metadata": {},
     "output_type": "display_data"
    }
   ],
   "source": [
    "kmo_value$MSA"
   ]
  },
  {
   "cell_type": "markdown",
   "id": "205d3c28",
   "metadata": {},
   "source": [
    "La matriz de correlación parcial se puede obtener a partir de la matriz de correlación. Se calcula la inversa de esta última:\n",
    "\n",
    "![equation](https://latex.codecogs.com/svg.image?R^{-1}=(v)_{ij})"
   ]
  },
  {
   "cell_type": "markdown",
   "id": "14e92c6c",
   "metadata": {},
   "source": [
    "Si el índice KMO es alto (≈1), el PCA puede actuar de manera eficiente.\n",
    "Si el índice KMO es bajo (≈0), el PCA no es relevante."
   ]
  },
  {
   "cell_type": "code",
   "execution_count": null,
   "id": "c6dcd353",
   "metadata": {},
   "outputs": [],
   "source": [
    "data.pca = princomp(data, cor = TRUE)\n",
    "# Calcular la proporción acumulada de la varianza explicada de los factores\n",
    "parte.pca <- data.pca$sdev^2/sum(data.pca$sdev^2)*100"
   ]
  },
  {
   "cell_type": "markdown",
   "id": "1c7b8bff",
   "metadata": {},
   "source": [
    "# Method"
   ]
  },
  {
   "cell_type": "code",
   "execution_count": 150,
   "id": "86216fb8",
   "metadata": {},
   "outputs": [],
   "source": [
    "# Assuming first column is the 'description' one\n",
    "# Try catch: Try KMO, if won't work find correlations, cut them off, and retry\n",
    "correlation_tests <- function(input_data, cutoff=0.9) {\n",
    "    \n",
    "    data = input_df[-1] # Removing 'description' column\n",
    "    R = cor(data) # Correlations\n",
    "    cor_metrics = findCorrelation(R, cutoff = cutoff, verbose = FALSE, names=TRUE)\n",
    "    # Removes highly correlated metrics from R\n",
    "    R = R[, !colnames(R) %in% cor_metrics]\n",
    "    R = R[!rownames(R) %in% cor_metrics, ]\n",
    "    \n",
    "    r_bartlett = psych::cortest.bartlett(R, n = nrow(data))\n",
    "    print(paste0(\"Bartlett p-value: \", r_bartlett$p.value))\n",
    "\n",
    "    r_kmo = psych::KMO(R)\n",
    "    print(paste0(\"KMO value: \", r_kmo$MSA))\n",
    "    \n",
    "    cleaned_df = input_df[, !colnames(input_df) %in% cor_metrics]\n",
    "\n",
    "    result = NULL\n",
    "    result$pca = (r_bartlett$p.value <= 0.05) && (r_kmo$MSA < 0.7)\n",
    "    result$bartlett = r_bartlett$p.value\n",
    "    result$kmo = r_kmo$MSA\n",
    "    result$removed_metrics = cor_metrics\n",
    "    result$data = cleaned_df\n",
    "    return(result)\n",
    "}"
   ]
  },
  {
   "cell_type": "code",
   "execution_count": 153,
   "id": "2a838a2c",
   "metadata": {},
   "outputs": [
    {
     "name": "stdout",
     "output_type": "stream",
     "text": [
      "[1] \"Bartlett p-value: 4.29306476827832e-124\"\n",
      "[1] \"KMO value: 0.557646027802187\"\n"
     ]
    },
    {
     "data": {
      "text/html": [
       "<ol class=list-inline>\n",
       "\t<li>'PCA'</li>\n",
       "\t<li>'bartlett'</li>\n",
       "\t<li>'kmo'</li>\n",
       "\t<li>'removed_metrics'</li>\n",
       "\t<li>'data'</li>\n",
       "</ol>\n"
      ],
      "text/latex": [
       "\\begin{enumerate*}\n",
       "\\item 'PCA'\n",
       "\\item 'bartlett'\n",
       "\\item 'kmo'\n",
       "\\item 'removed\\_metrics'\n",
       "\\item 'data'\n",
       "\\end{enumerate*}\n"
      ],
      "text/markdown": [
       "1. 'PCA'\n",
       "2. 'bartlett'\n",
       "3. 'kmo'\n",
       "4. 'removed_metrics'\n",
       "5. 'data'\n",
       "\n",
       "\n"
      ],
      "text/plain": [
       "[1] \"PCA\"             \"bartlett\"        \"kmo\"             \"removed_metrics\"\n",
       "[5] \"data\"           "
      ]
     },
     "metadata": {},
     "output_type": "display_data"
    }
   ],
   "source": [
    "#input_df = read.csv(paste0(getwd(), \"/\",\"../../usecases/usecase2/data/agro.csv\"), header=TRUE, stringsAsFactors=FALSE)\n",
    "input_df = read.csv(paste0(getwd(), \"/\",\"../../usecases/usecase2/data/obo-119.csv\"), header=TRUE, stringsAsFactors=FALSE)\n",
    "#input_df = as.data.frame(assay(rnaMetrics))\n",
    "\n",
    "result = correlation_tests(input_df)\n",
    "names(result)"
   ]
  },
  {
   "cell_type": "code",
   "execution_count": 156,
   "id": "825144e9",
   "metadata": {
    "scrolled": true
   },
   "outputs": [
    {
     "data": {
      "text/html": [
       "<ol class=list-inline>\n",
       "\t<li>'INROnto'</li>\n",
       "\t<li>'CBOOnto'</li>\n",
       "\t<li>'WMCOnto'</li>\n",
       "\t<li>'RFCOnto'</li>\n",
       "\t<li>'PROnto'</li>\n",
       "</ol>\n"
      ],
      "text/latex": [
       "\\begin{enumerate*}\n",
       "\\item 'INROnto'\n",
       "\\item 'CBOOnto'\n",
       "\\item 'WMCOnto'\n",
       "\\item 'RFCOnto'\n",
       "\\item 'PROnto'\n",
       "\\end{enumerate*}\n"
      ],
      "text/markdown": [
       "1. 'INROnto'\n",
       "2. 'CBOOnto'\n",
       "3. 'WMCOnto'\n",
       "4. 'RFCOnto'\n",
       "5. 'PROnto'\n",
       "\n",
       "\n"
      ],
      "text/plain": [
       "[1] \"INROnto\" \"CBOOnto\" \"WMCOnto\" \"RFCOnto\" \"PROnto\" "
      ]
     },
     "metadata": {},
     "output_type": "display_data"
    }
   ],
   "source": [
    "result$removed_metrics"
   ]
  },
  {
   "cell_type": "markdown",
   "id": "74896283",
   "metadata": {},
   "source": [
    "# PCA"
   ]
  },
  {
   "cell_type": "code",
   "execution_count": 154,
   "id": "74cb649c",
   "metadata": {},
   "outputs": [],
   "source": [
    "# PCA ahora\n",
    "data.pca = princomp(result$data[-1], cor = TRUE)\n",
    "# Calcular la proporción acumulada de la varianza explicada de los factores\n",
    "parte.pca <- data.pca$sdev^2/sum(data.pca$sdev^2)*100"
   ]
  },
  {
   "cell_type": "code",
   "execution_count": 155,
   "id": "b3ca2ddb",
   "metadata": {},
   "outputs": [
    {
     "name": "stdout",
     "output_type": "stream",
     "text": [
      "    Comp.1     Comp.2     Comp.3     Comp.4     Comp.5     Comp.6     Comp.7 \n",
      "25.6893018 15.1439308 12.1849989 11.3340696  7.6187971  7.2050614  5.9758747 \n",
      "    Comp.8     Comp.9    Comp.10    Comp.11    Comp.12    Comp.13    Comp.14 \n",
      " 4.4046901  3.5139853  2.6920006  1.9088606  1.2510865  0.7072018  0.3701409 \n",
      "   Comp.1    Comp.2    Comp.3    Comp.4    Comp.5    Comp.6    Comp.7    Comp.8 \n",
      " 25.68930  40.83323  53.01823  64.35230  71.97110  79.17616  85.15203  89.55672 \n",
      "   Comp.9   Comp.10   Comp.11   Comp.12   Comp.13   Comp.14 \n",
      " 93.07071  95.76271  97.67157  98.92266  99.62986 100.00000 \n"
     ]
    },
    {
     "data": {
      "image/png": "[encoded data removed]",
      "text/plain": [
       "plot without title"
      ]
     },
     "metadata": {},
     "output_type": "display_data"
    }
   ],
   "source": [
    "# Representación gráfica del PCA\n",
    "print(parte.pca)\n",
    "print(cumsum(parte.pca))\n",
    "biplot(data.pca)"
   ]
  },
  {
   "cell_type": "markdown",
   "id": "6550720a",
   "metadata": {},
   "source": [
    "# References <a class=\"anchor\" id=\"references\"></a>"
   ]
  },
  {
   "cell_type": "markdown",
   "id": "34a12eb6",
   "metadata": {},
   "source": [
    "<a id=\"1\">[1]</a>\n",
    "https://www.r-data-scientist.com/es/blog/statistical-tests/bartlett-test/\n",
    "\n",
    "<a id=\"2\">[2]</a>\n",
    "https://www.r-data-scientist.com/es/blog/statistical-tests/kaiser-meyer-olkin-test/\n"
   ]
  }
 ],
 "metadata": {
  "kernelspec": {
   "display_name": "R",
   "language": "R",
   "name": "ir"
  },
  "language_info": {
   "codemirror_mode": "r",
   "file_extension": ".r",
   "mimetype": "text/x-r-source",
   "name": "R",
   "pygments_lexer": "r",
   "version": "3.6.1"
  }
 },
 "nbformat": 4,
 "nbformat_minor": 5
}
