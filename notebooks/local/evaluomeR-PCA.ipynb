{
 "cells": [
  {
   "cell_type": "markdown",
   "id": "285a2f02",
   "metadata": {},
   "source": [
    "# evaluomeR PCA"
   ]
  },
  {
   "cell_type": "code",
   "execution_count": 10,
   "id": "9ba99e51",
   "metadata": {
    "scrolled": true
   },
   "outputs": [
    {
     "name": "stderr",
     "output_type": "stream",
     "text": [
      "Loading required package: SummarizedExperiment\n",
      "Loading required package: GenomicRanges\n",
      "Loading required package: stats4\n",
      "Loading required package: BiocGenerics\n",
      "Loading required package: parallel\n",
      "\n",
      "Attaching package: 'BiocGenerics'\n",
      "\n",
      "The following objects are masked from 'package:parallel':\n",
      "\n",
      "    clusterApply, clusterApplyLB, clusterCall, clusterEvalQ,\n",
      "    clusterExport, clusterMap, parApply, parCapply, parLapply,\n",
      "    parLapplyLB, parRapply, parSapply, parSapplyLB\n",
      "\n",
      "The following objects are masked from 'package:stats':\n",
      "\n",
      "    IQR, mad, sd, var, xtabs\n",
      "\n",
      "The following objects are masked from 'package:base':\n",
      "\n",
      "    anyDuplicated, append, as.data.frame, basename, cbind, colnames,\n",
      "    dirname, do.call, duplicated, eval, evalq, Filter, Find, get, grep,\n",
      "    grepl, intersect, is.unsorted, lapply, Map, mapply, match, mget,\n",
      "    order, paste, pmax, pmax.int, pmin, pmin.int, Position, rank,\n",
      "    rbind, Reduce, rownames, sapply, setdiff, sort, table, tapply,\n",
      "    union, unique, unsplit, which, which.max, which.min\n",
      "\n",
      "Loading required package: S4Vectors\n",
      "\n",
      "Attaching package: 'S4Vectors'\n",
      "\n",
      "The following object is masked from 'package:base':\n",
      "\n",
      "    expand.grid\n",
      "\n",
      "Loading required package: IRanges\n",
      "\n",
      "Attaching package: 'IRanges'\n",
      "\n",
      "The following object is masked from 'package:grDevices':\n",
      "\n",
      "    windows\n",
      "\n",
      "Loading required package: GenomeInfoDb\n",
      "Loading required package: Biobase\n",
      "Welcome to Bioconductor\n",
      "\n",
      "    Vignettes contain introductory material; view with\n",
      "    'browseVignettes()'. To cite Bioconductor, see\n",
      "    'citation(\"Biobase\")', and for packages 'citation(\"pkgname\")'.\n",
      "\n",
      "Loading required package: DelayedArray\n",
      "Loading required package: matrixStats\n",
      "\n",
      "Attaching package: 'matrixStats'\n",
      "\n",
      "The following objects are masked from 'package:Biobase':\n",
      "\n",
      "    anyMissing, rowMedians\n",
      "\n",
      "Loading required package: BiocParallel\n",
      "\n",
      "Attaching package: 'DelayedArray'\n",
      "\n",
      "The following objects are masked from 'package:matrixStats':\n",
      "\n",
      "    colMaxs, colMins, colRanges, rowMaxs, rowMins, rowRanges\n",
      "\n",
      "The following objects are masked from 'package:base':\n",
      "\n",
      "    aperm, apply, rowsum\n",
      "\n",
      "Loading required package: MultiAssayExperiment\n",
      "Loading required package: cluster\n",
      "Loading required package: fpc\n",
      "Loading required package: randomForest\n",
      "Warning message:\n",
      "\"package 'randomForest' was built under R version 3.6.3\"randomForest 4.6-14\n",
      "Type rfNews() to see new features/changes/bug fixes.\n",
      "\n",
      "Attaching package: 'randomForest'\n",
      "\n",
      "The following object is masked from 'package:Biobase':\n",
      "\n",
      "    combine\n",
      "\n",
      "The following object is masked from 'package:BiocGenerics':\n",
      "\n",
      "    combine\n",
      "\n",
      "Loading required package: flexmix\n",
      "Loading required package: lattice\n",
      "Loading required package: RSKC\n",
      "Warning message:\n",
      "\"package 'RSKC' was built under R version 3.6.3\"Loading required package: flexclust\n",
      "Loading required package: grid\n",
      "Loading required package: modeltools\n",
      "Loading required package: sparcl\n",
      "\n",
      "Attaching package: 'psych'\n",
      "\n",
      "The following object is masked from 'package:randomForest':\n",
      "\n",
      "    outlier\n",
      "\n",
      "The following object is masked from 'package:SummarizedExperiment':\n",
      "\n",
      "    distance\n",
      "\n",
      "The following object is masked from 'package:GenomicRanges':\n",
      "\n",
      "    distance\n",
      "\n",
      "The following objects are masked from 'package:IRanges':\n",
      "\n",
      "    distance, reflect\n",
      "\n"
     ]
    }
   ],
   "source": [
    "library(\"evaluomeR\")\n",
    "library(\"psych\")\n",
    "\n",
    "\n",
    "options(scipen=10)"
   ]
  },
  {
   "cell_type": "code",
   "execution_count": null,
   "id": "97b05861",
   "metadata": {},
   "outputs": [],
   "source": [
    "# https://www.r-data-scientist.com/es/blog/statistical-tests/bartlett-test/\n",
    "# https://www.r-data-scientist.com/es/blog/statistical-tests/kaiser-meyer-olkin-test/"
   ]
  },
  {
   "cell_type": "markdown",
   "id": "d4189ae3",
   "metadata": {},
   "source": [
    "# Table of contents\n",
    "* [PCA](#pca)\n",
    "* [Bartlett Sphericity Test](#bartlett)\n",
    "    * [Bartlett Sphericity Test - Conclusiones](#bartlett-conclusion)\n",
    "* [Kaiser-Meyer-Olkin Test](#kmo)\n",
    "* [References](#references)"
   ]
  },
  {
   "cell_type": "markdown",
   "id": "7902cfa3",
   "metadata": {},
   "source": [
    "# PCA <a class=\"anchor\" id=\"pca\"></a>"
   ]
  },
  {
   "cell_type": "code",
   "execution_count": 38,
   "id": "7de4bfd0",
   "metadata": {},
   "outputs": [],
   "source": [
    "# data(\"rnaMetrics\")\n",
    "seed = 13606\n",
    "k.range=c(2,6)\n",
    "set.seed(seed)\n",
    "#input_df = read.csv(paste0(getwd(), \"/\",\"../../usecases/usecase2/data/obo-119.csv\"), header=TRUE, stringsAsFactors=FALSE)\n",
    "input_df = as.data.frame(assay(rnaMetrics))\n",
    "data = input_df[-1]"
   ]
  },
  {
   "cell_type": "code",
   "execution_count": 39,
   "id": "e7fc5623",
   "metadata": {},
   "outputs": [],
   "source": [
    "data.pca = princomp(data, cor = TRUE)\n",
    "# Calcular la proporción acumulada de la varianza explicada de los factores\n",
    "parte.pca <- data.pca$sdev^2/sum(data.pca$sdev^2)*100"
   ]
  },
  {
   "cell_type": "code",
   "execution_count": 40,
   "id": "9202d736",
   "metadata": {},
   "outputs": [
    {
     "name": "stdout",
     "output_type": "stream",
     "text": [
      "   Comp.1    Comp.2 \n",
      "98.723425  1.276575 \n"
     ]
    }
   ],
   "source": [
    "print(parte.pca)"
   ]
  },
  {
   "cell_type": "code",
   "execution_count": 41,
   "id": "7b77215c",
   "metadata": {},
   "outputs": [
    {
     "name": "stdout",
     "output_type": "stream",
     "text": [
      "   Comp.1    Comp.2 \n",
      " 98.72343 100.00000 \n"
     ]
    }
   ],
   "source": [
    "print(cumsum(parte.pca))"
   ]
  },
  {
   "cell_type": "code",
   "execution_count": 42,
   "id": "ea23f24c",
   "metadata": {},
   "outputs": [
    {
     "data": {
      "image/png": "[encoded data removed]",
      "text/plain": [
       "plot without title"
      ]
     },
     "metadata": {},
     "output_type": "display_data"
    }
   ],
   "source": [
    "# Representación gráfica del PCA\n",
    "biplot(data.pca)"
   ]
  },
  {
   "cell_type": "markdown",
   "id": "43c110a5",
   "metadata": {},
   "source": [
    "# Bartlett Sphericity Test <a class=\"anchor\" id=\"bartlett\"></a>"
   ]
  },
  {
   "cell_type": "code",
   "execution_count": 43,
   "id": "9d5698f0",
   "metadata": {},
   "outputs": [],
   "source": [
    "R = cor(data)\n",
    "#print(correlations)"
   ]
  },
  {
   "cell_type": "code",
   "execution_count": 44,
   "id": "90172d0f",
   "metadata": {},
   "outputs": [
    {
     "name": "stdout",
     "output_type": "stream",
     "text": [
      "$chisq\n",
      "[1] 40.33183\n",
      "\n",
      "$p.value\n",
      "[1] 0.0000000002142889\n",
      "\n",
      "$df\n",
      "[1] 1\n",
      "\n"
     ]
    }
   ],
   "source": [
    "print(cortest.bartlett(R, n = nrow(data)))"
   ]
  },
  {
   "cell_type": "markdown",
   "id": "a5568506",
   "metadata": {},
   "source": [
    "## Bartlett Sphericity Test  - Conclusion<a class=\"anchor\" id=\"bartlett-conclusion\"></a>"
   ]
  },
  {
   "cell_type": "markdown",
   "id": "f5ca1f3f",
   "metadata": {},
   "source": [
    "Se rechaza la hipótesis nula al nivel del 5% (valor p=0<0.05). Por lo tanto, se puede realizar de manera eficiente un PCA en el conjunto de datos.\n",
    "\n",
    "**Nota**:\n",
    "La prueba de Bartlett tiene un gran inconveniente. Tiende a ser siempre estadísticamente significativo cuando aumenta el número de instancias n.\n",
    "\n",
    "Algunas referencias aconsejan utilizar esta prueba solo si la relación n:p (número de instancias dividido entre el número de variables) es inferior a 5."
   ]
  },
  {
   "cell_type": "code",
   "execution_count": 45,
   "id": "f438e685",
   "metadata": {},
   "outputs": [
    {
     "data": {
      "text/html": [
       "8"
      ],
      "text/latex": [
       "8"
      ],
      "text/markdown": [
       "8"
      ],
      "text/plain": [
       "[1] 8"
      ]
     },
     "metadata": {},
     "output_type": "display_data"
    }
   ],
   "source": [
    "# Relación n:p es 4.10:\n",
    "nrow(data)/ncol(data)"
   ]
  },
  {
   "cell_type": "markdown",
   "id": "eae51fb0",
   "metadata": {},
   "source": [
    "# Kaiser-Meyer-Olkin Test <a class=\"anchor\" id=\"kmo\"></a>\n"
   ]
  },
  {
   "cell_type": "code",
   "execution_count": 46,
   "id": "825ffea5",
   "metadata": {
    "scrolled": true
   },
   "outputs": [
    {
     "name": "stdout",
     "output_type": "stream",
     "text": [
      "               RIN    DegFact\n",
      "RIN      1.0000000 -0.9744685\n",
      "DegFact -0.9744685  1.0000000\n"
     ]
    }
   ],
   "source": [
    "R = cor(data)\n",
    "print(R)"
   ]
  },
  {
   "cell_type": "markdown",
   "id": "205d3c28",
   "metadata": {},
   "source": [
    "La matriz de correlación parcial se puede obtener a partir de la matriz de correlación. Se calcula la inversa de esta última:\n",
    "\n",
    "![equation](https://latex.codecogs.com/svg.image?R^{-1}=(v)_{ij})"
   ]
  },
  {
   "cell_type": "code",
   "execution_count": 48,
   "id": "f69d6b40",
   "metadata": {},
   "outputs": [
    {
     "name": "stdout",
     "output_type": "stream",
     "text": [
      "             RIN  DegFact\n",
      "RIN     19.83689 19.33042\n",
      "DegFact 19.33042 19.83689\n"
     ]
    }
   ],
   "source": [
    "invR <- solve(R)\n",
    "print(invR)"
   ]
  },
  {
   "cell_type": "code",
   "execution_count": 50,
   "id": "e8ff02ec",
   "metadata": {},
   "outputs": [
    {
     "name": "stdout",
     "output_type": "stream",
     "text": [
      "               RIN    DegFact\n",
      "RIN     -1.0000000 -0.9744685\n",
      "DegFact -0.9744685 -1.0000000\n"
     ]
    }
   ],
   "source": [
    "# Matriz de correlación parcial\n",
    "A <- matrix(1, nrow(invR), ncol(invR))\n",
    "for (i in 1:nrow(invR)){\n",
    "  for (j in (i):ncol(invR)){\n",
    "    # Sobre la diagonal\n",
    "    A[i,j] <- -invR[i,j]/sqrt(invR[i,i]*invR[j,j])\n",
    "    # Debajo de la diagonal\n",
    "    A[j,i] <- A[i,j]\n",
    "  }\n",
    "}\n",
    "\n",
    "colnames(A) <- colnames(data)\n",
    "rownames(A) <- colnames(data)\n",
    "print(A)"
   ]
  },
  {
   "cell_type": "code",
   "execution_count": 52,
   "id": "66312ff0",
   "metadata": {},
   "outputs": [
    {
     "name": "stdout",
     "output_type": "stream",
     "text": [
      "[1] \"KMO index:\"\n",
      "[1] 0.5\n"
     ]
    }
   ],
   "source": [
    "kmo.num <- sum(R^2) - sum(diag(R^2))\n",
    "kmo.denom <- kmo.num + (sum(A^2) - sum(diag(A^2)))\n",
    "kmo <- kmo.num/kmo.denom\n",
    "print(\"KMO index:\")\n",
    "print(kmo)"
   ]
  },
  {
   "cell_type": "markdown",
   "id": "14e92c6c",
   "metadata": {},
   "source": [
    "Si el índice KMO es alto (≈1), el PCA puede actuar de manera eficiente.\n",
    "Si el índice KMO es bajo (≈0), el PCA no es relevante."
   ]
  },
  {
   "cell_type": "markdown",
   "id": "6550720a",
   "metadata": {},
   "source": [
    "# References <a class=\"anchor\" id=\"references\"></a>"
   ]
  },
  {
   "cell_type": "markdown",
   "id": "34a12eb6",
   "metadata": {},
   "source": [
    "<a id=\"1\">[1]</a>\n",
    "https://www.r-data-scientist.com/es/blog/statistical-tests/bartlett-test/\n"
   ]
  }
 ],
 "metadata": {
  "kernelspec": {
   "display_name": "R",
   "language": "R",
   "name": "ir"
  },
  "language_info": {
   "codemirror_mode": "r",
   "file_extension": ".r",
   "mimetype": "text/x-r-source",
   "name": "R",
   "pygments_lexer": "r",
   "version": "3.6.1"
  }
 },
 "nbformat": 4,
 "nbformat_minor": 5
}
