{
 "cells": [
  {
   "cell_type": "markdown",
   "id": "285a2f02",
   "metadata": {},
   "source": [
    " # GOLUB use case"
   ]
  },
  {
   "cell_type": "code",
   "execution_count": 1,
   "id": "5b925569",
   "metadata": {
    "scrolled": true
   },
   "outputs": [
    {
     "name": "stderr",
     "output_type": "stream",
     "text": [
      "Cargando paquete requerido: SummarizedExperiment\n",
      "\n",
      "Cargando paquete requerido: MatrixGenerics\n",
      "\n",
      "Cargando paquete requerido: matrixStats\n",
      "\n",
      "\n",
      "Adjuntando el paquete: 'MatrixGenerics'\n",
      "\n",
      "\n",
      "The following objects are masked from 'package:matrixStats':\n",
      "\n",
      "    colAlls, colAnyNAs, colAnys, colAvgsPerRowSet, colCollapse,\n",
      "    colCounts, colCummaxs, colCummins, colCumprods, colCumsums,\n",
      "    colDiffs, colIQRDiffs, colIQRs, colLogSumExps, colMadDiffs,\n",
      "    colMads, colMaxs, colMeans2, colMedians, colMins, colOrderStats,\n",
      "    colProds, colQuantiles, colRanges, colRanks, colSdDiffs, colSds,\n",
      "    colSums2, colTabulates, colVarDiffs, colVars, colWeightedMads,\n",
      "    colWeightedMeans, colWeightedMedians, colWeightedSds,\n",
      "    colWeightedVars, rowAlls, rowAnyNAs, rowAnys, rowAvgsPerColSet,\n",
      "    rowCollapse, rowCounts, rowCummaxs, rowCummins, rowCumprods,\n",
      "    rowCumsums, rowDiffs, rowIQRDiffs, rowIQRs, rowLogSumExps,\n",
      "    rowMadDiffs, rowMads, rowMaxs, rowMeans2, rowMedians, rowMins,\n",
      "    rowOrderStats, rowProds, rowQuantiles, rowRanges, rowRanks,\n",
      "    rowSdDiffs, rowSds, rowSums2, rowTabulates, rowVarDiffs, rowVars,\n",
      "    rowWeightedMads, rowWeightedMeans, rowWeightedMedians,\n",
      "    rowWeightedSds, rowWeightedVars\n",
      "\n",
      "\n",
      "Cargando paquete requerido: GenomicRanges\n",
      "\n",
      "Cargando paquete requerido: stats4\n",
      "\n",
      "Cargando paquete requerido: BiocGenerics\n",
      "\n",
      "\n",
      "Adjuntando el paquete: 'BiocGenerics'\n",
      "\n",
      "\n",
      "The following objects are masked from 'package:stats':\n",
      "\n",
      "    IQR, mad, sd, var, xtabs\n",
      "\n",
      "\n",
      "The following objects are masked from 'package:base':\n",
      "\n",
      "    anyDuplicated, aperm, append, as.data.frame, basename, cbind,\n",
      "    colnames, dirname, do.call, duplicated, eval, evalq, Filter, Find,\n",
      "    get, grep, grepl, intersect, is.unsorted, lapply, Map, mapply,\n",
      "    match, mget, order, paste, pmax, pmax.int, pmin, pmin.int,\n",
      "    Position, rank, rbind, Reduce, rownames, sapply, setdiff, table,\n",
      "    tapply, union, unique, unsplit, which.max, which.min\n",
      "\n",
      "\n",
      "Cargando paquete requerido: S4Vectors\n",
      "\n",
      "\n",
      "Adjuntando el paquete: 'S4Vectors'\n",
      "\n",
      "\n",
      "The following object is masked from 'package:utils':\n",
      "\n",
      "    findMatches\n",
      "\n",
      "\n",
      "The following objects are masked from 'package:base':\n",
      "\n",
      "    expand.grid, I, unname\n",
      "\n",
      "\n",
      "Cargando paquete requerido: IRanges\n",
      "\n",
      "\n",
      "Adjuntando el paquete: 'IRanges'\n",
      "\n",
      "\n",
      "The following object is masked from 'package:grDevices':\n",
      "\n",
      "    windows\n",
      "\n",
      "\n",
      "Cargando paquete requerido: GenomeInfoDb\n",
      "\n",
      "Cargando paquete requerido: Biobase\n",
      "\n",
      "Welcome to Bioconductor\n",
      "\n",
      "    Vignettes contain introductory material; view with\n",
      "    'browseVignettes()'. To cite Bioconductor, see\n",
      "    'citation(\"Biobase\")', and for packages 'citation(\"pkgname\")'.\n",
      "\n",
      "\n",
      "\n",
      "Adjuntando el paquete: 'Biobase'\n",
      "\n",
      "\n",
      "The following object is masked from 'package:MatrixGenerics':\n",
      "\n",
      "    rowMedians\n",
      "\n",
      "\n",
      "The following objects are masked from 'package:matrixStats':\n",
      "\n",
      "    anyMissing, rowMedians\n",
      "\n",
      "\n",
      "Cargando paquete requerido: MultiAssayExperiment\n",
      "\n",
      "Cargando paquete requerido: dplyr\n",
      "\n",
      "\n",
      "Adjuntando el paquete: 'dplyr'\n",
      "\n",
      "\n",
      "The following object is masked from 'package:Biobase':\n",
      "\n",
      "    combine\n",
      "\n",
      "\n",
      "The following objects are masked from 'package:GenomicRanges':\n",
      "\n",
      "    intersect, setdiff, union\n",
      "\n",
      "\n",
      "The following object is masked from 'package:GenomeInfoDb':\n",
      "\n",
      "    intersect\n",
      "\n",
      "\n",
      "The following objects are masked from 'package:IRanges':\n",
      "\n",
      "    collapse, desc, intersect, setdiff, slice, union\n",
      "\n",
      "\n",
      "The following objects are masked from 'package:S4Vectors':\n",
      "\n",
      "    first, intersect, rename, setdiff, setequal, union\n",
      "\n",
      "\n",
      "The following objects are masked from 'package:BiocGenerics':\n",
      "\n",
      "    combine, intersect, setdiff, union\n",
      "\n",
      "\n",
      "The following object is masked from 'package:matrixStats':\n",
      "\n",
      "    count\n",
      "\n",
      "\n",
      "The following objects are masked from 'package:stats':\n",
      "\n",
      "    filter, lag\n",
      "\n",
      "\n",
      "The following objects are masked from 'package:base':\n",
      "\n",
      "    intersect, setdiff, setequal, union\n",
      "\n",
      "\n",
      "Cargando paquete requerido: cluster\n",
      "\n",
      "Cargando paquete requerido: fpc\n",
      "\n",
      "Cargando paquete requerido: randomForest\n",
      "\n",
      "randomForest 4.7-1.2\n",
      "\n",
      "Type rfNews() to see new features/changes/bug fixes.\n",
      "\n",
      "\n",
      "Adjuntando el paquete: 'randomForest'\n",
      "\n",
      "\n",
      "The following object is masked from 'package:dplyr':\n",
      "\n",
      "    combine\n",
      "\n",
      "\n",
      "The following object is masked from 'package:Biobase':\n",
      "\n",
      "    combine\n",
      "\n",
      "\n",
      "The following object is masked from 'package:BiocGenerics':\n",
      "\n",
      "    combine\n",
      "\n",
      "\n",
      "Cargando paquete requerido: flexmix\n",
      "\n",
      "Cargando paquete requerido: lattice\n",
      "\n",
      "Cargando paquete requerido: RSKC\n",
      "\n",
      "Cargando paquete requerido: flexclust\n",
      "\n",
      "Cargando paquete requerido: grid\n",
      "\n",
      "Cargando paquete requerido: modeltools\n",
      "\n",
      "Cargando paquete requerido: sparcl\n",
      "\n",
      "Cargando paquete requerido: binom\n",
      "\n",
      "\n",
      "Adjuntando el paquete: 'cancerclass'\n",
      "\n",
      "\n",
      "The following objects are masked from 'package:flexclust':\n",
      "\n",
      "    plot, predict, summary\n",
      "\n",
      "\n",
      "The following object is masked from 'package:modeltools':\n",
      "\n",
      "    fit\n",
      "\n",
      "\n",
      "The following objects are masked from 'package:flexmix':\n",
      "\n",
      "    plot, predict, summary\n",
      "\n",
      "\n",
      "The following object is masked from 'package:dplyr':\n",
      "\n",
      "    filter\n",
      "\n",
      "\n",
      "The following object is masked from 'package:GenomicRanges':\n",
      "\n",
      "    summary\n",
      "\n",
      "\n",
      "The following object is masked from 'package:GenomeInfoDb':\n",
      "\n",
      "    summary\n",
      "\n",
      "\n",
      "The following object is masked from 'package:IRanges':\n",
      "\n",
      "    summary\n",
      "\n",
      "\n",
      "The following object is masked from 'package:S4Vectors':\n",
      "\n",
      "    summary\n",
      "\n",
      "\n",
      "The following objects are masked from 'package:stats4':\n",
      "\n",
      "    plot, summary\n",
      "\n",
      "\n",
      "The following objects are masked from 'package:stats':\n",
      "\n",
      "    filter, predict\n",
      "\n",
      "\n",
      "The following object is masked from 'package:graphics':\n",
      "\n",
      "    plot\n",
      "\n",
      "\n",
      "The following objects are masked from 'package:base':\n",
      "\n",
      "    plot, summary\n",
      "\n",
      "\n",
      "Cargando paquete requerido: ggplot2\n",
      "\n",
      "\n",
      "Adjuntando el paquete: 'ggplot2'\n",
      "\n",
      "\n",
      "The following object is masked from 'package:randomForest':\n",
      "\n",
      "    margin\n",
      "\n",
      "\n",
      "Package 'mclust' version 6.1.1\n",
      "Type 'citation(\"mclust\")' for citing this R package in publications.\n",
      "\n"
     ]
    }
   ],
   "source": [
    "library(\"evaluomeR\") \n",
    "library(\"clusterAnalysis\")\n",
    "library(\"cancerclass\")\n",
    "library(\"dplyr\")\n",
    "library(\"caret\")\n",
    "library(\"ggplot2\")\n",
    "library(\"ggrepel\")\n",
    "library(\"reshape2\")\n",
    "library(\"mclust\")\n",
    "\n",
    "options(scipen=10)\n",
    "options(repr.plot.width=12, repr.plot.height=12)"
   ]
  },
  {
   "cell_type": "code",
   "execution_count": 2,
   "id": "ce9016fb",
   "metadata": {},
   "outputs": [
    {
     "data": {
      "text/plain": [
       "[1] '4.4.1'"
      ]
     },
     "metadata": {},
     "output_type": "display_data"
    },
    {
     "data": {
      "text/plain": [
       "[1] '0.0.0.9000'"
      ]
     },
     "metadata": {},
     "output_type": "display_data"
    }
   ],
   "source": [
    "getRversion()\n",
    "packageVersion(\"clusterAnalysis\")"
   ]
  },
  {
   "cell_type": "markdown",
   "id": "58895eee",
   "metadata": {},
   "source": [
    "# Table of contents\n",
    "* [Dataset](#dataset)\n",
    "    * [Top 200](#top)\n",
    "* [Cest](#clest)\n",
    "    * [RSKC](#rskc)\n",
    "* [PCA](#pca)\n",
    "* [Sensitivity](#sensitivity)\n",
    "* [CER](#cer)"
   ]
  },
  {
   "cell_type": "markdown",
   "id": "08d0e886",
   "metadata": {},
   "source": [
    "# Dataset <a class=\"anchor\" id=\"dataset\"></a>"
   ]
  },
  {
   "cell_type": "code",
   "execution_count": 3,
   "id": "0a1bb939",
   "metadata": {},
   "outputs": [
    {
     "data": {
      "text/html": [
       "<table class=\"dataframe\">\n",
       "<caption>A data.frame: 6 × 102</caption>\n",
       "<thead>\n",
       "\t<tr><th></th><th scope=col>Description</th><th scope=col>AFFX.HUMRGE.M10098_5_at</th><th scope=col>AFFX.HUMRGE.M10098_M_at</th><th scope=col>AFFX.HUMRGE.M10098_3_at</th><th scope=col>AFFX.M27830_5_at</th><th scope=col>D13639_at</th><th scope=col>D83735_at</th><th scope=col>D83920_at</th><th scope=col>D87433_at</th><th scope=col>D88270_at</th><th scope=col>⋯</th><th scope=col>X65965_s_at</th><th scope=col>X76223_s_at</th><th scope=col>AF000424_s_at</th><th scope=col>M21305_at</th><th scope=col>U57341_at</th><th scope=col>HG3576.HT3779_f_at</th><th scope=col>U01317_cds4_at</th><th scope=col>M15395_at</th><th scope=col>M34516_at</th><th scope=col>Class</th></tr>\n",
       "\t<tr><th></th><th scope=col>&lt;fct&gt;</th><th scope=col>&lt;dbl&gt;</th><th scope=col>&lt;dbl&gt;</th><th scope=col>&lt;dbl&gt;</th><th scope=col>&lt;dbl&gt;</th><th scope=col>&lt;dbl&gt;</th><th scope=col>&lt;dbl&gt;</th><th scope=col>&lt;dbl&gt;</th><th scope=col>&lt;dbl&gt;</th><th scope=col>&lt;dbl&gt;</th><th scope=col>⋯</th><th scope=col>&lt;dbl&gt;</th><th scope=col>&lt;dbl&gt;</th><th scope=col>&lt;dbl&gt;</th><th scope=col>&lt;dbl&gt;</th><th scope=col>&lt;dbl&gt;</th><th scope=col>&lt;dbl&gt;</th><th scope=col>&lt;dbl&gt;</th><th scope=col>&lt;dbl&gt;</th><th scope=col>&lt;dbl&gt;</th><th scope=col>&lt;fct&gt;</th></tr>\n",
       "</thead>\n",
       "<tbody>\n",
       "\t<tr><th scope=row>1</th><td>B1</td><td>4.16250</td><td>3.98847</td><td>3.93090</td><td>3.82930</td><td>3.67274</td><td>2.00000</td><td>2.00000</td><td>2.0000</td><td>3.29336</td><td>⋯</td><td>2.83059</td><td>2.00000</td><td>3.49914</td><td>2.91960</td><td>2.30750</td><td>3.92536</td><td>2.07555</td><td>2.23553</td><td>3.82595</td><td>B</td></tr>\n",
       "\t<tr><th scope=row>2</th><td>T1</td><td>2.78888</td><td>2.06070</td><td>3.18127</td><td>3.34537</td><td>3.52724</td><td>3.04218</td><td>3.35545</td><td>2.0000</td><td>2.29667</td><td>⋯</td><td>3.40926</td><td>3.96624</td><td>3.71533</td><td>2.00000</td><td>2.69810</td><td>3.25479</td><td>2.00000</td><td>3.19535</td><td>3.46195</td><td>T</td></tr>\n",
       "\t<tr><th scope=row>3</th><td>T2</td><td>3.75351</td><td>3.51481</td><td>3.56443</td><td>3.52179</td><td>2.00000</td><td>2.89321</td><td>2.31175</td><td>2.0000</td><td>2.76268</td><td>⋯</td><td>2.52763</td><td>4.20412</td><td>2.85003</td><td>3.38364</td><td>2.64345</td><td>2.00000</td><td>2.23553</td><td>2.50379</td><td>2.00000</td><td>T</td></tr>\n",
       "\t<tr><th scope=row>4</th><td>B2</td><td>3.68574</td><td>3.36040</td><td>3.40976</td><td>3.48544</td><td>2.00432</td><td>2.00000</td><td>2.00000</td><td>2.0000</td><td>3.68851</td><td>⋯</td><td>2.43457</td><td>2.00000</td><td>2.00000</td><td>2.79029</td><td>2.98632</td><td>3.42911</td><td>2.59660</td><td>2.37658</td><td>3.14364</td><td>B</td></tr>\n",
       "\t<tr><th scope=row>5</th><td>B3</td><td>3.10857</td><td>3.43632</td><td>2.49969</td><td>3.05308</td><td>3.10585</td><td>2.00000</td><td>2.30750</td><td>2.4014</td><td>3.52930</td><td>⋯</td><td>2.56820</td><td>2.00000</td><td>2.73640</td><td>2.45637</td><td>2.22272</td><td>3.37014</td><td>2.09342</td><td>3.03383</td><td>3.36399</td><td>B</td></tr>\n",
       "\t<tr><th scope=row>6</th><td>T3</td><td>3.61784</td><td>3.43823</td><td>3.38093</td><td>3.59173</td><td>2.00000</td><td>2.00000</td><td>3.18639</td><td>2.0000</td><td>2.00000</td><td>⋯</td><td>2.50651</td><td>4.13117</td><td>3.25888</td><td>2.00000</td><td>2.07918</td><td>2.00000</td><td>2.00000</td><td>3.01536</td><td>2.00000</td><td>T</td></tr>\n",
       "</tbody>\n",
       "</table>\n"
      ],
      "text/latex": [
       "A data.frame: 6 × 102\n",
       "\\begin{tabular}{r|lllllllllllllllllllll}\n",
       "  & Description & AFFX.HUMRGE.M10098\\_5\\_at & AFFX.HUMRGE.M10098\\_M\\_at & AFFX.HUMRGE.M10098\\_3\\_at & AFFX.M27830\\_5\\_at & D13639\\_at & D83735\\_at & D83920\\_at & D87433\\_at & D88270\\_at & ⋯ & X65965\\_s\\_at & X76223\\_s\\_at & AF000424\\_s\\_at & M21305\\_at & U57341\\_at & HG3576.HT3779\\_f\\_at & U01317\\_cds4\\_at & M15395\\_at & M34516\\_at & Class\\\\\n",
       "  & <fct> & <dbl> & <dbl> & <dbl> & <dbl> & <dbl> & <dbl> & <dbl> & <dbl> & <dbl> & ⋯ & <dbl> & <dbl> & <dbl> & <dbl> & <dbl> & <dbl> & <dbl> & <dbl> & <dbl> & <fct>\\\\\n",
       "\\hline\n",
       "\t1 & B1 & 4.16250 & 3.98847 & 3.93090 & 3.82930 & 3.67274 & 2.00000 & 2.00000 & 2.0000 & 3.29336 & ⋯ & 2.83059 & 2.00000 & 3.49914 & 2.91960 & 2.30750 & 3.92536 & 2.07555 & 2.23553 & 3.82595 & B\\\\\n",
       "\t2 & T1 & 2.78888 & 2.06070 & 3.18127 & 3.34537 & 3.52724 & 3.04218 & 3.35545 & 2.0000 & 2.29667 & ⋯ & 3.40926 & 3.96624 & 3.71533 & 2.00000 & 2.69810 & 3.25479 & 2.00000 & 3.19535 & 3.46195 & T\\\\\n",
       "\t3 & T2 & 3.75351 & 3.51481 & 3.56443 & 3.52179 & 2.00000 & 2.89321 & 2.31175 & 2.0000 & 2.76268 & ⋯ & 2.52763 & 4.20412 & 2.85003 & 3.38364 & 2.64345 & 2.00000 & 2.23553 & 2.50379 & 2.00000 & T\\\\\n",
       "\t4 & B2 & 3.68574 & 3.36040 & 3.40976 & 3.48544 & 2.00432 & 2.00000 & 2.00000 & 2.0000 & 3.68851 & ⋯ & 2.43457 & 2.00000 & 2.00000 & 2.79029 & 2.98632 & 3.42911 & 2.59660 & 2.37658 & 3.14364 & B\\\\\n",
       "\t5 & B3 & 3.10857 & 3.43632 & 2.49969 & 3.05308 & 3.10585 & 2.00000 & 2.30750 & 2.4014 & 3.52930 & ⋯ & 2.56820 & 2.00000 & 2.73640 & 2.45637 & 2.22272 & 3.37014 & 2.09342 & 3.03383 & 3.36399 & B\\\\\n",
       "\t6 & T3 & 3.61784 & 3.43823 & 3.38093 & 3.59173 & 2.00000 & 2.00000 & 3.18639 & 2.0000 & 2.00000 & ⋯ & 2.50651 & 4.13117 & 3.25888 & 2.00000 & 2.07918 & 2.00000 & 2.00000 & 3.01536 & 2.00000 & T\\\\\n",
       "\\end{tabular}\n"
      ],
      "text/markdown": [
       "\n",
       "A data.frame: 6 × 102\n",
       "\n",
       "| <!--/--> | Description &lt;fct&gt; | AFFX.HUMRGE.M10098_5_at &lt;dbl&gt; | AFFX.HUMRGE.M10098_M_at &lt;dbl&gt; | AFFX.HUMRGE.M10098_3_at &lt;dbl&gt; | AFFX.M27830_5_at &lt;dbl&gt; | D13639_at &lt;dbl&gt; | D83735_at &lt;dbl&gt; | D83920_at &lt;dbl&gt; | D87433_at &lt;dbl&gt; | D88270_at &lt;dbl&gt; | ⋯ ⋯ | X65965_s_at &lt;dbl&gt; | X76223_s_at &lt;dbl&gt; | AF000424_s_at &lt;dbl&gt; | M21305_at &lt;dbl&gt; | U57341_at &lt;dbl&gt; | HG3576.HT3779_f_at &lt;dbl&gt; | U01317_cds4_at &lt;dbl&gt; | M15395_at &lt;dbl&gt; | M34516_at &lt;dbl&gt; | Class &lt;fct&gt; |\n",
       "|---|---|---|---|---|---|---|---|---|---|---|---|---|---|---|---|---|---|---|---|---|---|\n",
       "| 1 | B1 | 4.16250 | 3.98847 | 3.93090 | 3.82930 | 3.67274 | 2.00000 | 2.00000 | 2.0000 | 3.29336 | ⋯ | 2.83059 | 2.00000 | 3.49914 | 2.91960 | 2.30750 | 3.92536 | 2.07555 | 2.23553 | 3.82595 | B |\n",
       "| 2 | T1 | 2.78888 | 2.06070 | 3.18127 | 3.34537 | 3.52724 | 3.04218 | 3.35545 | 2.0000 | 2.29667 | ⋯ | 3.40926 | 3.96624 | 3.71533 | 2.00000 | 2.69810 | 3.25479 | 2.00000 | 3.19535 | 3.46195 | T |\n",
       "| 3 | T2 | 3.75351 | 3.51481 | 3.56443 | 3.52179 | 2.00000 | 2.89321 | 2.31175 | 2.0000 | 2.76268 | ⋯ | 2.52763 | 4.20412 | 2.85003 | 3.38364 | 2.64345 | 2.00000 | 2.23553 | 2.50379 | 2.00000 | T |\n",
       "| 4 | B2 | 3.68574 | 3.36040 | 3.40976 | 3.48544 | 2.00432 | 2.00000 | 2.00000 | 2.0000 | 3.68851 | ⋯ | 2.43457 | 2.00000 | 2.00000 | 2.79029 | 2.98632 | 3.42911 | 2.59660 | 2.37658 | 3.14364 | B |\n",
       "| 5 | B3 | 3.10857 | 3.43632 | 2.49969 | 3.05308 | 3.10585 | 2.00000 | 2.30750 | 2.4014 | 3.52930 | ⋯ | 2.56820 | 2.00000 | 2.73640 | 2.45637 | 2.22272 | 3.37014 | 2.09342 | 3.03383 | 3.36399 | B |\n",
       "| 6 | T3 | 3.61784 | 3.43823 | 3.38093 | 3.59173 | 2.00000 | 2.00000 | 3.18639 | 2.0000 | 2.00000 | ⋯ | 2.50651 | 4.13117 | 3.25888 | 2.00000 | 2.07918 | 2.00000 | 2.00000 | 3.01536 | 2.00000 | T |\n",
       "\n"
      ],
      "text/plain": [
       "  Description AFFX.HUMRGE.M10098_5_at AFFX.HUMRGE.M10098_M_at\n",
       "1 B1          4.16250                 3.98847                \n",
       "2 T1          2.78888                 2.06070                \n",
       "3 T2          3.75351                 3.51481                \n",
       "4 B2          3.68574                 3.36040                \n",
       "5 B3          3.10857                 3.43632                \n",
       "6 T3          3.61784                 3.43823                \n",
       "  AFFX.HUMRGE.M10098_3_at AFFX.M27830_5_at D13639_at D83735_at D83920_at\n",
       "1 3.93090                 3.82930          3.67274   2.00000   2.00000  \n",
       "2 3.18127                 3.34537          3.52724   3.04218   3.35545  \n",
       "3 3.56443                 3.52179          2.00000   2.89321   2.31175  \n",
       "4 3.40976                 3.48544          2.00432   2.00000   2.00000  \n",
       "5 2.49969                 3.05308          3.10585   2.00000   2.30750  \n",
       "6 3.38093                 3.59173          2.00000   2.00000   3.18639  \n",
       "  D87433_at D88270_at ⋯ X65965_s_at X76223_s_at AF000424_s_at M21305_at\n",
       "1 2.0000    3.29336   ⋯ 2.83059     2.00000     3.49914       2.91960  \n",
       "2 2.0000    2.29667   ⋯ 3.40926     3.96624     3.71533       2.00000  \n",
       "3 2.0000    2.76268   ⋯ 2.52763     4.20412     2.85003       3.38364  \n",
       "4 2.0000    3.68851   ⋯ 2.43457     2.00000     2.00000       2.79029  \n",
       "5 2.4014    3.52930   ⋯ 2.56820     2.00000     2.73640       2.45637  \n",
       "6 2.0000    2.00000   ⋯ 2.50651     4.13117     3.25888       2.00000  \n",
       "  U57341_at HG3576.HT3779_f_at U01317_cds4_at M15395_at M34516_at Class\n",
       "1 2.30750   3.92536            2.07555        2.23553   3.82595   B    \n",
       "2 2.69810   3.25479            2.00000        3.19535   3.46195   T    \n",
       "3 2.64345   2.00000            2.23553        2.50379   2.00000   T    \n",
       "4 2.98632   3.42911            2.59660        2.37658   3.14364   B    \n",
       "5 2.22272   3.37014            2.09342        3.03383   3.36399   B    \n",
       "6 2.07918   2.00000            2.00000        3.01536   2.00000   T    "
      ]
     },
     "metadata": {},
     "output_type": "display_data"
    }
   ],
   "source": [
    "data(\"golub\")\n",
    "dataset = golub\n",
    "colnames(dataset)[colnames(dataset) == 'Case'] <- 'Description'\n",
    "head(dataset)\n",
    "dataset[\"Class\"] = NULL\n",
    "set.seed(13626)"
   ]
  },
  {
   "cell_type": "code",
   "execution_count": 4,
   "id": "4d25a9ff-0eb1-4b4e-a963-59c1c75ce01f",
   "metadata": {},
   "outputs": [
    {
     "data": {
      "text/html": [
       "<style>\n",
       ".list-inline {list-style: none; margin:0; padding: 0}\n",
       ".list-inline>li {display: inline-block}\n",
       ".list-inline>li:not(:last-child)::after {content: \"\\00b7\"; padding: 0 .5ex}\n",
       "</style>\n",
       "<ol class=list-inline><li>1</li><li>2</li><li>2</li><li>1</li><li>1</li><li>2</li><li>1</li><li>1</li><li>2</li><li>2</li><li>2</li><li>1</li><li>1</li><li>2</li><li>1</li><li>1</li><li>1</li><li>1</li><li>1</li><li>1</li><li>1</li><li>1</li><li>2</li><li>1</li><li>1</li><li>1</li><li>1</li><li>3</li><li>3</li><li>3</li><li>3</li><li>3</li><li>3</li><li>3</li><li>3</li><li>3</li><li>3</li><li>3</li><li>1</li><li>1</li><li>1</li><li>1</li><li>1</li><li>1</li><li>1</li><li>1</li><li>1</li><li>1</li><li>1</li><li>1</li><li>1</li><li>1</li><li>1</li><li>1</li><li>2</li><li>1</li><li>1</li><li>1</li><li>3</li><li>3</li><li>3</li><li>3</li><li>3</li><li>3</li><li>3</li><li>3</li><li>3</li><li>3</li><li>3</li><li>3</li><li>3</li><li>3</li></ol>\n"
      ],
      "text/latex": [
       "\\begin{enumerate*}\n",
       "\\item 1\n",
       "\\item 2\n",
       "\\item 2\n",
       "\\item 1\n",
       "\\item 1\n",
       "\\item 2\n",
       "\\item 1\n",
       "\\item 1\n",
       "\\item 2\n",
       "\\item 2\n",
       "\\item 2\n",
       "\\item 1\n",
       "\\item 1\n",
       "\\item 2\n",
       "\\item 1\n",
       "\\item 1\n",
       "\\item 1\n",
       "\\item 1\n",
       "\\item 1\n",
       "\\item 1\n",
       "\\item 1\n",
       "\\item 1\n",
       "\\item 2\n",
       "\\item 1\n",
       "\\item 1\n",
       "\\item 1\n",
       "\\item 1\n",
       "\\item 3\n",
       "\\item 3\n",
       "\\item 3\n",
       "\\item 3\n",
       "\\item 3\n",
       "\\item 3\n",
       "\\item 3\n",
       "\\item 3\n",
       "\\item 3\n",
       "\\item 3\n",
       "\\item 3\n",
       "\\item 1\n",
       "\\item 1\n",
       "\\item 1\n",
       "\\item 1\n",
       "\\item 1\n",
       "\\item 1\n",
       "\\item 1\n",
       "\\item 1\n",
       "\\item 1\n",
       "\\item 1\n",
       "\\item 1\n",
       "\\item 1\n",
       "\\item 1\n",
       "\\item 1\n",
       "\\item 1\n",
       "\\item 1\n",
       "\\item 2\n",
       "\\item 1\n",
       "\\item 1\n",
       "\\item 1\n",
       "\\item 3\n",
       "\\item 3\n",
       "\\item 3\n",
       "\\item 3\n",
       "\\item 3\n",
       "\\item 3\n",
       "\\item 3\n",
       "\\item 3\n",
       "\\item 3\n",
       "\\item 3\n",
       "\\item 3\n",
       "\\item 3\n",
       "\\item 3\n",
       "\\item 3\n",
       "\\end{enumerate*}\n"
      ],
      "text/markdown": [
       "1. 1\n",
       "2. 2\n",
       "3. 2\n",
       "4. 1\n",
       "5. 1\n",
       "6. 2\n",
       "7. 1\n",
       "8. 1\n",
       "9. 2\n",
       "10. 2\n",
       "11. 2\n",
       "12. 1\n",
       "13. 1\n",
       "14. 2\n",
       "15. 1\n",
       "16. 1\n",
       "17. 1\n",
       "18. 1\n",
       "19. 1\n",
       "20. 1\n",
       "21. 1\n",
       "22. 1\n",
       "23. 2\n",
       "24. 1\n",
       "25. 1\n",
       "26. 1\n",
       "27. 1\n",
       "28. 3\n",
       "29. 3\n",
       "30. 3\n",
       "31. 3\n",
       "32. 3\n",
       "33. 3\n",
       "34. 3\n",
       "35. 3\n",
       "36. 3\n",
       "37. 3\n",
       "38. 3\n",
       "39. 1\n",
       "40. 1\n",
       "41. 1\n",
       "42. 1\n",
       "43. 1\n",
       "44. 1\n",
       "45. 1\n",
       "46. 1\n",
       "47. 1\n",
       "48. 1\n",
       "49. 1\n",
       "50. 1\n",
       "51. 1\n",
       "52. 1\n",
       "53. 1\n",
       "54. 1\n",
       "55. 2\n",
       "56. 1\n",
       "57. 1\n",
       "58. 1\n",
       "59. 3\n",
       "60. 3\n",
       "61. 3\n",
       "62. 3\n",
       "63. 3\n",
       "64. 3\n",
       "65. 3\n",
       "66. 3\n",
       "67. 3\n",
       "68. 3\n",
       "69. 3\n",
       "70. 3\n",
       "71. 3\n",
       "72. 3\n",
       "\n",
       "\n"
      ],
      "text/plain": [
       " [1] 1 2 2 1 1 2 1 1 2 2 2 1 1 2 1 1 1 1 1 1 1 1 2 1 1 1 1 3 3 3 3 3 3 3 3 3 3 3\n",
       "[39] 1 1 1 1 1 1 1 1 1 1 1 1 1 1 1 1 2 1 1 1 3 3 3 3 3 3 3 3 3 3 3 3 3 3"
      ]
     },
     "metadata": {},
     "output_type": "display_data"
    }
   ],
   "source": [
    "level_mapping <- c(\"B\" = 1, \"T\" = 2, \"M\" = 3)\n",
    "map_strings_to_numbers <- function(strings) {\n",
    "  factorized <- factor(strings, levels = names(level_mapping))\n",
    "  as.numeric(factorized)\n",
    "}\n",
    "gold_standard_vector = as.vector(unlist(lapply(golub[\"Class\"], map_strings_to_numbers)))\n",
    "gold_standard_vector"
   ]
  },
  {
   "cell_type": "markdown",
   "id": "8a6ee24b",
   "metadata": {},
   "source": [
    "Three types of classes within the dataset: **B**, **T** and **M**."
   ]
  },
  {
   "cell_type": "markdown",
   "id": "6b5314c5",
   "metadata": {},
   "source": [
    "# Clest <a class=\"anchor\" id=\"clest\"></a>\n",
    "Execution of Clest over the previous dataset."
   ]
  },
  {
   "cell_type": "code",
   "execution_count": 5,
   "id": "b53da7fb-8be2-40fd-988e-ee2e769e78b9",
   "metadata": {
    "scrolled": true
   },
   "outputs": [
    {
     "name": "stderr",
     "output_type": "stream",
     "text": [
      "Clest optimal k: 3\n",
      "\n"
     ]
    }
   ],
   "source": [
    "dataset_matrix = as.matrix(dataset[, -1])\n",
    "clest_result = clusterAnalysis::clest(dataset_matrix, maxK=10, pmax=0.05, dmin=0.05, B=20,B0=20,\n",
    "                                      clusterAlg=myPam, rho=2/3, similarity=dendextend::FM_index_R, verbose=FALSE)\n",
    "message(paste0(\"Clest optimal k: \", clest_result$kopt))"
   ]
  },
  {
   "cell_type": "code",
   "execution_count": 6,
   "id": "661c0b9f-a824-4a06-9ead-4918aee9e9f5",
   "metadata": {},
   "outputs": [],
   "source": [
    "pa = cluster::pam(dataset_matrix, clest_result$kopt)\n",
    "predicted = pa$clustering"
   ]
  },
  {
   "cell_type": "code",
   "execution_count": 7,
   "id": "06e5f9b9-b95f-4e6d-bd68-ad700899e59f",
   "metadata": {},
   "outputs": [
    {
     "name": "stderr",
     "output_type": "stream",
     "text": [
      "Parameter 'npc' is null. Computing number of factors automatically:\n",
      "\n",
      "Number of factors, 'ncp' used is: 19\n",
      "\n"
     ]
    }
   ],
   "source": [
    "dataset[\"Cluster\"] = as.factor(as.numeric(predicted))\n",
    "pca_matrix = dataset %>% select(-Cluster)\n",
    "r_pca = evaluomeR::performPCA(dataset = pca_matrix)\n",
    "pca_df = r_pca$dataset_ncp\n",
    "pca_df$Cluster <- as.factor(dataset$Cluster)\n",
    "pca_df$Description <- dataset$Description"
   ]
  },
  {
   "cell_type": "code",
   "execution_count": 8,
   "id": "931a2dca-d948-4cea-8312-804a038a47e8",
   "metadata": {},
   "outputs": [
    {
     "name": "stderr",
     "output_type": "stream",
     "text": [
      "Warning message:\n",
      "\"\u001b[1m\u001b[22mThe following aesthetics were dropped during statistical transformation: \u001b[32mlabel\u001b[39m.\n",
      "\u001b[36mℹ\u001b[39m This can happen when ggplot fails to infer the correct grouping structure in\n",
      "  the data.\n",
      "\u001b[36mℹ\u001b[39m Did you forget to specify a `group` aesthetic or to convert a numerical\n",
      "  variable into a factor?\"\n",
      "Warning message:\n",
      "\"ggrepel: 23 unlabeled data points (too many overlaps). Consider increasing max.overlaps\"\n"
     ]
    },
    {
     "data": {
      "image/png": "[encoded data removed]",
      "text/plain": [
       "plot without title"
      ]
     },
     "metadata": {
      "image/png": {
       "height": 720,
       "width": 720
      }
     },
     "output_type": "display_data"
    }
   ],
   "source": [
    "cluster_colors =  c(\"#2E86C1\", \"#28B463\", \"#E74C3C\", \"#9B59B6\", \"#f95d6a\", \n",
    "                                    \"#7F8C8D\", \"#FF5733\", \"#8E44AD\", \"#003f5c\", \"#ffa600\")\n",
    "\n",
    "cluster_shapes = c(16, 17, 15, 18, 19)\n",
    "cluster_labels = c(\"B\", \"T\", \"AML\")\n",
    "\n",
    "ggplot(pca_df, aes(x = Dim.1, y = Dim.2, shape = Cluster, color = Cluster, label = Description)) +\n",
    "  geom_point(size = 3) +\n",
    "  geom_text_repel(\n",
    "    vjust = 1,\n",
    "    hjust = 1,\n",
    "    size = 5,\n",
    "    show.legend = FALSE,\n",
    "    point.padding = 0.4,\n",
    "    box.padding = 0.25,\n",
    "    max.overlaps = 10,\n",
    "    segment.color = \"grey70\",\n",
    "    segment.size = 0.2\n",
    "  ) +\n",
    "  stat_ellipse(aes(fill = Cluster, group = Cluster), level = 0.95, alpha = 0.2, geom = \"polygon\") +\n",
    "  labs(\n",
    "    title = \"Clest Golub classification\",\n",
    "    x = \"Principal Component 1\",\n",
    "    y = \"Principal Component 2\"\n",
    "  ) +\n",
    "  scale_shape_manual(values = cluster_shapes, labels = cluster_labels) +\n",
    "  scale_color_manual(values = cluster_colors, labels = cluster_labels)  +\n",
    "  scale_fill_manual(values = cluster_colors, labels = cluster_labels)   +\n",
    "  theme_minimal(base_size = 15) +\n",
    "  theme(\n",
    "    plot.title = element_text(hjust = 0.5, size = 18, face = \"bold\"),\n",
    "    axis.title.x = element_text(size = 20),\n",
    "    axis.title.y = element_text(size = 20),\n",
    "    axis.text = element_text(size = 16),\n",
    "    legend.position = \"right\",\n",
    "    legend.title = element_text(size = 18),\n",
    "    legend.text = element_text(size = 16),\n",
    "    panel.grid.major = element_line(color = \"grey90\"),\n",
    "    panel.grid.minor = element_blank()\n",
    "  )"
   ]
  },
  {
   "cell_type": "code",
   "execution_count": 16,
   "id": "23a1a327-3ad9-49d9-9270-af75a93aadb7",
   "metadata": {},
   "outputs": [
    {
     "data": {
      "text/html": [
       "<table class=\"dataframe\">\n",
       "<caption>A data.frame: 1 × 3</caption>\n",
       "<thead>\n",
       "\t<tr><th></th><th scope=col>1</th><th scope=col>2</th><th scope=col>3</th></tr>\n",
       "\t<tr><th></th><th scope=col>&lt;chr&gt;</th><th scope=col>&lt;chr&gt;</th><th scope=col>&lt;chr&gt;</th></tr>\n",
       "</thead>\n",
       "<tbody>\n",
       "\t<tr><th scope=row>Sensitivity. (%)</th><td>97</td><td>89</td><td>100</td></tr>\n",
       "</tbody>\n",
       "</table>\n"
      ],
      "text/latex": [
       "A data.frame: 1 × 3\n",
       "\\begin{tabular}{r|lll}\n",
       "  & 1 & 2 & 3\\\\\n",
       "  & <chr> & <chr> & <chr>\\\\\n",
       "\\hline\n",
       "\tSensitivity. (\\%) & 97 & 89 & 100\\\\\n",
       "\\end{tabular}\n"
      ],
      "text/markdown": [
       "\n",
       "A data.frame: 1 × 3\n",
       "\n",
       "| <!--/--> | 1 &lt;chr&gt; | 2 &lt;chr&gt; | 3 &lt;chr&gt; |\n",
       "|---|---|---|---|\n",
       "| Sensitivity. (%) | 97 | 89 | 100 |\n",
       "\n"
      ],
      "text/plain": [
       "                 1  2  3  \n",
       "Sensitivity. (%) 97 89 100"
      ]
     },
     "metadata": {},
     "output_type": "display_data"
    },
    {
     "data": {
      "text/html": [
       "'(97,89,100)'"
      ],
      "text/latex": [
       "'(97,89,100)'"
      ],
      "text/markdown": [
       "'(97,89,100)'"
      ],
      "text/plain": [
       "[1] \"(97,89,100)\""
      ]
     },
     "metadata": {},
     "output_type": "display_data"
    }
   ],
   "source": [
    "sen = RSKC::Sensitivity(predicted, gold_standard_vector)\n",
    "sensitivity_table <- sen$prob[1,]\n",
    "sensitivity_table\n",
    "paste0(\"(\", paste(unlist(sensitivity_table), collapse = \",\"), \")\")"
   ]
  },
  {
   "cell_type": "code",
   "execution_count": 10,
   "id": "2f7fe0a6-b42b-4b0c-a2a8-f17e42a40247",
   "metadata": {},
   "outputs": [
    {
     "name": "stdout",
     "output_type": "stream",
     "text": [
      "[1] \"CER: 3.76%\"\n"
     ]
    }
   ],
   "source": [
    "cer = CER(predicted, gold_standard_vector)\n",
    "cer = format(round(cer*100, 2), nsmall = 2)\n",
    "print(paste0(\"CER: \", cer, \"%\"))"
   ]
  },
  {
   "cell_type": "code",
   "execution_count": 11,
   "id": "e549cbb3-9655-4f35-9369-a3fcb4189314",
   "metadata": {
    "scrolled": true
   },
   "outputs": [
    {
     "data": {
      "text/html": [
       "<style>\n",
       ".list-inline {list-style: none; margin:0; padding: 0}\n",
       ".list-inline>li {display: inline-block}\n",
       ".list-inline>li:not(:last-child)::after {content: \"\\00b7\"; padding: 0 .5ex}\n",
       "</style>\n",
       "<ol class=list-inline><li>0.25427427859308</li><li>0.355363702768778</li><li>0.232628427305409</li><li>0.238750324576987</li><li>0.233649112523138</li><li>0.157758737814718</li><li>0.144118687759343</li><li>0.106731652445662</li><li>0.137574648988791</li></ol>\n"
      ],
      "text/latex": [
       "\\begin{enumerate*}\n",
       "\\item 0.25427427859308\n",
       "\\item 0.355363702768778\n",
       "\\item 0.232628427305409\n",
       "\\item 0.238750324576987\n",
       "\\item 0.233649112523138\n",
       "\\item 0.157758737814718\n",
       "\\item 0.144118687759343\n",
       "\\item 0.106731652445662\n",
       "\\item 0.137574648988791\n",
       "\\end{enumerate*}\n"
      ],
      "text/markdown": [
       "1. 0.25427427859308\n",
       "2. 0.355363702768778\n",
       "3. 0.232628427305409\n",
       "4. 0.238750324576987\n",
       "5. 0.233649112523138\n",
       "6. 0.157758737814718\n",
       "7. 0.144118687759343\n",
       "8. 0.106731652445662\n",
       "9. 0.137574648988791\n",
       "\n",
       "\n"
      ],
      "text/plain": [
       "[1] 0.2542743 0.3553637 0.2326284 0.2387503 0.2336491 0.1577587 0.1441187\n",
       "[8] 0.1067317 0.1375746"
      ]
     },
     "metadata": {},
     "output_type": "display_data"
    }
   ],
   "source": [
    "clest_result$d"
   ]
  },
  {
   "cell_type": "code",
   "execution_count": 12,
   "id": "886f563a-0d82-4a89-95ed-25f9bdf2a535",
   "metadata": {},
   "outputs": [
    {
     "name": "stderr",
     "output_type": "stream",
     "text": [
      "Warning message:\n",
      "\"\u001b[1m\u001b[22mUsing `size` aesthetic for lines was deprecated in ggplot2 3.4.0.\n",
      "\u001b[36mℹ\u001b[39m Please use `linewidth` instead.\"\n"
     ]
    },
    {
     "data": {
      "image/png": "[encoded data removed]",
      "text/plain": [
       "plot without title"
      ]
     },
     "metadata": {
      "image/png": {
       "height": 720,
       "width": 720
      }
     },
     "output_type": "display_data"
    }
   ],
   "source": [
    "df <- data.frame(K = c(2:10), \n",
    "                 Difference = clest_result$d)\n",
    "\n",
    "ggplot(df, aes(x = K, y = Difference)) +\n",
    "  geom_line(color = \"#4B4B4B\", size = 1.2) +\n",
    "  geom_point(size = 3, color = \"#4B4B4B\") +\n",
    "  geom_hline(yintercept = 0.05, linetype = \"dashed\", color = \"black\", size = 1) +\n",
    "  scale_y_continuous(breaks = seq(0, max(df$Difference) + 0.05, by = 0.05)) +\n",
    "  labs(title = \"Golub - Clest\",\n",
    "       subtitle = \"Difference between observed similarity and expected value\",\n",
    "       x = \"k\", \n",
    "       y = \"Difference (d)\") +\n",
    "  theme_minimal() +\n",
    "  theme(\n",
    "    plot.title = element_text(hjust = 0.5, size = 24, face = \"bold\"),\n",
    "    plot.subtitle = element_text(hjust = 0.5, size = 24, face = \"italic\", color = \"gray40\"),\n",
    "    legend.position = \"right\",\n",
    "    legend.title = element_text(size = 24),\n",
    "    legend.text = element_text(size = 20),\n",
    "    axis.title.x = element_text(size = 24),\n",
    "    axis.title.y = element_text(size = 24),\n",
    "    axis.text = element_text(size = 20)\n",
    "  )"
   ]
  },
  {
   "cell_type": "code",
   "execution_count": 13,
   "id": "e0efe0ff-be51-47ea-9375-cd41cb763a51",
   "metadata": {},
   "outputs": [
    {
     "data": {
      "text/html": [
       "0.23201412622582"
      ],
      "text/latex": [
       "0.23201412622582"
      ],
      "text/markdown": [
       "0.23201412622582"
      ],
      "text/plain": [
       "[1] 0.2320141"
      ]
     },
     "metadata": {},
     "output_type": "display_data"
    }
   ],
   "source": [
    "#ModelExplorer(, 10, similarity=dendextend::FM_index_R, clusterAlg = myPam, rho = 2/3, B = 100, verbose = FALSE)\n",
    "#Gap(dataset_matrix, maxK=10, clusterAlg = myPam, B = 20, null_distrib = \"uniform\", verbose = TRUE)\n",
    "mean(silhouette(pa$clustering, dist(dataset_matrix))[,3])"
   ]
  }
 ],
 "metadata": {
  "kernelspec": {
   "display_name": "R",
   "language": "R",
   "name": "ir"
  },
  "language_info": {
   "codemirror_mode": "r",
   "file_extension": ".r",
   "mimetype": "text/x-r-source",
   "name": "R",
   "pygments_lexer": "r",
   "version": "4.4.1"
  }
 },
 "nbformat": 4,
 "nbformat_minor": 5
}
