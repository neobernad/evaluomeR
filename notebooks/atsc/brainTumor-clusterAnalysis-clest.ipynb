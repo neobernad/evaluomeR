{
 "cells": [
  {
   "cell_type": "markdown",
   "id": "285a2f02",
   "metadata": {},
   "source": [
    " # Leukemia using ATSC"
   ]
  },
  {
   "cell_type": "code",
   "execution_count": 1,
   "id": "5b925569",
   "metadata": {
    "scrolled": true
   },
   "outputs": [
    {
     "name": "stderr",
     "output_type": "stream",
     "text": [
      "Cargando paquete requerido: SummarizedExperiment\n",
      "\n",
      "Cargando paquete requerido: MatrixGenerics\n",
      "\n",
      "Cargando paquete requerido: matrixStats\n",
      "\n",
      "\n",
      "Adjuntando el paquete: 'MatrixGenerics'\n",
      "\n",
      "\n",
      "The following objects are masked from 'package:matrixStats':\n",
      "\n",
      "    colAlls, colAnyNAs, colAnys, colAvgsPerRowSet, colCollapse,\n",
      "    colCounts, colCummaxs, colCummins, colCumprods, colCumsums,\n",
      "    colDiffs, colIQRDiffs, colIQRs, colLogSumExps, colMadDiffs,\n",
      "    colMads, colMaxs, colMeans2, colMedians, colMins, colOrderStats,\n",
      "    colProds, colQuantiles, colRanges, colRanks, colSdDiffs, colSds,\n",
      "    colSums2, colTabulates, colVarDiffs, colVars, colWeightedMads,\n",
      "    colWeightedMeans, colWeightedMedians, colWeightedSds,\n",
      "    colWeightedVars, rowAlls, rowAnyNAs, rowAnys, rowAvgsPerColSet,\n",
      "    rowCollapse, rowCounts, rowCummaxs, rowCummins, rowCumprods,\n",
      "    rowCumsums, rowDiffs, rowIQRDiffs, rowIQRs, rowLogSumExps,\n",
      "    rowMadDiffs, rowMads, rowMaxs, rowMeans2, rowMedians, rowMins,\n",
      "    rowOrderStats, rowProds, rowQuantiles, rowRanges, rowRanks,\n",
      "    rowSdDiffs, rowSds, rowSums2, rowTabulates, rowVarDiffs, rowVars,\n",
      "    rowWeightedMads, rowWeightedMeans, rowWeightedMedians,\n",
      "    rowWeightedSds, rowWeightedVars\n",
      "\n",
      "\n",
      "Cargando paquete requerido: GenomicRanges\n",
      "\n",
      "Cargando paquete requerido: stats4\n",
      "\n",
      "Cargando paquete requerido: BiocGenerics\n",
      "\n",
      "\n",
      "Adjuntando el paquete: 'BiocGenerics'\n",
      "\n",
      "\n",
      "The following objects are masked from 'package:stats':\n",
      "\n",
      "    IQR, mad, sd, var, xtabs\n",
      "\n",
      "\n",
      "The following objects are masked from 'package:base':\n",
      "\n",
      "    anyDuplicated, aperm, append, as.data.frame, basename, cbind,\n",
      "    colnames, dirname, do.call, duplicated, eval, evalq, Filter, Find,\n",
      "    get, grep, grepl, intersect, is.unsorted, lapply, Map, mapply,\n",
      "    match, mget, order, paste, pmax, pmax.int, pmin, pmin.int,\n",
      "    Position, rank, rbind, Reduce, rownames, sapply, setdiff, table,\n",
      "    tapply, union, unique, unsplit, which.max, which.min\n",
      "\n",
      "\n",
      "Cargando paquete requerido: S4Vectors\n",
      "\n",
      "\n",
      "Adjuntando el paquete: 'S4Vectors'\n",
      "\n",
      "\n",
      "The following object is masked from 'package:utils':\n",
      "\n",
      "    findMatches\n",
      "\n",
      "\n",
      "The following objects are masked from 'package:base':\n",
      "\n",
      "    expand.grid, I, unname\n",
      "\n",
      "\n",
      "Cargando paquete requerido: IRanges\n",
      "\n",
      "\n",
      "Adjuntando el paquete: 'IRanges'\n",
      "\n",
      "\n",
      "The following object is masked from 'package:grDevices':\n",
      "\n",
      "    windows\n",
      "\n",
      "\n",
      "Cargando paquete requerido: GenomeInfoDb\n",
      "\n",
      "Cargando paquete requerido: Biobase\n",
      "\n",
      "Welcome to Bioconductor\n",
      "\n",
      "    Vignettes contain introductory material; view with\n",
      "    'browseVignettes()'. To cite Bioconductor, see\n",
      "    'citation(\"Biobase\")', and for packages 'citation(\"pkgname\")'.\n",
      "\n",
      "\n",
      "\n",
      "Adjuntando el paquete: 'Biobase'\n",
      "\n",
      "\n",
      "The following object is masked from 'package:MatrixGenerics':\n",
      "\n",
      "    rowMedians\n",
      "\n",
      "\n",
      "The following objects are masked from 'package:matrixStats':\n",
      "\n",
      "    anyMissing, rowMedians\n",
      "\n",
      "\n",
      "Cargando paquete requerido: MultiAssayExperiment\n",
      "\n",
      "Cargando paquete requerido: dplyr\n",
      "\n",
      "\n",
      "Adjuntando el paquete: 'dplyr'\n",
      "\n",
      "\n",
      "The following object is masked from 'package:Biobase':\n",
      "\n",
      "    combine\n",
      "\n",
      "\n",
      "The following objects are masked from 'package:GenomicRanges':\n",
      "\n",
      "    intersect, setdiff, union\n",
      "\n",
      "\n",
      "The following object is masked from 'package:GenomeInfoDb':\n",
      "\n",
      "    intersect\n",
      "\n",
      "\n",
      "The following objects are masked from 'package:IRanges':\n",
      "\n",
      "    collapse, desc, intersect, setdiff, slice, union\n",
      "\n",
      "\n",
      "The following objects are masked from 'package:S4Vectors':\n",
      "\n",
      "    first, intersect, rename, setdiff, setequal, union\n",
      "\n",
      "\n",
      "The following objects are masked from 'package:BiocGenerics':\n",
      "\n",
      "    combine, intersect, setdiff, union\n",
      "\n",
      "\n",
      "The following object is masked from 'package:matrixStats':\n",
      "\n",
      "    count\n",
      "\n",
      "\n",
      "The following objects are masked from 'package:stats':\n",
      "\n",
      "    filter, lag\n",
      "\n",
      "\n",
      "The following objects are masked from 'package:base':\n",
      "\n",
      "    intersect, setdiff, setequal, union\n",
      "\n",
      "\n",
      "Cargando paquete requerido: cluster\n",
      "\n",
      "Cargando paquete requerido: fpc\n",
      "\n",
      "Cargando paquete requerido: randomForest\n",
      "\n",
      "randomForest 4.7-1.2\n",
      "\n",
      "Type rfNews() to see new features/changes/bug fixes.\n",
      "\n",
      "\n",
      "Adjuntando el paquete: 'randomForest'\n",
      "\n",
      "\n",
      "The following object is masked from 'package:dplyr':\n",
      "\n",
      "    combine\n",
      "\n",
      "\n",
      "The following object is masked from 'package:Biobase':\n",
      "\n",
      "    combine\n",
      "\n",
      "\n",
      "The following object is masked from 'package:BiocGenerics':\n",
      "\n",
      "    combine\n",
      "\n",
      "\n",
      "Cargando paquete requerido: flexmix\n",
      "\n",
      "Cargando paquete requerido: lattice\n",
      "\n",
      "Cargando paquete requerido: RSKC\n",
      "\n",
      "Cargando paquete requerido: flexclust\n",
      "\n",
      "Cargando paquete requerido: grid\n",
      "\n",
      "Cargando paquete requerido: modeltools\n",
      "\n",
      "Cargando paquete requerido: sparcl\n",
      "\n",
      "Cargando paquete requerido: ggplot2\n",
      "\n",
      "\n",
      "Adjuntando el paquete: 'ggplot2'\n",
      "\n",
      "\n",
      "The following object is masked from 'package:randomForest':\n",
      "\n",
      "    margin\n",
      "\n",
      "\n",
      "Package 'mclust' version 6.1.1\n",
      "Type 'citation(\"mclust\")' for citing this R package in publications.\n",
      "\n"
     ]
    }
   ],
   "source": [
    "library(\"binom\") \n",
    "library(\"evaluomeR\")\n",
    "library(\"clusterAnalysis\")\n",
    "library(\"dplyr\")\n",
    "library(\"caret\")\n",
    "library(\"ggplot2\")\n",
    "library(\"ggrepel\")\n",
    "library(\"reshape2\")\n",
    "library(\"mclust\")\n",
    "\n",
    "options(scipen=10)\n",
    "options(repr.plot.width=12, repr.plot.height=12)"
   ]
  },
  {
   "cell_type": "code",
   "execution_count": 2,
   "id": "bce80bf1-f046-4de3-a13c-37616321a0db",
   "metadata": {},
   "outputs": [
    {
     "data": {
      "text/plain": [
       "[1] '4.4.1'"
      ]
     },
     "metadata": {},
     "output_type": "display_data"
    },
    {
     "data": {
      "text/plain": [
       "[1] '0.0.0.9000'"
      ]
     },
     "metadata": {},
     "output_type": "display_data"
    }
   ],
   "source": [
    "getRversion()\n",
    "packageVersion(\"clusterAnalysis\")"
   ]
  },
  {
   "cell_type": "markdown",
   "id": "08d0e886",
   "metadata": {},
   "source": [
    "# Dataset <a class=\"anchor\" id=\"dataset\"></a>"
   ]
  },
  {
   "cell_type": "code",
   "execution_count": 3,
   "id": "cad180bc-ecbf-4aa4-bcba-ad55cc70af0e",
   "metadata": {},
   "outputs": [
    {
     "data": {
      "text/html": [
       "<table class=\"dataframe\">\n",
       "<caption>A data.frame: 6 × 201</caption>\n",
       "<thead>\n",
       "\t<tr><th></th><th scope=col>Description</th><th scope=col>X201909_at</th><th scope=col>X224588_at</th><th scope=col>X229012_at</th><th scope=col>X210033_s_at</th><th scope=col>X206018_at</th><th scope=col>X240065_at</th><th scope=col>X220156_at</th><th scope=col>X236448_at</th><th scope=col>X236085_at</th><th scope=col>⋯</th><th scope=col>X242517_at</th><th scope=col>X214822_at</th><th scope=col>X204850_s_at</th><th scope=col>X205358_at</th><th scope=col>X205891_at</th><th scope=col>X206002_at</th><th scope=col>X204379_s_at</th><th scope=col>X229651_at</th><th scope=col>X232377_at</th><th scope=col>X216356_x_at</th></tr>\n",
       "\t<tr><th></th><th scope=col>&lt;chr&gt;</th><th scope=col>&lt;dbl&gt;</th><th scope=col>&lt;dbl&gt;</th><th scope=col>&lt;dbl&gt;</th><th scope=col>&lt;dbl&gt;</th><th scope=col>&lt;dbl&gt;</th><th scope=col>&lt;dbl&gt;</th><th scope=col>&lt;dbl&gt;</th><th scope=col>&lt;dbl&gt;</th><th scope=col>&lt;dbl&gt;</th><th scope=col>⋯</th><th scope=col>&lt;dbl&gt;</th><th scope=col>&lt;dbl&gt;</th><th scope=col>&lt;dbl&gt;</th><th scope=col>&lt;dbl&gt;</th><th scope=col>&lt;dbl&gt;</th><th scope=col>&lt;dbl&gt;</th><th scope=col>&lt;dbl&gt;</th><th scope=col>&lt;dbl&gt;</th><th scope=col>&lt;dbl&gt;</th><th scope=col>&lt;dbl&gt;</th></tr>\n",
       "</thead>\n",
       "<tbody>\n",
       "\t<tr><th scope=row>GSM1214834</th><td>ependymoma</td><td>3.644194</td><td>1.678130</td><td>3.820705</td><td>3.735552</td><td>1.794471</td><td>3.624207</td><td>3.589067</td><td>1.172587</td><td>3.650788</td><td>⋯</td><td>1.478922</td><td>1.669697</td><td>2.350027</td><td>2.179516</td><td>2.812467</td><td>1.703945</td><td>3.743298</td><td>2.022782</td><td>1.899070</td><td>3.457520</td></tr>\n",
       "\t<tr><th scope=row>GSM1214835</th><td>ependymoma</td><td>1.667500</td><td>3.767506</td><td>3.224272</td><td>3.566060</td><td>3.608933</td><td>3.381327</td><td>3.315655</td><td>3.134809</td><td>3.003987</td><td>⋯</td><td>1.624345</td><td>3.086718</td><td>2.975795</td><td>3.559758</td><td>3.300258</td><td>1.721960</td><td>3.926462</td><td>1.998062</td><td>1.835340</td><td>3.617848</td></tr>\n",
       "\t<tr><th scope=row>GSM1214836</th><td>ependymoma</td><td>3.747256</td><td>1.676252</td><td>3.456146</td><td>3.642242</td><td>1.797164</td><td>3.520656</td><td>3.227379</td><td>1.194883</td><td>3.132884</td><td>⋯</td><td>2.540459</td><td>1.679353</td><td>3.073730</td><td>3.332086</td><td>3.042175</td><td>1.702741</td><td>3.663329</td><td>1.948550</td><td>3.174495</td><td>3.158945</td></tr>\n",
       "\t<tr><th scope=row>GSM1214837</th><td>ependymoma</td><td>1.636888</td><td>3.792194</td><td>3.823623</td><td>3.786311</td><td>3.818550</td><td>3.498731</td><td>3.578139</td><td>1.168471</td><td>3.366431</td><td>⋯</td><td>1.469006</td><td>1.711754</td><td>2.239812</td><td>2.990491</td><td>1.611182</td><td>3.535817</td><td>3.776126</td><td>1.990540</td><td>2.343159</td><td>3.518917</td></tr>\n",
       "\t<tr><th scope=row>GSM1214838</th><td>ependymoma</td><td>1.639904</td><td>3.809949</td><td>3.561411</td><td>1.590063</td><td>1.648297</td><td>2.997341</td><td>3.551927</td><td>2.933787</td><td>3.304503</td><td>⋯</td><td>1.457708</td><td>1.690724</td><td>3.074425</td><td>2.871530</td><td>3.268776</td><td>1.674714</td><td>3.622669</td><td>2.334402</td><td>1.845147</td><td>3.564103</td></tr>\n",
       "\t<tr><th scope=row>GSM1214839</th><td>ependymoma</td><td>3.700109</td><td>1.740624</td><td>3.893310</td><td>3.761085</td><td>1.841266</td><td>3.745520</td><td>3.746951</td><td>1.288353</td><td>3.724553</td><td>⋯</td><td>1.489215</td><td>1.688170</td><td>2.383684</td><td>3.319295</td><td>2.817745</td><td>1.716527</td><td>3.756038</td><td>2.005784</td><td>2.627615</td><td>3.230955</td></tr>\n",
       "</tbody>\n",
       "</table>\n"
      ],
      "text/latex": [
       "A data.frame: 6 × 201\n",
       "\\begin{tabular}{r|lllllllllllllllllllll}\n",
       "  & Description & X201909\\_at & X224588\\_at & X229012\\_at & X210033\\_s\\_at & X206018\\_at & X240065\\_at & X220156\\_at & X236448\\_at & X236085\\_at & ⋯ & X242517\\_at & X214822\\_at & X204850\\_s\\_at & X205358\\_at & X205891\\_at & X206002\\_at & X204379\\_s\\_at & X229651\\_at & X232377\\_at & X216356\\_x\\_at\\\\\n",
       "  & <chr> & <dbl> & <dbl> & <dbl> & <dbl> & <dbl> & <dbl> & <dbl> & <dbl> & <dbl> & ⋯ & <dbl> & <dbl> & <dbl> & <dbl> & <dbl> & <dbl> & <dbl> & <dbl> & <dbl> & <dbl>\\\\\n",
       "\\hline\n",
       "\tGSM1214834 & ependymoma & 3.644194 & 1.678130 & 3.820705 & 3.735552 & 1.794471 & 3.624207 & 3.589067 & 1.172587 & 3.650788 & ⋯ & 1.478922 & 1.669697 & 2.350027 & 2.179516 & 2.812467 & 1.703945 & 3.743298 & 2.022782 & 1.899070 & 3.457520\\\\\n",
       "\tGSM1214835 & ependymoma & 1.667500 & 3.767506 & 3.224272 & 3.566060 & 3.608933 & 3.381327 & 3.315655 & 3.134809 & 3.003987 & ⋯ & 1.624345 & 3.086718 & 2.975795 & 3.559758 & 3.300258 & 1.721960 & 3.926462 & 1.998062 & 1.835340 & 3.617848\\\\\n",
       "\tGSM1214836 & ependymoma & 3.747256 & 1.676252 & 3.456146 & 3.642242 & 1.797164 & 3.520656 & 3.227379 & 1.194883 & 3.132884 & ⋯ & 2.540459 & 1.679353 & 3.073730 & 3.332086 & 3.042175 & 1.702741 & 3.663329 & 1.948550 & 3.174495 & 3.158945\\\\\n",
       "\tGSM1214837 & ependymoma & 1.636888 & 3.792194 & 3.823623 & 3.786311 & 3.818550 & 3.498731 & 3.578139 & 1.168471 & 3.366431 & ⋯ & 1.469006 & 1.711754 & 2.239812 & 2.990491 & 1.611182 & 3.535817 & 3.776126 & 1.990540 & 2.343159 & 3.518917\\\\\n",
       "\tGSM1214838 & ependymoma & 1.639904 & 3.809949 & 3.561411 & 1.590063 & 1.648297 & 2.997341 & 3.551927 & 2.933787 & 3.304503 & ⋯ & 1.457708 & 1.690724 & 3.074425 & 2.871530 & 3.268776 & 1.674714 & 3.622669 & 2.334402 & 1.845147 & 3.564103\\\\\n",
       "\tGSM1214839 & ependymoma & 3.700109 & 1.740624 & 3.893310 & 3.761085 & 1.841266 & 3.745520 & 3.746951 & 1.288353 & 3.724553 & ⋯ & 1.489215 & 1.688170 & 2.383684 & 3.319295 & 2.817745 & 1.716527 & 3.756038 & 2.005784 & 2.627615 & 3.230955\\\\\n",
       "\\end{tabular}\n"
      ],
      "text/markdown": [
       "\n",
       "A data.frame: 6 × 201\n",
       "\n",
       "| <!--/--> | Description &lt;chr&gt; | X201909_at &lt;dbl&gt; | X224588_at &lt;dbl&gt; | X229012_at &lt;dbl&gt; | X210033_s_at &lt;dbl&gt; | X206018_at &lt;dbl&gt; | X240065_at &lt;dbl&gt; | X220156_at &lt;dbl&gt; | X236448_at &lt;dbl&gt; | X236085_at &lt;dbl&gt; | ⋯ ⋯ | X242517_at &lt;dbl&gt; | X214822_at &lt;dbl&gt; | X204850_s_at &lt;dbl&gt; | X205358_at &lt;dbl&gt; | X205891_at &lt;dbl&gt; | X206002_at &lt;dbl&gt; | X204379_s_at &lt;dbl&gt; | X229651_at &lt;dbl&gt; | X232377_at &lt;dbl&gt; | X216356_x_at &lt;dbl&gt; |\n",
       "|---|---|---|---|---|---|---|---|---|---|---|---|---|---|---|---|---|---|---|---|---|---|\n",
       "| GSM1214834 | ependymoma | 3.644194 | 1.678130 | 3.820705 | 3.735552 | 1.794471 | 3.624207 | 3.589067 | 1.172587 | 3.650788 | ⋯ | 1.478922 | 1.669697 | 2.350027 | 2.179516 | 2.812467 | 1.703945 | 3.743298 | 2.022782 | 1.899070 | 3.457520 |\n",
       "| GSM1214835 | ependymoma | 1.667500 | 3.767506 | 3.224272 | 3.566060 | 3.608933 | 3.381327 | 3.315655 | 3.134809 | 3.003987 | ⋯ | 1.624345 | 3.086718 | 2.975795 | 3.559758 | 3.300258 | 1.721960 | 3.926462 | 1.998062 | 1.835340 | 3.617848 |\n",
       "| GSM1214836 | ependymoma | 3.747256 | 1.676252 | 3.456146 | 3.642242 | 1.797164 | 3.520656 | 3.227379 | 1.194883 | 3.132884 | ⋯ | 2.540459 | 1.679353 | 3.073730 | 3.332086 | 3.042175 | 1.702741 | 3.663329 | 1.948550 | 3.174495 | 3.158945 |\n",
       "| GSM1214837 | ependymoma | 1.636888 | 3.792194 | 3.823623 | 3.786311 | 3.818550 | 3.498731 | 3.578139 | 1.168471 | 3.366431 | ⋯ | 1.469006 | 1.711754 | 2.239812 | 2.990491 | 1.611182 | 3.535817 | 3.776126 | 1.990540 | 2.343159 | 3.518917 |\n",
       "| GSM1214838 | ependymoma | 1.639904 | 3.809949 | 3.561411 | 1.590063 | 1.648297 | 2.997341 | 3.551927 | 2.933787 | 3.304503 | ⋯ | 1.457708 | 1.690724 | 3.074425 | 2.871530 | 3.268776 | 1.674714 | 3.622669 | 2.334402 | 1.845147 | 3.564103 |\n",
       "| GSM1214839 | ependymoma | 3.700109 | 1.740624 | 3.893310 | 3.761085 | 1.841266 | 3.745520 | 3.746951 | 1.288353 | 3.724553 | ⋯ | 1.489215 | 1.688170 | 2.383684 | 3.319295 | 2.817745 | 1.716527 | 3.756038 | 2.005784 | 2.627615 | 3.230955 |\n",
       "\n"
      ],
      "text/plain": [
       "           Description X201909_at X224588_at X229012_at X210033_s_at X206018_at\n",
       "GSM1214834 ependymoma  3.644194   1.678130   3.820705   3.735552     1.794471  \n",
       "GSM1214835 ependymoma  1.667500   3.767506   3.224272   3.566060     3.608933  \n",
       "GSM1214836 ependymoma  3.747256   1.676252   3.456146   3.642242     1.797164  \n",
       "GSM1214837 ependymoma  1.636888   3.792194   3.823623   3.786311     3.818550  \n",
       "GSM1214838 ependymoma  1.639904   3.809949   3.561411   1.590063     1.648297  \n",
       "GSM1214839 ependymoma  3.700109   1.740624   3.893310   3.761085     1.841266  \n",
       "           X240065_at X220156_at X236448_at X236085_at ⋯ X242517_at X214822_at\n",
       "GSM1214834 3.624207   3.589067   1.172587   3.650788   ⋯ 1.478922   1.669697  \n",
       "GSM1214835 3.381327   3.315655   3.134809   3.003987   ⋯ 1.624345   3.086718  \n",
       "GSM1214836 3.520656   3.227379   1.194883   3.132884   ⋯ 2.540459   1.679353  \n",
       "GSM1214837 3.498731   3.578139   1.168471   3.366431   ⋯ 1.469006   1.711754  \n",
       "GSM1214838 2.997341   3.551927   2.933787   3.304503   ⋯ 1.457708   1.690724  \n",
       "GSM1214839 3.745520   3.746951   1.288353   3.724553   ⋯ 1.489215   1.688170  \n",
       "           X204850_s_at X205358_at X205891_at X206002_at X204379_s_at\n",
       "GSM1214834 2.350027     2.179516   2.812467   1.703945   3.743298    \n",
       "GSM1214835 2.975795     3.559758   3.300258   1.721960   3.926462    \n",
       "GSM1214836 3.073730     3.332086   3.042175   1.702741   3.663329    \n",
       "GSM1214837 2.239812     2.990491   1.611182   3.535817   3.776126    \n",
       "GSM1214838 3.074425     2.871530   3.268776   1.674714   3.622669    \n",
       "GSM1214839 2.383684     3.319295   2.817745   1.716527   3.756038    \n",
       "           X229651_at X232377_at X216356_x_at\n",
       "GSM1214834 2.022782   1.899070   3.457520    \n",
       "GSM1214835 1.998062   1.835340   3.617848    \n",
       "GSM1214836 1.948550   3.174495   3.158945    \n",
       "GSM1214837 1.990540   2.343159   3.518917    \n",
       "GSM1214838 2.334402   1.845147   3.564103    \n",
       "GSM1214839 2.005784   2.627615   3.230955    "
      ]
     },
     "metadata": {},
     "output_type": "display_data"
    },
    {
     "data": {
      "text/html": [
       "<style>\n",
       ".list-inline {list-style: none; margin:0; padding: 0}\n",
       ".list-inline>li {display: inline-block}\n",
       ".list-inline>li:not(:last-child)::after {content: \"\\00b7\"; padding: 0 .5ex}\n",
       "</style>\n",
       "<ol class=list-inline><li>'ependymoma'</li><li>'glioblastoma'</li><li>'medulloblastoma'</li></ol>\n"
      ],
      "text/latex": [
       "\\begin{enumerate*}\n",
       "\\item 'ependymoma'\n",
       "\\item 'glioblastoma'\n",
       "\\item 'medulloblastoma'\n",
       "\\end{enumerate*}\n"
      ],
      "text/markdown": [
       "1. 'ependymoma'\n",
       "2. 'glioblastoma'\n",
       "3. 'medulloblastoma'\n",
       "\n",
       "\n"
      ],
      "text/plain": [
       "[1] \"ependymoma\"      \"glioblastoma\"    \"medulloblastoma\""
      ]
     },
     "metadata": {},
     "output_type": "display_data"
    }
   ],
   "source": [
    "load(\"BrainTumor200.RData\")\n",
    "dataset = BrainTumor200\n",
    "head(dataset)\n",
    "unique(dataset$Description)\n",
    "set.seed(13626)"
   ]
  },
  {
   "cell_type": "code",
   "execution_count": 4,
   "id": "e3d9ffb3",
   "metadata": {},
   "outputs": [
    {
     "data": {
      "text/html": [
       "<style>\n",
       ".list-inline {list-style: none; margin:0; padding: 0}\n",
       ".list-inline>li {display: inline-block}\n",
       ".list-inline>li:not(:last-child)::after {content: \"\\00b7\"; padding: 0 .5ex}\n",
       "</style>\n",
       "<ol class=list-inline><li>1</li><li>1</li><li>1</li><li>1</li><li>1</li><li>1</li><li>1</li><li>1</li><li>1</li><li>1</li><li>1</li><li>1</li><li>1</li><li>1</li><li>1</li><li>1</li><li>1</li><li>1</li><li>1</li><li>1</li><li>1</li><li>1</li><li>1</li><li>1</li><li>1</li><li>1</li><li>1</li><li>1</li><li>1</li><li>1</li><li>1</li><li>1</li><li>1</li><li>1</li><li>1</li><li>1</li><li>1</li><li>1</li><li>1</li><li>1</li><li>1</li><li>1</li><li>1</li><li>1</li><li>1</li><li>1</li><li>2</li><li>2</li><li>2</li><li>2</li><li>2</li><li>2</li><li>2</li><li>2</li><li>2</li><li>2</li><li>2</li><li>2</li><li>2</li><li>2</li><li>2</li><li>2</li><li>2</li><li>2</li><li>2</li><li>2</li><li>2</li><li>2</li><li>2</li><li>2</li><li>2</li><li>2</li><li>2</li><li>2</li><li>2</li><li>2</li><li>2</li><li>2</li><li>2</li><li>2</li><li>3</li><li>3</li><li>3</li><li>3</li><li>3</li><li>3</li><li>3</li><li>3</li><li>3</li><li>3</li><li>3</li><li>3</li><li>3</li><li>3</li><li>3</li><li>3</li><li>3</li><li>3</li><li>3</li><li>3</li><li>3</li><li>3</li></ol>\n"
      ],
      "text/latex": [
       "\\begin{enumerate*}\n",
       "\\item 1\n",
       "\\item 1\n",
       "\\item 1\n",
       "\\item 1\n",
       "\\item 1\n",
       "\\item 1\n",
       "\\item 1\n",
       "\\item 1\n",
       "\\item 1\n",
       "\\item 1\n",
       "\\item 1\n",
       "\\item 1\n",
       "\\item 1\n",
       "\\item 1\n",
       "\\item 1\n",
       "\\item 1\n",
       "\\item 1\n",
       "\\item 1\n",
       "\\item 1\n",
       "\\item 1\n",
       "\\item 1\n",
       "\\item 1\n",
       "\\item 1\n",
       "\\item 1\n",
       "\\item 1\n",
       "\\item 1\n",
       "\\item 1\n",
       "\\item 1\n",
       "\\item 1\n",
       "\\item 1\n",
       "\\item 1\n",
       "\\item 1\n",
       "\\item 1\n",
       "\\item 1\n",
       "\\item 1\n",
       "\\item 1\n",
       "\\item 1\n",
       "\\item 1\n",
       "\\item 1\n",
       "\\item 1\n",
       "\\item 1\n",
       "\\item 1\n",
       "\\item 1\n",
       "\\item 1\n",
       "\\item 1\n",
       "\\item 1\n",
       "\\item 2\n",
       "\\item 2\n",
       "\\item 2\n",
       "\\item 2\n",
       "\\item 2\n",
       "\\item 2\n",
       "\\item 2\n",
       "\\item 2\n",
       "\\item 2\n",
       "\\item 2\n",
       "\\item 2\n",
       "\\item 2\n",
       "\\item 2\n",
       "\\item 2\n",
       "\\item 2\n",
       "\\item 2\n",
       "\\item 2\n",
       "\\item 2\n",
       "\\item 2\n",
       "\\item 2\n",
       "\\item 2\n",
       "\\item 2\n",
       "\\item 2\n",
       "\\item 2\n",
       "\\item 2\n",
       "\\item 2\n",
       "\\item 2\n",
       "\\item 2\n",
       "\\item 2\n",
       "\\item 2\n",
       "\\item 2\n",
       "\\item 2\n",
       "\\item 2\n",
       "\\item 2\n",
       "\\item 3\n",
       "\\item 3\n",
       "\\item 3\n",
       "\\item 3\n",
       "\\item 3\n",
       "\\item 3\n",
       "\\item 3\n",
       "\\item 3\n",
       "\\item 3\n",
       "\\item 3\n",
       "\\item 3\n",
       "\\item 3\n",
       "\\item 3\n",
       "\\item 3\n",
       "\\item 3\n",
       "\\item 3\n",
       "\\item 3\n",
       "\\item 3\n",
       "\\item 3\n",
       "\\item 3\n",
       "\\item 3\n",
       "\\item 3\n",
       "\\end{enumerate*}\n"
      ],
      "text/markdown": [
       "1. 1\n",
       "2. 1\n",
       "3. 1\n",
       "4. 1\n",
       "5. 1\n",
       "6. 1\n",
       "7. 1\n",
       "8. 1\n",
       "9. 1\n",
       "10. 1\n",
       "11. 1\n",
       "12. 1\n",
       "13. 1\n",
       "14. 1\n",
       "15. 1\n",
       "16. 1\n",
       "17. 1\n",
       "18. 1\n",
       "19. 1\n",
       "20. 1\n",
       "21. 1\n",
       "22. 1\n",
       "23. 1\n",
       "24. 1\n",
       "25. 1\n",
       "26. 1\n",
       "27. 1\n",
       "28. 1\n",
       "29. 1\n",
       "30. 1\n",
       "31. 1\n",
       "32. 1\n",
       "33. 1\n",
       "34. 1\n",
       "35. 1\n",
       "36. 1\n",
       "37. 1\n",
       "38. 1\n",
       "39. 1\n",
       "40. 1\n",
       "41. 1\n",
       "42. 1\n",
       "43. 1\n",
       "44. 1\n",
       "45. 1\n",
       "46. 1\n",
       "47. 2\n",
       "48. 2\n",
       "49. 2\n",
       "50. 2\n",
       "51. 2\n",
       "52. 2\n",
       "53. 2\n",
       "54. 2\n",
       "55. 2\n",
       "56. 2\n",
       "57. 2\n",
       "58. 2\n",
       "59. 2\n",
       "60. 2\n",
       "61. 2\n",
       "62. 2\n",
       "63. 2\n",
       "64. 2\n",
       "65. 2\n",
       "66. 2\n",
       "67. 2\n",
       "68. 2\n",
       "69. 2\n",
       "70. 2\n",
       "71. 2\n",
       "72. 2\n",
       "73. 2\n",
       "74. 2\n",
       "75. 2\n",
       "76. 2\n",
       "77. 2\n",
       "78. 2\n",
       "79. 2\n",
       "80. 2\n",
       "81. 3\n",
       "82. 3\n",
       "83. 3\n",
       "84. 3\n",
       "85. 3\n",
       "86. 3\n",
       "87. 3\n",
       "88. 3\n",
       "89. 3\n",
       "90. 3\n",
       "91. 3\n",
       "92. 3\n",
       "93. 3\n",
       "94. 3\n",
       "95. 3\n",
       "96. 3\n",
       "97. 3\n",
       "98. 3\n",
       "99. 3\n",
       "100. 3\n",
       "101. 3\n",
       "102. 3\n",
       "\n",
       "\n"
      ],
      "text/plain": [
       "  [1] 1 1 1 1 1 1 1 1 1 1 1 1 1 1 1 1 1 1 1 1 1 1 1 1 1 1 1 1 1 1 1 1 1 1 1 1 1\n",
       " [38] 1 1 1 1 1 1 1 1 1 2 2 2 2 2 2 2 2 2 2 2 2 2 2 2 2 2 2 2 2 2 2 2 2 2 2 2 2\n",
       " [75] 2 2 2 2 2 2 3 3 3 3 3 3 3 3 3 3 3 3 3 3 3 3 3 3 3 3 3 3"
      ]
     },
     "metadata": {},
     "output_type": "display_data"
    }
   ],
   "source": [
    "level_mapping <- c(\"ependymoma\" = 1, \"glioblastoma\" = 2, \"medulloblastoma\" = 3)\n",
    "map_strings_to_numbers <- function(strings) {\n",
    "  factorized <- factor(strings, levels = names(level_mapping))\n",
    "  as.numeric(factorized)\n",
    "}\n",
    "gold_standard_vector = as.vector(unlist(lapply(dataset[\"Description\"], map_strings_to_numbers)))\n",
    "gold_standard_vector"
   ]
  },
  {
   "cell_type": "markdown",
   "id": "82a10a31",
   "metadata": {},
   "source": [
    "# Clest <a class=\"anchor\" id=\"clest\"></a>\n",
    "Execution of Clest over the previous dataset."
   ]
  },
  {
   "cell_type": "code",
   "execution_count": 5,
   "id": "e6e4f6f7-49be-478f-9258-f30c81a7e48d",
   "metadata": {},
   "outputs": [
    {
     "name": "stderr",
     "output_type": "stream",
     "text": [
      "Clest optimal k: 3\n",
      "\n"
     ]
    }
   ],
   "source": [
    "dataset_matrix = as.matrix(dataset[, -1])\n",
    "clest_result = clusterAnalysis::clest(dataset_matrix, maxK=10, pmax=0.05, dmin=0.05, B=20,B0=20,\n",
    "                                  clusterAlg=myPam, rho=2/3, similarity=dendextend::FM_index_R, verbose=FALSE)\n",
    "message(paste0(\"Clest optimal k: \", clest_result$kopt))"
   ]
  },
  {
   "cell_type": "code",
   "execution_count": 6,
   "id": "f9076b37-b31d-45a7-94e4-9287262f0d02",
   "metadata": {},
   "outputs": [],
   "source": [
    "pa = cluster::pam(dataset_matrix, clest_result$kopt)\n",
    "predicted = pa$clustering"
   ]
  },
  {
   "cell_type": "code",
   "execution_count": 7,
   "id": "46266483-d739-443c-b9d8-78c6237d8401",
   "metadata": {},
   "outputs": [
    {
     "name": "stderr",
     "output_type": "stream",
     "text": [
      "Parameter 'npc' is null. Computing number of factors automatically:\n",
      "\n",
      "Number of factors, 'ncp' used is: 27\n",
      "\n"
     ]
    }
   ],
   "source": [
    "dataset[\"Cluster\"] = as.factor(as.numeric(predicted))\n",
    "pca_matrix = dataset %>% select(-Cluster)\n",
    "r_pca = evaluomeR::performPCA(dataset = pca_matrix)\n",
    "pca_df = r_pca$dataset_ncp\n",
    "pca_df$Cluster <- as.factor(dataset$Cluster)\n",
    "pca_df$Description <- dataset$Description"
   ]
  },
  {
   "cell_type": "code",
   "execution_count": 8,
   "id": "dc4f0d0d-3b75-4df3-b3d0-551d1a1a4872",
   "metadata": {},
   "outputs": [
    {
     "data": {
      "text/html": [
       "<style>\n",
       ".list-inline {list-style: none; margin:0; padding: 0}\n",
       ".list-inline>li {display: inline-block}\n",
       ".list-inline>li:not(:last-child)::after {content: \"\\00b7\"; padding: 0 .5ex}\n",
       "</style>\n",
       "<ol class=list-inline><li>'ependymoma'</li><li>'glioblastoma'</li><li>'medulloblastoma'</li></ol>\n"
      ],
      "text/latex": [
       "\\begin{enumerate*}\n",
       "\\item 'ependymoma'\n",
       "\\item 'glioblastoma'\n",
       "\\item 'medulloblastoma'\n",
       "\\end{enumerate*}\n"
      ],
      "text/markdown": [
       "1. 'ependymoma'\n",
       "2. 'glioblastoma'\n",
       "3. 'medulloblastoma'\n",
       "\n",
       "\n"
      ],
      "text/plain": [
       "[1] \"ependymoma\"      \"glioblastoma\"    \"medulloblastoma\""
      ]
     },
     "metadata": {},
     "output_type": "display_data"
    }
   ],
   "source": [
    "unique(dataset$Description)"
   ]
  },
  {
   "cell_type": "code",
   "execution_count": 9,
   "id": "6b098874-e738-4cdf-8a91-3db517b22bca",
   "metadata": {},
   "outputs": [],
   "source": [
    "# Creating shapes for individuals\n",
    "pca_df <- pca_df %>%\n",
    "  mutate(\n",
    "    # Extract the letter from the Description column\n",
    "    Letter = Description,\n",
    "    # Map the letter to a number\n",
    "    GoldStandard = case_when(\n",
    "      Letter == \"ependymoma\" ~ 16,\n",
    "      Letter == \"glioblastoma\" ~ 17,\n",
    "      Letter == \"medulloblastoma\" ~ 18,\n",
    "      TRUE ~ NA_real_  # Else...\n",
    "    )\n",
    "  )\n",
    "pca_df$GoldStandard = as.factor(pca_df$GoldStandard)"
   ]
  },
  {
   "cell_type": "code",
   "execution_count": 10,
   "id": "3a894e78-b50f-4117-9a02-a0ae9ef5ba7c",
   "metadata": {},
   "outputs": [
    {
     "data": {
      "text/html": [
       "<table class=\"dataframe\">\n",
       "<caption>A data.frame: 6 × 31</caption>\n",
       "<thead>\n",
       "\t<tr><th></th><th scope=col>Description</th><th scope=col>Dim.1</th><th scope=col>Dim.2</th><th scope=col>Dim.3</th><th scope=col>Dim.4</th><th scope=col>Dim.5</th><th scope=col>Dim.6</th><th scope=col>Dim.7</th><th scope=col>Dim.8</th><th scope=col>Dim.9</th><th scope=col>⋯</th><th scope=col>Dim.21</th><th scope=col>Dim.22</th><th scope=col>Dim.23</th><th scope=col>Dim.24</th><th scope=col>Dim.25</th><th scope=col>Dim.26</th><th scope=col>Dim.27</th><th scope=col>Cluster</th><th scope=col>Letter</th><th scope=col>GoldStandard</th></tr>\n",
       "\t<tr><th></th><th scope=col>&lt;chr&gt;</th><th scope=col>&lt;dbl&gt;</th><th scope=col>&lt;dbl&gt;</th><th scope=col>&lt;dbl&gt;</th><th scope=col>&lt;dbl&gt;</th><th scope=col>&lt;dbl&gt;</th><th scope=col>&lt;dbl&gt;</th><th scope=col>&lt;dbl&gt;</th><th scope=col>&lt;dbl&gt;</th><th scope=col>&lt;dbl&gt;</th><th scope=col>⋯</th><th scope=col>&lt;dbl&gt;</th><th scope=col>&lt;dbl&gt;</th><th scope=col>&lt;dbl&gt;</th><th scope=col>&lt;dbl&gt;</th><th scope=col>&lt;dbl&gt;</th><th scope=col>&lt;dbl&gt;</th><th scope=col>&lt;dbl&gt;</th><th scope=col>&lt;fct&gt;</th><th scope=col>&lt;chr&gt;</th><th scope=col>&lt;fct&gt;</th></tr>\n",
       "</thead>\n",
       "<tbody>\n",
       "\t<tr><th scope=row>GSM1214834</th><td>ependymoma</td><td>11.798332</td><td> 2.8098550</td><td> 0.2316966</td><td>-0.15643877</td><td>-4.3090458</td><td>-0.2375325</td><td> 2.5663407</td><td> 2.1172047</td><td>-1.4947538</td><td>⋯</td><td>-1.8926624</td><td> 0.02226384</td><td> 0.44742153</td><td> 0.9324780</td><td> 0.03556187</td><td> 0.4781730</td><td> 0.1877082</td><td>1</td><td>ependymoma</td><td>16</td></tr>\n",
       "\t<tr><th scope=row>GSM1214835</th><td>ependymoma</td><td> 2.191014</td><td> 1.4506803</td><td>-7.0861483</td><td> 2.81320364</td><td> 2.8137413</td><td> 2.2275803</td><td>-2.5214428</td><td>-3.0626198</td><td>-0.3195482</td><td>⋯</td><td> 1.6471705</td><td> 0.56866558</td><td> 3.07811802</td><td> 0.5291064</td><td> 0.81029798</td><td> 0.9291995</td><td> 1.1267466</td><td>1</td><td>ependymoma</td><td>16</td></tr>\n",
       "\t<tr><th scope=row>GSM1214836</th><td>ependymoma</td><td> 6.716847</td><td>-2.1076724</td><td> 2.6701349</td><td>-0.64841436</td><td> 0.4153573</td><td>-0.8689629</td><td>-1.5332080</td><td>-0.6407232</td><td>-0.5608591</td><td>⋯</td><td>-0.3468179</td><td> 0.71121874</td><td>-2.30125301</td><td>-2.0267741</td><td> 0.59244714</td><td>-1.0393760</td><td>-2.5397624</td><td>1</td><td>ependymoma</td><td>16</td></tr>\n",
       "\t<tr><th scope=row>GSM1214837</th><td>ependymoma</td><td> 6.800169</td><td> 1.1178034</td><td>-5.6158231</td><td> 3.16645152</td><td>-1.3997631</td><td>-0.6642137</td><td> 3.2047538</td><td> 0.4097447</td><td> 1.3714795</td><td>⋯</td><td> 0.4101698</td><td> 0.60611283</td><td>-0.23376928</td><td>-1.6714669</td><td> 0.33954598</td><td> 2.1464807</td><td>-2.8367343</td><td>1</td><td>ependymoma</td><td>16</td></tr>\n",
       "\t<tr><th scope=row>GSM1214838</th><td>ependymoma</td><td> 6.769285</td><td>-0.3990356</td><td>-1.3268037</td><td>-0.67766378</td><td>-3.1540565</td><td> 2.0890815</td><td> 5.1952073</td><td>-1.3537680</td><td>-0.7568849</td><td>⋯</td><td> 5.4800617</td><td> 0.45350575</td><td>-0.01602227</td><td>-1.5024637</td><td> 2.43270565</td><td> 1.5974697</td><td>-0.7842659</td><td>1</td><td>ependymoma</td><td>16</td></tr>\n",
       "\t<tr><th scope=row>GSM1214839</th><td>ependymoma</td><td>10.857814</td><td> 1.8568239</td><td> 1.0143998</td><td> 0.05360894</td><td>-4.8038275</td><td> 0.9653458</td><td> 0.7561239</td><td> 1.0924368</td><td> 0.2203098</td><td>⋯</td><td>-0.3256639</td><td>-0.93925124</td><td>-1.00547281</td><td>-0.1813525</td><td>-0.97125644</td><td>-1.4813004</td><td>-1.1078881</td><td>1</td><td>ependymoma</td><td>16</td></tr>\n",
       "</tbody>\n",
       "</table>\n"
      ],
      "text/latex": [
       "A data.frame: 6 × 31\n",
       "\\begin{tabular}{r|lllllllllllllllllllll}\n",
       "  & Description & Dim.1 & Dim.2 & Dim.3 & Dim.4 & Dim.5 & Dim.6 & Dim.7 & Dim.8 & Dim.9 & ⋯ & Dim.21 & Dim.22 & Dim.23 & Dim.24 & Dim.25 & Dim.26 & Dim.27 & Cluster & Letter & GoldStandard\\\\\n",
       "  & <chr> & <dbl> & <dbl> & <dbl> & <dbl> & <dbl> & <dbl> & <dbl> & <dbl> & <dbl> & ⋯ & <dbl> & <dbl> & <dbl> & <dbl> & <dbl> & <dbl> & <dbl> & <fct> & <chr> & <fct>\\\\\n",
       "\\hline\n",
       "\tGSM1214834 & ependymoma & 11.798332 &  2.8098550 &  0.2316966 & -0.15643877 & -4.3090458 & -0.2375325 &  2.5663407 &  2.1172047 & -1.4947538 & ⋯ & -1.8926624 &  0.02226384 &  0.44742153 &  0.9324780 &  0.03556187 &  0.4781730 &  0.1877082 & 1 & ependymoma & 16\\\\\n",
       "\tGSM1214835 & ependymoma &  2.191014 &  1.4506803 & -7.0861483 &  2.81320364 &  2.8137413 &  2.2275803 & -2.5214428 & -3.0626198 & -0.3195482 & ⋯ &  1.6471705 &  0.56866558 &  3.07811802 &  0.5291064 &  0.81029798 &  0.9291995 &  1.1267466 & 1 & ependymoma & 16\\\\\n",
       "\tGSM1214836 & ependymoma &  6.716847 & -2.1076724 &  2.6701349 & -0.64841436 &  0.4153573 & -0.8689629 & -1.5332080 & -0.6407232 & -0.5608591 & ⋯ & -0.3468179 &  0.71121874 & -2.30125301 & -2.0267741 &  0.59244714 & -1.0393760 & -2.5397624 & 1 & ependymoma & 16\\\\\n",
       "\tGSM1214837 & ependymoma &  6.800169 &  1.1178034 & -5.6158231 &  3.16645152 & -1.3997631 & -0.6642137 &  3.2047538 &  0.4097447 &  1.3714795 & ⋯ &  0.4101698 &  0.60611283 & -0.23376928 & -1.6714669 &  0.33954598 &  2.1464807 & -2.8367343 & 1 & ependymoma & 16\\\\\n",
       "\tGSM1214838 & ependymoma &  6.769285 & -0.3990356 & -1.3268037 & -0.67766378 & -3.1540565 &  2.0890815 &  5.1952073 & -1.3537680 & -0.7568849 & ⋯ &  5.4800617 &  0.45350575 & -0.01602227 & -1.5024637 &  2.43270565 &  1.5974697 & -0.7842659 & 1 & ependymoma & 16\\\\\n",
       "\tGSM1214839 & ependymoma & 10.857814 &  1.8568239 &  1.0143998 &  0.05360894 & -4.8038275 &  0.9653458 &  0.7561239 &  1.0924368 &  0.2203098 & ⋯ & -0.3256639 & -0.93925124 & -1.00547281 & -0.1813525 & -0.97125644 & -1.4813004 & -1.1078881 & 1 & ependymoma & 16\\\\\n",
       "\\end{tabular}\n"
      ],
      "text/markdown": [
       "\n",
       "A data.frame: 6 × 31\n",
       "\n",
       "| <!--/--> | Description &lt;chr&gt; | Dim.1 &lt;dbl&gt; | Dim.2 &lt;dbl&gt; | Dim.3 &lt;dbl&gt; | Dim.4 &lt;dbl&gt; | Dim.5 &lt;dbl&gt; | Dim.6 &lt;dbl&gt; | Dim.7 &lt;dbl&gt; | Dim.8 &lt;dbl&gt; | Dim.9 &lt;dbl&gt; | ⋯ ⋯ | Dim.21 &lt;dbl&gt; | Dim.22 &lt;dbl&gt; | Dim.23 &lt;dbl&gt; | Dim.24 &lt;dbl&gt; | Dim.25 &lt;dbl&gt; | Dim.26 &lt;dbl&gt; | Dim.27 &lt;dbl&gt; | Cluster &lt;fct&gt; | Letter &lt;chr&gt; | GoldStandard &lt;fct&gt; |\n",
       "|---|---|---|---|---|---|---|---|---|---|---|---|---|---|---|---|---|---|---|---|---|---|\n",
       "| GSM1214834 | ependymoma | 11.798332 |  2.8098550 |  0.2316966 | -0.15643877 | -4.3090458 | -0.2375325 |  2.5663407 |  2.1172047 | -1.4947538 | ⋯ | -1.8926624 |  0.02226384 |  0.44742153 |  0.9324780 |  0.03556187 |  0.4781730 |  0.1877082 | 1 | ependymoma | 16 |\n",
       "| GSM1214835 | ependymoma |  2.191014 |  1.4506803 | -7.0861483 |  2.81320364 |  2.8137413 |  2.2275803 | -2.5214428 | -3.0626198 | -0.3195482 | ⋯ |  1.6471705 |  0.56866558 |  3.07811802 |  0.5291064 |  0.81029798 |  0.9291995 |  1.1267466 | 1 | ependymoma | 16 |\n",
       "| GSM1214836 | ependymoma |  6.716847 | -2.1076724 |  2.6701349 | -0.64841436 |  0.4153573 | -0.8689629 | -1.5332080 | -0.6407232 | -0.5608591 | ⋯ | -0.3468179 |  0.71121874 | -2.30125301 | -2.0267741 |  0.59244714 | -1.0393760 | -2.5397624 | 1 | ependymoma | 16 |\n",
       "| GSM1214837 | ependymoma |  6.800169 |  1.1178034 | -5.6158231 |  3.16645152 | -1.3997631 | -0.6642137 |  3.2047538 |  0.4097447 |  1.3714795 | ⋯ |  0.4101698 |  0.60611283 | -0.23376928 | -1.6714669 |  0.33954598 |  2.1464807 | -2.8367343 | 1 | ependymoma | 16 |\n",
       "| GSM1214838 | ependymoma |  6.769285 | -0.3990356 | -1.3268037 | -0.67766378 | -3.1540565 |  2.0890815 |  5.1952073 | -1.3537680 | -0.7568849 | ⋯ |  5.4800617 |  0.45350575 | -0.01602227 | -1.5024637 |  2.43270565 |  1.5974697 | -0.7842659 | 1 | ependymoma | 16 |\n",
       "| GSM1214839 | ependymoma | 10.857814 |  1.8568239 |  1.0143998 |  0.05360894 | -4.8038275 |  0.9653458 |  0.7561239 |  1.0924368 |  0.2203098 | ⋯ | -0.3256639 | -0.93925124 | -1.00547281 | -0.1813525 | -0.97125644 | -1.4813004 | -1.1078881 | 1 | ependymoma | 16 |\n",
       "\n"
      ],
      "text/plain": [
       "           Description Dim.1     Dim.2      Dim.3      Dim.4       Dim.5     \n",
       "GSM1214834 ependymoma  11.798332  2.8098550  0.2316966 -0.15643877 -4.3090458\n",
       "GSM1214835 ependymoma   2.191014  1.4506803 -7.0861483  2.81320364  2.8137413\n",
       "GSM1214836 ependymoma   6.716847 -2.1076724  2.6701349 -0.64841436  0.4153573\n",
       "GSM1214837 ependymoma   6.800169  1.1178034 -5.6158231  3.16645152 -1.3997631\n",
       "GSM1214838 ependymoma   6.769285 -0.3990356 -1.3268037 -0.67766378 -3.1540565\n",
       "GSM1214839 ependymoma  10.857814  1.8568239  1.0143998  0.05360894 -4.8038275\n",
       "           Dim.6      Dim.7      Dim.8      Dim.9      ⋯ Dim.21     Dim.22     \n",
       "GSM1214834 -0.2375325  2.5663407  2.1172047 -1.4947538 ⋯ -1.8926624  0.02226384\n",
       "GSM1214835  2.2275803 -2.5214428 -3.0626198 -0.3195482 ⋯  1.6471705  0.56866558\n",
       "GSM1214836 -0.8689629 -1.5332080 -0.6407232 -0.5608591 ⋯ -0.3468179  0.71121874\n",
       "GSM1214837 -0.6642137  3.2047538  0.4097447  1.3714795 ⋯  0.4101698  0.60611283\n",
       "GSM1214838  2.0890815  5.1952073 -1.3537680 -0.7568849 ⋯  5.4800617  0.45350575\n",
       "GSM1214839  0.9653458  0.7561239  1.0924368  0.2203098 ⋯ -0.3256639 -0.93925124\n",
       "           Dim.23      Dim.24     Dim.25      Dim.26     Dim.27     Cluster\n",
       "GSM1214834  0.44742153  0.9324780  0.03556187  0.4781730  0.1877082 1      \n",
       "GSM1214835  3.07811802  0.5291064  0.81029798  0.9291995  1.1267466 1      \n",
       "GSM1214836 -2.30125301 -2.0267741  0.59244714 -1.0393760 -2.5397624 1      \n",
       "GSM1214837 -0.23376928 -1.6714669  0.33954598  2.1464807 -2.8367343 1      \n",
       "GSM1214838 -0.01602227 -1.5024637  2.43270565  1.5974697 -0.7842659 1      \n",
       "GSM1214839 -1.00547281 -0.1813525 -0.97125644 -1.4813004 -1.1078881 1      \n",
       "           Letter     GoldStandard\n",
       "GSM1214834 ependymoma 16          \n",
       "GSM1214835 ependymoma 16          \n",
       "GSM1214836 ependymoma 16          \n",
       "GSM1214837 ependymoma 16          \n",
       "GSM1214838 ependymoma 16          \n",
       "GSM1214839 ependymoma 16          "
      ]
     },
     "metadata": {},
     "output_type": "display_data"
    }
   ],
   "source": [
    "head(pca_df)"
   ]
  },
  {
   "cell_type": "code",
   "execution_count": 11,
   "id": "660f9307-e1cc-4757-83f3-7cd4ceebbe59",
   "metadata": {},
   "outputs": [
    {
     "name": "stderr",
     "output_type": "stream",
     "text": [
      "Warning message:\n",
      "\"\u001b[1m\u001b[22mThe following aesthetics were dropped during statistical transformation: \u001b[32mshape\u001b[39m\n",
      "and \u001b[32mlabel\u001b[39m.\n",
      "\u001b[36mℹ\u001b[39m This can happen when ggplot fails to infer the correct grouping structure in\n",
      "  the data.\n",
      "\u001b[36mℹ\u001b[39m Did you forget to specify a `group` aesthetic or to convert a numerical\n",
      "  variable into a factor?\"\n",
      "Warning message:\n",
      "\"ggrepel: 96 unlabeled data points (too many overlaps). Consider increasing max.overlaps\"\n"
     ]
    },
    {
     "data": {
      "image/png": "[encoded data removed]",
      "text/plain": [
       "plot without title"
      ]
     },
     "metadata": {
      "image/png": {
       "height": 720,
       "width": 720
      }
     },
     "output_type": "display_data"
    }
   ],
   "source": [
    "cluster_colors <- c(\"#2E86C1\", \"#28B463\", \"#E74C3C\", \"#9B59B6\", \"#F1C40F\", \"#7F8C8D\", \n",
    "            \"#D35400\", \"#8E44AD\", \"#16A085\")\n",
    "\n",
    "cluster_shapes = c(16, 17, 18, 21, 22, 23, 24)\n",
    "cluster_labels = unique(dataset$Description)\n",
    "\n",
    "ggplot(pca_df, aes(x = Dim.1, y = Dim.2, shape = GoldStandard, color = Cluster, label = Description)) +\n",
    "  geom_point(size = 3) +\n",
    "  geom_text_repel(\n",
    "    vjust = 1,\n",
    "    hjust = 1,\n",
    "    size = 5,\n",
    "    show.legend = FALSE,\n",
    "    point.padding = 0.4,\n",
    "    box.padding = 0.25,\n",
    "    max.overlaps = 5,\n",
    "    segment.color = \"grey70\",\n",
    "    segment.size = 0.2\n",
    "  ) +\n",
    "  stat_ellipse(aes(fill = Cluster, group = Cluster), level = 0.95, alpha = 0.2, geom = \"polygon\") +\n",
    "  labs(\n",
    "    title = \"ATSC BRCA classification\",\n",
    "    x = \"Principal Component 1\",\n",
    "    y = \"Principal Component 2\"\n",
    "  ) +\n",
    "  scale_shape_manual(values = cluster_shapes, labels = unique(pca_df$Description)) +\n",
    "  scale_color_manual(values = cluster_colors, labels = cluster_labels)  +\n",
    "  scale_fill_manual(values = cluster_colors, labels = cluster_labels)   +\n",
    "  theme_minimal(base_size = 15) +\n",
    "  theme(\n",
    "    plot.title = element_text(hjust = 0.5, size = 18, face = \"bold\"),\n",
    "    axis.title.x = element_text(size = 20),\n",
    "    axis.title.y = element_text(size = 20),\n",
    "    axis.text = element_text(size = 16),\n",
    "    legend.position = \"right\",\n",
    "    legend.title = element_text(size = 18),\n",
    "    legend.text = element_text(size = 16),\n",
    "    panel.grid.major = element_line(color = \"grey90\"),\n",
    "    panel.grid.minor = element_blank()\n",
    "  )"
   ]
  },
  {
   "cell_type": "code",
   "execution_count": 12,
   "id": "ec847c32",
   "metadata": {},
   "outputs": [
    {
     "data": {
      "text/html": [
       "<table class=\"dataframe\">\n",
       "<caption>A data.frame: 1 × 3</caption>\n",
       "<thead>\n",
       "\t<tr><th></th><th scope=col>1</th><th scope=col>2</th><th scope=col>3</th></tr>\n",
       "\t<tr><th></th><th scope=col>&lt;chr&gt;</th><th scope=col>&lt;chr&gt;</th><th scope=col>&lt;chr&gt;</th></tr>\n",
       "</thead>\n",
       "<tbody>\n",
       "\t<tr><th scope=row>Sensitivity. (%)</th><td>91</td><td>100</td><td>95</td></tr>\n",
       "</tbody>\n",
       "</table>\n"
      ],
      "text/latex": [
       "A data.frame: 1 × 3\n",
       "\\begin{tabular}{r|lll}\n",
       "  & 1 & 2 & 3\\\\\n",
       "  & <chr> & <chr> & <chr>\\\\\n",
       "\\hline\n",
       "\tSensitivity. (\\%) & 91 & 100 & 95\\\\\n",
       "\\end{tabular}\n"
      ],
      "text/markdown": [
       "\n",
       "A data.frame: 1 × 3\n",
       "\n",
       "| <!--/--> | 1 &lt;chr&gt; | 2 &lt;chr&gt; | 3 &lt;chr&gt; |\n",
       "|---|---|---|---|\n",
       "| Sensitivity. (%) | 91 | 100 | 95 |\n",
       "\n"
      ],
      "text/plain": [
       "                 1  2   3 \n",
       "Sensitivity. (%) 91 100 95"
      ]
     },
     "metadata": {},
     "output_type": "display_data"
    },
    {
     "data": {
      "text/html": [
       "'(91,100,95)'"
      ],
      "text/latex": [
       "'(91,100,95)'"
      ],
      "text/markdown": [
       "'(91,100,95)'"
      ],
      "text/plain": [
       "[1] \"(91,100,95)\""
      ]
     },
     "metadata": {},
     "output_type": "display_data"
    }
   ],
   "source": [
    "sen = RSKC::Sensitivity(predicted, gold_standard_vector)\n",
    "sensitivity_table <- sen$prob[1,]\n",
    "#names(sensitivity_table) = names(level_mapping[!grepl(\"K56|MCF\", names(level_mapping))])\n",
    "sensitivity_table\n",
    "paste0(\"(\", paste(unlist(sensitivity_table), collapse = \",\"), \")\")"
   ]
  },
  {
   "cell_type": "code",
   "execution_count": 13,
   "id": "c6c2190f-f90c-4c67-9f3f-c58263b072c6",
   "metadata": {},
   "outputs": [
    {
     "name": "stdout",
     "output_type": "stream",
     "text": [
      "[1] \"CER: 7.05%\"\n"
     ]
    }
   ],
   "source": [
    "cer = CER(predicted, gold_standard_vector)\n",
    "cer = format(round(cer*100, 2), nsmall = 2)\n",
    "print(paste0(\"CER: \", cer, \"%\"))"
   ]
  },
  {
   "cell_type": "code",
   "execution_count": 14,
   "id": "ffcd8d44-1c68-4061-9345-765fb493f7ca",
   "metadata": {},
   "outputs": [
    {
     "data": {
      "text/html": [
       "<dl>\n",
       "\t<dt>$p</dt>\n",
       "\t\t<dd><style>\n",
       ".list-inline {list-style: none; margin:0; padding: 0}\n",
       ".list-inline>li {display: inline-block}\n",
       ".list-inline>li:not(:last-child)::after {content: \"\\00b7\"; padding: 0 .5ex}\n",
       "</style>\n",
       "<ol class=list-inline><li>0</li><li>0</li><li>0</li><li>0</li><li>0</li><li>0</li><li>0</li><li>0</li><li>0</li></ol>\n",
       "</dd>\n",
       "\t<dt>$d</dt>\n",
       "\t\t<dd><style>\n",
       ".list-inline {list-style: none; margin:0; padding: 0}\n",
       ".list-inline>li {display: inline-block}\n",
       ".list-inline>li:not(:last-child)::after {content: \"\\00b7\"; padding: 0 .5ex}\n",
       "</style>\n",
       "<ol class=list-inline><li>0.398018960534116</li><li>0.527176016561394</li><li>0.392327147504528</li><li>0.364541893139752</li><li>0.434097238939728</li><li>0.380830908263968</li><li>0.354892602689529</li><li>0.371264044087379</li><li>0.38246606530762</li></ol>\n",
       "</dd>\n",
       "\t<dt>$kopt</dt>\n",
       "\t\t<dd>3</dd>\n",
       "</dl>\n"
      ],
      "text/latex": [
       "\\begin{description}\n",
       "\\item[\\$p] \\begin{enumerate*}\n",
       "\\item 0\n",
       "\\item 0\n",
       "\\item 0\n",
       "\\item 0\n",
       "\\item 0\n",
       "\\item 0\n",
       "\\item 0\n",
       "\\item 0\n",
       "\\item 0\n",
       "\\end{enumerate*}\n",
       "\n",
       "\\item[\\$d] \\begin{enumerate*}\n",
       "\\item 0.398018960534116\n",
       "\\item 0.527176016561394\n",
       "\\item 0.392327147504528\n",
       "\\item 0.364541893139752\n",
       "\\item 0.434097238939728\n",
       "\\item 0.380830908263968\n",
       "\\item 0.354892602689529\n",
       "\\item 0.371264044087379\n",
       "\\item 0.38246606530762\n",
       "\\end{enumerate*}\n",
       "\n",
       "\\item[\\$kopt] 3\n",
       "\\end{description}\n"
      ],
      "text/markdown": [
       "$p\n",
       ":   1. 0\n",
       "2. 0\n",
       "3. 0\n",
       "4. 0\n",
       "5. 0\n",
       "6. 0\n",
       "7. 0\n",
       "8. 0\n",
       "9. 0\n",
       "\n",
       "\n",
       "\n",
       "$d\n",
       ":   1. 0.398018960534116\n",
       "2. 0.527176016561394\n",
       "3. 0.392327147504528\n",
       "4. 0.364541893139752\n",
       "5. 0.434097238939728\n",
       "6. 0.380830908263968\n",
       "7. 0.354892602689529\n",
       "8. 0.371264044087379\n",
       "9. 0.38246606530762\n",
       "\n",
       "\n",
       "\n",
       "$kopt\n",
       ":   3\n",
       "\n",
       "\n"
      ],
      "text/plain": [
       "$p\n",
       "[1] 0 0 0 0 0 0 0 0 0\n",
       "\n",
       "$d\n",
       "[1] 0.3980190 0.5271760 0.3923271 0.3645419 0.4340972 0.3808309 0.3548926\n",
       "[8] 0.3712640 0.3824661\n",
       "\n",
       "$kopt\n",
       "[1] 3\n"
      ]
     },
     "metadata": {},
     "output_type": "display_data"
    }
   ],
   "source": [
    "clest_result"
   ]
  },
  {
   "cell_type": "code",
   "execution_count": 15,
   "id": "12a8371d-2f8c-4e1c-b889-9013a0644d2d",
   "metadata": {},
   "outputs": [
    {
     "name": "stderr",
     "output_type": "stream",
     "text": [
      "Warning message:\n",
      "\"\u001b[1m\u001b[22mUsing `size` aesthetic for lines was deprecated in ggplot2 3.4.0.\n",
      "\u001b[36mℹ\u001b[39m Please use `linewidth` instead.\"\n",
      "Warning message:\n",
      "\"\u001b[1m\u001b[22mRemoved 1 row containing missing values or values outside the scale range\n",
      "(`geom_line()`).\"\n",
      "Warning message:\n",
      "\"\u001b[1m\u001b[22mRemoved 1 row containing missing values or values outside the scale range\n",
      "(`geom_point()`).\"\n"
     ]
    },
    {
     "data": {
      "image/png": "[encoded data removed]",
      "text/plain": [
       "plot without title"
      ]
     },
     "metadata": {
      "image/png": {
       "height": 720,
       "width": 720
      }
     },
     "output_type": "display_data"
    }
   ],
   "source": [
    "df <- data.frame(K = c(2:10), \n",
    "                 Difference = clest_result$d)\n",
    "\n",
    "ggplot(df, aes(x = K, y = Difference)) +\n",
    "  geom_line(color = \"#4B4B4B\", size = 1.2) +\n",
    "  geom_point(size = 3, color = \"#4B4B4B\") +\n",
    "  geom_hline(yintercept = 0.05, linetype = \"dashed\", color = \"black\", size = 1) +\n",
    "  scale_y_continuous(breaks = seq(0, max(df$Difference) + 0.05, by = 0.05)) +\n",
    "  scale_x_continuous(\n",
    "    limits = c(3, max(df$K)),\n",
    "    breaks = seq(3, max(df$K), by = 1)\n",
    "  ) +\n",
    "  labs(title = \"NCI-60 - Clest\",\n",
    "       subtitle = \"Difference between observed similarity and expected value\",\n",
    "       x = \"k\", \n",
    "       y = \"Difference (d)\") +\n",
    "  theme_minimal() +\n",
    "  theme(\n",
    "    plot.title = element_text(hjust = 0.5, size = 24, face = \"bold\"),\n",
    "    plot.subtitle = element_text(hjust = 0.5, size = 24, face = \"italic\", color = \"gray40\"),\n",
    "    legend.position = \"right\",\n",
    "    legend.title = element_text(size = 24),\n",
    "    legend.text = element_text(size = 20),\n",
    "    axis.title.x = element_text(size = 24),\n",
    "    axis.title.y = element_text(size = 24),\n",
    "    axis.text = element_text(size = 20)\n",
    "  )"
   ]
  },
  {
   "cell_type": "code",
   "execution_count": null,
   "id": "fb23ed7b-57b3-4ba0-9386-706d253cfe53",
   "metadata": {},
   "outputs": [],
   "source": []
  }
 ],
 "metadata": {
  "kernelspec": {
   "display_name": "R",
   "language": "R",
   "name": "ir"
  },
  "language_info": {
   "codemirror_mode": "r",
   "file_extension": ".r",
   "mimetype": "text/x-r-source",
   "name": "R",
   "pygments_lexer": "r",
   "version": "4.4.1"
  }
 },
 "nbformat": 4,
 "nbformat_minor": 5
}
