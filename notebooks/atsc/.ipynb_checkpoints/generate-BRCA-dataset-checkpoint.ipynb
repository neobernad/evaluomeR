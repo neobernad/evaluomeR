{
 "cells": [
  {
   "cell_type": "markdown",
   "id": "285a2f02",
   "metadata": {},
   "source": [
    "# Leukamia using Clest"
   ]
  },
  {
   "cell_type": "code",
   "execution_count": 1,
   "id": "5b925569",
   "metadata": {
    "scrolled": true
   },
   "outputs": [
    {
     "name": "stderr",
     "output_type": "stream",
     "text": [
      "Cargando paquete requerido: MultiAssayExperiment\n",
      "\n",
      "Cargando paquete requerido: SummarizedExperiment\n",
      "\n",
      "Cargando paquete requerido: MatrixGenerics\n",
      "\n",
      "Cargando paquete requerido: matrixStats\n",
      "\n",
      "\n",
      "Adjuntando el paquete: 'MatrixGenerics'\n",
      "\n",
      "\n",
      "The following objects are masked from 'package:matrixStats':\n",
      "\n",
      "    colAlls, colAnyNAs, colAnys, colAvgsPerRowSet, colCollapse,\n",
      "    colCounts, colCummaxs, colCummins, colCumprods, colCumsums,\n",
      "    colDiffs, colIQRDiffs, colIQRs, colLogSumExps, colMadDiffs,\n",
      "    colMads, colMaxs, colMeans2, colMedians, colMins, colOrderStats,\n",
      "    colProds, colQuantiles, colRanges, colRanks, colSdDiffs, colSds,\n",
      "    colSums2, colTabulates, colVarDiffs, colVars, colWeightedMads,\n",
      "    colWeightedMeans, colWeightedMedians, colWeightedSds,\n",
      "    colWeightedVars, rowAlls, rowAnyNAs, rowAnys, rowAvgsPerColSet,\n",
      "    rowCollapse, rowCounts, rowCummaxs, rowCummins, rowCumprods,\n",
      "    rowCumsums, rowDiffs, rowIQRDiffs, rowIQRs, rowLogSumExps,\n",
      "    rowMadDiffs, rowMads, rowMaxs, rowMeans2, rowMedians, rowMins,\n",
      "    rowOrderStats, rowProds, rowQuantiles, rowRanges, rowRanks,\n",
      "    rowSdDiffs, rowSds, rowSums2, rowTabulates, rowVarDiffs, rowVars,\n",
      "    rowWeightedMads, rowWeightedMeans, rowWeightedMedians,\n",
      "    rowWeightedSds, rowWeightedVars\n",
      "\n",
      "\n",
      "Cargando paquete requerido: GenomicRanges\n",
      "\n",
      "Cargando paquete requerido: stats4\n",
      "\n",
      "Cargando paquete requerido: BiocGenerics\n",
      "\n",
      "\n",
      "Adjuntando el paquete: 'BiocGenerics'\n",
      "\n",
      "\n",
      "The following objects are masked from 'package:stats':\n",
      "\n",
      "    IQR, mad, sd, var, xtabs\n",
      "\n",
      "\n",
      "The following objects are masked from 'package:base':\n",
      "\n",
      "    anyDuplicated, aperm, append, as.data.frame, basename, cbind,\n",
      "    colnames, dirname, do.call, duplicated, eval, evalq, Filter, Find,\n",
      "    get, grep, grepl, intersect, is.unsorted, lapply, Map, mapply,\n",
      "    match, mget, order, paste, pmax, pmax.int, pmin, pmin.int,\n",
      "    Position, rank, rbind, Reduce, rownames, sapply, setdiff, table,\n",
      "    tapply, union, unique, unsplit, which.max, which.min\n",
      "\n",
      "\n",
      "Cargando paquete requerido: S4Vectors\n",
      "\n",
      "\n",
      "Adjuntando el paquete: 'S4Vectors'\n",
      "\n",
      "\n",
      "The following object is masked from 'package:utils':\n",
      "\n",
      "    findMatches\n",
      "\n",
      "\n",
      "The following objects are masked from 'package:base':\n",
      "\n",
      "    expand.grid, I, unname\n",
      "\n",
      "\n",
      "Cargando paquete requerido: IRanges\n",
      "\n",
      "\n",
      "Adjuntando el paquete: 'IRanges'\n",
      "\n",
      "\n",
      "The following object is masked from 'package:grDevices':\n",
      "\n",
      "    windows\n",
      "\n",
      "\n",
      "Cargando paquete requerido: GenomeInfoDb\n",
      "\n",
      "Cargando paquete requerido: Biobase\n",
      "\n",
      "Welcome to Bioconductor\n",
      "\n",
      "    Vignettes contain introductory material; view with\n",
      "    'browseVignettes()'. To cite Bioconductor, see\n",
      "    'citation(\"Biobase\")', and for packages 'citation(\"pkgname\")'.\n",
      "\n",
      "\n",
      "\n",
      "Adjuntando el paquete: 'Biobase'\n",
      "\n",
      "\n",
      "The following object is masked from 'package:MatrixGenerics':\n",
      "\n",
      "    rowMedians\n",
      "\n",
      "\n",
      "The following objects are masked from 'package:matrixStats':\n",
      "\n",
      "    anyMissing, rowMedians\n",
      "\n",
      "\n"
     ]
    }
   ],
   "source": [
    "# Install curatedTCGAData if not already installed\n",
    "# if (!require(\"BiocManager\")) install.packages(\"BiocManager\")\n",
    "# BiocManager::install(\"curatedTCGAData\")\n",
    "# Load library\n",
    "library(\"curatedTCGAData\")\n",
    "library(\"SummarizedExperiment\")\n",
    "\n",
    "options(scipen=10)\n",
    "options(repr.plot.width=12, repr.plot.height=12)"
   ]
  },
  {
   "cell_type": "code",
   "execution_count": 2,
   "id": "81bc540c-a5b7-4893-9026-6767bd61d53f",
   "metadata": {},
   "outputs": [
    {
     "name": "stderr",
     "output_type": "stream",
     "text": [
      "Querying and downloading: BRCA_RNASeq2GeneNorm-20160128\n",
      "\n",
      "see ?curatedTCGAData and browseVignettes('curatedTCGAData') for documentation\n",
      "\n",
      "loading from cache\n",
      "\n",
      "Querying and downloading: BRCA_colData-20160128\n",
      "\n",
      "see ?curatedTCGAData and browseVignettes('curatedTCGAData') for documentation\n",
      "\n",
      "loading from cache\n",
      "\n",
      "Querying and downloading: BRCA_sampleMap-20160128\n",
      "\n",
      "see ?curatedTCGAData and browseVignettes('curatedTCGAData') for documentation\n",
      "\n",
      "loading from cache\n",
      "\n",
      "Querying and downloading: BRCA_metadata-20160128\n",
      "\n",
      "see ?curatedTCGAData and browseVignettes('curatedTCGAData') for documentation\n",
      "\n",
      "loading from cache\n",
      "\n",
      "harmonizing input:\n",
      "  removing 14373 sampleMap rows not in names(experiments)\n",
      "  removing 5 colData rownames not in sampleMap 'primary'\n",
      "\n"
     ]
    }
   ],
   "source": [
    "# Download BRCA RNA-Seq data\n",
    "brca_data <- curatedTCGAData(diseaseCode = \"BRCA\", \n",
    "                             assays = \"RNASeq2GeneNorm\", \n",
    "                             version = \"2.1.1\",  # Specify the version\n",
    "                             dry.run = FALSE)  # Set dry.run = TRUE to preview first\n"
   ]
  },
  {
   "cell_type": "code",
   "execution_count": 3,
   "id": "ff181fe1-d340-4c00-a5c0-f15cc6b0f629",
   "metadata": {},
   "outputs": [
    {
     "data": {
      "text/plain": [
       "ExperimentList class object of length 1:\n",
       " [1] BRCA_RNASeq2GeneNorm-20160128: SummarizedExperiment with 18300 rows and 1212 columns"
      ]
     },
     "metadata": {},
     "output_type": "display_data"
    }
   ],
   "source": [
    "experiments(brca_data)"
   ]
  },
  {
   "cell_type": "code",
   "execution_count": 6,
   "id": "271ae23c-53ee-47a1-aee5-82dd9ab5e1e6",
   "metadata": {},
   "outputs": [],
   "source": [
    "# Extract full sample IDs and short patient IDs\n",
    "sample_ids <- colnames(expression)  # Full TCGA sample IDs (e.g., \"TCGA-3C-AAAU-01A-11R\")\n",
    "sample_ids_short <- substr(sample_ids, 1, 12)  # Short IDs (e.g., \"TCGA-3C-AAAU\")\n",
    "metadata_patient_ids <- metadata$patientID  # Short patient IDs from metadata"
   ]
  },
  {
   "cell_type": "code",
   "execution_count": 7,
   "id": "64d58aa7-3463-4d45-b9df-6dac5d50e0a9",
   "metadata": {},
   "outputs": [],
   "source": [
    "# Find common patients\n",
    "common_samples_short <- intersect(sample_ids_short, metadata_patient_ids)\n",
    "# Create a mapping table from full IDs to short IDs\n",
    "sample_map <- data.frame(full_id = sample_ids, short_id = sample_ids_short)\n",
    "# Get full sample IDs corresponding to common short IDs\n",
    "common_full_ids <- sample_map$full_id[sample_map$short_id %in% common_samples_short]"
   ]
  },
  {
   "cell_type": "code",
   "execution_count": 9,
   "id": "fb3553c4-50f9-4288-b8b2-73b163578368",
   "metadata": {},
   "outputs": [],
   "source": [
    "# Subset metadata to only include common patients\n",
    "metadata_subset <- metadata[metadata$patientID %in% common_samples_short, ]\n",
    "pam50_labels <- metadata_subset$PAM50.mRNA"
   ]
  },
  {
   "cell_type": "code",
   "execution_count": 11,
   "id": "e3141848-ecff-4f2c-b0cb-c4ab200d1764",
   "metadata": {},
   "outputs": [],
   "source": [
    "# Removing NA PAM50 labels before getting top 200 individuasl by RNA variance\n",
    "metadata_subset_filtered <- metadata_subset[!is.na(metadata_subset$PAM50.mRNA), ]\n",
    "\n",
    "# Get the list of valid sample IDs after removing NA PAM50\n",
    "valid_samples <- sample_map$full_id[sample_map$short_id %in% metadata_subset_filtered$patientID]\n",
    "# Subset expression data to only include samples with valid PAM50 labels\n",
    "expression_filtered <- expression[, valid_samples]"
   ]
  },
  {
   "cell_type": "code",
   "execution_count": 18,
   "id": "5e7911f4-5cd1-433a-b34b-80ed9a9c6c0e",
   "metadata": {},
   "outputs": [],
   "source": [
    "# Identify top 200 variance genes\n",
    "gene_variances <- apply(expression_filtered, 1, var)\n",
    "top_200_genes <- names(sort(gene_variances, decreasing = TRUE))[1:200]\n",
    "top_200_expression <- expression_filtered[top_200_genes, ]\n",
    "\n",
    "# Transpose expression matrix: samples as rows, genes as columns\n",
    "top_200_df <- as.data.frame(t(top_200_expression))\n",
    "\n",
    "# Add \"description\" column with **full sample IDs**\n",
    "top_200_df$description <- rownames(top_200_df)\n",
    "\n",
    "# Extract patient ID from sample ID (first 12 characters)\n",
    "top_200_df$patient_short_id <- substr(top_200_df$description, 1, 12)"
   ]
  },
  {
   "cell_type": "code",
   "execution_count": 19,
   "id": "f9dce23b-623d-4839-ba00-01156fc0b08d",
   "metadata": {},
   "outputs": [],
   "source": [
    "# Match and add PAM50 labels **with correctly filtered metadata**\n",
    "top_200_df$PAM50 <- metadata_subset_filtered$PAM50.mRNA[match(\n",
    "    top_200_df$patient_short_id, \n",
    "    metadata_subset_filtered$patientID\n",
    ")]\n",
    "# Remove temporary patient ID column\n",
    "top_200_df$patient_short_id <- NULL\n",
    "\n",
    "# Moving \"description\" and \"PAM50\" to the beginning\n",
    "top_200_df <- top_200_df[, c(\"description\", \"PAM50\", setdiff(names(top_200_df), c(\"description\", \"PAM50\")))]"
   ]
  },
  {
   "cell_type": "code",
   "execution_count": null,
   "id": "57cfa4a2-abca-41b5-b9ec-5c99d95bd828",
   "metadata": {},
   "outputs": [],
   "source": [
    "head(top_200_df)"
   ]
  },
  {
   "cell_type": "code",
   "execution_count": null,
   "id": "b63aa080-4025-4131-8763-a61cd1fa3e08",
   "metadata": {},
   "outputs": [],
   "source": []
  }
 ],
 "metadata": {
  "kernelspec": {
   "display_name": "R",
   "language": "R",
   "name": "ir"
  },
  "language_info": {
   "codemirror_mode": "r",
   "file_extension": ".r",
   "mimetype": "text/x-r-source",
   "name": "R",
   "pygments_lexer": "r",
   "version": "4.4.1"
  }
 },
 "nbformat": 4,
 "nbformat_minor": 5
}
