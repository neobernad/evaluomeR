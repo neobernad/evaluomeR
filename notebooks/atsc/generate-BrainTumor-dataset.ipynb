{
 "cells": [
  {
   "cell_type": "markdown",
   "id": "285a2f02",
   "metadata": {},
   "source": [
    "# Leukamia using Clest"
   ]
  },
  {
   "cell_type": "code",
   "execution_count": 4,
   "id": "5b925569",
   "metadata": {
    "scrolled": true
   },
   "outputs": [
    {
     "name": "stderr",
     "output_type": "stream",
     "text": [
      "Installing packages into 'C:/Users/Neo/AppData/Local/R/win-library/4.4'\n",
      "(as 'lib' is unspecified)\n",
      "\n",
      "Warning message:\n",
      "\"package 'GenomicDataCommons' is not available for this version of R\n",
      "\n",
      "A version of this package for your version of R might be available elsewhere,\n",
      "see the ideas at\n",
      "https://cran.r-project.org/doc/manuals/r-patched/R-admin.html#Installing-packages\"\n"
     ]
    },
    {
     "name": "stdout",
     "output_type": "stream",
     "text": [
      "package 'dplyr' successfully unpacked and MD5 sums checked\n"
     ]
    },
    {
     "name": "stderr",
     "output_type": "stream",
     "text": [
      "Warning message:\n",
      "\"cannot remove prior installation of package 'dplyr'\"\n",
      "Warning message in file.copy(savedcopy, lib, recursive = TRUE):\n",
      "\"problema al copiar C:\\Users\\Neo\\AppData\\Local\\R\\win-library\\4.4\\00LOCK\\dplyr\\libs\\x64\\dplyr.dll  a C:\\Users\\Neo\\AppData\\Local\\R\\win-library\\4.4\\dplyr\\libs\\x64\\dplyr.dll: Permission denied\"\n",
      "Warning message:\n",
      "\"restored 'dplyr'\"\n"
     ]
    },
    {
     "name": "stdout",
     "output_type": "stream",
     "text": [
      "package 'readr' successfully unpacked and MD5 sums checked\n"
     ]
    },
    {
     "name": "stderr",
     "output_type": "stream",
     "text": [
      "Warning message:\n",
      "\"cannot remove prior installation of package 'readr'\"\n",
      "Warning message in file.copy(savedcopy, lib, recursive = TRUE):\n",
      "\"problema al copiar C:\\Users\\Neo\\AppData\\Local\\R\\win-library\\4.4\\00LOCK\\readr\\libs\\x64\\readr.dll  a C:\\Users\\Neo\\AppData\\Local\\R\\win-library\\4.4\\readr\\libs\\x64\\readr.dll: Permission denied\"\n",
      "Warning message:\n",
      "\"restored 'readr'\"\n"
     ]
    },
    {
     "name": "stdout",
     "output_type": "stream",
     "text": [
      "\n",
      "The downloaded binary packages are in\n",
      "\tC:\\Users\\Neo\\AppData\\Local\\Temp\\Rtmpu6jrEV\\downloaded_packages\n"
     ]
    }
   ],
   "source": [
    "# BiocManager::install(\"ExperimentHub\")\n",
    "install.packages(c(\"GenomicDataCommons\", \"dplyr\", \"readr\"))\n",
    "\n",
    "options(scipen=10)\n",
    "options(repr.plot.width=12, repr.plot.height=12)"
   ]
  },
  {
   "cell_type": "code",
   "execution_count": 19,
   "id": "81bc540c-a5b7-4893-9026-6767bd61d53f",
   "metadata": {},
   "outputs": [
    {
     "name": "stderr",
     "output_type": "stream",
     "text": [
      "Found 1 file(s)\n",
      "\n",
      "GSE50161_series_matrix.txt.gz\n",
      "\n",
      "Using locally cached version: C:\\Users\\Neo\\AppData\\Local\\Temp\\Rtmpu6jrEV/GSE50161_series_matrix.txt.gz\n",
      "\n",
      "Using locally cached version of GPL570 found here:\n",
      "C:\\Users\\Neo\\AppData\\Local\\Temp\\Rtmpu6jrEV/GPL570.soft.gz \n",
      "\n"
     ]
    },
    {
     "data": {
      "text/html": [
       "<style>\n",
       ".list-inline {list-style: none; margin:0; padding: 0}\n",
       ".list-inline>li {display: inline-block}\n",
       ".list-inline>li:not(:last-child)::after {content: \"\\00b7\"; padding: 0 .5ex}\n",
       "</style>\n",
       "<ol class=list-inline><li>'title'</li><li>'geo_accession'</li><li>'status'</li><li>'submission_date'</li><li>'last_update_date'</li><li>'type'</li><li>'channel_count'</li><li>'source_name_ch1'</li><li>'organism_ch1'</li><li>'characteristics_ch1'</li><li>'characteristics_ch1.1'</li><li>'molecule_ch1'</li><li>'extract_protocol_ch1'</li><li>'label_ch1'</li><li>'label_protocol_ch1'</li><li>'taxid_ch1'</li><li>'hyb_protocol'</li><li>'scan_protocol'</li><li>'description'</li><li>'description.1'</li><li>'data_processing'</li><li>'platform_id'</li><li>'contact_name'</li><li>'contact_email'</li><li>'contact_phone'</li><li>'contact_laboratory'</li><li>'contact_department'</li><li>'contact_institute'</li><li>'contact_address'</li><li>'contact_city'</li><li>'contact_state'</li><li>'contact_zip/postal_code'</li><li>'contact_country'</li><li>'supplementary_file'</li><li>'data_row_count'</li><li>'relation'</li><li>'relation.1'</li><li>'relation.2'</li><li>'relation.3'</li><li>'disease state:ch1'</li><li>'tissue:ch1'</li></ol>\n"
      ],
      "text/latex": [
       "\\begin{enumerate*}\n",
       "\\item 'title'\n",
       "\\item 'geo\\_accession'\n",
       "\\item 'status'\n",
       "\\item 'submission\\_date'\n",
       "\\item 'last\\_update\\_date'\n",
       "\\item 'type'\n",
       "\\item 'channel\\_count'\n",
       "\\item 'source\\_name\\_ch1'\n",
       "\\item 'organism\\_ch1'\n",
       "\\item 'characteristics\\_ch1'\n",
       "\\item 'characteristics\\_ch1.1'\n",
       "\\item 'molecule\\_ch1'\n",
       "\\item 'extract\\_protocol\\_ch1'\n",
       "\\item 'label\\_ch1'\n",
       "\\item 'label\\_protocol\\_ch1'\n",
       "\\item 'taxid\\_ch1'\n",
       "\\item 'hyb\\_protocol'\n",
       "\\item 'scan\\_protocol'\n",
       "\\item 'description'\n",
       "\\item 'description.1'\n",
       "\\item 'data\\_processing'\n",
       "\\item 'platform\\_id'\n",
       "\\item 'contact\\_name'\n",
       "\\item 'contact\\_email'\n",
       "\\item 'contact\\_phone'\n",
       "\\item 'contact\\_laboratory'\n",
       "\\item 'contact\\_department'\n",
       "\\item 'contact\\_institute'\n",
       "\\item 'contact\\_address'\n",
       "\\item 'contact\\_city'\n",
       "\\item 'contact\\_state'\n",
       "\\item 'contact\\_zip/postal\\_code'\n",
       "\\item 'contact\\_country'\n",
       "\\item 'supplementary\\_file'\n",
       "\\item 'data\\_row\\_count'\n",
       "\\item 'relation'\n",
       "\\item 'relation.1'\n",
       "\\item 'relation.2'\n",
       "\\item 'relation.3'\n",
       "\\item 'disease state:ch1'\n",
       "\\item 'tissue:ch1'\n",
       "\\end{enumerate*}\n"
      ],
      "text/markdown": [
       "1. 'title'\n",
       "2. 'geo_accession'\n",
       "3. 'status'\n",
       "4. 'submission_date'\n",
       "5. 'last_update_date'\n",
       "6. 'type'\n",
       "7. 'channel_count'\n",
       "8. 'source_name_ch1'\n",
       "9. 'organism_ch1'\n",
       "10. 'characteristics_ch1'\n",
       "11. 'characteristics_ch1.1'\n",
       "12. 'molecule_ch1'\n",
       "13. 'extract_protocol_ch1'\n",
       "14. 'label_ch1'\n",
       "15. 'label_protocol_ch1'\n",
       "16. 'taxid_ch1'\n",
       "17. 'hyb_protocol'\n",
       "18. 'scan_protocol'\n",
       "19. 'description'\n",
       "20. 'description.1'\n",
       "21. 'data_processing'\n",
       "22. 'platform_id'\n",
       "23. 'contact_name'\n",
       "24. 'contact_email'\n",
       "25. 'contact_phone'\n",
       "26. 'contact_laboratory'\n",
       "27. 'contact_department'\n",
       "28. 'contact_institute'\n",
       "29. 'contact_address'\n",
       "30. 'contact_city'\n",
       "31. 'contact_state'\n",
       "32. 'contact_zip/postal_code'\n",
       "33. 'contact_country'\n",
       "34. 'supplementary_file'\n",
       "35. 'data_row_count'\n",
       "36. 'relation'\n",
       "37. 'relation.1'\n",
       "38. 'relation.2'\n",
       "39. 'relation.3'\n",
       "40. 'disease state:ch1'\n",
       "41. 'tissue:ch1'\n",
       "\n",
       "\n"
      ],
      "text/plain": [
       " [1] \"title\"                   \"geo_accession\"          \n",
       " [3] \"status\"                  \"submission_date\"        \n",
       " [5] \"last_update_date\"        \"type\"                   \n",
       " [7] \"channel_count\"           \"source_name_ch1\"        \n",
       " [9] \"organism_ch1\"            \"characteristics_ch1\"    \n",
       "[11] \"characteristics_ch1.1\"   \"molecule_ch1\"           \n",
       "[13] \"extract_protocol_ch1\"    \"label_ch1\"              \n",
       "[15] \"label_protocol_ch1\"      \"taxid_ch1\"              \n",
       "[17] \"hyb_protocol\"            \"scan_protocol\"          \n",
       "[19] \"description\"             \"description.1\"          \n",
       "[21] \"data_processing\"         \"platform_id\"            \n",
       "[23] \"contact_name\"            \"contact_email\"          \n",
       "[25] \"contact_phone\"           \"contact_laboratory\"     \n",
       "[27] \"contact_department\"      \"contact_institute\"      \n",
       "[29] \"contact_address\"         \"contact_city\"           \n",
       "[31] \"contact_state\"           \"contact_zip/postal_code\"\n",
       "[33] \"contact_country\"         \"supplementary_file\"     \n",
       "[35] \"data_row_count\"          \"relation\"               \n",
       "[37] \"relation.1\"              \"relation.2\"             \n",
       "[39] \"relation.3\"              \"disease state:ch1\"      \n",
       "[41] \"tissue:ch1\"             "
      ]
     },
     "metadata": {},
     "output_type": "display_data"
    },
    {
     "data": {
      "text/html": [
       "<style>\n",
       ".list-inline {list-style: none; margin:0; padding: 0}\n",
       ".list-inline>li {display: inline-block}\n",
       ".list-inline>li:not(:last-child)::after {content: \"\\00b7\"; padding: 0 .5ex}\n",
       "</style>\n",
       "<ol class=list-inline><li>102</li><li>201</li></ol>\n"
      ],
      "text/latex": [
       "\\begin{enumerate*}\n",
       "\\item 102\n",
       "\\item 201\n",
       "\\end{enumerate*}\n"
      ],
      "text/markdown": [
       "1. 102\n",
       "2. 201\n",
       "\n",
       "\n"
      ],
      "text/plain": [
       "[1] 102 201"
      ]
     },
     "metadata": {},
     "output_type": "display_data"
    },
    {
     "data": {
      "text/html": [
       "<table class=\"dataframe\">\n",
       "<caption>A data.frame: 6 × 201</caption>\n",
       "<thead>\n",
       "\t<tr><th></th><th scope=col>Description</th><th scope=col>X201909_at</th><th scope=col>X224588_at</th><th scope=col>X229012_at</th><th scope=col>X210033_s_at</th><th scope=col>X206018_at</th><th scope=col>X240065_at</th><th scope=col>X220156_at</th><th scope=col>X236448_at</th><th scope=col>X236085_at</th><th scope=col>⋯</th><th scope=col>X242517_at</th><th scope=col>X214822_at</th><th scope=col>X204850_s_at</th><th scope=col>X205358_at</th><th scope=col>X205891_at</th><th scope=col>X206002_at</th><th scope=col>X204379_s_at</th><th scope=col>X229651_at</th><th scope=col>X232377_at</th><th scope=col>X216356_x_at</th></tr>\n",
       "\t<tr><th></th><th scope=col>&lt;chr&gt;</th><th scope=col>&lt;dbl&gt;</th><th scope=col>&lt;dbl&gt;</th><th scope=col>&lt;dbl&gt;</th><th scope=col>&lt;dbl&gt;</th><th scope=col>&lt;dbl&gt;</th><th scope=col>&lt;dbl&gt;</th><th scope=col>&lt;dbl&gt;</th><th scope=col>&lt;dbl&gt;</th><th scope=col>&lt;dbl&gt;</th><th scope=col>⋯</th><th scope=col>&lt;dbl&gt;</th><th scope=col>&lt;dbl&gt;</th><th scope=col>&lt;dbl&gt;</th><th scope=col>&lt;dbl&gt;</th><th scope=col>&lt;dbl&gt;</th><th scope=col>&lt;dbl&gt;</th><th scope=col>&lt;dbl&gt;</th><th scope=col>&lt;dbl&gt;</th><th scope=col>&lt;dbl&gt;</th><th scope=col>&lt;dbl&gt;</th></tr>\n",
       "</thead>\n",
       "<tbody>\n",
       "\t<tr><th scope=row>GSM1214834</th><td>ependymoma</td><td>3.644194</td><td>1.678130</td><td>3.820705</td><td>3.735552</td><td>1.794471</td><td>3.624207</td><td>3.589067</td><td>1.172587</td><td>3.650788</td><td>⋯</td><td>1.478922</td><td>1.669697</td><td>2.350027</td><td>2.179516</td><td>2.812467</td><td>1.703945</td><td>3.743298</td><td>2.022782</td><td>1.899070</td><td>3.457520</td></tr>\n",
       "\t<tr><th scope=row>GSM1214835</th><td>ependymoma</td><td>1.667500</td><td>3.767506</td><td>3.224272</td><td>3.566060</td><td>3.608933</td><td>3.381327</td><td>3.315655</td><td>3.134809</td><td>3.003987</td><td>⋯</td><td>1.624345</td><td>3.086718</td><td>2.975795</td><td>3.559758</td><td>3.300258</td><td>1.721960</td><td>3.926462</td><td>1.998062</td><td>1.835340</td><td>3.617848</td></tr>\n",
       "\t<tr><th scope=row>GSM1214836</th><td>ependymoma</td><td>3.747256</td><td>1.676252</td><td>3.456146</td><td>3.642242</td><td>1.797164</td><td>3.520656</td><td>3.227379</td><td>1.194883</td><td>3.132884</td><td>⋯</td><td>2.540459</td><td>1.679353</td><td>3.073730</td><td>3.332086</td><td>3.042175</td><td>1.702741</td><td>3.663329</td><td>1.948550</td><td>3.174495</td><td>3.158945</td></tr>\n",
       "\t<tr><th scope=row>GSM1214837</th><td>ependymoma</td><td>1.636888</td><td>3.792194</td><td>3.823623</td><td>3.786311</td><td>3.818550</td><td>3.498731</td><td>3.578139</td><td>1.168471</td><td>3.366431</td><td>⋯</td><td>1.469006</td><td>1.711754</td><td>2.239812</td><td>2.990491</td><td>1.611182</td><td>3.535817</td><td>3.776126</td><td>1.990540</td><td>2.343159</td><td>3.518917</td></tr>\n",
       "\t<tr><th scope=row>GSM1214838</th><td>ependymoma</td><td>1.639904</td><td>3.809949</td><td>3.561411</td><td>1.590063</td><td>1.648297</td><td>2.997341</td><td>3.551927</td><td>2.933787</td><td>3.304503</td><td>⋯</td><td>1.457708</td><td>1.690724</td><td>3.074425</td><td>2.871530</td><td>3.268776</td><td>1.674714</td><td>3.622669</td><td>2.334402</td><td>1.845147</td><td>3.564103</td></tr>\n",
       "\t<tr><th scope=row>GSM1214839</th><td>ependymoma</td><td>3.700109</td><td>1.740624</td><td>3.893310</td><td>3.761085</td><td>1.841266</td><td>3.745520</td><td>3.746951</td><td>1.288353</td><td>3.724553</td><td>⋯</td><td>1.489215</td><td>1.688170</td><td>2.383684</td><td>3.319295</td><td>2.817745</td><td>1.716527</td><td>3.756038</td><td>2.005784</td><td>2.627615</td><td>3.230955</td></tr>\n",
       "</tbody>\n",
       "</table>\n"
      ],
      "text/latex": [
       "A data.frame: 6 × 201\n",
       "\\begin{tabular}{r|lllllllllllllllllllll}\n",
       "  & Description & X201909\\_at & X224588\\_at & X229012\\_at & X210033\\_s\\_at & X206018\\_at & X240065\\_at & X220156\\_at & X236448\\_at & X236085\\_at & ⋯ & X242517\\_at & X214822\\_at & X204850\\_s\\_at & X205358\\_at & X205891\\_at & X206002\\_at & X204379\\_s\\_at & X229651\\_at & X232377\\_at & X216356\\_x\\_at\\\\\n",
       "  & <chr> & <dbl> & <dbl> & <dbl> & <dbl> & <dbl> & <dbl> & <dbl> & <dbl> & <dbl> & ⋯ & <dbl> & <dbl> & <dbl> & <dbl> & <dbl> & <dbl> & <dbl> & <dbl> & <dbl> & <dbl>\\\\\n",
       "\\hline\n",
       "\tGSM1214834 & ependymoma & 3.644194 & 1.678130 & 3.820705 & 3.735552 & 1.794471 & 3.624207 & 3.589067 & 1.172587 & 3.650788 & ⋯ & 1.478922 & 1.669697 & 2.350027 & 2.179516 & 2.812467 & 1.703945 & 3.743298 & 2.022782 & 1.899070 & 3.457520\\\\\n",
       "\tGSM1214835 & ependymoma & 1.667500 & 3.767506 & 3.224272 & 3.566060 & 3.608933 & 3.381327 & 3.315655 & 3.134809 & 3.003987 & ⋯ & 1.624345 & 3.086718 & 2.975795 & 3.559758 & 3.300258 & 1.721960 & 3.926462 & 1.998062 & 1.835340 & 3.617848\\\\\n",
       "\tGSM1214836 & ependymoma & 3.747256 & 1.676252 & 3.456146 & 3.642242 & 1.797164 & 3.520656 & 3.227379 & 1.194883 & 3.132884 & ⋯ & 2.540459 & 1.679353 & 3.073730 & 3.332086 & 3.042175 & 1.702741 & 3.663329 & 1.948550 & 3.174495 & 3.158945\\\\\n",
       "\tGSM1214837 & ependymoma & 1.636888 & 3.792194 & 3.823623 & 3.786311 & 3.818550 & 3.498731 & 3.578139 & 1.168471 & 3.366431 & ⋯ & 1.469006 & 1.711754 & 2.239812 & 2.990491 & 1.611182 & 3.535817 & 3.776126 & 1.990540 & 2.343159 & 3.518917\\\\\n",
       "\tGSM1214838 & ependymoma & 1.639904 & 3.809949 & 3.561411 & 1.590063 & 1.648297 & 2.997341 & 3.551927 & 2.933787 & 3.304503 & ⋯ & 1.457708 & 1.690724 & 3.074425 & 2.871530 & 3.268776 & 1.674714 & 3.622669 & 2.334402 & 1.845147 & 3.564103\\\\\n",
       "\tGSM1214839 & ependymoma & 3.700109 & 1.740624 & 3.893310 & 3.761085 & 1.841266 & 3.745520 & 3.746951 & 1.288353 & 3.724553 & ⋯ & 1.489215 & 1.688170 & 2.383684 & 3.319295 & 2.817745 & 1.716527 & 3.756038 & 2.005784 & 2.627615 & 3.230955\\\\\n",
       "\\end{tabular}\n"
      ],
      "text/markdown": [
       "\n",
       "A data.frame: 6 × 201\n",
       "\n",
       "| <!--/--> | Description &lt;chr&gt; | X201909_at &lt;dbl&gt; | X224588_at &lt;dbl&gt; | X229012_at &lt;dbl&gt; | X210033_s_at &lt;dbl&gt; | X206018_at &lt;dbl&gt; | X240065_at &lt;dbl&gt; | X220156_at &lt;dbl&gt; | X236448_at &lt;dbl&gt; | X236085_at &lt;dbl&gt; | ⋯ ⋯ | X242517_at &lt;dbl&gt; | X214822_at &lt;dbl&gt; | X204850_s_at &lt;dbl&gt; | X205358_at &lt;dbl&gt; | X205891_at &lt;dbl&gt; | X206002_at &lt;dbl&gt; | X204379_s_at &lt;dbl&gt; | X229651_at &lt;dbl&gt; | X232377_at &lt;dbl&gt; | X216356_x_at &lt;dbl&gt; |\n",
       "|---|---|---|---|---|---|---|---|---|---|---|---|---|---|---|---|---|---|---|---|---|---|\n",
       "| GSM1214834 | ependymoma | 3.644194 | 1.678130 | 3.820705 | 3.735552 | 1.794471 | 3.624207 | 3.589067 | 1.172587 | 3.650788 | ⋯ | 1.478922 | 1.669697 | 2.350027 | 2.179516 | 2.812467 | 1.703945 | 3.743298 | 2.022782 | 1.899070 | 3.457520 |\n",
       "| GSM1214835 | ependymoma | 1.667500 | 3.767506 | 3.224272 | 3.566060 | 3.608933 | 3.381327 | 3.315655 | 3.134809 | 3.003987 | ⋯ | 1.624345 | 3.086718 | 2.975795 | 3.559758 | 3.300258 | 1.721960 | 3.926462 | 1.998062 | 1.835340 | 3.617848 |\n",
       "| GSM1214836 | ependymoma | 3.747256 | 1.676252 | 3.456146 | 3.642242 | 1.797164 | 3.520656 | 3.227379 | 1.194883 | 3.132884 | ⋯ | 2.540459 | 1.679353 | 3.073730 | 3.332086 | 3.042175 | 1.702741 | 3.663329 | 1.948550 | 3.174495 | 3.158945 |\n",
       "| GSM1214837 | ependymoma | 1.636888 | 3.792194 | 3.823623 | 3.786311 | 3.818550 | 3.498731 | 3.578139 | 1.168471 | 3.366431 | ⋯ | 1.469006 | 1.711754 | 2.239812 | 2.990491 | 1.611182 | 3.535817 | 3.776126 | 1.990540 | 2.343159 | 3.518917 |\n",
       "| GSM1214838 | ependymoma | 1.639904 | 3.809949 | 3.561411 | 1.590063 | 1.648297 | 2.997341 | 3.551927 | 2.933787 | 3.304503 | ⋯ | 1.457708 | 1.690724 | 3.074425 | 2.871530 | 3.268776 | 1.674714 | 3.622669 | 2.334402 | 1.845147 | 3.564103 |\n",
       "| GSM1214839 | ependymoma | 3.700109 | 1.740624 | 3.893310 | 3.761085 | 1.841266 | 3.745520 | 3.746951 | 1.288353 | 3.724553 | ⋯ | 1.489215 | 1.688170 | 2.383684 | 3.319295 | 2.817745 | 1.716527 | 3.756038 | 2.005784 | 2.627615 | 3.230955 |\n",
       "\n"
      ],
      "text/plain": [
       "           Description X201909_at X224588_at X229012_at X210033_s_at X206018_at\n",
       "GSM1214834 ependymoma  3.644194   1.678130   3.820705   3.735552     1.794471  \n",
       "GSM1214835 ependymoma  1.667500   3.767506   3.224272   3.566060     3.608933  \n",
       "GSM1214836 ependymoma  3.747256   1.676252   3.456146   3.642242     1.797164  \n",
       "GSM1214837 ependymoma  1.636888   3.792194   3.823623   3.786311     3.818550  \n",
       "GSM1214838 ependymoma  1.639904   3.809949   3.561411   1.590063     1.648297  \n",
       "GSM1214839 ependymoma  3.700109   1.740624   3.893310   3.761085     1.841266  \n",
       "           X240065_at X220156_at X236448_at X236085_at ⋯ X242517_at X214822_at\n",
       "GSM1214834 3.624207   3.589067   1.172587   3.650788   ⋯ 1.478922   1.669697  \n",
       "GSM1214835 3.381327   3.315655   3.134809   3.003987   ⋯ 1.624345   3.086718  \n",
       "GSM1214836 3.520656   3.227379   1.194883   3.132884   ⋯ 2.540459   1.679353  \n",
       "GSM1214837 3.498731   3.578139   1.168471   3.366431   ⋯ 1.469006   1.711754  \n",
       "GSM1214838 2.997341   3.551927   2.933787   3.304503   ⋯ 1.457708   1.690724  \n",
       "GSM1214839 3.745520   3.746951   1.288353   3.724553   ⋯ 1.489215   1.688170  \n",
       "           X204850_s_at X205358_at X205891_at X206002_at X204379_s_at\n",
       "GSM1214834 2.350027     2.179516   2.812467   1.703945   3.743298    \n",
       "GSM1214835 2.975795     3.559758   3.300258   1.721960   3.926462    \n",
       "GSM1214836 3.073730     3.332086   3.042175   1.702741   3.663329    \n",
       "GSM1214837 2.239812     2.990491   1.611182   3.535817   3.776126    \n",
       "GSM1214838 3.074425     2.871530   3.268776   1.674714   3.622669    \n",
       "GSM1214839 2.383684     3.319295   2.817745   1.716527   3.756038    \n",
       "           X229651_at X232377_at X216356_x_at\n",
       "GSM1214834 2.022782   1.899070   3.457520    \n",
       "GSM1214835 1.998062   1.835340   3.617848    \n",
       "GSM1214836 1.948550   3.174495   3.158945    \n",
       "GSM1214837 1.990540   2.343159   3.518917    \n",
       "GSM1214838 2.334402   1.845147   3.564103    \n",
       "GSM1214839 2.005784   2.627615   3.230955    "
      ]
     },
     "metadata": {},
     "output_type": "display_data"
    }
   ],
   "source": [
    "library(GEOquery)\n",
    "\n",
    "# Fetch dataset from GEO\n",
    "gse <- getGEO(\"GSE50161\", GSEMatrix = TRUE)[[1]]\n",
    "brain_data <- exprs(gse)  # Gene expression matrix (genes x samples)\n",
    "\n",
    "# Check available column names in pData\n",
    "#colnames(pData(gse))\n",
    "\n",
    "# Try extracting labels from the correct column\n",
    "#brain_labels <- pData(gse)$\"disease state:ch1\"  # Possible tumor type labels\n",
    "\n",
    "# If \"tissue:ch1\" is more appropriate, try:\n",
    "brain_labels <- pData(gse)$\"tissue:ch1\"\n",
    "\n",
    "selected_labels <- c(\"ependymoma\", \"glioblastoma\", \"medulloblastoma\")\n",
    "\n",
    "# Filter the samples based on selected labels\n",
    "selected_indices <- brain_labels %in% selected_labels\n",
    "brain_data <- brain_data[, selected_indices]  # Keep only relevant samples\n",
    "brain_labels <- brain_labels[selected_indices]  # Update labels accordingly\n",
    "\n",
    "# Normalize the data using log2 transformation (adding 1 to avoid log(0))\n",
    "brain_data <- log2(brain_data + 1)\n",
    "\n",
    "# Compute variance for each gene and select top 200 genes\n",
    "gene_variances <- apply(brain_data, 1, var)  # Compute variance per gene\n",
    "top_genes <- names(sort(gene_variances, decreasing = TRUE))[1:200]  # Select top 200 genes\n",
    "brain_data <- brain_data[top_genes, ]  # Keep only top 200 genes\n",
    "\n",
    "# Transpose the data so individuals (samples) are rows and genes are columns\n",
    "brain_data <- t(brain_data)\n",
    "\n",
    "# Convert to data frame and add \"Description\" column\n",
    "brain_data <- data.frame(Description = brain_labels, brain_data)\n",
    "\n",
    "# Check the final structure\n",
    "dim(brain_data)  # Should be (number of selected samples) x (201, including Description)\n",
    "head(brain_data)  # View first few rows"
   ]
  },
  {
   "cell_type": "code",
   "execution_count": 21,
   "id": "b63aa080-4025-4131-8763-a61cd1fa3e08",
   "metadata": {},
   "outputs": [],
   "source": [
    "BrainTumor200 = brain_data\n",
    "save(BrainTumor200, file = \"BrainTumor200.RData\")"
   ]
  }
 ],
 "metadata": {
  "kernelspec": {
   "display_name": "R",
   "language": "R",
   "name": "ir"
  },
  "language_info": {
   "codemirror_mode": "r",
   "file_extension": ".r",
   "mimetype": "text/x-r-source",
   "name": "R",
   "pygments_lexer": "r",
   "version": "4.4.1"
  }
 },
 "nbformat": 4,
 "nbformat_minor": 5
}
