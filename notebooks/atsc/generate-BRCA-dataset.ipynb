{
 "cells": [
  {
   "cell_type": "markdown",
   "id": "285a2f02",
   "metadata": {},
   "source": [
    "# Leukamia using Clest"
   ]
  },
  {
   "cell_type": "code",
   "execution_count": 1,
   "id": "5b925569",
   "metadata": {
    "scrolled": true
   },
   "outputs": [
    {
     "name": "stderr",
     "output_type": "stream",
     "text": [
      "Cargando paquete requerido: MultiAssayExperiment\n",
      "\n",
      "Cargando paquete requerido: SummarizedExperiment\n",
      "\n",
      "Cargando paquete requerido: MatrixGenerics\n",
      "\n",
      "Cargando paquete requerido: matrixStats\n",
      "\n",
      "\n",
      "Adjuntando el paquete: 'MatrixGenerics'\n",
      "\n",
      "\n",
      "The following objects are masked from 'package:matrixStats':\n",
      "\n",
      "    colAlls, colAnyNAs, colAnys, colAvgsPerRowSet, colCollapse,\n",
      "    colCounts, colCummaxs, colCummins, colCumprods, colCumsums,\n",
      "    colDiffs, colIQRDiffs, colIQRs, colLogSumExps, colMadDiffs,\n",
      "    colMads, colMaxs, colMeans2, colMedians, colMins, colOrderStats,\n",
      "    colProds, colQuantiles, colRanges, colRanks, colSdDiffs, colSds,\n",
      "    colSums2, colTabulates, colVarDiffs, colVars, colWeightedMads,\n",
      "    colWeightedMeans, colWeightedMedians, colWeightedSds,\n",
      "    colWeightedVars, rowAlls, rowAnyNAs, rowAnys, rowAvgsPerColSet,\n",
      "    rowCollapse, rowCounts, rowCummaxs, rowCummins, rowCumprods,\n",
      "    rowCumsums, rowDiffs, rowIQRDiffs, rowIQRs, rowLogSumExps,\n",
      "    rowMadDiffs, rowMads, rowMaxs, rowMeans2, rowMedians, rowMins,\n",
      "    rowOrderStats, rowProds, rowQuantiles, rowRanges, rowRanks,\n",
      "    rowSdDiffs, rowSds, rowSums2, rowTabulates, rowVarDiffs, rowVars,\n",
      "    rowWeightedMads, rowWeightedMeans, rowWeightedMedians,\n",
      "    rowWeightedSds, rowWeightedVars\n",
      "\n",
      "\n",
      "Cargando paquete requerido: GenomicRanges\n",
      "\n",
      "Cargando paquete requerido: stats4\n",
      "\n",
      "Cargando paquete requerido: BiocGenerics\n",
      "\n",
      "\n",
      "Adjuntando el paquete: 'BiocGenerics'\n",
      "\n",
      "\n",
      "The following objects are masked from 'package:stats':\n",
      "\n",
      "    IQR, mad, sd, var, xtabs\n",
      "\n",
      "\n",
      "The following objects are masked from 'package:base':\n",
      "\n",
      "    anyDuplicated, aperm, append, as.data.frame, basename, cbind,\n",
      "    colnames, dirname, do.call, duplicated, eval, evalq, Filter, Find,\n",
      "    get, grep, grepl, intersect, is.unsorted, lapply, Map, mapply,\n",
      "    match, mget, order, paste, pmax, pmax.int, pmin, pmin.int,\n",
      "    Position, rank, rbind, Reduce, rownames, sapply, setdiff, table,\n",
      "    tapply, union, unique, unsplit, which.max, which.min\n",
      "\n",
      "\n",
      "Cargando paquete requerido: S4Vectors\n",
      "\n",
      "\n",
      "Adjuntando el paquete: 'S4Vectors'\n",
      "\n",
      "\n",
      "The following object is masked from 'package:utils':\n",
      "\n",
      "    findMatches\n",
      "\n",
      "\n",
      "The following objects are masked from 'package:base':\n",
      "\n",
      "    expand.grid, I, unname\n",
      "\n",
      "\n",
      "Cargando paquete requerido: IRanges\n",
      "\n",
      "\n",
      "Adjuntando el paquete: 'IRanges'\n",
      "\n",
      "\n",
      "The following object is masked from 'package:grDevices':\n",
      "\n",
      "    windows\n",
      "\n",
      "\n",
      "Cargando paquete requerido: GenomeInfoDb\n",
      "\n",
      "Cargando paquete requerido: Biobase\n",
      "\n",
      "Welcome to Bioconductor\n",
      "\n",
      "    Vignettes contain introductory material; view with\n",
      "    'browseVignettes()'. To cite Bioconductor, see\n",
      "    'citation(\"Biobase\")', and for packages 'citation(\"pkgname\")'.\n",
      "\n",
      "\n",
      "\n",
      "Adjuntando el paquete: 'Biobase'\n",
      "\n",
      "\n",
      "The following object is masked from 'package:MatrixGenerics':\n",
      "\n",
      "    rowMedians\n",
      "\n",
      "\n",
      "The following objects are masked from 'package:matrixStats':\n",
      "\n",
      "    anyMissing, rowMedians\n",
      "\n",
      "\n"
     ]
    }
   ],
   "source": [
    "# Install curatedTCGAData if not already installed\n",
    "# if (!require(\"BiocManager\")) install.packages(\"BiocManager\")\n",
    "# BiocManager::install(\"curatedTCGAData\")\n",
    "# Load library\n",
    "library(\"curatedTCGAData\")\n",
    "library(\"SummarizedExperiment\")\n",
    "\n",
    "options(scipen=10)\n",
    "options(repr.plot.width=12, repr.plot.height=12)"
   ]
  },
  {
   "cell_type": "code",
   "execution_count": 2,
   "id": "81bc540c-a5b7-4893-9026-6767bd61d53f",
   "metadata": {},
   "outputs": [
    {
     "name": "stderr",
     "output_type": "stream",
     "text": [
      "Querying and downloading: BRCA_RNASeq2GeneNorm-20160128\n",
      "\n",
      "see ?curatedTCGAData and browseVignettes('curatedTCGAData') for documentation\n",
      "\n",
      "loading from cache\n",
      "\n",
      "Querying and downloading: BRCA_colData-20160128\n",
      "\n",
      "see ?curatedTCGAData and browseVignettes('curatedTCGAData') for documentation\n",
      "\n",
      "loading from cache\n",
      "\n",
      "Querying and downloading: BRCA_sampleMap-20160128\n",
      "\n",
      "see ?curatedTCGAData and browseVignettes('curatedTCGAData') for documentation\n",
      "\n",
      "loading from cache\n",
      "\n",
      "Querying and downloading: BRCA_metadata-20160128\n",
      "\n",
      "see ?curatedTCGAData and browseVignettes('curatedTCGAData') for documentation\n",
      "\n",
      "loading from cache\n",
      "\n",
      "harmonizing input:\n",
      "  removing 14373 sampleMap rows not in names(experiments)\n",
      "  removing 5 colData rownames not in sampleMap 'primary'\n",
      "\n"
     ]
    }
   ],
   "source": [
    "# Download BRCA RNA-Seq data\n",
    "brca_data <- curatedTCGAData(diseaseCode = \"BRCA\", \n",
    "                             assays = \"RNASeq2GeneNorm\", \n",
    "                             version = \"2.1.1\",  # Specify the version\n",
    "                             dry.run = FALSE)  # Set dry.run = TRUE to preview first\n"
   ]
  },
  {
   "cell_type": "code",
   "execution_count": 3,
   "id": "ff181fe1-d340-4c00-a5c0-f15cc6b0f629",
   "metadata": {},
   "outputs": [
    {
     "data": {
      "text/plain": [
       "ExperimentList class object of length 1:\n",
       " [1] BRCA_RNASeq2GeneNorm-20160128: SummarizedExperiment with 18300 rows and 1212 columns"
      ]
     },
     "metadata": {},
     "output_type": "display_data"
    }
   ],
   "source": [
    "experiments(brca_data)"
   ]
  },
  {
   "cell_type": "code",
   "execution_count": 6,
   "id": "271ae23c-53ee-47a1-aee5-82dd9ab5e1e6",
   "metadata": {},
   "outputs": [],
   "source": [
    "# Extract full sample IDs and short patient IDs\n",
    "sample_ids <- colnames(expression)  # Full TCGA sample IDs (e.g., \"TCGA-3C-AAAU-01A-11R\")\n",
    "sample_ids_short <- substr(sample_ids, 1, 12)  # Short IDs (e.g., \"TCGA-3C-AAAU\")\n",
    "metadata_patient_ids <- metadata$patientID  # Short patient IDs from metadata"
   ]
  },
  {
   "cell_type": "code",
   "execution_count": 7,
   "id": "64d58aa7-3463-4d45-b9df-6dac5d50e0a9",
   "metadata": {},
   "outputs": [],
   "source": [
    "# Find common patients\n",
    "common_samples_short <- intersect(sample_ids_short, metadata_patient_ids)\n",
    "# Create a mapping table from full IDs to short IDs\n",
    "sample_map <- data.frame(full_id = sample_ids, short_id = sample_ids_short)\n",
    "# Get full sample IDs corresponding to common short IDs\n",
    "common_full_ids <- sample_map$full_id[sample_map$short_id %in% common_samples_short]"
   ]
  },
  {
   "cell_type": "code",
   "execution_count": 9,
   "id": "fb3553c4-50f9-4288-b8b2-73b163578368",
   "metadata": {},
   "outputs": [],
   "source": [
    "# Subset metadata to only include common patients\n",
    "metadata_subset <- metadata[metadata$patientID %in% common_samples_short, ]\n",
    "pam50_labels <- metadata_subset$PAM50.mRNA"
   ]
  },
  {
   "cell_type": "code",
   "execution_count": 11,
   "id": "e3141848-ecff-4f2c-b0cb-c4ab200d1764",
   "metadata": {},
   "outputs": [],
   "source": [
    "# Removing NA PAM50 labels before getting top 200 individuasl by RNA variance\n",
    "metadata_subset_filtered <- metadata_subset[!is.na(metadata_subset$PAM50.mRNA), ]\n",
    "\n",
    "# Get the list of valid sample IDs after removing NA PAM50\n",
    "valid_samples <- sample_map$full_id[sample_map$short_id %in% metadata_subset_filtered$patientID]\n",
    "# Subset expression data to only include samples with valid PAM50 labels\n",
    "expression_filtered <- expression[, valid_samples]"
   ]
  },
  {
   "cell_type": "code",
   "execution_count": 18,
   "id": "5e7911f4-5cd1-433a-b34b-80ed9a9c6c0e",
   "metadata": {},
   "outputs": [],
   "source": [
    "# Identify top 200 variance genes\n",
    "gene_variances <- apply(expression_filtered, 1, var)\n",
    "top_200_genes <- names(sort(gene_variances, decreasing = TRUE))[1:200]\n",
    "top_200_expression <- expression_filtered[top_200_genes, ]\n",
    "\n",
    "# Transpose expression matrix: samples as rows, genes as columns\n",
    "top_200_df <- as.data.frame(t(top_200_expression))\n",
    "\n",
    "# Add \"description\" column with **full sample IDs**\n",
    "top_200_df$description <- rownames(top_200_df)\n",
    "\n",
    "# Extract patient ID from sample ID (first 12 characters)\n",
    "top_200_df$patient_short_id <- substr(top_200_df$description, 1, 12)"
   ]
  },
  {
   "cell_type": "code",
   "execution_count": 19,
   "id": "f9dce23b-623d-4839-ba00-01156fc0b08d",
   "metadata": {},
   "outputs": [],
   "source": [
    "# Match and add PAM50 labels **with correctly filtered metadata**\n",
    "top_200_df$PAM50 <- metadata_subset_filtered$PAM50.mRNA[match(\n",
    "    top_200_df$patient_short_id, \n",
    "    metadata_subset_filtered$patientID\n",
    ")]\n",
    "# Remove temporary patient ID column\n",
    "top_200_df$patient_short_id <- NULL\n",
    "\n",
    "# Moving \"description\" and \"PAM50\" to the beginning\n",
    "top_200_df <- top_200_df[, c(\"description\", \"PAM50\", setdiff(names(top_200_df), c(\"description\", \"PAM50\")))]"
   ]
  },
  {
   "cell_type": "code",
   "execution_count": 22,
   "id": "57cfa4a2-abca-41b5-b9ec-5c99d95bd828",
   "metadata": {},
   "outputs": [
    {
     "data": {
      "text/html": [
       "<table class=\"dataframe\">\n",
       "<caption>A data.frame: 6 × 202</caption>\n",
       "<thead>\n",
       "\t<tr><th></th><th scope=col>description</th><th scope=col>PAM50</th><th scope=col>LTF</th><th scope=col>NPY1R</th><th scope=col>PGR</th><th scope=col>RPS28</th><th scope=col>SFRP1</th><th scope=col>PLIN4</th><th scope=col>S100P</th><th scope=col>PDZK1</th><th scope=col>⋯</th><th scope=col>MMP9</th><th scope=col>SH3RF2</th><th scope=col>PADI2</th><th scope=col>GPAT2</th><th scope=col>PDE3B</th><th scope=col>FGFR3</th><th scope=col>GALNT14</th><th scope=col>CYP21A2</th><th scope=col>WISP2</th><th scope=col>PDE8B</th></tr>\n",
       "\t<tr><th></th><th scope=col>&lt;chr&gt;</th><th scope=col>&lt;chr&gt;</th><th scope=col>&lt;dbl&gt;</th><th scope=col>&lt;dbl&gt;</th><th scope=col>&lt;dbl&gt;</th><th scope=col>&lt;dbl&gt;</th><th scope=col>&lt;dbl&gt;</th><th scope=col>&lt;dbl&gt;</th><th scope=col>&lt;dbl&gt;</th><th scope=col>&lt;dbl&gt;</th><th scope=col>⋯</th><th scope=col>&lt;dbl&gt;</th><th scope=col>&lt;dbl&gt;</th><th scope=col>&lt;dbl&gt;</th><th scope=col>&lt;dbl&gt;</th><th scope=col>&lt;dbl&gt;</th><th scope=col>&lt;dbl&gt;</th><th scope=col>&lt;dbl&gt;</th><th scope=col>&lt;dbl&gt;</th><th scope=col>&lt;dbl&gt;</th><th scope=col>&lt;dbl&gt;</th></tr>\n",
       "</thead>\n",
       "<tbody>\n",
       "\t<tr><th scope=row>TCGA-A1-A0SD-01</th><td>TCGA-A1-A0SD-01</td><td>Luminal A </td><td>11.978259</td><td>12.778363</td><td> 9.485349</td><td>8.201800</td><td>10.709060</td><td>10.383206</td><td> 9.647907</td><td>7.358335</td><td>⋯</td><td>9.400612</td><td>6.919838</td><td> 8.805018</td><td>5.132059</td><td>6.726067</td><td>10.147290</td><td> 7.240188</td><td> 8.270969</td><td> 7.065917</td><td>8.211493</td></tr>\n",
       "\t<tr><th scope=row>TCGA-A1-A0SE-01</th><td>TCGA-A1-A0SE-01</td><td>Luminal A </td><td>12.779078</td><td> 8.741927</td><td>12.807370</td><td>3.644445</td><td>13.078639</td><td> 6.667984</td><td> 5.943417</td><td>9.736929</td><td>⋯</td><td>6.754074</td><td>7.920084</td><td>10.368784</td><td>4.350716</td><td>5.254503</td><td> 9.319850</td><td> 5.339038</td><td> 7.419833</td><td> 8.312402</td><td>6.309411</td></tr>\n",
       "\t<tr><th scope=row>TCGA-A1-A0SH-01</th><td>TCGA-A1-A0SH-01</td><td>Luminal A </td><td>11.231554</td><td> 5.948533</td><td>12.176581</td><td>8.229385</td><td>11.346664</td><td> 5.115645</td><td> 6.905720</td><td>2.115633</td><td>⋯</td><td>9.890979</td><td>5.769084</td><td> 9.537708</td><td>6.394867</td><td>5.054241</td><td> 4.145392</td><td> 4.085272</td><td> 4.433721</td><td>10.229385</td><td>7.410264</td></tr>\n",
       "\t<tr><th scope=row>TCGA-A1-A0SJ-01</th><td>TCGA-A1-A0SJ-01</td><td>Luminal A </td><td> 7.804147</td><td> 9.461259</td><td>11.884642</td><td>4.163829</td><td>10.991285</td><td>11.145075</td><td> 9.916533</td><td>8.783936</td><td>⋯</td><td>9.078549</td><td>5.040971</td><td> 7.239116</td><td>6.064818</td><td>8.942509</td><td> 8.637907</td><td> 6.080500</td><td> 8.568362</td><td>10.756743</td><td>6.263365</td></tr>\n",
       "\t<tr><th scope=row>TCGA-A1-A0SK-01</th><td>TCGA-A1-A0SK-01</td><td>Basal-like</td><td> 4.089040</td><td> 5.483900</td><td> 2.793584</td><td>9.945638</td><td>12.763559</td><td> 1.141498</td><td> 4.141506</td><td>3.463439</td><td>⋯</td><td>9.403602</td><td>2.582074</td><td>11.992810</td><td>1.656084</td><td>8.225936</td><td> 8.133434</td><td>10.766694</td><td> 1.809250</td><td> 2.978013</td><td>5.154332</td></tr>\n",
       "\t<tr><th scope=row>TCGA-A1-A0SM-01</th><td>TCGA-A1-A0SM-01</td><td>Luminal B </td><td> 7.826276</td><td> 4.526250</td><td> 6.455368</td><td>9.440371</td><td> 8.159795</td><td> 3.336426</td><td>11.191101</td><td>7.383551</td><td>⋯</td><td>9.542832</td><td>7.889097</td><td> 9.475339</td><td>5.565247</td><td>4.762694</td><td> 6.574833</td><td> 4.584355</td><td>10.308822</td><td> 9.321558</td><td>4.693978</td></tr>\n",
       "</tbody>\n",
       "</table>\n"
      ],
      "text/latex": [
       "A data.frame: 6 × 202\n",
       "\\begin{tabular}{r|lllllllllllllllllllll}\n",
       "  & description & PAM50 & LTF & NPY1R & PGR & RPS28 & SFRP1 & PLIN4 & S100P & PDZK1 & ⋯ & MMP9 & SH3RF2 & PADI2 & GPAT2 & PDE3B & FGFR3 & GALNT14 & CYP21A2 & WISP2 & PDE8B\\\\\n",
       "  & <chr> & <chr> & <dbl> & <dbl> & <dbl> & <dbl> & <dbl> & <dbl> & <dbl> & <dbl> & ⋯ & <dbl> & <dbl> & <dbl> & <dbl> & <dbl> & <dbl> & <dbl> & <dbl> & <dbl> & <dbl>\\\\\n",
       "\\hline\n",
       "\tTCGA-A1-A0SD-01 & TCGA-A1-A0SD-01 & Luminal A  & 11.978259 & 12.778363 &  9.485349 & 8.201800 & 10.709060 & 10.383206 &  9.647907 & 7.358335 & ⋯ & 9.400612 & 6.919838 &  8.805018 & 5.132059 & 6.726067 & 10.147290 &  7.240188 &  8.270969 &  7.065917 & 8.211493\\\\\n",
       "\tTCGA-A1-A0SE-01 & TCGA-A1-A0SE-01 & Luminal A  & 12.779078 &  8.741927 & 12.807370 & 3.644445 & 13.078639 &  6.667984 &  5.943417 & 9.736929 & ⋯ & 6.754074 & 7.920084 & 10.368784 & 4.350716 & 5.254503 &  9.319850 &  5.339038 &  7.419833 &  8.312402 & 6.309411\\\\\n",
       "\tTCGA-A1-A0SH-01 & TCGA-A1-A0SH-01 & Luminal A  & 11.231554 &  5.948533 & 12.176581 & 8.229385 & 11.346664 &  5.115645 &  6.905720 & 2.115633 & ⋯ & 9.890979 & 5.769084 &  9.537708 & 6.394867 & 5.054241 &  4.145392 &  4.085272 &  4.433721 & 10.229385 & 7.410264\\\\\n",
       "\tTCGA-A1-A0SJ-01 & TCGA-A1-A0SJ-01 & Luminal A  &  7.804147 &  9.461259 & 11.884642 & 4.163829 & 10.991285 & 11.145075 &  9.916533 & 8.783936 & ⋯ & 9.078549 & 5.040971 &  7.239116 & 6.064818 & 8.942509 &  8.637907 &  6.080500 &  8.568362 & 10.756743 & 6.263365\\\\\n",
       "\tTCGA-A1-A0SK-01 & TCGA-A1-A0SK-01 & Basal-like &  4.089040 &  5.483900 &  2.793584 & 9.945638 & 12.763559 &  1.141498 &  4.141506 & 3.463439 & ⋯ & 9.403602 & 2.582074 & 11.992810 & 1.656084 & 8.225936 &  8.133434 & 10.766694 &  1.809250 &  2.978013 & 5.154332\\\\\n",
       "\tTCGA-A1-A0SM-01 & TCGA-A1-A0SM-01 & Luminal B  &  7.826276 &  4.526250 &  6.455368 & 9.440371 &  8.159795 &  3.336426 & 11.191101 & 7.383551 & ⋯ & 9.542832 & 7.889097 &  9.475339 & 5.565247 & 4.762694 &  6.574833 &  4.584355 & 10.308822 &  9.321558 & 4.693978\\\\\n",
       "\\end{tabular}\n"
      ],
      "text/markdown": [
       "\n",
       "A data.frame: 6 × 202\n",
       "\n",
       "| <!--/--> | description &lt;chr&gt; | PAM50 &lt;chr&gt; | LTF &lt;dbl&gt; | NPY1R &lt;dbl&gt; | PGR &lt;dbl&gt; | RPS28 &lt;dbl&gt; | SFRP1 &lt;dbl&gt; | PLIN4 &lt;dbl&gt; | S100P &lt;dbl&gt; | PDZK1 &lt;dbl&gt; | ⋯ ⋯ | MMP9 &lt;dbl&gt; | SH3RF2 &lt;dbl&gt; | PADI2 &lt;dbl&gt; | GPAT2 &lt;dbl&gt; | PDE3B &lt;dbl&gt; | FGFR3 &lt;dbl&gt; | GALNT14 &lt;dbl&gt; | CYP21A2 &lt;dbl&gt; | WISP2 &lt;dbl&gt; | PDE8B &lt;dbl&gt; |\n",
       "|---|---|---|---|---|---|---|---|---|---|---|---|---|---|---|---|---|---|---|---|---|---|\n",
       "| TCGA-A1-A0SD-01 | TCGA-A1-A0SD-01 | Luminal A  | 11.978259 | 12.778363 |  9.485349 | 8.201800 | 10.709060 | 10.383206 |  9.647907 | 7.358335 | ⋯ | 9.400612 | 6.919838 |  8.805018 | 5.132059 | 6.726067 | 10.147290 |  7.240188 |  8.270969 |  7.065917 | 8.211493 |\n",
       "| TCGA-A1-A0SE-01 | TCGA-A1-A0SE-01 | Luminal A  | 12.779078 |  8.741927 | 12.807370 | 3.644445 | 13.078639 |  6.667984 |  5.943417 | 9.736929 | ⋯ | 6.754074 | 7.920084 | 10.368784 | 4.350716 | 5.254503 |  9.319850 |  5.339038 |  7.419833 |  8.312402 | 6.309411 |\n",
       "| TCGA-A1-A0SH-01 | TCGA-A1-A0SH-01 | Luminal A  | 11.231554 |  5.948533 | 12.176581 | 8.229385 | 11.346664 |  5.115645 |  6.905720 | 2.115633 | ⋯ | 9.890979 | 5.769084 |  9.537708 | 6.394867 | 5.054241 |  4.145392 |  4.085272 |  4.433721 | 10.229385 | 7.410264 |\n",
       "| TCGA-A1-A0SJ-01 | TCGA-A1-A0SJ-01 | Luminal A  |  7.804147 |  9.461259 | 11.884642 | 4.163829 | 10.991285 | 11.145075 |  9.916533 | 8.783936 | ⋯ | 9.078549 | 5.040971 |  7.239116 | 6.064818 | 8.942509 |  8.637907 |  6.080500 |  8.568362 | 10.756743 | 6.263365 |\n",
       "| TCGA-A1-A0SK-01 | TCGA-A1-A0SK-01 | Basal-like |  4.089040 |  5.483900 |  2.793584 | 9.945638 | 12.763559 |  1.141498 |  4.141506 | 3.463439 | ⋯ | 9.403602 | 2.582074 | 11.992810 | 1.656084 | 8.225936 |  8.133434 | 10.766694 |  1.809250 |  2.978013 | 5.154332 |\n",
       "| TCGA-A1-A0SM-01 | TCGA-A1-A0SM-01 | Luminal B  |  7.826276 |  4.526250 |  6.455368 | 9.440371 |  8.159795 |  3.336426 | 11.191101 | 7.383551 | ⋯ | 9.542832 | 7.889097 |  9.475339 | 5.565247 | 4.762694 |  6.574833 |  4.584355 | 10.308822 |  9.321558 | 4.693978 |\n",
       "\n"
      ],
      "text/plain": [
       "                description     PAM50      LTF       NPY1R     PGR      \n",
       "TCGA-A1-A0SD-01 TCGA-A1-A0SD-01 Luminal A  11.978259 12.778363  9.485349\n",
       "TCGA-A1-A0SE-01 TCGA-A1-A0SE-01 Luminal A  12.779078  8.741927 12.807370\n",
       "TCGA-A1-A0SH-01 TCGA-A1-A0SH-01 Luminal A  11.231554  5.948533 12.176581\n",
       "TCGA-A1-A0SJ-01 TCGA-A1-A0SJ-01 Luminal A   7.804147  9.461259 11.884642\n",
       "TCGA-A1-A0SK-01 TCGA-A1-A0SK-01 Basal-like  4.089040  5.483900  2.793584\n",
       "TCGA-A1-A0SM-01 TCGA-A1-A0SM-01 Luminal B   7.826276  4.526250  6.455368\n",
       "                RPS28    SFRP1     PLIN4     S100P     PDZK1    ⋯ MMP9    \n",
       "TCGA-A1-A0SD-01 8.201800 10.709060 10.383206  9.647907 7.358335 ⋯ 9.400612\n",
       "TCGA-A1-A0SE-01 3.644445 13.078639  6.667984  5.943417 9.736929 ⋯ 6.754074\n",
       "TCGA-A1-A0SH-01 8.229385 11.346664  5.115645  6.905720 2.115633 ⋯ 9.890979\n",
       "TCGA-A1-A0SJ-01 4.163829 10.991285 11.145075  9.916533 8.783936 ⋯ 9.078549\n",
       "TCGA-A1-A0SK-01 9.945638 12.763559  1.141498  4.141506 3.463439 ⋯ 9.403602\n",
       "TCGA-A1-A0SM-01 9.440371  8.159795  3.336426 11.191101 7.383551 ⋯ 9.542832\n",
       "                SH3RF2   PADI2     GPAT2    PDE3B    FGFR3     GALNT14  \n",
       "TCGA-A1-A0SD-01 6.919838  8.805018 5.132059 6.726067 10.147290  7.240188\n",
       "TCGA-A1-A0SE-01 7.920084 10.368784 4.350716 5.254503  9.319850  5.339038\n",
       "TCGA-A1-A0SH-01 5.769084  9.537708 6.394867 5.054241  4.145392  4.085272\n",
       "TCGA-A1-A0SJ-01 5.040971  7.239116 6.064818 8.942509  8.637907  6.080500\n",
       "TCGA-A1-A0SK-01 2.582074 11.992810 1.656084 8.225936  8.133434 10.766694\n",
       "TCGA-A1-A0SM-01 7.889097  9.475339 5.565247 4.762694  6.574833  4.584355\n",
       "                CYP21A2   WISP2     PDE8B   \n",
       "TCGA-A1-A0SD-01  8.270969  7.065917 8.211493\n",
       "TCGA-A1-A0SE-01  7.419833  8.312402 6.309411\n",
       "TCGA-A1-A0SH-01  4.433721 10.229385 7.410264\n",
       "TCGA-A1-A0SJ-01  8.568362 10.756743 6.263365\n",
       "TCGA-A1-A0SK-01  1.809250  2.978013 5.154332\n",
       "TCGA-A1-A0SM-01 10.308822  9.321558 4.693978"
      ]
     },
     "metadata": {},
     "output_type": "display_data"
    }
   ],
   "source": [
    "head(top_200_df)"
   ]
  },
  {
   "cell_type": "code",
   "execution_count": 24,
   "id": "b63aa080-4025-4131-8763-a61cd1fa3e08",
   "metadata": {},
   "outputs": [],
   "source": [
    "save(top_200_df, file = \"200TCGAData.RData\")"
   ]
  }
 ],
 "metadata": {
  "kernelspec": {
   "display_name": "R",
   "language": "R",
   "name": "ir"
  },
  "language_info": {
   "codemirror_mode": "r",
   "file_extension": ".r",
   "mimetype": "text/x-r-source",
   "name": "R",
   "pygments_lexer": "r",
   "version": "4.4.1"
  }
 },
 "nbformat": 4,
 "nbformat_minor": 5
}
