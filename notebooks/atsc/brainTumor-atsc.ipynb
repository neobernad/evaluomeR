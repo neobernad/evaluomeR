{
 "cells": [
  {
   "cell_type": "markdown",
   "id": "285a2f02",
   "metadata": {},
   "source": [
    " # Brain Tumor using ATSC"
   ]
  },
  {
   "cell_type": "code",
   "execution_count": 1,
   "id": "5b925569",
   "metadata": {
    "scrolled": true
   },
   "outputs": [
    {
     "name": "stderr",
     "output_type": "stream",
     "text": [
      "Cargando paquete requerido: SummarizedExperiment\n",
      "\n",
      "Cargando paquete requerido: MatrixGenerics\n",
      "\n",
      "Cargando paquete requerido: matrixStats\n",
      "\n",
      "\n",
      "Adjuntando el paquete: 'MatrixGenerics'\n",
      "\n",
      "\n",
      "The following objects are masked from 'package:matrixStats':\n",
      "\n",
      "    colAlls, colAnyNAs, colAnys, colAvgsPerRowSet, colCollapse,\n",
      "    colCounts, colCummaxs, colCummins, colCumprods, colCumsums,\n",
      "    colDiffs, colIQRDiffs, colIQRs, colLogSumExps, colMadDiffs,\n",
      "    colMads, colMaxs, colMeans2, colMedians, colMins, colOrderStats,\n",
      "    colProds, colQuantiles, colRanges, colRanks, colSdDiffs, colSds,\n",
      "    colSums2, colTabulates, colVarDiffs, colVars, colWeightedMads,\n",
      "    colWeightedMeans, colWeightedMedians, colWeightedSds,\n",
      "    colWeightedVars, rowAlls, rowAnyNAs, rowAnys, rowAvgsPerColSet,\n",
      "    rowCollapse, rowCounts, rowCummaxs, rowCummins, rowCumprods,\n",
      "    rowCumsums, rowDiffs, rowIQRDiffs, rowIQRs, rowLogSumExps,\n",
      "    rowMadDiffs, rowMads, rowMaxs, rowMeans2, rowMedians, rowMins,\n",
      "    rowOrderStats, rowProds, rowQuantiles, rowRanges, rowRanks,\n",
      "    rowSdDiffs, rowSds, rowSums2, rowTabulates, rowVarDiffs, rowVars,\n",
      "    rowWeightedMads, rowWeightedMeans, rowWeightedMedians,\n",
      "    rowWeightedSds, rowWeightedVars\n",
      "\n",
      "\n",
      "Cargando paquete requerido: GenomicRanges\n",
      "\n",
      "Cargando paquete requerido: stats4\n",
      "\n",
      "Cargando paquete requerido: BiocGenerics\n",
      "\n",
      "\n",
      "Adjuntando el paquete: 'BiocGenerics'\n",
      "\n",
      "\n",
      "The following objects are masked from 'package:stats':\n",
      "\n",
      "    IQR, mad, sd, var, xtabs\n",
      "\n",
      "\n",
      "The following objects are masked from 'package:base':\n",
      "\n",
      "    anyDuplicated, aperm, append, as.data.frame, basename, cbind,\n",
      "    colnames, dirname, do.call, duplicated, eval, evalq, Filter, Find,\n",
      "    get, grep, grepl, intersect, is.unsorted, lapply, Map, mapply,\n",
      "    match, mget, order, paste, pmax, pmax.int, pmin, pmin.int,\n",
      "    Position, rank, rbind, Reduce, rownames, sapply, setdiff, table,\n",
      "    tapply, union, unique, unsplit, which.max, which.min\n",
      "\n",
      "\n",
      "Cargando paquete requerido: S4Vectors\n",
      "\n",
      "\n",
      "Adjuntando el paquete: 'S4Vectors'\n",
      "\n",
      "\n",
      "The following object is masked from 'package:utils':\n",
      "\n",
      "    findMatches\n",
      "\n",
      "\n",
      "The following objects are masked from 'package:base':\n",
      "\n",
      "    expand.grid, I, unname\n",
      "\n",
      "\n",
      "Cargando paquete requerido: IRanges\n",
      "\n",
      "\n",
      "Adjuntando el paquete: 'IRanges'\n",
      "\n",
      "\n",
      "The following object is masked from 'package:grDevices':\n",
      "\n",
      "    windows\n",
      "\n",
      "\n",
      "Cargando paquete requerido: GenomeInfoDb\n",
      "\n",
      "Cargando paquete requerido: Biobase\n",
      "\n",
      "Welcome to Bioconductor\n",
      "\n",
      "    Vignettes contain introductory material; view with\n",
      "    'browseVignettes()'. To cite Bioconductor, see\n",
      "    'citation(\"Biobase\")', and for packages 'citation(\"pkgname\")'.\n",
      "\n",
      "\n",
      "\n",
      "Adjuntando el paquete: 'Biobase'\n",
      "\n",
      "\n",
      "The following object is masked from 'package:MatrixGenerics':\n",
      "\n",
      "    rowMedians\n",
      "\n",
      "\n",
      "The following objects are masked from 'package:matrixStats':\n",
      "\n",
      "    anyMissing, rowMedians\n",
      "\n",
      "\n",
      "Cargando paquete requerido: MultiAssayExperiment\n",
      "\n",
      "Cargando paquete requerido: dplyr\n",
      "\n",
      "\n",
      "Adjuntando el paquete: 'dplyr'\n",
      "\n",
      "\n",
      "The following object is masked from 'package:Biobase':\n",
      "\n",
      "    combine\n",
      "\n",
      "\n",
      "The following objects are masked from 'package:GenomicRanges':\n",
      "\n",
      "    intersect, setdiff, union\n",
      "\n",
      "\n",
      "The following object is masked from 'package:GenomeInfoDb':\n",
      "\n",
      "    intersect\n",
      "\n",
      "\n",
      "The following objects are masked from 'package:IRanges':\n",
      "\n",
      "    collapse, desc, intersect, setdiff, slice, union\n",
      "\n",
      "\n",
      "The following objects are masked from 'package:S4Vectors':\n",
      "\n",
      "    first, intersect, rename, setdiff, setequal, union\n",
      "\n",
      "\n",
      "The following objects are masked from 'package:BiocGenerics':\n",
      "\n",
      "    combine, intersect, setdiff, union\n",
      "\n",
      "\n",
      "The following object is masked from 'package:matrixStats':\n",
      "\n",
      "    count\n",
      "\n",
      "\n",
      "The following objects are masked from 'package:stats':\n",
      "\n",
      "    filter, lag\n",
      "\n",
      "\n",
      "The following objects are masked from 'package:base':\n",
      "\n",
      "    intersect, setdiff, setequal, union\n",
      "\n",
      "\n",
      "Cargando paquete requerido: cluster\n",
      "\n",
      "Cargando paquete requerido: fpc\n",
      "\n",
      "Cargando paquete requerido: randomForest\n",
      "\n",
      "randomForest 4.7-1.2\n",
      "\n",
      "Type rfNews() to see new features/changes/bug fixes.\n",
      "\n",
      "\n",
      "Adjuntando el paquete: 'randomForest'\n",
      "\n",
      "\n",
      "The following object is masked from 'package:dplyr':\n",
      "\n",
      "    combine\n",
      "\n",
      "\n",
      "The following object is masked from 'package:Biobase':\n",
      "\n",
      "    combine\n",
      "\n",
      "\n",
      "The following object is masked from 'package:BiocGenerics':\n",
      "\n",
      "    combine\n",
      "\n",
      "\n",
      "Cargando paquete requerido: flexmix\n",
      "\n",
      "Cargando paquete requerido: lattice\n",
      "\n",
      "Cargando paquete requerido: RSKC\n",
      "\n",
      "Cargando paquete requerido: flexclust\n",
      "\n",
      "Cargando paquete requerido: grid\n",
      "\n",
      "Cargando paquete requerido: modeltools\n",
      "\n",
      "Cargando paquete requerido: sparcl\n",
      "\n",
      "Cargando paquete requerido: ggplot2\n",
      "\n",
      "\n",
      "Adjuntando el paquete: 'ggplot2'\n",
      "\n",
      "\n",
      "The following object is masked from 'package:randomForest':\n",
      "\n",
      "    margin\n",
      "\n",
      "\n",
      "Package 'mclust' version 6.1.1\n",
      "Type 'citation(\"mclust\")' for citing this R package in publications.\n",
      "\n"
     ]
    }
   ],
   "source": [
    "library(\"binom\") \n",
    "library(\"evaluomeR\")\n",
    "library(\"dplyr\")\n",
    "library(\"caret\")\n",
    "library(\"ggplot2\")\n",
    "library(\"ggrepel\")\n",
    "library(\"reshape2\")\n",
    "library(\"mclust\")\n",
    "\n",
    "options(scipen=10)\n",
    "options(repr.plot.width=12, repr.plot.height=12)"
   ]
  },
  {
   "cell_type": "code",
   "execution_count": 2,
   "id": "bce80bf1-f046-4de3-a13c-37616321a0db",
   "metadata": {},
   "outputs": [
    {
     "data": {
      "text/plain": [
       "[1] '4.4.1'"
      ]
     },
     "metadata": {},
     "output_type": "display_data"
    },
    {
     "data": {
      "text/plain": [
       "[1] '1.8.1'"
      ]
     },
     "metadata": {},
     "output_type": "display_data"
    }
   ],
   "source": [
    "getRversion()\n",
    "packageVersion(\"evaluomeR\")"
   ]
  },
  {
   "cell_type": "markdown",
   "id": "08d0e886",
   "metadata": {},
   "source": [
    "# Dataset <a class=\"anchor\" id=\"dataset\"></a>"
   ]
  },
  {
   "cell_type": "code",
   "execution_count": 3,
   "id": "cad180bc-ecbf-4aa4-bcba-ad55cc70af0e",
   "metadata": {},
   "outputs": [],
   "source": [
    "seed = 13606\n",
    "k.range = c(3,10)\n",
    "cbi = \"clara\"\n",
    "alpha = NULL\n",
    "max_alpha = 0.25 # Default 0.1"
   ]
  },
  {
   "cell_type": "code",
   "execution_count": 4,
   "id": "0a1bb939",
   "metadata": {},
   "outputs": [
    {
     "data": {
      "text/html": [
       "<table class=\"dataframe\">\n",
       "<caption>A data.frame: 6 × 201</caption>\n",
       "<thead>\n",
       "\t<tr><th></th><th scope=col>Description</th><th scope=col>X224588_at</th><th scope=col>X201909_at</th><th scope=col>X229012_at</th><th scope=col>X210033_s_at</th><th scope=col>X236448_at</th><th scope=col>X240065_at</th><th scope=col>X206018_at</th><th scope=col>X225165_at</th><th scope=col>X220156_at</th><th scope=col>⋯</th><th scope=col>X206306_at</th><th scope=col>X203649_s_at</th><th scope=col>X206785_s_at</th><th scope=col>X1563933_a_at</th><th scope=col>X238603_at</th><th scope=col>X205751_at</th><th scope=col>X210271_at</th><th scope=col>X228347_at</th><th scope=col>X232720_at</th><th scope=col>X209138_x_at</th></tr>\n",
       "\t<tr><th></th><th scope=col>&lt;chr&gt;</th><th scope=col>&lt;dbl&gt;</th><th scope=col>&lt;dbl&gt;</th><th scope=col>&lt;dbl&gt;</th><th scope=col>&lt;dbl&gt;</th><th scope=col>&lt;dbl&gt;</th><th scope=col>&lt;dbl&gt;</th><th scope=col>&lt;dbl&gt;</th><th scope=col>&lt;dbl&gt;</th><th scope=col>&lt;dbl&gt;</th><th scope=col>⋯</th><th scope=col>&lt;dbl&gt;</th><th scope=col>&lt;dbl&gt;</th><th scope=col>&lt;dbl&gt;</th><th scope=col>&lt;dbl&gt;</th><th scope=col>&lt;dbl&gt;</th><th scope=col>&lt;dbl&gt;</th><th scope=col>&lt;dbl&gt;</th><th scope=col>&lt;dbl&gt;</th><th scope=col>&lt;dbl&gt;</th><th scope=col>&lt;dbl&gt;</th></tr>\n",
       "</thead>\n",
       "<tbody>\n",
       "\t<tr><th scope=row>GSM1214834</th><td>ependymoma</td><td>1.678130</td><td>3.644194</td><td>3.820705</td><td>3.735552</td><td>1.172587</td><td>3.624207</td><td>1.794471</td><td>3.691314</td><td>3.589067</td><td>⋯</td><td>3.596530</td><td>1.873599</td><td>2.146811</td><td>3.110174</td><td>1.524128</td><td>2.563318</td><td>1.450476</td><td>1.880268</td><td>1.737017</td><td>1.776431</td></tr>\n",
       "\t<tr><th scope=row>GSM1214835</th><td>ependymoma</td><td>3.767506</td><td>1.667500</td><td>3.224272</td><td>3.566060</td><td>3.134809</td><td>3.381327</td><td>3.608933</td><td>3.828011</td><td>3.315655</td><td>⋯</td><td>1.716341</td><td>1.825732</td><td>2.149566</td><td>1.619617</td><td>1.601342</td><td>2.726899</td><td>2.637962</td><td>1.991922</td><td>1.788192</td><td>2.720051</td></tr>\n",
       "\t<tr><th scope=row>GSM1214836</th><td>ependymoma</td><td>1.676252</td><td>3.747256</td><td>3.456146</td><td>3.642242</td><td>1.194883</td><td>3.520656</td><td>1.797164</td><td>3.463318</td><td>3.227379</td><td>⋯</td><td>3.431167</td><td>2.897142</td><td>2.983751</td><td>1.608201</td><td>1.587031</td><td>2.585998</td><td>1.449467</td><td>1.815894</td><td>1.748981</td><td>1.783816</td></tr>\n",
       "\t<tr><th scope=row>GSM1214837</th><td>ependymoma</td><td>3.792194</td><td>1.636888</td><td>3.823623</td><td>3.786311</td><td>1.168471</td><td>3.498731</td><td>3.818550</td><td>2.747462</td><td>3.578139</td><td>⋯</td><td>1.943356</td><td>1.839781</td><td>2.128098</td><td>1.537581</td><td>3.151399</td><td>3.113747</td><td>1.424955</td><td>1.906251</td><td>3.647694</td><td>2.645952</td></tr>\n",
       "\t<tr><th scope=row>GSM1214838</th><td>ependymoma</td><td>3.809949</td><td>1.639904</td><td>3.561411</td><td>1.590063</td><td>2.933787</td><td>2.997341</td><td>1.648297</td><td>3.624553</td><td>3.551927</td><td>⋯</td><td>3.594693</td><td>2.148758</td><td>2.130709</td><td>3.167416</td><td>1.614435</td><td>1.762541</td><td>1.429500</td><td>1.849851</td><td>1.719865</td><td>1.758591</td></tr>\n",
       "\t<tr><th scope=row>GSM1214839</th><td>ependymoma</td><td>1.740624</td><td>3.700109</td><td>3.893310</td><td>3.761085</td><td>1.288353</td><td>3.745520</td><td>1.841266</td><td>3.714091</td><td>3.746951</td><td>⋯</td><td>3.263901</td><td>1.930619</td><td>2.309651</td><td>1.871377</td><td>1.540925</td><td>1.773522</td><td>1.461576</td><td>1.901027</td><td>1.799332</td><td>1.794916</td></tr>\n",
       "</tbody>\n",
       "</table>\n"
      ],
      "text/latex": [
       "A data.frame: 6 × 201\n",
       "\\begin{tabular}{r|lllllllllllllllllllll}\n",
       "  & Description & X224588\\_at & X201909\\_at & X229012\\_at & X210033\\_s\\_at & X236448\\_at & X240065\\_at & X206018\\_at & X225165\\_at & X220156\\_at & ⋯ & X206306\\_at & X203649\\_s\\_at & X206785\\_s\\_at & X1563933\\_a\\_at & X238603\\_at & X205751\\_at & X210271\\_at & X228347\\_at & X232720\\_at & X209138\\_x\\_at\\\\\n",
       "  & <chr> & <dbl> & <dbl> & <dbl> & <dbl> & <dbl> & <dbl> & <dbl> & <dbl> & <dbl> & ⋯ & <dbl> & <dbl> & <dbl> & <dbl> & <dbl> & <dbl> & <dbl> & <dbl> & <dbl> & <dbl>\\\\\n",
       "\\hline\n",
       "\tGSM1214834 & ependymoma & 1.678130 & 3.644194 & 3.820705 & 3.735552 & 1.172587 & 3.624207 & 1.794471 & 3.691314 & 3.589067 & ⋯ & 3.596530 & 1.873599 & 2.146811 & 3.110174 & 1.524128 & 2.563318 & 1.450476 & 1.880268 & 1.737017 & 1.776431\\\\\n",
       "\tGSM1214835 & ependymoma & 3.767506 & 1.667500 & 3.224272 & 3.566060 & 3.134809 & 3.381327 & 3.608933 & 3.828011 & 3.315655 & ⋯ & 1.716341 & 1.825732 & 2.149566 & 1.619617 & 1.601342 & 2.726899 & 2.637962 & 1.991922 & 1.788192 & 2.720051\\\\\n",
       "\tGSM1214836 & ependymoma & 1.676252 & 3.747256 & 3.456146 & 3.642242 & 1.194883 & 3.520656 & 1.797164 & 3.463318 & 3.227379 & ⋯ & 3.431167 & 2.897142 & 2.983751 & 1.608201 & 1.587031 & 2.585998 & 1.449467 & 1.815894 & 1.748981 & 1.783816\\\\\n",
       "\tGSM1214837 & ependymoma & 3.792194 & 1.636888 & 3.823623 & 3.786311 & 1.168471 & 3.498731 & 3.818550 & 2.747462 & 3.578139 & ⋯ & 1.943356 & 1.839781 & 2.128098 & 1.537581 & 3.151399 & 3.113747 & 1.424955 & 1.906251 & 3.647694 & 2.645952\\\\\n",
       "\tGSM1214838 & ependymoma & 3.809949 & 1.639904 & 3.561411 & 1.590063 & 2.933787 & 2.997341 & 1.648297 & 3.624553 & 3.551927 & ⋯ & 3.594693 & 2.148758 & 2.130709 & 3.167416 & 1.614435 & 1.762541 & 1.429500 & 1.849851 & 1.719865 & 1.758591\\\\\n",
       "\tGSM1214839 & ependymoma & 1.740624 & 3.700109 & 3.893310 & 3.761085 & 1.288353 & 3.745520 & 1.841266 & 3.714091 & 3.746951 & ⋯ & 3.263901 & 1.930619 & 2.309651 & 1.871377 & 1.540925 & 1.773522 & 1.461576 & 1.901027 & 1.799332 & 1.794916\\\\\n",
       "\\end{tabular}\n"
      ],
      "text/markdown": [
       "\n",
       "A data.frame: 6 × 201\n",
       "\n",
       "| <!--/--> | Description &lt;chr&gt; | X224588_at &lt;dbl&gt; | X201909_at &lt;dbl&gt; | X229012_at &lt;dbl&gt; | X210033_s_at &lt;dbl&gt; | X236448_at &lt;dbl&gt; | X240065_at &lt;dbl&gt; | X206018_at &lt;dbl&gt; | X225165_at &lt;dbl&gt; | X220156_at &lt;dbl&gt; | ⋯ ⋯ | X206306_at &lt;dbl&gt; | X203649_s_at &lt;dbl&gt; | X206785_s_at &lt;dbl&gt; | X1563933_a_at &lt;dbl&gt; | X238603_at &lt;dbl&gt; | X205751_at &lt;dbl&gt; | X210271_at &lt;dbl&gt; | X228347_at &lt;dbl&gt; | X232720_at &lt;dbl&gt; | X209138_x_at &lt;dbl&gt; |\n",
       "|---|---|---|---|---|---|---|---|---|---|---|---|---|---|---|---|---|---|---|---|---|---|\n",
       "| GSM1214834 | ependymoma | 1.678130 | 3.644194 | 3.820705 | 3.735552 | 1.172587 | 3.624207 | 1.794471 | 3.691314 | 3.589067 | ⋯ | 3.596530 | 1.873599 | 2.146811 | 3.110174 | 1.524128 | 2.563318 | 1.450476 | 1.880268 | 1.737017 | 1.776431 |\n",
       "| GSM1214835 | ependymoma | 3.767506 | 1.667500 | 3.224272 | 3.566060 | 3.134809 | 3.381327 | 3.608933 | 3.828011 | 3.315655 | ⋯ | 1.716341 | 1.825732 | 2.149566 | 1.619617 | 1.601342 | 2.726899 | 2.637962 | 1.991922 | 1.788192 | 2.720051 |\n",
       "| GSM1214836 | ependymoma | 1.676252 | 3.747256 | 3.456146 | 3.642242 | 1.194883 | 3.520656 | 1.797164 | 3.463318 | 3.227379 | ⋯ | 3.431167 | 2.897142 | 2.983751 | 1.608201 | 1.587031 | 2.585998 | 1.449467 | 1.815894 | 1.748981 | 1.783816 |\n",
       "| GSM1214837 | ependymoma | 3.792194 | 1.636888 | 3.823623 | 3.786311 | 1.168471 | 3.498731 | 3.818550 | 2.747462 | 3.578139 | ⋯ | 1.943356 | 1.839781 | 2.128098 | 1.537581 | 3.151399 | 3.113747 | 1.424955 | 1.906251 | 3.647694 | 2.645952 |\n",
       "| GSM1214838 | ependymoma | 3.809949 | 1.639904 | 3.561411 | 1.590063 | 2.933787 | 2.997341 | 1.648297 | 3.624553 | 3.551927 | ⋯ | 3.594693 | 2.148758 | 2.130709 | 3.167416 | 1.614435 | 1.762541 | 1.429500 | 1.849851 | 1.719865 | 1.758591 |\n",
       "| GSM1214839 | ependymoma | 1.740624 | 3.700109 | 3.893310 | 3.761085 | 1.288353 | 3.745520 | 1.841266 | 3.714091 | 3.746951 | ⋯ | 3.263901 | 1.930619 | 2.309651 | 1.871377 | 1.540925 | 1.773522 | 1.461576 | 1.901027 | 1.799332 | 1.794916 |\n",
       "\n"
      ],
      "text/plain": [
       "           Description X224588_at X201909_at X229012_at X210033_s_at X236448_at\n",
       "GSM1214834 ependymoma  1.678130   3.644194   3.820705   3.735552     1.172587  \n",
       "GSM1214835 ependymoma  3.767506   1.667500   3.224272   3.566060     3.134809  \n",
       "GSM1214836 ependymoma  1.676252   3.747256   3.456146   3.642242     1.194883  \n",
       "GSM1214837 ependymoma  3.792194   1.636888   3.823623   3.786311     1.168471  \n",
       "GSM1214838 ependymoma  3.809949   1.639904   3.561411   1.590063     2.933787  \n",
       "GSM1214839 ependymoma  1.740624   3.700109   3.893310   3.761085     1.288353  \n",
       "           X240065_at X206018_at X225165_at X220156_at ⋯ X206306_at\n",
       "GSM1214834 3.624207   1.794471   3.691314   3.589067   ⋯ 3.596530  \n",
       "GSM1214835 3.381327   3.608933   3.828011   3.315655   ⋯ 1.716341  \n",
       "GSM1214836 3.520656   1.797164   3.463318   3.227379   ⋯ 3.431167  \n",
       "GSM1214837 3.498731   3.818550   2.747462   3.578139   ⋯ 1.943356  \n",
       "GSM1214838 2.997341   1.648297   3.624553   3.551927   ⋯ 3.594693  \n",
       "GSM1214839 3.745520   1.841266   3.714091   3.746951   ⋯ 3.263901  \n",
       "           X203649_s_at X206785_s_at X1563933_a_at X238603_at X205751_at\n",
       "GSM1214834 1.873599     2.146811     3.110174      1.524128   2.563318  \n",
       "GSM1214835 1.825732     2.149566     1.619617      1.601342   2.726899  \n",
       "GSM1214836 2.897142     2.983751     1.608201      1.587031   2.585998  \n",
       "GSM1214837 1.839781     2.128098     1.537581      3.151399   3.113747  \n",
       "GSM1214838 2.148758     2.130709     3.167416      1.614435   1.762541  \n",
       "GSM1214839 1.930619     2.309651     1.871377      1.540925   1.773522  \n",
       "           X210271_at X228347_at X232720_at X209138_x_at\n",
       "GSM1214834 1.450476   1.880268   1.737017   1.776431    \n",
       "GSM1214835 2.637962   1.991922   1.788192   2.720051    \n",
       "GSM1214836 1.449467   1.815894   1.748981   1.783816    \n",
       "GSM1214837 1.424955   1.906251   3.647694   2.645952    \n",
       "GSM1214838 1.429500   1.849851   1.719865   1.758591    \n",
       "GSM1214839 1.461576   1.901027   1.799332   1.794916    "
      ]
     },
     "metadata": {},
     "output_type": "display_data"
    },
    {
     "data": {
      "text/html": [
       "<style>\n",
       ".list-inline {list-style: none; margin:0; padding: 0}\n",
       ".list-inline>li {display: inline-block}\n",
       ".list-inline>li:not(:last-child)::after {content: \"\\00b7\"; padding: 0 .5ex}\n",
       "</style>\n",
       "<ol class=list-inline><li>'ependymoma'</li><li>'glioblastoma'</li><li>'medulloblastoma'</li><li>'pilocytic astrocytoma'</li></ol>\n"
      ],
      "text/latex": [
       "\\begin{enumerate*}\n",
       "\\item 'ependymoma'\n",
       "\\item 'glioblastoma'\n",
       "\\item 'medulloblastoma'\n",
       "\\item 'pilocytic astrocytoma'\n",
       "\\end{enumerate*}\n"
      ],
      "text/markdown": [
       "1. 'ependymoma'\n",
       "2. 'glioblastoma'\n",
       "3. 'medulloblastoma'\n",
       "4. 'pilocytic astrocytoma'\n",
       "\n",
       "\n"
      ],
      "text/plain": [
       "[1] \"ependymoma\"            \"glioblastoma\"          \"medulloblastoma\"      \n",
       "[4] \"pilocytic astrocytoma\""
      ]
     },
     "metadata": {},
     "output_type": "display_data"
    }
   ],
   "source": [
    "load(\"BrainTumor200.RData\")\n",
    "dataset = BrainTumor200\n",
    "head(dataset)\n",
    "unique(dataset$Description)"
   ]
  },
  {
   "cell_type": "markdown",
   "id": "8a6ee24b",
   "metadata": {},
   "source": [
    "Three types of classes within the dataset: **B**, **T** and **M**."
   ]
  },
  {
   "cell_type": "code",
   "execution_count": 5,
   "id": "e3d9ffb3",
   "metadata": {},
   "outputs": [
    {
     "data": {
      "text/html": [
       "<style>\n",
       ".list-inline {list-style: none; margin:0; padding: 0}\n",
       ".list-inline>li {display: inline-block}\n",
       ".list-inline>li:not(:last-child)::after {content: \"\\00b7\"; padding: 0 .5ex}\n",
       "</style>\n",
       "<ol class=list-inline><li>1</li><li>1</li><li>1</li><li>1</li><li>1</li><li>1</li><li>1</li><li>1</li><li>1</li><li>1</li><li>1</li><li>1</li><li>1</li><li>1</li><li>1</li><li>1</li><li>1</li><li>1</li><li>1</li><li>1</li><li>1</li><li>1</li><li>1</li><li>1</li><li>1</li><li>1</li><li>1</li><li>1</li><li>1</li><li>1</li><li>1</li><li>1</li><li>1</li><li>1</li><li>1</li><li>1</li><li>1</li><li>1</li><li>1</li><li>1</li><li>1</li><li>1</li><li>1</li><li>1</li><li>1</li><li>1</li><li>2</li><li>2</li><li>2</li><li>2</li><li>2</li><li>2</li><li>2</li><li>2</li><li>2</li><li>2</li><li>2</li><li>2</li><li>2</li><li>2</li><li>2</li><li>2</li><li>2</li><li>2</li><li>2</li><li>2</li><li>2</li><li>2</li><li>2</li><li>2</li><li>2</li><li>2</li><li>2</li><li>2</li><li>2</li><li>2</li><li>2</li><li>2</li><li>2</li><li>2</li><li>3</li><li>3</li><li>3</li><li>3</li><li>3</li><li>3</li><li>3</li><li>3</li><li>3</li><li>3</li><li>3</li><li>3</li><li>3</li><li>3</li><li>3</li><li>3</li><li>3</li><li>3</li><li>3</li><li>3</li><li>3</li><li>3</li><li>4</li><li>4</li><li>4</li><li>4</li><li>4</li><li>4</li><li>4</li><li>4</li><li>4</li><li>4</li><li>4</li><li>4</li><li>4</li><li>4</li><li>4</li></ol>\n"
      ],
      "text/latex": [
       "\\begin{enumerate*}\n",
       "\\item 1\n",
       "\\item 1\n",
       "\\item 1\n",
       "\\item 1\n",
       "\\item 1\n",
       "\\item 1\n",
       "\\item 1\n",
       "\\item 1\n",
       "\\item 1\n",
       "\\item 1\n",
       "\\item 1\n",
       "\\item 1\n",
       "\\item 1\n",
       "\\item 1\n",
       "\\item 1\n",
       "\\item 1\n",
       "\\item 1\n",
       "\\item 1\n",
       "\\item 1\n",
       "\\item 1\n",
       "\\item 1\n",
       "\\item 1\n",
       "\\item 1\n",
       "\\item 1\n",
       "\\item 1\n",
       "\\item 1\n",
       "\\item 1\n",
       "\\item 1\n",
       "\\item 1\n",
       "\\item 1\n",
       "\\item 1\n",
       "\\item 1\n",
       "\\item 1\n",
       "\\item 1\n",
       "\\item 1\n",
       "\\item 1\n",
       "\\item 1\n",
       "\\item 1\n",
       "\\item 1\n",
       "\\item 1\n",
       "\\item 1\n",
       "\\item 1\n",
       "\\item 1\n",
       "\\item 1\n",
       "\\item 1\n",
       "\\item 1\n",
       "\\item 2\n",
       "\\item 2\n",
       "\\item 2\n",
       "\\item 2\n",
       "\\item 2\n",
       "\\item 2\n",
       "\\item 2\n",
       "\\item 2\n",
       "\\item 2\n",
       "\\item 2\n",
       "\\item 2\n",
       "\\item 2\n",
       "\\item 2\n",
       "\\item 2\n",
       "\\item 2\n",
       "\\item 2\n",
       "\\item 2\n",
       "\\item 2\n",
       "\\item 2\n",
       "\\item 2\n",
       "\\item 2\n",
       "\\item 2\n",
       "\\item 2\n",
       "\\item 2\n",
       "\\item 2\n",
       "\\item 2\n",
       "\\item 2\n",
       "\\item 2\n",
       "\\item 2\n",
       "\\item 2\n",
       "\\item 2\n",
       "\\item 2\n",
       "\\item 2\n",
       "\\item 2\n",
       "\\item 3\n",
       "\\item 3\n",
       "\\item 3\n",
       "\\item 3\n",
       "\\item 3\n",
       "\\item 3\n",
       "\\item 3\n",
       "\\item 3\n",
       "\\item 3\n",
       "\\item 3\n",
       "\\item 3\n",
       "\\item 3\n",
       "\\item 3\n",
       "\\item 3\n",
       "\\item 3\n",
       "\\item 3\n",
       "\\item 3\n",
       "\\item 3\n",
       "\\item 3\n",
       "\\item 3\n",
       "\\item 3\n",
       "\\item 3\n",
       "\\item 4\n",
       "\\item 4\n",
       "\\item 4\n",
       "\\item 4\n",
       "\\item 4\n",
       "\\item 4\n",
       "\\item 4\n",
       "\\item 4\n",
       "\\item 4\n",
       "\\item 4\n",
       "\\item 4\n",
       "\\item 4\n",
       "\\item 4\n",
       "\\item 4\n",
       "\\item 4\n",
       "\\end{enumerate*}\n"
      ],
      "text/markdown": [
       "1. 1\n",
       "2. 1\n",
       "3. 1\n",
       "4. 1\n",
       "5. 1\n",
       "6. 1\n",
       "7. 1\n",
       "8. 1\n",
       "9. 1\n",
       "10. 1\n",
       "11. 1\n",
       "12. 1\n",
       "13. 1\n",
       "14. 1\n",
       "15. 1\n",
       "16. 1\n",
       "17. 1\n",
       "18. 1\n",
       "19. 1\n",
       "20. 1\n",
       "21. 1\n",
       "22. 1\n",
       "23. 1\n",
       "24. 1\n",
       "25. 1\n",
       "26. 1\n",
       "27. 1\n",
       "28. 1\n",
       "29. 1\n",
       "30. 1\n",
       "31. 1\n",
       "32. 1\n",
       "33. 1\n",
       "34. 1\n",
       "35. 1\n",
       "36. 1\n",
       "37. 1\n",
       "38. 1\n",
       "39. 1\n",
       "40. 1\n",
       "41. 1\n",
       "42. 1\n",
       "43. 1\n",
       "44. 1\n",
       "45. 1\n",
       "46. 1\n",
       "47. 2\n",
       "48. 2\n",
       "49. 2\n",
       "50. 2\n",
       "51. 2\n",
       "52. 2\n",
       "53. 2\n",
       "54. 2\n",
       "55. 2\n",
       "56. 2\n",
       "57. 2\n",
       "58. 2\n",
       "59. 2\n",
       "60. 2\n",
       "61. 2\n",
       "62. 2\n",
       "63. 2\n",
       "64. 2\n",
       "65. 2\n",
       "66. 2\n",
       "67. 2\n",
       "68. 2\n",
       "69. 2\n",
       "70. 2\n",
       "71. 2\n",
       "72. 2\n",
       "73. 2\n",
       "74. 2\n",
       "75. 2\n",
       "76. 2\n",
       "77. 2\n",
       "78. 2\n",
       "79. 2\n",
       "80. 2\n",
       "81. 3\n",
       "82. 3\n",
       "83. 3\n",
       "84. 3\n",
       "85. 3\n",
       "86. 3\n",
       "87. 3\n",
       "88. 3\n",
       "89. 3\n",
       "90. 3\n",
       "91. 3\n",
       "92. 3\n",
       "93. 3\n",
       "94. 3\n",
       "95. 3\n",
       "96. 3\n",
       "97. 3\n",
       "98. 3\n",
       "99. 3\n",
       "100. 3\n",
       "101. 3\n",
       "102. 3\n",
       "103. 4\n",
       "104. 4\n",
       "105. 4\n",
       "106. 4\n",
       "107. 4\n",
       "108. 4\n",
       "109. 4\n",
       "110. 4\n",
       "111. 4\n",
       "112. 4\n",
       "113. 4\n",
       "114. 4\n",
       "115. 4\n",
       "116. 4\n",
       "117. 4\n",
       "\n",
       "\n"
      ],
      "text/plain": [
       "  [1] 1 1 1 1 1 1 1 1 1 1 1 1 1 1 1 1 1 1 1 1 1 1 1 1 1 1 1 1 1 1 1 1 1 1 1 1 1\n",
       " [38] 1 1 1 1 1 1 1 1 1 2 2 2 2 2 2 2 2 2 2 2 2 2 2 2 2 2 2 2 2 2 2 2 2 2 2 2 2\n",
       " [75] 2 2 2 2 2 2 3 3 3 3 3 3 3 3 3 3 3 3 3 3 3 3 3 3 3 3 3 3 4 4 4 4 4 4 4 4 4\n",
       "[112] 4 4 4 4 4 4"
      ]
     },
     "metadata": {},
     "output_type": "display_data"
    }
   ],
   "source": [
    "level_mapping <- c(\"ependymoma\" = 1, \"glioblastoma\" = 2, \"medulloblastoma\" = 3, \"pilocytic astrocytoma\" = 4)\n",
    "map_strings_to_numbers <- function(strings) {\n",
    "  factorized <- factor(strings, levels = names(level_mapping))\n",
    "  as.numeric(factorized)\n",
    "}\n",
    "gold_standard_vector = as.vector(unlist(lapply(dataset[\"Description\"], map_strings_to_numbers)))\n",
    "gold_standard_vector"
   ]
  },
  {
   "cell_type": "code",
   "execution_count": 6,
   "id": "82762fa9-673d-4b72-bda8-625e1b06d700",
   "metadata": {},
   "outputs": [
    {
     "name": "stderr",
     "output_type": "stream",
     "text": [
      "Preprocessing dataset\n",
      "\n",
      "Removing non-numeric columns...\n",
      "\n",
      "\tColumns are numeric\n",
      "\n",
      "Removing correlations...\n",
      "\n",
      "\tNo correlated columns found\n",
      "\n",
      "Checking PCA suitability...\n",
      "\n",
      "\tPCA is not suitable. Bartlett's test produced NA for p-value.\n",
      "\n"
     ]
    },
    {
     "data": {
      "text/html": [
       "<table class=\"dataframe\">\n",
       "<caption>A data.frame: 6 × 201</caption>\n",
       "<thead>\n",
       "\t<tr><th></th><th scope=col>Description</th><th scope=col>X224588_at</th><th scope=col>X201909_at</th><th scope=col>X229012_at</th><th scope=col>X210033_s_at</th><th scope=col>X236448_at</th><th scope=col>X240065_at</th><th scope=col>X206018_at</th><th scope=col>X225165_at</th><th scope=col>X220156_at</th><th scope=col>⋯</th><th scope=col>X206306_at</th><th scope=col>X203649_s_at</th><th scope=col>X206785_s_at</th><th scope=col>X1563933_a_at</th><th scope=col>X238603_at</th><th scope=col>X205751_at</th><th scope=col>X210271_at</th><th scope=col>X228347_at</th><th scope=col>X232720_at</th><th scope=col>X209138_x_at</th></tr>\n",
       "\t<tr><th></th><th scope=col>&lt;chr&gt;</th><th scope=col>&lt;dbl&gt;</th><th scope=col>&lt;dbl&gt;</th><th scope=col>&lt;dbl&gt;</th><th scope=col>&lt;dbl&gt;</th><th scope=col>&lt;dbl&gt;</th><th scope=col>&lt;dbl&gt;</th><th scope=col>&lt;dbl&gt;</th><th scope=col>&lt;dbl&gt;</th><th scope=col>&lt;dbl&gt;</th><th scope=col>⋯</th><th scope=col>&lt;dbl&gt;</th><th scope=col>&lt;dbl&gt;</th><th scope=col>&lt;dbl&gt;</th><th scope=col>&lt;dbl&gt;</th><th scope=col>&lt;dbl&gt;</th><th scope=col>&lt;dbl&gt;</th><th scope=col>&lt;dbl&gt;</th><th scope=col>&lt;dbl&gt;</th><th scope=col>&lt;dbl&gt;</th><th scope=col>&lt;dbl&gt;</th></tr>\n",
       "</thead>\n",
       "<tbody>\n",
       "\t<tr><th scope=row>GSM1214834</th><td>ependymoma</td><td>1.678130</td><td>3.644194</td><td>3.820705</td><td>3.735552</td><td>1.172587</td><td>3.624207</td><td>1.794471</td><td>3.691314</td><td>3.589067</td><td>⋯</td><td>3.596530</td><td>1.873599</td><td>2.146811</td><td>3.110174</td><td>1.524128</td><td>2.563318</td><td>1.450476</td><td>1.880268</td><td>1.737017</td><td>1.776431</td></tr>\n",
       "\t<tr><th scope=row>GSM1214835</th><td>ependymoma</td><td>3.767506</td><td>1.667500</td><td>3.224272</td><td>3.566060</td><td>3.134809</td><td>3.381327</td><td>3.608933</td><td>3.828011</td><td>3.315655</td><td>⋯</td><td>1.716341</td><td>1.825732</td><td>2.149566</td><td>1.619617</td><td>1.601342</td><td>2.726899</td><td>2.637962</td><td>1.991922</td><td>1.788192</td><td>2.720051</td></tr>\n",
       "\t<tr><th scope=row>GSM1214836</th><td>ependymoma</td><td>1.676252</td><td>3.747256</td><td>3.456146</td><td>3.642242</td><td>1.194883</td><td>3.520656</td><td>1.797164</td><td>3.463318</td><td>3.227379</td><td>⋯</td><td>3.431167</td><td>2.897142</td><td>2.983751</td><td>1.608201</td><td>1.587031</td><td>2.585998</td><td>1.449467</td><td>1.815894</td><td>1.748981</td><td>1.783816</td></tr>\n",
       "\t<tr><th scope=row>GSM1214837</th><td>ependymoma</td><td>3.792194</td><td>1.636888</td><td>3.823623</td><td>3.786311</td><td>1.168471</td><td>3.498731</td><td>3.818550</td><td>2.747462</td><td>3.578139</td><td>⋯</td><td>1.943356</td><td>1.839781</td><td>2.128098</td><td>1.537581</td><td>3.151399</td><td>3.113747</td><td>1.424955</td><td>1.906251</td><td>3.647694</td><td>2.645952</td></tr>\n",
       "\t<tr><th scope=row>GSM1214838</th><td>ependymoma</td><td>3.809949</td><td>1.639904</td><td>3.561411</td><td>1.590063</td><td>2.933787</td><td>2.997341</td><td>1.648297</td><td>3.624553</td><td>3.551927</td><td>⋯</td><td>3.594693</td><td>2.148758</td><td>2.130709</td><td>3.167416</td><td>1.614435</td><td>1.762541</td><td>1.429500</td><td>1.849851</td><td>1.719865</td><td>1.758591</td></tr>\n",
       "\t<tr><th scope=row>GSM1214839</th><td>ependymoma</td><td>1.740624</td><td>3.700109</td><td>3.893310</td><td>3.761085</td><td>1.288353</td><td>3.745520</td><td>1.841266</td><td>3.714091</td><td>3.746951</td><td>⋯</td><td>3.263901</td><td>1.930619</td><td>2.309651</td><td>1.871377</td><td>1.540925</td><td>1.773522</td><td>1.461576</td><td>1.901027</td><td>1.799332</td><td>1.794916</td></tr>\n",
       "</tbody>\n",
       "</table>\n"
      ],
      "text/latex": [
       "A data.frame: 6 × 201\n",
       "\\begin{tabular}{r|lllllllllllllllllllll}\n",
       "  & Description & X224588\\_at & X201909\\_at & X229012\\_at & X210033\\_s\\_at & X236448\\_at & X240065\\_at & X206018\\_at & X225165\\_at & X220156\\_at & ⋯ & X206306\\_at & X203649\\_s\\_at & X206785\\_s\\_at & X1563933\\_a\\_at & X238603\\_at & X205751\\_at & X210271\\_at & X228347\\_at & X232720\\_at & X209138\\_x\\_at\\\\\n",
       "  & <chr> & <dbl> & <dbl> & <dbl> & <dbl> & <dbl> & <dbl> & <dbl> & <dbl> & <dbl> & ⋯ & <dbl> & <dbl> & <dbl> & <dbl> & <dbl> & <dbl> & <dbl> & <dbl> & <dbl> & <dbl>\\\\\n",
       "\\hline\n",
       "\tGSM1214834 & ependymoma & 1.678130 & 3.644194 & 3.820705 & 3.735552 & 1.172587 & 3.624207 & 1.794471 & 3.691314 & 3.589067 & ⋯ & 3.596530 & 1.873599 & 2.146811 & 3.110174 & 1.524128 & 2.563318 & 1.450476 & 1.880268 & 1.737017 & 1.776431\\\\\n",
       "\tGSM1214835 & ependymoma & 3.767506 & 1.667500 & 3.224272 & 3.566060 & 3.134809 & 3.381327 & 3.608933 & 3.828011 & 3.315655 & ⋯ & 1.716341 & 1.825732 & 2.149566 & 1.619617 & 1.601342 & 2.726899 & 2.637962 & 1.991922 & 1.788192 & 2.720051\\\\\n",
       "\tGSM1214836 & ependymoma & 1.676252 & 3.747256 & 3.456146 & 3.642242 & 1.194883 & 3.520656 & 1.797164 & 3.463318 & 3.227379 & ⋯ & 3.431167 & 2.897142 & 2.983751 & 1.608201 & 1.587031 & 2.585998 & 1.449467 & 1.815894 & 1.748981 & 1.783816\\\\\n",
       "\tGSM1214837 & ependymoma & 3.792194 & 1.636888 & 3.823623 & 3.786311 & 1.168471 & 3.498731 & 3.818550 & 2.747462 & 3.578139 & ⋯ & 1.943356 & 1.839781 & 2.128098 & 1.537581 & 3.151399 & 3.113747 & 1.424955 & 1.906251 & 3.647694 & 2.645952\\\\\n",
       "\tGSM1214838 & ependymoma & 3.809949 & 1.639904 & 3.561411 & 1.590063 & 2.933787 & 2.997341 & 1.648297 & 3.624553 & 3.551927 & ⋯ & 3.594693 & 2.148758 & 2.130709 & 3.167416 & 1.614435 & 1.762541 & 1.429500 & 1.849851 & 1.719865 & 1.758591\\\\\n",
       "\tGSM1214839 & ependymoma & 1.740624 & 3.700109 & 3.893310 & 3.761085 & 1.288353 & 3.745520 & 1.841266 & 3.714091 & 3.746951 & ⋯ & 3.263901 & 1.930619 & 2.309651 & 1.871377 & 1.540925 & 1.773522 & 1.461576 & 1.901027 & 1.799332 & 1.794916\\\\\n",
       "\\end{tabular}\n"
      ],
      "text/markdown": [
       "\n",
       "A data.frame: 6 × 201\n",
       "\n",
       "| <!--/--> | Description &lt;chr&gt; | X224588_at &lt;dbl&gt; | X201909_at &lt;dbl&gt; | X229012_at &lt;dbl&gt; | X210033_s_at &lt;dbl&gt; | X236448_at &lt;dbl&gt; | X240065_at &lt;dbl&gt; | X206018_at &lt;dbl&gt; | X225165_at &lt;dbl&gt; | X220156_at &lt;dbl&gt; | ⋯ ⋯ | X206306_at &lt;dbl&gt; | X203649_s_at &lt;dbl&gt; | X206785_s_at &lt;dbl&gt; | X1563933_a_at &lt;dbl&gt; | X238603_at &lt;dbl&gt; | X205751_at &lt;dbl&gt; | X210271_at &lt;dbl&gt; | X228347_at &lt;dbl&gt; | X232720_at &lt;dbl&gt; | X209138_x_at &lt;dbl&gt; |\n",
       "|---|---|---|---|---|---|---|---|---|---|---|---|---|---|---|---|---|---|---|---|---|---|\n",
       "| GSM1214834 | ependymoma | 1.678130 | 3.644194 | 3.820705 | 3.735552 | 1.172587 | 3.624207 | 1.794471 | 3.691314 | 3.589067 | ⋯ | 3.596530 | 1.873599 | 2.146811 | 3.110174 | 1.524128 | 2.563318 | 1.450476 | 1.880268 | 1.737017 | 1.776431 |\n",
       "| GSM1214835 | ependymoma | 3.767506 | 1.667500 | 3.224272 | 3.566060 | 3.134809 | 3.381327 | 3.608933 | 3.828011 | 3.315655 | ⋯ | 1.716341 | 1.825732 | 2.149566 | 1.619617 | 1.601342 | 2.726899 | 2.637962 | 1.991922 | 1.788192 | 2.720051 |\n",
       "| GSM1214836 | ependymoma | 1.676252 | 3.747256 | 3.456146 | 3.642242 | 1.194883 | 3.520656 | 1.797164 | 3.463318 | 3.227379 | ⋯ | 3.431167 | 2.897142 | 2.983751 | 1.608201 | 1.587031 | 2.585998 | 1.449467 | 1.815894 | 1.748981 | 1.783816 |\n",
       "| GSM1214837 | ependymoma | 3.792194 | 1.636888 | 3.823623 | 3.786311 | 1.168471 | 3.498731 | 3.818550 | 2.747462 | 3.578139 | ⋯ | 1.943356 | 1.839781 | 2.128098 | 1.537581 | 3.151399 | 3.113747 | 1.424955 | 1.906251 | 3.647694 | 2.645952 |\n",
       "| GSM1214838 | ependymoma | 3.809949 | 1.639904 | 3.561411 | 1.590063 | 2.933787 | 2.997341 | 1.648297 | 3.624553 | 3.551927 | ⋯ | 3.594693 | 2.148758 | 2.130709 | 3.167416 | 1.614435 | 1.762541 | 1.429500 | 1.849851 | 1.719865 | 1.758591 |\n",
       "| GSM1214839 | ependymoma | 1.740624 | 3.700109 | 3.893310 | 3.761085 | 1.288353 | 3.745520 | 1.841266 | 3.714091 | 3.746951 | ⋯ | 3.263901 | 1.930619 | 2.309651 | 1.871377 | 1.540925 | 1.773522 | 1.461576 | 1.901027 | 1.799332 | 1.794916 |\n",
       "\n"
      ],
      "text/plain": [
       "           Description X224588_at X201909_at X229012_at X210033_s_at X236448_at\n",
       "GSM1214834 ependymoma  1.678130   3.644194   3.820705   3.735552     1.172587  \n",
       "GSM1214835 ependymoma  3.767506   1.667500   3.224272   3.566060     3.134809  \n",
       "GSM1214836 ependymoma  1.676252   3.747256   3.456146   3.642242     1.194883  \n",
       "GSM1214837 ependymoma  3.792194   1.636888   3.823623   3.786311     1.168471  \n",
       "GSM1214838 ependymoma  3.809949   1.639904   3.561411   1.590063     2.933787  \n",
       "GSM1214839 ependymoma  1.740624   3.700109   3.893310   3.761085     1.288353  \n",
       "           X240065_at X206018_at X225165_at X220156_at ⋯ X206306_at\n",
       "GSM1214834 3.624207   1.794471   3.691314   3.589067   ⋯ 3.596530  \n",
       "GSM1214835 3.381327   3.608933   3.828011   3.315655   ⋯ 1.716341  \n",
       "GSM1214836 3.520656   1.797164   3.463318   3.227379   ⋯ 3.431167  \n",
       "GSM1214837 3.498731   3.818550   2.747462   3.578139   ⋯ 1.943356  \n",
       "GSM1214838 2.997341   1.648297   3.624553   3.551927   ⋯ 3.594693  \n",
       "GSM1214839 3.745520   1.841266   3.714091   3.746951   ⋯ 3.263901  \n",
       "           X203649_s_at X206785_s_at X1563933_a_at X238603_at X205751_at\n",
       "GSM1214834 1.873599     2.146811     3.110174      1.524128   2.563318  \n",
       "GSM1214835 1.825732     2.149566     1.619617      1.601342   2.726899  \n",
       "GSM1214836 2.897142     2.983751     1.608201      1.587031   2.585998  \n",
       "GSM1214837 1.839781     2.128098     1.537581      3.151399   3.113747  \n",
       "GSM1214838 2.148758     2.130709     3.167416      1.614435   1.762541  \n",
       "GSM1214839 1.930619     2.309651     1.871377      1.540925   1.773522  \n",
       "           X210271_at X228347_at X232720_at X209138_x_at\n",
       "GSM1214834 1.450476   1.880268   1.737017   1.776431    \n",
       "GSM1214835 2.637962   1.991922   1.788192   2.720051    \n",
       "GSM1214836 1.449467   1.815894   1.748981   1.783816    \n",
       "GSM1214837 1.424955   1.906251   3.647694   2.645952    \n",
       "GSM1214838 1.429500   1.849851   1.719865   1.758591    \n",
       "GSM1214839 1.461576   1.901027   1.799332   1.794916    "
      ]
     },
     "metadata": {},
     "output_type": "display_data"
    }
   ],
   "source": [
    "dataset_clean = evaluomeR::cleanDataset(dataset, correlation_threshold=1)\n",
    "pca_suitability = evaluomeR::PCASuitability(dataset_clean$R, sig_level = 0.05)\n",
    "dataset = dataset_clean$dataset\n",
    "\n",
    "if (pca_suitability$pca_suitable) {\n",
    "    r_pca = evaluomeR::performPCA(dataset = dataset)\n",
    "    dataset = r_pca$dataset_ncp\n",
    "    evaluomeR::plotPCA_fviz_screeplot(r_pca$pca)\n",
    "    evaluomeR::plotPCA_fviz_biplot(r_pca$pca)\n",
    "}\n",
    "head(dataset)"
   ]
  },
  {
   "cell_type": "markdown",
   "id": "82a10a31",
   "metadata": {},
   "source": [
    "# evaluomeR - (ATSC) optimal $k$ analysis <a class=\"anchor\" id=\"evaluomeR\"></a>\n",
    "\n",
    "In this Section, evaluomeR executes an optimal $k$ analysis. First, stabilities and qualities are calculated, considering all the metrics in the dataset. The $k$ range is $k \\in [3,10]$ and the clustering method is `clara`."
   ]
  },
  {
   "cell_type": "code",
   "execution_count": 7,
   "id": "e6e4f6f7-49be-478f-9258-f30c81a7e48d",
   "metadata": {},
   "outputs": [
    {
     "name": "stderr",
     "output_type": "stream",
     "text": [
      "Computing optimal k value with 'clara'\n",
      "\n",
      "Warning: 'gold_standard' parameter is set, argument 'bs' will be ignored.\n",
      "\n",
      "\n",
      "\n",
      "Data loaded.\n",
      "Number of rows: 117\n",
      "Number of columns: 201\n",
      "\n",
      "\n",
      "\n",
      "Processing all metrics, 'merge', in dataframe (200)\n",
      "\n",
      "\tCalculation of k = 3\n",
      "\n",
      "\tCalculation of k = 4\n",
      "\n",
      "\tCalculation of k = 5\n",
      "\n",
      "\tCalculation of k = 6\n",
      "\n",
      "\tCalculation of k = 7\n",
      "\n",
      "\tCalculation of k = 8\n",
      "\n",
      "\tCalculation of k = 9\n",
      "\n",
      "\tCalculation of k = 10\n",
      "\n",
      "\n",
      "\n",
      "Data loaded.\n",
      "Number of rows: 117\n",
      "Number of columns: 201\n",
      "\n",
      "\n",
      "\n",
      "Processing all metrics, 'merge', in dataframe (200)\n",
      "\n",
      "\tCalculation of k = 3\n",
      "\n",
      "\tCalculation of k = 4\n",
      "\n",
      "\tCalculation of k = 5\n",
      "\n",
      "\tCalculation of k = 6\n",
      "\n",
      "\tCalculation of k = 7\n",
      "\n",
      "\tCalculation of k = 8\n",
      "\n",
      "\tCalculation of k = 9\n",
      "\n",
      "\tCalculation of k = 10\n",
      "\n",
      "Processing metric: all_metrics\n",
      "\n",
      "\n",
      "\tBoth Ks have a stable classification: '4', '3'\n",
      "\n",
      "\n",
      "\tUsing '3' since it provides higher silhouette width\n",
      "\n",
      "\n",
      "Optimal k: 3\n",
      "\n",
      "Determining best L1 and alpha parameter automatically, it might take a while...\n",
      "\n",
      "Computing best L1 boundry with 'sparcl::KMeansSparseCluster.permute'\n",
      "\n",
      "Best L1 found is: 10.7925809689086\n",
      "\n",
      "Running stability and quality indexes with alpha=0 k=3 L1=10.7925809689086\n",
      "\n",
      "Running stability and quality indexes with alpha=0.01 k=3 L1=10.7925809689086\n",
      "\n",
      "Running stability and quality indexes with alpha=0.02 k=3 L1=10.7925809689086\n",
      "\n",
      "Running stability and quality indexes with alpha=0.03 k=3 L1=10.7925809689086\n",
      "\n",
      "Running stability and quality indexes with alpha=0.04 k=3 L1=10.7925809689086\n",
      "\n",
      "Running stability and quality indexes with alpha=0.05 k=3 L1=10.7925809689086\n",
      "\n",
      "Running stability and quality indexes with alpha=0.06 k=3 L1=10.7925809689086\n",
      "\n",
      "Running stability and quality indexes with alpha=0.07 k=3 L1=10.7925809689086\n",
      "\n",
      "Running stability and quality indexes with alpha=0.08 k=3 L1=10.7925809689086\n",
      "\n",
      "Running stability and quality indexes with alpha=0.09 k=3 L1=10.7925809689086\n",
      "\n",
      "Running stability and quality indexes with alpha=0.1 k=3 L1=10.7925809689086\n",
      "\n",
      "Running stability and quality indexes with alpha=0.11 k=3 L1=10.7925809689086\n",
      "\n",
      "Running stability and quality indexes with alpha=0.12 k=3 L1=10.7925809689086\n",
      "\n",
      "Running stability and quality indexes with alpha=0.13 k=3 L1=10.7925809689086\n",
      "\n",
      "Running stability and quality indexes with alpha=0.14 k=3 L1=10.7925809689086\n",
      "\n",
      "Running stability and quality indexes with alpha=0.15 k=3 L1=10.7925809689086\n",
      "\n",
      "Running stability and quality indexes with alpha=0.16 k=3 L1=10.7925809689086\n",
      "\n",
      "Running stability and quality indexes with alpha=0.17 k=3 L1=10.7925809689086\n",
      "\n",
      "Running stability and quality indexes with alpha=0.18 k=3 L1=10.7925809689086\n",
      "\n",
      "Running stability and quality indexes with alpha=0.19 k=3 L1=10.7925809689086\n",
      "\n",
      "Running stability and quality indexes with alpha=0.2 k=3 L1=10.7925809689086\n",
      "\n",
      "Running stability and quality indexes with alpha=0.21 k=3 L1=10.7925809689086\n",
      "\n",
      "Running stability and quality indexes with alpha=0.22 k=3 L1=10.7925809689086\n",
      "\n",
      "Running stability and quality indexes with alpha=0.23 k=3 L1=10.7925809689086\n",
      "\n",
      "Running stability and quality indexes with alpha=0.24 k=3 L1=10.7925809689086\n",
      "\n",
      "Running stability and quality indexes with alpha=0.25 k=3 L1=10.7925809689086\n",
      "\n",
      "Highest stability found when alpha=0.22 (0.99698895533038)\n",
      "\n",
      "Highest quality found when alpha=0 (0.285711016692062)\n",
      "\n",
      "\tUsing L1 '10.7925809689086' and alpha '0'\n",
      "\n",
      "Running Trimmed & Sparse Clustering algorithm\n",
      "\n",
      "\tNumber of affected columns: 20\n",
      "\n",
      "Computing optimal k value on the dataset processed by a trimmed sparse clustering method.\n",
      "\n",
      "Warning: 'gold_standard' parameter is set, argument 'bs' will be ignored.\n",
      "\n",
      "\n",
      "\n",
      "Data loaded.\n",
      "Number of rows: 117\n",
      "Number of columns: 181\n",
      "\n",
      "\n",
      "\n",
      "Processing all metrics, 'merge', in dataframe (180)\n",
      "\n",
      "\tCalculation of k = 3\n",
      "\n",
      "\tCalculation of k = 4\n",
      "\n",
      "\tCalculation of k = 5\n",
      "\n",
      "\tCalculation of k = 6\n",
      "\n",
      "\tCalculation of k = 7\n",
      "\n",
      "\tCalculation of k = 8\n",
      "\n",
      "\tCalculation of k = 9\n",
      "\n",
      "\tCalculation of k = 10\n",
      "\n",
      "\n",
      "\n",
      "Data loaded.\n",
      "Number of rows: 117\n",
      "Number of columns: 181\n",
      "\n",
      "\n",
      "\n",
      "Processing all metrics, 'merge', in dataframe (180)\n",
      "\n",
      "\tCalculation of k = 3\n",
      "\n",
      "\tCalculation of k = 4\n",
      "\n",
      "\tCalculation of k = 5\n",
      "\n",
      "\tCalculation of k = 6\n",
      "\n",
      "\tCalculation of k = 7\n",
      "\n",
      "\tCalculation of k = 8\n",
      "\n",
      "\tCalculation of k = 9\n",
      "\n",
      "\tCalculation of k = 10\n",
      "\n",
      "Processing metric: all_metrics\n",
      "\n",
      "\n",
      "\tBoth Ks have a stable classification: '5', '3'\n",
      "\n",
      "\n",
      "\tUsing '3' since it provides higher silhouette width\n",
      "\n",
      "\n",
      "New optimal k with ATSC: 3\n",
      "\n"
     ]
    }
   ],
   "source": [
    "r_atsc = evaluomeR::ATSC(data=dataset, k.range=k.range, cbi=cbi, alpha=alpha, \n",
    "                         max_alpha=max_alpha, gold_standard=gold_standard_vector, seed=seed)"
   ]
  },
  {
   "cell_type": "code",
   "execution_count": 8,
   "id": "f9076b37-b31d-45a7-94e4-9287262f0d02",
   "metadata": {},
   "outputs": [
    {
     "name": "stdout",
     "output_type": "stream",
     "text": [
      "[1] \"ATSC Optimal k: 3\"\n",
      "[1] \"Best L1 boundry found: 10.7925809689086\"\n",
      "[1] \"Best alpha found: 0\"\n"
     ]
    }
   ],
   "source": [
    "print(paste0(\"ATSC Optimal k: \", r_atsc$optimalK_ATSC))\n",
    "print(paste0(\"Best L1 boundry found: \", r_atsc$L1))\n",
    "print(paste0(\"Best alpha found: \", r_atsc$alpha))\n",
    "if (!is.null(r_atsc$gold_standard_trimmed)) {\n",
    "    print(paste0(\"Gold standard vector trimmed, current values are:\"))\n",
    "    print(gold_standard_vector)\n",
    "    print(\"After:\")\n",
    "    print(r_atsc$gold_standard_trimmed)\n",
    "    gold_standard_vector = r_atsc$gold_standard_trimmed\n",
    "}"
   ]
  },
  {
   "cell_type": "markdown",
   "id": "6ab90a46",
   "metadata": {},
   "source": [
    "## Stability plotting <a class=\"anchor\" id=\"evaluomeR_stab_plot\"></a>\n",
    "\n",
    "Stability plot"
   ]
  },
  {
   "cell_type": "code",
   "execution_count": 9,
   "id": "948b87f7",
   "metadata": {},
   "outputs": [],
   "source": [
    "stab = r_atsc$stab\n",
    "rownames(stab) = c(paste0(\"stab_\", cbi))\n",
    "stab$Metric = rownames(stab)\n",
    "stab$Method = \"without ATSC\"\n",
    "stab_melt = melt(stab, id.vars = c(\"Metric\", \"Method\"))\n",
    "\n",
    "stab_ATSC = r_atsc$stab_ATSC\n",
    "rownames(stab_ATSC) = c(paste0(\"stab_\", \"ATSC\"))\n",
    "stab_ATSC$Metric = rownames(stab_ATSC)\n",
    "stab_ATSC$Method = \"with ATSC\"\n",
    "stab_ATSC_melt = melt(stab_ATSC, id.vars = c(\"Metric\", \"Method\"))"
   ]
  },
  {
   "cell_type": "code",
   "execution_count": 10,
   "id": "399f8f27-faf8-4866-b9a1-5e79af597eb5",
   "metadata": {},
   "outputs": [
    {
     "data": {
      "text/html": [
       "<table class=\"dataframe\">\n",
       "<caption>A data.frame: 1 × 10</caption>\n",
       "<thead>\n",
       "\t<tr><th></th><th scope=col>k_3</th><th scope=col>k_4</th><th scope=col>k_5</th><th scope=col>k_6</th><th scope=col>k_7</th><th scope=col>k_8</th><th scope=col>k_9</th><th scope=col>k_10</th><th scope=col>Metric</th><th scope=col>Method</th></tr>\n",
       "\t<tr><th></th><th scope=col>&lt;dbl&gt;</th><th scope=col>&lt;dbl&gt;</th><th scope=col>&lt;dbl&gt;</th><th scope=col>&lt;dbl&gt;</th><th scope=col>&lt;dbl&gt;</th><th scope=col>&lt;dbl&gt;</th><th scope=col>&lt;dbl&gt;</th><th scope=col>&lt;dbl&gt;</th><th scope=col>&lt;chr&gt;</th><th scope=col>&lt;chr&gt;</th></tr>\n",
       "</thead>\n",
       "<tbody>\n",
       "\t<tr><th scope=row>stab_ATSC</th><td>0.8878574</td><td>0.90112</td><td>0.9199823</td><td>0.9053935</td><td>0.8244916</td><td>0.8124079</td><td>0.7989979</td><td>0.8107869</td><td>stab_ATSC</td><td>with ATSC</td></tr>\n",
       "</tbody>\n",
       "</table>\n"
      ],
      "text/latex": [
       "A data.frame: 1 × 10\n",
       "\\begin{tabular}{r|llllllllll}\n",
       "  & k\\_3 & k\\_4 & k\\_5 & k\\_6 & k\\_7 & k\\_8 & k\\_9 & k\\_10 & Metric & Method\\\\\n",
       "  & <dbl> & <dbl> & <dbl> & <dbl> & <dbl> & <dbl> & <dbl> & <dbl> & <chr> & <chr>\\\\\n",
       "\\hline\n",
       "\tstab\\_ATSC & 0.8878574 & 0.90112 & 0.9199823 & 0.9053935 & 0.8244916 & 0.8124079 & 0.7989979 & 0.8107869 & stab\\_ATSC & with ATSC\\\\\n",
       "\\end{tabular}\n"
      ],
      "text/markdown": [
       "\n",
       "A data.frame: 1 × 10\n",
       "\n",
       "| <!--/--> | k_3 &lt;dbl&gt; | k_4 &lt;dbl&gt; | k_5 &lt;dbl&gt; | k_6 &lt;dbl&gt; | k_7 &lt;dbl&gt; | k_8 &lt;dbl&gt; | k_9 &lt;dbl&gt; | k_10 &lt;dbl&gt; | Metric &lt;chr&gt; | Method &lt;chr&gt; |\n",
       "|---|---|---|---|---|---|---|---|---|---|---|\n",
       "| stab_ATSC | 0.8878574 | 0.90112 | 0.9199823 | 0.9053935 | 0.8244916 | 0.8124079 | 0.7989979 | 0.8107869 | stab_ATSC | with ATSC |\n",
       "\n"
      ],
      "text/plain": [
       "          k_3       k_4     k_5       k_6       k_7       k_8       k_9      \n",
       "stab_ATSC 0.8878574 0.90112 0.9199823 0.9053935 0.8244916 0.8124079 0.7989979\n",
       "          k_10      Metric    Method   \n",
       "stab_ATSC 0.8107869 stab_ATSC with ATSC"
      ]
     },
     "metadata": {},
     "output_type": "display_data"
    }
   ],
   "source": [
    "stab_ATSC"
   ]
  },
  {
   "cell_type": "code",
   "execution_count": 11,
   "id": "bea9fd39-0d44-4295-b25f-e55a4b52ef32",
   "metadata": {},
   "outputs": [],
   "source": [
    "library(scales)\n",
    "\n",
    "# This method makes the range [0,0.6], [0.6,0.75], [0.75, 0.85], [0.85,1] the same size in the Y axis\n",
    "equal_parts_transformation_stability <- trans_new(\n",
    "    name = \"equal_parts\",\n",
    "    transform = function(x) {\n",
    "        ifelse(x <= 0.6, x / 0.6 * 0.25, # Map 0-0.6 to 0-0.25\n",
    "               ifelse(x <= 0.75, 0.25 + (x - 0.6) / 0.15 * 0.25, # Map 0.6-0.75 to 0.25-0.5\n",
    "                      ifelse(x <= 0.85, 0.5 + (x - 0.75) / 0.1 * 0.25, # Map 0.75-0.85 to 0.5-0.75\n",
    "                             0.75 + (x - 0.85) / 0.15 * 0.25))) # Map 0.85-1 to 0.75-1\n",
    "    },\n",
    "    inverse = function(y) {\n",
    "        ifelse(y <= 0.25, y * 0.6 / 0.25, # Map 0-0.25 back to 0-0.6\n",
    "               ifelse(y <= 0.5, 0.6 + (y - 0.25) * 0.15 / 0.25, # Map 0.25-0.5 back to 0.6-0.75\n",
    "                      ifelse(y <= 0.75, 0.75 + (y - 0.5) * 0.1 / 0.25, # Map 0.5-0.75 back to 0.75-0.85\n",
    "                             0.85 + (y - 0.75) * 0.15 / 0.25))) # Map 0.75-1 back to 0.85-1\n",
    "    }\n",
    ")\n",
    "\n",
    "# This method makes the range [-1,0.25], [0.25,0.5], [0.5,0.7],[0.7,1] the same size in the Y axis\n",
    "equal_parts_transformation_quality <- trans_new(\n",
    "    name = \"equal_parts\",\n",
    "    transform = function(x) {\n",
    "        ifelse(x <= 0.25, (x + 1) / 1.25 * 0.25, # Map [-1, 0.25] to [0, 0.25]\n",
    "               ifelse(x <= 0.5, 0.25 + (x - 0.25) / 0.25 * 0.25, # Map [0.25, 0.5] to [0.25, 0.5]\n",
    "                      ifelse(x <= 0.7, 0.5 + (x - 0.5) / 0.2 * 0.25, # Map [0.5, 0.7] to [0.5, 0.75]\n",
    "                             0.75 + (x - 0.7) / 0.3 * 0.25))) # Map [0.7, 1] to [0.75, 1]\n",
    "    },\n",
    "    inverse = function(y) {\n",
    "        ifelse(y <= 0.25, y * 1.25 - 1, # Map [0, 0.25] back to [-1, 0.25]\n",
    "               ifelse(y <= 0.5, 0.25 + (y - 0.25) * 0.25, # Map [0.25, 0.5] back to [0.25, 0.5]\n",
    "                      ifelse(y <= 0.75, 0.5 + (y - 0.5) * 0.2, # Map [0.5, 0.75] back to [0.5, 0.7]\n",
    "                             0.7 + (y - 0.75) * 0.3))) # Map [0.75, 1] back to [0.7, 1]\n",
    "    }\n",
    ")"
   ]
  },
  {
   "cell_type": "code",
   "execution_count": 12,
   "id": "650ec629",
   "metadata": {},
   "outputs": [
    {
     "name": "stderr",
     "output_type": "stream",
     "text": [
      "Warning message:\n",
      "\"\u001b[1m\u001b[22mUsing `size` aesthetic for lines was deprecated in ggplot2 3.4.0.\n",
      "\u001b[36mℹ\u001b[39m Please use `linewidth` instead.\"\n"
     ]
    },
    {
     "data": {
      "image/png": "[encoded data removed]",
      "text/plain": [
       "plot without title"
      ]
     },
     "metadata": {
      "image/png": {
       "height": 720,
       "width": 720
      }
     },
     "output_type": "display_data"
    }
   ],
   "source": [
    "colors <- c(\"#4B4B4B\", \"#1E90FF\", \"black\", \"darkgray\", \"gray\", \"lightgray\", \"white\")\n",
    "\n",
    "\n",
    "p <- ggplot(stab_melt, aes(x = variable, y = value, color = Method, group = Method)) +\n",
    "    geom_point(size = 3) +\n",
    "    geom_line(size = 1.2) +\n",
    "    scale_color_manual(values = colors) +\n",
    "    labs(\n",
    "        title = paste0('Leukemia stability ', cbi, ' - k = [', k.range[1], \",\", k.range[2], ']'),\n",
    "        x = 'k',\n",
    "        y = 'Stability'\n",
    "    ) +\n",
    "    scale_y_continuous(\n",
    "        trans = equal_parts_transformation_stability,\n",
    "        breaks = c(0, 0.6, 0.75, 0.85, 1),\n",
    "        labels = c(\"0\", \"0.6\", \"0.75\", \"0.85\", \"1\")\n",
    "    ) +\n",
    "    theme_minimal() +\n",
    "    theme(\n",
    "        plot.title = element_text(hjust = 0.5, size = 20, face = \"bold\"),\n",
    "        legend.position = \"right\",\n",
    "        legend.title = element_text(size = 18),\n",
    "        legend.text = element_text(size = 16),\n",
    "        axis.title.x = element_text(size = 20),\n",
    "        axis.title.y = element_text(size = 20),\n",
    "        axis.text = element_text(size = 16)\n",
    "    )\n",
    "\n",
    "p + \n",
    "    annotate(\"rect\", xmin = -Inf, xmax = Inf, ymin = 0.85, ymax = 1, alpha = 0.3, fill = \"green\") +\n",
    "    annotate(\"rect\", xmin = -Inf, xmax = Inf, ymin = 0.75, ymax = 0.85, alpha = 0.2, fill = \"green\") +\n",
    "    annotate(\"rect\", xmin = -Inf, xmax = Inf, ymin = 0.6, ymax = 0.75, alpha = 0.1, fill = \"green\") +\n",
    "    annotate(\"rect\", xmin = -Inf, xmax = Inf, ymin = 0, ymax = 0.6, alpha = 0.1, fill = \"white\")\n"
   ]
  },
  {
   "cell_type": "code",
   "execution_count": 13,
   "id": "84ecf61e-68fa-40cc-a0ae-49c944239966",
   "metadata": {},
   "outputs": [
    {
     "data": {
      "image/png": "[encoded data removed]",
      "text/plain": [
       "plot without title"
      ]
     },
     "metadata": {
      "image/png": {
       "height": 720,
       "width": 720
      }
     },
     "output_type": "display_data"
    }
   ],
   "source": [
    "# Stab ATSC\n",
    "p <- ggplot(stab_ATSC_melt, aes(x = variable, y = value, color = Method, group = Method)) +\n",
    "    geom_point(size = 3) +\n",
    "     geom_line(size = 1.2) +\n",
    "  scale_color_manual(values = colors) +\n",
    "  labs(\n",
    "    title = paste0('Leukemia stability ATSC - k = [', k.range[1], \",\", k.range[2], ']'),\n",
    "    x = 'k',\n",
    "    y = 'Stability'\n",
    "  ) +\n",
    "  scale_y_continuous(\n",
    "        trans = equal_parts_transformation_stability,\n",
    "        breaks = c(0, 0.6, 0.75, 0.85, 1),\n",
    "        labels = c(\"0\", \"0.6\", \"0.75\", \"0.85\", \"1\")\n",
    "    ) +\n",
    "  theme_minimal() +\n",
    "  theme(\n",
    "    plot.title = element_text(hjust = 0.5, size = 20, face = \"bold\"),\n",
    "    legend.position = \"right\",\n",
    "    legend.title = element_text(size = 18),\n",
    "    legend.text = element_text(size = 16),\n",
    "    axis.title.x = element_text(size = 20),\n",
    "    axis.title.y = element_text(size = 20),\n",
    "    axis.text = element_text(size = 16)\n",
    "  )\n",
    "\n",
    "p + \n",
    "  annotate(\"rect\", xmin = -Inf, xmax = Inf, ymin = 0.85, ymax = 1, alpha = 0.3, fill = \"green\") +\n",
    "  annotate(\"rect\", xmin = -Inf, xmax = Inf, ymin = 0.75, ymax = 0.85, alpha = 0.2, fill = \"green\") +\n",
    "  annotate(\"rect\", xmin = -Inf, xmax = Inf, ymin = 0.6, ymax = 0.75, alpha = 0.1, fill = \"green\") +\n",
    "  annotate(\"rect\", xmin = -Inf, xmax = Inf, ymin = 0, ymax = 0.6, alpha = 0.1, fill = \"white\")"
   ]
  },
  {
   "cell_type": "code",
   "execution_count": 14,
   "id": "28f5c4b5-307d-4a8f-893b-72fb463b3ee4",
   "metadata": {},
   "outputs": [
    {
     "data": {
      "image/png": "[encoded data removed]",
      "text/plain": [
       "plot without title"
      ]
     },
     "metadata": {
      "image/png": {
       "height": 720,
       "width": 720
      }
     },
     "output_type": "display_data"
    }
   ],
   "source": [
    "all_stab = rbind(stab_ATSC_melt, stab_melt)\n",
    "p <- ggplot(all_stab, aes(x = variable, y = value, color = Method, group = Method)) +\n",
    "    geom_point(size = 3) +\n",
    "     geom_line(size = 1.2) +\n",
    "  scale_color_manual(values = colors) +\n",
    "  labs(\n",
    "    title = expression(bold(\"Leukemia - Automated Trimmed and Sparse Clustering\")),\n",
    "    subtitle = \"Stability analysis across k in [3,10]\",\n",
    "    x = 'k',\n",
    "    y = 'Stability'\n",
    "  ) +\n",
    "  scale_y_continuous(\n",
    "        trans = equal_parts_transformation_stability,\n",
    "        breaks = c(0, 0.6, 0.75, 0.85, 1),\n",
    "        labels = c(\"0\", \"0.6\", \"0.75\", \"0.85\", \"1\")\n",
    "    ) +\n",
    "  scale_x_discrete(labels = function(x) sub(\"k_\", \"\", x)) +\n",
    "  theme_minimal() +\n",
    "  theme(\n",
    "    plot.title = element_text(hjust = 0.5, size = 20, face = \"bold\"),\n",
    "    plot.subtitle = element_text(hjust = 0.5, size = 20, face = \"italic\", color = \"gray40\"),\n",
    "    legend.position = \"right\",\n",
    "    legend.title = element_text(size = 18),\n",
    "    legend.text = element_text(size = 16),\n",
    "    axis.title.x = element_text(size = 20),\n",
    "    axis.title.y = element_text(size = 20),\n",
    "    axis.text = element_text(size = 16)\n",
    "  )\n",
    "\n",
    "p + \n",
    "  annotate(\"rect\", xmin = -Inf, xmax = Inf, ymin = 0.85, ymax = 1, alpha = 0.3, fill = \"green\") +\n",
    "  annotate(\"rect\", xmin = -Inf, xmax = Inf, ymin = 0.75, ymax = 0.85, alpha = 0.2, fill = \"green\") +\n",
    "  annotate(\"rect\", xmin = -Inf, xmax = Inf, ymin = 0.6, ymax = 0.75, alpha = 0.1, fill = \"green\") +\n",
    "  annotate(\"rect\", xmin = -Inf, xmax = Inf, ymin = 0, ymax = 0.6, alpha = 0.1, fill = \"white\")"
   ]
  },
  {
   "cell_type": "markdown",
   "id": "11c054b1",
   "metadata": {},
   "source": [
    "## Quality plotting <a class=\"anchor\" id=\"evaluomeR_qual_plot\"></a>\n",
    "\n",
    "Quality plot"
   ]
  },
  {
   "cell_type": "code",
   "execution_count": 15,
   "id": "7881c7ac",
   "metadata": {},
   "outputs": [],
   "source": [
    "qual = r_atsc$qual\n",
    "rownames(qual) = c(paste0(\"qual_\", cbi))\n",
    "qual$Metric = rownames(qual)\n",
    "qual$Method = \"without ATSC\"\n",
    "qual_melt = melt(qual, id.vars = c(\"Metric\", \"Method\"))\n",
    "\n",
    "qual_ATSC = r_atsc$qual_ATSC\n",
    "rownames(qual_ATSC) = c(paste0(\"qual_\", \"ATSC\"))\n",
    "qual_ATSC$Metric = rownames(qual_ATSC)\n",
    "qual_ATSC$Method = \"with ATSC\"\n",
    "qual_ATSC_melt = melt(qual_ATSC, id.vars = c(\"Metric\", \"Method\"))"
   ]
  },
  {
   "cell_type": "code",
   "execution_count": 16,
   "id": "b442246b",
   "metadata": {},
   "outputs": [
    {
     "data": {
      "image/png": "[encoded data removed]",
      "text/plain": [
       "plot without title"
      ]
     },
     "metadata": {
      "image/png": {
       "height": 720,
       "width": 720
      }
     },
     "output_type": "display_data"
    }
   ],
   "source": [
    "p <- ggplot(qual_melt, aes(x = variable, y = value, color = Method, group = Method)) +\n",
    "     geom_point(size = 3) +\n",
    "     geom_line(size = 1.2) +\n",
    "  scale_color_manual(values = colors) +\n",
    "  labs(\n",
    "    title = paste0('BRCA quality -  k in [', k.range[1], \",\", k.range[2], ']'),\n",
    "    x = 'k',\n",
    "    y = 'Quality'\n",
    "  ) +\n",
    "  scale_y_continuous(\n",
    "        trans = equal_parts_transformation_quality,\n",
    "        breaks = c(-1, 0.25, 0.5, 0.7, 1),\n",
    "        labels = c(\"-1\", \"0.25\", \"0.5\", \"0.7\", \"1\")\n",
    "    ) +\n",
    "  theme_minimal() +\n",
    "  theme(\n",
    "    plot.title = element_text(hjust = 0.5, size = 20, face = \"bold\"),\n",
    "    legend.position = \"right\",\n",
    "    legend.title = element_text(size = 18),\n",
    "    legend.text = element_text(size = 16),\n",
    "    axis.title.x = element_text(size = 20),\n",
    "    axis.title.y = element_text(size = 20),\n",
    "    axis.text = element_text(size = 16)\n",
    "  )\n",
    "\n",
    "p + \n",
    "  annotate(\"rect\", xmin = -Inf, xmax = Inf, ymin = 0.7, ymax = 1, alpha = 0.3, fill = \"green\") +\n",
    "  annotate(\"rect\", xmin = -Inf, xmax = Inf, ymin = 0.5, ymax = 0.7, alpha = 0.2, fill = \"green\") +\n",
    "  annotate(\"rect\", xmin = -Inf, xmax = Inf, ymin = 0.25, ymax = 0.5, alpha = 0.1, fill = \"green\") +\n",
    "  annotate(\"rect\", xmin = -Inf, xmax = Inf, ymin = -1, ymax = 0.25, alpha = 0.1, fill = \"white\")"
   ]
  },
  {
   "cell_type": "code",
   "execution_count": 17,
   "id": "ff1ff2ce-6a96-481f-ba66-07ce95b8b66b",
   "metadata": {},
   "outputs": [
    {
     "data": {
      "image/png": "[encoded data removed]",
      "text/plain": [
       "plot without title"
      ]
     },
     "metadata": {
      "image/png": {
       "height": 720,
       "width": 720
      }
     },
     "output_type": "display_data"
    }
   ],
   "source": [
    "p <- ggplot(qual_ATSC_melt, aes(x = variable, y = value, color = Method, group = Method)) +\n",
    "     geom_point(size = 3) +\n",
    "     geom_line(size = 1.2) +\n",
    "  scale_color_manual(values = colors) +\n",
    "  labs(\n",
    "    title = paste0('BRCA quality -  k in [', k.range[1], \",\", k.range[2], ']'),\n",
    "    x = 'k',\n",
    "    y = 'Quality'\n",
    "  ) +\n",
    "  scale_y_continuous(\n",
    "        trans = equal_parts_transformation_quality,\n",
    "        breaks = c(-1, 0.25, 0.5, 0.7, 1),\n",
    "        labels = c(\"-1\", \"0.25\", \"0.5\", \"0.7\", \"1\")\n",
    "    ) +\n",
    "  theme_minimal() +\n",
    "  theme(\n",
    "    plot.title = element_text(hjust = 0.5, size = 20, face = \"bold\"),\n",
    "    legend.position = \"right\",\n",
    "    legend.title = element_text(size = 18),\n",
    "    legend.text = element_text(size = 16),\n",
    "    axis.title.x = element_text(size = 20),\n",
    "    axis.title.y = element_text(size = 20),\n",
    "    axis.text = element_text(size = 16)\n",
    "  )\n",
    "\n",
    "p + \n",
    "  annotate(\"rect\", xmin = -Inf, xmax = Inf, ymin = 0.7, ymax = 1, alpha = 0.3, fill = \"green\") +\n",
    "  annotate(\"rect\", xmin = -Inf, xmax = Inf, ymin = 0.5, ymax = 0.7, alpha = 0.2, fill = \"green\") +\n",
    "  annotate(\"rect\", xmin = -Inf, xmax = Inf, ymin = 0.25, ymax = 0.5, alpha = 0.1, fill = \"green\") +\n",
    "  annotate(\"rect\", xmin = -Inf, xmax = Inf, ymin = -1, ymax = 0.25, alpha = 0.1, fill = \"white\")"
   ]
  },
  {
   "cell_type": "code",
   "execution_count": 18,
   "id": "41967c3a-0862-4c3d-a0c9-44e6421515d0",
   "metadata": {},
   "outputs": [
    {
     "data": {
      "image/png": "[encoded data removed]",
      "text/plain": [
       "plot without title"
      ]
     },
     "metadata": {
      "image/png": {
       "height": 720,
       "width": 720
      }
     },
     "output_type": "display_data"
    }
   ],
   "source": [
    "all_qual = rbind(qual_ATSC_melt, qual_melt)\n",
    "p <- ggplot(all_qual, aes(x = variable, y = value, color = Method, group = Method)) +\n",
    "     geom_point(size = 3.5) +\n",
    "     geom_line(size = 1.5) +\n",
    "  scale_color_manual(values = colors) +\n",
    "  labs(\n",
    "    title = expression(bold(\"BRCA - Automated Trimmed and Sparse Clustering\")),\n",
    "    subtitle = \"Quality analysis across k in [3,10]\",\n",
    "    x = 'k',\n",
    "    y = 'Quality'\n",
    "  ) +\n",
    "  scale_y_continuous(\n",
    "        trans = equal_parts_transformation_quality,\n",
    "        breaks = c(-1, 0.25, 0.5, 0.7, 1),\n",
    "        labels = c(\"-1\", \"0.25\", \"0.5\", \"0.7\", \"1\")\n",
    "    ) +\n",
    "  scale_x_discrete(labels = function(x) sub(\"k_\", \"\", x)) +\n",
    "  theme_minimal() +\n",
    "  theme(\n",
    "    plot.title = element_text(hjust = 0.5, size = 20, face = \"bold\"),\n",
    "    plot.subtitle = element_text(hjust = 0.5, size = 20, face = \"italic\", color = \"gray40\"),\n",
    "    legend.position = \"right\",\n",
    "    legend.title = element_text(size = 18),\n",
    "    legend.text = element_text(size = 16),\n",
    "    axis.title.x = element_text(size = 20),\n",
    "    axis.title.y = element_text(size = 20),\n",
    "    axis.text = element_text(size = 16)\n",
    "  )\n",
    "\n",
    "p + \n",
    "  annotate(\"rect\", xmin = -Inf, xmax = Inf, ymin = 0.7, ymax = 1, alpha = 0.3, fill = \"green\") +\n",
    "  annotate(\"rect\", xmin = -Inf, xmax = Inf, ymin = 0.5, ymax = 0.7, alpha = 0.2, fill = \"green\") +\n",
    "  annotate(\"rect\", xmin = -Inf, xmax = Inf, ymin = 0.25, ymax = 0.5, alpha = 0.1, fill = \"green\") +\n",
    "  annotate(\"rect\", xmin = -Inf, xmax = Inf, ymin = -1, ymax = 0.25, alpha = 0.1, fill = \"white\")"
   ]
  },
  {
   "cell_type": "markdown",
   "id": "3d3cef07",
   "metadata": {},
   "source": [
    "Determining the optimal $k$ given the stabilities and qualities in `stab_range` and `qual_range` objects:"
   ]
  },
  {
   "cell_type": "code",
   "execution_count": 19,
   "id": "ec99c5e5",
   "metadata": {},
   "outputs": [
    {
     "name": "stdout",
     "output_type": "stream",
     "text": [
      "[1] \"Stabilities and qualities per k with 'clara' as clustering method\"\n"
     ]
    },
    {
     "data": {
      "text/html": [
       "<table class=\"dataframe\">\n",
       "<caption>A data.frame: 1 × 10</caption>\n",
       "<thead>\n",
       "\t<tr><th></th><th scope=col>k_3</th><th scope=col>k_4</th><th scope=col>k_5</th><th scope=col>k_6</th><th scope=col>k_7</th><th scope=col>k_8</th><th scope=col>k_9</th><th scope=col>k_10</th><th scope=col>Metric</th><th scope=col>Method</th></tr>\n",
       "\t<tr><th></th><th scope=col>&lt;dbl&gt;</th><th scope=col>&lt;dbl&gt;</th><th scope=col>&lt;dbl&gt;</th><th scope=col>&lt;dbl&gt;</th><th scope=col>&lt;dbl&gt;</th><th scope=col>&lt;dbl&gt;</th><th scope=col>&lt;dbl&gt;</th><th scope=col>&lt;dbl&gt;</th><th scope=col>&lt;chr&gt;</th><th scope=col>&lt;chr&gt;</th></tr>\n",
       "</thead>\n",
       "<tbody>\n",
       "\t<tr><th scope=row>stab_clara</th><td>0.8735632</td><td>0.8983201</td><td>0.8843207</td><td>0.8101975</td><td>0.8536693</td><td>0.81285</td><td>0.8006189</td><td>0.8047451</td><td>stab_clara</td><td>without ATSC</td></tr>\n",
       "</tbody>\n",
       "</table>\n"
      ],
      "text/latex": [
       "A data.frame: 1 × 10\n",
       "\\begin{tabular}{r|llllllllll}\n",
       "  & k\\_3 & k\\_4 & k\\_5 & k\\_6 & k\\_7 & k\\_8 & k\\_9 & k\\_10 & Metric & Method\\\\\n",
       "  & <dbl> & <dbl> & <dbl> & <dbl> & <dbl> & <dbl> & <dbl> & <dbl> & <chr> & <chr>\\\\\n",
       "\\hline\n",
       "\tstab\\_clara & 0.8735632 & 0.8983201 & 0.8843207 & 0.8101975 & 0.8536693 & 0.81285 & 0.8006189 & 0.8047451 & stab\\_clara & without ATSC\\\\\n",
       "\\end{tabular}\n"
      ],
      "text/markdown": [
       "\n",
       "A data.frame: 1 × 10\n",
       "\n",
       "| <!--/--> | k_3 &lt;dbl&gt; | k_4 &lt;dbl&gt; | k_5 &lt;dbl&gt; | k_6 &lt;dbl&gt; | k_7 &lt;dbl&gt; | k_8 &lt;dbl&gt; | k_9 &lt;dbl&gt; | k_10 &lt;dbl&gt; | Metric &lt;chr&gt; | Method &lt;chr&gt; |\n",
       "|---|---|---|---|---|---|---|---|---|---|---|\n",
       "| stab_clara | 0.8735632 | 0.8983201 | 0.8843207 | 0.8101975 | 0.8536693 | 0.81285 | 0.8006189 | 0.8047451 | stab_clara | without ATSC |\n",
       "\n"
      ],
      "text/plain": [
       "           k_3       k_4       k_5       k_6       k_7       k_8     k_9      \n",
       "stab_clara 0.8735632 0.8983201 0.8843207 0.8101975 0.8536693 0.81285 0.8006189\n",
       "           k_10      Metric     Method      \n",
       "stab_clara 0.8047451 stab_clara without ATSC"
      ]
     },
     "metadata": {},
     "output_type": "display_data"
    },
    {
     "data": {
      "text/html": [
       "<table class=\"dataframe\">\n",
       "<caption>A data.frame: 1 × 10</caption>\n",
       "<thead>\n",
       "\t<tr><th></th><th scope=col>k_3</th><th scope=col>k_4</th><th scope=col>k_5</th><th scope=col>k_6</th><th scope=col>k_7</th><th scope=col>k_8</th><th scope=col>k_9</th><th scope=col>k_10</th><th scope=col>Metric</th><th scope=col>Method</th></tr>\n",
       "\t<tr><th></th><th scope=col>&lt;dbl&gt;</th><th scope=col>&lt;dbl&gt;</th><th scope=col>&lt;dbl&gt;</th><th scope=col>&lt;dbl&gt;</th><th scope=col>&lt;dbl&gt;</th><th scope=col>&lt;dbl&gt;</th><th scope=col>&lt;dbl&gt;</th><th scope=col>&lt;dbl&gt;</th><th scope=col>&lt;chr&gt;</th><th scope=col>&lt;chr&gt;</th></tr>\n",
       "</thead>\n",
       "<tbody>\n",
       "\t<tr><th scope=row>qual_clara</th><td>0.2782552</td><td>0.2199162</td><td>0.2073369</td><td>0.1384401</td><td>0.1945242</td><td>0.1387558</td><td>0.1384966</td><td>0.1419913</td><td>qual_clara</td><td>without ATSC</td></tr>\n",
       "</tbody>\n",
       "</table>\n"
      ],
      "text/latex": [
       "A data.frame: 1 × 10\n",
       "\\begin{tabular}{r|llllllllll}\n",
       "  & k\\_3 & k\\_4 & k\\_5 & k\\_6 & k\\_7 & k\\_8 & k\\_9 & k\\_10 & Metric & Method\\\\\n",
       "  & <dbl> & <dbl> & <dbl> & <dbl> & <dbl> & <dbl> & <dbl> & <dbl> & <chr> & <chr>\\\\\n",
       "\\hline\n",
       "\tqual\\_clara & 0.2782552 & 0.2199162 & 0.2073369 & 0.1384401 & 0.1945242 & 0.1387558 & 0.1384966 & 0.1419913 & qual\\_clara & without ATSC\\\\\n",
       "\\end{tabular}\n"
      ],
      "text/markdown": [
       "\n",
       "A data.frame: 1 × 10\n",
       "\n",
       "| <!--/--> | k_3 &lt;dbl&gt; | k_4 &lt;dbl&gt; | k_5 &lt;dbl&gt; | k_6 &lt;dbl&gt; | k_7 &lt;dbl&gt; | k_8 &lt;dbl&gt; | k_9 &lt;dbl&gt; | k_10 &lt;dbl&gt; | Metric &lt;chr&gt; | Method &lt;chr&gt; |\n",
       "|---|---|---|---|---|---|---|---|---|---|---|\n",
       "| qual_clara | 0.2782552 | 0.2199162 | 0.2073369 | 0.1384401 | 0.1945242 | 0.1387558 | 0.1384966 | 0.1419913 | qual_clara | without ATSC |\n",
       "\n"
      ],
      "text/plain": [
       "           k_3       k_4       k_5       k_6       k_7       k_8      \n",
       "qual_clara 0.2782552 0.2199162 0.2073369 0.1384401 0.1945242 0.1387558\n",
       "           k_9       k_10      Metric     Method      \n",
       "qual_clara 0.1384966 0.1419913 qual_clara without ATSC"
      ]
     },
     "metadata": {},
     "output_type": "display_data"
    },
    {
     "name": "stdout",
     "output_type": "stream",
     "text": [
      "[1] \"Stabily in k=3: 0.873563218390805\"\n",
      "[1] \"Quality in k=3: 0.278255179072457\"\n"
     ]
    }
   ],
   "source": [
    "print(paste0(\"Stabilities and qualities per k with '\", cbi, \"' as clustering method\"))\n",
    "stab\n",
    "qual\n",
    "print(paste0(\"Stabily in k=\", r_atsc$optimalK,\": \", stab[paste0(\"k_\",r_atsc$optimalK)]))\n",
    "print(paste0(\"Quality in k=\", r_atsc$optimalK,\": \", qual[paste0(\"k_\",r_atsc$optimalK)]))"
   ]
  },
  {
   "cell_type": "code",
   "execution_count": 20,
   "id": "4e51e9b3-9085-4a0b-a5d0-fb842f1f0a62",
   "metadata": {},
   "outputs": [
    {
     "name": "stdout",
     "output_type": "stream",
     "text": [
      "[1] \"Stabilities and qualities per k with 'ATSC' as clustering method\"\n"
     ]
    },
    {
     "data": {
      "text/html": [
       "<table class=\"dataframe\">\n",
       "<caption>A data.frame: 1 × 10</caption>\n",
       "<thead>\n",
       "\t<tr><th></th><th scope=col>k_3</th><th scope=col>k_4</th><th scope=col>k_5</th><th scope=col>k_6</th><th scope=col>k_7</th><th scope=col>k_8</th><th scope=col>k_9</th><th scope=col>k_10</th><th scope=col>Metric</th><th scope=col>Method</th></tr>\n",
       "\t<tr><th></th><th scope=col>&lt;dbl&gt;</th><th scope=col>&lt;dbl&gt;</th><th scope=col>&lt;dbl&gt;</th><th scope=col>&lt;dbl&gt;</th><th scope=col>&lt;dbl&gt;</th><th scope=col>&lt;dbl&gt;</th><th scope=col>&lt;dbl&gt;</th><th scope=col>&lt;dbl&gt;</th><th scope=col>&lt;chr&gt;</th><th scope=col>&lt;chr&gt;</th></tr>\n",
       "</thead>\n",
       "<tbody>\n",
       "\t<tr><th scope=row>stab_ATSC</th><td>0.8878574</td><td>0.90112</td><td>0.9199823</td><td>0.9053935</td><td>0.8244916</td><td>0.8124079</td><td>0.7989979</td><td>0.8107869</td><td>stab_ATSC</td><td>with ATSC</td></tr>\n",
       "</tbody>\n",
       "</table>\n"
      ],
      "text/latex": [
       "A data.frame: 1 × 10\n",
       "\\begin{tabular}{r|llllllllll}\n",
       "  & k\\_3 & k\\_4 & k\\_5 & k\\_6 & k\\_7 & k\\_8 & k\\_9 & k\\_10 & Metric & Method\\\\\n",
       "  & <dbl> & <dbl> & <dbl> & <dbl> & <dbl> & <dbl> & <dbl> & <dbl> & <chr> & <chr>\\\\\n",
       "\\hline\n",
       "\tstab\\_ATSC & 0.8878574 & 0.90112 & 0.9199823 & 0.9053935 & 0.8244916 & 0.8124079 & 0.7989979 & 0.8107869 & stab\\_ATSC & with ATSC\\\\\n",
       "\\end{tabular}\n"
      ],
      "text/markdown": [
       "\n",
       "A data.frame: 1 × 10\n",
       "\n",
       "| <!--/--> | k_3 &lt;dbl&gt; | k_4 &lt;dbl&gt; | k_5 &lt;dbl&gt; | k_6 &lt;dbl&gt; | k_7 &lt;dbl&gt; | k_8 &lt;dbl&gt; | k_9 &lt;dbl&gt; | k_10 &lt;dbl&gt; | Metric &lt;chr&gt; | Method &lt;chr&gt; |\n",
       "|---|---|---|---|---|---|---|---|---|---|---|\n",
       "| stab_ATSC | 0.8878574 | 0.90112 | 0.9199823 | 0.9053935 | 0.8244916 | 0.8124079 | 0.7989979 | 0.8107869 | stab_ATSC | with ATSC |\n",
       "\n"
      ],
      "text/plain": [
       "          k_3       k_4     k_5       k_6       k_7       k_8       k_9      \n",
       "stab_ATSC 0.8878574 0.90112 0.9199823 0.9053935 0.8244916 0.8124079 0.7989979\n",
       "          k_10      Metric    Method   \n",
       "stab_ATSC 0.8107869 stab_ATSC with ATSC"
      ]
     },
     "metadata": {},
     "output_type": "display_data"
    },
    {
     "data": {
      "text/html": [
       "<table class=\"dataframe\">\n",
       "<caption>A data.frame: 1 × 10</caption>\n",
       "<thead>\n",
       "\t<tr><th></th><th scope=col>k_3</th><th scope=col>k_4</th><th scope=col>k_5</th><th scope=col>k_6</th><th scope=col>k_7</th><th scope=col>k_8</th><th scope=col>k_9</th><th scope=col>k_10</th><th scope=col>Metric</th><th scope=col>Method</th></tr>\n",
       "\t<tr><th></th><th scope=col>&lt;dbl&gt;</th><th scope=col>&lt;dbl&gt;</th><th scope=col>&lt;dbl&gt;</th><th scope=col>&lt;dbl&gt;</th><th scope=col>&lt;dbl&gt;</th><th scope=col>&lt;dbl&gt;</th><th scope=col>&lt;dbl&gt;</th><th scope=col>&lt;dbl&gt;</th><th scope=col>&lt;chr&gt;</th><th scope=col>&lt;chr&gt;</th></tr>\n",
       "</thead>\n",
       "<tbody>\n",
       "\t<tr><th scope=row>qual_ATSC</th><td>0.3197174</td><td>0.2580411</td><td>0.250003</td><td>0.2319266</td><td>0.153728</td><td>0.1384164</td><td>0.1278983</td><td>0.1381249</td><td>qual_ATSC</td><td>with ATSC</td></tr>\n",
       "</tbody>\n",
       "</table>\n"
      ],
      "text/latex": [
       "A data.frame: 1 × 10\n",
       "\\begin{tabular}{r|llllllllll}\n",
       "  & k\\_3 & k\\_4 & k\\_5 & k\\_6 & k\\_7 & k\\_8 & k\\_9 & k\\_10 & Metric & Method\\\\\n",
       "  & <dbl> & <dbl> & <dbl> & <dbl> & <dbl> & <dbl> & <dbl> & <dbl> & <chr> & <chr>\\\\\n",
       "\\hline\n",
       "\tqual\\_ATSC & 0.3197174 & 0.2580411 & 0.250003 & 0.2319266 & 0.153728 & 0.1384164 & 0.1278983 & 0.1381249 & qual\\_ATSC & with ATSC\\\\\n",
       "\\end{tabular}\n"
      ],
      "text/markdown": [
       "\n",
       "A data.frame: 1 × 10\n",
       "\n",
       "| <!--/--> | k_3 &lt;dbl&gt; | k_4 &lt;dbl&gt; | k_5 &lt;dbl&gt; | k_6 &lt;dbl&gt; | k_7 &lt;dbl&gt; | k_8 &lt;dbl&gt; | k_9 &lt;dbl&gt; | k_10 &lt;dbl&gt; | Metric &lt;chr&gt; | Method &lt;chr&gt; |\n",
       "|---|---|---|---|---|---|---|---|---|---|---|\n",
       "| qual_ATSC | 0.3197174 | 0.2580411 | 0.250003 | 0.2319266 | 0.153728 | 0.1384164 | 0.1278983 | 0.1381249 | qual_ATSC | with ATSC |\n",
       "\n"
      ],
      "text/plain": [
       "          k_3       k_4       k_5      k_6       k_7      k_8       k_9      \n",
       "qual_ATSC 0.3197174 0.2580411 0.250003 0.2319266 0.153728 0.1384164 0.1278983\n",
       "          k_10      Metric    Method   \n",
       "qual_ATSC 0.1381249 qual_ATSC with ATSC"
      ]
     },
     "metadata": {},
     "output_type": "display_data"
    },
    {
     "name": "stdout",
     "output_type": "stream",
     "text": [
      "[1] \"Stabily in k=3: 0.887857353374595\"\n",
      "[1] \"Quality in k=3: 0.319717429469308\"\n"
     ]
    }
   ],
   "source": [
    "print(paste0(\"Stabilities and qualities per k with 'ATSC' as clustering method\"))\n",
    "stab_ATSC\n",
    "qual_ATSC\n",
    "print(paste0(\"Stabily in k=\", r_atsc$optimalK_ATSC,\": \", stab_ATSC[paste0(\"k_\",r_atsc$optimalK_ATSC)]))\n",
    "print(paste0(\"Quality in k=\", r_atsc$optimalK_ATSC,\": \", qual_ATSC[paste0(\"k_\",r_atsc$optimalK_ATSC)]))"
   ]
  },
  {
   "cell_type": "markdown",
   "id": "e1dd0c73",
   "metadata": {},
   "source": [
    "# Clusters"
   ]
  },
  {
   "cell_type": "code",
   "execution_count": 21,
   "id": "afc1d7d4",
   "metadata": {},
   "outputs": [],
   "source": [
    "# Internal method used to group individuals per cluster\n",
    "individuals_per_cluster = function(qualityResult) {\n",
    "    \n",
    "  qual_df = as.data.frame(assay(qualityResult))\n",
    "    \n",
    "\n",
    "  cluster_pos_str = as.character(unlist(qual_df[\"Cluster_position\"]))\n",
    "  cluster_labels_str = as.character(unlist(qual_df[\"Cluster_labels\"]))\n",
    "\n",
    "  cluster_pos = as.list(strsplit(cluster_pos_str, \",\")[[1]])\n",
    "  cluster_labels = as.list(strsplit(cluster_labels_str, \",\")[[1]])\n",
    "\n",
    "  individuals_in_cluster = as.data.frame(cbind(cluster_labels, cluster_pos))\n",
    "  colnames(individuals_in_cluster) = c(\"Individual\", \"Cluster\")\n",
    "\n",
    "  return(individuals_in_cluster)\n",
    "}"
   ]
  },
  {
   "cell_type": "code",
   "execution_count": 22,
   "id": "fd0297d5",
   "metadata": {},
   "outputs": [
    {
     "name": "stderr",
     "output_type": "stream",
     "text": [
      "\n",
      "\n",
      "Data loaded.\n",
      "Number of rows: 117\n",
      "Number of columns: 181\n",
      "\n",
      "\n",
      "\n",
      "Processing all metrics, 'merge', in dataframe (180)\n",
      "\n",
      "\tCalculation of k = 3\n",
      "\n",
      "\tCalculation of k = 4\n",
      "\n",
      "\tCalculation of k = 5\n",
      "\n",
      "\tCalculation of k = 6\n",
      "\n",
      "\tCalculation of k = 7\n",
      "\n",
      "\tCalculation of k = 8\n",
      "\n",
      "\tCalculation of k = 9\n",
      "\n",
      "\tCalculation of k = 10\n",
      "\n"
     ]
    },
    {
     "name": "stdout",
     "output_type": "stream",
     "text": [
      "[1] \"CBI: clara - k: 3\"\n",
      "[1] \"Cluster 1 : ependymoma,ependymoma,ependymoma,ependymoma,ependymoma,ependymoma,ependymoma,ependymoma,ependymoma,ependymoma,ependymoma,ependymoma,ependymoma,ependymoma,ependymoma,ependymoma,ependymoma,ependymoma,ependymoma,ependymoma,ependymoma,ependymoma,ependymoma,ependymoma,ependymoma,ependymoma,ependymoma,ependymoma,ependymoma,ependymoma,ependymoma,ependymoma,ependymoma,ependymoma,ependymoma,ependymoma,ependymoma,ependymoma,ependymoma,ependymoma,ependymoma,ependymoma,ependymoma\"\n",
      "[1] \"\"\n",
      "[1] \"Cluster 2 : ependymoma,medulloblastoma,medulloblastoma,medulloblastoma,medulloblastoma,medulloblastoma,medulloblastoma,medulloblastoma,medulloblastoma,medulloblastoma,medulloblastoma,medulloblastoma,medulloblastoma,medulloblastoma,medulloblastoma,medulloblastoma,medulloblastoma,medulloblastoma,medulloblastoma,medulloblastoma,medulloblastoma,medulloblastoma,medulloblastoma\"\n",
      "[1] \"\"\n",
      "[1] \"Cluster 3 : ependymoma,ependymoma,glioblastoma,glioblastoma,glioblastoma,glioblastoma,glioblastoma,glioblastoma,glioblastoma,glioblastoma,glioblastoma,glioblastoma,glioblastoma,glioblastoma,glioblastoma,glioblastoma,glioblastoma,glioblastoma,glioblastoma,glioblastoma,glioblastoma,glioblastoma,glioblastoma,glioblastoma,glioblastoma,glioblastoma,glioblastoma,glioblastoma,glioblastoma,glioblastoma,glioblastoma,glioblastoma,glioblastoma,glioblastoma,glioblastoma,glioblastoma,pilocytic astrocytoma,pilocytic astrocytoma,pilocytic astrocytoma,pilocytic astrocytoma,pilocytic astrocytoma,pilocytic astrocytoma,pilocytic astrocytoma,pilocytic astrocytoma,pilocytic astrocytoma,pilocytic astrocytoma,pilocytic astrocytoma,pilocytic astrocytoma,pilocytic astrocytoma,pilocytic astrocytoma,pilocytic astrocytoma\"\n",
      "[1] \"\"\n"
     ]
    }
   ],
   "source": [
    "dataset = r_atsc$trimmmedDataset\n",
    "qual_range = qualityRange(data=dataset, k.range=k.range, \n",
    "                            all_metrics=TRUE, seed=seed,\n",
    "                            cbi=cbi)\n",
    "optimal_k = r_atsc$optimalK_ATSC\n",
    "cluster_individuals = individuals_per_cluster(assay(qual_range[paste0(\"k_\",optimal_k)]))\n",
    "print(paste0(\"CBI: \", cbi, \" - k: \", optimal_k))\n",
    "for (cluster_i in 1:optimal_k) {\n",
    "    ind_in_cluster = paste(unlist(cluster_individuals[cluster_individuals$Cluster == cluster_i, ][\"Individual\"]), collapse = \",\")\n",
    "    print(paste(\"Cluster\", cluster_i, \":\", ind_in_cluster))\n",
    "    print(\"\")\n",
    "}"
   ]
  },
  {
   "cell_type": "markdown",
   "id": "884dc7ff",
   "metadata": {},
   "source": [
    "# PCA <a class=\"anchor\" id=\"pca\"></a>\n",
    "We employ Principal Component Analysis (PCA) as a dimensionality reduction technique to facilitate the visualization of clusters within our dataset. PCA allow us to transform the original high-dimensional data into a lower-dimensional space, while preserving as much of the variability as possible."
   ]
  },
  {
   "cell_type": "code",
   "execution_count": 23,
   "id": "e5482b73",
   "metadata": {},
   "outputs": [
    {
     "name": "stderr",
     "output_type": "stream",
     "text": [
      "Parameter 'npc' is null. Computing number of factors automatically:\n",
      "\n",
      "Number of factors, 'ncp' used is: 23\n",
      "\n"
     ]
    },
    {
     "data": {
      "text/html": [
       "<table class=\"dataframe\">\n",
       "<caption>A data.frame: 6 × 25</caption>\n",
       "<thead>\n",
       "\t<tr><th></th><th scope=col>Description</th><th scope=col>Dim.1</th><th scope=col>Dim.2</th><th scope=col>Dim.3</th><th scope=col>Dim.4</th><th scope=col>Dim.5</th><th scope=col>Dim.6</th><th scope=col>Dim.7</th><th scope=col>Dim.8</th><th scope=col>Dim.9</th><th scope=col>⋯</th><th scope=col>Dim.15</th><th scope=col>Dim.16</th><th scope=col>Dim.17</th><th scope=col>Dim.18</th><th scope=col>Dim.19</th><th scope=col>Dim.20</th><th scope=col>Dim.21</th><th scope=col>Dim.22</th><th scope=col>Dim.23</th><th scope=col>Cluster</th></tr>\n",
       "\t<tr><th></th><th scope=col>&lt;chr&gt;</th><th scope=col>&lt;dbl&gt;</th><th scope=col>&lt;dbl&gt;</th><th scope=col>&lt;dbl&gt;</th><th scope=col>&lt;dbl&gt;</th><th scope=col>&lt;dbl&gt;</th><th scope=col>&lt;dbl&gt;</th><th scope=col>&lt;dbl&gt;</th><th scope=col>&lt;dbl&gt;</th><th scope=col>&lt;dbl&gt;</th><th scope=col>⋯</th><th scope=col>&lt;dbl&gt;</th><th scope=col>&lt;dbl&gt;</th><th scope=col>&lt;dbl&gt;</th><th scope=col>&lt;dbl&gt;</th><th scope=col>&lt;dbl&gt;</th><th scope=col>&lt;dbl&gt;</th><th scope=col>&lt;dbl&gt;</th><th scope=col>&lt;dbl&gt;</th><th scope=col>&lt;dbl&gt;</th><th scope=col>&lt;fct&gt;</th></tr>\n",
       "</thead>\n",
       "<tbody>\n",
       "\t<tr><th scope=row>GSM1214834</th><td>ependymoma</td><td>12.547988</td><td>-1.4378131</td><td> 0.7243437</td><td>-0.1891677</td><td>-0.5052192</td><td> 0.9444034</td><td>-2.9243337</td><td> 1.6490419</td><td> 1.0733370</td><td>⋯</td><td> 0.4254984</td><td>-0.3081818</td><td> 1.0214624</td><td>-0.01714264</td><td>-1.4052560</td><td>-0.30367190</td><td>-2.0482487</td><td> 0.7378872</td><td> 0.1173696162</td><td>1</td></tr>\n",
       "\t<tr><th scope=row>GSM1214835</th><td>ependymoma</td><td> 4.356870</td><td>-3.4211992</td><td>-4.1722892</td><td> 3.9683543</td><td>-3.0205157</td><td>-0.5997808</td><td> 2.9576657</td><td>-4.0388747</td><td>-1.1327464</td><td>⋯</td><td>-1.1336631</td><td>-2.1862148</td><td>-0.8810149</td><td>-0.19778438</td><td>-0.3393067</td><td>-0.48995291</td><td> 1.8827187</td><td> 0.2791500</td><td>-0.0081625336</td><td>1</td></tr>\n",
       "\t<tr><th scope=row>GSM1214836</th><td>ependymoma</td><td> 7.144168</td><td> 1.9796942</td><td> 1.4462751</td><td>-1.3633224</td><td> 1.9984271</td><td> 0.1533592</td><td> 1.1949379</td><td>-0.9565159</td><td>-1.9720567</td><td>⋯</td><td>-0.2419832</td><td>-1.0232976</td><td> 1.1540079</td><td>-1.21880182</td><td> 0.8482270</td><td> 0.08852238</td><td>-0.7435900</td><td>-2.3889087</td><td>-1.5699002486</td><td>1</td></tr>\n",
       "\t<tr><th scope=row>GSM1214837</th><td>ependymoma</td><td> 7.767453</td><td>-1.6188654</td><td>-2.3446853</td><td> 5.0242563</td><td>-0.9617922</td><td> 0.9330567</td><td>-2.6673487</td><td> 2.5564267</td><td> 1.6414274</td><td>⋯</td><td>-1.5813262</td><td> 0.8446098</td><td>-2.2968399</td><td> 2.51067224</td><td>-1.3507823</td><td>-0.53653076</td><td> 1.4198929</td><td>-1.7503586</td><td> 0.0003569896</td><td>1</td></tr>\n",
       "\t<tr><th scope=row>GSM1214838</th><td>ependymoma</td><td> 8.781031</td><td>-0.7922226</td><td>-0.9812215</td><td>-1.1457993</td><td> 1.9781918</td><td> 3.0983794</td><td>-0.9612884</td><td> 2.9790711</td><td> 0.6011522</td><td>⋯</td><td> 1.1586184</td><td>-1.8396836</td><td> 0.8588423</td><td>-1.27178697</td><td> 0.5525465</td><td> 1.51446841</td><td> 0.7790238</td><td>-0.9388822</td><td>-1.2810058905</td><td>1</td></tr>\n",
       "\t<tr><th scope=row>GSM1214839</th><td>ependymoma</td><td>11.855954</td><td>-0.3868543</td><td> 2.0071073</td><td>-0.2821163</td><td>-1.2061857</td><td> 2.4458681</td><td>-1.3770878</td><td> 1.7736954</td><td>-0.4774851</td><td>⋯</td><td>-0.3494883</td><td>-1.0183649</td><td>-0.2512741</td><td>-0.98731859</td><td> 0.7642648</td><td>-0.37502393</td><td>-0.5113557</td><td> 1.9719688</td><td>-0.2996524931</td><td>1</td></tr>\n",
       "</tbody>\n",
       "</table>\n"
      ],
      "text/latex": [
       "A data.frame: 6 × 25\n",
       "\\begin{tabular}{r|lllllllllllllllllllll}\n",
       "  & Description & Dim.1 & Dim.2 & Dim.3 & Dim.4 & Dim.5 & Dim.6 & Dim.7 & Dim.8 & Dim.9 & ⋯ & Dim.15 & Dim.16 & Dim.17 & Dim.18 & Dim.19 & Dim.20 & Dim.21 & Dim.22 & Dim.23 & Cluster\\\\\n",
       "  & <chr> & <dbl> & <dbl> & <dbl> & <dbl> & <dbl> & <dbl> & <dbl> & <dbl> & <dbl> & ⋯ & <dbl> & <dbl> & <dbl> & <dbl> & <dbl> & <dbl> & <dbl> & <dbl> & <dbl> & <fct>\\\\\n",
       "\\hline\n",
       "\tGSM1214834 & ependymoma & 12.547988 & -1.4378131 &  0.7243437 & -0.1891677 & -0.5052192 &  0.9444034 & -2.9243337 &  1.6490419 &  1.0733370 & ⋯ &  0.4254984 & -0.3081818 &  1.0214624 & -0.01714264 & -1.4052560 & -0.30367190 & -2.0482487 &  0.7378872 &  0.1173696162 & 1\\\\\n",
       "\tGSM1214835 & ependymoma &  4.356870 & -3.4211992 & -4.1722892 &  3.9683543 & -3.0205157 & -0.5997808 &  2.9576657 & -4.0388747 & -1.1327464 & ⋯ & -1.1336631 & -2.1862148 & -0.8810149 & -0.19778438 & -0.3393067 & -0.48995291 &  1.8827187 &  0.2791500 & -0.0081625336 & 1\\\\\n",
       "\tGSM1214836 & ependymoma &  7.144168 &  1.9796942 &  1.4462751 & -1.3633224 &  1.9984271 &  0.1533592 &  1.1949379 & -0.9565159 & -1.9720567 & ⋯ & -0.2419832 & -1.0232976 &  1.1540079 & -1.21880182 &  0.8482270 &  0.08852238 & -0.7435900 & -2.3889087 & -1.5699002486 & 1\\\\\n",
       "\tGSM1214837 & ependymoma &  7.767453 & -1.6188654 & -2.3446853 &  5.0242563 & -0.9617922 &  0.9330567 & -2.6673487 &  2.5564267 &  1.6414274 & ⋯ & -1.5813262 &  0.8446098 & -2.2968399 &  2.51067224 & -1.3507823 & -0.53653076 &  1.4198929 & -1.7503586 &  0.0003569896 & 1\\\\\n",
       "\tGSM1214838 & ependymoma &  8.781031 & -0.7922226 & -0.9812215 & -1.1457993 &  1.9781918 &  3.0983794 & -0.9612884 &  2.9790711 &  0.6011522 & ⋯ &  1.1586184 & -1.8396836 &  0.8588423 & -1.27178697 &  0.5525465 &  1.51446841 &  0.7790238 & -0.9388822 & -1.2810058905 & 1\\\\\n",
       "\tGSM1214839 & ependymoma & 11.855954 & -0.3868543 &  2.0071073 & -0.2821163 & -1.2061857 &  2.4458681 & -1.3770878 &  1.7736954 & -0.4774851 & ⋯ & -0.3494883 & -1.0183649 & -0.2512741 & -0.98731859 &  0.7642648 & -0.37502393 & -0.5113557 &  1.9719688 & -0.2996524931 & 1\\\\\n",
       "\\end{tabular}\n"
      ],
      "text/markdown": [
       "\n",
       "A data.frame: 6 × 25\n",
       "\n",
       "| <!--/--> | Description &lt;chr&gt; | Dim.1 &lt;dbl&gt; | Dim.2 &lt;dbl&gt; | Dim.3 &lt;dbl&gt; | Dim.4 &lt;dbl&gt; | Dim.5 &lt;dbl&gt; | Dim.6 &lt;dbl&gt; | Dim.7 &lt;dbl&gt; | Dim.8 &lt;dbl&gt; | Dim.9 &lt;dbl&gt; | ⋯ ⋯ | Dim.15 &lt;dbl&gt; | Dim.16 &lt;dbl&gt; | Dim.17 &lt;dbl&gt; | Dim.18 &lt;dbl&gt; | Dim.19 &lt;dbl&gt; | Dim.20 &lt;dbl&gt; | Dim.21 &lt;dbl&gt; | Dim.22 &lt;dbl&gt; | Dim.23 &lt;dbl&gt; | Cluster &lt;fct&gt; |\n",
       "|---|---|---|---|---|---|---|---|---|---|---|---|---|---|---|---|---|---|---|---|---|---|\n",
       "| GSM1214834 | ependymoma | 12.547988 | -1.4378131 |  0.7243437 | -0.1891677 | -0.5052192 |  0.9444034 | -2.9243337 |  1.6490419 |  1.0733370 | ⋯ |  0.4254984 | -0.3081818 |  1.0214624 | -0.01714264 | -1.4052560 | -0.30367190 | -2.0482487 |  0.7378872 |  0.1173696162 | 1 |\n",
       "| GSM1214835 | ependymoma |  4.356870 | -3.4211992 | -4.1722892 |  3.9683543 | -3.0205157 | -0.5997808 |  2.9576657 | -4.0388747 | -1.1327464 | ⋯ | -1.1336631 | -2.1862148 | -0.8810149 | -0.19778438 | -0.3393067 | -0.48995291 |  1.8827187 |  0.2791500 | -0.0081625336 | 1 |\n",
       "| GSM1214836 | ependymoma |  7.144168 |  1.9796942 |  1.4462751 | -1.3633224 |  1.9984271 |  0.1533592 |  1.1949379 | -0.9565159 | -1.9720567 | ⋯ | -0.2419832 | -1.0232976 |  1.1540079 | -1.21880182 |  0.8482270 |  0.08852238 | -0.7435900 | -2.3889087 | -1.5699002486 | 1 |\n",
       "| GSM1214837 | ependymoma |  7.767453 | -1.6188654 | -2.3446853 |  5.0242563 | -0.9617922 |  0.9330567 | -2.6673487 |  2.5564267 |  1.6414274 | ⋯ | -1.5813262 |  0.8446098 | -2.2968399 |  2.51067224 | -1.3507823 | -0.53653076 |  1.4198929 | -1.7503586 |  0.0003569896 | 1 |\n",
       "| GSM1214838 | ependymoma |  8.781031 | -0.7922226 | -0.9812215 | -1.1457993 |  1.9781918 |  3.0983794 | -0.9612884 |  2.9790711 |  0.6011522 | ⋯ |  1.1586184 | -1.8396836 |  0.8588423 | -1.27178697 |  0.5525465 |  1.51446841 |  0.7790238 | -0.9388822 | -1.2810058905 | 1 |\n",
       "| GSM1214839 | ependymoma | 11.855954 | -0.3868543 |  2.0071073 | -0.2821163 | -1.2061857 |  2.4458681 | -1.3770878 |  1.7736954 | -0.4774851 | ⋯ | -0.3494883 | -1.0183649 | -0.2512741 | -0.98731859 |  0.7642648 | -0.37502393 | -0.5113557 |  1.9719688 | -0.2996524931 | 1 |\n",
       "\n"
      ],
      "text/plain": [
       "           Description Dim.1     Dim.2      Dim.3      Dim.4      Dim.5     \n",
       "GSM1214834 ependymoma  12.547988 -1.4378131  0.7243437 -0.1891677 -0.5052192\n",
       "GSM1214835 ependymoma   4.356870 -3.4211992 -4.1722892  3.9683543 -3.0205157\n",
       "GSM1214836 ependymoma   7.144168  1.9796942  1.4462751 -1.3633224  1.9984271\n",
       "GSM1214837 ependymoma   7.767453 -1.6188654 -2.3446853  5.0242563 -0.9617922\n",
       "GSM1214838 ependymoma   8.781031 -0.7922226 -0.9812215 -1.1457993  1.9781918\n",
       "GSM1214839 ependymoma  11.855954 -0.3868543  2.0071073 -0.2821163 -1.2061857\n",
       "           Dim.6      Dim.7      Dim.8      Dim.9      ⋯ Dim.15     Dim.16    \n",
       "GSM1214834  0.9444034 -2.9243337  1.6490419  1.0733370 ⋯  0.4254984 -0.3081818\n",
       "GSM1214835 -0.5997808  2.9576657 -4.0388747 -1.1327464 ⋯ -1.1336631 -2.1862148\n",
       "GSM1214836  0.1533592  1.1949379 -0.9565159 -1.9720567 ⋯ -0.2419832 -1.0232976\n",
       "GSM1214837  0.9330567 -2.6673487  2.5564267  1.6414274 ⋯ -1.5813262  0.8446098\n",
       "GSM1214838  3.0983794 -0.9612884  2.9790711  0.6011522 ⋯  1.1586184 -1.8396836\n",
       "GSM1214839  2.4458681 -1.3770878  1.7736954 -0.4774851 ⋯ -0.3494883 -1.0183649\n",
       "           Dim.17     Dim.18      Dim.19     Dim.20      Dim.21     Dim.22    \n",
       "GSM1214834  1.0214624 -0.01714264 -1.4052560 -0.30367190 -2.0482487  0.7378872\n",
       "GSM1214835 -0.8810149 -0.19778438 -0.3393067 -0.48995291  1.8827187  0.2791500\n",
       "GSM1214836  1.1540079 -1.21880182  0.8482270  0.08852238 -0.7435900 -2.3889087\n",
       "GSM1214837 -2.2968399  2.51067224 -1.3507823 -0.53653076  1.4198929 -1.7503586\n",
       "GSM1214838  0.8588423 -1.27178697  0.5525465  1.51446841  0.7790238 -0.9388822\n",
       "GSM1214839 -0.2512741 -0.98731859  0.7642648 -0.37502393 -0.5113557  1.9719688\n",
       "           Dim.23        Cluster\n",
       "GSM1214834  0.1173696162 1      \n",
       "GSM1214835 -0.0081625336 1      \n",
       "GSM1214836 -1.5699002486 1      \n",
       "GSM1214837  0.0003569896 1      \n",
       "GSM1214838 -1.2810058905 1      \n",
       "GSM1214839 -0.2996524931 1      "
      ]
     },
     "metadata": {},
     "output_type": "display_data"
    }
   ],
   "source": [
    "dataset[\"Cluster\"] = as.factor(as.numeric(cluster_individuals$Cluster))\n",
    "if (pca_suitability$pca_suitable) {\n",
    "    pca_df = dataset\n",
    "} else {\n",
    "    pca_matrix = dataset %>% select(-Cluster)\n",
    "    r_pca = evaluomeR::performPCA(dataset = pca_matrix)\n",
    "    pca_df = r_pca$dataset_ncp\n",
    "    pca_df$Cluster <- as.factor(dataset$Cluster)\n",
    "    pca_df$Description <- dataset$Description\n",
    "}\n",
    "head(pca_df)"
   ]
  },
  {
   "cell_type": "code",
   "execution_count": 24,
   "id": "2ad8a959-5503-4cfd-a08e-056bfda2116d",
   "metadata": {},
   "outputs": [],
   "source": [
    "# Creating shapes for individuals\n",
    "pca_df <- pca_df %>%\n",
    "  mutate(\n",
    "    # Extract the letter from the Description column\n",
    "    Letter = Description,\n",
    "    # Map the letter to a number\n",
    "    GoldStandard = case_when(\n",
    "      Letter == \"ependymoma\" ~ 16,\n",
    "      Letter == \"glioblastoma\" ~ 17,\n",
    "      Letter == \"medulloblastoma\" ~ 18,\n",
    "      Letter == \"pilocytic astrocytoma\" ~ 21,\n",
    "      TRUE ~ NA_real_  # Else...\n",
    "    )\n",
    "  )\n",
    "pca_df$GoldStandard = as.factor(pca_df$GoldStandard)"
   ]
  },
  {
   "cell_type": "code",
   "execution_count": 25,
   "id": "8a4317b9-15b7-44a4-908d-5905a9f96874",
   "metadata": {},
   "outputs": [
    {
     "data": {
      "text/html": [
       "<table class=\"dataframe\">\n",
       "<caption>A data.frame: 6 × 27</caption>\n",
       "<thead>\n",
       "\t<tr><th></th><th scope=col>Description</th><th scope=col>Dim.1</th><th scope=col>Dim.2</th><th scope=col>Dim.3</th><th scope=col>Dim.4</th><th scope=col>Dim.5</th><th scope=col>Dim.6</th><th scope=col>Dim.7</th><th scope=col>Dim.8</th><th scope=col>Dim.9</th><th scope=col>⋯</th><th scope=col>Dim.17</th><th scope=col>Dim.18</th><th scope=col>Dim.19</th><th scope=col>Dim.20</th><th scope=col>Dim.21</th><th scope=col>Dim.22</th><th scope=col>Dim.23</th><th scope=col>Cluster</th><th scope=col>Letter</th><th scope=col>GoldStandard</th></tr>\n",
       "\t<tr><th></th><th scope=col>&lt;chr&gt;</th><th scope=col>&lt;dbl&gt;</th><th scope=col>&lt;dbl&gt;</th><th scope=col>&lt;dbl&gt;</th><th scope=col>&lt;dbl&gt;</th><th scope=col>&lt;dbl&gt;</th><th scope=col>&lt;dbl&gt;</th><th scope=col>&lt;dbl&gt;</th><th scope=col>&lt;dbl&gt;</th><th scope=col>&lt;dbl&gt;</th><th scope=col>⋯</th><th scope=col>&lt;dbl&gt;</th><th scope=col>&lt;dbl&gt;</th><th scope=col>&lt;dbl&gt;</th><th scope=col>&lt;dbl&gt;</th><th scope=col>&lt;dbl&gt;</th><th scope=col>&lt;dbl&gt;</th><th scope=col>&lt;dbl&gt;</th><th scope=col>&lt;fct&gt;</th><th scope=col>&lt;chr&gt;</th><th scope=col>&lt;fct&gt;</th></tr>\n",
       "</thead>\n",
       "<tbody>\n",
       "\t<tr><th scope=row>GSM1214958</th><td>pilocytic astrocytoma</td><td>-6.606329</td><td>8.425894</td><td> 2.4498560</td><td>-0.45868552</td><td>-2.3700774</td><td>-2.7222786</td><td>-0.20919221</td><td> 1.1611944</td><td> 1.1891406</td><td>⋯</td><td> 0.6537375</td><td>-0.48664280</td><td> 0.60095036</td><td> 0.1330651</td><td> 0.5247779</td><td> 0.53401428</td><td> 0.62452556</td><td>3</td><td>pilocytic astrocytoma</td><td>21</td></tr>\n",
       "\t<tr><th scope=row>GSM1214959</th><td>pilocytic astrocytoma</td><td>-6.692977</td><td>5.752664</td><td> 0.1157423</td><td>-2.89182321</td><td>-0.9878492</td><td> 0.5292128</td><td> 0.32939546</td><td>-2.8772228</td><td> 3.1681295</td><td>⋯</td><td> 0.9947755</td><td> 1.80643111</td><td> 2.09562002</td><td>-0.5521658</td><td>-0.9477762</td><td>-1.15901263</td><td> 1.15824894</td><td>3</td><td>pilocytic astrocytoma</td><td>21</td></tr>\n",
       "\t<tr><th scope=row>GSM1214960</th><td>pilocytic astrocytoma</td><td>-3.667080</td><td>2.067531</td><td>-0.8314221</td><td>-0.46675374</td><td> 2.7257077</td><td>-2.1910443</td><td> 2.64622047</td><td> 1.7664405</td><td>-1.9570992</td><td>⋯</td><td> 0.4130283</td><td>-0.07566443</td><td> 1.67577402</td><td>-1.6592433</td><td>-2.3763750</td><td>-0.08266257</td><td> 0.82352513</td><td>3</td><td>pilocytic astrocytoma</td><td>21</td></tr>\n",
       "\t<tr><th scope=row>GSM1214961</th><td>pilocytic astrocytoma</td><td>-7.707722</td><td>8.600868</td><td> 1.9890319</td><td> 0.55829979</td><td>-2.8863233</td><td>-2.7284846</td><td>-0.02812548</td><td> 0.2791758</td><td> 0.6035215</td><td>⋯</td><td>-1.5330772</td><td> 2.07449989</td><td>-0.09425859</td><td> 0.3621804</td><td>-0.2154246</td><td>-0.11932728</td><td>-0.02390018</td><td>3</td><td>pilocytic astrocytoma</td><td>21</td></tr>\n",
       "\t<tr><th scope=row>GSM1214962</th><td>pilocytic astrocytoma</td><td>-7.048828</td><td>7.941376</td><td> 3.5779270</td><td> 0.07706587</td><td>-2.9019827</td><td>-2.8461167</td><td>-1.00740635</td><td> 1.4671850</td><td> 0.3165126</td><td>⋯</td><td>-1.3495861</td><td> 1.27369360</td><td>-1.38751210</td><td> 0.5382460</td><td> 0.8208657</td><td>-0.22255649</td><td>-0.77308705</td><td>3</td><td>pilocytic astrocytoma</td><td>21</td></tr>\n",
       "\t<tr><th scope=row>GSM1214963</th><td>pilocytic astrocytoma</td><td>-7.872548</td><td>7.560759</td><td> 0.6355572</td><td>-1.26622428</td><td>-2.7178450</td><td>-2.0559419</td><td> 0.88507721</td><td>-0.4807651</td><td> 0.5550924</td><td>⋯</td><td>-0.4272458</td><td>-0.51635136</td><td> 0.62109274</td><td> 0.8961403</td><td> 0.6324220</td><td> 0.02733993</td><td> 0.14665260</td><td>3</td><td>pilocytic astrocytoma</td><td>21</td></tr>\n",
       "</tbody>\n",
       "</table>\n"
      ],
      "text/latex": [
       "A data.frame: 6 × 27\n",
       "\\begin{tabular}{r|lllllllllllllllllllll}\n",
       "  & Description & Dim.1 & Dim.2 & Dim.3 & Dim.4 & Dim.5 & Dim.6 & Dim.7 & Dim.8 & Dim.9 & ⋯ & Dim.17 & Dim.18 & Dim.19 & Dim.20 & Dim.21 & Dim.22 & Dim.23 & Cluster & Letter & GoldStandard\\\\\n",
       "  & <chr> & <dbl> & <dbl> & <dbl> & <dbl> & <dbl> & <dbl> & <dbl> & <dbl> & <dbl> & ⋯ & <dbl> & <dbl> & <dbl> & <dbl> & <dbl> & <dbl> & <dbl> & <fct> & <chr> & <fct>\\\\\n",
       "\\hline\n",
       "\tGSM1214958 & pilocytic astrocytoma & -6.606329 & 8.425894 &  2.4498560 & -0.45868552 & -2.3700774 & -2.7222786 & -0.20919221 &  1.1611944 &  1.1891406 & ⋯ &  0.6537375 & -0.48664280 &  0.60095036 &  0.1330651 &  0.5247779 &  0.53401428 &  0.62452556 & 3 & pilocytic astrocytoma & 21\\\\\n",
       "\tGSM1214959 & pilocytic astrocytoma & -6.692977 & 5.752664 &  0.1157423 & -2.89182321 & -0.9878492 &  0.5292128 &  0.32939546 & -2.8772228 &  3.1681295 & ⋯ &  0.9947755 &  1.80643111 &  2.09562002 & -0.5521658 & -0.9477762 & -1.15901263 &  1.15824894 & 3 & pilocytic astrocytoma & 21\\\\\n",
       "\tGSM1214960 & pilocytic astrocytoma & -3.667080 & 2.067531 & -0.8314221 & -0.46675374 &  2.7257077 & -2.1910443 &  2.64622047 &  1.7664405 & -1.9570992 & ⋯ &  0.4130283 & -0.07566443 &  1.67577402 & -1.6592433 & -2.3763750 & -0.08266257 &  0.82352513 & 3 & pilocytic astrocytoma & 21\\\\\n",
       "\tGSM1214961 & pilocytic astrocytoma & -7.707722 & 8.600868 &  1.9890319 &  0.55829979 & -2.8863233 & -2.7284846 & -0.02812548 &  0.2791758 &  0.6035215 & ⋯ & -1.5330772 &  2.07449989 & -0.09425859 &  0.3621804 & -0.2154246 & -0.11932728 & -0.02390018 & 3 & pilocytic astrocytoma & 21\\\\\n",
       "\tGSM1214962 & pilocytic astrocytoma & -7.048828 & 7.941376 &  3.5779270 &  0.07706587 & -2.9019827 & -2.8461167 & -1.00740635 &  1.4671850 &  0.3165126 & ⋯ & -1.3495861 &  1.27369360 & -1.38751210 &  0.5382460 &  0.8208657 & -0.22255649 & -0.77308705 & 3 & pilocytic astrocytoma & 21\\\\\n",
       "\tGSM1214963 & pilocytic astrocytoma & -7.872548 & 7.560759 &  0.6355572 & -1.26622428 & -2.7178450 & -2.0559419 &  0.88507721 & -0.4807651 &  0.5550924 & ⋯ & -0.4272458 & -0.51635136 &  0.62109274 &  0.8961403 &  0.6324220 &  0.02733993 &  0.14665260 & 3 & pilocytic astrocytoma & 21\\\\\n",
       "\\end{tabular}\n"
      ],
      "text/markdown": [
       "\n",
       "A data.frame: 6 × 27\n",
       "\n",
       "| <!--/--> | Description &lt;chr&gt; | Dim.1 &lt;dbl&gt; | Dim.2 &lt;dbl&gt; | Dim.3 &lt;dbl&gt; | Dim.4 &lt;dbl&gt; | Dim.5 &lt;dbl&gt; | Dim.6 &lt;dbl&gt; | Dim.7 &lt;dbl&gt; | Dim.8 &lt;dbl&gt; | Dim.9 &lt;dbl&gt; | ⋯ ⋯ | Dim.17 &lt;dbl&gt; | Dim.18 &lt;dbl&gt; | Dim.19 &lt;dbl&gt; | Dim.20 &lt;dbl&gt; | Dim.21 &lt;dbl&gt; | Dim.22 &lt;dbl&gt; | Dim.23 &lt;dbl&gt; | Cluster &lt;fct&gt; | Letter &lt;chr&gt; | GoldStandard &lt;fct&gt; |\n",
       "|---|---|---|---|---|---|---|---|---|---|---|---|---|---|---|---|---|---|---|---|---|---|\n",
       "| GSM1214958 | pilocytic astrocytoma | -6.606329 | 8.425894 |  2.4498560 | -0.45868552 | -2.3700774 | -2.7222786 | -0.20919221 |  1.1611944 |  1.1891406 | ⋯ |  0.6537375 | -0.48664280 |  0.60095036 |  0.1330651 |  0.5247779 |  0.53401428 |  0.62452556 | 3 | pilocytic astrocytoma | 21 |\n",
       "| GSM1214959 | pilocytic astrocytoma | -6.692977 | 5.752664 |  0.1157423 | -2.89182321 | -0.9878492 |  0.5292128 |  0.32939546 | -2.8772228 |  3.1681295 | ⋯ |  0.9947755 |  1.80643111 |  2.09562002 | -0.5521658 | -0.9477762 | -1.15901263 |  1.15824894 | 3 | pilocytic astrocytoma | 21 |\n",
       "| GSM1214960 | pilocytic astrocytoma | -3.667080 | 2.067531 | -0.8314221 | -0.46675374 |  2.7257077 | -2.1910443 |  2.64622047 |  1.7664405 | -1.9570992 | ⋯ |  0.4130283 | -0.07566443 |  1.67577402 | -1.6592433 | -2.3763750 | -0.08266257 |  0.82352513 | 3 | pilocytic astrocytoma | 21 |\n",
       "| GSM1214961 | pilocytic astrocytoma | -7.707722 | 8.600868 |  1.9890319 |  0.55829979 | -2.8863233 | -2.7284846 | -0.02812548 |  0.2791758 |  0.6035215 | ⋯ | -1.5330772 |  2.07449989 | -0.09425859 |  0.3621804 | -0.2154246 | -0.11932728 | -0.02390018 | 3 | pilocytic astrocytoma | 21 |\n",
       "| GSM1214962 | pilocytic astrocytoma | -7.048828 | 7.941376 |  3.5779270 |  0.07706587 | -2.9019827 | -2.8461167 | -1.00740635 |  1.4671850 |  0.3165126 | ⋯ | -1.3495861 |  1.27369360 | -1.38751210 |  0.5382460 |  0.8208657 | -0.22255649 | -0.77308705 | 3 | pilocytic astrocytoma | 21 |\n",
       "| GSM1214963 | pilocytic astrocytoma | -7.872548 | 7.560759 |  0.6355572 | -1.26622428 | -2.7178450 | -2.0559419 |  0.88507721 | -0.4807651 |  0.5550924 | ⋯ | -0.4272458 | -0.51635136 |  0.62109274 |  0.8961403 |  0.6324220 |  0.02733993 |  0.14665260 | 3 | pilocytic astrocytoma | 21 |\n",
       "\n"
      ],
      "text/plain": [
       "           Description           Dim.1     Dim.2    Dim.3      Dim.4      \n",
       "GSM1214958 pilocytic astrocytoma -6.606329 8.425894  2.4498560 -0.45868552\n",
       "GSM1214959 pilocytic astrocytoma -6.692977 5.752664  0.1157423 -2.89182321\n",
       "GSM1214960 pilocytic astrocytoma -3.667080 2.067531 -0.8314221 -0.46675374\n",
       "GSM1214961 pilocytic astrocytoma -7.707722 8.600868  1.9890319  0.55829979\n",
       "GSM1214962 pilocytic astrocytoma -7.048828 7.941376  3.5779270  0.07706587\n",
       "GSM1214963 pilocytic astrocytoma -7.872548 7.560759  0.6355572 -1.26622428\n",
       "           Dim.5      Dim.6      Dim.7       Dim.8      Dim.9      ⋯ Dim.17    \n",
       "GSM1214958 -2.3700774 -2.7222786 -0.20919221  1.1611944  1.1891406 ⋯  0.6537375\n",
       "GSM1214959 -0.9878492  0.5292128  0.32939546 -2.8772228  3.1681295 ⋯  0.9947755\n",
       "GSM1214960  2.7257077 -2.1910443  2.64622047  1.7664405 -1.9570992 ⋯  0.4130283\n",
       "GSM1214961 -2.8863233 -2.7284846 -0.02812548  0.2791758  0.6035215 ⋯ -1.5330772\n",
       "GSM1214962 -2.9019827 -2.8461167 -1.00740635  1.4671850  0.3165126 ⋯ -1.3495861\n",
       "GSM1214963 -2.7178450 -2.0559419  0.88507721 -0.4807651  0.5550924 ⋯ -0.4272458\n",
       "           Dim.18      Dim.19      Dim.20     Dim.21     Dim.22     \n",
       "GSM1214958 -0.48664280  0.60095036  0.1330651  0.5247779  0.53401428\n",
       "GSM1214959  1.80643111  2.09562002 -0.5521658 -0.9477762 -1.15901263\n",
       "GSM1214960 -0.07566443  1.67577402 -1.6592433 -2.3763750 -0.08266257\n",
       "GSM1214961  2.07449989 -0.09425859  0.3621804 -0.2154246 -0.11932728\n",
       "GSM1214962  1.27369360 -1.38751210  0.5382460  0.8208657 -0.22255649\n",
       "GSM1214963 -0.51635136  0.62109274  0.8961403  0.6324220  0.02733993\n",
       "           Dim.23      Cluster Letter                GoldStandard\n",
       "GSM1214958  0.62452556 3       pilocytic astrocytoma 21          \n",
       "GSM1214959  1.15824894 3       pilocytic astrocytoma 21          \n",
       "GSM1214960  0.82352513 3       pilocytic astrocytoma 21          \n",
       "GSM1214961 -0.02390018 3       pilocytic astrocytoma 21          \n",
       "GSM1214962 -0.77308705 3       pilocytic astrocytoma 21          \n",
       "GSM1214963  0.14665260 3       pilocytic astrocytoma 21          "
      ]
     },
     "metadata": {},
     "output_type": "display_data"
    }
   ],
   "source": [
    "tail(pca_df)"
   ]
  },
  {
   "cell_type": "code",
   "execution_count": 37,
   "id": "2dbdcbee",
   "metadata": {
    "scrolled": true
   },
   "outputs": [
    {
     "name": "stderr",
     "output_type": "stream",
     "text": [
      "Warning message:\n",
      "\"\u001b[1m\u001b[22mThe following aesthetics were dropped during statistical transformation: \u001b[32mshape\u001b[39m\n",
      "and \u001b[32mlabel\u001b[39m.\n",
      "\u001b[36mℹ\u001b[39m This can happen when ggplot fails to infer the correct grouping structure in\n",
      "  the data.\n",
      "\u001b[36mℹ\u001b[39m Did you forget to specify a `group` aesthetic or to convert a numerical\n",
      "  variable into a factor?\"\n",
      "Warning message:\n",
      "\"ggrepel: 114 unlabeled data points (too many overlaps). Consider increasing max.overlaps\"\n"
     ]
    },
    {
     "data": {
      "image/png": "[encoded data removed]",
      "text/plain": [
       "plot without title"
      ]
     },
     "metadata": {
      "image/png": {
       "height": 720,
       "width": 720
      }
     },
     "output_type": "display_data"
    }
   ],
   "source": [
    "cluster_colors <- c(\"#2E86C1\", \"#28B463\", \"#E74C3C\", \"#9B59B6\", \"#F1C40F\", \"#7F8C8D\", \n",
    "            \"#D35400\", \"#8E44AD\", \"#16A085\")\n",
    "\n",
    "cluster_shapes = c(16, 17, 18, 21, 22, 23, 24)\n",
    "#cluster_labels = unique(dataset$Description)\n",
    "cluster_labels = c(\"ependymoma\", \"glioblastoma\", \"medulloblastoma, pilocytic astrocytoma\")\n",
    "\n",
    "ggplot(pca_df, aes(x = Dim.1, y = Dim.2, shape = GoldStandard, color = Cluster, label = Description)) +\n",
    "  geom_point(size = 3) +\n",
    "  geom_text_repel(\n",
    "    vjust = 1,\n",
    "    hjust = 1,\n",
    "    size = 5,\n",
    "    show.legend = FALSE,\n",
    "    point.padding = 0.4,\n",
    "    box.padding = 0.25,\n",
    "    max.overlaps = 5,\n",
    "    segment.color = \"grey70\",\n",
    "    segment.size = 0.2\n",
    "  ) +\n",
    "  stat_ellipse(aes(fill = Cluster, group = Cluster), level = 0.95, alpha = 0.2, geom = \"polygon\") +\n",
    "  labs(\n",
    "    title = \"ATSC Brain Tumor classification\",\n",
    "    x = \"Principal Component 1\",\n",
    "    y = \"Principal Component 2\"\n",
    "  ) +\n",
    "  scale_shape_manual(values = cluster_shapes, labels = unique(pca_df$Description)) +\n",
    "  scale_color_manual(values = cluster_colors, labels = cluster_labels)  +\n",
    "  scale_fill_manual(values = cluster_colors, labels = cluster_labels)   +\n",
    "  theme_minimal(base_size = 15) +\n",
    "  theme(\n",
    "    plot.title = element_text(hjust = 0.5, size = 18, face = \"bold\"),\n",
    "    axis.title.x = element_text(size = 20),\n",
    "    axis.title.y = element_text(size = 20),\n",
    "    axis.text = element_text(size = 16),\n",
    "    legend.position = \"right\",\n",
    "    legend.title = element_text(size = 18),\n",
    "    legend.text = element_text(size = 16),\n",
    "    panel.grid.major = element_line(color = \"grey90\"),\n",
    "    panel.grid.minor = element_blank()\n",
    "  )"
   ]
  },
  {
   "cell_type": "markdown",
   "id": "b7fd561d",
   "metadata": {},
   "source": [
    "# Sensitivity <a class=\"anchor\" id=\"sensitivity\"></a>"
   ]
  },
  {
   "cell_type": "markdown",
   "id": "0163198f",
   "metadata": {},
   "source": [
    "In this Section we evaluate the sensitivity of our clustering using the `RSKC::Sensitivity` method. Sensitivity, or the true positive rate, measures the ability to correctly identify positive instances within the data. By focusing on sensitivity, we aim to ensure that our model effectively captures the relevant clusters, minimizing the number of false negatives. "
   ]
  },
  {
   "cell_type": "code",
   "execution_count": 27,
   "id": "328d1516",
   "metadata": {},
   "outputs": [
    {
     "data": {
      "text/html": [
       "<table class=\"dataframe\">\n",
       "<caption>A data.frame: 6 × 2</caption>\n",
       "<thead>\n",
       "\t<tr><th></th><th scope=col>Description</th><th scope=col>Class</th></tr>\n",
       "\t<tr><th></th><th scope=col>&lt;chr&gt;</th><th scope=col>&lt;chr&gt;</th></tr>\n",
       "</thead>\n",
       "<tbody>\n",
       "\t<tr><th scope=row>GSM1214834</th><td>ependymoma</td><td>ependymoma</td></tr>\n",
       "\t<tr><th scope=row>GSM1214835</th><td>ependymoma</td><td>ependymoma</td></tr>\n",
       "\t<tr><th scope=row>GSM1214836</th><td>ependymoma</td><td>ependymoma</td></tr>\n",
       "\t<tr><th scope=row>GSM1214837</th><td>ependymoma</td><td>ependymoma</td></tr>\n",
       "\t<tr><th scope=row>GSM1214838</th><td>ependymoma</td><td>ependymoma</td></tr>\n",
       "\t<tr><th scope=row>GSM1214839</th><td>ependymoma</td><td>ependymoma</td></tr>\n",
       "</tbody>\n",
       "</table>\n"
      ],
      "text/latex": [
       "A data.frame: 6 × 2\n",
       "\\begin{tabular}{r|ll}\n",
       "  & Description & Class\\\\\n",
       "  & <chr> & <chr>\\\\\n",
       "\\hline\n",
       "\tGSM1214834 & ependymoma & ependymoma\\\\\n",
       "\tGSM1214835 & ependymoma & ependymoma\\\\\n",
       "\tGSM1214836 & ependymoma & ependymoma\\\\\n",
       "\tGSM1214837 & ependymoma & ependymoma\\\\\n",
       "\tGSM1214838 & ependymoma & ependymoma\\\\\n",
       "\tGSM1214839 & ependymoma & ependymoma\\\\\n",
       "\\end{tabular}\n"
      ],
      "text/markdown": [
       "\n",
       "A data.frame: 6 × 2\n",
       "\n",
       "| <!--/--> | Description &lt;chr&gt; | Class &lt;chr&gt; |\n",
       "|---|---|---|\n",
       "| GSM1214834 | ependymoma | ependymoma |\n",
       "| GSM1214835 | ependymoma | ependymoma |\n",
       "| GSM1214836 | ependymoma | ependymoma |\n",
       "| GSM1214837 | ependymoma | ependymoma |\n",
       "| GSM1214838 | ependymoma | ependymoma |\n",
       "| GSM1214839 | ependymoma | ependymoma |\n",
       "\n"
      ],
      "text/plain": [
       "           Description Class     \n",
       "GSM1214834 ependymoma  ependymoma\n",
       "GSM1214835 ependymoma  ependymoma\n",
       "GSM1214836 ependymoma  ependymoma\n",
       "GSM1214837 ependymoma  ependymoma\n",
       "GSM1214838 ependymoma  ependymoma\n",
       "GSM1214839 ependymoma  ependymoma"
      ]
     },
     "metadata": {},
     "output_type": "display_data"
    }
   ],
   "source": [
    "dataset[\"Class\"] = dataset[\"Description\"]\n",
    "head(dataset)[, c(\"Description\", \"Class\")]"
   ]
  },
  {
   "cell_type": "code",
   "execution_count": 28,
   "id": "1642b419",
   "metadata": {},
   "outputs": [
    {
     "data": {
      "text/html": [
       "<table class=\"dataframe\">\n",
       "<caption>A data.frame: 6 × 4</caption>\n",
       "<thead>\n",
       "\t<tr><th></th><th scope=col>Description</th><th scope=col>Class</th><th scope=col>Cluster</th><th scope=col>Class_n</th></tr>\n",
       "\t<tr><th></th><th scope=col>&lt;chr&gt;</th><th scope=col>&lt;chr&gt;</th><th scope=col>&lt;fct&gt;</th><th scope=col>&lt;dbl&gt;</th></tr>\n",
       "</thead>\n",
       "<tbody>\n",
       "\t<tr><th scope=row>GSM1214834</th><td>ependymoma</td><td>ependymoma</td><td>1</td><td>1</td></tr>\n",
       "\t<tr><th scope=row>GSM1214835</th><td>ependymoma</td><td>ependymoma</td><td>1</td><td>1</td></tr>\n",
       "\t<tr><th scope=row>GSM1214836</th><td>ependymoma</td><td>ependymoma</td><td>1</td><td>1</td></tr>\n",
       "\t<tr><th scope=row>GSM1214837</th><td>ependymoma</td><td>ependymoma</td><td>1</td><td>1</td></tr>\n",
       "\t<tr><th scope=row>GSM1214838</th><td>ependymoma</td><td>ependymoma</td><td>1</td><td>1</td></tr>\n",
       "\t<tr><th scope=row>GSM1214839</th><td>ependymoma</td><td>ependymoma</td><td>1</td><td>1</td></tr>\n",
       "</tbody>\n",
       "</table>\n"
      ],
      "text/latex": [
       "A data.frame: 6 × 4\n",
       "\\begin{tabular}{r|llll}\n",
       "  & Description & Class & Cluster & Class\\_n\\\\\n",
       "  & <chr> & <chr> & <fct> & <dbl>\\\\\n",
       "\\hline\n",
       "\tGSM1214834 & ependymoma & ependymoma & 1 & 1\\\\\n",
       "\tGSM1214835 & ependymoma & ependymoma & 1 & 1\\\\\n",
       "\tGSM1214836 & ependymoma & ependymoma & 1 & 1\\\\\n",
       "\tGSM1214837 & ependymoma & ependymoma & 1 & 1\\\\\n",
       "\tGSM1214838 & ependymoma & ependymoma & 1 & 1\\\\\n",
       "\tGSM1214839 & ependymoma & ependymoma & 1 & 1\\\\\n",
       "\\end{tabular}\n"
      ],
      "text/markdown": [
       "\n",
       "A data.frame: 6 × 4\n",
       "\n",
       "| <!--/--> | Description &lt;chr&gt; | Class &lt;chr&gt; | Cluster &lt;fct&gt; | Class_n &lt;dbl&gt; |\n",
       "|---|---|---|---|---|\n",
       "| GSM1214834 | ependymoma | ependymoma | 1 | 1 |\n",
       "| GSM1214835 | ependymoma | ependymoma | 1 | 1 |\n",
       "| GSM1214836 | ependymoma | ependymoma | 1 | 1 |\n",
       "| GSM1214837 | ependymoma | ependymoma | 1 | 1 |\n",
       "| GSM1214838 | ependymoma | ependymoma | 1 | 1 |\n",
       "| GSM1214839 | ependymoma | ependymoma | 1 | 1 |\n",
       "\n"
      ],
      "text/plain": [
       "           Description Class      Cluster Class_n\n",
       "GSM1214834 ependymoma  ependymoma 1       1      \n",
       "GSM1214835 ependymoma  ependymoma 1       1      \n",
       "GSM1214836 ependymoma  ependymoma 1       1      \n",
       "GSM1214837 ependymoma  ependymoma 1       1      \n",
       "GSM1214838 ependymoma  ependymoma 1       1      \n",
       "GSM1214839 ependymoma  ependymoma 1       1      "
      ]
     },
     "metadata": {},
     "output_type": "display_data"
    }
   ],
   "source": [
    "# Map categories with cluster number\n",
    "dataset[\"Class_n\"] = gold_standard_vector\n",
    "# Table of prediction vs actual classification\n",
    "head(dataset)[, c(\"Description\", \"Class\", \"Cluster\", \"Class_n\")]"
   ]
  },
  {
   "cell_type": "code",
   "execution_count": 29,
   "id": "ec847c32",
   "metadata": {},
   "outputs": [
    {
     "name": "stdout",
     "output_type": "stream",
     "text": [
      "[1] \"gold standard\"\n"
     ]
    },
    {
     "data": {
      "text/html": [
       "<style>\n",
       ".list-inline {list-style: none; margin:0; padding: 0}\n",
       ".list-inline>li {display: inline-block}\n",
       ".list-inline>li:not(:last-child)::after {content: \"\\00b7\"; padding: 0 .5ex}\n",
       "</style>\n",
       "<ol class=list-inline><li>1</li><li>1</li><li>1</li><li>1</li><li>1</li><li>1</li><li>1</li><li>1</li><li>1</li><li>1</li><li>1</li><li>1</li><li>1</li><li>1</li><li>1</li><li>1</li><li>1</li><li>1</li><li>1</li><li>1</li><li>1</li><li>1</li><li>1</li><li>1</li><li>1</li><li>1</li><li>1</li><li>1</li><li>1</li><li>1</li><li>1</li><li>1</li><li>1</li><li>1</li><li>1</li><li>1</li><li>1</li><li>1</li><li>1</li><li>1</li><li>1</li><li>1</li><li>1</li><li>1</li><li>1</li><li>1</li><li>2</li><li>2</li><li>2</li><li>2</li><li>2</li><li>2</li><li>2</li><li>2</li><li>2</li><li>2</li><li>2</li><li>2</li><li>2</li><li>2</li><li>2</li><li>2</li><li>2</li><li>2</li><li>2</li><li>2</li><li>2</li><li>2</li><li>2</li><li>2</li><li>2</li><li>2</li><li>2</li><li>2</li><li>2</li><li>2</li><li>2</li><li>2</li><li>2</li><li>2</li><li>3</li><li>3</li><li>3</li><li>3</li><li>3</li><li>3</li><li>3</li><li>3</li><li>3</li><li>3</li><li>3</li><li>3</li><li>3</li><li>3</li><li>3</li><li>3</li><li>3</li><li>3</li><li>3</li><li>3</li><li>3</li><li>3</li><li>4</li><li>4</li><li>4</li><li>4</li><li>4</li><li>4</li><li>4</li><li>4</li><li>4</li><li>4</li><li>4</li><li>4</li><li>4</li><li>4</li><li>4</li></ol>\n"
      ],
      "text/latex": [
       "\\begin{enumerate*}\n",
       "\\item 1\n",
       "\\item 1\n",
       "\\item 1\n",
       "\\item 1\n",
       "\\item 1\n",
       "\\item 1\n",
       "\\item 1\n",
       "\\item 1\n",
       "\\item 1\n",
       "\\item 1\n",
       "\\item 1\n",
       "\\item 1\n",
       "\\item 1\n",
       "\\item 1\n",
       "\\item 1\n",
       "\\item 1\n",
       "\\item 1\n",
       "\\item 1\n",
       "\\item 1\n",
       "\\item 1\n",
       "\\item 1\n",
       "\\item 1\n",
       "\\item 1\n",
       "\\item 1\n",
       "\\item 1\n",
       "\\item 1\n",
       "\\item 1\n",
       "\\item 1\n",
       "\\item 1\n",
       "\\item 1\n",
       "\\item 1\n",
       "\\item 1\n",
       "\\item 1\n",
       "\\item 1\n",
       "\\item 1\n",
       "\\item 1\n",
       "\\item 1\n",
       "\\item 1\n",
       "\\item 1\n",
       "\\item 1\n",
       "\\item 1\n",
       "\\item 1\n",
       "\\item 1\n",
       "\\item 1\n",
       "\\item 1\n",
       "\\item 1\n",
       "\\item 2\n",
       "\\item 2\n",
       "\\item 2\n",
       "\\item 2\n",
       "\\item 2\n",
       "\\item 2\n",
       "\\item 2\n",
       "\\item 2\n",
       "\\item 2\n",
       "\\item 2\n",
       "\\item 2\n",
       "\\item 2\n",
       "\\item 2\n",
       "\\item 2\n",
       "\\item 2\n",
       "\\item 2\n",
       "\\item 2\n",
       "\\item 2\n",
       "\\item 2\n",
       "\\item 2\n",
       "\\item 2\n",
       "\\item 2\n",
       "\\item 2\n",
       "\\item 2\n",
       "\\item 2\n",
       "\\item 2\n",
       "\\item 2\n",
       "\\item 2\n",
       "\\item 2\n",
       "\\item 2\n",
       "\\item 2\n",
       "\\item 2\n",
       "\\item 2\n",
       "\\item 2\n",
       "\\item 3\n",
       "\\item 3\n",
       "\\item 3\n",
       "\\item 3\n",
       "\\item 3\n",
       "\\item 3\n",
       "\\item 3\n",
       "\\item 3\n",
       "\\item 3\n",
       "\\item 3\n",
       "\\item 3\n",
       "\\item 3\n",
       "\\item 3\n",
       "\\item 3\n",
       "\\item 3\n",
       "\\item 3\n",
       "\\item 3\n",
       "\\item 3\n",
       "\\item 3\n",
       "\\item 3\n",
       "\\item 3\n",
       "\\item 3\n",
       "\\item 4\n",
       "\\item 4\n",
       "\\item 4\n",
       "\\item 4\n",
       "\\item 4\n",
       "\\item 4\n",
       "\\item 4\n",
       "\\item 4\n",
       "\\item 4\n",
       "\\item 4\n",
       "\\item 4\n",
       "\\item 4\n",
       "\\item 4\n",
       "\\item 4\n",
       "\\item 4\n",
       "\\end{enumerate*}\n"
      ],
      "text/markdown": [
       "1. 1\n",
       "2. 1\n",
       "3. 1\n",
       "4. 1\n",
       "5. 1\n",
       "6. 1\n",
       "7. 1\n",
       "8. 1\n",
       "9. 1\n",
       "10. 1\n",
       "11. 1\n",
       "12. 1\n",
       "13. 1\n",
       "14. 1\n",
       "15. 1\n",
       "16. 1\n",
       "17. 1\n",
       "18. 1\n",
       "19. 1\n",
       "20. 1\n",
       "21. 1\n",
       "22. 1\n",
       "23. 1\n",
       "24. 1\n",
       "25. 1\n",
       "26. 1\n",
       "27. 1\n",
       "28. 1\n",
       "29. 1\n",
       "30. 1\n",
       "31. 1\n",
       "32. 1\n",
       "33. 1\n",
       "34. 1\n",
       "35. 1\n",
       "36. 1\n",
       "37. 1\n",
       "38. 1\n",
       "39. 1\n",
       "40. 1\n",
       "41. 1\n",
       "42. 1\n",
       "43. 1\n",
       "44. 1\n",
       "45. 1\n",
       "46. 1\n",
       "47. 2\n",
       "48. 2\n",
       "49. 2\n",
       "50. 2\n",
       "51. 2\n",
       "52. 2\n",
       "53. 2\n",
       "54. 2\n",
       "55. 2\n",
       "56. 2\n",
       "57. 2\n",
       "58. 2\n",
       "59. 2\n",
       "60. 2\n",
       "61. 2\n",
       "62. 2\n",
       "63. 2\n",
       "64. 2\n",
       "65. 2\n",
       "66. 2\n",
       "67. 2\n",
       "68. 2\n",
       "69. 2\n",
       "70. 2\n",
       "71. 2\n",
       "72. 2\n",
       "73. 2\n",
       "74. 2\n",
       "75. 2\n",
       "76. 2\n",
       "77. 2\n",
       "78. 2\n",
       "79. 2\n",
       "80. 2\n",
       "81. 3\n",
       "82. 3\n",
       "83. 3\n",
       "84. 3\n",
       "85. 3\n",
       "86. 3\n",
       "87. 3\n",
       "88. 3\n",
       "89. 3\n",
       "90. 3\n",
       "91. 3\n",
       "92. 3\n",
       "93. 3\n",
       "94. 3\n",
       "95. 3\n",
       "96. 3\n",
       "97. 3\n",
       "98. 3\n",
       "99. 3\n",
       "100. 3\n",
       "101. 3\n",
       "102. 3\n",
       "103. 4\n",
       "104. 4\n",
       "105. 4\n",
       "106. 4\n",
       "107. 4\n",
       "108. 4\n",
       "109. 4\n",
       "110. 4\n",
       "111. 4\n",
       "112. 4\n",
       "113. 4\n",
       "114. 4\n",
       "115. 4\n",
       "116. 4\n",
       "117. 4\n",
       "\n",
       "\n"
      ],
      "text/plain": [
       "  [1] 1 1 1 1 1 1 1 1 1 1 1 1 1 1 1 1 1 1 1 1 1 1 1 1 1 1 1 1 1 1 1 1 1 1 1 1 1\n",
       " [38] 1 1 1 1 1 1 1 1 1 2 2 2 2 2 2 2 2 2 2 2 2 2 2 2 2 2 2 2 2 2 2 2 2 2 2 2 2\n",
       " [75] 2 2 2 2 2 2 3 3 3 3 3 3 3 3 3 3 3 3 3 3 3 3 3 3 3 3 3 3 4 4 4 4 4 4 4 4 4\n",
       "[112] 4 4 4 4 4 4"
      ]
     },
     "metadata": {},
     "output_type": "display_data"
    },
    {
     "name": "stdout",
     "output_type": "stream",
     "text": [
      "[1] \"predicted\"\n"
     ]
    },
    {
     "data": {
      "text/html": [
       "<style>\n",
       ".list-inline {list-style: none; margin:0; padding: 0}\n",
       ".list-inline>li {display: inline-block}\n",
       ".list-inline>li:not(:last-child)::after {content: \"\\00b7\"; padding: 0 .5ex}\n",
       "</style>\n",
       "<ol class=list-inline><li>1</li><li>1</li><li>1</li><li>1</li><li>1</li><li>1</li><li>1</li><li>1</li><li>1</li><li>1</li><li>1</li><li>1</li><li>1</li><li>2</li><li>1</li><li>1</li><li>1</li><li>1</li><li>1</li><li>1</li><li>1</li><li>1</li><li>1</li><li>1</li><li>1</li><li>1</li><li>1</li><li>1</li><li>1</li><li>1</li><li>1</li><li>1</li><li>1</li><li>1</li><li>1</li><li>1</li><li>3</li><li>1</li><li>1</li><li>1</li><li>1</li><li>1</li><li>3</li><li>1</li><li>1</li><li>1</li><li>3</li><li>3</li><li>3</li><li>3</li><li>3</li><li>3</li><li>3</li><li>3</li><li>3</li><li>3</li><li>3</li><li>3</li><li>3</li><li>3</li><li>3</li><li>3</li><li>3</li><li>3</li><li>3</li><li>3</li><li>3</li><li>3</li><li>3</li><li>3</li><li>3</li><li>3</li><li>3</li><li>3</li><li>3</li><li>3</li><li>3</li><li>3</li><li>3</li><li>3</li><li>2</li><li>2</li><li>2</li><li>2</li><li>2</li><li>2</li><li>2</li><li>2</li><li>2</li><li>2</li><li>2</li><li>2</li><li>2</li><li>2</li><li>2</li><li>2</li><li>2</li><li>2</li><li>2</li><li>2</li><li>2</li><li>2</li><li>3</li><li>3</li><li>3</li><li>3</li><li>3</li><li>3</li><li>3</li><li>3</li><li>3</li><li>3</li><li>3</li><li>3</li><li>3</li><li>3</li><li>3</li></ol>\n"
      ],
      "text/latex": [
       "\\begin{enumerate*}\n",
       "\\item 1\n",
       "\\item 1\n",
       "\\item 1\n",
       "\\item 1\n",
       "\\item 1\n",
       "\\item 1\n",
       "\\item 1\n",
       "\\item 1\n",
       "\\item 1\n",
       "\\item 1\n",
       "\\item 1\n",
       "\\item 1\n",
       "\\item 1\n",
       "\\item 2\n",
       "\\item 1\n",
       "\\item 1\n",
       "\\item 1\n",
       "\\item 1\n",
       "\\item 1\n",
       "\\item 1\n",
       "\\item 1\n",
       "\\item 1\n",
       "\\item 1\n",
       "\\item 1\n",
       "\\item 1\n",
       "\\item 1\n",
       "\\item 1\n",
       "\\item 1\n",
       "\\item 1\n",
       "\\item 1\n",
       "\\item 1\n",
       "\\item 1\n",
       "\\item 1\n",
       "\\item 1\n",
       "\\item 1\n",
       "\\item 1\n",
       "\\item 3\n",
       "\\item 1\n",
       "\\item 1\n",
       "\\item 1\n",
       "\\item 1\n",
       "\\item 1\n",
       "\\item 3\n",
       "\\item 1\n",
       "\\item 1\n",
       "\\item 1\n",
       "\\item 3\n",
       "\\item 3\n",
       "\\item 3\n",
       "\\item 3\n",
       "\\item 3\n",
       "\\item 3\n",
       "\\item 3\n",
       "\\item 3\n",
       "\\item 3\n",
       "\\item 3\n",
       "\\item 3\n",
       "\\item 3\n",
       "\\item 3\n",
       "\\item 3\n",
       "\\item 3\n",
       "\\item 3\n",
       "\\item 3\n",
       "\\item 3\n",
       "\\item 3\n",
       "\\item 3\n",
       "\\item 3\n",
       "\\item 3\n",
       "\\item 3\n",
       "\\item 3\n",
       "\\item 3\n",
       "\\item 3\n",
       "\\item 3\n",
       "\\item 3\n",
       "\\item 3\n",
       "\\item 3\n",
       "\\item 3\n",
       "\\item 3\n",
       "\\item 3\n",
       "\\item 3\n",
       "\\item 2\n",
       "\\item 2\n",
       "\\item 2\n",
       "\\item 2\n",
       "\\item 2\n",
       "\\item 2\n",
       "\\item 2\n",
       "\\item 2\n",
       "\\item 2\n",
       "\\item 2\n",
       "\\item 2\n",
       "\\item 2\n",
       "\\item 2\n",
       "\\item 2\n",
       "\\item 2\n",
       "\\item 2\n",
       "\\item 2\n",
       "\\item 2\n",
       "\\item 2\n",
       "\\item 2\n",
       "\\item 2\n",
       "\\item 2\n",
       "\\item 3\n",
       "\\item 3\n",
       "\\item 3\n",
       "\\item 3\n",
       "\\item 3\n",
       "\\item 3\n",
       "\\item 3\n",
       "\\item 3\n",
       "\\item 3\n",
       "\\item 3\n",
       "\\item 3\n",
       "\\item 3\n",
       "\\item 3\n",
       "\\item 3\n",
       "\\item 3\n",
       "\\end{enumerate*}\n"
      ],
      "text/markdown": [
       "1. 1\n",
       "2. 1\n",
       "3. 1\n",
       "4. 1\n",
       "5. 1\n",
       "6. 1\n",
       "7. 1\n",
       "8. 1\n",
       "9. 1\n",
       "10. 1\n",
       "11. 1\n",
       "12. 1\n",
       "13. 1\n",
       "14. 2\n",
       "15. 1\n",
       "16. 1\n",
       "17. 1\n",
       "18. 1\n",
       "19. 1\n",
       "20. 1\n",
       "21. 1\n",
       "22. 1\n",
       "23. 1\n",
       "24. 1\n",
       "25. 1\n",
       "26. 1\n",
       "27. 1\n",
       "28. 1\n",
       "29. 1\n",
       "30. 1\n",
       "31. 1\n",
       "32. 1\n",
       "33. 1\n",
       "34. 1\n",
       "35. 1\n",
       "36. 1\n",
       "37. 3\n",
       "38. 1\n",
       "39. 1\n",
       "40. 1\n",
       "41. 1\n",
       "42. 1\n",
       "43. 3\n",
       "44. 1\n",
       "45. 1\n",
       "46. 1\n",
       "47. 3\n",
       "48. 3\n",
       "49. 3\n",
       "50. 3\n",
       "51. 3\n",
       "52. 3\n",
       "53. 3\n",
       "54. 3\n",
       "55. 3\n",
       "56. 3\n",
       "57. 3\n",
       "58. 3\n",
       "59. 3\n",
       "60. 3\n",
       "61. 3\n",
       "62. 3\n",
       "63. 3\n",
       "64. 3\n",
       "65. 3\n",
       "66. 3\n",
       "67. 3\n",
       "68. 3\n",
       "69. 3\n",
       "70. 3\n",
       "71. 3\n",
       "72. 3\n",
       "73. 3\n",
       "74. 3\n",
       "75. 3\n",
       "76. 3\n",
       "77. 3\n",
       "78. 3\n",
       "79. 3\n",
       "80. 3\n",
       "81. 2\n",
       "82. 2\n",
       "83. 2\n",
       "84. 2\n",
       "85. 2\n",
       "86. 2\n",
       "87. 2\n",
       "88. 2\n",
       "89. 2\n",
       "90. 2\n",
       "91. 2\n",
       "92. 2\n",
       "93. 2\n",
       "94. 2\n",
       "95. 2\n",
       "96. 2\n",
       "97. 2\n",
       "98. 2\n",
       "99. 2\n",
       "100. 2\n",
       "101. 2\n",
       "102. 2\n",
       "103. 3\n",
       "104. 3\n",
       "105. 3\n",
       "106. 3\n",
       "107. 3\n",
       "108. 3\n",
       "109. 3\n",
       "110. 3\n",
       "111. 3\n",
       "112. 3\n",
       "113. 3\n",
       "114. 3\n",
       "115. 3\n",
       "116. 3\n",
       "117. 3\n",
       "\n",
       "\n"
      ],
      "text/plain": [
       "  [1] 1 1 1 1 1 1 1 1 1 1 1 1 1 2 1 1 1 1 1 1 1 1 1 1 1 1 1 1 1 1 1 1 1 1 1 1 3\n",
       " [38] 1 1 1 1 1 3 1 1 1 3 3 3 3 3 3 3 3 3 3 3 3 3 3 3 3 3 3 3 3 3 3 3 3 3 3 3 3\n",
       " [75] 3 3 3 3 3 3 2 2 2 2 2 2 2 2 2 2 2 2 2 2 2 2 2 2 2 2 2 2 3 3 3 3 3 3 3 3 3\n",
       "[112] 3 3 3 3 3 3"
      ]
     },
     "metadata": {},
     "output_type": "display_data"
    }
   ],
   "source": [
    "# Getting a vector of prediction vs actual classification\n",
    "#actual = as.factor(as.vector(unlist(dataset[\"Class_n\"])))\n",
    "predicted <- as.numeric(as.vector(unlist(dataset[\"Cluster\"])))\n",
    "\n",
    "print(\"gold standard\")\n",
    "gold_standard_vector\n",
    "print(\"predicted\")\n",
    "predicted"
   ]
  },
  {
   "cell_type": "code",
   "execution_count": 30,
   "id": "c6c2190f-f90c-4c67-9f3f-c58263b072c6",
   "metadata": {},
   "outputs": [
    {
     "data": {
      "text/html": [
       "<table class=\"dataframe\">\n",
       "<caption>A data.frame: 1 × 4</caption>\n",
       "<thead>\n",
       "\t<tr><th></th><th scope=col>ependymoma</th><th scope=col>glioblastoma</th><th scope=col>medulloblastoma</th><th scope=col>pilocytic astrocytoma</th></tr>\n",
       "\t<tr><th></th><th scope=col>&lt;chr&gt;</th><th scope=col>&lt;chr&gt;</th><th scope=col>&lt;chr&gt;</th><th scope=col>&lt;chr&gt;</th></tr>\n",
       "</thead>\n",
       "<tbody>\n",
       "\t<tr><th scope=row>Sensitivity. (%)</th><td>93</td><td>100</td><td>100</td><td>100</td></tr>\n",
       "</tbody>\n",
       "</table>\n"
      ],
      "text/latex": [
       "A data.frame: 1 × 4\n",
       "\\begin{tabular}{r|llll}\n",
       "  & ependymoma & glioblastoma & medulloblastoma & pilocytic astrocytoma\\\\\n",
       "  & <chr> & <chr> & <chr> & <chr>\\\\\n",
       "\\hline\n",
       "\tSensitivity. (\\%) & 93 & 100 & 100 & 100\\\\\n",
       "\\end{tabular}\n"
      ],
      "text/markdown": [
       "\n",
       "A data.frame: 1 × 4\n",
       "\n",
       "| <!--/--> | ependymoma &lt;chr&gt; | glioblastoma &lt;chr&gt; | medulloblastoma &lt;chr&gt; | pilocytic astrocytoma &lt;chr&gt; |\n",
       "|---|---|---|---|---|\n",
       "| Sensitivity. (%) | 93 | 100 | 100 | 100 |\n",
       "\n"
      ],
      "text/plain": [
       "                 ependymoma glioblastoma medulloblastoma pilocytic astrocytoma\n",
       "Sensitivity. (%) 93         100          100             100                  "
      ]
     },
     "metadata": {},
     "output_type": "display_data"
    },
    {
     "data": {
      "text/html": [
       "'(93,100,100,100)'"
      ],
      "text/latex": [
       "'(93,100,100,100)'"
      ],
      "text/markdown": [
       "'(93,100,100,100)'"
      ],
      "text/plain": [
       "[1] \"(93,100,100,100)\""
      ]
     },
     "metadata": {},
     "output_type": "display_data"
    }
   ],
   "source": [
    "sen = RSKC::Sensitivity(predicted, gold_standard_vector)\n",
    "sensitivity_table <- sen$prob[1,]\n",
    "names(sensitivity_table) = cluster_labels\n",
    "sensitivity_table\n",
    "paste0(\"(\", paste(unlist(sensitivity_table), collapse = \",\"), \")\")"
   ]
  },
  {
   "cell_type": "markdown",
   "id": "69f1248e",
   "metadata": {},
   "source": [
    "# CER <a class=\"anchor\" id=\"cer\"></a>\n",
    "To assess the overall accuracy of our clustering, we compute the Classification Error Rate (CER) and compare it with the gold standard classification. CER represents the proportion of misclassified instances, thus providing a clear measure of the clustering performance in assigning individuals to the correct clusters."
   ]
  },
  {
   "cell_type": "code",
   "execution_count": 31,
   "id": "fc3052a4",
   "metadata": {},
   "outputs": [
    {
     "name": "stdout",
     "output_type": "stream",
     "text": [
      "[1] \"CER: 11.21%\"\n"
     ]
    }
   ],
   "source": [
    "cer = CER(predicted, gold_standard_vector)\n",
    "cer = format(round(cer*100, 2), nsmall = 2)\n",
    "print(paste0(\"CER: \", cer, \"%\"))"
   ]
  },
  {
   "cell_type": "code",
   "execution_count": 33,
   "id": "12a8371d-2f8c-4e1c-b889-9013a0644d2d",
   "metadata": {
    "scrolled": true
   },
   "outputs": [
    {
     "data": {
      "text/html": [
       "3"
      ],
      "text/latex": [
       "3"
      ],
      "text/markdown": [
       "3"
      ],
      "text/plain": [
       "[1] 3"
      ]
     },
     "metadata": {},
     "output_type": "display_data"
    },
    {
     "data": {
      "text/html": [
       "0.25"
      ],
      "text/latex": [
       "0.25"
      ],
      "text/markdown": [
       "0.25"
      ],
      "text/plain": [
       "[1] 0.25"
      ]
     },
     "metadata": {},
     "output_type": "display_data"
    },
    {
     "data": {
      "text/html": [
       "0"
      ],
      "text/latex": [
       "0"
      ],
      "text/markdown": [
       "0"
      ],
      "text/plain": [
       "[1] 0"
      ]
     },
     "metadata": {},
     "output_type": "display_data"
    },
    {
     "data": {
      "text/html": [
       "10.7925809689086"
      ],
      "text/latex": [
       "10.7925809689086"
      ],
      "text/markdown": [
       "10.7925809689086"
      ],
      "text/plain": [
       "[1] 10.79258"
      ]
     },
     "metadata": {},
     "output_type": "display_data"
    }
   ],
   "source": [
    "# 3: CER: 5.61% - max_alpha = 0.1 - alpha (automatic) = 0.00 - L1 = 11.2112753007614 - kopt = 3\n",
    "# 3: CER: 5.61% - max_alpha = 0.25 - alpha (automatic) = 0.00 - L1 = 11.2112753007614 - kopt = 3\n",
    "\n",
    "# 4: CER: 0% - max_alpha = 0.1 - alpha (automatic) = 0.00 - L1 = 0 - kopt = 0\n",
    "# 4: CER: 11.21% - max_alpha = 0.25 - alpha (automatic) = 0.00 - L1 = 10.7925809689086 - kopt = 3\n",
    "\n",
    "optimal_k\n",
    "max_alpha\n",
    "r_atsc$alpha\n",
    "r_atsc$L1"
   ]
  },
  {
   "cell_type": "code",
   "execution_count": null,
   "id": "fb23ed7b-57b3-4ba0-9386-706d253cfe53",
   "metadata": {},
   "outputs": [],
   "source": []
  }
 ],
 "metadata": {
  "kernelspec": {
   "display_name": "R",
   "language": "R",
   "name": "ir"
  },
  "language_info": {
   "codemirror_mode": "r",
   "file_extension": ".r",
   "mimetype": "text/x-r-source",
   "name": "R",
   "pygments_lexer": "r",
   "version": "4.4.1"
  }
 },
 "nbformat": 4,
 "nbformat_minor": 5
}
