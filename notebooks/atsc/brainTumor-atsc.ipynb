{
 "cells": [
  {
   "cell_type": "markdown",
   "id": "285a2f02",
   "metadata": {},
   "source": [
    " # Leukemia using ATSC"
   ]
  },
  {
   "cell_type": "code",
   "execution_count": 1,
   "id": "5b925569",
   "metadata": {
    "scrolled": true
   },
   "outputs": [
    {
     "name": "stderr",
     "output_type": "stream",
     "text": [
      "Cargando paquete requerido: SummarizedExperiment\n",
      "\n",
      "Cargando paquete requerido: MatrixGenerics\n",
      "\n",
      "Cargando paquete requerido: matrixStats\n",
      "\n",
      "\n",
      "Adjuntando el paquete: 'MatrixGenerics'\n",
      "\n",
      "\n",
      "The following objects are masked from 'package:matrixStats':\n",
      "\n",
      "    colAlls, colAnyNAs, colAnys, colAvgsPerRowSet, colCollapse,\n",
      "    colCounts, colCummaxs, colCummins, colCumprods, colCumsums,\n",
      "    colDiffs, colIQRDiffs, colIQRs, colLogSumExps, colMadDiffs,\n",
      "    colMads, colMaxs, colMeans2, colMedians, colMins, colOrderStats,\n",
      "    colProds, colQuantiles, colRanges, colRanks, colSdDiffs, colSds,\n",
      "    colSums2, colTabulates, colVarDiffs, colVars, colWeightedMads,\n",
      "    colWeightedMeans, colWeightedMedians, colWeightedSds,\n",
      "    colWeightedVars, rowAlls, rowAnyNAs, rowAnys, rowAvgsPerColSet,\n",
      "    rowCollapse, rowCounts, rowCummaxs, rowCummins, rowCumprods,\n",
      "    rowCumsums, rowDiffs, rowIQRDiffs, rowIQRs, rowLogSumExps,\n",
      "    rowMadDiffs, rowMads, rowMaxs, rowMeans2, rowMedians, rowMins,\n",
      "    rowOrderStats, rowProds, rowQuantiles, rowRanges, rowRanks,\n",
      "    rowSdDiffs, rowSds, rowSums2, rowTabulates, rowVarDiffs, rowVars,\n",
      "    rowWeightedMads, rowWeightedMeans, rowWeightedMedians,\n",
      "    rowWeightedSds, rowWeightedVars\n",
      "\n",
      "\n",
      "Cargando paquete requerido: GenomicRanges\n",
      "\n",
      "Cargando paquete requerido: stats4\n",
      "\n",
      "Cargando paquete requerido: BiocGenerics\n",
      "\n",
      "\n",
      "Adjuntando el paquete: 'BiocGenerics'\n",
      "\n",
      "\n",
      "The following objects are masked from 'package:stats':\n",
      "\n",
      "    IQR, mad, sd, var, xtabs\n",
      "\n",
      "\n",
      "The following objects are masked from 'package:base':\n",
      "\n",
      "    anyDuplicated, aperm, append, as.data.frame, basename, cbind,\n",
      "    colnames, dirname, do.call, duplicated, eval, evalq, Filter, Find,\n",
      "    get, grep, grepl, intersect, is.unsorted, lapply, Map, mapply,\n",
      "    match, mget, order, paste, pmax, pmax.int, pmin, pmin.int,\n",
      "    Position, rank, rbind, Reduce, rownames, sapply, setdiff, table,\n",
      "    tapply, union, unique, unsplit, which.max, which.min\n",
      "\n",
      "\n",
      "Cargando paquete requerido: S4Vectors\n",
      "\n",
      "\n",
      "Adjuntando el paquete: 'S4Vectors'\n",
      "\n",
      "\n",
      "The following object is masked from 'package:utils':\n",
      "\n",
      "    findMatches\n",
      "\n",
      "\n",
      "The following objects are masked from 'package:base':\n",
      "\n",
      "    expand.grid, I, unname\n",
      "\n",
      "\n",
      "Cargando paquete requerido: IRanges\n",
      "\n",
      "\n",
      "Adjuntando el paquete: 'IRanges'\n",
      "\n",
      "\n",
      "The following object is masked from 'package:grDevices':\n",
      "\n",
      "    windows\n",
      "\n",
      "\n",
      "Cargando paquete requerido: GenomeInfoDb\n",
      "\n",
      "Cargando paquete requerido: Biobase\n",
      "\n",
      "Welcome to Bioconductor\n",
      "\n",
      "    Vignettes contain introductory material; view with\n",
      "    'browseVignettes()'. To cite Bioconductor, see\n",
      "    'citation(\"Biobase\")', and for packages 'citation(\"pkgname\")'.\n",
      "\n",
      "\n",
      "\n",
      "Adjuntando el paquete: 'Biobase'\n",
      "\n",
      "\n",
      "The following object is masked from 'package:MatrixGenerics':\n",
      "\n",
      "    rowMedians\n",
      "\n",
      "\n",
      "The following objects are masked from 'package:matrixStats':\n",
      "\n",
      "    anyMissing, rowMedians\n",
      "\n",
      "\n",
      "Cargando paquete requerido: MultiAssayExperiment\n",
      "\n",
      "Cargando paquete requerido: dplyr\n",
      "\n",
      "\n",
      "Adjuntando el paquete: 'dplyr'\n",
      "\n",
      "\n",
      "The following object is masked from 'package:Biobase':\n",
      "\n",
      "    combine\n",
      "\n",
      "\n",
      "The following objects are masked from 'package:GenomicRanges':\n",
      "\n",
      "    intersect, setdiff, union\n",
      "\n",
      "\n",
      "The following object is masked from 'package:GenomeInfoDb':\n",
      "\n",
      "    intersect\n",
      "\n",
      "\n",
      "The following objects are masked from 'package:IRanges':\n",
      "\n",
      "    collapse, desc, intersect, setdiff, slice, union\n",
      "\n",
      "\n",
      "The following objects are masked from 'package:S4Vectors':\n",
      "\n",
      "    first, intersect, rename, setdiff, setequal, union\n",
      "\n",
      "\n",
      "The following objects are masked from 'package:BiocGenerics':\n",
      "\n",
      "    combine, intersect, setdiff, union\n",
      "\n",
      "\n",
      "The following object is masked from 'package:matrixStats':\n",
      "\n",
      "    count\n",
      "\n",
      "\n",
      "The following objects are masked from 'package:stats':\n",
      "\n",
      "    filter, lag\n",
      "\n",
      "\n",
      "The following objects are masked from 'package:base':\n",
      "\n",
      "    intersect, setdiff, setequal, union\n",
      "\n",
      "\n",
      "Cargando paquete requerido: cluster\n",
      "\n",
      "Cargando paquete requerido: fpc\n",
      "\n",
      "Cargando paquete requerido: randomForest\n",
      "\n",
      "randomForest 4.7-1.2\n",
      "\n",
      "Type rfNews() to see new features/changes/bug fixes.\n",
      "\n",
      "\n",
      "Adjuntando el paquete: 'randomForest'\n",
      "\n",
      "\n",
      "The following object is masked from 'package:dplyr':\n",
      "\n",
      "    combine\n",
      "\n",
      "\n",
      "The following object is masked from 'package:Biobase':\n",
      "\n",
      "    combine\n",
      "\n",
      "\n",
      "The following object is masked from 'package:BiocGenerics':\n",
      "\n",
      "    combine\n",
      "\n",
      "\n",
      "Cargando paquete requerido: flexmix\n",
      "\n",
      "Cargando paquete requerido: lattice\n",
      "\n",
      "Cargando paquete requerido: RSKC\n",
      "\n",
      "Cargando paquete requerido: flexclust\n",
      "\n",
      "Cargando paquete requerido: grid\n",
      "\n",
      "Cargando paquete requerido: modeltools\n",
      "\n",
      "Cargando paquete requerido: sparcl\n",
      "\n",
      "Cargando paquete requerido: ggplot2\n",
      "\n",
      "\n",
      "Adjuntando el paquete: 'ggplot2'\n",
      "\n",
      "\n",
      "The following object is masked from 'package:randomForest':\n",
      "\n",
      "    margin\n",
      "\n",
      "\n",
      "Package 'mclust' version 6.1.1\n",
      "Type 'citation(\"mclust\")' for citing this R package in publications.\n",
      "\n"
     ]
    }
   ],
   "source": [
    "library(\"binom\") \n",
    "library(\"evaluomeR\")\n",
    "library(\"dplyr\")\n",
    "library(\"caret\")\n",
    "library(\"ggplot2\")\n",
    "library(\"ggrepel\")\n",
    "library(\"reshape2\")\n",
    "library(\"mclust\")\n",
    "\n",
    "options(scipen=10)\n",
    "options(repr.plot.width=12, repr.plot.height=12)"
   ]
  },
  {
   "cell_type": "code",
   "execution_count": 2,
   "id": "bce80bf1-f046-4de3-a13c-37616321a0db",
   "metadata": {},
   "outputs": [
    {
     "data": {
      "text/plain": [
       "[1] '4.4.1'"
      ]
     },
     "metadata": {},
     "output_type": "display_data"
    },
    {
     "data": {
      "text/plain": [
       "[1] '1.8.1'"
      ]
     },
     "metadata": {},
     "output_type": "display_data"
    }
   ],
   "source": [
    "getRversion()\n",
    "packageVersion(\"evaluomeR\")"
   ]
  },
  {
   "cell_type": "markdown",
   "id": "08d0e886",
   "metadata": {},
   "source": [
    "# Dataset <a class=\"anchor\" id=\"dataset\"></a>"
   ]
  },
  {
   "cell_type": "code",
   "execution_count": 3,
   "id": "cad180bc-ecbf-4aa4-bcba-ad55cc70af0e",
   "metadata": {},
   "outputs": [],
   "source": [
    "seed = 13606\n",
    "k.range = c(3,10)\n",
    "cbi = \"clara\"\n",
    "alpha = NULL\n",
    "max_alpha = 0.1 # Default 0.1"
   ]
  },
  {
   "cell_type": "code",
   "execution_count": 4,
   "id": "0a1bb939",
   "metadata": {},
   "outputs": [
    {
     "data": {
      "text/html": [
       "<table class=\"dataframe\">\n",
       "<caption>A data.frame: 6 × 201</caption>\n",
       "<thead>\n",
       "\t<tr><th></th><th scope=col>Description</th><th scope=col>X201909_at</th><th scope=col>X224588_at</th><th scope=col>X229012_at</th><th scope=col>X210033_s_at</th><th scope=col>X206018_at</th><th scope=col>X240065_at</th><th scope=col>X220156_at</th><th scope=col>X236448_at</th><th scope=col>X236085_at</th><th scope=col>⋯</th><th scope=col>X242517_at</th><th scope=col>X214822_at</th><th scope=col>X204850_s_at</th><th scope=col>X205358_at</th><th scope=col>X205891_at</th><th scope=col>X206002_at</th><th scope=col>X204379_s_at</th><th scope=col>X229651_at</th><th scope=col>X232377_at</th><th scope=col>X216356_x_at</th></tr>\n",
       "\t<tr><th></th><th scope=col>&lt;chr&gt;</th><th scope=col>&lt;dbl&gt;</th><th scope=col>&lt;dbl&gt;</th><th scope=col>&lt;dbl&gt;</th><th scope=col>&lt;dbl&gt;</th><th scope=col>&lt;dbl&gt;</th><th scope=col>&lt;dbl&gt;</th><th scope=col>&lt;dbl&gt;</th><th scope=col>&lt;dbl&gt;</th><th scope=col>&lt;dbl&gt;</th><th scope=col>⋯</th><th scope=col>&lt;dbl&gt;</th><th scope=col>&lt;dbl&gt;</th><th scope=col>&lt;dbl&gt;</th><th scope=col>&lt;dbl&gt;</th><th scope=col>&lt;dbl&gt;</th><th scope=col>&lt;dbl&gt;</th><th scope=col>&lt;dbl&gt;</th><th scope=col>&lt;dbl&gt;</th><th scope=col>&lt;dbl&gt;</th><th scope=col>&lt;dbl&gt;</th></tr>\n",
       "</thead>\n",
       "<tbody>\n",
       "\t<tr><th scope=row>GSM1214834</th><td>ependymoma</td><td>3.644194</td><td>1.678130</td><td>3.820705</td><td>3.735552</td><td>1.794471</td><td>3.624207</td><td>3.589067</td><td>1.172587</td><td>3.650788</td><td>⋯</td><td>1.478922</td><td>1.669697</td><td>2.350027</td><td>2.179516</td><td>2.812467</td><td>1.703945</td><td>3.743298</td><td>2.022782</td><td>1.899070</td><td>3.457520</td></tr>\n",
       "\t<tr><th scope=row>GSM1214835</th><td>ependymoma</td><td>1.667500</td><td>3.767506</td><td>3.224272</td><td>3.566060</td><td>3.608933</td><td>3.381327</td><td>3.315655</td><td>3.134809</td><td>3.003987</td><td>⋯</td><td>1.624345</td><td>3.086718</td><td>2.975795</td><td>3.559758</td><td>3.300258</td><td>1.721960</td><td>3.926462</td><td>1.998062</td><td>1.835340</td><td>3.617848</td></tr>\n",
       "\t<tr><th scope=row>GSM1214836</th><td>ependymoma</td><td>3.747256</td><td>1.676252</td><td>3.456146</td><td>3.642242</td><td>1.797164</td><td>3.520656</td><td>3.227379</td><td>1.194883</td><td>3.132884</td><td>⋯</td><td>2.540459</td><td>1.679353</td><td>3.073730</td><td>3.332086</td><td>3.042175</td><td>1.702741</td><td>3.663329</td><td>1.948550</td><td>3.174495</td><td>3.158945</td></tr>\n",
       "\t<tr><th scope=row>GSM1214837</th><td>ependymoma</td><td>1.636888</td><td>3.792194</td><td>3.823623</td><td>3.786311</td><td>3.818550</td><td>3.498731</td><td>3.578139</td><td>1.168471</td><td>3.366431</td><td>⋯</td><td>1.469006</td><td>1.711754</td><td>2.239812</td><td>2.990491</td><td>1.611182</td><td>3.535817</td><td>3.776126</td><td>1.990540</td><td>2.343159</td><td>3.518917</td></tr>\n",
       "\t<tr><th scope=row>GSM1214838</th><td>ependymoma</td><td>1.639904</td><td>3.809949</td><td>3.561411</td><td>1.590063</td><td>1.648297</td><td>2.997341</td><td>3.551927</td><td>2.933787</td><td>3.304503</td><td>⋯</td><td>1.457708</td><td>1.690724</td><td>3.074425</td><td>2.871530</td><td>3.268776</td><td>1.674714</td><td>3.622669</td><td>2.334402</td><td>1.845147</td><td>3.564103</td></tr>\n",
       "\t<tr><th scope=row>GSM1214839</th><td>ependymoma</td><td>3.700109</td><td>1.740624</td><td>3.893310</td><td>3.761085</td><td>1.841266</td><td>3.745520</td><td>3.746951</td><td>1.288353</td><td>3.724553</td><td>⋯</td><td>1.489215</td><td>1.688170</td><td>2.383684</td><td>3.319295</td><td>2.817745</td><td>1.716527</td><td>3.756038</td><td>2.005784</td><td>2.627615</td><td>3.230955</td></tr>\n",
       "</tbody>\n",
       "</table>\n"
      ],
      "text/latex": [
       "A data.frame: 6 × 201\n",
       "\\begin{tabular}{r|lllllllllllllllllllll}\n",
       "  & Description & X201909\\_at & X224588\\_at & X229012\\_at & X210033\\_s\\_at & X206018\\_at & X240065\\_at & X220156\\_at & X236448\\_at & X236085\\_at & ⋯ & X242517\\_at & X214822\\_at & X204850\\_s\\_at & X205358\\_at & X205891\\_at & X206002\\_at & X204379\\_s\\_at & X229651\\_at & X232377\\_at & X216356\\_x\\_at\\\\\n",
       "  & <chr> & <dbl> & <dbl> & <dbl> & <dbl> & <dbl> & <dbl> & <dbl> & <dbl> & <dbl> & ⋯ & <dbl> & <dbl> & <dbl> & <dbl> & <dbl> & <dbl> & <dbl> & <dbl> & <dbl> & <dbl>\\\\\n",
       "\\hline\n",
       "\tGSM1214834 & ependymoma & 3.644194 & 1.678130 & 3.820705 & 3.735552 & 1.794471 & 3.624207 & 3.589067 & 1.172587 & 3.650788 & ⋯ & 1.478922 & 1.669697 & 2.350027 & 2.179516 & 2.812467 & 1.703945 & 3.743298 & 2.022782 & 1.899070 & 3.457520\\\\\n",
       "\tGSM1214835 & ependymoma & 1.667500 & 3.767506 & 3.224272 & 3.566060 & 3.608933 & 3.381327 & 3.315655 & 3.134809 & 3.003987 & ⋯ & 1.624345 & 3.086718 & 2.975795 & 3.559758 & 3.300258 & 1.721960 & 3.926462 & 1.998062 & 1.835340 & 3.617848\\\\\n",
       "\tGSM1214836 & ependymoma & 3.747256 & 1.676252 & 3.456146 & 3.642242 & 1.797164 & 3.520656 & 3.227379 & 1.194883 & 3.132884 & ⋯ & 2.540459 & 1.679353 & 3.073730 & 3.332086 & 3.042175 & 1.702741 & 3.663329 & 1.948550 & 3.174495 & 3.158945\\\\\n",
       "\tGSM1214837 & ependymoma & 1.636888 & 3.792194 & 3.823623 & 3.786311 & 3.818550 & 3.498731 & 3.578139 & 1.168471 & 3.366431 & ⋯ & 1.469006 & 1.711754 & 2.239812 & 2.990491 & 1.611182 & 3.535817 & 3.776126 & 1.990540 & 2.343159 & 3.518917\\\\\n",
       "\tGSM1214838 & ependymoma & 1.639904 & 3.809949 & 3.561411 & 1.590063 & 1.648297 & 2.997341 & 3.551927 & 2.933787 & 3.304503 & ⋯ & 1.457708 & 1.690724 & 3.074425 & 2.871530 & 3.268776 & 1.674714 & 3.622669 & 2.334402 & 1.845147 & 3.564103\\\\\n",
       "\tGSM1214839 & ependymoma & 3.700109 & 1.740624 & 3.893310 & 3.761085 & 1.841266 & 3.745520 & 3.746951 & 1.288353 & 3.724553 & ⋯ & 1.489215 & 1.688170 & 2.383684 & 3.319295 & 2.817745 & 1.716527 & 3.756038 & 2.005784 & 2.627615 & 3.230955\\\\\n",
       "\\end{tabular}\n"
      ],
      "text/markdown": [
       "\n",
       "A data.frame: 6 × 201\n",
       "\n",
       "| <!--/--> | Description &lt;chr&gt; | X201909_at &lt;dbl&gt; | X224588_at &lt;dbl&gt; | X229012_at &lt;dbl&gt; | X210033_s_at &lt;dbl&gt; | X206018_at &lt;dbl&gt; | X240065_at &lt;dbl&gt; | X220156_at &lt;dbl&gt; | X236448_at &lt;dbl&gt; | X236085_at &lt;dbl&gt; | ⋯ ⋯ | X242517_at &lt;dbl&gt; | X214822_at &lt;dbl&gt; | X204850_s_at &lt;dbl&gt; | X205358_at &lt;dbl&gt; | X205891_at &lt;dbl&gt; | X206002_at &lt;dbl&gt; | X204379_s_at &lt;dbl&gt; | X229651_at &lt;dbl&gt; | X232377_at &lt;dbl&gt; | X216356_x_at &lt;dbl&gt; |\n",
       "|---|---|---|---|---|---|---|---|---|---|---|---|---|---|---|---|---|---|---|---|---|---|\n",
       "| GSM1214834 | ependymoma | 3.644194 | 1.678130 | 3.820705 | 3.735552 | 1.794471 | 3.624207 | 3.589067 | 1.172587 | 3.650788 | ⋯ | 1.478922 | 1.669697 | 2.350027 | 2.179516 | 2.812467 | 1.703945 | 3.743298 | 2.022782 | 1.899070 | 3.457520 |\n",
       "| GSM1214835 | ependymoma | 1.667500 | 3.767506 | 3.224272 | 3.566060 | 3.608933 | 3.381327 | 3.315655 | 3.134809 | 3.003987 | ⋯ | 1.624345 | 3.086718 | 2.975795 | 3.559758 | 3.300258 | 1.721960 | 3.926462 | 1.998062 | 1.835340 | 3.617848 |\n",
       "| GSM1214836 | ependymoma | 3.747256 | 1.676252 | 3.456146 | 3.642242 | 1.797164 | 3.520656 | 3.227379 | 1.194883 | 3.132884 | ⋯ | 2.540459 | 1.679353 | 3.073730 | 3.332086 | 3.042175 | 1.702741 | 3.663329 | 1.948550 | 3.174495 | 3.158945 |\n",
       "| GSM1214837 | ependymoma | 1.636888 | 3.792194 | 3.823623 | 3.786311 | 3.818550 | 3.498731 | 3.578139 | 1.168471 | 3.366431 | ⋯ | 1.469006 | 1.711754 | 2.239812 | 2.990491 | 1.611182 | 3.535817 | 3.776126 | 1.990540 | 2.343159 | 3.518917 |\n",
       "| GSM1214838 | ependymoma | 1.639904 | 3.809949 | 3.561411 | 1.590063 | 1.648297 | 2.997341 | 3.551927 | 2.933787 | 3.304503 | ⋯ | 1.457708 | 1.690724 | 3.074425 | 2.871530 | 3.268776 | 1.674714 | 3.622669 | 2.334402 | 1.845147 | 3.564103 |\n",
       "| GSM1214839 | ependymoma | 3.700109 | 1.740624 | 3.893310 | 3.761085 | 1.841266 | 3.745520 | 3.746951 | 1.288353 | 3.724553 | ⋯ | 1.489215 | 1.688170 | 2.383684 | 3.319295 | 2.817745 | 1.716527 | 3.756038 | 2.005784 | 2.627615 | 3.230955 |\n",
       "\n"
      ],
      "text/plain": [
       "           Description X201909_at X224588_at X229012_at X210033_s_at X206018_at\n",
       "GSM1214834 ependymoma  3.644194   1.678130   3.820705   3.735552     1.794471  \n",
       "GSM1214835 ependymoma  1.667500   3.767506   3.224272   3.566060     3.608933  \n",
       "GSM1214836 ependymoma  3.747256   1.676252   3.456146   3.642242     1.797164  \n",
       "GSM1214837 ependymoma  1.636888   3.792194   3.823623   3.786311     3.818550  \n",
       "GSM1214838 ependymoma  1.639904   3.809949   3.561411   1.590063     1.648297  \n",
       "GSM1214839 ependymoma  3.700109   1.740624   3.893310   3.761085     1.841266  \n",
       "           X240065_at X220156_at X236448_at X236085_at ⋯ X242517_at X214822_at\n",
       "GSM1214834 3.624207   3.589067   1.172587   3.650788   ⋯ 1.478922   1.669697  \n",
       "GSM1214835 3.381327   3.315655   3.134809   3.003987   ⋯ 1.624345   3.086718  \n",
       "GSM1214836 3.520656   3.227379   1.194883   3.132884   ⋯ 2.540459   1.679353  \n",
       "GSM1214837 3.498731   3.578139   1.168471   3.366431   ⋯ 1.469006   1.711754  \n",
       "GSM1214838 2.997341   3.551927   2.933787   3.304503   ⋯ 1.457708   1.690724  \n",
       "GSM1214839 3.745520   3.746951   1.288353   3.724553   ⋯ 1.489215   1.688170  \n",
       "           X204850_s_at X205358_at X205891_at X206002_at X204379_s_at\n",
       "GSM1214834 2.350027     2.179516   2.812467   1.703945   3.743298    \n",
       "GSM1214835 2.975795     3.559758   3.300258   1.721960   3.926462    \n",
       "GSM1214836 3.073730     3.332086   3.042175   1.702741   3.663329    \n",
       "GSM1214837 2.239812     2.990491   1.611182   3.535817   3.776126    \n",
       "GSM1214838 3.074425     2.871530   3.268776   1.674714   3.622669    \n",
       "GSM1214839 2.383684     3.319295   2.817745   1.716527   3.756038    \n",
       "           X229651_at X232377_at X216356_x_at\n",
       "GSM1214834 2.022782   1.899070   3.457520    \n",
       "GSM1214835 1.998062   1.835340   3.617848    \n",
       "GSM1214836 1.948550   3.174495   3.158945    \n",
       "GSM1214837 1.990540   2.343159   3.518917    \n",
       "GSM1214838 2.334402   1.845147   3.564103    \n",
       "GSM1214839 2.005784   2.627615   3.230955    "
      ]
     },
     "metadata": {},
     "output_type": "display_data"
    },
    {
     "data": {
      "text/html": [
       "<style>\n",
       ".list-inline {list-style: none; margin:0; padding: 0}\n",
       ".list-inline>li {display: inline-block}\n",
       ".list-inline>li:not(:last-child)::after {content: \"\\00b7\"; padding: 0 .5ex}\n",
       "</style>\n",
       "<ol class=list-inline><li>'ependymoma'</li><li>'glioblastoma'</li><li>'medulloblastoma'</li></ol>\n"
      ],
      "text/latex": [
       "\\begin{enumerate*}\n",
       "\\item 'ependymoma'\n",
       "\\item 'glioblastoma'\n",
       "\\item 'medulloblastoma'\n",
       "\\end{enumerate*}\n"
      ],
      "text/markdown": [
       "1. 'ependymoma'\n",
       "2. 'glioblastoma'\n",
       "3. 'medulloblastoma'\n",
       "\n",
       "\n"
      ],
      "text/plain": [
       "[1] \"ependymoma\"      \"glioblastoma\"    \"medulloblastoma\""
      ]
     },
     "metadata": {},
     "output_type": "display_data"
    }
   ],
   "source": [
    "load(\"BrainTumor200.RData\")\n",
    "dataset = BrainTumor200\n",
    "head(dataset)\n",
    "unique(dataset$Description)"
   ]
  },
  {
   "cell_type": "markdown",
   "id": "8a6ee24b",
   "metadata": {},
   "source": [
    "Three types of classes within the dataset: **B**, **T** and **M**."
   ]
  },
  {
   "cell_type": "code",
   "execution_count": 5,
   "id": "e3d9ffb3",
   "metadata": {},
   "outputs": [
    {
     "data": {
      "text/html": [
       "<style>\n",
       ".list-inline {list-style: none; margin:0; padding: 0}\n",
       ".list-inline>li {display: inline-block}\n",
       ".list-inline>li:not(:last-child)::after {content: \"\\00b7\"; padding: 0 .5ex}\n",
       "</style>\n",
       "<ol class=list-inline><li>1</li><li>1</li><li>1</li><li>1</li><li>1</li><li>1</li><li>1</li><li>1</li><li>1</li><li>1</li><li>1</li><li>1</li><li>1</li><li>1</li><li>1</li><li>1</li><li>1</li><li>1</li><li>1</li><li>1</li><li>1</li><li>1</li><li>1</li><li>1</li><li>1</li><li>1</li><li>1</li><li>1</li><li>1</li><li>1</li><li>1</li><li>1</li><li>1</li><li>1</li><li>1</li><li>1</li><li>1</li><li>1</li><li>1</li><li>1</li><li>1</li><li>1</li><li>1</li><li>1</li><li>1</li><li>1</li><li>2</li><li>2</li><li>2</li><li>2</li><li>2</li><li>2</li><li>2</li><li>2</li><li>2</li><li>2</li><li>2</li><li>2</li><li>2</li><li>2</li><li>2</li><li>2</li><li>2</li><li>2</li><li>2</li><li>2</li><li>2</li><li>2</li><li>2</li><li>2</li><li>2</li><li>2</li><li>2</li><li>2</li><li>2</li><li>2</li><li>2</li><li>2</li><li>2</li><li>2</li><li>3</li><li>3</li><li>3</li><li>3</li><li>3</li><li>3</li><li>3</li><li>3</li><li>3</li><li>3</li><li>3</li><li>3</li><li>3</li><li>3</li><li>3</li><li>3</li><li>3</li><li>3</li><li>3</li><li>3</li><li>3</li><li>3</li></ol>\n"
      ],
      "text/latex": [
       "\\begin{enumerate*}\n",
       "\\item 1\n",
       "\\item 1\n",
       "\\item 1\n",
       "\\item 1\n",
       "\\item 1\n",
       "\\item 1\n",
       "\\item 1\n",
       "\\item 1\n",
       "\\item 1\n",
       "\\item 1\n",
       "\\item 1\n",
       "\\item 1\n",
       "\\item 1\n",
       "\\item 1\n",
       "\\item 1\n",
       "\\item 1\n",
       "\\item 1\n",
       "\\item 1\n",
       "\\item 1\n",
       "\\item 1\n",
       "\\item 1\n",
       "\\item 1\n",
       "\\item 1\n",
       "\\item 1\n",
       "\\item 1\n",
       "\\item 1\n",
       "\\item 1\n",
       "\\item 1\n",
       "\\item 1\n",
       "\\item 1\n",
       "\\item 1\n",
       "\\item 1\n",
       "\\item 1\n",
       "\\item 1\n",
       "\\item 1\n",
       "\\item 1\n",
       "\\item 1\n",
       "\\item 1\n",
       "\\item 1\n",
       "\\item 1\n",
       "\\item 1\n",
       "\\item 1\n",
       "\\item 1\n",
       "\\item 1\n",
       "\\item 1\n",
       "\\item 1\n",
       "\\item 2\n",
       "\\item 2\n",
       "\\item 2\n",
       "\\item 2\n",
       "\\item 2\n",
       "\\item 2\n",
       "\\item 2\n",
       "\\item 2\n",
       "\\item 2\n",
       "\\item 2\n",
       "\\item 2\n",
       "\\item 2\n",
       "\\item 2\n",
       "\\item 2\n",
       "\\item 2\n",
       "\\item 2\n",
       "\\item 2\n",
       "\\item 2\n",
       "\\item 2\n",
       "\\item 2\n",
       "\\item 2\n",
       "\\item 2\n",
       "\\item 2\n",
       "\\item 2\n",
       "\\item 2\n",
       "\\item 2\n",
       "\\item 2\n",
       "\\item 2\n",
       "\\item 2\n",
       "\\item 2\n",
       "\\item 2\n",
       "\\item 2\n",
       "\\item 2\n",
       "\\item 2\n",
       "\\item 3\n",
       "\\item 3\n",
       "\\item 3\n",
       "\\item 3\n",
       "\\item 3\n",
       "\\item 3\n",
       "\\item 3\n",
       "\\item 3\n",
       "\\item 3\n",
       "\\item 3\n",
       "\\item 3\n",
       "\\item 3\n",
       "\\item 3\n",
       "\\item 3\n",
       "\\item 3\n",
       "\\item 3\n",
       "\\item 3\n",
       "\\item 3\n",
       "\\item 3\n",
       "\\item 3\n",
       "\\item 3\n",
       "\\item 3\n",
       "\\end{enumerate*}\n"
      ],
      "text/markdown": [
       "1. 1\n",
       "2. 1\n",
       "3. 1\n",
       "4. 1\n",
       "5. 1\n",
       "6. 1\n",
       "7. 1\n",
       "8. 1\n",
       "9. 1\n",
       "10. 1\n",
       "11. 1\n",
       "12. 1\n",
       "13. 1\n",
       "14. 1\n",
       "15. 1\n",
       "16. 1\n",
       "17. 1\n",
       "18. 1\n",
       "19. 1\n",
       "20. 1\n",
       "21. 1\n",
       "22. 1\n",
       "23. 1\n",
       "24. 1\n",
       "25. 1\n",
       "26. 1\n",
       "27. 1\n",
       "28. 1\n",
       "29. 1\n",
       "30. 1\n",
       "31. 1\n",
       "32. 1\n",
       "33. 1\n",
       "34. 1\n",
       "35. 1\n",
       "36. 1\n",
       "37. 1\n",
       "38. 1\n",
       "39. 1\n",
       "40. 1\n",
       "41. 1\n",
       "42. 1\n",
       "43. 1\n",
       "44. 1\n",
       "45. 1\n",
       "46. 1\n",
       "47. 2\n",
       "48. 2\n",
       "49. 2\n",
       "50. 2\n",
       "51. 2\n",
       "52. 2\n",
       "53. 2\n",
       "54. 2\n",
       "55. 2\n",
       "56. 2\n",
       "57. 2\n",
       "58. 2\n",
       "59. 2\n",
       "60. 2\n",
       "61. 2\n",
       "62. 2\n",
       "63. 2\n",
       "64. 2\n",
       "65. 2\n",
       "66. 2\n",
       "67. 2\n",
       "68. 2\n",
       "69. 2\n",
       "70. 2\n",
       "71. 2\n",
       "72. 2\n",
       "73. 2\n",
       "74. 2\n",
       "75. 2\n",
       "76. 2\n",
       "77. 2\n",
       "78. 2\n",
       "79. 2\n",
       "80. 2\n",
       "81. 3\n",
       "82. 3\n",
       "83. 3\n",
       "84. 3\n",
       "85. 3\n",
       "86. 3\n",
       "87. 3\n",
       "88. 3\n",
       "89. 3\n",
       "90. 3\n",
       "91. 3\n",
       "92. 3\n",
       "93. 3\n",
       "94. 3\n",
       "95. 3\n",
       "96. 3\n",
       "97. 3\n",
       "98. 3\n",
       "99. 3\n",
       "100. 3\n",
       "101. 3\n",
       "102. 3\n",
       "\n",
       "\n"
      ],
      "text/plain": [
       "  [1] 1 1 1 1 1 1 1 1 1 1 1 1 1 1 1 1 1 1 1 1 1 1 1 1 1 1 1 1 1 1 1 1 1 1 1 1 1\n",
       " [38] 1 1 1 1 1 1 1 1 1 2 2 2 2 2 2 2 2 2 2 2 2 2 2 2 2 2 2 2 2 2 2 2 2 2 2 2 2\n",
       " [75] 2 2 2 2 2 2 3 3 3 3 3 3 3 3 3 3 3 3 3 3 3 3 3 3 3 3 3 3"
      ]
     },
     "metadata": {},
     "output_type": "display_data"
    }
   ],
   "source": [
    "level_mapping <- c(\"ependymoma\" = 1, \"glioblastoma\" = 2, \"medulloblastoma\" = 3)\n",
    "map_strings_to_numbers <- function(strings) {\n",
    "  factorized <- factor(strings, levels = names(level_mapping))\n",
    "  as.numeric(factorized)\n",
    "}\n",
    "gold_standard_vector = as.vector(unlist(lapply(dataset[\"Description\"], map_strings_to_numbers)))\n",
    "gold_standard_vector"
   ]
  },
  {
   "cell_type": "code",
   "execution_count": 6,
   "id": "82762fa9-673d-4b72-bda8-625e1b06d700",
   "metadata": {},
   "outputs": [
    {
     "name": "stderr",
     "output_type": "stream",
     "text": [
      "Preprocessing dataset\n",
      "\n",
      "Removing non-numeric columns...\n",
      "\n",
      "\tColumns are numeric\n",
      "\n",
      "Removing correlations...\n",
      "\n",
      "\tNo correlated columns found\n",
      "\n",
      "Checking PCA suitability...\n",
      "\n",
      "\tPCA is not suitable. Bartlett's test produced NA for p-value.\n",
      "\n"
     ]
    },
    {
     "data": {
      "text/html": [
       "<table class=\"dataframe\">\n",
       "<caption>A data.frame: 6 × 201</caption>\n",
       "<thead>\n",
       "\t<tr><th></th><th scope=col>Description</th><th scope=col>X201909_at</th><th scope=col>X224588_at</th><th scope=col>X229012_at</th><th scope=col>X210033_s_at</th><th scope=col>X206018_at</th><th scope=col>X240065_at</th><th scope=col>X220156_at</th><th scope=col>X236448_at</th><th scope=col>X236085_at</th><th scope=col>⋯</th><th scope=col>X242517_at</th><th scope=col>X214822_at</th><th scope=col>X204850_s_at</th><th scope=col>X205358_at</th><th scope=col>X205891_at</th><th scope=col>X206002_at</th><th scope=col>X204379_s_at</th><th scope=col>X229651_at</th><th scope=col>X232377_at</th><th scope=col>X216356_x_at</th></tr>\n",
       "\t<tr><th></th><th scope=col>&lt;chr&gt;</th><th scope=col>&lt;dbl&gt;</th><th scope=col>&lt;dbl&gt;</th><th scope=col>&lt;dbl&gt;</th><th scope=col>&lt;dbl&gt;</th><th scope=col>&lt;dbl&gt;</th><th scope=col>&lt;dbl&gt;</th><th scope=col>&lt;dbl&gt;</th><th scope=col>&lt;dbl&gt;</th><th scope=col>&lt;dbl&gt;</th><th scope=col>⋯</th><th scope=col>&lt;dbl&gt;</th><th scope=col>&lt;dbl&gt;</th><th scope=col>&lt;dbl&gt;</th><th scope=col>&lt;dbl&gt;</th><th scope=col>&lt;dbl&gt;</th><th scope=col>&lt;dbl&gt;</th><th scope=col>&lt;dbl&gt;</th><th scope=col>&lt;dbl&gt;</th><th scope=col>&lt;dbl&gt;</th><th scope=col>&lt;dbl&gt;</th></tr>\n",
       "</thead>\n",
       "<tbody>\n",
       "\t<tr><th scope=row>GSM1214834</th><td>ependymoma</td><td>3.644194</td><td>1.678130</td><td>3.820705</td><td>3.735552</td><td>1.794471</td><td>3.624207</td><td>3.589067</td><td>1.172587</td><td>3.650788</td><td>⋯</td><td>1.478922</td><td>1.669697</td><td>2.350027</td><td>2.179516</td><td>2.812467</td><td>1.703945</td><td>3.743298</td><td>2.022782</td><td>1.899070</td><td>3.457520</td></tr>\n",
       "\t<tr><th scope=row>GSM1214835</th><td>ependymoma</td><td>1.667500</td><td>3.767506</td><td>3.224272</td><td>3.566060</td><td>3.608933</td><td>3.381327</td><td>3.315655</td><td>3.134809</td><td>3.003987</td><td>⋯</td><td>1.624345</td><td>3.086718</td><td>2.975795</td><td>3.559758</td><td>3.300258</td><td>1.721960</td><td>3.926462</td><td>1.998062</td><td>1.835340</td><td>3.617848</td></tr>\n",
       "\t<tr><th scope=row>GSM1214836</th><td>ependymoma</td><td>3.747256</td><td>1.676252</td><td>3.456146</td><td>3.642242</td><td>1.797164</td><td>3.520656</td><td>3.227379</td><td>1.194883</td><td>3.132884</td><td>⋯</td><td>2.540459</td><td>1.679353</td><td>3.073730</td><td>3.332086</td><td>3.042175</td><td>1.702741</td><td>3.663329</td><td>1.948550</td><td>3.174495</td><td>3.158945</td></tr>\n",
       "\t<tr><th scope=row>GSM1214837</th><td>ependymoma</td><td>1.636888</td><td>3.792194</td><td>3.823623</td><td>3.786311</td><td>3.818550</td><td>3.498731</td><td>3.578139</td><td>1.168471</td><td>3.366431</td><td>⋯</td><td>1.469006</td><td>1.711754</td><td>2.239812</td><td>2.990491</td><td>1.611182</td><td>3.535817</td><td>3.776126</td><td>1.990540</td><td>2.343159</td><td>3.518917</td></tr>\n",
       "\t<tr><th scope=row>GSM1214838</th><td>ependymoma</td><td>1.639904</td><td>3.809949</td><td>3.561411</td><td>1.590063</td><td>1.648297</td><td>2.997341</td><td>3.551927</td><td>2.933787</td><td>3.304503</td><td>⋯</td><td>1.457708</td><td>1.690724</td><td>3.074425</td><td>2.871530</td><td>3.268776</td><td>1.674714</td><td>3.622669</td><td>2.334402</td><td>1.845147</td><td>3.564103</td></tr>\n",
       "\t<tr><th scope=row>GSM1214839</th><td>ependymoma</td><td>3.700109</td><td>1.740624</td><td>3.893310</td><td>3.761085</td><td>1.841266</td><td>3.745520</td><td>3.746951</td><td>1.288353</td><td>3.724553</td><td>⋯</td><td>1.489215</td><td>1.688170</td><td>2.383684</td><td>3.319295</td><td>2.817745</td><td>1.716527</td><td>3.756038</td><td>2.005784</td><td>2.627615</td><td>3.230955</td></tr>\n",
       "</tbody>\n",
       "</table>\n"
      ],
      "text/latex": [
       "A data.frame: 6 × 201\n",
       "\\begin{tabular}{r|lllllllllllllllllllll}\n",
       "  & Description & X201909\\_at & X224588\\_at & X229012\\_at & X210033\\_s\\_at & X206018\\_at & X240065\\_at & X220156\\_at & X236448\\_at & X236085\\_at & ⋯ & X242517\\_at & X214822\\_at & X204850\\_s\\_at & X205358\\_at & X205891\\_at & X206002\\_at & X204379\\_s\\_at & X229651\\_at & X232377\\_at & X216356\\_x\\_at\\\\\n",
       "  & <chr> & <dbl> & <dbl> & <dbl> & <dbl> & <dbl> & <dbl> & <dbl> & <dbl> & <dbl> & ⋯ & <dbl> & <dbl> & <dbl> & <dbl> & <dbl> & <dbl> & <dbl> & <dbl> & <dbl> & <dbl>\\\\\n",
       "\\hline\n",
       "\tGSM1214834 & ependymoma & 3.644194 & 1.678130 & 3.820705 & 3.735552 & 1.794471 & 3.624207 & 3.589067 & 1.172587 & 3.650788 & ⋯ & 1.478922 & 1.669697 & 2.350027 & 2.179516 & 2.812467 & 1.703945 & 3.743298 & 2.022782 & 1.899070 & 3.457520\\\\\n",
       "\tGSM1214835 & ependymoma & 1.667500 & 3.767506 & 3.224272 & 3.566060 & 3.608933 & 3.381327 & 3.315655 & 3.134809 & 3.003987 & ⋯ & 1.624345 & 3.086718 & 2.975795 & 3.559758 & 3.300258 & 1.721960 & 3.926462 & 1.998062 & 1.835340 & 3.617848\\\\\n",
       "\tGSM1214836 & ependymoma & 3.747256 & 1.676252 & 3.456146 & 3.642242 & 1.797164 & 3.520656 & 3.227379 & 1.194883 & 3.132884 & ⋯ & 2.540459 & 1.679353 & 3.073730 & 3.332086 & 3.042175 & 1.702741 & 3.663329 & 1.948550 & 3.174495 & 3.158945\\\\\n",
       "\tGSM1214837 & ependymoma & 1.636888 & 3.792194 & 3.823623 & 3.786311 & 3.818550 & 3.498731 & 3.578139 & 1.168471 & 3.366431 & ⋯ & 1.469006 & 1.711754 & 2.239812 & 2.990491 & 1.611182 & 3.535817 & 3.776126 & 1.990540 & 2.343159 & 3.518917\\\\\n",
       "\tGSM1214838 & ependymoma & 1.639904 & 3.809949 & 3.561411 & 1.590063 & 1.648297 & 2.997341 & 3.551927 & 2.933787 & 3.304503 & ⋯ & 1.457708 & 1.690724 & 3.074425 & 2.871530 & 3.268776 & 1.674714 & 3.622669 & 2.334402 & 1.845147 & 3.564103\\\\\n",
       "\tGSM1214839 & ependymoma & 3.700109 & 1.740624 & 3.893310 & 3.761085 & 1.841266 & 3.745520 & 3.746951 & 1.288353 & 3.724553 & ⋯ & 1.489215 & 1.688170 & 2.383684 & 3.319295 & 2.817745 & 1.716527 & 3.756038 & 2.005784 & 2.627615 & 3.230955\\\\\n",
       "\\end{tabular}\n"
      ],
      "text/markdown": [
       "\n",
       "A data.frame: 6 × 201\n",
       "\n",
       "| <!--/--> | Description &lt;chr&gt; | X201909_at &lt;dbl&gt; | X224588_at &lt;dbl&gt; | X229012_at &lt;dbl&gt; | X210033_s_at &lt;dbl&gt; | X206018_at &lt;dbl&gt; | X240065_at &lt;dbl&gt; | X220156_at &lt;dbl&gt; | X236448_at &lt;dbl&gt; | X236085_at &lt;dbl&gt; | ⋯ ⋯ | X242517_at &lt;dbl&gt; | X214822_at &lt;dbl&gt; | X204850_s_at &lt;dbl&gt; | X205358_at &lt;dbl&gt; | X205891_at &lt;dbl&gt; | X206002_at &lt;dbl&gt; | X204379_s_at &lt;dbl&gt; | X229651_at &lt;dbl&gt; | X232377_at &lt;dbl&gt; | X216356_x_at &lt;dbl&gt; |\n",
       "|---|---|---|---|---|---|---|---|---|---|---|---|---|---|---|---|---|---|---|---|---|---|\n",
       "| GSM1214834 | ependymoma | 3.644194 | 1.678130 | 3.820705 | 3.735552 | 1.794471 | 3.624207 | 3.589067 | 1.172587 | 3.650788 | ⋯ | 1.478922 | 1.669697 | 2.350027 | 2.179516 | 2.812467 | 1.703945 | 3.743298 | 2.022782 | 1.899070 | 3.457520 |\n",
       "| GSM1214835 | ependymoma | 1.667500 | 3.767506 | 3.224272 | 3.566060 | 3.608933 | 3.381327 | 3.315655 | 3.134809 | 3.003987 | ⋯ | 1.624345 | 3.086718 | 2.975795 | 3.559758 | 3.300258 | 1.721960 | 3.926462 | 1.998062 | 1.835340 | 3.617848 |\n",
       "| GSM1214836 | ependymoma | 3.747256 | 1.676252 | 3.456146 | 3.642242 | 1.797164 | 3.520656 | 3.227379 | 1.194883 | 3.132884 | ⋯ | 2.540459 | 1.679353 | 3.073730 | 3.332086 | 3.042175 | 1.702741 | 3.663329 | 1.948550 | 3.174495 | 3.158945 |\n",
       "| GSM1214837 | ependymoma | 1.636888 | 3.792194 | 3.823623 | 3.786311 | 3.818550 | 3.498731 | 3.578139 | 1.168471 | 3.366431 | ⋯ | 1.469006 | 1.711754 | 2.239812 | 2.990491 | 1.611182 | 3.535817 | 3.776126 | 1.990540 | 2.343159 | 3.518917 |\n",
       "| GSM1214838 | ependymoma | 1.639904 | 3.809949 | 3.561411 | 1.590063 | 1.648297 | 2.997341 | 3.551927 | 2.933787 | 3.304503 | ⋯ | 1.457708 | 1.690724 | 3.074425 | 2.871530 | 3.268776 | 1.674714 | 3.622669 | 2.334402 | 1.845147 | 3.564103 |\n",
       "| GSM1214839 | ependymoma | 3.700109 | 1.740624 | 3.893310 | 3.761085 | 1.841266 | 3.745520 | 3.746951 | 1.288353 | 3.724553 | ⋯ | 1.489215 | 1.688170 | 2.383684 | 3.319295 | 2.817745 | 1.716527 | 3.756038 | 2.005784 | 2.627615 | 3.230955 |\n",
       "\n"
      ],
      "text/plain": [
       "           Description X201909_at X224588_at X229012_at X210033_s_at X206018_at\n",
       "GSM1214834 ependymoma  3.644194   1.678130   3.820705   3.735552     1.794471  \n",
       "GSM1214835 ependymoma  1.667500   3.767506   3.224272   3.566060     3.608933  \n",
       "GSM1214836 ependymoma  3.747256   1.676252   3.456146   3.642242     1.797164  \n",
       "GSM1214837 ependymoma  1.636888   3.792194   3.823623   3.786311     3.818550  \n",
       "GSM1214838 ependymoma  1.639904   3.809949   3.561411   1.590063     1.648297  \n",
       "GSM1214839 ependymoma  3.700109   1.740624   3.893310   3.761085     1.841266  \n",
       "           X240065_at X220156_at X236448_at X236085_at ⋯ X242517_at X214822_at\n",
       "GSM1214834 3.624207   3.589067   1.172587   3.650788   ⋯ 1.478922   1.669697  \n",
       "GSM1214835 3.381327   3.315655   3.134809   3.003987   ⋯ 1.624345   3.086718  \n",
       "GSM1214836 3.520656   3.227379   1.194883   3.132884   ⋯ 2.540459   1.679353  \n",
       "GSM1214837 3.498731   3.578139   1.168471   3.366431   ⋯ 1.469006   1.711754  \n",
       "GSM1214838 2.997341   3.551927   2.933787   3.304503   ⋯ 1.457708   1.690724  \n",
       "GSM1214839 3.745520   3.746951   1.288353   3.724553   ⋯ 1.489215   1.688170  \n",
       "           X204850_s_at X205358_at X205891_at X206002_at X204379_s_at\n",
       "GSM1214834 2.350027     2.179516   2.812467   1.703945   3.743298    \n",
       "GSM1214835 2.975795     3.559758   3.300258   1.721960   3.926462    \n",
       "GSM1214836 3.073730     3.332086   3.042175   1.702741   3.663329    \n",
       "GSM1214837 2.239812     2.990491   1.611182   3.535817   3.776126    \n",
       "GSM1214838 3.074425     2.871530   3.268776   1.674714   3.622669    \n",
       "GSM1214839 2.383684     3.319295   2.817745   1.716527   3.756038    \n",
       "           X229651_at X232377_at X216356_x_at\n",
       "GSM1214834 2.022782   1.899070   3.457520    \n",
       "GSM1214835 1.998062   1.835340   3.617848    \n",
       "GSM1214836 1.948550   3.174495   3.158945    \n",
       "GSM1214837 1.990540   2.343159   3.518917    \n",
       "GSM1214838 2.334402   1.845147   3.564103    \n",
       "GSM1214839 2.005784   2.627615   3.230955    "
      ]
     },
     "metadata": {},
     "output_type": "display_data"
    }
   ],
   "source": [
    "dataset_clean = evaluomeR::cleanDataset(dataset, correlation_threshold=1)\n",
    "pca_suitability = evaluomeR::PCASuitability(dataset_clean$R, sig_level = 0.05)\n",
    "dataset = dataset_clean$dataset\n",
    "\n",
    "if (pca_suitability$pca_suitable) {\n",
    "    r_pca = evaluomeR::performPCA(dataset = dataset)\n",
    "    dataset = r_pca$dataset_ncp\n",
    "    evaluomeR::plotPCA_fviz_screeplot(r_pca$pca)\n",
    "    evaluomeR::plotPCA_fviz_biplot(r_pca$pca)\n",
    "}\n",
    "head(dataset)"
   ]
  },
  {
   "cell_type": "markdown",
   "id": "82a10a31",
   "metadata": {},
   "source": [
    "# evaluomeR - (ATSC) optimal $k$ analysis <a class=\"anchor\" id=\"evaluomeR\"></a>\n",
    "\n",
    "In this Section, evaluomeR executes an optimal $k$ analysis. First, stabilities and qualities are calculated, considering all the metrics in the dataset. The $k$ range is $k \\in [3,10]$ and the clustering method is `clara`."
   ]
  },
  {
   "cell_type": "code",
   "execution_count": 7,
   "id": "e6e4f6f7-49be-478f-9258-f30c81a7e48d",
   "metadata": {},
   "outputs": [
    {
     "name": "stderr",
     "output_type": "stream",
     "text": [
      "Computing optimal k value with 'clara'\n",
      "\n",
      "Warning: 'gold_standard' parameter is set, argument 'bs' will be ignored.\n",
      "\n",
      "\n",
      "\n",
      "Data loaded.\n",
      "Number of rows: 102\n",
      "Number of columns: 201\n",
      "\n",
      "\n",
      "\n",
      "Processing all metrics, 'merge', in dataframe (200)\n",
      "\n",
      "\tCalculation of k = 3\n",
      "\n",
      "\tCalculation of k = 4\n",
      "\n",
      "\tCalculation of k = 5\n",
      "\n",
      "\tCalculation of k = 6\n",
      "\n",
      "\tCalculation of k = 7\n",
      "\n",
      "\tCalculation of k = 8\n",
      "\n",
      "\tCalculation of k = 9\n",
      "\n",
      "\tCalculation of k = 10\n",
      "\n",
      "\n",
      "\n",
      "Data loaded.\n",
      "Number of rows: 102\n",
      "Number of columns: 201\n",
      "\n",
      "\n",
      "\n",
      "Processing all metrics, 'merge', in dataframe (200)\n",
      "\n",
      "\tCalculation of k = 3\n",
      "\n",
      "\tCalculation of k = 4\n",
      "\n",
      "\tCalculation of k = 5\n",
      "\n",
      "\tCalculation of k = 6\n",
      "\n",
      "\tCalculation of k = 7\n",
      "\n",
      "\tCalculation of k = 8\n",
      "\n",
      "\tCalculation of k = 9\n",
      "\n",
      "\tCalculation of k = 10\n",
      "\n",
      "Processing metric: all_metrics\n",
      "\n",
      "\n",
      "\tMaximum stability and quality values matches the same K value: '3'\n",
      "\n",
      "\n",
      "Optimal k: 3\n",
      "\n",
      "Determining best L1 and alpha parameter automatically, it might take a while...\n",
      "\n",
      "Computing best L1 boundry with 'sparcl::KMeansSparseCluster.permute'\n",
      "\n",
      "Best L1 found is: 11.2112753007614\n",
      "\n",
      "Running stability and quality indexes with alpha=0 k=3 L1=11.2112753007614\n",
      "\n",
      "Running stability and quality indexes with alpha=0.01 k=3 L1=11.2112753007614\n",
      "\n",
      "Running stability and quality indexes with alpha=0.02 k=3 L1=11.2112753007614\n",
      "\n",
      "Running stability and quality indexes with alpha=0.03 k=3 L1=11.2112753007614\n",
      "\n",
      "Running stability and quality indexes with alpha=0.04 k=3 L1=11.2112753007614\n",
      "\n",
      "Running stability and quality indexes with alpha=0.05 k=3 L1=11.2112753007614\n",
      "\n",
      "Running stability and quality indexes with alpha=0.06 k=3 L1=11.2112753007614\n",
      "\n",
      "Running stability and quality indexes with alpha=0.07 k=3 L1=11.2112753007614\n",
      "\n",
      "Running stability and quality indexes with alpha=0.08 k=3 L1=11.2112753007614\n",
      "\n",
      "Running stability and quality indexes with alpha=0.09 k=3 L1=11.2112753007614\n",
      "\n",
      "Running stability and quality indexes with alpha=0.1 k=3 L1=11.2112753007614\n",
      "\n",
      "Highest stability found when alpha=0.02 (1)\n",
      "\n",
      "Highest quality found when alpha=0 (0.281255143776337)\n",
      "\n",
      "\tUsing L1 '11.2112753007614' and alpha '0'\n",
      "\n",
      "Running Trimmed & Sparse Clustering algorithm\n",
      "\n",
      "\tNumber of affected columns: 17\n",
      "\n",
      "Computing optimal k value on the dataset processed by a trimmed sparse clustering method.\n",
      "\n",
      "Warning: 'gold_standard' parameter is set, argument 'bs' will be ignored.\n",
      "\n",
      "\n",
      "\n",
      "Data loaded.\n",
      "Number of rows: 102\n",
      "Number of columns: 184\n",
      "\n",
      "\n",
      "\n",
      "Processing all metrics, 'merge', in dataframe (183)\n",
      "\n",
      "\tCalculation of k = 3\n",
      "\n",
      "\tCalculation of k = 4\n",
      "\n",
      "\tCalculation of k = 5\n",
      "\n",
      "\tCalculation of k = 6\n",
      "\n",
      "\tCalculation of k = 7\n",
      "\n",
      "\tCalculation of k = 8\n",
      "\n",
      "\tCalculation of k = 9\n",
      "\n",
      "\tCalculation of k = 10\n",
      "\n",
      "\n",
      "\n",
      "Data loaded.\n",
      "Number of rows: 102\n",
      "Number of columns: 184\n",
      "\n",
      "\n",
      "\n",
      "Processing all metrics, 'merge', in dataframe (183)\n",
      "\n",
      "\tCalculation of k = 3\n",
      "\n",
      "\tCalculation of k = 4\n",
      "\n",
      "\tCalculation of k = 5\n",
      "\n",
      "\tCalculation of k = 6\n",
      "\n",
      "\tCalculation of k = 7\n",
      "\n",
      "\tCalculation of k = 8\n",
      "\n",
      "\tCalculation of k = 9\n",
      "\n",
      "\tCalculation of k = 10\n",
      "\n",
      "Processing metric: all_metrics\n",
      "\n",
      "\n",
      "\tMaximum stability and quality values matches the same K value: '3'\n",
      "\n",
      "\n",
      "New optimal k with ATSC: 3\n",
      "\n"
     ]
    }
   ],
   "source": [
    "r_atsc = evaluomeR::ATSC(data=dataset, k.range=k.range, cbi=cbi, alpha=alpha, \n",
    "                         max_alpha=max_alpha, gold_standard=gold_standard_vector, seed=seed)"
   ]
  },
  {
   "cell_type": "code",
   "execution_count": 8,
   "id": "f9076b37-b31d-45a7-94e4-9287262f0d02",
   "metadata": {},
   "outputs": [
    {
     "name": "stdout",
     "output_type": "stream",
     "text": [
      "[1] \"ATSC Optimal k: 3\"\n",
      "[1] \"Best L1 boundry found: 11.2112753007614\"\n",
      "[1] \"Best alpha found: 0\"\n"
     ]
    }
   ],
   "source": [
    "print(paste0(\"ATSC Optimal k: \", r_atsc$optimalK_ATSC))\n",
    "print(paste0(\"Best L1 boundry found: \", r_atsc$L1))\n",
    "print(paste0(\"Best alpha found: \", r_atsc$alpha))\n",
    "if (!is.null(r_atsc$gold_standard_trimmed)) {\n",
    "    print(paste0(\"Gold standard vector trimmed, current values are:\"))\n",
    "    print(gold_standard_vector)\n",
    "    print(\"After:\")\n",
    "    print(r_atsc$gold_standard_trimmed)\n",
    "    gold_standard_vector = r_atsc$gold_standard_trimmed\n",
    "}"
   ]
  },
  {
   "cell_type": "markdown",
   "id": "6ab90a46",
   "metadata": {},
   "source": [
    "## Stability plotting <a class=\"anchor\" id=\"evaluomeR_stab_plot\"></a>\n",
    "\n",
    "Stability plot"
   ]
  },
  {
   "cell_type": "code",
   "execution_count": 9,
   "id": "948b87f7",
   "metadata": {},
   "outputs": [],
   "source": [
    "stab = r_atsc$stab\n",
    "rownames(stab) = c(paste0(\"stab_\", cbi))\n",
    "stab$Metric = rownames(stab)\n",
    "stab$Method = \"without ATSC\"\n",
    "stab_melt = melt(stab, id.vars = c(\"Metric\", \"Method\"))\n",
    "\n",
    "stab_ATSC = r_atsc$stab_ATSC\n",
    "rownames(stab_ATSC) = c(paste0(\"stab_\", \"ATSC\"))\n",
    "stab_ATSC$Metric = rownames(stab_ATSC)\n",
    "stab_ATSC$Method = \"with ATSC\"\n",
    "stab_ATSC_melt = melt(stab_ATSC, id.vars = c(\"Metric\", \"Method\"))"
   ]
  },
  {
   "cell_type": "code",
   "execution_count": 10,
   "id": "399f8f27-faf8-4866-b9a1-5e79af597eb5",
   "metadata": {},
   "outputs": [
    {
     "data": {
      "text/html": [
       "<table class=\"dataframe\">\n",
       "<caption>A data.frame: 1 × 10</caption>\n",
       "<thead>\n",
       "\t<tr><th></th><th scope=col>k_3</th><th scope=col>k_4</th><th scope=col>k_5</th><th scope=col>k_6</th><th scope=col>k_7</th><th scope=col>k_8</th><th scope=col>k_9</th><th scope=col>k_10</th><th scope=col>Metric</th><th scope=col>Method</th></tr>\n",
       "\t<tr><th></th><th scope=col>&lt;dbl&gt;</th><th scope=col>&lt;dbl&gt;</th><th scope=col>&lt;dbl&gt;</th><th scope=col>&lt;dbl&gt;</th><th scope=col>&lt;dbl&gt;</th><th scope=col>&lt;dbl&gt;</th><th scope=col>&lt;dbl&gt;</th><th scope=col>&lt;dbl&gt;</th><th scope=col>&lt;chr&gt;</th><th scope=col>&lt;chr&gt;</th></tr>\n",
       "</thead>\n",
       "<tbody>\n",
       "\t<tr><th scope=row>stab_ATSC</th><td>0.9438944</td><td>0.8926422</td><td>0.8380897</td><td>0.8227529</td><td>0.77053</td><td>0.7567463</td><td>0.7567463</td><td>0.7538342</td><td>stab_ATSC</td><td>with ATSC</td></tr>\n",
       "</tbody>\n",
       "</table>\n"
      ],
      "text/latex": [
       "A data.frame: 1 × 10\n",
       "\\begin{tabular}{r|llllllllll}\n",
       "  & k\\_3 & k\\_4 & k\\_5 & k\\_6 & k\\_7 & k\\_8 & k\\_9 & k\\_10 & Metric & Method\\\\\n",
       "  & <dbl> & <dbl> & <dbl> & <dbl> & <dbl> & <dbl> & <dbl> & <dbl> & <chr> & <chr>\\\\\n",
       "\\hline\n",
       "\tstab\\_ATSC & 0.9438944 & 0.8926422 & 0.8380897 & 0.8227529 & 0.77053 & 0.7567463 & 0.7567463 & 0.7538342 & stab\\_ATSC & with ATSC\\\\\n",
       "\\end{tabular}\n"
      ],
      "text/markdown": [
       "\n",
       "A data.frame: 1 × 10\n",
       "\n",
       "| <!--/--> | k_3 &lt;dbl&gt; | k_4 &lt;dbl&gt; | k_5 &lt;dbl&gt; | k_6 &lt;dbl&gt; | k_7 &lt;dbl&gt; | k_8 &lt;dbl&gt; | k_9 &lt;dbl&gt; | k_10 &lt;dbl&gt; | Metric &lt;chr&gt; | Method &lt;chr&gt; |\n",
       "|---|---|---|---|---|---|---|---|---|---|---|\n",
       "| stab_ATSC | 0.9438944 | 0.8926422 | 0.8380897 | 0.8227529 | 0.77053 | 0.7567463 | 0.7567463 | 0.7538342 | stab_ATSC | with ATSC |\n",
       "\n"
      ],
      "text/plain": [
       "          k_3       k_4       k_5       k_6       k_7     k_8       k_9      \n",
       "stab_ATSC 0.9438944 0.8926422 0.8380897 0.8227529 0.77053 0.7567463 0.7567463\n",
       "          k_10      Metric    Method   \n",
       "stab_ATSC 0.7538342 stab_ATSC with ATSC"
      ]
     },
     "metadata": {},
     "output_type": "display_data"
    }
   ],
   "source": [
    "stab_ATSC"
   ]
  },
  {
   "cell_type": "code",
   "execution_count": 11,
   "id": "bea9fd39-0d44-4295-b25f-e55a4b52ef32",
   "metadata": {},
   "outputs": [],
   "source": [
    "library(scales)\n",
    "\n",
    "# This method makes the range [0,0.6], [0.6,0.75], [0.75, 0.85], [0.85,1] the same size in the Y axis\n",
    "equal_parts_transformation_stability <- trans_new(\n",
    "    name = \"equal_parts\",\n",
    "    transform = function(x) {\n",
    "        ifelse(x <= 0.6, x / 0.6 * 0.25, # Map 0-0.6 to 0-0.25\n",
    "               ifelse(x <= 0.75, 0.25 + (x - 0.6) / 0.15 * 0.25, # Map 0.6-0.75 to 0.25-0.5\n",
    "                      ifelse(x <= 0.85, 0.5 + (x - 0.75) / 0.1 * 0.25, # Map 0.75-0.85 to 0.5-0.75\n",
    "                             0.75 + (x - 0.85) / 0.15 * 0.25))) # Map 0.85-1 to 0.75-1\n",
    "    },\n",
    "    inverse = function(y) {\n",
    "        ifelse(y <= 0.25, y * 0.6 / 0.25, # Map 0-0.25 back to 0-0.6\n",
    "               ifelse(y <= 0.5, 0.6 + (y - 0.25) * 0.15 / 0.25, # Map 0.25-0.5 back to 0.6-0.75\n",
    "                      ifelse(y <= 0.75, 0.75 + (y - 0.5) * 0.1 / 0.25, # Map 0.5-0.75 back to 0.75-0.85\n",
    "                             0.85 + (y - 0.75) * 0.15 / 0.25))) # Map 0.75-1 back to 0.85-1\n",
    "    }\n",
    ")\n",
    "\n",
    "# This method makes the range [-1,0.25], [0.25,0.5], [0.5,0.7],[0.7,1] the same size in the Y axis\n",
    "equal_parts_transformation_quality <- trans_new(\n",
    "    name = \"equal_parts\",\n",
    "    transform = function(x) {\n",
    "        ifelse(x <= 0.25, (x + 1) / 1.25 * 0.25, # Map [-1, 0.25] to [0, 0.25]\n",
    "               ifelse(x <= 0.5, 0.25 + (x - 0.25) / 0.25 * 0.25, # Map [0.25, 0.5] to [0.25, 0.5]\n",
    "                      ifelse(x <= 0.7, 0.5 + (x - 0.5) / 0.2 * 0.25, # Map [0.5, 0.7] to [0.5, 0.75]\n",
    "                             0.75 + (x - 0.7) / 0.3 * 0.25))) # Map [0.7, 1] to [0.75, 1]\n",
    "    },\n",
    "    inverse = function(y) {\n",
    "        ifelse(y <= 0.25, y * 1.25 - 1, # Map [0, 0.25] back to [-1, 0.25]\n",
    "               ifelse(y <= 0.5, 0.25 + (y - 0.25) * 0.25, # Map [0.25, 0.5] back to [0.25, 0.5]\n",
    "                      ifelse(y <= 0.75, 0.5 + (y - 0.5) * 0.2, # Map [0.5, 0.75] back to [0.5, 0.7]\n",
    "                             0.7 + (y - 0.75) * 0.3))) # Map [0.75, 1] back to [0.7, 1]\n",
    "    }\n",
    ")"
   ]
  },
  {
   "cell_type": "code",
   "execution_count": 12,
   "id": "650ec629",
   "metadata": {},
   "outputs": [
    {
     "name": "stderr",
     "output_type": "stream",
     "text": [
      "Warning message:\n",
      "\"\u001b[1m\u001b[22mUsing `size` aesthetic for lines was deprecated in ggplot2 3.4.0.\n",
      "\u001b[36mℹ\u001b[39m Please use `linewidth` instead.\"\n"
     ]
    },
    {
     "data": {
      "image/png": "[encoded data removed]",
      "text/plain": [
       "plot without title"
      ]
     },
     "metadata": {
      "image/png": {
       "height": 720,
       "width": 720
      }
     },
     "output_type": "display_data"
    }
   ],
   "source": [
    "colors <- c(\"#4B4B4B\", \"#1E90FF\", \"black\", \"darkgray\", \"gray\", \"lightgray\", \"white\")\n",
    "\n",
    "\n",
    "p <- ggplot(stab_melt, aes(x = variable, y = value, color = Method, group = Method)) +\n",
    "    geom_point(size = 3) +\n",
    "    geom_line(size = 1.2) +\n",
    "    scale_color_manual(values = colors) +\n",
    "    labs(\n",
    "        title = paste0('Leukemia stability ', cbi, ' - k = [', k.range[1], \",\", k.range[2], ']'),\n",
    "        x = 'k',\n",
    "        y = 'Stability'\n",
    "    ) +\n",
    "    scale_y_continuous(\n",
    "        trans = equal_parts_transformation_stability,\n",
    "        breaks = c(0, 0.6, 0.75, 0.85, 1),\n",
    "        labels = c(\"0\", \"0.6\", \"0.75\", \"0.85\", \"1\")\n",
    "    ) +\n",
    "    theme_minimal() +\n",
    "    theme(\n",
    "        plot.title = element_text(hjust = 0.5, size = 20, face = \"bold\"),\n",
    "        legend.position = \"right\",\n",
    "        legend.title = element_text(size = 18),\n",
    "        legend.text = element_text(size = 16),\n",
    "        axis.title.x = element_text(size = 20),\n",
    "        axis.title.y = element_text(size = 20),\n",
    "        axis.text = element_text(size = 16)\n",
    "    )\n",
    "\n",
    "p + \n",
    "    annotate(\"rect\", xmin = -Inf, xmax = Inf, ymin = 0.85, ymax = 1, alpha = 0.3, fill = \"green\") +\n",
    "    annotate(\"rect\", xmin = -Inf, xmax = Inf, ymin = 0.75, ymax = 0.85, alpha = 0.2, fill = \"green\") +\n",
    "    annotate(\"rect\", xmin = -Inf, xmax = Inf, ymin = 0.6, ymax = 0.75, alpha = 0.1, fill = \"green\") +\n",
    "    annotate(\"rect\", xmin = -Inf, xmax = Inf, ymin = 0, ymax = 0.6, alpha = 0.1, fill = \"white\")\n"
   ]
  },
  {
   "cell_type": "code",
   "execution_count": 13,
   "id": "84ecf61e-68fa-40cc-a0ae-49c944239966",
   "metadata": {},
   "outputs": [
    {
     "data": {
      "image/png": "[encoded data removed]",
      "text/plain": [
       "plot without title"
      ]
     },
     "metadata": {
      "image/png": {
       "height": 720,
       "width": 720
      }
     },
     "output_type": "display_data"
    }
   ],
   "source": [
    "# Stab ATSC\n",
    "p <- ggplot(stab_ATSC_melt, aes(x = variable, y = value, color = Method, group = Method)) +\n",
    "    geom_point(size = 3) +\n",
    "     geom_line(size = 1.2) +\n",
    "  scale_color_manual(values = colors) +\n",
    "  labs(\n",
    "    title = paste0('Leukemia stability ATSC - k = [', k.range[1], \",\", k.range[2], ']'),\n",
    "    x = 'k',\n",
    "    y = 'Stability'\n",
    "  ) +\n",
    "  scale_y_continuous(\n",
    "        trans = equal_parts_transformation_stability,\n",
    "        breaks = c(0, 0.6, 0.75, 0.85, 1),\n",
    "        labels = c(\"0\", \"0.6\", \"0.75\", \"0.85\", \"1\")\n",
    "    ) +\n",
    "  theme_minimal() +\n",
    "  theme(\n",
    "    plot.title = element_text(hjust = 0.5, size = 20, face = \"bold\"),\n",
    "    legend.position = \"right\",\n",
    "    legend.title = element_text(size = 18),\n",
    "    legend.text = element_text(size = 16),\n",
    "    axis.title.x = element_text(size = 20),\n",
    "    axis.title.y = element_text(size = 20),\n",
    "    axis.text = element_text(size = 16)\n",
    "  )\n",
    "\n",
    "p + \n",
    "  annotate(\"rect\", xmin = -Inf, xmax = Inf, ymin = 0.85, ymax = 1, alpha = 0.3, fill = \"green\") +\n",
    "  annotate(\"rect\", xmin = -Inf, xmax = Inf, ymin = 0.75, ymax = 0.85, alpha = 0.2, fill = \"green\") +\n",
    "  annotate(\"rect\", xmin = -Inf, xmax = Inf, ymin = 0.6, ymax = 0.75, alpha = 0.1, fill = \"green\") +\n",
    "  annotate(\"rect\", xmin = -Inf, xmax = Inf, ymin = 0, ymax = 0.6, alpha = 0.1, fill = \"white\")"
   ]
  },
  {
   "cell_type": "code",
   "execution_count": 14,
   "id": "28f5c4b5-307d-4a8f-893b-72fb463b3ee4",
   "metadata": {},
   "outputs": [
    {
     "data": {
      "image/png": "[encoded data removed]",
      "text/plain": [
       "plot without title"
      ]
     },
     "metadata": {
      "image/png": {
       "height": 720,
       "width": 720
      }
     },
     "output_type": "display_data"
    }
   ],
   "source": [
    "all_stab = rbind(stab_ATSC_melt, stab_melt)\n",
    "p <- ggplot(all_stab, aes(x = variable, y = value, color = Method, group = Method)) +\n",
    "    geom_point(size = 3) +\n",
    "     geom_line(size = 1.2) +\n",
    "  scale_color_manual(values = colors) +\n",
    "  labs(\n",
    "    title = expression(bold(\"Leukemia - Automated Trimmed and Sparse Clustering\")),\n",
    "    subtitle = \"Stability analysis across k in [3,10]\",\n",
    "    x = 'k',\n",
    "    y = 'Stability'\n",
    "  ) +\n",
    "  scale_y_continuous(\n",
    "        trans = equal_parts_transformation_stability,\n",
    "        breaks = c(0, 0.6, 0.75, 0.85, 1),\n",
    "        labels = c(\"0\", \"0.6\", \"0.75\", \"0.85\", \"1\")\n",
    "    ) +\n",
    "  scale_x_discrete(labels = function(x) sub(\"k_\", \"\", x)) +\n",
    "  theme_minimal() +\n",
    "  theme(\n",
    "    plot.title = element_text(hjust = 0.5, size = 20, face = \"bold\"),\n",
    "    plot.subtitle = element_text(hjust = 0.5, size = 20, face = \"italic\", color = \"gray40\"),\n",
    "    legend.position = \"right\",\n",
    "    legend.title = element_text(size = 18),\n",
    "    legend.text = element_text(size = 16),\n",
    "    axis.title.x = element_text(size = 20),\n",
    "    axis.title.y = element_text(size = 20),\n",
    "    axis.text = element_text(size = 16)\n",
    "  )\n",
    "\n",
    "p + \n",
    "  annotate(\"rect\", xmin = -Inf, xmax = Inf, ymin = 0.85, ymax = 1, alpha = 0.3, fill = \"green\") +\n",
    "  annotate(\"rect\", xmin = -Inf, xmax = Inf, ymin = 0.75, ymax = 0.85, alpha = 0.2, fill = \"green\") +\n",
    "  annotate(\"rect\", xmin = -Inf, xmax = Inf, ymin = 0.6, ymax = 0.75, alpha = 0.1, fill = \"green\") +\n",
    "  annotate(\"rect\", xmin = -Inf, xmax = Inf, ymin = 0, ymax = 0.6, alpha = 0.1, fill = \"white\")"
   ]
  },
  {
   "cell_type": "markdown",
   "id": "11c054b1",
   "metadata": {},
   "source": [
    "## Quality plotting <a class=\"anchor\" id=\"evaluomeR_qual_plot\"></a>\n",
    "\n",
    "Quality plot"
   ]
  },
  {
   "cell_type": "code",
   "execution_count": 15,
   "id": "7881c7ac",
   "metadata": {},
   "outputs": [],
   "source": [
    "qual = r_atsc$qual\n",
    "rownames(qual) = c(paste0(\"qual_\", cbi))\n",
    "qual$Metric = rownames(qual)\n",
    "qual$Method = \"without ATSC\"\n",
    "qual_melt = melt(qual, id.vars = c(\"Metric\", \"Method\"))\n",
    "\n",
    "qual_ATSC = r_atsc$qual_ATSC\n",
    "rownames(qual_ATSC) = c(paste0(\"qual_\", \"ATSC\"))\n",
    "qual_ATSC$Metric = rownames(qual_ATSC)\n",
    "qual_ATSC$Method = \"with ATSC\"\n",
    "qual_ATSC_melt = melt(qual_ATSC, id.vars = c(\"Metric\", \"Method\"))"
   ]
  },
  {
   "cell_type": "code",
   "execution_count": 16,
   "id": "b442246b",
   "metadata": {},
   "outputs": [
    {
     "data": {
      "image/png": "[encoded data removed]",
      "text/plain": [
       "plot without title"
      ]
     },
     "metadata": {
      "image/png": {
       "height": 720,
       "width": 720
      }
     },
     "output_type": "display_data"
    }
   ],
   "source": [
    "p <- ggplot(qual_melt, aes(x = variable, y = value, color = Method, group = Method)) +\n",
    "     geom_point(size = 3) +\n",
    "     geom_line(size = 1.2) +\n",
    "  scale_color_manual(values = colors) +\n",
    "  labs(\n",
    "    title = paste0('BRCA quality -  k in [', k.range[1], \",\", k.range[2], ']'),\n",
    "    x = 'k',\n",
    "    y = 'Quality'\n",
    "  ) +\n",
    "  scale_y_continuous(\n",
    "        trans = equal_parts_transformation_quality,\n",
    "        breaks = c(-1, 0.25, 0.5, 0.7, 1),\n",
    "        labels = c(\"-1\", \"0.25\", \"0.5\", \"0.7\", \"1\")\n",
    "    ) +\n",
    "  theme_minimal() +\n",
    "  theme(\n",
    "    plot.title = element_text(hjust = 0.5, size = 20, face = \"bold\"),\n",
    "    legend.position = \"right\",\n",
    "    legend.title = element_text(size = 18),\n",
    "    legend.text = element_text(size = 16),\n",
    "    axis.title.x = element_text(size = 20),\n",
    "    axis.title.y = element_text(size = 20),\n",
    "    axis.text = element_text(size = 16)\n",
    "  )\n",
    "\n",
    "p + \n",
    "  annotate(\"rect\", xmin = -Inf, xmax = Inf, ymin = 0.7, ymax = 1, alpha = 0.3, fill = \"green\") +\n",
    "  annotate(\"rect\", xmin = -Inf, xmax = Inf, ymin = 0.5, ymax = 0.7, alpha = 0.2, fill = \"green\") +\n",
    "  annotate(\"rect\", xmin = -Inf, xmax = Inf, ymin = 0.25, ymax = 0.5, alpha = 0.1, fill = \"green\") +\n",
    "  annotate(\"rect\", xmin = -Inf, xmax = Inf, ymin = -1, ymax = 0.25, alpha = 0.1, fill = \"white\")"
   ]
  },
  {
   "cell_type": "code",
   "execution_count": 17,
   "id": "ff1ff2ce-6a96-481f-ba66-07ce95b8b66b",
   "metadata": {},
   "outputs": [
    {
     "data": {
      "image/png": "[encoded data removed]",
      "text/plain": [
       "plot without title"
      ]
     },
     "metadata": {
      "image/png": {
       "height": 720,
       "width": 720
      }
     },
     "output_type": "display_data"
    }
   ],
   "source": [
    "p <- ggplot(qual_ATSC_melt, aes(x = variable, y = value, color = Method, group = Method)) +\n",
    "     geom_point(size = 3) +\n",
    "     geom_line(size = 1.2) +\n",
    "  scale_color_manual(values = colors) +\n",
    "  labs(\n",
    "    title = paste0('BRCA quality -  k in [', k.range[1], \",\", k.range[2], ']'),\n",
    "    x = 'k',\n",
    "    y = 'Quality'\n",
    "  ) +\n",
    "  scale_y_continuous(\n",
    "        trans = equal_parts_transformation_quality,\n",
    "        breaks = c(-1, 0.25, 0.5, 0.7, 1),\n",
    "        labels = c(\"-1\", \"0.25\", \"0.5\", \"0.7\", \"1\")\n",
    "    ) +\n",
    "  theme_minimal() +\n",
    "  theme(\n",
    "    plot.title = element_text(hjust = 0.5, size = 20, face = \"bold\"),\n",
    "    legend.position = \"right\",\n",
    "    legend.title = element_text(size = 18),\n",
    "    legend.text = element_text(size = 16),\n",
    "    axis.title.x = element_text(size = 20),\n",
    "    axis.title.y = element_text(size = 20),\n",
    "    axis.text = element_text(size = 16)\n",
    "  )\n",
    "\n",
    "p + \n",
    "  annotate(\"rect\", xmin = -Inf, xmax = Inf, ymin = 0.7, ymax = 1, alpha = 0.3, fill = \"green\") +\n",
    "  annotate(\"rect\", xmin = -Inf, xmax = Inf, ymin = 0.5, ymax = 0.7, alpha = 0.2, fill = \"green\") +\n",
    "  annotate(\"rect\", xmin = -Inf, xmax = Inf, ymin = 0.25, ymax = 0.5, alpha = 0.1, fill = \"green\") +\n",
    "  annotate(\"rect\", xmin = -Inf, xmax = Inf, ymin = -1, ymax = 0.25, alpha = 0.1, fill = \"white\")"
   ]
  },
  {
   "cell_type": "code",
   "execution_count": 18,
   "id": "41967c3a-0862-4c3d-a0c9-44e6421515d0",
   "metadata": {},
   "outputs": [
    {
     "data": {
      "image/png": "[encoded data removed]",
      "text/plain": [
       "plot without title"
      ]
     },
     "metadata": {
      "image/png": {
       "height": 720,
       "width": 720
      }
     },
     "output_type": "display_data"
    }
   ],
   "source": [
    "all_qual = rbind(qual_ATSC_melt, qual_melt)\n",
    "p <- ggplot(all_qual, aes(x = variable, y = value, color = Method, group = Method)) +\n",
    "     geom_point(size = 3.5) +\n",
    "     geom_line(size = 1.5) +\n",
    "  scale_color_manual(values = colors) +\n",
    "  labs(\n",
    "    title = expression(bold(\"BRCA - Automated Trimmed and Sparse Clustering\")),\n",
    "    subtitle = \"Quality analysis across k in [3,10]\",\n",
    "    x = 'k',\n",
    "    y = 'Quality'\n",
    "  ) +\n",
    "  scale_y_continuous(\n",
    "        trans = equal_parts_transformation_quality,\n",
    "        breaks = c(-1, 0.25, 0.5, 0.7, 1),\n",
    "        labels = c(\"-1\", \"0.25\", \"0.5\", \"0.7\", \"1\")\n",
    "    ) +\n",
    "  scale_x_discrete(labels = function(x) sub(\"k_\", \"\", x)) +\n",
    "  theme_minimal() +\n",
    "  theme(\n",
    "    plot.title = element_text(hjust = 0.5, size = 20, face = \"bold\"),\n",
    "    plot.subtitle = element_text(hjust = 0.5, size = 20, face = \"italic\", color = \"gray40\"),\n",
    "    legend.position = \"right\",\n",
    "    legend.title = element_text(size = 18),\n",
    "    legend.text = element_text(size = 16),\n",
    "    axis.title.x = element_text(size = 20),\n",
    "    axis.title.y = element_text(size = 20),\n",
    "    axis.text = element_text(size = 16)\n",
    "  )\n",
    "\n",
    "p + \n",
    "  annotate(\"rect\", xmin = -Inf, xmax = Inf, ymin = 0.7, ymax = 1, alpha = 0.3, fill = \"green\") +\n",
    "  annotate(\"rect\", xmin = -Inf, xmax = Inf, ymin = 0.5, ymax = 0.7, alpha = 0.2, fill = \"green\") +\n",
    "  annotate(\"rect\", xmin = -Inf, xmax = Inf, ymin = 0.25, ymax = 0.5, alpha = 0.1, fill = \"green\") +\n",
    "  annotate(\"rect\", xmin = -Inf, xmax = Inf, ymin = -1, ymax = 0.25, alpha = 0.1, fill = \"white\")"
   ]
  },
  {
   "cell_type": "markdown",
   "id": "3d3cef07",
   "metadata": {},
   "source": [
    "Determining the optimal $k$ given the stabilities and qualities in `stab_range` and `qual_range` objects:"
   ]
  },
  {
   "cell_type": "code",
   "execution_count": 19,
   "id": "ec99c5e5",
   "metadata": {},
   "outputs": [
    {
     "name": "stdout",
     "output_type": "stream",
     "text": [
      "[1] \"Stabilities and qualities per k with 'clara' as clustering method\"\n"
     ]
    },
    {
     "data": {
      "text/html": [
       "<table class=\"dataframe\">\n",
       "<caption>A data.frame: 1 × 10</caption>\n",
       "<thead>\n",
       "\t<tr><th></th><th scope=col>k_3</th><th scope=col>k_4</th><th scope=col>k_5</th><th scope=col>k_6</th><th scope=col>k_7</th><th scope=col>k_8</th><th scope=col>k_9</th><th scope=col>k_10</th><th scope=col>Metric</th><th scope=col>Method</th></tr>\n",
       "\t<tr><th></th><th scope=col>&lt;dbl&gt;</th><th scope=col>&lt;dbl&gt;</th><th scope=col>&lt;dbl&gt;</th><th scope=col>&lt;dbl&gt;</th><th scope=col>&lt;dbl&gt;</th><th scope=col>&lt;dbl&gt;</th><th scope=col>&lt;dbl&gt;</th><th scope=col>&lt;dbl&gt;</th><th scope=col>&lt;chr&gt;</th><th scope=col>&lt;chr&gt;</th></tr>\n",
       "</thead>\n",
       "<tbody>\n",
       "\t<tr><th scope=row>stab_clara</th><td>0.9438944</td><td>0.8926422</td><td>0.8415842</td><td>0.7862551</td><td>0.7742186</td><td>0.7604349</td><td>0.7557756</td><td>0.7495632</td><td>stab_clara</td><td>without ATSC</td></tr>\n",
       "</tbody>\n",
       "</table>\n"
      ],
      "text/latex": [
       "A data.frame: 1 × 10\n",
       "\\begin{tabular}{r|llllllllll}\n",
       "  & k\\_3 & k\\_4 & k\\_5 & k\\_6 & k\\_7 & k\\_8 & k\\_9 & k\\_10 & Metric & Method\\\\\n",
       "  & <dbl> & <dbl> & <dbl> & <dbl> & <dbl> & <dbl> & <dbl> & <dbl> & <chr> & <chr>\\\\\n",
       "\\hline\n",
       "\tstab\\_clara & 0.9438944 & 0.8926422 & 0.8415842 & 0.7862551 & 0.7742186 & 0.7604349 & 0.7557756 & 0.7495632 & stab\\_clara & without ATSC\\\\\n",
       "\\end{tabular}\n"
      ],
      "text/markdown": [
       "\n",
       "A data.frame: 1 × 10\n",
       "\n",
       "| <!--/--> | k_3 &lt;dbl&gt; | k_4 &lt;dbl&gt; | k_5 &lt;dbl&gt; | k_6 &lt;dbl&gt; | k_7 &lt;dbl&gt; | k_8 &lt;dbl&gt; | k_9 &lt;dbl&gt; | k_10 &lt;dbl&gt; | Metric &lt;chr&gt; | Method &lt;chr&gt; |\n",
       "|---|---|---|---|---|---|---|---|---|---|---|\n",
       "| stab_clara | 0.9438944 | 0.8926422 | 0.8415842 | 0.7862551 | 0.7742186 | 0.7604349 | 0.7557756 | 0.7495632 | stab_clara | without ATSC |\n",
       "\n"
      ],
      "text/plain": [
       "           k_3       k_4       k_5       k_6       k_7       k_8      \n",
       "stab_clara 0.9438944 0.8926422 0.8415842 0.7862551 0.7742186 0.7604349\n",
       "           k_9       k_10      Metric     Method      \n",
       "stab_clara 0.7557756 0.7495632 stab_clara without ATSC"
      ]
     },
     "metadata": {},
     "output_type": "display_data"
    },
    {
     "data": {
      "text/html": [
       "<table class=\"dataframe\">\n",
       "<caption>A data.frame: 1 × 10</caption>\n",
       "<thead>\n",
       "\t<tr><th></th><th scope=col>k_3</th><th scope=col>k_4</th><th scope=col>k_5</th><th scope=col>k_6</th><th scope=col>k_7</th><th scope=col>k_8</th><th scope=col>k_9</th><th scope=col>k_10</th><th scope=col>Metric</th><th scope=col>Method</th></tr>\n",
       "\t<tr><th></th><th scope=col>&lt;dbl&gt;</th><th scope=col>&lt;dbl&gt;</th><th scope=col>&lt;dbl&gt;</th><th scope=col>&lt;dbl&gt;</th><th scope=col>&lt;dbl&gt;</th><th scope=col>&lt;dbl&gt;</th><th scope=col>&lt;dbl&gt;</th><th scope=col>&lt;dbl&gt;</th><th scope=col>&lt;chr&gt;</th><th scope=col>&lt;chr&gt;</th></tr>\n",
       "</thead>\n",
       "<tbody>\n",
       "\t<tr><th scope=row>qual_clara</th><td>0.2812551</td><td>0.2666611</td><td>0.2228029</td><td>0.161488</td><td>0.1488047</td><td>0.1401556</td><td>0.1407952</td><td>0.1291944</td><td>qual_clara</td><td>without ATSC</td></tr>\n",
       "</tbody>\n",
       "</table>\n"
      ],
      "text/latex": [
       "A data.frame: 1 × 10\n",
       "\\begin{tabular}{r|llllllllll}\n",
       "  & k\\_3 & k\\_4 & k\\_5 & k\\_6 & k\\_7 & k\\_8 & k\\_9 & k\\_10 & Metric & Method\\\\\n",
       "  & <dbl> & <dbl> & <dbl> & <dbl> & <dbl> & <dbl> & <dbl> & <dbl> & <chr> & <chr>\\\\\n",
       "\\hline\n",
       "\tqual\\_clara & 0.2812551 & 0.2666611 & 0.2228029 & 0.161488 & 0.1488047 & 0.1401556 & 0.1407952 & 0.1291944 & qual\\_clara & without ATSC\\\\\n",
       "\\end{tabular}\n"
      ],
      "text/markdown": [
       "\n",
       "A data.frame: 1 × 10\n",
       "\n",
       "| <!--/--> | k_3 &lt;dbl&gt; | k_4 &lt;dbl&gt; | k_5 &lt;dbl&gt; | k_6 &lt;dbl&gt; | k_7 &lt;dbl&gt; | k_8 &lt;dbl&gt; | k_9 &lt;dbl&gt; | k_10 &lt;dbl&gt; | Metric &lt;chr&gt; | Method &lt;chr&gt; |\n",
       "|---|---|---|---|---|---|---|---|---|---|---|\n",
       "| qual_clara | 0.2812551 | 0.2666611 | 0.2228029 | 0.161488 | 0.1488047 | 0.1401556 | 0.1407952 | 0.1291944 | qual_clara | without ATSC |\n",
       "\n"
      ],
      "text/plain": [
       "           k_3       k_4       k_5       k_6      k_7       k_8       k_9      \n",
       "qual_clara 0.2812551 0.2666611 0.2228029 0.161488 0.1488047 0.1401556 0.1407952\n",
       "           k_10      Metric     Method      \n",
       "qual_clara 0.1291944 qual_clara without ATSC"
      ]
     },
     "metadata": {},
     "output_type": "display_data"
    },
    {
     "name": "stdout",
     "output_type": "stream",
     "text": [
      "[1] \"Stabily in k=3: 0.943894389438944\"\n",
      "[1] \"Quality in k=3: 0.281255143776337\"\n"
     ]
    }
   ],
   "source": [
    "print(paste0(\"Stabilities and qualities per k with '\", cbi, \"' as clustering method\"))\n",
    "stab\n",
    "qual\n",
    "print(paste0(\"Stabily in k=\", r_atsc$optimalK,\": \", stab[paste0(\"k_\",r_atsc$optimalK)]))\n",
    "print(paste0(\"Quality in k=\", r_atsc$optimalK,\": \", qual[paste0(\"k_\",r_atsc$optimalK)]))"
   ]
  },
  {
   "cell_type": "code",
   "execution_count": 20,
   "id": "4e51e9b3-9085-4a0b-a5d0-fb842f1f0a62",
   "metadata": {},
   "outputs": [
    {
     "name": "stdout",
     "output_type": "stream",
     "text": [
      "[1] \"Stabilities and qualities per k with 'ATSC' as clustering method\"\n"
     ]
    },
    {
     "data": {
      "text/html": [
       "<table class=\"dataframe\">\n",
       "<caption>A data.frame: 1 × 10</caption>\n",
       "<thead>\n",
       "\t<tr><th></th><th scope=col>k_3</th><th scope=col>k_4</th><th scope=col>k_5</th><th scope=col>k_6</th><th scope=col>k_7</th><th scope=col>k_8</th><th scope=col>k_9</th><th scope=col>k_10</th><th scope=col>Metric</th><th scope=col>Method</th></tr>\n",
       "\t<tr><th></th><th scope=col>&lt;dbl&gt;</th><th scope=col>&lt;dbl&gt;</th><th scope=col>&lt;dbl&gt;</th><th scope=col>&lt;dbl&gt;</th><th scope=col>&lt;dbl&gt;</th><th scope=col>&lt;dbl&gt;</th><th scope=col>&lt;dbl&gt;</th><th scope=col>&lt;dbl&gt;</th><th scope=col>&lt;chr&gt;</th><th scope=col>&lt;chr&gt;</th></tr>\n",
       "</thead>\n",
       "<tbody>\n",
       "\t<tr><th scope=row>stab_ATSC</th><td>0.9438944</td><td>0.8926422</td><td>0.8380897</td><td>0.8227529</td><td>0.77053</td><td>0.7567463</td><td>0.7567463</td><td>0.7538342</td><td>stab_ATSC</td><td>with ATSC</td></tr>\n",
       "</tbody>\n",
       "</table>\n"
      ],
      "text/latex": [
       "A data.frame: 1 × 10\n",
       "\\begin{tabular}{r|llllllllll}\n",
       "  & k\\_3 & k\\_4 & k\\_5 & k\\_6 & k\\_7 & k\\_8 & k\\_9 & k\\_10 & Metric & Method\\\\\n",
       "  & <dbl> & <dbl> & <dbl> & <dbl> & <dbl> & <dbl> & <dbl> & <dbl> & <chr> & <chr>\\\\\n",
       "\\hline\n",
       "\tstab\\_ATSC & 0.9438944 & 0.8926422 & 0.8380897 & 0.8227529 & 0.77053 & 0.7567463 & 0.7567463 & 0.7538342 & stab\\_ATSC & with ATSC\\\\\n",
       "\\end{tabular}\n"
      ],
      "text/markdown": [
       "\n",
       "A data.frame: 1 × 10\n",
       "\n",
       "| <!--/--> | k_3 &lt;dbl&gt; | k_4 &lt;dbl&gt; | k_5 &lt;dbl&gt; | k_6 &lt;dbl&gt; | k_7 &lt;dbl&gt; | k_8 &lt;dbl&gt; | k_9 &lt;dbl&gt; | k_10 &lt;dbl&gt; | Metric &lt;chr&gt; | Method &lt;chr&gt; |\n",
       "|---|---|---|---|---|---|---|---|---|---|---|\n",
       "| stab_ATSC | 0.9438944 | 0.8926422 | 0.8380897 | 0.8227529 | 0.77053 | 0.7567463 | 0.7567463 | 0.7538342 | stab_ATSC | with ATSC |\n",
       "\n"
      ],
      "text/plain": [
       "          k_3       k_4       k_5       k_6       k_7     k_8       k_9      \n",
       "stab_ATSC 0.9438944 0.8926422 0.8380897 0.8227529 0.77053 0.7567463 0.7567463\n",
       "          k_10      Metric    Method   \n",
       "stab_ATSC 0.7538342 stab_ATSC with ATSC"
      ]
     },
     "metadata": {},
     "output_type": "display_data"
    },
    {
     "data": {
      "text/html": [
       "<table class=\"dataframe\">\n",
       "<caption>A data.frame: 1 × 10</caption>\n",
       "<thead>\n",
       "\t<tr><th></th><th scope=col>k_3</th><th scope=col>k_4</th><th scope=col>k_5</th><th scope=col>k_6</th><th scope=col>k_7</th><th scope=col>k_8</th><th scope=col>k_9</th><th scope=col>k_10</th><th scope=col>Metric</th><th scope=col>Method</th></tr>\n",
       "\t<tr><th></th><th scope=col>&lt;dbl&gt;</th><th scope=col>&lt;dbl&gt;</th><th scope=col>&lt;dbl&gt;</th><th scope=col>&lt;dbl&gt;</th><th scope=col>&lt;dbl&gt;</th><th scope=col>&lt;dbl&gt;</th><th scope=col>&lt;dbl&gt;</th><th scope=col>&lt;dbl&gt;</th><th scope=col>&lt;chr&gt;</th><th scope=col>&lt;chr&gt;</th></tr>\n",
       "</thead>\n",
       "<tbody>\n",
       "\t<tr><th scope=row>qual_ATSC</th><td>0.3133967</td><td>0.2920461</td><td>0.2315548</td><td>0.2167529</td><td>0.1428071</td><td>0.1397742</td><td>0.1368993</td><td>0.1338653</td><td>qual_ATSC</td><td>with ATSC</td></tr>\n",
       "</tbody>\n",
       "</table>\n"
      ],
      "text/latex": [
       "A data.frame: 1 × 10\n",
       "\\begin{tabular}{r|llllllllll}\n",
       "  & k\\_3 & k\\_4 & k\\_5 & k\\_6 & k\\_7 & k\\_8 & k\\_9 & k\\_10 & Metric & Method\\\\\n",
       "  & <dbl> & <dbl> & <dbl> & <dbl> & <dbl> & <dbl> & <dbl> & <dbl> & <chr> & <chr>\\\\\n",
       "\\hline\n",
       "\tqual\\_ATSC & 0.3133967 & 0.2920461 & 0.2315548 & 0.2167529 & 0.1428071 & 0.1397742 & 0.1368993 & 0.1338653 & qual\\_ATSC & with ATSC\\\\\n",
       "\\end{tabular}\n"
      ],
      "text/markdown": [
       "\n",
       "A data.frame: 1 × 10\n",
       "\n",
       "| <!--/--> | k_3 &lt;dbl&gt; | k_4 &lt;dbl&gt; | k_5 &lt;dbl&gt; | k_6 &lt;dbl&gt; | k_7 &lt;dbl&gt; | k_8 &lt;dbl&gt; | k_9 &lt;dbl&gt; | k_10 &lt;dbl&gt; | Metric &lt;chr&gt; | Method &lt;chr&gt; |\n",
       "|---|---|---|---|---|---|---|---|---|---|---|\n",
       "| qual_ATSC | 0.3133967 | 0.2920461 | 0.2315548 | 0.2167529 | 0.1428071 | 0.1397742 | 0.1368993 | 0.1338653 | qual_ATSC | with ATSC |\n",
       "\n"
      ],
      "text/plain": [
       "          k_3       k_4       k_5       k_6       k_7       k_8       k_9      \n",
       "qual_ATSC 0.3133967 0.2920461 0.2315548 0.2167529 0.1428071 0.1397742 0.1368993\n",
       "          k_10      Metric    Method   \n",
       "qual_ATSC 0.1338653 qual_ATSC with ATSC"
      ]
     },
     "metadata": {},
     "output_type": "display_data"
    },
    {
     "name": "stdout",
     "output_type": "stream",
     "text": [
      "[1] \"Stabily in k=3: 0.943894389438944\"\n",
      "[1] \"Quality in k=3: 0.313396725828136\"\n"
     ]
    }
   ],
   "source": [
    "print(paste0(\"Stabilities and qualities per k with 'ATSC' as clustering method\"))\n",
    "stab_ATSC\n",
    "qual_ATSC\n",
    "print(paste0(\"Stabily in k=\", r_atsc$optimalK_ATSC,\": \", stab_ATSC[paste0(\"k_\",r_atsc$optimalK_ATSC)]))\n",
    "print(paste0(\"Quality in k=\", r_atsc$optimalK_ATSC,\": \", qual_ATSC[paste0(\"k_\",r_atsc$optimalK_ATSC)]))"
   ]
  },
  {
   "cell_type": "markdown",
   "id": "e1dd0c73",
   "metadata": {},
   "source": [
    "# Clusters"
   ]
  },
  {
   "cell_type": "code",
   "execution_count": 21,
   "id": "afc1d7d4",
   "metadata": {},
   "outputs": [],
   "source": [
    "# Internal method used to group individuals per cluster\n",
    "individuals_per_cluster = function(qualityResult) {\n",
    "    \n",
    "  qual_df = as.data.frame(assay(qualityResult))\n",
    "    \n",
    "\n",
    "  cluster_pos_str = as.character(unlist(qual_df[\"Cluster_position\"]))\n",
    "  cluster_labels_str = as.character(unlist(qual_df[\"Cluster_labels\"]))\n",
    "\n",
    "  cluster_pos = as.list(strsplit(cluster_pos_str, \",\")[[1]])\n",
    "  cluster_labels = as.list(strsplit(cluster_labels_str, \",\")[[1]])\n",
    "\n",
    "  individuals_in_cluster = as.data.frame(cbind(cluster_labels, cluster_pos))\n",
    "  colnames(individuals_in_cluster) = c(\"Individual\", \"Cluster\")\n",
    "\n",
    "  return(individuals_in_cluster)\n",
    "}"
   ]
  },
  {
   "cell_type": "code",
   "execution_count": 22,
   "id": "fd0297d5",
   "metadata": {},
   "outputs": [
    {
     "name": "stderr",
     "output_type": "stream",
     "text": [
      "\n",
      "\n",
      "Data loaded.\n",
      "Number of rows: 102\n",
      "Number of columns: 184\n",
      "\n",
      "\n",
      "\n",
      "Processing all metrics, 'merge', in dataframe (183)\n",
      "\n",
      "\tCalculation of k = 3\n",
      "\n",
      "\tCalculation of k = 4\n",
      "\n",
      "\tCalculation of k = 5\n",
      "\n",
      "\tCalculation of k = 6\n",
      "\n",
      "\tCalculation of k = 7\n",
      "\n",
      "\tCalculation of k = 8\n",
      "\n",
      "\tCalculation of k = 9\n",
      "\n",
      "\tCalculation of k = 10\n",
      "\n"
     ]
    },
    {
     "name": "stdout",
     "output_type": "stream",
     "text": [
      "[1] \"CBI: clara - k: 3\"\n",
      "[1] \"Cluster 1 : ependymoma,ependymoma,ependymoma,ependymoma,ependymoma,ependymoma,ependymoma,ependymoma,ependymoma,ependymoma,ependymoma,ependymoma,ependymoma,ependymoma,ependymoma,ependymoma,ependymoma,ependymoma,ependymoma,ependymoma,ependymoma,ependymoma,ependymoma,ependymoma,ependymoma,ependymoma,ependymoma,ependymoma,ependymoma,ependymoma,ependymoma,ependymoma,ependymoma,ependymoma,ependymoma,ependymoma,ependymoma,ependymoma,ependymoma,ependymoma,ependymoma,ependymoma,ependymoma\"\n",
      "[1] \"\"\n",
      "[1] \"Cluster 2 : ependymoma,ependymoma,ependymoma,glioblastoma,glioblastoma,glioblastoma,glioblastoma,glioblastoma,glioblastoma,glioblastoma,glioblastoma,glioblastoma,glioblastoma,glioblastoma,glioblastoma,glioblastoma,glioblastoma,glioblastoma,glioblastoma,glioblastoma,glioblastoma,glioblastoma,glioblastoma,glioblastoma,glioblastoma,glioblastoma,glioblastoma,glioblastoma,glioblastoma,glioblastoma,glioblastoma,glioblastoma,glioblastoma,glioblastoma,glioblastoma,glioblastoma,glioblastoma,medulloblastoma\"\n",
      "[1] \"\"\n",
      "[1] \"Cluster 3 : medulloblastoma,medulloblastoma,medulloblastoma,medulloblastoma,medulloblastoma,medulloblastoma,medulloblastoma,medulloblastoma,medulloblastoma,medulloblastoma,medulloblastoma,medulloblastoma,medulloblastoma,medulloblastoma,medulloblastoma,medulloblastoma,medulloblastoma,medulloblastoma,medulloblastoma,medulloblastoma,medulloblastoma\"\n",
      "[1] \"\"\n"
     ]
    }
   ],
   "source": [
    "dataset = r_atsc$trimmmedDataset\n",
    "qual_range = qualityRange(data=dataset, k.range=k.range, \n",
    "                            all_metrics=TRUE, seed=seed,\n",
    "                            cbi=cbi)\n",
    "optimal_k = r_atsc$optimalK_ATSC\n",
    "cluster_individuals = individuals_per_cluster(assay(qual_range[paste0(\"k_\",optimal_k)]))\n",
    "print(paste0(\"CBI: \", cbi, \" - k: \", optimal_k))\n",
    "for (cluster_i in 1:optimal_k) {\n",
    "    ind_in_cluster = paste(unlist(cluster_individuals[cluster_individuals$Cluster == cluster_i, ][\"Individual\"]), collapse = \",\")\n",
    "    print(paste(\"Cluster\", cluster_i, \":\", ind_in_cluster))\n",
    "    print(\"\")\n",
    "}"
   ]
  },
  {
   "cell_type": "markdown",
   "id": "884dc7ff",
   "metadata": {},
   "source": [
    "# PCA <a class=\"anchor\" id=\"pca\"></a>\n",
    "We employ Principal Component Analysis (PCA) as a dimensionality reduction technique to facilitate the visualization of clusters within our dataset. PCA allow us to transform the original high-dimensional data into a lower-dimensional space, while preserving as much of the variability as possible."
   ]
  },
  {
   "cell_type": "code",
   "execution_count": 23,
   "id": "e5482b73",
   "metadata": {},
   "outputs": [
    {
     "name": "stderr",
     "output_type": "stream",
     "text": [
      "Parameter 'npc' is null. Computing number of factors automatically:\n",
      "\n",
      "Number of factors, 'ncp' used is: 24\n",
      "\n"
     ]
    },
    {
     "data": {
      "text/html": [
       "<table class=\"dataframe\">\n",
       "<caption>A data.frame: 6 × 26</caption>\n",
       "<thead>\n",
       "\t<tr><th></th><th scope=col>Description</th><th scope=col>Dim.1</th><th scope=col>Dim.2</th><th scope=col>Dim.3</th><th scope=col>Dim.4</th><th scope=col>Dim.5</th><th scope=col>Dim.6</th><th scope=col>Dim.7</th><th scope=col>Dim.8</th><th scope=col>Dim.9</th><th scope=col>⋯</th><th scope=col>Dim.16</th><th scope=col>Dim.17</th><th scope=col>Dim.18</th><th scope=col>Dim.19</th><th scope=col>Dim.20</th><th scope=col>Dim.21</th><th scope=col>Dim.22</th><th scope=col>Dim.23</th><th scope=col>Dim.24</th><th scope=col>Cluster</th></tr>\n",
       "\t<tr><th></th><th scope=col>&lt;chr&gt;</th><th scope=col>&lt;dbl&gt;</th><th scope=col>&lt;dbl&gt;</th><th scope=col>&lt;dbl&gt;</th><th scope=col>&lt;dbl&gt;</th><th scope=col>&lt;dbl&gt;</th><th scope=col>&lt;dbl&gt;</th><th scope=col>&lt;dbl&gt;</th><th scope=col>&lt;dbl&gt;</th><th scope=col>&lt;dbl&gt;</th><th scope=col>⋯</th><th scope=col>&lt;dbl&gt;</th><th scope=col>&lt;dbl&gt;</th><th scope=col>&lt;dbl&gt;</th><th scope=col>&lt;dbl&gt;</th><th scope=col>&lt;dbl&gt;</th><th scope=col>&lt;dbl&gt;</th><th scope=col>&lt;dbl&gt;</th><th scope=col>&lt;dbl&gt;</th><th scope=col>&lt;dbl&gt;</th><th scope=col>&lt;fct&gt;</th></tr>\n",
       "</thead>\n",
       "<tbody>\n",
       "\t<tr><th scope=row>GSM1214834</th><td>ependymoma</td><td>11.822125</td><td> 2.794359</td><td> 0.5431449</td><td>-0.9542603</td><td>-1.5305419</td><td>-1.3361116</td><td> 3.120234</td><td> 0.7971277</td><td>-2.5015095</td><td>⋯</td><td> 0.3201278</td><td>-0.8841419</td><td>-1.46392339</td><td> 1.2543853</td><td>-1.5991285</td><td> 0.27886209</td><td> 0.5363619</td><td>-0.4451814</td><td> 0.1231510</td><td>1</td></tr>\n",
       "\t<tr><th scope=row>GSM1214835</th><td>ependymoma</td><td> 2.329745</td><td> 1.602180</td><td>-6.0159421</td><td> 3.5129580</td><td> 3.2641788</td><td> 0.1198867</td><td>-3.724697</td><td>-0.9530462</td><td>-3.6145074</td><td>⋯</td><td>-1.4910652</td><td> 0.5547302</td><td> 0.99017179</td><td> 0.1636037</td><td> 1.3639291</td><td> 2.18657384</td><td> 0.7144840</td><td> 0.8355620</td><td> 2.3713812</td><td>1</td></tr>\n",
       "\t<tr><th scope=row>GSM1214836</th><td>ependymoma</td><td> 6.725942</td><td>-2.215295</td><td> 2.4412796</td><td>-0.5115601</td><td>-0.3256326</td><td> 1.1746423</td><td>-1.941263</td><td>-1.1228103</td><td> 0.3488083</td><td>⋯</td><td>-1.0125778</td><td> 1.7804504</td><td> 0.08751964</td><td> 1.4075183</td><td>-0.9442056</td><td> 0.05862591</td><td>-2.6110935</td><td> 0.0770579</td><td>-0.5369595</td><td>1</td></tr>\n",
       "\t<tr><th scope=row>GSM1214837</th><td>ependymoma</td><td> 6.926163</td><td> 1.292695</td><td>-4.2107400</td><td> 3.3581692</td><td>-1.4611071</td><td>-1.6624545</td><td> 3.222213</td><td> 1.0503303</td><td> 0.8668412</td><td>⋯</td><td>-0.7402661</td><td>-1.7628997</td><td> 2.20402493</td><td>-1.7303753</td><td> 1.9918877</td><td>-2.35843503</td><td>-1.6998204</td><td> 2.1958220</td><td>-0.2237484</td><td>1</td></tr>\n",
       "\t<tr><th scope=row>GSM1214838</th><td>ependymoma</td><td> 6.926135</td><td>-0.069116</td><td>-0.2789380</td><td>-1.8156090</td><td> 0.4570390</td><td>-0.4749840</td><td> 4.216521</td><td> 0.7963623</td><td> 0.7924822</td><td>⋯</td><td> 0.7375185</td><td> 3.6784568</td><td> 2.28471910</td><td> 0.5019019</td><td> 2.1232730</td><td>-0.70140409</td><td>-1.3532334</td><td> 1.1372168</td><td> 0.7125468</td><td>1</td></tr>\n",
       "\t<tr><th scope=row>GSM1214839</th><td>ependymoma</td><td>10.877428</td><td> 1.812278</td><td> 1.5825983</td><td>-0.5954760</td><td> 0.1346590</td><td>-3.2081762</td><td> 1.847470</td><td> 0.1423947</td><td>-0.8809335</td><td>⋯</td><td> 0.0928888</td><td> 0.6977094</td><td>-0.08047803</td><td>-1.0046468</td><td>-1.5595415</td><td> 1.26006849</td><td> 0.4007543</td><td>-0.1454422</td><td>-0.4306271</td><td>1</td></tr>\n",
       "</tbody>\n",
       "</table>\n"
      ],
      "text/latex": [
       "A data.frame: 6 × 26\n",
       "\\begin{tabular}{r|lllllllllllllllllllll}\n",
       "  & Description & Dim.1 & Dim.2 & Dim.3 & Dim.4 & Dim.5 & Dim.6 & Dim.7 & Dim.8 & Dim.9 & ⋯ & Dim.16 & Dim.17 & Dim.18 & Dim.19 & Dim.20 & Dim.21 & Dim.22 & Dim.23 & Dim.24 & Cluster\\\\\n",
       "  & <chr> & <dbl> & <dbl> & <dbl> & <dbl> & <dbl> & <dbl> & <dbl> & <dbl> & <dbl> & ⋯ & <dbl> & <dbl> & <dbl> & <dbl> & <dbl> & <dbl> & <dbl> & <dbl> & <dbl> & <fct>\\\\\n",
       "\\hline\n",
       "\tGSM1214834 & ependymoma & 11.822125 &  2.794359 &  0.5431449 & -0.9542603 & -1.5305419 & -1.3361116 &  3.120234 &  0.7971277 & -2.5015095 & ⋯ &  0.3201278 & -0.8841419 & -1.46392339 &  1.2543853 & -1.5991285 &  0.27886209 &  0.5363619 & -0.4451814 &  0.1231510 & 1\\\\\n",
       "\tGSM1214835 & ependymoma &  2.329745 &  1.602180 & -6.0159421 &  3.5129580 &  3.2641788 &  0.1198867 & -3.724697 & -0.9530462 & -3.6145074 & ⋯ & -1.4910652 &  0.5547302 &  0.99017179 &  0.1636037 &  1.3639291 &  2.18657384 &  0.7144840 &  0.8355620 &  2.3713812 & 1\\\\\n",
       "\tGSM1214836 & ependymoma &  6.725942 & -2.215295 &  2.4412796 & -0.5115601 & -0.3256326 &  1.1746423 & -1.941263 & -1.1228103 &  0.3488083 & ⋯ & -1.0125778 &  1.7804504 &  0.08751964 &  1.4075183 & -0.9442056 &  0.05862591 & -2.6110935 &  0.0770579 & -0.5369595 & 1\\\\\n",
       "\tGSM1214837 & ependymoma &  6.926163 &  1.292695 & -4.2107400 &  3.3581692 & -1.4611071 & -1.6624545 &  3.222213 &  1.0503303 &  0.8668412 & ⋯ & -0.7402661 & -1.7628997 &  2.20402493 & -1.7303753 &  1.9918877 & -2.35843503 & -1.6998204 &  2.1958220 & -0.2237484 & 1\\\\\n",
       "\tGSM1214838 & ependymoma &  6.926135 & -0.069116 & -0.2789380 & -1.8156090 &  0.4570390 & -0.4749840 &  4.216521 &  0.7963623 &  0.7924822 & ⋯ &  0.7375185 &  3.6784568 &  2.28471910 &  0.5019019 &  2.1232730 & -0.70140409 & -1.3532334 &  1.1372168 &  0.7125468 & 1\\\\\n",
       "\tGSM1214839 & ependymoma & 10.877428 &  1.812278 &  1.5825983 & -0.5954760 &  0.1346590 & -3.2081762 &  1.847470 &  0.1423947 & -0.8809335 & ⋯ &  0.0928888 &  0.6977094 & -0.08047803 & -1.0046468 & -1.5595415 &  1.26006849 &  0.4007543 & -0.1454422 & -0.4306271 & 1\\\\\n",
       "\\end{tabular}\n"
      ],
      "text/markdown": [
       "\n",
       "A data.frame: 6 × 26\n",
       "\n",
       "| <!--/--> | Description &lt;chr&gt; | Dim.1 &lt;dbl&gt; | Dim.2 &lt;dbl&gt; | Dim.3 &lt;dbl&gt; | Dim.4 &lt;dbl&gt; | Dim.5 &lt;dbl&gt; | Dim.6 &lt;dbl&gt; | Dim.7 &lt;dbl&gt; | Dim.8 &lt;dbl&gt; | Dim.9 &lt;dbl&gt; | ⋯ ⋯ | Dim.16 &lt;dbl&gt; | Dim.17 &lt;dbl&gt; | Dim.18 &lt;dbl&gt; | Dim.19 &lt;dbl&gt; | Dim.20 &lt;dbl&gt; | Dim.21 &lt;dbl&gt; | Dim.22 &lt;dbl&gt; | Dim.23 &lt;dbl&gt; | Dim.24 &lt;dbl&gt; | Cluster &lt;fct&gt; |\n",
       "|---|---|---|---|---|---|---|---|---|---|---|---|---|---|---|---|---|---|---|---|---|---|\n",
       "| GSM1214834 | ependymoma | 11.822125 |  2.794359 |  0.5431449 | -0.9542603 | -1.5305419 | -1.3361116 |  3.120234 |  0.7971277 | -2.5015095 | ⋯ |  0.3201278 | -0.8841419 | -1.46392339 |  1.2543853 | -1.5991285 |  0.27886209 |  0.5363619 | -0.4451814 |  0.1231510 | 1 |\n",
       "| GSM1214835 | ependymoma |  2.329745 |  1.602180 | -6.0159421 |  3.5129580 |  3.2641788 |  0.1198867 | -3.724697 | -0.9530462 | -3.6145074 | ⋯ | -1.4910652 |  0.5547302 |  0.99017179 |  0.1636037 |  1.3639291 |  2.18657384 |  0.7144840 |  0.8355620 |  2.3713812 | 1 |\n",
       "| GSM1214836 | ependymoma |  6.725942 | -2.215295 |  2.4412796 | -0.5115601 | -0.3256326 |  1.1746423 | -1.941263 | -1.1228103 |  0.3488083 | ⋯ | -1.0125778 |  1.7804504 |  0.08751964 |  1.4075183 | -0.9442056 |  0.05862591 | -2.6110935 |  0.0770579 | -0.5369595 | 1 |\n",
       "| GSM1214837 | ependymoma |  6.926163 |  1.292695 | -4.2107400 |  3.3581692 | -1.4611071 | -1.6624545 |  3.222213 |  1.0503303 |  0.8668412 | ⋯ | -0.7402661 | -1.7628997 |  2.20402493 | -1.7303753 |  1.9918877 | -2.35843503 | -1.6998204 |  2.1958220 | -0.2237484 | 1 |\n",
       "| GSM1214838 | ependymoma |  6.926135 | -0.069116 | -0.2789380 | -1.8156090 |  0.4570390 | -0.4749840 |  4.216521 |  0.7963623 |  0.7924822 | ⋯ |  0.7375185 |  3.6784568 |  2.28471910 |  0.5019019 |  2.1232730 | -0.70140409 | -1.3532334 |  1.1372168 |  0.7125468 | 1 |\n",
       "| GSM1214839 | ependymoma | 10.877428 |  1.812278 |  1.5825983 | -0.5954760 |  0.1346590 | -3.2081762 |  1.847470 |  0.1423947 | -0.8809335 | ⋯ |  0.0928888 |  0.6977094 | -0.08047803 | -1.0046468 | -1.5595415 |  1.26006849 |  0.4007543 | -0.1454422 | -0.4306271 | 1 |\n",
       "\n"
      ],
      "text/plain": [
       "           Description Dim.1     Dim.2     Dim.3      Dim.4      Dim.5     \n",
       "GSM1214834 ependymoma  11.822125  2.794359  0.5431449 -0.9542603 -1.5305419\n",
       "GSM1214835 ependymoma   2.329745  1.602180 -6.0159421  3.5129580  3.2641788\n",
       "GSM1214836 ependymoma   6.725942 -2.215295  2.4412796 -0.5115601 -0.3256326\n",
       "GSM1214837 ependymoma   6.926163  1.292695 -4.2107400  3.3581692 -1.4611071\n",
       "GSM1214838 ependymoma   6.926135 -0.069116 -0.2789380 -1.8156090  0.4570390\n",
       "GSM1214839 ependymoma  10.877428  1.812278  1.5825983 -0.5954760  0.1346590\n",
       "           Dim.6      Dim.7     Dim.8      Dim.9      ⋯ Dim.16     Dim.17    \n",
       "GSM1214834 -1.3361116  3.120234  0.7971277 -2.5015095 ⋯  0.3201278 -0.8841419\n",
       "GSM1214835  0.1198867 -3.724697 -0.9530462 -3.6145074 ⋯ -1.4910652  0.5547302\n",
       "GSM1214836  1.1746423 -1.941263 -1.1228103  0.3488083 ⋯ -1.0125778  1.7804504\n",
       "GSM1214837 -1.6624545  3.222213  1.0503303  0.8668412 ⋯ -0.7402661 -1.7628997\n",
       "GSM1214838 -0.4749840  4.216521  0.7963623  0.7924822 ⋯  0.7375185  3.6784568\n",
       "GSM1214839 -3.2081762  1.847470  0.1423947 -0.8809335 ⋯  0.0928888  0.6977094\n",
       "           Dim.18      Dim.19     Dim.20     Dim.21      Dim.22     Dim.23    \n",
       "GSM1214834 -1.46392339  1.2543853 -1.5991285  0.27886209  0.5363619 -0.4451814\n",
       "GSM1214835  0.99017179  0.1636037  1.3639291  2.18657384  0.7144840  0.8355620\n",
       "GSM1214836  0.08751964  1.4075183 -0.9442056  0.05862591 -2.6110935  0.0770579\n",
       "GSM1214837  2.20402493 -1.7303753  1.9918877 -2.35843503 -1.6998204  2.1958220\n",
       "GSM1214838  2.28471910  0.5019019  2.1232730 -0.70140409 -1.3532334  1.1372168\n",
       "GSM1214839 -0.08047803 -1.0046468 -1.5595415  1.26006849  0.4007543 -0.1454422\n",
       "           Dim.24     Cluster\n",
       "GSM1214834  0.1231510 1      \n",
       "GSM1214835  2.3713812 1      \n",
       "GSM1214836 -0.5369595 1      \n",
       "GSM1214837 -0.2237484 1      \n",
       "GSM1214838  0.7125468 1      \n",
       "GSM1214839 -0.4306271 1      "
      ]
     },
     "metadata": {},
     "output_type": "display_data"
    }
   ],
   "source": [
    "dataset[\"Cluster\"] = as.factor(as.numeric(cluster_individuals$Cluster))\n",
    "if (pca_suitability$pca_suitable) {\n",
    "    pca_df = dataset\n",
    "} else {\n",
    "    pca_matrix = dataset %>% select(-Cluster)\n",
    "    r_pca = evaluomeR::performPCA(dataset = pca_matrix)\n",
    "    pca_df = r_pca$dataset_ncp\n",
    "    pca_df$Cluster <- as.factor(dataset$Cluster)\n",
    "    pca_df$Description <- dataset$Description\n",
    "}\n",
    "head(pca_df)"
   ]
  },
  {
   "cell_type": "code",
   "execution_count": 24,
   "id": "2ad8a959-5503-4cfd-a08e-056bfda2116d",
   "metadata": {},
   "outputs": [],
   "source": [
    "# Creating shapes for individuals\n",
    "pca_df <- pca_df %>%\n",
    "  mutate(\n",
    "    # Extract the letter from the Description column\n",
    "    Letter = Description,\n",
    "    # Map the letter to a number\n",
    "    GoldStandard = case_when(\n",
    "      Letter == \"ependymoma\" ~ 16,\n",
    "      Letter == \"glioblastoma\" ~ 17,\n",
    "      Letter == \"medulloblastoma\" ~ 18,\n",
    "      TRUE ~ NA_real_  # Else...\n",
    "    )\n",
    "  )\n",
    "pca_df$GoldStandard = as.factor(pca_df$GoldStandard)"
   ]
  },
  {
   "cell_type": "code",
   "execution_count": 25,
   "id": "8a4317b9-15b7-44a4-908d-5905a9f96874",
   "metadata": {},
   "outputs": [
    {
     "data": {
      "text/html": [
       "<table class=\"dataframe\">\n",
       "<caption>A data.frame: 6 × 28</caption>\n",
       "<thead>\n",
       "\t<tr><th></th><th scope=col>Description</th><th scope=col>Dim.1</th><th scope=col>Dim.2</th><th scope=col>Dim.3</th><th scope=col>Dim.4</th><th scope=col>Dim.5</th><th scope=col>Dim.6</th><th scope=col>Dim.7</th><th scope=col>Dim.8</th><th scope=col>Dim.9</th><th scope=col>⋯</th><th scope=col>Dim.18</th><th scope=col>Dim.19</th><th scope=col>Dim.20</th><th scope=col>Dim.21</th><th scope=col>Dim.22</th><th scope=col>Dim.23</th><th scope=col>Dim.24</th><th scope=col>Cluster</th><th scope=col>Letter</th><th scope=col>GoldStandard</th></tr>\n",
       "\t<tr><th></th><th scope=col>&lt;chr&gt;</th><th scope=col>&lt;dbl&gt;</th><th scope=col>&lt;dbl&gt;</th><th scope=col>&lt;dbl&gt;</th><th scope=col>&lt;dbl&gt;</th><th scope=col>&lt;dbl&gt;</th><th scope=col>&lt;dbl&gt;</th><th scope=col>&lt;dbl&gt;</th><th scope=col>&lt;dbl&gt;</th><th scope=col>&lt;dbl&gt;</th><th scope=col>⋯</th><th scope=col>&lt;dbl&gt;</th><th scope=col>&lt;dbl&gt;</th><th scope=col>&lt;dbl&gt;</th><th scope=col>&lt;dbl&gt;</th><th scope=col>&lt;dbl&gt;</th><th scope=col>&lt;dbl&gt;</th><th scope=col>&lt;dbl&gt;</th><th scope=col>&lt;fct&gt;</th><th scope=col>&lt;chr&gt;</th><th scope=col>&lt;fct&gt;</th></tr>\n",
       "</thead>\n",
       "<tbody>\n",
       "\t<tr><th scope=row>GSM1214930</th><td>medulloblastoma</td><td>-12.035976</td><td>6.746712</td><td> 0.5649341</td><td>-1.6274974</td><td> 2.728841</td><td> 2.468087</td><td> 2.6701206</td><td>-1.7972507</td><td>-0.4346385</td><td>⋯</td><td>0.1482472</td><td> 0.51707874</td><td> 0.7788044</td><td> 1.0054309</td><td> 0.428826850</td><td> 0.7597007</td><td>-0.7617323</td><td>3</td><td>medulloblastoma</td><td>18</td></tr>\n",
       "\t<tr><th scope=row>GSM1214931</th><td>medulloblastoma</td><td>-12.300944</td><td>6.557780</td><td> 0.4285284</td><td>-1.7053184</td><td> 2.658192</td><td> 2.619794</td><td> 2.4147046</td><td>-1.1983407</td><td>-0.5215748</td><td>⋯</td><td>0.1489107</td><td> 0.67956856</td><td> 0.8138529</td><td> 1.0871512</td><td> 0.507663255</td><td> 0.8754805</td><td>-0.7513074</td><td>3</td><td>medulloblastoma</td><td>18</td></tr>\n",
       "\t<tr><th scope=row>GSM1214932</th><td>medulloblastoma</td><td> -9.732140</td><td>5.849304</td><td> 0.7989181</td><td>-2.8705729</td><td> 3.888341</td><td> 3.774482</td><td> 2.8477327</td><td>-1.0535396</td><td>-1.6961568</td><td>⋯</td><td>0.4474360</td><td>-1.84765433</td><td>-0.3780610</td><td>-0.5272690</td><td>-0.005753783</td><td>-0.7869257</td><td>-0.4823391</td><td>3</td><td>medulloblastoma</td><td>18</td></tr>\n",
       "\t<tr><th scope=row>GSM1214933</th><td>medulloblastoma</td><td>-10.935522</td><td>6.965094</td><td>-0.2917311</td><td>-2.9852943</td><td> 3.819832</td><td> 1.666050</td><td> 1.8836706</td><td>-1.6043889</td><td>-0.9936924</td><td>⋯</td><td>0.5687756</td><td>-0.04019553</td><td>-1.2249583</td><td>-0.3989077</td><td>-1.548320858</td><td> 0.1747180</td><td>-1.2427499</td><td>3</td><td>medulloblastoma</td><td>18</td></tr>\n",
       "\t<tr><th scope=row>GSM1214934</th><td>medulloblastoma</td><td>-10.920146</td><td>6.632805</td><td> 1.0426152</td><td> 2.3250387</td><td>-2.036570</td><td>-1.649458</td><td>-1.2930267</td><td> 0.4433063</td><td> 2.8448911</td><td>⋯</td><td>0.8079962</td><td> 0.91354245</td><td>-1.4615432</td><td>-0.8010826</td><td>-1.104675381</td><td>-1.2130243</td><td> 0.6738658</td><td>3</td><td>medulloblastoma</td><td>18</td></tr>\n",
       "\t<tr><th scope=row>GSM1214935</th><td>medulloblastoma</td><td> -8.182702</td><td>3.297260</td><td> 2.7501232</td><td> 0.7693432</td><td> 3.907191</td><td> 3.301925</td><td> 0.8439016</td><td> 0.1730784</td><td>-1.3628126</td><td>⋯</td><td>0.2582746</td><td> 2.71473416</td><td> 1.9035479</td><td> 0.3027903</td><td> 0.099604028</td><td>-0.6774441</td><td> 0.8003604</td><td>3</td><td>medulloblastoma</td><td>18</td></tr>\n",
       "</tbody>\n",
       "</table>\n"
      ],
      "text/latex": [
       "A data.frame: 6 × 28\n",
       "\\begin{tabular}{r|lllllllllllllllllllll}\n",
       "  & Description & Dim.1 & Dim.2 & Dim.3 & Dim.4 & Dim.5 & Dim.6 & Dim.7 & Dim.8 & Dim.9 & ⋯ & Dim.18 & Dim.19 & Dim.20 & Dim.21 & Dim.22 & Dim.23 & Dim.24 & Cluster & Letter & GoldStandard\\\\\n",
       "  & <chr> & <dbl> & <dbl> & <dbl> & <dbl> & <dbl> & <dbl> & <dbl> & <dbl> & <dbl> & ⋯ & <dbl> & <dbl> & <dbl> & <dbl> & <dbl> & <dbl> & <dbl> & <fct> & <chr> & <fct>\\\\\n",
       "\\hline\n",
       "\tGSM1214930 & medulloblastoma & -12.035976 & 6.746712 &  0.5649341 & -1.6274974 &  2.728841 &  2.468087 &  2.6701206 & -1.7972507 & -0.4346385 & ⋯ & 0.1482472 &  0.51707874 &  0.7788044 &  1.0054309 &  0.428826850 &  0.7597007 & -0.7617323 & 3 & medulloblastoma & 18\\\\\n",
       "\tGSM1214931 & medulloblastoma & -12.300944 & 6.557780 &  0.4285284 & -1.7053184 &  2.658192 &  2.619794 &  2.4147046 & -1.1983407 & -0.5215748 & ⋯ & 0.1489107 &  0.67956856 &  0.8138529 &  1.0871512 &  0.507663255 &  0.8754805 & -0.7513074 & 3 & medulloblastoma & 18\\\\\n",
       "\tGSM1214932 & medulloblastoma &  -9.732140 & 5.849304 &  0.7989181 & -2.8705729 &  3.888341 &  3.774482 &  2.8477327 & -1.0535396 & -1.6961568 & ⋯ & 0.4474360 & -1.84765433 & -0.3780610 & -0.5272690 & -0.005753783 & -0.7869257 & -0.4823391 & 3 & medulloblastoma & 18\\\\\n",
       "\tGSM1214933 & medulloblastoma & -10.935522 & 6.965094 & -0.2917311 & -2.9852943 &  3.819832 &  1.666050 &  1.8836706 & -1.6043889 & -0.9936924 & ⋯ & 0.5687756 & -0.04019553 & -1.2249583 & -0.3989077 & -1.548320858 &  0.1747180 & -1.2427499 & 3 & medulloblastoma & 18\\\\\n",
       "\tGSM1214934 & medulloblastoma & -10.920146 & 6.632805 &  1.0426152 &  2.3250387 & -2.036570 & -1.649458 & -1.2930267 &  0.4433063 &  2.8448911 & ⋯ & 0.8079962 &  0.91354245 & -1.4615432 & -0.8010826 & -1.104675381 & -1.2130243 &  0.6738658 & 3 & medulloblastoma & 18\\\\\n",
       "\tGSM1214935 & medulloblastoma &  -8.182702 & 3.297260 &  2.7501232 &  0.7693432 &  3.907191 &  3.301925 &  0.8439016 &  0.1730784 & -1.3628126 & ⋯ & 0.2582746 &  2.71473416 &  1.9035479 &  0.3027903 &  0.099604028 & -0.6774441 &  0.8003604 & 3 & medulloblastoma & 18\\\\\n",
       "\\end{tabular}\n"
      ],
      "text/markdown": [
       "\n",
       "A data.frame: 6 × 28\n",
       "\n",
       "| <!--/--> | Description &lt;chr&gt; | Dim.1 &lt;dbl&gt; | Dim.2 &lt;dbl&gt; | Dim.3 &lt;dbl&gt; | Dim.4 &lt;dbl&gt; | Dim.5 &lt;dbl&gt; | Dim.6 &lt;dbl&gt; | Dim.7 &lt;dbl&gt; | Dim.8 &lt;dbl&gt; | Dim.9 &lt;dbl&gt; | ⋯ ⋯ | Dim.18 &lt;dbl&gt; | Dim.19 &lt;dbl&gt; | Dim.20 &lt;dbl&gt; | Dim.21 &lt;dbl&gt; | Dim.22 &lt;dbl&gt; | Dim.23 &lt;dbl&gt; | Dim.24 &lt;dbl&gt; | Cluster &lt;fct&gt; | Letter &lt;chr&gt; | GoldStandard &lt;fct&gt; |\n",
       "|---|---|---|---|---|---|---|---|---|---|---|---|---|---|---|---|---|---|---|---|---|---|\n",
       "| GSM1214930 | medulloblastoma | -12.035976 | 6.746712 |  0.5649341 | -1.6274974 |  2.728841 |  2.468087 |  2.6701206 | -1.7972507 | -0.4346385 | ⋯ | 0.1482472 |  0.51707874 |  0.7788044 |  1.0054309 |  0.428826850 |  0.7597007 | -0.7617323 | 3 | medulloblastoma | 18 |\n",
       "| GSM1214931 | medulloblastoma | -12.300944 | 6.557780 |  0.4285284 | -1.7053184 |  2.658192 |  2.619794 |  2.4147046 | -1.1983407 | -0.5215748 | ⋯ | 0.1489107 |  0.67956856 |  0.8138529 |  1.0871512 |  0.507663255 |  0.8754805 | -0.7513074 | 3 | medulloblastoma | 18 |\n",
       "| GSM1214932 | medulloblastoma |  -9.732140 | 5.849304 |  0.7989181 | -2.8705729 |  3.888341 |  3.774482 |  2.8477327 | -1.0535396 | -1.6961568 | ⋯ | 0.4474360 | -1.84765433 | -0.3780610 | -0.5272690 | -0.005753783 | -0.7869257 | -0.4823391 | 3 | medulloblastoma | 18 |\n",
       "| GSM1214933 | medulloblastoma | -10.935522 | 6.965094 | -0.2917311 | -2.9852943 |  3.819832 |  1.666050 |  1.8836706 | -1.6043889 | -0.9936924 | ⋯ | 0.5687756 | -0.04019553 | -1.2249583 | -0.3989077 | -1.548320858 |  0.1747180 | -1.2427499 | 3 | medulloblastoma | 18 |\n",
       "| GSM1214934 | medulloblastoma | -10.920146 | 6.632805 |  1.0426152 |  2.3250387 | -2.036570 | -1.649458 | -1.2930267 |  0.4433063 |  2.8448911 | ⋯ | 0.8079962 |  0.91354245 | -1.4615432 | -0.8010826 | -1.104675381 | -1.2130243 |  0.6738658 | 3 | medulloblastoma | 18 |\n",
       "| GSM1214935 | medulloblastoma |  -8.182702 | 3.297260 |  2.7501232 |  0.7693432 |  3.907191 |  3.301925 |  0.8439016 |  0.1730784 | -1.3628126 | ⋯ | 0.2582746 |  2.71473416 |  1.9035479 |  0.3027903 |  0.099604028 | -0.6774441 |  0.8003604 | 3 | medulloblastoma | 18 |\n",
       "\n"
      ],
      "text/plain": [
       "           Description     Dim.1      Dim.2    Dim.3      Dim.4      Dim.5    \n",
       "GSM1214930 medulloblastoma -12.035976 6.746712  0.5649341 -1.6274974  2.728841\n",
       "GSM1214931 medulloblastoma -12.300944 6.557780  0.4285284 -1.7053184  2.658192\n",
       "GSM1214932 medulloblastoma  -9.732140 5.849304  0.7989181 -2.8705729  3.888341\n",
       "GSM1214933 medulloblastoma -10.935522 6.965094 -0.2917311 -2.9852943  3.819832\n",
       "GSM1214934 medulloblastoma -10.920146 6.632805  1.0426152  2.3250387 -2.036570\n",
       "GSM1214935 medulloblastoma  -8.182702 3.297260  2.7501232  0.7693432  3.907191\n",
       "           Dim.6     Dim.7      Dim.8      Dim.9      ⋯ Dim.18    Dim.19     \n",
       "GSM1214930  2.468087  2.6701206 -1.7972507 -0.4346385 ⋯ 0.1482472  0.51707874\n",
       "GSM1214931  2.619794  2.4147046 -1.1983407 -0.5215748 ⋯ 0.1489107  0.67956856\n",
       "GSM1214932  3.774482  2.8477327 -1.0535396 -1.6961568 ⋯ 0.4474360 -1.84765433\n",
       "GSM1214933  1.666050  1.8836706 -1.6043889 -0.9936924 ⋯ 0.5687756 -0.04019553\n",
       "GSM1214934 -1.649458 -1.2930267  0.4433063  2.8448911 ⋯ 0.8079962  0.91354245\n",
       "GSM1214935  3.301925  0.8439016  0.1730784 -1.3628126 ⋯ 0.2582746  2.71473416\n",
       "           Dim.20     Dim.21     Dim.22       Dim.23     Dim.24     Cluster\n",
       "GSM1214930  0.7788044  1.0054309  0.428826850  0.7597007 -0.7617323 3      \n",
       "GSM1214931  0.8138529  1.0871512  0.507663255  0.8754805 -0.7513074 3      \n",
       "GSM1214932 -0.3780610 -0.5272690 -0.005753783 -0.7869257 -0.4823391 3      \n",
       "GSM1214933 -1.2249583 -0.3989077 -1.548320858  0.1747180 -1.2427499 3      \n",
       "GSM1214934 -1.4615432 -0.8010826 -1.104675381 -1.2130243  0.6738658 3      \n",
       "GSM1214935  1.9035479  0.3027903  0.099604028 -0.6774441  0.8003604 3      \n",
       "           Letter          GoldStandard\n",
       "GSM1214930 medulloblastoma 18          \n",
       "GSM1214931 medulloblastoma 18          \n",
       "GSM1214932 medulloblastoma 18          \n",
       "GSM1214933 medulloblastoma 18          \n",
       "GSM1214934 medulloblastoma 18          \n",
       "GSM1214935 medulloblastoma 18          "
      ]
     },
     "metadata": {},
     "output_type": "display_data"
    }
   ],
   "source": [
    "tail(pca_df)"
   ]
  },
  {
   "cell_type": "code",
   "execution_count": 26,
   "id": "2dbdcbee",
   "metadata": {
    "scrolled": true
   },
   "outputs": [
    {
     "name": "stderr",
     "output_type": "stream",
     "text": [
      "Warning message:\n",
      "\"\u001b[1m\u001b[22mThe following aesthetics were dropped during statistical transformation: \u001b[32mshape\u001b[39m\n",
      "and \u001b[32mlabel\u001b[39m.\n",
      "\u001b[36mℹ\u001b[39m This can happen when ggplot fails to infer the correct grouping structure in\n",
      "  the data.\n",
      "\u001b[36mℹ\u001b[39m Did you forget to specify a `group` aesthetic or to convert a numerical\n",
      "  variable into a factor?\"\n",
      "Warning message:\n",
      "\"ggrepel: 96 unlabeled data points (too many overlaps). Consider increasing max.overlaps\"\n"
     ]
    },
    {
     "data": {
      "image/png": "[encoded data removed]",
      "text/plain": [
       "plot without title"
      ]
     },
     "metadata": {
      "image/png": {
       "height": 720,
       "width": 720
      }
     },
     "output_type": "display_data"
    }
   ],
   "source": [
    "cluster_colors <- c(\"#2E86C1\", \"#28B463\", \"#E74C3C\", \"#9B59B6\", \"#F1C40F\", \"#7F8C8D\", \n",
    "            \"#D35400\", \"#8E44AD\", \"#16A085\")\n",
    "\n",
    "cluster_shapes = c(16, 17, 18, 21, 22, 23, 24)\n",
    "cluster_labels = unique(dataset$Description)\n",
    "\n",
    "ggplot(pca_df, aes(x = Dim.1, y = Dim.2, shape = GoldStandard, color = Cluster, label = Description)) +\n",
    "  geom_point(size = 3) +\n",
    "  geom_text_repel(\n",
    "    vjust = 1,\n",
    "    hjust = 1,\n",
    "    size = 5,\n",
    "    show.legend = FALSE,\n",
    "    point.padding = 0.4,\n",
    "    box.padding = 0.25,\n",
    "    max.overlaps = 5,\n",
    "    segment.color = \"grey70\",\n",
    "    segment.size = 0.2\n",
    "  ) +\n",
    "  stat_ellipse(aes(fill = Cluster, group = Cluster), level = 0.95, alpha = 0.2, geom = \"polygon\") +\n",
    "  labs(\n",
    "    title = \"ATSC BRCA classification\",\n",
    "    x = \"Principal Component 1\",\n",
    "    y = \"Principal Component 2\"\n",
    "  ) +\n",
    "  scale_shape_manual(values = cluster_shapes, labels = unique(pca_df$Description)) +\n",
    "  scale_color_manual(values = cluster_colors, labels = cluster_labels)  +\n",
    "  scale_fill_manual(values = cluster_colors, labels = cluster_labels)   +\n",
    "  theme_minimal(base_size = 15) +\n",
    "  theme(\n",
    "    plot.title = element_text(hjust = 0.5, size = 18, face = \"bold\"),\n",
    "    axis.title.x = element_text(size = 20),\n",
    "    axis.title.y = element_text(size = 20),\n",
    "    axis.text = element_text(size = 16),\n",
    "    legend.position = \"right\",\n",
    "    legend.title = element_text(size = 18),\n",
    "    legend.text = element_text(size = 16),\n",
    "    panel.grid.major = element_line(color = \"grey90\"),\n",
    "    panel.grid.minor = element_blank()\n",
    "  )"
   ]
  },
  {
   "cell_type": "markdown",
   "id": "b7fd561d",
   "metadata": {},
   "source": [
    "# Sensitivity <a class=\"anchor\" id=\"sensitivity\"></a>"
   ]
  },
  {
   "cell_type": "markdown",
   "id": "0163198f",
   "metadata": {},
   "source": [
    "In this Section we evaluate the sensitivity of our clustering using the `RSKC::Sensitivity` method. Sensitivity, or the true positive rate, measures the ability to correctly identify positive instances within the data. By focusing on sensitivity, we aim to ensure that our model effectively captures the relevant clusters, minimizing the number of false negatives. "
   ]
  },
  {
   "cell_type": "code",
   "execution_count": 27,
   "id": "328d1516",
   "metadata": {},
   "outputs": [
    {
     "data": {
      "text/html": [
       "<table class=\"dataframe\">\n",
       "<caption>A data.frame: 6 × 2</caption>\n",
       "<thead>\n",
       "\t<tr><th></th><th scope=col>Description</th><th scope=col>Class</th></tr>\n",
       "\t<tr><th></th><th scope=col>&lt;chr&gt;</th><th scope=col>&lt;chr&gt;</th></tr>\n",
       "</thead>\n",
       "<tbody>\n",
       "\t<tr><th scope=row>GSM1214834</th><td>ependymoma</td><td>ependymoma</td></tr>\n",
       "\t<tr><th scope=row>GSM1214835</th><td>ependymoma</td><td>ependymoma</td></tr>\n",
       "\t<tr><th scope=row>GSM1214836</th><td>ependymoma</td><td>ependymoma</td></tr>\n",
       "\t<tr><th scope=row>GSM1214837</th><td>ependymoma</td><td>ependymoma</td></tr>\n",
       "\t<tr><th scope=row>GSM1214838</th><td>ependymoma</td><td>ependymoma</td></tr>\n",
       "\t<tr><th scope=row>GSM1214839</th><td>ependymoma</td><td>ependymoma</td></tr>\n",
       "</tbody>\n",
       "</table>\n"
      ],
      "text/latex": [
       "A data.frame: 6 × 2\n",
       "\\begin{tabular}{r|ll}\n",
       "  & Description & Class\\\\\n",
       "  & <chr> & <chr>\\\\\n",
       "\\hline\n",
       "\tGSM1214834 & ependymoma & ependymoma\\\\\n",
       "\tGSM1214835 & ependymoma & ependymoma\\\\\n",
       "\tGSM1214836 & ependymoma & ependymoma\\\\\n",
       "\tGSM1214837 & ependymoma & ependymoma\\\\\n",
       "\tGSM1214838 & ependymoma & ependymoma\\\\\n",
       "\tGSM1214839 & ependymoma & ependymoma\\\\\n",
       "\\end{tabular}\n"
      ],
      "text/markdown": [
       "\n",
       "A data.frame: 6 × 2\n",
       "\n",
       "| <!--/--> | Description &lt;chr&gt; | Class &lt;chr&gt; |\n",
       "|---|---|---|\n",
       "| GSM1214834 | ependymoma | ependymoma |\n",
       "| GSM1214835 | ependymoma | ependymoma |\n",
       "| GSM1214836 | ependymoma | ependymoma |\n",
       "| GSM1214837 | ependymoma | ependymoma |\n",
       "| GSM1214838 | ependymoma | ependymoma |\n",
       "| GSM1214839 | ependymoma | ependymoma |\n",
       "\n"
      ],
      "text/plain": [
       "           Description Class     \n",
       "GSM1214834 ependymoma  ependymoma\n",
       "GSM1214835 ependymoma  ependymoma\n",
       "GSM1214836 ependymoma  ependymoma\n",
       "GSM1214837 ependymoma  ependymoma\n",
       "GSM1214838 ependymoma  ependymoma\n",
       "GSM1214839 ependymoma  ependymoma"
      ]
     },
     "metadata": {},
     "output_type": "display_data"
    }
   ],
   "source": [
    "dataset[\"Class\"] = dataset[\"Description\"]\n",
    "head(dataset)[, c(\"Description\", \"Class\")]"
   ]
  },
  {
   "cell_type": "code",
   "execution_count": 28,
   "id": "1642b419",
   "metadata": {},
   "outputs": [
    {
     "data": {
      "text/html": [
       "<table class=\"dataframe\">\n",
       "<caption>A data.frame: 6 × 4</caption>\n",
       "<thead>\n",
       "\t<tr><th></th><th scope=col>Description</th><th scope=col>Class</th><th scope=col>Cluster</th><th scope=col>Class_n</th></tr>\n",
       "\t<tr><th></th><th scope=col>&lt;chr&gt;</th><th scope=col>&lt;chr&gt;</th><th scope=col>&lt;fct&gt;</th><th scope=col>&lt;dbl&gt;</th></tr>\n",
       "</thead>\n",
       "<tbody>\n",
       "\t<tr><th scope=row>GSM1214834</th><td>ependymoma</td><td>ependymoma</td><td>1</td><td>1</td></tr>\n",
       "\t<tr><th scope=row>GSM1214835</th><td>ependymoma</td><td>ependymoma</td><td>1</td><td>1</td></tr>\n",
       "\t<tr><th scope=row>GSM1214836</th><td>ependymoma</td><td>ependymoma</td><td>1</td><td>1</td></tr>\n",
       "\t<tr><th scope=row>GSM1214837</th><td>ependymoma</td><td>ependymoma</td><td>1</td><td>1</td></tr>\n",
       "\t<tr><th scope=row>GSM1214838</th><td>ependymoma</td><td>ependymoma</td><td>1</td><td>1</td></tr>\n",
       "\t<tr><th scope=row>GSM1214839</th><td>ependymoma</td><td>ependymoma</td><td>1</td><td>1</td></tr>\n",
       "</tbody>\n",
       "</table>\n"
      ],
      "text/latex": [
       "A data.frame: 6 × 4\n",
       "\\begin{tabular}{r|llll}\n",
       "  & Description & Class & Cluster & Class\\_n\\\\\n",
       "  & <chr> & <chr> & <fct> & <dbl>\\\\\n",
       "\\hline\n",
       "\tGSM1214834 & ependymoma & ependymoma & 1 & 1\\\\\n",
       "\tGSM1214835 & ependymoma & ependymoma & 1 & 1\\\\\n",
       "\tGSM1214836 & ependymoma & ependymoma & 1 & 1\\\\\n",
       "\tGSM1214837 & ependymoma & ependymoma & 1 & 1\\\\\n",
       "\tGSM1214838 & ependymoma & ependymoma & 1 & 1\\\\\n",
       "\tGSM1214839 & ependymoma & ependymoma & 1 & 1\\\\\n",
       "\\end{tabular}\n"
      ],
      "text/markdown": [
       "\n",
       "A data.frame: 6 × 4\n",
       "\n",
       "| <!--/--> | Description &lt;chr&gt; | Class &lt;chr&gt; | Cluster &lt;fct&gt; | Class_n &lt;dbl&gt; |\n",
       "|---|---|---|---|---|\n",
       "| GSM1214834 | ependymoma | ependymoma | 1 | 1 |\n",
       "| GSM1214835 | ependymoma | ependymoma | 1 | 1 |\n",
       "| GSM1214836 | ependymoma | ependymoma | 1 | 1 |\n",
       "| GSM1214837 | ependymoma | ependymoma | 1 | 1 |\n",
       "| GSM1214838 | ependymoma | ependymoma | 1 | 1 |\n",
       "| GSM1214839 | ependymoma | ependymoma | 1 | 1 |\n",
       "\n"
      ],
      "text/plain": [
       "           Description Class      Cluster Class_n\n",
       "GSM1214834 ependymoma  ependymoma 1       1      \n",
       "GSM1214835 ependymoma  ependymoma 1       1      \n",
       "GSM1214836 ependymoma  ependymoma 1       1      \n",
       "GSM1214837 ependymoma  ependymoma 1       1      \n",
       "GSM1214838 ependymoma  ependymoma 1       1      \n",
       "GSM1214839 ependymoma  ependymoma 1       1      "
      ]
     },
     "metadata": {},
     "output_type": "display_data"
    }
   ],
   "source": [
    "# Map categories with cluster number\n",
    "dataset[\"Class_n\"] = gold_standard_vector\n",
    "# Table of prediction vs actual classification\n",
    "head(dataset)[, c(\"Description\", \"Class\", \"Cluster\", \"Class_n\")]"
   ]
  },
  {
   "cell_type": "code",
   "execution_count": 29,
   "id": "ec847c32",
   "metadata": {},
   "outputs": [
    {
     "name": "stdout",
     "output_type": "stream",
     "text": [
      "[1] \"gold standard\"\n"
     ]
    },
    {
     "data": {
      "text/html": [
       "<style>\n",
       ".list-inline {list-style: none; margin:0; padding: 0}\n",
       ".list-inline>li {display: inline-block}\n",
       ".list-inline>li:not(:last-child)::after {content: \"\\00b7\"; padding: 0 .5ex}\n",
       "</style>\n",
       "<ol class=list-inline><li>1</li><li>1</li><li>1</li><li>1</li><li>1</li><li>1</li><li>1</li><li>1</li><li>1</li><li>1</li><li>1</li><li>1</li><li>1</li><li>1</li><li>1</li><li>1</li><li>1</li><li>1</li><li>1</li><li>1</li><li>1</li><li>1</li><li>1</li><li>1</li><li>1</li><li>1</li><li>1</li><li>1</li><li>1</li><li>1</li><li>1</li><li>1</li><li>1</li><li>1</li><li>1</li><li>1</li><li>1</li><li>1</li><li>1</li><li>1</li><li>1</li><li>1</li><li>1</li><li>1</li><li>1</li><li>1</li><li>2</li><li>2</li><li>2</li><li>2</li><li>2</li><li>2</li><li>2</li><li>2</li><li>2</li><li>2</li><li>2</li><li>2</li><li>2</li><li>2</li><li>2</li><li>2</li><li>2</li><li>2</li><li>2</li><li>2</li><li>2</li><li>2</li><li>2</li><li>2</li><li>2</li><li>2</li><li>2</li><li>2</li><li>2</li><li>2</li><li>2</li><li>2</li><li>2</li><li>2</li><li>3</li><li>3</li><li>3</li><li>3</li><li>3</li><li>3</li><li>3</li><li>3</li><li>3</li><li>3</li><li>3</li><li>3</li><li>3</li><li>3</li><li>3</li><li>3</li><li>3</li><li>3</li><li>3</li><li>3</li><li>3</li><li>3</li></ol>\n"
      ],
      "text/latex": [
       "\\begin{enumerate*}\n",
       "\\item 1\n",
       "\\item 1\n",
       "\\item 1\n",
       "\\item 1\n",
       "\\item 1\n",
       "\\item 1\n",
       "\\item 1\n",
       "\\item 1\n",
       "\\item 1\n",
       "\\item 1\n",
       "\\item 1\n",
       "\\item 1\n",
       "\\item 1\n",
       "\\item 1\n",
       "\\item 1\n",
       "\\item 1\n",
       "\\item 1\n",
       "\\item 1\n",
       "\\item 1\n",
       "\\item 1\n",
       "\\item 1\n",
       "\\item 1\n",
       "\\item 1\n",
       "\\item 1\n",
       "\\item 1\n",
       "\\item 1\n",
       "\\item 1\n",
       "\\item 1\n",
       "\\item 1\n",
       "\\item 1\n",
       "\\item 1\n",
       "\\item 1\n",
       "\\item 1\n",
       "\\item 1\n",
       "\\item 1\n",
       "\\item 1\n",
       "\\item 1\n",
       "\\item 1\n",
       "\\item 1\n",
       "\\item 1\n",
       "\\item 1\n",
       "\\item 1\n",
       "\\item 1\n",
       "\\item 1\n",
       "\\item 1\n",
       "\\item 1\n",
       "\\item 2\n",
       "\\item 2\n",
       "\\item 2\n",
       "\\item 2\n",
       "\\item 2\n",
       "\\item 2\n",
       "\\item 2\n",
       "\\item 2\n",
       "\\item 2\n",
       "\\item 2\n",
       "\\item 2\n",
       "\\item 2\n",
       "\\item 2\n",
       "\\item 2\n",
       "\\item 2\n",
       "\\item 2\n",
       "\\item 2\n",
       "\\item 2\n",
       "\\item 2\n",
       "\\item 2\n",
       "\\item 2\n",
       "\\item 2\n",
       "\\item 2\n",
       "\\item 2\n",
       "\\item 2\n",
       "\\item 2\n",
       "\\item 2\n",
       "\\item 2\n",
       "\\item 2\n",
       "\\item 2\n",
       "\\item 2\n",
       "\\item 2\n",
       "\\item 2\n",
       "\\item 2\n",
       "\\item 3\n",
       "\\item 3\n",
       "\\item 3\n",
       "\\item 3\n",
       "\\item 3\n",
       "\\item 3\n",
       "\\item 3\n",
       "\\item 3\n",
       "\\item 3\n",
       "\\item 3\n",
       "\\item 3\n",
       "\\item 3\n",
       "\\item 3\n",
       "\\item 3\n",
       "\\item 3\n",
       "\\item 3\n",
       "\\item 3\n",
       "\\item 3\n",
       "\\item 3\n",
       "\\item 3\n",
       "\\item 3\n",
       "\\item 3\n",
       "\\end{enumerate*}\n"
      ],
      "text/markdown": [
       "1. 1\n",
       "2. 1\n",
       "3. 1\n",
       "4. 1\n",
       "5. 1\n",
       "6. 1\n",
       "7. 1\n",
       "8. 1\n",
       "9. 1\n",
       "10. 1\n",
       "11. 1\n",
       "12. 1\n",
       "13. 1\n",
       "14. 1\n",
       "15. 1\n",
       "16. 1\n",
       "17. 1\n",
       "18. 1\n",
       "19. 1\n",
       "20. 1\n",
       "21. 1\n",
       "22. 1\n",
       "23. 1\n",
       "24. 1\n",
       "25. 1\n",
       "26. 1\n",
       "27. 1\n",
       "28. 1\n",
       "29. 1\n",
       "30. 1\n",
       "31. 1\n",
       "32. 1\n",
       "33. 1\n",
       "34. 1\n",
       "35. 1\n",
       "36. 1\n",
       "37. 1\n",
       "38. 1\n",
       "39. 1\n",
       "40. 1\n",
       "41. 1\n",
       "42. 1\n",
       "43. 1\n",
       "44. 1\n",
       "45. 1\n",
       "46. 1\n",
       "47. 2\n",
       "48. 2\n",
       "49. 2\n",
       "50. 2\n",
       "51. 2\n",
       "52. 2\n",
       "53. 2\n",
       "54. 2\n",
       "55. 2\n",
       "56. 2\n",
       "57. 2\n",
       "58. 2\n",
       "59. 2\n",
       "60. 2\n",
       "61. 2\n",
       "62. 2\n",
       "63. 2\n",
       "64. 2\n",
       "65. 2\n",
       "66. 2\n",
       "67. 2\n",
       "68. 2\n",
       "69. 2\n",
       "70. 2\n",
       "71. 2\n",
       "72. 2\n",
       "73. 2\n",
       "74. 2\n",
       "75. 2\n",
       "76. 2\n",
       "77. 2\n",
       "78. 2\n",
       "79. 2\n",
       "80. 2\n",
       "81. 3\n",
       "82. 3\n",
       "83. 3\n",
       "84. 3\n",
       "85. 3\n",
       "86. 3\n",
       "87. 3\n",
       "88. 3\n",
       "89. 3\n",
       "90. 3\n",
       "91. 3\n",
       "92. 3\n",
       "93. 3\n",
       "94. 3\n",
       "95. 3\n",
       "96. 3\n",
       "97. 3\n",
       "98. 3\n",
       "99. 3\n",
       "100. 3\n",
       "101. 3\n",
       "102. 3\n",
       "\n",
       "\n"
      ],
      "text/plain": [
       "  [1] 1 1 1 1 1 1 1 1 1 1 1 1 1 1 1 1 1 1 1 1 1 1 1 1 1 1 1 1 1 1 1 1 1 1 1 1 1\n",
       " [38] 1 1 1 1 1 1 1 1 1 2 2 2 2 2 2 2 2 2 2 2 2 2 2 2 2 2 2 2 2 2 2 2 2 2 2 2 2\n",
       " [75] 2 2 2 2 2 2 3 3 3 3 3 3 3 3 3 3 3 3 3 3 3 3 3 3 3 3 3 3"
      ]
     },
     "metadata": {},
     "output_type": "display_data"
    },
    {
     "name": "stdout",
     "output_type": "stream",
     "text": [
      "[1] \"predicted\"\n"
     ]
    },
    {
     "data": {
      "text/html": [
       "<style>\n",
       ".list-inline {list-style: none; margin:0; padding: 0}\n",
       ".list-inline>li {display: inline-block}\n",
       ".list-inline>li:not(:last-child)::after {content: \"\\00b7\"; padding: 0 .5ex}\n",
       "</style>\n",
       "<ol class=list-inline><li>1</li><li>1</li><li>1</li><li>1</li><li>1</li><li>1</li><li>1</li><li>1</li><li>1</li><li>1</li><li>1</li><li>1</li><li>1</li><li>2</li><li>1</li><li>1</li><li>1</li><li>1</li><li>1</li><li>1</li><li>1</li><li>1</li><li>1</li><li>1</li><li>1</li><li>1</li><li>1</li><li>1</li><li>1</li><li>1</li><li>1</li><li>1</li><li>1</li><li>1</li><li>1</li><li>1</li><li>2</li><li>1</li><li>1</li><li>1</li><li>1</li><li>1</li><li>2</li><li>1</li><li>1</li><li>1</li><li>2</li><li>2</li><li>2</li><li>2</li><li>2</li><li>2</li><li>2</li><li>2</li><li>2</li><li>2</li><li>2</li><li>2</li><li>2</li><li>2</li><li>2</li><li>2</li><li>2</li><li>2</li><li>2</li><li>2</li><li>2</li><li>2</li><li>2</li><li>2</li><li>2</li><li>2</li><li>2</li><li>2</li><li>2</li><li>2</li><li>2</li><li>2</li><li>2</li><li>2</li><li>3</li><li>3</li><li>3</li><li>3</li><li>3</li><li>3</li><li>3</li><li>3</li><li>3</li><li>2</li><li>3</li><li>3</li><li>3</li><li>3</li><li>3</li><li>3</li><li>3</li><li>3</li><li>3</li><li>3</li><li>3</li><li>3</li></ol>\n"
      ],
      "text/latex": [
       "\\begin{enumerate*}\n",
       "\\item 1\n",
       "\\item 1\n",
       "\\item 1\n",
       "\\item 1\n",
       "\\item 1\n",
       "\\item 1\n",
       "\\item 1\n",
       "\\item 1\n",
       "\\item 1\n",
       "\\item 1\n",
       "\\item 1\n",
       "\\item 1\n",
       "\\item 1\n",
       "\\item 2\n",
       "\\item 1\n",
       "\\item 1\n",
       "\\item 1\n",
       "\\item 1\n",
       "\\item 1\n",
       "\\item 1\n",
       "\\item 1\n",
       "\\item 1\n",
       "\\item 1\n",
       "\\item 1\n",
       "\\item 1\n",
       "\\item 1\n",
       "\\item 1\n",
       "\\item 1\n",
       "\\item 1\n",
       "\\item 1\n",
       "\\item 1\n",
       "\\item 1\n",
       "\\item 1\n",
       "\\item 1\n",
       "\\item 1\n",
       "\\item 1\n",
       "\\item 2\n",
       "\\item 1\n",
       "\\item 1\n",
       "\\item 1\n",
       "\\item 1\n",
       "\\item 1\n",
       "\\item 2\n",
       "\\item 1\n",
       "\\item 1\n",
       "\\item 1\n",
       "\\item 2\n",
       "\\item 2\n",
       "\\item 2\n",
       "\\item 2\n",
       "\\item 2\n",
       "\\item 2\n",
       "\\item 2\n",
       "\\item 2\n",
       "\\item 2\n",
       "\\item 2\n",
       "\\item 2\n",
       "\\item 2\n",
       "\\item 2\n",
       "\\item 2\n",
       "\\item 2\n",
       "\\item 2\n",
       "\\item 2\n",
       "\\item 2\n",
       "\\item 2\n",
       "\\item 2\n",
       "\\item 2\n",
       "\\item 2\n",
       "\\item 2\n",
       "\\item 2\n",
       "\\item 2\n",
       "\\item 2\n",
       "\\item 2\n",
       "\\item 2\n",
       "\\item 2\n",
       "\\item 2\n",
       "\\item 2\n",
       "\\item 2\n",
       "\\item 2\n",
       "\\item 2\n",
       "\\item 3\n",
       "\\item 3\n",
       "\\item 3\n",
       "\\item 3\n",
       "\\item 3\n",
       "\\item 3\n",
       "\\item 3\n",
       "\\item 3\n",
       "\\item 3\n",
       "\\item 2\n",
       "\\item 3\n",
       "\\item 3\n",
       "\\item 3\n",
       "\\item 3\n",
       "\\item 3\n",
       "\\item 3\n",
       "\\item 3\n",
       "\\item 3\n",
       "\\item 3\n",
       "\\item 3\n",
       "\\item 3\n",
       "\\item 3\n",
       "\\end{enumerate*}\n"
      ],
      "text/markdown": [
       "1. 1\n",
       "2. 1\n",
       "3. 1\n",
       "4. 1\n",
       "5. 1\n",
       "6. 1\n",
       "7. 1\n",
       "8. 1\n",
       "9. 1\n",
       "10. 1\n",
       "11. 1\n",
       "12. 1\n",
       "13. 1\n",
       "14. 2\n",
       "15. 1\n",
       "16. 1\n",
       "17. 1\n",
       "18. 1\n",
       "19. 1\n",
       "20. 1\n",
       "21. 1\n",
       "22. 1\n",
       "23. 1\n",
       "24. 1\n",
       "25. 1\n",
       "26. 1\n",
       "27. 1\n",
       "28. 1\n",
       "29. 1\n",
       "30. 1\n",
       "31. 1\n",
       "32. 1\n",
       "33. 1\n",
       "34. 1\n",
       "35. 1\n",
       "36. 1\n",
       "37. 2\n",
       "38. 1\n",
       "39. 1\n",
       "40. 1\n",
       "41. 1\n",
       "42. 1\n",
       "43. 2\n",
       "44. 1\n",
       "45. 1\n",
       "46. 1\n",
       "47. 2\n",
       "48. 2\n",
       "49. 2\n",
       "50. 2\n",
       "51. 2\n",
       "52. 2\n",
       "53. 2\n",
       "54. 2\n",
       "55. 2\n",
       "56. 2\n",
       "57. 2\n",
       "58. 2\n",
       "59. 2\n",
       "60. 2\n",
       "61. 2\n",
       "62. 2\n",
       "63. 2\n",
       "64. 2\n",
       "65. 2\n",
       "66. 2\n",
       "67. 2\n",
       "68. 2\n",
       "69. 2\n",
       "70. 2\n",
       "71. 2\n",
       "72. 2\n",
       "73. 2\n",
       "74. 2\n",
       "75. 2\n",
       "76. 2\n",
       "77. 2\n",
       "78. 2\n",
       "79. 2\n",
       "80. 2\n",
       "81. 3\n",
       "82. 3\n",
       "83. 3\n",
       "84. 3\n",
       "85. 3\n",
       "86. 3\n",
       "87. 3\n",
       "88. 3\n",
       "89. 3\n",
       "90. 2\n",
       "91. 3\n",
       "92. 3\n",
       "93. 3\n",
       "94. 3\n",
       "95. 3\n",
       "96. 3\n",
       "97. 3\n",
       "98. 3\n",
       "99. 3\n",
       "100. 3\n",
       "101. 3\n",
       "102. 3\n",
       "\n",
       "\n"
      ],
      "text/plain": [
       "  [1] 1 1 1 1 1 1 1 1 1 1 1 1 1 2 1 1 1 1 1 1 1 1 1 1 1 1 1 1 1 1 1 1 1 1 1 1 2\n",
       " [38] 1 1 1 1 1 2 1 1 1 2 2 2 2 2 2 2 2 2 2 2 2 2 2 2 2 2 2 2 2 2 2 2 2 2 2 2 2\n",
       " [75] 2 2 2 2 2 2 3 3 3 3 3 3 3 3 3 2 3 3 3 3 3 3 3 3 3 3 3 3"
      ]
     },
     "metadata": {},
     "output_type": "display_data"
    }
   ],
   "source": [
    "# Getting a vector of prediction vs actual classification\n",
    "#actual = as.factor(as.vector(unlist(dataset[\"Class_n\"])))\n",
    "predicted <- as.numeric(as.vector(unlist(dataset[\"Cluster\"])))\n",
    "\n",
    "print(\"gold standard\")\n",
    "gold_standard_vector\n",
    "print(\"predicted\")\n",
    "predicted"
   ]
  },
  {
   "cell_type": "code",
   "execution_count": 30,
   "id": "c6c2190f-f90c-4c67-9f3f-c58263b072c6",
   "metadata": {},
   "outputs": [
    {
     "data": {
      "text/html": [
       "<table class=\"dataframe\">\n",
       "<caption>A data.frame: 1 × 3</caption>\n",
       "<thead>\n",
       "\t<tr><th></th><th scope=col>ependymoma</th><th scope=col>glioblastoma</th><th scope=col>medulloblastoma</th></tr>\n",
       "\t<tr><th></th><th scope=col>&lt;chr&gt;</th><th scope=col>&lt;chr&gt;</th><th scope=col>&lt;chr&gt;</th></tr>\n",
       "</thead>\n",
       "<tbody>\n",
       "\t<tr><th scope=row>Sensitivity. (%)</th><td>93</td><td>100</td><td>95</td></tr>\n",
       "</tbody>\n",
       "</table>\n"
      ],
      "text/latex": [
       "A data.frame: 1 × 3\n",
       "\\begin{tabular}{r|lll}\n",
       "  & ependymoma & glioblastoma & medulloblastoma\\\\\n",
       "  & <chr> & <chr> & <chr>\\\\\n",
       "\\hline\n",
       "\tSensitivity. (\\%) & 93 & 100 & 95\\\\\n",
       "\\end{tabular}\n"
      ],
      "text/markdown": [
       "\n",
       "A data.frame: 1 × 3\n",
       "\n",
       "| <!--/--> | ependymoma &lt;chr&gt; | glioblastoma &lt;chr&gt; | medulloblastoma &lt;chr&gt; |\n",
       "|---|---|---|---|\n",
       "| Sensitivity. (%) | 93 | 100 | 95 |\n",
       "\n"
      ],
      "text/plain": [
       "                 ependymoma glioblastoma medulloblastoma\n",
       "Sensitivity. (%) 93         100          95             "
      ]
     },
     "metadata": {},
     "output_type": "display_data"
    },
    {
     "data": {
      "text/html": [
       "'(93,100,95)'"
      ],
      "text/latex": [
       "'(93,100,95)'"
      ],
      "text/markdown": [
       "'(93,100,95)'"
      ],
      "text/plain": [
       "[1] \"(93,100,95)\""
      ]
     },
     "metadata": {},
     "output_type": "display_data"
    }
   ],
   "source": [
    "sen = RSKC::Sensitivity(predicted, gold_standard_vector)\n",
    "sensitivity_table <- sen$prob[1,]\n",
    "names(sensitivity_table) = names(level_mapping[!grepl(\"K56|MCF\", names(level_mapping))])\n",
    "sensitivity_table\n",
    "paste0(\"(\", paste(unlist(sensitivity_table), collapse = \",\"), \")\")"
   ]
  },
  {
   "cell_type": "markdown",
   "id": "69f1248e",
   "metadata": {},
   "source": [
    "# CER <a class=\"anchor\" id=\"cer\"></a>\n",
    "To assess the overall accuracy of our clustering, we compute the Classification Error Rate (CER) and compare it with the gold standard classification. CER represents the proportion of misclassified instances, thus providing a clear measure of the clustering performance in assigning individuals to the correct clusters."
   ]
  },
  {
   "cell_type": "code",
   "execution_count": 31,
   "id": "fc3052a4",
   "metadata": {},
   "outputs": [
    {
     "name": "stdout",
     "output_type": "stream",
     "text": [
      "[1] \"CER: 5.61%\"\n"
     ]
    }
   ],
   "source": [
    "cer = CER(predicted, gold_standard_vector)\n",
    "cer = format(round(cer*100, 2), nsmall = 2)\n",
    "print(paste0(\"CER: \", cer, \"%\"))"
   ]
  },
  {
   "cell_type": "code",
   "execution_count": 32,
   "id": "12a8371d-2f8c-4e1c-b889-9013a0644d2d",
   "metadata": {
    "scrolled": true
   },
   "outputs": [
    {
     "data": {
      "text/html": [
       "0.1"
      ],
      "text/latex": [
       "0.1"
      ],
      "text/markdown": [
       "0.1"
      ],
      "text/plain": [
       "[1] 0.1"
      ]
     },
     "metadata": {},
     "output_type": "display_data"
    },
    {
     "data": {
      "text/html": [
       "0"
      ],
      "text/latex": [
       "0"
      ],
      "text/markdown": [
       "0"
      ],
      "text/plain": [
       "[1] 0"
      ]
     },
     "metadata": {},
     "output_type": "display_data"
    },
    {
     "data": {
      "text/html": [
       "11.2112753007614"
      ],
      "text/latex": [
       "11.2112753007614"
      ],
      "text/markdown": [
       "11.2112753007614"
      ],
      "text/plain": [
       "[1] 11.21128"
      ]
     },
     "metadata": {},
     "output_type": "display_data"
    }
   ],
   "source": [
    "# CER: 5.61% - max_alpha = 0.1 - alpha (automatic) = 0.00 - L1 = 11.2112753007614 - kopt = 3\n",
    "# CER: 5.61% - max_alpha = 0.25 - alpha (automatic) = 0.00 - L1 = 11.2112753007614 - kopt = 3\n",
    "\n",
    "max_alpha\n",
    "r_atsc$alpha\n",
    "r_atsc$L1"
   ]
  },
  {
   "cell_type": "code",
   "execution_count": null,
   "id": "fb23ed7b-57b3-4ba0-9386-706d253cfe53",
   "metadata": {},
   "outputs": [],
   "source": []
  }
 ],
 "metadata": {
  "kernelspec": {
   "display_name": "R",
   "language": "R",
   "name": "ir"
  },
  "language_info": {
   "codemirror_mode": "r",
   "file_extension": ".r",
   "mimetype": "text/x-r-source",
   "name": "R",
   "pygments_lexer": "r",
   "version": "4.4.1"
  }
 },
 "nbformat": 4,
 "nbformat_minor": 5
}
