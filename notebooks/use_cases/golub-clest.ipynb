{
 "cells": [
  {
   "cell_type": "markdown",
   "id": "285a2f02",
   "metadata": {},
   "source": [
    " # GOLUB use case"
   ]
  },
  {
   "cell_type": "code",
   "execution_count": 1,
   "id": "5b925569",
   "metadata": {
    "scrolled": true
   },
   "outputs": [
    {
     "name": "stderr",
     "output_type": "stream",
     "text": [
      "Cargando paquete requerido: flexclust\n",
      "\n",
      "Cargando paquete requerido: grid\n",
      "\n",
      "Cargando paquete requerido: lattice\n",
      "\n",
      "Cargando paquete requerido: modeltools\n",
      "\n",
      "Cargando paquete requerido: stats4\n",
      "\n",
      "Cargando paquete requerido: Biobase\n",
      "\n",
      "Cargando paquete requerido: BiocGenerics\n",
      "\n",
      "\n",
      "Adjuntando el paquete: 'BiocGenerics'\n",
      "\n",
      "\n",
      "The following objects are masked from 'package:stats':\n",
      "\n",
      "    IQR, mad, sd, var, xtabs\n",
      "\n",
      "\n",
      "The following objects are masked from 'package:base':\n",
      "\n",
      "    anyDuplicated, aperm, append, as.data.frame, basename, cbind,\n",
      "    colnames, dirname, do.call, duplicated, eval, evalq, Filter, Find,\n",
      "    get, grep, grepl, intersect, is.unsorted, lapply, Map, mapply,\n",
      "    match, mget, order, paste, pmax, pmax.int, pmin, pmin.int,\n",
      "    Position, rank, rbind, Reduce, rownames, sapply, setdiff, table,\n",
      "    tapply, union, unique, unsplit, which.max, which.min\n",
      "\n",
      "\n",
      "Welcome to Bioconductor\n",
      "\n",
      "    Vignettes contain introductory material; view with\n",
      "    'browseVignettes()'. To cite Bioconductor, see\n",
      "    'citation(\"Biobase\")', and for packages 'citation(\"pkgname\")'.\n",
      "\n",
      "\n",
      "\n",
      "Adjuntando el paquete: 'cancerclass'\n",
      "\n",
      "\n",
      "The following objects are masked from 'package:flexclust':\n",
      "\n",
      "    plot, predict, summary\n",
      "\n",
      "\n",
      "The following object is masked from 'package:modeltools':\n",
      "\n",
      "    fit\n",
      "\n",
      "\n",
      "The following objects are masked from 'package:stats4':\n",
      "\n",
      "    plot, summary\n",
      "\n",
      "\n",
      "The following objects are masked from 'package:stats':\n",
      "\n",
      "    filter, predict\n",
      "\n",
      "\n",
      "The following object is masked from 'package:graphics':\n",
      "\n",
      "    plot\n",
      "\n",
      "\n",
      "The following objects are masked from 'package:base':\n",
      "\n",
      "    plot, summary\n",
      "\n",
      "\n",
      "\n",
      "Adjuntando el paquete: 'dplyr'\n",
      "\n",
      "\n",
      "The following object is masked from 'package:cancerclass':\n",
      "\n",
      "    filter\n",
      "\n",
      "\n",
      "The following object is masked from 'package:Biobase':\n",
      "\n",
      "    combine\n",
      "\n",
      "\n",
      "The following objects are masked from 'package:BiocGenerics':\n",
      "\n",
      "    combine, intersect, setdiff, union\n",
      "\n",
      "\n",
      "The following objects are masked from 'package:stats':\n",
      "\n",
      "    filter, lag\n",
      "\n",
      "\n",
      "The following objects are masked from 'package:base':\n",
      "\n",
      "    intersect, setdiff, setequal, union\n",
      "\n",
      "\n",
      "Cargando paquete requerido: ggplot2\n",
      "\n",
      "\n",
      "Adjuntando el paquete: 'MLmetrics'\n",
      "\n",
      "\n",
      "The following objects are masked from 'package:caret':\n",
      "\n",
      "    MAE, RMSE\n",
      "\n",
      "\n",
      "The following object is masked from 'package:RSKC':\n",
      "\n",
      "    Sensitivity\n",
      "\n",
      "\n",
      "The following object is masked from 'package:base':\n",
      "\n",
      "    Recall\n",
      "\n",
      "\n"
     ]
    }
   ],
   "source": [
    "library(\"binom\") \n",
    "library(\"RSKC\")\n",
    "library(\"cancerclass\")\n",
    "library(\"dplyr\")\n",
    "library(\"caret\")\n",
    "library(\"MLmetrics\")\n",
    "library(\"ggplot2\")\n",
    "library(\"ggrepel\")\n",
    "library(\"reshape2\")\n",
    "\n",
    "options(scipen=10)\n",
    "options(repr.plot.width=12, repr.plot.height=12)"
   ]
  },
  {
   "cell_type": "code",
   "execution_count": 2,
   "id": "ce9016fb",
   "metadata": {},
   "outputs": [
    {
     "data": {
      "text/plain": [
       "[1] '4.4.1'"
      ]
     },
     "metadata": {},
     "output_type": "display_data"
    },
    {
     "data": {
      "text/plain": [
       "[1] '2.4.2'"
      ]
     },
     "metadata": {},
     "output_type": "display_data"
    }
   ],
   "source": [
    "getRversion()\n",
    "packageVersion(\"RSKC\")"
   ]
  },
  {
   "cell_type": "markdown",
   "id": "58895eee",
   "metadata": {},
   "source": [
    "# Table of contents\n",
    "* [Dataset](#dataset)\n",
    "    * [Top 200](#top)\n",
    "* [Cest](#clest)\n",
    "    * [RSKC](#rskc)\n",
    "* [PCA](#pca)\n",
    "* [Sensitivity](#sensitivity)\n",
    "* [CER](#cer)"
   ]
  },
  {
   "cell_type": "markdown",
   "id": "08d0e886",
   "metadata": {},
   "source": [
    "# Dataset <a class=\"anchor\" id=\"dataset\"></a>"
   ]
  },
  {
   "cell_type": "code",
   "execution_count": 3,
   "id": "0a1bb939",
   "metadata": {},
   "outputs": [
    {
     "data": {
      "text/html": [
       "<table class=\"dataframe\">\n",
       "<caption>A data.frame: 6 × 102</caption>\n",
       "<thead>\n",
       "\t<tr><th></th><th scope=col>Case</th><th scope=col>AFFX.HUMRGE.M10098_5_at</th><th scope=col>AFFX.HUMRGE.M10098_M_at</th><th scope=col>AFFX.HUMRGE.M10098_3_at</th><th scope=col>AFFX.M27830_5_at</th><th scope=col>D13639_at</th><th scope=col>D83735_at</th><th scope=col>D83920_at</th><th scope=col>D87433_at</th><th scope=col>D88270_at</th><th scope=col>⋯</th><th scope=col>X65965_s_at</th><th scope=col>X76223_s_at</th><th scope=col>AF000424_s_at</th><th scope=col>M21305_at</th><th scope=col>U57341_at</th><th scope=col>HG3576.HT3779_f_at</th><th scope=col>U01317_cds4_at</th><th scope=col>M15395_at</th><th scope=col>M34516_at</th><th scope=col>Class</th></tr>\n",
       "\t<tr><th></th><th scope=col>&lt;fct&gt;</th><th scope=col>&lt;dbl&gt;</th><th scope=col>&lt;dbl&gt;</th><th scope=col>&lt;dbl&gt;</th><th scope=col>&lt;dbl&gt;</th><th scope=col>&lt;dbl&gt;</th><th scope=col>&lt;dbl&gt;</th><th scope=col>&lt;dbl&gt;</th><th scope=col>&lt;dbl&gt;</th><th scope=col>&lt;dbl&gt;</th><th scope=col>⋯</th><th scope=col>&lt;dbl&gt;</th><th scope=col>&lt;dbl&gt;</th><th scope=col>&lt;dbl&gt;</th><th scope=col>&lt;dbl&gt;</th><th scope=col>&lt;dbl&gt;</th><th scope=col>&lt;dbl&gt;</th><th scope=col>&lt;dbl&gt;</th><th scope=col>&lt;dbl&gt;</th><th scope=col>&lt;dbl&gt;</th><th scope=col>&lt;fct&gt;</th></tr>\n",
       "</thead>\n",
       "<tbody>\n",
       "\t<tr><th scope=row>1</th><td>B1</td><td>4.16250</td><td>3.98847</td><td>3.93090</td><td>3.82930</td><td>3.67274</td><td>2.00000</td><td>2.00000</td><td>2.0000</td><td>3.29336</td><td>⋯</td><td>2.83059</td><td>2.00000</td><td>3.49914</td><td>2.91960</td><td>2.30750</td><td>3.92536</td><td>2.07555</td><td>2.23553</td><td>3.82595</td><td>B</td></tr>\n",
       "\t<tr><th scope=row>2</th><td>T1</td><td>2.78888</td><td>2.06070</td><td>3.18127</td><td>3.34537</td><td>3.52724</td><td>3.04218</td><td>3.35545</td><td>2.0000</td><td>2.29667</td><td>⋯</td><td>3.40926</td><td>3.96624</td><td>3.71533</td><td>2.00000</td><td>2.69810</td><td>3.25479</td><td>2.00000</td><td>3.19535</td><td>3.46195</td><td>T</td></tr>\n",
       "\t<tr><th scope=row>3</th><td>T2</td><td>3.75351</td><td>3.51481</td><td>3.56443</td><td>3.52179</td><td>2.00000</td><td>2.89321</td><td>2.31175</td><td>2.0000</td><td>2.76268</td><td>⋯</td><td>2.52763</td><td>4.20412</td><td>2.85003</td><td>3.38364</td><td>2.64345</td><td>2.00000</td><td>2.23553</td><td>2.50379</td><td>2.00000</td><td>T</td></tr>\n",
       "\t<tr><th scope=row>4</th><td>B2</td><td>3.68574</td><td>3.36040</td><td>3.40976</td><td>3.48544</td><td>2.00432</td><td>2.00000</td><td>2.00000</td><td>2.0000</td><td>3.68851</td><td>⋯</td><td>2.43457</td><td>2.00000</td><td>2.00000</td><td>2.79029</td><td>2.98632</td><td>3.42911</td><td>2.59660</td><td>2.37658</td><td>3.14364</td><td>B</td></tr>\n",
       "\t<tr><th scope=row>5</th><td>B3</td><td>3.10857</td><td>3.43632</td><td>2.49969</td><td>3.05308</td><td>3.10585</td><td>2.00000</td><td>2.30750</td><td>2.4014</td><td>3.52930</td><td>⋯</td><td>2.56820</td><td>2.00000</td><td>2.73640</td><td>2.45637</td><td>2.22272</td><td>3.37014</td><td>2.09342</td><td>3.03383</td><td>3.36399</td><td>B</td></tr>\n",
       "\t<tr><th scope=row>6</th><td>T3</td><td>3.61784</td><td>3.43823</td><td>3.38093</td><td>3.59173</td><td>2.00000</td><td>2.00000</td><td>3.18639</td><td>2.0000</td><td>2.00000</td><td>⋯</td><td>2.50651</td><td>4.13117</td><td>3.25888</td><td>2.00000</td><td>2.07918</td><td>2.00000</td><td>2.00000</td><td>3.01536</td><td>2.00000</td><td>T</td></tr>\n",
       "</tbody>\n",
       "</table>\n"
      ],
      "text/latex": [
       "A data.frame: 6 × 102\n",
       "\\begin{tabular}{r|lllllllllllllllllllll}\n",
       "  & Case & AFFX.HUMRGE.M10098\\_5\\_at & AFFX.HUMRGE.M10098\\_M\\_at & AFFX.HUMRGE.M10098\\_3\\_at & AFFX.M27830\\_5\\_at & D13639\\_at & D83735\\_at & D83920\\_at & D87433\\_at & D88270\\_at & ⋯ & X65965\\_s\\_at & X76223\\_s\\_at & AF000424\\_s\\_at & M21305\\_at & U57341\\_at & HG3576.HT3779\\_f\\_at & U01317\\_cds4\\_at & M15395\\_at & M34516\\_at & Class\\\\\n",
       "  & <fct> & <dbl> & <dbl> & <dbl> & <dbl> & <dbl> & <dbl> & <dbl> & <dbl> & <dbl> & ⋯ & <dbl> & <dbl> & <dbl> & <dbl> & <dbl> & <dbl> & <dbl> & <dbl> & <dbl> & <fct>\\\\\n",
       "\\hline\n",
       "\t1 & B1 & 4.16250 & 3.98847 & 3.93090 & 3.82930 & 3.67274 & 2.00000 & 2.00000 & 2.0000 & 3.29336 & ⋯ & 2.83059 & 2.00000 & 3.49914 & 2.91960 & 2.30750 & 3.92536 & 2.07555 & 2.23553 & 3.82595 & B\\\\\n",
       "\t2 & T1 & 2.78888 & 2.06070 & 3.18127 & 3.34537 & 3.52724 & 3.04218 & 3.35545 & 2.0000 & 2.29667 & ⋯ & 3.40926 & 3.96624 & 3.71533 & 2.00000 & 2.69810 & 3.25479 & 2.00000 & 3.19535 & 3.46195 & T\\\\\n",
       "\t3 & T2 & 3.75351 & 3.51481 & 3.56443 & 3.52179 & 2.00000 & 2.89321 & 2.31175 & 2.0000 & 2.76268 & ⋯ & 2.52763 & 4.20412 & 2.85003 & 3.38364 & 2.64345 & 2.00000 & 2.23553 & 2.50379 & 2.00000 & T\\\\\n",
       "\t4 & B2 & 3.68574 & 3.36040 & 3.40976 & 3.48544 & 2.00432 & 2.00000 & 2.00000 & 2.0000 & 3.68851 & ⋯ & 2.43457 & 2.00000 & 2.00000 & 2.79029 & 2.98632 & 3.42911 & 2.59660 & 2.37658 & 3.14364 & B\\\\\n",
       "\t5 & B3 & 3.10857 & 3.43632 & 2.49969 & 3.05308 & 3.10585 & 2.00000 & 2.30750 & 2.4014 & 3.52930 & ⋯ & 2.56820 & 2.00000 & 2.73640 & 2.45637 & 2.22272 & 3.37014 & 2.09342 & 3.03383 & 3.36399 & B\\\\\n",
       "\t6 & T3 & 3.61784 & 3.43823 & 3.38093 & 3.59173 & 2.00000 & 2.00000 & 3.18639 & 2.0000 & 2.00000 & ⋯ & 2.50651 & 4.13117 & 3.25888 & 2.00000 & 2.07918 & 2.00000 & 2.00000 & 3.01536 & 2.00000 & T\\\\\n",
       "\\end{tabular}\n"
      ],
      "text/markdown": [
       "\n",
       "A data.frame: 6 × 102\n",
       "\n",
       "| <!--/--> | Case &lt;fct&gt; | AFFX.HUMRGE.M10098_5_at &lt;dbl&gt; | AFFX.HUMRGE.M10098_M_at &lt;dbl&gt; | AFFX.HUMRGE.M10098_3_at &lt;dbl&gt; | AFFX.M27830_5_at &lt;dbl&gt; | D13639_at &lt;dbl&gt; | D83735_at &lt;dbl&gt; | D83920_at &lt;dbl&gt; | D87433_at &lt;dbl&gt; | D88270_at &lt;dbl&gt; | ⋯ ⋯ | X65965_s_at &lt;dbl&gt; | X76223_s_at &lt;dbl&gt; | AF000424_s_at &lt;dbl&gt; | M21305_at &lt;dbl&gt; | U57341_at &lt;dbl&gt; | HG3576.HT3779_f_at &lt;dbl&gt; | U01317_cds4_at &lt;dbl&gt; | M15395_at &lt;dbl&gt; | M34516_at &lt;dbl&gt; | Class &lt;fct&gt; |\n",
       "|---|---|---|---|---|---|---|---|---|---|---|---|---|---|---|---|---|---|---|---|---|---|\n",
       "| 1 | B1 | 4.16250 | 3.98847 | 3.93090 | 3.82930 | 3.67274 | 2.00000 | 2.00000 | 2.0000 | 3.29336 | ⋯ | 2.83059 | 2.00000 | 3.49914 | 2.91960 | 2.30750 | 3.92536 | 2.07555 | 2.23553 | 3.82595 | B |\n",
       "| 2 | T1 | 2.78888 | 2.06070 | 3.18127 | 3.34537 | 3.52724 | 3.04218 | 3.35545 | 2.0000 | 2.29667 | ⋯ | 3.40926 | 3.96624 | 3.71533 | 2.00000 | 2.69810 | 3.25479 | 2.00000 | 3.19535 | 3.46195 | T |\n",
       "| 3 | T2 | 3.75351 | 3.51481 | 3.56443 | 3.52179 | 2.00000 | 2.89321 | 2.31175 | 2.0000 | 2.76268 | ⋯ | 2.52763 | 4.20412 | 2.85003 | 3.38364 | 2.64345 | 2.00000 | 2.23553 | 2.50379 | 2.00000 | T |\n",
       "| 4 | B2 | 3.68574 | 3.36040 | 3.40976 | 3.48544 | 2.00432 | 2.00000 | 2.00000 | 2.0000 | 3.68851 | ⋯ | 2.43457 | 2.00000 | 2.00000 | 2.79029 | 2.98632 | 3.42911 | 2.59660 | 2.37658 | 3.14364 | B |\n",
       "| 5 | B3 | 3.10857 | 3.43632 | 2.49969 | 3.05308 | 3.10585 | 2.00000 | 2.30750 | 2.4014 | 3.52930 | ⋯ | 2.56820 | 2.00000 | 2.73640 | 2.45637 | 2.22272 | 3.37014 | 2.09342 | 3.03383 | 3.36399 | B |\n",
       "| 6 | T3 | 3.61784 | 3.43823 | 3.38093 | 3.59173 | 2.00000 | 2.00000 | 3.18639 | 2.0000 | 2.00000 | ⋯ | 2.50651 | 4.13117 | 3.25888 | 2.00000 | 2.07918 | 2.00000 | 2.00000 | 3.01536 | 2.00000 | T |\n",
       "\n"
      ],
      "text/plain": [
       "  Case AFFX.HUMRGE.M10098_5_at AFFX.HUMRGE.M10098_M_at AFFX.HUMRGE.M10098_3_at\n",
       "1 B1   4.16250                 3.98847                 3.93090                \n",
       "2 T1   2.78888                 2.06070                 3.18127                \n",
       "3 T2   3.75351                 3.51481                 3.56443                \n",
       "4 B2   3.68574                 3.36040                 3.40976                \n",
       "5 B3   3.10857                 3.43632                 2.49969                \n",
       "6 T3   3.61784                 3.43823                 3.38093                \n",
       "  AFFX.M27830_5_at D13639_at D83735_at D83920_at D87433_at D88270_at ⋯\n",
       "1 3.82930          3.67274   2.00000   2.00000   2.0000    3.29336   ⋯\n",
       "2 3.34537          3.52724   3.04218   3.35545   2.0000    2.29667   ⋯\n",
       "3 3.52179          2.00000   2.89321   2.31175   2.0000    2.76268   ⋯\n",
       "4 3.48544          2.00432   2.00000   2.00000   2.0000    3.68851   ⋯\n",
       "5 3.05308          3.10585   2.00000   2.30750   2.4014    3.52930   ⋯\n",
       "6 3.59173          2.00000   2.00000   3.18639   2.0000    2.00000   ⋯\n",
       "  X65965_s_at X76223_s_at AF000424_s_at M21305_at U57341_at HG3576.HT3779_f_at\n",
       "1 2.83059     2.00000     3.49914       2.91960   2.30750   3.92536           \n",
       "2 3.40926     3.96624     3.71533       2.00000   2.69810   3.25479           \n",
       "3 2.52763     4.20412     2.85003       3.38364   2.64345   2.00000           \n",
       "4 2.43457     2.00000     2.00000       2.79029   2.98632   3.42911           \n",
       "5 2.56820     2.00000     2.73640       2.45637   2.22272   3.37014           \n",
       "6 2.50651     4.13117     3.25888       2.00000   2.07918   2.00000           \n",
       "  U01317_cds4_at M15395_at M34516_at Class\n",
       "1 2.07555        2.23553   3.82595   B    \n",
       "2 2.00000        3.19535   3.46195   T    \n",
       "3 2.23553        2.50379   2.00000   T    \n",
       "4 2.59660        2.37658   3.14364   B    \n",
       "5 2.09342        3.03383   3.36399   B    \n",
       "6 2.00000        3.01536   2.00000   T    "
      ]
     },
     "metadata": {},
     "output_type": "display_data"
    }
   ],
   "source": [
    "load(\"data/leukemia.RData\")\n",
    "golub = as.data.frame(leukemia)\n",
    "head(golub)"
   ]
  },
  {
   "cell_type": "markdown",
   "id": "8a6ee24b",
   "metadata": {},
   "source": [
    "Three types of classes within the dataset: **B**, **T** and **M**."
   ]
  },
  {
   "cell_type": "code",
   "execution_count": 4,
   "id": "e3d9ffb3",
   "metadata": {},
   "outputs": [
    {
     "data": {
      "text/html": [
       "<table class=\"dataframe\">\n",
       "<caption>A data.frame: 3 × 1</caption>\n",
       "<thead>\n",
       "\t<tr><th></th><th scope=col>Class</th></tr>\n",
       "\t<tr><th></th><th scope=col>&lt;fct&gt;</th></tr>\n",
       "</thead>\n",
       "<tbody>\n",
       "\t<tr><th scope=row>1</th><td>B</td></tr>\n",
       "\t<tr><th scope=row>2</th><td>T</td></tr>\n",
       "\t<tr><th scope=row>28</th><td>M</td></tr>\n",
       "</tbody>\n",
       "</table>\n"
      ],
      "text/latex": [
       "A data.frame: 3 × 1\n",
       "\\begin{tabular}{r|l}\n",
       "  & Class\\\\\n",
       "  & <fct>\\\\\n",
       "\\hline\n",
       "\t1 & B\\\\\n",
       "\t2 & T\\\\\n",
       "\t28 & M\\\\\n",
       "\\end{tabular}\n"
      ],
      "text/markdown": [
       "\n",
       "A data.frame: 3 × 1\n",
       "\n",
       "| <!--/--> | Class &lt;fct&gt; |\n",
       "|---|---|\n",
       "| 1 | B |\n",
       "| 2 | T |\n",
       "| 28 | M |\n",
       "\n"
      ],
      "text/plain": [
       "   Class\n",
       "1  B    \n",
       "2  T    \n",
       "28 M    "
      ]
     },
     "metadata": {},
     "output_type": "display_data"
    }
   ],
   "source": [
    "unique(golub[\"Class\"])"
   ]
  },
  {
   "cell_type": "markdown",
   "id": "916bfe1c",
   "metadata": {},
   "source": [
    "*Further information regarding GOLUB in [cancerclass](https://rdrr.io/bioc/cancerclass/man/GOLUB.html) package.*"
   ]
  },
  {
   "cell_type": "markdown",
   "id": "15b10987",
   "metadata": {},
   "source": [
    "Here, we prepare the GOLUB dataset for the analysis, in order to do so, we remove non-numeric columns:"
   ]
  },
  {
   "cell_type": "code",
   "execution_count": 5,
   "id": "ee296298",
   "metadata": {},
   "outputs": [
    {
     "data": {
      "text/html": [
       "<table class=\"dataframe\">\n",
       "<caption>A data.frame: 6 × 101</caption>\n",
       "<thead>\n",
       "\t<tr><th></th><th scope=col>Case</th><th scope=col>AFFX.HUMRGE.M10098_5_at</th><th scope=col>AFFX.HUMRGE.M10098_M_at</th><th scope=col>AFFX.HUMRGE.M10098_3_at</th><th scope=col>AFFX.M27830_5_at</th><th scope=col>D13639_at</th><th scope=col>D83735_at</th><th scope=col>D83920_at</th><th scope=col>D87433_at</th><th scope=col>D88270_at</th><th scope=col>⋯</th><th scope=col>X00437_s_at</th><th scope=col>X65965_s_at</th><th scope=col>X76223_s_at</th><th scope=col>AF000424_s_at</th><th scope=col>M21305_at</th><th scope=col>U57341_at</th><th scope=col>HG3576.HT3779_f_at</th><th scope=col>U01317_cds4_at</th><th scope=col>M15395_at</th><th scope=col>M34516_at</th></tr>\n",
       "\t<tr><th></th><th scope=col>&lt;fct&gt;</th><th scope=col>&lt;dbl&gt;</th><th scope=col>&lt;dbl&gt;</th><th scope=col>&lt;dbl&gt;</th><th scope=col>&lt;dbl&gt;</th><th scope=col>&lt;dbl&gt;</th><th scope=col>&lt;dbl&gt;</th><th scope=col>&lt;dbl&gt;</th><th scope=col>&lt;dbl&gt;</th><th scope=col>&lt;dbl&gt;</th><th scope=col>⋯</th><th scope=col>&lt;dbl&gt;</th><th scope=col>&lt;dbl&gt;</th><th scope=col>&lt;dbl&gt;</th><th scope=col>&lt;dbl&gt;</th><th scope=col>&lt;dbl&gt;</th><th scope=col>&lt;dbl&gt;</th><th scope=col>&lt;dbl&gt;</th><th scope=col>&lt;dbl&gt;</th><th scope=col>&lt;dbl&gt;</th><th scope=col>&lt;dbl&gt;</th></tr>\n",
       "</thead>\n",
       "<tbody>\n",
       "\t<tr><th scope=row>1</th><td>B1</td><td>4.16250</td><td>3.98847</td><td>3.93090</td><td>3.82930</td><td>3.67274</td><td>2.00000</td><td>2.00000</td><td>2.0000</td><td>3.29336</td><td>⋯</td><td>2.18469</td><td>2.83059</td><td>2.00000</td><td>3.49914</td><td>2.91960</td><td>2.30750</td><td>3.92536</td><td>2.07555</td><td>2.23553</td><td>3.82595</td></tr>\n",
       "\t<tr><th scope=row>2</th><td>T1</td><td>2.78888</td><td>2.06070</td><td>3.18127</td><td>3.34537</td><td>3.52724</td><td>3.04218</td><td>3.35545</td><td>2.0000</td><td>2.29667</td><td>⋯</td><td>4.10690</td><td>3.40926</td><td>3.96624</td><td>3.71533</td><td>2.00000</td><td>2.69810</td><td>3.25479</td><td>2.00000</td><td>3.19535</td><td>3.46195</td></tr>\n",
       "\t<tr><th scope=row>3</th><td>T2</td><td>3.75351</td><td>3.51481</td><td>3.56443</td><td>3.52179</td><td>2.00000</td><td>2.89321</td><td>2.31175</td><td>2.0000</td><td>2.76268</td><td>⋯</td><td>2.00000</td><td>2.52763</td><td>4.20412</td><td>2.85003</td><td>3.38364</td><td>2.64345</td><td>2.00000</td><td>2.23553</td><td>2.50379</td><td>2.00000</td></tr>\n",
       "\t<tr><th scope=row>4</th><td>B2</td><td>3.68574</td><td>3.36040</td><td>3.40976</td><td>3.48544</td><td>2.00432</td><td>2.00000</td><td>2.00000</td><td>2.0000</td><td>3.68851</td><td>⋯</td><td>2.00000</td><td>2.43457</td><td>2.00000</td><td>2.00000</td><td>2.79029</td><td>2.98632</td><td>3.42911</td><td>2.59660</td><td>2.37658</td><td>3.14364</td></tr>\n",
       "\t<tr><th scope=row>5</th><td>B3</td><td>3.10857</td><td>3.43632</td><td>2.49969</td><td>3.05308</td><td>3.10585</td><td>2.00000</td><td>2.30750</td><td>2.4014</td><td>3.52930</td><td>⋯</td><td>2.00000</td><td>2.56820</td><td>2.00000</td><td>2.73640</td><td>2.45637</td><td>2.22272</td><td>3.37014</td><td>2.09342</td><td>3.03383</td><td>3.36399</td></tr>\n",
       "\t<tr><th scope=row>6</th><td>T3</td><td>3.61784</td><td>3.43823</td><td>3.38093</td><td>3.59173</td><td>2.00000</td><td>2.00000</td><td>3.18639</td><td>2.0000</td><td>2.00000</td><td>⋯</td><td>4.20412</td><td>2.50651</td><td>4.13117</td><td>3.25888</td><td>2.00000</td><td>2.07918</td><td>2.00000</td><td>2.00000</td><td>3.01536</td><td>2.00000</td></tr>\n",
       "</tbody>\n",
       "</table>\n"
      ],
      "text/latex": [
       "A data.frame: 6 × 101\n",
       "\\begin{tabular}{r|lllllllllllllllllllll}\n",
       "  & Case & AFFX.HUMRGE.M10098\\_5\\_at & AFFX.HUMRGE.M10098\\_M\\_at & AFFX.HUMRGE.M10098\\_3\\_at & AFFX.M27830\\_5\\_at & D13639\\_at & D83735\\_at & D83920\\_at & D87433\\_at & D88270\\_at & ⋯ & X00437\\_s\\_at & X65965\\_s\\_at & X76223\\_s\\_at & AF000424\\_s\\_at & M21305\\_at & U57341\\_at & HG3576.HT3779\\_f\\_at & U01317\\_cds4\\_at & M15395\\_at & M34516\\_at\\\\\n",
       "  & <fct> & <dbl> & <dbl> & <dbl> & <dbl> & <dbl> & <dbl> & <dbl> & <dbl> & <dbl> & ⋯ & <dbl> & <dbl> & <dbl> & <dbl> & <dbl> & <dbl> & <dbl> & <dbl> & <dbl> & <dbl>\\\\\n",
       "\\hline\n",
       "\t1 & B1 & 4.16250 & 3.98847 & 3.93090 & 3.82930 & 3.67274 & 2.00000 & 2.00000 & 2.0000 & 3.29336 & ⋯ & 2.18469 & 2.83059 & 2.00000 & 3.49914 & 2.91960 & 2.30750 & 3.92536 & 2.07555 & 2.23553 & 3.82595\\\\\n",
       "\t2 & T1 & 2.78888 & 2.06070 & 3.18127 & 3.34537 & 3.52724 & 3.04218 & 3.35545 & 2.0000 & 2.29667 & ⋯ & 4.10690 & 3.40926 & 3.96624 & 3.71533 & 2.00000 & 2.69810 & 3.25479 & 2.00000 & 3.19535 & 3.46195\\\\\n",
       "\t3 & T2 & 3.75351 & 3.51481 & 3.56443 & 3.52179 & 2.00000 & 2.89321 & 2.31175 & 2.0000 & 2.76268 & ⋯ & 2.00000 & 2.52763 & 4.20412 & 2.85003 & 3.38364 & 2.64345 & 2.00000 & 2.23553 & 2.50379 & 2.00000\\\\\n",
       "\t4 & B2 & 3.68574 & 3.36040 & 3.40976 & 3.48544 & 2.00432 & 2.00000 & 2.00000 & 2.0000 & 3.68851 & ⋯ & 2.00000 & 2.43457 & 2.00000 & 2.00000 & 2.79029 & 2.98632 & 3.42911 & 2.59660 & 2.37658 & 3.14364\\\\\n",
       "\t5 & B3 & 3.10857 & 3.43632 & 2.49969 & 3.05308 & 3.10585 & 2.00000 & 2.30750 & 2.4014 & 3.52930 & ⋯ & 2.00000 & 2.56820 & 2.00000 & 2.73640 & 2.45637 & 2.22272 & 3.37014 & 2.09342 & 3.03383 & 3.36399\\\\\n",
       "\t6 & T3 & 3.61784 & 3.43823 & 3.38093 & 3.59173 & 2.00000 & 2.00000 & 3.18639 & 2.0000 & 2.00000 & ⋯ & 4.20412 & 2.50651 & 4.13117 & 3.25888 & 2.00000 & 2.07918 & 2.00000 & 2.00000 & 3.01536 & 2.00000\\\\\n",
       "\\end{tabular}\n"
      ],
      "text/markdown": [
       "\n",
       "A data.frame: 6 × 101\n",
       "\n",
       "| <!--/--> | Case &lt;fct&gt; | AFFX.HUMRGE.M10098_5_at &lt;dbl&gt; | AFFX.HUMRGE.M10098_M_at &lt;dbl&gt; | AFFX.HUMRGE.M10098_3_at &lt;dbl&gt; | AFFX.M27830_5_at &lt;dbl&gt; | D13639_at &lt;dbl&gt; | D83735_at &lt;dbl&gt; | D83920_at &lt;dbl&gt; | D87433_at &lt;dbl&gt; | D88270_at &lt;dbl&gt; | ⋯ ⋯ | X00437_s_at &lt;dbl&gt; | X65965_s_at &lt;dbl&gt; | X76223_s_at &lt;dbl&gt; | AF000424_s_at &lt;dbl&gt; | M21305_at &lt;dbl&gt; | U57341_at &lt;dbl&gt; | HG3576.HT3779_f_at &lt;dbl&gt; | U01317_cds4_at &lt;dbl&gt; | M15395_at &lt;dbl&gt; | M34516_at &lt;dbl&gt; |\n",
       "|---|---|---|---|---|---|---|---|---|---|---|---|---|---|---|---|---|---|---|---|---|---|\n",
       "| 1 | B1 | 4.16250 | 3.98847 | 3.93090 | 3.82930 | 3.67274 | 2.00000 | 2.00000 | 2.0000 | 3.29336 | ⋯ | 2.18469 | 2.83059 | 2.00000 | 3.49914 | 2.91960 | 2.30750 | 3.92536 | 2.07555 | 2.23553 | 3.82595 |\n",
       "| 2 | T1 | 2.78888 | 2.06070 | 3.18127 | 3.34537 | 3.52724 | 3.04218 | 3.35545 | 2.0000 | 2.29667 | ⋯ | 4.10690 | 3.40926 | 3.96624 | 3.71533 | 2.00000 | 2.69810 | 3.25479 | 2.00000 | 3.19535 | 3.46195 |\n",
       "| 3 | T2 | 3.75351 | 3.51481 | 3.56443 | 3.52179 | 2.00000 | 2.89321 | 2.31175 | 2.0000 | 2.76268 | ⋯ | 2.00000 | 2.52763 | 4.20412 | 2.85003 | 3.38364 | 2.64345 | 2.00000 | 2.23553 | 2.50379 | 2.00000 |\n",
       "| 4 | B2 | 3.68574 | 3.36040 | 3.40976 | 3.48544 | 2.00432 | 2.00000 | 2.00000 | 2.0000 | 3.68851 | ⋯ | 2.00000 | 2.43457 | 2.00000 | 2.00000 | 2.79029 | 2.98632 | 3.42911 | 2.59660 | 2.37658 | 3.14364 |\n",
       "| 5 | B3 | 3.10857 | 3.43632 | 2.49969 | 3.05308 | 3.10585 | 2.00000 | 2.30750 | 2.4014 | 3.52930 | ⋯ | 2.00000 | 2.56820 | 2.00000 | 2.73640 | 2.45637 | 2.22272 | 3.37014 | 2.09342 | 3.03383 | 3.36399 |\n",
       "| 6 | T3 | 3.61784 | 3.43823 | 3.38093 | 3.59173 | 2.00000 | 2.00000 | 3.18639 | 2.0000 | 2.00000 | ⋯ | 4.20412 | 2.50651 | 4.13117 | 3.25888 | 2.00000 | 2.07918 | 2.00000 | 2.00000 | 3.01536 | 2.00000 |\n",
       "\n"
      ],
      "text/plain": [
       "  Case AFFX.HUMRGE.M10098_5_at AFFX.HUMRGE.M10098_M_at AFFX.HUMRGE.M10098_3_at\n",
       "1 B1   4.16250                 3.98847                 3.93090                \n",
       "2 T1   2.78888                 2.06070                 3.18127                \n",
       "3 T2   3.75351                 3.51481                 3.56443                \n",
       "4 B2   3.68574                 3.36040                 3.40976                \n",
       "5 B3   3.10857                 3.43632                 2.49969                \n",
       "6 T3   3.61784                 3.43823                 3.38093                \n",
       "  AFFX.M27830_5_at D13639_at D83735_at D83920_at D87433_at D88270_at ⋯\n",
       "1 3.82930          3.67274   2.00000   2.00000   2.0000    3.29336   ⋯\n",
       "2 3.34537          3.52724   3.04218   3.35545   2.0000    2.29667   ⋯\n",
       "3 3.52179          2.00000   2.89321   2.31175   2.0000    2.76268   ⋯\n",
       "4 3.48544          2.00432   2.00000   2.00000   2.0000    3.68851   ⋯\n",
       "5 3.05308          3.10585   2.00000   2.30750   2.4014    3.52930   ⋯\n",
       "6 3.59173          2.00000   2.00000   3.18639   2.0000    2.00000   ⋯\n",
       "  X00437_s_at X65965_s_at X76223_s_at AF000424_s_at M21305_at U57341_at\n",
       "1 2.18469     2.83059     2.00000     3.49914       2.91960   2.30750  \n",
       "2 4.10690     3.40926     3.96624     3.71533       2.00000   2.69810  \n",
       "3 2.00000     2.52763     4.20412     2.85003       3.38364   2.64345  \n",
       "4 2.00000     2.43457     2.00000     2.00000       2.79029   2.98632  \n",
       "5 2.00000     2.56820     2.00000     2.73640       2.45637   2.22272  \n",
       "6 4.20412     2.50651     4.13117     3.25888       2.00000   2.07918  \n",
       "  HG3576.HT3779_f_at U01317_cds4_at M15395_at M34516_at\n",
       "1 3.92536            2.07555        2.23553   3.82595  \n",
       "2 3.25479            2.00000        3.19535   3.46195  \n",
       "3 2.00000            2.23553        2.50379   2.00000  \n",
       "4 3.42911            2.59660        2.37658   3.14364  \n",
       "5 3.37014            2.09342        3.03383   3.36399  \n",
       "6 2.00000            2.00000        3.01536   2.00000  "
      ]
     },
     "metadata": {},
     "output_type": "display_data"
    }
   ],
   "source": [
    "golub[\"Class\"] = NULL # leukemia\n",
    "golub[\"sample\"] = NULL\n",
    "golub[\"type\"] = NULL\n",
    "golub[\"FAB\"] = NULL\n",
    "golub[\"gender\"] = NULL\n",
    "head(golub)"
   ]
  },
  {
   "cell_type": "markdown",
   "id": "4e6e93c0",
   "metadata": {},
   "source": [
    "## Top 100 <a class=\"anchor\" id=\"top\"></a>\n",
    "We now filter the metrics for including only the top 100 with the greatest variance, as these metrics have the most significant impact on clustering."
   ]
  },
  {
   "cell_type": "code",
   "execution_count": 6,
   "id": "fc27a4a6",
   "metadata": {},
   "outputs": [
    {
     "data": {
      "text/html": [
       "<table class=\"dataframe\">\n",
       "<caption>A data.frame: 6 × 2</caption>\n",
       "<thead>\n",
       "\t<tr><th></th><th scope=col>variance</th><th scope=col>gene</th></tr>\n",
       "\t<tr><th></th><th scope=col>&lt;dbl&gt;</th><th scope=col>&lt;chr&gt;</th></tr>\n",
       "</thead>\n",
       "<tbody>\n",
       "\t<tr><th scope=row>X82240_rna1_at</th><td>0.7720814</td><td>X82240_rna1_at         </td></tr>\n",
       "\t<tr><th scope=row>M27891_at</th><td>0.6621002</td><td>M27891_at              </td></tr>\n",
       "\t<tr><th scope=row>M26311_s_at</th><td>0.6585567</td><td>M26311_s_at            </td></tr>\n",
       "\t<tr><th scope=row>AFFX.HUMRGE.M10098_5_at</th><td>0.6396886</td><td>AFFX.HUMRGE.M10098_5_at</td></tr>\n",
       "\t<tr><th scope=row>Y00787_s_at</th><td>0.6343951</td><td>Y00787_s_at            </td></tr>\n",
       "\t<tr><th scope=row>M84526_at</th><td>0.6198290</td><td>M84526_at              </td></tr>\n",
       "</tbody>\n",
       "</table>\n"
      ],
      "text/latex": [
       "A data.frame: 6 × 2\n",
       "\\begin{tabular}{r|ll}\n",
       "  & variance & gene\\\\\n",
       "  & <dbl> & <chr>\\\\\n",
       "\\hline\n",
       "\tX82240\\_rna1\\_at & 0.7720814 & X82240\\_rna1\\_at         \\\\\n",
       "\tM27891\\_at & 0.6621002 & M27891\\_at              \\\\\n",
       "\tM26311\\_s\\_at & 0.6585567 & M26311\\_s\\_at            \\\\\n",
       "\tAFFX.HUMRGE.M10098\\_5\\_at & 0.6396886 & AFFX.HUMRGE.M10098\\_5\\_at\\\\\n",
       "\tY00787\\_s\\_at & 0.6343951 & Y00787\\_s\\_at            \\\\\n",
       "\tM84526\\_at & 0.6198290 & M84526\\_at              \\\\\n",
       "\\end{tabular}\n"
      ],
      "text/markdown": [
       "\n",
       "A data.frame: 6 × 2\n",
       "\n",
       "| <!--/--> | variance &lt;dbl&gt; | gene &lt;chr&gt; |\n",
       "|---|---|---|\n",
       "| X82240_rna1_at | 0.7720814 | X82240_rna1_at          |\n",
       "| M27891_at | 0.6621002 | M27891_at               |\n",
       "| M26311_s_at | 0.6585567 | M26311_s_at             |\n",
       "| AFFX.HUMRGE.M10098_5_at | 0.6396886 | AFFX.HUMRGE.M10098_5_at |\n",
       "| Y00787_s_at | 0.6343951 | Y00787_s_at             |\n",
       "| M84526_at | 0.6198290 | M84526_at               |\n",
       "\n"
      ],
      "text/plain": [
       "                        variance  gene                   \n",
       "X82240_rna1_at          0.7720814 X82240_rna1_at         \n",
       "M27891_at               0.6621002 M27891_at              \n",
       "M26311_s_at             0.6585567 M26311_s_at            \n",
       "AFFX.HUMRGE.M10098_5_at 0.6396886 AFFX.HUMRGE.M10098_5_at\n",
       "Y00787_s_at             0.6343951 Y00787_s_at            \n",
       "M84526_at               0.6198290 M84526_at              "
      ]
     },
     "metadata": {},
     "output_type": "display_data"
    }
   ],
   "source": [
    "variance = sort(sapply(golub[-1], var,na.rm = TRUE), decreasing = TRUE)  # Sorted gene variance\n",
    "gene_var = as.data.frame(variance)\n",
    "gene_var[\"gene\"] = rownames(gene_var)\n",
    "head(gene_var)"
   ]
  },
  {
   "cell_type": "code",
   "execution_count": 7,
   "id": "ad5808dc",
   "metadata": {},
   "outputs": [
    {
     "data": {
      "text/html": [
       "<table class=\"dataframe\">\n",
       "<caption>A data.frame: 6 × 2</caption>\n",
       "<thead>\n",
       "\t<tr><th></th><th scope=col>variance</th><th scope=col>gene</th></tr>\n",
       "\t<tr><th></th><th scope=col>&lt;dbl&gt;</th><th scope=col>&lt;chr&gt;</th></tr>\n",
       "</thead>\n",
       "<tbody>\n",
       "\t<tr><th scope=row>X82240_rna1_at</th><td>0.7720814</td><td>X82240_rna1_at         </td></tr>\n",
       "\t<tr><th scope=row>M27891_at</th><td>0.6621002</td><td>M27891_at              </td></tr>\n",
       "\t<tr><th scope=row>M26311_s_at</th><td>0.6585567</td><td>M26311_s_at            </td></tr>\n",
       "\t<tr><th scope=row>AFFX.HUMRGE.M10098_5_at</th><td>0.6396886</td><td>AFFX.HUMRGE.M10098_5_at</td></tr>\n",
       "\t<tr><th scope=row>Y00787_s_at</th><td>0.6343951</td><td>Y00787_s_at            </td></tr>\n",
       "\t<tr><th scope=row>M84526_at</th><td>0.6198290</td><td>M84526_at              </td></tr>\n",
       "</tbody>\n",
       "</table>\n"
      ],
      "text/latex": [
       "A data.frame: 6 × 2\n",
       "\\begin{tabular}{r|ll}\n",
       "  & variance & gene\\\\\n",
       "  & <dbl> & <chr>\\\\\n",
       "\\hline\n",
       "\tX82240\\_rna1\\_at & 0.7720814 & X82240\\_rna1\\_at         \\\\\n",
       "\tM27891\\_at & 0.6621002 & M27891\\_at              \\\\\n",
       "\tM26311\\_s\\_at & 0.6585567 & M26311\\_s\\_at            \\\\\n",
       "\tAFFX.HUMRGE.M10098\\_5\\_at & 0.6396886 & AFFX.HUMRGE.M10098\\_5\\_at\\\\\n",
       "\tY00787\\_s\\_at & 0.6343951 & Y00787\\_s\\_at            \\\\\n",
       "\tM84526\\_at & 0.6198290 & M84526\\_at              \\\\\n",
       "\\end{tabular}\n"
      ],
      "text/markdown": [
       "\n",
       "A data.frame: 6 × 2\n",
       "\n",
       "| <!--/--> | variance &lt;dbl&gt; | gene &lt;chr&gt; |\n",
       "|---|---|---|\n",
       "| X82240_rna1_at | 0.7720814 | X82240_rna1_at          |\n",
       "| M27891_at | 0.6621002 | M27891_at               |\n",
       "| M26311_s_at | 0.6585567 | M26311_s_at             |\n",
       "| AFFX.HUMRGE.M10098_5_at | 0.6396886 | AFFX.HUMRGE.M10098_5_at |\n",
       "| Y00787_s_at | 0.6343951 | Y00787_s_at             |\n",
       "| M84526_at | 0.6198290 | M84526_at               |\n",
       "\n"
      ],
      "text/plain": [
       "                        variance  gene                   \n",
       "X82240_rna1_at          0.7720814 X82240_rna1_at         \n",
       "M27891_at               0.6621002 M27891_at              \n",
       "M26311_s_at             0.6585567 M26311_s_at            \n",
       "AFFX.HUMRGE.M10098_5_at 0.6396886 AFFX.HUMRGE.M10098_5_at\n",
       "Y00787_s_at             0.6343951 Y00787_s_at            \n",
       "M84526_at               0.6198290 M84526_at              "
      ]
     },
     "metadata": {},
     "output_type": "display_data"
    }
   ],
   "source": [
    "top_number = 100\n",
    "top_genes = gene_var[c(1:top_number), ]\n",
    "head(top_genes)"
   ]
  },
  {
   "cell_type": "code",
   "execution_count": 8,
   "id": "05a6eb6d",
   "metadata": {},
   "outputs": [
    {
     "data": {
      "text/html": [
       "<style>\n",
       ".dl-inline {width: auto; margin:0; padding: 0}\n",
       ".dl-inline>dt, .dl-inline>dd {float: none; width: auto; display: inline-block}\n",
       ".dl-inline>dt::after {content: \":\\0020\"; padding-right: .5ex}\n",
       ".dl-inline>dt:not(:first-of-type) {padding-left: .5ex}\n",
       "</style><dl class=dl-inline><dt>gene1</dt><dd>'X82240_rna1_at'</dd><dt>gene2</dt><dd>'M27891_at'</dd><dt>gene3</dt><dd>'M26311_s_at'</dd><dt>gene4</dt><dd>'AFFX.HUMRGE.M10098_5_at'</dd><dt>gene5</dt><dd>'Y00787_s_at'</dd><dt>gene6</dt><dd>'M84526_at'</dd><dt>gene7</dt><dd>'M19507_at'</dd><dt>gene8</dt><dd>'D88270_at'</dd><dt>gene9</dt><dd>'M63438_s_at'</dd><dt>gene10</dt><dd>'M28130_rna1_s_at'</dd><dt>gene11</dt><dd>'AFFX.HUMRGE.M10098_M_at'</dd><dt>gene12</dt><dd>'M12886_at'</dd><dt>gene13</dt><dd>'M91036_rna1_at'</dd><dt>gene14</dt><dd>'AFFX.HUMRGE.M10098_3_at'</dd><dt>gene15</dt><dd>'AFFX.M27830_5_at'</dd><dt>gene16</dt><dd>'X00437_s_at'</dd><dt>gene17</dt><dd>'M21005_at'</dd><dt>gene18</dt><dd>'M87789_s_at'</dd><dt>gene19</dt><dd>'M58459_at'</dd><dt>gene20</dt><dd>'M11722_at'</dd><dt>gene21</dt><dd>'U01317_cds4_at'</dd><dt>gene22</dt><dd>'M21305_at'</dd><dt>gene23</dt><dd>'M27783_s_at'</dd><dt>gene24</dt><dd>'L33930_s_at'</dd><dt>gene25</dt><dd>'J04164_at'</dd><dt>gene26</dt><dd>'J04456_at'</dd><dt>gene27</dt><dd>'X58529_at'</dd><dt>gene28</dt><dd>'U89922_s_at'</dd><dt>gene29</dt><dd>'M21119_s_at'</dd><dt>gene30</dt><dd>'M25079_s_at'</dd><dt>gene31</dt><dd>'M89957_at'</dd><dt>gene32</dt><dd>'Z83821_cds2_at'</dd><dt>gene33</dt><dd>'M57710_at'</dd><dt>gene34</dt><dd>'M38690_at'</dd><dt>gene35</dt><dd>'M57466_s_at'</dd><dt>gene36</dt><dd>'X05908_at'</dd><dt>gene37</dt><dd>'X77737_at'</dd><dt>gene38</dt><dd>'M34516_at'</dd><dt>gene39</dt><dd>'M91438_at'</dd><dt>gene40</dt><dd>'M96326_rna1_at'</dd><dt>gene41</dt><dd>'U05259_rna1_at'</dd><dt>gene42</dt><dd>'X76223_s_at'</dd><dt>gene43</dt><dd>'K01911_at'</dd><dt>gene44</dt><dd>'D88422_at'</dd><dt>gene45</dt><dd>'U05255_s_at'</dd><dt>gene46</dt><dd>'X04500_at'</dd><dt>gene47</dt><dd>'HG3576.HT3779_f_at'</dd><dt>gene48</dt><dd>'X95735_at'</dd><dt>gene49</dt><dd>'X64072_s_at'</dd><dt>gene50</dt><dd>'D83735_at'</dd><dt>gene51</dt><dd>'D83920_at'</dd><dt>gene52</dt><dd>'M21904_at'</dd><dt>gene53</dt><dd>'J03909_at'</dd><dt>gene54</dt><dd>'AF000424_s_at'</dd><dt>gene55</dt><dd>'Z23090_at'</dd><dt>gene56</dt><dd>'D13639_at'</dd><dt>gene57</dt><dd>'J04102_at'</dd><dt>gene58</dt><dd>'U57341_at'</dd><dt>gene59</dt><dd>'M15395_at'</dd><dt>gene60</dt><dd>'Z84721_cds2_at'</dd><dt>gene61</dt><dd>'M38591_at'</dd><dt>gene62</dt><dd>'D87433_at'</dd><dt>gene63</dt><dd>'U46499_at'</dd><dt>gene64</dt><dd>'X17042_at'</dd><dt>gene65</dt><dd>'M63573_at'</dd><dt>gene66</dt><dd>'U09770_at'</dd><dt>gene67</dt><dd>'U20734_s_at'</dd><dt>gene68</dt><dd>'M94345_at'</dd><dt>gene69</dt><dd>'M23178_s_at'</dd><dt>gene70</dt><dd>'M11717_rna1_at'</dd><dt>gene71</dt><dd>'M57731_s_at'</dd><dt>gene72</dt><dd>'J03077_s_at'</dd><dt>gene73</dt><dd>'HG987.HT987_at'</dd><dt>gene74</dt><dd>'U02687_at'</dd><dt>gene75</dt><dd>'L08895_at'</dd><dt>gene76</dt><dd>'M12759_at'</dd><dt>gene77</dt><dd>'M34996_s_at'</dd><dt>gene78</dt><dd>'M13560_s_at'</dd><dt>gene79</dt><dd>'M74719_at'</dd><dt>gene80</dt><dd>'X59871_at'</dd><dt>gene81</dt><dd>'M92934_at'</dd><dt>gene82</dt><dd>'U23852_s_at'</dd><dt>gene83</dt><dd>'U50743_at'</dd><dt>gene84</dt><dd>'U60644_at'</dd><dt>gene85</dt><dd>'U10485_at'</dd><dt>gene86</dt><dd>'Z22548_at'</dd><dt>gene87</dt><dd>'L20971_at'</dd><dt>gene88</dt><dd>'M33882_at'</dd><dt>gene89</dt><dd>'J04615_at'</dd><dt>gene90</dt><dd>'X62744_at'</dd><dt>gene91</dt><dd>'Z69881_at'</dd><dt>gene92</dt><dd>'M16279_at'</dd><dt>gene93</dt><dd>'M21624_at'</dd><dt>gene94</dt><dd>'U02020_at'</dd><dt>gene95</dt><dd>'M16336_s_at'</dd><dt>gene96</dt><dd>'L19686_rna1_at'</dd><dt>gene97</dt><dd>'X65965_s_at'</dd><dt>gene98</dt><dd>'X03934_at'</dd><dt>gene99</dt><dd>'M28826_at'</dd><dt>gene100</dt><dd>'M30703_s_at'</dd></dl>\n"
      ],
      "text/latex": [
       "\\begin{description*}\n",
       "\\item[gene1] 'X82240\\_rna1\\_at'\n",
       "\\item[gene2] 'M27891\\_at'\n",
       "\\item[gene3] 'M26311\\_s\\_at'\n",
       "\\item[gene4] 'AFFX.HUMRGE.M10098\\_5\\_at'\n",
       "\\item[gene5] 'Y00787\\_s\\_at'\n",
       "\\item[gene6] 'M84526\\_at'\n",
       "\\item[gene7] 'M19507\\_at'\n",
       "\\item[gene8] 'D88270\\_at'\n",
       "\\item[gene9] 'M63438\\_s\\_at'\n",
       "\\item[gene10] 'M28130\\_rna1\\_s\\_at'\n",
       "\\item[gene11] 'AFFX.HUMRGE.M10098\\_M\\_at'\n",
       "\\item[gene12] 'M12886\\_at'\n",
       "\\item[gene13] 'M91036\\_rna1\\_at'\n",
       "\\item[gene14] 'AFFX.HUMRGE.M10098\\_3\\_at'\n",
       "\\item[gene15] 'AFFX.M27830\\_5\\_at'\n",
       "\\item[gene16] 'X00437\\_s\\_at'\n",
       "\\item[gene17] 'M21005\\_at'\n",
       "\\item[gene18] 'M87789\\_s\\_at'\n",
       "\\item[gene19] 'M58459\\_at'\n",
       "\\item[gene20] 'M11722\\_at'\n",
       "\\item[gene21] 'U01317\\_cds4\\_at'\n",
       "\\item[gene22] 'M21305\\_at'\n",
       "\\item[gene23] 'M27783\\_s\\_at'\n",
       "\\item[gene24] 'L33930\\_s\\_at'\n",
       "\\item[gene25] 'J04164\\_at'\n",
       "\\item[gene26] 'J04456\\_at'\n",
       "\\item[gene27] 'X58529\\_at'\n",
       "\\item[gene28] 'U89922\\_s\\_at'\n",
       "\\item[gene29] 'M21119\\_s\\_at'\n",
       "\\item[gene30] 'M25079\\_s\\_at'\n",
       "\\item[gene31] 'M89957\\_at'\n",
       "\\item[gene32] 'Z83821\\_cds2\\_at'\n",
       "\\item[gene33] 'M57710\\_at'\n",
       "\\item[gene34] 'M38690\\_at'\n",
       "\\item[gene35] 'M57466\\_s\\_at'\n",
       "\\item[gene36] 'X05908\\_at'\n",
       "\\item[gene37] 'X77737\\_at'\n",
       "\\item[gene38] 'M34516\\_at'\n",
       "\\item[gene39] 'M91438\\_at'\n",
       "\\item[gene40] 'M96326\\_rna1\\_at'\n",
       "\\item[gene41] 'U05259\\_rna1\\_at'\n",
       "\\item[gene42] 'X76223\\_s\\_at'\n",
       "\\item[gene43] 'K01911\\_at'\n",
       "\\item[gene44] 'D88422\\_at'\n",
       "\\item[gene45] 'U05255\\_s\\_at'\n",
       "\\item[gene46] 'X04500\\_at'\n",
       "\\item[gene47] 'HG3576.HT3779\\_f\\_at'\n",
       "\\item[gene48] 'X95735\\_at'\n",
       "\\item[gene49] 'X64072\\_s\\_at'\n",
       "\\item[gene50] 'D83735\\_at'\n",
       "\\item[gene51] 'D83920\\_at'\n",
       "\\item[gene52] 'M21904\\_at'\n",
       "\\item[gene53] 'J03909\\_at'\n",
       "\\item[gene54] 'AF000424\\_s\\_at'\n",
       "\\item[gene55] 'Z23090\\_at'\n",
       "\\item[gene56] 'D13639\\_at'\n",
       "\\item[gene57] 'J04102\\_at'\n",
       "\\item[gene58] 'U57341\\_at'\n",
       "\\item[gene59] 'M15395\\_at'\n",
       "\\item[gene60] 'Z84721\\_cds2\\_at'\n",
       "\\item[gene61] 'M38591\\_at'\n",
       "\\item[gene62] 'D87433\\_at'\n",
       "\\item[gene63] 'U46499\\_at'\n",
       "\\item[gene64] 'X17042\\_at'\n",
       "\\item[gene65] 'M63573\\_at'\n",
       "\\item[gene66] 'U09770\\_at'\n",
       "\\item[gene67] 'U20734\\_s\\_at'\n",
       "\\item[gene68] 'M94345\\_at'\n",
       "\\item[gene69] 'M23178\\_s\\_at'\n",
       "\\item[gene70] 'M11717\\_rna1\\_at'\n",
       "\\item[gene71] 'M57731\\_s\\_at'\n",
       "\\item[gene72] 'J03077\\_s\\_at'\n",
       "\\item[gene73] 'HG987.HT987\\_at'\n",
       "\\item[gene74] 'U02687\\_at'\n",
       "\\item[gene75] 'L08895\\_at'\n",
       "\\item[gene76] 'M12759\\_at'\n",
       "\\item[gene77] 'M34996\\_s\\_at'\n",
       "\\item[gene78] 'M13560\\_s\\_at'\n",
       "\\item[gene79] 'M74719\\_at'\n",
       "\\item[gene80] 'X59871\\_at'\n",
       "\\item[gene81] 'M92934\\_at'\n",
       "\\item[gene82] 'U23852\\_s\\_at'\n",
       "\\item[gene83] 'U50743\\_at'\n",
       "\\item[gene84] 'U60644\\_at'\n",
       "\\item[gene85] 'U10485\\_at'\n",
       "\\item[gene86] 'Z22548\\_at'\n",
       "\\item[gene87] 'L20971\\_at'\n",
       "\\item[gene88] 'M33882\\_at'\n",
       "\\item[gene89] 'J04615\\_at'\n",
       "\\item[gene90] 'X62744\\_at'\n",
       "\\item[gene91] 'Z69881\\_at'\n",
       "\\item[gene92] 'M16279\\_at'\n",
       "\\item[gene93] 'M21624\\_at'\n",
       "\\item[gene94] 'U02020\\_at'\n",
       "\\item[gene95] 'M16336\\_s\\_at'\n",
       "\\item[gene96] 'L19686\\_rna1\\_at'\n",
       "\\item[gene97] 'X65965\\_s\\_at'\n",
       "\\item[gene98] 'X03934\\_at'\n",
       "\\item[gene99] 'M28826\\_at'\n",
       "\\item[gene100] 'M30703\\_s\\_at'\n",
       "\\end{description*}\n"
      ],
      "text/markdown": [
       "gene1\n",
       ":   'X82240_rna1_at'gene2\n",
       ":   'M27891_at'gene3\n",
       ":   'M26311_s_at'gene4\n",
       ":   'AFFX.HUMRGE.M10098_5_at'gene5\n",
       ":   'Y00787_s_at'gene6\n",
       ":   'M84526_at'gene7\n",
       ":   'M19507_at'gene8\n",
       ":   'D88270_at'gene9\n",
       ":   'M63438_s_at'gene10\n",
       ":   'M28130_rna1_s_at'gene11\n",
       ":   'AFFX.HUMRGE.M10098_M_at'gene12\n",
       ":   'M12886_at'gene13\n",
       ":   'M91036_rna1_at'gene14\n",
       ":   'AFFX.HUMRGE.M10098_3_at'gene15\n",
       ":   'AFFX.M27830_5_at'gene16\n",
       ":   'X00437_s_at'gene17\n",
       ":   'M21005_at'gene18\n",
       ":   'M87789_s_at'gene19\n",
       ":   'M58459_at'gene20\n",
       ":   'M11722_at'gene21\n",
       ":   'U01317_cds4_at'gene22\n",
       ":   'M21305_at'gene23\n",
       ":   'M27783_s_at'gene24\n",
       ":   'L33930_s_at'gene25\n",
       ":   'J04164_at'gene26\n",
       ":   'J04456_at'gene27\n",
       ":   'X58529_at'gene28\n",
       ":   'U89922_s_at'gene29\n",
       ":   'M21119_s_at'gene30\n",
       ":   'M25079_s_at'gene31\n",
       ":   'M89957_at'gene32\n",
       ":   'Z83821_cds2_at'gene33\n",
       ":   'M57710_at'gene34\n",
       ":   'M38690_at'gene35\n",
       ":   'M57466_s_at'gene36\n",
       ":   'X05908_at'gene37\n",
       ":   'X77737_at'gene38\n",
       ":   'M34516_at'gene39\n",
       ":   'M91438_at'gene40\n",
       ":   'M96326_rna1_at'gene41\n",
       ":   'U05259_rna1_at'gene42\n",
       ":   'X76223_s_at'gene43\n",
       ":   'K01911_at'gene44\n",
       ":   'D88422_at'gene45\n",
       ":   'U05255_s_at'gene46\n",
       ":   'X04500_at'gene47\n",
       ":   'HG3576.HT3779_f_at'gene48\n",
       ":   'X95735_at'gene49\n",
       ":   'X64072_s_at'gene50\n",
       ":   'D83735_at'gene51\n",
       ":   'D83920_at'gene52\n",
       ":   'M21904_at'gene53\n",
       ":   'J03909_at'gene54\n",
       ":   'AF000424_s_at'gene55\n",
       ":   'Z23090_at'gene56\n",
       ":   'D13639_at'gene57\n",
       ":   'J04102_at'gene58\n",
       ":   'U57341_at'gene59\n",
       ":   'M15395_at'gene60\n",
       ":   'Z84721_cds2_at'gene61\n",
       ":   'M38591_at'gene62\n",
       ":   'D87433_at'gene63\n",
       ":   'U46499_at'gene64\n",
       ":   'X17042_at'gene65\n",
       ":   'M63573_at'gene66\n",
       ":   'U09770_at'gene67\n",
       ":   'U20734_s_at'gene68\n",
       ":   'M94345_at'gene69\n",
       ":   'M23178_s_at'gene70\n",
       ":   'M11717_rna1_at'gene71\n",
       ":   'M57731_s_at'gene72\n",
       ":   'J03077_s_at'gene73\n",
       ":   'HG987.HT987_at'gene74\n",
       ":   'U02687_at'gene75\n",
       ":   'L08895_at'gene76\n",
       ":   'M12759_at'gene77\n",
       ":   'M34996_s_at'gene78\n",
       ":   'M13560_s_at'gene79\n",
       ":   'M74719_at'gene80\n",
       ":   'X59871_at'gene81\n",
       ":   'M92934_at'gene82\n",
       ":   'U23852_s_at'gene83\n",
       ":   'U50743_at'gene84\n",
       ":   'U60644_at'gene85\n",
       ":   'U10485_at'gene86\n",
       ":   'Z22548_at'gene87\n",
       ":   'L20971_at'gene88\n",
       ":   'M33882_at'gene89\n",
       ":   'J04615_at'gene90\n",
       ":   'X62744_at'gene91\n",
       ":   'Z69881_at'gene92\n",
       ":   'M16279_at'gene93\n",
       ":   'M21624_at'gene94\n",
       ":   'U02020_at'gene95\n",
       ":   'M16336_s_at'gene96\n",
       ":   'L19686_rna1_at'gene97\n",
       ":   'X65965_s_at'gene98\n",
       ":   'X03934_at'gene99\n",
       ":   'M28826_at'gene100\n",
       ":   'M30703_s_at'\n",
       "\n"
      ],
      "text/plain": [
       "                    gene1                     gene2                     gene3 \n",
       "         \"X82240_rna1_at\"               \"M27891_at\"             \"M26311_s_at\" \n",
       "                    gene4                     gene5                     gene6 \n",
       "\"AFFX.HUMRGE.M10098_5_at\"             \"Y00787_s_at\"               \"M84526_at\" \n",
       "                    gene7                     gene8                     gene9 \n",
       "              \"M19507_at\"               \"D88270_at\"             \"M63438_s_at\" \n",
       "                   gene10                    gene11                    gene12 \n",
       "       \"M28130_rna1_s_at\" \"AFFX.HUMRGE.M10098_M_at\"               \"M12886_at\" \n",
       "                   gene13                    gene14                    gene15 \n",
       "         \"M91036_rna1_at\" \"AFFX.HUMRGE.M10098_3_at\"        \"AFFX.M27830_5_at\" \n",
       "                   gene16                    gene17                    gene18 \n",
       "            \"X00437_s_at\"               \"M21005_at\"             \"M87789_s_at\" \n",
       "                   gene19                    gene20                    gene21 \n",
       "              \"M58459_at\"               \"M11722_at\"          \"U01317_cds4_at\" \n",
       "                   gene22                    gene23                    gene24 \n",
       "              \"M21305_at\"             \"M27783_s_at\"             \"L33930_s_at\" \n",
       "                   gene25                    gene26                    gene27 \n",
       "              \"J04164_at\"               \"J04456_at\"               \"X58529_at\" \n",
       "                   gene28                    gene29                    gene30 \n",
       "            \"U89922_s_at\"             \"M21119_s_at\"             \"M25079_s_at\" \n",
       "                   gene31                    gene32                    gene33 \n",
       "              \"M89957_at\"          \"Z83821_cds2_at\"               \"M57710_at\" \n",
       "                   gene34                    gene35                    gene36 \n",
       "              \"M38690_at\"             \"M57466_s_at\"               \"X05908_at\" \n",
       "                   gene37                    gene38                    gene39 \n",
       "              \"X77737_at\"               \"M34516_at\"               \"M91438_at\" \n",
       "                   gene40                    gene41                    gene42 \n",
       "         \"M96326_rna1_at\"          \"U05259_rna1_at\"             \"X76223_s_at\" \n",
       "                   gene43                    gene44                    gene45 \n",
       "              \"K01911_at\"               \"D88422_at\"             \"U05255_s_at\" \n",
       "                   gene46                    gene47                    gene48 \n",
       "              \"X04500_at\"      \"HG3576.HT3779_f_at\"               \"X95735_at\" \n",
       "                   gene49                    gene50                    gene51 \n",
       "            \"X64072_s_at\"               \"D83735_at\"               \"D83920_at\" \n",
       "                   gene52                    gene53                    gene54 \n",
       "              \"M21904_at\"               \"J03909_at\"           \"AF000424_s_at\" \n",
       "                   gene55                    gene56                    gene57 \n",
       "              \"Z23090_at\"               \"D13639_at\"               \"J04102_at\" \n",
       "                   gene58                    gene59                    gene60 \n",
       "              \"U57341_at\"               \"M15395_at\"          \"Z84721_cds2_at\" \n",
       "                   gene61                    gene62                    gene63 \n",
       "              \"M38591_at\"               \"D87433_at\"               \"U46499_at\" \n",
       "                   gene64                    gene65                    gene66 \n",
       "              \"X17042_at\"               \"M63573_at\"               \"U09770_at\" \n",
       "                   gene67                    gene68                    gene69 \n",
       "            \"U20734_s_at\"               \"M94345_at\"             \"M23178_s_at\" \n",
       "                   gene70                    gene71                    gene72 \n",
       "         \"M11717_rna1_at\"             \"M57731_s_at\"             \"J03077_s_at\" \n",
       "                   gene73                    gene74                    gene75 \n",
       "         \"HG987.HT987_at\"               \"U02687_at\"               \"L08895_at\" \n",
       "                   gene76                    gene77                    gene78 \n",
       "              \"M12759_at\"             \"M34996_s_at\"             \"M13560_s_at\" \n",
       "                   gene79                    gene80                    gene81 \n",
       "              \"M74719_at\"               \"X59871_at\"               \"M92934_at\" \n",
       "                   gene82                    gene83                    gene84 \n",
       "            \"U23852_s_at\"               \"U50743_at\"               \"U60644_at\" \n",
       "                   gene85                    gene86                    gene87 \n",
       "              \"U10485_at\"               \"Z22548_at\"               \"L20971_at\" \n",
       "                   gene88                    gene89                    gene90 \n",
       "              \"M33882_at\"               \"J04615_at\"               \"X62744_at\" \n",
       "                   gene91                    gene92                    gene93 \n",
       "              \"Z69881_at\"               \"M16279_at\"               \"M21624_at\" \n",
       "                   gene94                    gene95                    gene96 \n",
       "              \"U02020_at\"             \"M16336_s_at\"          \"L19686_rna1_at\" \n",
       "                   gene97                    gene98                    gene99 \n",
       "            \"X65965_s_at\"               \"X03934_at\"               \"M28826_at\" \n",
       "                  gene100 \n",
       "            \"M30703_s_at\" "
      ]
     },
     "metadata": {},
     "output_type": "display_data"
    }
   ],
   "source": [
    "gene_list = as.list(top_genes[\"gene\"])\n",
    "top_gene_list = unlist(setdiff(gene_list, names(golub)))\n",
    "# Top 100 metrics (genes)\n",
    "top_gene_list"
   ]
  },
  {
   "cell_type": "code",
   "execution_count": 9,
   "id": "b3fd3c62",
   "metadata": {},
   "outputs": [],
   "source": [
    "top_golub = golub[, top_gene_list]\n",
    "top_golub[\"Description\"] = golub[\"Case\"]\n",
    "top_golub = top_golub[ , c(\"Description\", names(top_golub)[names(top_golub) != \"Description\"])] "
   ]
  },
  {
   "cell_type": "code",
   "execution_count": 10,
   "id": "449a9056",
   "metadata": {},
   "outputs": [
    {
     "data": {
      "text/html": [
       "<table class=\"dataframe\">\n",
       "<caption>A data.frame: 6 × 101</caption>\n",
       "<thead>\n",
       "\t<tr><th></th><th scope=col>Description</th><th scope=col>X82240_rna1_at</th><th scope=col>M27891_at</th><th scope=col>M26311_s_at</th><th scope=col>AFFX.HUMRGE.M10098_5_at</th><th scope=col>Y00787_s_at</th><th scope=col>M84526_at</th><th scope=col>M19507_at</th><th scope=col>D88270_at</th><th scope=col>M63438_s_at</th><th scope=col>⋯</th><th scope=col>Z69881_at</th><th scope=col>M16279_at</th><th scope=col>M21624_at</th><th scope=col>U02020_at</th><th scope=col>M16336_s_at</th><th scope=col>L19686_rna1_at</th><th scope=col>X65965_s_at</th><th scope=col>X03934_at</th><th scope=col>M28826_at</th><th scope=col>M30703_s_at</th></tr>\n",
       "\t<tr><th></th><th scope=col>&lt;fct&gt;</th><th scope=col>&lt;dbl&gt;</th><th scope=col>&lt;dbl&gt;</th><th scope=col>&lt;dbl&gt;</th><th scope=col>&lt;dbl&gt;</th><th scope=col>&lt;dbl&gt;</th><th scope=col>&lt;dbl&gt;</th><th scope=col>&lt;dbl&gt;</th><th scope=col>&lt;dbl&gt;</th><th scope=col>&lt;dbl&gt;</th><th scope=col>⋯</th><th scope=col>&lt;dbl&gt;</th><th scope=col>&lt;dbl&gt;</th><th scope=col>&lt;dbl&gt;</th><th scope=col>&lt;dbl&gt;</th><th scope=col>&lt;dbl&gt;</th><th scope=col>&lt;dbl&gt;</th><th scope=col>&lt;dbl&gt;</th><th scope=col>&lt;dbl&gt;</th><th scope=col>&lt;dbl&gt;</th><th scope=col>&lt;dbl&gt;</th></tr>\n",
       "</thead>\n",
       "<tbody>\n",
       "\t<tr><th scope=row>1</th><td>B1</td><td>4.16170</td><td>2.48144</td><td>2.00000</td><td>4.16250</td><td>2.52244</td><td>2.0000</td><td>2.0000</td><td>3.29336</td><td>3.75143</td><td>⋯</td><td>3.24699</td><td>3.48841</td><td>2.43457</td><td>2.24551</td><td>2.00000</td><td>2.89487</td><td>2.83059</td><td>2.79449</td><td>2.00000</td><td>2</td></tr>\n",
       "\t<tr><th scope=row>2</th><td>T1</td><td>2.00000</td><td>3.13290</td><td>3.64856</td><td>2.78888</td><td>3.72795</td><td>2.0000</td><td>2.0000</td><td>2.29667</td><td>3.68646</td><td>⋯</td><td>3.30428</td><td>4.01932</td><td>4.07185</td><td>3.05690</td><td>3.31513</td><td>3.86094</td><td>3.40926</td><td>3.88434</td><td>2.00000</td><td>2</td></tr>\n",
       "\t<tr><th scope=row>3</th><td>T2</td><td>2.00000</td><td>2.40483</td><td>2.88930</td><td>3.75351</td><td>2.47857</td><td>2.0000</td><td>2.0000</td><td>2.76268</td><td>2.00000</td><td>⋯</td><td>3.55096</td><td>3.97211</td><td>2.26007</td><td>2.06070</td><td>3.56384</td><td>3.79616</td><td>2.52763</td><td>4.05312</td><td>3.94379</td><td>2</td></tr>\n",
       "\t<tr><th scope=row>4</th><td>B2</td><td>3.71659</td><td>2.00000</td><td>2.19590</td><td>3.68574</td><td>2.38202</td><td>2.0000</td><td>2.0000</td><td>3.68851</td><td>2.00000</td><td>⋯</td><td>2.91803</td><td>3.17406</td><td>2.00000</td><td>2.00000</td><td>2.00000</td><td>2.79449</td><td>2.43457</td><td>2.67578</td><td>2.00000</td><td>2</td></tr>\n",
       "\t<tr><th scope=row>5</th><td>B3</td><td>3.77772</td><td>2.00000</td><td>3.33746</td><td>3.10857</td><td>2.00000</td><td>2.4624</td><td>2.9722</td><td>3.52930</td><td>2.83696</td><td>⋯</td><td>3.17493</td><td>3.67596</td><td>2.00000</td><td>2.33646</td><td>2.00000</td><td>3.78810</td><td>2.56820</td><td>2.53782</td><td>2.00000</td><td>2</td></tr>\n",
       "\t<tr><th scope=row>6</th><td>T3</td><td>2.00000</td><td>3.06744</td><td>3.20737</td><td>3.61784</td><td>2.33244</td><td>2.0000</td><td>2.0000</td><td>2.00000</td><td>2.00000</td><td>⋯</td><td>3.41597</td><td>3.94655</td><td>2.00000</td><td>2.00000</td><td>3.50947</td><td>3.55425</td><td>2.50651</td><td>3.85485</td><td>3.69522</td><td>2</td></tr>\n",
       "</tbody>\n",
       "</table>\n"
      ],
      "text/latex": [
       "A data.frame: 6 × 101\n",
       "\\begin{tabular}{r|lllllllllllllllllllll}\n",
       "  & Description & X82240\\_rna1\\_at & M27891\\_at & M26311\\_s\\_at & AFFX.HUMRGE.M10098\\_5\\_at & Y00787\\_s\\_at & M84526\\_at & M19507\\_at & D88270\\_at & M63438\\_s\\_at & ⋯ & Z69881\\_at & M16279\\_at & M21624\\_at & U02020\\_at & M16336\\_s\\_at & L19686\\_rna1\\_at & X65965\\_s\\_at & X03934\\_at & M28826\\_at & M30703\\_s\\_at\\\\\n",
       "  & <fct> & <dbl> & <dbl> & <dbl> & <dbl> & <dbl> & <dbl> & <dbl> & <dbl> & <dbl> & ⋯ & <dbl> & <dbl> & <dbl> & <dbl> & <dbl> & <dbl> & <dbl> & <dbl> & <dbl> & <dbl>\\\\\n",
       "\\hline\n",
       "\t1 & B1 & 4.16170 & 2.48144 & 2.00000 & 4.16250 & 2.52244 & 2.0000 & 2.0000 & 3.29336 & 3.75143 & ⋯ & 3.24699 & 3.48841 & 2.43457 & 2.24551 & 2.00000 & 2.89487 & 2.83059 & 2.79449 & 2.00000 & 2\\\\\n",
       "\t2 & T1 & 2.00000 & 3.13290 & 3.64856 & 2.78888 & 3.72795 & 2.0000 & 2.0000 & 2.29667 & 3.68646 & ⋯ & 3.30428 & 4.01932 & 4.07185 & 3.05690 & 3.31513 & 3.86094 & 3.40926 & 3.88434 & 2.00000 & 2\\\\\n",
       "\t3 & T2 & 2.00000 & 2.40483 & 2.88930 & 3.75351 & 2.47857 & 2.0000 & 2.0000 & 2.76268 & 2.00000 & ⋯ & 3.55096 & 3.97211 & 2.26007 & 2.06070 & 3.56384 & 3.79616 & 2.52763 & 4.05312 & 3.94379 & 2\\\\\n",
       "\t4 & B2 & 3.71659 & 2.00000 & 2.19590 & 3.68574 & 2.38202 & 2.0000 & 2.0000 & 3.68851 & 2.00000 & ⋯ & 2.91803 & 3.17406 & 2.00000 & 2.00000 & 2.00000 & 2.79449 & 2.43457 & 2.67578 & 2.00000 & 2\\\\\n",
       "\t5 & B3 & 3.77772 & 2.00000 & 3.33746 & 3.10857 & 2.00000 & 2.4624 & 2.9722 & 3.52930 & 2.83696 & ⋯ & 3.17493 & 3.67596 & 2.00000 & 2.33646 & 2.00000 & 3.78810 & 2.56820 & 2.53782 & 2.00000 & 2\\\\\n",
       "\t6 & T3 & 2.00000 & 3.06744 & 3.20737 & 3.61784 & 2.33244 & 2.0000 & 2.0000 & 2.00000 & 2.00000 & ⋯ & 3.41597 & 3.94655 & 2.00000 & 2.00000 & 3.50947 & 3.55425 & 2.50651 & 3.85485 & 3.69522 & 2\\\\\n",
       "\\end{tabular}\n"
      ],
      "text/markdown": [
       "\n",
       "A data.frame: 6 × 101\n",
       "\n",
       "| <!--/--> | Description &lt;fct&gt; | X82240_rna1_at &lt;dbl&gt; | M27891_at &lt;dbl&gt; | M26311_s_at &lt;dbl&gt; | AFFX.HUMRGE.M10098_5_at &lt;dbl&gt; | Y00787_s_at &lt;dbl&gt; | M84526_at &lt;dbl&gt; | M19507_at &lt;dbl&gt; | D88270_at &lt;dbl&gt; | M63438_s_at &lt;dbl&gt; | ⋯ ⋯ | Z69881_at &lt;dbl&gt; | M16279_at &lt;dbl&gt; | M21624_at &lt;dbl&gt; | U02020_at &lt;dbl&gt; | M16336_s_at &lt;dbl&gt; | L19686_rna1_at &lt;dbl&gt; | X65965_s_at &lt;dbl&gt; | X03934_at &lt;dbl&gt; | M28826_at &lt;dbl&gt; | M30703_s_at &lt;dbl&gt; |\n",
       "|---|---|---|---|---|---|---|---|---|---|---|---|---|---|---|---|---|---|---|---|---|---|\n",
       "| 1 | B1 | 4.16170 | 2.48144 | 2.00000 | 4.16250 | 2.52244 | 2.0000 | 2.0000 | 3.29336 | 3.75143 | ⋯ | 3.24699 | 3.48841 | 2.43457 | 2.24551 | 2.00000 | 2.89487 | 2.83059 | 2.79449 | 2.00000 | 2 |\n",
       "| 2 | T1 | 2.00000 | 3.13290 | 3.64856 | 2.78888 | 3.72795 | 2.0000 | 2.0000 | 2.29667 | 3.68646 | ⋯ | 3.30428 | 4.01932 | 4.07185 | 3.05690 | 3.31513 | 3.86094 | 3.40926 | 3.88434 | 2.00000 | 2 |\n",
       "| 3 | T2 | 2.00000 | 2.40483 | 2.88930 | 3.75351 | 2.47857 | 2.0000 | 2.0000 | 2.76268 | 2.00000 | ⋯ | 3.55096 | 3.97211 | 2.26007 | 2.06070 | 3.56384 | 3.79616 | 2.52763 | 4.05312 | 3.94379 | 2 |\n",
       "| 4 | B2 | 3.71659 | 2.00000 | 2.19590 | 3.68574 | 2.38202 | 2.0000 | 2.0000 | 3.68851 | 2.00000 | ⋯ | 2.91803 | 3.17406 | 2.00000 | 2.00000 | 2.00000 | 2.79449 | 2.43457 | 2.67578 | 2.00000 | 2 |\n",
       "| 5 | B3 | 3.77772 | 2.00000 | 3.33746 | 3.10857 | 2.00000 | 2.4624 | 2.9722 | 3.52930 | 2.83696 | ⋯ | 3.17493 | 3.67596 | 2.00000 | 2.33646 | 2.00000 | 3.78810 | 2.56820 | 2.53782 | 2.00000 | 2 |\n",
       "| 6 | T3 | 2.00000 | 3.06744 | 3.20737 | 3.61784 | 2.33244 | 2.0000 | 2.0000 | 2.00000 | 2.00000 | ⋯ | 3.41597 | 3.94655 | 2.00000 | 2.00000 | 3.50947 | 3.55425 | 2.50651 | 3.85485 | 3.69522 | 2 |\n",
       "\n"
      ],
      "text/plain": [
       "  Description X82240_rna1_at M27891_at M26311_s_at AFFX.HUMRGE.M10098_5_at\n",
       "1 B1          4.16170        2.48144   2.00000     4.16250                \n",
       "2 T1          2.00000        3.13290   3.64856     2.78888                \n",
       "3 T2          2.00000        2.40483   2.88930     3.75351                \n",
       "4 B2          3.71659        2.00000   2.19590     3.68574                \n",
       "5 B3          3.77772        2.00000   3.33746     3.10857                \n",
       "6 T3          2.00000        3.06744   3.20737     3.61784                \n",
       "  Y00787_s_at M84526_at M19507_at D88270_at M63438_s_at ⋯ Z69881_at M16279_at\n",
       "1 2.52244     2.0000    2.0000    3.29336   3.75143     ⋯ 3.24699   3.48841  \n",
       "2 3.72795     2.0000    2.0000    2.29667   3.68646     ⋯ 3.30428   4.01932  \n",
       "3 2.47857     2.0000    2.0000    2.76268   2.00000     ⋯ 3.55096   3.97211  \n",
       "4 2.38202     2.0000    2.0000    3.68851   2.00000     ⋯ 2.91803   3.17406  \n",
       "5 2.00000     2.4624    2.9722    3.52930   2.83696     ⋯ 3.17493   3.67596  \n",
       "6 2.33244     2.0000    2.0000    2.00000   2.00000     ⋯ 3.41597   3.94655  \n",
       "  M21624_at U02020_at M16336_s_at L19686_rna1_at X65965_s_at X03934_at\n",
       "1 2.43457   2.24551   2.00000     2.89487        2.83059     2.79449  \n",
       "2 4.07185   3.05690   3.31513     3.86094        3.40926     3.88434  \n",
       "3 2.26007   2.06070   3.56384     3.79616        2.52763     4.05312  \n",
       "4 2.00000   2.00000   2.00000     2.79449        2.43457     2.67578  \n",
       "5 2.00000   2.33646   2.00000     3.78810        2.56820     2.53782  \n",
       "6 2.00000   2.00000   3.50947     3.55425        2.50651     3.85485  \n",
       "  M28826_at M30703_s_at\n",
       "1 2.00000   2          \n",
       "2 2.00000   2          \n",
       "3 3.94379   2          \n",
       "4 2.00000   2          \n",
       "5 2.00000   2          \n",
       "6 3.69522   2          "
      ]
     },
     "metadata": {},
     "output_type": "display_data"
    }
   ],
   "source": [
    "head(top_golub)"
   ]
  },
  {
   "cell_type": "markdown",
   "id": "dd19cc1c",
   "metadata": {},
   "source": [
    "The dataframe `top_golub` contains 100 genes (metrics) which provides the most variance."
   ]
  },
  {
   "cell_type": "markdown",
   "id": "6b5314c5",
   "metadata": {},
   "source": [
    "# Clest <a class=\"anchor\" id=\"clest\"></a>\n",
    "Execution of Clest over the previous dataset."
   ]
  },
  {
   "cell_type": "code",
   "execution_count": 11,
   "id": "6a8abc27",
   "metadata": {},
   "outputs": [
    {
     "name": "stdout",
     "output_type": "stream",
     "text": [
      "RSKC will be performed (maxK-1)*(B0*1*(1+1)+B*(1+1))= 360 times\n",
      "\n",
      "Assessing the observed data \n",
      "[1] \"Best k is: 3\"\n"
     ]
    }
   ],
   "source": [
    "set.seed(13606)\n",
    "nstart = 1000\n",
    "L1 = 7.24137931034483\n",
    "alpha = 0.07\n",
    "top_golub_matrix = as.matrix(top_golub[, -1])\n",
    "clest_result = RSKC::Clest(top_golub_matrix, maxK=10, alpha=alpha, B = 15, B0 = 5, nstart = nstart, L1 = L1, beta = 0.1, pca = FALSE, silent=TRUE)\n",
    "print(paste0(\"Best k is: \", clest_result$K))"
   ]
  },
  {
   "cell_type": "code",
   "execution_count": 12,
   "id": "a7d88a50",
   "metadata": {},
   "outputs": [
    {
     "data": {
      "text/html": [
       "<style>\n",
       ".list-inline {list-style: none; margin:0; padding: 0}\n",
       ".list-inline>li {display: inline-block}\n",
       ".list-inline>li:not(:last-child)::after {content: \"\\00b7\"; padding: 0 .5ex}\n",
       "</style>\n",
       "<ol class=list-inline><li>'call'</li><li>'K'</li><li>'result.table'</li><li>'referenceCERs'</li><li>'observedCERs'</li></ol>\n"
      ],
      "text/latex": [
       "\\begin{enumerate*}\n",
       "\\item 'call'\n",
       "\\item 'K'\n",
       "\\item 'result.table'\n",
       "\\item 'referenceCERs'\n",
       "\\item 'observedCERs'\n",
       "\\end{enumerate*}\n"
      ],
      "text/markdown": [
       "1. 'call'\n",
       "2. 'K'\n",
       "3. 'result.table'\n",
       "4. 'referenceCERs'\n",
       "5. 'observedCERs'\n",
       "\n",
       "\n"
      ],
      "text/plain": [
       "[1] \"call\"          \"K\"             \"result.table\"  \"referenceCERs\"\n",
       "[5] \"observedCERs\" "
      ]
     },
     "metadata": {},
     "output_type": "display_data"
    },
    {
     "data": {
      "text/html": [
       "<table class=\"dataframe\">\n",
       "<caption>A matrix: 8 × 4 of type dbl</caption>\n",
       "<thead>\n",
       "\t<tr><th></th><th scope=col>test.stat</th><th scope=col>obsCER</th><th scope=col>refCER</th><th scope=col>P-value</th></tr>\n",
       "</thead>\n",
       "<tbody>\n",
       "\t<tr><th scope=row>3</th><td>-0.3905797</td><td>0.0942029</td><td>0.4847826</td><td>0</td></tr>\n",
       "\t<tr><th scope=row>4</th><td>-0.2224638</td><td>0.1666667</td><td>0.3891304</td><td>0</td></tr>\n",
       "\t<tr><th scope=row>5</th><td>-0.1594203</td><td>0.1847826</td><td>0.3442029</td><td>0</td></tr>\n",
       "\t<tr><th scope=row>6</th><td>-0.1528986</td><td>0.1666667</td><td>0.3195652</td><td>0</td></tr>\n",
       "\t<tr><th scope=row>7</th><td>-0.1478261</td><td>0.1775362</td><td>0.3253623</td><td>0</td></tr>\n",
       "\t<tr><th scope=row>8</th><td>-0.1318841</td><td>0.1594203</td><td>0.2913043</td><td>0</td></tr>\n",
       "\t<tr><th scope=row>9</th><td>-0.1804348</td><td>0.1304348</td><td>0.3108696</td><td>0</td></tr>\n",
       "\t<tr><th scope=row>10</th><td>-0.0673913</td><td>0.1340580</td><td>0.2014493</td><td>0</td></tr>\n",
       "</tbody>\n",
       "</table>\n"
      ],
      "text/latex": [
       "A matrix: 8 × 4 of type dbl\n",
       "\\begin{tabular}{r|llll}\n",
       "  & test.stat & obsCER & refCER & P-value\\\\\n",
       "\\hline\n",
       "\t3 & -0.3905797 & 0.0942029 & 0.4847826 & 0\\\\\n",
       "\t4 & -0.2224638 & 0.1666667 & 0.3891304 & 0\\\\\n",
       "\t5 & -0.1594203 & 0.1847826 & 0.3442029 & 0\\\\\n",
       "\t6 & -0.1528986 & 0.1666667 & 0.3195652 & 0\\\\\n",
       "\t7 & -0.1478261 & 0.1775362 & 0.3253623 & 0\\\\\n",
       "\t8 & -0.1318841 & 0.1594203 & 0.2913043 & 0\\\\\n",
       "\t9 & -0.1804348 & 0.1304348 & 0.3108696 & 0\\\\\n",
       "\t10 & -0.0673913 & 0.1340580 & 0.2014493 & 0\\\\\n",
       "\\end{tabular}\n"
      ],
      "text/markdown": [
       "\n",
       "A matrix: 8 × 4 of type dbl\n",
       "\n",
       "| <!--/--> | test.stat | obsCER | refCER | P-value |\n",
       "|---|---|---|---|---|\n",
       "| 3 | -0.3905797 | 0.0942029 | 0.4847826 | 0 |\n",
       "| 4 | -0.2224638 | 0.1666667 | 0.3891304 | 0 |\n",
       "| 5 | -0.1594203 | 0.1847826 | 0.3442029 | 0 |\n",
       "| 6 | -0.1528986 | 0.1666667 | 0.3195652 | 0 |\n",
       "| 7 | -0.1478261 | 0.1775362 | 0.3253623 | 0 |\n",
       "| 8 | -0.1318841 | 0.1594203 | 0.2913043 | 0 |\n",
       "| 9 | -0.1804348 | 0.1304348 | 0.3108696 | 0 |\n",
       "| 10 | -0.0673913 | 0.1340580 | 0.2014493 | 0 |\n",
       "\n"
      ],
      "text/plain": [
       "   test.stat  obsCER    refCER    P-value\n",
       "3  -0.3905797 0.0942029 0.4847826 0      \n",
       "4  -0.2224638 0.1666667 0.3891304 0      \n",
       "5  -0.1594203 0.1847826 0.3442029 0      \n",
       "6  -0.1528986 0.1666667 0.3195652 0      \n",
       "7  -0.1478261 0.1775362 0.3253623 0      \n",
       "8  -0.1318841 0.1594203 0.2913043 0      \n",
       "9  -0.1804348 0.1304348 0.3108696 0      \n",
       "10 -0.0673913 0.1340580 0.2014493 0      "
      ]
     },
     "metadata": {},
     "output_type": "display_data"
    }
   ],
   "source": [
    "clest_result$result.table = clest_result$result.table[-1, ] # Removing k=2, no binary clasiffications\n",
    "names(clest_result)\n",
    "clest_result$result.table"
   ]
  },
  {
   "cell_type": "code",
   "execution_count": 13,
   "id": "5b8f6a0a",
   "metadata": {},
   "outputs": [],
   "source": [
    "clest_result$result.table = as.data.frame(clest_result$result.table)\n",
    "clest_result$result.table$k = as.numeric(rownames(clest_result$result.table))"
   ]
  },
  {
   "cell_type": "code",
   "execution_count": 14,
   "id": "dc9cd311",
   "metadata": {
    "scrolled": true
   },
   "outputs": [
    {
     "data": {
      "text/html": [
       "<table class=\"dataframe\">\n",
       "<caption>A data.frame: 6 × 3</caption>\n",
       "<thead>\n",
       "\t<tr><th></th><th scope=col>k</th><th scope=col>variable</th><th scope=col>value</th></tr>\n",
       "\t<tr><th></th><th scope=col>&lt;dbl&gt;</th><th scope=col>&lt;fct&gt;</th><th scope=col>&lt;dbl&gt;</th></tr>\n",
       "</thead>\n",
       "<tbody>\n",
       "\t<tr><th scope=row>1</th><td>3</td><td>obsCER</td><td>0.0942029</td></tr>\n",
       "\t<tr><th scope=row>2</th><td>4</td><td>obsCER</td><td>0.1666667</td></tr>\n",
       "\t<tr><th scope=row>3</th><td>5</td><td>obsCER</td><td>0.1847826</td></tr>\n",
       "\t<tr><th scope=row>4</th><td>6</td><td>obsCER</td><td>0.1666667</td></tr>\n",
       "\t<tr><th scope=row>5</th><td>7</td><td>obsCER</td><td>0.1775362</td></tr>\n",
       "\t<tr><th scope=row>6</th><td>8</td><td>obsCER</td><td>0.1594203</td></tr>\n",
       "</tbody>\n",
       "</table>\n"
      ],
      "text/latex": [
       "A data.frame: 6 × 3\n",
       "\\begin{tabular}{r|lll}\n",
       "  & k & variable & value\\\\\n",
       "  & <dbl> & <fct> & <dbl>\\\\\n",
       "\\hline\n",
       "\t1 & 3 & obsCER & 0.0942029\\\\\n",
       "\t2 & 4 & obsCER & 0.1666667\\\\\n",
       "\t3 & 5 & obsCER & 0.1847826\\\\\n",
       "\t4 & 6 & obsCER & 0.1666667\\\\\n",
       "\t5 & 7 & obsCER & 0.1775362\\\\\n",
       "\t6 & 8 & obsCER & 0.1594203\\\\\n",
       "\\end{tabular}\n"
      ],
      "text/markdown": [
       "\n",
       "A data.frame: 6 × 3\n",
       "\n",
       "| <!--/--> | k &lt;dbl&gt; | variable &lt;fct&gt; | value &lt;dbl&gt; |\n",
       "|---|---|---|---|\n",
       "| 1 | 3 | obsCER | 0.0942029 |\n",
       "| 2 | 4 | obsCER | 0.1666667 |\n",
       "| 3 | 5 | obsCER | 0.1847826 |\n",
       "| 4 | 6 | obsCER | 0.1666667 |\n",
       "| 5 | 7 | obsCER | 0.1775362 |\n",
       "| 6 | 8 | obsCER | 0.1594203 |\n",
       "\n"
      ],
      "text/plain": [
       "  k variable value    \n",
       "1 3 obsCER   0.0942029\n",
       "2 4 obsCER   0.1666667\n",
       "3 5 obsCER   0.1847826\n",
       "4 6 obsCER   0.1666667\n",
       "5 7 obsCER   0.1775362\n",
       "6 8 obsCER   0.1594203"
      ]
     },
     "metadata": {},
     "output_type": "display_data"
    }
   ],
   "source": [
    "melted_data <- melt(clest_result$result.table, id.vars = 'k', measure.vars = c('obsCER', 'refCER'))\n",
    "head(melted_data)"
   ]
  },
  {
   "cell_type": "code",
   "execution_count": 15,
   "id": "134b1428",
   "metadata": {},
   "outputs": [
    {
     "data": {
      "image/png": "[encoded data removed]",
      "text/plain": [
       "plot without title"
      ]
     },
     "metadata": {
      "image/png": {
       "height": 720,
       "width": 720
      }
     },
     "output_type": "display_data"
    }
   ],
   "source": [
    "ggplot(melted_data, aes(x = k, y = value, color = variable, linetype = variable, shape = variable)) +\n",
    "  geom_point() +\n",
    "  geom_line() +\n",
    "  scale_linetype_manual(values = c(\"solid\", \"dashed\")) +\n",
    "  scale_shape_manual(values = c(16, 17)) +\n",
    "  scale_x_continuous(breaks = melted_data$k) +\n",
    "  labs(title = \"Clest output with Golub\",\n",
    "       subtitle = \"Comparing observed CER and reference CER across k values\",\n",
    "       x = \"k\",\n",
    "       y = \"CER\",\n",
    "       linetype = \"CER Type\",\n",
    "       shape = \"CER Type\",\n",
    "       color = \"CER Type\") +\n",
    "  theme_minimal()"
   ]
  },
  {
   "cell_type": "markdown",
   "id": "dff89819",
   "metadata": {},
   "source": [
    "## RSKC <a class=\"anchor\" id=\"rskc\"></a>\n",
    "Running RSKC with the same parameters as Clest to retrieve the individuals per cluster."
   ]
  },
  {
   "cell_type": "code",
   "execution_count": 16,
   "id": "60ed7ebb",
   "metadata": {},
   "outputs": [],
   "source": [
    "rT<-RSKC(top_golub_matrix, ncl = clest_result$K, alpha = alpha, L1 = L1, nstart = nstart, silent = TRUE)"
   ]
  },
  {
   "cell_type": "code",
   "execution_count": 17,
   "id": "f55cc05e-bfb3-41d9-9e26-17d4dc4024e5",
   "metadata": {},
   "outputs": [],
   "source": [
    "labels = rT$labels"
   ]
  },
  {
   "cell_type": "code",
   "execution_count": 18,
   "id": "f01000b7-c26e-4ad1-893f-6961c42e308b",
   "metadata": {},
   "outputs": [
    {
     "name": "stderr",
     "output_type": "stream",
     "text": [
      "\tNumber of trimmed cases: 7\n",
      "\n"
     ]
    }
   ],
   "source": [
    "trimmedRows = c()\n",
    "if (length(rT$oW) > 1) {\n",
    "    trimmedRows  = c(rT$oE,rT$oW)\n",
    "    trimmedRows = unique(trimmedRows)\n",
    "    trimmedRows = sort(trimmedRows)\n",
    "    message(paste0(\"\\tNumber of trimmed cases: \", length(trimmedRows)))\n",
    "    top_golub = top_golub[-trimmedRows, ]\n",
    "    labels = labels[-trimmedRows]\n",
    "}\n"
   ]
  },
  {
   "cell_type": "code",
   "execution_count": 19,
   "id": "e067c281-080e-4309-afc7-570bf260877d",
   "metadata": {},
   "outputs": [
    {
     "name": "stderr",
     "output_type": "stream",
     "text": [
      "\tNumber of affected columns: 4\n",
      "\n"
     ]
    }
   ],
   "source": [
    "trimmedColumns = names(rT$weights)[rT$weights == 0]\n",
    "if (length(trimmedColumns) > 0) {\n",
    "    message(paste0(\"\\tNumber of affected columns: \", length(trimmedColumns)))\n",
    "    top_golub = top_golub[, !(names(top_golub) %in% trimmedColumns)]\n",
    "}"
   ]
  },
  {
   "cell_type": "markdown",
   "id": "148ddc28",
   "metadata": {},
   "source": [
    "# PCA <a class=\"anchor\" id=\"pca\"></a>\n",
    "We employ Principal Component Analysis (PCA) as a dimensionality reduction technique to facilitate the visualization of clusters within our dataset. PCA allow us to transform the original high-dimensional data into a lower-dimensional space, while preserving as much of the variability as possible."
   ]
  },
  {
   "cell_type": "code",
   "execution_count": 20,
   "id": "eb8ad01f",
   "metadata": {},
   "outputs": [
    {
     "data": {
      "text/html": [
       "<table class=\"dataframe\">\n",
       "<caption>A data.frame: 6 × 67</caption>\n",
       "<thead>\n",
       "\t<tr><th></th><th scope=col>PC1</th><th scope=col>PC2</th><th scope=col>PC3</th><th scope=col>PC4</th><th scope=col>PC5</th><th scope=col>PC6</th><th scope=col>PC7</th><th scope=col>PC8</th><th scope=col>PC9</th><th scope=col>PC10</th><th scope=col>⋯</th><th scope=col>PC58</th><th scope=col>PC59</th><th scope=col>PC60</th><th scope=col>PC61</th><th scope=col>PC62</th><th scope=col>PC63</th><th scope=col>PC64</th><th scope=col>PC65</th><th scope=col>Cluster</th><th scope=col>Individual</th></tr>\n",
       "\t<tr><th></th><th scope=col>&lt;dbl&gt;</th><th scope=col>&lt;dbl&gt;</th><th scope=col>&lt;dbl&gt;</th><th scope=col>&lt;dbl&gt;</th><th scope=col>&lt;dbl&gt;</th><th scope=col>&lt;dbl&gt;</th><th scope=col>&lt;dbl&gt;</th><th scope=col>&lt;dbl&gt;</th><th scope=col>&lt;dbl&gt;</th><th scope=col>&lt;dbl&gt;</th><th scope=col>⋯</th><th scope=col>&lt;dbl&gt;</th><th scope=col>&lt;dbl&gt;</th><th scope=col>&lt;dbl&gt;</th><th scope=col>&lt;dbl&gt;</th><th scope=col>&lt;dbl&gt;</th><th scope=col>&lt;dbl&gt;</th><th scope=col>&lt;dbl&gt;</th><th scope=col>&lt;dbl&gt;</th><th scope=col>&lt;fct&gt;</th><th scope=col>&lt;fct&gt;</th></tr>\n",
       "</thead>\n",
       "<tbody>\n",
       "\t<tr><th scope=row>1</th><td> 5.3957777</td><td>-0.9499528</td><td> 0.2605295</td><td>-1.5831455</td><td>1.73964725</td><td>-4.4335379</td><td> 0.7783437</td><td>-1.6706516</td><td> 1.06698041</td><td>-0.8293195</td><td>⋯</td><td> 0.10601308</td><td> 0.07639461</td><td>-0.125138684</td><td>-0.15585489</td><td>-0.05242177</td><td> 0.19683601</td><td> 0.13741614</td><td>1.332268e-15</td><td>1</td><td>B1</td></tr>\n",
       "\t<tr><th scope=row>2</th><td>-2.8391159</td><td> 5.2402724</td><td>-5.6357484</td><td>-3.3717552</td><td>1.66202900</td><td>-0.9083730</td><td> 1.4487693</td><td> 1.2199089</td><td> 2.26253816</td><td> 0.6593186</td><td>⋯</td><td> 0.19814825</td><td> 0.14873632</td><td>-0.149585718</td><td> 0.09438673</td><td> 0.14902406</td><td> 0.08125767</td><td>-0.06622621</td><td>1.498801e-15</td><td>3</td><td>T1</td></tr>\n",
       "\t<tr><th scope=row>3</th><td> 1.9856651</td><td>11.2923020</td><td>-1.4798142</td><td> 0.8745344</td><td>0.22101735</td><td> 1.1727177</td><td>-0.6418646</td><td>-2.1693624</td><td> 0.04070626</td><td>-0.4231926</td><td>⋯</td><td> 0.08998585</td><td>-0.09671689</td><td> 0.102811138</td><td> 0.16570071</td><td> 0.05577446</td><td>-0.06722580</td><td> 0.07968916</td><td>1.332268e-15</td><td>3</td><td>T2</td></tr>\n",
       "\t<tr><th scope=row>4</th><td> 4.7660022</td><td>-0.8400212</td><td> 4.3095275</td><td> 1.9454229</td><td>2.62825551</td><td> 2.0575881</td><td> 1.6650316</td><td> 0.4558138</td><td>-0.70020474</td><td> 1.3761720</td><td>⋯</td><td>-0.12799152</td><td> 0.04589035</td><td> 0.054117634</td><td> 0.19526964</td><td> 0.10828276</td><td>-0.11151481</td><td>-0.07359106</td><td>1.110223e-15</td><td>1</td><td>B2</td></tr>\n",
       "\t<tr><th scope=row>5</th><td> 0.9243174</td><td>-1.5812045</td><td> 3.1653239</td><td>-2.1070906</td><td>1.80899691</td><td> 1.9983482</td><td> 2.0513868</td><td>-1.4902542</td><td>-1.21066772</td><td>-0.5979678</td><td>⋯</td><td>-0.04151845</td><td> 0.21681434</td><td> 0.126736580</td><td> 0.29074769</td><td>-0.11187544</td><td> 0.05603024</td><td>-0.19156999</td><td>1.221245e-15</td><td>1</td><td>B3</td></tr>\n",
       "\t<tr><th scope=row>6</th><td> 0.7157876</td><td>10.7286899</td><td>-1.2483187</td><td> 0.3490067</td><td>0.08360839</td><td> 0.8023464</td><td>-0.1396494</td><td>-1.9645149</td><td>-1.09649392</td><td> 0.5564816</td><td>⋯</td><td> 0.10237759</td><td>-0.09718431</td><td>-0.008060634</td><td> 0.08018840</td><td>-0.37960803</td><td> 0.08288069</td><td> 0.23071460</td><td>1.998401e-15</td><td>3</td><td>T3</td></tr>\n",
       "</tbody>\n",
       "</table>\n"
      ],
      "text/latex": [
       "A data.frame: 6 × 67\n",
       "\\begin{tabular}{r|lllllllllllllllllllll}\n",
       "  & PC1 & PC2 & PC3 & PC4 & PC5 & PC6 & PC7 & PC8 & PC9 & PC10 & ⋯ & PC58 & PC59 & PC60 & PC61 & PC62 & PC63 & PC64 & PC65 & Cluster & Individual\\\\\n",
       "  & <dbl> & <dbl> & <dbl> & <dbl> & <dbl> & <dbl> & <dbl> & <dbl> & <dbl> & <dbl> & ⋯ & <dbl> & <dbl> & <dbl> & <dbl> & <dbl> & <dbl> & <dbl> & <dbl> & <fct> & <fct>\\\\\n",
       "\\hline\n",
       "\t1 &  5.3957777 & -0.9499528 &  0.2605295 & -1.5831455 & 1.73964725 & -4.4335379 &  0.7783437 & -1.6706516 &  1.06698041 & -0.8293195 & ⋯ &  0.10601308 &  0.07639461 & -0.125138684 & -0.15585489 & -0.05242177 &  0.19683601 &  0.13741614 & 1.332268e-15 & 1 & B1\\\\\n",
       "\t2 & -2.8391159 &  5.2402724 & -5.6357484 & -3.3717552 & 1.66202900 & -0.9083730 &  1.4487693 &  1.2199089 &  2.26253816 &  0.6593186 & ⋯ &  0.19814825 &  0.14873632 & -0.149585718 &  0.09438673 &  0.14902406 &  0.08125767 & -0.06622621 & 1.498801e-15 & 3 & T1\\\\\n",
       "\t3 &  1.9856651 & 11.2923020 & -1.4798142 &  0.8745344 & 0.22101735 &  1.1727177 & -0.6418646 & -2.1693624 &  0.04070626 & -0.4231926 & ⋯ &  0.08998585 & -0.09671689 &  0.102811138 &  0.16570071 &  0.05577446 & -0.06722580 &  0.07968916 & 1.332268e-15 & 3 & T2\\\\\n",
       "\t4 &  4.7660022 & -0.8400212 &  4.3095275 &  1.9454229 & 2.62825551 &  2.0575881 &  1.6650316 &  0.4558138 & -0.70020474 &  1.3761720 & ⋯ & -0.12799152 &  0.04589035 &  0.054117634 &  0.19526964 &  0.10828276 & -0.11151481 & -0.07359106 & 1.110223e-15 & 1 & B2\\\\\n",
       "\t5 &  0.9243174 & -1.5812045 &  3.1653239 & -2.1070906 & 1.80899691 &  1.9983482 &  2.0513868 & -1.4902542 & -1.21066772 & -0.5979678 & ⋯ & -0.04151845 &  0.21681434 &  0.126736580 &  0.29074769 & -0.11187544 &  0.05603024 & -0.19156999 & 1.221245e-15 & 1 & B3\\\\\n",
       "\t6 &  0.7157876 & 10.7286899 & -1.2483187 &  0.3490067 & 0.08360839 &  0.8023464 & -0.1396494 & -1.9645149 & -1.09649392 &  0.5564816 & ⋯ &  0.10237759 & -0.09718431 & -0.008060634 &  0.08018840 & -0.37960803 &  0.08288069 &  0.23071460 & 1.998401e-15 & 3 & T3\\\\\n",
       "\\end{tabular}\n"
      ],
      "text/markdown": [
       "\n",
       "A data.frame: 6 × 67\n",
       "\n",
       "| <!--/--> | PC1 &lt;dbl&gt; | PC2 &lt;dbl&gt; | PC3 &lt;dbl&gt; | PC4 &lt;dbl&gt; | PC5 &lt;dbl&gt; | PC6 &lt;dbl&gt; | PC7 &lt;dbl&gt; | PC8 &lt;dbl&gt; | PC9 &lt;dbl&gt; | PC10 &lt;dbl&gt; | ⋯ ⋯ | PC58 &lt;dbl&gt; | PC59 &lt;dbl&gt; | PC60 &lt;dbl&gt; | PC61 &lt;dbl&gt; | PC62 &lt;dbl&gt; | PC63 &lt;dbl&gt; | PC64 &lt;dbl&gt; | PC65 &lt;dbl&gt; | Cluster &lt;fct&gt; | Individual &lt;fct&gt; |\n",
       "|---|---|---|---|---|---|---|---|---|---|---|---|---|---|---|---|---|---|---|---|---|---|\n",
       "| 1 |  5.3957777 | -0.9499528 |  0.2605295 | -1.5831455 | 1.73964725 | -4.4335379 |  0.7783437 | -1.6706516 |  1.06698041 | -0.8293195 | ⋯ |  0.10601308 |  0.07639461 | -0.125138684 | -0.15585489 | -0.05242177 |  0.19683601 |  0.13741614 | 1.332268e-15 | 1 | B1 |\n",
       "| 2 | -2.8391159 |  5.2402724 | -5.6357484 | -3.3717552 | 1.66202900 | -0.9083730 |  1.4487693 |  1.2199089 |  2.26253816 |  0.6593186 | ⋯ |  0.19814825 |  0.14873632 | -0.149585718 |  0.09438673 |  0.14902406 |  0.08125767 | -0.06622621 | 1.498801e-15 | 3 | T1 |\n",
       "| 3 |  1.9856651 | 11.2923020 | -1.4798142 |  0.8745344 | 0.22101735 |  1.1727177 | -0.6418646 | -2.1693624 |  0.04070626 | -0.4231926 | ⋯ |  0.08998585 | -0.09671689 |  0.102811138 |  0.16570071 |  0.05577446 | -0.06722580 |  0.07968916 | 1.332268e-15 | 3 | T2 |\n",
       "| 4 |  4.7660022 | -0.8400212 |  4.3095275 |  1.9454229 | 2.62825551 |  2.0575881 |  1.6650316 |  0.4558138 | -0.70020474 |  1.3761720 | ⋯ | -0.12799152 |  0.04589035 |  0.054117634 |  0.19526964 |  0.10828276 | -0.11151481 | -0.07359106 | 1.110223e-15 | 1 | B2 |\n",
       "| 5 |  0.9243174 | -1.5812045 |  3.1653239 | -2.1070906 | 1.80899691 |  1.9983482 |  2.0513868 | -1.4902542 | -1.21066772 | -0.5979678 | ⋯ | -0.04151845 |  0.21681434 |  0.126736580 |  0.29074769 | -0.11187544 |  0.05603024 | -0.19156999 | 1.221245e-15 | 1 | B3 |\n",
       "| 6 |  0.7157876 | 10.7286899 | -1.2483187 |  0.3490067 | 0.08360839 |  0.8023464 | -0.1396494 | -1.9645149 | -1.09649392 |  0.5564816 | ⋯ |  0.10237759 | -0.09718431 | -0.008060634 |  0.08018840 | -0.37960803 |  0.08288069 |  0.23071460 | 1.998401e-15 | 3 | T3 |\n",
       "\n"
      ],
      "text/plain": [
       "  PC1        PC2        PC3        PC4        PC5        PC6        PC7       \n",
       "1  5.3957777 -0.9499528  0.2605295 -1.5831455 1.73964725 -4.4335379  0.7783437\n",
       "2 -2.8391159  5.2402724 -5.6357484 -3.3717552 1.66202900 -0.9083730  1.4487693\n",
       "3  1.9856651 11.2923020 -1.4798142  0.8745344 0.22101735  1.1727177 -0.6418646\n",
       "4  4.7660022 -0.8400212  4.3095275  1.9454229 2.62825551  2.0575881  1.6650316\n",
       "5  0.9243174 -1.5812045  3.1653239 -2.1070906 1.80899691  1.9983482  2.0513868\n",
       "6  0.7157876 10.7286899 -1.2483187  0.3490067 0.08360839  0.8023464 -0.1396494\n",
       "  PC8        PC9         PC10       ⋯ PC58        PC59        PC60        \n",
       "1 -1.6706516  1.06698041 -0.8293195 ⋯  0.10601308  0.07639461 -0.125138684\n",
       "2  1.2199089  2.26253816  0.6593186 ⋯  0.19814825  0.14873632 -0.149585718\n",
       "3 -2.1693624  0.04070626 -0.4231926 ⋯  0.08998585 -0.09671689  0.102811138\n",
       "4  0.4558138 -0.70020474  1.3761720 ⋯ -0.12799152  0.04589035  0.054117634\n",
       "5 -1.4902542 -1.21066772 -0.5979678 ⋯ -0.04151845  0.21681434  0.126736580\n",
       "6 -1.9645149 -1.09649392  0.5564816 ⋯  0.10237759 -0.09718431 -0.008060634\n",
       "  PC61        PC62        PC63        PC64        PC65         Cluster\n",
       "1 -0.15585489 -0.05242177  0.19683601  0.13741614 1.332268e-15 1      \n",
       "2  0.09438673  0.14902406  0.08125767 -0.06622621 1.498801e-15 3      \n",
       "3  0.16570071  0.05577446 -0.06722580  0.07968916 1.332268e-15 3      \n",
       "4  0.19526964  0.10828276 -0.11151481 -0.07359106 1.110223e-15 1      \n",
       "5  0.29074769 -0.11187544  0.05603024 -0.19156999 1.221245e-15 1      \n",
       "6  0.08018840 -0.37960803  0.08288069  0.23071460 1.998401e-15 3      \n",
       "  Individual\n",
       "1 B1        \n",
       "2 T1        \n",
       "3 T2        \n",
       "4 B2        \n",
       "5 B3        \n",
       "6 T3        "
      ]
     },
     "metadata": {},
     "output_type": "display_data"
    }
   ],
   "source": [
    "top_golub[\"inCluster\"] = as.numeric(labels)\n",
    "pca_matrix = top_golub %>% select(-Description, -inCluster)\n",
    "pca_result <- prcomp(pca_matrix, scale. = TRUE)\n",
    "pca_df <- data.frame(pca_result$x)\n",
    "pca_df$Cluster <- as.factor(top_golub$inCluster)\n",
    "pca_df$Individual <- top_golub$Description\n",
    "head(pca_df)"
   ]
  },
  {
   "cell_type": "code",
   "execution_count": 21,
   "id": "61f72888",
   "metadata": {},
   "outputs": [
    {
     "name": "stderr",
     "output_type": "stream",
     "text": [
      "Warning message:\n",
      "\"\u001b[1m\u001b[22mThe following aesthetics were dropped during statistical transformation: \u001b[32mlabel\u001b[39m.\n",
      "\u001b[36mℹ\u001b[39m This can happen when ggplot fails to infer the correct grouping structure in\n",
      "  the data.\n",
      "\u001b[36mℹ\u001b[39m Did you forget to specify a `group` aesthetic or to convert a numerical\n",
      "  variable into a factor?\"\n",
      "Warning message:\n",
      "\"ggrepel: 1 unlabeled data points (too many overlaps). Consider increasing max.overlaps\"\n"
     ]
    },
    {
     "data": {
      "image/png": "[encoded data removed]",
      "text/plain": [
       "plot without title"
      ]
     },
     "metadata": {
      "image/png": {
       "height": 720,
       "width": 720
      }
     },
     "output_type": "display_data"
    }
   ],
   "source": [
    "custom_colors <- c(\"#2E86C1\", \"#28B463\", \"#E74C3C\", \"#9B59B6\", \"#F1C40F\", \"#7F8C8D\")\n",
    "\n",
    "cluster_shapes <- c(16, 17, 15, 18, 19)\n",
    "cluster_labels = c(\"AML\", \"T\", \"B\")\n",
    "\n",
    "ggplot(pca_df, aes(x = PC1, y = PC2, shape = Cluster, color = Cluster, label = Individual)) +\n",
    "  geom_point(size = 3) +\n",
    "  geom_text_repel(\n",
    "    vjust = 1,\n",
    "    hjust = 1,\n",
    "    size = 4,\n",
    "    show.legend = FALSE,\n",
    "    point.padding = 0.25,\n",
    "    box.padding = 0.25,\n",
    "    max.overlaps = 15,\n",
    "    segment.color = \"grey70\",\n",
    "    segment.size = 0.2\n",
    "  ) +\n",
    "  stat_ellipse(aes(fill = Cluster), level = 0.95, alpha = 0.2, geom = \"polygon\") +\n",
    "  labs(\n",
    "    title = \"Clest: Golub clusters\",\n",
    "    x = \"Principal Component 1\",\n",
    "    y = \"Principal Component 2\"\n",
    "  ) +\n",
    "  scale_shape_manual(values = cluster_shapes, labels = cluster_labels) +\n",
    "  scale_color_manual(values = custom_colors, labels = cluster_labels) +\n",
    "  scale_fill_manual(values = custom_colors, labels = cluster_labels) +\n",
    "  theme_minimal(base_size = 15) +\n",
    "  theme(\n",
    "    plot.title = element_text(hjust = 0.5, size = 18, face = \"bold\"),\n",
    "    axis.title.x = element_text(size = 14),\n",
    "    axis.title.y = element_text(size = 14),\n",
    "    axis.text = element_text(size = 12),\n",
    "    legend.position = \"right\",\n",
    "    legend.title = element_text(size = 12),\n",
    "    legend.text = element_text(size = 12),\n",
    "    panel.grid.major = element_line(color = \"grey90\"),\n",
    "    panel.grid.minor = element_blank()\n",
    "  )\n"
   ]
  },
  {
   "cell_type": "code",
   "execution_count": 22,
   "id": "1ea8d00d-189c-4902-ae06-2b2aeb008546",
   "metadata": {},
   "outputs": [
    {
     "data": {
      "text/html": [
       "<style>\n",
       ".list-inline {list-style: none; margin:0; padding: 0}\n",
       ".list-inline>li {display: inline-block}\n",
       ".list-inline>li:not(:last-child)::after {content: \"\\00b7\"; padding: 0 .5ex}\n",
       "</style>\n",
       "<ol class=list-inline><li>'B'</li><li>'T'</li><li>'T'</li><li>'B'</li><li>'B'</li><li>'T'</li><li>'B'</li><li>'B'</li><li>'T'</li><li>'T'</li><li>'T'</li><li>'B'</li><li>'B'</li><li>'T'</li><li>'B'</li><li>'B'</li><li>'B'</li><li>'B'</li><li>'B'</li><li>'B'</li><li>'B'</li><li>'T'</li><li>'B'</li><li>'B'</li><li>'B'</li><li>'M'</li><li>'M'</li><li>'M'</li><li>'M'</li><li>'M'</li><li>'M'</li><li>'M'</li><li>'B'</li><li>'B'</li><li>'B'</li><li>'B'</li><li>'B'</li><li>'B'</li><li>'B'</li><li>'B'</li><li>'B'</li><li>'B'</li><li>'B'</li><li>'B'</li><li>'B'</li><li>'B'</li><li>'B'</li><li>'B'</li><li>'T'</li><li>'B'</li><li>'B'</li><li>'B'</li><li>'M'</li><li>'M'</li><li>'M'</li><li>'M'</li><li>'M'</li><li>'M'</li><li>'M'</li><li>'M'</li><li>'M'</li><li>'M'</li><li>'M'</li><li>'M'</li><li>'M'</li></ol>\n"
      ],
      "text/latex": [
       "\\begin{enumerate*}\n",
       "\\item 'B'\n",
       "\\item 'T'\n",
       "\\item 'T'\n",
       "\\item 'B'\n",
       "\\item 'B'\n",
       "\\item 'T'\n",
       "\\item 'B'\n",
       "\\item 'B'\n",
       "\\item 'T'\n",
       "\\item 'T'\n",
       "\\item 'T'\n",
       "\\item 'B'\n",
       "\\item 'B'\n",
       "\\item 'T'\n",
       "\\item 'B'\n",
       "\\item 'B'\n",
       "\\item 'B'\n",
       "\\item 'B'\n",
       "\\item 'B'\n",
       "\\item 'B'\n",
       "\\item 'B'\n",
       "\\item 'T'\n",
       "\\item 'B'\n",
       "\\item 'B'\n",
       "\\item 'B'\n",
       "\\item 'M'\n",
       "\\item 'M'\n",
       "\\item 'M'\n",
       "\\item 'M'\n",
       "\\item 'M'\n",
       "\\item 'M'\n",
       "\\item 'M'\n",
       "\\item 'B'\n",
       "\\item 'B'\n",
       "\\item 'B'\n",
       "\\item 'B'\n",
       "\\item 'B'\n",
       "\\item 'B'\n",
       "\\item 'B'\n",
       "\\item 'B'\n",
       "\\item 'B'\n",
       "\\item 'B'\n",
       "\\item 'B'\n",
       "\\item 'B'\n",
       "\\item 'B'\n",
       "\\item 'B'\n",
       "\\item 'B'\n",
       "\\item 'B'\n",
       "\\item 'T'\n",
       "\\item 'B'\n",
       "\\item 'B'\n",
       "\\item 'B'\n",
       "\\item 'M'\n",
       "\\item 'M'\n",
       "\\item 'M'\n",
       "\\item 'M'\n",
       "\\item 'M'\n",
       "\\item 'M'\n",
       "\\item 'M'\n",
       "\\item 'M'\n",
       "\\item 'M'\n",
       "\\item 'M'\n",
       "\\item 'M'\n",
       "\\item 'M'\n",
       "\\item 'M'\n",
       "\\end{enumerate*}\n"
      ],
      "text/markdown": [
       "1. 'B'\n",
       "2. 'T'\n",
       "3. 'T'\n",
       "4. 'B'\n",
       "5. 'B'\n",
       "6. 'T'\n",
       "7. 'B'\n",
       "8. 'B'\n",
       "9. 'T'\n",
       "10. 'T'\n",
       "11. 'T'\n",
       "12. 'B'\n",
       "13. 'B'\n",
       "14. 'T'\n",
       "15. 'B'\n",
       "16. 'B'\n",
       "17. 'B'\n",
       "18. 'B'\n",
       "19. 'B'\n",
       "20. 'B'\n",
       "21. 'B'\n",
       "22. 'T'\n",
       "23. 'B'\n",
       "24. 'B'\n",
       "25. 'B'\n",
       "26. 'M'\n",
       "27. 'M'\n",
       "28. 'M'\n",
       "29. 'M'\n",
       "30. 'M'\n",
       "31. 'M'\n",
       "32. 'M'\n",
       "33. 'B'\n",
       "34. 'B'\n",
       "35. 'B'\n",
       "36. 'B'\n",
       "37. 'B'\n",
       "38. 'B'\n",
       "39. 'B'\n",
       "40. 'B'\n",
       "41. 'B'\n",
       "42. 'B'\n",
       "43. 'B'\n",
       "44. 'B'\n",
       "45. 'B'\n",
       "46. 'B'\n",
       "47. 'B'\n",
       "48. 'B'\n",
       "49. 'T'\n",
       "50. 'B'\n",
       "51. 'B'\n",
       "52. 'B'\n",
       "53. 'M'\n",
       "54. 'M'\n",
       "55. 'M'\n",
       "56. 'M'\n",
       "57. 'M'\n",
       "58. 'M'\n",
       "59. 'M'\n",
       "60. 'M'\n",
       "61. 'M'\n",
       "62. 'M'\n",
       "63. 'M'\n",
       "64. 'M'\n",
       "65. 'M'\n",
       "\n",
       "\n"
      ],
      "text/plain": [
       " [1] \"B\" \"T\" \"T\" \"B\" \"B\" \"T\" \"B\" \"B\" \"T\" \"T\" \"T\" \"B\" \"B\" \"T\" \"B\" \"B\" \"B\" \"B\" \"B\"\n",
       "[20] \"B\" \"B\" \"T\" \"B\" \"B\" \"B\" \"M\" \"M\" \"M\" \"M\" \"M\" \"M\" \"M\" \"B\" \"B\" \"B\" \"B\" \"B\" \"B\"\n",
       "[39] \"B\" \"B\" \"B\" \"B\" \"B\" \"B\" \"B\" \"B\" \"B\" \"B\" \"T\" \"B\" \"B\" \"B\" \"M\" \"M\" \"M\" \"M\" \"M\"\n",
       "[58] \"M\" \"M\" \"M\" \"M\" \"M\" \"M\" \"M\" \"M\""
      ]
     },
     "metadata": {},
     "output_type": "display_data"
    }
   ],
   "source": [
    "gold_standard_classes = as.character(unlist(as.data.frame(leukemia)[\"Class\"]))\n",
    "gold_standard_classes = gold_standard_classes[-trimmedRows]\n",
    "gold_standard_classes"
   ]
  },
  {
   "cell_type": "code",
   "execution_count": 23,
   "id": "343ccb65",
   "metadata": {},
   "outputs": [
    {
     "data": {
      "text/html": [
       "<table class=\"dataframe\">\n",
       "<caption>A data.frame: 6 × 2</caption>\n",
       "<thead>\n",
       "\t<tr><th></th><th scope=col>Description</th><th scope=col>Class</th></tr>\n",
       "\t<tr><th></th><th scope=col>&lt;fct&gt;</th><th scope=col>&lt;chr&gt;</th></tr>\n",
       "</thead>\n",
       "<tbody>\n",
       "\t<tr><th scope=row>1</th><td>B1</td><td>B</td></tr>\n",
       "\t<tr><th scope=row>2</th><td>T1</td><td>T</td></tr>\n",
       "\t<tr><th scope=row>3</th><td>T2</td><td>T</td></tr>\n",
       "\t<tr><th scope=row>4</th><td>B2</td><td>B</td></tr>\n",
       "\t<tr><th scope=row>5</th><td>B3</td><td>B</td></tr>\n",
       "\t<tr><th scope=row>6</th><td>T3</td><td>T</td></tr>\n",
       "</tbody>\n",
       "</table>\n"
      ],
      "text/latex": [
       "A data.frame: 6 × 2\n",
       "\\begin{tabular}{r|ll}\n",
       "  & Description & Class\\\\\n",
       "  & <fct> & <chr>\\\\\n",
       "\\hline\n",
       "\t1 & B1 & B\\\\\n",
       "\t2 & T1 & T\\\\\n",
       "\t3 & T2 & T\\\\\n",
       "\t4 & B2 & B\\\\\n",
       "\t5 & B3 & B\\\\\n",
       "\t6 & T3 & T\\\\\n",
       "\\end{tabular}\n"
      ],
      "text/markdown": [
       "\n",
       "A data.frame: 6 × 2\n",
       "\n",
       "| <!--/--> | Description &lt;fct&gt; | Class &lt;chr&gt; |\n",
       "|---|---|---|\n",
       "| 1 | B1 | B |\n",
       "| 2 | T1 | T |\n",
       "| 3 | T2 | T |\n",
       "| 4 | B2 | B |\n",
       "| 5 | B3 | B |\n",
       "| 6 | T3 | T |\n",
       "\n"
      ],
      "text/plain": [
       "  Description Class\n",
       "1 B1          B    \n",
       "2 T1          T    \n",
       "3 T2          T    \n",
       "4 B2          B    \n",
       "5 B3          B    \n",
       "6 T3          T    "
      ]
     },
     "metadata": {},
     "output_type": "display_data"
    }
   ],
   "source": [
    "top_golub[\"Class\"] = gold_standard_classes\n",
    "head(top_golub)[, c(\"Description\", \"Class\")]"
   ]
  },
  {
   "cell_type": "code",
   "execution_count": 24,
   "id": "92142600",
   "metadata": {},
   "outputs": [
    {
     "data": {
      "text/html": [
       "<table class=\"dataframe\">\n",
       "<caption>A data.frame: 6 × 3</caption>\n",
       "<thead>\n",
       "\t<tr><th></th><th scope=col>Description</th><th scope=col>Class</th><th scope=col>Class_n</th></tr>\n",
       "\t<tr><th></th><th scope=col>&lt;fct&gt;</th><th scope=col>&lt;chr&gt;</th><th scope=col>&lt;dbl&gt;</th></tr>\n",
       "</thead>\n",
       "<tbody>\n",
       "\t<tr><th scope=row>1</th><td>B1</td><td>B</td><td>1</td></tr>\n",
       "\t<tr><th scope=row>2</th><td>T1</td><td>T</td><td>3</td></tr>\n",
       "\t<tr><th scope=row>3</th><td>T2</td><td>T</td><td>3</td></tr>\n",
       "\t<tr><th scope=row>4</th><td>B2</td><td>B</td><td>1</td></tr>\n",
       "\t<tr><th scope=row>5</th><td>B3</td><td>B</td><td>1</td></tr>\n",
       "\t<tr><th scope=row>6</th><td>T3</td><td>T</td><td>3</td></tr>\n",
       "</tbody>\n",
       "</table>\n"
      ],
      "text/latex": [
       "A data.frame: 6 × 3\n",
       "\\begin{tabular}{r|lll}\n",
       "  & Description & Class & Class\\_n\\\\\n",
       "  & <fct> & <chr> & <dbl>\\\\\n",
       "\\hline\n",
       "\t1 & B1 & B & 1\\\\\n",
       "\t2 & T1 & T & 3\\\\\n",
       "\t3 & T2 & T & 3\\\\\n",
       "\t4 & B2 & B & 1\\\\\n",
       "\t5 & B3 & B & 1\\\\\n",
       "\t6 & T3 & T & 3\\\\\n",
       "\\end{tabular}\n"
      ],
      "text/markdown": [
       "\n",
       "A data.frame: 6 × 3\n",
       "\n",
       "| <!--/--> | Description &lt;fct&gt; | Class &lt;chr&gt; | Class_n &lt;dbl&gt; |\n",
       "|---|---|---|---|\n",
       "| 1 | B1 | B | 1 |\n",
       "| 2 | T1 | T | 3 |\n",
       "| 3 | T2 | T | 3 |\n",
       "| 4 | B2 | B | 1 |\n",
       "| 5 | B3 | B | 1 |\n",
       "| 6 | T3 | T | 3 |\n",
       "\n"
      ],
      "text/plain": [
       "  Description Class Class_n\n",
       "1 B1          B     1      \n",
       "2 T1          T     3      \n",
       "3 T2          T     3      \n",
       "4 B2          B     1      \n",
       "5 B3          B     1      \n",
       "6 T3          T     3      "
      ]
     },
     "metadata": {},
     "output_type": "display_data"
    }
   ],
   "source": [
    "if (alpha == 0.07) {\n",
    "    level_mapping <- c(\"B\" = 1, \"M\" = 2, \"T\" = 3)\n",
    "}\n",
    "if (alpha == 0.1) {\n",
    "    level_mapping <- c(\"B\" = 1, \"T\" = 2, \"M\" = 3)\n",
    "}\n",
    "if (alpha == 0.2) {\n",
    "    level_mapping <- c(\"M\" = 1, \"B\" = 2, \"T\" = 3)\n",
    "}\n",
    "\n",
    "map_strings_to_numbers <- function(strings) {\n",
    "  factorized <- factor(strings, levels = names(level_mapping))\n",
    "  as.numeric(factorized)\n",
    "}\n",
    "# Map categories with cluster number\n",
    "top_golub[\"Class_n\"] = lapply(top_golub[\"Class\"], map_strings_to_numbers)\n",
    "# Table of prediction vs actual classification\n",
    "head(top_golub[, c(\"Description\", \"Class\", \"Class_n\")])"
   ]
  },
  {
   "cell_type": "code",
   "execution_count": 25,
   "id": "8b5e92ae",
   "metadata": {},
   "outputs": [
    {
     "name": "stdout",
     "output_type": "stream",
     "text": [
      "[1] \"actual\"\n"
     ]
    },
    {
     "data": {
      "text/html": [
       "<style>\n",
       ".list-inline {list-style: none; margin:0; padding: 0}\n",
       ".list-inline>li {display: inline-block}\n",
       ".list-inline>li:not(:last-child)::after {content: \"\\00b7\"; padding: 0 .5ex}\n",
       "</style>\n",
       "<ol class=list-inline><li>1</li><li>3</li><li>3</li><li>1</li><li>1</li><li>3</li><li>1</li><li>1</li><li>3</li><li>3</li><li>3</li><li>1</li><li>1</li><li>3</li><li>1</li><li>1</li><li>1</li><li>1</li><li>1</li><li>1</li><li>1</li><li>3</li><li>1</li><li>1</li><li>1</li><li>2</li><li>2</li><li>2</li><li>2</li><li>2</li><li>2</li><li>2</li><li>1</li><li>1</li><li>1</li><li>1</li><li>1</li><li>1</li><li>1</li><li>1</li><li>1</li><li>1</li><li>1</li><li>1</li><li>1</li><li>1</li><li>1</li><li>1</li><li>3</li><li>1</li><li>1</li><li>1</li><li>2</li><li>2</li><li>2</li><li>2</li><li>2</li><li>2</li><li>2</li><li>2</li><li>2</li><li>2</li><li>2</li><li>2</li><li>2</li></ol>\n",
       "\n",
       "<details>\n",
       "\t<summary style=display:list-item;cursor:pointer>\n",
       "\t\t<strong>Levels</strong>:\n",
       "\t</summary>\n",
       "\t<style>\n",
       "\t.list-inline {list-style: none; margin:0; padding: 0}\n",
       "\t.list-inline>li {display: inline-block}\n",
       "\t.list-inline>li:not(:last-child)::after {content: \"\\00b7\"; padding: 0 .5ex}\n",
       "\t</style>\n",
       "\t<ol class=list-inline><li>'1'</li><li>'2'</li><li>'3'</li></ol>\n",
       "</details>"
      ],
      "text/latex": [
       "\\begin{enumerate*}\n",
       "\\item 1\n",
       "\\item 3\n",
       "\\item 3\n",
       "\\item 1\n",
       "\\item 1\n",
       "\\item 3\n",
       "\\item 1\n",
       "\\item 1\n",
       "\\item 3\n",
       "\\item 3\n",
       "\\item 3\n",
       "\\item 1\n",
       "\\item 1\n",
       "\\item 3\n",
       "\\item 1\n",
       "\\item 1\n",
       "\\item 1\n",
       "\\item 1\n",
       "\\item 1\n",
       "\\item 1\n",
       "\\item 1\n",
       "\\item 3\n",
       "\\item 1\n",
       "\\item 1\n",
       "\\item 1\n",
       "\\item 2\n",
       "\\item 2\n",
       "\\item 2\n",
       "\\item 2\n",
       "\\item 2\n",
       "\\item 2\n",
       "\\item 2\n",
       "\\item 1\n",
       "\\item 1\n",
       "\\item 1\n",
       "\\item 1\n",
       "\\item 1\n",
       "\\item 1\n",
       "\\item 1\n",
       "\\item 1\n",
       "\\item 1\n",
       "\\item 1\n",
       "\\item 1\n",
       "\\item 1\n",
       "\\item 1\n",
       "\\item 1\n",
       "\\item 1\n",
       "\\item 1\n",
       "\\item 3\n",
       "\\item 1\n",
       "\\item 1\n",
       "\\item 1\n",
       "\\item 2\n",
       "\\item 2\n",
       "\\item 2\n",
       "\\item 2\n",
       "\\item 2\n",
       "\\item 2\n",
       "\\item 2\n",
       "\\item 2\n",
       "\\item 2\n",
       "\\item 2\n",
       "\\item 2\n",
       "\\item 2\n",
       "\\item 2\n",
       "\\end{enumerate*}\n",
       "\n",
       "\\emph{Levels}: \\begin{enumerate*}\n",
       "\\item '1'\n",
       "\\item '2'\n",
       "\\item '3'\n",
       "\\end{enumerate*}\n"
      ],
      "text/markdown": [
       "1. 1\n",
       "2. 3\n",
       "3. 3\n",
       "4. 1\n",
       "5. 1\n",
       "6. 3\n",
       "7. 1\n",
       "8. 1\n",
       "9. 3\n",
       "10. 3\n",
       "11. 3\n",
       "12. 1\n",
       "13. 1\n",
       "14. 3\n",
       "15. 1\n",
       "16. 1\n",
       "17. 1\n",
       "18. 1\n",
       "19. 1\n",
       "20. 1\n",
       "21. 1\n",
       "22. 3\n",
       "23. 1\n",
       "24. 1\n",
       "25. 1\n",
       "26. 2\n",
       "27. 2\n",
       "28. 2\n",
       "29. 2\n",
       "30. 2\n",
       "31. 2\n",
       "32. 2\n",
       "33. 1\n",
       "34. 1\n",
       "35. 1\n",
       "36. 1\n",
       "37. 1\n",
       "38. 1\n",
       "39. 1\n",
       "40. 1\n",
       "41. 1\n",
       "42. 1\n",
       "43. 1\n",
       "44. 1\n",
       "45. 1\n",
       "46. 1\n",
       "47. 1\n",
       "48. 1\n",
       "49. 3\n",
       "50. 1\n",
       "51. 1\n",
       "52. 1\n",
       "53. 2\n",
       "54. 2\n",
       "55. 2\n",
       "56. 2\n",
       "57. 2\n",
       "58. 2\n",
       "59. 2\n",
       "60. 2\n",
       "61. 2\n",
       "62. 2\n",
       "63. 2\n",
       "64. 2\n",
       "65. 2\n",
       "\n",
       "\n",
       "\n",
       "**Levels**: 1. '1'\n",
       "2. '2'\n",
       "3. '3'\n",
       "\n",
       "\n"
      ],
      "text/plain": [
       " [1] 1 3 3 1 1 3 1 1 3 3 3 1 1 3 1 1 1 1 1 1 1 3 1 1 1 2 2 2 2 2 2 2 1 1 1 1 1 1\n",
       "[39] 1 1 1 1 1 1 1 1 1 1 3 1 1 1 2 2 2 2 2 2 2 2 2 2 2 2 2\n",
       "Levels: 1 2 3"
      ]
     },
     "metadata": {},
     "output_type": "display_data"
    },
    {
     "name": "stdout",
     "output_type": "stream",
     "text": [
      "[1] \"predicted\"\n"
     ]
    },
    {
     "data": {
      "text/html": [
       "<style>\n",
       ".list-inline {list-style: none; margin:0; padding: 0}\n",
       ".list-inline>li {display: inline-block}\n",
       ".list-inline>li:not(:last-child)::after {content: \"\\00b7\"; padding: 0 .5ex}\n",
       "</style>\n",
       "<ol class=list-inline><li>1</li><li>3</li><li>3</li><li>1</li><li>1</li><li>3</li><li>1</li><li>1</li><li>3</li><li>3</li><li>3</li><li>1</li><li>1</li><li>3</li><li>1</li><li>1</li><li>1</li><li>1</li><li>1</li><li>1</li><li>1</li><li>3</li><li>1</li><li>1</li><li>1</li><li>2</li><li>2</li><li>2</li><li>2</li><li>2</li><li>2</li><li>2</li><li>1</li><li>1</li><li>1</li><li>1</li><li>1</li><li>1</li><li>1</li><li>1</li><li>1</li><li>1</li><li>1</li><li>1</li><li>3</li><li>1</li><li>1</li><li>1</li><li>3</li><li>1</li><li>1</li><li>1</li><li>2</li><li>2</li><li>2</li><li>2</li><li>2</li><li>2</li><li>2</li><li>2</li><li>2</li><li>3</li><li>2</li><li>2</li><li>2</li></ol>\n",
       "\n",
       "<details>\n",
       "\t<summary style=display:list-item;cursor:pointer>\n",
       "\t\t<strong>Levels</strong>:\n",
       "\t</summary>\n",
       "\t<style>\n",
       "\t.list-inline {list-style: none; margin:0; padding: 0}\n",
       "\t.list-inline>li {display: inline-block}\n",
       "\t.list-inline>li:not(:last-child)::after {content: \"\\00b7\"; padding: 0 .5ex}\n",
       "\t</style>\n",
       "\t<ol class=list-inline><li>'1'</li><li>'2'</li><li>'3'</li></ol>\n",
       "</details>"
      ],
      "text/latex": [
       "\\begin{enumerate*}\n",
       "\\item 1\n",
       "\\item 3\n",
       "\\item 3\n",
       "\\item 1\n",
       "\\item 1\n",
       "\\item 3\n",
       "\\item 1\n",
       "\\item 1\n",
       "\\item 3\n",
       "\\item 3\n",
       "\\item 3\n",
       "\\item 1\n",
       "\\item 1\n",
       "\\item 3\n",
       "\\item 1\n",
       "\\item 1\n",
       "\\item 1\n",
       "\\item 1\n",
       "\\item 1\n",
       "\\item 1\n",
       "\\item 1\n",
       "\\item 3\n",
       "\\item 1\n",
       "\\item 1\n",
       "\\item 1\n",
       "\\item 2\n",
       "\\item 2\n",
       "\\item 2\n",
       "\\item 2\n",
       "\\item 2\n",
       "\\item 2\n",
       "\\item 2\n",
       "\\item 1\n",
       "\\item 1\n",
       "\\item 1\n",
       "\\item 1\n",
       "\\item 1\n",
       "\\item 1\n",
       "\\item 1\n",
       "\\item 1\n",
       "\\item 1\n",
       "\\item 1\n",
       "\\item 1\n",
       "\\item 1\n",
       "\\item 3\n",
       "\\item 1\n",
       "\\item 1\n",
       "\\item 1\n",
       "\\item 3\n",
       "\\item 1\n",
       "\\item 1\n",
       "\\item 1\n",
       "\\item 2\n",
       "\\item 2\n",
       "\\item 2\n",
       "\\item 2\n",
       "\\item 2\n",
       "\\item 2\n",
       "\\item 2\n",
       "\\item 2\n",
       "\\item 2\n",
       "\\item 3\n",
       "\\item 2\n",
       "\\item 2\n",
       "\\item 2\n",
       "\\end{enumerate*}\n",
       "\n",
       "\\emph{Levels}: \\begin{enumerate*}\n",
       "\\item '1'\n",
       "\\item '2'\n",
       "\\item '3'\n",
       "\\end{enumerate*}\n"
      ],
      "text/markdown": [
       "1. 1\n",
       "2. 3\n",
       "3. 3\n",
       "4. 1\n",
       "5. 1\n",
       "6. 3\n",
       "7. 1\n",
       "8. 1\n",
       "9. 3\n",
       "10. 3\n",
       "11. 3\n",
       "12. 1\n",
       "13. 1\n",
       "14. 3\n",
       "15. 1\n",
       "16. 1\n",
       "17. 1\n",
       "18. 1\n",
       "19. 1\n",
       "20. 1\n",
       "21. 1\n",
       "22. 3\n",
       "23. 1\n",
       "24. 1\n",
       "25. 1\n",
       "26. 2\n",
       "27. 2\n",
       "28. 2\n",
       "29. 2\n",
       "30. 2\n",
       "31. 2\n",
       "32. 2\n",
       "33. 1\n",
       "34. 1\n",
       "35. 1\n",
       "36. 1\n",
       "37. 1\n",
       "38. 1\n",
       "39. 1\n",
       "40. 1\n",
       "41. 1\n",
       "42. 1\n",
       "43. 1\n",
       "44. 1\n",
       "45. 3\n",
       "46. 1\n",
       "47. 1\n",
       "48. 1\n",
       "49. 3\n",
       "50. 1\n",
       "51. 1\n",
       "52. 1\n",
       "53. 2\n",
       "54. 2\n",
       "55. 2\n",
       "56. 2\n",
       "57. 2\n",
       "58. 2\n",
       "59. 2\n",
       "60. 2\n",
       "61. 2\n",
       "62. 3\n",
       "63. 2\n",
       "64. 2\n",
       "65. 2\n",
       "\n",
       "\n",
       "\n",
       "**Levels**: 1. '1'\n",
       "2. '2'\n",
       "3. '3'\n",
       "\n",
       "\n"
      ],
      "text/plain": [
       " [1] 1 3 3 1 1 3 1 1 3 3 3 1 1 3 1 1 1 1 1 1 1 3 1 1 1 2 2 2 2 2 2 2 1 1 1 1 1 1\n",
       "[39] 1 1 1 1 1 1 3 1 1 1 3 1 1 1 2 2 2 2 2 2 2 2 2 3 2 2 2\n",
       "Levels: 1 2 3"
      ]
     },
     "metadata": {},
     "output_type": "display_data"
    }
   ],
   "source": [
    "# Getting a vector of prediction vs actual classification\n",
    "actual = as.factor(as.vector(unlist(top_golub[\"Class_n\"])))\n",
    "predicted <- factor(as.vector(unlist(top_golub[\"inCluster\"])))\n",
    "\n",
    "print(\"actual\")\n",
    "actual\n",
    "print(\"predicted\")\n",
    "predicted"
   ]
  },
  {
   "cell_type": "markdown",
   "id": "0d6c112a",
   "metadata": {},
   "source": [
    "# Sensitivity <a class=\"anchor\" id=\"sensitivity\"></a>\n",
    "In this Section we evaluate the sensitivity of our clustering using the `MLmetrics::Sensitivity` method. Sensitivity, or the true positive rate, measures the ability to correctly identify positive instances within the data. By focusing on sensitivity, we aim to ensure that our model effectively captures the relevant clusters, minimizing the number of false negatives. "
   ]
  },
  {
   "cell_type": "code",
   "execution_count": 26,
   "id": "efbb2939",
   "metadata": {},
   "outputs": [
    {
     "name": "stdout",
     "output_type": "stream",
     "text": [
      "[1] \"Sensitivity: 97.22%\"\n"
     ]
    }
   ],
   "source": [
    "sens <- MLmetrics::Sensitivity(y_pred = predicted, y_true = actual)\n",
    "sens = format(round(sens*100, 2), nsmall = 2)\n",
    "print(paste0(\"Sensitivity: \", sens, \"%\"))"
   ]
  },
  {
   "cell_type": "markdown",
   "id": "6718cdb9",
   "metadata": {},
   "source": [
    "# CER <a class=\"anchor\" id=\"cer\"></a>\n",
    "To assess the overall accuracy of our clustering, we compute the Classification Error Rate (CER) and compare it with the gold standard classification. CER represents the proportion of misclassified instances, thus providing a clear measure of the clustering performance in assigning individuals to the correct clusters."
   ]
  },
  {
   "cell_type": "code",
   "execution_count": 27,
   "id": "6438ca5b",
   "metadata": {},
   "outputs": [
    {
     "name": "stdout",
     "output_type": "stream",
     "text": [
      "[1] \"CER: 3.51%\"\n"
     ]
    }
   ],
   "source": [
    "cer <- CER(predicted, actual)\n",
    "cer = format(round(cer*100, 2), nsmall = 2)\n",
    "print(paste0(\"CER: \", cer, \"%\"))"
   ]
  },
  {
   "cell_type": "code",
   "execution_count": null,
   "id": "e37cdabb-6d61-4aa8-82a6-b54c92cc929c",
   "metadata": {},
   "outputs": [],
   "source": []
  }
 ],
 "metadata": {
  "kernelspec": {
   "display_name": "R",
   "language": "R",
   "name": "ir"
  },
  "language_info": {
   "codemirror_mode": "r",
   "file_extension": ".r",
   "mimetype": "text/x-r-source",
   "name": "R",
   "pygments_lexer": "r",
   "version": "4.4.1"
  }
 },
 "nbformat": 4,
 "nbformat_minor": 5
}
