{
 "cells": [
  {
   "cell_type": "markdown",
   "id": "285a2f02",
   "metadata": {},
   "source": [
    "# NCI60 using RSKC"
   ]
  },
  {
   "cell_type": "code",
   "execution_count": 1,
   "id": "9ba99e51",
   "metadata": {
    "scrolled": true
   },
   "outputs": [
    {
     "name": "stderr",
     "output_type": "stream",
     "text": [
      "Cargando paquete requerido: SummarizedExperiment\n",
      "\n",
      "Cargando paquete requerido: MatrixGenerics\n",
      "\n",
      "Cargando paquete requerido: matrixStats\n",
      "\n",
      "\n",
      "Adjuntando el paquete: 'MatrixGenerics'\n",
      "\n",
      "\n",
      "The following objects are masked from 'package:matrixStats':\n",
      "\n",
      "    colAlls, colAnyNAs, colAnys, colAvgsPerRowSet, colCollapse,\n",
      "    colCounts, colCummaxs, colCummins, colCumprods, colCumsums,\n",
      "    colDiffs, colIQRDiffs, colIQRs, colLogSumExps, colMadDiffs,\n",
      "    colMads, colMaxs, colMeans2, colMedians, colMins, colOrderStats,\n",
      "    colProds, colQuantiles, colRanges, colRanks, colSdDiffs, colSds,\n",
      "    colSums2, colTabulates, colVarDiffs, colVars, colWeightedMads,\n",
      "    colWeightedMeans, colWeightedMedians, colWeightedSds,\n",
      "    colWeightedVars, rowAlls, rowAnyNAs, rowAnys, rowAvgsPerColSet,\n",
      "    rowCollapse, rowCounts, rowCummaxs, rowCummins, rowCumprods,\n",
      "    rowCumsums, rowDiffs, rowIQRDiffs, rowIQRs, rowLogSumExps,\n",
      "    rowMadDiffs, rowMads, rowMaxs, rowMeans2, rowMedians, rowMins,\n",
      "    rowOrderStats, rowProds, rowQuantiles, rowRanges, rowRanks,\n",
      "    rowSdDiffs, rowSds, rowSums2, rowTabulates, rowVarDiffs, rowVars,\n",
      "    rowWeightedMads, rowWeightedMeans, rowWeightedMedians,\n",
      "    rowWeightedSds, rowWeightedVars\n",
      "\n",
      "\n",
      "Cargando paquete requerido: GenomicRanges\n",
      "\n",
      "Cargando paquete requerido: stats4\n",
      "\n",
      "Cargando paquete requerido: BiocGenerics\n",
      "\n",
      "\n",
      "Adjuntando el paquete: 'BiocGenerics'\n",
      "\n",
      "\n",
      "The following objects are masked from 'package:stats':\n",
      "\n",
      "    IQR, mad, sd, var, xtabs\n",
      "\n",
      "\n",
      "The following objects are masked from 'package:base':\n",
      "\n",
      "    anyDuplicated, aperm, append, as.data.frame, basename, cbind,\n",
      "    colnames, dirname, do.call, duplicated, eval, evalq, Filter, Find,\n",
      "    get, grep, grepl, intersect, is.unsorted, lapply, Map, mapply,\n",
      "    match, mget, order, paste, pmax, pmax.int, pmin, pmin.int,\n",
      "    Position, rank, rbind, Reduce, rownames, sapply, setdiff, table,\n",
      "    tapply, union, unique, unsplit, which.max, which.min\n",
      "\n",
      "\n",
      "Cargando paquete requerido: S4Vectors\n",
      "\n",
      "\n",
      "Adjuntando el paquete: 'S4Vectors'\n",
      "\n",
      "\n",
      "The following object is masked from 'package:utils':\n",
      "\n",
      "    findMatches\n",
      "\n",
      "\n",
      "The following objects are masked from 'package:base':\n",
      "\n",
      "    expand.grid, I, unname\n",
      "\n",
      "\n",
      "Cargando paquete requerido: IRanges\n",
      "\n",
      "\n",
      "Adjuntando el paquete: 'IRanges'\n",
      "\n",
      "\n",
      "The following object is masked from 'package:grDevices':\n",
      "\n",
      "    windows\n",
      "\n",
      "\n",
      "Cargando paquete requerido: GenomeInfoDb\n",
      "\n",
      "Cargando paquete requerido: Biobase\n",
      "\n",
      "Welcome to Bioconductor\n",
      "\n",
      "    Vignettes contain introductory material; view with\n",
      "    'browseVignettes()'. To cite Bioconductor, see\n",
      "    'citation(\"Biobase\")', and for packages 'citation(\"pkgname\")'.\n",
      "\n",
      "\n",
      "\n",
      "Adjuntando el paquete: 'Biobase'\n",
      "\n",
      "\n",
      "The following object is masked from 'package:MatrixGenerics':\n",
      "\n",
      "    rowMedians\n",
      "\n",
      "\n",
      "The following objects are masked from 'package:matrixStats':\n",
      "\n",
      "    anyMissing, rowMedians\n",
      "\n",
      "\n",
      "Cargando paquete requerido: MultiAssayExperiment\n",
      "\n",
      "Cargando paquete requerido: dplyr\n",
      "\n",
      "\n",
      "Adjuntando el paquete: 'dplyr'\n",
      "\n",
      "\n",
      "The following object is masked from 'package:Biobase':\n",
      "\n",
      "    combine\n",
      "\n",
      "\n",
      "The following objects are masked from 'package:GenomicRanges':\n",
      "\n",
      "    intersect, setdiff, union\n",
      "\n",
      "\n",
      "The following object is masked from 'package:GenomeInfoDb':\n",
      "\n",
      "    intersect\n",
      "\n",
      "\n",
      "The following objects are masked from 'package:IRanges':\n",
      "\n",
      "    collapse, desc, intersect, setdiff, slice, union\n",
      "\n",
      "\n",
      "The following objects are masked from 'package:S4Vectors':\n",
      "\n",
      "    first, intersect, rename, setdiff, setequal, union\n",
      "\n",
      "\n",
      "The following objects are masked from 'package:BiocGenerics':\n",
      "\n",
      "    combine, intersect, setdiff, union\n",
      "\n",
      "\n",
      "The following object is masked from 'package:matrixStats':\n",
      "\n",
      "    count\n",
      "\n",
      "\n",
      "The following objects are masked from 'package:stats':\n",
      "\n",
      "    filter, lag\n",
      "\n",
      "\n",
      "The following objects are masked from 'package:base':\n",
      "\n",
      "    intersect, setdiff, setequal, union\n",
      "\n",
      "\n",
      "Cargando paquete requerido: cluster\n",
      "\n",
      "Cargando paquete requerido: fpc\n",
      "\n",
      "Cargando paquete requerido: randomForest\n",
      "\n",
      "randomForest 4.7-1.2\n",
      "\n",
      "Type rfNews() to see new features/changes/bug fixes.\n",
      "\n",
      "\n",
      "Adjuntando el paquete: 'randomForest'\n",
      "\n",
      "\n",
      "The following object is masked from 'package:dplyr':\n",
      "\n",
      "    combine\n",
      "\n",
      "\n",
      "The following object is masked from 'package:Biobase':\n",
      "\n",
      "    combine\n",
      "\n",
      "\n",
      "The following object is masked from 'package:BiocGenerics':\n",
      "\n",
      "    combine\n",
      "\n",
      "\n",
      "Cargando paquete requerido: flexmix\n",
      "\n",
      "Cargando paquete requerido: lattice\n",
      "\n",
      "Cargando paquete requerido: RSKC\n",
      "\n",
      "Cargando paquete requerido: flexclust\n",
      "\n",
      "Cargando paquete requerido: grid\n",
      "\n",
      "Cargando paquete requerido: modeltools\n",
      "\n",
      "Cargando paquete requerido: sparcl\n",
      "\n",
      "Cargando paquete requerido: ggplot2\n",
      "\n",
      "\n",
      "Adjuntando el paquete: 'ggplot2'\n",
      "\n",
      "\n",
      "The following object is masked from 'package:randomForest':\n",
      "\n",
      "    margin\n",
      "\n",
      "\n",
      "\n",
      "Adjuntando el paquete: 'MLmetrics'\n",
      "\n",
      "\n",
      "The following objects are masked from 'package:caret':\n",
      "\n",
      "    MAE, RMSE\n",
      "\n",
      "\n",
      "The following object is masked from 'package:RSKC':\n",
      "\n",
      "    Sensitivity\n",
      "\n",
      "\n",
      "The following object is masked from 'package:base':\n",
      "\n",
      "    Recall\n",
      "\n",
      "\n"
     ]
    }
   ],
   "source": [
    "library(\"ISLR\") \n",
    "library(\"evaluomeR\")\n",
    "library(\"dplyr\")\n",
    "library(\"caret\")\n",
    "library(\"MLmetrics\")\n",
    "library(\"ggplot2\")\n",
    "library(\"ggrepel\")\n",
    "library(\"reshape2\")\n",
    "\n",
    "options(scipen=10)\n",
    "options(repr.plot.width=12, repr.plot.height=12)"
   ]
  },
  {
   "cell_type": "markdown",
   "id": "52215d63",
   "metadata": {},
   "source": [
    "# Table of contents\n",
    "* [Dataset](#dataset)\n",
    "    * [Top 200](#top)\n",
    "* [evaluomeR - optimal $k$ analysis](#evaluomer)\n",
    "    * [Stability plotting](#evaluomeR_stab_plot)\n",
    "    * [Quality plotting](#evaluomeR_qual_plot)\n",
    "* [PCA](#pca)\n",
    "* [Sensitivity](#sensitivity)\n",
    "* [CER](#cer)"
   ]
  },
  {
   "cell_type": "markdown",
   "id": "8c073791",
   "metadata": {},
   "source": [
    "# Dataset <a class=\"anchor\" id=\"dataset\"></a>"
   ]
  },
  {
   "cell_type": "code",
   "execution_count": 2,
   "id": "e49e1c20-ce80-44c0-9d40-19197a65963a",
   "metadata": {},
   "outputs": [],
   "source": [
    "seed = 13606\n",
    "k.range = c(3,10)\n",
    "cbi = \"kmeans\"\n",
    "alpha = NULL\n",
    "max_alpha=0.25"
   ]
  },
  {
   "cell_type": "code",
   "execution_count": 3,
   "id": "50cb9920",
   "metadata": {},
   "outputs": [
    {
     "data": {
      "text/html": [
       "<table class=\"dataframe\">\n",
       "<caption>A data.frame: 6 × 6830</caption>\n",
       "<thead>\n",
       "\t<tr><th></th><th scope=col>1</th><th scope=col>2</th><th scope=col>3</th><th scope=col>4</th><th scope=col>5</th><th scope=col>6</th><th scope=col>7</th><th scope=col>8</th><th scope=col>9</th><th scope=col>10</th><th scope=col>⋯</th><th scope=col>6821</th><th scope=col>6822</th><th scope=col>6823</th><th scope=col>6824</th><th scope=col>6825</th><th scope=col>6826</th><th scope=col>6827</th><th scope=col>6828</th><th scope=col>6829</th><th scope=col>6830</th></tr>\n",
       "\t<tr><th></th><th scope=col>&lt;dbl&gt;</th><th scope=col>&lt;dbl&gt;</th><th scope=col>&lt;dbl&gt;</th><th scope=col>&lt;dbl&gt;</th><th scope=col>&lt;dbl&gt;</th><th scope=col>&lt;dbl&gt;</th><th scope=col>&lt;dbl&gt;</th><th scope=col>&lt;dbl&gt;</th><th scope=col>&lt;dbl&gt;</th><th scope=col>&lt;dbl&gt;</th><th scope=col>⋯</th><th scope=col>&lt;dbl&gt;</th><th scope=col>&lt;dbl&gt;</th><th scope=col>&lt;dbl&gt;</th><th scope=col>&lt;dbl&gt;</th><th scope=col>&lt;dbl&gt;</th><th scope=col>&lt;dbl&gt;</th><th scope=col>&lt;dbl&gt;</th><th scope=col>&lt;dbl&gt;</th><th scope=col>&lt;dbl&gt;</th><th scope=col>&lt;dbl&gt;</th></tr>\n",
       "</thead>\n",
       "<tbody>\n",
       "\t<tr><th scope=row>V1</th><td>0.300000</td><td> 1.180000</td><td> 0.550000</td><td> 1.140000</td><td>-0.265000</td><td>-7.000000e-02</td><td> 0.350000</td><td>-0.315000</td><td>-0.45000000</td><td>-0.65498050</td><td>⋯</td><td>-0.9900195</td><td> 0.000000</td><td> 0.030000</td><td>-0.175000</td><td> 0.6299805</td><td>-0.030000</td><td> 0.0000000</td><td> 0.280000</td><td>-0.340000</td><td>-1.930000</td></tr>\n",
       "\t<tr><th scope=row>V2</th><td>0.679961</td><td> 1.289961</td><td> 0.169961</td><td> 0.379961</td><td> 0.464961</td><td> 5.799610e-01</td><td> 0.699961</td><td> 0.724961</td><td>-0.04003899</td><td>-0.28501950</td><td>⋯</td><td>-0.2700585</td><td>-0.300039</td><td>-0.250039</td><td>-0.535039</td><td> 0.1099415</td><td>-0.860039</td><td>-1.2500490</td><td>-0.770039</td><td>-0.390039</td><td>-2.000039</td></tr>\n",
       "\t<tr><th scope=row>V3</th><td>0.940000</td><td>-0.040000</td><td>-0.170000</td><td>-0.040000</td><td>-0.605000</td><td> 0.000000e+00</td><td> 0.090000</td><td> 0.645000</td><td> 0.43000000</td><td> 0.47501950</td><td>⋯</td><td> 0.3199805</td><td> 0.120000</td><td>-0.740000</td><td>-0.595000</td><td>-0.2700195</td><td>-0.150000</td><td> 0.0000000</td><td>-0.120000</td><td>-0.410000</td><td> 0.000000</td></tr>\n",
       "\t<tr><th scope=row>V4</th><td>0.280000</td><td>-0.310000</td><td> 0.680000</td><td>-0.810000</td><td> 0.625000</td><td>-1.387779e-17</td><td> 0.170000</td><td> 0.245000</td><td> 0.02000000</td><td> 0.09501949</td><td>⋯</td><td>-1.2400200</td><td>-0.110000</td><td>-0.160000</td><td> 0.095000</td><td>-0.3500195</td><td>-0.300000</td><td>-1.1500100</td><td> 1.090000</td><td>-0.260000</td><td>-1.100000</td></tr>\n",
       "\t<tr><th scope=row>V5</th><td>0.485000</td><td>-0.465000</td><td> 0.395000</td><td> 0.905000</td><td> 0.200000</td><td>-5.000000e-03</td><td> 0.085000</td><td> 0.110000</td><td> 0.23500000</td><td> 1.49001949</td><td>⋯</td><td> 0.5549805</td><td>-0.775000</td><td>-0.515000</td><td>-0.320000</td><td> 0.6349805</td><td> 0.605000</td><td> 0.0000000</td><td> 0.745000</td><td> 0.425000</td><td> 0.145000</td></tr>\n",
       "\t<tr><th scope=row>V6</th><td>0.310000</td><td>-0.030000</td><td>-0.100000</td><td>-0.460000</td><td>-0.205000</td><td>-5.400000e-01</td><td>-0.640000</td><td>-0.585000</td><td>-0.77000000</td><td>-0.24498050</td><td>⋯</td><td>-0.5900195</td><td> 0.000000</td><td>-0.740000</td><td>-2.095000</td><td>-1.3900200</td><td>-0.400000</td><td> 0.6999902</td><td> 0.290000</td><td> 0.550000</td><td> 0.000000</td></tr>\n",
       "</tbody>\n",
       "</table>\n"
      ],
      "text/latex": [
       "A data.frame: 6 × 6830\n",
       "\\begin{tabular}{r|lllllllllllllllllllll}\n",
       "  & 1 & 2 & 3 & 4 & 5 & 6 & 7 & 8 & 9 & 10 & ⋯ & 6821 & 6822 & 6823 & 6824 & 6825 & 6826 & 6827 & 6828 & 6829 & 6830\\\\\n",
       "  & <dbl> & <dbl> & <dbl> & <dbl> & <dbl> & <dbl> & <dbl> & <dbl> & <dbl> & <dbl> & ⋯ & <dbl> & <dbl> & <dbl> & <dbl> & <dbl> & <dbl> & <dbl> & <dbl> & <dbl> & <dbl>\\\\\n",
       "\\hline\n",
       "\tV1 & 0.300000 &  1.180000 &  0.550000 &  1.140000 & -0.265000 & -7.000000e-02 &  0.350000 & -0.315000 & -0.45000000 & -0.65498050 & ⋯ & -0.9900195 &  0.000000 &  0.030000 & -0.175000 &  0.6299805 & -0.030000 &  0.0000000 &  0.280000 & -0.340000 & -1.930000\\\\\n",
       "\tV2 & 0.679961 &  1.289961 &  0.169961 &  0.379961 &  0.464961 &  5.799610e-01 &  0.699961 &  0.724961 & -0.04003899 & -0.28501950 & ⋯ & -0.2700585 & -0.300039 & -0.250039 & -0.535039 &  0.1099415 & -0.860039 & -1.2500490 & -0.770039 & -0.390039 & -2.000039\\\\\n",
       "\tV3 & 0.940000 & -0.040000 & -0.170000 & -0.040000 & -0.605000 &  0.000000e+00 &  0.090000 &  0.645000 &  0.43000000 &  0.47501950 & ⋯ &  0.3199805 &  0.120000 & -0.740000 & -0.595000 & -0.2700195 & -0.150000 &  0.0000000 & -0.120000 & -0.410000 &  0.000000\\\\\n",
       "\tV4 & 0.280000 & -0.310000 &  0.680000 & -0.810000 &  0.625000 & -1.387779e-17 &  0.170000 &  0.245000 &  0.02000000 &  0.09501949 & ⋯ & -1.2400200 & -0.110000 & -0.160000 &  0.095000 & -0.3500195 & -0.300000 & -1.1500100 &  1.090000 & -0.260000 & -1.100000\\\\\n",
       "\tV5 & 0.485000 & -0.465000 &  0.395000 &  0.905000 &  0.200000 & -5.000000e-03 &  0.085000 &  0.110000 &  0.23500000 &  1.49001949 & ⋯ &  0.5549805 & -0.775000 & -0.515000 & -0.320000 &  0.6349805 &  0.605000 &  0.0000000 &  0.745000 &  0.425000 &  0.145000\\\\\n",
       "\tV6 & 0.310000 & -0.030000 & -0.100000 & -0.460000 & -0.205000 & -5.400000e-01 & -0.640000 & -0.585000 & -0.77000000 & -0.24498050 & ⋯ & -0.5900195 &  0.000000 & -0.740000 & -2.095000 & -1.3900200 & -0.400000 &  0.6999902 &  0.290000 &  0.550000 &  0.000000\\\\\n",
       "\\end{tabular}\n"
      ],
      "text/markdown": [
       "\n",
       "A data.frame: 6 × 6830\n",
       "\n",
       "| <!--/--> | 1 &lt;dbl&gt; | 2 &lt;dbl&gt; | 3 &lt;dbl&gt; | 4 &lt;dbl&gt; | 5 &lt;dbl&gt; | 6 &lt;dbl&gt; | 7 &lt;dbl&gt; | 8 &lt;dbl&gt; | 9 &lt;dbl&gt; | 10 &lt;dbl&gt; | ⋯ ⋯ | 6821 &lt;dbl&gt; | 6822 &lt;dbl&gt; | 6823 &lt;dbl&gt; | 6824 &lt;dbl&gt; | 6825 &lt;dbl&gt; | 6826 &lt;dbl&gt; | 6827 &lt;dbl&gt; | 6828 &lt;dbl&gt; | 6829 &lt;dbl&gt; | 6830 &lt;dbl&gt; |\n",
       "|---|---|---|---|---|---|---|---|---|---|---|---|---|---|---|---|---|---|---|---|---|---|\n",
       "| V1 | 0.300000 |  1.180000 |  0.550000 |  1.140000 | -0.265000 | -7.000000e-02 |  0.350000 | -0.315000 | -0.45000000 | -0.65498050 | ⋯ | -0.9900195 |  0.000000 |  0.030000 | -0.175000 |  0.6299805 | -0.030000 |  0.0000000 |  0.280000 | -0.340000 | -1.930000 |\n",
       "| V2 | 0.679961 |  1.289961 |  0.169961 |  0.379961 |  0.464961 |  5.799610e-01 |  0.699961 |  0.724961 | -0.04003899 | -0.28501950 | ⋯ | -0.2700585 | -0.300039 | -0.250039 | -0.535039 |  0.1099415 | -0.860039 | -1.2500490 | -0.770039 | -0.390039 | -2.000039 |\n",
       "| V3 | 0.940000 | -0.040000 | -0.170000 | -0.040000 | -0.605000 |  0.000000e+00 |  0.090000 |  0.645000 |  0.43000000 |  0.47501950 | ⋯ |  0.3199805 |  0.120000 | -0.740000 | -0.595000 | -0.2700195 | -0.150000 |  0.0000000 | -0.120000 | -0.410000 |  0.000000 |\n",
       "| V4 | 0.280000 | -0.310000 |  0.680000 | -0.810000 |  0.625000 | -1.387779e-17 |  0.170000 |  0.245000 |  0.02000000 |  0.09501949 | ⋯ | -1.2400200 | -0.110000 | -0.160000 |  0.095000 | -0.3500195 | -0.300000 | -1.1500100 |  1.090000 | -0.260000 | -1.100000 |\n",
       "| V5 | 0.485000 | -0.465000 |  0.395000 |  0.905000 |  0.200000 | -5.000000e-03 |  0.085000 |  0.110000 |  0.23500000 |  1.49001949 | ⋯ |  0.5549805 | -0.775000 | -0.515000 | -0.320000 |  0.6349805 |  0.605000 |  0.0000000 |  0.745000 |  0.425000 |  0.145000 |\n",
       "| V6 | 0.310000 | -0.030000 | -0.100000 | -0.460000 | -0.205000 | -5.400000e-01 | -0.640000 | -0.585000 | -0.77000000 | -0.24498050 | ⋯ | -0.5900195 |  0.000000 | -0.740000 | -2.095000 | -1.3900200 | -0.400000 |  0.6999902 |  0.290000 |  0.550000 |  0.000000 |\n",
       "\n"
      ],
      "text/plain": [
       "   1        2         3         4         5         6             7        \n",
       "V1 0.300000  1.180000  0.550000  1.140000 -0.265000 -7.000000e-02  0.350000\n",
       "V2 0.679961  1.289961  0.169961  0.379961  0.464961  5.799610e-01  0.699961\n",
       "V3 0.940000 -0.040000 -0.170000 -0.040000 -0.605000  0.000000e+00  0.090000\n",
       "V4 0.280000 -0.310000  0.680000 -0.810000  0.625000 -1.387779e-17  0.170000\n",
       "V5 0.485000 -0.465000  0.395000  0.905000  0.200000 -5.000000e-03  0.085000\n",
       "V6 0.310000 -0.030000 -0.100000 -0.460000 -0.205000 -5.400000e-01 -0.640000\n",
       "   8         9           10          ⋯ 6821       6822      6823      6824     \n",
       "V1 -0.315000 -0.45000000 -0.65498050 ⋯ -0.9900195  0.000000  0.030000 -0.175000\n",
       "V2  0.724961 -0.04003899 -0.28501950 ⋯ -0.2700585 -0.300039 -0.250039 -0.535039\n",
       "V3  0.645000  0.43000000  0.47501950 ⋯  0.3199805  0.120000 -0.740000 -0.595000\n",
       "V4  0.245000  0.02000000  0.09501949 ⋯ -1.2400200 -0.110000 -0.160000  0.095000\n",
       "V5  0.110000  0.23500000  1.49001949 ⋯  0.5549805 -0.775000 -0.515000 -0.320000\n",
       "V6 -0.585000 -0.77000000 -0.24498050 ⋯ -0.5900195  0.000000 -0.740000 -2.095000\n",
       "   6825       6826      6827       6828      6829      6830     \n",
       "V1  0.6299805 -0.030000  0.0000000  0.280000 -0.340000 -1.930000\n",
       "V2  0.1099415 -0.860039 -1.2500490 -0.770039 -0.390039 -2.000039\n",
       "V3 -0.2700195 -0.150000  0.0000000 -0.120000 -0.410000  0.000000\n",
       "V4 -0.3500195 -0.300000 -1.1500100  1.090000 -0.260000 -1.100000\n",
       "V5  0.6349805  0.605000  0.0000000  0.745000  0.425000  0.145000\n",
       "V6 -1.3900200 -0.400000  0.6999902  0.290000  0.550000  0.000000"
      ]
     },
     "metadata": {},
     "output_type": "display_data"
    }
   ],
   "source": [
    "nci60 = as.data.frame(NCI60$data)\n",
    "head(nci60)"
   ]
  },
  {
   "cell_type": "markdown",
   "id": "6e33e971",
   "metadata": {},
   "source": [
    "There are 14 types of classes within the dataset: **CNS**, **RENAL**, **BREAST**, **NSCLC**, **UNKNOWN**, **OVARIAN**, **MELANOMA**, **PROSTATE**, **LEUKEMIA**, **K562B-repro**, **K562A-repro**, **COLON**, **MCF7A-repro** and **MCF7D-repro**:"
   ]
  },
  {
   "cell_type": "code",
   "execution_count": 4,
   "id": "7cc5ec8b",
   "metadata": {
    "scrolled": true
   },
   "outputs": [
    {
     "data": {
      "text/html": [
       "<style>\n",
       ".list-inline {list-style: none; margin:0; padding: 0}\n",
       ".list-inline>li {display: inline-block}\n",
       ".list-inline>li:not(:last-child)::after {content: \"\\00b7\"; padding: 0 .5ex}\n",
       "</style>\n",
       "<ol class=list-inline><li>'CNS'</li><li>'RENAL'</li><li>'BREAST'</li><li>'NSCLC'</li><li>'UNKNOWN'</li><li>'OVARIAN'</li><li>'MELANOMA'</li><li>'PROSTATE'</li><li>'LEUKEMIA'</li><li>'K562B-repro'</li><li>'K562A-repro'</li><li>'COLON'</li><li>'MCF7A-repro'</li><li>'MCF7D-repro'</li></ol>\n"
      ],
      "text/latex": [
       "\\begin{enumerate*}\n",
       "\\item 'CNS'\n",
       "\\item 'RENAL'\n",
       "\\item 'BREAST'\n",
       "\\item 'NSCLC'\n",
       "\\item 'UNKNOWN'\n",
       "\\item 'OVARIAN'\n",
       "\\item 'MELANOMA'\n",
       "\\item 'PROSTATE'\n",
       "\\item 'LEUKEMIA'\n",
       "\\item 'K562B-repro'\n",
       "\\item 'K562A-repro'\n",
       "\\item 'COLON'\n",
       "\\item 'MCF7A-repro'\n",
       "\\item 'MCF7D-repro'\n",
       "\\end{enumerate*}\n"
      ],
      "text/markdown": [
       "1. 'CNS'\n",
       "2. 'RENAL'\n",
       "3. 'BREAST'\n",
       "4. 'NSCLC'\n",
       "5. 'UNKNOWN'\n",
       "6. 'OVARIAN'\n",
       "7. 'MELANOMA'\n",
       "8. 'PROSTATE'\n",
       "9. 'LEUKEMIA'\n",
       "10. 'K562B-repro'\n",
       "11. 'K562A-repro'\n",
       "12. 'COLON'\n",
       "13. 'MCF7A-repro'\n",
       "14. 'MCF7D-repro'\n",
       "\n",
       "\n"
      ],
      "text/plain": [
       " [1] \"CNS\"         \"RENAL\"       \"BREAST\"      \"NSCLC\"       \"UNKNOWN\"    \n",
       " [6] \"OVARIAN\"     \"MELANOMA\"    \"PROSTATE\"    \"LEUKEMIA\"    \"K562B-repro\"\n",
       "[11] \"K562A-repro\" \"COLON\"       \"MCF7A-repro\" \"MCF7D-repro\""
      ]
     },
     "metadata": {},
     "output_type": "display_data"
    }
   ],
   "source": [
    "as.vector(unlist(unique(NCI60$labs)))"
   ]
  },
  {
   "cell_type": "markdown",
   "id": "9e8097f3",
   "metadata": {},
   "source": [
    "Here, we prepare the NCI60 dataset for the analysis:\n",
    "\n",
    "- We add a column named `Description` containing the class (category) of each row\n",
    "- Due to their small class size, we remove the two prostate cell lines and the unknown cell line, \"PROSTATE\" and \"UNKNOWN\" entires respectively."
   ]
  },
  {
   "cell_type": "code",
   "execution_count": 5,
   "id": "ee296298",
   "metadata": {},
   "outputs": [],
   "source": [
    "nci60[\"Description\"] = rownames(nci60)\n",
    "nci60 = nci60[ , c(\"Description\", names(nci60)[names(nci60) != \"Description\"])]\n",
    "nci60[\"Description\"] = NCI60$labs\n",
    "nci60 = nci60[!grepl(\"UNKNOWN\", nci60$Description),] # Remove UNKNOWN\n",
    "nci60 = nci60[!grepl(\"PROSTATE\", nci60$Description),] # Remove PROSTATE"
   ]
  },
  {
   "cell_type": "code",
   "execution_count": 6,
   "id": "e17ae48f-b63b-4d60-b532-5cec96971c55",
   "metadata": {},
   "outputs": [
    {
     "data": {
      "text/html": [
       "<table class=\"dataframe\">\n",
       "<caption>A data.frame: 6 × 6831</caption>\n",
       "<thead>\n",
       "\t<tr><th></th><th scope=col>Description</th><th scope=col>1</th><th scope=col>2</th><th scope=col>3</th><th scope=col>4</th><th scope=col>5</th><th scope=col>6</th><th scope=col>7</th><th scope=col>8</th><th scope=col>9</th><th scope=col>⋯</th><th scope=col>6821</th><th scope=col>6822</th><th scope=col>6823</th><th scope=col>6824</th><th scope=col>6825</th><th scope=col>6826</th><th scope=col>6827</th><th scope=col>6828</th><th scope=col>6829</th><th scope=col>6830</th></tr>\n",
       "\t<tr><th></th><th scope=col>&lt;chr&gt;</th><th scope=col>&lt;dbl&gt;</th><th scope=col>&lt;dbl&gt;</th><th scope=col>&lt;dbl&gt;</th><th scope=col>&lt;dbl&gt;</th><th scope=col>&lt;dbl&gt;</th><th scope=col>&lt;dbl&gt;</th><th scope=col>&lt;dbl&gt;</th><th scope=col>&lt;dbl&gt;</th><th scope=col>&lt;dbl&gt;</th><th scope=col>⋯</th><th scope=col>&lt;dbl&gt;</th><th scope=col>&lt;dbl&gt;</th><th scope=col>&lt;dbl&gt;</th><th scope=col>&lt;dbl&gt;</th><th scope=col>&lt;dbl&gt;</th><th scope=col>&lt;dbl&gt;</th><th scope=col>&lt;dbl&gt;</th><th scope=col>&lt;dbl&gt;</th><th scope=col>&lt;dbl&gt;</th><th scope=col>&lt;dbl&gt;</th></tr>\n",
       "</thead>\n",
       "<tbody>\n",
       "\t<tr><th scope=row>V1</th><td>CNS   </td><td>0.300000</td><td> 1.180000</td><td> 0.550000</td><td> 1.140000</td><td>-0.265000</td><td>-7.000000e-02</td><td> 0.350000</td><td>-0.315000</td><td>-0.45000000</td><td>⋯</td><td>-0.9900195</td><td> 0.000000</td><td> 0.030000</td><td>-0.175000</td><td> 0.6299805</td><td>-0.030000</td><td> 0.0000000</td><td> 0.280000</td><td>-0.340000</td><td>-1.930000</td></tr>\n",
       "\t<tr><th scope=row>V2</th><td>CNS   </td><td>0.679961</td><td> 1.289961</td><td> 0.169961</td><td> 0.379961</td><td> 0.464961</td><td> 5.799610e-01</td><td> 0.699961</td><td> 0.724961</td><td>-0.04003899</td><td>⋯</td><td>-0.2700585</td><td>-0.300039</td><td>-0.250039</td><td>-0.535039</td><td> 0.1099415</td><td>-0.860039</td><td>-1.2500490</td><td>-0.770039</td><td>-0.390039</td><td>-2.000039</td></tr>\n",
       "\t<tr><th scope=row>V3</th><td>CNS   </td><td>0.940000</td><td>-0.040000</td><td>-0.170000</td><td>-0.040000</td><td>-0.605000</td><td> 0.000000e+00</td><td> 0.090000</td><td> 0.645000</td><td> 0.43000000</td><td>⋯</td><td> 0.3199805</td><td> 0.120000</td><td>-0.740000</td><td>-0.595000</td><td>-0.2700195</td><td>-0.150000</td><td> 0.0000000</td><td>-0.120000</td><td>-0.410000</td><td> 0.000000</td></tr>\n",
       "\t<tr><th scope=row>V4</th><td>RENAL </td><td>0.280000</td><td>-0.310000</td><td> 0.680000</td><td>-0.810000</td><td> 0.625000</td><td>-1.387779e-17</td><td> 0.170000</td><td> 0.245000</td><td> 0.02000000</td><td>⋯</td><td>-1.2400200</td><td>-0.110000</td><td>-0.160000</td><td> 0.095000</td><td>-0.3500195</td><td>-0.300000</td><td>-1.1500100</td><td> 1.090000</td><td>-0.260000</td><td>-1.100000</td></tr>\n",
       "\t<tr><th scope=row>V5</th><td>BREAST</td><td>0.485000</td><td>-0.465000</td><td> 0.395000</td><td> 0.905000</td><td> 0.200000</td><td>-5.000000e-03</td><td> 0.085000</td><td> 0.110000</td><td> 0.23500000</td><td>⋯</td><td> 0.5549805</td><td>-0.775000</td><td>-0.515000</td><td>-0.320000</td><td> 0.6349805</td><td> 0.605000</td><td> 0.0000000</td><td> 0.745000</td><td> 0.425000</td><td> 0.145000</td></tr>\n",
       "\t<tr><th scope=row>V6</th><td>CNS   </td><td>0.310000</td><td>-0.030000</td><td>-0.100000</td><td>-0.460000</td><td>-0.205000</td><td>-5.400000e-01</td><td>-0.640000</td><td>-0.585000</td><td>-0.77000000</td><td>⋯</td><td>-0.5900195</td><td> 0.000000</td><td>-0.740000</td><td>-2.095000</td><td>-1.3900200</td><td>-0.400000</td><td> 0.6999902</td><td> 0.290000</td><td> 0.550000</td><td> 0.000000</td></tr>\n",
       "</tbody>\n",
       "</table>\n"
      ],
      "text/latex": [
       "A data.frame: 6 × 6831\n",
       "\\begin{tabular}{r|lllllllllllllllllllll}\n",
       "  & Description & 1 & 2 & 3 & 4 & 5 & 6 & 7 & 8 & 9 & ⋯ & 6821 & 6822 & 6823 & 6824 & 6825 & 6826 & 6827 & 6828 & 6829 & 6830\\\\\n",
       "  & <chr> & <dbl> & <dbl> & <dbl> & <dbl> & <dbl> & <dbl> & <dbl> & <dbl> & <dbl> & ⋯ & <dbl> & <dbl> & <dbl> & <dbl> & <dbl> & <dbl> & <dbl> & <dbl> & <dbl> & <dbl>\\\\\n",
       "\\hline\n",
       "\tV1 & CNS    & 0.300000 &  1.180000 &  0.550000 &  1.140000 & -0.265000 & -7.000000e-02 &  0.350000 & -0.315000 & -0.45000000 & ⋯ & -0.9900195 &  0.000000 &  0.030000 & -0.175000 &  0.6299805 & -0.030000 &  0.0000000 &  0.280000 & -0.340000 & -1.930000\\\\\n",
       "\tV2 & CNS    & 0.679961 &  1.289961 &  0.169961 &  0.379961 &  0.464961 &  5.799610e-01 &  0.699961 &  0.724961 & -0.04003899 & ⋯ & -0.2700585 & -0.300039 & -0.250039 & -0.535039 &  0.1099415 & -0.860039 & -1.2500490 & -0.770039 & -0.390039 & -2.000039\\\\\n",
       "\tV3 & CNS    & 0.940000 & -0.040000 & -0.170000 & -0.040000 & -0.605000 &  0.000000e+00 &  0.090000 &  0.645000 &  0.43000000 & ⋯ &  0.3199805 &  0.120000 & -0.740000 & -0.595000 & -0.2700195 & -0.150000 &  0.0000000 & -0.120000 & -0.410000 &  0.000000\\\\\n",
       "\tV4 & RENAL  & 0.280000 & -0.310000 &  0.680000 & -0.810000 &  0.625000 & -1.387779e-17 &  0.170000 &  0.245000 &  0.02000000 & ⋯ & -1.2400200 & -0.110000 & -0.160000 &  0.095000 & -0.3500195 & -0.300000 & -1.1500100 &  1.090000 & -0.260000 & -1.100000\\\\\n",
       "\tV5 & BREAST & 0.485000 & -0.465000 &  0.395000 &  0.905000 &  0.200000 & -5.000000e-03 &  0.085000 &  0.110000 &  0.23500000 & ⋯ &  0.5549805 & -0.775000 & -0.515000 & -0.320000 &  0.6349805 &  0.605000 &  0.0000000 &  0.745000 &  0.425000 &  0.145000\\\\\n",
       "\tV6 & CNS    & 0.310000 & -0.030000 & -0.100000 & -0.460000 & -0.205000 & -5.400000e-01 & -0.640000 & -0.585000 & -0.77000000 & ⋯ & -0.5900195 &  0.000000 & -0.740000 & -2.095000 & -1.3900200 & -0.400000 &  0.6999902 &  0.290000 &  0.550000 &  0.000000\\\\\n",
       "\\end{tabular}\n"
      ],
      "text/markdown": [
       "\n",
       "A data.frame: 6 × 6831\n",
       "\n",
       "| <!--/--> | Description &lt;chr&gt; | 1 &lt;dbl&gt; | 2 &lt;dbl&gt; | 3 &lt;dbl&gt; | 4 &lt;dbl&gt; | 5 &lt;dbl&gt; | 6 &lt;dbl&gt; | 7 &lt;dbl&gt; | 8 &lt;dbl&gt; | 9 &lt;dbl&gt; | ⋯ ⋯ | 6821 &lt;dbl&gt; | 6822 &lt;dbl&gt; | 6823 &lt;dbl&gt; | 6824 &lt;dbl&gt; | 6825 &lt;dbl&gt; | 6826 &lt;dbl&gt; | 6827 &lt;dbl&gt; | 6828 &lt;dbl&gt; | 6829 &lt;dbl&gt; | 6830 &lt;dbl&gt; |\n",
       "|---|---|---|---|---|---|---|---|---|---|---|---|---|---|---|---|---|---|---|---|---|---|\n",
       "| V1 | CNS    | 0.300000 |  1.180000 |  0.550000 |  1.140000 | -0.265000 | -7.000000e-02 |  0.350000 | -0.315000 | -0.45000000 | ⋯ | -0.9900195 |  0.000000 |  0.030000 | -0.175000 |  0.6299805 | -0.030000 |  0.0000000 |  0.280000 | -0.340000 | -1.930000 |\n",
       "| V2 | CNS    | 0.679961 |  1.289961 |  0.169961 |  0.379961 |  0.464961 |  5.799610e-01 |  0.699961 |  0.724961 | -0.04003899 | ⋯ | -0.2700585 | -0.300039 | -0.250039 | -0.535039 |  0.1099415 | -0.860039 | -1.2500490 | -0.770039 | -0.390039 | -2.000039 |\n",
       "| V3 | CNS    | 0.940000 | -0.040000 | -0.170000 | -0.040000 | -0.605000 |  0.000000e+00 |  0.090000 |  0.645000 |  0.43000000 | ⋯ |  0.3199805 |  0.120000 | -0.740000 | -0.595000 | -0.2700195 | -0.150000 |  0.0000000 | -0.120000 | -0.410000 |  0.000000 |\n",
       "| V4 | RENAL  | 0.280000 | -0.310000 |  0.680000 | -0.810000 |  0.625000 | -1.387779e-17 |  0.170000 |  0.245000 |  0.02000000 | ⋯ | -1.2400200 | -0.110000 | -0.160000 |  0.095000 | -0.3500195 | -0.300000 | -1.1500100 |  1.090000 | -0.260000 | -1.100000 |\n",
       "| V5 | BREAST | 0.485000 | -0.465000 |  0.395000 |  0.905000 |  0.200000 | -5.000000e-03 |  0.085000 |  0.110000 |  0.23500000 | ⋯ |  0.5549805 | -0.775000 | -0.515000 | -0.320000 |  0.6349805 |  0.605000 |  0.0000000 |  0.745000 |  0.425000 |  0.145000 |\n",
       "| V6 | CNS    | 0.310000 | -0.030000 | -0.100000 | -0.460000 | -0.205000 | -5.400000e-01 | -0.640000 | -0.585000 | -0.77000000 | ⋯ | -0.5900195 |  0.000000 | -0.740000 | -2.095000 | -1.3900200 | -0.400000 |  0.6999902 |  0.290000 |  0.550000 |  0.000000 |\n",
       "\n"
      ],
      "text/plain": [
       "   Description 1        2         3         4         5         6            \n",
       "V1 CNS         0.300000  1.180000  0.550000  1.140000 -0.265000 -7.000000e-02\n",
       "V2 CNS         0.679961  1.289961  0.169961  0.379961  0.464961  5.799610e-01\n",
       "V3 CNS         0.940000 -0.040000 -0.170000 -0.040000 -0.605000  0.000000e+00\n",
       "V4 RENAL       0.280000 -0.310000  0.680000 -0.810000  0.625000 -1.387779e-17\n",
       "V5 BREAST      0.485000 -0.465000  0.395000  0.905000  0.200000 -5.000000e-03\n",
       "V6 CNS         0.310000 -0.030000 -0.100000 -0.460000 -0.205000 -5.400000e-01\n",
       "   7         8         9           ⋯ 6821       6822      6823      6824     \n",
       "V1  0.350000 -0.315000 -0.45000000 ⋯ -0.9900195  0.000000  0.030000 -0.175000\n",
       "V2  0.699961  0.724961 -0.04003899 ⋯ -0.2700585 -0.300039 -0.250039 -0.535039\n",
       "V3  0.090000  0.645000  0.43000000 ⋯  0.3199805  0.120000 -0.740000 -0.595000\n",
       "V4  0.170000  0.245000  0.02000000 ⋯ -1.2400200 -0.110000 -0.160000  0.095000\n",
       "V5  0.085000  0.110000  0.23500000 ⋯  0.5549805 -0.775000 -0.515000 -0.320000\n",
       "V6 -0.640000 -0.585000 -0.77000000 ⋯ -0.5900195  0.000000 -0.740000 -2.095000\n",
       "   6825       6826      6827       6828      6829      6830     \n",
       "V1  0.6299805 -0.030000  0.0000000  0.280000 -0.340000 -1.930000\n",
       "V2  0.1099415 -0.860039 -1.2500490 -0.770039 -0.390039 -2.000039\n",
       "V3 -0.2700195 -0.150000  0.0000000 -0.120000 -0.410000  0.000000\n",
       "V4 -0.3500195 -0.300000 -1.1500100  1.090000 -0.260000 -1.100000\n",
       "V5  0.6349805  0.605000  0.0000000  0.745000  0.425000  0.145000\n",
       "V6 -1.3900200 -0.400000  0.6999902  0.290000  0.550000  0.000000"
      ]
     },
     "metadata": {},
     "output_type": "display_data"
    }
   ],
   "source": [
    "head(nci60)"
   ]
  },
  {
   "cell_type": "markdown",
   "id": "173207a5",
   "metadata": {},
   "source": [
    "## Top 200 <a class=\"anchor\" id=\"top\"></a>"
   ]
  },
  {
   "cell_type": "markdown",
   "id": "6c138f75",
   "metadata": {},
   "source": [
    "We now filter the metrics for including only the top 200 with the greatest variance, as these metrics have the most significant impact on clustering."
   ]
  },
  {
   "cell_type": "code",
   "execution_count": 7,
   "id": "a60b800d",
   "metadata": {},
   "outputs": [],
   "source": [
    "variance = sort(sapply(nci60[-1], var), decreasing = TRUE)  # Sorted gene variance\n",
    "nci60_var = as.data.frame(variance)\n",
    "nci60_var[\"Description\"] = rownames(nci60_var)"
   ]
  },
  {
   "cell_type": "code",
   "execution_count": 8,
   "id": "89a5ce6f",
   "metadata": {},
   "outputs": [
    {
     "data": {
      "text/html": [
       "<table class=\"dataframe\">\n",
       "<caption>A data.frame: 6 × 2</caption>\n",
       "<thead>\n",
       "\t<tr><th></th><th scope=col>variance</th><th scope=col>Description</th></tr>\n",
       "\t<tr><th></th><th scope=col>&lt;dbl&gt;</th><th scope=col>&lt;chr&gt;</th></tr>\n",
       "</thead>\n",
       "<tbody>\n",
       "\t<tr><th scope=row>4701</th><td>11.942075</td><td>4701</td></tr>\n",
       "\t<tr><th scope=row>4700</th><td>11.429800</td><td>4700</td></tr>\n",
       "\t<tr><th scope=row>256</th><td> 7.978482</td><td>256 </td></tr>\n",
       "\t<tr><th scope=row>16</th><td> 7.715338</td><td>16  </td></tr>\n",
       "\t<tr><th scope=row>4699</th><td> 7.711871</td><td>4699</td></tr>\n",
       "\t<tr><th scope=row>6393</th><td> 7.659845</td><td>6393</td></tr>\n",
       "</tbody>\n",
       "</table>\n"
      ],
      "text/latex": [
       "A data.frame: 6 × 2\n",
       "\\begin{tabular}{r|ll}\n",
       "  & variance & Description\\\\\n",
       "  & <dbl> & <chr>\\\\\n",
       "\\hline\n",
       "\t4701 & 11.942075 & 4701\\\\\n",
       "\t4700 & 11.429800 & 4700\\\\\n",
       "\t256 &  7.978482 & 256 \\\\\n",
       "\t16 &  7.715338 & 16  \\\\\n",
       "\t4699 &  7.711871 & 4699\\\\\n",
       "\t6393 &  7.659845 & 6393\\\\\n",
       "\\end{tabular}\n"
      ],
      "text/markdown": [
       "\n",
       "A data.frame: 6 × 2\n",
       "\n",
       "| <!--/--> | variance &lt;dbl&gt; | Description &lt;chr&gt; |\n",
       "|---|---|---|\n",
       "| 4701 | 11.942075 | 4701 |\n",
       "| 4700 | 11.429800 | 4700 |\n",
       "| 256 |  7.978482 | 256  |\n",
       "| 16 |  7.715338 | 16   |\n",
       "| 4699 |  7.711871 | 4699 |\n",
       "| 6393 |  7.659845 | 6393 |\n",
       "\n"
      ],
      "text/plain": [
       "     variance  Description\n",
       "4701 11.942075 4701       \n",
       "4700 11.429800 4700       \n",
       "256   7.978482 256        \n",
       "16    7.715338 16         \n",
       "4699  7.711871 4699       \n",
       "6393  7.659845 6393       "
      ]
     },
     "metadata": {},
     "output_type": "display_data"
    }
   ],
   "source": [
    "top_number = 200\n",
    "top_rows = nci60_var[c(1:top_number), ]\n",
    "head(top_rows)"
   ]
  },
  {
   "cell_type": "code",
   "execution_count": 9,
   "id": "7a0d743b",
   "metadata": {},
   "outputs": [],
   "source": [
    "row_list = as.list(top_rows[\"Description\"])\n",
    "top_row_list = unlist(setdiff(row_list, names(nci60)))\n",
    "top_nci60 = nci60[, top_row_list]\n",
    "top_nci60[\"Description\"] = nci60[rownames(top_nci60) %in% rownames(nci60), \"Description\"]\n",
    "top_nci60 = top_nci60[ , c(\"Description\", names(top_nci60)[names(top_nci60) != \"Description\"])] "
   ]
  },
  {
   "cell_type": "markdown",
   "id": "4a3d9dcd",
   "metadata": {},
   "source": [
    "The dataframe `top_nci60` contains 200 genes (metrics) which provides the most variance."
   ]
  },
  {
   "cell_type": "code",
   "execution_count": 10,
   "id": "165ac242",
   "metadata": {},
   "outputs": [
    {
     "data": {
      "text/html": [
       "<table class=\"dataframe\">\n",
       "<caption>A data.frame: 6 × 201</caption>\n",
       "<thead>\n",
       "\t<tr><th></th><th scope=col>Description</th><th scope=col>4701</th><th scope=col>4700</th><th scope=col>256</th><th scope=col>16</th><th scope=col>4699</th><th scope=col>6393</th><th scope=col>6149</th><th scope=col>286</th><th scope=col>6415</th><th scope=col>⋯</th><th scope=col>5721</th><th scope=col>6622</th><th scope=col>5336</th><th scope=col>1067</th><th scope=col>6288</th><th scope=col>5872</th><th scope=col>5489</th><th scope=col>78</th><th scope=col>127</th><th scope=col>3383</th></tr>\n",
       "\t<tr><th></th><th scope=col>&lt;chr&gt;</th><th scope=col>&lt;dbl&gt;</th><th scope=col>&lt;dbl&gt;</th><th scope=col>&lt;dbl&gt;</th><th scope=col>&lt;dbl&gt;</th><th scope=col>&lt;dbl&gt;</th><th scope=col>&lt;dbl&gt;</th><th scope=col>&lt;dbl&gt;</th><th scope=col>&lt;dbl&gt;</th><th scope=col>&lt;dbl&gt;</th><th scope=col>⋯</th><th scope=col>&lt;dbl&gt;</th><th scope=col>&lt;dbl&gt;</th><th scope=col>&lt;dbl&gt;</th><th scope=col>&lt;dbl&gt;</th><th scope=col>&lt;dbl&gt;</th><th scope=col>&lt;dbl&gt;</th><th scope=col>&lt;dbl&gt;</th><th scope=col>&lt;dbl&gt;</th><th scope=col>&lt;dbl&gt;</th><th scope=col>&lt;dbl&gt;</th></tr>\n",
       "</thead>\n",
       "<tbody>\n",
       "\t<tr><th scope=row>V1</th><td>CNS   </td><td> 5.770000</td><td> 5.820000</td><td>-1.910000</td><td>-2.37</td><td> 4.760000</td><td> 5.4799900</td><td> 0.000000</td><td> 0.610000</td><td> 5.230000</td><td>⋯</td><td>2.790000</td><td> 1.210000</td><td>-0.890000</td><td>-1.055010</td><td>-2.1850100</td><td>0.045000</td><td> 1.990000</td><td> 2.360000</td><td>-1.305000</td><td>-0.5400195</td></tr>\n",
       "\t<tr><th scope=row>V2</th><td>CNS   </td><td> 5.039961</td><td> 5.069961</td><td>-1.980039</td><td> 0.00</td><td> 4.779961</td><td> 5.7299510</td><td>-0.480039</td><td>-3.980039</td><td> 5.329961</td><td>⋯</td><td>1.629961</td><td> 1.599961</td><td>-1.060039</td><td>-1.055049</td><td>-3.4050490</td><td>0.874961</td><td> 2.609961</td><td> 0.869961</td><td>-0.375039</td><td> 0.4799415</td></tr>\n",
       "\t<tr><th scope=row>V3</th><td>CNS   </td><td>-1.440000</td><td>-1.030000</td><td>-0.580000</td><td> 0.00</td><td> 0.000000</td><td> 4.6299900</td><td> 2.060000</td><td>-1.580000</td><td> 0.000000</td><td>⋯</td><td>1.920000</td><td>-0.260000</td><td> 0.000000</td><td> 1.294990</td><td>-0.6850098</td><td>1.445000</td><td> 0.200000</td><td> 1.990000</td><td> 0.705000</td><td> 0.3199805</td></tr>\n",
       "\t<tr><th scope=row>V4</th><td>RENAL </td><td>-2.420000</td><td>-2.420000</td><td>-1.880000</td><td>-1.02</td><td>-2.590000</td><td> 1.2999900</td><td> 5.190000</td><td>-4.880000</td><td> 7.020000</td><td>⋯</td><td>3.200000</td><td> 1.110000</td><td> 1.060000</td><td> 1.414990</td><td>-4.4750100</td><td>2.365000</td><td> 1.080000</td><td> 3.600000</td><td>-0.685000</td><td> 0.1399805</td></tr>\n",
       "\t<tr><th scope=row>V5</th><td>BREAST</td><td>-2.955000</td><td>-2.955000</td><td>-1.235000</td><td> 0.00</td><td>-2.535000</td><td>-1.0550098</td><td> 7.425000</td><td>-3.235000</td><td> 4.395000</td><td>⋯</td><td>2.865000</td><td> 1.245000</td><td> 0.000000</td><td>-1.480010</td><td>-3.8300098</td><td>3.320000</td><td>-1.155000</td><td>-1.385000</td><td>-1.220000</td><td> 0.4449805</td></tr>\n",
       "\t<tr><th scope=row>V6</th><td>CNS   </td><td> 0.000000</td><td>-3.180000</td><td>-3.050000</td><td>-0.05</td><td>-1.170000</td><td> 0.5899902</td><td> 4.230000</td><td>-5.050000</td><td>-0.220000</td><td>⋯</td><td>2.860000</td><td> 1.360000</td><td> 0.000000</td><td>-1.425010</td><td>-2.2550100</td><td>1.615000</td><td>-0.970000</td><td> 1.370000</td><td>-2.445000</td><td>-1.5400200</td></tr>\n",
       "</tbody>\n",
       "</table>\n"
      ],
      "text/latex": [
       "A data.frame: 6 × 201\n",
       "\\begin{tabular}{r|lllllllllllllllllllll}\n",
       "  & Description & 4701 & 4700 & 256 & 16 & 4699 & 6393 & 6149 & 286 & 6415 & ⋯ & 5721 & 6622 & 5336 & 1067 & 6288 & 5872 & 5489 & 78 & 127 & 3383\\\\\n",
       "  & <chr> & <dbl> & <dbl> & <dbl> & <dbl> & <dbl> & <dbl> & <dbl> & <dbl> & <dbl> & ⋯ & <dbl> & <dbl> & <dbl> & <dbl> & <dbl> & <dbl> & <dbl> & <dbl> & <dbl> & <dbl>\\\\\n",
       "\\hline\n",
       "\tV1 & CNS    &  5.770000 &  5.820000 & -1.910000 & -2.37 &  4.760000 &  5.4799900 &  0.000000 &  0.610000 &  5.230000 & ⋯ & 2.790000 &  1.210000 & -0.890000 & -1.055010 & -2.1850100 & 0.045000 &  1.990000 &  2.360000 & -1.305000 & -0.5400195\\\\\n",
       "\tV2 & CNS    &  5.039961 &  5.069961 & -1.980039 &  0.00 &  4.779961 &  5.7299510 & -0.480039 & -3.980039 &  5.329961 & ⋯ & 1.629961 &  1.599961 & -1.060039 & -1.055049 & -3.4050490 & 0.874961 &  2.609961 &  0.869961 & -0.375039 &  0.4799415\\\\\n",
       "\tV3 & CNS    & -1.440000 & -1.030000 & -0.580000 &  0.00 &  0.000000 &  4.6299900 &  2.060000 & -1.580000 &  0.000000 & ⋯ & 1.920000 & -0.260000 &  0.000000 &  1.294990 & -0.6850098 & 1.445000 &  0.200000 &  1.990000 &  0.705000 &  0.3199805\\\\\n",
       "\tV4 & RENAL  & -2.420000 & -2.420000 & -1.880000 & -1.02 & -2.590000 &  1.2999900 &  5.190000 & -4.880000 &  7.020000 & ⋯ & 3.200000 &  1.110000 &  1.060000 &  1.414990 & -4.4750100 & 2.365000 &  1.080000 &  3.600000 & -0.685000 &  0.1399805\\\\\n",
       "\tV5 & BREAST & -2.955000 & -2.955000 & -1.235000 &  0.00 & -2.535000 & -1.0550098 &  7.425000 & -3.235000 &  4.395000 & ⋯ & 2.865000 &  1.245000 &  0.000000 & -1.480010 & -3.8300098 & 3.320000 & -1.155000 & -1.385000 & -1.220000 &  0.4449805\\\\\n",
       "\tV6 & CNS    &  0.000000 & -3.180000 & -3.050000 & -0.05 & -1.170000 &  0.5899902 &  4.230000 & -5.050000 & -0.220000 & ⋯ & 2.860000 &  1.360000 &  0.000000 & -1.425010 & -2.2550100 & 1.615000 & -0.970000 &  1.370000 & -2.445000 & -1.5400200\\\\\n",
       "\\end{tabular}\n"
      ],
      "text/markdown": [
       "\n",
       "A data.frame: 6 × 201\n",
       "\n",
       "| <!--/--> | Description &lt;chr&gt; | 4701 &lt;dbl&gt; | 4700 &lt;dbl&gt; | 256 &lt;dbl&gt; | 16 &lt;dbl&gt; | 4699 &lt;dbl&gt; | 6393 &lt;dbl&gt; | 6149 &lt;dbl&gt; | 286 &lt;dbl&gt; | 6415 &lt;dbl&gt; | ⋯ ⋯ | 5721 &lt;dbl&gt; | 6622 &lt;dbl&gt; | 5336 &lt;dbl&gt; | 1067 &lt;dbl&gt; | 6288 &lt;dbl&gt; | 5872 &lt;dbl&gt; | 5489 &lt;dbl&gt; | 78 &lt;dbl&gt; | 127 &lt;dbl&gt; | 3383 &lt;dbl&gt; |\n",
       "|---|---|---|---|---|---|---|---|---|---|---|---|---|---|---|---|---|---|---|---|---|---|\n",
       "| V1 | CNS    |  5.770000 |  5.820000 | -1.910000 | -2.37 |  4.760000 |  5.4799900 |  0.000000 |  0.610000 |  5.230000 | ⋯ | 2.790000 |  1.210000 | -0.890000 | -1.055010 | -2.1850100 | 0.045000 |  1.990000 |  2.360000 | -1.305000 | -0.5400195 |\n",
       "| V2 | CNS    |  5.039961 |  5.069961 | -1.980039 |  0.00 |  4.779961 |  5.7299510 | -0.480039 | -3.980039 |  5.329961 | ⋯ | 1.629961 |  1.599961 | -1.060039 | -1.055049 | -3.4050490 | 0.874961 |  2.609961 |  0.869961 | -0.375039 |  0.4799415 |\n",
       "| V3 | CNS    | -1.440000 | -1.030000 | -0.580000 |  0.00 |  0.000000 |  4.6299900 |  2.060000 | -1.580000 |  0.000000 | ⋯ | 1.920000 | -0.260000 |  0.000000 |  1.294990 | -0.6850098 | 1.445000 |  0.200000 |  1.990000 |  0.705000 |  0.3199805 |\n",
       "| V4 | RENAL  | -2.420000 | -2.420000 | -1.880000 | -1.02 | -2.590000 |  1.2999900 |  5.190000 | -4.880000 |  7.020000 | ⋯ | 3.200000 |  1.110000 |  1.060000 |  1.414990 | -4.4750100 | 2.365000 |  1.080000 |  3.600000 | -0.685000 |  0.1399805 |\n",
       "| V5 | BREAST | -2.955000 | -2.955000 | -1.235000 |  0.00 | -2.535000 | -1.0550098 |  7.425000 | -3.235000 |  4.395000 | ⋯ | 2.865000 |  1.245000 |  0.000000 | -1.480010 | -3.8300098 | 3.320000 | -1.155000 | -1.385000 | -1.220000 |  0.4449805 |\n",
       "| V6 | CNS    |  0.000000 | -3.180000 | -3.050000 | -0.05 | -1.170000 |  0.5899902 |  4.230000 | -5.050000 | -0.220000 | ⋯ | 2.860000 |  1.360000 |  0.000000 | -1.425010 | -2.2550100 | 1.615000 | -0.970000 |  1.370000 | -2.445000 | -1.5400200 |\n",
       "\n"
      ],
      "text/plain": [
       "   Description 4701      4700      256       16    4699      6393      \n",
       "V1 CNS          5.770000  5.820000 -1.910000 -2.37  4.760000  5.4799900\n",
       "V2 CNS          5.039961  5.069961 -1.980039  0.00  4.779961  5.7299510\n",
       "V3 CNS         -1.440000 -1.030000 -0.580000  0.00  0.000000  4.6299900\n",
       "V4 RENAL       -2.420000 -2.420000 -1.880000 -1.02 -2.590000  1.2999900\n",
       "V5 BREAST      -2.955000 -2.955000 -1.235000  0.00 -2.535000 -1.0550098\n",
       "V6 CNS          0.000000 -3.180000 -3.050000 -0.05 -1.170000  0.5899902\n",
       "   6149      286       6415      ⋯ 5721     6622      5336      1067     \n",
       "V1  0.000000  0.610000  5.230000 ⋯ 2.790000  1.210000 -0.890000 -1.055010\n",
       "V2 -0.480039 -3.980039  5.329961 ⋯ 1.629961  1.599961 -1.060039 -1.055049\n",
       "V3  2.060000 -1.580000  0.000000 ⋯ 1.920000 -0.260000  0.000000  1.294990\n",
       "V4  5.190000 -4.880000  7.020000 ⋯ 3.200000  1.110000  1.060000  1.414990\n",
       "V5  7.425000 -3.235000  4.395000 ⋯ 2.865000  1.245000  0.000000 -1.480010\n",
       "V6  4.230000 -5.050000 -0.220000 ⋯ 2.860000  1.360000  0.000000 -1.425010\n",
       "   6288       5872     5489      78        127       3383      \n",
       "V1 -2.1850100 0.045000  1.990000  2.360000 -1.305000 -0.5400195\n",
       "V2 -3.4050490 0.874961  2.609961  0.869961 -0.375039  0.4799415\n",
       "V3 -0.6850098 1.445000  0.200000  1.990000  0.705000  0.3199805\n",
       "V4 -4.4750100 2.365000  1.080000  3.600000 -0.685000  0.1399805\n",
       "V5 -3.8300098 3.320000 -1.155000 -1.385000 -1.220000  0.4449805\n",
       "V6 -2.2550100 1.615000 -0.970000  1.370000 -2.445000 -1.5400200"
      ]
     },
     "metadata": {},
     "output_type": "display_data"
    }
   ],
   "source": [
    "head(top_nci60)"
   ]
  },
  {
   "cell_type": "code",
   "execution_count": 11,
   "id": "c8d56f13-e7a3-4afc-91c6-c81014f65e12",
   "metadata": {},
   "outputs": [
    {
     "data": {
      "text/html": [
       "<style>\n",
       ".list-inline {list-style: none; margin:0; padding: 0}\n",
       ".list-inline>li {display: inline-block}\n",
       ".list-inline>li:not(:last-child)::after {content: \"\\00b7\"; padding: 0 .5ex}\n",
       "</style>\n",
       "<ol class=list-inline><li>'CNS'</li><li>'RENAL'</li><li>'BREAST'</li><li>'NSCLC'</li><li>'OVARIAN'</li><li>'MELANOMA'</li><li>'LEUKEMIA'</li><li>'K562B-repro'</li><li>'K562A-repro'</li><li>'COLON'</li><li>'MCF7A-repro'</li><li>'MCF7D-repro'</li></ol>\n"
      ],
      "text/latex": [
       "\\begin{enumerate*}\n",
       "\\item 'CNS'\n",
       "\\item 'RENAL'\n",
       "\\item 'BREAST'\n",
       "\\item 'NSCLC'\n",
       "\\item 'OVARIAN'\n",
       "\\item 'MELANOMA'\n",
       "\\item 'LEUKEMIA'\n",
       "\\item 'K562B-repro'\n",
       "\\item 'K562A-repro'\n",
       "\\item 'COLON'\n",
       "\\item 'MCF7A-repro'\n",
       "\\item 'MCF7D-repro'\n",
       "\\end{enumerate*}\n"
      ],
      "text/markdown": [
       "1. 'CNS'\n",
       "2. 'RENAL'\n",
       "3. 'BREAST'\n",
       "4. 'NSCLC'\n",
       "5. 'OVARIAN'\n",
       "6. 'MELANOMA'\n",
       "7. 'LEUKEMIA'\n",
       "8. 'K562B-repro'\n",
       "9. 'K562A-repro'\n",
       "10. 'COLON'\n",
       "11. 'MCF7A-repro'\n",
       "12. 'MCF7D-repro'\n",
       "\n",
       "\n"
      ],
      "text/plain": [
       " [1] \"CNS\"         \"RENAL\"       \"BREAST\"      \"NSCLC\"       \"OVARIAN\"    \n",
       " [6] \"MELANOMA\"    \"LEUKEMIA\"    \"K562B-repro\" \"K562A-repro\" \"COLON\"      \n",
       "[11] \"MCF7A-repro\" \"MCF7D-repro\""
      ]
     },
     "metadata": {},
     "output_type": "display_data"
    }
   ],
   "source": [
    "unique(top_nci60$Description)"
   ]
  },
  {
   "cell_type": "code",
   "execution_count": 12,
   "id": "2a04584a-d62c-4364-82e1-0e124bfd85b2",
   "metadata": {},
   "outputs": [
    {
     "data": {
      "text/html": [
       "<style>\n",
       ".list-inline {list-style: none; margin:0; padding: 0}\n",
       ".list-inline>li {display: inline-block}\n",
       ".list-inline>li:not(:last-child)::after {content: \"\\00b7\"; padding: 0 .5ex}\n",
       "</style>\n",
       "<ol class=list-inline><li>1</li><li>1</li><li>1</li><li>7</li><li>5</li><li>1</li><li>1</li><li>5</li><li>6</li><li>6</li><li>7</li><li>7</li><li>7</li><li>7</li><li>7</li><li>7</li><li>7</li><li>5</li><li>6</li><li>7</li><li>8</li><li>2</li><li>8</li><li>8</li><li>8</li><li>8</li><li>8</li><li>6</li><li>6</li><li>6</li><li>4</li><li>4</li><li>4</li><li>4</li><li>4</li><li>4</li><li>4</li><li>4</li><li>3</li><li>3</li><li>3</li><li>3</li><li>3</li><li>3</li><li>3</li><li>5</li><li>5</li><li>5</li><li>5</li><li>6</li><li>6</li><li>6</li><li>2</li><li>5</li><li>5</li><li>2</li><li>2</li><li>2</li><li>2</li><li>2</li><li>2</li></ol>\n"
      ],
      "text/latex": [
       "\\begin{enumerate*}\n",
       "\\item 1\n",
       "\\item 1\n",
       "\\item 1\n",
       "\\item 7\n",
       "\\item 5\n",
       "\\item 1\n",
       "\\item 1\n",
       "\\item 5\n",
       "\\item 6\n",
       "\\item 6\n",
       "\\item 7\n",
       "\\item 7\n",
       "\\item 7\n",
       "\\item 7\n",
       "\\item 7\n",
       "\\item 7\n",
       "\\item 7\n",
       "\\item 5\n",
       "\\item 6\n",
       "\\item 7\n",
       "\\item 8\n",
       "\\item 2\n",
       "\\item 8\n",
       "\\item 8\n",
       "\\item 8\n",
       "\\item 8\n",
       "\\item 8\n",
       "\\item 6\n",
       "\\item 6\n",
       "\\item 6\n",
       "\\item 4\n",
       "\\item 4\n",
       "\\item 4\n",
       "\\item 4\n",
       "\\item 4\n",
       "\\item 4\n",
       "\\item 4\n",
       "\\item 4\n",
       "\\item 3\n",
       "\\item 3\n",
       "\\item 3\n",
       "\\item 3\n",
       "\\item 3\n",
       "\\item 3\n",
       "\\item 3\n",
       "\\item 5\n",
       "\\item 5\n",
       "\\item 5\n",
       "\\item 5\n",
       "\\item 6\n",
       "\\item 6\n",
       "\\item 6\n",
       "\\item 2\n",
       "\\item 5\n",
       "\\item 5\n",
       "\\item 2\n",
       "\\item 2\n",
       "\\item 2\n",
       "\\item 2\n",
       "\\item 2\n",
       "\\item 2\n",
       "\\end{enumerate*}\n"
      ],
      "text/markdown": [
       "1. 1\n",
       "2. 1\n",
       "3. 1\n",
       "4. 7\n",
       "5. 5\n",
       "6. 1\n",
       "7. 1\n",
       "8. 5\n",
       "9. 6\n",
       "10. 6\n",
       "11. 7\n",
       "12. 7\n",
       "13. 7\n",
       "14. 7\n",
       "15. 7\n",
       "16. 7\n",
       "17. 7\n",
       "18. 5\n",
       "19. 6\n",
       "20. 7\n",
       "21. 8\n",
       "22. 2\n",
       "23. 8\n",
       "24. 8\n",
       "25. 8\n",
       "26. 8\n",
       "27. 8\n",
       "28. 6\n",
       "29. 6\n",
       "30. 6\n",
       "31. 4\n",
       "32. 4\n",
       "33. 4\n",
       "34. 4\n",
       "35. 4\n",
       "36. 4\n",
       "37. 4\n",
       "38. 4\n",
       "39. 3\n",
       "40. 3\n",
       "41. 3\n",
       "42. 3\n",
       "43. 3\n",
       "44. 3\n",
       "45. 3\n",
       "46. 5\n",
       "47. 5\n",
       "48. 5\n",
       "49. 5\n",
       "50. 6\n",
       "51. 6\n",
       "52. 6\n",
       "53. 2\n",
       "54. 5\n",
       "55. 5\n",
       "56. 2\n",
       "57. 2\n",
       "58. 2\n",
       "59. 2\n",
       "60. 2\n",
       "61. 2\n",
       "\n",
       "\n"
      ],
      "text/plain": [
       " [1] 1 1 1 7 5 1 1 5 6 6 7 7 7 7 7 7 7 5 6 7 8 2 8 8 8 8 8 6 6 6 4 4 4 4 4 4 4 4\n",
       "[39] 3 3 3 3 3 3 3 5 5 5 5 6 6 6 2 5 5 2 2 2 2 2 2"
      ]
     },
     "metadata": {},
     "output_type": "display_data"
    }
   ],
   "source": [
    "level_mapping <- c(\"NSCLC\" = 6, \"CNS\" = 1, \"BREAST\" = 5,\n",
    "                 \"MCF7A-repro\" = 5, \"MCF7D-repro\" = 5, \"RENAL\" = 7, \n",
    "                 \"LEUKEMIA\" = 4, \"K562B-repro\" = 4, \"K562A-repro\" = 4, \n",
    "                 \"MELANOMA\" = 2,  \"COLON\" = 3, \"OVARIAN\" = 8\n",
    "                  )\n",
    "map_strings_to_numbers <- function(strings) {\n",
    "    return(as.numeric(level_mapping[strings]))\n",
    "}\n",
    "gold_standard_vector = as.vector(unlist(lapply(top_nci60[\"Description\"], map_strings_to_numbers)))\n",
    "gold_standard_vector"
   ]
  },
  {
   "cell_type": "code",
   "execution_count": 13,
   "id": "4ddbd000-4a8a-43e0-9016-16fea9af0eee",
   "metadata": {},
   "outputs": [
    {
     "name": "stderr",
     "output_type": "stream",
     "text": [
      "Preprocessing dataset\n",
      "\n",
      "Removing non-numeric columns...\n",
      "\n",
      "\tColumns are numeric\n",
      "\n",
      "Removing correlations...\n",
      "\n",
      "\tNo correlated columns found\n",
      "\n",
      "Checking PCA suitability...\n",
      "\n",
      "\tPCA is not suitable. Bartlett's test produced NA for p-value.\n",
      "\n"
     ]
    }
   ],
   "source": [
    "nci60_clean = evaluomeR::cleanDataset(top_nci60, correlation_threshold=1)\n",
    "pca_suitability = evaluomeR::PCASuitability(nci60_clean$R, sig_level = 0.05)\n",
    "dataset = nci60_clean$dataset\n",
    "if (pca_suitability$pca_suitable) {\n",
    "    r_pca = evaluomeR::performPCA(dataset = dataset)\n",
    "    dataset = r_pca$dataset_ncp\n",
    "    evaluomeR::plotPCA_fviz_screeplot(r_pca$pca)\n",
    "    evaluomeR::plotPCA_fviz_biplot(r_pca$pca)\n",
    "}"
   ]
  },
  {
   "cell_type": "markdown",
   "id": "82a10a31",
   "metadata": {},
   "source": [
    "# evaluomeR - optimal $k$ analysis <a class=\"anchor\" id=\"evaluomer\"></a>\n",
    "In this Section, evaluomeR executes an optimal $k$ analysis. First, stabilities and qualities are calculated, considering all the metrics in the dataset. The $k$ range is $k \\in [3,10]$ and the clustering method is `RSKC`."
   ]
  },
  {
   "cell_type": "markdown",
   "id": "c1606efd",
   "metadata": {},
   "source": [
    "Automatic computation of $L_1$ bound and $alpha$ accordingot the optimal $k$. The optimal $k$ is retrieved from the `kmeans` analysis in the notebook [NCI60.ipynb](https://github.com/neobernad/evaluomeR/blob/master/notebooks/use_cases/NCI60.ipynb). "
   ]
  },
  {
   "cell_type": "code",
   "execution_count": 14,
   "id": "aef9f03a",
   "metadata": {},
   "outputs": [
    {
     "name": "stderr",
     "output_type": "stream",
     "text": [
      "Computing optimal k value with 'kmeans'\n",
      "\n",
      "Warning: 'gold_standard' parameter is set, argument 'bs' will be ignored.\n",
      "\n",
      "\n",
      "\n",
      "Data loaded.\n",
      "Number of rows: 61\n",
      "Number of columns: 201\n",
      "\n",
      "\n",
      "\n",
      "Processing all metrics, 'merge', in dataframe (200)\n",
      "\n",
      "\tCalculation of k = 3\n",
      "\n",
      "\tCalculation of k = 4\n",
      "\n",
      "\tCalculation of k = 5\n",
      "\n",
      "\tCalculation of k = 6\n",
      "\n",
      "\tCalculation of k = 7\n",
      "\n",
      "\tCalculation of k = 8\n",
      "\n",
      "\tCalculation of k = 9\n",
      "\n",
      "\tCalculation of k = 10\n",
      "\n",
      "\n",
      "\n",
      "Data loaded.\n",
      "Number of rows: 61\n",
      "Number of columns: 201\n",
      "\n",
      "\n",
      "\n",
      "Processing all metrics, 'merge', in dataframe (200)\n",
      "\n",
      "\tCalculation of k = 3\n",
      "\n",
      "\tCalculation of k = 4\n",
      "\n",
      "\tCalculation of k = 5\n",
      "\n",
      "\tCalculation of k = 6\n",
      "\n",
      "\tCalculation of k = 7\n",
      "\n",
      "\tCalculation of k = 8\n",
      "\n",
      "\tCalculation of k = 9\n",
      "\n",
      "\tCalculation of k = 10\n",
      "\n",
      "Processing metric: all_metrics\n",
      "\n",
      "\n",
      "\tBoth Ks have a stable classification: '9', '8'\n",
      "\n",
      "\n",
      "\tUsing '8' since it provides higher silhouette width\n",
      "\n",
      "\n",
      "Optimal k: 8\n",
      "\n",
      "Determining best L1 and alpha parameter automatically, it might take a while...\n",
      "\n",
      "Computing best L1 boundry with 'sparcl::KMeansSparseCluster.permute'\n",
      "\n",
      "Best L1 found is: 11.2112753007614, using floor: 11\n",
      "\n",
      "Running stability and quality indexes with alpha=0 k=8 L1=11\n",
      "\n",
      "Running stability and quality indexes with alpha=0.01 k=8 L1=11\n",
      "\n",
      "Running stability and quality indexes with alpha=0.02 k=8 L1=11\n",
      "\n",
      "Running stability and quality indexes with alpha=0.03 k=8 L1=11\n",
      "\n",
      "Running stability and quality indexes with alpha=0.04 k=8 L1=11\n",
      "\n",
      "Running stability and quality indexes with alpha=0.05 k=8 L1=11\n",
      "\n",
      "Running stability and quality indexes with alpha=0.06 k=8 L1=11\n",
      "\n",
      "Running stability and quality indexes with alpha=0.07 k=8 L1=11\n",
      "\n",
      "Running stability and quality indexes with alpha=0.08 k=8 L1=11\n",
      "\n",
      "Running stability and quality indexes with alpha=0.09 k=8 L1=11\n",
      "\n",
      "Running stability and quality indexes with alpha=0.1 k=8 L1=11\n",
      "\n",
      "Running stability and quality indexes with alpha=0.11 k=8 L1=11\n",
      "\n",
      "Running stability and quality indexes with alpha=0.12 k=8 L1=11\n",
      "\n",
      "Running stability and quality indexes with alpha=0.13 k=8 L1=11\n",
      "\n",
      "Running stability and quality indexes with alpha=0.14 k=8 L1=11\n",
      "\n",
      "Running stability and quality indexes with alpha=0.15 k=8 L1=11\n",
      "\n",
      "Running stability and quality indexes with alpha=0.16 k=8 L1=11\n",
      "\n",
      "Running stability and quality indexes with alpha=0.17 k=8 L1=11\n",
      "\n",
      "Running stability and quality indexes with alpha=0.18 k=8 L1=11\n",
      "\n",
      "Running stability and quality indexes with alpha=0.19 k=8 L1=11\n",
      "\n",
      "Running stability and quality indexes with alpha=0.2 k=8 L1=11\n",
      "\n",
      "Running stability and quality indexes with alpha=0.21 k=8 L1=11\n",
      "\n",
      "Running stability and quality indexes with alpha=0.22 k=8 L1=11\n",
      "\n",
      "Running stability and quality indexes with alpha=0.23 k=8 L1=11\n",
      "\n",
      "Running stability and quality indexes with alpha=0.24 k=8 L1=11\n",
      "\n",
      "Running stability and quality indexes with alpha=0.25 k=8 L1=11\n",
      "\n",
      "Highest stability found when alpha=0.07 (0.69392613983239)\n",
      "\n",
      "Highest quality found when alpha=0.2 (0.157002540924064)\n",
      "\n",
      "\tUsing L1 '11' and alpha '0.2'\n",
      "\n",
      "Running Trimmed & Sparse Clustering algorithm\n",
      "\n",
      "\tNumber of trimmed cases: 14\n",
      "\n",
      "\tTrimming gold standard as well\n",
      "\n",
      "\tNumber of affected columns: 14\n",
      "\n",
      "Computing optimal k value on the dataset processed by a trimmed sparse clustering method.\n",
      "\n",
      "Warning: 'gold_standard' parameter is set, argument 'bs' will be ignored.\n",
      "\n",
      "\n",
      "\n",
      "Data loaded.\n",
      "Number of rows: 47\n",
      "Number of columns: 187\n",
      "\n",
      "\n",
      "\n",
      "Processing all metrics, 'merge', in dataframe (186)\n",
      "\n",
      "\tCalculation of k = 3\n",
      "\n",
      "\tCalculation of k = 4\n",
      "\n",
      "\tCalculation of k = 5\n",
      "\n",
      "\tCalculation of k = 6\n",
      "\n",
      "\tCalculation of k = 7\n",
      "\n",
      "\tCalculation of k = 8\n",
      "\n",
      "\tCalculation of k = 9\n",
      "\n",
      "\tCalculation of k = 10\n",
      "\n",
      "\n",
      "\n",
      "Data loaded.\n",
      "Number of rows: 47\n",
      "Number of columns: 187\n",
      "\n",
      "\n",
      "\n",
      "Processing all metrics, 'merge', in dataframe (186)\n",
      "\n",
      "\tCalculation of k = 3\n",
      "\n",
      "\tCalculation of k = 4\n",
      "\n",
      "\tCalculation of k = 5\n",
      "\n",
      "\tCalculation of k = 6\n",
      "\n",
      "\tCalculation of k = 7\n",
      "\n",
      "\tCalculation of k = 8\n",
      "\n",
      "\tCalculation of k = 9\n",
      "\n",
      "\tCalculation of k = 10\n",
      "\n",
      "Processing metric: all_metrics\n",
      "\n",
      "\n",
      "\tBoth Ks have a stable classification: '10', '4'\n",
      "\n",
      "\n",
      "\tUsing '4' since it provides higher silhouette width\n",
      "\n",
      "\n",
      "New optimal k with ATSC: 4\n",
      "\n"
     ]
    }
   ],
   "source": [
    "r_atsc = evaluomeR::ATSC(data=dataset, k.range=k.range, cbi=cbi, alpha=alpha, max_alpha=max_alpha,\n",
    "                         gold_standard = gold_standard_vector, seed=seed)"
   ]
  },
  {
   "cell_type": "code",
   "execution_count": 15,
   "id": "544449e5-f891-4a13-bb1d-0d6dc6bc80da",
   "metadata": {},
   "outputs": [
    {
     "name": "stdout",
     "output_type": "stream",
     "text": [
      "[1] \"Optimal k before: 8\"\n",
      "[1] \"Optimal k after: 4\"\n",
      "[1] \"Gold standard vector trimmed, current values are:\"\n",
      " [1] 1 1 1 7 5 1 1 5 6 6 7 7 7 7 7 7 7 5 6 7 8 2 8 8 8 8 8 6 6 6 4 4 4 4 4 4 4 4\n",
      "[39] 3 3 3 3 3 3 3 5 5 5 5 6 6 6 2 5 5 2 2 2 2 2 2\n",
      "[1] \"After:\"\n",
      " [1] 1 5 1 1 5 6 7 7 7 7 7 7 7 6 2 8 8 8 6 6 4 4 4 4 4 4 4 3 3 3 3 3 3 3 5 5 5 5\n",
      "[39] 2 5 5 2 2 2 2 2 2\n"
     ]
    }
   ],
   "source": [
    "print(paste0(\"Optimal k before: \", r_atsc$optimalK))\n",
    "print(paste0(\"Optimal k after: \", r_atsc$optimalK_ATSC))\n",
    "if (!is.null(r_atsc$gold_standard_trimmed)) {\n",
    "    print(paste0(\"Gold standard vector trimmed, current values are:\"))\n",
    "    print(gold_standard_vector)\n",
    "    print(\"After:\")\n",
    "    print(r_atsc$gold_standard_trimmed)\n",
    "    gold_standard_vector = r_atsc$gold_standard_trimmed\n",
    "}"
   ]
  },
  {
   "cell_type": "markdown",
   "id": "0831116c",
   "metadata": {},
   "source": [
    "Stability calculation with $k \\in [3,10]$ and `rskc`:"
   ]
  },
  {
   "cell_type": "markdown",
   "id": "cf84cc51",
   "metadata": {},
   "source": [
    "## Stability plotting <a class=\"anchor\" id=\"evaluomeR_stab_plot\"></a>\n",
    "\n",
    "Stability plot"
   ]
  },
  {
   "cell_type": "code",
   "execution_count": 16,
   "id": "9afe05ab",
   "metadata": {},
   "outputs": [],
   "source": [
    "stab = r_atsc$stab\n",
    "rownames(stab) = c(paste0(\"stab_\", cbi))\n",
    "stab$Metric = rownames(stab)\n",
    "stab$Method = cbi\n",
    "stab_melt = melt(stab, id.vars = c(\"Metric\", \"Method\"))\n",
    "\n",
    "stab_ATSC = r_atsc$stab_ATSC\n",
    "rownames(stab_ATSC) = c(paste0(\"stab_\", \"ATSC\"))\n",
    "stab_ATSC$Metric = rownames(stab_ATSC)\n",
    "stab_ATSC$Method = \"ATSC\"\n",
    "stab_ATSC_melt = melt(stab_ATSC, id.vars = c(\"Metric\", \"Method\"))"
   ]
  },
  {
   "cell_type": "code",
   "execution_count": 17,
   "id": "a8e76f01",
   "metadata": {},
   "outputs": [
    {
     "name": "stderr",
     "output_type": "stream",
     "text": [
      "Warning message:\n",
      "\"\u001b[1m\u001b[22mUsing `size` aesthetic for lines was deprecated in ggplot2 3.4.0.\n",
      "\u001b[36mℹ\u001b[39m Please use `linewidth` instead.\"\n"
     ]
    },
    {
     "data": {
      "image/png": "[encoded data removed]",
      "text/plain": [
       "plot without title"
      ]
     },
     "metadata": {
      "image/png": {
       "height": 720,
       "width": 720
      }
     },
     "output_type": "display_data"
    }
   ],
   "source": [
    "# Color\n",
    "grayscale_colors <- c(\"#4B4B4B\", \"#1E90FF\", \"black\", \"darkgray\", \"gray\", \"lightgray\", \"white\")\n",
    "\n",
    "p <- ggplot(stab_melt, aes(x = variable, y = value, color = Method, group = Method)) +\n",
    "     geom_point(size = 3) +\n",
    "     geom_line(size = 1.2) +\n",
    "  scale_color_manual(values = grayscale_colors) +\n",
    "  labs(\n",
    "    title = paste0('NCI-60 stability ',cbi,' - k = [', k.range[1], \",\", k.range[2], ']'),\n",
    "    x = 'k',\n",
    "    y = 'Stability'\n",
    "  ) +\n",
    "  scale_y_continuous(limits = c(0, 1)) +\n",
    "  theme_minimal() +\n",
    "  theme(\n",
    "    plot.title = element_text(hjust = 0.5, size = 20, face = \"bold\"),\n",
    "    legend.position = \"right\",\n",
    "    legend.title = element_text(size = 18),\n",
    "    legend.text = element_text(size = 16),\n",
    "    axis.title.x = element_text(size = 20),\n",
    "    axis.title.y = element_text(size = 20),\n",
    "    axis.text = element_text(size = 16)\n",
    "  )\n",
    "\n",
    "p + \n",
    "  annotate(\"rect\", xmin = -Inf, xmax = Inf, ymin = 0.85, ymax = 1, alpha = 0.25, fill = \"green\") +\n",
    "  annotate(\"rect\", xmin = -Inf, xmax = Inf, ymin = 0.75, ymax = 0.85, alpha = 0.2, fill = \"green\") +\n",
    "  annotate(\"rect\", xmin = -Inf, xmax = Inf, ymin = 0.6, ymax = 0.75, alpha = 0.1, fill = \"green\") +\n",
    "  annotate(\"rect\", xmin = -Inf, xmax = Inf, ymin = 0, ymax = 0.6, alpha = 0.1, fill = \"white\")"
   ]
  },
  {
   "cell_type": "code",
   "execution_count": 18,
   "id": "50209c45-fbbd-49d1-8883-3e6a55e3f386",
   "metadata": {},
   "outputs": [
    {
     "data": {
      "image/png": "[encoded data removed]",
      "text/plain": [
       "plot without title"
      ]
     },
     "metadata": {
      "image/png": {
       "height": 720,
       "width": 720
      }
     },
     "output_type": "display_data"
    }
   ],
   "source": [
    "# Stab ATSC\n",
    "p <- ggplot(stab_ATSC_melt, aes(x = variable, y = value, color = Method, group = Method)) +\n",
    "    geom_point(size = 3) +\n",
    "     geom_line(size = 1.2) +\n",
    "  scale_color_manual(values = grayscale_colors) +\n",
    "  labs(\n",
    "    title = paste0('NCI-60 stability ATSC - k = [', k.range[1], \",\", k.range[2], ']'),\n",
    "    x = 'k',\n",
    "    y = 'Stability'\n",
    "  ) +\n",
    "  scale_y_continuous(limits = c(0, 1)) +\n",
    "  theme_minimal() +\n",
    "  theme(\n",
    "    plot.title = element_text(hjust = 0.5, size = 20, face = \"bold\"),\n",
    "    legend.position = \"right\",\n",
    "    legend.title = element_text(size = 18),\n",
    "    legend.text = element_text(size = 16),\n",
    "    axis.title.x = element_text(size = 20),\n",
    "    axis.title.y = element_text(size = 20),\n",
    "    axis.text = element_text(size = 16)\n",
    "  )\n",
    "\n",
    "p + \n",
    "  annotate(\"rect\", xmin = -Inf, xmax = Inf, ymin = 0.85, ymax = 1, alpha = 0.25, fill = \"green\") +\n",
    "  annotate(\"rect\", xmin = -Inf, xmax = Inf, ymin = 0.75, ymax = 0.85, alpha = 0.2, fill = \"green\") +\n",
    "  annotate(\"rect\", xmin = -Inf, xmax = Inf, ymin = 0.6, ymax = 0.75, alpha = 0.1, fill = \"green\") +\n",
    "  annotate(\"rect\", xmin = -Inf, xmax = Inf, ymin = 0, ymax = 0.6, alpha = 0.1, fill = \"white\")"
   ]
  },
  {
   "cell_type": "code",
   "execution_count": 19,
   "id": "c5c70dad-cd0f-46cb-9dbf-f44d26a0d05c",
   "metadata": {},
   "outputs": [
    {
     "data": {
      "image/png": "[encoded data removed]",
      "text/plain": [
       "plot without title"
      ]
     },
     "metadata": {
      "image/png": {
       "height": 720,
       "width": 720
      }
     },
     "output_type": "display_data"
    }
   ],
   "source": [
    "all_stab = rbind(stab_ATSC_melt, stab_melt)\n",
    "p <- ggplot(all_stab, aes(x = variable, y = value, color = Method, group = Method)) +\n",
    "    geom_point(size = 3) +\n",
    "     geom_line(size = 1.2) +\n",
    "  scale_color_manual(values = grayscale_colors) +\n",
    "  labs(\n",
    "    title = paste0('NCI-60 stability ATSC & ', cbi, ' - k = [', k.range[1], \",\", k.range[2], ']'),\n",
    "    x = 'k',\n",
    "    y = 'Stability'\n",
    "  ) +\n",
    "  scale_y_continuous(limits = c(0, 1)) +\n",
    "  theme_minimal() +\n",
    "  theme(\n",
    "    plot.title = element_text(hjust = 0.5, size = 20, face = \"bold\"),\n",
    "    legend.position = \"right\",\n",
    "    legend.title = element_text(size = 18),\n",
    "    legend.text = element_text(size = 16),\n",
    "    axis.title.x = element_text(size = 20),\n",
    "    axis.title.y = element_text(size = 20),\n",
    "    axis.text = element_text(size = 16)\n",
    "  )\n",
    "\n",
    "p + \n",
    "  annotate(\"rect\", xmin = -Inf, xmax = Inf, ymin = 0.85, ymax = 1, alpha = 0.25, fill = \"green\") +\n",
    "  annotate(\"rect\", xmin = -Inf, xmax = Inf, ymin = 0.75, ymax = 0.85, alpha = 0.2, fill = \"green\") +\n",
    "  annotate(\"rect\", xmin = -Inf, xmax = Inf, ymin = 0.6, ymax = 0.75, alpha = 0.1, fill = \"green\") +\n",
    "  annotate(\"rect\", xmin = -Inf, xmax = Inf, ymin = 0, ymax = 0.6, alpha = 0.1, fill = \"white\")"
   ]
  },
  {
   "cell_type": "markdown",
   "id": "2ac17691",
   "metadata": {},
   "source": [
    "Quality calculation with $k \\in [3,10]$ and `rskc`."
   ]
  },
  {
   "cell_type": "markdown",
   "id": "9df0ab2b",
   "metadata": {},
   "source": [
    "## Quality plotting <a class=\"anchor\" id=\"evaluomeR_qual_plot\"></a>\n",
    "\n",
    "Quality plot"
   ]
  },
  {
   "cell_type": "code",
   "execution_count": 20,
   "id": "3106f912",
   "metadata": {},
   "outputs": [],
   "source": [
    "qual = r_atsc$qual\n",
    "rownames(qual) = c(paste0(\"qual_\", cbi))\n",
    "qual$Metric = rownames(qual)\n",
    "qual$Method = cbi\n",
    "qual_melt = melt(qual, id.vars = c(\"Metric\", \"Method\"))\n",
    "\n",
    "qual_ATSC = r_atsc$qual_ATSC\n",
    "rownames(qual_ATSC) = c(paste0(\"qual_\", \"ATSC\"))\n",
    "qual_ATSC$Metric = rownames(qual_ATSC)\n",
    "qual_ATSC$Method = \"ATSC\"\n",
    "qual_ATSC_melt = melt(qual_ATSC, id.vars = c(\"Metric\", \"Method\"))"
   ]
  },
  {
   "cell_type": "code",
   "execution_count": 21,
   "id": "24abbe30",
   "metadata": {},
   "outputs": [
    {
     "data": {
      "image/png": "[encoded data removed]",
      "text/plain": [
       "plot without title"
      ]
     },
     "metadata": {
      "image/png": {
       "height": 720,
       "width": 720
      }
     },
     "output_type": "display_data"
    }
   ],
   "source": [
    "\n",
    "p <- ggplot(qual_melt, aes(x = variable, y = value, color = Method, group = Method)) +\n",
    "     geom_point(size = 3) +\n",
    "     geom_line(size = 1.2) +\n",
    "  scale_color_manual(values = grayscale_colors) +\n",
    "  labs(\n",
    "    title = paste0('NCI-60 quality -  k in [', k.range[1], \",\", k.range[2], ']'),\n",
    "    x = 'k',\n",
    "    y = 'Quality'\n",
    "  ) +\n",
    "  scale_y_continuous(limits = c(-1, 1)) +\n",
    "  theme_minimal() +\n",
    "  theme(\n",
    "    plot.title = element_text(hjust = 0.5, size = 20, face = \"bold\"),\n",
    "    legend.position = \"right\",\n",
    "    legend.title = element_text(size = 18),\n",
    "    legend.text = element_text(size = 16),\n",
    "    axis.title.x = element_text(size = 20),\n",
    "    axis.title.y = element_text(size = 20),\n",
    "    axis.text = element_text(size = 16)\n",
    "  )\n",
    "\n",
    "p + \n",
    "  annotate(\"rect\", xmin = -Inf, xmax = Inf, ymin = 0.7, ymax = 1, alpha = 0.3, fill = \"green\") +\n",
    "  annotate(\"rect\", xmin = -Inf, xmax = Inf, ymin = 0.5, ymax = 0.7, alpha = 0.2, fill = \"green\") +\n",
    "  annotate(\"rect\", xmin = -Inf, xmax = Inf, ymin = 0.25, ymax = 0.5, alpha = 0.1, fill = \"green\") +\n",
    "  annotate(\"rect\", xmin = -Inf, xmax = Inf, ymin = -1, ymax = 0.25, alpha = 0.1, fill = \"white\")"
   ]
  },
  {
   "cell_type": "code",
   "execution_count": 22,
   "id": "afa550f6-e7de-455a-b79a-f9ca4ca4fedb",
   "metadata": {},
   "outputs": [
    {
     "data": {
      "image/png": "[encoded data removed]",
      "text/plain": [
       "plot without title"
      ]
     },
     "metadata": {
      "image/png": {
       "height": 720,
       "width": 720
      }
     },
     "output_type": "display_data"
    }
   ],
   "source": [
    "p <- ggplot(qual_ATSC_melt, aes(x = variable, y = value, color = Method, group = Method)) +\n",
    "     geom_point(size = 3) +\n",
    "     geom_line(size = 1.2) +\n",
    "  scale_color_manual(values = grayscale_colors) +\n",
    "  labs(\n",
    "    title = paste0('NCI-60 quality -  k in [', k.range[1], \",\", k.range[2], ']'),\n",
    "    x = 'k',\n",
    "    y = 'Quality'\n",
    "  ) +\n",
    "  scale_y_continuous(limits = c(-1, 1)) +\n",
    "  theme_minimal() +\n",
    "  theme(\n",
    "    plot.title = element_text(hjust = 0.5, size = 20, face = \"bold\"),\n",
    "    legend.position = \"right\",\n",
    "    legend.title = element_text(size = 18),\n",
    "    legend.text = element_text(size = 16),\n",
    "    axis.title.x = element_text(size = 20),\n",
    "    axis.title.y = element_text(size = 20),\n",
    "    axis.text = element_text(size = 16)\n",
    "  )\n",
    "\n",
    "p + \n",
    "  annotate(\"rect\", xmin = -Inf, xmax = Inf, ymin = 0.7, ymax = 1, alpha = 0.3, fill = \"green\") +\n",
    "  annotate(\"rect\", xmin = -Inf, xmax = Inf, ymin = 0.5, ymax = 0.7, alpha = 0.2, fill = \"green\") +\n",
    "  annotate(\"rect\", xmin = -Inf, xmax = Inf, ymin = 0.25, ymax = 0.5, alpha = 0.1, fill = \"green\") +\n",
    "  annotate(\"rect\", xmin = -Inf, xmax = Inf, ymin = -1, ymax = 0.25, alpha = 0.1, fill = \"white\")"
   ]
  },
  {
   "cell_type": "code",
   "execution_count": 23,
   "id": "b31feb40-dafb-4d11-87dd-52e94834c46d",
   "metadata": {},
   "outputs": [
    {
     "data": {
      "image/png": "[encoded data removed]",
      "text/plain": [
       "plot without title"
      ]
     },
     "metadata": {
      "image/png": {
       "height": 720,
       "width": 720
      }
     },
     "output_type": "display_data"
    }
   ],
   "source": [
    "all_qual = rbind(qual_ATSC_melt, qual_melt)\n",
    "p <- ggplot(all_qual, aes(x = variable, y = value, color = Method, group = Method)) +\n",
    "     geom_point(size = 3) +\n",
    "     geom_line(size = 1.2) +\n",
    "  scale_color_manual(values = grayscale_colors) +\n",
    "  labs(\n",
    "    title = paste0('NCI-60 quality ATSC & ', cbi, ' - k = [', k.range[1], \",\", k.range[2], ']'),\n",
    "    x = 'k',\n",
    "    y = 'Quality'\n",
    "  ) +\n",
    "  scale_y_continuous(limits = c(-1, 1)) +\n",
    "  theme_minimal() +\n",
    "  theme(\n",
    "    plot.title = element_text(hjust = 0.5, size = 20, face = \"bold\"),\n",
    "    legend.position = \"right\",\n",
    "    legend.title = element_text(size = 18),\n",
    "    legend.text = element_text(size = 16),\n",
    "    axis.title.x = element_text(size = 20),\n",
    "    axis.title.y = element_text(size = 20),\n",
    "    axis.text = element_text(size = 16)\n",
    "  )\n",
    "\n",
    "p + \n",
    "  annotate(\"rect\", xmin = -Inf, xmax = Inf, ymin = 0.7, ymax = 1, alpha = 0.3, fill = \"green\") +\n",
    "  annotate(\"rect\", xmin = -Inf, xmax = Inf, ymin = 0.5, ymax = 0.7, alpha = 0.2, fill = \"green\") +\n",
    "  annotate(\"rect\", xmin = -Inf, xmax = Inf, ymin = 0.25, ymax = 0.5, alpha = 0.1, fill = \"green\") +\n",
    "  annotate(\"rect\", xmin = -Inf, xmax = Inf, ymin = -1, ymax = 0.25, alpha = 0.1, fill = \"white\")"
   ]
  },
  {
   "cell_type": "markdown",
   "id": "3d2ca08c",
   "metadata": {},
   "source": [
    "Determining the optimal $k$ given the stabilities and qualities in `stab_range` and `qual_range` objects:"
   ]
  },
  {
   "cell_type": "code",
   "execution_count": 24,
   "id": "7dbbae54",
   "metadata": {},
   "outputs": [
    {
     "name": "stdout",
     "output_type": "stream",
     "text": [
      "[1] \"Stabilities and qualities per k with 'kmeans' as clustering method\"\n"
     ]
    },
    {
     "data": {
      "text/html": [
       "<table class=\"dataframe\">\n",
       "<caption>A data.frame: 1 × 10</caption>\n",
       "<thead>\n",
       "\t<tr><th></th><th scope=col>k_3</th><th scope=col>k_4</th><th scope=col>k_5</th><th scope=col>k_6</th><th scope=col>k_7</th><th scope=col>k_8</th><th scope=col>k_9</th><th scope=col>k_10</th><th scope=col>Metric</th><th scope=col>Method</th></tr>\n",
       "\t<tr><th></th><th scope=col>&lt;dbl&gt;</th><th scope=col>&lt;dbl&gt;</th><th scope=col>&lt;dbl&gt;</th><th scope=col>&lt;dbl&gt;</th><th scope=col>&lt;dbl&gt;</th><th scope=col>&lt;dbl&gt;</th><th scope=col>&lt;dbl&gt;</th><th scope=col>&lt;dbl&gt;</th><th scope=col>&lt;chr&gt;</th><th scope=col>&lt;chr&gt;</th></tr>\n",
       "</thead>\n",
       "<tbody>\n",
       "\t<tr><th scope=row>stab_kmeans</th><td>0.6754098</td><td>0.7803279</td><td>0.8065574</td><td>0.8530055</td><td>0.8661202</td><td>0.8983607</td><td>0.9021858</td><td>0.8939891</td><td>stab_kmeans</td><td>kmeans</td></tr>\n",
       "</tbody>\n",
       "</table>\n"
      ],
      "text/latex": [
       "A data.frame: 1 × 10\n",
       "\\begin{tabular}{r|llllllllll}\n",
       "  & k\\_3 & k\\_4 & k\\_5 & k\\_6 & k\\_7 & k\\_8 & k\\_9 & k\\_10 & Metric & Method\\\\\n",
       "  & <dbl> & <dbl> & <dbl> & <dbl> & <dbl> & <dbl> & <dbl> & <dbl> & <chr> & <chr>\\\\\n",
       "\\hline\n",
       "\tstab\\_kmeans & 0.6754098 & 0.7803279 & 0.8065574 & 0.8530055 & 0.8661202 & 0.8983607 & 0.9021858 & 0.8939891 & stab\\_kmeans & kmeans\\\\\n",
       "\\end{tabular}\n"
      ],
      "text/markdown": [
       "\n",
       "A data.frame: 1 × 10\n",
       "\n",
       "| <!--/--> | k_3 &lt;dbl&gt; | k_4 &lt;dbl&gt; | k_5 &lt;dbl&gt; | k_6 &lt;dbl&gt; | k_7 &lt;dbl&gt; | k_8 &lt;dbl&gt; | k_9 &lt;dbl&gt; | k_10 &lt;dbl&gt; | Metric &lt;chr&gt; | Method &lt;chr&gt; |\n",
       "|---|---|---|---|---|---|---|---|---|---|---|\n",
       "| stab_kmeans | 0.6754098 | 0.7803279 | 0.8065574 | 0.8530055 | 0.8661202 | 0.8983607 | 0.9021858 | 0.8939891 | stab_kmeans | kmeans |\n",
       "\n"
      ],
      "text/plain": [
       "            k_3       k_4       k_5       k_6       k_7       k_8      \n",
       "stab_kmeans 0.6754098 0.7803279 0.8065574 0.8530055 0.8661202 0.8983607\n",
       "            k_9       k_10      Metric      Method\n",
       "stab_kmeans 0.9021858 0.8939891 stab_kmeans kmeans"
      ]
     },
     "metadata": {},
     "output_type": "display_data"
    },
    {
     "data": {
      "text/html": [
       "<table class=\"dataframe\">\n",
       "<caption>A data.frame: 1 × 10</caption>\n",
       "<thead>\n",
       "\t<tr><th></th><th scope=col>k_3</th><th scope=col>k_4</th><th scope=col>k_5</th><th scope=col>k_6</th><th scope=col>k_7</th><th scope=col>k_8</th><th scope=col>k_9</th><th scope=col>k_10</th><th scope=col>Metric</th><th scope=col>Method</th></tr>\n",
       "\t<tr><th></th><th scope=col>&lt;dbl&gt;</th><th scope=col>&lt;dbl&gt;</th><th scope=col>&lt;dbl&gt;</th><th scope=col>&lt;dbl&gt;</th><th scope=col>&lt;dbl&gt;</th><th scope=col>&lt;dbl&gt;</th><th scope=col>&lt;dbl&gt;</th><th scope=col>&lt;dbl&gt;</th><th scope=col>&lt;chr&gt;</th><th scope=col>&lt;chr&gt;</th></tr>\n",
       "</thead>\n",
       "<tbody>\n",
       "\t<tr><th scope=row>qual_kmeans</th><td>0.1502642</td><td>0.107444</td><td>0.1025745</td><td>0.1496112</td><td>0.1538648</td><td>0.1571863</td><td>0.1546125</td><td>0.1531244</td><td>qual_kmeans</td><td>kmeans</td></tr>\n",
       "</tbody>\n",
       "</table>\n"
      ],
      "text/latex": [
       "A data.frame: 1 × 10\n",
       "\\begin{tabular}{r|llllllllll}\n",
       "  & k\\_3 & k\\_4 & k\\_5 & k\\_6 & k\\_7 & k\\_8 & k\\_9 & k\\_10 & Metric & Method\\\\\n",
       "  & <dbl> & <dbl> & <dbl> & <dbl> & <dbl> & <dbl> & <dbl> & <dbl> & <chr> & <chr>\\\\\n",
       "\\hline\n",
       "\tqual\\_kmeans & 0.1502642 & 0.107444 & 0.1025745 & 0.1496112 & 0.1538648 & 0.1571863 & 0.1546125 & 0.1531244 & qual\\_kmeans & kmeans\\\\\n",
       "\\end{tabular}\n"
      ],
      "text/markdown": [
       "\n",
       "A data.frame: 1 × 10\n",
       "\n",
       "| <!--/--> | k_3 &lt;dbl&gt; | k_4 &lt;dbl&gt; | k_5 &lt;dbl&gt; | k_6 &lt;dbl&gt; | k_7 &lt;dbl&gt; | k_8 &lt;dbl&gt; | k_9 &lt;dbl&gt; | k_10 &lt;dbl&gt; | Metric &lt;chr&gt; | Method &lt;chr&gt; |\n",
       "|---|---|---|---|---|---|---|---|---|---|---|\n",
       "| qual_kmeans | 0.1502642 | 0.107444 | 0.1025745 | 0.1496112 | 0.1538648 | 0.1571863 | 0.1546125 | 0.1531244 | qual_kmeans | kmeans |\n",
       "\n"
      ],
      "text/plain": [
       "            k_3       k_4      k_5       k_6       k_7       k_8      \n",
       "qual_kmeans 0.1502642 0.107444 0.1025745 0.1496112 0.1538648 0.1571863\n",
       "            k_9       k_10      Metric      Method\n",
       "qual_kmeans 0.1546125 0.1531244 qual_kmeans kmeans"
      ]
     },
     "metadata": {},
     "output_type": "display_data"
    },
    {
     "name": "stdout",
     "output_type": "stream",
     "text": [
      "[1] \"Stabily in k=8: 0.898360655737705\"\n",
      "[1] \"Quality in k=: 0.157186259501016\"\n"
     ]
    }
   ],
   "source": [
    "\n",
    "print(paste0(\"Stabilities and qualities per k with '\", cbi, \"' as clustering method\"))\n",
    "stab\n",
    "qual\n",
    "print(paste0(\"Stabily in k=\", r_atsc$optimalK,\": \", stab[paste0(\"k_\",r_atsc$optimalK)]))\n",
    "print(paste0(\"Quality in k=\", r_atsc$optimalk,\": \", qual[paste0(\"k_\",r_atsc$optimalK)]))"
   ]
  },
  {
   "cell_type": "code",
   "execution_count": 25,
   "id": "a1893312",
   "metadata": {},
   "outputs": [
    {
     "name": "stdout",
     "output_type": "stream",
     "text": [
      "[1] \"Stabilities and qualities per k with 'ATSC' as clustering method\"\n"
     ]
    },
    {
     "data": {
      "text/html": [
       "<table class=\"dataframe\">\n",
       "<caption>A data.frame: 1 × 10</caption>\n",
       "<thead>\n",
       "\t<tr><th></th><th scope=col>k_3</th><th scope=col>k_4</th><th scope=col>k_5</th><th scope=col>k_6</th><th scope=col>k_7</th><th scope=col>k_8</th><th scope=col>k_9</th><th scope=col>k_10</th><th scope=col>Metric</th><th scope=col>Method</th></tr>\n",
       "\t<tr><th></th><th scope=col>&lt;dbl&gt;</th><th scope=col>&lt;dbl&gt;</th><th scope=col>&lt;dbl&gt;</th><th scope=col>&lt;dbl&gt;</th><th scope=col>&lt;dbl&gt;</th><th scope=col>&lt;dbl&gt;</th><th scope=col>&lt;dbl&gt;</th><th scope=col>&lt;dbl&gt;</th><th scope=col>&lt;chr&gt;</th><th scope=col>&lt;chr&gt;</th></tr>\n",
       "</thead>\n",
       "<tbody>\n",
       "\t<tr><th scope=row>stab_ATSC</th><td>0.7169288</td><td>0.8085106</td><td>0.8140611</td><td>0.8445883</td><td>0.9056429</td><td>0.8945421</td><td>0.9074931</td><td>0.9296947</td><td>stab_ATSC</td><td>ATSC</td></tr>\n",
       "</tbody>\n",
       "</table>\n"
      ],
      "text/latex": [
       "A data.frame: 1 × 10\n",
       "\\begin{tabular}{r|llllllllll}\n",
       "  & k\\_3 & k\\_4 & k\\_5 & k\\_6 & k\\_7 & k\\_8 & k\\_9 & k\\_10 & Metric & Method\\\\\n",
       "  & <dbl> & <dbl> & <dbl> & <dbl> & <dbl> & <dbl> & <dbl> & <dbl> & <chr> & <chr>\\\\\n",
       "\\hline\n",
       "\tstab\\_ATSC & 0.7169288 & 0.8085106 & 0.8140611 & 0.8445883 & 0.9056429 & 0.8945421 & 0.9074931 & 0.9296947 & stab\\_ATSC & ATSC\\\\\n",
       "\\end{tabular}\n"
      ],
      "text/markdown": [
       "\n",
       "A data.frame: 1 × 10\n",
       "\n",
       "| <!--/--> | k_3 &lt;dbl&gt; | k_4 &lt;dbl&gt; | k_5 &lt;dbl&gt; | k_6 &lt;dbl&gt; | k_7 &lt;dbl&gt; | k_8 &lt;dbl&gt; | k_9 &lt;dbl&gt; | k_10 &lt;dbl&gt; | Metric &lt;chr&gt; | Method &lt;chr&gt; |\n",
       "|---|---|---|---|---|---|---|---|---|---|---|\n",
       "| stab_ATSC | 0.7169288 | 0.8085106 | 0.8140611 | 0.8445883 | 0.9056429 | 0.8945421 | 0.9074931 | 0.9296947 | stab_ATSC | ATSC |\n",
       "\n"
      ],
      "text/plain": [
       "          k_3       k_4       k_5       k_6       k_7       k_8       k_9      \n",
       "stab_ATSC 0.7169288 0.8085106 0.8140611 0.8445883 0.9056429 0.8945421 0.9074931\n",
       "          k_10      Metric    Method\n",
       "stab_ATSC 0.9296947 stab_ATSC ATSC  "
      ]
     },
     "metadata": {},
     "output_type": "display_data"
    },
    {
     "data": {
      "text/html": [
       "<table class=\"dataframe\">\n",
       "<caption>A data.frame: 1 × 10</caption>\n",
       "<thead>\n",
       "\t<tr><th></th><th scope=col>k_3</th><th scope=col>k_4</th><th scope=col>k_5</th><th scope=col>k_6</th><th scope=col>k_7</th><th scope=col>k_8</th><th scope=col>k_9</th><th scope=col>k_10</th><th scope=col>Metric</th><th scope=col>Method</th></tr>\n",
       "\t<tr><th></th><th scope=col>&lt;dbl&gt;</th><th scope=col>&lt;dbl&gt;</th><th scope=col>&lt;dbl&gt;</th><th scope=col>&lt;dbl&gt;</th><th scope=col>&lt;dbl&gt;</th><th scope=col>&lt;dbl&gt;</th><th scope=col>&lt;dbl&gt;</th><th scope=col>&lt;dbl&gt;</th><th scope=col>&lt;chr&gt;</th><th scope=col>&lt;chr&gt;</th></tr>\n",
       "</thead>\n",
       "<tbody>\n",
       "\t<tr><th scope=row>qual_ATSC</th><td>0.2052581</td><td>0.2262965</td><td>0.1865785</td><td>0.1539334</td><td>0.174768</td><td>0.188623</td><td>0.1791343</td><td>0.1997221</td><td>qual_ATSC</td><td>ATSC</td></tr>\n",
       "</tbody>\n",
       "</table>\n"
      ],
      "text/latex": [
       "A data.frame: 1 × 10\n",
       "\\begin{tabular}{r|llllllllll}\n",
       "  & k\\_3 & k\\_4 & k\\_5 & k\\_6 & k\\_7 & k\\_8 & k\\_9 & k\\_10 & Metric & Method\\\\\n",
       "  & <dbl> & <dbl> & <dbl> & <dbl> & <dbl> & <dbl> & <dbl> & <dbl> & <chr> & <chr>\\\\\n",
       "\\hline\n",
       "\tqual\\_ATSC & 0.2052581 & 0.2262965 & 0.1865785 & 0.1539334 & 0.174768 & 0.188623 & 0.1791343 & 0.1997221 & qual\\_ATSC & ATSC\\\\\n",
       "\\end{tabular}\n"
      ],
      "text/markdown": [
       "\n",
       "A data.frame: 1 × 10\n",
       "\n",
       "| <!--/--> | k_3 &lt;dbl&gt; | k_4 &lt;dbl&gt; | k_5 &lt;dbl&gt; | k_6 &lt;dbl&gt; | k_7 &lt;dbl&gt; | k_8 &lt;dbl&gt; | k_9 &lt;dbl&gt; | k_10 &lt;dbl&gt; | Metric &lt;chr&gt; | Method &lt;chr&gt; |\n",
       "|---|---|---|---|---|---|---|---|---|---|---|\n",
       "| qual_ATSC | 0.2052581 | 0.2262965 | 0.1865785 | 0.1539334 | 0.174768 | 0.188623 | 0.1791343 | 0.1997221 | qual_ATSC | ATSC |\n",
       "\n"
      ],
      "text/plain": [
       "          k_3       k_4       k_5       k_6       k_7      k_8      k_9      \n",
       "qual_ATSC 0.2052581 0.2262965 0.1865785 0.1539334 0.174768 0.188623 0.1791343\n",
       "          k_10      Metric    Method\n",
       "qual_ATSC 0.1997221 qual_ATSC ATSC  "
      ]
     },
     "metadata": {},
     "output_type": "display_data"
    },
    {
     "name": "stdout",
     "output_type": "stream",
     "text": [
      "[1] \"Stabily in k=4: 0.808510638297872\"\n",
      "[1] \"Quality in k=: 0.226296488119931\"\n"
     ]
    }
   ],
   "source": [
    "\n",
    "print(paste0(\"Stabilities and qualities per k with 'ATSC' as clustering method\"))\n",
    "stab_ATSC\n",
    "qual_ATSC\n",
    "print(paste0(\"Stabily in k=\", r_atsc$optimalK_ATSC,\": \", stab_ATSC[paste0(\"k_\",r_atsc$optimalK_ATSC)]))\n",
    "print(paste0(\"Quality in k=\", r_atsc$optimalk_ATSC,\": \", qual_ATSC[paste0(\"k_\",r_atsc$optimalK_ATSC)]))"
   ]
  },
  {
   "cell_type": "markdown",
   "id": "e96ae474",
   "metadata": {},
   "source": [
    "# Clusters"
   ]
  },
  {
   "cell_type": "code",
   "execution_count": 26,
   "id": "61294941",
   "metadata": {},
   "outputs": [],
   "source": [
    "# Internal method used to group individuals per cluster\n",
    "individuals_per_cluster = function(qualityResult) {\n",
    "  qual_df = as.data.frame(assay(qualityResult))\n",
    "\n",
    "\n",
    "  cluster_pos_str = as.character(unlist(qual_df[\"Cluster_position\"]))\n",
    "  cluster_labels_str = as.character(unlist(qual_df[\"Cluster_labels\"]))\n",
    "\n",
    "  cluster_pos = as.list(strsplit(cluster_pos_str, \",\")[[1]])\n",
    "  cluster_labels = as.list(strsplit(cluster_labels_str, \",\")[[1]])\n",
    "\n",
    "  individuals_in_cluster = as.data.frame(cbind(cluster_labels, cluster_pos))\n",
    "  colnames(individuals_in_cluster) = c(\"Individual\", \"Cluster\")\n",
    "\n",
    "  return(individuals_in_cluster)\n",
    "}"
   ]
  },
  {
   "cell_type": "code",
   "execution_count": 27,
   "id": "77b5d886",
   "metadata": {
    "scrolled": true
   },
   "outputs": [
    {
     "name": "stderr",
     "output_type": "stream",
     "text": [
      "\n",
      "\n",
      "Data loaded.\n",
      "Number of rows: 47\n",
      "Number of columns: 187\n",
      "\n",
      "\n",
      "\n",
      "Processing all metrics, 'merge', in dataframe (186)\n",
      "\n",
      "\tCalculation of k = 3\n",
      "\n",
      "\tCalculation of k = 4\n",
      "\n",
      "\tCalculation of k = 5\n",
      "\n",
      "\tCalculation of k = 6\n",
      "\n",
      "\tCalculation of k = 7\n",
      "\n",
      "\tCalculation of k = 8\n",
      "\n",
      "\tCalculation of k = 9\n",
      "\n",
      "\tCalculation of k = 10\n",
      "\n"
     ]
    },
    {
     "name": "stdout",
     "output_type": "stream",
     "text": [
      "[1] \"CBI: kmeans - k: 4\"\n",
      "[1] \"Cluster 1 : CNS,BREAST,CNS,CNS,BREAST,NSCLC,RENAL,RENAL,RENAL,RENAL,RENAL,RENAL,RENAL,NSCLC,MELANOMA,NSCLC,NSCLC\"\n",
      "[1] \"\"\n",
      "[1] \"Cluster 2 : MELANOMA,BREAST,BREAST,MELANOMA,MELANOMA,MELANOMA,MELANOMA,MELANOMA,MELANOMA\"\n",
      "[1] \"\"\n",
      "[1] \"Cluster 3 : OVARIAN,OVARIAN,OVARIAN,COLON,COLON,COLON,COLON,COLON,COLON,COLON,MCF7A-repro,BREAST,MCF7D-repro,BREAST\"\n",
      "[1] \"\"\n",
      "[1] \"Cluster 4 : K562B-repro,K562A-repro,LEUKEMIA,LEUKEMIA,LEUKEMIA,LEUKEMIA,LEUKEMIA\"\n",
      "[1] \"\"\n"
     ]
    }
   ],
   "source": [
    "dataset = r_atsc$trimmmedDataset\n",
    "qual_range = qualityRange(data=dataset, k.range=k.range, \n",
    "                            all_metrics=TRUE, seed=seed,\n",
    "                            cbi=cbi)\n",
    "optimal_k = r_atsc$optimalK_ATSC\n",
    "cluster_individuals = individuals_per_cluster(assay(qual_range[paste0(\"k_\",optimal_k)]))\n",
    "print(paste0(\"CBI: \", cbi, \" - k: \", optimal_k))\n",
    "for (cluster_i in 1:optimal_k) {\n",
    "    ind_in_cluster = paste(unlist(cluster_individuals[cluster_individuals$Cluster == cluster_i, ][\"Individual\"]), collapse = \",\")\n",
    "    print(paste(\"Cluster\", cluster_i, \":\", ind_in_cluster))\n",
    "    print(\"\")\n",
    "}"
   ]
  },
  {
   "cell_type": "markdown",
   "id": "516d4108",
   "metadata": {},
   "source": [
    "# PCA <a class=\"anchor\" id=\"pca\"></a>\n",
    "We employ Principal Component Analysis (PCA) as a dimensionality reduction technique to facilitate the visualization of clusters within our dataset. PCA allow us to transform the original high-dimensional data into a lower-dimensional space, while preserving as much of the variability as possible."
   ]
  },
  {
   "cell_type": "code",
   "execution_count": 28,
   "id": "6559b681-e656-434e-9253-286ddb0005de",
   "metadata": {},
   "outputs": [
    {
     "name": "stderr",
     "output_type": "stream",
     "text": [
      "Parameter 'npc' is null. Computing number of factors automatically:\n",
      "\n",
      "Number of factors, 'ncp' used is: 29\n",
      "\n"
     ]
    },
    {
     "data": {
      "text/html": [
       "<table class=\"dataframe\">\n",
       "<caption>A data.frame: 6 × 31</caption>\n",
       "<thead>\n",
       "\t<tr><th></th><th scope=col>Description</th><th scope=col>Dim.1</th><th scope=col>Dim.2</th><th scope=col>Dim.3</th><th scope=col>Dim.4</th><th scope=col>Dim.5</th><th scope=col>Dim.6</th><th scope=col>Dim.7</th><th scope=col>Dim.8</th><th scope=col>Dim.9</th><th scope=col>⋯</th><th scope=col>Dim.21</th><th scope=col>Dim.22</th><th scope=col>Dim.23</th><th scope=col>Dim.24</th><th scope=col>Dim.25</th><th scope=col>Dim.26</th><th scope=col>Dim.27</th><th scope=col>Dim.28</th><th scope=col>Dim.29</th><th scope=col>Cluster</th></tr>\n",
       "\t<tr><th></th><th scope=col>&lt;chr&gt;</th><th scope=col>&lt;dbl&gt;</th><th scope=col>&lt;dbl&gt;</th><th scope=col>&lt;dbl&gt;</th><th scope=col>&lt;dbl&gt;</th><th scope=col>&lt;dbl&gt;</th><th scope=col>&lt;dbl&gt;</th><th scope=col>&lt;dbl&gt;</th><th scope=col>&lt;dbl&gt;</th><th scope=col>&lt;dbl&gt;</th><th scope=col>⋯</th><th scope=col>&lt;dbl&gt;</th><th scope=col>&lt;dbl&gt;</th><th scope=col>&lt;dbl&gt;</th><th scope=col>&lt;dbl&gt;</th><th scope=col>&lt;dbl&gt;</th><th scope=col>&lt;dbl&gt;</th><th scope=col>&lt;dbl&gt;</th><th scope=col>&lt;dbl&gt;</th><th scope=col>&lt;dbl&gt;</th><th scope=col>&lt;fct&gt;</th></tr>\n",
       "</thead>\n",
       "<tbody>\n",
       "\t<tr><th scope=row>V3</th><td>CNS   </td><td> 8.443281</td><td> 1.2837276</td><td>-2.730788</td><td>-2.334543</td><td> 3.386855</td><td>-0.08200914</td><td> 3.8166496</td><td> 1.53402609</td><td> 0.0008771404</td><td>⋯</td><td> 0.23258915</td><td>-1.0888657</td><td>-0.6461685</td><td> 0.67756841</td><td>-0.38035194</td><td>-1.3315392</td><td> 0.3587664</td><td>-1.1597484</td><td>-1.088694243</td><td>1</td></tr>\n",
       "\t<tr><th scope=row>V5</th><td>BREAST</td><td>14.317840</td><td>-0.2231698</td><td>-4.986169</td><td>-8.279425</td><td> 4.963627</td><td>-1.37675819</td><td> 0.6143703</td><td>-3.88520766</td><td>-4.3588925740</td><td>⋯</td><td> 1.97096270</td><td> 2.6676383</td><td> 1.5215537</td><td> 0.09778877</td><td>-0.05676932</td><td> 1.8252419</td><td> 0.5969684</td><td>-1.2838781</td><td> 0.371569374</td><td>1</td></tr>\n",
       "\t<tr><th scope=row>V6</th><td>CNS   </td><td> 8.508632</td><td>-1.3559774</td><td>-3.802095</td><td>-5.866131</td><td> 1.767792</td><td>-0.68986194</td><td> 1.6325204</td><td>-2.18630617</td><td>-3.2912596031</td><td>⋯</td><td> 0.08559008</td><td>-0.1411586</td><td>-2.0161996</td><td> 0.07303914</td><td>-0.67049434</td><td>-0.9864597</td><td>-0.7325289</td><td> 2.1470482</td><td>-0.602120501</td><td>1</td></tr>\n",
       "\t<tr><th scope=row>V7</th><td>CNS   </td><td> 9.094124</td><td>-0.5096000</td><td>-5.206982</td><td>-4.991229</td><td> 0.363883</td><td>-2.49366026</td><td>-0.4232729</td><td>-1.15303325</td><td> 2.4650815648</td><td>⋯</td><td>-0.57353079</td><td>-2.4791822</td><td>-0.4426572</td><td>-0.55359757</td><td>-0.48672697</td><td> 0.9281907</td><td>-0.3087510</td><td> 1.6167604</td><td> 0.008248873</td><td>1</td></tr>\n",
       "\t<tr><th scope=row>V8</th><td>BREAST</td><td> 6.769294</td><td>-0.6830551</td><td>-2.964730</td><td>-4.730036</td><td> 1.115298</td><td>-1.71484112</td><td> 0.9479167</td><td> 0.05252866</td><td> 0.2614258161</td><td>⋯</td><td>-3.88297262</td><td>-0.4902225</td><td>-0.2772377</td><td>-0.21675905</td><td>-0.16964192</td><td>-1.0104850</td><td> 1.0872864</td><td>-0.9018895</td><td> 0.695679663</td><td>1</td></tr>\n",
       "\t<tr><th scope=row>V9</th><td>NSCLC </td><td> 7.780563</td><td> 2.4667444</td><td>-3.560884</td><td>-2.662415</td><td>-0.576558</td><td>-2.20116007</td><td>-2.0418858</td><td> 4.77738055</td><td> 2.2435424224</td><td>⋯</td><td>-0.83361984</td><td> 1.7434327</td><td>-1.0467981</td><td> 0.56110213</td><td> 1.97485988</td><td> 0.3726638</td><td>-1.8415197</td><td>-1.1110416</td><td>-0.654634242</td><td>1</td></tr>\n",
       "</tbody>\n",
       "</table>\n"
      ],
      "text/latex": [
       "A data.frame: 6 × 31\n",
       "\\begin{tabular}{r|lllllllllllllllllllll}\n",
       "  & Description & Dim.1 & Dim.2 & Dim.3 & Dim.4 & Dim.5 & Dim.6 & Dim.7 & Dim.8 & Dim.9 & ⋯ & Dim.21 & Dim.22 & Dim.23 & Dim.24 & Dim.25 & Dim.26 & Dim.27 & Dim.28 & Dim.29 & Cluster\\\\\n",
       "  & <chr> & <dbl> & <dbl> & <dbl> & <dbl> & <dbl> & <dbl> & <dbl> & <dbl> & <dbl> & ⋯ & <dbl> & <dbl> & <dbl> & <dbl> & <dbl> & <dbl> & <dbl> & <dbl> & <dbl> & <fct>\\\\\n",
       "\\hline\n",
       "\tV3 & CNS    &  8.443281 &  1.2837276 & -2.730788 & -2.334543 &  3.386855 & -0.08200914 &  3.8166496 &  1.53402609 &  0.0008771404 & ⋯ &  0.23258915 & -1.0888657 & -0.6461685 &  0.67756841 & -0.38035194 & -1.3315392 &  0.3587664 & -1.1597484 & -1.088694243 & 1\\\\\n",
       "\tV5 & BREAST & 14.317840 & -0.2231698 & -4.986169 & -8.279425 &  4.963627 & -1.37675819 &  0.6143703 & -3.88520766 & -4.3588925740 & ⋯ &  1.97096270 &  2.6676383 &  1.5215537 &  0.09778877 & -0.05676932 &  1.8252419 &  0.5969684 & -1.2838781 &  0.371569374 & 1\\\\\n",
       "\tV6 & CNS    &  8.508632 & -1.3559774 & -3.802095 & -5.866131 &  1.767792 & -0.68986194 &  1.6325204 & -2.18630617 & -3.2912596031 & ⋯ &  0.08559008 & -0.1411586 & -2.0161996 &  0.07303914 & -0.67049434 & -0.9864597 & -0.7325289 &  2.1470482 & -0.602120501 & 1\\\\\n",
       "\tV7 & CNS    &  9.094124 & -0.5096000 & -5.206982 & -4.991229 &  0.363883 & -2.49366026 & -0.4232729 & -1.15303325 &  2.4650815648 & ⋯ & -0.57353079 & -2.4791822 & -0.4426572 & -0.55359757 & -0.48672697 &  0.9281907 & -0.3087510 &  1.6167604 &  0.008248873 & 1\\\\\n",
       "\tV8 & BREAST &  6.769294 & -0.6830551 & -2.964730 & -4.730036 &  1.115298 & -1.71484112 &  0.9479167 &  0.05252866 &  0.2614258161 & ⋯ & -3.88297262 & -0.4902225 & -0.2772377 & -0.21675905 & -0.16964192 & -1.0104850 &  1.0872864 & -0.9018895 &  0.695679663 & 1\\\\\n",
       "\tV9 & NSCLC  &  7.780563 &  2.4667444 & -3.560884 & -2.662415 & -0.576558 & -2.20116007 & -2.0418858 &  4.77738055 &  2.2435424224 & ⋯ & -0.83361984 &  1.7434327 & -1.0467981 &  0.56110213 &  1.97485988 &  0.3726638 & -1.8415197 & -1.1110416 & -0.654634242 & 1\\\\\n",
       "\\end{tabular}\n"
      ],
      "text/markdown": [
       "\n",
       "A data.frame: 6 × 31\n",
       "\n",
       "| <!--/--> | Description &lt;chr&gt; | Dim.1 &lt;dbl&gt; | Dim.2 &lt;dbl&gt; | Dim.3 &lt;dbl&gt; | Dim.4 &lt;dbl&gt; | Dim.5 &lt;dbl&gt; | Dim.6 &lt;dbl&gt; | Dim.7 &lt;dbl&gt; | Dim.8 &lt;dbl&gt; | Dim.9 &lt;dbl&gt; | ⋯ ⋯ | Dim.21 &lt;dbl&gt; | Dim.22 &lt;dbl&gt; | Dim.23 &lt;dbl&gt; | Dim.24 &lt;dbl&gt; | Dim.25 &lt;dbl&gt; | Dim.26 &lt;dbl&gt; | Dim.27 &lt;dbl&gt; | Dim.28 &lt;dbl&gt; | Dim.29 &lt;dbl&gt; | Cluster &lt;fct&gt; |\n",
       "|---|---|---|---|---|---|---|---|---|---|---|---|---|---|---|---|---|---|---|---|---|---|\n",
       "| V3 | CNS    |  8.443281 |  1.2837276 | -2.730788 | -2.334543 |  3.386855 | -0.08200914 |  3.8166496 |  1.53402609 |  0.0008771404 | ⋯ |  0.23258915 | -1.0888657 | -0.6461685 |  0.67756841 | -0.38035194 | -1.3315392 |  0.3587664 | -1.1597484 | -1.088694243 | 1 |\n",
       "| V5 | BREAST | 14.317840 | -0.2231698 | -4.986169 | -8.279425 |  4.963627 | -1.37675819 |  0.6143703 | -3.88520766 | -4.3588925740 | ⋯ |  1.97096270 |  2.6676383 |  1.5215537 |  0.09778877 | -0.05676932 |  1.8252419 |  0.5969684 | -1.2838781 |  0.371569374 | 1 |\n",
       "| V6 | CNS    |  8.508632 | -1.3559774 | -3.802095 | -5.866131 |  1.767792 | -0.68986194 |  1.6325204 | -2.18630617 | -3.2912596031 | ⋯ |  0.08559008 | -0.1411586 | -2.0161996 |  0.07303914 | -0.67049434 | -0.9864597 | -0.7325289 |  2.1470482 | -0.602120501 | 1 |\n",
       "| V7 | CNS    |  9.094124 | -0.5096000 | -5.206982 | -4.991229 |  0.363883 | -2.49366026 | -0.4232729 | -1.15303325 |  2.4650815648 | ⋯ | -0.57353079 | -2.4791822 | -0.4426572 | -0.55359757 | -0.48672697 |  0.9281907 | -0.3087510 |  1.6167604 |  0.008248873 | 1 |\n",
       "| V8 | BREAST |  6.769294 | -0.6830551 | -2.964730 | -4.730036 |  1.115298 | -1.71484112 |  0.9479167 |  0.05252866 |  0.2614258161 | ⋯ | -3.88297262 | -0.4902225 | -0.2772377 | -0.21675905 | -0.16964192 | -1.0104850 |  1.0872864 | -0.9018895 |  0.695679663 | 1 |\n",
       "| V9 | NSCLC  |  7.780563 |  2.4667444 | -3.560884 | -2.662415 | -0.576558 | -2.20116007 | -2.0418858 |  4.77738055 |  2.2435424224 | ⋯ | -0.83361984 |  1.7434327 | -1.0467981 |  0.56110213 |  1.97485988 |  0.3726638 | -1.8415197 | -1.1110416 | -0.654634242 | 1 |\n",
       "\n"
      ],
      "text/plain": [
       "   Description Dim.1     Dim.2      Dim.3     Dim.4     Dim.5     Dim.6      \n",
       "V3 CNS          8.443281  1.2837276 -2.730788 -2.334543  3.386855 -0.08200914\n",
       "V5 BREAST      14.317840 -0.2231698 -4.986169 -8.279425  4.963627 -1.37675819\n",
       "V6 CNS          8.508632 -1.3559774 -3.802095 -5.866131  1.767792 -0.68986194\n",
       "V7 CNS          9.094124 -0.5096000 -5.206982 -4.991229  0.363883 -2.49366026\n",
       "V8 BREAST       6.769294 -0.6830551 -2.964730 -4.730036  1.115298 -1.71484112\n",
       "V9 NSCLC        7.780563  2.4667444 -3.560884 -2.662415 -0.576558 -2.20116007\n",
       "   Dim.7      Dim.8       Dim.9         ⋯ Dim.21      Dim.22     Dim.23    \n",
       "V3  3.8166496  1.53402609  0.0008771404 ⋯  0.23258915 -1.0888657 -0.6461685\n",
       "V5  0.6143703 -3.88520766 -4.3588925740 ⋯  1.97096270  2.6676383  1.5215537\n",
       "V6  1.6325204 -2.18630617 -3.2912596031 ⋯  0.08559008 -0.1411586 -2.0161996\n",
       "V7 -0.4232729 -1.15303325  2.4650815648 ⋯ -0.57353079 -2.4791822 -0.4426572\n",
       "V8  0.9479167  0.05252866  0.2614258161 ⋯ -3.88297262 -0.4902225 -0.2772377\n",
       "V9 -2.0418858  4.77738055  2.2435424224 ⋯ -0.83361984  1.7434327 -1.0467981\n",
       "   Dim.24      Dim.25      Dim.26     Dim.27     Dim.28     Dim.29      \n",
       "V3  0.67756841 -0.38035194 -1.3315392  0.3587664 -1.1597484 -1.088694243\n",
       "V5  0.09778877 -0.05676932  1.8252419  0.5969684 -1.2838781  0.371569374\n",
       "V6  0.07303914 -0.67049434 -0.9864597 -0.7325289  2.1470482 -0.602120501\n",
       "V7 -0.55359757 -0.48672697  0.9281907 -0.3087510  1.6167604  0.008248873\n",
       "V8 -0.21675905 -0.16964192 -1.0104850  1.0872864 -0.9018895  0.695679663\n",
       "V9  0.56110213  1.97485988  0.3726638 -1.8415197 -1.1110416 -0.654634242\n",
       "   Cluster\n",
       "V3 1      \n",
       "V5 1      \n",
       "V6 1      \n",
       "V7 1      \n",
       "V8 1      \n",
       "V9 1      "
      ]
     },
     "metadata": {},
     "output_type": "display_data"
    }
   ],
   "source": [
    "dataset[\"Cluster\"] = as.factor(as.numeric(cluster_individuals$Cluster))\n",
    "if (pca_suitability$pca_suitable) {\n",
    "    pca_df = dataset\n",
    "} else {\n",
    "    pca_matrix = dataset %>% select(-Cluster)\n",
    "    r_pca = evaluomeR::performPCA(dataset = pca_matrix)\n",
    "    pca_df = r_pca$dataset_ncp\n",
    "    pca_df$Cluster <- as.factor(dataset$Cluster)\n",
    "    pca_df$Description <- dataset$Description\n",
    "}\n",
    "head(pca_df)"
   ]
  },
  {
   "cell_type": "code",
   "execution_count": 29,
   "id": "9026386f",
   "metadata": {},
   "outputs": [
    {
     "name": "stderr",
     "output_type": "stream",
     "text": [
      "Warning message:\n",
      "\"\u001b[1m\u001b[22mThe following aesthetics were dropped during statistical transformation: \u001b[32mlabel\u001b[39m.\n",
      "\u001b[36mℹ\u001b[39m This can happen when ggplot fails to infer the correct grouping structure in\n",
      "  the data.\n",
      "\u001b[36mℹ\u001b[39m Did you forget to specify a `group` aesthetic or to convert a numerical\n",
      "  variable into a factor?\"\n",
      "Warning message:\n",
      "\"ggrepel: 1 unlabeled data points (too many overlaps). Consider increasing max.overlaps\"\n"
     ]
    },
    {
     "data": {
      "image/png": "[encoded data removed]",
      "text/plain": [
       "plot without title"
      ]
     },
     "metadata": {
      "image/png": {
       "height": 720,
       "width": 720
      }
     },
     "output_type": "display_data"
    }
   ],
   "source": [
    "options(repr.plot.width=12, repr.plot.height=12)\n",
    "custom_colors = custom_colors <- c(\"#2E86C1\", \"#28B463\", \"#E74C3C\", \"#9B59B6\", \"#f95d6a\", \n",
    "                                    \"#7F8C8D\", \"#FF5733\", \"#8E44AD\", \"#003f5c\", \"#ffa600\")\n",
    "\n",
    "cluster_shapes =  c(16, 17, 15, 18, 19, 20, 21, 22, 23, 24)\n",
    "cluster_labels = c(\"NSCLC,CNS, Renal\", \"Melanoma\", \"Breast, Ovarian, Colon\", \"Leukemia\")\n",
    "\n",
    "\n",
    "ggplot(pca_df, aes(x = Dim.1, y = Dim.2, shape = Cluster, color = Cluster, label = Description)) +\n",
    "  geom_point(size = 3) +\n",
    "  geom_text_repel(\n",
    "    vjust = 1,\n",
    "    hjust = 1,\n",
    "    size = 5,\n",
    "    show.legend = FALSE,\n",
    "    point.padding = 0.4,\n",
    "    box.padding = 0.25,\n",
    "    max.overlaps = 10,\n",
    "    segment.color = \"grey70\",\n",
    "    segment.size = 0.2\n",
    "  ) +\n",
    "  stat_ellipse(aes(fill = Cluster), level = 0.95, alpha = 0.2, geom = \"polygon\") +\n",
    "  labs(\n",
    "    title = \"NCI-60 individuals\",\n",
    "    x = \"Principal Component 1\",\n",
    "    y = \"Principal Component 2\"\n",
    "  ) +\n",
    "  scale_shape_manual(values = cluster_shapes, labels = cluster_labels) +\n",
    "  scale_color_manual(values = custom_colors, labels = cluster_labels)  +\n",
    "  scale_fill_manual(values = custom_colors, labels = cluster_labels)   +\n",
    "  theme_minimal(base_size = 15) +\n",
    "  theme(\n",
    "    plot.title = element_text(hjust = 0.5, size = 18, face = \"bold\"),\n",
    "    axis.title.x = element_text(size = 20),\n",
    "    axis.title.y = element_text(size = 20),\n",
    "    axis.text = element_text(size = 16),\n",
    "    legend.position = \"right\",\n",
    "    legend.title = element_text(size = 18),\n",
    "    legend.text = element_text(size = 16),\n",
    "    panel.grid.major = element_line(color = \"grey90\"),\n",
    "    panel.grid.minor = element_blank()\n",
    "  )"
   ]
  },
  {
   "cell_type": "code",
   "execution_count": null,
   "id": "bcf9b6c9-cb68-49a6-afbe-6a713f6824e7",
   "metadata": {},
   "outputs": [],
   "source": []
  },
  {
   "cell_type": "markdown",
   "id": "f3cede33",
   "metadata": {},
   "source": [
    "# Sensitivity <a class=\"anchor\" id=\"sensitivity\"></a>\n",
    "In this Section we evaluate the sensitivity of our clustering using the `MLmetrics::Sensitivity` method. Sensitivity, or the true positive rate, measures the ability to correctly identify positive instances within the data. By focusing on sensitivity, we aim to ensure that our model effectively captures the relevant clusters, minimizing the number of false negatives. "
   ]
  },
  {
   "cell_type": "code",
   "execution_count": 30,
   "id": "6c304dd0",
   "metadata": {},
   "outputs": [
    {
     "data": {
      "text/html": [
       "<table class=\"dataframe\">\n",
       "<caption>A data.frame: 6 × 2</caption>\n",
       "<thead>\n",
       "\t<tr><th></th><th scope=col>Description</th><th scope=col>Class</th></tr>\n",
       "\t<tr><th></th><th scope=col>&lt;chr&gt;</th><th scope=col>&lt;chr&gt;</th></tr>\n",
       "</thead>\n",
       "<tbody>\n",
       "\t<tr><th scope=row>V3</th><td>CNS   </td><td>CNS   </td></tr>\n",
       "\t<tr><th scope=row>V5</th><td>BREAST</td><td>BREAST</td></tr>\n",
       "\t<tr><th scope=row>V6</th><td>CNS   </td><td>CNS   </td></tr>\n",
       "\t<tr><th scope=row>V7</th><td>CNS   </td><td>CNS   </td></tr>\n",
       "\t<tr><th scope=row>V8</th><td>BREAST</td><td>BREAST</td></tr>\n",
       "\t<tr><th scope=row>V9</th><td>NSCLC </td><td>NSCLC </td></tr>\n",
       "</tbody>\n",
       "</table>\n"
      ],
      "text/latex": [
       "A data.frame: 6 × 2\n",
       "\\begin{tabular}{r|ll}\n",
       "  & Description & Class\\\\\n",
       "  & <chr> & <chr>\\\\\n",
       "\\hline\n",
       "\tV3 & CNS    & CNS   \\\\\n",
       "\tV5 & BREAST & BREAST\\\\\n",
       "\tV6 & CNS    & CNS   \\\\\n",
       "\tV7 & CNS    & CNS   \\\\\n",
       "\tV8 & BREAST & BREAST\\\\\n",
       "\tV9 & NSCLC  & NSCLC \\\\\n",
       "\\end{tabular}\n"
      ],
      "text/markdown": [
       "\n",
       "A data.frame: 6 × 2\n",
       "\n",
       "| <!--/--> | Description &lt;chr&gt; | Class &lt;chr&gt; |\n",
       "|---|---|---|\n",
       "| V3 | CNS    | CNS    |\n",
       "| V5 | BREAST | BREAST |\n",
       "| V6 | CNS    | CNS    |\n",
       "| V7 | CNS    | CNS    |\n",
       "| V8 | BREAST | BREAST |\n",
       "| V9 | NSCLC  | NSCLC  |\n",
       "\n"
      ],
      "text/plain": [
       "   Description Class \n",
       "V3 CNS         CNS   \n",
       "V5 BREAST      BREAST\n",
       "V6 CNS         CNS   \n",
       "V7 CNS         CNS   \n",
       "V8 BREAST      BREAST\n",
       "V9 NSCLC       NSCLC "
      ]
     },
     "metadata": {},
     "output_type": "display_data"
    }
   ],
   "source": [
    "dataset[\"Class\"] = dataset[\"Description\"]\n",
    "head(dataset)[, c(\"Description\", \"Class\")]"
   ]
  },
  {
   "cell_type": "code",
   "execution_count": 31,
   "id": "518d502b",
   "metadata": {},
   "outputs": [
    {
     "data": {
      "text/html": [
       "<table class=\"dataframe\">\n",
       "<caption>A data.frame: 6 × 4</caption>\n",
       "<thead>\n",
       "\t<tr><th></th><th scope=col>Description</th><th scope=col>Class</th><th scope=col>Cluster</th><th scope=col>Class_n</th></tr>\n",
       "\t<tr><th></th><th scope=col>&lt;chr&gt;</th><th scope=col>&lt;chr&gt;</th><th scope=col>&lt;fct&gt;</th><th scope=col>&lt;dbl&gt;</th></tr>\n",
       "</thead>\n",
       "<tbody>\n",
       "\t<tr><th scope=row>V3</th><td>CNS   </td><td>CNS   </td><td>1</td><td>1</td></tr>\n",
       "\t<tr><th scope=row>V5</th><td>BREAST</td><td>BREAST</td><td>1</td><td>5</td></tr>\n",
       "\t<tr><th scope=row>V6</th><td>CNS   </td><td>CNS   </td><td>1</td><td>1</td></tr>\n",
       "\t<tr><th scope=row>V7</th><td>CNS   </td><td>CNS   </td><td>1</td><td>1</td></tr>\n",
       "\t<tr><th scope=row>V8</th><td>BREAST</td><td>BREAST</td><td>1</td><td>5</td></tr>\n",
       "\t<tr><th scope=row>V9</th><td>NSCLC </td><td>NSCLC </td><td>1</td><td>6</td></tr>\n",
       "</tbody>\n",
       "</table>\n"
      ],
      "text/latex": [
       "A data.frame: 6 × 4\n",
       "\\begin{tabular}{r|llll}\n",
       "  & Description & Class & Cluster & Class\\_n\\\\\n",
       "  & <chr> & <chr> & <fct> & <dbl>\\\\\n",
       "\\hline\n",
       "\tV3 & CNS    & CNS    & 1 & 1\\\\\n",
       "\tV5 & BREAST & BREAST & 1 & 5\\\\\n",
       "\tV6 & CNS    & CNS    & 1 & 1\\\\\n",
       "\tV7 & CNS    & CNS    & 1 & 1\\\\\n",
       "\tV8 & BREAST & BREAST & 1 & 5\\\\\n",
       "\tV9 & NSCLC  & NSCLC  & 1 & 6\\\\\n",
       "\\end{tabular}\n"
      ],
      "text/markdown": [
       "\n",
       "A data.frame: 6 × 4\n",
       "\n",
       "| <!--/--> | Description &lt;chr&gt; | Class &lt;chr&gt; | Cluster &lt;fct&gt; | Class_n &lt;dbl&gt; |\n",
       "|---|---|---|---|---|\n",
       "| V3 | CNS    | CNS    | 1 | 1 |\n",
       "| V5 | BREAST | BREAST | 1 | 5 |\n",
       "| V6 | CNS    | CNS    | 1 | 1 |\n",
       "| V7 | CNS    | CNS    | 1 | 1 |\n",
       "| V8 | BREAST | BREAST | 1 | 5 |\n",
       "| V9 | NSCLC  | NSCLC  | 1 | 6 |\n",
       "\n"
      ],
      "text/plain": [
       "   Description Class  Cluster Class_n\n",
       "V3 CNS         CNS    1       1      \n",
       "V5 BREAST      BREAST 1       5      \n",
       "V6 CNS         CNS    1       1      \n",
       "V7 CNS         CNS    1       1      \n",
       "V8 BREAST      BREAST 1       5      \n",
       "V9 NSCLC       NSCLC  1       6      "
      ]
     },
     "metadata": {},
     "output_type": "display_data"
    }
   ],
   "source": [
    "# Map categories with cluster number\n",
    "dataset[\"Class_n\"] = gold_standard_vector\n",
    "# Table of prediction vs actual classification\n",
    "head(dataset)[, c(\"Description\", \"Class\", \"Cluster\", \"Class_n\")]"
   ]
  },
  {
   "cell_type": "code",
   "execution_count": 32,
   "id": "15224bba",
   "metadata": {},
   "outputs": [
    {
     "name": "stdout",
     "output_type": "stream",
     "text": [
      "[1] \"gold standard\"\n"
     ]
    },
    {
     "data": {
      "text/html": [
       "<style>\n",
       ".list-inline {list-style: none; margin:0; padding: 0}\n",
       ".list-inline>li {display: inline-block}\n",
       ".list-inline>li:not(:last-child)::after {content: \"\\00b7\"; padding: 0 .5ex}\n",
       "</style>\n",
       "<ol class=list-inline><li>1</li><li>5</li><li>1</li><li>1</li><li>5</li><li>6</li><li>7</li><li>7</li><li>7</li><li>7</li><li>7</li><li>7</li><li>7</li><li>6</li><li>2</li><li>8</li><li>8</li><li>8</li><li>6</li><li>6</li><li>4</li><li>4</li><li>4</li><li>4</li><li>4</li><li>4</li><li>4</li><li>3</li><li>3</li><li>3</li><li>3</li><li>3</li><li>3</li><li>3</li><li>5</li><li>5</li><li>5</li><li>5</li><li>2</li><li>5</li><li>5</li><li>2</li><li>2</li><li>2</li><li>2</li><li>2</li><li>2</li></ol>\n"
      ],
      "text/latex": [
       "\\begin{enumerate*}\n",
       "\\item 1\n",
       "\\item 5\n",
       "\\item 1\n",
       "\\item 1\n",
       "\\item 5\n",
       "\\item 6\n",
       "\\item 7\n",
       "\\item 7\n",
       "\\item 7\n",
       "\\item 7\n",
       "\\item 7\n",
       "\\item 7\n",
       "\\item 7\n",
       "\\item 6\n",
       "\\item 2\n",
       "\\item 8\n",
       "\\item 8\n",
       "\\item 8\n",
       "\\item 6\n",
       "\\item 6\n",
       "\\item 4\n",
       "\\item 4\n",
       "\\item 4\n",
       "\\item 4\n",
       "\\item 4\n",
       "\\item 4\n",
       "\\item 4\n",
       "\\item 3\n",
       "\\item 3\n",
       "\\item 3\n",
       "\\item 3\n",
       "\\item 3\n",
       "\\item 3\n",
       "\\item 3\n",
       "\\item 5\n",
       "\\item 5\n",
       "\\item 5\n",
       "\\item 5\n",
       "\\item 2\n",
       "\\item 5\n",
       "\\item 5\n",
       "\\item 2\n",
       "\\item 2\n",
       "\\item 2\n",
       "\\item 2\n",
       "\\item 2\n",
       "\\item 2\n",
       "\\end{enumerate*}\n"
      ],
      "text/markdown": [
       "1. 1\n",
       "2. 5\n",
       "3. 1\n",
       "4. 1\n",
       "5. 5\n",
       "6. 6\n",
       "7. 7\n",
       "8. 7\n",
       "9. 7\n",
       "10. 7\n",
       "11. 7\n",
       "12. 7\n",
       "13. 7\n",
       "14. 6\n",
       "15. 2\n",
       "16. 8\n",
       "17. 8\n",
       "18. 8\n",
       "19. 6\n",
       "20. 6\n",
       "21. 4\n",
       "22. 4\n",
       "23. 4\n",
       "24. 4\n",
       "25. 4\n",
       "26. 4\n",
       "27. 4\n",
       "28. 3\n",
       "29. 3\n",
       "30. 3\n",
       "31. 3\n",
       "32. 3\n",
       "33. 3\n",
       "34. 3\n",
       "35. 5\n",
       "36. 5\n",
       "37. 5\n",
       "38. 5\n",
       "39. 2\n",
       "40. 5\n",
       "41. 5\n",
       "42. 2\n",
       "43. 2\n",
       "44. 2\n",
       "45. 2\n",
       "46. 2\n",
       "47. 2\n",
       "\n",
       "\n"
      ],
      "text/plain": [
       " [1] 1 5 1 1 5 6 7 7 7 7 7 7 7 6 2 8 8 8 6 6 4 4 4 4 4 4 4 3 3 3 3 3 3 3 5 5 5 5\n",
       "[39] 2 5 5 2 2 2 2 2 2"
      ]
     },
     "metadata": {},
     "output_type": "display_data"
    },
    {
     "name": "stdout",
     "output_type": "stream",
     "text": [
      "[1] \"predicted\"\n"
     ]
    },
    {
     "data": {
      "text/html": [
       "<style>\n",
       ".list-inline {list-style: none; margin:0; padding: 0}\n",
       ".list-inline>li {display: inline-block}\n",
       ".list-inline>li:not(:last-child)::after {content: \"\\00b7\"; padding: 0 .5ex}\n",
       "</style>\n",
       "<ol class=list-inline><li>1</li><li>1</li><li>1</li><li>1</li><li>1</li><li>1</li><li>1</li><li>1</li><li>1</li><li>1</li><li>1</li><li>1</li><li>1</li><li>1</li><li>1</li><li>3</li><li>3</li><li>3</li><li>1</li><li>1</li><li>4</li><li>4</li><li>4</li><li>4</li><li>4</li><li>4</li><li>4</li><li>3</li><li>3</li><li>3</li><li>3</li><li>3</li><li>3</li><li>3</li><li>3</li><li>3</li><li>3</li><li>3</li><li>2</li><li>2</li><li>2</li><li>2</li><li>2</li><li>2</li><li>2</li><li>2</li><li>2</li></ol>\n",
       "\n",
       "<details>\n",
       "\t<summary style=display:list-item;cursor:pointer>\n",
       "\t\t<strong>Levels</strong>:\n",
       "\t</summary>\n",
       "\t<style>\n",
       "\t.list-inline {list-style: none; margin:0; padding: 0}\n",
       "\t.list-inline>li {display: inline-block}\n",
       "\t.list-inline>li:not(:last-child)::after {content: \"\\00b7\"; padding: 0 .5ex}\n",
       "\t</style>\n",
       "\t<ol class=list-inline><li>'1'</li><li>'2'</li><li>'3'</li><li>'4'</li></ol>\n",
       "</details>"
      ],
      "text/latex": [
       "\\begin{enumerate*}\n",
       "\\item 1\n",
       "\\item 1\n",
       "\\item 1\n",
       "\\item 1\n",
       "\\item 1\n",
       "\\item 1\n",
       "\\item 1\n",
       "\\item 1\n",
       "\\item 1\n",
       "\\item 1\n",
       "\\item 1\n",
       "\\item 1\n",
       "\\item 1\n",
       "\\item 1\n",
       "\\item 1\n",
       "\\item 3\n",
       "\\item 3\n",
       "\\item 3\n",
       "\\item 1\n",
       "\\item 1\n",
       "\\item 4\n",
       "\\item 4\n",
       "\\item 4\n",
       "\\item 4\n",
       "\\item 4\n",
       "\\item 4\n",
       "\\item 4\n",
       "\\item 3\n",
       "\\item 3\n",
       "\\item 3\n",
       "\\item 3\n",
       "\\item 3\n",
       "\\item 3\n",
       "\\item 3\n",
       "\\item 3\n",
       "\\item 3\n",
       "\\item 3\n",
       "\\item 3\n",
       "\\item 2\n",
       "\\item 2\n",
       "\\item 2\n",
       "\\item 2\n",
       "\\item 2\n",
       "\\item 2\n",
       "\\item 2\n",
       "\\item 2\n",
       "\\item 2\n",
       "\\end{enumerate*}\n",
       "\n",
       "\\emph{Levels}: \\begin{enumerate*}\n",
       "\\item '1'\n",
       "\\item '2'\n",
       "\\item '3'\n",
       "\\item '4'\n",
       "\\end{enumerate*}\n"
      ],
      "text/markdown": [
       "1. 1\n",
       "2. 1\n",
       "3. 1\n",
       "4. 1\n",
       "5. 1\n",
       "6. 1\n",
       "7. 1\n",
       "8. 1\n",
       "9. 1\n",
       "10. 1\n",
       "11. 1\n",
       "12. 1\n",
       "13. 1\n",
       "14. 1\n",
       "15. 1\n",
       "16. 3\n",
       "17. 3\n",
       "18. 3\n",
       "19. 1\n",
       "20. 1\n",
       "21. 4\n",
       "22. 4\n",
       "23. 4\n",
       "24. 4\n",
       "25. 4\n",
       "26. 4\n",
       "27. 4\n",
       "28. 3\n",
       "29. 3\n",
       "30. 3\n",
       "31. 3\n",
       "32. 3\n",
       "33. 3\n",
       "34. 3\n",
       "35. 3\n",
       "36. 3\n",
       "37. 3\n",
       "38. 3\n",
       "39. 2\n",
       "40. 2\n",
       "41. 2\n",
       "42. 2\n",
       "43. 2\n",
       "44. 2\n",
       "45. 2\n",
       "46. 2\n",
       "47. 2\n",
       "\n",
       "\n",
       "\n",
       "**Levels**: 1. '1'\n",
       "2. '2'\n",
       "3. '3'\n",
       "4. '4'\n",
       "\n",
       "\n"
      ],
      "text/plain": [
       " [1] 1 1 1 1 1 1 1 1 1 1 1 1 1 1 1 3 3 3 1 1 4 4 4 4 4 4 4 3 3 3 3 3 3 3 3 3 3 3\n",
       "[39] 2 2 2 2 2 2 2 2 2\n",
       "Levels: 1 2 3 4"
      ]
     },
     "metadata": {},
     "output_type": "display_data"
    }
   ],
   "source": [
    "# Getting a vector of prediction vs actual classification\n",
    "#actual = as.factor(as.vector(unlist(dataset[\"Class_n\"])))\n",
    "predicted <- factor(as.vector(unlist(dataset[\"Cluster\"])))\n",
    "\n",
    "print(\"gold standard\")\n",
    "gold_standard_vector\n",
    "print(\"predicted\")\n",
    "predicted"
   ]
  },
  {
   "cell_type": "code",
   "execution_count": 33,
   "id": "01ac8a81",
   "metadata": {},
   "outputs": [
    {
     "name": "stdout",
     "output_type": "stream",
     "text": [
      "[1] \"Sensitivity: 100.00%\"\n"
     ]
    }
   ],
   "source": [
    "sens = MLmetrics::Sensitivity(y_pred = predicted, y_true = gold_standard_vector)\n",
    "sens = format(round(sens*100, 2), nsmall = 2)\n",
    "print(paste0(\"Sensitivity: \", sens, \"%\"))"
   ]
  },
  {
   "cell_type": "markdown",
   "id": "7cbef73d",
   "metadata": {},
   "source": [
    "# CER <a class=\"anchor\" id=\"cer\"></a>\n",
    "To assess the overall accuracy of our clustering, we compute the Classification Error Rate (CER) and compare it with the gold standard classification. CER represents the proportion of misclassified instances, thus providing a clear measure of the clustering performance in assigning individuals to the correct clusters."
   ]
  },
  {
   "cell_type": "code",
   "execution_count": 34,
   "id": "046b1d20",
   "metadata": {},
   "outputs": [
    {
     "name": "stdout",
     "output_type": "stream",
     "text": [
      "[1] \"CER: 19.15%\"\n"
     ]
    }
   ],
   "source": [
    "cer = CER(predicted, gold_standard_vector)\n",
    "cer = format(round(cer*100, 2), nsmall = 2)\n",
    "print(paste0(\"CER: \", cer, \"%\"))"
   ]
  }
 ],
 "metadata": {
  "kernelspec": {
   "display_name": "R",
   "language": "R",
   "name": "ir"
  },
  "language_info": {
   "codemirror_mode": "r",
   "file_extension": ".r",
   "mimetype": "text/x-r-source",
   "name": "R",
   "pygments_lexer": "r",
   "version": "4.4.1"
  }
 },
 "nbformat": 4,
 "nbformat_minor": 5
}
