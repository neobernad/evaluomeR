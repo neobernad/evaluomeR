{
 "cells": [
  {
   "cell_type": "markdown",
   "id": "285a2f02",
   "metadata": {},
   "source": [
    "# NCI60 use case"
   ]
  },
  {
   "cell_type": "code",
   "execution_count": 45,
   "id": "9ba99e51",
   "metadata": {
    "scrolled": true
   },
   "outputs": [],
   "source": [
    "library(\"ISLR\") \n",
    "library(\"evaluomeR\")\n",
    "library(\"dplyr\")\n",
    "library(\"caret\")\n",
    "library(\"MLmetrics\")\n",
    "\n",
    "options(scipen=10)"
   ]
  },
  {
   "cell_type": "code",
   "execution_count": 2,
   "id": "5b925569",
   "metadata": {
    "scrolled": true
   },
   "outputs": [
    {
     "data": {
      "text/plain": [
       "[1] '1.7.10'"
      ]
     },
     "metadata": {},
     "output_type": "display_data"
    }
   ],
   "source": [
    "packageVersion(\"evaluomeR\")"
   ]
  },
  {
   "cell_type": "markdown",
   "id": "52215d63",
   "metadata": {},
   "source": [
    "# Table of contents\n",
    "* [Dataset](#dataset)\n",
    "    * [Removing highly correlated metrics](#correlated)\n",
    "    * [Top 200](#top)\n",
    "    * [evaluomeR - optimal $k$ analysis](#evaluomer)\n",
    "* [PCA](#pca)\n",
    "* [Sensitivity](#sensitivity)\n",
    "* [CER](#cer)"
   ]
  },
  {
   "cell_type": "markdown",
   "id": "8c073791",
   "metadata": {},
   "source": [
    "# Dataset <a class=\"anchor\" id=\"dataset\"></a>"
   ]
  },
  {
   "cell_type": "code",
   "execution_count": 14,
   "id": "50cb9920",
   "metadata": {},
   "outputs": [
    {
     "data": {
      "text/html": [
       "<table>\n",
       "<thead><tr><th></th><th scope=col>1</th><th scope=col>2</th><th scope=col>3</th><th scope=col>4</th><th scope=col>5</th><th scope=col>6</th><th scope=col>7</th><th scope=col>8</th><th scope=col>9</th><th scope=col>10</th><th scope=col>...</th><th scope=col>6821</th><th scope=col>6822</th><th scope=col>6823</th><th scope=col>6824</th><th scope=col>6825</th><th scope=col>6826</th><th scope=col>6827</th><th scope=col>6828</th><th scope=col>6829</th><th scope=col>6830</th></tr></thead>\n",
       "<tbody>\n",
       "\t<tr><th scope=row>V1</th><td>0.300000     </td><td> 1.180000    </td><td> 0.550000    </td><td> 1.140000    </td><td>-0.265000    </td><td>-7.000000e-02</td><td> 0.350000    </td><td>-0.315000    </td><td>-0.45000000  </td><td>-0.65498050  </td><td>...          </td><td>-0.9900195   </td><td> 0.000000    </td><td> 0.030000    </td><td>-0.175000    </td><td> 0.6299805   </td><td>-0.030000    </td><td> 0.0000000   </td><td> 0.280000    </td><td>-0.340000    </td><td>-1.930000    </td></tr>\n",
       "\t<tr><th scope=row>V2</th><td>0.679961     </td><td> 1.289961    </td><td> 0.169961    </td><td> 0.379961    </td><td> 0.464961    </td><td> 5.799610e-01</td><td> 0.699961    </td><td> 0.724961    </td><td>-0.04003899  </td><td>-0.28501950  </td><td>...          </td><td>-0.2700585   </td><td>-0.300039    </td><td>-0.250039    </td><td>-0.535039    </td><td> 0.1099415   </td><td>-0.860039    </td><td>-1.2500490   </td><td>-0.770039    </td><td>-0.390039    </td><td>-2.000039    </td></tr>\n",
       "\t<tr><th scope=row>V3</th><td>0.940000     </td><td>-0.040000    </td><td>-0.170000    </td><td>-0.040000    </td><td>-0.605000    </td><td> 0.000000e+00</td><td> 0.090000    </td><td> 0.645000    </td><td> 0.43000000  </td><td> 0.47501950  </td><td>...          </td><td> 0.3199805   </td><td> 0.120000    </td><td>-0.740000    </td><td>-0.595000    </td><td>-0.2700195   </td><td>-0.150000    </td><td> 0.0000000   </td><td>-0.120000    </td><td>-0.410000    </td><td> 0.000000    </td></tr>\n",
       "\t<tr><th scope=row>V4</th><td>0.280000     </td><td>-0.310000    </td><td> 0.680000    </td><td>-0.810000    </td><td> 0.625000    </td><td>-1.387779e-17</td><td> 0.170000    </td><td> 0.245000    </td><td> 0.02000000  </td><td> 0.09501949  </td><td>...          </td><td>-1.2400200   </td><td>-0.110000    </td><td>-0.160000    </td><td> 0.095000    </td><td>-0.3500195   </td><td>-0.300000    </td><td>-1.1500100   </td><td> 1.090000    </td><td>-0.260000    </td><td>-1.100000    </td></tr>\n",
       "\t<tr><th scope=row>V5</th><td>0.485000     </td><td>-0.465000    </td><td> 0.395000    </td><td> 0.905000    </td><td> 0.200000    </td><td>-5.000000e-03</td><td> 0.085000    </td><td> 0.110000    </td><td> 0.23500000  </td><td> 1.49001949  </td><td>...          </td><td> 0.5549805   </td><td>-0.775000    </td><td>-0.515000    </td><td>-0.320000    </td><td> 0.6349805   </td><td> 0.605000    </td><td> 0.0000000   </td><td> 0.745000    </td><td> 0.425000    </td><td> 0.145000    </td></tr>\n",
       "\t<tr><th scope=row>V6</th><td>0.310000     </td><td>-0.030000    </td><td>-0.100000    </td><td>-0.460000    </td><td>-0.205000    </td><td>-5.400000e-01</td><td>-0.640000    </td><td>-0.585000    </td><td>-0.77000000  </td><td>-0.24498050  </td><td>...          </td><td>-0.5900195   </td><td> 0.000000    </td><td>-0.740000    </td><td>-2.095000    </td><td>-1.3900200   </td><td>-0.400000    </td><td> 0.6999902   </td><td> 0.290000    </td><td> 0.550000    </td><td> 0.000000    </td></tr>\n",
       "</tbody>\n",
       "</table>\n"
      ],
      "text/latex": [
       "\\begin{tabular}{r|llllllllllllllllllllllllllllllllllllllllllllllllllllllllllllllllllllllllllllllllllllllllllllllllllllllllllllllllllllllllllllllllllllllllllllllllllllllllllllllllllllllllllllllllllllllllllllllllllllllllllllllllllllllllllllllllllllllllllllllllllllllllllllllllllllllllllllllllllllllllllllllllllllllllllllllllllllllllllllllllllllllllllllllllllllllllllllllllllllllllllllllllllllllllllllllllllllllllllllllllllllllllllllllllllllllllllllllllllllllllllllllllllllllllllllllllllllllllllllllllllllllllllllllllllllllllllllllllllllllllllllllllllllllllllllllllllllllllllllllllllllllllllllllllllllllllllllllllllllllllllllllllllllllllllllllllllllllllllllllllllllllllllllllllllllllllllllllllllllllllllllllllllllllllllllllllllllllllllllllllllllllllllllllllllllllllllllllllllllllllllllllllllllllllllllllllllllllllllllllllllllllllllllllllllllllllllllllllllllllllllllllllllllllllllllllllllllllllllllllllllllllllllllllllllllllllllllllllllllllllllllllllllllllllllllllllllllllllllllllllllllllllllllllllllllllllllllllllllllllllllllllllllllllllllllllllllllllllllllllllllllllllllllllllllllllllllllllllllllllllllllllllllllllllllllllllllllllllllllllllllllllllllllllllllllllllllllllllllllllllllllllllllllllllllllllllllllllllllllllllllllllllllllllllllllllllllllllllllllllllllllllllllllllllllllllllllllllllllllllllllllllllllllllllllllllllllllllllllllllllllllllllllllllllllllllllllllllllllllllllllllllllllllllllllllllllllllllllllllllllllllllllllllllllllllllllllllllllllllllllllllllllllllllllllllllllllllllllllllllllllllllllllllllllllllllllllllllllllllllllllllllllllllllllllllllllllllllllllllllllllllllllllllllllllllllllllllllllllllllllllllllllllllllllllllllllllllllllllllllllllllllllllllllllllllllllllllllllllllllllllllllllllllllllllllllllllllllllllllllllllllllllllllllllllllllllllllllllllllllllllllllllllllllllllllllllllllllllllllllllllllllllllllllllllllllllllllllllllllllllllllllllllllllllllllllllllllllllllllllllllllllllllllllllllllllllllllllllllllllllllllllllllllllllllllllllllllllllllllllllllllllllllllllllllllllllllllllllllllllllllllllllllllllllllllllllllllllllllllllllllllllllllllllllllllllllllllllllllllllllllllllllllllllllllllllllllllllllllllllllllllllllllllllllllllllllllllllllllllllllllllllllllllllllllllllllllllllllllllllllllllllllllllllllllllllllllllllllllllllllllllllllllllllllllllllllllllllllllllllllllllllllllllllllllllllllllllllllllllllllllllllllllllllllllllllllllllllllllllllllllllllllllllllllllllllllllllllllllllllllllllllllllllllllllllllllllllllllllllllllllllllllllllllllllllllllllllllllllllllllllllllllllllllllllllllllllllllllllllllllllllllllllllllllllllllllllllllllllllllllllllllllllllllllllllllllllllllllllllllllllllllllllllllllllllllllllllllllllllllllllllllllllllllllllllllllllllllllllllllllllllllllllllllllllllllllllllllllllllllllllllllllllllllllllllllllllllllllllllllllllllllllllllllllllllllllllllllllllllllllllllllllllllllllllllllllllllllllllllllllllllllllllllllllllllllllllllllllllllllllllllllllllllllllllllllllllllllllllllllllllllllllllllllllllllllllllllllllllllllllllllllllllllllllllllllllllllllllllllllllllllllllllllllllllllllllllllllllllllllllllllllllllllllllllllllllllllllllllllllllllllllllllllllllllllllllllllllllllllllllllllllllllllllllllllllllllllllllllllllllllllllllllllllllllllllllllllllllllllllllllllllllllllllllllllllllllllllllllllllllllllllllllllllllllllllllllllllllllllllllllllllllllllllllllllllllllllllllllllllllllllllllllllllllllllllllllllllllllllllllllllllllllllllllllllllllllllllllllllllllllllllllllllllllllllllllllllllllllllllllllllllllllllllllllllllllllllllllllllllllllllllllllllllllllllllllllllllllllllllllllllllllllllllllllllllllllllllllllllllllllllllllllllllllllllllllllllllllllllllllllllllllllllllllllllllllllllllllllllllllllllllllllllllllllllllllllllllllllllllllllllllllllllllllllllllllllllllllllllllllllllllllllllllllllllllllllllllllllllllllllllllllllllllllllllllllllllllllllllllllllllllllllllllllllllllllllllllllllllllllllllllllllllllllllllllllllllllllllllllllllllllllllllllllllllllllllllllllllllllllllllllllllllllllllllllllllllllllllllllllllllllllllllllllllllllllllllllllllllllllllllllllllllllllllllllllllllllllllllllllllllllllllllllllllllllllllllllllllllllllllllllllllllllllllllllllllllllllllllllllllllllllllllllllllllllllllllllllllllllllllllllllllllllllllllllllllllllllllllllllllllllllllllllllllllllllllllllllllllllllllllllllllllllllllllllllllllllllllllllllllllllllllllllllllllllllllllllllllllllllllllllllllllllllllllllllllllllllllllllllllllllllllllllllllllllllllllllllllllllllllllllllllllllllllllllllllllllllllllllllllllllllllllllllllllllllllllllllllllllllllllllllllllllllllllllllllllllllllllllllllllllllllllllllllllllllllllllllllllllllllllllllllllllllllllllllllllllllllllllllllllllllllllllllllllllllllllllllllllllllllllllllllllllllllllllllllllllllllllllllllllllllllllllllllllllllllllllllllllllllllllllllllllllllllllllllllllllllllllllllllllllllllllllllllllllllllllllllllllllllllllllllllllllllllllllllllllllllllllllllllllllllllllllllllllllllllllllllllllllllllllllllllllllllllllllllllllllllllllllllllllllllllllllllllllllllllllllllllllllllllllllllllllllllllllllllllllllllllllllllllllllllllllllllllllllllllllllllllllllllllllllllllllllllllllllllllllllllllllllllllllllllllllllllllllllllllllllllllllllllllllllllllllllllllllllllllllllllllllllllllllllllllllllllllllllllllllllllllllllllllllllllllllllllllllllllllllllllllllllllllllllllllllllllllllllllllllllllllllllllllllllllllllllllllllllllllllllllllllllllllllllllllllllllllllllllllllllllllllllllllllllllllllllllllllllllllllllllllllllllllllllllllllllllllllllllllllllllllllllllllllllllllllllllllllllllllllllllllllllllllllllllllllllllllllllllllllllllllllllllllllllllllllllllllllllllllllllllllllllllllllllllllllllllllllllllllllllllllllllllllllllllllllllllllllllllllllllllllllllllllllllllllllllllllllllllllllllllllllllllllllllllllllllllllllllllllllllllllllllllllllllllllllllllllllllllllllllllllllllllllllllllllllllllllllllllllllllllllllllllllllllllllllllllllllllllllllllllllllllllllllllllllllllllllllllllllllllllllllllllllllllllllllllllllllllllllllllllllllllllllllllllllllllllllllllllllllllllllllllllllllllllllllllllllllllllllllllllllllllllllllllllllllllllllllllllllllllllllllllllllllllllllllllllllllllllllllllllllllllllllllllllllllllllllllllllllllllllllllllllllllllllllllllllllllllllllllllllllllllllllllllllllllllllllllllllllllllllllllllllllllllllllllllllllllllllllllllllllllllllllllllllllllllllllllllllllllllllllllllllllllllllllllllllllllllllllllllllllllllllllllllllllllllllllllllllllllllllllllllllllllllllllllllllllllllllllllllllllllllllllllllllllllllllllllllllllllllllllllllllllllllllllllllllllllllllllllllllllllllllllllllllllllllllllllllllllllllllllllllllllllllllllllllllllllllllllllllllllllllllllllllllllllllllllllllllllllllllllllllllllllllllllllllllllllllllllllllllllllllllllllllllllllllllllllllllllllllllllllllllllllllllllllllllllllllllllllllllllllllllllllllllllllllllllllllllllllllllllllllllllllllllllllllllllllllllllllllllllllllllllllllllllllllllllllllllllllll}\n",
       "  & 1 & 2 & 3 & 4 & 5 & 6 & 7 & 8 & 9 & 10 & ... & 6821 & 6822 & 6823 & 6824 & 6825 & 6826 & 6827 & 6828 & 6829 & 6830\\\\\n",
       "\\hline\n",
       "\tV1 & 0.300000      &  1.180000     &  0.550000     &  1.140000     & -0.265000     & -7.000000e-02 &  0.350000     & -0.315000     & -0.45000000   & -0.65498050   & ...           & -0.9900195    &  0.000000     &  0.030000     & -0.175000     &  0.6299805    & -0.030000     &  0.0000000    &  0.280000     & -0.340000     & -1.930000    \\\\\n",
       "\tV2 & 0.679961      &  1.289961     &  0.169961     &  0.379961     &  0.464961     &  5.799610e-01 &  0.699961     &  0.724961     & -0.04003899   & -0.28501950   & ...           & -0.2700585    & -0.300039     & -0.250039     & -0.535039     &  0.1099415    & -0.860039     & -1.2500490    & -0.770039     & -0.390039     & -2.000039    \\\\\n",
       "\tV3 & 0.940000      & -0.040000     & -0.170000     & -0.040000     & -0.605000     &  0.000000e+00 &  0.090000     &  0.645000     &  0.43000000   &  0.47501950   & ...           &  0.3199805    &  0.120000     & -0.740000     & -0.595000     & -0.2700195    & -0.150000     &  0.0000000    & -0.120000     & -0.410000     &  0.000000    \\\\\n",
       "\tV4 & 0.280000      & -0.310000     &  0.680000     & -0.810000     &  0.625000     & -1.387779e-17 &  0.170000     &  0.245000     &  0.02000000   &  0.09501949   & ...           & -1.2400200    & -0.110000     & -0.160000     &  0.095000     & -0.3500195    & -0.300000     & -1.1500100    &  1.090000     & -0.260000     & -1.100000    \\\\\n",
       "\tV5 & 0.485000      & -0.465000     &  0.395000     &  0.905000     &  0.200000     & -5.000000e-03 &  0.085000     &  0.110000     &  0.23500000   &  1.49001949   & ...           &  0.5549805    & -0.775000     & -0.515000     & -0.320000     &  0.6349805    &  0.605000     &  0.0000000    &  0.745000     &  0.425000     &  0.145000    \\\\\n",
       "\tV6 & 0.310000      & -0.030000     & -0.100000     & -0.460000     & -0.205000     & -5.400000e-01 & -0.640000     & -0.585000     & -0.77000000   & -0.24498050   & ...           & -0.5900195    &  0.000000     & -0.740000     & -2.095000     & -1.3900200    & -0.400000     &  0.6999902    &  0.290000     &  0.550000     &  0.000000    \\\\\n",
       "\\end{tabular}\n"
      ],
      "text/markdown": [
       "\n",
       "| <!--/--> | 1 | 2 | 3 | 4 | 5 | 6 | 7 | 8 | 9 | 10 | ... | 6821 | 6822 | 6823 | 6824 | 6825 | 6826 | 6827 | 6828 | 6829 | 6830 |\n",
       "|---|---|---|---|---|---|---|---|---|---|---|---|---|---|---|---|---|---|---|---|---|---|\n",
       "| V1 | 0.300000      |  1.180000     |  0.550000     |  1.140000     | -0.265000     | -7.000000e-02 |  0.350000     | -0.315000     | -0.45000000   | -0.65498050   | ...           | -0.9900195    |  0.000000     |  0.030000     | -0.175000     |  0.6299805    | -0.030000     |  0.0000000    |  0.280000     | -0.340000     | -1.930000     |\n",
       "| V2 | 0.679961      |  1.289961     |  0.169961     |  0.379961     |  0.464961     |  5.799610e-01 |  0.699961     |  0.724961     | -0.04003899   | -0.28501950   | ...           | -0.2700585    | -0.300039     | -0.250039     | -0.535039     |  0.1099415    | -0.860039     | -1.2500490    | -0.770039     | -0.390039     | -2.000039     |\n",
       "| V3 | 0.940000      | -0.040000     | -0.170000     | -0.040000     | -0.605000     |  0.000000e+00 |  0.090000     |  0.645000     |  0.43000000   |  0.47501950   | ...           |  0.3199805    |  0.120000     | -0.740000     | -0.595000     | -0.2700195    | -0.150000     |  0.0000000    | -0.120000     | -0.410000     |  0.000000     |\n",
       "| V4 | 0.280000      | -0.310000     |  0.680000     | -0.810000     |  0.625000     | -1.387779e-17 |  0.170000     |  0.245000     |  0.02000000   |  0.09501949   | ...           | -1.2400200    | -0.110000     | -0.160000     |  0.095000     | -0.3500195    | -0.300000     | -1.1500100    |  1.090000     | -0.260000     | -1.100000     |\n",
       "| V5 | 0.485000      | -0.465000     |  0.395000     |  0.905000     |  0.200000     | -5.000000e-03 |  0.085000     |  0.110000     |  0.23500000   |  1.49001949   | ...           |  0.5549805    | -0.775000     | -0.515000     | -0.320000     |  0.6349805    |  0.605000     |  0.0000000    |  0.745000     |  0.425000     |  0.145000     |\n",
       "| V6 | 0.310000      | -0.030000     | -0.100000     | -0.460000     | -0.205000     | -5.400000e-01 | -0.640000     | -0.585000     | -0.77000000   | -0.24498050   | ...           | -0.5900195    |  0.000000     | -0.740000     | -2.095000     | -1.3900200    | -0.400000     |  0.6999902    |  0.290000     |  0.550000     |  0.000000     |\n",
       "\n"
      ],
      "text/plain": [
       "   1        2         3         4         5         6             7        \n",
       "V1 0.300000  1.180000  0.550000  1.140000 -0.265000 -7.000000e-02  0.350000\n",
       "V2 0.679961  1.289961  0.169961  0.379961  0.464961  5.799610e-01  0.699961\n",
       "V3 0.940000 -0.040000 -0.170000 -0.040000 -0.605000  0.000000e+00  0.090000\n",
       "V4 0.280000 -0.310000  0.680000 -0.810000  0.625000 -1.387779e-17  0.170000\n",
       "V5 0.485000 -0.465000  0.395000  0.905000  0.200000 -5.000000e-03  0.085000\n",
       "V6 0.310000 -0.030000 -0.100000 -0.460000 -0.205000 -5.400000e-01 -0.640000\n",
       "   8         9           10          ... 6821       6822      6823     \n",
       "V1 -0.315000 -0.45000000 -0.65498050 ... -0.9900195  0.000000  0.030000\n",
       "V2  0.724961 -0.04003899 -0.28501950 ... -0.2700585 -0.300039 -0.250039\n",
       "V3  0.645000  0.43000000  0.47501950 ...  0.3199805  0.120000 -0.740000\n",
       "V4  0.245000  0.02000000  0.09501949 ... -1.2400200 -0.110000 -0.160000\n",
       "V5  0.110000  0.23500000  1.49001949 ...  0.5549805 -0.775000 -0.515000\n",
       "V6 -0.585000 -0.77000000 -0.24498050 ... -0.5900195  0.000000 -0.740000\n",
       "   6824      6825       6826      6827       6828      6829      6830     \n",
       "V1 -0.175000  0.6299805 -0.030000  0.0000000  0.280000 -0.340000 -1.930000\n",
       "V2 -0.535039  0.1099415 -0.860039 -1.2500490 -0.770039 -0.390039 -2.000039\n",
       "V3 -0.595000 -0.2700195 -0.150000  0.0000000 -0.120000 -0.410000  0.000000\n",
       "V4  0.095000 -0.3500195 -0.300000 -1.1500100  1.090000 -0.260000 -1.100000\n",
       "V5 -0.320000  0.6349805  0.605000  0.0000000  0.745000  0.425000  0.145000\n",
       "V6 -2.095000 -1.3900200 -0.400000  0.6999902  0.290000  0.550000  0.000000"
      ]
     },
     "metadata": {},
     "output_type": "display_data"
    }
   ],
   "source": [
    "nci60 = as.data.frame(NCI60$data)\n",
    "head(nci60)"
   ]
  },
  {
   "cell_type": "markdown",
   "id": "b72ff1ab",
   "metadata": {},
   "source": [
    "There are 14 types of classes within the dataset: **CNS**, **RENAL**, **BREAST**, **NSCLC**, **UNKNOWN**, **OVARIAN**, **MELANOMA**, **PROSTATE**, **LEUKEMIA**, **K562B-repro**, **K562A-repro**, **COLON**, **MCF7A-repro** and **MCF7D-repro**:"
   ]
  },
  {
   "cell_type": "code",
   "execution_count": 16,
   "id": "7cc5ec8b",
   "metadata": {
    "scrolled": true
   },
   "outputs": [
    {
     "data": {
      "text/html": [
       "<ol class=list-inline>\n",
       "\t<li>'CNS'</li>\n",
       "\t<li>'RENAL'</li>\n",
       "\t<li>'BREAST'</li>\n",
       "\t<li>'NSCLC'</li>\n",
       "\t<li>'UNKNOWN'</li>\n",
       "\t<li>'OVARIAN'</li>\n",
       "\t<li>'MELANOMA'</li>\n",
       "\t<li>'PROSTATE'</li>\n",
       "\t<li>'LEUKEMIA'</li>\n",
       "\t<li>'K562B-repro'</li>\n",
       "\t<li>'K562A-repro'</li>\n",
       "\t<li>'COLON'</li>\n",
       "\t<li>'MCF7A-repro'</li>\n",
       "\t<li>'MCF7D-repro'</li>\n",
       "</ol>\n"
      ],
      "text/latex": [
       "\\begin{enumerate*}\n",
       "\\item 'CNS'\n",
       "\\item 'RENAL'\n",
       "\\item 'BREAST'\n",
       "\\item 'NSCLC'\n",
       "\\item 'UNKNOWN'\n",
       "\\item 'OVARIAN'\n",
       "\\item 'MELANOMA'\n",
       "\\item 'PROSTATE'\n",
       "\\item 'LEUKEMIA'\n",
       "\\item 'K562B-repro'\n",
       "\\item 'K562A-repro'\n",
       "\\item 'COLON'\n",
       "\\item 'MCF7A-repro'\n",
       "\\item 'MCF7D-repro'\n",
       "\\end{enumerate*}\n"
      ],
      "text/markdown": [
       "1. 'CNS'\n",
       "2. 'RENAL'\n",
       "3. 'BREAST'\n",
       "4. 'NSCLC'\n",
       "5. 'UNKNOWN'\n",
       "6. 'OVARIAN'\n",
       "7. 'MELANOMA'\n",
       "8. 'PROSTATE'\n",
       "9. 'LEUKEMIA'\n",
       "10. 'K562B-repro'\n",
       "11. 'K562A-repro'\n",
       "12. 'COLON'\n",
       "13. 'MCF7A-repro'\n",
       "14. 'MCF7D-repro'\n",
       "\n",
       "\n"
      ],
      "text/plain": [
       " [1] \"CNS\"         \"RENAL\"       \"BREAST\"      \"NSCLC\"       \"UNKNOWN\"    \n",
       " [6] \"OVARIAN\"     \"MELANOMA\"    \"PROSTATE\"    \"LEUKEMIA\"    \"K562B-repro\"\n",
       "[11] \"K562A-repro\" \"COLON\"       \"MCF7A-repro\" \"MCF7D-repro\""
      ]
     },
     "metadata": {},
     "output_type": "display_data"
    }
   ],
   "source": [
    "as.vector(unlist(unique(NCI60$labs)))"
   ]
  },
  {
   "cell_type": "markdown",
   "id": "126b8d2e",
   "metadata": {},
   "source": [
    "Here, we prepare the NCI60 dataset for the analysis:\n",
    "\n",
    "- We add a column named `Description` containing the class (category) of each row\n",
    "- Due to their small class size, we remove the two prostate cell lines and the unknown cell line, \"PROSTATE\" and \"UNKNOWN\" entires respectively."
   ]
  },
  {
   "cell_type": "code",
   "execution_count": 17,
   "id": "ee296298",
   "metadata": {},
   "outputs": [],
   "source": [
    "nci60[\"labels\"] = rownames(nci60)\n",
    "nci60 = nci60[ , c(\"labels\", names(nci60)[names(nci60) != \"labels\"])]\n",
    "nci60[\"labels\"] = NCI60$labs\n",
    "colnames(nci60)[colnames(nci60) == 'labels'] <- 'Description'\n",
    "nci60 = nci60[!grepl(\"UNKNOWN\", nci60$Description),] # Remove UNKNOWN\n",
    "nci60 = nci60[!grepl(\"PROSTATE\", nci60$Description),] # Remove PROSTATE"
   ]
  },
  {
   "cell_type": "markdown",
   "id": "7fdd5b4f",
   "metadata": {},
   "source": [
    "# Removing highly correlated metrics <a class=\"anchor\" id=\"correlated\"></a>\n",
    "We address the issue of multicorrelation by identifying and removing highly correlated metrics (absolute correlation, 1) from our dataset. First, we exclude the first column from the dataset `nci60`, where the column `Description` is. We then compute the correlation matrix R for data using the `cor` function. To pinpoint the metrics that exhibit perfect correlation (correlation coefficient of 1 or -1), we make use of the `findCorrelation` function from the `caret` package, setting a cutoff of 1. This function returns the names of the variables that are highly correlated, if any."
   ]
  },
  {
   "cell_type": "code",
   "execution_count": 19,
   "id": "998ebf2c",
   "metadata": {},
   "outputs": [
    {
     "data": {
      "text/html": [
       "<table>\n",
       "<thead><tr><th scope=col>1</th><th scope=col>2</th><th scope=col>3</th><th scope=col>4</th><th scope=col>5</th><th scope=col>6</th><th scope=col>7</th><th scope=col>8</th><th scope=col>9</th><th scope=col>10</th><th scope=col>...</th><th scope=col>6821</th><th scope=col>6822</th><th scope=col>6823</th><th scope=col>6824</th><th scope=col>6825</th><th scope=col>6826</th><th scope=col>6827</th><th scope=col>6828</th><th scope=col>6829</th><th scope=col>6830</th></tr></thead>\n",
       "<tbody>\n",
       "\t<tr><td> 1.00000000 </td><td>0.3833056   </td><td>0.22006157  </td><td>0.08724557  </td><td>-0.08602104 </td><td>0.08949880  </td><td>0.1158955   </td><td> 0.37934513 </td><td> 0.15316722 </td><td> 0.18856013 </td><td>...         </td><td> 0.00107821 </td><td>-0.13456921 </td><td>-0.12645356 </td><td>-0.201420268</td><td>-0.21480468 </td><td>-0.04013097 </td><td>-0.034189686</td><td>-0.02287118 </td><td>-0.09639277 </td><td>-0.06072415 </td></tr>\n",
       "\t<tr><td> 0.38330561 </td><td>1.0000000   </td><td>0.36433000  </td><td>0.21617498  </td><td> 0.16558775 </td><td>0.21444133  </td><td>0.3699355   </td><td> 0.07807990 </td><td> 0.24695819 </td><td> 0.07245724 </td><td>...         </td><td>-0.02944743 </td><td>-0.10859360 </td><td>-0.04041393 </td><td> 0.003900317</td><td> 0.02573318 </td><td>-0.04360088 </td><td> 0.000302537</td><td>-0.06442559 </td><td>-0.03610617 </td><td>-0.05866152 </td></tr>\n",
       "\t<tr><td> 0.22006157 </td><td>0.3643300   </td><td>1.00000000  </td><td>0.23689049  </td><td> 0.12153801 </td><td>0.03343932  </td><td>0.1134791   </td><td> 0.01143216 </td><td>-0.05276462 </td><td> 0.23168582 </td><td>...         </td><td> 0.05290187 </td><td> 0.01976031 </td><td> 0.07319763 </td><td> 0.045394869</td><td> 0.07732554 </td><td>-0.12526880 </td><td>-0.036734630</td><td> 0.12118781 </td><td> 0.09385166 </td><td> 0.08099348 </td></tr>\n",
       "\t<tr><td> 0.08724557 </td><td>0.2161750   </td><td>0.23689049  </td><td>1.00000000  </td><td> 0.13438601 </td><td>0.12715055  </td><td>0.0590030   </td><td>-0.06803698 </td><td>-0.01874263 </td><td>-0.12446127 </td><td>...         </td><td>-0.22308278 </td><td>-0.28758473 </td><td>-0.23071174 </td><td>-0.259432992</td><td>-0.09173215 </td><td>-0.17711090 </td><td> 0.001642882</td><td>-0.03740982 </td><td>-0.03359966 </td><td>-0.01586329 </td></tr>\n",
       "\t<tr><td>-0.08602104 </td><td>0.1655877   </td><td>0.12153801  </td><td>0.13438601  </td><td> 1.00000000 </td><td>0.26872823  </td><td>0.2303654   </td><td>-0.05813832 </td><td>-0.04957305 </td><td>-0.14754158 </td><td>...         </td><td>-0.17174975 </td><td>-0.20977705 </td><td>-0.14449000 </td><td>-0.072001176</td><td>-0.13047178 </td><td> 0.10183611 </td><td> 0.073267124</td><td>-0.02843955 </td><td> 0.04111594 </td><td>-0.06184830 </td></tr>\n",
       "\t<tr><td> 0.08949880 </td><td>0.2144413   </td><td>0.03343932  </td><td>0.12715055  </td><td> 0.26872823 </td><td>1.00000000  </td><td>0.4908452   </td><td> 0.19822509 </td><td> 0.22885592 </td><td> 0.05951340 </td><td>...         </td><td>-0.34521929 </td><td>-0.26279137 </td><td>-0.29911896 </td><td>-0.143450848</td><td>-0.21673796 </td><td>-0.21725913 </td><td>-0.298911041</td><td>-0.22827261 </td><td>-0.23197988 </td><td>-0.20448364 </td></tr>\n",
       "</tbody>\n",
       "</table>\n"
      ],
      "text/latex": [
       "\\begin{tabular}{r|llllllllllllllllllllllllllllllllllllllllllllllllllllllllllllllllllllllllllllllllllllllllllllllllllllllllllllllllllllllllllllllllllllllllllllllllllllllllllllllllllllllllllllllllllllllllllllllllllllllllllllllllllllllllllllllllllllllllllllllllllllllllllllllllllllllllllllllllllllllllllllllllllllllllllllllllllllllllllllllllllllllllllllllllllllllllllllllllllllllllllllllllllllllllllllllllllllllllllllllllllllllllllllllllllllllllllllllllllllllllllllllllllllllllllllllllllllllllllllllllllllllllllllllllllllllllllllllllllllllllllllllllllllllllllllllllllllllllllllllllllllllllllllllllllllllllllllllllllllllllllllllllllllllllllllllllllllllllllllllllllllllllllllllllllllllllllllllllllllllllllllllllllllllllllllllllllllllllllllllllllllllllllllllllllllllllllllllllllllllllllllllllllllllllllllllllllllllllllllllllllllllllllllllllllllllllllllllllllllllllllllllllllllllllllllllllllllllllllllllllllllllllllllllllllllllllllllllllllllllllllllllllllllllllllllllllllllllllllllllllllllllllllllllllllllllllllllllllllllllllllllllllllllllllllllllllllllllllllllllllllllllllllllllllllllllllllllllllllllllllllllllllllllllllllllllllllllllllllllllllllllllllllllllllllllllllllllllllllllllllllllllllllllllllllllllllllllllllllllllllllllllllllllllllllllllllllllllllllllllllllllllllllllllllllllllllllllllllllllllllllllllllllllllllllllllllllllllllllllllllllllllllllllllllllllllllllllllllllllllllllllllllllllllllllllllllllllllllllllllllllllllllllllllllllllllllllllllllllllllllllllllllllllllllllllllllllllllllllllllllllllllllllllllllllllllllllllllllllllllllllllllllllllllllllllllllllllllllllllllllllllllllllllllllllllllllllllllllllllllllllllllllllllllllllllllllllllllllllllllllllllllllllllllllllllllllllllllllllllllllllllllllllllllllllllllllllllllllllllllllllllllllllllllllllllllllllllllllllllllllllllllllllllllllllllllllllllllllllllllllllllllllllllllllllllllllllllllllllllllllllllllllllllllllllllllllllllllllllllllllllllllllllllllllllllllllllllllllllllllllllllllllllllllllllllllllllllllllllllllllllllllllllllllllllllllllllllllllllllllllllllllllllllllllllllllllllllllllllllllllllllllllllllllllllllllllllllllllllllllllllllllllllllllllllllllllllllllllllllllllllllllllllllllllllllllllllllllllllllllllllllllllllllllllllllllllllllllllllllllllllllllllllllllllllllllllllllllllllllllllllllllllllllllllllllllllllllllllllllllllllllllllllllllllllllllllllllllllllllllllllllllllllllllllllllllllllllllllllllllllllllllllllllllllllllllllllllllllllllllllllllllllllllllllllllllllllllllllllllllllllllllllllllllllllllllllllllllllllllllllllllllllllllllllllllllllllllllllllllllllllllllllllllllllllllllllllllllllllllllllllllllllllllllllllllllllllllllllllllllllllllllllllllllllllllllllllllllllllllllllllllllllllllllllllllllllllllllllllllllllllllllllllllllllllllllllllllllllllllllllllllllllllllllllllllllllllllllllllllllllllllllllllllllllllllllllllllllllllllllllllllllllllllllllllllllllllllllllllllllllllllllllllllllllllllllllllllllllllllllllllllllllllllllllllllllllllllllllllllllllllllllllllllllllllllllllllllllllllllllllllllllllllllllllllllllllllllllllllllllllllllllllllllllllllllllllllllllllllllllllllllllllllllllllllllllllllllllllllllllllllllllllllllllllllllllllllllllllllllllllllllllllllllllllllllllllllllllllllllllllllllllllllllllllllllllllllllllllllllllllllllllllllllllllllllllllllllllllllllllllllllllllllllllllllllllllllllllllllllllllllllllllllllllllllllllllllllllllllllllllllllllllllllllllllllllllllllllllllllllllllllllllllllllllllllllllllllllllllllllllllllllllllllllllllllllllllllllllllllllllllllllllllllllllllllllllllllllllllllllllllllllllllllllllllllllllllllllllllllllllllllllllllllllllllllllllllllllllllllllllllllllllllllllllllllllllllllllllllllllllllllllllllllllllllllllllllllllllllllllllllllllllllllllllllllllllllllllllllllllllllllllllllllllllllllllllllllllllllllllllllllllllllllllllllllllllllllllllllllllllllllllllllllllllllllllllllllllllllllllllllllllllllllllllllllllllllllllllllllllllllllllllllllllllllllllllllllllllllllllllllllllllllllllllllllllllllllllllllllllllllllllllllllllllllllllllllllllllllllllllllllllllllllllllllllllllllllllllllllllllllllllllllllllllllllllllllllllllllllllllllllllllllllllllllllllllllllllllllllllllllllllllllllllllllllllllllllllllllllllllllllllllllllllllllllllllllllllllllllllllllllllllllllllllllllllllllllllllllllllllllllllllllllllllllllllllllllllllllllllllllllllllllllllllllllllllllllllllllllllllllllllllllllllllllllllllllllllllllllllllllllllllllllllllllllllllllllllllllllllllllllllllllllllllllllllllllllllllllllllllllllllllllllllllllllllllllllllllllllllllllllllllllllllllllllllllllllllllllllllllllllllllllllllllllllllllllllllllllllllllllllllllllllllllllllllllllllllllllllllllllllllllllllllllllllllllllllllllllllllllllllllllllllllllllllllllllllllllllllllllllllllllllllllllllllllllllllllllllllllllllllllllllllllllllllllllllllllllllllllllllllllllllllllllllllllllllllllllllllllllllllllllllllllllllllllllllllllllllllllllllllllllllllllllllllllllllllllllllllllllllllllllllllllllllllllllllllllllllllllllllllllllllllllllllllllllllllllllllllllllllllllllllllllllllllllllllllllllllllllllllllllllllllllllllllllllllllllllllllllllllllllllllllllllllllllllllllllllllllllllllllllllllllllllllllllllllllllllllllllllllllllllllllllllllllllllllllllllllllllllllllllllllllllllllllllllllllllllllllllllllllllllllllllllllllllllllllllllllllllllllllllllllllllllllllllllllllllllllllllllllllllllllllllllllllllllllllllllllllllllllllllllllllllllllllllllllllllllllllllllllllllllllllllllllllllllllllllllllllllllllllllllllllllllllllllllllllllllllllllllllllllllllllllllllllllllllllllllllllllllllllllllllllllllllllllllllllllllllllllllllllllllllllllllllllllllllllllllllllllllllllllllllllllllllllllllllllllllllllllllllllllllllllllllllllllllllllllllllllllllllllllllllllllllllllllllllllllllllllllllllllllllllllllllllllllllllllllllllllllllllllllllllllllllllllllllllllllllllllllllllllllllllllllllllllllllllllllllllllllllllllllllllllllllllllllllllllllllllllllllllllllllllllllllllllllllllllllllllllllllllllllllllllllllllllllllllllllllllllllllllllllllllllllllllllllllllllllllllllllllllllllllllllllllllllllllllllllllllllllllllllllllllllllllllllllllllllllllllllllllllllllllllllllllllllllllllllllllllllllllllllllllllllllllllllllllllllllllllllllllllllllllllllllllllllllllllllllllllllllllllllllllllllllllllllllllllllllllllllllllllllllllllllllllllllllllllllllllllllllllllllllllllllllllllllllllllllllllllllllllllllllllllllllllllllllllllllllllllllllllllllllllllllllllllllllllllllllllllllllllllllllllllllllllllllllllllllllllllllllllllllllllllllllllllllllllllllllllllllllllllllllllllllllllllllllllllllllllllllllllllllllllllllllllllllllllllllllllllllllllllllllllllllllllllllllllllllllllllllllllllllllllllllllllllllllllllllllllllllllllllllllllllllllllllllllllllllllllllllllllllllllllllllllllllllllllllllllllllllllllllllllllllllllllllllllllllllllllllllllllllllllllllllllllllllllllllllllllllllllllllllllllllllllllllllllllllllllllllllllllllllllllllllllllllllllllllllllllllllllllllllllllllllllllllllllllllllll}\n",
       " 1 & 2 & 3 & 4 & 5 & 6 & 7 & 8 & 9 & 10 & ... & 6821 & 6822 & 6823 & 6824 & 6825 & 6826 & 6827 & 6828 & 6829 & 6830\\\\\n",
       "\\hline\n",
       "\t  1.00000000  & 0.3833056    & 0.22006157   & 0.08724557   & -0.08602104  & 0.08949880   & 0.1158955    &  0.37934513  &  0.15316722  &  0.18856013  & ...          &  0.00107821  & -0.13456921  & -0.12645356  & -0.201420268 & -0.21480468  & -0.04013097  & -0.034189686 & -0.02287118  & -0.09639277  & -0.06072415 \\\\\n",
       "\t  0.38330561  & 1.0000000    & 0.36433000   & 0.21617498   &  0.16558775  & 0.21444133   & 0.3699355    &  0.07807990  &  0.24695819  &  0.07245724  & ...          & -0.02944743  & -0.10859360  & -0.04041393  &  0.003900317 &  0.02573318  & -0.04360088  &  0.000302537 & -0.06442559  & -0.03610617  & -0.05866152 \\\\\n",
       "\t  0.22006157  & 0.3643300    & 1.00000000   & 0.23689049   &  0.12153801  & 0.03343932   & 0.1134791    &  0.01143216  & -0.05276462  &  0.23168582  & ...          &  0.05290187  &  0.01976031  &  0.07319763  &  0.045394869 &  0.07732554  & -0.12526880  & -0.036734630 &  0.12118781  &  0.09385166  &  0.08099348 \\\\\n",
       "\t  0.08724557  & 0.2161750    & 0.23689049   & 1.00000000   &  0.13438601  & 0.12715055   & 0.0590030    & -0.06803698  & -0.01874263  & -0.12446127  & ...          & -0.22308278  & -0.28758473  & -0.23071174  & -0.259432992 & -0.09173215  & -0.17711090  &  0.001642882 & -0.03740982  & -0.03359966  & -0.01586329 \\\\\n",
       "\t -0.08602104  & 0.1655877    & 0.12153801   & 0.13438601   &  1.00000000  & 0.26872823   & 0.2303654    & -0.05813832  & -0.04957305  & -0.14754158  & ...          & -0.17174975  & -0.20977705  & -0.14449000  & -0.072001176 & -0.13047178  &  0.10183611  &  0.073267124 & -0.02843955  &  0.04111594  & -0.06184830 \\\\\n",
       "\t  0.08949880  & 0.2144413    & 0.03343932   & 0.12715055   &  0.26872823  & 1.00000000   & 0.4908452    &  0.19822509  &  0.22885592  &  0.05951340  & ...          & -0.34521929  & -0.26279137  & -0.29911896  & -0.143450848 & -0.21673796  & -0.21725913  & -0.298911041 & -0.22827261  & -0.23197988  & -0.20448364 \\\\\n",
       "\\end{tabular}\n"
      ],
      "text/markdown": [
       "\n",
       "| 1 | 2 | 3 | 4 | 5 | 6 | 7 | 8 | 9 | 10 | ... | 6821 | 6822 | 6823 | 6824 | 6825 | 6826 | 6827 | 6828 | 6829 | 6830 |\n",
       "|---|---|---|---|---|---|---|---|---|---|---|---|---|---|---|---|---|---|---|---|---|\n",
       "|  1.00000000  | 0.3833056    | 0.22006157   | 0.08724557   | -0.08602104  | 0.08949880   | 0.1158955    |  0.37934513  |  0.15316722  |  0.18856013  | ...          |  0.00107821  | -0.13456921  | -0.12645356  | -0.201420268 | -0.21480468  | -0.04013097  | -0.034189686 | -0.02287118  | -0.09639277  | -0.06072415  |\n",
       "|  0.38330561  | 1.0000000    | 0.36433000   | 0.21617498   |  0.16558775  | 0.21444133   | 0.3699355    |  0.07807990  |  0.24695819  |  0.07245724  | ...          | -0.02944743  | -0.10859360  | -0.04041393  |  0.003900317 |  0.02573318  | -0.04360088  |  0.000302537 | -0.06442559  | -0.03610617  | -0.05866152  |\n",
       "|  0.22006157  | 0.3643300    | 1.00000000   | 0.23689049   |  0.12153801  | 0.03343932   | 0.1134791    |  0.01143216  | -0.05276462  |  0.23168582  | ...          |  0.05290187  |  0.01976031  |  0.07319763  |  0.045394869 |  0.07732554  | -0.12526880  | -0.036734630 |  0.12118781  |  0.09385166  |  0.08099348  |\n",
       "|  0.08724557  | 0.2161750    | 0.23689049   | 1.00000000   |  0.13438601  | 0.12715055   | 0.0590030    | -0.06803698  | -0.01874263  | -0.12446127  | ...          | -0.22308278  | -0.28758473  | -0.23071174  | -0.259432992 | -0.09173215  | -0.17711090  |  0.001642882 | -0.03740982  | -0.03359966  | -0.01586329  |\n",
       "| -0.08602104  | 0.1655877    | 0.12153801   | 0.13438601   |  1.00000000  | 0.26872823   | 0.2303654    | -0.05813832  | -0.04957305  | -0.14754158  | ...          | -0.17174975  | -0.20977705  | -0.14449000  | -0.072001176 | -0.13047178  |  0.10183611  |  0.073267124 | -0.02843955  |  0.04111594  | -0.06184830  |\n",
       "|  0.08949880  | 0.2144413    | 0.03343932   | 0.12715055   |  0.26872823  | 1.00000000   | 0.4908452    |  0.19822509  |  0.22885592  |  0.05951340  | ...          | -0.34521929  | -0.26279137  | -0.29911896  | -0.143450848 | -0.21673796  | -0.21725913  | -0.298911041 | -0.22827261  | -0.23197988  | -0.20448364  |\n",
       "\n"
      ],
      "text/plain": [
       "  1           2         3          4          5           6          7        \n",
       "1  1.00000000 0.3833056 0.22006157 0.08724557 -0.08602104 0.08949880 0.1158955\n",
       "2  0.38330561 1.0000000 0.36433000 0.21617498  0.16558775 0.21444133 0.3699355\n",
       "3  0.22006157 0.3643300 1.00000000 0.23689049  0.12153801 0.03343932 0.1134791\n",
       "4  0.08724557 0.2161750 0.23689049 1.00000000  0.13438601 0.12715055 0.0590030\n",
       "5 -0.08602104 0.1655877 0.12153801 0.13438601  1.00000000 0.26872823 0.2303654\n",
       "6  0.08949880 0.2144413 0.03343932 0.12715055  0.26872823 1.00000000 0.4908452\n",
       "  8           9           10          ... 6821        6822        6823       \n",
       "1  0.37934513  0.15316722  0.18856013 ...  0.00107821 -0.13456921 -0.12645356\n",
       "2  0.07807990  0.24695819  0.07245724 ... -0.02944743 -0.10859360 -0.04041393\n",
       "3  0.01143216 -0.05276462  0.23168582 ...  0.05290187  0.01976031  0.07319763\n",
       "4 -0.06803698 -0.01874263 -0.12446127 ... -0.22308278 -0.28758473 -0.23071174\n",
       "5 -0.05813832 -0.04957305 -0.14754158 ... -0.17174975 -0.20977705 -0.14449000\n",
       "6  0.19822509  0.22885592  0.05951340 ... -0.34521929 -0.26279137 -0.29911896\n",
       "  6824         6825        6826        6827         6828        6829       \n",
       "1 -0.201420268 -0.21480468 -0.04013097 -0.034189686 -0.02287118 -0.09639277\n",
       "2  0.003900317  0.02573318 -0.04360088  0.000302537 -0.06442559 -0.03610617\n",
       "3  0.045394869  0.07732554 -0.12526880 -0.036734630  0.12118781  0.09385166\n",
       "4 -0.259432992 -0.09173215 -0.17711090  0.001642882 -0.03740982 -0.03359966\n",
       "5 -0.072001176 -0.13047178  0.10183611  0.073267124 -0.02843955  0.04111594\n",
       "6 -0.143450848 -0.21673796 -0.21725913 -0.298911041 -0.22827261 -0.23197988\n",
       "  6830       \n",
       "1 -0.06072415\n",
       "2 -0.05866152\n",
       "3  0.08099348\n",
       "4 -0.01586329\n",
       "5 -0.06184830\n",
       "6 -0.20448364"
      ]
     },
     "metadata": {},
     "output_type": "display_data"
    }
   ],
   "source": [
    "data = nci60[-1]\n",
    "R = cor(data)\n",
    "head(R)"
   ]
  },
  {
   "cell_type": "code",
   "execution_count": 20,
   "id": "576a4ac4",
   "metadata": {},
   "outputs": [
    {
     "data": {
      "text/html": [
       "0"
      ],
      "text/latex": [
       "0"
      ],
      "text/markdown": [
       "0"
      ],
      "text/plain": [
       "[1] 0"
      ]
     },
     "metadata": {},
     "output_type": "display_data"
    }
   ],
   "source": [
    "cor_metrics = findCorrelation(R, cutoff = 1, verbose = FALSE, names=TRUE)\n",
    "length(cor_metrics)"
   ]
  },
  {
   "cell_type": "markdown",
   "id": "295d4967",
   "metadata": {},
   "source": [
    "Finally, we use `length(cor_metrics)` to determine the number of these highly correlated metrics. As this number is 0, we assess there are no highly correlated metrics."
   ]
  },
  {
   "cell_type": "markdown",
   "id": "173207a5",
   "metadata": {},
   "source": [
    "# Top 200 <a class=\"anchor\" id=\"top\"></a>"
   ]
  },
  {
   "cell_type": "markdown",
   "id": "95d7ace5",
   "metadata": {},
   "source": [
    "We now filter the metrics for including only the top 200 with the greatest variance, as these metrics have the most significant impact on clustering."
   ]
  },
  {
   "cell_type": "code",
   "execution_count": 21,
   "id": "a60b800d",
   "metadata": {},
   "outputs": [],
   "source": [
    "variance = sort(sapply(nci60[-1], var), decreasing = TRUE)  # Sorted gene variance\n",
    "nci60_var = as.data.frame(variance)\n",
    "nci60_var[\"Description\"] = rownames(nci60_var)"
   ]
  },
  {
   "cell_type": "code",
   "execution_count": 22,
   "id": "89a5ce6f",
   "metadata": {},
   "outputs": [
    {
     "data": {
      "text/html": [
       "<table>\n",
       "<thead><tr><th></th><th scope=col>variance</th><th scope=col>Description</th></tr></thead>\n",
       "<tbody>\n",
       "\t<tr><th scope=row>4701</th><td>11.942075</td><td>4701     </td></tr>\n",
       "\t<tr><th scope=row>4700</th><td>11.429800</td><td>4700     </td></tr>\n",
       "\t<tr><th scope=row>256</th><td> 7.978482</td><td>256      </td></tr>\n",
       "\t<tr><th scope=row>16</th><td> 7.715338</td><td>16       </td></tr>\n",
       "\t<tr><th scope=row>4699</th><td> 7.711871</td><td>4699     </td></tr>\n",
       "\t<tr><th scope=row>6393</th><td> 7.659845</td><td>6393     </td></tr>\n",
       "</tbody>\n",
       "</table>\n"
      ],
      "text/latex": [
       "\\begin{tabular}{r|ll}\n",
       "  & variance & Description\\\\\n",
       "\\hline\n",
       "\t4701 & 11.942075 & 4701     \\\\\n",
       "\t4700 & 11.429800 & 4700     \\\\\n",
       "\t256 &  7.978482 & 256      \\\\\n",
       "\t16 &  7.715338 & 16       \\\\\n",
       "\t4699 &  7.711871 & 4699     \\\\\n",
       "\t6393 &  7.659845 & 6393     \\\\\n",
       "\\end{tabular}\n"
      ],
      "text/markdown": [
       "\n",
       "| <!--/--> | variance | Description |\n",
       "|---|---|---|\n",
       "| 4701 | 11.942075 | 4701      |\n",
       "| 4700 | 11.429800 | 4700      |\n",
       "| 256 |  7.978482 | 256       |\n",
       "| 16 |  7.715338 | 16        |\n",
       "| 4699 |  7.711871 | 4699      |\n",
       "| 6393 |  7.659845 | 6393      |\n",
       "\n"
      ],
      "text/plain": [
       "     variance  Description\n",
       "4701 11.942075 4701       \n",
       "4700 11.429800 4700       \n",
       "256   7.978482 256        \n",
       "16    7.715338 16         \n",
       "4699  7.711871 4699       \n",
       "6393  7.659845 6393       "
      ]
     },
     "metadata": {},
     "output_type": "display_data"
    }
   ],
   "source": [
    "top_number = 200\n",
    "top_rows = nci60_var[c(1:top_number), ]\n",
    "head(top_rows)"
   ]
  },
  {
   "cell_type": "code",
   "execution_count": 25,
   "id": "7a0d743b",
   "metadata": {},
   "outputs": [],
   "source": [
    "row_list = as.list(top_rows[\"Description\"])\n",
    "top_row_list = unlist(setdiff(row_list, names(nci60)))\n",
    "top_nci60 = nci60[, top_row_list]\n",
    "top_nci60[\"Description\"] = nci60[rownames(top_nci60) %in% rownames(nci60), \"Description\"]\n",
    "top_nci60 = top_nci60[ , c(\"Description\", names(top_nci60)[names(top_nci60) != \"Description\"])] "
   ]
  },
  {
   "cell_type": "markdown",
   "id": "e7559b70",
   "metadata": {},
   "source": [
    "The dataframe `top_nci60` contains 200 genes (metrics) which provides the most variance."
   ]
  },
  {
   "cell_type": "code",
   "execution_count": 26,
   "id": "2984e05b",
   "metadata": {},
   "outputs": [
    {
     "data": {
      "text/html": [
       "<table>\n",
       "<thead><tr><th></th><th scope=col>Description</th><th scope=col>4701</th><th scope=col>4700</th><th scope=col>256</th><th scope=col>16</th><th scope=col>4699</th><th scope=col>6393</th><th scope=col>6149</th><th scope=col>286</th><th scope=col>6415</th><th scope=col>...</th><th scope=col>5721</th><th scope=col>6622</th><th scope=col>5336</th><th scope=col>1067</th><th scope=col>6288</th><th scope=col>5872</th><th scope=col>5489</th><th scope=col>78</th><th scope=col>127</th><th scope=col>3383</th></tr></thead>\n",
       "<tbody>\n",
       "\t<tr><th scope=row>V1</th><td>CNS       </td><td> 5.770000 </td><td> 5.820000 </td><td>-1.910000 </td><td>-2.37     </td><td> 4.760000 </td><td> 5.4799900</td><td> 0.000000 </td><td> 0.610000 </td><td> 5.230000 </td><td>...       </td><td>2.790000  </td><td> 1.210000 </td><td>-0.890000 </td><td>-1.055010 </td><td>-2.1850100</td><td>0.045000  </td><td> 1.990000 </td><td> 2.360000 </td><td>-1.305000 </td><td>-0.5400195</td></tr>\n",
       "\t<tr><th scope=row>V2</th><td>CNS       </td><td> 5.039961 </td><td> 5.069961 </td><td>-1.980039 </td><td> 0.00     </td><td> 4.779961 </td><td> 5.7299510</td><td>-0.480039 </td><td>-3.980039 </td><td> 5.329961 </td><td>...       </td><td>1.629961  </td><td> 1.599961 </td><td>-1.060039 </td><td>-1.055049 </td><td>-3.4050490</td><td>0.874961  </td><td> 2.609961 </td><td> 0.869961 </td><td>-0.375039 </td><td> 0.4799415</td></tr>\n",
       "\t<tr><th scope=row>V3</th><td>CNS       </td><td>-1.440000 </td><td>-1.030000 </td><td>-0.580000 </td><td> 0.00     </td><td> 0.000000 </td><td> 4.6299900</td><td> 2.060000 </td><td>-1.580000 </td><td> 0.000000 </td><td>...       </td><td>1.920000  </td><td>-0.260000 </td><td> 0.000000 </td><td> 1.294990 </td><td>-0.6850098</td><td>1.445000  </td><td> 0.200000 </td><td> 1.990000 </td><td> 0.705000 </td><td> 0.3199805</td></tr>\n",
       "\t<tr><th scope=row>V4</th><td>RENAL     </td><td>-2.420000 </td><td>-2.420000 </td><td>-1.880000 </td><td>-1.02     </td><td>-2.590000 </td><td> 1.2999900</td><td> 5.190000 </td><td>-4.880000 </td><td> 7.020000 </td><td>...       </td><td>3.200000  </td><td> 1.110000 </td><td> 1.060000 </td><td> 1.414990 </td><td>-4.4750100</td><td>2.365000  </td><td> 1.080000 </td><td> 3.600000 </td><td>-0.685000 </td><td> 0.1399805</td></tr>\n",
       "\t<tr><th scope=row>V5</th><td>BREAST    </td><td>-2.955000 </td><td>-2.955000 </td><td>-1.235000 </td><td> 0.00     </td><td>-2.535000 </td><td>-1.0550098</td><td> 7.425000 </td><td>-3.235000 </td><td> 4.395000 </td><td>...       </td><td>2.865000  </td><td> 1.245000 </td><td> 0.000000 </td><td>-1.480010 </td><td>-3.8300098</td><td>3.320000  </td><td>-1.155000 </td><td>-1.385000 </td><td>-1.220000 </td><td> 0.4449805</td></tr>\n",
       "\t<tr><th scope=row>V6</th><td>CNS       </td><td> 0.000000 </td><td>-3.180000 </td><td>-3.050000 </td><td>-0.05     </td><td>-1.170000 </td><td> 0.5899902</td><td> 4.230000 </td><td>-5.050000 </td><td>-0.220000 </td><td>...       </td><td>2.860000  </td><td> 1.360000 </td><td> 0.000000 </td><td>-1.425010 </td><td>-2.2550100</td><td>1.615000  </td><td>-0.970000 </td><td> 1.370000 </td><td>-2.445000 </td><td>-1.5400200</td></tr>\n",
       "</tbody>\n",
       "</table>\n"
      ],
      "text/latex": [
       "\\begin{tabular}{r|lllllllllllllllllllllllllllllllllllllllllllllllllllllllllllllllllllllllllllllllllllllllllllllllllllllllllllllllllllllllllllllllllllllllllllllllllllllllllllllllllllllllllllllllllllllllllllllllllllllllll}\n",
       "  & Description & 4701 & 4700 & 256 & 16 & 4699 & 6393 & 6149 & 286 & 6415 & ... & 5721 & 6622 & 5336 & 1067 & 6288 & 5872 & 5489 & 78 & 127 & 3383\\\\\n",
       "\\hline\n",
       "\tV1 & CNS        &  5.770000  &  5.820000  & -1.910000  & -2.37      &  4.760000  &  5.4799900 &  0.000000  &  0.610000  &  5.230000  & ...        & 2.790000   &  1.210000  & -0.890000  & -1.055010  & -2.1850100 & 0.045000   &  1.990000  &  2.360000  & -1.305000  & -0.5400195\\\\\n",
       "\tV2 & CNS        &  5.039961  &  5.069961  & -1.980039  &  0.00      &  4.779961  &  5.7299510 & -0.480039  & -3.980039  &  5.329961  & ...        & 1.629961   &  1.599961  & -1.060039  & -1.055049  & -3.4050490 & 0.874961   &  2.609961  &  0.869961  & -0.375039  &  0.4799415\\\\\n",
       "\tV3 & CNS        & -1.440000  & -1.030000  & -0.580000  &  0.00      &  0.000000  &  4.6299900 &  2.060000  & -1.580000  &  0.000000  & ...        & 1.920000   & -0.260000  &  0.000000  &  1.294990  & -0.6850098 & 1.445000   &  0.200000  &  1.990000  &  0.705000  &  0.3199805\\\\\n",
       "\tV4 & RENAL      & -2.420000  & -2.420000  & -1.880000  & -1.02      & -2.590000  &  1.2999900 &  5.190000  & -4.880000  &  7.020000  & ...        & 3.200000   &  1.110000  &  1.060000  &  1.414990  & -4.4750100 & 2.365000   &  1.080000  &  3.600000  & -0.685000  &  0.1399805\\\\\n",
       "\tV5 & BREAST     & -2.955000  & -2.955000  & -1.235000  &  0.00      & -2.535000  & -1.0550098 &  7.425000  & -3.235000  &  4.395000  & ...        & 2.865000   &  1.245000  &  0.000000  & -1.480010  & -3.8300098 & 3.320000   & -1.155000  & -1.385000  & -1.220000  &  0.4449805\\\\\n",
       "\tV6 & CNS        &  0.000000  & -3.180000  & -3.050000  & -0.05      & -1.170000  &  0.5899902 &  4.230000  & -5.050000  & -0.220000  & ...        & 2.860000   &  1.360000  &  0.000000  & -1.425010  & -2.2550100 & 1.615000   & -0.970000  &  1.370000  & -2.445000  & -1.5400200\\\\\n",
       "\\end{tabular}\n"
      ],
      "text/markdown": [
       "\n",
       "| <!--/--> | Description | 4701 | 4700 | 256 | 16 | 4699 | 6393 | 6149 | 286 | 6415 | ... | 5721 | 6622 | 5336 | 1067 | 6288 | 5872 | 5489 | 78 | 127 | 3383 |\n",
       "|---|---|---|---|---|---|---|---|---|---|---|---|---|---|---|---|---|---|---|---|---|---|\n",
       "| V1 | CNS        |  5.770000  |  5.820000  | -1.910000  | -2.37      |  4.760000  |  5.4799900 |  0.000000  |  0.610000  |  5.230000  | ...        | 2.790000   |  1.210000  | -0.890000  | -1.055010  | -2.1850100 | 0.045000   |  1.990000  |  2.360000  | -1.305000  | -0.5400195 |\n",
       "| V2 | CNS        |  5.039961  |  5.069961  | -1.980039  |  0.00      |  4.779961  |  5.7299510 | -0.480039  | -3.980039  |  5.329961  | ...        | 1.629961   |  1.599961  | -1.060039  | -1.055049  | -3.4050490 | 0.874961   |  2.609961  |  0.869961  | -0.375039  |  0.4799415 |\n",
       "| V3 | CNS        | -1.440000  | -1.030000  | -0.580000  |  0.00      |  0.000000  |  4.6299900 |  2.060000  | -1.580000  |  0.000000  | ...        | 1.920000   | -0.260000  |  0.000000  |  1.294990  | -0.6850098 | 1.445000   |  0.200000  |  1.990000  |  0.705000  |  0.3199805 |\n",
       "| V4 | RENAL      | -2.420000  | -2.420000  | -1.880000  | -1.02      | -2.590000  |  1.2999900 |  5.190000  | -4.880000  |  7.020000  | ...        | 3.200000   |  1.110000  |  1.060000  |  1.414990  | -4.4750100 | 2.365000   |  1.080000  |  3.600000  | -0.685000  |  0.1399805 |\n",
       "| V5 | BREAST     | -2.955000  | -2.955000  | -1.235000  |  0.00      | -2.535000  | -1.0550098 |  7.425000  | -3.235000  |  4.395000  | ...        | 2.865000   |  1.245000  |  0.000000  | -1.480010  | -3.8300098 | 3.320000   | -1.155000  | -1.385000  | -1.220000  |  0.4449805 |\n",
       "| V6 | CNS        |  0.000000  | -3.180000  | -3.050000  | -0.05      | -1.170000  |  0.5899902 |  4.230000  | -5.050000  | -0.220000  | ...        | 2.860000   |  1.360000  |  0.000000  | -1.425010  | -2.2550100 | 1.615000   | -0.970000  |  1.370000  | -2.445000  | -1.5400200 |\n",
       "\n"
      ],
      "text/plain": [
       "   Description 4701      4700      256       16    4699      6393      \n",
       "V1 CNS          5.770000  5.820000 -1.910000 -2.37  4.760000  5.4799900\n",
       "V2 CNS          5.039961  5.069961 -1.980039  0.00  4.779961  5.7299510\n",
       "V3 CNS         -1.440000 -1.030000 -0.580000  0.00  0.000000  4.6299900\n",
       "V4 RENAL       -2.420000 -2.420000 -1.880000 -1.02 -2.590000  1.2999900\n",
       "V5 BREAST      -2.955000 -2.955000 -1.235000  0.00 -2.535000 -1.0550098\n",
       "V6 CNS          0.000000 -3.180000 -3.050000 -0.05 -1.170000  0.5899902\n",
       "   6149      286       6415      ... 5721     6622      5336      1067     \n",
       "V1  0.000000  0.610000  5.230000 ... 2.790000  1.210000 -0.890000 -1.055010\n",
       "V2 -0.480039 -3.980039  5.329961 ... 1.629961  1.599961 -1.060039 -1.055049\n",
       "V3  2.060000 -1.580000  0.000000 ... 1.920000 -0.260000  0.000000  1.294990\n",
       "V4  5.190000 -4.880000  7.020000 ... 3.200000  1.110000  1.060000  1.414990\n",
       "V5  7.425000 -3.235000  4.395000 ... 2.865000  1.245000  0.000000 -1.480010\n",
       "V6  4.230000 -5.050000 -0.220000 ... 2.860000  1.360000  0.000000 -1.425010\n",
       "   6288       5872     5489      78        127       3383      \n",
       "V1 -2.1850100 0.045000  1.990000  2.360000 -1.305000 -0.5400195\n",
       "V2 -3.4050490 0.874961  2.609961  0.869961 -0.375039  0.4799415\n",
       "V3 -0.6850098 1.445000  0.200000  1.990000  0.705000  0.3199805\n",
       "V4 -4.4750100 2.365000  1.080000  3.600000 -0.685000  0.1399805\n",
       "V5 -3.8300098 3.320000 -1.155000 -1.385000 -1.220000  0.4449805\n",
       "V6 -2.2550100 1.615000 -0.970000  1.370000 -2.445000 -1.5400200"
      ]
     },
     "metadata": {},
     "output_type": "display_data"
    }
   ],
   "source": [
    "head(top_nci60)"
   ]
  },
  {
   "cell_type": "markdown",
   "id": "82a10a31",
   "metadata": {},
   "source": [
    "# evaluomeR - optimal $k$ analysis <a class=\"anchor\" id=\"evaluomer\"></a>\n",
    "In this Section, evaluomeR executes an optimal $k$ analysis. First, stabilities and qualities are calculated, considering all the metrics in the dataset. The $k$ range is $k \\in [3,10]$ and the clustering method is `kmeans`."
   ]
  },
  {
   "cell_type": "code",
   "execution_count": 27,
   "id": "3ae91fdf",
   "metadata": {},
   "outputs": [],
   "source": [
    "seed = 13606\n",
    "k.range=c(3,10)\n",
    "cbi = \"kmeans\""
   ]
  },
  {
   "cell_type": "markdown",
   "id": "908db6c2",
   "metadata": {},
   "source": [
    "Stability calculation with $k \\in [3,10]$ and `kmeans`:"
   ]
  },
  {
   "cell_type": "code",
   "execution_count": 28,
   "id": "304b4f81",
   "metadata": {},
   "outputs": [
    {
     "name": "stderr",
     "output_type": "stream",
     "text": [
      "\n",
      "Data loaded.\n",
      "Number of rows: 61\n",
      "Number of columns: 201\n",
      "\n",
      "\n",
      "Processing all metrics, 'merge', in dataframe (200)\n",
      "\tCalculation of k = 3\n",
      "\tCalculation of k = 4\n",
      "\tCalculation of k = 5\n",
      "\tCalculation of k = 6\n",
      "\tCalculation of k = 7\n",
      "\tCalculation of k = 8\n",
      "\tCalculation of k = 9\n",
      "\tCalculation of k = 10\n"
     ]
    }
   ],
   "source": [
    "stab_range = stabilityRange(data=top_nci60, k.range=k.range, \n",
    "                            bs=100, seed=seed,\n",
    "                            all_metrics=TRUE,\n",
    "                            cbi=cbi)\n",
    "stab = standardizeStabilityData(stab_range)"
   ]
  },
  {
   "cell_type": "markdown",
   "id": "526ab2bf",
   "metadata": {},
   "source": [
    "Quality calculation with $k \\in [3,10]$ and `kmeans`."
   ]
  },
  {
   "cell_type": "code",
   "execution_count": 29,
   "id": "7f41b13f",
   "metadata": {},
   "outputs": [
    {
     "name": "stderr",
     "output_type": "stream",
     "text": [
      "\n",
      "Data loaded.\n",
      "Number of rows: 61\n",
      "Number of columns: 201\n",
      "\n",
      "\n",
      "Processing all metrics, 'merge', in dataframe (200)\n",
      "\tCalculation of k = 3\n",
      "\tCalculation of k = 4\n",
      "\tCalculation of k = 5\n",
      "\tCalculation of k = 6\n",
      "\tCalculation of k = 7\n",
      "\tCalculation of k = 8\n",
      "\tCalculation of k = 9\n",
      "\tCalculation of k = 10\n"
     ]
    }
   ],
   "source": [
    "qual_range = qualityRange(data=top_nci60, k.range=k.range, \n",
    "                            seed=seed,\n",
    "                            all_metrics=TRUE,\n",
    "                            cbi=cbi)\n",
    "qual = standardizeQualityData(qual_range)"
   ]
  },
  {
   "cell_type": "markdown",
   "id": "e7ccea5f",
   "metadata": {},
   "source": [
    "Determining the optimal $k$ given the stabilities and qualities in `stab_range` and `qual_range` objects:"
   ]
  },
  {
   "cell_type": "code",
   "execution_count": 30,
   "id": "deb71810",
   "metadata": {},
   "outputs": [
    {
     "name": "stderr",
     "output_type": "stream",
     "text": [
      "Processing metric: all_metrics\n",
      "\n",
      "\tBoth Ks do not have a stable classification: '3', '8'\n",
      "\n",
      "\tUsing '8' since it provides higher silhouette width\n",
      "\n"
     ]
    },
    {
     "name": "stdout",
     "output_type": "stream",
     "text": [
      "[1] \"Optimal k: 8\"\n"
     ]
    }
   ],
   "source": [
    "k_opt = getOptimalKValue(stab_range, qual_range, k.range= k.range)\n",
    "optimal_k = k_opt$Global_optimal_k\n",
    "optimal_k_str = paste0(\"k_\", optimal_k)\n",
    "print(paste0(\"Optimal k: \", optimal_k))"
   ]
  },
  {
   "cell_type": "code",
   "execution_count": 31,
   "id": "a1893312",
   "metadata": {},
   "outputs": [
    {
     "name": "stdout",
     "output_type": "stream",
     "text": [
      "[1] \"Stabilities and qualities per k with 'kmeans' as clustering method\"\n"
     ]
    },
    {
     "data": {
      "text/html": [
       "<table>\n",
       "<thead><tr><th></th><th scope=col>k_3</th><th scope=col>k_4</th><th scope=col>k_5</th><th scope=col>k_6</th><th scope=col>k_7</th><th scope=col>k_8</th><th scope=col>k_9</th><th scope=col>k_10</th></tr></thead>\n",
       "<tbody>\n",
       "\t<tr><th scope=row>all_metrics</th><td>0.7292307</td><td>0.5878163</td><td>0.5464581</td><td>0.689701 </td><td>0.6398981</td><td>0.6699727</td><td>0.639195 </td><td>0.6031684</td></tr>\n",
       "</tbody>\n",
       "</table>\n"
      ],
      "text/latex": [
       "\\begin{tabular}{r|llllllll}\n",
       "  & k\\_3 & k\\_4 & k\\_5 & k\\_6 & k\\_7 & k\\_8 & k\\_9 & k\\_10\\\\\n",
       "\\hline\n",
       "\tall\\_metrics & 0.7292307 & 0.5878163 & 0.5464581 & 0.689701  & 0.6398981 & 0.6699727 & 0.639195  & 0.6031684\\\\\n",
       "\\end{tabular}\n"
      ],
      "text/markdown": [
       "\n",
       "| <!--/--> | k_3 | k_4 | k_5 | k_6 | k_7 | k_8 | k_9 | k_10 |\n",
       "|---|---|---|---|---|---|---|---|---|\n",
       "| all_metrics | 0.7292307 | 0.5878163 | 0.5464581 | 0.689701  | 0.6398981 | 0.6699727 | 0.639195  | 0.6031684 |\n",
       "\n"
      ],
      "text/plain": [
       "            k_3       k_4       k_5       k_6      k_7       k_8       k_9     \n",
       "all_metrics 0.7292307 0.5878163 0.5464581 0.689701 0.6398981 0.6699727 0.639195\n",
       "            k_10     \n",
       "all_metrics 0.6031684"
      ]
     },
     "metadata": {},
     "output_type": "display_data"
    },
    {
     "data": {
      "text/html": [
       "<table>\n",
       "<thead><tr><th></th><th scope=col>k_3</th><th scope=col>k_4</th><th scope=col>k_5</th><th scope=col>k_6</th><th scope=col>k_7</th><th scope=col>k_8</th><th scope=col>k_9</th><th scope=col>k_10</th></tr></thead>\n",
       "<tbody>\n",
       "\t<tr><th scope=row>all_metrics</th><td>0.1502642</td><td>0.107444 </td><td>0.1025745</td><td>0.1496112</td><td>0.1538648</td><td>0.1571863</td><td>0.1546125</td><td>0.1531244</td></tr>\n",
       "</tbody>\n",
       "</table>\n"
      ],
      "text/latex": [
       "\\begin{tabular}{r|llllllll}\n",
       "  & k\\_3 & k\\_4 & k\\_5 & k\\_6 & k\\_7 & k\\_8 & k\\_9 & k\\_10\\\\\n",
       "\\hline\n",
       "\tall\\_metrics & 0.1502642 & 0.107444  & 0.1025745 & 0.1496112 & 0.1538648 & 0.1571863 & 0.1546125 & 0.1531244\\\\\n",
       "\\end{tabular}\n"
      ],
      "text/markdown": [
       "\n",
       "| <!--/--> | k_3 | k_4 | k_5 | k_6 | k_7 | k_8 | k_9 | k_10 |\n",
       "|---|---|---|---|---|---|---|---|---|\n",
       "| all_metrics | 0.1502642 | 0.107444  | 0.1025745 | 0.1496112 | 0.1538648 | 0.1571863 | 0.1546125 | 0.1531244 |\n",
       "\n"
      ],
      "text/plain": [
       "            k_3       k_4      k_5       k_6       k_7       k_8      \n",
       "all_metrics 0.1502642 0.107444 0.1025745 0.1496112 0.1538648 0.1571863\n",
       "            k_9       k_10     \n",
       "all_metrics 0.1546125 0.1531244"
      ]
     },
     "metadata": {},
     "output_type": "display_data"
    },
    {
     "name": "stdout",
     "output_type": "stream",
     "text": [
      "[1] \"Stabily in k=8: 0.669972700910201\"\n",
      "[1] \"Quality in k=8: 0.157186259501016\"\n"
     ]
    }
   ],
   "source": [
    "print(paste0(\"Stabilities and qualities per k with '\", cbi, \"' as clustering method\"))\n",
    "stab\n",
    "qual\n",
    "print(paste0(\"Stabily in k=\", optimal_k,\": \", stab[optimal_k_str]))\n",
    "print(paste0(\"Quality in k=\", optimal_k,\": \", qual[optimal_k_str]))"
   ]
  },
  {
   "cell_type": "markdown",
   "id": "e96ae474",
   "metadata": {},
   "source": [
    "# Clusters"
   ]
  },
  {
   "cell_type": "code",
   "execution_count": 34,
   "id": "61294941",
   "metadata": {},
   "outputs": [],
   "source": [
    "# Internal method used to group individuals per cluster\n",
    "individuals_per_cluster = function(qualityResult) {\n",
    "  qual_df = as.data.frame(assay(qualityResult))\n",
    "\n",
    "\n",
    "  cluster_pos_str = as.character(unlist(qual_df[\"Cluster_position\"]))\n",
    "  cluster_labels_str = as.character(unlist(qual_df[\"Cluster_labels\"]))\n",
    "\n",
    "  cluster_pos = as.list(strsplit(cluster_pos_str, \",\")[[1]])\n",
    "  cluster_labels = as.list(strsplit(cluster_labels_str, \",\")[[1]])\n",
    "\n",
    "  individuals_in_cluster = as.data.frame(cbind(cluster_labels, cluster_pos))\n",
    "  colnames(individuals_in_cluster) = c(\"Individual\", \"InCluster\")\n",
    "\n",
    "  return(individuals_in_cluster)\n",
    "}"
   ]
  },
  {
   "cell_type": "code",
   "execution_count": 36,
   "id": "77b5d886",
   "metadata": {
    "scrolled": true
   },
   "outputs": [
    {
     "name": "stdout",
     "output_type": "stream",
     "text": [
      "[1] \"Cluster 1 : BREAST,NSCLC,RENAL,OVARIAN,MELANOMA,OVARIAN,NSCLC,NSCLC\"\n",
      "[1] \"---\"\n",
      "[1] \"Cluster 2 : CNS,CNS,CNS,RENAL,BREAST,CNS,CNS,BREAST,NSCLC,NSCLC\"\n",
      "[1] \"---\"\n",
      "[1] \"Cluster 3 : MCF7A-repro,BREAST,MCF7D-repro,BREAST\"\n",
      "[1] \"---\"\n",
      "[1] \"Cluster 4 : RENAL,RENAL,RENAL,RENAL,RENAL,RENAL,RENAL\"\n",
      "[1] \"---\"\n",
      "[1] \"Cluster 5 : K562B-repro,K562A-repro,LEUKEMIA,LEUKEMIA,LEUKEMIA,LEUKEMIA,LEUKEMIA\"\n",
      "[1] \"---\"\n",
      "[1] \"Cluster 6 : MELANOMA,BREAST,BREAST,MELANOMA,MELANOMA,MELANOMA,MELANOMA,MELANOMA,MELANOMA\"\n",
      "[1] \"---\"\n",
      "[1] \"Cluster 7 : COLON,COLON,COLON,COLON,COLON,COLON,COLON\"\n",
      "[1] \"---\"\n",
      "[1] \"Cluster 8 : OVARIAN,OVARIAN,OVARIAN,OVARIAN,NSCLC,NSCLC,NSCLC,LEUKEMIA,NSCLC\"\n",
      "[1] \"---\"\n"
     ]
    }
   ],
   "source": [
    "cluster_individuals = individuals_per_cluster(assay(qual_range[optimal_k_str]))\n",
    "for (cluster_i in 1:optimal_k) {\n",
    "    ind_in_cluster = paste(unlist(cluster_individuals[cluster_individuals$InCluster == cluster_i, ][\"Individual\"]), collapse = \",\")\n",
    "    print(paste(\"Cluster\", cluster_i, \":\", ind_in_cluster))\n",
    "    print(\"---\")\n",
    "}"
   ]
  },
  {
   "cell_type": "markdown",
   "id": "516d4108",
   "metadata": {},
   "source": [
    "# PCA <a class=\"anchor\" id=\"pca\"></a>\n",
    "We employ Principal Component Analysis (PCA) as a dimensionality reduction technique to facilitate the visualization of clusters within our dataset. PCA allow us to transform the original high-dimensional data into a lower-dimensional space, while preserving as much of the variability as possible."
   ]
  },
  {
   "cell_type": "code",
   "execution_count": 38,
   "id": "fb5ac766",
   "metadata": {},
   "outputs": [
    {
     "data": {
      "text/html": [
       "<table>\n",
       "<thead><tr><th></th><th scope=col>PC1</th><th scope=col>PC2</th><th scope=col>PC3</th><th scope=col>PC4</th><th scope=col>PC5</th><th scope=col>PC6</th><th scope=col>PC7</th><th scope=col>PC8</th><th scope=col>PC9</th><th scope=col>PC10</th><th scope=col>...</th><th scope=col>PC54</th><th scope=col>PC55</th><th scope=col>PC56</th><th scope=col>PC57</th><th scope=col>PC58</th><th scope=col>PC59</th><th scope=col>PC60</th><th scope=col>PC61</th><th scope=col>Cluster</th><th scope=col>Individual</th></tr></thead>\n",
       "<tbody>\n",
       "\t<tr><th scope=row>V1</th><td> -6.047292   </td><td>-0.1633954   </td><td>2.343101     </td><td>-3.7542082   </td><td>0.9101306    </td><td> 6.4385560   </td><td>-1.4718647   </td><td> 0.2568147   </td><td>-3.4710357   </td><td> 0.2371819   </td><td>...          </td><td> 0.5443508   </td><td>-0.93217559  </td><td>-0.40614412  </td><td>-0.33202684  </td><td>-0.29064548  </td><td> 1.45975628  </td><td>-0.35816434  </td><td> 2.220446e-16</td><td>2            </td><td>CNS          </td></tr>\n",
       "\t<tr><th scope=row>V2</th><td> -5.928062   </td><td>-1.4008178   </td><td>2.591172     </td><td>-2.9873006   </td><td>0.6213681    </td><td> 7.5243878   </td><td>-2.2293323   </td><td>-0.1076932   </td><td>-3.5885014   </td><td>-2.0967271   </td><td>...          </td><td>-0.5501516   </td><td> 0.73731686  </td><td> 0.28332566  </td><td> 0.28925844  </td><td> 0.27986086  </td><td>-1.40201579  </td><td> 0.35144976  </td><td> 3.885781e-16</td><td>2            </td><td>CNS          </td></tr>\n",
       "\t<tr><th scope=row>V3</th><td> -8.032512   </td><td> 0.6220568   </td><td>2.554242     </td><td>-0.7701399   </td><td>4.2108007    </td><td> 2.0175085   </td><td>-3.1203730   </td><td>-0.1278904   </td><td>-0.3633964   </td><td> 0.9184632   </td><td>...          </td><td>-0.5461150   </td><td>-0.61011084  </td><td> 0.32372254  </td><td>-0.40845604  </td><td>-0.02209404  </td><td>-0.40350996  </td><td>-0.11359210  </td><td> 1.443290e-15</td><td>2            </td><td>CNS          </td></tr>\n",
       "\t<tr><th scope=row>V4</th><td>-11.959122   </td><td>-2.0505708   </td><td>0.931178     </td><td>-4.7920611   </td><td>7.9077612    </td><td> 0.9908415   </td><td> 0.8599031   </td><td>-3.7133015   </td><td>-0.2454991   </td><td>-1.6436616   </td><td>...          </td><td> 0.4447826   </td><td> 0.02147934  </td><td> 0.12368870  </td><td>-0.07768251  </td><td>-0.03231038  </td><td> 0.07446244  </td><td> 0.05495832  </td><td>-5.551115e-16</td><td>2            </td><td>RENAL        </td></tr>\n",
       "\t<tr><th scope=row>V5</th><td>-13.832647   </td><td>-1.1343743   </td><td>4.009274     </td><td>-3.0021119   </td><td>6.1676820    </td><td>-7.3072763   </td><td> 0.8183651   </td><td>-3.9095351   </td><td> 1.0638898   </td><td>-1.3703352   </td><td>...          </td><td> 0.2375083   </td><td>-0.45506626  </td><td>-0.08622651  </td><td>-0.46457167  </td><td>-0.17632278  </td><td> 0.22166030  </td><td> 0.15110846  </td><td> 2.775558e-15</td><td>2            </td><td>BREAST       </td></tr>\n",
       "\t<tr><th scope=row>V6</th><td> -8.145455   </td><td>-2.0823536   </td><td>3.913364     </td><td>-3.4954706   </td><td>3.5598213    </td><td>-2.8922116   </td><td> 0.2768688   </td><td>-3.0802177   </td><td> 1.5891418   </td><td>-0.3036240   </td><td>...          </td><td>-0.9560074   </td><td> 0.15505998  </td><td> 0.10978059  </td><td> 0.39089483  </td><td> 0.13453252  </td><td>-0.03949569  </td><td>-0.08595763  </td><td>-1.221245e-15</td><td>2            </td><td>CNS          </td></tr>\n",
       "</tbody>\n",
       "</table>\n"
      ],
      "text/latex": [
       "\\begin{tabular}{r|lllllllllllllllllllllllllllllllllllllllllllllllllllllllllllllll}\n",
       "  & PC1 & PC2 & PC3 & PC4 & PC5 & PC6 & PC7 & PC8 & PC9 & PC10 & ... & PC54 & PC55 & PC56 & PC57 & PC58 & PC59 & PC60 & PC61 & Cluster & Individual\\\\\n",
       "\\hline\n",
       "\tV1 &  -6.047292    & -0.1633954    & 2.343101      & -3.7542082    & 0.9101306     &  6.4385560    & -1.4718647    &  0.2568147    & -3.4710357    &  0.2371819    & ...           &  0.5443508    & -0.93217559   & -0.40614412   & -0.33202684   & -0.29064548   &  1.45975628   & -0.35816434   &  2.220446e-16 & 2             & CNS          \\\\\n",
       "\tV2 &  -5.928062    & -1.4008178    & 2.591172      & -2.9873006    & 0.6213681     &  7.5243878    & -2.2293323    & -0.1076932    & -3.5885014    & -2.0967271    & ...           & -0.5501516    &  0.73731686   &  0.28332566   &  0.28925844   &  0.27986086   & -1.40201579   &  0.35144976   &  3.885781e-16 & 2             & CNS          \\\\\n",
       "\tV3 &  -8.032512    &  0.6220568    & 2.554242      & -0.7701399    & 4.2108007     &  2.0175085    & -3.1203730    & -0.1278904    & -0.3633964    &  0.9184632    & ...           & -0.5461150    & -0.61011084   &  0.32372254   & -0.40845604   & -0.02209404   & -0.40350996   & -0.11359210   &  1.443290e-15 & 2             & CNS          \\\\\n",
       "\tV4 & -11.959122    & -2.0505708    & 0.931178      & -4.7920611    & 7.9077612     &  0.9908415    &  0.8599031    & -3.7133015    & -0.2454991    & -1.6436616    & ...           &  0.4447826    &  0.02147934   &  0.12368870   & -0.07768251   & -0.03231038   &  0.07446244   &  0.05495832   & -5.551115e-16 & 2             & RENAL        \\\\\n",
       "\tV5 & -13.832647    & -1.1343743    & 4.009274      & -3.0021119    & 6.1676820     & -7.3072763    &  0.8183651    & -3.9095351    &  1.0638898    & -1.3703352    & ...           &  0.2375083    & -0.45506626   & -0.08622651   & -0.46457167   & -0.17632278   &  0.22166030   &  0.15110846   &  2.775558e-15 & 2             & BREAST       \\\\\n",
       "\tV6 &  -8.145455    & -2.0823536    & 3.913364      & -3.4954706    & 3.5598213     & -2.8922116    &  0.2768688    & -3.0802177    &  1.5891418    & -0.3036240    & ...           & -0.9560074    &  0.15505998   &  0.10978059   &  0.39089483   &  0.13453252   & -0.03949569   & -0.08595763   & -1.221245e-15 & 2             & CNS          \\\\\n",
       "\\end{tabular}\n"
      ],
      "text/markdown": [
       "\n",
       "| <!--/--> | PC1 | PC2 | PC3 | PC4 | PC5 | PC6 | PC7 | PC8 | PC9 | PC10 | ... | PC54 | PC55 | PC56 | PC57 | PC58 | PC59 | PC60 | PC61 | Cluster | Individual |\n",
       "|---|---|---|---|---|---|---|---|---|---|---|---|---|---|---|---|---|---|---|---|---|---|\n",
       "| V1 |  -6.047292    | -0.1633954    | 2.343101      | -3.7542082    | 0.9101306     |  6.4385560    | -1.4718647    |  0.2568147    | -3.4710357    |  0.2371819    | ...           |  0.5443508    | -0.93217559   | -0.40614412   | -0.33202684   | -0.29064548   |  1.45975628   | -0.35816434   |  2.220446e-16 | 2             | CNS           |\n",
       "| V2 |  -5.928062    | -1.4008178    | 2.591172      | -2.9873006    | 0.6213681     |  7.5243878    | -2.2293323    | -0.1076932    | -3.5885014    | -2.0967271    | ...           | -0.5501516    |  0.73731686   |  0.28332566   |  0.28925844   |  0.27986086   | -1.40201579   |  0.35144976   |  3.885781e-16 | 2             | CNS           |\n",
       "| V3 |  -8.032512    |  0.6220568    | 2.554242      | -0.7701399    | 4.2108007     |  2.0175085    | -3.1203730    | -0.1278904    | -0.3633964    |  0.9184632    | ...           | -0.5461150    | -0.61011084   |  0.32372254   | -0.40845604   | -0.02209404   | -0.40350996   | -0.11359210   |  1.443290e-15 | 2             | CNS           |\n",
       "| V4 | -11.959122    | -2.0505708    | 0.931178      | -4.7920611    | 7.9077612     |  0.9908415    |  0.8599031    | -3.7133015    | -0.2454991    | -1.6436616    | ...           |  0.4447826    |  0.02147934   |  0.12368870   | -0.07768251   | -0.03231038   |  0.07446244   |  0.05495832   | -5.551115e-16 | 2             | RENAL         |\n",
       "| V5 | -13.832647    | -1.1343743    | 4.009274      | -3.0021119    | 6.1676820     | -7.3072763    |  0.8183651    | -3.9095351    |  1.0638898    | -1.3703352    | ...           |  0.2375083    | -0.45506626   | -0.08622651   | -0.46457167   | -0.17632278   |  0.22166030   |  0.15110846   |  2.775558e-15 | 2             | BREAST        |\n",
       "| V6 |  -8.145455    | -2.0823536    | 3.913364      | -3.4954706    | 3.5598213     | -2.8922116    |  0.2768688    | -3.0802177    |  1.5891418    | -0.3036240    | ...           | -0.9560074    |  0.15505998   |  0.10978059   |  0.39089483   |  0.13453252   | -0.03949569   | -0.08595763   | -1.221245e-15 | 2             | CNS           |\n",
       "\n"
      ],
      "text/plain": [
       "   PC1        PC2        PC3      PC4        PC5       PC6        PC7       \n",
       "V1  -6.047292 -0.1633954 2.343101 -3.7542082 0.9101306  6.4385560 -1.4718647\n",
       "V2  -5.928062 -1.4008178 2.591172 -2.9873006 0.6213681  7.5243878 -2.2293323\n",
       "V3  -8.032512  0.6220568 2.554242 -0.7701399 4.2108007  2.0175085 -3.1203730\n",
       "V4 -11.959122 -2.0505708 0.931178 -4.7920611 7.9077612  0.9908415  0.8599031\n",
       "V5 -13.832647 -1.1343743 4.009274 -3.0021119 6.1676820 -7.3072763  0.8183651\n",
       "V6  -8.145455 -2.0823536 3.913364 -3.4954706 3.5598213 -2.8922116  0.2768688\n",
       "   PC8        PC9        PC10       ... PC54       PC55        PC56       \n",
       "V1  0.2568147 -3.4710357  0.2371819 ...  0.5443508 -0.93217559 -0.40614412\n",
       "V2 -0.1076932 -3.5885014 -2.0967271 ... -0.5501516  0.73731686  0.28332566\n",
       "V3 -0.1278904 -0.3633964  0.9184632 ... -0.5461150 -0.61011084  0.32372254\n",
       "V4 -3.7133015 -0.2454991 -1.6436616 ...  0.4447826  0.02147934  0.12368870\n",
       "V5 -3.9095351  1.0638898 -1.3703352 ...  0.2375083 -0.45506626 -0.08622651\n",
       "V6 -3.0802177  1.5891418 -0.3036240 ... -0.9560074  0.15505998  0.10978059\n",
       "   PC57        PC58        PC59        PC60        PC61          Cluster\n",
       "V1 -0.33202684 -0.29064548  1.45975628 -0.35816434  2.220446e-16 2      \n",
       "V2  0.28925844  0.27986086 -1.40201579  0.35144976  3.885781e-16 2      \n",
       "V3 -0.40845604 -0.02209404 -0.40350996 -0.11359210  1.443290e-15 2      \n",
       "V4 -0.07768251 -0.03231038  0.07446244  0.05495832 -5.551115e-16 2      \n",
       "V5 -0.46457167 -0.17632278  0.22166030  0.15110846  2.775558e-15 2      \n",
       "V6  0.39089483  0.13453252 -0.03949569 -0.08595763 -1.221245e-15 2      \n",
       "   Individual\n",
       "V1 CNS       \n",
       "V2 CNS       \n",
       "V3 CNS       \n",
       "V4 RENAL     \n",
       "V5 BREAST    \n",
       "V6 CNS       "
      ]
     },
     "metadata": {},
     "output_type": "display_data"
    }
   ],
   "source": [
    "top_nci60[\"inCluster\"] = as.numeric(cluster_individuals$InCluster)\n",
    "pca_matrix = top_nci60 %>% select(-Description, -inCluster)\n",
    "pca_result <- prcomp(pca_matrix, scale. = TRUE)\n",
    "pca_df <- data.frame(pca_result$x)\n",
    "pca_df$Cluster <- as.factor(top_nci60$inCluster)\n",
    "pca_df$Individual <- top_nci60$Description\n",
    "head(pca_df)"
   ]
  },
  {
   "cell_type": "code",
   "execution_count": 39,
   "id": "f1ee6dd6",
   "metadata": {},
   "outputs": [
    {
     "data": {
      "image/png": "[encoded data removed]",
      "text/plain": [
       "plot without title"
      ]
     },
     "metadata": {},
     "output_type": "display_data"
    }
   ],
   "source": [
    "# Plot of the clusters, color\n",
    "ggplot2::ggplot(pca_df, ggplot2::aes(x = PC1, y = PC2, color = Cluster, label = Individual)) +\n",
    "  ggplot2::geom_point(size = 3) +\n",
    "  ggplot2::geom_text(vjust = 1, hjust = 1) +\n",
    "  ggplot2::labs(title = \"PCA of Features\",\n",
    "       x = \"Principal Component 1\",\n",
    "       y = \"Principal Component 2\") +\n",
    "  ggplot2::theme_minimal()"
   ]
  },
  {
   "cell_type": "code",
   "execution_count": 43,
   "id": "7292265d",
   "metadata": {},
   "outputs": [
    {
     "data": {
      "image/png": "[encoded data removed]",
      "text/plain": [
       "plot without title"
      ]
     },
     "metadata": {},
     "output_type": "display_data"
    }
   ],
   "source": [
    "# Plot of the clusters, grayscale\n",
    "ggplot(pca_df, aes(x = PC1, y = PC2, shape = Cluster, color = Cluster, label = Individual)) +\n",
    "  geom_point(size = 3) + # Point size\n",
    "  geom_text(vjust = 1, hjust = 1, color = \"black\") + # Black color for text\n",
    "  labs(title = \"PCA of Features\",\n",
    "       x = \"Principal Component 1\",\n",
    "       y = \"Principal Component 2\") +\n",
    "  theme_minimal() +\n",
    "  scale_shape_manual(values = c(16, 17, 15, 18, 19, 20, 21, 22, 23, 24)) + # Different point styles\n",
    "  scale_color_manual(values = c(\"gray20\", \"gray35\", \"gray50\", \"gray65\", \"gray80\", \n",
    "                                \"black\", \"gray30\", \"gray45\", \"gray60\", \"gray75\")) + # Different grayscale colors\n",
    "  theme(legend.position = \"right\")"
   ]
  },
  {
   "cell_type": "markdown",
   "id": "f3cede33",
   "metadata": {},
   "source": [
    "# Sensitivity <a class=\"anchor\" id=\"sensitivity\"></a>\n",
    "In this Section we evaluate the sensitivity of our clustering using the `MLmetrics::Sensitivity` method. Sensitivity, or the true positive rate, measures the ability to correctly identify positive instances within the data. By focusing on sensitivity, we aim to ensure that our model effectively captures the relevant clusters, minimizing the number of false negatives. "
   ]
  },
  {
   "cell_type": "code",
   "execution_count": 46,
   "id": "6c304dd0",
   "metadata": {},
   "outputs": [
    {
     "data": {
      "text/html": [
       "<table>\n",
       "<thead><tr><th></th><th scope=col>Description</th><th scope=col>Class</th></tr></thead>\n",
       "<tbody>\n",
       "\t<tr><th scope=row>V1</th><td>CNS   </td><td>CNS   </td></tr>\n",
       "\t<tr><th scope=row>V2</th><td>CNS   </td><td>CNS   </td></tr>\n",
       "\t<tr><th scope=row>V3</th><td>CNS   </td><td>CNS   </td></tr>\n",
       "\t<tr><th scope=row>V4</th><td>RENAL </td><td>RENAL </td></tr>\n",
       "\t<tr><th scope=row>V5</th><td>BREAST</td><td>BREAST</td></tr>\n",
       "\t<tr><th scope=row>V6</th><td>CNS   </td><td>CNS   </td></tr>\n",
       "</tbody>\n",
       "</table>\n"
      ],
      "text/latex": [
       "\\begin{tabular}{r|ll}\n",
       "  & Description & Class\\\\\n",
       "\\hline\n",
       "\tV1 & CNS    & CNS   \\\\\n",
       "\tV2 & CNS    & CNS   \\\\\n",
       "\tV3 & CNS    & CNS   \\\\\n",
       "\tV4 & RENAL  & RENAL \\\\\n",
       "\tV5 & BREAST & BREAST\\\\\n",
       "\tV6 & CNS    & CNS   \\\\\n",
       "\\end{tabular}\n"
      ],
      "text/markdown": [
       "\n",
       "| <!--/--> | Description | Class |\n",
       "|---|---|---|\n",
       "| V1 | CNS    | CNS    |\n",
       "| V2 | CNS    | CNS    |\n",
       "| V3 | CNS    | CNS    |\n",
       "| V4 | RENAL  | RENAL  |\n",
       "| V5 | BREAST | BREAST |\n",
       "| V6 | CNS    | CNS    |\n",
       "\n"
      ],
      "text/plain": [
       "   Description Class \n",
       "V1 CNS         CNS   \n",
       "V2 CNS         CNS   \n",
       "V3 CNS         CNS   \n",
       "V4 RENAL       RENAL \n",
       "V5 BREAST      BREAST\n",
       "V6 CNS         CNS   "
      ]
     },
     "metadata": {},
     "output_type": "display_data"
    }
   ],
   "source": [
    "top_nci60[\"Class\"] = top_nci60[\"Description\"]\n",
    "head(top_nci60)[, c(\"Description\", \"Class\")]"
   ]
  },
  {
   "cell_type": "code",
   "execution_count": 48,
   "id": "518d502b",
   "metadata": {},
   "outputs": [
    {
     "data": {
      "text/html": [
       "<table>\n",
       "<thead><tr><th></th><th scope=col>Description</th><th scope=col>Class</th><th scope=col>inCluster</th><th scope=col>Class_n</th></tr></thead>\n",
       "<tbody>\n",
       "\t<tr><th scope=row>V1</th><td>CNS   </td><td>CNS   </td><td>2     </td><td>2     </td></tr>\n",
       "\t<tr><th scope=row>V2</th><td>CNS   </td><td>CNS   </td><td>2     </td><td>2     </td></tr>\n",
       "\t<tr><th scope=row>V3</th><td>CNS   </td><td>CNS   </td><td>2     </td><td>2     </td></tr>\n",
       "\t<tr><th scope=row>V4</th><td>RENAL </td><td>RENAL </td><td>2     </td><td>4     </td></tr>\n",
       "\t<tr><th scope=row>V5</th><td>BREAST</td><td>BREAST</td><td>2     </td><td>3     </td></tr>\n",
       "\t<tr><th scope=row>V6</th><td>CNS   </td><td>CNS   </td><td>2     </td><td>2     </td></tr>\n",
       "</tbody>\n",
       "</table>\n"
      ],
      "text/latex": [
       "\\begin{tabular}{r|llll}\n",
       "  & Description & Class & inCluster & Class\\_n\\\\\n",
       "\\hline\n",
       "\tV1 & CNS    & CNS    & 2      & 2     \\\\\n",
       "\tV2 & CNS    & CNS    & 2      & 2     \\\\\n",
       "\tV3 & CNS    & CNS    & 2      & 2     \\\\\n",
       "\tV4 & RENAL  & RENAL  & 2      & 4     \\\\\n",
       "\tV5 & BREAST & BREAST & 2      & 3     \\\\\n",
       "\tV6 & CNS    & CNS    & 2      & 2     \\\\\n",
       "\\end{tabular}\n"
      ],
      "text/markdown": [
       "\n",
       "| <!--/--> | Description | Class | inCluster | Class_n |\n",
       "|---|---|---|---|---|\n",
       "| V1 | CNS    | CNS    | 2      | 2      |\n",
       "| V2 | CNS    | CNS    | 2      | 2      |\n",
       "| V3 | CNS    | CNS    | 2      | 2      |\n",
       "| V4 | RENAL  | RENAL  | 2      | 4      |\n",
       "| V5 | BREAST | BREAST | 2      | 3      |\n",
       "| V6 | CNS    | CNS    | 2      | 2      |\n",
       "\n"
      ],
      "text/plain": [
       "   Description Class  inCluster Class_n\n",
       "V1 CNS         CNS    2         2      \n",
       "V2 CNS         CNS    2         2      \n",
       "V3 CNS         CNS    2         2      \n",
       "V4 RENAL       RENAL  2         4      \n",
       "V5 BREAST      BREAST 2         3      \n",
       "V6 CNS         CNS    2         2      "
      ]
     },
     "metadata": {},
     "output_type": "display_data"
    }
   ],
   "source": [
    "# KMEANS\n",
    "# k=8\n",
    "level_mapping <- c(\"NSCLC\" = 1, \"CNS\" = 2, \"BREAST\" = 3,\n",
    "                 \"MCF7A-repro\" = 3, \"MCF7D-repro\" = 3, \"RENAL\" = 4, \n",
    "                 \"LEUKEMIA\" = 5, \"K562B-repro\" = 5, \"K562A-repro\" = 5, \n",
    "                 \"MELANOMA\" = 6,  \"COLON\" = 7, \"OVARIAN\" = 8\n",
    "                  )\n",
    "map_strings_to_numbers <- function(strings) {\n",
    "    return(as.numeric(level_mapping[strings]))\n",
    "}\n",
    "# Map categories with cluster number\n",
    "top_nci60[\"Class_n\"] = lapply(top_nci60[\"Class\"], map_strings_to_numbers)\n",
    "# Table of prediction vs actual classification\n",
    "head(top_nci60)[, c(\"Description\", \"Class\", \"inCluster\", \"Class_n\")]"
   ]
  },
  {
   "cell_type": "code",
   "execution_count": 49,
   "id": "15224bba",
   "metadata": {},
   "outputs": [
    {
     "name": "stdout",
     "output_type": "stream",
     "text": [
      "[1] \"actual\"\n"
     ]
    },
    {
     "data": {
      "text/html": [
       "<ol class=list-inline>\n",
       "\t<li>2</li>\n",
       "\t<li>2</li>\n",
       "\t<li>2</li>\n",
       "\t<li>4</li>\n",
       "\t<li>3</li>\n",
       "\t<li>2</li>\n",
       "\t<li>2</li>\n",
       "\t<li>3</li>\n",
       "\t<li>1</li>\n",
       "\t<li>1</li>\n",
       "\t<li>4</li>\n",
       "\t<li>4</li>\n",
       "\t<li>4</li>\n",
       "\t<li>4</li>\n",
       "\t<li>4</li>\n",
       "\t<li>4</li>\n",
       "\t<li>4</li>\n",
       "\t<li>3</li>\n",
       "\t<li>1</li>\n",
       "\t<li>4</li>\n",
       "\t<li>8</li>\n",
       "\t<li>6</li>\n",
       "\t<li>8</li>\n",
       "\t<li>8</li>\n",
       "\t<li>8</li>\n",
       "\t<li>8</li>\n",
       "\t<li>8</li>\n",
       "\t<li>1</li>\n",
       "\t<li>1</li>\n",
       "\t<li>1</li>\n",
       "\t<li>5</li>\n",
       "\t<li>5</li>\n",
       "\t<li>5</li>\n",
       "\t<li>5</li>\n",
       "\t<li>5</li>\n",
       "\t<li>5</li>\n",
       "\t<li>5</li>\n",
       "\t<li>5</li>\n",
       "\t<li>7</li>\n",
       "\t<li>7</li>\n",
       "\t<li>7</li>\n",
       "\t<li>7</li>\n",
       "\t<li>7</li>\n",
       "\t<li>7</li>\n",
       "\t<li>7</li>\n",
       "\t<li>3</li>\n",
       "\t<li>3</li>\n",
       "\t<li>3</li>\n",
       "\t<li>3</li>\n",
       "\t<li>1</li>\n",
       "\t<li>1</li>\n",
       "\t<li>1</li>\n",
       "\t<li>6</li>\n",
       "\t<li>3</li>\n",
       "\t<li>3</li>\n",
       "\t<li>6</li>\n",
       "\t<li>6</li>\n",
       "\t<li>6</li>\n",
       "\t<li>6</li>\n",
       "\t<li>6</li>\n",
       "\t<li>6</li>\n",
       "</ol>\n",
       "\n",
       "<details>\n",
       "\t<summary style=display:list-item;cursor:pointer>\n",
       "\t\t<strong>Levels</strong>:\n",
       "\t</summary>\n",
       "\t<ol class=list-inline>\n",
       "\t\t<li>'1'</li>\n",
       "\t\t<li>'2'</li>\n",
       "\t\t<li>'3'</li>\n",
       "\t\t<li>'4'</li>\n",
       "\t\t<li>'5'</li>\n",
       "\t\t<li>'6'</li>\n",
       "\t\t<li>'7'</li>\n",
       "\t\t<li>'8'</li>\n",
       "\t</ol>\n",
       "</details>"
      ],
      "text/latex": [
       "\\begin{enumerate*}\n",
       "\\item 2\n",
       "\\item 2\n",
       "\\item 2\n",
       "\\item 4\n",
       "\\item 3\n",
       "\\item 2\n",
       "\\item 2\n",
       "\\item 3\n",
       "\\item 1\n",
       "\\item 1\n",
       "\\item 4\n",
       "\\item 4\n",
       "\\item 4\n",
       "\\item 4\n",
       "\\item 4\n",
       "\\item 4\n",
       "\\item 4\n",
       "\\item 3\n",
       "\\item 1\n",
       "\\item 4\n",
       "\\item 8\n",
       "\\item 6\n",
       "\\item 8\n",
       "\\item 8\n",
       "\\item 8\n",
       "\\item 8\n",
       "\\item 8\n",
       "\\item 1\n",
       "\\item 1\n",
       "\\item 1\n",
       "\\item 5\n",
       "\\item 5\n",
       "\\item 5\n",
       "\\item 5\n",
       "\\item 5\n",
       "\\item 5\n",
       "\\item 5\n",
       "\\item 5\n",
       "\\item 7\n",
       "\\item 7\n",
       "\\item 7\n",
       "\\item 7\n",
       "\\item 7\n",
       "\\item 7\n",
       "\\item 7\n",
       "\\item 3\n",
       "\\item 3\n",
       "\\item 3\n",
       "\\item 3\n",
       "\\item 1\n",
       "\\item 1\n",
       "\\item 1\n",
       "\\item 6\n",
       "\\item 3\n",
       "\\item 3\n",
       "\\item 6\n",
       "\\item 6\n",
       "\\item 6\n",
       "\\item 6\n",
       "\\item 6\n",
       "\\item 6\n",
       "\\end{enumerate*}\n",
       "\n",
       "\\emph{Levels}: \\begin{enumerate*}\n",
       "\\item '1'\n",
       "\\item '2'\n",
       "\\item '3'\n",
       "\\item '4'\n",
       "\\item '5'\n",
       "\\item '6'\n",
       "\\item '7'\n",
       "\\item '8'\n",
       "\\end{enumerate*}\n"
      ],
      "text/markdown": [
       "1. 2\n",
       "2. 2\n",
       "3. 2\n",
       "4. 4\n",
       "5. 3\n",
       "6. 2\n",
       "7. 2\n",
       "8. 3\n",
       "9. 1\n",
       "10. 1\n",
       "11. 4\n",
       "12. 4\n",
       "13. 4\n",
       "14. 4\n",
       "15. 4\n",
       "16. 4\n",
       "17. 4\n",
       "18. 3\n",
       "19. 1\n",
       "20. 4\n",
       "21. 8\n",
       "22. 6\n",
       "23. 8\n",
       "24. 8\n",
       "25. 8\n",
       "26. 8\n",
       "27. 8\n",
       "28. 1\n",
       "29. 1\n",
       "30. 1\n",
       "31. 5\n",
       "32. 5\n",
       "33. 5\n",
       "34. 5\n",
       "35. 5\n",
       "36. 5\n",
       "37. 5\n",
       "38. 5\n",
       "39. 7\n",
       "40. 7\n",
       "41. 7\n",
       "42. 7\n",
       "43. 7\n",
       "44. 7\n",
       "45. 7\n",
       "46. 3\n",
       "47. 3\n",
       "48. 3\n",
       "49. 3\n",
       "50. 1\n",
       "51. 1\n",
       "52. 1\n",
       "53. 6\n",
       "54. 3\n",
       "55. 3\n",
       "56. 6\n",
       "57. 6\n",
       "58. 6\n",
       "59. 6\n",
       "60. 6\n",
       "61. 6\n",
       "\n",
       "\n",
       "\n",
       "**Levels**: 1. '1'\n",
       "2. '2'\n",
       "3. '3'\n",
       "4. '4'\n",
       "5. '5'\n",
       "6. '6'\n",
       "7. '7'\n",
       "8. '8'\n",
       "\n",
       "\n"
      ],
      "text/plain": [
       " [1] 2 2 2 4 3 2 2 3 1 1 4 4 4 4 4 4 4 3 1 4 8 6 8 8 8 8 8 1 1 1 5 5 5 5 5 5 5 5\n",
       "[39] 7 7 7 7 7 7 7 3 3 3 3 1 1 1 6 3 3 6 6 6 6 6 6\n",
       "Levels: 1 2 3 4 5 6 7 8"
      ]
     },
     "metadata": {},
     "output_type": "display_data"
    },
    {
     "name": "stdout",
     "output_type": "stream",
     "text": [
      "[1] \"predicted\"\n"
     ]
    },
    {
     "data": {
      "text/html": [
       "<ol class=list-inline>\n",
       "\t<li>2</li>\n",
       "\t<li>2</li>\n",
       "\t<li>2</li>\n",
       "\t<li>2</li>\n",
       "\t<li>2</li>\n",
       "\t<li>2</li>\n",
       "\t<li>2</li>\n",
       "\t<li>2</li>\n",
       "\t<li>2</li>\n",
       "\t<li>2</li>\n",
       "\t<li>4</li>\n",
       "\t<li>4</li>\n",
       "\t<li>4</li>\n",
       "\t<li>4</li>\n",
       "\t<li>4</li>\n",
       "\t<li>4</li>\n",
       "\t<li>4</li>\n",
       "\t<li>1</li>\n",
       "\t<li>1</li>\n",
       "\t<li>1</li>\n",
       "\t<li>1</li>\n",
       "\t<li>1</li>\n",
       "\t<li>8</li>\n",
       "\t<li>8</li>\n",
       "\t<li>8</li>\n",
       "\t<li>8</li>\n",
       "\t<li>1</li>\n",
       "\t<li>8</li>\n",
       "\t<li>8</li>\n",
       "\t<li>8</li>\n",
       "\t<li>8</li>\n",
       "\t<li>5</li>\n",
       "\t<li>5</li>\n",
       "\t<li>5</li>\n",
       "\t<li>5</li>\n",
       "\t<li>5</li>\n",
       "\t<li>5</li>\n",
       "\t<li>5</li>\n",
       "\t<li>7</li>\n",
       "\t<li>7</li>\n",
       "\t<li>7</li>\n",
       "\t<li>7</li>\n",
       "\t<li>7</li>\n",
       "\t<li>7</li>\n",
       "\t<li>7</li>\n",
       "\t<li>3</li>\n",
       "\t<li>3</li>\n",
       "\t<li>3</li>\n",
       "\t<li>3</li>\n",
       "\t<li>8</li>\n",
       "\t<li>1</li>\n",
       "\t<li>1</li>\n",
       "\t<li>6</li>\n",
       "\t<li>6</li>\n",
       "\t<li>6</li>\n",
       "\t<li>6</li>\n",
       "\t<li>6</li>\n",
       "\t<li>6</li>\n",
       "\t<li>6</li>\n",
       "\t<li>6</li>\n",
       "\t<li>6</li>\n",
       "</ol>\n",
       "\n",
       "<details>\n",
       "\t<summary style=display:list-item;cursor:pointer>\n",
       "\t\t<strong>Levels</strong>:\n",
       "\t</summary>\n",
       "\t<ol class=list-inline>\n",
       "\t\t<li>'1'</li>\n",
       "\t\t<li>'2'</li>\n",
       "\t\t<li>'3'</li>\n",
       "\t\t<li>'4'</li>\n",
       "\t\t<li>'5'</li>\n",
       "\t\t<li>'6'</li>\n",
       "\t\t<li>'7'</li>\n",
       "\t\t<li>'8'</li>\n",
       "\t</ol>\n",
       "</details>"
      ],
      "text/latex": [
       "\\begin{enumerate*}\n",
       "\\item 2\n",
       "\\item 2\n",
       "\\item 2\n",
       "\\item 2\n",
       "\\item 2\n",
       "\\item 2\n",
       "\\item 2\n",
       "\\item 2\n",
       "\\item 2\n",
       "\\item 2\n",
       "\\item 4\n",
       "\\item 4\n",
       "\\item 4\n",
       "\\item 4\n",
       "\\item 4\n",
       "\\item 4\n",
       "\\item 4\n",
       "\\item 1\n",
       "\\item 1\n",
       "\\item 1\n",
       "\\item 1\n",
       "\\item 1\n",
       "\\item 8\n",
       "\\item 8\n",
       "\\item 8\n",
       "\\item 8\n",
       "\\item 1\n",
       "\\item 8\n",
       "\\item 8\n",
       "\\item 8\n",
       "\\item 8\n",
       "\\item 5\n",
       "\\item 5\n",
       "\\item 5\n",
       "\\item 5\n",
       "\\item 5\n",
       "\\item 5\n",
       "\\item 5\n",
       "\\item 7\n",
       "\\item 7\n",
       "\\item 7\n",
       "\\item 7\n",
       "\\item 7\n",
       "\\item 7\n",
       "\\item 7\n",
       "\\item 3\n",
       "\\item 3\n",
       "\\item 3\n",
       "\\item 3\n",
       "\\item 8\n",
       "\\item 1\n",
       "\\item 1\n",
       "\\item 6\n",
       "\\item 6\n",
       "\\item 6\n",
       "\\item 6\n",
       "\\item 6\n",
       "\\item 6\n",
       "\\item 6\n",
       "\\item 6\n",
       "\\item 6\n",
       "\\end{enumerate*}\n",
       "\n",
       "\\emph{Levels}: \\begin{enumerate*}\n",
       "\\item '1'\n",
       "\\item '2'\n",
       "\\item '3'\n",
       "\\item '4'\n",
       "\\item '5'\n",
       "\\item '6'\n",
       "\\item '7'\n",
       "\\item '8'\n",
       "\\end{enumerate*}\n"
      ],
      "text/markdown": [
       "1. 2\n",
       "2. 2\n",
       "3. 2\n",
       "4. 2\n",
       "5. 2\n",
       "6. 2\n",
       "7. 2\n",
       "8. 2\n",
       "9. 2\n",
       "10. 2\n",
       "11. 4\n",
       "12. 4\n",
       "13. 4\n",
       "14. 4\n",
       "15. 4\n",
       "16. 4\n",
       "17. 4\n",
       "18. 1\n",
       "19. 1\n",
       "20. 1\n",
       "21. 1\n",
       "22. 1\n",
       "23. 8\n",
       "24. 8\n",
       "25. 8\n",
       "26. 8\n",
       "27. 1\n",
       "28. 8\n",
       "29. 8\n",
       "30. 8\n",
       "31. 8\n",
       "32. 5\n",
       "33. 5\n",
       "34. 5\n",
       "35. 5\n",
       "36. 5\n",
       "37. 5\n",
       "38. 5\n",
       "39. 7\n",
       "40. 7\n",
       "41. 7\n",
       "42. 7\n",
       "43. 7\n",
       "44. 7\n",
       "45. 7\n",
       "46. 3\n",
       "47. 3\n",
       "48. 3\n",
       "49. 3\n",
       "50. 8\n",
       "51. 1\n",
       "52. 1\n",
       "53. 6\n",
       "54. 6\n",
       "55. 6\n",
       "56. 6\n",
       "57. 6\n",
       "58. 6\n",
       "59. 6\n",
       "60. 6\n",
       "61. 6\n",
       "\n",
       "\n",
       "\n",
       "**Levels**: 1. '1'\n",
       "2. '2'\n",
       "3. '3'\n",
       "4. '4'\n",
       "5. '5'\n",
       "6. '6'\n",
       "7. '7'\n",
       "8. '8'\n",
       "\n",
       "\n"
      ],
      "text/plain": [
       " [1] 2 2 2 2 2 2 2 2 2 2 4 4 4 4 4 4 4 1 1 1 1 1 8 8 8 8 1 8 8 8 8 5 5 5 5 5 5 5\n",
       "[39] 7 7 7 7 7 7 7 3 3 3 3 8 1 1 6 6 6 6 6 6 6 6 6\n",
       "Levels: 1 2 3 4 5 6 7 8"
      ]
     },
     "metadata": {},
     "output_type": "display_data"
    }
   ],
   "source": [
    "# Getting a vector of prediction vs actual classification\n",
    "actual = as.factor(as.vector(unlist(top_nci60[\"Class_n\"])))\n",
    "predicted <- factor(as.vector(unlist(top_nci60[\"inCluster\"])))\n",
    "\n",
    "print(\"actual\")\n",
    "actual\n",
    "print(\"predicted\")\n",
    "predicted"
   ]
  },
  {
   "cell_type": "code",
   "execution_count": 50,
   "id": "01ac8a81",
   "metadata": {},
   "outputs": [
    {
     "name": "stdout",
     "output_type": "stream",
     "text": [
      "[1] \"Sensitivity: 33.33%\"\n"
     ]
    }
   ],
   "source": [
    "sens <- MLmetrics::Sensitivity(y_pred = predicted, y_true = actual)\n",
    "sens = format(round(sens*100, 2), nsmall = 2)\n",
    "print(paste0(\"Sensitivity: \", sens, \"%\"))"
   ]
  },
  {
   "cell_type": "markdown",
   "id": "7cbef73d",
   "metadata": {},
   "source": [
    "# CER <a class=\"anchor\" id=\"cer\"></a>\n",
    "To assess the overall accuracy of our clustering, we compute the Classification Error Rate (CER) and compare it with the gold standard classification. CER represents the proportion of misclassified instances, thus providing a clear measure of the clustering performance in assigning individuals to the correct clusters."
   ]
  },
  {
   "cell_type": "code",
   "execution_count": 51,
   "id": "046b1d20",
   "metadata": {},
   "outputs": [
    {
     "name": "stdout",
     "output_type": "stream",
     "text": [
      "[1] \"CER: 10.16%\"\n"
     ]
    }
   ],
   "source": [
    "cer <- CER(predicted, actual)\n",
    "cer = format(round(cer*100, 2), nsmall = 2)\n",
    "print(paste0(\"CER: \", cer, \"%\"))"
   ]
  }
 ],
 "metadata": {
  "kernelspec": {
   "display_name": "R",
   "language": "R",
   "name": "ir"
  },
  "language_info": {
   "codemirror_mode": "r",
   "file_extension": ".r",
   "mimetype": "text/x-r-source",
   "name": "R",
   "pygments_lexer": "r",
   "version": "3.6.1"
  }
 },
 "nbformat": 4,
 "nbformat_minor": 5
}
