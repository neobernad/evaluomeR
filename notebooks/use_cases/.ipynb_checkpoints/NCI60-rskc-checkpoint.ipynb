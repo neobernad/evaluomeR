{
 "cells": [
  {
   "cell_type": "markdown",
   "id": "285a2f02",
   "metadata": {},
   "source": [
    "# NCI60 using RSKC"
   ]
  },
  {
   "cell_type": "code",
   "execution_count": 1,
   "id": "9ba99e51",
   "metadata": {
    "scrolled": true
   },
   "outputs": [
    {
     "name": "stderr",
     "output_type": "stream",
     "text": [
      "Cargando paquete requerido: SummarizedExperiment\n",
      "\n",
      "Cargando paquete requerido: MatrixGenerics\n",
      "\n",
      "Cargando paquete requerido: matrixStats\n",
      "\n",
      "\n",
      "Adjuntando el paquete: 'MatrixGenerics'\n",
      "\n",
      "\n",
      "The following objects are masked from 'package:matrixStats':\n",
      "\n",
      "    colAlls, colAnyNAs, colAnys, colAvgsPerRowSet, colCollapse,\n",
      "    colCounts, colCummaxs, colCummins, colCumprods, colCumsums,\n",
      "    colDiffs, colIQRDiffs, colIQRs, colLogSumExps, colMadDiffs,\n",
      "    colMads, colMaxs, colMeans2, colMedians, colMins, colOrderStats,\n",
      "    colProds, colQuantiles, colRanges, colRanks, colSdDiffs, colSds,\n",
      "    colSums2, colTabulates, colVarDiffs, colVars, colWeightedMads,\n",
      "    colWeightedMeans, colWeightedMedians, colWeightedSds,\n",
      "    colWeightedVars, rowAlls, rowAnyNAs, rowAnys, rowAvgsPerColSet,\n",
      "    rowCollapse, rowCounts, rowCummaxs, rowCummins, rowCumprods,\n",
      "    rowCumsums, rowDiffs, rowIQRDiffs, rowIQRs, rowLogSumExps,\n",
      "    rowMadDiffs, rowMads, rowMaxs, rowMeans2, rowMedians, rowMins,\n",
      "    rowOrderStats, rowProds, rowQuantiles, rowRanges, rowRanks,\n",
      "    rowSdDiffs, rowSds, rowSums2, rowTabulates, rowVarDiffs, rowVars,\n",
      "    rowWeightedMads, rowWeightedMeans, rowWeightedMedians,\n",
      "    rowWeightedSds, rowWeightedVars\n",
      "\n",
      "\n",
      "Cargando paquete requerido: GenomicRanges\n",
      "\n",
      "Cargando paquete requerido: stats4\n",
      "\n",
      "Cargando paquete requerido: BiocGenerics\n",
      "\n",
      "\n",
      "Adjuntando el paquete: 'BiocGenerics'\n",
      "\n",
      "\n",
      "The following objects are masked from 'package:stats':\n",
      "\n",
      "    IQR, mad, sd, var, xtabs\n",
      "\n",
      "\n",
      "The following objects are masked from 'package:base':\n",
      "\n",
      "    anyDuplicated, aperm, append, as.data.frame, basename, cbind,\n",
      "    colnames, dirname, do.call, duplicated, eval, evalq, Filter, Find,\n",
      "    get, grep, grepl, intersect, is.unsorted, lapply, Map, mapply,\n",
      "    match, mget, order, paste, pmax, pmax.int, pmin, pmin.int,\n",
      "    Position, rank, rbind, Reduce, rownames, sapply, setdiff, table,\n",
      "    tapply, union, unique, unsplit, which.max, which.min\n",
      "\n",
      "\n",
      "Cargando paquete requerido: S4Vectors\n",
      "\n",
      "\n",
      "Adjuntando el paquete: 'S4Vectors'\n",
      "\n",
      "\n",
      "The following object is masked from 'package:utils':\n",
      "\n",
      "    findMatches\n",
      "\n",
      "\n",
      "The following objects are masked from 'package:base':\n",
      "\n",
      "    expand.grid, I, unname\n",
      "\n",
      "\n",
      "Cargando paquete requerido: IRanges\n",
      "\n",
      "\n",
      "Adjuntando el paquete: 'IRanges'\n",
      "\n",
      "\n",
      "The following object is masked from 'package:grDevices':\n",
      "\n",
      "    windows\n",
      "\n",
      "\n",
      "Cargando paquete requerido: GenomeInfoDb\n",
      "\n",
      "Cargando paquete requerido: Biobase\n",
      "\n",
      "Welcome to Bioconductor\n",
      "\n",
      "    Vignettes contain introductory material; view with\n",
      "    'browseVignettes()'. To cite Bioconductor, see\n",
      "    'citation(\"Biobase\")', and for packages 'citation(\"pkgname\")'.\n",
      "\n",
      "\n",
      "\n",
      "Adjuntando el paquete: 'Biobase'\n",
      "\n",
      "\n",
      "The following object is masked from 'package:MatrixGenerics':\n",
      "\n",
      "    rowMedians\n",
      "\n",
      "\n",
      "The following objects are masked from 'package:matrixStats':\n",
      "\n",
      "    anyMissing, rowMedians\n",
      "\n",
      "\n",
      "Cargando paquete requerido: MultiAssayExperiment\n",
      "\n",
      "Cargando paquete requerido: dplyr\n",
      "\n",
      "\n",
      "Adjuntando el paquete: 'dplyr'\n",
      "\n",
      "\n",
      "The following object is masked from 'package:Biobase':\n",
      "\n",
      "    combine\n",
      "\n",
      "\n",
      "The following objects are masked from 'package:GenomicRanges':\n",
      "\n",
      "    intersect, setdiff, union\n",
      "\n",
      "\n",
      "The following object is masked from 'package:GenomeInfoDb':\n",
      "\n",
      "    intersect\n",
      "\n",
      "\n",
      "The following objects are masked from 'package:IRanges':\n",
      "\n",
      "    collapse, desc, intersect, setdiff, slice, union\n",
      "\n",
      "\n",
      "The following objects are masked from 'package:S4Vectors':\n",
      "\n",
      "    first, intersect, rename, setdiff, setequal, union\n",
      "\n",
      "\n",
      "The following objects are masked from 'package:BiocGenerics':\n",
      "\n",
      "    combine, intersect, setdiff, union\n",
      "\n",
      "\n",
      "The following object is masked from 'package:matrixStats':\n",
      "\n",
      "    count\n",
      "\n",
      "\n",
      "The following objects are masked from 'package:stats':\n",
      "\n",
      "    filter, lag\n",
      "\n",
      "\n",
      "The following objects are masked from 'package:base':\n",
      "\n",
      "    intersect, setdiff, setequal, union\n",
      "\n",
      "\n",
      "Cargando paquete requerido: cluster\n",
      "\n",
      "Cargando paquete requerido: fpc\n",
      "\n",
      "Cargando paquete requerido: randomForest\n",
      "\n",
      "randomForest 4.7-1.2\n",
      "\n",
      "Type rfNews() to see new features/changes/bug fixes.\n",
      "\n",
      "\n",
      "Adjuntando el paquete: 'randomForest'\n",
      "\n",
      "\n",
      "The following object is masked from 'package:dplyr':\n",
      "\n",
      "    combine\n",
      "\n",
      "\n",
      "The following object is masked from 'package:Biobase':\n",
      "\n",
      "    combine\n",
      "\n",
      "\n",
      "The following object is masked from 'package:BiocGenerics':\n",
      "\n",
      "    combine\n",
      "\n",
      "\n",
      "Cargando paquete requerido: flexmix\n",
      "\n",
      "Cargando paquete requerido: lattice\n",
      "\n",
      "Cargando paquete requerido: RSKC\n",
      "\n",
      "Cargando paquete requerido: flexclust\n",
      "\n",
      "Cargando paquete requerido: grid\n",
      "\n",
      "Cargando paquete requerido: modeltools\n",
      "\n",
      "Cargando paquete requerido: sparcl\n",
      "\n",
      "Cargando paquete requerido: ggplot2\n",
      "\n",
      "\n",
      "Adjuntando el paquete: 'ggplot2'\n",
      "\n",
      "\n",
      "The following object is masked from 'package:randomForest':\n",
      "\n",
      "    margin\n",
      "\n",
      "\n",
      "\n",
      "Adjuntando el paquete: 'MLmetrics'\n",
      "\n",
      "\n",
      "The following objects are masked from 'package:caret':\n",
      "\n",
      "    MAE, RMSE\n",
      "\n",
      "\n",
      "The following object is masked from 'package:RSKC':\n",
      "\n",
      "    Sensitivity\n",
      "\n",
      "\n",
      "The following object is masked from 'package:base':\n",
      "\n",
      "    Recall\n",
      "\n",
      "\n"
     ]
    }
   ],
   "source": [
    "library(\"ISLR\") \n",
    "library(\"evaluomeR\")\n",
    "library(\"dplyr\")\n",
    "library(\"caret\")\n",
    "library(\"MLmetrics\")\n",
    "library(\"ggplot2\")\n",
    "library(\"ggrepel\")\n",
    "library(\"reshape2\")\n",
    "\n",
    "options(scipen=10)"
   ]
  },
  {
   "cell_type": "markdown",
   "id": "52215d63",
   "metadata": {},
   "source": [
    "# Table of contents\n",
    "* [Dataset](#dataset)\n",
    "    * [Top 200](#top)\n",
    "* [evaluomeR - optimal $k$ analysis](#evaluomer)\n",
    "    * [Stability plotting](#evaluomeR_stab_plot)\n",
    "    * [Quality plotting](#evaluomeR_qual_plot)\n",
    "* [PCA](#pca)\n",
    "* [Sensitivity](#sensitivity)\n",
    "* [CER](#cer)"
   ]
  },
  {
   "cell_type": "markdown",
   "id": "8c073791",
   "metadata": {},
   "source": [
    "# Dataset <a class=\"anchor\" id=\"dataset\"></a>"
   ]
  },
  {
   "cell_type": "code",
   "execution_count": 2,
   "id": "50cb9920",
   "metadata": {},
   "outputs": [
    {
     "data": {
      "text/html": [
       "<table class=\"dataframe\">\n",
       "<caption>A data.frame: 6 × 6830</caption>\n",
       "<thead>\n",
       "\t<tr><th></th><th scope=col>1</th><th scope=col>2</th><th scope=col>3</th><th scope=col>4</th><th scope=col>5</th><th scope=col>6</th><th scope=col>7</th><th scope=col>8</th><th scope=col>9</th><th scope=col>10</th><th scope=col>⋯</th><th scope=col>6821</th><th scope=col>6822</th><th scope=col>6823</th><th scope=col>6824</th><th scope=col>6825</th><th scope=col>6826</th><th scope=col>6827</th><th scope=col>6828</th><th scope=col>6829</th><th scope=col>6830</th></tr>\n",
       "\t<tr><th></th><th scope=col>&lt;dbl&gt;</th><th scope=col>&lt;dbl&gt;</th><th scope=col>&lt;dbl&gt;</th><th scope=col>&lt;dbl&gt;</th><th scope=col>&lt;dbl&gt;</th><th scope=col>&lt;dbl&gt;</th><th scope=col>&lt;dbl&gt;</th><th scope=col>&lt;dbl&gt;</th><th scope=col>&lt;dbl&gt;</th><th scope=col>&lt;dbl&gt;</th><th scope=col>⋯</th><th scope=col>&lt;dbl&gt;</th><th scope=col>&lt;dbl&gt;</th><th scope=col>&lt;dbl&gt;</th><th scope=col>&lt;dbl&gt;</th><th scope=col>&lt;dbl&gt;</th><th scope=col>&lt;dbl&gt;</th><th scope=col>&lt;dbl&gt;</th><th scope=col>&lt;dbl&gt;</th><th scope=col>&lt;dbl&gt;</th><th scope=col>&lt;dbl&gt;</th></tr>\n",
       "</thead>\n",
       "<tbody>\n",
       "\t<tr><th scope=row>V1</th><td>0.300000</td><td> 1.180000</td><td> 0.550000</td><td> 1.140000</td><td>-0.265000</td><td>-7.000000e-02</td><td> 0.350000</td><td>-0.315000</td><td>-0.45000000</td><td>-0.65498050</td><td>⋯</td><td>-0.9900195</td><td> 0.000000</td><td> 0.030000</td><td>-0.175000</td><td> 0.6299805</td><td>-0.030000</td><td> 0.0000000</td><td> 0.280000</td><td>-0.340000</td><td>-1.930000</td></tr>\n",
       "\t<tr><th scope=row>V2</th><td>0.679961</td><td> 1.289961</td><td> 0.169961</td><td> 0.379961</td><td> 0.464961</td><td> 5.799610e-01</td><td> 0.699961</td><td> 0.724961</td><td>-0.04003899</td><td>-0.28501950</td><td>⋯</td><td>-0.2700585</td><td>-0.300039</td><td>-0.250039</td><td>-0.535039</td><td> 0.1099415</td><td>-0.860039</td><td>-1.2500490</td><td>-0.770039</td><td>-0.390039</td><td>-2.000039</td></tr>\n",
       "\t<tr><th scope=row>V3</th><td>0.940000</td><td>-0.040000</td><td>-0.170000</td><td>-0.040000</td><td>-0.605000</td><td> 0.000000e+00</td><td> 0.090000</td><td> 0.645000</td><td> 0.43000000</td><td> 0.47501950</td><td>⋯</td><td> 0.3199805</td><td> 0.120000</td><td>-0.740000</td><td>-0.595000</td><td>-0.2700195</td><td>-0.150000</td><td> 0.0000000</td><td>-0.120000</td><td>-0.410000</td><td> 0.000000</td></tr>\n",
       "\t<tr><th scope=row>V4</th><td>0.280000</td><td>-0.310000</td><td> 0.680000</td><td>-0.810000</td><td> 0.625000</td><td>-1.387779e-17</td><td> 0.170000</td><td> 0.245000</td><td> 0.02000000</td><td> 0.09501949</td><td>⋯</td><td>-1.2400200</td><td>-0.110000</td><td>-0.160000</td><td> 0.095000</td><td>-0.3500195</td><td>-0.300000</td><td>-1.1500100</td><td> 1.090000</td><td>-0.260000</td><td>-1.100000</td></tr>\n",
       "\t<tr><th scope=row>V5</th><td>0.485000</td><td>-0.465000</td><td> 0.395000</td><td> 0.905000</td><td> 0.200000</td><td>-5.000000e-03</td><td> 0.085000</td><td> 0.110000</td><td> 0.23500000</td><td> 1.49001949</td><td>⋯</td><td> 0.5549805</td><td>-0.775000</td><td>-0.515000</td><td>-0.320000</td><td> 0.6349805</td><td> 0.605000</td><td> 0.0000000</td><td> 0.745000</td><td> 0.425000</td><td> 0.145000</td></tr>\n",
       "\t<tr><th scope=row>V6</th><td>0.310000</td><td>-0.030000</td><td>-0.100000</td><td>-0.460000</td><td>-0.205000</td><td>-5.400000e-01</td><td>-0.640000</td><td>-0.585000</td><td>-0.77000000</td><td>-0.24498050</td><td>⋯</td><td>-0.5900195</td><td> 0.000000</td><td>-0.740000</td><td>-2.095000</td><td>-1.3900200</td><td>-0.400000</td><td> 0.6999902</td><td> 0.290000</td><td> 0.550000</td><td> 0.000000</td></tr>\n",
       "</tbody>\n",
       "</table>\n"
      ],
      "text/latex": [
       "A data.frame: 6 × 6830\n",
       "\\begin{tabular}{r|lllllllllllllllllllll}\n",
       "  & 1 & 2 & 3 & 4 & 5 & 6 & 7 & 8 & 9 & 10 & ⋯ & 6821 & 6822 & 6823 & 6824 & 6825 & 6826 & 6827 & 6828 & 6829 & 6830\\\\\n",
       "  & <dbl> & <dbl> & <dbl> & <dbl> & <dbl> & <dbl> & <dbl> & <dbl> & <dbl> & <dbl> & ⋯ & <dbl> & <dbl> & <dbl> & <dbl> & <dbl> & <dbl> & <dbl> & <dbl> & <dbl> & <dbl>\\\\\n",
       "\\hline\n",
       "\tV1 & 0.300000 &  1.180000 &  0.550000 &  1.140000 & -0.265000 & -7.000000e-02 &  0.350000 & -0.315000 & -0.45000000 & -0.65498050 & ⋯ & -0.9900195 &  0.000000 &  0.030000 & -0.175000 &  0.6299805 & -0.030000 &  0.0000000 &  0.280000 & -0.340000 & -1.930000\\\\\n",
       "\tV2 & 0.679961 &  1.289961 &  0.169961 &  0.379961 &  0.464961 &  5.799610e-01 &  0.699961 &  0.724961 & -0.04003899 & -0.28501950 & ⋯ & -0.2700585 & -0.300039 & -0.250039 & -0.535039 &  0.1099415 & -0.860039 & -1.2500490 & -0.770039 & -0.390039 & -2.000039\\\\\n",
       "\tV3 & 0.940000 & -0.040000 & -0.170000 & -0.040000 & -0.605000 &  0.000000e+00 &  0.090000 &  0.645000 &  0.43000000 &  0.47501950 & ⋯ &  0.3199805 &  0.120000 & -0.740000 & -0.595000 & -0.2700195 & -0.150000 &  0.0000000 & -0.120000 & -0.410000 &  0.000000\\\\\n",
       "\tV4 & 0.280000 & -0.310000 &  0.680000 & -0.810000 &  0.625000 & -1.387779e-17 &  0.170000 &  0.245000 &  0.02000000 &  0.09501949 & ⋯ & -1.2400200 & -0.110000 & -0.160000 &  0.095000 & -0.3500195 & -0.300000 & -1.1500100 &  1.090000 & -0.260000 & -1.100000\\\\\n",
       "\tV5 & 0.485000 & -0.465000 &  0.395000 &  0.905000 &  0.200000 & -5.000000e-03 &  0.085000 &  0.110000 &  0.23500000 &  1.49001949 & ⋯ &  0.5549805 & -0.775000 & -0.515000 & -0.320000 &  0.6349805 &  0.605000 &  0.0000000 &  0.745000 &  0.425000 &  0.145000\\\\\n",
       "\tV6 & 0.310000 & -0.030000 & -0.100000 & -0.460000 & -0.205000 & -5.400000e-01 & -0.640000 & -0.585000 & -0.77000000 & -0.24498050 & ⋯ & -0.5900195 &  0.000000 & -0.740000 & -2.095000 & -1.3900200 & -0.400000 &  0.6999902 &  0.290000 &  0.550000 &  0.000000\\\\\n",
       "\\end{tabular}\n"
      ],
      "text/markdown": [
       "\n",
       "A data.frame: 6 × 6830\n",
       "\n",
       "| <!--/--> | 1 &lt;dbl&gt; | 2 &lt;dbl&gt; | 3 &lt;dbl&gt; | 4 &lt;dbl&gt; | 5 &lt;dbl&gt; | 6 &lt;dbl&gt; | 7 &lt;dbl&gt; | 8 &lt;dbl&gt; | 9 &lt;dbl&gt; | 10 &lt;dbl&gt; | ⋯ ⋯ | 6821 &lt;dbl&gt; | 6822 &lt;dbl&gt; | 6823 &lt;dbl&gt; | 6824 &lt;dbl&gt; | 6825 &lt;dbl&gt; | 6826 &lt;dbl&gt; | 6827 &lt;dbl&gt; | 6828 &lt;dbl&gt; | 6829 &lt;dbl&gt; | 6830 &lt;dbl&gt; |\n",
       "|---|---|---|---|---|---|---|---|---|---|---|---|---|---|---|---|---|---|---|---|---|---|\n",
       "| V1 | 0.300000 |  1.180000 |  0.550000 |  1.140000 | -0.265000 | -7.000000e-02 |  0.350000 | -0.315000 | -0.45000000 | -0.65498050 | ⋯ | -0.9900195 |  0.000000 |  0.030000 | -0.175000 |  0.6299805 | -0.030000 |  0.0000000 |  0.280000 | -0.340000 | -1.930000 |\n",
       "| V2 | 0.679961 |  1.289961 |  0.169961 |  0.379961 |  0.464961 |  5.799610e-01 |  0.699961 |  0.724961 | -0.04003899 | -0.28501950 | ⋯ | -0.2700585 | -0.300039 | -0.250039 | -0.535039 |  0.1099415 | -0.860039 | -1.2500490 | -0.770039 | -0.390039 | -2.000039 |\n",
       "| V3 | 0.940000 | -0.040000 | -0.170000 | -0.040000 | -0.605000 |  0.000000e+00 |  0.090000 |  0.645000 |  0.43000000 |  0.47501950 | ⋯ |  0.3199805 |  0.120000 | -0.740000 | -0.595000 | -0.2700195 | -0.150000 |  0.0000000 | -0.120000 | -0.410000 |  0.000000 |\n",
       "| V4 | 0.280000 | -0.310000 |  0.680000 | -0.810000 |  0.625000 | -1.387779e-17 |  0.170000 |  0.245000 |  0.02000000 |  0.09501949 | ⋯ | -1.2400200 | -0.110000 | -0.160000 |  0.095000 | -0.3500195 | -0.300000 | -1.1500100 |  1.090000 | -0.260000 | -1.100000 |\n",
       "| V5 | 0.485000 | -0.465000 |  0.395000 |  0.905000 |  0.200000 | -5.000000e-03 |  0.085000 |  0.110000 |  0.23500000 |  1.49001949 | ⋯ |  0.5549805 | -0.775000 | -0.515000 | -0.320000 |  0.6349805 |  0.605000 |  0.0000000 |  0.745000 |  0.425000 |  0.145000 |\n",
       "| V6 | 0.310000 | -0.030000 | -0.100000 | -0.460000 | -0.205000 | -5.400000e-01 | -0.640000 | -0.585000 | -0.77000000 | -0.24498050 | ⋯ | -0.5900195 |  0.000000 | -0.740000 | -2.095000 | -1.3900200 | -0.400000 |  0.6999902 |  0.290000 |  0.550000 |  0.000000 |\n",
       "\n"
      ],
      "text/plain": [
       "   1        2         3         4         5         6             7        \n",
       "V1 0.300000  1.180000  0.550000  1.140000 -0.265000 -7.000000e-02  0.350000\n",
       "V2 0.679961  1.289961  0.169961  0.379961  0.464961  5.799610e-01  0.699961\n",
       "V3 0.940000 -0.040000 -0.170000 -0.040000 -0.605000  0.000000e+00  0.090000\n",
       "V4 0.280000 -0.310000  0.680000 -0.810000  0.625000 -1.387779e-17  0.170000\n",
       "V5 0.485000 -0.465000  0.395000  0.905000  0.200000 -5.000000e-03  0.085000\n",
       "V6 0.310000 -0.030000 -0.100000 -0.460000 -0.205000 -5.400000e-01 -0.640000\n",
       "   8         9           10          ⋯ 6821       6822      6823      6824     \n",
       "V1 -0.315000 -0.45000000 -0.65498050 ⋯ -0.9900195  0.000000  0.030000 -0.175000\n",
       "V2  0.724961 -0.04003899 -0.28501950 ⋯ -0.2700585 -0.300039 -0.250039 -0.535039\n",
       "V3  0.645000  0.43000000  0.47501950 ⋯  0.3199805  0.120000 -0.740000 -0.595000\n",
       "V4  0.245000  0.02000000  0.09501949 ⋯ -1.2400200 -0.110000 -0.160000  0.095000\n",
       "V5  0.110000  0.23500000  1.49001949 ⋯  0.5549805 -0.775000 -0.515000 -0.320000\n",
       "V6 -0.585000 -0.77000000 -0.24498050 ⋯ -0.5900195  0.000000 -0.740000 -2.095000\n",
       "   6825       6826      6827       6828      6829      6830     \n",
       "V1  0.6299805 -0.030000  0.0000000  0.280000 -0.340000 -1.930000\n",
       "V2  0.1099415 -0.860039 -1.2500490 -0.770039 -0.390039 -2.000039\n",
       "V3 -0.2700195 -0.150000  0.0000000 -0.120000 -0.410000  0.000000\n",
       "V4 -0.3500195 -0.300000 -1.1500100  1.090000 -0.260000 -1.100000\n",
       "V5  0.6349805  0.605000  0.0000000  0.745000  0.425000  0.145000\n",
       "V6 -1.3900200 -0.400000  0.6999902  0.290000  0.550000  0.000000"
      ]
     },
     "metadata": {},
     "output_type": "display_data"
    }
   ],
   "source": [
    "nci60 = as.data.frame(NCI60$data)\n",
    "head(nci60)"
   ]
  },
  {
   "cell_type": "markdown",
   "id": "6e33e971",
   "metadata": {},
   "source": [
    "There are 14 types of classes within the dataset: **CNS**, **RENAL**, **BREAST**, **NSCLC**, **UNKNOWN**, **OVARIAN**, **MELANOMA**, **PROSTATE**, **LEUKEMIA**, **K562B-repro**, **K562A-repro**, **COLON**, **MCF7A-repro** and **MCF7D-repro**:"
   ]
  },
  {
   "cell_type": "code",
   "execution_count": 3,
   "id": "7cc5ec8b",
   "metadata": {
    "scrolled": true
   },
   "outputs": [
    {
     "data": {
      "text/html": [
       "<style>\n",
       ".list-inline {list-style: none; margin:0; padding: 0}\n",
       ".list-inline>li {display: inline-block}\n",
       ".list-inline>li:not(:last-child)::after {content: \"\\00b7\"; padding: 0 .5ex}\n",
       "</style>\n",
       "<ol class=list-inline><li>'CNS'</li><li>'RENAL'</li><li>'BREAST'</li><li>'NSCLC'</li><li>'UNKNOWN'</li><li>'OVARIAN'</li><li>'MELANOMA'</li><li>'PROSTATE'</li><li>'LEUKEMIA'</li><li>'K562B-repro'</li><li>'K562A-repro'</li><li>'COLON'</li><li>'MCF7A-repro'</li><li>'MCF7D-repro'</li></ol>\n"
      ],
      "text/latex": [
       "\\begin{enumerate*}\n",
       "\\item 'CNS'\n",
       "\\item 'RENAL'\n",
       "\\item 'BREAST'\n",
       "\\item 'NSCLC'\n",
       "\\item 'UNKNOWN'\n",
       "\\item 'OVARIAN'\n",
       "\\item 'MELANOMA'\n",
       "\\item 'PROSTATE'\n",
       "\\item 'LEUKEMIA'\n",
       "\\item 'K562B-repro'\n",
       "\\item 'K562A-repro'\n",
       "\\item 'COLON'\n",
       "\\item 'MCF7A-repro'\n",
       "\\item 'MCF7D-repro'\n",
       "\\end{enumerate*}\n"
      ],
      "text/markdown": [
       "1. 'CNS'\n",
       "2. 'RENAL'\n",
       "3. 'BREAST'\n",
       "4. 'NSCLC'\n",
       "5. 'UNKNOWN'\n",
       "6. 'OVARIAN'\n",
       "7. 'MELANOMA'\n",
       "8. 'PROSTATE'\n",
       "9. 'LEUKEMIA'\n",
       "10. 'K562B-repro'\n",
       "11. 'K562A-repro'\n",
       "12. 'COLON'\n",
       "13. 'MCF7A-repro'\n",
       "14. 'MCF7D-repro'\n",
       "\n",
       "\n"
      ],
      "text/plain": [
       " [1] \"CNS\"         \"RENAL\"       \"BREAST\"      \"NSCLC\"       \"UNKNOWN\"    \n",
       " [6] \"OVARIAN\"     \"MELANOMA\"    \"PROSTATE\"    \"LEUKEMIA\"    \"K562B-repro\"\n",
       "[11] \"K562A-repro\" \"COLON\"       \"MCF7A-repro\" \"MCF7D-repro\""
      ]
     },
     "metadata": {},
     "output_type": "display_data"
    }
   ],
   "source": [
    "as.vector(unlist(unique(NCI60$labs)))"
   ]
  },
  {
   "cell_type": "markdown",
   "id": "9e8097f3",
   "metadata": {},
   "source": [
    "Here, we prepare the NCI60 dataset for the analysis:\n",
    "\n",
    "- We add a column named `Description` containing the class (category) of each row\n",
    "- Due to their small class size, we remove the two prostate cell lines and the unknown cell line, \"PROSTATE\" and \"UNKNOWN\" entires respectively."
   ]
  },
  {
   "cell_type": "code",
   "execution_count": 4,
   "id": "ee296298",
   "metadata": {},
   "outputs": [],
   "source": [
    "nci60[\"Description\"] = rownames(nci60)\n",
    "nci60 = nci60[ , c(\"Description\", names(nci60)[names(nci60) != \"Description\"])]\n",
    "nci60[\"Description\"] = NCI60$labs\n",
    "nci60 = nci60[!grepl(\"UNKNOWN\", nci60$Description),] # Remove UNKNOWN\n",
    "nci60 = nci60[!grepl(\"PROSTATE\", nci60$Description),] # Remove PROSTATE"
   ]
  },
  {
   "cell_type": "code",
   "execution_count": 5,
   "id": "e17ae48f-b63b-4d60-b532-5cec96971c55",
   "metadata": {},
   "outputs": [
    {
     "data": {
      "text/html": [
       "<table class=\"dataframe\">\n",
       "<caption>A data.frame: 6 × 6831</caption>\n",
       "<thead>\n",
       "\t<tr><th></th><th scope=col>Description</th><th scope=col>1</th><th scope=col>2</th><th scope=col>3</th><th scope=col>4</th><th scope=col>5</th><th scope=col>6</th><th scope=col>7</th><th scope=col>8</th><th scope=col>9</th><th scope=col>⋯</th><th scope=col>6821</th><th scope=col>6822</th><th scope=col>6823</th><th scope=col>6824</th><th scope=col>6825</th><th scope=col>6826</th><th scope=col>6827</th><th scope=col>6828</th><th scope=col>6829</th><th scope=col>6830</th></tr>\n",
       "\t<tr><th></th><th scope=col>&lt;chr&gt;</th><th scope=col>&lt;dbl&gt;</th><th scope=col>&lt;dbl&gt;</th><th scope=col>&lt;dbl&gt;</th><th scope=col>&lt;dbl&gt;</th><th scope=col>&lt;dbl&gt;</th><th scope=col>&lt;dbl&gt;</th><th scope=col>&lt;dbl&gt;</th><th scope=col>&lt;dbl&gt;</th><th scope=col>&lt;dbl&gt;</th><th scope=col>⋯</th><th scope=col>&lt;dbl&gt;</th><th scope=col>&lt;dbl&gt;</th><th scope=col>&lt;dbl&gt;</th><th scope=col>&lt;dbl&gt;</th><th scope=col>&lt;dbl&gt;</th><th scope=col>&lt;dbl&gt;</th><th scope=col>&lt;dbl&gt;</th><th scope=col>&lt;dbl&gt;</th><th scope=col>&lt;dbl&gt;</th><th scope=col>&lt;dbl&gt;</th></tr>\n",
       "</thead>\n",
       "<tbody>\n",
       "\t<tr><th scope=row>V1</th><td>CNS   </td><td>0.300000</td><td> 1.180000</td><td> 0.550000</td><td> 1.140000</td><td>-0.265000</td><td>-7.000000e-02</td><td> 0.350000</td><td>-0.315000</td><td>-0.45000000</td><td>⋯</td><td>-0.9900195</td><td> 0.000000</td><td> 0.030000</td><td>-0.175000</td><td> 0.6299805</td><td>-0.030000</td><td> 0.0000000</td><td> 0.280000</td><td>-0.340000</td><td>-1.930000</td></tr>\n",
       "\t<tr><th scope=row>V2</th><td>CNS   </td><td>0.679961</td><td> 1.289961</td><td> 0.169961</td><td> 0.379961</td><td> 0.464961</td><td> 5.799610e-01</td><td> 0.699961</td><td> 0.724961</td><td>-0.04003899</td><td>⋯</td><td>-0.2700585</td><td>-0.300039</td><td>-0.250039</td><td>-0.535039</td><td> 0.1099415</td><td>-0.860039</td><td>-1.2500490</td><td>-0.770039</td><td>-0.390039</td><td>-2.000039</td></tr>\n",
       "\t<tr><th scope=row>V3</th><td>CNS   </td><td>0.940000</td><td>-0.040000</td><td>-0.170000</td><td>-0.040000</td><td>-0.605000</td><td> 0.000000e+00</td><td> 0.090000</td><td> 0.645000</td><td> 0.43000000</td><td>⋯</td><td> 0.3199805</td><td> 0.120000</td><td>-0.740000</td><td>-0.595000</td><td>-0.2700195</td><td>-0.150000</td><td> 0.0000000</td><td>-0.120000</td><td>-0.410000</td><td> 0.000000</td></tr>\n",
       "\t<tr><th scope=row>V4</th><td>RENAL </td><td>0.280000</td><td>-0.310000</td><td> 0.680000</td><td>-0.810000</td><td> 0.625000</td><td>-1.387779e-17</td><td> 0.170000</td><td> 0.245000</td><td> 0.02000000</td><td>⋯</td><td>-1.2400200</td><td>-0.110000</td><td>-0.160000</td><td> 0.095000</td><td>-0.3500195</td><td>-0.300000</td><td>-1.1500100</td><td> 1.090000</td><td>-0.260000</td><td>-1.100000</td></tr>\n",
       "\t<tr><th scope=row>V5</th><td>BREAST</td><td>0.485000</td><td>-0.465000</td><td> 0.395000</td><td> 0.905000</td><td> 0.200000</td><td>-5.000000e-03</td><td> 0.085000</td><td> 0.110000</td><td> 0.23500000</td><td>⋯</td><td> 0.5549805</td><td>-0.775000</td><td>-0.515000</td><td>-0.320000</td><td> 0.6349805</td><td> 0.605000</td><td> 0.0000000</td><td> 0.745000</td><td> 0.425000</td><td> 0.145000</td></tr>\n",
       "\t<tr><th scope=row>V6</th><td>CNS   </td><td>0.310000</td><td>-0.030000</td><td>-0.100000</td><td>-0.460000</td><td>-0.205000</td><td>-5.400000e-01</td><td>-0.640000</td><td>-0.585000</td><td>-0.77000000</td><td>⋯</td><td>-0.5900195</td><td> 0.000000</td><td>-0.740000</td><td>-2.095000</td><td>-1.3900200</td><td>-0.400000</td><td> 0.6999902</td><td> 0.290000</td><td> 0.550000</td><td> 0.000000</td></tr>\n",
       "</tbody>\n",
       "</table>\n"
      ],
      "text/latex": [
       "A data.frame: 6 × 6831\n",
       "\\begin{tabular}{r|lllllllllllllllllllll}\n",
       "  & Description & 1 & 2 & 3 & 4 & 5 & 6 & 7 & 8 & 9 & ⋯ & 6821 & 6822 & 6823 & 6824 & 6825 & 6826 & 6827 & 6828 & 6829 & 6830\\\\\n",
       "  & <chr> & <dbl> & <dbl> & <dbl> & <dbl> & <dbl> & <dbl> & <dbl> & <dbl> & <dbl> & ⋯ & <dbl> & <dbl> & <dbl> & <dbl> & <dbl> & <dbl> & <dbl> & <dbl> & <dbl> & <dbl>\\\\\n",
       "\\hline\n",
       "\tV1 & CNS    & 0.300000 &  1.180000 &  0.550000 &  1.140000 & -0.265000 & -7.000000e-02 &  0.350000 & -0.315000 & -0.45000000 & ⋯ & -0.9900195 &  0.000000 &  0.030000 & -0.175000 &  0.6299805 & -0.030000 &  0.0000000 &  0.280000 & -0.340000 & -1.930000\\\\\n",
       "\tV2 & CNS    & 0.679961 &  1.289961 &  0.169961 &  0.379961 &  0.464961 &  5.799610e-01 &  0.699961 &  0.724961 & -0.04003899 & ⋯ & -0.2700585 & -0.300039 & -0.250039 & -0.535039 &  0.1099415 & -0.860039 & -1.2500490 & -0.770039 & -0.390039 & -2.000039\\\\\n",
       "\tV3 & CNS    & 0.940000 & -0.040000 & -0.170000 & -0.040000 & -0.605000 &  0.000000e+00 &  0.090000 &  0.645000 &  0.43000000 & ⋯ &  0.3199805 &  0.120000 & -0.740000 & -0.595000 & -0.2700195 & -0.150000 &  0.0000000 & -0.120000 & -0.410000 &  0.000000\\\\\n",
       "\tV4 & RENAL  & 0.280000 & -0.310000 &  0.680000 & -0.810000 &  0.625000 & -1.387779e-17 &  0.170000 &  0.245000 &  0.02000000 & ⋯ & -1.2400200 & -0.110000 & -0.160000 &  0.095000 & -0.3500195 & -0.300000 & -1.1500100 &  1.090000 & -0.260000 & -1.100000\\\\\n",
       "\tV5 & BREAST & 0.485000 & -0.465000 &  0.395000 &  0.905000 &  0.200000 & -5.000000e-03 &  0.085000 &  0.110000 &  0.23500000 & ⋯ &  0.5549805 & -0.775000 & -0.515000 & -0.320000 &  0.6349805 &  0.605000 &  0.0000000 &  0.745000 &  0.425000 &  0.145000\\\\\n",
       "\tV6 & CNS    & 0.310000 & -0.030000 & -0.100000 & -0.460000 & -0.205000 & -5.400000e-01 & -0.640000 & -0.585000 & -0.77000000 & ⋯ & -0.5900195 &  0.000000 & -0.740000 & -2.095000 & -1.3900200 & -0.400000 &  0.6999902 &  0.290000 &  0.550000 &  0.000000\\\\\n",
       "\\end{tabular}\n"
      ],
      "text/markdown": [
       "\n",
       "A data.frame: 6 × 6831\n",
       "\n",
       "| <!--/--> | Description &lt;chr&gt; | 1 &lt;dbl&gt; | 2 &lt;dbl&gt; | 3 &lt;dbl&gt; | 4 &lt;dbl&gt; | 5 &lt;dbl&gt; | 6 &lt;dbl&gt; | 7 &lt;dbl&gt; | 8 &lt;dbl&gt; | 9 &lt;dbl&gt; | ⋯ ⋯ | 6821 &lt;dbl&gt; | 6822 &lt;dbl&gt; | 6823 &lt;dbl&gt; | 6824 &lt;dbl&gt; | 6825 &lt;dbl&gt; | 6826 &lt;dbl&gt; | 6827 &lt;dbl&gt; | 6828 &lt;dbl&gt; | 6829 &lt;dbl&gt; | 6830 &lt;dbl&gt; |\n",
       "|---|---|---|---|---|---|---|---|---|---|---|---|---|---|---|---|---|---|---|---|---|---|\n",
       "| V1 | CNS    | 0.300000 |  1.180000 |  0.550000 |  1.140000 | -0.265000 | -7.000000e-02 |  0.350000 | -0.315000 | -0.45000000 | ⋯ | -0.9900195 |  0.000000 |  0.030000 | -0.175000 |  0.6299805 | -0.030000 |  0.0000000 |  0.280000 | -0.340000 | -1.930000 |\n",
       "| V2 | CNS    | 0.679961 |  1.289961 |  0.169961 |  0.379961 |  0.464961 |  5.799610e-01 |  0.699961 |  0.724961 | -0.04003899 | ⋯ | -0.2700585 | -0.300039 | -0.250039 | -0.535039 |  0.1099415 | -0.860039 | -1.2500490 | -0.770039 | -0.390039 | -2.000039 |\n",
       "| V3 | CNS    | 0.940000 | -0.040000 | -0.170000 | -0.040000 | -0.605000 |  0.000000e+00 |  0.090000 |  0.645000 |  0.43000000 | ⋯ |  0.3199805 |  0.120000 | -0.740000 | -0.595000 | -0.2700195 | -0.150000 |  0.0000000 | -0.120000 | -0.410000 |  0.000000 |\n",
       "| V4 | RENAL  | 0.280000 | -0.310000 |  0.680000 | -0.810000 |  0.625000 | -1.387779e-17 |  0.170000 |  0.245000 |  0.02000000 | ⋯ | -1.2400200 | -0.110000 | -0.160000 |  0.095000 | -0.3500195 | -0.300000 | -1.1500100 |  1.090000 | -0.260000 | -1.100000 |\n",
       "| V5 | BREAST | 0.485000 | -0.465000 |  0.395000 |  0.905000 |  0.200000 | -5.000000e-03 |  0.085000 |  0.110000 |  0.23500000 | ⋯ |  0.5549805 | -0.775000 | -0.515000 | -0.320000 |  0.6349805 |  0.605000 |  0.0000000 |  0.745000 |  0.425000 |  0.145000 |\n",
       "| V6 | CNS    | 0.310000 | -0.030000 | -0.100000 | -0.460000 | -0.205000 | -5.400000e-01 | -0.640000 | -0.585000 | -0.77000000 | ⋯ | -0.5900195 |  0.000000 | -0.740000 | -2.095000 | -1.3900200 | -0.400000 |  0.6999902 |  0.290000 |  0.550000 |  0.000000 |\n",
       "\n"
      ],
      "text/plain": [
       "   Description 1        2         3         4         5         6            \n",
       "V1 CNS         0.300000  1.180000  0.550000  1.140000 -0.265000 -7.000000e-02\n",
       "V2 CNS         0.679961  1.289961  0.169961  0.379961  0.464961  5.799610e-01\n",
       "V3 CNS         0.940000 -0.040000 -0.170000 -0.040000 -0.605000  0.000000e+00\n",
       "V4 RENAL       0.280000 -0.310000  0.680000 -0.810000  0.625000 -1.387779e-17\n",
       "V5 BREAST      0.485000 -0.465000  0.395000  0.905000  0.200000 -5.000000e-03\n",
       "V6 CNS         0.310000 -0.030000 -0.100000 -0.460000 -0.205000 -5.400000e-01\n",
       "   7         8         9           ⋯ 6821       6822      6823      6824     \n",
       "V1  0.350000 -0.315000 -0.45000000 ⋯ -0.9900195  0.000000  0.030000 -0.175000\n",
       "V2  0.699961  0.724961 -0.04003899 ⋯ -0.2700585 -0.300039 -0.250039 -0.535039\n",
       "V3  0.090000  0.645000  0.43000000 ⋯  0.3199805  0.120000 -0.740000 -0.595000\n",
       "V4  0.170000  0.245000  0.02000000 ⋯ -1.2400200 -0.110000 -0.160000  0.095000\n",
       "V5  0.085000  0.110000  0.23500000 ⋯  0.5549805 -0.775000 -0.515000 -0.320000\n",
       "V6 -0.640000 -0.585000 -0.77000000 ⋯ -0.5900195  0.000000 -0.740000 -2.095000\n",
       "   6825       6826      6827       6828      6829      6830     \n",
       "V1  0.6299805 -0.030000  0.0000000  0.280000 -0.340000 -1.930000\n",
       "V2  0.1099415 -0.860039 -1.2500490 -0.770039 -0.390039 -2.000039\n",
       "V3 -0.2700195 -0.150000  0.0000000 -0.120000 -0.410000  0.000000\n",
       "V4 -0.3500195 -0.300000 -1.1500100  1.090000 -0.260000 -1.100000\n",
       "V5  0.6349805  0.605000  0.0000000  0.745000  0.425000  0.145000\n",
       "V6 -1.3900200 -0.400000  0.6999902  0.290000  0.550000  0.000000"
      ]
     },
     "metadata": {},
     "output_type": "display_data"
    }
   ],
   "source": [
    "head(nci60)"
   ]
  },
  {
   "cell_type": "markdown",
   "id": "173207a5",
   "metadata": {},
   "source": [
    "## Top 200 <a class=\"anchor\" id=\"top\"></a>"
   ]
  },
  {
   "cell_type": "markdown",
   "id": "6c138f75",
   "metadata": {},
   "source": [
    "We now filter the metrics for including only the top 200 with the greatest variance, as these metrics have the most significant impact on clustering."
   ]
  },
  {
   "cell_type": "code",
   "execution_count": 6,
   "id": "a60b800d",
   "metadata": {},
   "outputs": [],
   "source": [
    "variance = sort(sapply(nci60[-1], var), decreasing = TRUE)  # Sorted gene variance\n",
    "nci60_var = as.data.frame(variance)\n",
    "nci60_var[\"Description\"] = rownames(nci60_var)"
   ]
  },
  {
   "cell_type": "code",
   "execution_count": 7,
   "id": "89a5ce6f",
   "metadata": {},
   "outputs": [
    {
     "data": {
      "text/html": [
       "<table class=\"dataframe\">\n",
       "<caption>A data.frame: 6 × 2</caption>\n",
       "<thead>\n",
       "\t<tr><th></th><th scope=col>variance</th><th scope=col>Description</th></tr>\n",
       "\t<tr><th></th><th scope=col>&lt;dbl&gt;</th><th scope=col>&lt;chr&gt;</th></tr>\n",
       "</thead>\n",
       "<tbody>\n",
       "\t<tr><th scope=row>4701</th><td>11.942075</td><td>4701</td></tr>\n",
       "\t<tr><th scope=row>4700</th><td>11.429800</td><td>4700</td></tr>\n",
       "\t<tr><th scope=row>256</th><td> 7.978482</td><td>256 </td></tr>\n",
       "\t<tr><th scope=row>16</th><td> 7.715338</td><td>16  </td></tr>\n",
       "\t<tr><th scope=row>4699</th><td> 7.711871</td><td>4699</td></tr>\n",
       "\t<tr><th scope=row>6393</th><td> 7.659845</td><td>6393</td></tr>\n",
       "</tbody>\n",
       "</table>\n"
      ],
      "text/latex": [
       "A data.frame: 6 × 2\n",
       "\\begin{tabular}{r|ll}\n",
       "  & variance & Description\\\\\n",
       "  & <dbl> & <chr>\\\\\n",
       "\\hline\n",
       "\t4701 & 11.942075 & 4701\\\\\n",
       "\t4700 & 11.429800 & 4700\\\\\n",
       "\t256 &  7.978482 & 256 \\\\\n",
       "\t16 &  7.715338 & 16  \\\\\n",
       "\t4699 &  7.711871 & 4699\\\\\n",
       "\t6393 &  7.659845 & 6393\\\\\n",
       "\\end{tabular}\n"
      ],
      "text/markdown": [
       "\n",
       "A data.frame: 6 × 2\n",
       "\n",
       "| <!--/--> | variance &lt;dbl&gt; | Description &lt;chr&gt; |\n",
       "|---|---|---|\n",
       "| 4701 | 11.942075 | 4701 |\n",
       "| 4700 | 11.429800 | 4700 |\n",
       "| 256 |  7.978482 | 256  |\n",
       "| 16 |  7.715338 | 16   |\n",
       "| 4699 |  7.711871 | 4699 |\n",
       "| 6393 |  7.659845 | 6393 |\n",
       "\n"
      ],
      "text/plain": [
       "     variance  Description\n",
       "4701 11.942075 4701       \n",
       "4700 11.429800 4700       \n",
       "256   7.978482 256        \n",
       "16    7.715338 16         \n",
       "4699  7.711871 4699       \n",
       "6393  7.659845 6393       "
      ]
     },
     "metadata": {},
     "output_type": "display_data"
    }
   ],
   "source": [
    "top_number = 200\n",
    "top_rows = nci60_var[c(1:top_number), ]\n",
    "head(top_rows)"
   ]
  },
  {
   "cell_type": "code",
   "execution_count": 8,
   "id": "7a0d743b",
   "metadata": {},
   "outputs": [],
   "source": [
    "row_list = as.list(top_rows[\"Description\"])\n",
    "top_row_list = unlist(setdiff(row_list, names(nci60)))\n",
    "top_nci60 = nci60[, top_row_list]\n",
    "top_nci60[\"Description\"] = nci60[rownames(top_nci60) %in% rownames(nci60), \"Description\"]\n",
    "top_nci60 = top_nci60[ , c(\"Description\", names(top_nci60)[names(top_nci60) != \"Description\"])] "
   ]
  },
  {
   "cell_type": "markdown",
   "id": "4a3d9dcd",
   "metadata": {},
   "source": [
    "The dataframe `top_nci60` contains 200 genes (metrics) which provides the most variance."
   ]
  },
  {
   "cell_type": "code",
   "execution_count": 9,
   "id": "165ac242",
   "metadata": {},
   "outputs": [
    {
     "data": {
      "text/html": [
       "<table class=\"dataframe\">\n",
       "<caption>A data.frame: 6 × 201</caption>\n",
       "<thead>\n",
       "\t<tr><th></th><th scope=col>Description</th><th scope=col>4701</th><th scope=col>4700</th><th scope=col>256</th><th scope=col>16</th><th scope=col>4699</th><th scope=col>6393</th><th scope=col>6149</th><th scope=col>286</th><th scope=col>6415</th><th scope=col>⋯</th><th scope=col>5721</th><th scope=col>6622</th><th scope=col>5336</th><th scope=col>1067</th><th scope=col>6288</th><th scope=col>5872</th><th scope=col>5489</th><th scope=col>78</th><th scope=col>127</th><th scope=col>3383</th></tr>\n",
       "\t<tr><th></th><th scope=col>&lt;chr&gt;</th><th scope=col>&lt;dbl&gt;</th><th scope=col>&lt;dbl&gt;</th><th scope=col>&lt;dbl&gt;</th><th scope=col>&lt;dbl&gt;</th><th scope=col>&lt;dbl&gt;</th><th scope=col>&lt;dbl&gt;</th><th scope=col>&lt;dbl&gt;</th><th scope=col>&lt;dbl&gt;</th><th scope=col>&lt;dbl&gt;</th><th scope=col>⋯</th><th scope=col>&lt;dbl&gt;</th><th scope=col>&lt;dbl&gt;</th><th scope=col>&lt;dbl&gt;</th><th scope=col>&lt;dbl&gt;</th><th scope=col>&lt;dbl&gt;</th><th scope=col>&lt;dbl&gt;</th><th scope=col>&lt;dbl&gt;</th><th scope=col>&lt;dbl&gt;</th><th scope=col>&lt;dbl&gt;</th><th scope=col>&lt;dbl&gt;</th></tr>\n",
       "</thead>\n",
       "<tbody>\n",
       "\t<tr><th scope=row>V1</th><td>CNS   </td><td> 5.770000</td><td> 5.820000</td><td>-1.910000</td><td>-2.37</td><td> 4.760000</td><td> 5.4799900</td><td> 0.000000</td><td> 0.610000</td><td> 5.230000</td><td>⋯</td><td>2.790000</td><td> 1.210000</td><td>-0.890000</td><td>-1.055010</td><td>-2.1850100</td><td>0.045000</td><td> 1.990000</td><td> 2.360000</td><td>-1.305000</td><td>-0.5400195</td></tr>\n",
       "\t<tr><th scope=row>V2</th><td>CNS   </td><td> 5.039961</td><td> 5.069961</td><td>-1.980039</td><td> 0.00</td><td> 4.779961</td><td> 5.7299510</td><td>-0.480039</td><td>-3.980039</td><td> 5.329961</td><td>⋯</td><td>1.629961</td><td> 1.599961</td><td>-1.060039</td><td>-1.055049</td><td>-3.4050490</td><td>0.874961</td><td> 2.609961</td><td> 0.869961</td><td>-0.375039</td><td> 0.4799415</td></tr>\n",
       "\t<tr><th scope=row>V3</th><td>CNS   </td><td>-1.440000</td><td>-1.030000</td><td>-0.580000</td><td> 0.00</td><td> 0.000000</td><td> 4.6299900</td><td> 2.060000</td><td>-1.580000</td><td> 0.000000</td><td>⋯</td><td>1.920000</td><td>-0.260000</td><td> 0.000000</td><td> 1.294990</td><td>-0.6850098</td><td>1.445000</td><td> 0.200000</td><td> 1.990000</td><td> 0.705000</td><td> 0.3199805</td></tr>\n",
       "\t<tr><th scope=row>V4</th><td>RENAL </td><td>-2.420000</td><td>-2.420000</td><td>-1.880000</td><td>-1.02</td><td>-2.590000</td><td> 1.2999900</td><td> 5.190000</td><td>-4.880000</td><td> 7.020000</td><td>⋯</td><td>3.200000</td><td> 1.110000</td><td> 1.060000</td><td> 1.414990</td><td>-4.4750100</td><td>2.365000</td><td> 1.080000</td><td> 3.600000</td><td>-0.685000</td><td> 0.1399805</td></tr>\n",
       "\t<tr><th scope=row>V5</th><td>BREAST</td><td>-2.955000</td><td>-2.955000</td><td>-1.235000</td><td> 0.00</td><td>-2.535000</td><td>-1.0550098</td><td> 7.425000</td><td>-3.235000</td><td> 4.395000</td><td>⋯</td><td>2.865000</td><td> 1.245000</td><td> 0.000000</td><td>-1.480010</td><td>-3.8300098</td><td>3.320000</td><td>-1.155000</td><td>-1.385000</td><td>-1.220000</td><td> 0.4449805</td></tr>\n",
       "\t<tr><th scope=row>V6</th><td>CNS   </td><td> 0.000000</td><td>-3.180000</td><td>-3.050000</td><td>-0.05</td><td>-1.170000</td><td> 0.5899902</td><td> 4.230000</td><td>-5.050000</td><td>-0.220000</td><td>⋯</td><td>2.860000</td><td> 1.360000</td><td> 0.000000</td><td>-1.425010</td><td>-2.2550100</td><td>1.615000</td><td>-0.970000</td><td> 1.370000</td><td>-2.445000</td><td>-1.5400200</td></tr>\n",
       "</tbody>\n",
       "</table>\n"
      ],
      "text/latex": [
       "A data.frame: 6 × 201\n",
       "\\begin{tabular}{r|lllllllllllllllllllll}\n",
       "  & Description & 4701 & 4700 & 256 & 16 & 4699 & 6393 & 6149 & 286 & 6415 & ⋯ & 5721 & 6622 & 5336 & 1067 & 6288 & 5872 & 5489 & 78 & 127 & 3383\\\\\n",
       "  & <chr> & <dbl> & <dbl> & <dbl> & <dbl> & <dbl> & <dbl> & <dbl> & <dbl> & <dbl> & ⋯ & <dbl> & <dbl> & <dbl> & <dbl> & <dbl> & <dbl> & <dbl> & <dbl> & <dbl> & <dbl>\\\\\n",
       "\\hline\n",
       "\tV1 & CNS    &  5.770000 &  5.820000 & -1.910000 & -2.37 &  4.760000 &  5.4799900 &  0.000000 &  0.610000 &  5.230000 & ⋯ & 2.790000 &  1.210000 & -0.890000 & -1.055010 & -2.1850100 & 0.045000 &  1.990000 &  2.360000 & -1.305000 & -0.5400195\\\\\n",
       "\tV2 & CNS    &  5.039961 &  5.069961 & -1.980039 &  0.00 &  4.779961 &  5.7299510 & -0.480039 & -3.980039 &  5.329961 & ⋯ & 1.629961 &  1.599961 & -1.060039 & -1.055049 & -3.4050490 & 0.874961 &  2.609961 &  0.869961 & -0.375039 &  0.4799415\\\\\n",
       "\tV3 & CNS    & -1.440000 & -1.030000 & -0.580000 &  0.00 &  0.000000 &  4.6299900 &  2.060000 & -1.580000 &  0.000000 & ⋯ & 1.920000 & -0.260000 &  0.000000 &  1.294990 & -0.6850098 & 1.445000 &  0.200000 &  1.990000 &  0.705000 &  0.3199805\\\\\n",
       "\tV4 & RENAL  & -2.420000 & -2.420000 & -1.880000 & -1.02 & -2.590000 &  1.2999900 &  5.190000 & -4.880000 &  7.020000 & ⋯ & 3.200000 &  1.110000 &  1.060000 &  1.414990 & -4.4750100 & 2.365000 &  1.080000 &  3.600000 & -0.685000 &  0.1399805\\\\\n",
       "\tV5 & BREAST & -2.955000 & -2.955000 & -1.235000 &  0.00 & -2.535000 & -1.0550098 &  7.425000 & -3.235000 &  4.395000 & ⋯ & 2.865000 &  1.245000 &  0.000000 & -1.480010 & -3.8300098 & 3.320000 & -1.155000 & -1.385000 & -1.220000 &  0.4449805\\\\\n",
       "\tV6 & CNS    &  0.000000 & -3.180000 & -3.050000 & -0.05 & -1.170000 &  0.5899902 &  4.230000 & -5.050000 & -0.220000 & ⋯ & 2.860000 &  1.360000 &  0.000000 & -1.425010 & -2.2550100 & 1.615000 & -0.970000 &  1.370000 & -2.445000 & -1.5400200\\\\\n",
       "\\end{tabular}\n"
      ],
      "text/markdown": [
       "\n",
       "A data.frame: 6 × 201\n",
       "\n",
       "| <!--/--> | Description &lt;chr&gt; | 4701 &lt;dbl&gt; | 4700 &lt;dbl&gt; | 256 &lt;dbl&gt; | 16 &lt;dbl&gt; | 4699 &lt;dbl&gt; | 6393 &lt;dbl&gt; | 6149 &lt;dbl&gt; | 286 &lt;dbl&gt; | 6415 &lt;dbl&gt; | ⋯ ⋯ | 5721 &lt;dbl&gt; | 6622 &lt;dbl&gt; | 5336 &lt;dbl&gt; | 1067 &lt;dbl&gt; | 6288 &lt;dbl&gt; | 5872 &lt;dbl&gt; | 5489 &lt;dbl&gt; | 78 &lt;dbl&gt; | 127 &lt;dbl&gt; | 3383 &lt;dbl&gt; |\n",
       "|---|---|---|---|---|---|---|---|---|---|---|---|---|---|---|---|---|---|---|---|---|---|\n",
       "| V1 | CNS    |  5.770000 |  5.820000 | -1.910000 | -2.37 |  4.760000 |  5.4799900 |  0.000000 |  0.610000 |  5.230000 | ⋯ | 2.790000 |  1.210000 | -0.890000 | -1.055010 | -2.1850100 | 0.045000 |  1.990000 |  2.360000 | -1.305000 | -0.5400195 |\n",
       "| V2 | CNS    |  5.039961 |  5.069961 | -1.980039 |  0.00 |  4.779961 |  5.7299510 | -0.480039 | -3.980039 |  5.329961 | ⋯ | 1.629961 |  1.599961 | -1.060039 | -1.055049 | -3.4050490 | 0.874961 |  2.609961 |  0.869961 | -0.375039 |  0.4799415 |\n",
       "| V3 | CNS    | -1.440000 | -1.030000 | -0.580000 |  0.00 |  0.000000 |  4.6299900 |  2.060000 | -1.580000 |  0.000000 | ⋯ | 1.920000 | -0.260000 |  0.000000 |  1.294990 | -0.6850098 | 1.445000 |  0.200000 |  1.990000 |  0.705000 |  0.3199805 |\n",
       "| V4 | RENAL  | -2.420000 | -2.420000 | -1.880000 | -1.02 | -2.590000 |  1.2999900 |  5.190000 | -4.880000 |  7.020000 | ⋯ | 3.200000 |  1.110000 |  1.060000 |  1.414990 | -4.4750100 | 2.365000 |  1.080000 |  3.600000 | -0.685000 |  0.1399805 |\n",
       "| V5 | BREAST | -2.955000 | -2.955000 | -1.235000 |  0.00 | -2.535000 | -1.0550098 |  7.425000 | -3.235000 |  4.395000 | ⋯ | 2.865000 |  1.245000 |  0.000000 | -1.480010 | -3.8300098 | 3.320000 | -1.155000 | -1.385000 | -1.220000 |  0.4449805 |\n",
       "| V6 | CNS    |  0.000000 | -3.180000 | -3.050000 | -0.05 | -1.170000 |  0.5899902 |  4.230000 | -5.050000 | -0.220000 | ⋯ | 2.860000 |  1.360000 |  0.000000 | -1.425010 | -2.2550100 | 1.615000 | -0.970000 |  1.370000 | -2.445000 | -1.5400200 |\n",
       "\n"
      ],
      "text/plain": [
       "   Description 4701      4700      256       16    4699      6393      \n",
       "V1 CNS          5.770000  5.820000 -1.910000 -2.37  4.760000  5.4799900\n",
       "V2 CNS          5.039961  5.069961 -1.980039  0.00  4.779961  5.7299510\n",
       "V3 CNS         -1.440000 -1.030000 -0.580000  0.00  0.000000  4.6299900\n",
       "V4 RENAL       -2.420000 -2.420000 -1.880000 -1.02 -2.590000  1.2999900\n",
       "V5 BREAST      -2.955000 -2.955000 -1.235000  0.00 -2.535000 -1.0550098\n",
       "V6 CNS          0.000000 -3.180000 -3.050000 -0.05 -1.170000  0.5899902\n",
       "   6149      286       6415      ⋯ 5721     6622      5336      1067     \n",
       "V1  0.000000  0.610000  5.230000 ⋯ 2.790000  1.210000 -0.890000 -1.055010\n",
       "V2 -0.480039 -3.980039  5.329961 ⋯ 1.629961  1.599961 -1.060039 -1.055049\n",
       "V3  2.060000 -1.580000  0.000000 ⋯ 1.920000 -0.260000  0.000000  1.294990\n",
       "V4  5.190000 -4.880000  7.020000 ⋯ 3.200000  1.110000  1.060000  1.414990\n",
       "V5  7.425000 -3.235000  4.395000 ⋯ 2.865000  1.245000  0.000000 -1.480010\n",
       "V6  4.230000 -5.050000 -0.220000 ⋯ 2.860000  1.360000  0.000000 -1.425010\n",
       "   6288       5872     5489      78        127       3383      \n",
       "V1 -2.1850100 0.045000  1.990000  2.360000 -1.305000 -0.5400195\n",
       "V2 -3.4050490 0.874961  2.609961  0.869961 -0.375039  0.4799415\n",
       "V3 -0.6850098 1.445000  0.200000  1.990000  0.705000  0.3199805\n",
       "V4 -4.4750100 2.365000  1.080000  3.600000 -0.685000  0.1399805\n",
       "V5 -3.8300098 3.320000 -1.155000 -1.385000 -1.220000  0.4449805\n",
       "V6 -2.2550100 1.615000 -0.970000  1.370000 -2.445000 -1.5400200"
      ]
     },
     "metadata": {},
     "output_type": "display_data"
    }
   ],
   "source": [
    "head(top_nci60)"
   ]
  },
  {
   "cell_type": "code",
   "execution_count": 10,
   "id": "82ff30dc-9f04-4f38-87bf-92e43103175a",
   "metadata": {},
   "outputs": [
    {
     "name": "stderr",
     "output_type": "stream",
     "text": [
      "Preprocessing dataset\n",
      "\n",
      "Removing non-numeric columns...\n",
      "\n",
      "\tColumns are numeric\n",
      "\n",
      "Removing correlations...\n",
      "\n",
      "\tNo correlated columns found\n",
      "\n"
     ]
    },
    {
     "data": {
      "text/html": [
       "<table class=\"dataframe\">\n",
       "<caption>A data.frame: 6 × 201</caption>\n",
       "<thead>\n",
       "\t<tr><th></th><th scope=col>Description</th><th scope=col>4701</th><th scope=col>4700</th><th scope=col>256</th><th scope=col>16</th><th scope=col>4699</th><th scope=col>6393</th><th scope=col>6149</th><th scope=col>286</th><th scope=col>6415</th><th scope=col>⋯</th><th scope=col>5721</th><th scope=col>6622</th><th scope=col>5336</th><th scope=col>1067</th><th scope=col>6288</th><th scope=col>5872</th><th scope=col>5489</th><th scope=col>78</th><th scope=col>127</th><th scope=col>3383</th></tr>\n",
       "\t<tr><th></th><th scope=col>&lt;chr&gt;</th><th scope=col>&lt;dbl&gt;</th><th scope=col>&lt;dbl&gt;</th><th scope=col>&lt;dbl&gt;</th><th scope=col>&lt;dbl&gt;</th><th scope=col>&lt;dbl&gt;</th><th scope=col>&lt;dbl&gt;</th><th scope=col>&lt;dbl&gt;</th><th scope=col>&lt;dbl&gt;</th><th scope=col>&lt;dbl&gt;</th><th scope=col>⋯</th><th scope=col>&lt;dbl&gt;</th><th scope=col>&lt;dbl&gt;</th><th scope=col>&lt;dbl&gt;</th><th scope=col>&lt;dbl&gt;</th><th scope=col>&lt;dbl&gt;</th><th scope=col>&lt;dbl&gt;</th><th scope=col>&lt;dbl&gt;</th><th scope=col>&lt;dbl&gt;</th><th scope=col>&lt;dbl&gt;</th><th scope=col>&lt;dbl&gt;</th></tr>\n",
       "</thead>\n",
       "<tbody>\n",
       "\t<tr><th scope=row>V1</th><td>CNS   </td><td> 5.770000</td><td> 5.820000</td><td>-1.910000</td><td>-2.37</td><td> 4.760000</td><td> 5.4799900</td><td> 0.000000</td><td> 0.610000</td><td> 5.230000</td><td>⋯</td><td>2.790000</td><td> 1.210000</td><td>-0.890000</td><td>-1.055010</td><td>-2.1850100</td><td>0.045000</td><td> 1.990000</td><td> 2.360000</td><td>-1.305000</td><td>-0.5400195</td></tr>\n",
       "\t<tr><th scope=row>V2</th><td>CNS   </td><td> 5.039961</td><td> 5.069961</td><td>-1.980039</td><td> 0.00</td><td> 4.779961</td><td> 5.7299510</td><td>-0.480039</td><td>-3.980039</td><td> 5.329961</td><td>⋯</td><td>1.629961</td><td> 1.599961</td><td>-1.060039</td><td>-1.055049</td><td>-3.4050490</td><td>0.874961</td><td> 2.609961</td><td> 0.869961</td><td>-0.375039</td><td> 0.4799415</td></tr>\n",
       "\t<tr><th scope=row>V3</th><td>CNS   </td><td>-1.440000</td><td>-1.030000</td><td>-0.580000</td><td> 0.00</td><td> 0.000000</td><td> 4.6299900</td><td> 2.060000</td><td>-1.580000</td><td> 0.000000</td><td>⋯</td><td>1.920000</td><td>-0.260000</td><td> 0.000000</td><td> 1.294990</td><td>-0.6850098</td><td>1.445000</td><td> 0.200000</td><td> 1.990000</td><td> 0.705000</td><td> 0.3199805</td></tr>\n",
       "\t<tr><th scope=row>V4</th><td>RENAL </td><td>-2.420000</td><td>-2.420000</td><td>-1.880000</td><td>-1.02</td><td>-2.590000</td><td> 1.2999900</td><td> 5.190000</td><td>-4.880000</td><td> 7.020000</td><td>⋯</td><td>3.200000</td><td> 1.110000</td><td> 1.060000</td><td> 1.414990</td><td>-4.4750100</td><td>2.365000</td><td> 1.080000</td><td> 3.600000</td><td>-0.685000</td><td> 0.1399805</td></tr>\n",
       "\t<tr><th scope=row>V5</th><td>BREAST</td><td>-2.955000</td><td>-2.955000</td><td>-1.235000</td><td> 0.00</td><td>-2.535000</td><td>-1.0550098</td><td> 7.425000</td><td>-3.235000</td><td> 4.395000</td><td>⋯</td><td>2.865000</td><td> 1.245000</td><td> 0.000000</td><td>-1.480010</td><td>-3.8300098</td><td>3.320000</td><td>-1.155000</td><td>-1.385000</td><td>-1.220000</td><td> 0.4449805</td></tr>\n",
       "\t<tr><th scope=row>V6</th><td>CNS   </td><td> 0.000000</td><td>-3.180000</td><td>-3.050000</td><td>-0.05</td><td>-1.170000</td><td> 0.5899902</td><td> 4.230000</td><td>-5.050000</td><td>-0.220000</td><td>⋯</td><td>2.860000</td><td> 1.360000</td><td> 0.000000</td><td>-1.425010</td><td>-2.2550100</td><td>1.615000</td><td>-0.970000</td><td> 1.370000</td><td>-2.445000</td><td>-1.5400200</td></tr>\n",
       "</tbody>\n",
       "</table>\n"
      ],
      "text/latex": [
       "A data.frame: 6 × 201\n",
       "\\begin{tabular}{r|lllllllllllllllllllll}\n",
       "  & Description & 4701 & 4700 & 256 & 16 & 4699 & 6393 & 6149 & 286 & 6415 & ⋯ & 5721 & 6622 & 5336 & 1067 & 6288 & 5872 & 5489 & 78 & 127 & 3383\\\\\n",
       "  & <chr> & <dbl> & <dbl> & <dbl> & <dbl> & <dbl> & <dbl> & <dbl> & <dbl> & <dbl> & ⋯ & <dbl> & <dbl> & <dbl> & <dbl> & <dbl> & <dbl> & <dbl> & <dbl> & <dbl> & <dbl>\\\\\n",
       "\\hline\n",
       "\tV1 & CNS    &  5.770000 &  5.820000 & -1.910000 & -2.37 &  4.760000 &  5.4799900 &  0.000000 &  0.610000 &  5.230000 & ⋯ & 2.790000 &  1.210000 & -0.890000 & -1.055010 & -2.1850100 & 0.045000 &  1.990000 &  2.360000 & -1.305000 & -0.5400195\\\\\n",
       "\tV2 & CNS    &  5.039961 &  5.069961 & -1.980039 &  0.00 &  4.779961 &  5.7299510 & -0.480039 & -3.980039 &  5.329961 & ⋯ & 1.629961 &  1.599961 & -1.060039 & -1.055049 & -3.4050490 & 0.874961 &  2.609961 &  0.869961 & -0.375039 &  0.4799415\\\\\n",
       "\tV3 & CNS    & -1.440000 & -1.030000 & -0.580000 &  0.00 &  0.000000 &  4.6299900 &  2.060000 & -1.580000 &  0.000000 & ⋯ & 1.920000 & -0.260000 &  0.000000 &  1.294990 & -0.6850098 & 1.445000 &  0.200000 &  1.990000 &  0.705000 &  0.3199805\\\\\n",
       "\tV4 & RENAL  & -2.420000 & -2.420000 & -1.880000 & -1.02 & -2.590000 &  1.2999900 &  5.190000 & -4.880000 &  7.020000 & ⋯ & 3.200000 &  1.110000 &  1.060000 &  1.414990 & -4.4750100 & 2.365000 &  1.080000 &  3.600000 & -0.685000 &  0.1399805\\\\\n",
       "\tV5 & BREAST & -2.955000 & -2.955000 & -1.235000 &  0.00 & -2.535000 & -1.0550098 &  7.425000 & -3.235000 &  4.395000 & ⋯ & 2.865000 &  1.245000 &  0.000000 & -1.480010 & -3.8300098 & 3.320000 & -1.155000 & -1.385000 & -1.220000 &  0.4449805\\\\\n",
       "\tV6 & CNS    &  0.000000 & -3.180000 & -3.050000 & -0.05 & -1.170000 &  0.5899902 &  4.230000 & -5.050000 & -0.220000 & ⋯ & 2.860000 &  1.360000 &  0.000000 & -1.425010 & -2.2550100 & 1.615000 & -0.970000 &  1.370000 & -2.445000 & -1.5400200\\\\\n",
       "\\end{tabular}\n"
      ],
      "text/markdown": [
       "\n",
       "A data.frame: 6 × 201\n",
       "\n",
       "| <!--/--> | Description &lt;chr&gt; | 4701 &lt;dbl&gt; | 4700 &lt;dbl&gt; | 256 &lt;dbl&gt; | 16 &lt;dbl&gt; | 4699 &lt;dbl&gt; | 6393 &lt;dbl&gt; | 6149 &lt;dbl&gt; | 286 &lt;dbl&gt; | 6415 &lt;dbl&gt; | ⋯ ⋯ | 5721 &lt;dbl&gt; | 6622 &lt;dbl&gt; | 5336 &lt;dbl&gt; | 1067 &lt;dbl&gt; | 6288 &lt;dbl&gt; | 5872 &lt;dbl&gt; | 5489 &lt;dbl&gt; | 78 &lt;dbl&gt; | 127 &lt;dbl&gt; | 3383 &lt;dbl&gt; |\n",
       "|---|---|---|---|---|---|---|---|---|---|---|---|---|---|---|---|---|---|---|---|---|---|\n",
       "| V1 | CNS    |  5.770000 |  5.820000 | -1.910000 | -2.37 |  4.760000 |  5.4799900 |  0.000000 |  0.610000 |  5.230000 | ⋯ | 2.790000 |  1.210000 | -0.890000 | -1.055010 | -2.1850100 | 0.045000 |  1.990000 |  2.360000 | -1.305000 | -0.5400195 |\n",
       "| V2 | CNS    |  5.039961 |  5.069961 | -1.980039 |  0.00 |  4.779961 |  5.7299510 | -0.480039 | -3.980039 |  5.329961 | ⋯ | 1.629961 |  1.599961 | -1.060039 | -1.055049 | -3.4050490 | 0.874961 |  2.609961 |  0.869961 | -0.375039 |  0.4799415 |\n",
       "| V3 | CNS    | -1.440000 | -1.030000 | -0.580000 |  0.00 |  0.000000 |  4.6299900 |  2.060000 | -1.580000 |  0.000000 | ⋯ | 1.920000 | -0.260000 |  0.000000 |  1.294990 | -0.6850098 | 1.445000 |  0.200000 |  1.990000 |  0.705000 |  0.3199805 |\n",
       "| V4 | RENAL  | -2.420000 | -2.420000 | -1.880000 | -1.02 | -2.590000 |  1.2999900 |  5.190000 | -4.880000 |  7.020000 | ⋯ | 3.200000 |  1.110000 |  1.060000 |  1.414990 | -4.4750100 | 2.365000 |  1.080000 |  3.600000 | -0.685000 |  0.1399805 |\n",
       "| V5 | BREAST | -2.955000 | -2.955000 | -1.235000 |  0.00 | -2.535000 | -1.0550098 |  7.425000 | -3.235000 |  4.395000 | ⋯ | 2.865000 |  1.245000 |  0.000000 | -1.480010 | -3.8300098 | 3.320000 | -1.155000 | -1.385000 | -1.220000 |  0.4449805 |\n",
       "| V6 | CNS    |  0.000000 | -3.180000 | -3.050000 | -0.05 | -1.170000 |  0.5899902 |  4.230000 | -5.050000 | -0.220000 | ⋯ | 2.860000 |  1.360000 |  0.000000 | -1.425010 | -2.2550100 | 1.615000 | -0.970000 |  1.370000 | -2.445000 | -1.5400200 |\n",
       "\n"
      ],
      "text/plain": [
       "   Description 4701      4700      256       16    4699      6393      \n",
       "V1 CNS          5.770000  5.820000 -1.910000 -2.37  4.760000  5.4799900\n",
       "V2 CNS          5.039961  5.069961 -1.980039  0.00  4.779961  5.7299510\n",
       "V3 CNS         -1.440000 -1.030000 -0.580000  0.00  0.000000  4.6299900\n",
       "V4 RENAL       -2.420000 -2.420000 -1.880000 -1.02 -2.590000  1.2999900\n",
       "V5 BREAST      -2.955000 -2.955000 -1.235000  0.00 -2.535000 -1.0550098\n",
       "V6 CNS          0.000000 -3.180000 -3.050000 -0.05 -1.170000  0.5899902\n",
       "   6149      286       6415      ⋯ 5721     6622      5336      1067     \n",
       "V1  0.000000  0.610000  5.230000 ⋯ 2.790000  1.210000 -0.890000 -1.055010\n",
       "V2 -0.480039 -3.980039  5.329961 ⋯ 1.629961  1.599961 -1.060039 -1.055049\n",
       "V3  2.060000 -1.580000  0.000000 ⋯ 1.920000 -0.260000  0.000000  1.294990\n",
       "V4  5.190000 -4.880000  7.020000 ⋯ 3.200000  1.110000  1.060000  1.414990\n",
       "V5  7.425000 -3.235000  4.395000 ⋯ 2.865000  1.245000  0.000000 -1.480010\n",
       "V6  4.230000 -5.050000 -0.220000 ⋯ 2.860000  1.360000  0.000000 -1.425010\n",
       "   6288       5872     5489      78        127       3383      \n",
       "V1 -2.1850100 0.045000  1.990000  2.360000 -1.305000 -0.5400195\n",
       "V2 -3.4050490 0.874961  2.609961  0.869961 -0.375039  0.4799415\n",
       "V3 -0.6850098 1.445000  0.200000  1.990000  0.705000  0.3199805\n",
       "V4 -4.4750100 2.365000  1.080000  3.600000 -0.685000  0.1399805\n",
       "V5 -3.8300098 3.320000 -1.155000 -1.385000 -1.220000  0.4449805\n",
       "V6 -2.2550100 1.615000 -0.970000  1.370000 -2.445000 -1.5400200"
      ]
     },
     "metadata": {},
     "output_type": "display_data"
    }
   ],
   "source": [
    "nci60_clean = evaluomeR::cleanDataset(top_nci60, correlation_threshold=1)\n",
    "head(nci60_clean$dataset)"
   ]
  },
  {
   "cell_type": "code",
   "execution_count": 11,
   "id": "4ddbd000-4a8a-43e0-9016-16fea9af0eee",
   "metadata": {},
   "outputs": [
    {
     "name": "stderr",
     "output_type": "stream",
     "text": [
      "Checking PCA suitability...\n",
      "\n"
     ]
    },
    {
     "name": "stdout",
     "output_type": "stream",
     "text": [
      "Error in solve.default(r) : \n",
      "  sistema es computacionalmente singular: número de condición recíproco = 1.86461e-21\n"
     ]
    },
    {
     "name": "stderr",
     "output_type": "stream",
     "text": [
      "matrix is not invertible, image not found\n",
      "\n",
      "\tPCA is suitable.\n",
      "\n",
      "\tBartlett's test p-value: 0\n",
      "\n",
      "\tKMO value: 0.5 - miserable\n",
      "\n"
     ]
    },
    {
     "name": "stdout",
     "output_type": "stream",
     "text": [
      "[1] \"Number of factors: 35\"\n",
      "\n",
      "Call:\n",
      "FactoMineR::PCA(X = dataset, scale.unit = scale, ncp = ncp, graph = FALSE) \n",
      "\n",
      "\n",
      "Eigenvalues\n",
      "                       Dim.1   Dim.2   Dim.3   Dim.4   Dim.5   Dim.6   Dim.7\n",
      "Variance              44.611  21.534  14.706  10.923   8.885   7.408   7.062\n",
      "% of var.             22.305  10.767   7.353   5.461   4.442   3.704   3.531\n",
      "Cumulative % of var.  22.305  33.073  40.426  45.887  50.329  54.033  57.564\n",
      "                       Dim.8   Dim.9  Dim.10  Dim.11  Dim.12  Dim.13  Dim.14\n",
      "Variance               6.136   5.144   4.799   4.550   4.091   3.842   3.444\n",
      "% of var.              3.068   2.572   2.400   2.275   2.046   1.921   1.722\n",
      "Cumulative % of var.  60.632  63.204  65.604  67.879  69.925  71.846  73.568\n",
      "                      Dim.15  Dim.16  Dim.17  Dim.18  Dim.19  Dim.20  Dim.21\n",
      "Variance               3.385   3.124   2.879   2.624   2.483   2.330   2.153\n",
      "% of var.              1.693   1.562   1.439   1.312   1.242   1.165   1.077\n",
      "Cumulative % of var.  75.260  76.822  78.262  79.574  80.815  81.980  83.057\n",
      "                      Dim.22  Dim.23  Dim.24  Dim.25  Dim.26  Dim.27  Dim.28\n",
      "Variance               2.033   1.970   1.842   1.777   1.675   1.558   1.500\n",
      "% of var.              1.017   0.985   0.921   0.889   0.837   0.779   0.750\n",
      "Cumulative % of var.  84.074  85.059  85.980  86.868  87.706  88.485  89.235\n",
      "                      Dim.29  Dim.30  Dim.31  Dim.32  Dim.33  Dim.34  Dim.35\n",
      "Variance               1.444   1.380   1.352   1.243   1.181   1.107   1.062\n",
      "% of var.              0.722   0.690   0.676   0.621   0.591   0.554   0.531\n",
      "Cumulative % of var.  89.957  90.647  91.323  91.944  92.535  93.089  93.619\n",
      "                      Dim.36  Dim.37  Dim.38  Dim.39  Dim.40  Dim.41  Dim.42\n",
      "Variance               0.984   0.951   0.928   0.865   0.818   0.773   0.713\n",
      "% of var.              0.492   0.475   0.464   0.432   0.409   0.386   0.357\n",
      "Cumulative % of var.  94.111  94.587  95.051  95.483  95.892  96.278  96.635\n",
      "                      Dim.43  Dim.44  Dim.45  Dim.46  Dim.47  Dim.48  Dim.49\n",
      "Variance               0.662   0.584   0.566   0.496   0.480   0.459   0.447\n",
      "% of var.              0.331   0.292   0.283   0.248   0.240   0.229   0.224\n",
      "Cumulative % of var.  96.966  97.258  97.541  97.789  98.029  98.258  98.482\n",
      "                      Dim.50  Dim.51  Dim.52  Dim.53  Dim.54  Dim.55  Dim.56\n",
      "Variance               0.402   0.365   0.355   0.338   0.302   0.274   0.268\n",
      "% of var.              0.201   0.183   0.178   0.169   0.151   0.137   0.134\n",
      "Cumulative % of var.  98.683  98.865  99.043  99.212  99.363  99.500  99.634\n",
      "                      Dim.57  Dim.58  Dim.59  Dim.60\n",
      "Variance               0.231   0.184   0.172   0.146\n",
      "% of var.              0.115   0.092   0.086   0.073\n",
      "Cumulative % of var.  99.749  99.841  99.927 100.000\n",
      "\n",
      "Individuals (the 10 first)\n",
      "         Dist    Dim.1    ctr   cos2    Dim.2    ctr   cos2    Dim.3    ctr\n",
      "V1   | 13.134 |  6.097  1.366  0.216 | -0.165  0.002  0.000 | -2.363  0.622\n",
      "V2   | 13.908 |  5.977  1.313  0.185 | -1.412  0.152  0.010 | -2.613  0.761\n",
      "V3   | 12.632 |  8.099  2.411  0.411 |  0.627  0.030  0.002 | -2.575  0.739\n",
      "V4   | 18.306 | 12.058  5.343  0.434 | -2.068  0.325  0.013 | -0.939  0.098\n",
      "V5   | 19.819 | 13.947  7.149  0.495 | -1.144  0.100  0.003 | -4.043  1.822\n",
      "V6   | 14.529 |  8.213  2.479  0.320 | -2.100  0.336  0.021 | -3.946  1.736\n",
      "V7   | 13.991 |  8.485  2.645  0.368 | -1.559  0.185  0.012 | -5.267  3.092\n",
      "V8   | 12.299 |  6.428  1.518  0.273 | -1.697  0.219  0.019 | -3.604  1.448\n",
      "V9   | 13.010 |  7.256  1.935  0.311 |  1.609  0.197  0.015 | -3.613  1.455\n",
      "V10  | 17.647 |  6.362  1.487  0.130 |  3.355  0.857  0.036 | -2.089  0.487\n",
      "       cos2  \n",
      "V1    0.032 |\n",
      "V2    0.035 |\n",
      "V3    0.042 |\n",
      "V4    0.003 |\n",
      "V5    0.042 |\n",
      "V6    0.074 |\n",
      "V7    0.142 |\n",
      "V8    0.086 |\n",
      "V9    0.077 |\n",
      "V10   0.014 |\n",
      "\n",
      "Variables (the 10 first)\n",
      "        Dim.1    ctr   cos2    Dim.2    ctr   cos2    Dim.3    ctr   cos2  \n",
      "4701 |  0.291  0.189  0.085 | -0.053  0.013  0.003 |  0.446  1.353  0.199 |\n",
      "4700 |  0.286  0.183  0.082 | -0.071  0.023  0.005 |  0.416  1.175  0.173 |\n",
      "256  | -0.473  0.501  0.223 |  0.680  2.148  0.463 |  0.278  0.524  0.077 |\n",
      "16   |  0.021  0.001  0.000 |  0.164  0.125  0.027 |  0.331  0.743  0.109 |\n",
      "4699 |  0.248  0.137  0.061 | -0.097  0.043  0.009 |  0.365  0.907  0.133 |\n",
      "6393 |  0.569  0.725  0.323 |  0.331  0.509  0.110 | -0.235  0.376  0.055 |\n",
      "6149 |  0.712  1.137  0.507 | -0.159  0.117  0.025 |  0.079  0.043  0.006 |\n",
      "286  | -0.040  0.004  0.002 |  0.689  2.205  0.475 |  0.160  0.175  0.026 |\n",
      "6415 |  0.424  0.402  0.179 |  0.400  0.744  0.160 | -0.201  0.274  0.040 |\n",
      "4354 |  0.523  0.614  0.274 | -0.486  1.095  0.236 |  0.408  1.131  0.166 |\n"
     ]
    }
   ],
   "source": [
    "pca_suitability = evaluomeR::PCASuitability(nci60_clean$R, sig_level = 0.05)\n",
    "top_nci60 = nci60_clean$dataset\n",
    "if (pca_suitability$pca_suitable) {\n",
    "    n_factors = evaluomeR::determineNumberOfFactors(nci60_clean$dataset)\n",
    "    print(paste0(\"Number of factors: \", n_factors))\n",
    "    r_pca = evaluomeR::performPCA(dataset = nci60_clean$dataset, ncp = n_factors, scale = TRUE)\n",
    "    top_nci60 = r_pca$dataset_ncp\n",
    "}"
   ]
  },
  {
   "cell_type": "code",
   "execution_count": 12,
   "id": "86ec4679-5090-4c99-bbbb-bc24c783e30e",
   "metadata": {},
   "outputs": [
    {
     "data": {
      "image/png": "[encoded data removed]",
      "text/plain": [
       "plot without title"
      ]
     },
     "metadata": {
      "image/png": {
       "height": 420,
       "width": 420
      }
     },
     "output_type": "display_data"
    }
   ],
   "source": [
    "evaluomeR::plotPCA_fviz_screeplot(r_pca$pca)"
   ]
  },
  {
   "cell_type": "code",
   "execution_count": 13,
   "id": "2c619bd6-5190-4abb-8b0b-cf294ca6df25",
   "metadata": {},
   "outputs": [
    {
     "data": {
      "image/png": "[encoded data removed]",
      "text/plain": [
       "plot without title"
      ]
     },
     "metadata": {
      "image/png": {
       "height": 420,
       "width": 420
      }
     },
     "output_type": "display_data"
    }
   ],
   "source": [
    "evaluomeR::plotPCA_fviz_biplot(r_pca$pca)"
   ]
  },
  {
   "cell_type": "markdown",
   "id": "82a10a31",
   "metadata": {},
   "source": [
    "# evaluomeR - optimal $k$ analysis <a class=\"anchor\" id=\"evaluomer\"></a>\n",
    "In this Section, evaluomeR executes an optimal $k$ analysis. First, stabilities and qualities are calculated, considering all the metrics in the dataset. The $k$ range is $k \\in [3,10]$ and the clustering method is `RSKC`."
   ]
  },
  {
   "cell_type": "code",
   "execution_count": 14,
   "id": "3ae91fdf",
   "metadata": {},
   "outputs": [],
   "source": [
    "seed = 13606\n",
    "k.range=c(3,10)\n",
    "optimal_k = 8 # From kmeans optimal k execution\n",
    "cbi = \"rskc\""
   ]
  },
  {
   "cell_type": "markdown",
   "id": "c1606efd",
   "metadata": {},
   "source": [
    "Automatic computation of $L_1$ bound and $alpha$ accordingot the optimal $k$. The optimal $k$ is retrieved from the `kmeans` analysis in the notebook [NCI60.ipynb](https://github.com/neobernad/evaluomeR/blob/master/notebooks/use_cases/NCI60.ipynb). "
   ]
  },
  {
   "cell_type": "code",
   "execution_count": 15,
   "id": "aef9f03a",
   "metadata": {},
   "outputs": [
    {
     "name": "stderr",
     "output_type": "stream",
     "text": [
      "Computing best L1 boundry with 'sparcl::KMeansSparseCluster.permute'\n",
      "\n",
      "Best L1 found is: 2, using floor: 2\n",
      "\n",
      "Running stability and quality indexes with alpha=0\n",
      "\n",
      "\n",
      "\n",
      "Data loaded.\n",
      "Number of rows: 61\n",
      "Number of columns: 36\n",
      "\n",
      "\n",
      "\n",
      "Processing all metrics, 'merge', in dataframe (35)\n",
      "\n",
      "\tCalculation of k = 3\n",
      "\n",
      "\n",
      "\n",
      "Data loaded.\n",
      "Number of rows: 61\n",
      "Number of columns: 36\n",
      "\n",
      "\n",
      "\n",
      "Processing all metrics, 'merge', in dataframe (35)\n",
      "\n",
      "\tCalculation of k = 3\n",
      "\n",
      "Running stability and quality indexes with alpha=0.05\n",
      "\n",
      "\n",
      "\n",
      "Data loaded.\n",
      "Number of rows: 61\n",
      "Number of columns: 36\n",
      "\n",
      "\n",
      "\n",
      "Processing all metrics, 'merge', in dataframe (35)\n",
      "\n",
      "\tCalculation of k = 3\n",
      "\n",
      "\n",
      "\n",
      "Data loaded.\n",
      "Number of rows: 61\n",
      "Number of columns: 36\n",
      "\n",
      "\n",
      "\n",
      "Processing all metrics, 'merge', in dataframe (35)\n",
      "\n",
      "\tCalculation of k = 3\n",
      "\n",
      "Running stability and quality indexes with alpha=0.1\n",
      "\n",
      "\n",
      "\n",
      "Data loaded.\n",
      "Number of rows: 61\n",
      "Number of columns: 36\n",
      "\n",
      "\n",
      "\n",
      "Processing all metrics, 'merge', in dataframe (35)\n",
      "\n",
      "\tCalculation of k = 3\n",
      "\n",
      "\n",
      "\n",
      "Data loaded.\n",
      "Number of rows: 61\n",
      "Number of columns: 36\n",
      "\n",
      "\n",
      "\n",
      "Processing all metrics, 'merge', in dataframe (35)\n",
      "\n",
      "\tCalculation of k = 3\n",
      "\n",
      "Running stability and quality indexes with alpha=0.15\n",
      "\n",
      "\n",
      "\n",
      "Data loaded.\n",
      "Number of rows: 61\n",
      "Number of columns: 36\n",
      "\n",
      "\n",
      "\n",
      "Processing all metrics, 'merge', in dataframe (35)\n",
      "\n",
      "\tCalculation of k = 3\n",
      "\n",
      "\n",
      "\n",
      "Data loaded.\n",
      "Number of rows: 61\n",
      "Number of columns: 36\n",
      "\n",
      "\n",
      "\n",
      "Processing all metrics, 'merge', in dataframe (35)\n",
      "\n",
      "\tCalculation of k = 3\n",
      "\n",
      "Running stability and quality indexes with alpha=0.2\n",
      "\n",
      "\n",
      "\n",
      "Data loaded.\n",
      "Number of rows: 61\n",
      "Number of columns: 36\n",
      "\n",
      "\n",
      "\n",
      "Processing all metrics, 'merge', in dataframe (35)\n",
      "\n",
      "\tCalculation of k = 3\n",
      "\n",
      "\n",
      "\n",
      "Data loaded.\n",
      "Number of rows: 61\n",
      "Number of columns: 36\n",
      "\n",
      "\n",
      "\n",
      "Processing all metrics, 'merge', in dataframe (35)\n",
      "\n",
      "\tCalculation of k = 3\n",
      "\n",
      "Running stability and quality indexes with alpha=0.25\n",
      "\n",
      "\n",
      "\n",
      "Data loaded.\n",
      "Number of rows: 61\n",
      "Number of columns: 36\n",
      "\n",
      "\n",
      "\n",
      "Processing all metrics, 'merge', in dataframe (35)\n",
      "\n",
      "\tCalculation of k = 3\n",
      "\n",
      "\n",
      "\n",
      "Data loaded.\n",
      "Number of rows: 61\n",
      "Number of columns: 36\n",
      "\n",
      "\n",
      "\n",
      "Processing all metrics, 'merge', in dataframe (35)\n",
      "\n",
      "\tCalculation of k = 3\n",
      "\n",
      "Highest stability found when alpha=0\n",
      "\n",
      "Highest quality found when alpha=0.25\n",
      "\n",
      "Using alpha=0 as it trims less data.\n",
      "\n"
     ]
    }
   ],
   "source": [
    "L1 = getRSKCL1Boundry(top_nci60, k=optimal_k, seed=seed)\n",
    "alpha = getRSKCAlpha(top_nci60, k=optimal_k, L1=L1, seed)"
   ]
  },
  {
   "cell_type": "markdown",
   "id": "0831116c",
   "metadata": {},
   "source": [
    "Stability calculation with $k \\in [3,10]$ and `rskc`:"
   ]
  },
  {
   "cell_type": "code",
   "execution_count": 16,
   "id": "7ec2c9b5",
   "metadata": {},
   "outputs": [
    {
     "name": "stderr",
     "output_type": "stream",
     "text": [
      "\n",
      "\n",
      "Data loaded.\n",
      "Number of rows: 61\n",
      "Number of columns: 36\n",
      "\n",
      "\n",
      "\n",
      "Processing all metrics, 'merge', in dataframe (35)\n",
      "\n",
      "\tCalculation of k = 3\n",
      "\n",
      "\tCalculation of k = 4\n",
      "\n",
      "\tCalculation of k = 5\n",
      "\n",
      "\tCalculation of k = 6\n",
      "\n",
      "\tCalculation of k = 7\n",
      "\n",
      "\tCalculation of k = 8\n",
      "\n",
      "\tCalculation of k = 9\n",
      "\n",
      "\tCalculation of k = 10\n",
      "\n"
     ]
    }
   ],
   "source": [
    "stab_range = stabilityRange(data=top_nci60, k.range=k.range, \n",
    "                            bs=100, seed=seed,\n",
    "                            all_metrics=TRUE,\n",
    "                            cbi=cbi, L1=L1, alpha=alpha)\n",
    "stab = standardizeStabilityData(stab_range)"
   ]
  },
  {
   "cell_type": "markdown",
   "id": "cf84cc51",
   "metadata": {},
   "source": [
    "## Stability plotting <a class=\"anchor\" id=\"evaluomeR_stab_plot\"></a>\n",
    "\n",
    "Stability plot"
   ]
  },
  {
   "cell_type": "code",
   "execution_count": 17,
   "id": "9afe05ab",
   "metadata": {},
   "outputs": [],
   "source": [
    "rownames(stab) = c(\"stab_kmeans\")\n",
    "stab$Metric = rownames(stab)\n",
    "stab$Method = cbi\n",
    "stab_melt = melt(stab, id.vars = c(\"Metric\", \"Method\"))"
   ]
  },
  {
   "cell_type": "code",
   "execution_count": 18,
   "id": "a8e76f01",
   "metadata": {},
   "outputs": [
    {
     "data": {
      "image/png": "[encoded data removed]",
      "text/plain": [
       "plot without title"
      ]
     },
     "metadata": {
      "image/png": {
       "height": 420,
       "width": 420
      }
     },
     "output_type": "display_data"
    }
   ],
   "source": [
    "# Color\n",
    "grayscale_colors <- c(\"black\", \"darkgray\", \"gray\", \"lightgray\", \"white\")\n",
    "\n",
    "# Base ggplot\n",
    "p <- ggplot(stab_melt, aes(x = variable, y = value, color = Method, group = Method)) +\n",
    "  geom_point() +\n",
    "  geom_line() +\n",
    "  scale_color_manual(values = grayscale_colors) +\n",
    "  labs(\n",
    "    title = paste0('NCI60 stability - k in [', k.range[1], \",\", k.range[2], ']'),\n",
    "    x = 'k',\n",
    "    y = 'Stability'\n",
    "  ) +\n",
    "  scale_y_continuous(limits = c(0, 1)) +\n",
    "  theme_minimal()\n",
    "\n",
    "# Adding rectangles\n",
    "p + \n",
    "  annotate(\"rect\", xmin = -Inf, xmax = Inf, ymin = 0.85, ymax = 1, alpha = 0.1, fill = \"green\") +\n",
    "  annotate(\"rect\", xmin = -Inf, xmax = Inf, ymin = 0.75, ymax = 0.85, alpha = 0.1, fill = \"blue\") +\n",
    "  annotate(\"rect\", xmin = -Inf, xmax = Inf, ymin = 0.6, ymax = 0.75, alpha = 0.1, fill = \"gray\") +\n",
    "  annotate(\"rect\", xmin = -Inf, xmax = Inf, ymin = 0, ymax = 0.6, alpha = 0.1, fill = \"red\")\n",
    "\n"
   ]
  },
  {
   "cell_type": "markdown",
   "id": "2ac17691",
   "metadata": {},
   "source": [
    "Quality calculation with $k \\in [3,10]$ and `rskc`."
   ]
  },
  {
   "cell_type": "code",
   "execution_count": 19,
   "id": "30e93f9e",
   "metadata": {},
   "outputs": [
    {
     "name": "stderr",
     "output_type": "stream",
     "text": [
      "\n",
      "\n",
      "Data loaded.\n",
      "Number of rows: 61\n",
      "Number of columns: 36\n",
      "\n",
      "\n",
      "\n",
      "Processing all metrics, 'merge', in dataframe (35)\n",
      "\n",
      "\tCalculation of k = 3\n",
      "\n",
      "\tCalculation of k = 4\n",
      "\n",
      "\tCalculation of k = 5\n",
      "\n",
      "\tCalculation of k = 6\n",
      "\n",
      "\tCalculation of k = 7\n",
      "\n",
      "\tCalculation of k = 8\n",
      "\n",
      "\tCalculation of k = 9\n",
      "\n",
      "\tCalculation of k = 10\n",
      "\n"
     ]
    }
   ],
   "source": [
    "qual_range = qualityRange(data=top_nci60, k.range=k.range, \n",
    "                            seed=seed,\n",
    "                            all_metrics=TRUE,\n",
    "                            cbi=cbi, L1=L1, alpha=alpha)\n",
    "qual = standardizeQualityData(qual_range)"
   ]
  },
  {
   "cell_type": "markdown",
   "id": "9df0ab2b",
   "metadata": {},
   "source": [
    "## Quality plotting <a class=\"anchor\" id=\"evaluomeR_qual_plot\"></a>\n",
    "\n",
    "Quality plot"
   ]
  },
  {
   "cell_type": "code",
   "execution_count": 20,
   "id": "3106f912",
   "metadata": {},
   "outputs": [],
   "source": [
    "rownames(qual) = c(\"qual_kmeans\")\n",
    "qual$Metric = rownames(qual)\n",
    "qual$Method = \"rskc\"\n",
    "qual_melt = melt(qual, id.vars = c(\"Metric\", \"Method\"))"
   ]
  },
  {
   "cell_type": "code",
   "execution_count": 21,
   "id": "24abbe30",
   "metadata": {},
   "outputs": [
    {
     "data": {
      "image/png": "[encoded data removed]",
      "text/plain": [
       "plot without title"
      ]
     },
     "metadata": {
      "image/png": {
       "height": 420,
       "width": 420
      }
     },
     "output_type": "display_data"
    }
   ],
   "source": [
    "# Color\n",
    "grayscale_colors <- c(\"black\", \"darkgray\", \"gray\", \"lightgray\", \"white\")\n",
    "\n",
    "# Base ggplot\n",
    "p <- ggplot(qual_melt, aes(x = variable, y = value, color = Method, group = Method)) +\n",
    "  geom_point() +\n",
    "  geom_line() +\n",
    "  scale_color_manual(values = grayscale_colors) +\n",
    "  labs(\n",
    "    title = paste0('NCI60 quality - k in [', k.range[1], \",\", k.range[2], ']'),\n",
    "    x = 'k',\n",
    "    y = 'Quality'\n",
    "  ) +\n",
    "  scale_y_continuous(limits = c(0, 1)) +\n",
    "  theme_minimal()\n",
    "\n",
    "# Adding rectangles\n",
    "p + \n",
    "  annotate(\"rect\", xmin = -Inf, xmax = Inf, ymin = 0.85, ymax = 1, alpha = 0.1, fill = \"green\") +\n",
    "  annotate(\"rect\", xmin = -Inf, xmax = Inf, ymin = 0.75, ymax = 0.85, alpha = 0.1, fill = \"blue\") +\n",
    "  annotate(\"rect\", xmin = -Inf, xmax = Inf, ymin = 0.6, ymax = 0.75, alpha = 0.1, fill = \"gray\") +\n",
    "  annotate(\"rect\", xmin = -Inf, xmax = Inf, ymin = 0, ymax = 0.6, alpha = 0.1, fill = \"red\")"
   ]
  },
  {
   "cell_type": "markdown",
   "id": "3d2ca08c",
   "metadata": {},
   "source": [
    "Determining the optimal $k$ given the stabilities and qualities in `stab_range` and `qual_range` objects:"
   ]
  },
  {
   "cell_type": "code",
   "execution_count": 22,
   "id": "7dbbae54",
   "metadata": {},
   "outputs": [
    {
     "name": "stderr",
     "output_type": "stream",
     "text": [
      "Processing metric: all_metrics\n",
      "\n",
      "\n",
      "\tBoth Ks have a stable classification: '5', '10'\n",
      "\n",
      "\n",
      "\tUsing '10' since it provides higher silhouette width\n",
      "\n",
      "\n"
     ]
    },
    {
     "name": "stdout",
     "output_type": "stream",
     "text": [
      "[1] \"Optimal k: 10\"\n"
     ]
    }
   ],
   "source": [
    "k_opt = getOptimalKValue(stab_range, qual_range, k.range= k.range)\n",
    "optimal_k = k_opt$Global_optimal_k\n",
    "optimal_k_str = paste0(\"k_\", optimal_k)\n",
    "print(paste0(\"Optimal k: \", optimal_k))"
   ]
  },
  {
   "cell_type": "code",
   "execution_count": 23,
   "id": "a1893312",
   "metadata": {},
   "outputs": [
    {
     "name": "stdout",
     "output_type": "stream",
     "text": [
      "[1] \"Stabilities and qualities per k with 'rskc' as clustering method\"\n"
     ]
    },
    {
     "data": {
      "text/html": [
       "<table class=\"dataframe\">\n",
       "<caption>A data.frame: 1 × 10</caption>\n",
       "<thead>\n",
       "\t<tr><th></th><th scope=col>k_3</th><th scope=col>k_4</th><th scope=col>k_5</th><th scope=col>k_6</th><th scope=col>k_7</th><th scope=col>k_8</th><th scope=col>k_9</th><th scope=col>k_10</th><th scope=col>Metric</th><th scope=col>Method</th></tr>\n",
       "\t<tr><th></th><th scope=col>&lt;dbl&gt;</th><th scope=col>&lt;dbl&gt;</th><th scope=col>&lt;dbl&gt;</th><th scope=col>&lt;dbl&gt;</th><th scope=col>&lt;dbl&gt;</th><th scope=col>&lt;dbl&gt;</th><th scope=col>&lt;dbl&gt;</th><th scope=col>&lt;dbl&gt;</th><th scope=col>&lt;chr&gt;</th><th scope=col>&lt;chr&gt;</th></tr>\n",
       "</thead>\n",
       "<tbody>\n",
       "\t<tr><th scope=row>stab_kmeans</th><td>0.8532611</td><td>0.8339798</td><td>0.9274361</td><td>0.8205323</td><td>0.8086801</td><td>0.8167007</td><td>0.8223834</td><td>0.8049833</td><td>stab_kmeans</td><td>rskc</td></tr>\n",
       "</tbody>\n",
       "</table>\n"
      ],
      "text/latex": [
       "A data.frame: 1 × 10\n",
       "\\begin{tabular}{r|llllllllll}\n",
       "  & k\\_3 & k\\_4 & k\\_5 & k\\_6 & k\\_7 & k\\_8 & k\\_9 & k\\_10 & Metric & Method\\\\\n",
       "  & <dbl> & <dbl> & <dbl> & <dbl> & <dbl> & <dbl> & <dbl> & <dbl> & <chr> & <chr>\\\\\n",
       "\\hline\n",
       "\tstab\\_kmeans & 0.8532611 & 0.8339798 & 0.9274361 & 0.8205323 & 0.8086801 & 0.8167007 & 0.8223834 & 0.8049833 & stab\\_kmeans & rskc\\\\\n",
       "\\end{tabular}\n"
      ],
      "text/markdown": [
       "\n",
       "A data.frame: 1 × 10\n",
       "\n",
       "| <!--/--> | k_3 &lt;dbl&gt; | k_4 &lt;dbl&gt; | k_5 &lt;dbl&gt; | k_6 &lt;dbl&gt; | k_7 &lt;dbl&gt; | k_8 &lt;dbl&gt; | k_9 &lt;dbl&gt; | k_10 &lt;dbl&gt; | Metric &lt;chr&gt; | Method &lt;chr&gt; |\n",
       "|---|---|---|---|---|---|---|---|---|---|---|\n",
       "| stab_kmeans | 0.8532611 | 0.8339798 | 0.9274361 | 0.8205323 | 0.8086801 | 0.8167007 | 0.8223834 | 0.8049833 | stab_kmeans | rskc |\n",
       "\n"
      ],
      "text/plain": [
       "            k_3       k_4       k_5       k_6       k_7       k_8      \n",
       "stab_kmeans 0.8532611 0.8339798 0.9274361 0.8205323 0.8086801 0.8167007\n",
       "            k_9       k_10      Metric      Method\n",
       "stab_kmeans 0.8223834 0.8049833 stab_kmeans rskc  "
      ]
     },
     "metadata": {},
     "output_type": "display_data"
    },
    {
     "data": {
      "text/html": [
       "<table class=\"dataframe\">\n",
       "<caption>A data.frame: 1 × 10</caption>\n",
       "<thead>\n",
       "\t<tr><th></th><th scope=col>k_3</th><th scope=col>k_4</th><th scope=col>k_5</th><th scope=col>k_6</th><th scope=col>k_7</th><th scope=col>k_8</th><th scope=col>k_9</th><th scope=col>k_10</th><th scope=col>Metric</th><th scope=col>Method</th></tr>\n",
       "\t<tr><th></th><th scope=col>&lt;dbl&gt;</th><th scope=col>&lt;dbl&gt;</th><th scope=col>&lt;dbl&gt;</th><th scope=col>&lt;dbl&gt;</th><th scope=col>&lt;dbl&gt;</th><th scope=col>&lt;dbl&gt;</th><th scope=col>&lt;dbl&gt;</th><th scope=col>&lt;dbl&gt;</th><th scope=col>&lt;chr&gt;</th><th scope=col>&lt;chr&gt;</th></tr>\n",
       "</thead>\n",
       "<tbody>\n",
       "\t<tr><th scope=row>qual_kmeans</th><td>0.1118395</td><td>0.1394197</td><td>0.166236</td><td>0.1468222</td><td>0.1381993</td><td>0.1538698</td><td>0.1503784</td><td>0.1730372</td><td>qual_kmeans</td><td>rskc</td></tr>\n",
       "</tbody>\n",
       "</table>\n"
      ],
      "text/latex": [
       "A data.frame: 1 × 10\n",
       "\\begin{tabular}{r|llllllllll}\n",
       "  & k\\_3 & k\\_4 & k\\_5 & k\\_6 & k\\_7 & k\\_8 & k\\_9 & k\\_10 & Metric & Method\\\\\n",
       "  & <dbl> & <dbl> & <dbl> & <dbl> & <dbl> & <dbl> & <dbl> & <dbl> & <chr> & <chr>\\\\\n",
       "\\hline\n",
       "\tqual\\_kmeans & 0.1118395 & 0.1394197 & 0.166236 & 0.1468222 & 0.1381993 & 0.1538698 & 0.1503784 & 0.1730372 & qual\\_kmeans & rskc\\\\\n",
       "\\end{tabular}\n"
      ],
      "text/markdown": [
       "\n",
       "A data.frame: 1 × 10\n",
       "\n",
       "| <!--/--> | k_3 &lt;dbl&gt; | k_4 &lt;dbl&gt; | k_5 &lt;dbl&gt; | k_6 &lt;dbl&gt; | k_7 &lt;dbl&gt; | k_8 &lt;dbl&gt; | k_9 &lt;dbl&gt; | k_10 &lt;dbl&gt; | Metric &lt;chr&gt; | Method &lt;chr&gt; |\n",
       "|---|---|---|---|---|---|---|---|---|---|---|\n",
       "| qual_kmeans | 0.1118395 | 0.1394197 | 0.166236 | 0.1468222 | 0.1381993 | 0.1538698 | 0.1503784 | 0.1730372 | qual_kmeans | rskc |\n",
       "\n"
      ],
      "text/plain": [
       "            k_3       k_4       k_5      k_6       k_7       k_8      \n",
       "qual_kmeans 0.1118395 0.1394197 0.166236 0.1468222 0.1381993 0.1538698\n",
       "            k_9       k_10      Metric      Method\n",
       "qual_kmeans 0.1503784 0.1730372 qual_kmeans rskc  "
      ]
     },
     "metadata": {},
     "output_type": "display_data"
    },
    {
     "name": "stdout",
     "output_type": "stream",
     "text": [
      "[1] \"Stabily in k=10: 0.804983333333333\"\n",
      "[1] \"Quality in k=10: 0.173037229666418\"\n"
     ]
    }
   ],
   "source": [
    "print(paste0(\"Stabilities and qualities per k with '\", cbi, \"' as clustering method\"))\n",
    "stab\n",
    "qual\n",
    "print(paste0(\"Stabily in k=\", optimal_k,\": \", stab[optimal_k_str]))\n",
    "print(paste0(\"Quality in k=\", optimal_k,\": \", qual[optimal_k_str]))"
   ]
  },
  {
   "cell_type": "markdown",
   "id": "e96ae474",
   "metadata": {},
   "source": [
    "# Clusters"
   ]
  },
  {
   "cell_type": "code",
   "execution_count": 24,
   "id": "61294941",
   "metadata": {},
   "outputs": [],
   "source": [
    "# Internal method used to group individuals per cluster\n",
    "individuals_per_cluster = function(qualityResult) {\n",
    "  qual_df = as.data.frame(assay(qualityResult))\n",
    "\n",
    "\n",
    "  cluster_pos_str = as.character(unlist(qual_df[\"Cluster_position\"]))\n",
    "  cluster_labels_str = as.character(unlist(qual_df[\"Cluster_labels\"]))\n",
    "\n",
    "  cluster_pos = as.list(strsplit(cluster_pos_str, \",\")[[1]])\n",
    "  cluster_labels = as.list(strsplit(cluster_labels_str, \",\")[[1]])\n",
    "\n",
    "  individuals_in_cluster = as.data.frame(cbind(cluster_labels, cluster_pos))\n",
    "  colnames(individuals_in_cluster) = c(\"Individual\", \"Cluster\")\n",
    "\n",
    "  return(individuals_in_cluster)\n",
    "}"
   ]
  },
  {
   "cell_type": "code",
   "execution_count": 25,
   "id": "77b5d886",
   "metadata": {
    "scrolled": true
   },
   "outputs": [
    {
     "name": "stdout",
     "output_type": "stream",
     "text": [
      "[1] \"Cluster 1 : BREAST,RENAL,OVARIAN,MELANOMA,NSCLC,NSCLC\"\n",
      "[1] \"---\"\n",
      "[1] \"Cluster 2 : MELANOMA,BREAST,BREAST,MELANOMA,MELANOMA,MELANOMA,MELANOMA,MELANOMA,MELANOMA\"\n",
      "[1] \"---\"\n",
      "[1] \"Cluster 3 : RENAL,RENAL,RENAL,RENAL,RENAL,RENAL,RENAL,NSCLC\"\n",
      "[1] \"---\"\n",
      "[1] \"Cluster 4 : OVARIAN,OVARIAN,OVARIAN,OVARIAN,OVARIAN,NSCLC,NSCLC\"\n",
      "[1] \"---\"\n",
      "[1] \"Cluster 5 : RENAL,BREAST\"\n",
      "[1] \"---\"\n",
      "[1] \"Cluster 6 : COLON,COLON,COLON,COLON,COLON,COLON\"\n",
      "[1] \"---\"\n",
      "[1] \"Cluster 7 : K562B-repro,K562A-repro,LEUKEMIA,LEUKEMIA,LEUKEMIA,LEUKEMIA,LEUKEMIA\"\n",
      "[1] \"---\"\n",
      "[1] \"Cluster 8 : CNS,CNS,CNS,CNS,CNS,BREAST,NSCLC,NSCLC\"\n",
      "[1] \"---\"\n",
      "[1] \"Cluster 9 : LEUKEMIA,COLON,NSCLC,NSCLC\"\n",
      "[1] \"---\"\n",
      "[1] \"Cluster 10 : MCF7A-repro,BREAST,MCF7D-repro,BREAST\"\n",
      "[1] \"---\"\n"
     ]
    }
   ],
   "source": [
    "cluster_individuals = individuals_per_cluster(assay(qual_range[optimal_k_str]))\n",
    "for (cluster_i in 1:optimal_k) {\n",
    "    ind_in_cluster = paste(unlist(cluster_individuals[cluster_individuals$Cluster == cluster_i, ][\"Individual\"]), collapse = \",\")\n",
    "    print(paste(\"Cluster\", cluster_i, \":\", ind_in_cluster))\n",
    "    print(\"---\")\n",
    "}"
   ]
  },
  {
   "cell_type": "markdown",
   "id": "516d4108",
   "metadata": {},
   "source": [
    "# PCA <a class=\"anchor\" id=\"pca\"></a>\n",
    "We employ Principal Component Analysis (PCA) as a dimensionality reduction technique to facilitate the visualization of clusters within our dataset. PCA allow us to transform the original high-dimensional data into a lower-dimensional space, while preserving as much of the variability as possible."
   ]
  },
  {
   "cell_type": "code",
   "execution_count": 26,
   "id": "6559b681-e656-434e-9253-286ddb0005de",
   "metadata": {},
   "outputs": [
    {
     "data": {
      "text/html": [
       "<table class=\"dataframe\">\n",
       "<caption>A data.frame: 6 × 37</caption>\n",
       "<thead>\n",
       "\t<tr><th></th><th scope=col>Description</th><th scope=col>Dim.1</th><th scope=col>Dim.2</th><th scope=col>Dim.3</th><th scope=col>Dim.4</th><th scope=col>Dim.5</th><th scope=col>Dim.6</th><th scope=col>Dim.7</th><th scope=col>Dim.8</th><th scope=col>Dim.9</th><th scope=col>⋯</th><th scope=col>Dim.27</th><th scope=col>Dim.28</th><th scope=col>Dim.29</th><th scope=col>Dim.30</th><th scope=col>Dim.31</th><th scope=col>Dim.32</th><th scope=col>Dim.33</th><th scope=col>Dim.34</th><th scope=col>Dim.35</th><th scope=col>Cluster</th></tr>\n",
       "\t<tr><th></th><th scope=col>&lt;chr&gt;</th><th scope=col>&lt;dbl&gt;</th><th scope=col>&lt;dbl&gt;</th><th scope=col>&lt;dbl&gt;</th><th scope=col>&lt;dbl&gt;</th><th scope=col>&lt;dbl&gt;</th><th scope=col>&lt;dbl&gt;</th><th scope=col>&lt;dbl&gt;</th><th scope=col>&lt;dbl&gt;</th><th scope=col>&lt;dbl&gt;</th><th scope=col>⋯</th><th scope=col>&lt;dbl&gt;</th><th scope=col>&lt;dbl&gt;</th><th scope=col>&lt;dbl&gt;</th><th scope=col>&lt;dbl&gt;</th><th scope=col>&lt;dbl&gt;</th><th scope=col>&lt;dbl&gt;</th><th scope=col>&lt;dbl&gt;</th><th scope=col>&lt;dbl&gt;</th><th scope=col>&lt;dbl&gt;</th><th scope=col>&lt;fct&gt;</th></tr>\n",
       "</thead>\n",
       "<tbody>\n",
       "\t<tr><th scope=row>V1</th><td>CNS   </td><td> 6.097478</td><td>-0.1647514</td><td>-2.3625462</td><td>-3.7853640</td><td>0.9176837</td><td> 6.4919889</td><td> 1.4840796</td><td> 0.2589460</td><td> 3.4998415</td><td>⋯</td><td> 0.6858008</td><td>-1.0552969</td><td>-0.6967309</td><td>-1.8748524</td><td> 0.9264463</td><td>-0.04483378</td><td> 0.7213328</td><td>-0.18457639</td><td> 0.3644274</td><td>8</td></tr>\n",
       "\t<tr><th scope=row>V2</th><td>CNS   </td><td> 5.977258</td><td>-1.4124431</td><td>-2.6126761</td><td>-3.0120919</td><td>0.6265247</td><td> 7.5868320</td><td> 2.2478333</td><td>-0.1085869</td><td> 3.6182820</td><td>⋯</td><td> 1.2183512</td><td>-0.9289955</td><td>-0.2166457</td><td> 0.7686252</td><td>-0.9808568</td><td>-0.86641394</td><td> 1.0211971</td><td>-0.32449799</td><td> 0.4670006</td><td>8</td></tr>\n",
       "\t<tr><th scope=row>V3</th><td>CNS   </td><td> 8.099173</td><td> 0.6272192</td><td>-2.5754395</td><td>-0.7765312</td><td>4.2457457</td><td> 2.0342516</td><td> 3.1462687</td><td>-0.1289517</td><td> 0.3664121</td><td>⋯</td><td>-1.2577831</td><td> 0.5822799</td><td> 0.4963585</td><td>-1.2001106</td><td> 1.2801710</td><td>-0.44156235</td><td> 0.6244619</td><td>-0.53321457</td><td>-0.8435209</td><td>8</td></tr>\n",
       "\t<tr><th scope=row>V4</th><td>RENAL </td><td>12.058369</td><td>-2.0675882</td><td>-0.9389058</td><td>-4.8318299</td><td>7.9733869</td><td> 0.9990644</td><td>-0.8670394</td><td>-3.7441178</td><td> 0.2475365</td><td>⋯</td><td> 1.8721395</td><td> 1.3793647</td><td> 0.4133163</td><td> 2.5161183</td><td>-0.3965475</td><td> 0.48625665</td><td>-1.9901873</td><td> 0.08974292</td><td> 0.6575116</td><td>5</td></tr>\n",
       "\t<tr><th scope=row>V5</th><td>BREAST</td><td>13.947443</td><td>-1.1437883</td><td>-4.0425461</td><td>-3.0270261</td><td>6.2188670</td><td>-7.3679187</td><td>-0.8251566</td><td>-3.9419799</td><td>-1.0727189</td><td>⋯</td><td>-0.5671506</td><td> 0.3484836</td><td> 0.9523690</td><td>-0.2816908</td><td>-1.1907146</td><td>-0.36240900</td><td> 1.1290450</td><td>-0.58478239</td><td>-0.5216343</td><td>5</td></tr>\n",
       "\t<tr><th scope=row>V6</th><td>CNS   </td><td> 8.213053</td><td>-2.0996348</td><td>-3.9458410</td><td>-3.5244792</td><td>3.5893639</td><td>-2.9162137</td><td>-0.2791665</td><td>-3.1057802</td><td>-1.6023299</td><td>⋯</td><td>-2.1052186</td><td>-1.8980170</td><td>-0.8604657</td><td>-2.3398188</td><td>-1.0171413</td><td> 0.47675312</td><td> 0.1367769</td><td> 1.46226006</td><td> 2.0742978</td><td>8</td></tr>\n",
       "</tbody>\n",
       "</table>\n"
      ],
      "text/latex": [
       "A data.frame: 6 × 37\n",
       "\\begin{tabular}{r|lllllllllllllllllllll}\n",
       "  & Description & Dim.1 & Dim.2 & Dim.3 & Dim.4 & Dim.5 & Dim.6 & Dim.7 & Dim.8 & Dim.9 & ⋯ & Dim.27 & Dim.28 & Dim.29 & Dim.30 & Dim.31 & Dim.32 & Dim.33 & Dim.34 & Dim.35 & Cluster\\\\\n",
       "  & <chr> & <dbl> & <dbl> & <dbl> & <dbl> & <dbl> & <dbl> & <dbl> & <dbl> & <dbl> & ⋯ & <dbl> & <dbl> & <dbl> & <dbl> & <dbl> & <dbl> & <dbl> & <dbl> & <dbl> & <fct>\\\\\n",
       "\\hline\n",
       "\tV1 & CNS    &  6.097478 & -0.1647514 & -2.3625462 & -3.7853640 & 0.9176837 &  6.4919889 &  1.4840796 &  0.2589460 &  3.4998415 & ⋯ &  0.6858008 & -1.0552969 & -0.6967309 & -1.8748524 &  0.9264463 & -0.04483378 &  0.7213328 & -0.18457639 &  0.3644274 & 8\\\\\n",
       "\tV2 & CNS    &  5.977258 & -1.4124431 & -2.6126761 & -3.0120919 & 0.6265247 &  7.5868320 &  2.2478333 & -0.1085869 &  3.6182820 & ⋯ &  1.2183512 & -0.9289955 & -0.2166457 &  0.7686252 & -0.9808568 & -0.86641394 &  1.0211971 & -0.32449799 &  0.4670006 & 8\\\\\n",
       "\tV3 & CNS    &  8.099173 &  0.6272192 & -2.5754395 & -0.7765312 & 4.2457457 &  2.0342516 &  3.1462687 & -0.1289517 &  0.3664121 & ⋯ & -1.2577831 &  0.5822799 &  0.4963585 & -1.2001106 &  1.2801710 & -0.44156235 &  0.6244619 & -0.53321457 & -0.8435209 & 8\\\\\n",
       "\tV4 & RENAL  & 12.058369 & -2.0675882 & -0.9389058 & -4.8318299 & 7.9733869 &  0.9990644 & -0.8670394 & -3.7441178 &  0.2475365 & ⋯ &  1.8721395 &  1.3793647 &  0.4133163 &  2.5161183 & -0.3965475 &  0.48625665 & -1.9901873 &  0.08974292 &  0.6575116 & 5\\\\\n",
       "\tV5 & BREAST & 13.947443 & -1.1437883 & -4.0425461 & -3.0270261 & 6.2188670 & -7.3679187 & -0.8251566 & -3.9419799 & -1.0727189 & ⋯ & -0.5671506 &  0.3484836 &  0.9523690 & -0.2816908 & -1.1907146 & -0.36240900 &  1.1290450 & -0.58478239 & -0.5216343 & 5\\\\\n",
       "\tV6 & CNS    &  8.213053 & -2.0996348 & -3.9458410 & -3.5244792 & 3.5893639 & -2.9162137 & -0.2791665 & -3.1057802 & -1.6023299 & ⋯ & -2.1052186 & -1.8980170 & -0.8604657 & -2.3398188 & -1.0171413 &  0.47675312 &  0.1367769 &  1.46226006 &  2.0742978 & 8\\\\\n",
       "\\end{tabular}\n"
      ],
      "text/markdown": [
       "\n",
       "A data.frame: 6 × 37\n",
       "\n",
       "| <!--/--> | Description &lt;chr&gt; | Dim.1 &lt;dbl&gt; | Dim.2 &lt;dbl&gt; | Dim.3 &lt;dbl&gt; | Dim.4 &lt;dbl&gt; | Dim.5 &lt;dbl&gt; | Dim.6 &lt;dbl&gt; | Dim.7 &lt;dbl&gt; | Dim.8 &lt;dbl&gt; | Dim.9 &lt;dbl&gt; | ⋯ ⋯ | Dim.27 &lt;dbl&gt; | Dim.28 &lt;dbl&gt; | Dim.29 &lt;dbl&gt; | Dim.30 &lt;dbl&gt; | Dim.31 &lt;dbl&gt; | Dim.32 &lt;dbl&gt; | Dim.33 &lt;dbl&gt; | Dim.34 &lt;dbl&gt; | Dim.35 &lt;dbl&gt; | Cluster &lt;fct&gt; |\n",
       "|---|---|---|---|---|---|---|---|---|---|---|---|---|---|---|---|---|---|---|---|---|---|\n",
       "| V1 | CNS    |  6.097478 | -0.1647514 | -2.3625462 | -3.7853640 | 0.9176837 |  6.4919889 |  1.4840796 |  0.2589460 |  3.4998415 | ⋯ |  0.6858008 | -1.0552969 | -0.6967309 | -1.8748524 |  0.9264463 | -0.04483378 |  0.7213328 | -0.18457639 |  0.3644274 | 8 |\n",
       "| V2 | CNS    |  5.977258 | -1.4124431 | -2.6126761 | -3.0120919 | 0.6265247 |  7.5868320 |  2.2478333 | -0.1085869 |  3.6182820 | ⋯ |  1.2183512 | -0.9289955 | -0.2166457 |  0.7686252 | -0.9808568 | -0.86641394 |  1.0211971 | -0.32449799 |  0.4670006 | 8 |\n",
       "| V3 | CNS    |  8.099173 |  0.6272192 | -2.5754395 | -0.7765312 | 4.2457457 |  2.0342516 |  3.1462687 | -0.1289517 |  0.3664121 | ⋯ | -1.2577831 |  0.5822799 |  0.4963585 | -1.2001106 |  1.2801710 | -0.44156235 |  0.6244619 | -0.53321457 | -0.8435209 | 8 |\n",
       "| V4 | RENAL  | 12.058369 | -2.0675882 | -0.9389058 | -4.8318299 | 7.9733869 |  0.9990644 | -0.8670394 | -3.7441178 |  0.2475365 | ⋯ |  1.8721395 |  1.3793647 |  0.4133163 |  2.5161183 | -0.3965475 |  0.48625665 | -1.9901873 |  0.08974292 |  0.6575116 | 5 |\n",
       "| V5 | BREAST | 13.947443 | -1.1437883 | -4.0425461 | -3.0270261 | 6.2188670 | -7.3679187 | -0.8251566 | -3.9419799 | -1.0727189 | ⋯ | -0.5671506 |  0.3484836 |  0.9523690 | -0.2816908 | -1.1907146 | -0.36240900 |  1.1290450 | -0.58478239 | -0.5216343 | 5 |\n",
       "| V6 | CNS    |  8.213053 | -2.0996348 | -3.9458410 | -3.5244792 | 3.5893639 | -2.9162137 | -0.2791665 | -3.1057802 | -1.6023299 | ⋯ | -2.1052186 | -1.8980170 | -0.8604657 | -2.3398188 | -1.0171413 |  0.47675312 |  0.1367769 |  1.46226006 |  2.0742978 | 8 |\n",
       "\n"
      ],
      "text/plain": [
       "   Description Dim.1     Dim.2      Dim.3      Dim.4      Dim.5     Dim.6     \n",
       "V1 CNS          6.097478 -0.1647514 -2.3625462 -3.7853640 0.9176837  6.4919889\n",
       "V2 CNS          5.977258 -1.4124431 -2.6126761 -3.0120919 0.6265247  7.5868320\n",
       "V3 CNS          8.099173  0.6272192 -2.5754395 -0.7765312 4.2457457  2.0342516\n",
       "V4 RENAL       12.058369 -2.0675882 -0.9389058 -4.8318299 7.9733869  0.9990644\n",
       "V5 BREAST      13.947443 -1.1437883 -4.0425461 -3.0270261 6.2188670 -7.3679187\n",
       "V6 CNS          8.213053 -2.0996348 -3.9458410 -3.5244792 3.5893639 -2.9162137\n",
       "   Dim.7      Dim.8      Dim.9      ⋯ Dim.27     Dim.28     Dim.29    \n",
       "V1  1.4840796  0.2589460  3.4998415 ⋯  0.6858008 -1.0552969 -0.6967309\n",
       "V2  2.2478333 -0.1085869  3.6182820 ⋯  1.2183512 -0.9289955 -0.2166457\n",
       "V3  3.1462687 -0.1289517  0.3664121 ⋯ -1.2577831  0.5822799  0.4963585\n",
       "V4 -0.8670394 -3.7441178  0.2475365 ⋯  1.8721395  1.3793647  0.4133163\n",
       "V5 -0.8251566 -3.9419799 -1.0727189 ⋯ -0.5671506  0.3484836  0.9523690\n",
       "V6 -0.2791665 -3.1057802 -1.6023299 ⋯ -2.1052186 -1.8980170 -0.8604657\n",
       "   Dim.30     Dim.31     Dim.32      Dim.33     Dim.34      Dim.35     Cluster\n",
       "V1 -1.8748524  0.9264463 -0.04483378  0.7213328 -0.18457639  0.3644274 8      \n",
       "V2  0.7686252 -0.9808568 -0.86641394  1.0211971 -0.32449799  0.4670006 8      \n",
       "V3 -1.2001106  1.2801710 -0.44156235  0.6244619 -0.53321457 -0.8435209 8      \n",
       "V4  2.5161183 -0.3965475  0.48625665 -1.9901873  0.08974292  0.6575116 5      \n",
       "V5 -0.2816908 -1.1907146 -0.36240900  1.1290450 -0.58478239 -0.5216343 5      \n",
       "V6 -2.3398188 -1.0171413  0.47675312  0.1367769  1.46226006  2.0742978 8      "
      ]
     },
     "metadata": {},
     "output_type": "display_data"
    }
   ],
   "source": [
    "top_nci60[\"Cluster\"] = as.factor(as.numeric(cluster_individuals$Cluster))\n",
    "pca_df = top_nci60\n",
    "head(pca_df)"
   ]
  },
  {
   "cell_type": "code",
   "execution_count": 35,
   "id": "9026386f",
   "metadata": {},
   "outputs": [
    {
     "name": "stderr",
     "output_type": "stream",
     "text": [
      "\u001b[1m\u001b[22mToo few points to calculate an ellipse\n",
      "Warning message:\n",
      "\"\u001b[1m\u001b[22mThe following aesthetics were dropped during statistical transformation: \u001b[32mlabel\u001b[39m.\n",
      "\u001b[36mℹ\u001b[39m This can happen when ggplot fails to infer the correct grouping structure in\n",
      "  the data.\n",
      "\u001b[36mℹ\u001b[39m Did you forget to specify a `group` aesthetic or to convert a numerical\n",
      "  variable into a factor?\"\n"
     ]
    },
    {
     "data": {
      "image/png": "[encoded data removed]",
      "text/plain": [
       "plot without title"
      ]
     },
     "metadata": {
      "image/png": {
       "height": 720,
       "width": 720
      }
     },
     "output_type": "display_data"
    }
   ],
   "source": [
    "options(repr.plot.width=12, repr.plot.height=12)\n",
    "custom_colors = custom_colors <- c(\"#2E86C1\", \"#28B463\", \"#E74C3C\", \"#9B59B6\", \"#f95d6a\", \n",
    "                                    \"#7F8C8D\", \"#FF5733\", \"#8E44AD\", \"#003f5c\", \"#ffa600\")\n",
    "\n",
    "cluster_shapes =  c(16, 17, 15, 18, 19, 20, 21, 22, 23, 24)\n",
    "cluster_labels = c()\n",
    "if (optimal_k == 5) {\n",
    "    cluster_labels = c(\"Breast & Colon\", \"Renal & CNS & Unknown\", \"Leukemia\", \"Melanoma\", \"Ovarian & Prostate & NSCLC\")\n",
    "} else {\n",
    "    cluster_labels = c(\"NSCLC\", \"Melanoma\", \"Renal\", \"Ovarian\", \"Breast 2\", \"Colon\", \"Leukemia\", \"CNS\", \"NSCLC 2\", \"Breast\")\n",
    "}\n",
    "\n",
    "\n",
    "ggplot(pca_df, aes(x = Dim.1, y = Dim.2, shape = Cluster, color = Cluster, label = Description)) +\n",
    "  geom_point(size = 3) +\n",
    "  geom_text_repel(\n",
    "    vjust = 1,\n",
    "    hjust = 1,\n",
    "    size = 4,\n",
    "    show.legend = FALSE,\n",
    "    point.padding = 0.25,\n",
    "    box.padding = 0.25,\n",
    "    max.overlaps = 15,\n",
    "    segment.color = \"grey70\",\n",
    "    segment.size = 0.2\n",
    "  ) +\n",
    "  stat_ellipse(aes(fill = Cluster), level = 0.95, alpha = 0.2, geom = \"polygon\") +\n",
    "  labs(\n",
    "    title = \"NCI60 individuals\",\n",
    "    x = \"Principal Component 1\",\n",
    "    y = \"Principal Component 2\"\n",
    "  ) +\n",
    "  scale_shape_manual(values = cluster_shapes, labels = cluster_labels) +\n",
    "  scale_color_manual(values = custom_colors, labels = cluster_labels) +\n",
    "  scale_fill_manual(values = custom_colors, labels = cluster_labels) +\n",
    "  theme_minimal(base_size = 15) +\n",
    "  theme(\n",
    "    plot.title = element_text(hjust = 0.5, size = 18, face = \"bold\"),\n",
    "    axis.title.x = element_text(size = 14),\n",
    "    axis.title.y = element_text(size = 14),\n",
    "    axis.text = element_text(size = 12),\n",
    "    legend.position = \"right\",\n",
    "    legend.title = element_text(size = 12),\n",
    "    legend.text = element_text(size = 12),\n",
    "    panel.grid.major = element_line(color = \"grey90\"),\n",
    "    panel.grid.minor = element_blank()\n",
    "  )"
   ]
  },
  {
   "cell_type": "markdown",
   "id": "f3cede33",
   "metadata": {},
   "source": [
    "# Sensitivity <a class=\"anchor\" id=\"sensitivity\"></a>\n",
    "In this Section we evaluate the sensitivity of our clustering using the `MLmetrics::Sensitivity` method. Sensitivity, or the true positive rate, measures the ability to correctly identify positive instances within the data. By focusing on sensitivity, we aim to ensure that our model effectively captures the relevant clusters, minimizing the number of false negatives. "
   ]
  },
  {
   "cell_type": "code",
   "execution_count": 28,
   "id": "6c304dd0",
   "metadata": {},
   "outputs": [
    {
     "data": {
      "text/html": [
       "<table class=\"dataframe\">\n",
       "<caption>A data.frame: 6 × 2</caption>\n",
       "<thead>\n",
       "\t<tr><th></th><th scope=col>Description</th><th scope=col>Class</th></tr>\n",
       "\t<tr><th></th><th scope=col>&lt;chr&gt;</th><th scope=col>&lt;chr&gt;</th></tr>\n",
       "</thead>\n",
       "<tbody>\n",
       "\t<tr><th scope=row>V1</th><td>CNS   </td><td>CNS   </td></tr>\n",
       "\t<tr><th scope=row>V2</th><td>CNS   </td><td>CNS   </td></tr>\n",
       "\t<tr><th scope=row>V3</th><td>CNS   </td><td>CNS   </td></tr>\n",
       "\t<tr><th scope=row>V4</th><td>RENAL </td><td>RENAL </td></tr>\n",
       "\t<tr><th scope=row>V5</th><td>BREAST</td><td>BREAST</td></tr>\n",
       "\t<tr><th scope=row>V6</th><td>CNS   </td><td>CNS   </td></tr>\n",
       "</tbody>\n",
       "</table>\n"
      ],
      "text/latex": [
       "A data.frame: 6 × 2\n",
       "\\begin{tabular}{r|ll}\n",
       "  & Description & Class\\\\\n",
       "  & <chr> & <chr>\\\\\n",
       "\\hline\n",
       "\tV1 & CNS    & CNS   \\\\\n",
       "\tV2 & CNS    & CNS   \\\\\n",
       "\tV3 & CNS    & CNS   \\\\\n",
       "\tV4 & RENAL  & RENAL \\\\\n",
       "\tV5 & BREAST & BREAST\\\\\n",
       "\tV6 & CNS    & CNS   \\\\\n",
       "\\end{tabular}\n"
      ],
      "text/markdown": [
       "\n",
       "A data.frame: 6 × 2\n",
       "\n",
       "| <!--/--> | Description &lt;chr&gt; | Class &lt;chr&gt; |\n",
       "|---|---|---|\n",
       "| V1 | CNS    | CNS    |\n",
       "| V2 | CNS    | CNS    |\n",
       "| V3 | CNS    | CNS    |\n",
       "| V4 | RENAL  | RENAL  |\n",
       "| V5 | BREAST | BREAST |\n",
       "| V6 | CNS    | CNS    |\n",
       "\n"
      ],
      "text/plain": [
       "   Description Class \n",
       "V1 CNS         CNS   \n",
       "V2 CNS         CNS   \n",
       "V3 CNS         CNS   \n",
       "V4 RENAL       RENAL \n",
       "V5 BREAST      BREAST\n",
       "V6 CNS         CNS   "
      ]
     },
     "metadata": {},
     "output_type": "display_data"
    }
   ],
   "source": [
    "top_nci60[\"Class\"] = top_nci60[\"Description\"]\n",
    "head(top_nci60)[, c(\"Description\", \"Class\")]"
   ]
  },
  {
   "cell_type": "code",
   "execution_count": 29,
   "id": "518d502b",
   "metadata": {},
   "outputs": [
    {
     "data": {
      "text/html": [
       "<table class=\"dataframe\">\n",
       "<caption>A data.frame: 6 × 4</caption>\n",
       "<thead>\n",
       "\t<tr><th></th><th scope=col>Description</th><th scope=col>Class</th><th scope=col>Cluster</th><th scope=col>Class_n</th></tr>\n",
       "\t<tr><th></th><th scope=col>&lt;chr&gt;</th><th scope=col>&lt;chr&gt;</th><th scope=col>&lt;fct&gt;</th><th scope=col>&lt;dbl&gt;</th></tr>\n",
       "</thead>\n",
       "<tbody>\n",
       "\t<tr><th scope=row>V1</th><td>CNS   </td><td>CNS   </td><td>8</td><td> 8</td></tr>\n",
       "\t<tr><th scope=row>V2</th><td>CNS   </td><td>CNS   </td><td>8</td><td> 8</td></tr>\n",
       "\t<tr><th scope=row>V3</th><td>CNS   </td><td>CNS   </td><td>8</td><td> 8</td></tr>\n",
       "\t<tr><th scope=row>V4</th><td>RENAL </td><td>RENAL </td><td>5</td><td> 3</td></tr>\n",
       "\t<tr><th scope=row>V5</th><td>BREAST</td><td>BREAST</td><td>5</td><td>10</td></tr>\n",
       "\t<tr><th scope=row>V6</th><td>CNS   </td><td>CNS   </td><td>8</td><td> 8</td></tr>\n",
       "</tbody>\n",
       "</table>\n"
      ],
      "text/latex": [
       "A data.frame: 6 × 4\n",
       "\\begin{tabular}{r|llll}\n",
       "  & Description & Class & Cluster & Class\\_n\\\\\n",
       "  & <chr> & <chr> & <fct> & <dbl>\\\\\n",
       "\\hline\n",
       "\tV1 & CNS    & CNS    & 8 &  8\\\\\n",
       "\tV2 & CNS    & CNS    & 8 &  8\\\\\n",
       "\tV3 & CNS    & CNS    & 8 &  8\\\\\n",
       "\tV4 & RENAL  & RENAL  & 5 &  3\\\\\n",
       "\tV5 & BREAST & BREAST & 5 & 10\\\\\n",
       "\tV6 & CNS    & CNS    & 8 &  8\\\\\n",
       "\\end{tabular}\n"
      ],
      "text/markdown": [
       "\n",
       "A data.frame: 6 × 4\n",
       "\n",
       "| <!--/--> | Description &lt;chr&gt; | Class &lt;chr&gt; | Cluster &lt;fct&gt; | Class_n &lt;dbl&gt; |\n",
       "|---|---|---|---|---|\n",
       "| V1 | CNS    | CNS    | 8 |  8 |\n",
       "| V2 | CNS    | CNS    | 8 |  8 |\n",
       "| V3 | CNS    | CNS    | 8 |  8 |\n",
       "| V4 | RENAL  | RENAL  | 5 |  3 |\n",
       "| V5 | BREAST | BREAST | 5 | 10 |\n",
       "| V6 | CNS    | CNS    | 8 |  8 |\n",
       "\n"
      ],
      "text/plain": [
       "   Description Class  Cluster Class_n\n",
       "V1 CNS         CNS    8        8     \n",
       "V2 CNS         CNS    8        8     \n",
       "V3 CNS         CNS    8        8     \n",
       "V4 RENAL       RENAL  5        3     \n",
       "V5 BREAST      BREAST 5       10     \n",
       "V6 CNS         CNS    8        8     "
      ]
     },
     "metadata": {},
     "output_type": "display_data"
    }
   ],
   "source": [
    "# KMEANS\n",
    "if (optimal_k == 5) {\n",
    "    level_mapping <- c(\"NSCLC\" = 5, \"CNS\" = 2, \"BREAST\" = 1,\n",
    "                 \"MCF7A-repro\" = 1, \"MCF7D-repro\" = 1, \"RENAL\" = 2, \n",
    "                 \"LEUKEMIA\" = 3, \"K562B-repro\" = 3, \"K562A-repro\" = 3, \n",
    "                 \"MELANOMA\" = 4,  \"COLON\" = 1, \"OVARIAN\" = 5, \"UNKNOWN\" = 2,\n",
    "                 \"PROSTATE\" = 5\n",
    "                  )\n",
    "} else {\n",
    "    level_mapping <- c(\"NSCLC\" = 1, \"CNS\" = 8, \"BREAST\" = 10,\n",
    "                 \"MCF7A-repro\" = 10, \"MCF7D-repro\" = 10, \"RENAL\" = 3, \n",
    "                 \"LEUKEMIA\" = 7, \"K562B-repro\" = 7, \"K562A-repro\" = 7, \n",
    "                 \"MELANOMA\" = 2,  \"COLON\" = 6, \"OVARIAN\" = 4\n",
    "                  )\n",
    "}\n",
    "\n",
    "map_strings_to_numbers <- function(strings) {\n",
    "    return(as.numeric(level_mapping[strings]))\n",
    "}\n",
    "# Map categories with cluster number\n",
    "top_nci60[\"Class_n\"] = lapply(top_nci60[\"Class\"], map_strings_to_numbers)\n",
    "# Table of prediction vs actual classification\n",
    "head(top_nci60)[, c(\"Description\", \"Class\", \"Cluster\", \"Class_n\")]"
   ]
  },
  {
   "cell_type": "code",
   "execution_count": 30,
   "id": "15224bba",
   "metadata": {},
   "outputs": [
    {
     "name": "stdout",
     "output_type": "stream",
     "text": [
      "[1] \"actual\"\n"
     ]
    },
    {
     "data": {
      "text/html": [
       "<style>\n",
       ".list-inline {list-style: none; margin:0; padding: 0}\n",
       ".list-inline>li {display: inline-block}\n",
       ".list-inline>li:not(:last-child)::after {content: \"\\00b7\"; padding: 0 .5ex}\n",
       "</style>\n",
       "<ol class=list-inline><li>8</li><li>8</li><li>8</li><li>3</li><li>10</li><li>8</li><li>8</li><li>10</li><li>1</li><li>1</li><li>3</li><li>3</li><li>3</li><li>3</li><li>3</li><li>3</li><li>3</li><li>10</li><li>1</li><li>3</li><li>4</li><li>2</li><li>4</li><li>4</li><li>4</li><li>4</li><li>4</li><li>1</li><li>1</li><li>1</li><li>7</li><li>7</li><li>7</li><li>7</li><li>7</li><li>7</li><li>7</li><li>7</li><li>6</li><li>6</li><li>6</li><li>6</li><li>6</li><li>6</li><li>6</li><li>10</li><li>10</li><li>10</li><li>10</li><li>1</li><li>1</li><li>1</li><li>2</li><li>10</li><li>10</li><li>2</li><li>2</li><li>2</li><li>2</li><li>2</li><li>2</li></ol>\n",
       "\n",
       "<details>\n",
       "\t<summary style=display:list-item;cursor:pointer>\n",
       "\t\t<strong>Levels</strong>:\n",
       "\t</summary>\n",
       "\t<style>\n",
       "\t.list-inline {list-style: none; margin:0; padding: 0}\n",
       "\t.list-inline>li {display: inline-block}\n",
       "\t.list-inline>li:not(:last-child)::after {content: \"\\00b7\"; padding: 0 .5ex}\n",
       "\t</style>\n",
       "\t<ol class=list-inline><li>'1'</li><li>'2'</li><li>'3'</li><li>'4'</li><li>'6'</li><li>'7'</li><li>'8'</li><li>'10'</li></ol>\n",
       "</details>"
      ],
      "text/latex": [
       "\\begin{enumerate*}\n",
       "\\item 8\n",
       "\\item 8\n",
       "\\item 8\n",
       "\\item 3\n",
       "\\item 10\n",
       "\\item 8\n",
       "\\item 8\n",
       "\\item 10\n",
       "\\item 1\n",
       "\\item 1\n",
       "\\item 3\n",
       "\\item 3\n",
       "\\item 3\n",
       "\\item 3\n",
       "\\item 3\n",
       "\\item 3\n",
       "\\item 3\n",
       "\\item 10\n",
       "\\item 1\n",
       "\\item 3\n",
       "\\item 4\n",
       "\\item 2\n",
       "\\item 4\n",
       "\\item 4\n",
       "\\item 4\n",
       "\\item 4\n",
       "\\item 4\n",
       "\\item 1\n",
       "\\item 1\n",
       "\\item 1\n",
       "\\item 7\n",
       "\\item 7\n",
       "\\item 7\n",
       "\\item 7\n",
       "\\item 7\n",
       "\\item 7\n",
       "\\item 7\n",
       "\\item 7\n",
       "\\item 6\n",
       "\\item 6\n",
       "\\item 6\n",
       "\\item 6\n",
       "\\item 6\n",
       "\\item 6\n",
       "\\item 6\n",
       "\\item 10\n",
       "\\item 10\n",
       "\\item 10\n",
       "\\item 10\n",
       "\\item 1\n",
       "\\item 1\n",
       "\\item 1\n",
       "\\item 2\n",
       "\\item 10\n",
       "\\item 10\n",
       "\\item 2\n",
       "\\item 2\n",
       "\\item 2\n",
       "\\item 2\n",
       "\\item 2\n",
       "\\item 2\n",
       "\\end{enumerate*}\n",
       "\n",
       "\\emph{Levels}: \\begin{enumerate*}\n",
       "\\item '1'\n",
       "\\item '2'\n",
       "\\item '3'\n",
       "\\item '4'\n",
       "\\item '6'\n",
       "\\item '7'\n",
       "\\item '8'\n",
       "\\item '10'\n",
       "\\end{enumerate*}\n"
      ],
      "text/markdown": [
       "1. 8\n",
       "2. 8\n",
       "3. 8\n",
       "4. 3\n",
       "5. 10\n",
       "6. 8\n",
       "7. 8\n",
       "8. 10\n",
       "9. 1\n",
       "10. 1\n",
       "11. 3\n",
       "12. 3\n",
       "13. 3\n",
       "14. 3\n",
       "15. 3\n",
       "16. 3\n",
       "17. 3\n",
       "18. 10\n",
       "19. 1\n",
       "20. 3\n",
       "21. 4\n",
       "22. 2\n",
       "23. 4\n",
       "24. 4\n",
       "25. 4\n",
       "26. 4\n",
       "27. 4\n",
       "28. 1\n",
       "29. 1\n",
       "30. 1\n",
       "31. 7\n",
       "32. 7\n",
       "33. 7\n",
       "34. 7\n",
       "35. 7\n",
       "36. 7\n",
       "37. 7\n",
       "38. 7\n",
       "39. 6\n",
       "40. 6\n",
       "41. 6\n",
       "42. 6\n",
       "43. 6\n",
       "44. 6\n",
       "45. 6\n",
       "46. 10\n",
       "47. 10\n",
       "48. 10\n",
       "49. 10\n",
       "50. 1\n",
       "51. 1\n",
       "52. 1\n",
       "53. 2\n",
       "54. 10\n",
       "55. 10\n",
       "56. 2\n",
       "57. 2\n",
       "58. 2\n",
       "59. 2\n",
       "60. 2\n",
       "61. 2\n",
       "\n",
       "\n",
       "\n",
       "**Levels**: 1. '1'\n",
       "2. '2'\n",
       "3. '3'\n",
       "4. '4'\n",
       "5. '6'\n",
       "6. '7'\n",
       "7. '8'\n",
       "8. '10'\n",
       "\n",
       "\n"
      ],
      "text/plain": [
       " [1] 8  8  8  3  10 8  8  10 1  1  3  3  3  3  3  3  3  10 1  3  4  2  4  4  4 \n",
       "[26] 4  4  1  1  1  7  7  7  7  7  7  7  7  6  6  6  6  6  6  6  10 10 10 10 1 \n",
       "[51] 1  1  2  10 10 2  2  2  2  2  2 \n",
       "Levels: 1 2 3 4 6 7 8 10"
      ]
     },
     "metadata": {},
     "output_type": "display_data"
    },
    {
     "name": "stdout",
     "output_type": "stream",
     "text": [
      "[1] \"predicted\"\n"
     ]
    },
    {
     "data": {
      "text/html": [
       "<style>\n",
       ".list-inline {list-style: none; margin:0; padding: 0}\n",
       ".list-inline>li {display: inline-block}\n",
       ".list-inline>li:not(:last-child)::after {content: \"\\00b7\"; padding: 0 .5ex}\n",
       "</style>\n",
       "<ol class=list-inline><li>8</li><li>8</li><li>8</li><li>5</li><li>5</li><li>8</li><li>8</li><li>8</li><li>8</li><li>8</li><li>3</li><li>3</li><li>3</li><li>3</li><li>3</li><li>3</li><li>3</li><li>1</li><li>3</li><li>1</li><li>1</li><li>1</li><li>4</li><li>4</li><li>4</li><li>4</li><li>4</li><li>1</li><li>4</li><li>1</li><li>9</li><li>7</li><li>7</li><li>7</li><li>7</li><li>7</li><li>7</li><li>7</li><li>9</li><li>6</li><li>6</li><li>6</li><li>6</li><li>6</li><li>6</li><li>10</li><li>10</li><li>10</li><li>10</li><li>4</li><li>9</li><li>9</li><li>2</li><li>2</li><li>2</li><li>2</li><li>2</li><li>2</li><li>2</li><li>2</li><li>2</li></ol>\n",
       "\n",
       "<details>\n",
       "\t<summary style=display:list-item;cursor:pointer>\n",
       "\t\t<strong>Levels</strong>:\n",
       "\t</summary>\n",
       "\t<style>\n",
       "\t.list-inline {list-style: none; margin:0; padding: 0}\n",
       "\t.list-inline>li {display: inline-block}\n",
       "\t.list-inline>li:not(:last-child)::after {content: \"\\00b7\"; padding: 0 .5ex}\n",
       "\t</style>\n",
       "\t<ol class=list-inline><li>'1'</li><li>'10'</li><li>'2'</li><li>'3'</li><li>'4'</li><li>'5'</li><li>'6'</li><li>'7'</li><li>'8'</li><li>'9'</li></ol>\n",
       "</details>"
      ],
      "text/latex": [
       "\\begin{enumerate*}\n",
       "\\item 8\n",
       "\\item 8\n",
       "\\item 8\n",
       "\\item 5\n",
       "\\item 5\n",
       "\\item 8\n",
       "\\item 8\n",
       "\\item 8\n",
       "\\item 8\n",
       "\\item 8\n",
       "\\item 3\n",
       "\\item 3\n",
       "\\item 3\n",
       "\\item 3\n",
       "\\item 3\n",
       "\\item 3\n",
       "\\item 3\n",
       "\\item 1\n",
       "\\item 3\n",
       "\\item 1\n",
       "\\item 1\n",
       "\\item 1\n",
       "\\item 4\n",
       "\\item 4\n",
       "\\item 4\n",
       "\\item 4\n",
       "\\item 4\n",
       "\\item 1\n",
       "\\item 4\n",
       "\\item 1\n",
       "\\item 9\n",
       "\\item 7\n",
       "\\item 7\n",
       "\\item 7\n",
       "\\item 7\n",
       "\\item 7\n",
       "\\item 7\n",
       "\\item 7\n",
       "\\item 9\n",
       "\\item 6\n",
       "\\item 6\n",
       "\\item 6\n",
       "\\item 6\n",
       "\\item 6\n",
       "\\item 6\n",
       "\\item 10\n",
       "\\item 10\n",
       "\\item 10\n",
       "\\item 10\n",
       "\\item 4\n",
       "\\item 9\n",
       "\\item 9\n",
       "\\item 2\n",
       "\\item 2\n",
       "\\item 2\n",
       "\\item 2\n",
       "\\item 2\n",
       "\\item 2\n",
       "\\item 2\n",
       "\\item 2\n",
       "\\item 2\n",
       "\\end{enumerate*}\n",
       "\n",
       "\\emph{Levels}: \\begin{enumerate*}\n",
       "\\item '1'\n",
       "\\item '10'\n",
       "\\item '2'\n",
       "\\item '3'\n",
       "\\item '4'\n",
       "\\item '5'\n",
       "\\item '6'\n",
       "\\item '7'\n",
       "\\item '8'\n",
       "\\item '9'\n",
       "\\end{enumerate*}\n"
      ],
      "text/markdown": [
       "1. 8\n",
       "2. 8\n",
       "3. 8\n",
       "4. 5\n",
       "5. 5\n",
       "6. 8\n",
       "7. 8\n",
       "8. 8\n",
       "9. 8\n",
       "10. 8\n",
       "11. 3\n",
       "12. 3\n",
       "13. 3\n",
       "14. 3\n",
       "15. 3\n",
       "16. 3\n",
       "17. 3\n",
       "18. 1\n",
       "19. 3\n",
       "20. 1\n",
       "21. 1\n",
       "22. 1\n",
       "23. 4\n",
       "24. 4\n",
       "25. 4\n",
       "26. 4\n",
       "27. 4\n",
       "28. 1\n",
       "29. 4\n",
       "30. 1\n",
       "31. 9\n",
       "32. 7\n",
       "33. 7\n",
       "34. 7\n",
       "35. 7\n",
       "36. 7\n",
       "37. 7\n",
       "38. 7\n",
       "39. 9\n",
       "40. 6\n",
       "41. 6\n",
       "42. 6\n",
       "43. 6\n",
       "44. 6\n",
       "45. 6\n",
       "46. 10\n",
       "47. 10\n",
       "48. 10\n",
       "49. 10\n",
       "50. 4\n",
       "51. 9\n",
       "52. 9\n",
       "53. 2\n",
       "54. 2\n",
       "55. 2\n",
       "56. 2\n",
       "57. 2\n",
       "58. 2\n",
       "59. 2\n",
       "60. 2\n",
       "61. 2\n",
       "\n",
       "\n",
       "\n",
       "**Levels**: 1. '1'\n",
       "2. '10'\n",
       "3. '2'\n",
       "4. '3'\n",
       "5. '4'\n",
       "6. '5'\n",
       "7. '6'\n",
       "8. '7'\n",
       "9. '8'\n",
       "10. '9'\n",
       "\n",
       "\n"
      ],
      "text/plain": [
       " [1] 8  8  8  5  5  8  8  8  8  8  3  3  3  3  3  3  3  1  3  1  1  1  4  4  4 \n",
       "[26] 4  4  1  4  1  9  7  7  7  7  7  7  7  9  6  6  6  6  6  6  10 10 10 10 4 \n",
       "[51] 9  9  2  2  2  2  2  2  2  2  2 \n",
       "Levels: 1 10 2 3 4 5 6 7 8 9"
      ]
     },
     "metadata": {},
     "output_type": "display_data"
    }
   ],
   "source": [
    "# Getting a vector of prediction vs actual classification\n",
    "actual = as.factor(as.vector(unlist(top_nci60[\"Class_n\"])))\n",
    "predicted <- factor(as.vector(unlist(top_nci60[\"Cluster\"])))\n",
    "\n",
    "print(\"actual\")\n",
    "actual\n",
    "print(\"predicted\")\n",
    "predicted"
   ]
  },
  {
   "cell_type": "code",
   "execution_count": 31,
   "id": "01ac8a81",
   "metadata": {},
   "outputs": [
    {
     "name": "stdout",
     "output_type": "stream",
     "text": [
      "[1] \"Sensitivity: 22.22%\"\n"
     ]
    }
   ],
   "source": [
    "sens <- MLmetrics::Sensitivity(y_pred = predicted, y_true = actual)\n",
    "sens = format(round(sens*100, 2), nsmall = 2)\n",
    "print(paste0(\"Sensitivity: \", sens, \"%\"))"
   ]
  },
  {
   "cell_type": "markdown",
   "id": "7cbef73d",
   "metadata": {},
   "source": [
    "# CER <a class=\"anchor\" id=\"cer\"></a>\n",
    "To assess the overall accuracy of our clustering, we compute the Classification Error Rate (CER) and compare it with the gold standard classification. CER represents the proportion of misclassified instances, thus providing a clear measure of the clustering performance in assigning individuals to the correct clusters."
   ]
  },
  {
   "cell_type": "code",
   "execution_count": 32,
   "id": "046b1d20",
   "metadata": {},
   "outputs": [
    {
     "name": "stdout",
     "output_type": "stream",
     "text": [
      "[1] \"CER: 9.23%\"\n"
     ]
    }
   ],
   "source": [
    "cer <- CER(predicted, actual)\n",
    "cer = format(round(cer*100, 2), nsmall = 2)\n",
    "print(paste0(\"CER: \", cer, \"%\"))"
   ]
  }
 ],
 "metadata": {
  "kernelspec": {
   "display_name": "R",
   "language": "R",
   "name": "ir"
  },
  "language_info": {
   "codemirror_mode": "r",
   "file_extension": ".r",
   "mimetype": "text/x-r-source",
   "name": "R",
   "pygments_lexer": "r",
   "version": "4.4.1"
  }
 },
 "nbformat": 4,
 "nbformat_minor": 5
}
