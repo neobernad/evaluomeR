{
 "cells": [
  {
   "cell_type": "markdown",
   "id": "285a2f02",
   "metadata": {},
   "source": [
    " # GOLUB use case"
   ]
  },
  {
   "cell_type": "code",
   "execution_count": 1,
   "id": "5b925569",
   "metadata": {
    "scrolled": true
   },
   "outputs": [
    {
     "name": "stderr",
     "output_type": "stream",
     "text": [
      "Loading required package: SummarizedExperiment\n",
      "Loading required package: GenomicRanges\n",
      "Loading required package: stats4\n",
      "Loading required package: BiocGenerics\n",
      "Loading required package: parallel\n",
      "\n",
      "Attaching package: 'BiocGenerics'\n",
      "\n",
      "The following objects are masked from 'package:parallel':\n",
      "\n",
      "    clusterApply, clusterApplyLB, clusterCall, clusterEvalQ,\n",
      "    clusterExport, clusterMap, parApply, parCapply, parLapply,\n",
      "    parLapplyLB, parRapply, parSapply, parSapplyLB\n",
      "\n",
      "The following objects are masked from 'package:stats':\n",
      "\n",
      "    IQR, mad, sd, var, xtabs\n",
      "\n",
      "The following objects are masked from 'package:base':\n",
      "\n",
      "    anyDuplicated, append, as.data.frame, basename, cbind, colnames,\n",
      "    dirname, do.call, duplicated, eval, evalq, Filter, Find, get, grep,\n",
      "    grepl, intersect, is.unsorted, lapply, Map, mapply, match, mget,\n",
      "    order, paste, pmax, pmax.int, pmin, pmin.int, Position, rank,\n",
      "    rbind, Reduce, rownames, sapply, setdiff, sort, table, tapply,\n",
      "    union, unique, unsplit, which, which.max, which.min\n",
      "\n",
      "Loading required package: S4Vectors\n",
      "\n",
      "Attaching package: 'S4Vectors'\n",
      "\n",
      "The following object is masked from 'package:base':\n",
      "\n",
      "    expand.grid\n",
      "\n",
      "Loading required package: IRanges\n",
      "\n",
      "Attaching package: 'IRanges'\n",
      "\n",
      "The following object is masked from 'package:grDevices':\n",
      "\n",
      "    windows\n",
      "\n",
      "Loading required package: GenomeInfoDb\n",
      "Loading required package: Biobase\n",
      "Welcome to Bioconductor\n",
      "\n",
      "    Vignettes contain introductory material; view with\n",
      "    'browseVignettes()'. To cite Bioconductor, see\n",
      "    'citation(\"Biobase\")', and for packages 'citation(\"pkgname\")'.\n",
      "\n",
      "Loading required package: DelayedArray\n",
      "Loading required package: matrixStats\n",
      "\n",
      "Attaching package: 'matrixStats'\n",
      "\n",
      "The following objects are masked from 'package:Biobase':\n",
      "\n",
      "    anyMissing, rowMedians\n",
      "\n",
      "Loading required package: BiocParallel\n",
      "\n",
      "Attaching package: 'DelayedArray'\n",
      "\n",
      "The following objects are masked from 'package:matrixStats':\n",
      "\n",
      "    colMaxs, colMins, colRanges, rowMaxs, rowMins, rowRanges\n",
      "\n",
      "The following objects are masked from 'package:base':\n",
      "\n",
      "    aperm, apply, rowsum\n",
      "\n",
      "Loading required package: MultiAssayExperiment\n",
      "Loading required package: dplyr\n",
      "\n",
      "Attaching package: 'dplyr'\n",
      "\n",
      "The following object is masked from 'package:matrixStats':\n",
      "\n",
      "    count\n",
      "\n",
      "The following object is masked from 'package:Biobase':\n",
      "\n",
      "    combine\n",
      "\n",
      "The following objects are masked from 'package:GenomicRanges':\n",
      "\n",
      "    intersect, setdiff, union\n",
      "\n",
      "The following object is masked from 'package:GenomeInfoDb':\n",
      "\n",
      "    intersect\n",
      "\n",
      "The following objects are masked from 'package:IRanges':\n",
      "\n",
      "    collapse, desc, intersect, setdiff, slice, union\n",
      "\n",
      "The following objects are masked from 'package:S4Vectors':\n",
      "\n",
      "    first, intersect, rename, setdiff, setequal, union\n",
      "\n",
      "The following objects are masked from 'package:BiocGenerics':\n",
      "\n",
      "    combine, intersect, setdiff, union\n",
      "\n",
      "The following objects are masked from 'package:stats':\n",
      "\n",
      "    filter, lag\n",
      "\n",
      "The following objects are masked from 'package:base':\n",
      "\n",
      "    intersect, setdiff, setequal, union\n",
      "\n",
      "Loading required package: cluster\n",
      "Loading required package: fpc\n",
      "Loading required package: randomForest\n",
      "Warning message:\n",
      "\"package 'randomForest' was built under R version 3.6.3\"randomForest 4.6-14\n",
      "Type rfNews() to see new features/changes/bug fixes.\n",
      "\n",
      "Attaching package: 'randomForest'\n",
      "\n",
      "The following object is masked from 'package:dplyr':\n",
      "\n",
      "    combine\n",
      "\n",
      "The following object is masked from 'package:Biobase':\n",
      "\n",
      "    combine\n",
      "\n",
      "The following object is masked from 'package:BiocGenerics':\n",
      "\n",
      "    combine\n",
      "\n",
      "Loading required package: flexmix\n",
      "Loading required package: lattice\n",
      "Loading required package: RSKC\n",
      "Warning message:\n",
      "\"package 'RSKC' was built under R version 3.6.3\"Loading required package: flexclust\n",
      "Loading required package: grid\n",
      "Loading required package: modeltools\n",
      "Loading required package: sparcl\n",
      "\n",
      "Attaching package: 'cancerclass'\n",
      "\n",
      "The following objects are masked from 'package:flexclust':\n",
      "\n",
      "    plot, predict, summary\n",
      "\n",
      "The following object is masked from 'package:modeltools':\n",
      "\n",
      "    fit\n",
      "\n",
      "The following objects are masked from 'package:flexmix':\n",
      "\n",
      "    plot, predict, summary\n",
      "\n",
      "The following object is masked from 'package:dplyr':\n",
      "\n",
      "    filter\n",
      "\n",
      "The following object is masked from 'package:DelayedArray':\n",
      "\n",
      "    summary\n",
      "\n",
      "The following object is masked from 'package:GenomicRanges':\n",
      "\n",
      "    summary\n",
      "\n",
      "The following object is masked from 'package:GenomeInfoDb':\n",
      "\n",
      "    summary\n",
      "\n",
      "The following object is masked from 'package:IRanges':\n",
      "\n",
      "    summary\n",
      "\n",
      "The following object is masked from 'package:S4Vectors':\n",
      "\n",
      "    summary\n",
      "\n",
      "The following objects are masked from 'package:stats4':\n",
      "\n",
      "    plot, summary\n",
      "\n",
      "The following objects are masked from 'package:stats':\n",
      "\n",
      "    filter, predict\n",
      "\n",
      "The following object is masked from 'package:graphics':\n",
      "\n",
      "    plot\n",
      "\n",
      "The following object is masked from 'package:base':\n",
      "\n",
      "    summary\n",
      "\n",
      "Loading required package: ggplot2\n",
      "\n",
      "Attaching package: 'ggplot2'\n",
      "\n",
      "The following object is masked from 'package:randomForest':\n",
      "\n",
      "    margin\n",
      "\n",
      "\n",
      "Attaching package: 'MLmetrics'\n",
      "\n",
      "The following objects are masked from 'package:caret':\n",
      "\n",
      "    MAE, RMSE\n",
      "\n",
      "The following object is masked from 'package:RSKC':\n",
      "\n",
      "    Sensitivity\n",
      "\n",
      "The following object is masked from 'package:base':\n",
      "\n",
      "    Recall\n",
      "\n"
     ]
    }
   ],
   "source": [
    "library(\"binom\") \n",
    "library(\"evaluomeR\")\n",
    "library(\"cancerclass\")\n",
    "library(\"dplyr\")\n",
    "library(\"caret\")\n",
    "library(\"MLmetrics\")\n",
    "library(\"ggplot2\")\n",
    "library(\"ggrepel\")\n",
    "library(\"reshape2\")\n",
    "\n",
    "options(scipen=10)"
   ]
  },
  {
   "cell_type": "code",
   "execution_count": 2,
   "id": "ce9016fb",
   "metadata": {},
   "outputs": [
    {
     "data": {
      "text/plain": [
       "[1] '1.7.11'"
      ]
     },
     "metadata": {},
     "output_type": "display_data"
    }
   ],
   "source": [
    "packageVersion(\"evaluomeR\")"
   ]
  },
  {
   "cell_type": "markdown",
   "id": "58895eee",
   "metadata": {},
   "source": [
    "# Table of contents\n",
    "* [Dataset](#dataset)\n",
    "    * [Removing highly correlated metrics](#correlated)\n",
    "    * [Top 100](#top)\n",
    "* [evaluomeR - optimal $k$ analysis](#evaluomeR)\n",
    "    * [Stability plotting](#evaluomeR_stab_plot)\n",
    "    * [Quality plotting](#evaluomeR_qual_plot)\n",
    "* [PCA](#pca)\n",
    "* [Sensitivity](#sensitivity)\n",
    "* [CER](#cer)"
   ]
  },
  {
   "cell_type": "markdown",
   "id": "08d0e886",
   "metadata": {},
   "source": [
    "# Dataset <a class=\"anchor\" id=\"dataset\"></a>"
   ]
  },
  {
   "cell_type": "code",
   "execution_count": 36,
   "id": "0a1bb939",
   "metadata": {},
   "outputs": [
    {
     "data": {
      "text/html": [
       "<table>\n",
       "<thead><tr><th scope=col>Case</th><th scope=col>AFFX.HUMRGE.M10098_5_at</th><th scope=col>AFFX.HUMRGE.M10098_M_at</th><th scope=col>AFFX.HUMRGE.M10098_3_at</th><th scope=col>AFFX.M27830_5_at</th><th scope=col>D13639_at</th><th scope=col>D83735_at</th><th scope=col>D83920_at</th><th scope=col>D87433_at</th><th scope=col>D88270_at</th><th scope=col>...</th><th scope=col>X65965_s_at</th><th scope=col>X76223_s_at</th><th scope=col>AF000424_s_at</th><th scope=col>M21305_at</th><th scope=col>U57341_at</th><th scope=col>HG3576.HT3779_f_at</th><th scope=col>U01317_cds4_at</th><th scope=col>M15395_at</th><th scope=col>M34516_at</th><th scope=col>Class</th></tr></thead>\n",
       "<tbody>\n",
       "\t<tr><td>B1     </td><td>4.16250</td><td>3.98847</td><td>3.93090</td><td>3.82930</td><td>3.67274</td><td>2.00000</td><td>2.00000</td><td>2.0000 </td><td>3.29336</td><td>...    </td><td>2.83059</td><td>2.00000</td><td>3.49914</td><td>2.91960</td><td>2.30750</td><td>3.92536</td><td>2.07555</td><td>2.23553</td><td>3.82595</td><td>B      </td></tr>\n",
       "\t<tr><td>T1     </td><td>2.78888</td><td>2.06070</td><td>3.18127</td><td>3.34537</td><td>3.52724</td><td>3.04218</td><td>3.35545</td><td>2.0000 </td><td>2.29667</td><td>...    </td><td>3.40926</td><td>3.96624</td><td>3.71533</td><td>2.00000</td><td>2.69810</td><td>3.25479</td><td>2.00000</td><td>3.19535</td><td>3.46195</td><td>T      </td></tr>\n",
       "\t<tr><td>T2     </td><td>3.75351</td><td>3.51481</td><td>3.56443</td><td>3.52179</td><td>2.00000</td><td>2.89321</td><td>2.31175</td><td>2.0000 </td><td>2.76268</td><td>...    </td><td>2.52763</td><td>4.20412</td><td>2.85003</td><td>3.38364</td><td>2.64345</td><td>2.00000</td><td>2.23553</td><td>2.50379</td><td>2.00000</td><td>T      </td></tr>\n",
       "\t<tr><td>B2     </td><td>3.68574</td><td>3.36040</td><td>3.40976</td><td>3.48544</td><td>2.00432</td><td>2.00000</td><td>2.00000</td><td>2.0000 </td><td>3.68851</td><td>...    </td><td>2.43457</td><td>2.00000</td><td>2.00000</td><td>2.79029</td><td>2.98632</td><td>3.42911</td><td>2.59660</td><td>2.37658</td><td>3.14364</td><td>B      </td></tr>\n",
       "\t<tr><td>B3     </td><td>3.10857</td><td>3.43632</td><td>2.49969</td><td>3.05308</td><td>3.10585</td><td>2.00000</td><td>2.30750</td><td>2.4014 </td><td>3.52930</td><td>...    </td><td>2.56820</td><td>2.00000</td><td>2.73640</td><td>2.45637</td><td>2.22272</td><td>3.37014</td><td>2.09342</td><td>3.03383</td><td>3.36399</td><td>B      </td></tr>\n",
       "\t<tr><td>T3     </td><td>3.61784</td><td>3.43823</td><td>3.38093</td><td>3.59173</td><td>2.00000</td><td>2.00000</td><td>3.18639</td><td>2.0000 </td><td>2.00000</td><td>...    </td><td>2.50651</td><td>4.13117</td><td>3.25888</td><td>2.00000</td><td>2.07918</td><td>2.00000</td><td>2.00000</td><td>3.01536</td><td>2.00000</td><td>T      </td></tr>\n",
       "</tbody>\n",
       "</table>\n"
      ],
      "text/latex": [
       "\\begin{tabular}{r|llllllllllllllllllllllllllllllllllllllllllllllllllllllllllllllllllllllllllllllllllllllllllllllllllllll}\n",
       " Case & AFFX.HUMRGE.M10098\\_5\\_at & AFFX.HUMRGE.M10098\\_M\\_at & AFFX.HUMRGE.M10098\\_3\\_at & AFFX.M27830\\_5\\_at & D13639\\_at & D83735\\_at & D83920\\_at & D87433\\_at & D88270\\_at & ... & X65965\\_s\\_at & X76223\\_s\\_at & AF000424\\_s\\_at & M21305\\_at & U57341\\_at & HG3576.HT3779\\_f\\_at & U01317\\_cds4\\_at & M15395\\_at & M34516\\_at & Class\\\\\n",
       "\\hline\n",
       "\t B1      & 4.16250 & 3.98847 & 3.93090 & 3.82930 & 3.67274 & 2.00000 & 2.00000 & 2.0000  & 3.29336 & ...     & 2.83059 & 2.00000 & 3.49914 & 2.91960 & 2.30750 & 3.92536 & 2.07555 & 2.23553 & 3.82595 & B      \\\\\n",
       "\t T1      & 2.78888 & 2.06070 & 3.18127 & 3.34537 & 3.52724 & 3.04218 & 3.35545 & 2.0000  & 2.29667 & ...     & 3.40926 & 3.96624 & 3.71533 & 2.00000 & 2.69810 & 3.25479 & 2.00000 & 3.19535 & 3.46195 & T      \\\\\n",
       "\t T2      & 3.75351 & 3.51481 & 3.56443 & 3.52179 & 2.00000 & 2.89321 & 2.31175 & 2.0000  & 2.76268 & ...     & 2.52763 & 4.20412 & 2.85003 & 3.38364 & 2.64345 & 2.00000 & 2.23553 & 2.50379 & 2.00000 & T      \\\\\n",
       "\t B2      & 3.68574 & 3.36040 & 3.40976 & 3.48544 & 2.00432 & 2.00000 & 2.00000 & 2.0000  & 3.68851 & ...     & 2.43457 & 2.00000 & 2.00000 & 2.79029 & 2.98632 & 3.42911 & 2.59660 & 2.37658 & 3.14364 & B      \\\\\n",
       "\t B3      & 3.10857 & 3.43632 & 2.49969 & 3.05308 & 3.10585 & 2.00000 & 2.30750 & 2.4014  & 3.52930 & ...     & 2.56820 & 2.00000 & 2.73640 & 2.45637 & 2.22272 & 3.37014 & 2.09342 & 3.03383 & 3.36399 & B      \\\\\n",
       "\t T3      & 3.61784 & 3.43823 & 3.38093 & 3.59173 & 2.00000 & 2.00000 & 3.18639 & 2.0000  & 2.00000 & ...     & 2.50651 & 4.13117 & 3.25888 & 2.00000 & 2.07918 & 2.00000 & 2.00000 & 3.01536 & 2.00000 & T      \\\\\n",
       "\\end{tabular}\n"
      ],
      "text/markdown": [
       "\n",
       "| Case | AFFX.HUMRGE.M10098_5_at | AFFX.HUMRGE.M10098_M_at | AFFX.HUMRGE.M10098_3_at | AFFX.M27830_5_at | D13639_at | D83735_at | D83920_at | D87433_at | D88270_at | ... | X65965_s_at | X76223_s_at | AF000424_s_at | M21305_at | U57341_at | HG3576.HT3779_f_at | U01317_cds4_at | M15395_at | M34516_at | Class |\n",
       "|---|---|---|---|---|---|---|---|---|---|---|---|---|---|---|---|---|---|---|---|---|\n",
       "| B1      | 4.16250 | 3.98847 | 3.93090 | 3.82930 | 3.67274 | 2.00000 | 2.00000 | 2.0000  | 3.29336 | ...     | 2.83059 | 2.00000 | 3.49914 | 2.91960 | 2.30750 | 3.92536 | 2.07555 | 2.23553 | 3.82595 | B       |\n",
       "| T1      | 2.78888 | 2.06070 | 3.18127 | 3.34537 | 3.52724 | 3.04218 | 3.35545 | 2.0000  | 2.29667 | ...     | 3.40926 | 3.96624 | 3.71533 | 2.00000 | 2.69810 | 3.25479 | 2.00000 | 3.19535 | 3.46195 | T       |\n",
       "| T2      | 3.75351 | 3.51481 | 3.56443 | 3.52179 | 2.00000 | 2.89321 | 2.31175 | 2.0000  | 2.76268 | ...     | 2.52763 | 4.20412 | 2.85003 | 3.38364 | 2.64345 | 2.00000 | 2.23553 | 2.50379 | 2.00000 | T       |\n",
       "| B2      | 3.68574 | 3.36040 | 3.40976 | 3.48544 | 2.00432 | 2.00000 | 2.00000 | 2.0000  | 3.68851 | ...     | 2.43457 | 2.00000 | 2.00000 | 2.79029 | 2.98632 | 3.42911 | 2.59660 | 2.37658 | 3.14364 | B       |\n",
       "| B3      | 3.10857 | 3.43632 | 2.49969 | 3.05308 | 3.10585 | 2.00000 | 2.30750 | 2.4014  | 3.52930 | ...     | 2.56820 | 2.00000 | 2.73640 | 2.45637 | 2.22272 | 3.37014 | 2.09342 | 3.03383 | 3.36399 | B       |\n",
       "| T3      | 3.61784 | 3.43823 | 3.38093 | 3.59173 | 2.00000 | 2.00000 | 3.18639 | 2.0000  | 2.00000 | ...     | 2.50651 | 4.13117 | 3.25888 | 2.00000 | 2.07918 | 2.00000 | 2.00000 | 3.01536 | 2.00000 | T       |\n",
       "\n"
      ],
      "text/plain": [
       "  Case AFFX.HUMRGE.M10098_5_at AFFX.HUMRGE.M10098_M_at AFFX.HUMRGE.M10098_3_at\n",
       "1 B1   4.16250                 3.98847                 3.93090                \n",
       "2 T1   2.78888                 2.06070                 3.18127                \n",
       "3 T2   3.75351                 3.51481                 3.56443                \n",
       "4 B2   3.68574                 3.36040                 3.40976                \n",
       "5 B3   3.10857                 3.43632                 2.49969                \n",
       "6 T3   3.61784                 3.43823                 3.38093                \n",
       "  AFFX.M27830_5_at D13639_at D83735_at D83920_at D87433_at D88270_at ...\n",
       "1 3.82930          3.67274   2.00000   2.00000   2.0000    3.29336   ...\n",
       "2 3.34537          3.52724   3.04218   3.35545   2.0000    2.29667   ...\n",
       "3 3.52179          2.00000   2.89321   2.31175   2.0000    2.76268   ...\n",
       "4 3.48544          2.00432   2.00000   2.00000   2.0000    3.68851   ...\n",
       "5 3.05308          3.10585   2.00000   2.30750   2.4014    3.52930   ...\n",
       "6 3.59173          2.00000   2.00000   3.18639   2.0000    2.00000   ...\n",
       "  X65965_s_at X76223_s_at AF000424_s_at M21305_at U57341_at HG3576.HT3779_f_at\n",
       "1 2.83059     2.00000     3.49914       2.91960   2.30750   3.92536           \n",
       "2 3.40926     3.96624     3.71533       2.00000   2.69810   3.25479           \n",
       "3 2.52763     4.20412     2.85003       3.38364   2.64345   2.00000           \n",
       "4 2.43457     2.00000     2.00000       2.79029   2.98632   3.42911           \n",
       "5 2.56820     2.00000     2.73640       2.45637   2.22272   3.37014           \n",
       "6 2.50651     4.13117     3.25888       2.00000   2.07918   2.00000           \n",
       "  U01317_cds4_at M15395_at M34516_at Class\n",
       "1 2.07555        2.23553   3.82595   B    \n",
       "2 2.00000        3.19535   3.46195   T    \n",
       "3 2.23553        2.50379   2.00000   T    \n",
       "4 2.59660        2.37658   3.14364   B    \n",
       "5 2.09342        3.03383   3.36399   B    \n",
       "6 2.00000        3.01536   2.00000   T    "
      ]
     },
     "metadata": {},
     "output_type": "display_data"
    }
   ],
   "source": [
    "load(\"data/leukemia.RData\")\n",
    "golub = as.data.frame(leukemia)\n",
    "head(golub)"
   ]
  },
  {
   "cell_type": "markdown",
   "id": "8a6ee24b",
   "metadata": {},
   "source": [
    "Three types of classes within the dataset: **B**, **T** and **M**."
   ]
  },
  {
   "cell_type": "code",
   "execution_count": 37,
   "id": "e3d9ffb3",
   "metadata": {},
   "outputs": [
    {
     "data": {
      "text/html": [
       "<table>\n",
       "<thead><tr><th></th><th scope=col>Class</th></tr></thead>\n",
       "<tbody>\n",
       "\t<tr><th scope=row>1</th><td>B</td></tr>\n",
       "\t<tr><th scope=row>2</th><td>T</td></tr>\n",
       "\t<tr><th scope=row>28</th><td>M</td></tr>\n",
       "</tbody>\n",
       "</table>\n"
      ],
      "text/latex": [
       "\\begin{tabular}{r|l}\n",
       "  & Class\\\\\n",
       "\\hline\n",
       "\t1 & B\\\\\n",
       "\t2 & T\\\\\n",
       "\t28 & M\\\\\n",
       "\\end{tabular}\n"
      ],
      "text/markdown": [
       "\n",
       "| <!--/--> | Class |\n",
       "|---|---|\n",
       "| 1 | B |\n",
       "| 2 | T |\n",
       "| 28 | M |\n",
       "\n"
      ],
      "text/plain": [
       "   Class\n",
       "1  B    \n",
       "2  T    \n",
       "28 M    "
      ]
     },
     "metadata": {},
     "output_type": "display_data"
    }
   ],
   "source": [
    "unique(golub[\"Class\"])"
   ]
  },
  {
   "cell_type": "markdown",
   "id": "916bfe1c",
   "metadata": {},
   "source": [
    "*Further information regarding GOLUB in [cancerclass](https://rdrr.io/bioc/cancerclass/man/GOLUB.html) package.*"
   ]
  },
  {
   "cell_type": "markdown",
   "id": "15b10987",
   "metadata": {},
   "source": [
    "Here, we prepare the GOLUB dataset for the analysis, in order to do so, we remove non-numeric columns:"
   ]
  },
  {
   "cell_type": "code",
   "execution_count": 38,
   "id": "ee296298",
   "metadata": {},
   "outputs": [],
   "source": [
    "golub[\"Class\"] = NULL # leukemia\n",
    "golub[\"sample\"] = NULL\n",
    "golub[\"type\"] = NULL\n",
    "golub[\"FAB\"] = NULL\n",
    "golub[\"gender\"] = NULL"
   ]
  },
  {
   "cell_type": "code",
   "execution_count": 39,
   "id": "98546ca9",
   "metadata": {},
   "outputs": [
    {
     "data": {
      "text/html": [
       "<table>\n",
       "<thead><tr><th scope=col>Case</th><th scope=col>AFFX.HUMRGE.M10098_5_at</th><th scope=col>AFFX.HUMRGE.M10098_M_at</th><th scope=col>AFFX.HUMRGE.M10098_3_at</th><th scope=col>AFFX.M27830_5_at</th><th scope=col>D13639_at</th><th scope=col>D83735_at</th><th scope=col>D83920_at</th><th scope=col>D87433_at</th><th scope=col>D88270_at</th><th scope=col>...</th><th scope=col>X00437_s_at</th><th scope=col>X65965_s_at</th><th scope=col>X76223_s_at</th><th scope=col>AF000424_s_at</th><th scope=col>M21305_at</th><th scope=col>U57341_at</th><th scope=col>HG3576.HT3779_f_at</th><th scope=col>U01317_cds4_at</th><th scope=col>M15395_at</th><th scope=col>M34516_at</th></tr></thead>\n",
       "<tbody>\n",
       "\t<tr><td>B1     </td><td>4.16250</td><td>3.98847</td><td>3.93090</td><td>3.82930</td><td>3.67274</td><td>2.00000</td><td>2.00000</td><td>2.0000 </td><td>3.29336</td><td>...    </td><td>2.18469</td><td>2.83059</td><td>2.00000</td><td>3.49914</td><td>2.91960</td><td>2.30750</td><td>3.92536</td><td>2.07555</td><td>2.23553</td><td>3.82595</td></tr>\n",
       "\t<tr><td>T1     </td><td>2.78888</td><td>2.06070</td><td>3.18127</td><td>3.34537</td><td>3.52724</td><td>3.04218</td><td>3.35545</td><td>2.0000 </td><td>2.29667</td><td>...    </td><td>4.10690</td><td>3.40926</td><td>3.96624</td><td>3.71533</td><td>2.00000</td><td>2.69810</td><td>3.25479</td><td>2.00000</td><td>3.19535</td><td>3.46195</td></tr>\n",
       "\t<tr><td>T2     </td><td>3.75351</td><td>3.51481</td><td>3.56443</td><td>3.52179</td><td>2.00000</td><td>2.89321</td><td>2.31175</td><td>2.0000 </td><td>2.76268</td><td>...    </td><td>2.00000</td><td>2.52763</td><td>4.20412</td><td>2.85003</td><td>3.38364</td><td>2.64345</td><td>2.00000</td><td>2.23553</td><td>2.50379</td><td>2.00000</td></tr>\n",
       "\t<tr><td>B2     </td><td>3.68574</td><td>3.36040</td><td>3.40976</td><td>3.48544</td><td>2.00432</td><td>2.00000</td><td>2.00000</td><td>2.0000 </td><td>3.68851</td><td>...    </td><td>2.00000</td><td>2.43457</td><td>2.00000</td><td>2.00000</td><td>2.79029</td><td>2.98632</td><td>3.42911</td><td>2.59660</td><td>2.37658</td><td>3.14364</td></tr>\n",
       "\t<tr><td>B3     </td><td>3.10857</td><td>3.43632</td><td>2.49969</td><td>3.05308</td><td>3.10585</td><td>2.00000</td><td>2.30750</td><td>2.4014 </td><td>3.52930</td><td>...    </td><td>2.00000</td><td>2.56820</td><td>2.00000</td><td>2.73640</td><td>2.45637</td><td>2.22272</td><td>3.37014</td><td>2.09342</td><td>3.03383</td><td>3.36399</td></tr>\n",
       "\t<tr><td>T3     </td><td>3.61784</td><td>3.43823</td><td>3.38093</td><td>3.59173</td><td>2.00000</td><td>2.00000</td><td>3.18639</td><td>2.0000 </td><td>2.00000</td><td>...    </td><td>4.20412</td><td>2.50651</td><td>4.13117</td><td>3.25888</td><td>2.00000</td><td>2.07918</td><td>2.00000</td><td>2.00000</td><td>3.01536</td><td>2.00000</td></tr>\n",
       "</tbody>\n",
       "</table>\n"
      ],
      "text/latex": [
       "\\begin{tabular}{r|lllllllllllllllllllllllllllllllllllllllllllllllllllllllllllllllllllllllllllllllllllllllllllllllllllll}\n",
       " Case & AFFX.HUMRGE.M10098\\_5\\_at & AFFX.HUMRGE.M10098\\_M\\_at & AFFX.HUMRGE.M10098\\_3\\_at & AFFX.M27830\\_5\\_at & D13639\\_at & D83735\\_at & D83920\\_at & D87433\\_at & D88270\\_at & ... & X00437\\_s\\_at & X65965\\_s\\_at & X76223\\_s\\_at & AF000424\\_s\\_at & M21305\\_at & U57341\\_at & HG3576.HT3779\\_f\\_at & U01317\\_cds4\\_at & M15395\\_at & M34516\\_at\\\\\n",
       "\\hline\n",
       "\t B1      & 4.16250 & 3.98847 & 3.93090 & 3.82930 & 3.67274 & 2.00000 & 2.00000 & 2.0000  & 3.29336 & ...     & 2.18469 & 2.83059 & 2.00000 & 3.49914 & 2.91960 & 2.30750 & 3.92536 & 2.07555 & 2.23553 & 3.82595\\\\\n",
       "\t T1      & 2.78888 & 2.06070 & 3.18127 & 3.34537 & 3.52724 & 3.04218 & 3.35545 & 2.0000  & 2.29667 & ...     & 4.10690 & 3.40926 & 3.96624 & 3.71533 & 2.00000 & 2.69810 & 3.25479 & 2.00000 & 3.19535 & 3.46195\\\\\n",
       "\t T2      & 3.75351 & 3.51481 & 3.56443 & 3.52179 & 2.00000 & 2.89321 & 2.31175 & 2.0000  & 2.76268 & ...     & 2.00000 & 2.52763 & 4.20412 & 2.85003 & 3.38364 & 2.64345 & 2.00000 & 2.23553 & 2.50379 & 2.00000\\\\\n",
       "\t B2      & 3.68574 & 3.36040 & 3.40976 & 3.48544 & 2.00432 & 2.00000 & 2.00000 & 2.0000  & 3.68851 & ...     & 2.00000 & 2.43457 & 2.00000 & 2.00000 & 2.79029 & 2.98632 & 3.42911 & 2.59660 & 2.37658 & 3.14364\\\\\n",
       "\t B3      & 3.10857 & 3.43632 & 2.49969 & 3.05308 & 3.10585 & 2.00000 & 2.30750 & 2.4014  & 3.52930 & ...     & 2.00000 & 2.56820 & 2.00000 & 2.73640 & 2.45637 & 2.22272 & 3.37014 & 2.09342 & 3.03383 & 3.36399\\\\\n",
       "\t T3      & 3.61784 & 3.43823 & 3.38093 & 3.59173 & 2.00000 & 2.00000 & 3.18639 & 2.0000  & 2.00000 & ...     & 4.20412 & 2.50651 & 4.13117 & 3.25888 & 2.00000 & 2.07918 & 2.00000 & 2.00000 & 3.01536 & 2.00000\\\\\n",
       "\\end{tabular}\n"
      ],
      "text/markdown": [
       "\n",
       "| Case | AFFX.HUMRGE.M10098_5_at | AFFX.HUMRGE.M10098_M_at | AFFX.HUMRGE.M10098_3_at | AFFX.M27830_5_at | D13639_at | D83735_at | D83920_at | D87433_at | D88270_at | ... | X00437_s_at | X65965_s_at | X76223_s_at | AF000424_s_at | M21305_at | U57341_at | HG3576.HT3779_f_at | U01317_cds4_at | M15395_at | M34516_at |\n",
       "|---|---|---|---|---|---|---|---|---|---|---|---|---|---|---|---|---|---|---|---|---|\n",
       "| B1      | 4.16250 | 3.98847 | 3.93090 | 3.82930 | 3.67274 | 2.00000 | 2.00000 | 2.0000  | 3.29336 | ...     | 2.18469 | 2.83059 | 2.00000 | 3.49914 | 2.91960 | 2.30750 | 3.92536 | 2.07555 | 2.23553 | 3.82595 |\n",
       "| T1      | 2.78888 | 2.06070 | 3.18127 | 3.34537 | 3.52724 | 3.04218 | 3.35545 | 2.0000  | 2.29667 | ...     | 4.10690 | 3.40926 | 3.96624 | 3.71533 | 2.00000 | 2.69810 | 3.25479 | 2.00000 | 3.19535 | 3.46195 |\n",
       "| T2      | 3.75351 | 3.51481 | 3.56443 | 3.52179 | 2.00000 | 2.89321 | 2.31175 | 2.0000  | 2.76268 | ...     | 2.00000 | 2.52763 | 4.20412 | 2.85003 | 3.38364 | 2.64345 | 2.00000 | 2.23553 | 2.50379 | 2.00000 |\n",
       "| B2      | 3.68574 | 3.36040 | 3.40976 | 3.48544 | 2.00432 | 2.00000 | 2.00000 | 2.0000  | 3.68851 | ...     | 2.00000 | 2.43457 | 2.00000 | 2.00000 | 2.79029 | 2.98632 | 3.42911 | 2.59660 | 2.37658 | 3.14364 |\n",
       "| B3      | 3.10857 | 3.43632 | 2.49969 | 3.05308 | 3.10585 | 2.00000 | 2.30750 | 2.4014  | 3.52930 | ...     | 2.00000 | 2.56820 | 2.00000 | 2.73640 | 2.45637 | 2.22272 | 3.37014 | 2.09342 | 3.03383 | 3.36399 |\n",
       "| T3      | 3.61784 | 3.43823 | 3.38093 | 3.59173 | 2.00000 | 2.00000 | 3.18639 | 2.0000  | 2.00000 | ...     | 4.20412 | 2.50651 | 4.13117 | 3.25888 | 2.00000 | 2.07918 | 2.00000 | 2.00000 | 3.01536 | 2.00000 |\n",
       "\n"
      ],
      "text/plain": [
       "  Case AFFX.HUMRGE.M10098_5_at AFFX.HUMRGE.M10098_M_at AFFX.HUMRGE.M10098_3_at\n",
       "1 B1   4.16250                 3.98847                 3.93090                \n",
       "2 T1   2.78888                 2.06070                 3.18127                \n",
       "3 T2   3.75351                 3.51481                 3.56443                \n",
       "4 B2   3.68574                 3.36040                 3.40976                \n",
       "5 B3   3.10857                 3.43632                 2.49969                \n",
       "6 T3   3.61784                 3.43823                 3.38093                \n",
       "  AFFX.M27830_5_at D13639_at D83735_at D83920_at D87433_at D88270_at ...\n",
       "1 3.82930          3.67274   2.00000   2.00000   2.0000    3.29336   ...\n",
       "2 3.34537          3.52724   3.04218   3.35545   2.0000    2.29667   ...\n",
       "3 3.52179          2.00000   2.89321   2.31175   2.0000    2.76268   ...\n",
       "4 3.48544          2.00432   2.00000   2.00000   2.0000    3.68851   ...\n",
       "5 3.05308          3.10585   2.00000   2.30750   2.4014    3.52930   ...\n",
       "6 3.59173          2.00000   2.00000   3.18639   2.0000    2.00000   ...\n",
       "  X00437_s_at X65965_s_at X76223_s_at AF000424_s_at M21305_at U57341_at\n",
       "1 2.18469     2.83059     2.00000     3.49914       2.91960   2.30750  \n",
       "2 4.10690     3.40926     3.96624     3.71533       2.00000   2.69810  \n",
       "3 2.00000     2.52763     4.20412     2.85003       3.38364   2.64345  \n",
       "4 2.00000     2.43457     2.00000     2.00000       2.79029   2.98632  \n",
       "5 2.00000     2.56820     2.00000     2.73640       2.45637   2.22272  \n",
       "6 4.20412     2.50651     4.13117     3.25888       2.00000   2.07918  \n",
       "  HG3576.HT3779_f_at U01317_cds4_at M15395_at M34516_at\n",
       "1 3.92536            2.07555        2.23553   3.82595  \n",
       "2 3.25479            2.00000        3.19535   3.46195  \n",
       "3 2.00000            2.23553        2.50379   2.00000  \n",
       "4 3.42911            2.59660        2.37658   3.14364  \n",
       "5 3.37014            2.09342        3.03383   3.36399  \n",
       "6 2.00000            2.00000        3.01536   2.00000  "
      ]
     },
     "metadata": {},
     "output_type": "display_data"
    }
   ],
   "source": [
    "head(golub)"
   ]
  },
  {
   "cell_type": "markdown",
   "id": "e53e4226",
   "metadata": {},
   "source": [
    "## Removing highly correlated metrics <a class=\"anchor\" id=\"correlated\"></a>\n",
    "We address the issue of multicorrelation by identifying and removing highly correlated metrics (absolute correlation, 1) from our dataset. First, we exclude the first column from the dataset `golub`, where the column `Case` is. We then compute the correlation matrix R for data using the `cor` function. To pinpoint the metrics that exhibit perfect correlation (correlation coefficient of 1 or -1), we make use of the `findCorrelation` function from the `caret` package, setting a cutoff of 1. This function returns the names of the variables that are highly correlated, if any."
   ]
  },
  {
   "cell_type": "code",
   "execution_count": 40,
   "id": "674f3671",
   "metadata": {},
   "outputs": [
    {
     "data": {
      "text/html": [
       "<table>\n",
       "<thead><tr><th></th><th scope=col>AFFX.HUMRGE.M10098_5_at</th><th scope=col>AFFX.HUMRGE.M10098_M_at</th><th scope=col>AFFX.HUMRGE.M10098_3_at</th><th scope=col>AFFX.M27830_5_at</th><th scope=col>D13639_at</th><th scope=col>D83735_at</th><th scope=col>D83920_at</th><th scope=col>D87433_at</th><th scope=col>D88270_at</th><th scope=col>D88422_at</th><th scope=col>...</th><th scope=col>X00437_s_at</th><th scope=col>X65965_s_at</th><th scope=col>X76223_s_at</th><th scope=col>AF000424_s_at</th><th scope=col>M21305_at</th><th scope=col>U57341_at</th><th scope=col>HG3576.HT3779_f_at</th><th scope=col>U01317_cds4_at</th><th scope=col>M15395_at</th><th scope=col>M34516_at</th></tr></thead>\n",
       "<tbody>\n",
       "\t<tr><th scope=row>AFFX.HUMRGE.M10098_5_at</th><td> 1.00000000 </td><td> 0.94528825 </td><td> 0.940680900</td><td> 0.77912853 </td><td>-0.1973053  </td><td> 0.020456906</td><td>-0.1096624  </td><td>-0.01383022 </td><td>-0.016918622</td><td>-0.1411501  </td><td>...         </td><td> 0.14065855 </td><td>-0.02998448 </td><td> 0.21601689 </td><td>-0.02605452 </td><td>-0.330429874</td><td> 0.01579724 </td><td>-0.2972520  </td><td>-0.070312138</td><td>-0.21883293 </td><td> 0.015992406</td></tr>\n",
       "\t<tr><th scope=row>AFFX.HUMRGE.M10098_M_at</th><td> 0.94528825 </td><td> 1.00000000 </td><td> 0.910579713</td><td> 0.71505370 </td><td>-0.2134307  </td><td>-0.035661949</td><td>-0.1675192  </td><td>-0.03848112 </td><td> 0.056532531</td><td>-0.1995248  </td><td>...         </td><td> 0.11476015 </td><td>-0.13127374 </td><td> 0.18020996 </td><td>-0.07453643 </td><td>-0.235098965</td><td>-0.09126448 </td><td>-0.2673512  </td><td>-0.141429954</td><td>-0.26065292 </td><td>-0.040604229</td></tr>\n",
       "\t<tr><th scope=row>AFFX.HUMRGE.M10098_3_at</th><td> 0.94068090 </td><td> 0.91057971 </td><td> 1.000000000</td><td> 0.78440879 </td><td>-0.2103221  </td><td> 0.004372542</td><td>-0.1382389  </td><td>-0.07123307 </td><td>-0.006921601</td><td>-0.2050484  </td><td>...         </td><td> 0.22623819 </td><td>-0.06758595 </td><td> 0.30290886 </td><td>-0.04552536 </td><td>-0.287973093</td><td>-0.02285115 </td><td>-0.3739390  </td><td>-0.116550351</td><td>-0.30384555 </td><td>-0.063379185</td></tr>\n",
       "\t<tr><th scope=row>AFFX.M27830_5_at</th><td> 0.77912853 </td><td> 0.71505370 </td><td> 0.784408790</td><td> 1.00000000 </td><td>-0.1259413  </td><td>-0.058320081</td><td>-0.2053630  </td><td>-0.09539274 </td><td> 0.191117767</td><td>-0.2962061  </td><td>...         </td><td> 0.07777391 </td><td> 0.01270773 </td><td> 0.16755869 </td><td>-0.16011183 </td><td>-0.152058167</td><td> 0.04371082 </td><td>-0.1734089  </td><td>-0.071983122</td><td>-0.33546790 </td><td>-0.092884086</td></tr>\n",
       "\t<tr><th scope=row>D13639_at</th><td>-0.19730530 </td><td>-0.21343065 </td><td>-0.210322067</td><td>-0.12594134 </td><td> 1.0000000  </td><td> 0.214746419</td><td>-0.2134899  </td><td>-0.06713339 </td><td> 0.088769297</td><td>-0.1301940  </td><td>...         </td><td>-0.18625093 </td><td> 0.15779702 </td><td>-0.25359480 </td><td> 0.09809683 </td><td> 0.088825194</td><td> 0.22350988 </td><td> 0.4512396  </td><td> 0.200613737</td><td>-0.02989658 </td><td> 0.001768725</td></tr>\n",
       "\t<tr><th scope=row>D83735_at</th><td> 0.02045691 </td><td>-0.03566195 </td><td> 0.004372542</td><td>-0.05832008 </td><td> 0.2147464  </td><td> 1.000000000</td><td> 0.1859050  </td><td> 0.18106050 </td><td>-0.243976369</td><td> 0.1595494  </td><td>...         </td><td> 0.16543140 </td><td> 0.04991622 </td><td>-0.02040268 </td><td> 0.28615603 </td><td>-0.002396266</td><td> 0.13131286 </td><td> 0.1734750  </td><td>-0.007277627</td><td> 0.35960233 </td><td> 0.164954817</td></tr>\n",
       "</tbody>\n",
       "</table>\n"
      ],
      "text/latex": [
       "\\begin{tabular}{r|llllllllllllllllllllllllllllllllllllllllllllllllllllllllllllllllllllllllllllllllllllllllllllllllllll}\n",
       "  & AFFX.HUMRGE.M10098\\_5\\_at & AFFX.HUMRGE.M10098\\_M\\_at & AFFX.HUMRGE.M10098\\_3\\_at & AFFX.M27830\\_5\\_at & D13639\\_at & D83735\\_at & D83920\\_at & D87433\\_at & D88270\\_at & D88422\\_at & ... & X00437\\_s\\_at & X65965\\_s\\_at & X76223\\_s\\_at & AF000424\\_s\\_at & M21305\\_at & U57341\\_at & HG3576.HT3779\\_f\\_at & U01317\\_cds4\\_at & M15395\\_at & M34516\\_at\\\\\n",
       "\\hline\n",
       "\tAFFX.HUMRGE.M10098\\_5\\_at &  1.00000000  &  0.94528825  &  0.940680900 &  0.77912853  & -0.1973053   &  0.020456906 & -0.1096624   & -0.01383022  & -0.016918622 & -0.1411501   & ...          &  0.14065855  & -0.02998448  &  0.21601689  & -0.02605452  & -0.330429874 &  0.01579724  & -0.2972520   & -0.070312138 & -0.21883293  &  0.015992406\\\\\n",
       "\tAFFX.HUMRGE.M10098\\_M\\_at &  0.94528825  &  1.00000000  &  0.910579713 &  0.71505370  & -0.2134307   & -0.035661949 & -0.1675192   & -0.03848112  &  0.056532531 & -0.1995248   & ...          &  0.11476015  & -0.13127374  &  0.18020996  & -0.07453643  & -0.235098965 & -0.09126448  & -0.2673512   & -0.141429954 & -0.26065292  & -0.040604229\\\\\n",
       "\tAFFX.HUMRGE.M10098\\_3\\_at &  0.94068090  &  0.91057971  &  1.000000000 &  0.78440879  & -0.2103221   &  0.004372542 & -0.1382389   & -0.07123307  & -0.006921601 & -0.2050484   & ...          &  0.22623819  & -0.06758595  &  0.30290886  & -0.04552536  & -0.287973093 & -0.02285115  & -0.3739390   & -0.116550351 & -0.30384555  & -0.063379185\\\\\n",
       "\tAFFX.M27830\\_5\\_at &  0.77912853  &  0.71505370  &  0.784408790 &  1.00000000  & -0.1259413   & -0.058320081 & -0.2053630   & -0.09539274  &  0.191117767 & -0.2962061   & ...          &  0.07777391  &  0.01270773  &  0.16755869  & -0.16011183  & -0.152058167 &  0.04371082  & -0.1734089   & -0.071983122 & -0.33546790  & -0.092884086\\\\\n",
       "\tD13639\\_at & -0.19730530  & -0.21343065  & -0.210322067 & -0.12594134  &  1.0000000   &  0.214746419 & -0.2134899   & -0.06713339  &  0.088769297 & -0.1301940   & ...          & -0.18625093  &  0.15779702  & -0.25359480  &  0.09809683  &  0.088825194 &  0.22350988  &  0.4512396   &  0.200613737 & -0.02989658  &  0.001768725\\\\\n",
       "\tD83735\\_at &  0.02045691  & -0.03566195  &  0.004372542 & -0.05832008  &  0.2147464   &  1.000000000 &  0.1859050   &  0.18106050  & -0.243976369 &  0.1595494   & ...          &  0.16543140  &  0.04991622  & -0.02040268  &  0.28615603  & -0.002396266 &  0.13131286  &  0.1734750   & -0.007277627 &  0.35960233  &  0.164954817\\\\\n",
       "\\end{tabular}\n"
      ],
      "text/markdown": [
       "\n",
       "| <!--/--> | AFFX.HUMRGE.M10098_5_at | AFFX.HUMRGE.M10098_M_at | AFFX.HUMRGE.M10098_3_at | AFFX.M27830_5_at | D13639_at | D83735_at | D83920_at | D87433_at | D88270_at | D88422_at | ... | X00437_s_at | X65965_s_at | X76223_s_at | AF000424_s_at | M21305_at | U57341_at | HG3576.HT3779_f_at | U01317_cds4_at | M15395_at | M34516_at |\n",
       "|---|---|---|---|---|---|---|---|---|---|---|---|---|---|---|---|---|---|---|---|---|---|\n",
       "| AFFX.HUMRGE.M10098_5_at |  1.00000000  |  0.94528825  |  0.940680900 |  0.77912853  | -0.1973053   |  0.020456906 | -0.1096624   | -0.01383022  | -0.016918622 | -0.1411501   | ...          |  0.14065855  | -0.02998448  |  0.21601689  | -0.02605452  | -0.330429874 |  0.01579724  | -0.2972520   | -0.070312138 | -0.21883293  |  0.015992406 |\n",
       "| AFFX.HUMRGE.M10098_M_at |  0.94528825  |  1.00000000  |  0.910579713 |  0.71505370  | -0.2134307   | -0.035661949 | -0.1675192   | -0.03848112  |  0.056532531 | -0.1995248   | ...          |  0.11476015  | -0.13127374  |  0.18020996  | -0.07453643  | -0.235098965 | -0.09126448  | -0.2673512   | -0.141429954 | -0.26065292  | -0.040604229 |\n",
       "| AFFX.HUMRGE.M10098_3_at |  0.94068090  |  0.91057971  |  1.000000000 |  0.78440879  | -0.2103221   |  0.004372542 | -0.1382389   | -0.07123307  | -0.006921601 | -0.2050484   | ...          |  0.22623819  | -0.06758595  |  0.30290886  | -0.04552536  | -0.287973093 | -0.02285115  | -0.3739390   | -0.116550351 | -0.30384555  | -0.063379185 |\n",
       "| AFFX.M27830_5_at |  0.77912853  |  0.71505370  |  0.784408790 |  1.00000000  | -0.1259413   | -0.058320081 | -0.2053630   | -0.09539274  |  0.191117767 | -0.2962061   | ...          |  0.07777391  |  0.01270773  |  0.16755869  | -0.16011183  | -0.152058167 |  0.04371082  | -0.1734089   | -0.071983122 | -0.33546790  | -0.092884086 |\n",
       "| D13639_at | -0.19730530  | -0.21343065  | -0.210322067 | -0.12594134  |  1.0000000   |  0.214746419 | -0.2134899   | -0.06713339  |  0.088769297 | -0.1301940   | ...          | -0.18625093  |  0.15779702  | -0.25359480  |  0.09809683  |  0.088825194 |  0.22350988  |  0.4512396   |  0.200613737 | -0.02989658  |  0.001768725 |\n",
       "| D83735_at |  0.02045691  | -0.03566195  |  0.004372542 | -0.05832008  |  0.2147464   |  1.000000000 |  0.1859050   |  0.18106050  | -0.243976369 |  0.1595494   | ...          |  0.16543140  |  0.04991622  | -0.02040268  |  0.28615603  | -0.002396266 |  0.13131286  |  0.1734750   | -0.007277627 |  0.35960233  |  0.164954817 |\n",
       "\n"
      ],
      "text/plain": [
       "                        AFFX.HUMRGE.M10098_5_at AFFX.HUMRGE.M10098_M_at\n",
       "AFFX.HUMRGE.M10098_5_at  1.00000000              0.94528825            \n",
       "AFFX.HUMRGE.M10098_M_at  0.94528825              1.00000000            \n",
       "AFFX.HUMRGE.M10098_3_at  0.94068090              0.91057971            \n",
       "AFFX.M27830_5_at         0.77912853              0.71505370            \n",
       "D13639_at               -0.19730530             -0.21343065            \n",
       "D83735_at                0.02045691             -0.03566195            \n",
       "                        AFFX.HUMRGE.M10098_3_at AFFX.M27830_5_at D13639_at \n",
       "AFFX.HUMRGE.M10098_5_at  0.940680900             0.77912853      -0.1973053\n",
       "AFFX.HUMRGE.M10098_M_at  0.910579713             0.71505370      -0.2134307\n",
       "AFFX.HUMRGE.M10098_3_at  1.000000000             0.78440879      -0.2103221\n",
       "AFFX.M27830_5_at         0.784408790             1.00000000      -0.1259413\n",
       "D13639_at               -0.210322067            -0.12594134       1.0000000\n",
       "D83735_at                0.004372542            -0.05832008       0.2147464\n",
       "                        D83735_at    D83920_at  D87433_at   D88270_at   \n",
       "AFFX.HUMRGE.M10098_5_at  0.020456906 -0.1096624 -0.01383022 -0.016918622\n",
       "AFFX.HUMRGE.M10098_M_at -0.035661949 -0.1675192 -0.03848112  0.056532531\n",
       "AFFX.HUMRGE.M10098_3_at  0.004372542 -0.1382389 -0.07123307 -0.006921601\n",
       "AFFX.M27830_5_at        -0.058320081 -0.2053630 -0.09539274  0.191117767\n",
       "D13639_at                0.214746419 -0.2134899 -0.06713339  0.088769297\n",
       "D83735_at                1.000000000  0.1859050  0.18106050 -0.243976369\n",
       "                        D88422_at  ... X00437_s_at X65965_s_at X76223_s_at\n",
       "AFFX.HUMRGE.M10098_5_at -0.1411501 ...  0.14065855 -0.02998448  0.21601689\n",
       "AFFX.HUMRGE.M10098_M_at -0.1995248 ...  0.11476015 -0.13127374  0.18020996\n",
       "AFFX.HUMRGE.M10098_3_at -0.2050484 ...  0.22623819 -0.06758595  0.30290886\n",
       "AFFX.M27830_5_at        -0.2962061 ...  0.07777391  0.01270773  0.16755869\n",
       "D13639_at               -0.1301940 ... -0.18625093  0.15779702 -0.25359480\n",
       "D83735_at                0.1595494 ...  0.16543140  0.04991622 -0.02040268\n",
       "                        AF000424_s_at M21305_at    U57341_at  \n",
       "AFFX.HUMRGE.M10098_5_at -0.02605452   -0.330429874  0.01579724\n",
       "AFFX.HUMRGE.M10098_M_at -0.07453643   -0.235098965 -0.09126448\n",
       "AFFX.HUMRGE.M10098_3_at -0.04552536   -0.287973093 -0.02285115\n",
       "AFFX.M27830_5_at        -0.16011183   -0.152058167  0.04371082\n",
       "D13639_at                0.09809683    0.088825194  0.22350988\n",
       "D83735_at                0.28615603   -0.002396266  0.13131286\n",
       "                        HG3576.HT3779_f_at U01317_cds4_at M15395_at  \n",
       "AFFX.HUMRGE.M10098_5_at -0.2972520         -0.070312138   -0.21883293\n",
       "AFFX.HUMRGE.M10098_M_at -0.2673512         -0.141429954   -0.26065292\n",
       "AFFX.HUMRGE.M10098_3_at -0.3739390         -0.116550351   -0.30384555\n",
       "AFFX.M27830_5_at        -0.1734089         -0.071983122   -0.33546790\n",
       "D13639_at                0.4512396          0.200613737   -0.02989658\n",
       "D83735_at                0.1734750         -0.007277627    0.35960233\n",
       "                        M34516_at   \n",
       "AFFX.HUMRGE.M10098_5_at  0.015992406\n",
       "AFFX.HUMRGE.M10098_M_at -0.040604229\n",
       "AFFX.HUMRGE.M10098_3_at -0.063379185\n",
       "AFFX.M27830_5_at        -0.092884086\n",
       "D13639_at                0.001768725\n",
       "D83735_at                0.164954817"
      ]
     },
     "metadata": {},
     "output_type": "display_data"
    }
   ],
   "source": [
    "data = golub[-1]\n",
    "R = cor(data)\n",
    "head(R)"
   ]
  },
  {
   "cell_type": "code",
   "execution_count": 41,
   "id": "2204c40c",
   "metadata": {},
   "outputs": [
    {
     "data": {
      "text/html": [
       "0"
      ],
      "text/latex": [
       "0"
      ],
      "text/markdown": [
       "0"
      ],
      "text/plain": [
       "[1] 0"
      ]
     },
     "metadata": {},
     "output_type": "display_data"
    }
   ],
   "source": [
    "cor_metrics = findCorrelation(R, cutoff = 1, verbose = FALSE, names=TRUE)\n",
    "length(cor_metrics)"
   ]
  },
  {
   "cell_type": "markdown",
   "id": "f35b6f1d",
   "metadata": {},
   "source": [
    "Finally, we use `length(cor_metrics)` to determine the number of these highly correlated metrics. As this number is 0, we assess there are no highly correlated metrics."
   ]
  },
  {
   "cell_type": "markdown",
   "id": "4e6e93c0",
   "metadata": {},
   "source": [
    "## Top 100 <a class=\"anchor\" id=\"top\"></a>\n",
    "We now filter the metrics for including only the top 100 with the greatest variance, as these metrics have the most significant impact on clustering."
   ]
  },
  {
   "cell_type": "code",
   "execution_count": 42,
   "id": "fc27a4a6",
   "metadata": {},
   "outputs": [
    {
     "data": {
      "text/html": [
       "<table>\n",
       "<thead><tr><th></th><th scope=col>variance</th><th scope=col>gene</th></tr></thead>\n",
       "<tbody>\n",
       "\t<tr><th scope=row>X82240_rna1_at</th><td>0.7720814              </td><td>X82240_rna1_at         </td></tr>\n",
       "\t<tr><th scope=row>M27891_at</th><td>0.6621002              </td><td>M27891_at              </td></tr>\n",
       "\t<tr><th scope=row>M26311_s_at</th><td>0.6585567              </td><td>M26311_s_at            </td></tr>\n",
       "\t<tr><th scope=row>AFFX.HUMRGE.M10098_5_at</th><td>0.6396886              </td><td>AFFX.HUMRGE.M10098_5_at</td></tr>\n",
       "\t<tr><th scope=row>Y00787_s_at</th><td>0.6343951              </td><td>Y00787_s_at            </td></tr>\n",
       "\t<tr><th scope=row>M84526_at</th><td>0.6198290              </td><td>M84526_at              </td></tr>\n",
       "</tbody>\n",
       "</table>\n"
      ],
      "text/latex": [
       "\\begin{tabular}{r|ll}\n",
       "  & variance & gene\\\\\n",
       "\\hline\n",
       "\tX82240\\_rna1\\_at & 0.7720814                   & X82240\\_rna1\\_at         \\\\\n",
       "\tM27891\\_at & 0.6621002                 & M27891\\_at              \\\\\n",
       "\tM26311\\_s\\_at & 0.6585567                   & M26311\\_s\\_at            \\\\\n",
       "\tAFFX.HUMRGE.M10098\\_5\\_at & 0.6396886                   & AFFX.HUMRGE.M10098\\_5\\_at\\\\\n",
       "\tY00787\\_s\\_at & 0.6343951                   & Y00787\\_s\\_at            \\\\\n",
       "\tM84526\\_at & 0.6198290                 & M84526\\_at              \\\\\n",
       "\\end{tabular}\n"
      ],
      "text/markdown": [
       "\n",
       "| <!--/--> | variance | gene |\n",
       "|---|---|---|\n",
       "| X82240_rna1_at | 0.7720814               | X82240_rna1_at          |\n",
       "| M27891_at | 0.6621002               | M27891_at               |\n",
       "| M26311_s_at | 0.6585567               | M26311_s_at             |\n",
       "| AFFX.HUMRGE.M10098_5_at | 0.6396886               | AFFX.HUMRGE.M10098_5_at |\n",
       "| Y00787_s_at | 0.6343951               | Y00787_s_at             |\n",
       "| M84526_at | 0.6198290               | M84526_at               |\n",
       "\n"
      ],
      "text/plain": [
       "                        variance  gene                   \n",
       "X82240_rna1_at          0.7720814 X82240_rna1_at         \n",
       "M27891_at               0.6621002 M27891_at              \n",
       "M26311_s_at             0.6585567 M26311_s_at            \n",
       "AFFX.HUMRGE.M10098_5_at 0.6396886 AFFX.HUMRGE.M10098_5_at\n",
       "Y00787_s_at             0.6343951 Y00787_s_at            \n",
       "M84526_at               0.6198290 M84526_at              "
      ]
     },
     "metadata": {},
     "output_type": "display_data"
    }
   ],
   "source": [
    "variance = sort(sapply(golub[-1], var,na.rm = TRUE), decreasing = TRUE)  # Sorted gene variance\n",
    "gene_var = as.data.frame(variance)\n",
    "gene_var[\"gene\"] = rownames(gene_var)\n",
    "head(gene_var)"
   ]
  },
  {
   "cell_type": "code",
   "execution_count": 43,
   "id": "ad5808dc",
   "metadata": {},
   "outputs": [
    {
     "data": {
      "text/html": [
       "<table>\n",
       "<thead><tr><th></th><th scope=col>variance</th><th scope=col>gene</th></tr></thead>\n",
       "<tbody>\n",
       "\t<tr><th scope=row>X82240_rna1_at</th><td>0.7720814              </td><td>X82240_rna1_at         </td></tr>\n",
       "\t<tr><th scope=row>M27891_at</th><td>0.6621002              </td><td>M27891_at              </td></tr>\n",
       "\t<tr><th scope=row>M26311_s_at</th><td>0.6585567              </td><td>M26311_s_at            </td></tr>\n",
       "\t<tr><th scope=row>AFFX.HUMRGE.M10098_5_at</th><td>0.6396886              </td><td>AFFX.HUMRGE.M10098_5_at</td></tr>\n",
       "\t<tr><th scope=row>Y00787_s_at</th><td>0.6343951              </td><td>Y00787_s_at            </td></tr>\n",
       "\t<tr><th scope=row>M84526_at</th><td>0.6198290              </td><td>M84526_at              </td></tr>\n",
       "</tbody>\n",
       "</table>\n"
      ],
      "text/latex": [
       "\\begin{tabular}{r|ll}\n",
       "  & variance & gene\\\\\n",
       "\\hline\n",
       "\tX82240\\_rna1\\_at & 0.7720814                   & X82240\\_rna1\\_at         \\\\\n",
       "\tM27891\\_at & 0.6621002                 & M27891\\_at              \\\\\n",
       "\tM26311\\_s\\_at & 0.6585567                   & M26311\\_s\\_at            \\\\\n",
       "\tAFFX.HUMRGE.M10098\\_5\\_at & 0.6396886                   & AFFX.HUMRGE.M10098\\_5\\_at\\\\\n",
       "\tY00787\\_s\\_at & 0.6343951                   & Y00787\\_s\\_at            \\\\\n",
       "\tM84526\\_at & 0.6198290                 & M84526\\_at              \\\\\n",
       "\\end{tabular}\n"
      ],
      "text/markdown": [
       "\n",
       "| <!--/--> | variance | gene |\n",
       "|---|---|---|\n",
       "| X82240_rna1_at | 0.7720814               | X82240_rna1_at          |\n",
       "| M27891_at | 0.6621002               | M27891_at               |\n",
       "| M26311_s_at | 0.6585567               | M26311_s_at             |\n",
       "| AFFX.HUMRGE.M10098_5_at | 0.6396886               | AFFX.HUMRGE.M10098_5_at |\n",
       "| Y00787_s_at | 0.6343951               | Y00787_s_at             |\n",
       "| M84526_at | 0.6198290               | M84526_at               |\n",
       "\n"
      ],
      "text/plain": [
       "                        variance  gene                   \n",
       "X82240_rna1_at          0.7720814 X82240_rna1_at         \n",
       "M27891_at               0.6621002 M27891_at              \n",
       "M26311_s_at             0.6585567 M26311_s_at            \n",
       "AFFX.HUMRGE.M10098_5_at 0.6396886 AFFX.HUMRGE.M10098_5_at\n",
       "Y00787_s_at             0.6343951 Y00787_s_at            \n",
       "M84526_at               0.6198290 M84526_at              "
      ]
     },
     "metadata": {},
     "output_type": "display_data"
    }
   ],
   "source": [
    "top_number = 100\n",
    "top_genes = gene_var[c(1:top_number), ]\n",
    "head(top_genes)"
   ]
  },
  {
   "cell_type": "code",
   "execution_count": 44,
   "id": "05a6eb6d",
   "metadata": {},
   "outputs": [
    {
     "data": {
      "text/html": [
       "<ol class=list-inline>\n",
       "\t<li>'X82240_rna1_at'</li>\n",
       "\t<li>'M27891_at'</li>\n",
       "\t<li>'M26311_s_at'</li>\n",
       "\t<li>'AFFX.HUMRGE.M10098_5_at'</li>\n",
       "\t<li>'Y00787_s_at'</li>\n",
       "\t<li>'M84526_at'</li>\n",
       "\t<li>'M19507_at'</li>\n",
       "\t<li>'D88270_at'</li>\n",
       "\t<li>'M63438_s_at'</li>\n",
       "\t<li>'M28130_rna1_s_at'</li>\n",
       "\t<li>'AFFX.HUMRGE.M10098_M_at'</li>\n",
       "\t<li>'M12886_at'</li>\n",
       "\t<li>'M91036_rna1_at'</li>\n",
       "\t<li>'AFFX.HUMRGE.M10098_3_at'</li>\n",
       "\t<li>'AFFX.M27830_5_at'</li>\n",
       "\t<li>'X00437_s_at'</li>\n",
       "\t<li>'M21005_at'</li>\n",
       "\t<li>'M87789_s_at'</li>\n",
       "\t<li>'M58459_at'</li>\n",
       "\t<li>'M11722_at'</li>\n",
       "\t<li>'U01317_cds4_at'</li>\n",
       "\t<li>'M21305_at'</li>\n",
       "\t<li>'M27783_s_at'</li>\n",
       "\t<li>'L33930_s_at'</li>\n",
       "\t<li>'J04164_at'</li>\n",
       "\t<li>'J04456_at'</li>\n",
       "\t<li>'X58529_at'</li>\n",
       "\t<li>'U89922_s_at'</li>\n",
       "\t<li>'M21119_s_at'</li>\n",
       "\t<li>'M25079_s_at'</li>\n",
       "\t<li>'M89957_at'</li>\n",
       "\t<li>'Z83821_cds2_at'</li>\n",
       "\t<li>'M57710_at'</li>\n",
       "\t<li>'M38690_at'</li>\n",
       "\t<li>'M57466_s_at'</li>\n",
       "\t<li>'X05908_at'</li>\n",
       "\t<li>'X77737_at'</li>\n",
       "\t<li>'M34516_at'</li>\n",
       "\t<li>'M91438_at'</li>\n",
       "\t<li>'M96326_rna1_at'</li>\n",
       "\t<li>'U05259_rna1_at'</li>\n",
       "\t<li>'X76223_s_at'</li>\n",
       "\t<li>'K01911_at'</li>\n",
       "\t<li>'D88422_at'</li>\n",
       "\t<li>'U05255_s_at'</li>\n",
       "\t<li>'X04500_at'</li>\n",
       "\t<li>'HG3576.HT3779_f_at'</li>\n",
       "\t<li>'X95735_at'</li>\n",
       "\t<li>'X64072_s_at'</li>\n",
       "\t<li>'D83735_at'</li>\n",
       "\t<li>'D83920_at'</li>\n",
       "\t<li>'M21904_at'</li>\n",
       "\t<li>'J03909_at'</li>\n",
       "\t<li>'AF000424_s_at'</li>\n",
       "\t<li>'Z23090_at'</li>\n",
       "\t<li>'D13639_at'</li>\n",
       "\t<li>'J04102_at'</li>\n",
       "\t<li>'U57341_at'</li>\n",
       "\t<li>'M15395_at'</li>\n",
       "\t<li>'Z84721_cds2_at'</li>\n",
       "\t<li>'M38591_at'</li>\n",
       "\t<li>'D87433_at'</li>\n",
       "\t<li>'U46499_at'</li>\n",
       "\t<li>'X17042_at'</li>\n",
       "\t<li>'M63573_at'</li>\n",
       "\t<li>'U09770_at'</li>\n",
       "\t<li>'U20734_s_at'</li>\n",
       "\t<li>'M94345_at'</li>\n",
       "\t<li>'M23178_s_at'</li>\n",
       "\t<li>'M11717_rna1_at'</li>\n",
       "\t<li>'M57731_s_at'</li>\n",
       "\t<li>'J03077_s_at'</li>\n",
       "\t<li>'HG987.HT987_at'</li>\n",
       "\t<li>'U02687_at'</li>\n",
       "\t<li>'L08895_at'</li>\n",
       "\t<li>'M12759_at'</li>\n",
       "\t<li>'M34996_s_at'</li>\n",
       "\t<li>'M13560_s_at'</li>\n",
       "\t<li>'M74719_at'</li>\n",
       "\t<li>'X59871_at'</li>\n",
       "\t<li>'M92934_at'</li>\n",
       "\t<li>'U23852_s_at'</li>\n",
       "\t<li>'U50743_at'</li>\n",
       "\t<li>'U60644_at'</li>\n",
       "\t<li>'U10485_at'</li>\n",
       "\t<li>'Z22548_at'</li>\n",
       "\t<li>'L20971_at'</li>\n",
       "\t<li>'M33882_at'</li>\n",
       "\t<li>'J04615_at'</li>\n",
       "\t<li>'X62744_at'</li>\n",
       "\t<li>'Z69881_at'</li>\n",
       "\t<li>'M16279_at'</li>\n",
       "\t<li>'M21624_at'</li>\n",
       "\t<li>'U02020_at'</li>\n",
       "\t<li>'M16336_s_at'</li>\n",
       "\t<li>'L19686_rna1_at'</li>\n",
       "\t<li>'X65965_s_at'</li>\n",
       "\t<li>'X03934_at'</li>\n",
       "\t<li>'M28826_at'</li>\n",
       "\t<li>'M30703_s_at'</li>\n",
       "</ol>\n"
      ],
      "text/latex": [
       "\\begin{enumerate*}\n",
       "\\item 'X82240\\_rna1\\_at'\n",
       "\\item 'M27891\\_at'\n",
       "\\item 'M26311\\_s\\_at'\n",
       "\\item 'AFFX.HUMRGE.M10098\\_5\\_at'\n",
       "\\item 'Y00787\\_s\\_at'\n",
       "\\item 'M84526\\_at'\n",
       "\\item 'M19507\\_at'\n",
       "\\item 'D88270\\_at'\n",
       "\\item 'M63438\\_s\\_at'\n",
       "\\item 'M28130\\_rna1\\_s\\_at'\n",
       "\\item 'AFFX.HUMRGE.M10098\\_M\\_at'\n",
       "\\item 'M12886\\_at'\n",
       "\\item 'M91036\\_rna1\\_at'\n",
       "\\item 'AFFX.HUMRGE.M10098\\_3\\_at'\n",
       "\\item 'AFFX.M27830\\_5\\_at'\n",
       "\\item 'X00437\\_s\\_at'\n",
       "\\item 'M21005\\_at'\n",
       "\\item 'M87789\\_s\\_at'\n",
       "\\item 'M58459\\_at'\n",
       "\\item 'M11722\\_at'\n",
       "\\item 'U01317\\_cds4\\_at'\n",
       "\\item 'M21305\\_at'\n",
       "\\item 'M27783\\_s\\_at'\n",
       "\\item 'L33930\\_s\\_at'\n",
       "\\item 'J04164\\_at'\n",
       "\\item 'J04456\\_at'\n",
       "\\item 'X58529\\_at'\n",
       "\\item 'U89922\\_s\\_at'\n",
       "\\item 'M21119\\_s\\_at'\n",
       "\\item 'M25079\\_s\\_at'\n",
       "\\item 'M89957\\_at'\n",
       "\\item 'Z83821\\_cds2\\_at'\n",
       "\\item 'M57710\\_at'\n",
       "\\item 'M38690\\_at'\n",
       "\\item 'M57466\\_s\\_at'\n",
       "\\item 'X05908\\_at'\n",
       "\\item 'X77737\\_at'\n",
       "\\item 'M34516\\_at'\n",
       "\\item 'M91438\\_at'\n",
       "\\item 'M96326\\_rna1\\_at'\n",
       "\\item 'U05259\\_rna1\\_at'\n",
       "\\item 'X76223\\_s\\_at'\n",
       "\\item 'K01911\\_at'\n",
       "\\item 'D88422\\_at'\n",
       "\\item 'U05255\\_s\\_at'\n",
       "\\item 'X04500\\_at'\n",
       "\\item 'HG3576.HT3779\\_f\\_at'\n",
       "\\item 'X95735\\_at'\n",
       "\\item 'X64072\\_s\\_at'\n",
       "\\item 'D83735\\_at'\n",
       "\\item 'D83920\\_at'\n",
       "\\item 'M21904\\_at'\n",
       "\\item 'J03909\\_at'\n",
       "\\item 'AF000424\\_s\\_at'\n",
       "\\item 'Z23090\\_at'\n",
       "\\item 'D13639\\_at'\n",
       "\\item 'J04102\\_at'\n",
       "\\item 'U57341\\_at'\n",
       "\\item 'M15395\\_at'\n",
       "\\item 'Z84721\\_cds2\\_at'\n",
       "\\item 'M38591\\_at'\n",
       "\\item 'D87433\\_at'\n",
       "\\item 'U46499\\_at'\n",
       "\\item 'X17042\\_at'\n",
       "\\item 'M63573\\_at'\n",
       "\\item 'U09770\\_at'\n",
       "\\item 'U20734\\_s\\_at'\n",
       "\\item 'M94345\\_at'\n",
       "\\item 'M23178\\_s\\_at'\n",
       "\\item 'M11717\\_rna1\\_at'\n",
       "\\item 'M57731\\_s\\_at'\n",
       "\\item 'J03077\\_s\\_at'\n",
       "\\item 'HG987.HT987\\_at'\n",
       "\\item 'U02687\\_at'\n",
       "\\item 'L08895\\_at'\n",
       "\\item 'M12759\\_at'\n",
       "\\item 'M34996\\_s\\_at'\n",
       "\\item 'M13560\\_s\\_at'\n",
       "\\item 'M74719\\_at'\n",
       "\\item 'X59871\\_at'\n",
       "\\item 'M92934\\_at'\n",
       "\\item 'U23852\\_s\\_at'\n",
       "\\item 'U50743\\_at'\n",
       "\\item 'U60644\\_at'\n",
       "\\item 'U10485\\_at'\n",
       "\\item 'Z22548\\_at'\n",
       "\\item 'L20971\\_at'\n",
       "\\item 'M33882\\_at'\n",
       "\\item 'J04615\\_at'\n",
       "\\item 'X62744\\_at'\n",
       "\\item 'Z69881\\_at'\n",
       "\\item 'M16279\\_at'\n",
       "\\item 'M21624\\_at'\n",
       "\\item 'U02020\\_at'\n",
       "\\item 'M16336\\_s\\_at'\n",
       "\\item 'L19686\\_rna1\\_at'\n",
       "\\item 'X65965\\_s\\_at'\n",
       "\\item 'X03934\\_at'\n",
       "\\item 'M28826\\_at'\n",
       "\\item 'M30703\\_s\\_at'\n",
       "\\end{enumerate*}\n"
      ],
      "text/markdown": [
       "1. 'X82240_rna1_at'\n",
       "2. 'M27891_at'\n",
       "3. 'M26311_s_at'\n",
       "4. 'AFFX.HUMRGE.M10098_5_at'\n",
       "5. 'Y00787_s_at'\n",
       "6. 'M84526_at'\n",
       "7. 'M19507_at'\n",
       "8. 'D88270_at'\n",
       "9. 'M63438_s_at'\n",
       "10. 'M28130_rna1_s_at'\n",
       "11. 'AFFX.HUMRGE.M10098_M_at'\n",
       "12. 'M12886_at'\n",
       "13. 'M91036_rna1_at'\n",
       "14. 'AFFX.HUMRGE.M10098_3_at'\n",
       "15. 'AFFX.M27830_5_at'\n",
       "16. 'X00437_s_at'\n",
       "17. 'M21005_at'\n",
       "18. 'M87789_s_at'\n",
       "19. 'M58459_at'\n",
       "20. 'M11722_at'\n",
       "21. 'U01317_cds4_at'\n",
       "22. 'M21305_at'\n",
       "23. 'M27783_s_at'\n",
       "24. 'L33930_s_at'\n",
       "25. 'J04164_at'\n",
       "26. 'J04456_at'\n",
       "27. 'X58529_at'\n",
       "28. 'U89922_s_at'\n",
       "29. 'M21119_s_at'\n",
       "30. 'M25079_s_at'\n",
       "31. 'M89957_at'\n",
       "32. 'Z83821_cds2_at'\n",
       "33. 'M57710_at'\n",
       "34. 'M38690_at'\n",
       "35. 'M57466_s_at'\n",
       "36. 'X05908_at'\n",
       "37. 'X77737_at'\n",
       "38. 'M34516_at'\n",
       "39. 'M91438_at'\n",
       "40. 'M96326_rna1_at'\n",
       "41. 'U05259_rna1_at'\n",
       "42. 'X76223_s_at'\n",
       "43. 'K01911_at'\n",
       "44. 'D88422_at'\n",
       "45. 'U05255_s_at'\n",
       "46. 'X04500_at'\n",
       "47. 'HG3576.HT3779_f_at'\n",
       "48. 'X95735_at'\n",
       "49. 'X64072_s_at'\n",
       "50. 'D83735_at'\n",
       "51. 'D83920_at'\n",
       "52. 'M21904_at'\n",
       "53. 'J03909_at'\n",
       "54. 'AF000424_s_at'\n",
       "55. 'Z23090_at'\n",
       "56. 'D13639_at'\n",
       "57. 'J04102_at'\n",
       "58. 'U57341_at'\n",
       "59. 'M15395_at'\n",
       "60. 'Z84721_cds2_at'\n",
       "61. 'M38591_at'\n",
       "62. 'D87433_at'\n",
       "63. 'U46499_at'\n",
       "64. 'X17042_at'\n",
       "65. 'M63573_at'\n",
       "66. 'U09770_at'\n",
       "67. 'U20734_s_at'\n",
       "68. 'M94345_at'\n",
       "69. 'M23178_s_at'\n",
       "70. 'M11717_rna1_at'\n",
       "71. 'M57731_s_at'\n",
       "72. 'J03077_s_at'\n",
       "73. 'HG987.HT987_at'\n",
       "74. 'U02687_at'\n",
       "75. 'L08895_at'\n",
       "76. 'M12759_at'\n",
       "77. 'M34996_s_at'\n",
       "78. 'M13560_s_at'\n",
       "79. 'M74719_at'\n",
       "80. 'X59871_at'\n",
       "81. 'M92934_at'\n",
       "82. 'U23852_s_at'\n",
       "83. 'U50743_at'\n",
       "84. 'U60644_at'\n",
       "85. 'U10485_at'\n",
       "86. 'Z22548_at'\n",
       "87. 'L20971_at'\n",
       "88. 'M33882_at'\n",
       "89. 'J04615_at'\n",
       "90. 'X62744_at'\n",
       "91. 'Z69881_at'\n",
       "92. 'M16279_at'\n",
       "93. 'M21624_at'\n",
       "94. 'U02020_at'\n",
       "95. 'M16336_s_at'\n",
       "96. 'L19686_rna1_at'\n",
       "97. 'X65965_s_at'\n",
       "98. 'X03934_at'\n",
       "99. 'M28826_at'\n",
       "100. 'M30703_s_at'\n",
       "\n",
       "\n"
      ],
      "text/plain": [
       "  [1] \"X82240_rna1_at\"          \"M27891_at\"              \n",
       "  [3] \"M26311_s_at\"             \"AFFX.HUMRGE.M10098_5_at\"\n",
       "  [5] \"Y00787_s_at\"             \"M84526_at\"              \n",
       "  [7] \"M19507_at\"               \"D88270_at\"              \n",
       "  [9] \"M63438_s_at\"             \"M28130_rna1_s_at\"       \n",
       " [11] \"AFFX.HUMRGE.M10098_M_at\" \"M12886_at\"              \n",
       " [13] \"M91036_rna1_at\"          \"AFFX.HUMRGE.M10098_3_at\"\n",
       " [15] \"AFFX.M27830_5_at\"        \"X00437_s_at\"            \n",
       " [17] \"M21005_at\"               \"M87789_s_at\"            \n",
       " [19] \"M58459_at\"               \"M11722_at\"              \n",
       " [21] \"U01317_cds4_at\"          \"M21305_at\"              \n",
       " [23] \"M27783_s_at\"             \"L33930_s_at\"            \n",
       " [25] \"J04164_at\"               \"J04456_at\"              \n",
       " [27] \"X58529_at\"               \"U89922_s_at\"            \n",
       " [29] \"M21119_s_at\"             \"M25079_s_at\"            \n",
       " [31] \"M89957_at\"               \"Z83821_cds2_at\"         \n",
       " [33] \"M57710_at\"               \"M38690_at\"              \n",
       " [35] \"M57466_s_at\"             \"X05908_at\"              \n",
       " [37] \"X77737_at\"               \"M34516_at\"              \n",
       " [39] \"M91438_at\"               \"M96326_rna1_at\"         \n",
       " [41] \"U05259_rna1_at\"          \"X76223_s_at\"            \n",
       " [43] \"K01911_at\"               \"D88422_at\"              \n",
       " [45] \"U05255_s_at\"             \"X04500_at\"              \n",
       " [47] \"HG3576.HT3779_f_at\"      \"X95735_at\"              \n",
       " [49] \"X64072_s_at\"             \"D83735_at\"              \n",
       " [51] \"D83920_at\"               \"M21904_at\"              \n",
       " [53] \"J03909_at\"               \"AF000424_s_at\"          \n",
       " [55] \"Z23090_at\"               \"D13639_at\"              \n",
       " [57] \"J04102_at\"               \"U57341_at\"              \n",
       " [59] \"M15395_at\"               \"Z84721_cds2_at\"         \n",
       " [61] \"M38591_at\"               \"D87433_at\"              \n",
       " [63] \"U46499_at\"               \"X17042_at\"              \n",
       " [65] \"M63573_at\"               \"U09770_at\"              \n",
       " [67] \"U20734_s_at\"             \"M94345_at\"              \n",
       " [69] \"M23178_s_at\"             \"M11717_rna1_at\"         \n",
       " [71] \"M57731_s_at\"             \"J03077_s_at\"            \n",
       " [73] \"HG987.HT987_at\"          \"U02687_at\"              \n",
       " [75] \"L08895_at\"               \"M12759_at\"              \n",
       " [77] \"M34996_s_at\"             \"M13560_s_at\"            \n",
       " [79] \"M74719_at\"               \"X59871_at\"              \n",
       " [81] \"M92934_at\"               \"U23852_s_at\"            \n",
       " [83] \"U50743_at\"               \"U60644_at\"              \n",
       " [85] \"U10485_at\"               \"Z22548_at\"              \n",
       " [87] \"L20971_at\"               \"M33882_at\"              \n",
       " [89] \"J04615_at\"               \"X62744_at\"              \n",
       " [91] \"Z69881_at\"               \"M16279_at\"              \n",
       " [93] \"M21624_at\"               \"U02020_at\"              \n",
       " [95] \"M16336_s_at\"             \"L19686_rna1_at\"         \n",
       " [97] \"X65965_s_at\"             \"X03934_at\"              \n",
       " [99] \"M28826_at\"               \"M30703_s_at\"            "
      ]
     },
     "metadata": {},
     "output_type": "display_data"
    }
   ],
   "source": [
    "gene_list = as.list(top_genes[\"gene\"])\n",
    "top_gene_list = unlist(setdiff(gene_list, names(golub)))\n",
    "# Top 100 metrics (genes)\n",
    "top_gene_list"
   ]
  },
  {
   "cell_type": "code",
   "execution_count": 45,
   "id": "b3fd3c62",
   "metadata": {},
   "outputs": [],
   "source": [
    "top_golub = golub[, top_gene_list]\n",
    "top_golub[\"labels\"] = rownames(top_golub)\n",
    "top_golub = top_golub[ , c(\"labels\", names(top_golub)[names(top_golub) != \"labels\"])] "
   ]
  },
  {
   "cell_type": "markdown",
   "id": "dd19cc1c",
   "metadata": {},
   "source": [
    "The dataframe `top_golub` contains 100 genes (metrics) which provides the most variance."
   ]
  },
  {
   "cell_type": "code",
   "execution_count": 46,
   "id": "3ac2a74a",
   "metadata": {},
   "outputs": [
    {
     "data": {
      "text/html": [
       "<table>\n",
       "<thead><tr><th scope=col>labels</th><th scope=col>X82240_rna1_at</th><th scope=col>M27891_at</th><th scope=col>M26311_s_at</th><th scope=col>AFFX.HUMRGE.M10098_5_at</th><th scope=col>Y00787_s_at</th><th scope=col>M84526_at</th><th scope=col>M19507_at</th><th scope=col>D88270_at</th><th scope=col>M63438_s_at</th><th scope=col>...</th><th scope=col>Z69881_at</th><th scope=col>M16279_at</th><th scope=col>M21624_at</th><th scope=col>U02020_at</th><th scope=col>M16336_s_at</th><th scope=col>L19686_rna1_at</th><th scope=col>X65965_s_at</th><th scope=col>X03934_at</th><th scope=col>M28826_at</th><th scope=col>M30703_s_at</th></tr></thead>\n",
       "<tbody>\n",
       "\t<tr><td>1      </td><td>4.16170</td><td>2.48144</td><td>2.00000</td><td>4.16250</td><td>2.52244</td><td>2.0000 </td><td>2.0000 </td><td>3.29336</td><td>3.75143</td><td>...    </td><td>3.24699</td><td>3.48841</td><td>2.43457</td><td>2.24551</td><td>2.00000</td><td>2.89487</td><td>2.83059</td><td>2.79449</td><td>2.00000</td><td>2      </td></tr>\n",
       "\t<tr><td>2      </td><td>2.00000</td><td>3.13290</td><td>3.64856</td><td>2.78888</td><td>3.72795</td><td>2.0000 </td><td>2.0000 </td><td>2.29667</td><td>3.68646</td><td>...    </td><td>3.30428</td><td>4.01932</td><td>4.07185</td><td>3.05690</td><td>3.31513</td><td>3.86094</td><td>3.40926</td><td>3.88434</td><td>2.00000</td><td>2      </td></tr>\n",
       "\t<tr><td>3      </td><td>2.00000</td><td>2.40483</td><td>2.88930</td><td>3.75351</td><td>2.47857</td><td>2.0000 </td><td>2.0000 </td><td>2.76268</td><td>2.00000</td><td>...    </td><td>3.55096</td><td>3.97211</td><td>2.26007</td><td>2.06070</td><td>3.56384</td><td>3.79616</td><td>2.52763</td><td>4.05312</td><td>3.94379</td><td>2      </td></tr>\n",
       "\t<tr><td>4      </td><td>3.71659</td><td>2.00000</td><td>2.19590</td><td>3.68574</td><td>2.38202</td><td>2.0000 </td><td>2.0000 </td><td>3.68851</td><td>2.00000</td><td>...    </td><td>2.91803</td><td>3.17406</td><td>2.00000</td><td>2.00000</td><td>2.00000</td><td>2.79449</td><td>2.43457</td><td>2.67578</td><td>2.00000</td><td>2      </td></tr>\n",
       "\t<tr><td>5      </td><td>3.77772</td><td>2.00000</td><td>3.33746</td><td>3.10857</td><td>2.00000</td><td>2.4624 </td><td>2.9722 </td><td>3.52930</td><td>2.83696</td><td>...    </td><td>3.17493</td><td>3.67596</td><td>2.00000</td><td>2.33646</td><td>2.00000</td><td>3.78810</td><td>2.56820</td><td>2.53782</td><td>2.00000</td><td>2      </td></tr>\n",
       "\t<tr><td>6      </td><td>2.00000</td><td>3.06744</td><td>3.20737</td><td>3.61784</td><td>2.33244</td><td>2.0000 </td><td>2.0000 </td><td>2.00000</td><td>2.00000</td><td>...    </td><td>3.41597</td><td>3.94655</td><td>2.00000</td><td>2.00000</td><td>3.50947</td><td>3.55425</td><td>2.50651</td><td>3.85485</td><td>3.69522</td><td>2      </td></tr>\n",
       "</tbody>\n",
       "</table>\n"
      ],
      "text/latex": [
       "\\begin{tabular}{r|lllllllllllllllllllllllllllllllllllllllllllllllllllllllllllllllllllllllllllllllllllllllllllllllllllll}\n",
       " labels & X82240\\_rna1\\_at & M27891\\_at & M26311\\_s\\_at & AFFX.HUMRGE.M10098\\_5\\_at & Y00787\\_s\\_at & M84526\\_at & M19507\\_at & D88270\\_at & M63438\\_s\\_at & ... & Z69881\\_at & M16279\\_at & M21624\\_at & U02020\\_at & M16336\\_s\\_at & L19686\\_rna1\\_at & X65965\\_s\\_at & X03934\\_at & M28826\\_at & M30703\\_s\\_at\\\\\n",
       "\\hline\n",
       "\t 1       & 4.16170 & 2.48144 & 2.00000 & 4.16250 & 2.52244 & 2.0000  & 2.0000  & 3.29336 & 3.75143 & ...     & 3.24699 & 3.48841 & 2.43457 & 2.24551 & 2.00000 & 2.89487 & 2.83059 & 2.79449 & 2.00000 & 2      \\\\\n",
       "\t 2       & 2.00000 & 3.13290 & 3.64856 & 2.78888 & 3.72795 & 2.0000  & 2.0000  & 2.29667 & 3.68646 & ...     & 3.30428 & 4.01932 & 4.07185 & 3.05690 & 3.31513 & 3.86094 & 3.40926 & 3.88434 & 2.00000 & 2      \\\\\n",
       "\t 3       & 2.00000 & 2.40483 & 2.88930 & 3.75351 & 2.47857 & 2.0000  & 2.0000  & 2.76268 & 2.00000 & ...     & 3.55096 & 3.97211 & 2.26007 & 2.06070 & 3.56384 & 3.79616 & 2.52763 & 4.05312 & 3.94379 & 2      \\\\\n",
       "\t 4       & 3.71659 & 2.00000 & 2.19590 & 3.68574 & 2.38202 & 2.0000  & 2.0000  & 3.68851 & 2.00000 & ...     & 2.91803 & 3.17406 & 2.00000 & 2.00000 & 2.00000 & 2.79449 & 2.43457 & 2.67578 & 2.00000 & 2      \\\\\n",
       "\t 5       & 3.77772 & 2.00000 & 3.33746 & 3.10857 & 2.00000 & 2.4624  & 2.9722  & 3.52930 & 2.83696 & ...     & 3.17493 & 3.67596 & 2.00000 & 2.33646 & 2.00000 & 3.78810 & 2.56820 & 2.53782 & 2.00000 & 2      \\\\\n",
       "\t 6       & 2.00000 & 3.06744 & 3.20737 & 3.61784 & 2.33244 & 2.0000  & 2.0000  & 2.00000 & 2.00000 & ...     & 3.41597 & 3.94655 & 2.00000 & 2.00000 & 3.50947 & 3.55425 & 2.50651 & 3.85485 & 3.69522 & 2      \\\\\n",
       "\\end{tabular}\n"
      ],
      "text/markdown": [
       "\n",
       "| labels | X82240_rna1_at | M27891_at | M26311_s_at | AFFX.HUMRGE.M10098_5_at | Y00787_s_at | M84526_at | M19507_at | D88270_at | M63438_s_at | ... | Z69881_at | M16279_at | M21624_at | U02020_at | M16336_s_at | L19686_rna1_at | X65965_s_at | X03934_at | M28826_at | M30703_s_at |\n",
       "|---|---|---|---|---|---|---|---|---|---|---|---|---|---|---|---|---|---|---|---|---|\n",
       "| 1       | 4.16170 | 2.48144 | 2.00000 | 4.16250 | 2.52244 | 2.0000  | 2.0000  | 3.29336 | 3.75143 | ...     | 3.24699 | 3.48841 | 2.43457 | 2.24551 | 2.00000 | 2.89487 | 2.83059 | 2.79449 | 2.00000 | 2       |\n",
       "| 2       | 2.00000 | 3.13290 | 3.64856 | 2.78888 | 3.72795 | 2.0000  | 2.0000  | 2.29667 | 3.68646 | ...     | 3.30428 | 4.01932 | 4.07185 | 3.05690 | 3.31513 | 3.86094 | 3.40926 | 3.88434 | 2.00000 | 2       |\n",
       "| 3       | 2.00000 | 2.40483 | 2.88930 | 3.75351 | 2.47857 | 2.0000  | 2.0000  | 2.76268 | 2.00000 | ...     | 3.55096 | 3.97211 | 2.26007 | 2.06070 | 3.56384 | 3.79616 | 2.52763 | 4.05312 | 3.94379 | 2       |\n",
       "| 4       | 3.71659 | 2.00000 | 2.19590 | 3.68574 | 2.38202 | 2.0000  | 2.0000  | 3.68851 | 2.00000 | ...     | 2.91803 | 3.17406 | 2.00000 | 2.00000 | 2.00000 | 2.79449 | 2.43457 | 2.67578 | 2.00000 | 2       |\n",
       "| 5       | 3.77772 | 2.00000 | 3.33746 | 3.10857 | 2.00000 | 2.4624  | 2.9722  | 3.52930 | 2.83696 | ...     | 3.17493 | 3.67596 | 2.00000 | 2.33646 | 2.00000 | 3.78810 | 2.56820 | 2.53782 | 2.00000 | 2       |\n",
       "| 6       | 2.00000 | 3.06744 | 3.20737 | 3.61784 | 2.33244 | 2.0000  | 2.0000  | 2.00000 | 2.00000 | ...     | 3.41597 | 3.94655 | 2.00000 | 2.00000 | 3.50947 | 3.55425 | 2.50651 | 3.85485 | 3.69522 | 2       |\n",
       "\n"
      ],
      "text/plain": [
       "  labels X82240_rna1_at M27891_at M26311_s_at AFFX.HUMRGE.M10098_5_at\n",
       "1 1      4.16170        2.48144   2.00000     4.16250                \n",
       "2 2      2.00000        3.13290   3.64856     2.78888                \n",
       "3 3      2.00000        2.40483   2.88930     3.75351                \n",
       "4 4      3.71659        2.00000   2.19590     3.68574                \n",
       "5 5      3.77772        2.00000   3.33746     3.10857                \n",
       "6 6      2.00000        3.06744   3.20737     3.61784                \n",
       "  Y00787_s_at M84526_at M19507_at D88270_at M63438_s_at ... Z69881_at M16279_at\n",
       "1 2.52244     2.0000    2.0000    3.29336   3.75143     ... 3.24699   3.48841  \n",
       "2 3.72795     2.0000    2.0000    2.29667   3.68646     ... 3.30428   4.01932  \n",
       "3 2.47857     2.0000    2.0000    2.76268   2.00000     ... 3.55096   3.97211  \n",
       "4 2.38202     2.0000    2.0000    3.68851   2.00000     ... 2.91803   3.17406  \n",
       "5 2.00000     2.4624    2.9722    3.52930   2.83696     ... 3.17493   3.67596  \n",
       "6 2.33244     2.0000    2.0000    2.00000   2.00000     ... 3.41597   3.94655  \n",
       "  M21624_at U02020_at M16336_s_at L19686_rna1_at X65965_s_at X03934_at\n",
       "1 2.43457   2.24551   2.00000     2.89487        2.83059     2.79449  \n",
       "2 4.07185   3.05690   3.31513     3.86094        3.40926     3.88434  \n",
       "3 2.26007   2.06070   3.56384     3.79616        2.52763     4.05312  \n",
       "4 2.00000   2.00000   2.00000     2.79449        2.43457     2.67578  \n",
       "5 2.00000   2.33646   2.00000     3.78810        2.56820     2.53782  \n",
       "6 2.00000   2.00000   3.50947     3.55425        2.50651     3.85485  \n",
       "  M28826_at M30703_s_at\n",
       "1 2.00000   2          \n",
       "2 2.00000   2          \n",
       "3 3.94379   2          \n",
       "4 2.00000   2          \n",
       "5 2.00000   2          \n",
       "6 3.69522   2          "
      ]
     },
     "metadata": {},
     "output_type": "display_data"
    }
   ],
   "source": [
    "head(top_golub)"
   ]
  },
  {
   "cell_type": "markdown",
   "id": "82a10a31",
   "metadata": {},
   "source": [
    "# evaluomeR - optimal $k$ analysis <a class=\"anchor\" id=\"evaluomeR\"></a>\n",
    "\n",
    "In this Section, evaluomeR executes an optimal $k$ analysis. First, stabilities and qualities are calculated, considering all the metrics in the dataset. The $k$ range is $k \\in [3,10]$ and the clustering method is `clara`."
   ]
  },
  {
   "cell_type": "code",
   "execution_count": 14,
   "id": "3ae91fdf",
   "metadata": {},
   "outputs": [],
   "source": [
    "seed = 13606\n",
    "k.range=c(3,10)\n",
    "cbi = \"clara\"\n",
    "top_golub = golub\n",
    "colnames(top_golub)[colnames(top_golub) == 'Case'] <- 'Description'"
   ]
  },
  {
   "cell_type": "markdown",
   "id": "fe7435aa",
   "metadata": {},
   "source": [
    "Stability calculation with $k \\in [3,10]$ and `clara`:"
   ]
  },
  {
   "cell_type": "code",
   "execution_count": 15,
   "id": "1a08ce56",
   "metadata": {},
   "outputs": [
    {
     "name": "stderr",
     "output_type": "stream",
     "text": [
      "\n",
      "Data loaded.\n",
      "Number of rows: 72\n",
      "Number of columns: 101\n",
      "\n",
      "\n",
      "Processing all metrics, 'merge', in dataframe (100)\n",
      "\tCalculation of k = 3\n",
      "\tCalculation of k = 4\n",
      "\tCalculation of k = 5\n",
      "\tCalculation of k = 6\n",
      "\tCalculation of k = 7\n",
      "\tCalculation of k = 8\n",
      "\tCalculation of k = 9\n",
      "\tCalculation of k = 10\n"
     ]
    }
   ],
   "source": [
    "stab_range = stabilityRange(data=top_golub, k.range=k.range, \n",
    "                            bs=100, seed=seed,\n",
    "                            all_metrics=TRUE,\n",
    "                            cbi=cbi)\n",
    "stab = standardizeStabilityData(stab_range)"
   ]
  },
  {
   "cell_type": "markdown",
   "id": "6ab90a46",
   "metadata": {},
   "source": [
    "## Stability plotting <a class=\"anchor\" id=\"evaluomeR_stab_plot\"></a>\n",
    "\n",
    "Stability plot"
   ]
  },
  {
   "cell_type": "code",
   "execution_count": 16,
   "id": "948b87f7",
   "metadata": {},
   "outputs": [],
   "source": [
    "rownames(stab) = c(\"stab_clara\")\n",
    "stab$Metric = rownames(stab)\n",
    "stab$Method = \"clara\"\n",
    "stab_melt = melt(stab, id.vars = c(\"Metric\", \"Method\"))"
   ]
  },
  {
   "cell_type": "code",
   "execution_count": 17,
   "id": "650ec629",
   "metadata": {},
   "outputs": [
    {
     "data": {
      "image/png": "[encoded data removed]",
      "text/plain": [
       "plot without title"
      ]
     },
     "metadata": {},
     "output_type": "display_data"
    }
   ],
   "source": [
    "# Color\n",
    "grayscale_colors <- c(\"black\", \"darkgray\", \"gray\", \"lightgray\", \"white\")\n",
    "\n",
    "# Base ggplot\n",
    "p <- ggplot(stab_melt, aes(x = variable, y = value, color = Method, group = Method)) +\n",
    "  geom_point() +\n",
    "  geom_line() +\n",
    "  scale_color_manual(values = grayscale_colors) +\n",
    "  labs(\n",
    "    title = paste0('GOLUB stability - k in [', k.range[1], \",\", k.range[2], ']'),\n",
    "    x = 'k',\n",
    "    y = 'Stability'\n",
    "  ) +\n",
    "  scale_y_continuous(limits = c(0, 1)) +\n",
    "  theme_minimal()\n",
    "\n",
    "# Adding rectangles\n",
    "p + \n",
    "  annotate(\"rect\", xmin = -Inf, xmax = Inf, ymin = 0.85, ymax = 1, alpha = 0.1, fill = \"green\") +\n",
    "  annotate(\"rect\", xmin = -Inf, xmax = Inf, ymin = 0.75, ymax = 0.85, alpha = 0.1, fill = \"blue\") +\n",
    "  annotate(\"rect\", xmin = -Inf, xmax = Inf, ymin = 0.6, ymax = 0.75, alpha = 0.1, fill = \"gray\") +\n",
    "  annotate(\"rect\", xmin = -Inf, xmax = Inf, ymin = 0, ymax = 0.6, alpha = 0.1, fill = \"red\")\n",
    "\n"
   ]
  },
  {
   "cell_type": "code",
   "execution_count": 18,
   "id": "7d348c25",
   "metadata": {},
   "outputs": [
    {
     "data": {
      "image/png": "[encoded data removed]",
      "text/plain": [
       "plot without title"
      ]
     },
     "metadata": {},
     "output_type": "display_data"
    }
   ],
   "source": [
    "# Grayscale\n",
    "\n",
    "# Define the grayscale palette\n",
    "grayscale_colors <- c(\"black\", \"darkgray\", \"gray\", \"lightgray\", \"white\")\n",
    "\n",
    "# Base ggplot\n",
    "p <- ggplot(stab_melt, aes(x = variable, y = value, color = Method, group = Method)) +\n",
    "  geom_point() +\n",
    "  geom_line() +\n",
    "  scale_color_manual(values = grayscale_colors) +\n",
    "  labs(\n",
    "    title = paste0('GOLUB stability - k in [', k.range[1], \",\", k.range[2], ']'),\n",
    "    x = 'k',\n",
    "    y = 'Stability'\n",
    "  ) +\n",
    "  scale_y_continuous(limits = c(0, 1)) +\n",
    "  theme_minimal()\n",
    "\n",
    "# Adding grayscale rectangles\n",
    "p + \n",
    "  annotate(\"rect\", xmin = -Inf, xmax = Inf, ymin = 0.85, ymax = 1, alpha = 0.1, fill = \"gray\") +\n",
    "  annotate(\"rect\", xmin = -Inf, xmax = Inf, ymin = 0.75, ymax = 0.85, alpha = 0.2, fill = \"gray\") +\n",
    "  annotate(\"rect\", xmin = -Inf, xmax = Inf, ymin = 0.6, ymax = 0.75, alpha = 0.35, fill = \"gray\") +\n",
    "  annotate(\"rect\", xmin = -Inf, xmax = Inf, ymin = 0, ymax = 0.6, alpha = 0.5, fill = \"gray\")\n"
   ]
  },
  {
   "cell_type": "markdown",
   "id": "b5cada82",
   "metadata": {},
   "source": [
    "Quality calculation with $k \\in [3,10]$ and `clara`."
   ]
  },
  {
   "cell_type": "code",
   "execution_count": 19,
   "id": "4b665af0",
   "metadata": {},
   "outputs": [
    {
     "name": "stderr",
     "output_type": "stream",
     "text": [
      "\n",
      "Data loaded.\n",
      "Number of rows: 72\n",
      "Number of columns: 101\n",
      "\n",
      "\n",
      "Processing all metrics, 'merge', in dataframe (100)\n",
      "\tCalculation of k = 3\n",
      "\tCalculation of k = 4\n",
      "\tCalculation of k = 5\n",
      "\tCalculation of k = 6\n",
      "\tCalculation of k = 7\n",
      "\tCalculation of k = 8\n",
      "\tCalculation of k = 9\n",
      "\tCalculation of k = 10\n"
     ]
    }
   ],
   "source": [
    "qual_range = qualityRange(data=top_golub, k.range=k.range, \n",
    "                            all_metrics=TRUE, seed=seed,\n",
    "                            cbi=cbi)\n",
    "qual = standardizeQualityData(qual_range)"
   ]
  },
  {
   "cell_type": "markdown",
   "id": "11c054b1",
   "metadata": {},
   "source": [
    "## Quality plotting <a class=\"anchor\" id=\"evaluomeR_qual_plot\"></a>\n",
    "\n",
    "Quality plot"
   ]
  },
  {
   "cell_type": "code",
   "execution_count": 20,
   "id": "7881c7ac",
   "metadata": {},
   "outputs": [],
   "source": [
    "rownames(qual) = c(\"qual_clara\")\n",
    "qual$Metric = rownames(qual)\n",
    "qual$Method = \"qual\"\n",
    "qual_melt = melt(qual, id.vars = c(\"Metric\", \"Method\"))"
   ]
  },
  {
   "cell_type": "code",
   "execution_count": 21,
   "id": "b442246b",
   "metadata": {},
   "outputs": [
    {
     "data": {
      "image/png": "[encoded data removed]",
      "text/plain": [
       "plot without title"
      ]
     },
     "metadata": {},
     "output_type": "display_data"
    }
   ],
   "source": [
    "# Color\n",
    "grayscale_colors <- c(\"black\", \"darkgray\", \"gray\", \"lightgray\", \"white\")\n",
    "\n",
    "# Base ggplot\n",
    "p <- ggplot(qual_melt, aes(x = variable, y = value, color = Method, group = Method)) +\n",
    "  geom_point() +\n",
    "  geom_line() +\n",
    "  scale_color_manual(values = grayscale_colors) +\n",
    "  labs(\n",
    "    title = paste0('GOLUB quality -  k in [', k.range[1], \",\", k.range[2], ']'),\n",
    "    x = 'k',\n",
    "    y = 'Quality'\n",
    "  ) +\n",
    "  scale_y_continuous(limits = c(0, 1)) +\n",
    "  theme_minimal()\n",
    "\n",
    "# Adding rectangles\n",
    "p + \n",
    "  annotate(\"rect\", xmin = -Inf, xmax = Inf, ymin = 0.85, ymax = 1, alpha = 0.1, fill = \"green\") +\n",
    "  annotate(\"rect\", xmin = -Inf, xmax = Inf, ymin = 0.75, ymax = 0.85, alpha = 0.1, fill = \"blue\") +\n",
    "  annotate(\"rect\", xmin = -Inf, xmax = Inf, ymin = 0.6, ymax = 0.75, alpha = 0.1, fill = \"gray\") +\n",
    "  annotate(\"rect\", xmin = -Inf, xmax = Inf, ymin = 0, ymax = 0.6, alpha = 0.1, fill = \"red\")"
   ]
  },
  {
   "cell_type": "code",
   "execution_count": 22,
   "id": "2f003f2e",
   "metadata": {},
   "outputs": [
    {
     "data": {
      "image/png": "[encoded data removed]",
      "text/plain": [
       "plot without title"
      ]
     },
     "metadata": {},
     "output_type": "display_data"
    }
   ],
   "source": [
    "# Grayscale\n",
    "\n",
    "grayscale_colors <- c(\"black\", \"darkgray\", \"gray\", \"lightgray\", \"white\")\n",
    "\n",
    "\n",
    "p <- ggplot(qual_melt, aes(x = variable, y = value, color = Method, group = Method)) +\n",
    "  geom_point() +\n",
    "  geom_line() +\n",
    "  scale_color_manual(values = grayscale_colors) +\n",
    "  labs(\n",
    "    title = paste0('GOLUB quality - k in [', k.range[1], \",\", k.range[2], ']'),\n",
    "    x = 'k',\n",
    "    y = 'Quality'\n",
    "  ) +\n",
    "  scale_y_continuous(limits = c(0, 1)) +\n",
    "  theme_minimal()\n",
    "\n",
    "# Adding grayscale rectangles\n",
    "p + \n",
    "  annotate(\"rect\", xmin = -Inf, xmax = Inf, ymin = 0.85, ymax = 1, alpha = 0.1, fill = \"gray\") +\n",
    "  annotate(\"rect\", xmin = -Inf, xmax = Inf, ymin = 0.75, ymax = 0.85, alpha = 0.2, fill = \"gray\") +\n",
    "  annotate(\"rect\", xmin = -Inf, xmax = Inf, ymin = 0.6, ymax = 0.75, alpha = 0.35, fill = \"gray\") +\n",
    "  annotate(\"rect\", xmin = -Inf, xmax = Inf, ymin = 0, ymax = 0.6, alpha = 0.5, fill = \"gray\")\n"
   ]
  },
  {
   "cell_type": "markdown",
   "id": "3d3cef07",
   "metadata": {},
   "source": [
    "Determining the optimal $k$ given the stabilities and qualities in `stab_range` and `qual_range` objects:"
   ]
  },
  {
   "cell_type": "code",
   "execution_count": 23,
   "id": "74e626fc",
   "metadata": {},
   "outputs": [
    {
     "name": "stderr",
     "output_type": "stream",
     "text": [
      "Processing metric: all_metrics\n",
      "\n",
      "\tMaximum stability and quality values matches the same K value: '3'\n",
      "\n"
     ]
    },
    {
     "name": "stdout",
     "output_type": "stream",
     "text": [
      "[1] \"Optimal k: 3\"\n"
     ]
    }
   ],
   "source": [
    "k_opt = getOptimalKValue(stab_range, qual_range, k.range= k.range)\n",
    "optimal_k = k_opt$Global_optimal_k\n",
    "optimal_k_str = paste0(\"k_\", optimal_k)\n",
    "print(paste0(\"Optimal k: \", optimal_k))"
   ]
  },
  {
   "cell_type": "code",
   "execution_count": 24,
   "id": "ec99c5e5",
   "metadata": {},
   "outputs": [
    {
     "name": "stdout",
     "output_type": "stream",
     "text": [
      "[1] \"Stabilities and qualities per k with 'clara' as clustering method\"\n"
     ]
    },
    {
     "data": {
      "text/html": [
       "<table>\n",
       "<thead><tr><th></th><th scope=col>k_3</th><th scope=col>k_4</th><th scope=col>k_5</th><th scope=col>k_6</th><th scope=col>k_7</th><th scope=col>k_8</th><th scope=col>k_9</th><th scope=col>k_10</th><th scope=col>Metric</th><th scope=col>Method</th></tr></thead>\n",
       "<tbody>\n",
       "\t<tr><th scope=row>stab_clara</th><td>0.7853092 </td><td>0.7537019 </td><td>0.6352238 </td><td>0.5512476 </td><td>0.5027411 </td><td>0.5753578 </td><td>0.6026215 </td><td>0.6276503 </td><td>stab_clara</td><td>clara     </td></tr>\n",
       "</tbody>\n",
       "</table>\n"
      ],
      "text/latex": [
       "\\begin{tabular}{r|llllllllll}\n",
       "  & k\\_3 & k\\_4 & k\\_5 & k\\_6 & k\\_7 & k\\_8 & k\\_9 & k\\_10 & Metric & Method\\\\\n",
       "\\hline\n",
       "\tstab\\_clara & 0.7853092    & 0.7537019    & 0.6352238    & 0.5512476    & 0.5027411    & 0.5753578    & 0.6026215    & 0.6276503    & stab\\_clara & clara       \\\\\n",
       "\\end{tabular}\n"
      ],
      "text/markdown": [
       "\n",
       "| <!--/--> | k_3 | k_4 | k_5 | k_6 | k_7 | k_8 | k_9 | k_10 | Metric | Method |\n",
       "|---|---|---|---|---|---|---|---|---|---|---|\n",
       "| stab_clara | 0.7853092  | 0.7537019  | 0.6352238  | 0.5512476  | 0.5027411  | 0.5753578  | 0.6026215  | 0.6276503  | stab_clara | clara      |\n",
       "\n"
      ],
      "text/plain": [
       "           k_3       k_4       k_5       k_6       k_7       k_8      \n",
       "stab_clara 0.7853092 0.7537019 0.6352238 0.5512476 0.5027411 0.5753578\n",
       "           k_9       k_10      Metric     Method\n",
       "stab_clara 0.6026215 0.6276503 stab_clara clara "
      ]
     },
     "metadata": {},
     "output_type": "display_data"
    },
    {
     "data": {
      "text/html": [
       "<table>\n",
       "<thead><tr><th></th><th scope=col>k_3</th><th scope=col>k_4</th><th scope=col>k_5</th><th scope=col>k_6</th><th scope=col>k_7</th><th scope=col>k_8</th><th scope=col>k_9</th><th scope=col>k_10</th><th scope=col>Metric</th><th scope=col>Method</th></tr></thead>\n",
       "<tbody>\n",
       "\t<tr><th scope=row>qual_clara</th><td>0.2320141 </td><td>0.1299018 </td><td>0.09750963</td><td>0.08118129</td><td>0.07984548</td><td>0.1031934 </td><td>0.09457494</td><td>0.09856581</td><td>qual_clara</td><td>qual      </td></tr>\n",
       "</tbody>\n",
       "</table>\n"
      ],
      "text/latex": [
       "\\begin{tabular}{r|llllllllll}\n",
       "  & k\\_3 & k\\_4 & k\\_5 & k\\_6 & k\\_7 & k\\_8 & k\\_9 & k\\_10 & Metric & Method\\\\\n",
       "\\hline\n",
       "\tqual\\_clara & 0.2320141    & 0.1299018    & 0.09750963   & 0.08118129   & 0.07984548   & 0.1031934    & 0.09457494   & 0.09856581   & qual\\_clara & qual        \\\\\n",
       "\\end{tabular}\n"
      ],
      "text/markdown": [
       "\n",
       "| <!--/--> | k_3 | k_4 | k_5 | k_6 | k_7 | k_8 | k_9 | k_10 | Metric | Method |\n",
       "|---|---|---|---|---|---|---|---|---|---|---|\n",
       "| qual_clara | 0.2320141  | 0.1299018  | 0.09750963 | 0.08118129 | 0.07984548 | 0.1031934  | 0.09457494 | 0.09856581 | qual_clara | qual       |\n",
       "\n"
      ],
      "text/plain": [
       "           k_3       k_4       k_5        k_6        k_7        k_8      \n",
       "qual_clara 0.2320141 0.1299018 0.09750963 0.08118129 0.07984548 0.1031934\n",
       "           k_9        k_10       Metric     Method\n",
       "qual_clara 0.09457494 0.09856581 qual_clara qual  "
      ]
     },
     "metadata": {},
     "output_type": "display_data"
    },
    {
     "name": "stdout",
     "output_type": "stream",
     "text": [
      "[1] \"Stabily in k=3: 0.78530918036429\"\n",
      "[1] \"Quality in k=3: 0.23201412622582\"\n"
     ]
    }
   ],
   "source": [
    "print(paste0(\"Stabilities and qualities per k with '\", cbi, \"' as clustering method\"))\n",
    "stab\n",
    "qual\n",
    "print(paste0(\"Stabily in k=\", optimal_k,\": \", stab[optimal_k_str]))\n",
    "print(paste0(\"Quality in k=\", optimal_k,\": \", qual[optimal_k_str]))"
   ]
  },
  {
   "cell_type": "markdown",
   "id": "e1dd0c73",
   "metadata": {},
   "source": [
    "# Clusters"
   ]
  },
  {
   "cell_type": "code",
   "execution_count": 25,
   "id": "afc1d7d4",
   "metadata": {},
   "outputs": [],
   "source": [
    "# Internal method used to group individuals per cluster\n",
    "individuals_per_cluster = function(qualityResult) {\n",
    "    \n",
    "  qual_df = as.data.frame(assay(qualityResult))\n",
    "    \n",
    "\n",
    "  cluster_pos_str = as.character(unlist(qual_df[\"Cluster_position\"]))\n",
    "  cluster_labels_str = as.character(unlist(qual_df[\"Cluster_labels\"]))\n",
    "\n",
    "  cluster_pos = as.list(strsplit(cluster_pos_str, \",\")[[1]])\n",
    "  cluster_labels = as.list(strsplit(cluster_labels_str, \",\")[[1]])\n",
    "\n",
    "  individuals_in_cluster = as.data.frame(cbind(cluster_labels, cluster_pos))\n",
    "  colnames(individuals_in_cluster) = c(\"Individual\", \"InCluster\")\n",
    "\n",
    "  return(individuals_in_cluster)\n",
    "}"
   ]
  },
  {
   "cell_type": "code",
   "execution_count": 26,
   "id": "fd0297d5",
   "metadata": {},
   "outputs": [
    {
     "name": "stdout",
     "output_type": "stream",
     "text": [
      "[1] \"CBI: clara - k: 3\"\n",
      "[1] \"Cluster 1 : B1,B2,B3,B4,B5,B6,B7,B8,B9,B11,B12,B13,B14,B15,B16,B17,B18,B19,B20,B21,B22,B23,B24,B25,B26,B27,B28,B29,B30,B31,B32,B33,B34,B35,B36,B37,B38\"\n",
      "[1] \"\"\n",
      "[1] \"Cluster 2 : T1,T2,T3,T4,T5,T6,T7,T8\"\n",
      "[1] \"\"\n",
      "[1] \"Cluster 3 : B10,AML1,AML2,AML3,AML4,AML5,AML6,AML7,AML8,AML9,AML10,AML11,T9,AML12,AML13,AML14,AML15,AML16,AML17,AML18,AML19,AML20,AML21,AML22,AML23,AML24,AML25\"\n",
      "[1] \"\"\n"
     ]
    }
   ],
   "source": [
    "cluster_individuals = individuals_per_cluster(assay(qual_range[optimal_k_str]))\n",
    "print(paste0(\"CBI: \", cbi, \" - k: \", optimal_k))\n",
    "for (cluster_i in 1:optimal_k) {\n",
    "    ind_in_cluster = paste(unlist(cluster_individuals[cluster_individuals$InCluster == cluster_i, ][\"Individual\"]), collapse = \",\")\n",
    "    print(paste(\"Cluster\", cluster_i, \":\", ind_in_cluster))\n",
    "    print(\"\")\n",
    "}"
   ]
  },
  {
   "cell_type": "markdown",
   "id": "884dc7ff",
   "metadata": {},
   "source": [
    "# PCA <a class=\"anchor\" id=\"pca\"></a>\n",
    "We employ Principal Component Analysis (PCA) as a dimensionality reduction technique to facilitate the visualization of clusters within our dataset. PCA allow us to transform the original high-dimensional data into a lower-dimensional space, while preserving as much of the variability as possible."
   ]
  },
  {
   "cell_type": "code",
   "execution_count": 27,
   "id": "e5482b73",
   "metadata": {},
   "outputs": [
    {
     "data": {
      "text/html": [
       "<table>\n",
       "<thead><tr><th scope=col>PC1</th><th scope=col>PC2</th><th scope=col>PC3</th><th scope=col>PC4</th><th scope=col>PC5</th><th scope=col>PC6</th><th scope=col>PC7</th><th scope=col>PC8</th><th scope=col>PC9</th><th scope=col>PC10</th><th scope=col>...</th><th scope=col>PC65</th><th scope=col>PC66</th><th scope=col>PC67</th><th scope=col>PC68</th><th scope=col>PC69</th><th scope=col>PC70</th><th scope=col>PC71</th><th scope=col>PC72</th><th scope=col>Cluster</th><th scope=col>Individual</th></tr></thead>\n",
       "<tbody>\n",
       "\t<tr><td>-5.6600497  </td><td>-0.9403696  </td><td> 0.6000786  </td><td>-1.1199127  </td><td> 2.6200577  </td><td>-4.0006269  </td><td> 0.6478649  </td><td>-1.5370026  </td><td> 0.8663557  </td><td>-2.17861488 </td><td>...         </td><td>-0.07198869 </td><td>-0.10318543 </td><td>-0.1122364  </td><td>-0.122831348</td><td>-0.09263967 </td><td> 0.12561612 </td><td> 0.14561114 </td><td>1.609823e-15</td><td>1           </td><td>B1          </td></tr>\n",
       "\t<tr><td> 2.6145853  </td><td> 5.2911219  </td><td>-3.4964281  </td><td>-6.1124251  </td><td> 1.5135496  </td><td>-2.1009037  </td><td>-0.1792254  </td><td> 1.3688467  </td><td> 0.7232899  </td><td>-0.03349621 </td><td>...         </td><td>-0.16755027 </td><td> 0.10902101 </td><td> 0.1899106  </td><td> 0.004990702</td><td>-0.14932991 </td><td>-0.03649268 </td><td> 0.01170500 </td><td>1.998401e-15</td><td>2           </td><td>T1          </td></tr>\n",
       "\t<tr><td>-2.1354183  </td><td>11.4500703  </td><td>-1.7966203  </td><td> 0.2247835  </td><td>-0.2318787  </td><td> 1.4493604  </td><td> 0.6051338  </td><td>-1.4108101  </td><td> 1.4127356  </td><td>-0.69496786 </td><td>...         </td><td> 0.17767414 </td><td>-0.12685695 </td><td> 0.1752885  </td><td>-0.102442206</td><td> 0.07161699 </td><td>-0.05849892 </td><td>-0.04429441 </td><td>7.771561e-16</td><td>2           </td><td>T2          </td></tr>\n",
       "\t<tr><td>-4.9435629  </td><td>-0.8109685  </td><td> 2.7399280  </td><td> 3.5519694  </td><td> 2.9668022  </td><td> 2.2383532  </td><td> 1.6639109  </td><td> 1.3761154  </td><td>-0.1218088  </td><td> 1.29753519 </td><td>...         </td><td> 0.01588035 </td><td>-0.18295107 </td><td> 0.1511074  </td><td> 0.197330690</td><td>-0.01898182 </td><td> 0.02336472 </td><td>-0.19335383 </td><td>7.216450e-16</td><td>1           </td><td>B2          </td></tr>\n",
       "\t<tr><td>-1.1240684  </td><td>-1.5104914  </td><td> 3.8906659  </td><td>-0.8401832  </td><td> 1.7507364  </td><td> 2.6570295  </td><td> 2.4860771  </td><td>-0.1088313  </td><td>-0.5550100  </td><td>-1.10456455 </td><td>...         </td><td>-0.27438116 </td><td>-0.09281758 </td><td> 0.1820926  </td><td> 0.225872452</td><td> 0.06440574 </td><td>-0.19662224 </td><td> 0.11929858 </td><td>1.665335e-15</td><td>1           </td><td>B3          </td></tr>\n",
       "\t<tr><td>-0.9140257  </td><td>10.9820116  </td><td>-1.1194102  </td><td>-0.2948204  </td><td>-0.1110053  </td><td> 0.8184759  </td><td> 1.6933997  </td><td>-1.3191906  </td><td> 0.9914184  </td><td> 0.76006577 </td><td>...         </td><td> 0.17655650 </td><td> 0.05443685 </td><td>-0.1479246  </td><td> 0.151052951</td><td> 0.23717942 </td><td> 0.06982347 </td><td> 0.30425593 </td><td>4.440892e-16</td><td>2           </td><td>T3          </td></tr>\n",
       "</tbody>\n",
       "</table>\n"
      ],
      "text/latex": [
       "\\begin{tabular}{r|llllllllllllllllllllllllllllllllllllllllllllllllllllllllllllllllllllllllll}\n",
       " PC1 & PC2 & PC3 & PC4 & PC5 & PC6 & PC7 & PC8 & PC9 & PC10 & ... & PC65 & PC66 & PC67 & PC68 & PC69 & PC70 & PC71 & PC72 & Cluster & Individual\\\\\n",
       "\\hline\n",
       "\t -5.6600497   & -0.9403696   &  0.6000786   & -1.1199127   &  2.6200577   & -4.0006269   &  0.6478649   & -1.5370026   &  0.8663557   & -2.17861488  & ...          & -0.07198869  & -0.10318543  & -0.1122364   & -0.122831348 & -0.09263967  &  0.12561612  &  0.14561114  & 1.609823e-15 & 1            & B1          \\\\\n",
       "\t  2.6145853   &  5.2911219   & -3.4964281   & -6.1124251   &  1.5135496   & -2.1009037   & -0.1792254   &  1.3688467   &  0.7232899   & -0.03349621  & ...          & -0.16755027  &  0.10902101  &  0.1899106   &  0.004990702 & -0.14932991  & -0.03649268  &  0.01170500  & 1.998401e-15 & 2            & T1          \\\\\n",
       "\t -2.1354183   & 11.4500703   & -1.7966203   &  0.2247835   & -0.2318787   &  1.4493604   &  0.6051338   & -1.4108101   &  1.4127356   & -0.69496786  & ...          &  0.17767414  & -0.12685695  &  0.1752885   & -0.102442206 &  0.07161699  & -0.05849892  & -0.04429441  & 7.771561e-16 & 2            & T2          \\\\\n",
       "\t -4.9435629   & -0.8109685   &  2.7399280   &  3.5519694   &  2.9668022   &  2.2383532   &  1.6639109   &  1.3761154   & -0.1218088   &  1.29753519  & ...          &  0.01588035  & -0.18295107  &  0.1511074   &  0.197330690 & -0.01898182  &  0.02336472  & -0.19335383  & 7.216450e-16 & 1            & B2          \\\\\n",
       "\t -1.1240684   & -1.5104914   &  3.8906659   & -0.8401832   &  1.7507364   &  2.6570295   &  2.4860771   & -0.1088313   & -0.5550100   & -1.10456455  & ...          & -0.27438116  & -0.09281758  &  0.1820926   &  0.225872452 &  0.06440574  & -0.19662224  &  0.11929858  & 1.665335e-15 & 1            & B3          \\\\\n",
       "\t -0.9140257   & 10.9820116   & -1.1194102   & -0.2948204   & -0.1110053   &  0.8184759   &  1.6933997   & -1.3191906   &  0.9914184   &  0.76006577  & ...          &  0.17655650  &  0.05443685  & -0.1479246   &  0.151052951 &  0.23717942  &  0.06982347  &  0.30425593  & 4.440892e-16 & 2            & T3          \\\\\n",
       "\\end{tabular}\n"
      ],
      "text/markdown": [
       "\n",
       "| PC1 | PC2 | PC3 | PC4 | PC5 | PC6 | PC7 | PC8 | PC9 | PC10 | ... | PC65 | PC66 | PC67 | PC68 | PC69 | PC70 | PC71 | PC72 | Cluster | Individual |\n",
       "|---|---|---|---|---|---|---|---|---|---|---|---|---|---|---|---|---|---|---|---|---|\n",
       "| -5.6600497   | -0.9403696   |  0.6000786   | -1.1199127   |  2.6200577   | -4.0006269   |  0.6478649   | -1.5370026   |  0.8663557   | -2.17861488  | ...          | -0.07198869  | -0.10318543  | -0.1122364   | -0.122831348 | -0.09263967  |  0.12561612  |  0.14561114  | 1.609823e-15 | 1            | B1           |\n",
       "|  2.6145853   |  5.2911219   | -3.4964281   | -6.1124251   |  1.5135496   | -2.1009037   | -0.1792254   |  1.3688467   |  0.7232899   | -0.03349621  | ...          | -0.16755027  |  0.10902101  |  0.1899106   |  0.004990702 | -0.14932991  | -0.03649268  |  0.01170500  | 1.998401e-15 | 2            | T1           |\n",
       "| -2.1354183   | 11.4500703   | -1.7966203   |  0.2247835   | -0.2318787   |  1.4493604   |  0.6051338   | -1.4108101   |  1.4127356   | -0.69496786  | ...          |  0.17767414  | -0.12685695  |  0.1752885   | -0.102442206 |  0.07161699  | -0.05849892  | -0.04429441  | 7.771561e-16 | 2            | T2           |\n",
       "| -4.9435629   | -0.8109685   |  2.7399280   |  3.5519694   |  2.9668022   |  2.2383532   |  1.6639109   |  1.3761154   | -0.1218088   |  1.29753519  | ...          |  0.01588035  | -0.18295107  |  0.1511074   |  0.197330690 | -0.01898182  |  0.02336472  | -0.19335383  | 7.216450e-16 | 1            | B2           |\n",
       "| -1.1240684   | -1.5104914   |  3.8906659   | -0.8401832   |  1.7507364   |  2.6570295   |  2.4860771   | -0.1088313   | -0.5550100   | -1.10456455  | ...          | -0.27438116  | -0.09281758  |  0.1820926   |  0.225872452 |  0.06440574  | -0.19662224  |  0.11929858  | 1.665335e-15 | 1            | B3           |\n",
       "| -0.9140257   | 10.9820116   | -1.1194102   | -0.2948204   | -0.1110053   |  0.8184759   |  1.6933997   | -1.3191906   |  0.9914184   |  0.76006577  | ...          |  0.17655650  |  0.05443685  | -0.1479246   |  0.151052951 |  0.23717942  |  0.06982347  |  0.30425593  | 4.440892e-16 | 2            | T3           |\n",
       "\n"
      ],
      "text/plain": [
       "  PC1        PC2        PC3        PC4        PC5        PC6        PC7       \n",
       "1 -5.6600497 -0.9403696  0.6000786 -1.1199127  2.6200577 -4.0006269  0.6478649\n",
       "2  2.6145853  5.2911219 -3.4964281 -6.1124251  1.5135496 -2.1009037 -0.1792254\n",
       "3 -2.1354183 11.4500703 -1.7966203  0.2247835 -0.2318787  1.4493604  0.6051338\n",
       "4 -4.9435629 -0.8109685  2.7399280  3.5519694  2.9668022  2.2383532  1.6639109\n",
       "5 -1.1240684 -1.5104914  3.8906659 -0.8401832  1.7507364  2.6570295  2.4860771\n",
       "6 -0.9140257 10.9820116 -1.1194102 -0.2948204 -0.1110053  0.8184759  1.6933997\n",
       "  PC8        PC9        PC10        ... PC65        PC66        PC67      \n",
       "1 -1.5370026  0.8663557 -2.17861488 ... -0.07198869 -0.10318543 -0.1122364\n",
       "2  1.3688467  0.7232899 -0.03349621 ... -0.16755027  0.10902101  0.1899106\n",
       "3 -1.4108101  1.4127356 -0.69496786 ...  0.17767414 -0.12685695  0.1752885\n",
       "4  1.3761154 -0.1218088  1.29753519 ...  0.01588035 -0.18295107  0.1511074\n",
       "5 -0.1088313 -0.5550100 -1.10456455 ... -0.27438116 -0.09281758  0.1820926\n",
       "6 -1.3191906  0.9914184  0.76006577 ...  0.17655650  0.05443685 -0.1479246\n",
       "  PC68         PC69        PC70        PC71        PC72         Cluster\n",
       "1 -0.122831348 -0.09263967  0.12561612  0.14561114 1.609823e-15 1      \n",
       "2  0.004990702 -0.14932991 -0.03649268  0.01170500 1.998401e-15 2      \n",
       "3 -0.102442206  0.07161699 -0.05849892 -0.04429441 7.771561e-16 2      \n",
       "4  0.197330690 -0.01898182  0.02336472 -0.19335383 7.216450e-16 1      \n",
       "5  0.225872452  0.06440574 -0.19662224  0.11929858 1.665335e-15 1      \n",
       "6  0.151052951  0.23717942  0.06982347  0.30425593 4.440892e-16 2      \n",
       "  Individual\n",
       "1 B1        \n",
       "2 T1        \n",
       "3 T2        \n",
       "4 B2        \n",
       "5 B3        \n",
       "6 T3        "
      ]
     },
     "metadata": {},
     "output_type": "display_data"
    }
   ],
   "source": [
    "top_golub[\"inCluster\"] = as.numeric(cluster_individuals$InCluster)\n",
    "pca_matrix = top_golub %>% select(-Description, -inCluster)\n",
    "pca_result <- prcomp(pca_matrix, scale. = TRUE)\n",
    "pca_df <- data.frame(pca_result$x)\n",
    "pca_df$Cluster <- as.factor(top_golub$inCluster)\n",
    "pca_df$Individual <- top_golub$Description\n",
    "head(pca_df)"
   ]
  },
  {
   "cell_type": "code",
   "execution_count": 28,
   "id": "2dbdcbee",
   "metadata": {},
   "outputs": [
    {
     "name": "stderr",
     "output_type": "stream",
     "text": [
      "Warning message:\n",
      "\"The following aesthetics were dropped during statistical transformation: label.\n",
      "i This can happen when ggplot fails to infer the correct grouping structure in\n",
      "  the data.\n",
      "i Did you forget to specify a `group` aesthetic or to convert a numerical\n",
      "  variable into a factor?\"Warning message:\n",
      "\"ggrepel: 1 unlabeled data points (too many overlaps). Consider increasing max.overlaps\""
     ]
    },
    {
     "data": {
      "image/png": "[encoded data removed]",
      "text/plain": [
       "plot without title"
      ]
     },
     "metadata": {},
     "output_type": "display_data"
    }
   ],
   "source": [
    "custom_colors <- c(\"#2E86C1\", \"#28B463\", \"#E74C3C\", \"#9B59B6\", \"#F1C40F\", \"#7F8C8D\")\n",
    "\n",
    "cluster_shapes <- c(16, 17, 15, 18, 19)\n",
    "\n",
    "ggplot(pca_df, aes(x = PC1, y = PC2, shape = Cluster, color = Cluster, label = Individual)) +\n",
    "  geom_point(size = 3) +\n",
    "  geom_text_repel(\n",
    "    vjust = 1,\n",
    "    hjust = 1,\n",
    "    size = 4,\n",
    "    show.legend = FALSE,\n",
    "    point.padding = 0.25,\n",
    "    box.padding = 0.25,\n",
    "    max.overlaps = 15,\n",
    "    segment.color = \"grey70\",\n",
    "    segment.size = 0.2\n",
    "  ) +\n",
    "  stat_ellipse(aes(fill = Cluster), level = 0.95, alpha = 0.2, geom = \"polygon\") +\n",
    "  labs(\n",
    "    title = \"GOLUB individuals\",\n",
    "    x = \"Principal Component 1\",\n",
    "    y = \"Principal Component 2\"\n",
    "  ) +\n",
    "  scale_shape_manual(values = cluster_shapes) +\n",
    "  scale_color_manual(values = custom_colors) +\n",
    "  scale_fill_manual(values = custom_colors) +\n",
    "  theme_minimal(base_size = 15) +\n",
    "  theme(\n",
    "    plot.title = element_text(hjust = 0.5, size = 18, face = \"bold\"),\n",
    "    axis.title.x = element_text(size = 14),\n",
    "    axis.title.y = element_text(size = 14),\n",
    "    axis.text = element_text(size = 12),\n",
    "    legend.position = \"right\",\n",
    "    legend.title = element_text(size = 12),\n",
    "    legend.text = element_text(size = 12),\n",
    "    panel.grid.major = element_line(color = \"grey90\"),\n",
    "    panel.grid.minor = element_blank()\n",
    "  )\n"
   ]
  },
  {
   "cell_type": "code",
   "execution_count": 29,
   "id": "84ef0783",
   "metadata": {},
   "outputs": [
    {
     "name": "stderr",
     "output_type": "stream",
     "text": [
      "Warning message:\n",
      "\"The following aesthetics were dropped during statistical transformation: label.\n",
      "i This can happen when ggplot fails to infer the correct grouping structure in\n",
      "  the data.\n",
      "i Did you forget to specify a `group` aesthetic or to convert a numerical\n",
      "  variable into a factor?\"Warning message:\n",
      "\"ggrepel: 1 unlabeled data points (too many overlaps). Consider increasing max.overlaps\""
     ]
    },
    {
     "data": {
      "image/png": "[encoded data removed]",
      "text/plain": [
       "plot without title"
      ]
     },
     "metadata": {},
     "output_type": "display_data"
    }
   ],
   "source": [
    "custom_colors <- c(\"gray20\", \"gray30\", \"gray40\", \"gray50\", \"black\")\n",
    "\n",
    "cluster_shapes <- c(16, 17, 15, 18, 19)\n",
    "\n",
    "ggplot(pca_df, aes(x = PC1, y = PC2, shape = Cluster, color = Cluster, label = Individual)) +\n",
    "  geom_point(size = 3) +\n",
    "  geom_text_repel(\n",
    "    vjust = 1, \n",
    "    hjust = 1, \n",
    "    size = 4,\n",
    "    show.legend = FALSE,\n",
    "    point.padding = 0.25,\n",
    "    box.padding = 0.25,\n",
    "    max.overlaps = 15,\n",
    "    segment.color = \"grey70\",\n",
    "    segment.size = 0.2\n",
    "  ) +\n",
    "  stat_ellipse(aes(fill = Cluster), level = 0.95, alpha = 0.2, geom = \"polygon\") +\n",
    "  labs(\n",
    "    title = \"GOLUB individuals\",\n",
    "    x = \"Principal Component 1\",\n",
    "    y = \"Principal Component 2\"\n",
    "  ) +\n",
    "  scale_shape_manual(values = cluster_shapes) +\n",
    "  scale_color_manual(values = custom_colors) +\n",
    "  scale_fill_manual(values = custom_colors) +\n",
    "  theme_minimal(base_size = 15) +\n",
    "  theme(\n",
    "    plot.title = element_text(hjust = 0.5, size = 18, face = \"bold\"),\n",
    "    axis.title.x = element_text(size = 14),\n",
    "    axis.title.y = element_text(size = 14),\n",
    "    axis.text = element_text(size = 12),\n",
    "    legend.position = \"right\",\n",
    "    legend.title = element_text(size = 12),\n",
    "    legend.text = element_text(size = 12),\n",
    "    panel.grid.major = element_line(color = \"grey90\"),\n",
    "    panel.grid.minor = element_blank()\n",
    "  )\n"
   ]
  },
  {
   "cell_type": "markdown",
   "id": "b7fd561d",
   "metadata": {},
   "source": [
    "# Sensitivity <a class=\"anchor\" id=\"sensitivity\"></a>"
   ]
  },
  {
   "cell_type": "markdown",
   "id": "0163198f",
   "metadata": {},
   "source": [
    "In this Section we evaluate the sensitivity of our clustering using the `MLmetrics::Sensitivity` method. Sensitivity, or the true positive rate, measures the ability to correctly identify positive instances within the data. By focusing on sensitivity, we aim to ensure that our model effectively captures the relevant clusters, minimizing the number of false negatives. "
   ]
  },
  {
   "cell_type": "code",
   "execution_count": 30,
   "id": "328d1516",
   "metadata": {},
   "outputs": [
    {
     "data": {
      "text/html": [
       "<table>\n",
       "<thead><tr><th scope=col>Description</th><th scope=col>Class</th></tr></thead>\n",
       "<tbody>\n",
       "\t<tr><td>B1</td><td>B </td></tr>\n",
       "\t<tr><td>T1</td><td>T </td></tr>\n",
       "\t<tr><td>T2</td><td>T </td></tr>\n",
       "\t<tr><td>B2</td><td>B </td></tr>\n",
       "\t<tr><td>B3</td><td>B </td></tr>\n",
       "\t<tr><td>T3</td><td>T </td></tr>\n",
       "</tbody>\n",
       "</table>\n"
      ],
      "text/latex": [
       "\\begin{tabular}{r|ll}\n",
       " Description & Class\\\\\n",
       "\\hline\n",
       "\t B1 & B \\\\\n",
       "\t T1 & T \\\\\n",
       "\t T2 & T \\\\\n",
       "\t B2 & B \\\\\n",
       "\t B3 & B \\\\\n",
       "\t T3 & T \\\\\n",
       "\\end{tabular}\n"
      ],
      "text/markdown": [
       "\n",
       "| Description | Class |\n",
       "|---|---|\n",
       "| B1 | B  |\n",
       "| T1 | T  |\n",
       "| T2 | T  |\n",
       "| B2 | B  |\n",
       "| B3 | B  |\n",
       "| T3 | T  |\n",
       "\n"
      ],
      "text/plain": [
       "  Description Class\n",
       "1 B1          B    \n",
       "2 T1          T    \n",
       "3 T2          T    \n",
       "4 B2          B    \n",
       "5 B3          B    \n",
       "6 T3          T    "
      ]
     },
     "metadata": {},
     "output_type": "display_data"
    }
   ],
   "source": [
    "top_golub[\"Class\"] = as.data.frame(leukemia)[\"Class\"]\n",
    "head(top_golub)[, c(\"Description\", \"Class\")]"
   ]
  },
  {
   "cell_type": "code",
   "execution_count": 31,
   "id": "1642b419",
   "metadata": {},
   "outputs": [
    {
     "data": {
      "text/html": [
       "<table>\n",
       "<thead><tr><th scope=col>Description</th><th scope=col>Class</th><th scope=col>Class_n</th></tr></thead>\n",
       "<tbody>\n",
       "\t<tr><td>B1</td><td>B </td><td>1 </td></tr>\n",
       "\t<tr><td>T1</td><td>T </td><td>2 </td></tr>\n",
       "\t<tr><td>T2</td><td>T </td><td>2 </td></tr>\n",
       "\t<tr><td>B2</td><td>B </td><td>1 </td></tr>\n",
       "\t<tr><td>B3</td><td>B </td><td>1 </td></tr>\n",
       "\t<tr><td>T3</td><td>T </td><td>2 </td></tr>\n",
       "</tbody>\n",
       "</table>\n"
      ],
      "text/latex": [
       "\\begin{tabular}{r|lll}\n",
       " Description & Class & Class\\_n\\\\\n",
       "\\hline\n",
       "\t B1 & B  & 1 \\\\\n",
       "\t T1 & T  & 2 \\\\\n",
       "\t T2 & T  & 2 \\\\\n",
       "\t B2 & B  & 1 \\\\\n",
       "\t B3 & B  & 1 \\\\\n",
       "\t T3 & T  & 2 \\\\\n",
       "\\end{tabular}\n"
      ],
      "text/markdown": [
       "\n",
       "| Description | Class | Class_n |\n",
       "|---|---|---|\n",
       "| B1 | B  | 1  |\n",
       "| T1 | T  | 2  |\n",
       "| T2 | T  | 2  |\n",
       "| B2 | B  | 1  |\n",
       "| B3 | B  | 1  |\n",
       "| T3 | T  | 2  |\n",
       "\n"
      ],
      "text/plain": [
       "  Description Class Class_n\n",
       "1 B1          B     1      \n",
       "2 T1          T     2      \n",
       "3 T2          T     2      \n",
       "4 B2          B     1      \n",
       "5 B3          B     1      \n",
       "6 T3          T     2      "
      ]
     },
     "metadata": {},
     "output_type": "display_data"
    }
   ],
   "source": [
    "level_mapping <- c(\"B\" = 1, \"T\" = 2, \"M\" = 3)\n",
    "map_strings_to_numbers <- function(strings) {\n",
    "  factorized <- factor(strings, levels = names(level_mapping))\n",
    "  as.numeric(factorized)\n",
    "}\n",
    "# Map categories with cluster number\n",
    "top_golub[\"Class_n\"] = lapply(top_golub[\"Class\"], map_strings_to_numbers)\n",
    "# Table of prediction vs actual classification\n",
    "head(top_golub[, c(\"Description\", \"Class\", \"Class_n\")])"
   ]
  },
  {
   "cell_type": "code",
   "execution_count": 32,
   "id": "ec847c32",
   "metadata": {
    "scrolled": true
   },
   "outputs": [
    {
     "name": "stdout",
     "output_type": "stream",
     "text": [
      "[1] \"actual\"\n"
     ]
    },
    {
     "data": {
      "text/html": [
       "<ol class=list-inline>\n",
       "\t<li>1</li>\n",
       "\t<li>2</li>\n",
       "\t<li>2</li>\n",
       "\t<li>1</li>\n",
       "\t<li>1</li>\n",
       "\t<li>2</li>\n",
       "\t<li>1</li>\n",
       "\t<li>1</li>\n",
       "\t<li>2</li>\n",
       "\t<li>2</li>\n",
       "\t<li>2</li>\n",
       "\t<li>1</li>\n",
       "\t<li>1</li>\n",
       "\t<li>2</li>\n",
       "\t<li>1</li>\n",
       "\t<li>1</li>\n",
       "\t<li>1</li>\n",
       "\t<li>1</li>\n",
       "\t<li>1</li>\n",
       "\t<li>1</li>\n",
       "\t<li>1</li>\n",
       "\t<li>1</li>\n",
       "\t<li>2</li>\n",
       "\t<li>1</li>\n",
       "\t<li>1</li>\n",
       "\t<li>1</li>\n",
       "\t<li>1</li>\n",
       "\t<li>3</li>\n",
       "\t<li>3</li>\n",
       "\t<li>3</li>\n",
       "\t<li>3</li>\n",
       "\t<li>3</li>\n",
       "\t<li>3</li>\n",
       "\t<li>3</li>\n",
       "\t<li>3</li>\n",
       "\t<li>3</li>\n",
       "\t<li>3</li>\n",
       "\t<li>3</li>\n",
       "\t<li>1</li>\n",
       "\t<li>1</li>\n",
       "\t<li>1</li>\n",
       "\t<li>1</li>\n",
       "\t<li>1</li>\n",
       "\t<li>1</li>\n",
       "\t<li>1</li>\n",
       "\t<li>1</li>\n",
       "\t<li>1</li>\n",
       "\t<li>1</li>\n",
       "\t<li>1</li>\n",
       "\t<li>1</li>\n",
       "\t<li>1</li>\n",
       "\t<li>1</li>\n",
       "\t<li>1</li>\n",
       "\t<li>1</li>\n",
       "\t<li>2</li>\n",
       "\t<li>1</li>\n",
       "\t<li>1</li>\n",
       "\t<li>1</li>\n",
       "\t<li>3</li>\n",
       "\t<li>3</li>\n",
       "\t<li>3</li>\n",
       "\t<li>3</li>\n",
       "\t<li>3</li>\n",
       "\t<li>3</li>\n",
       "\t<li>3</li>\n",
       "\t<li>3</li>\n",
       "\t<li>3</li>\n",
       "\t<li>3</li>\n",
       "\t<li>3</li>\n",
       "\t<li>3</li>\n",
       "\t<li>3</li>\n",
       "\t<li>3</li>\n",
       "</ol>\n",
       "\n",
       "<details>\n",
       "\t<summary style=display:list-item;cursor:pointer>\n",
       "\t\t<strong>Levels</strong>:\n",
       "\t</summary>\n",
       "\t<ol class=list-inline>\n",
       "\t\t<li>'1'</li>\n",
       "\t\t<li>'2'</li>\n",
       "\t\t<li>'3'</li>\n",
       "\t</ol>\n",
       "</details>"
      ],
      "text/latex": [
       "\\begin{enumerate*}\n",
       "\\item 1\n",
       "\\item 2\n",
       "\\item 2\n",
       "\\item 1\n",
       "\\item 1\n",
       "\\item 2\n",
       "\\item 1\n",
       "\\item 1\n",
       "\\item 2\n",
       "\\item 2\n",
       "\\item 2\n",
       "\\item 1\n",
       "\\item 1\n",
       "\\item 2\n",
       "\\item 1\n",
       "\\item 1\n",
       "\\item 1\n",
       "\\item 1\n",
       "\\item 1\n",
       "\\item 1\n",
       "\\item 1\n",
       "\\item 1\n",
       "\\item 2\n",
       "\\item 1\n",
       "\\item 1\n",
       "\\item 1\n",
       "\\item 1\n",
       "\\item 3\n",
       "\\item 3\n",
       "\\item 3\n",
       "\\item 3\n",
       "\\item 3\n",
       "\\item 3\n",
       "\\item 3\n",
       "\\item 3\n",
       "\\item 3\n",
       "\\item 3\n",
       "\\item 3\n",
       "\\item 1\n",
       "\\item 1\n",
       "\\item 1\n",
       "\\item 1\n",
       "\\item 1\n",
       "\\item 1\n",
       "\\item 1\n",
       "\\item 1\n",
       "\\item 1\n",
       "\\item 1\n",
       "\\item 1\n",
       "\\item 1\n",
       "\\item 1\n",
       "\\item 1\n",
       "\\item 1\n",
       "\\item 1\n",
       "\\item 2\n",
       "\\item 1\n",
       "\\item 1\n",
       "\\item 1\n",
       "\\item 3\n",
       "\\item 3\n",
       "\\item 3\n",
       "\\item 3\n",
       "\\item 3\n",
       "\\item 3\n",
       "\\item 3\n",
       "\\item 3\n",
       "\\item 3\n",
       "\\item 3\n",
       "\\item 3\n",
       "\\item 3\n",
       "\\item 3\n",
       "\\item 3\n",
       "\\end{enumerate*}\n",
       "\n",
       "\\emph{Levels}: \\begin{enumerate*}\n",
       "\\item '1'\n",
       "\\item '2'\n",
       "\\item '3'\n",
       "\\end{enumerate*}\n"
      ],
      "text/markdown": [
       "1. 1\n",
       "2. 2\n",
       "3. 2\n",
       "4. 1\n",
       "5. 1\n",
       "6. 2\n",
       "7. 1\n",
       "8. 1\n",
       "9. 2\n",
       "10. 2\n",
       "11. 2\n",
       "12. 1\n",
       "13. 1\n",
       "14. 2\n",
       "15. 1\n",
       "16. 1\n",
       "17. 1\n",
       "18. 1\n",
       "19. 1\n",
       "20. 1\n",
       "21. 1\n",
       "22. 1\n",
       "23. 2\n",
       "24. 1\n",
       "25. 1\n",
       "26. 1\n",
       "27. 1\n",
       "28. 3\n",
       "29. 3\n",
       "30. 3\n",
       "31. 3\n",
       "32. 3\n",
       "33. 3\n",
       "34. 3\n",
       "35. 3\n",
       "36. 3\n",
       "37. 3\n",
       "38. 3\n",
       "39. 1\n",
       "40. 1\n",
       "41. 1\n",
       "42. 1\n",
       "43. 1\n",
       "44. 1\n",
       "45. 1\n",
       "46. 1\n",
       "47. 1\n",
       "48. 1\n",
       "49. 1\n",
       "50. 1\n",
       "51. 1\n",
       "52. 1\n",
       "53. 1\n",
       "54. 1\n",
       "55. 2\n",
       "56. 1\n",
       "57. 1\n",
       "58. 1\n",
       "59. 3\n",
       "60. 3\n",
       "61. 3\n",
       "62. 3\n",
       "63. 3\n",
       "64. 3\n",
       "65. 3\n",
       "66. 3\n",
       "67. 3\n",
       "68. 3\n",
       "69. 3\n",
       "70. 3\n",
       "71. 3\n",
       "72. 3\n",
       "\n",
       "\n",
       "\n",
       "**Levels**: 1. '1'\n",
       "2. '2'\n",
       "3. '3'\n",
       "\n",
       "\n"
      ],
      "text/plain": [
       " [1] 1 2 2 1 1 2 1 1 2 2 2 1 1 2 1 1 1 1 1 1 1 1 2 1 1 1 1 3 3 3 3 3 3 3 3 3 3 3\n",
       "[39] 1 1 1 1 1 1 1 1 1 1 1 1 1 1 1 1 2 1 1 1 3 3 3 3 3 3 3 3 3 3 3 3 3 3\n",
       "Levels: 1 2 3"
      ]
     },
     "metadata": {},
     "output_type": "display_data"
    },
    {
     "name": "stdout",
     "output_type": "stream",
     "text": [
      "[1] \"predicted\"\n"
     ]
    },
    {
     "data": {
      "text/html": [
       "<ol class=list-inline>\n",
       "\t<li>1</li>\n",
       "\t<li>2</li>\n",
       "\t<li>2</li>\n",
       "\t<li>1</li>\n",
       "\t<li>1</li>\n",
       "\t<li>2</li>\n",
       "\t<li>1</li>\n",
       "\t<li>1</li>\n",
       "\t<li>2</li>\n",
       "\t<li>2</li>\n",
       "\t<li>2</li>\n",
       "\t<li>1</li>\n",
       "\t<li>1</li>\n",
       "\t<li>2</li>\n",
       "\t<li>1</li>\n",
       "\t<li>1</li>\n",
       "\t<li>3</li>\n",
       "\t<li>1</li>\n",
       "\t<li>1</li>\n",
       "\t<li>1</li>\n",
       "\t<li>1</li>\n",
       "\t<li>1</li>\n",
       "\t<li>2</li>\n",
       "\t<li>1</li>\n",
       "\t<li>1</li>\n",
       "\t<li>1</li>\n",
       "\t<li>1</li>\n",
       "\t<li>3</li>\n",
       "\t<li>3</li>\n",
       "\t<li>3</li>\n",
       "\t<li>3</li>\n",
       "\t<li>3</li>\n",
       "\t<li>3</li>\n",
       "\t<li>3</li>\n",
       "\t<li>3</li>\n",
       "\t<li>3</li>\n",
       "\t<li>3</li>\n",
       "\t<li>3</li>\n",
       "\t<li>1</li>\n",
       "\t<li>1</li>\n",
       "\t<li>1</li>\n",
       "\t<li>1</li>\n",
       "\t<li>1</li>\n",
       "\t<li>1</li>\n",
       "\t<li>1</li>\n",
       "\t<li>1</li>\n",
       "\t<li>1</li>\n",
       "\t<li>1</li>\n",
       "\t<li>1</li>\n",
       "\t<li>1</li>\n",
       "\t<li>1</li>\n",
       "\t<li>1</li>\n",
       "\t<li>1</li>\n",
       "\t<li>1</li>\n",
       "\t<li>3</li>\n",
       "\t<li>1</li>\n",
       "\t<li>1</li>\n",
       "\t<li>1</li>\n",
       "\t<li>3</li>\n",
       "\t<li>3</li>\n",
       "\t<li>3</li>\n",
       "\t<li>3</li>\n",
       "\t<li>3</li>\n",
       "\t<li>3</li>\n",
       "\t<li>3</li>\n",
       "\t<li>3</li>\n",
       "\t<li>3</li>\n",
       "\t<li>3</li>\n",
       "\t<li>3</li>\n",
       "\t<li>3</li>\n",
       "\t<li>3</li>\n",
       "\t<li>3</li>\n",
       "</ol>\n",
       "\n",
       "<details>\n",
       "\t<summary style=display:list-item;cursor:pointer>\n",
       "\t\t<strong>Levels</strong>:\n",
       "\t</summary>\n",
       "\t<ol class=list-inline>\n",
       "\t\t<li>'1'</li>\n",
       "\t\t<li>'2'</li>\n",
       "\t\t<li>'3'</li>\n",
       "\t</ol>\n",
       "</details>"
      ],
      "text/latex": [
       "\\begin{enumerate*}\n",
       "\\item 1\n",
       "\\item 2\n",
       "\\item 2\n",
       "\\item 1\n",
       "\\item 1\n",
       "\\item 2\n",
       "\\item 1\n",
       "\\item 1\n",
       "\\item 2\n",
       "\\item 2\n",
       "\\item 2\n",
       "\\item 1\n",
       "\\item 1\n",
       "\\item 2\n",
       "\\item 1\n",
       "\\item 1\n",
       "\\item 3\n",
       "\\item 1\n",
       "\\item 1\n",
       "\\item 1\n",
       "\\item 1\n",
       "\\item 1\n",
       "\\item 2\n",
       "\\item 1\n",
       "\\item 1\n",
       "\\item 1\n",
       "\\item 1\n",
       "\\item 3\n",
       "\\item 3\n",
       "\\item 3\n",
       "\\item 3\n",
       "\\item 3\n",
       "\\item 3\n",
       "\\item 3\n",
       "\\item 3\n",
       "\\item 3\n",
       "\\item 3\n",
       "\\item 3\n",
       "\\item 1\n",
       "\\item 1\n",
       "\\item 1\n",
       "\\item 1\n",
       "\\item 1\n",
       "\\item 1\n",
       "\\item 1\n",
       "\\item 1\n",
       "\\item 1\n",
       "\\item 1\n",
       "\\item 1\n",
       "\\item 1\n",
       "\\item 1\n",
       "\\item 1\n",
       "\\item 1\n",
       "\\item 1\n",
       "\\item 3\n",
       "\\item 1\n",
       "\\item 1\n",
       "\\item 1\n",
       "\\item 3\n",
       "\\item 3\n",
       "\\item 3\n",
       "\\item 3\n",
       "\\item 3\n",
       "\\item 3\n",
       "\\item 3\n",
       "\\item 3\n",
       "\\item 3\n",
       "\\item 3\n",
       "\\item 3\n",
       "\\item 3\n",
       "\\item 3\n",
       "\\item 3\n",
       "\\end{enumerate*}\n",
       "\n",
       "\\emph{Levels}: \\begin{enumerate*}\n",
       "\\item '1'\n",
       "\\item '2'\n",
       "\\item '3'\n",
       "\\end{enumerate*}\n"
      ],
      "text/markdown": [
       "1. 1\n",
       "2. 2\n",
       "3. 2\n",
       "4. 1\n",
       "5. 1\n",
       "6. 2\n",
       "7. 1\n",
       "8. 1\n",
       "9. 2\n",
       "10. 2\n",
       "11. 2\n",
       "12. 1\n",
       "13. 1\n",
       "14. 2\n",
       "15. 1\n",
       "16. 1\n",
       "17. 3\n",
       "18. 1\n",
       "19. 1\n",
       "20. 1\n",
       "21. 1\n",
       "22. 1\n",
       "23. 2\n",
       "24. 1\n",
       "25. 1\n",
       "26. 1\n",
       "27. 1\n",
       "28. 3\n",
       "29. 3\n",
       "30. 3\n",
       "31. 3\n",
       "32. 3\n",
       "33. 3\n",
       "34. 3\n",
       "35. 3\n",
       "36. 3\n",
       "37. 3\n",
       "38. 3\n",
       "39. 1\n",
       "40. 1\n",
       "41. 1\n",
       "42. 1\n",
       "43. 1\n",
       "44. 1\n",
       "45. 1\n",
       "46. 1\n",
       "47. 1\n",
       "48. 1\n",
       "49. 1\n",
       "50. 1\n",
       "51. 1\n",
       "52. 1\n",
       "53. 1\n",
       "54. 1\n",
       "55. 3\n",
       "56. 1\n",
       "57. 1\n",
       "58. 1\n",
       "59. 3\n",
       "60. 3\n",
       "61. 3\n",
       "62. 3\n",
       "63. 3\n",
       "64. 3\n",
       "65. 3\n",
       "66. 3\n",
       "67. 3\n",
       "68. 3\n",
       "69. 3\n",
       "70. 3\n",
       "71. 3\n",
       "72. 3\n",
       "\n",
       "\n",
       "\n",
       "**Levels**: 1. '1'\n",
       "2. '2'\n",
       "3. '3'\n",
       "\n",
       "\n"
      ],
      "text/plain": [
       " [1] 1 2 2 1 1 2 1 1 2 2 2 1 1 2 1 1 3 1 1 1 1 1 2 1 1 1 1 3 3 3 3 3 3 3 3 3 3 3\n",
       "[39] 1 1 1 1 1 1 1 1 1 1 1 1 1 1 1 1 3 1 1 1 3 3 3 3 3 3 3 3 3 3 3 3 3 3\n",
       "Levels: 1 2 3"
      ]
     },
     "metadata": {},
     "output_type": "display_data"
    }
   ],
   "source": [
    "# Getting a vector of prediction vs actual classification\n",
    "actual = as.factor(as.vector(unlist(top_golub[\"Class_n\"])))\n",
    "predicted <- factor(as.vector(unlist(top_golub[\"inCluster\"])))\n",
    "\n",
    "print(\"actual\")\n",
    "actual\n",
    "print(\"predicted\")\n",
    "predicted"
   ]
  },
  {
   "cell_type": "code",
   "execution_count": 33,
   "id": "0ecd0c82",
   "metadata": {},
   "outputs": [
    {
     "name": "stdout",
     "output_type": "stream",
     "text": [
      "[1] \"Sensitivity: 97.37%\"\n"
     ]
    }
   ],
   "source": [
    "sens <- MLmetrics::Sensitivity(y_pred = predicted, y_true = actual)\n",
    "sens = format(round(sens*100, 2), nsmall = 2)\n",
    "print(paste0(\"Sensitivity: \", sens, \"%\"))"
   ]
  },
  {
   "cell_type": "markdown",
   "id": "69f1248e",
   "metadata": {},
   "source": [
    "# CER <a class=\"anchor\" id=\"cer\"></a>\n",
    "To assess the overall accuracy of our clustering, we compute the Classification Error Rate (CER) and compare it with the gold standard classification. CER represents the proportion of misclassified instances, thus providing a clear measure of the clustering performance in assigning individuals to the correct clusters."
   ]
  },
  {
   "cell_type": "code",
   "execution_count": 34,
   "id": "fc3052a4",
   "metadata": {},
   "outputs": [
    {
     "name": "stdout",
     "output_type": "stream",
     "text": [
      "[1] \"CER: 3.76%\"\n"
     ]
    }
   ],
   "source": [
    "cer <- CER(predicted, actual)\n",
    "cer = format(round(cer*100, 2), nsmall = 2)\n",
    "print(paste0(\"CER: \", cer, \"%\"))"
   ]
  }
 ],
 "metadata": {
  "kernelspec": {
   "display_name": "R",
   "language": "R",
   "name": "ir"
  },
  "language_info": {
   "codemirror_mode": "r",
   "file_extension": ".r",
   "mimetype": "text/x-r-source",
   "name": "R",
   "pygments_lexer": "r",
   "version": "3.6.1"
  }
 },
 "nbformat": 4,
 "nbformat_minor": 5
}
