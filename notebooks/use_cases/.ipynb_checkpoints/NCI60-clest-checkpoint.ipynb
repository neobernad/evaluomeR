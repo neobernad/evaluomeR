{
 "cells": [
  {
   "cell_type": "markdown",
   "id": "285a2f02",
   "metadata": {},
   "source": [
    "# NCI60 use case"
   ]
  },
  {
   "cell_type": "code",
   "execution_count": 1,
   "id": "9ba99e51",
   "metadata": {
    "scrolled": true
   },
   "outputs": [
    {
     "name": "stderr",
     "output_type": "stream",
     "text": [
      "Warning message:\n",
      "\"package 'RSKC' was built under R version 3.6.3\"Loading required package: flexclust\n",
      "Loading required package: grid\n",
      "Loading required package: lattice\n",
      "Loading required package: modeltools\n",
      "Loading required package: stats4\n",
      "\n",
      "Attaching package: 'dplyr'\n",
      "\n",
      "The following objects are masked from 'package:stats':\n",
      "\n",
      "    filter, lag\n",
      "\n",
      "The following objects are masked from 'package:base':\n",
      "\n",
      "    intersect, setdiff, setequal, union\n",
      "\n",
      "Loading required package: ggplot2\n",
      "\n",
      "Attaching package: 'MLmetrics'\n",
      "\n",
      "The following objects are masked from 'package:caret':\n",
      "\n",
      "    MAE, RMSE\n",
      "\n",
      "The following object is masked from 'package:RSKC':\n",
      "\n",
      "    Sensitivity\n",
      "\n",
      "The following object is masked from 'package:base':\n",
      "\n",
      "    Recall\n",
      "\n"
     ]
    }
   ],
   "source": [
    "library(\"ISLR\") \n",
    "library(\"RSKC\")\n",
    "library(\"dplyr\")\n",
    "library(\"caret\")\n",
    "library(\"MLmetrics\")\n",
    "library(\"ggplot2\")\n",
    "library(\"ggrepel\")\n",
    "library(\"reshape2\")\n",
    "\n",
    "options(scipen=10)"
   ]
  },
  {
   "cell_type": "code",
   "execution_count": 2,
   "id": "5b925569",
   "metadata": {
    "scrolled": true
   },
   "outputs": [
    {
     "data": {
      "text/plain": [
       "[1] '2.4.2'"
      ]
     },
     "metadata": {},
     "output_type": "display_data"
    }
   ],
   "source": [
    "packageVersion(\"RSKC\")"
   ]
  },
  {
   "cell_type": "markdown",
   "id": "52215d63",
   "metadata": {},
   "source": [
    "# Table of contents\n",
    "* [Dataset](#dataset)\n",
    "    * [Removing highly correlated metrics](#correlated)\n",
    "    * [Top 200](#top)\n",
    "* [evaluomeR - optimal $k$ analysis](#evaluomer)\n",
    "    * [Stability plotting](#evaluomeR_stab_plot)\n",
    "    * [Quality plotting](#evaluomeR_qual_plot)\n",
    "* [PCA](#pca)\n",
    "* [Sensitivity](#sensitivity)\n",
    "* [CER](#cer)"
   ]
  },
  {
   "cell_type": "markdown",
   "id": "8c073791",
   "metadata": {},
   "source": [
    "# Dataset <a class=\"anchor\" id=\"dataset\"></a>"
   ]
  },
  {
   "cell_type": "code",
   "execution_count": 3,
   "id": "50cb9920",
   "metadata": {},
   "outputs": [
    {
     "data": {
      "text/html": [
       "<table>\n",
       "<thead><tr><th></th><th scope=col>1</th><th scope=col>2</th><th scope=col>3</th><th scope=col>4</th><th scope=col>5</th><th scope=col>6</th><th scope=col>7</th><th scope=col>8</th><th scope=col>9</th><th scope=col>10</th><th scope=col>...</th><th scope=col>6821</th><th scope=col>6822</th><th scope=col>6823</th><th scope=col>6824</th><th scope=col>6825</th><th scope=col>6826</th><th scope=col>6827</th><th scope=col>6828</th><th scope=col>6829</th><th scope=col>6830</th></tr></thead>\n",
       "<tbody>\n",
       "\t<tr><th scope=row>V1</th><td>0.300000     </td><td> 1.180000    </td><td> 0.550000    </td><td> 1.140000    </td><td>-0.265000    </td><td>-7.000000e-02</td><td> 0.350000    </td><td>-0.315000    </td><td>-0.45000000  </td><td>-0.65498050  </td><td>...          </td><td>-0.9900195   </td><td> 0.000000    </td><td> 0.030000    </td><td>-0.175000    </td><td> 0.6299805   </td><td>-0.030000    </td><td> 0.0000000   </td><td> 0.280000    </td><td>-0.340000    </td><td>-1.930000    </td></tr>\n",
       "\t<tr><th scope=row>V2</th><td>0.679961     </td><td> 1.289961    </td><td> 0.169961    </td><td> 0.379961    </td><td> 0.464961    </td><td> 5.799610e-01</td><td> 0.699961    </td><td> 0.724961    </td><td>-0.04003899  </td><td>-0.28501950  </td><td>...          </td><td>-0.2700585   </td><td>-0.300039    </td><td>-0.250039    </td><td>-0.535039    </td><td> 0.1099415   </td><td>-0.860039    </td><td>-1.2500490   </td><td>-0.770039    </td><td>-0.390039    </td><td>-2.000039    </td></tr>\n",
       "\t<tr><th scope=row>V3</th><td>0.940000     </td><td>-0.040000    </td><td>-0.170000    </td><td>-0.040000    </td><td>-0.605000    </td><td> 0.000000e+00</td><td> 0.090000    </td><td> 0.645000    </td><td> 0.43000000  </td><td> 0.47501950  </td><td>...          </td><td> 0.3199805   </td><td> 0.120000    </td><td>-0.740000    </td><td>-0.595000    </td><td>-0.2700195   </td><td>-0.150000    </td><td> 0.0000000   </td><td>-0.120000    </td><td>-0.410000    </td><td> 0.000000    </td></tr>\n",
       "\t<tr><th scope=row>V4</th><td>0.280000     </td><td>-0.310000    </td><td> 0.680000    </td><td>-0.810000    </td><td> 0.625000    </td><td>-1.387779e-17</td><td> 0.170000    </td><td> 0.245000    </td><td> 0.02000000  </td><td> 0.09501949  </td><td>...          </td><td>-1.2400200   </td><td>-0.110000    </td><td>-0.160000    </td><td> 0.095000    </td><td>-0.3500195   </td><td>-0.300000    </td><td>-1.1500100   </td><td> 1.090000    </td><td>-0.260000    </td><td>-1.100000    </td></tr>\n",
       "\t<tr><th scope=row>V5</th><td>0.485000     </td><td>-0.465000    </td><td> 0.395000    </td><td> 0.905000    </td><td> 0.200000    </td><td>-5.000000e-03</td><td> 0.085000    </td><td> 0.110000    </td><td> 0.23500000  </td><td> 1.49001949  </td><td>...          </td><td> 0.5549805   </td><td>-0.775000    </td><td>-0.515000    </td><td>-0.320000    </td><td> 0.6349805   </td><td> 0.605000    </td><td> 0.0000000   </td><td> 0.745000    </td><td> 0.425000    </td><td> 0.145000    </td></tr>\n",
       "\t<tr><th scope=row>V6</th><td>0.310000     </td><td>-0.030000    </td><td>-0.100000    </td><td>-0.460000    </td><td>-0.205000    </td><td>-5.400000e-01</td><td>-0.640000    </td><td>-0.585000    </td><td>-0.77000000  </td><td>-0.24498050  </td><td>...          </td><td>-0.5900195   </td><td> 0.000000    </td><td>-0.740000    </td><td>-2.095000    </td><td>-1.3900200   </td><td>-0.400000    </td><td> 0.6999902   </td><td> 0.290000    </td><td> 0.550000    </td><td> 0.000000    </td></tr>\n",
       "</tbody>\n",
       "</table>\n"
      ],
      "text/latex": [
       "\\begin{tabular}{r|llllllllllllllllllllllllllllllllllllllllllllllllllllllllllllllllllllllllllllllllllllllllllllllllllllllllllllllllllllllllllllllllllllllllllllllllllllllllllllllllllllllllllllllllllllllllllllllllllllllllllllllllllllllllllllllllllllllllllllllllllllllllllllllllllllllllllllllllllllllllllllllllllllllllllllllllllllllllllllllllllllllllllllllllllllllllllllllllllllllllllllllllllllllllllllllllllllllllllllllllllllllllllllllllllllllllllllllllllllllllllllllllllllllllllllllllllllllllllllllllllllllllllllllllllllllllllllllllllllllllllllllllllllllllllllllllllllllllllllllllllllllllllllllllllllllllllllllllllllllllllllllllllllllllllllllllllllllllllllllllllllllllllllllllllllllllllllllllllllllllllllllllllllllllllllllllllllllllllllllllllllllllllllllllllllllllllllllllllllllllllllllllllllllllllllllllllllllllllllllllllllllllllllllllllllllllllllllllllllllllllllllllllllllllllllllllllllllllllllllllllllllllllllllllllllllllllllllllllllllllllllllllllllllllllllllllllllllllllllllllllllllllllllllllllllllllllllllllllllllllllllllllllllllllllllllllllllllllllllllllllllllllllllllllllllllllllllllllllllllllllllllllllllllllllllllllllllllllllllllllllllllllllllllllllllllllllllllllllllllllllllllllllllllllllllllllllllllllllllllllllllllllllllllllllllllllllllllllllllllllllllllllllllllllllllllllllllllllllllllllllllllllllllllllllllllllllllllllllllllllllllllllllllllllllllllllllllllllllllllllllllllllllllllllllllllllllllllllllllllllllllllllllllllllllllllllllllllllllllllllllllllllllllllllllllllllllllllllllllllllllllllllllllllllllllllllllllllllllllllllllllllllllllllllllllllllllllllllllllllllllllllllllllllllllllllllllllllllllllllllllllllllllllllllllllllllllllllllllllllllllllllllllllllllllllllllllllllllllllllllllllllllllllllllllllllllllllllllllllllllllllllllllllllllllllllllllllllllllllllllllllllllllllllllllllllllllllllllllllllllllllllllllllllllllllllllllllllllllllllllllllllllllllllllllllllllllllllllllllllllllllllllllllllllllllllllllllllllllllllllllllllllllllllllllllllllllllllllllllllllllllllllllllllllllllllllllllllllllllllllllllllllllllllllllllllllllllllllllllllllllllllllllllllllllllllllllllllllllllllllllllllllllllllllllllllllllllllllllllllllllllllllllllllllllllllllllllllllllllllllllllllllllllllllllllllllllllllllllllllllllllllllllllllllllllllllllllllllllllllllllllllllllllllllllllllllllllllllllllllllllllllllllllllllllllllllllllllllllllllllllllllllllllllllllllllllllllllllllllllllllllllllllllllllllllllllllllllllllllllllllllllllllllllllllllllllllllllllllllllllllllllllllllllllllllllllllllllllllllllllllllllllllllllllllllllllllllllllllllllllllllllllllllllllllllllllllllllllllllllllllllllllllllllllllllllllllllllllllllllllllllllllllllllllllllllllllllllllllllllllllllllllllllllllllllllllllllllllllllllllllllllllllllllllllllllllllllllllllllllllllllllllllllllllllllllllllllllllllllllllllllllllllllllllllllllllllllllllllllllllllllllllllllllllllllllllllllllllllllllllllllllllllllllllllllllllllllllllllllllllllllllllllllllllllllllllllllllllllllllllllllllllllllllllllllllllllllllllllllllllllllllllllllllllllllllllllllllllllllllllllllllllllllllllllllllllllllllllllllllllllllllllllllllllllllllllllllllllllllllllllllllllllllllllllllllllllllllllllllllllllllllllllllllllllllllllllllllllllllllllllllllllllllllllllllllllllllllllllllllllllllllllllllllllllllllllllllllllllllllllllllllllllllllllllllllllllllllllllllllllllllllllllllllllllllllllllllllllllllllllllllllllllllllllllllllllllllllllllllllllllllllllllllllllllllllllllllllllllllllllllllllllllllllllllllllllllllllllllllllllllllllllllllllllllllllllllllllllllllllllllllllllllllllllllllllllllllllllllllllllllllllllllllllllllllllllllllllllllllllllllllllllllllllllllllllllllllllllllllllllllllllllllllllllllllllllllllllllllllllllllllllllllllllllllllllllllllllllllllllllllllllllllllllllllllllllllllllllllllllllllllllllllllllllllllllllllllllllllllllllllllllllllllllllllllllllllllllllllllllllllllllllllllllllllllllllllllllllllllllllllllllllllllllllllllllllllllllllllllllllllllllllllllllllllllllllllllllllllllllllllllllllllllllllllllllllllllllllllllllllllllllllllllllllllllllllllllllllllllllllllllllllllllllllllllllllllllllllllllllllllllllllllllllllllllllllllllllllllllllllllllllllllllllllllllllllllllllllllllllllllllllllllllllllllllllllllllllllllllllllllllllllllllllllllllllllllllllllllllllllllllllllllllllllllllllllllllllllllllllllllllllllllllllllllllllllllllllllllllllllllllllllllllllllllllllllllllllllllllllllllllllllllllllllllllllllllllllllllllllllllllllllllllllllllllllllllllllllllllllllllllllllllllllllllllllllllllllllllllllllllllllllllllllllllllllllllllllllllllllllllllllllllllllllllllllllllllllllllllllllllllllllllllllllllllllllllllllllllllllllllllllllllllllllllllllllllllllllllllllllllllllllllllllllllllllllllllllllllllllllllllllllllllllllllllllllllllllllllllllllllllllllllllllllllllllllllllllllllllllllllllllllllllllllllllllllllllllllllllllllllllllllllllllllllllllllllllllllllllllllllllllllllllllllllllllllllllllllllllllllllllllllllllllllllllllllllllllllllllllllllllllllllllllllllllllllllllllllllllllllllllllllllllllllllllllllllllllllllllllllllllllllllllllllllllllllllllllllllllllllllllllllllllllllllllllllllllllllllllllllllllllllllllllllllllllllllllllllllllllllllllllllllllllllllllllllllllllllllllllllllllllllllllllllllllllllllllllllllllllllllllllllllllllllllllllllllllllllllllllllllllllllllllllllllllllllllllllllllllllllllllllllllllllllllllllllllllllllllllllllllllllllllllllllllllllllllllllllllllllllllllllllllllllllllllllllllllllllllllllllllllllllllllllllllllllllllllllllllllllllllllllllllllllllllllllllllllllllllllllllllllllllllllllllllllllllllllllllllllllllllllllllllllllllllllllllllllllllllllllllllllllllllllllllllllllllllllllllllllllllllllllllllllllllllllllllllllllllllllllllllllllllllllllllllllllllllllllllllllllllllllllllllllllllllllllllllllllllllllllllllllllllllllllllllllllllllllllllllllllllllllllllllllllllllllllllllllllllllllllllllllllllllllllllllllllllllllllllllllllllllllllllllllllllllllllllllllllllllllllllllllllllllllllllllllllllllllllllllllllllllllllllllllllllllllllllllllllllllllllllllllllllllllllllllllllllllllllllllllllllllllllllllllllllllllllllllllllllllllllllllllllllllllllllllllllllllllllllllllllllllllllllllllllllllllllllllllllllllllllllllllllllllllllllllllllllllllllllllllllllllllllllllllllllllllllllllllllllllllllllllllllllllllllllllllllllllllllllllllllllllllllllllllllllllllllllllllllllllllllllllllllllllllllllllllllllllllllllllllllllllllllllllllllllllllllllllllllllllllllllllllllllllllllllllllllllllllllllllllllllllllllllllllllllllllllllllllllllllllllllllllllllllllllllllllllllllllllllllllllllllllllllllllllllllllllllllllllllllllllllllllllllllllllllllllllllllllllllllllllllllllllllllllllllllllllllllllllllllllllllllllllllllllllllllllllllllllllllllllllllllllllllllllllllllllllllllllllllllllllllllllllllllllllllllllllllllllllllllllllllllllllllllllllllllllllllllllllllllllllllllllllllllllllllllllllllllllllllllllllllllllllllllllllllllllllllllllllllllllllllllllllllllllllllllllllllllllll}\n",
       "  & 1 & 2 & 3 & 4 & 5 & 6 & 7 & 8 & 9 & 10 & ... & 6821 & 6822 & 6823 & 6824 & 6825 & 6826 & 6827 & 6828 & 6829 & 6830\\\\\n",
       "\\hline\n",
       "\tV1 & 0.300000      &  1.180000     &  0.550000     &  1.140000     & -0.265000     & -7.000000e-02 &  0.350000     & -0.315000     & -0.45000000   & -0.65498050   & ...           & -0.9900195    &  0.000000     &  0.030000     & -0.175000     &  0.6299805    & -0.030000     &  0.0000000    &  0.280000     & -0.340000     & -1.930000    \\\\\n",
       "\tV2 & 0.679961      &  1.289961     &  0.169961     &  0.379961     &  0.464961     &  5.799610e-01 &  0.699961     &  0.724961     & -0.04003899   & -0.28501950   & ...           & -0.2700585    & -0.300039     & -0.250039     & -0.535039     &  0.1099415    & -0.860039     & -1.2500490    & -0.770039     & -0.390039     & -2.000039    \\\\\n",
       "\tV3 & 0.940000      & -0.040000     & -0.170000     & -0.040000     & -0.605000     &  0.000000e+00 &  0.090000     &  0.645000     &  0.43000000   &  0.47501950   & ...           &  0.3199805    &  0.120000     & -0.740000     & -0.595000     & -0.2700195    & -0.150000     &  0.0000000    & -0.120000     & -0.410000     &  0.000000    \\\\\n",
       "\tV4 & 0.280000      & -0.310000     &  0.680000     & -0.810000     &  0.625000     & -1.387779e-17 &  0.170000     &  0.245000     &  0.02000000   &  0.09501949   & ...           & -1.2400200    & -0.110000     & -0.160000     &  0.095000     & -0.3500195    & -0.300000     & -1.1500100    &  1.090000     & -0.260000     & -1.100000    \\\\\n",
       "\tV5 & 0.485000      & -0.465000     &  0.395000     &  0.905000     &  0.200000     & -5.000000e-03 &  0.085000     &  0.110000     &  0.23500000   &  1.49001949   & ...           &  0.5549805    & -0.775000     & -0.515000     & -0.320000     &  0.6349805    &  0.605000     &  0.0000000    &  0.745000     &  0.425000     &  0.145000    \\\\\n",
       "\tV6 & 0.310000      & -0.030000     & -0.100000     & -0.460000     & -0.205000     & -5.400000e-01 & -0.640000     & -0.585000     & -0.77000000   & -0.24498050   & ...           & -0.5900195    &  0.000000     & -0.740000     & -2.095000     & -1.3900200    & -0.400000     &  0.6999902    &  0.290000     &  0.550000     &  0.000000    \\\\\n",
       "\\end{tabular}\n"
      ],
      "text/markdown": [
       "\n",
       "| <!--/--> | 1 | 2 | 3 | 4 | 5 | 6 | 7 | 8 | 9 | 10 | ... | 6821 | 6822 | 6823 | 6824 | 6825 | 6826 | 6827 | 6828 | 6829 | 6830 |\n",
       "|---|---|---|---|---|---|---|---|---|---|---|---|---|---|---|---|---|---|---|---|---|---|\n",
       "| V1 | 0.300000      |  1.180000     |  0.550000     |  1.140000     | -0.265000     | -7.000000e-02 |  0.350000     | -0.315000     | -0.45000000   | -0.65498050   | ...           | -0.9900195    |  0.000000     |  0.030000     | -0.175000     |  0.6299805    | -0.030000     |  0.0000000    |  0.280000     | -0.340000     | -1.930000     |\n",
       "| V2 | 0.679961      |  1.289961     |  0.169961     |  0.379961     |  0.464961     |  5.799610e-01 |  0.699961     |  0.724961     | -0.04003899   | -0.28501950   | ...           | -0.2700585    | -0.300039     | -0.250039     | -0.535039     |  0.1099415    | -0.860039     | -1.2500490    | -0.770039     | -0.390039     | -2.000039     |\n",
       "| V3 | 0.940000      | -0.040000     | -0.170000     | -0.040000     | -0.605000     |  0.000000e+00 |  0.090000     |  0.645000     |  0.43000000   |  0.47501950   | ...           |  0.3199805    |  0.120000     | -0.740000     | -0.595000     | -0.2700195    | -0.150000     |  0.0000000    | -0.120000     | -0.410000     |  0.000000     |\n",
       "| V4 | 0.280000      | -0.310000     |  0.680000     | -0.810000     |  0.625000     | -1.387779e-17 |  0.170000     |  0.245000     |  0.02000000   |  0.09501949   | ...           | -1.2400200    | -0.110000     | -0.160000     |  0.095000     | -0.3500195    | -0.300000     | -1.1500100    |  1.090000     | -0.260000     | -1.100000     |\n",
       "| V5 | 0.485000      | -0.465000     |  0.395000     |  0.905000     |  0.200000     | -5.000000e-03 |  0.085000     |  0.110000     |  0.23500000   |  1.49001949   | ...           |  0.5549805    | -0.775000     | -0.515000     | -0.320000     |  0.6349805    |  0.605000     |  0.0000000    |  0.745000     |  0.425000     |  0.145000     |\n",
       "| V6 | 0.310000      | -0.030000     | -0.100000     | -0.460000     | -0.205000     | -5.400000e-01 | -0.640000     | -0.585000     | -0.77000000   | -0.24498050   | ...           | -0.5900195    |  0.000000     | -0.740000     | -2.095000     | -1.3900200    | -0.400000     |  0.6999902    |  0.290000     |  0.550000     |  0.000000     |\n",
       "\n"
      ],
      "text/plain": [
       "   1        2         3         4         5         6             7        \n",
       "V1 0.300000  1.180000  0.550000  1.140000 -0.265000 -7.000000e-02  0.350000\n",
       "V2 0.679961  1.289961  0.169961  0.379961  0.464961  5.799610e-01  0.699961\n",
       "V3 0.940000 -0.040000 -0.170000 -0.040000 -0.605000  0.000000e+00  0.090000\n",
       "V4 0.280000 -0.310000  0.680000 -0.810000  0.625000 -1.387779e-17  0.170000\n",
       "V5 0.485000 -0.465000  0.395000  0.905000  0.200000 -5.000000e-03  0.085000\n",
       "V6 0.310000 -0.030000 -0.100000 -0.460000 -0.205000 -5.400000e-01 -0.640000\n",
       "   8         9           10          ... 6821       6822      6823     \n",
       "V1 -0.315000 -0.45000000 -0.65498050 ... -0.9900195  0.000000  0.030000\n",
       "V2  0.724961 -0.04003899 -0.28501950 ... -0.2700585 -0.300039 -0.250039\n",
       "V3  0.645000  0.43000000  0.47501950 ...  0.3199805  0.120000 -0.740000\n",
       "V4  0.245000  0.02000000  0.09501949 ... -1.2400200 -0.110000 -0.160000\n",
       "V5  0.110000  0.23500000  1.49001949 ...  0.5549805 -0.775000 -0.515000\n",
       "V6 -0.585000 -0.77000000 -0.24498050 ... -0.5900195  0.000000 -0.740000\n",
       "   6824      6825       6826      6827       6828      6829      6830     \n",
       "V1 -0.175000  0.6299805 -0.030000  0.0000000  0.280000 -0.340000 -1.930000\n",
       "V2 -0.535039  0.1099415 -0.860039 -1.2500490 -0.770039 -0.390039 -2.000039\n",
       "V3 -0.595000 -0.2700195 -0.150000  0.0000000 -0.120000 -0.410000  0.000000\n",
       "V4  0.095000 -0.3500195 -0.300000 -1.1500100  1.090000 -0.260000 -1.100000\n",
       "V5 -0.320000  0.6349805  0.605000  0.0000000  0.745000  0.425000  0.145000\n",
       "V6 -2.095000 -1.3900200 -0.400000  0.6999902  0.290000  0.550000  0.000000"
      ]
     },
     "metadata": {},
     "output_type": "display_data"
    }
   ],
   "source": [
    "nci60 = as.data.frame(NCI60$data)\n",
    "head(nci60)"
   ]
  },
  {
   "cell_type": "markdown",
   "id": "6e33e971",
   "metadata": {},
   "source": [
    "There are 14 types of classes within the dataset: **CNS**, **RENAL**, **BREAST**, **NSCLC**, **UNKNOWN**, **OVARIAN**, **MELANOMA**, **PROSTATE**, **LEUKEMIA**, **K562B-repro**, **K562A-repro**, **COLON**, **MCF7A-repro** and **MCF7D-repro**:"
   ]
  },
  {
   "cell_type": "code",
   "execution_count": 4,
   "id": "7cc5ec8b",
   "metadata": {
    "scrolled": true
   },
   "outputs": [
    {
     "data": {
      "text/html": [
       "<ol class=list-inline>\n",
       "\t<li>'CNS'</li>\n",
       "\t<li>'RENAL'</li>\n",
       "\t<li>'BREAST'</li>\n",
       "\t<li>'NSCLC'</li>\n",
       "\t<li>'UNKNOWN'</li>\n",
       "\t<li>'OVARIAN'</li>\n",
       "\t<li>'MELANOMA'</li>\n",
       "\t<li>'PROSTATE'</li>\n",
       "\t<li>'LEUKEMIA'</li>\n",
       "\t<li>'K562B-repro'</li>\n",
       "\t<li>'K562A-repro'</li>\n",
       "\t<li>'COLON'</li>\n",
       "\t<li>'MCF7A-repro'</li>\n",
       "\t<li>'MCF7D-repro'</li>\n",
       "</ol>\n"
      ],
      "text/latex": [
       "\\begin{enumerate*}\n",
       "\\item 'CNS'\n",
       "\\item 'RENAL'\n",
       "\\item 'BREAST'\n",
       "\\item 'NSCLC'\n",
       "\\item 'UNKNOWN'\n",
       "\\item 'OVARIAN'\n",
       "\\item 'MELANOMA'\n",
       "\\item 'PROSTATE'\n",
       "\\item 'LEUKEMIA'\n",
       "\\item 'K562B-repro'\n",
       "\\item 'K562A-repro'\n",
       "\\item 'COLON'\n",
       "\\item 'MCF7A-repro'\n",
       "\\item 'MCF7D-repro'\n",
       "\\end{enumerate*}\n"
      ],
      "text/markdown": [
       "1. 'CNS'\n",
       "2. 'RENAL'\n",
       "3. 'BREAST'\n",
       "4. 'NSCLC'\n",
       "5. 'UNKNOWN'\n",
       "6. 'OVARIAN'\n",
       "7. 'MELANOMA'\n",
       "8. 'PROSTATE'\n",
       "9. 'LEUKEMIA'\n",
       "10. 'K562B-repro'\n",
       "11. 'K562A-repro'\n",
       "12. 'COLON'\n",
       "13. 'MCF7A-repro'\n",
       "14. 'MCF7D-repro'\n",
       "\n",
       "\n"
      ],
      "text/plain": [
       " [1] \"CNS\"         \"RENAL\"       \"BREAST\"      \"NSCLC\"       \"UNKNOWN\"    \n",
       " [6] \"OVARIAN\"     \"MELANOMA\"    \"PROSTATE\"    \"LEUKEMIA\"    \"K562B-repro\"\n",
       "[11] \"K562A-repro\" \"COLON\"       \"MCF7A-repro\" \"MCF7D-repro\""
      ]
     },
     "metadata": {},
     "output_type": "display_data"
    }
   ],
   "source": [
    "as.vector(unlist(unique(NCI60$labs)))"
   ]
  },
  {
   "cell_type": "markdown",
   "id": "9e8097f3",
   "metadata": {},
   "source": [
    "Here, we prepare the NCI60 dataset for the analysis:\n",
    "\n",
    "- We add a column named `Description` containing the class (category) of each row\n",
    "- Due to their small class size, we remove the two prostate cell lines and the unknown cell line, \"PROSTATE\" and \"UNKNOWN\" entires respectively."
   ]
  },
  {
   "cell_type": "code",
   "execution_count": 5,
   "id": "ee296298",
   "metadata": {},
   "outputs": [],
   "source": [
    "nci60[\"labels\"] = rownames(nci60)\n",
    "nci60 = nci60[ , c(\"labels\", names(nci60)[names(nci60) != \"labels\"])]\n",
    "nci60[\"labels\"] = NCI60$labs\n",
    "colnames(nci60)[colnames(nci60) == 'labels'] <- 'Description'\n",
    "nci60 = nci60[!grepl(\"UNKNOWN\", nci60$Description),] # Remove UNKNOWN\n",
    "nci60 = nci60[!grepl(\"PROSTATE\", nci60$Description),] # Remove PROSTATE"
   ]
  },
  {
   "cell_type": "markdown",
   "id": "173207a5",
   "metadata": {},
   "source": [
    "## Top 200 <a class=\"anchor\" id=\"top\"></a>"
   ]
  },
  {
   "cell_type": "markdown",
   "id": "6c138f75",
   "metadata": {},
   "source": [
    "We now filter the metrics for including only the top 200 with the greatest variance, as these metrics have the most significant impact on clustering."
   ]
  },
  {
   "cell_type": "code",
   "execution_count": 6,
   "id": "a60b800d",
   "metadata": {},
   "outputs": [],
   "source": [
    "variance = sort(sapply(nci60[-1], var), decreasing = TRUE)  # Sorted gene variance\n",
    "nci60_var = as.data.frame(variance)\n",
    "nci60_var[\"Description\"] = rownames(nci60_var)"
   ]
  },
  {
   "cell_type": "code",
   "execution_count": 7,
   "id": "89a5ce6f",
   "metadata": {},
   "outputs": [
    {
     "data": {
      "text/html": [
       "<table>\n",
       "<thead><tr><th></th><th scope=col>variance</th><th scope=col>Description</th></tr></thead>\n",
       "<tbody>\n",
       "\t<tr><th scope=row>4701</th><td>11.942075</td><td>4701     </td></tr>\n",
       "\t<tr><th scope=row>4700</th><td>11.429800</td><td>4700     </td></tr>\n",
       "\t<tr><th scope=row>256</th><td> 7.978482</td><td>256      </td></tr>\n",
       "\t<tr><th scope=row>16</th><td> 7.715338</td><td>16       </td></tr>\n",
       "\t<tr><th scope=row>4699</th><td> 7.711871</td><td>4699     </td></tr>\n",
       "\t<tr><th scope=row>6393</th><td> 7.659845</td><td>6393     </td></tr>\n",
       "</tbody>\n",
       "</table>\n"
      ],
      "text/latex": [
       "\\begin{tabular}{r|ll}\n",
       "  & variance & Description\\\\\n",
       "\\hline\n",
       "\t4701 & 11.942075 & 4701     \\\\\n",
       "\t4700 & 11.429800 & 4700     \\\\\n",
       "\t256 &  7.978482 & 256      \\\\\n",
       "\t16 &  7.715338 & 16       \\\\\n",
       "\t4699 &  7.711871 & 4699     \\\\\n",
       "\t6393 &  7.659845 & 6393     \\\\\n",
       "\\end{tabular}\n"
      ],
      "text/markdown": [
       "\n",
       "| <!--/--> | variance | Description |\n",
       "|---|---|---|\n",
       "| 4701 | 11.942075 | 4701      |\n",
       "| 4700 | 11.429800 | 4700      |\n",
       "| 256 |  7.978482 | 256       |\n",
       "| 16 |  7.715338 | 16        |\n",
       "| 4699 |  7.711871 | 4699      |\n",
       "| 6393 |  7.659845 | 6393      |\n",
       "\n"
      ],
      "text/plain": [
       "     variance  Description\n",
       "4701 11.942075 4701       \n",
       "4700 11.429800 4700       \n",
       "256   7.978482 256        \n",
       "16    7.715338 16         \n",
       "4699  7.711871 4699       \n",
       "6393  7.659845 6393       "
      ]
     },
     "metadata": {},
     "output_type": "display_data"
    }
   ],
   "source": [
    "top_number = 200\n",
    "top_rows = nci60_var[c(1:top_number), ]\n",
    "head(top_rows)"
   ]
  },
  {
   "cell_type": "code",
   "execution_count": 8,
   "id": "7a0d743b",
   "metadata": {},
   "outputs": [],
   "source": [
    "row_list = as.list(top_rows[\"Description\"])\n",
    "top_row_list = unlist(setdiff(row_list, names(nci60)))\n",
    "top_nci60 = nci60[, top_row_list]\n",
    "top_nci60[\"Description\"] = nci60[rownames(top_nci60) %in% rownames(nci60), \"Description\"]\n",
    "top_nci60 = top_nci60[ , c(\"Description\", names(top_nci60)[names(top_nci60) != \"Description\"])] "
   ]
  },
  {
   "cell_type": "markdown",
   "id": "4a3d9dcd",
   "metadata": {},
   "source": [
    "The dataframe `top_nci60` contains 200 genes (metrics) which provides the most variance."
   ]
  },
  {
   "cell_type": "code",
   "execution_count": 9,
   "id": "165ac242",
   "metadata": {},
   "outputs": [
    {
     "data": {
      "text/html": [
       "<table>\n",
       "<thead><tr><th></th><th scope=col>Description</th><th scope=col>4701</th><th scope=col>4700</th><th scope=col>256</th><th scope=col>16</th><th scope=col>4699</th><th scope=col>6393</th><th scope=col>6149</th><th scope=col>286</th><th scope=col>6415</th><th scope=col>...</th><th scope=col>5721</th><th scope=col>6622</th><th scope=col>5336</th><th scope=col>1067</th><th scope=col>6288</th><th scope=col>5872</th><th scope=col>5489</th><th scope=col>78</th><th scope=col>127</th><th scope=col>3383</th></tr></thead>\n",
       "<tbody>\n",
       "\t<tr><th scope=row>V1</th><td>CNS       </td><td> 5.770000 </td><td> 5.820000 </td><td>-1.910000 </td><td>-2.37     </td><td> 4.760000 </td><td> 5.4799900</td><td> 0.000000 </td><td> 0.610000 </td><td> 5.230000 </td><td>...       </td><td>2.790000  </td><td> 1.210000 </td><td>-0.890000 </td><td>-1.055010 </td><td>-2.1850100</td><td>0.045000  </td><td> 1.990000 </td><td> 2.360000 </td><td>-1.305000 </td><td>-0.5400195</td></tr>\n",
       "\t<tr><th scope=row>V2</th><td>CNS       </td><td> 5.039961 </td><td> 5.069961 </td><td>-1.980039 </td><td> 0.00     </td><td> 4.779961 </td><td> 5.7299510</td><td>-0.480039 </td><td>-3.980039 </td><td> 5.329961 </td><td>...       </td><td>1.629961  </td><td> 1.599961 </td><td>-1.060039 </td><td>-1.055049 </td><td>-3.4050490</td><td>0.874961  </td><td> 2.609961 </td><td> 0.869961 </td><td>-0.375039 </td><td> 0.4799415</td></tr>\n",
       "\t<tr><th scope=row>V3</th><td>CNS       </td><td>-1.440000 </td><td>-1.030000 </td><td>-0.580000 </td><td> 0.00     </td><td> 0.000000 </td><td> 4.6299900</td><td> 2.060000 </td><td>-1.580000 </td><td> 0.000000 </td><td>...       </td><td>1.920000  </td><td>-0.260000 </td><td> 0.000000 </td><td> 1.294990 </td><td>-0.6850098</td><td>1.445000  </td><td> 0.200000 </td><td> 1.990000 </td><td> 0.705000 </td><td> 0.3199805</td></tr>\n",
       "\t<tr><th scope=row>V4</th><td>RENAL     </td><td>-2.420000 </td><td>-2.420000 </td><td>-1.880000 </td><td>-1.02     </td><td>-2.590000 </td><td> 1.2999900</td><td> 5.190000 </td><td>-4.880000 </td><td> 7.020000 </td><td>...       </td><td>3.200000  </td><td> 1.110000 </td><td> 1.060000 </td><td> 1.414990 </td><td>-4.4750100</td><td>2.365000  </td><td> 1.080000 </td><td> 3.600000 </td><td>-0.685000 </td><td> 0.1399805</td></tr>\n",
       "\t<tr><th scope=row>V5</th><td>BREAST    </td><td>-2.955000 </td><td>-2.955000 </td><td>-1.235000 </td><td> 0.00     </td><td>-2.535000 </td><td>-1.0550098</td><td> 7.425000 </td><td>-3.235000 </td><td> 4.395000 </td><td>...       </td><td>2.865000  </td><td> 1.245000 </td><td> 0.000000 </td><td>-1.480010 </td><td>-3.8300098</td><td>3.320000  </td><td>-1.155000 </td><td>-1.385000 </td><td>-1.220000 </td><td> 0.4449805</td></tr>\n",
       "\t<tr><th scope=row>V6</th><td>CNS       </td><td> 0.000000 </td><td>-3.180000 </td><td>-3.050000 </td><td>-0.05     </td><td>-1.170000 </td><td> 0.5899902</td><td> 4.230000 </td><td>-5.050000 </td><td>-0.220000 </td><td>...       </td><td>2.860000  </td><td> 1.360000 </td><td> 0.000000 </td><td>-1.425010 </td><td>-2.2550100</td><td>1.615000  </td><td>-0.970000 </td><td> 1.370000 </td><td>-2.445000 </td><td>-1.5400200</td></tr>\n",
       "</tbody>\n",
       "</table>\n"
      ],
      "text/latex": [
       "\\begin{tabular}{r|lllllllllllllllllllllllllllllllllllllllllllllllllllllllllllllllllllllllllllllllllllllllllllllllllllllllllllllllllllllllllllllllllllllllllllllllllllllllllllllllllllllllllllllllllllllllllllllllllllllllll}\n",
       "  & Description & 4701 & 4700 & 256 & 16 & 4699 & 6393 & 6149 & 286 & 6415 & ... & 5721 & 6622 & 5336 & 1067 & 6288 & 5872 & 5489 & 78 & 127 & 3383\\\\\n",
       "\\hline\n",
       "\tV1 & CNS        &  5.770000  &  5.820000  & -1.910000  & -2.37      &  4.760000  &  5.4799900 &  0.000000  &  0.610000  &  5.230000  & ...        & 2.790000   &  1.210000  & -0.890000  & -1.055010  & -2.1850100 & 0.045000   &  1.990000  &  2.360000  & -1.305000  & -0.5400195\\\\\n",
       "\tV2 & CNS        &  5.039961  &  5.069961  & -1.980039  &  0.00      &  4.779961  &  5.7299510 & -0.480039  & -3.980039  &  5.329961  & ...        & 1.629961   &  1.599961  & -1.060039  & -1.055049  & -3.4050490 & 0.874961   &  2.609961  &  0.869961  & -0.375039  &  0.4799415\\\\\n",
       "\tV3 & CNS        & -1.440000  & -1.030000  & -0.580000  &  0.00      &  0.000000  &  4.6299900 &  2.060000  & -1.580000  &  0.000000  & ...        & 1.920000   & -0.260000  &  0.000000  &  1.294990  & -0.6850098 & 1.445000   &  0.200000  &  1.990000  &  0.705000  &  0.3199805\\\\\n",
       "\tV4 & RENAL      & -2.420000  & -2.420000  & -1.880000  & -1.02      & -2.590000  &  1.2999900 &  5.190000  & -4.880000  &  7.020000  & ...        & 3.200000   &  1.110000  &  1.060000  &  1.414990  & -4.4750100 & 2.365000   &  1.080000  &  3.600000  & -0.685000  &  0.1399805\\\\\n",
       "\tV5 & BREAST     & -2.955000  & -2.955000  & -1.235000  &  0.00      & -2.535000  & -1.0550098 &  7.425000  & -3.235000  &  4.395000  & ...        & 2.865000   &  1.245000  &  0.000000  & -1.480010  & -3.8300098 & 3.320000   & -1.155000  & -1.385000  & -1.220000  &  0.4449805\\\\\n",
       "\tV6 & CNS        &  0.000000  & -3.180000  & -3.050000  & -0.05      & -1.170000  &  0.5899902 &  4.230000  & -5.050000  & -0.220000  & ...        & 2.860000   &  1.360000  &  0.000000  & -1.425010  & -2.2550100 & 1.615000   & -0.970000  &  1.370000  & -2.445000  & -1.5400200\\\\\n",
       "\\end{tabular}\n"
      ],
      "text/markdown": [
       "\n",
       "| <!--/--> | Description | 4701 | 4700 | 256 | 16 | 4699 | 6393 | 6149 | 286 | 6415 | ... | 5721 | 6622 | 5336 | 1067 | 6288 | 5872 | 5489 | 78 | 127 | 3383 |\n",
       "|---|---|---|---|---|---|---|---|---|---|---|---|---|---|---|---|---|---|---|---|---|---|\n",
       "| V1 | CNS        |  5.770000  |  5.820000  | -1.910000  | -2.37      |  4.760000  |  5.4799900 |  0.000000  |  0.610000  |  5.230000  | ...        | 2.790000   |  1.210000  | -0.890000  | -1.055010  | -2.1850100 | 0.045000   |  1.990000  |  2.360000  | -1.305000  | -0.5400195 |\n",
       "| V2 | CNS        |  5.039961  |  5.069961  | -1.980039  |  0.00      |  4.779961  |  5.7299510 | -0.480039  | -3.980039  |  5.329961  | ...        | 1.629961   |  1.599961  | -1.060039  | -1.055049  | -3.4050490 | 0.874961   |  2.609961  |  0.869961  | -0.375039  |  0.4799415 |\n",
       "| V3 | CNS        | -1.440000  | -1.030000  | -0.580000  |  0.00      |  0.000000  |  4.6299900 |  2.060000  | -1.580000  |  0.000000  | ...        | 1.920000   | -0.260000  |  0.000000  |  1.294990  | -0.6850098 | 1.445000   |  0.200000  |  1.990000  |  0.705000  |  0.3199805 |\n",
       "| V4 | RENAL      | -2.420000  | -2.420000  | -1.880000  | -1.02      | -2.590000  |  1.2999900 |  5.190000  | -4.880000  |  7.020000  | ...        | 3.200000   |  1.110000  |  1.060000  |  1.414990  | -4.4750100 | 2.365000   |  1.080000  |  3.600000  | -0.685000  |  0.1399805 |\n",
       "| V5 | BREAST     | -2.955000  | -2.955000  | -1.235000  |  0.00      | -2.535000  | -1.0550098 |  7.425000  | -3.235000  |  4.395000  | ...        | 2.865000   |  1.245000  |  0.000000  | -1.480010  | -3.8300098 | 3.320000   | -1.155000  | -1.385000  | -1.220000  |  0.4449805 |\n",
       "| V6 | CNS        |  0.000000  | -3.180000  | -3.050000  | -0.05      | -1.170000  |  0.5899902 |  4.230000  | -5.050000  | -0.220000  | ...        | 2.860000   |  1.360000  |  0.000000  | -1.425010  | -2.2550100 | 1.615000   | -0.970000  |  1.370000  | -2.445000  | -1.5400200 |\n",
       "\n"
      ],
      "text/plain": [
       "   Description 4701      4700      256       16    4699      6393      \n",
       "V1 CNS          5.770000  5.820000 -1.910000 -2.37  4.760000  5.4799900\n",
       "V2 CNS          5.039961  5.069961 -1.980039  0.00  4.779961  5.7299510\n",
       "V3 CNS         -1.440000 -1.030000 -0.580000  0.00  0.000000  4.6299900\n",
       "V4 RENAL       -2.420000 -2.420000 -1.880000 -1.02 -2.590000  1.2999900\n",
       "V5 BREAST      -2.955000 -2.955000 -1.235000  0.00 -2.535000 -1.0550098\n",
       "V6 CNS          0.000000 -3.180000 -3.050000 -0.05 -1.170000  0.5899902\n",
       "   6149      286       6415      ... 5721     6622      5336      1067     \n",
       "V1  0.000000  0.610000  5.230000 ... 2.790000  1.210000 -0.890000 -1.055010\n",
       "V2 -0.480039 -3.980039  5.329961 ... 1.629961  1.599961 -1.060039 -1.055049\n",
       "V3  2.060000 -1.580000  0.000000 ... 1.920000 -0.260000  0.000000  1.294990\n",
       "V4  5.190000 -4.880000  7.020000 ... 3.200000  1.110000  1.060000  1.414990\n",
       "V5  7.425000 -3.235000  4.395000 ... 2.865000  1.245000  0.000000 -1.480010\n",
       "V6  4.230000 -5.050000 -0.220000 ... 2.860000  1.360000  0.000000 -1.425010\n",
       "   6288       5872     5489      78        127       3383      \n",
       "V1 -2.1850100 0.045000  1.990000  2.360000 -1.305000 -0.5400195\n",
       "V2 -3.4050490 0.874961  2.609961  0.869961 -0.375039  0.4799415\n",
       "V3 -0.6850098 1.445000  0.200000  1.990000  0.705000  0.3199805\n",
       "V4 -4.4750100 2.365000  1.080000  3.600000 -0.685000  0.1399805\n",
       "V5 -3.8300098 3.320000 -1.155000 -1.385000 -1.220000  0.4449805\n",
       "V6 -2.2550100 1.615000 -0.970000  1.370000 -2.445000 -1.5400200"
      ]
     },
     "metadata": {},
     "output_type": "display_data"
    }
   ],
   "source": [
    "head(top_nci60)"
   ]
  },
  {
   "cell_type": "code",
   "execution_count": 36,
   "id": "de3238a9",
   "metadata": {},
   "outputs": [
    {
     "name": "stdout",
     "output_type": "stream",
     "text": [
      "RSKC will be performed (maxK-1)*(B0*1*(1+1)+B*(1+1))= 360 times\n",
      "\n",
      "Assessing the observed data \n",
      "[1] \"Best k is: 3\"\n"
     ]
    }
   ],
   "source": [
    "set.seed(13606)\n",
    "nstart = 1000\n",
    "L1 = 6\n",
    "alpha = 0\n",
    "top_nci60_matrix = as.matrix(top_nci60[, -1])\n",
    "clest_result = Clest(top_nci60_matrix, maxK=10, alpha=alpha, B = 15, B0 = 5, nstart = nstart, L1 = L1, beta = 0.1, pca = FALSE, silent=TRUE)\n",
    "print(paste0(\"Best k is: \", clest_result$K))"
   ]
  }
 ],
 "metadata": {
  "kernelspec": {
   "display_name": "R",
   "language": "R",
   "name": "ir"
  },
  "language_info": {
   "codemirror_mode": "r",
   "file_extension": ".r",
   "mimetype": "text/x-r-source",
   "name": "R",
   "pygments_lexer": "r",
   "version": "3.6.1"
  }
 },
 "nbformat": 4,
 "nbformat_minor": 5
}
