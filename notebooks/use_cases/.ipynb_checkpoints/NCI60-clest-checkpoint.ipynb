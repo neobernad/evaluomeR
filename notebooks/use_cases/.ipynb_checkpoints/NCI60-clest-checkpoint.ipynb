{
 "cells": [
  {
   "cell_type": "markdown",
   "id": "285a2f02",
   "metadata": {},
   "source": [
    "# NCI60 using Clest"
   ]
  },
  {
   "cell_type": "code",
   "execution_count": 1,
   "id": "9ba99e51",
   "metadata": {
    "scrolled": true
   },
   "outputs": [
    {
     "name": "stderr",
     "output_type": "stream",
     "text": [
      "Cargando paquete requerido: flexclust\n",
      "\n",
      "Cargando paquete requerido: grid\n",
      "\n",
      "Cargando paquete requerido: lattice\n",
      "\n",
      "Cargando paquete requerido: modeltools\n",
      "\n",
      "Cargando paquete requerido: stats4\n",
      "\n",
      "\n",
      "Adjuntando el paquete: 'dplyr'\n",
      "\n",
      "\n",
      "The following objects are masked from 'package:stats':\n",
      "\n",
      "    filter, lag\n",
      "\n",
      "\n",
      "The following objects are masked from 'package:base':\n",
      "\n",
      "    intersect, setdiff, setequal, union\n",
      "\n",
      "\n",
      "Cargando paquete requerido: ggplot2\n",
      "\n",
      "\n",
      "Adjuntando el paquete: 'MLmetrics'\n",
      "\n",
      "\n",
      "The following objects are masked from 'package:caret':\n",
      "\n",
      "    MAE, RMSE\n",
      "\n",
      "\n",
      "The following object is masked from 'package:RSKC':\n",
      "\n",
      "    Sensitivity\n",
      "\n",
      "\n",
      "The following object is masked from 'package:base':\n",
      "\n",
      "    Recall\n",
      "\n",
      "\n"
     ]
    }
   ],
   "source": [
    "library(\"ISLR\") \n",
    "library(\"RSKC\")\n",
    "library(\"dplyr\")\n",
    "library(\"caret\")\n",
    "library(\"MLmetrics\")\n",
    "library(\"ggplot2\")\n",
    "library(\"ggrepel\")\n",
    "library(\"reshape2\")\n",
    "\n",
    "options(scipen=10)\n",
    "options(repr.plot.width=12, repr.plot.height=12)"
   ]
  },
  {
   "cell_type": "code",
   "execution_count": 2,
   "id": "5b925569",
   "metadata": {
    "scrolled": true
   },
   "outputs": [
    {
     "data": {
      "text/plain": [
       "[1] '4.4.1'"
      ]
     },
     "metadata": {},
     "output_type": "display_data"
    },
    {
     "data": {
      "text/plain": [
       "[1] '2.4.2'"
      ]
     },
     "metadata": {},
     "output_type": "display_data"
    }
   ],
   "source": [
    "getRversion()\n",
    "packageVersion(\"RSKC\")"
   ]
  },
  {
   "cell_type": "markdown",
   "id": "52215d63",
   "metadata": {},
   "source": [
    "# Table of contents\n",
    "* [Dataset](#dataset)\n",
    "    * [Top 200](#top)\n",
    "* [Cest](#clest)\n",
    "    * [RSKC](#rskc)\n",
    "* [PCA](#pca)\n",
    "* [Sensitivity](#sensitivity)\n",
    "* [CER](#cer)"
   ]
  },
  {
   "cell_type": "markdown",
   "id": "8c073791",
   "metadata": {},
   "source": [
    "# Dataset <a class=\"anchor\" id=\"dataset\"></a>"
   ]
  },
  {
   "cell_type": "code",
   "execution_count": 3,
   "id": "50cb9920",
   "metadata": {},
   "outputs": [
    {
     "data": {
      "text/html": [
       "<table class=\"dataframe\">\n",
       "<caption>A data.frame: 6 × 6830</caption>\n",
       "<thead>\n",
       "\t<tr><th></th><th scope=col>1</th><th scope=col>2</th><th scope=col>3</th><th scope=col>4</th><th scope=col>5</th><th scope=col>6</th><th scope=col>7</th><th scope=col>8</th><th scope=col>9</th><th scope=col>10</th><th scope=col>⋯</th><th scope=col>6821</th><th scope=col>6822</th><th scope=col>6823</th><th scope=col>6824</th><th scope=col>6825</th><th scope=col>6826</th><th scope=col>6827</th><th scope=col>6828</th><th scope=col>6829</th><th scope=col>6830</th></tr>\n",
       "\t<tr><th></th><th scope=col>&lt;dbl&gt;</th><th scope=col>&lt;dbl&gt;</th><th scope=col>&lt;dbl&gt;</th><th scope=col>&lt;dbl&gt;</th><th scope=col>&lt;dbl&gt;</th><th scope=col>&lt;dbl&gt;</th><th scope=col>&lt;dbl&gt;</th><th scope=col>&lt;dbl&gt;</th><th scope=col>&lt;dbl&gt;</th><th scope=col>&lt;dbl&gt;</th><th scope=col>⋯</th><th scope=col>&lt;dbl&gt;</th><th scope=col>&lt;dbl&gt;</th><th scope=col>&lt;dbl&gt;</th><th scope=col>&lt;dbl&gt;</th><th scope=col>&lt;dbl&gt;</th><th scope=col>&lt;dbl&gt;</th><th scope=col>&lt;dbl&gt;</th><th scope=col>&lt;dbl&gt;</th><th scope=col>&lt;dbl&gt;</th><th scope=col>&lt;dbl&gt;</th></tr>\n",
       "</thead>\n",
       "<tbody>\n",
       "\t<tr><th scope=row>V1</th><td>0.300000</td><td> 1.180000</td><td> 0.550000</td><td> 1.140000</td><td>-0.265000</td><td>-7.000000e-02</td><td> 0.350000</td><td>-0.315000</td><td>-0.45000000</td><td>-0.65498050</td><td>⋯</td><td>-0.9900195</td><td> 0.000000</td><td> 0.030000</td><td>-0.175000</td><td> 0.6299805</td><td>-0.030000</td><td> 0.0000000</td><td> 0.280000</td><td>-0.340000</td><td>-1.930000</td></tr>\n",
       "\t<tr><th scope=row>V2</th><td>0.679961</td><td> 1.289961</td><td> 0.169961</td><td> 0.379961</td><td> 0.464961</td><td> 5.799610e-01</td><td> 0.699961</td><td> 0.724961</td><td>-0.04003899</td><td>-0.28501950</td><td>⋯</td><td>-0.2700585</td><td>-0.300039</td><td>-0.250039</td><td>-0.535039</td><td> 0.1099415</td><td>-0.860039</td><td>-1.2500490</td><td>-0.770039</td><td>-0.390039</td><td>-2.000039</td></tr>\n",
       "\t<tr><th scope=row>V3</th><td>0.940000</td><td>-0.040000</td><td>-0.170000</td><td>-0.040000</td><td>-0.605000</td><td> 0.000000e+00</td><td> 0.090000</td><td> 0.645000</td><td> 0.43000000</td><td> 0.47501950</td><td>⋯</td><td> 0.3199805</td><td> 0.120000</td><td>-0.740000</td><td>-0.595000</td><td>-0.2700195</td><td>-0.150000</td><td> 0.0000000</td><td>-0.120000</td><td>-0.410000</td><td> 0.000000</td></tr>\n",
       "\t<tr><th scope=row>V4</th><td>0.280000</td><td>-0.310000</td><td> 0.680000</td><td>-0.810000</td><td> 0.625000</td><td>-1.387779e-17</td><td> 0.170000</td><td> 0.245000</td><td> 0.02000000</td><td> 0.09501949</td><td>⋯</td><td>-1.2400200</td><td>-0.110000</td><td>-0.160000</td><td> 0.095000</td><td>-0.3500195</td><td>-0.300000</td><td>-1.1500100</td><td> 1.090000</td><td>-0.260000</td><td>-1.100000</td></tr>\n",
       "\t<tr><th scope=row>V5</th><td>0.485000</td><td>-0.465000</td><td> 0.395000</td><td> 0.905000</td><td> 0.200000</td><td>-5.000000e-03</td><td> 0.085000</td><td> 0.110000</td><td> 0.23500000</td><td> 1.49001949</td><td>⋯</td><td> 0.5549805</td><td>-0.775000</td><td>-0.515000</td><td>-0.320000</td><td> 0.6349805</td><td> 0.605000</td><td> 0.0000000</td><td> 0.745000</td><td> 0.425000</td><td> 0.145000</td></tr>\n",
       "\t<tr><th scope=row>V6</th><td>0.310000</td><td>-0.030000</td><td>-0.100000</td><td>-0.460000</td><td>-0.205000</td><td>-5.400000e-01</td><td>-0.640000</td><td>-0.585000</td><td>-0.77000000</td><td>-0.24498050</td><td>⋯</td><td>-0.5900195</td><td> 0.000000</td><td>-0.740000</td><td>-2.095000</td><td>-1.3900200</td><td>-0.400000</td><td> 0.6999902</td><td> 0.290000</td><td> 0.550000</td><td> 0.000000</td></tr>\n",
       "</tbody>\n",
       "</table>\n"
      ],
      "text/latex": [
       "A data.frame: 6 × 6830\n",
       "\\begin{tabular}{r|lllllllllllllllllllll}\n",
       "  & 1 & 2 & 3 & 4 & 5 & 6 & 7 & 8 & 9 & 10 & ⋯ & 6821 & 6822 & 6823 & 6824 & 6825 & 6826 & 6827 & 6828 & 6829 & 6830\\\\\n",
       "  & <dbl> & <dbl> & <dbl> & <dbl> & <dbl> & <dbl> & <dbl> & <dbl> & <dbl> & <dbl> & ⋯ & <dbl> & <dbl> & <dbl> & <dbl> & <dbl> & <dbl> & <dbl> & <dbl> & <dbl> & <dbl>\\\\\n",
       "\\hline\n",
       "\tV1 & 0.300000 &  1.180000 &  0.550000 &  1.140000 & -0.265000 & -7.000000e-02 &  0.350000 & -0.315000 & -0.45000000 & -0.65498050 & ⋯ & -0.9900195 &  0.000000 &  0.030000 & -0.175000 &  0.6299805 & -0.030000 &  0.0000000 &  0.280000 & -0.340000 & -1.930000\\\\\n",
       "\tV2 & 0.679961 &  1.289961 &  0.169961 &  0.379961 &  0.464961 &  5.799610e-01 &  0.699961 &  0.724961 & -0.04003899 & -0.28501950 & ⋯ & -0.2700585 & -0.300039 & -0.250039 & -0.535039 &  0.1099415 & -0.860039 & -1.2500490 & -0.770039 & -0.390039 & -2.000039\\\\\n",
       "\tV3 & 0.940000 & -0.040000 & -0.170000 & -0.040000 & -0.605000 &  0.000000e+00 &  0.090000 &  0.645000 &  0.43000000 &  0.47501950 & ⋯ &  0.3199805 &  0.120000 & -0.740000 & -0.595000 & -0.2700195 & -0.150000 &  0.0000000 & -0.120000 & -0.410000 &  0.000000\\\\\n",
       "\tV4 & 0.280000 & -0.310000 &  0.680000 & -0.810000 &  0.625000 & -1.387779e-17 &  0.170000 &  0.245000 &  0.02000000 &  0.09501949 & ⋯ & -1.2400200 & -0.110000 & -0.160000 &  0.095000 & -0.3500195 & -0.300000 & -1.1500100 &  1.090000 & -0.260000 & -1.100000\\\\\n",
       "\tV5 & 0.485000 & -0.465000 &  0.395000 &  0.905000 &  0.200000 & -5.000000e-03 &  0.085000 &  0.110000 &  0.23500000 &  1.49001949 & ⋯ &  0.5549805 & -0.775000 & -0.515000 & -0.320000 &  0.6349805 &  0.605000 &  0.0000000 &  0.745000 &  0.425000 &  0.145000\\\\\n",
       "\tV6 & 0.310000 & -0.030000 & -0.100000 & -0.460000 & -0.205000 & -5.400000e-01 & -0.640000 & -0.585000 & -0.77000000 & -0.24498050 & ⋯ & -0.5900195 &  0.000000 & -0.740000 & -2.095000 & -1.3900200 & -0.400000 &  0.6999902 &  0.290000 &  0.550000 &  0.000000\\\\\n",
       "\\end{tabular}\n"
      ],
      "text/markdown": [
       "\n",
       "A data.frame: 6 × 6830\n",
       "\n",
       "| <!--/--> | 1 &lt;dbl&gt; | 2 &lt;dbl&gt; | 3 &lt;dbl&gt; | 4 &lt;dbl&gt; | 5 &lt;dbl&gt; | 6 &lt;dbl&gt; | 7 &lt;dbl&gt; | 8 &lt;dbl&gt; | 9 &lt;dbl&gt; | 10 &lt;dbl&gt; | ⋯ ⋯ | 6821 &lt;dbl&gt; | 6822 &lt;dbl&gt; | 6823 &lt;dbl&gt; | 6824 &lt;dbl&gt; | 6825 &lt;dbl&gt; | 6826 &lt;dbl&gt; | 6827 &lt;dbl&gt; | 6828 &lt;dbl&gt; | 6829 &lt;dbl&gt; | 6830 &lt;dbl&gt; |\n",
       "|---|---|---|---|---|---|---|---|---|---|---|---|---|---|---|---|---|---|---|---|---|---|\n",
       "| V1 | 0.300000 |  1.180000 |  0.550000 |  1.140000 | -0.265000 | -7.000000e-02 |  0.350000 | -0.315000 | -0.45000000 | -0.65498050 | ⋯ | -0.9900195 |  0.000000 |  0.030000 | -0.175000 |  0.6299805 | -0.030000 |  0.0000000 |  0.280000 | -0.340000 | -1.930000 |\n",
       "| V2 | 0.679961 |  1.289961 |  0.169961 |  0.379961 |  0.464961 |  5.799610e-01 |  0.699961 |  0.724961 | -0.04003899 | -0.28501950 | ⋯ | -0.2700585 | -0.300039 | -0.250039 | -0.535039 |  0.1099415 | -0.860039 | -1.2500490 | -0.770039 | -0.390039 | -2.000039 |\n",
       "| V3 | 0.940000 | -0.040000 | -0.170000 | -0.040000 | -0.605000 |  0.000000e+00 |  0.090000 |  0.645000 |  0.43000000 |  0.47501950 | ⋯ |  0.3199805 |  0.120000 | -0.740000 | -0.595000 | -0.2700195 | -0.150000 |  0.0000000 | -0.120000 | -0.410000 |  0.000000 |\n",
       "| V4 | 0.280000 | -0.310000 |  0.680000 | -0.810000 |  0.625000 | -1.387779e-17 |  0.170000 |  0.245000 |  0.02000000 |  0.09501949 | ⋯ | -1.2400200 | -0.110000 | -0.160000 |  0.095000 | -0.3500195 | -0.300000 | -1.1500100 |  1.090000 | -0.260000 | -1.100000 |\n",
       "| V5 | 0.485000 | -0.465000 |  0.395000 |  0.905000 |  0.200000 | -5.000000e-03 |  0.085000 |  0.110000 |  0.23500000 |  1.49001949 | ⋯ |  0.5549805 | -0.775000 | -0.515000 | -0.320000 |  0.6349805 |  0.605000 |  0.0000000 |  0.745000 |  0.425000 |  0.145000 |\n",
       "| V6 | 0.310000 | -0.030000 | -0.100000 | -0.460000 | -0.205000 | -5.400000e-01 | -0.640000 | -0.585000 | -0.77000000 | -0.24498050 | ⋯ | -0.5900195 |  0.000000 | -0.740000 | -2.095000 | -1.3900200 | -0.400000 |  0.6999902 |  0.290000 |  0.550000 |  0.000000 |\n",
       "\n"
      ],
      "text/plain": [
       "   1        2         3         4         5         6             7        \n",
       "V1 0.300000  1.180000  0.550000  1.140000 -0.265000 -7.000000e-02  0.350000\n",
       "V2 0.679961  1.289961  0.169961  0.379961  0.464961  5.799610e-01  0.699961\n",
       "V3 0.940000 -0.040000 -0.170000 -0.040000 -0.605000  0.000000e+00  0.090000\n",
       "V4 0.280000 -0.310000  0.680000 -0.810000  0.625000 -1.387779e-17  0.170000\n",
       "V5 0.485000 -0.465000  0.395000  0.905000  0.200000 -5.000000e-03  0.085000\n",
       "V6 0.310000 -0.030000 -0.100000 -0.460000 -0.205000 -5.400000e-01 -0.640000\n",
       "   8         9           10          ⋯ 6821       6822      6823      6824     \n",
       "V1 -0.315000 -0.45000000 -0.65498050 ⋯ -0.9900195  0.000000  0.030000 -0.175000\n",
       "V2  0.724961 -0.04003899 -0.28501950 ⋯ -0.2700585 -0.300039 -0.250039 -0.535039\n",
       "V3  0.645000  0.43000000  0.47501950 ⋯  0.3199805  0.120000 -0.740000 -0.595000\n",
       "V4  0.245000  0.02000000  0.09501949 ⋯ -1.2400200 -0.110000 -0.160000  0.095000\n",
       "V5  0.110000  0.23500000  1.49001949 ⋯  0.5549805 -0.775000 -0.515000 -0.320000\n",
       "V6 -0.585000 -0.77000000 -0.24498050 ⋯ -0.5900195  0.000000 -0.740000 -2.095000\n",
       "   6825       6826      6827       6828      6829      6830     \n",
       "V1  0.6299805 -0.030000  0.0000000  0.280000 -0.340000 -1.930000\n",
       "V2  0.1099415 -0.860039 -1.2500490 -0.770039 -0.390039 -2.000039\n",
       "V3 -0.2700195 -0.150000  0.0000000 -0.120000 -0.410000  0.000000\n",
       "V4 -0.3500195 -0.300000 -1.1500100  1.090000 -0.260000 -1.100000\n",
       "V5  0.6349805  0.605000  0.0000000  0.745000  0.425000  0.145000\n",
       "V6 -1.3900200 -0.400000  0.6999902  0.290000  0.550000  0.000000"
      ]
     },
     "metadata": {},
     "output_type": "display_data"
    }
   ],
   "source": [
    "nci60 = as.data.frame(NCI60$data)\n",
    "head(nci60)"
   ]
  },
  {
   "cell_type": "markdown",
   "id": "6e33e971",
   "metadata": {},
   "source": [
    "There are 14 types of classes within the dataset: **CNS**, **RENAL**, **BREAST**, **NSCLC**, **UNKNOWN**, **OVARIAN**, **MELANOMA**, **PROSTATE**, **LEUKEMIA**, **K562B-repro**, **K562A-repro**, **COLON**, **MCF7A-repro** and **MCF7D-repro**:"
   ]
  },
  {
   "cell_type": "code",
   "execution_count": 4,
   "id": "7cc5ec8b",
   "metadata": {
    "scrolled": true
   },
   "outputs": [
    {
     "data": {
      "text/html": [
       "<style>\n",
       ".list-inline {list-style: none; margin:0; padding: 0}\n",
       ".list-inline>li {display: inline-block}\n",
       ".list-inline>li:not(:last-child)::after {content: \"\\00b7\"; padding: 0 .5ex}\n",
       "</style>\n",
       "<ol class=list-inline><li>'CNS'</li><li>'RENAL'</li><li>'BREAST'</li><li>'NSCLC'</li><li>'UNKNOWN'</li><li>'OVARIAN'</li><li>'MELANOMA'</li><li>'PROSTATE'</li><li>'LEUKEMIA'</li><li>'K562B-repro'</li><li>'K562A-repro'</li><li>'COLON'</li><li>'MCF7A-repro'</li><li>'MCF7D-repro'</li></ol>\n"
      ],
      "text/latex": [
       "\\begin{enumerate*}\n",
       "\\item 'CNS'\n",
       "\\item 'RENAL'\n",
       "\\item 'BREAST'\n",
       "\\item 'NSCLC'\n",
       "\\item 'UNKNOWN'\n",
       "\\item 'OVARIAN'\n",
       "\\item 'MELANOMA'\n",
       "\\item 'PROSTATE'\n",
       "\\item 'LEUKEMIA'\n",
       "\\item 'K562B-repro'\n",
       "\\item 'K562A-repro'\n",
       "\\item 'COLON'\n",
       "\\item 'MCF7A-repro'\n",
       "\\item 'MCF7D-repro'\n",
       "\\end{enumerate*}\n"
      ],
      "text/markdown": [
       "1. 'CNS'\n",
       "2. 'RENAL'\n",
       "3. 'BREAST'\n",
       "4. 'NSCLC'\n",
       "5. 'UNKNOWN'\n",
       "6. 'OVARIAN'\n",
       "7. 'MELANOMA'\n",
       "8. 'PROSTATE'\n",
       "9. 'LEUKEMIA'\n",
       "10. 'K562B-repro'\n",
       "11. 'K562A-repro'\n",
       "12. 'COLON'\n",
       "13. 'MCF7A-repro'\n",
       "14. 'MCF7D-repro'\n",
       "\n",
       "\n"
      ],
      "text/plain": [
       " [1] \"CNS\"         \"RENAL\"       \"BREAST\"      \"NSCLC\"       \"UNKNOWN\"    \n",
       " [6] \"OVARIAN\"     \"MELANOMA\"    \"PROSTATE\"    \"LEUKEMIA\"    \"K562B-repro\"\n",
       "[11] \"K562A-repro\" \"COLON\"       \"MCF7A-repro\" \"MCF7D-repro\""
      ]
     },
     "metadata": {},
     "output_type": "display_data"
    }
   ],
   "source": [
    "as.vector(unlist(unique(NCI60$labs)))"
   ]
  },
  {
   "cell_type": "markdown",
   "id": "9e8097f3",
   "metadata": {},
   "source": [
    "Here, we prepare the NCI60 dataset for the analysis:\n",
    "\n",
    "- We add a column named `Description` containing the class (category) of each row\n",
    "- Due to their small class size, we remove the two prostate cell lines and the unknown cell line, \"PROSTATE\" and \"UNKNOWN\" entires respectively."
   ]
  },
  {
   "cell_type": "code",
   "execution_count": 5,
   "id": "ee296298",
   "metadata": {},
   "outputs": [],
   "source": [
    "nci60[\"labels\"] = rownames(nci60)\n",
    "nci60 = nci60[ , c(\"labels\", names(nci60)[names(nci60) != \"labels\"])]\n",
    "nci60[\"labels\"] = NCI60$labs\n",
    "colnames(nci60)[colnames(nci60) == 'labels'] <- 'Description'\n",
    "nci60 = nci60[!grepl(\"UNKNOWN\", nci60$Description),] # Remove UNKNOWN\n",
    "nci60 = nci60[!grepl(\"PROSTATE\", nci60$Description),] # Remove PROSTATE"
   ]
  },
  {
   "cell_type": "markdown",
   "id": "173207a5",
   "metadata": {},
   "source": [
    "## Top 200 <a class=\"anchor\" id=\"top\"></a>"
   ]
  },
  {
   "cell_type": "markdown",
   "id": "6c138f75",
   "metadata": {},
   "source": [
    "We now filter the metrics for including only the top 200 with the greatest variance, as these metrics have the most significant impact on clustering."
   ]
  },
  {
   "cell_type": "code",
   "execution_count": 6,
   "id": "a60b800d",
   "metadata": {},
   "outputs": [],
   "source": [
    "variance = sort(sapply(nci60[-1], var), decreasing = TRUE)  # Sorted gene variance\n",
    "nci60_var = as.data.frame(variance)\n",
    "nci60_var[\"Description\"] = rownames(nci60_var)"
   ]
  },
  {
   "cell_type": "code",
   "execution_count": 7,
   "id": "89a5ce6f",
   "metadata": {},
   "outputs": [
    {
     "data": {
      "text/html": [
       "<table class=\"dataframe\">\n",
       "<caption>A data.frame: 6 × 2</caption>\n",
       "<thead>\n",
       "\t<tr><th></th><th scope=col>variance</th><th scope=col>Description</th></tr>\n",
       "\t<tr><th></th><th scope=col>&lt;dbl&gt;</th><th scope=col>&lt;chr&gt;</th></tr>\n",
       "</thead>\n",
       "<tbody>\n",
       "\t<tr><th scope=row>4701</th><td>11.942075</td><td>4701</td></tr>\n",
       "\t<tr><th scope=row>4700</th><td>11.429800</td><td>4700</td></tr>\n",
       "\t<tr><th scope=row>256</th><td> 7.978482</td><td>256 </td></tr>\n",
       "\t<tr><th scope=row>16</th><td> 7.715338</td><td>16  </td></tr>\n",
       "\t<tr><th scope=row>4699</th><td> 7.711871</td><td>4699</td></tr>\n",
       "\t<tr><th scope=row>6393</th><td> 7.659845</td><td>6393</td></tr>\n",
       "</tbody>\n",
       "</table>\n"
      ],
      "text/latex": [
       "A data.frame: 6 × 2\n",
       "\\begin{tabular}{r|ll}\n",
       "  & variance & Description\\\\\n",
       "  & <dbl> & <chr>\\\\\n",
       "\\hline\n",
       "\t4701 & 11.942075 & 4701\\\\\n",
       "\t4700 & 11.429800 & 4700\\\\\n",
       "\t256 &  7.978482 & 256 \\\\\n",
       "\t16 &  7.715338 & 16  \\\\\n",
       "\t4699 &  7.711871 & 4699\\\\\n",
       "\t6393 &  7.659845 & 6393\\\\\n",
       "\\end{tabular}\n"
      ],
      "text/markdown": [
       "\n",
       "A data.frame: 6 × 2\n",
       "\n",
       "| <!--/--> | variance &lt;dbl&gt; | Description &lt;chr&gt; |\n",
       "|---|---|---|\n",
       "| 4701 | 11.942075 | 4701 |\n",
       "| 4700 | 11.429800 | 4700 |\n",
       "| 256 |  7.978482 | 256  |\n",
       "| 16 |  7.715338 | 16   |\n",
       "| 4699 |  7.711871 | 4699 |\n",
       "| 6393 |  7.659845 | 6393 |\n",
       "\n"
      ],
      "text/plain": [
       "     variance  Description\n",
       "4701 11.942075 4701       \n",
       "4700 11.429800 4700       \n",
       "256   7.978482 256        \n",
       "16    7.715338 16         \n",
       "4699  7.711871 4699       \n",
       "6393  7.659845 6393       "
      ]
     },
     "metadata": {},
     "output_type": "display_data"
    }
   ],
   "source": [
    "top_number = 200\n",
    "top_rows = nci60_var[c(1:top_number), ]\n",
    "head(top_rows)"
   ]
  },
  {
   "cell_type": "code",
   "execution_count": 8,
   "id": "7a0d743b",
   "metadata": {},
   "outputs": [],
   "source": [
    "row_list = as.list(top_rows[\"Description\"])\n",
    "top_row_list = unlist(setdiff(row_list, names(nci60)))\n",
    "top_nci60 = nci60[, top_row_list]\n",
    "top_nci60[\"Description\"] = nci60[rownames(top_nci60) %in% rownames(nci60), \"Description\"]\n",
    "top_nci60 = top_nci60[ , c(\"Description\", names(top_nci60)[names(top_nci60) != \"Description\"])] "
   ]
  },
  {
   "cell_type": "markdown",
   "id": "4a3d9dcd",
   "metadata": {},
   "source": [
    "The dataframe `top_nci60` contains 200 genes (metrics) which provides the most variance."
   ]
  },
  {
   "cell_type": "code",
   "execution_count": 9,
   "id": "165ac242",
   "metadata": {},
   "outputs": [
    {
     "data": {
      "text/html": [
       "<table class=\"dataframe\">\n",
       "<caption>A data.frame: 6 × 201</caption>\n",
       "<thead>\n",
       "\t<tr><th></th><th scope=col>Description</th><th scope=col>4701</th><th scope=col>4700</th><th scope=col>256</th><th scope=col>16</th><th scope=col>4699</th><th scope=col>6393</th><th scope=col>6149</th><th scope=col>286</th><th scope=col>6415</th><th scope=col>⋯</th><th scope=col>5721</th><th scope=col>6622</th><th scope=col>5336</th><th scope=col>1067</th><th scope=col>6288</th><th scope=col>5872</th><th scope=col>5489</th><th scope=col>78</th><th scope=col>127</th><th scope=col>3383</th></tr>\n",
       "\t<tr><th></th><th scope=col>&lt;chr&gt;</th><th scope=col>&lt;dbl&gt;</th><th scope=col>&lt;dbl&gt;</th><th scope=col>&lt;dbl&gt;</th><th scope=col>&lt;dbl&gt;</th><th scope=col>&lt;dbl&gt;</th><th scope=col>&lt;dbl&gt;</th><th scope=col>&lt;dbl&gt;</th><th scope=col>&lt;dbl&gt;</th><th scope=col>&lt;dbl&gt;</th><th scope=col>⋯</th><th scope=col>&lt;dbl&gt;</th><th scope=col>&lt;dbl&gt;</th><th scope=col>&lt;dbl&gt;</th><th scope=col>&lt;dbl&gt;</th><th scope=col>&lt;dbl&gt;</th><th scope=col>&lt;dbl&gt;</th><th scope=col>&lt;dbl&gt;</th><th scope=col>&lt;dbl&gt;</th><th scope=col>&lt;dbl&gt;</th><th scope=col>&lt;dbl&gt;</th></tr>\n",
       "</thead>\n",
       "<tbody>\n",
       "\t<tr><th scope=row>V1</th><td>CNS   </td><td> 5.770000</td><td> 5.820000</td><td>-1.910000</td><td>-2.37</td><td> 4.760000</td><td> 5.4799900</td><td> 0.000000</td><td> 0.610000</td><td> 5.230000</td><td>⋯</td><td>2.790000</td><td> 1.210000</td><td>-0.890000</td><td>-1.055010</td><td>-2.1850100</td><td>0.045000</td><td> 1.990000</td><td> 2.360000</td><td>-1.305000</td><td>-0.5400195</td></tr>\n",
       "\t<tr><th scope=row>V2</th><td>CNS   </td><td> 5.039961</td><td> 5.069961</td><td>-1.980039</td><td> 0.00</td><td> 4.779961</td><td> 5.7299510</td><td>-0.480039</td><td>-3.980039</td><td> 5.329961</td><td>⋯</td><td>1.629961</td><td> 1.599961</td><td>-1.060039</td><td>-1.055049</td><td>-3.4050490</td><td>0.874961</td><td> 2.609961</td><td> 0.869961</td><td>-0.375039</td><td> 0.4799415</td></tr>\n",
       "\t<tr><th scope=row>V3</th><td>CNS   </td><td>-1.440000</td><td>-1.030000</td><td>-0.580000</td><td> 0.00</td><td> 0.000000</td><td> 4.6299900</td><td> 2.060000</td><td>-1.580000</td><td> 0.000000</td><td>⋯</td><td>1.920000</td><td>-0.260000</td><td> 0.000000</td><td> 1.294990</td><td>-0.6850098</td><td>1.445000</td><td> 0.200000</td><td> 1.990000</td><td> 0.705000</td><td> 0.3199805</td></tr>\n",
       "\t<tr><th scope=row>V4</th><td>RENAL </td><td>-2.420000</td><td>-2.420000</td><td>-1.880000</td><td>-1.02</td><td>-2.590000</td><td> 1.2999900</td><td> 5.190000</td><td>-4.880000</td><td> 7.020000</td><td>⋯</td><td>3.200000</td><td> 1.110000</td><td> 1.060000</td><td> 1.414990</td><td>-4.4750100</td><td>2.365000</td><td> 1.080000</td><td> 3.600000</td><td>-0.685000</td><td> 0.1399805</td></tr>\n",
       "\t<tr><th scope=row>V5</th><td>BREAST</td><td>-2.955000</td><td>-2.955000</td><td>-1.235000</td><td> 0.00</td><td>-2.535000</td><td>-1.0550098</td><td> 7.425000</td><td>-3.235000</td><td> 4.395000</td><td>⋯</td><td>2.865000</td><td> 1.245000</td><td> 0.000000</td><td>-1.480010</td><td>-3.8300098</td><td>3.320000</td><td>-1.155000</td><td>-1.385000</td><td>-1.220000</td><td> 0.4449805</td></tr>\n",
       "\t<tr><th scope=row>V6</th><td>CNS   </td><td> 0.000000</td><td>-3.180000</td><td>-3.050000</td><td>-0.05</td><td>-1.170000</td><td> 0.5899902</td><td> 4.230000</td><td>-5.050000</td><td>-0.220000</td><td>⋯</td><td>2.860000</td><td> 1.360000</td><td> 0.000000</td><td>-1.425010</td><td>-2.2550100</td><td>1.615000</td><td>-0.970000</td><td> 1.370000</td><td>-2.445000</td><td>-1.5400200</td></tr>\n",
       "</tbody>\n",
       "</table>\n"
      ],
      "text/latex": [
       "A data.frame: 6 × 201\n",
       "\\begin{tabular}{r|lllllllllllllllllllll}\n",
       "  & Description & 4701 & 4700 & 256 & 16 & 4699 & 6393 & 6149 & 286 & 6415 & ⋯ & 5721 & 6622 & 5336 & 1067 & 6288 & 5872 & 5489 & 78 & 127 & 3383\\\\\n",
       "  & <chr> & <dbl> & <dbl> & <dbl> & <dbl> & <dbl> & <dbl> & <dbl> & <dbl> & <dbl> & ⋯ & <dbl> & <dbl> & <dbl> & <dbl> & <dbl> & <dbl> & <dbl> & <dbl> & <dbl> & <dbl>\\\\\n",
       "\\hline\n",
       "\tV1 & CNS    &  5.770000 &  5.820000 & -1.910000 & -2.37 &  4.760000 &  5.4799900 &  0.000000 &  0.610000 &  5.230000 & ⋯ & 2.790000 &  1.210000 & -0.890000 & -1.055010 & -2.1850100 & 0.045000 &  1.990000 &  2.360000 & -1.305000 & -0.5400195\\\\\n",
       "\tV2 & CNS    &  5.039961 &  5.069961 & -1.980039 &  0.00 &  4.779961 &  5.7299510 & -0.480039 & -3.980039 &  5.329961 & ⋯ & 1.629961 &  1.599961 & -1.060039 & -1.055049 & -3.4050490 & 0.874961 &  2.609961 &  0.869961 & -0.375039 &  0.4799415\\\\\n",
       "\tV3 & CNS    & -1.440000 & -1.030000 & -0.580000 &  0.00 &  0.000000 &  4.6299900 &  2.060000 & -1.580000 &  0.000000 & ⋯ & 1.920000 & -0.260000 &  0.000000 &  1.294990 & -0.6850098 & 1.445000 &  0.200000 &  1.990000 &  0.705000 &  0.3199805\\\\\n",
       "\tV4 & RENAL  & -2.420000 & -2.420000 & -1.880000 & -1.02 & -2.590000 &  1.2999900 &  5.190000 & -4.880000 &  7.020000 & ⋯ & 3.200000 &  1.110000 &  1.060000 &  1.414990 & -4.4750100 & 2.365000 &  1.080000 &  3.600000 & -0.685000 &  0.1399805\\\\\n",
       "\tV5 & BREAST & -2.955000 & -2.955000 & -1.235000 &  0.00 & -2.535000 & -1.0550098 &  7.425000 & -3.235000 &  4.395000 & ⋯ & 2.865000 &  1.245000 &  0.000000 & -1.480010 & -3.8300098 & 3.320000 & -1.155000 & -1.385000 & -1.220000 &  0.4449805\\\\\n",
       "\tV6 & CNS    &  0.000000 & -3.180000 & -3.050000 & -0.05 & -1.170000 &  0.5899902 &  4.230000 & -5.050000 & -0.220000 & ⋯ & 2.860000 &  1.360000 &  0.000000 & -1.425010 & -2.2550100 & 1.615000 & -0.970000 &  1.370000 & -2.445000 & -1.5400200\\\\\n",
       "\\end{tabular}\n"
      ],
      "text/markdown": [
       "\n",
       "A data.frame: 6 × 201\n",
       "\n",
       "| <!--/--> | Description &lt;chr&gt; | 4701 &lt;dbl&gt; | 4700 &lt;dbl&gt; | 256 &lt;dbl&gt; | 16 &lt;dbl&gt; | 4699 &lt;dbl&gt; | 6393 &lt;dbl&gt; | 6149 &lt;dbl&gt; | 286 &lt;dbl&gt; | 6415 &lt;dbl&gt; | ⋯ ⋯ | 5721 &lt;dbl&gt; | 6622 &lt;dbl&gt; | 5336 &lt;dbl&gt; | 1067 &lt;dbl&gt; | 6288 &lt;dbl&gt; | 5872 &lt;dbl&gt; | 5489 &lt;dbl&gt; | 78 &lt;dbl&gt; | 127 &lt;dbl&gt; | 3383 &lt;dbl&gt; |\n",
       "|---|---|---|---|---|---|---|---|---|---|---|---|---|---|---|---|---|---|---|---|---|---|\n",
       "| V1 | CNS    |  5.770000 |  5.820000 | -1.910000 | -2.37 |  4.760000 |  5.4799900 |  0.000000 |  0.610000 |  5.230000 | ⋯ | 2.790000 |  1.210000 | -0.890000 | -1.055010 | -2.1850100 | 0.045000 |  1.990000 |  2.360000 | -1.305000 | -0.5400195 |\n",
       "| V2 | CNS    |  5.039961 |  5.069961 | -1.980039 |  0.00 |  4.779961 |  5.7299510 | -0.480039 | -3.980039 |  5.329961 | ⋯ | 1.629961 |  1.599961 | -1.060039 | -1.055049 | -3.4050490 | 0.874961 |  2.609961 |  0.869961 | -0.375039 |  0.4799415 |\n",
       "| V3 | CNS    | -1.440000 | -1.030000 | -0.580000 |  0.00 |  0.000000 |  4.6299900 |  2.060000 | -1.580000 |  0.000000 | ⋯ | 1.920000 | -0.260000 |  0.000000 |  1.294990 | -0.6850098 | 1.445000 |  0.200000 |  1.990000 |  0.705000 |  0.3199805 |\n",
       "| V4 | RENAL  | -2.420000 | -2.420000 | -1.880000 | -1.02 | -2.590000 |  1.2999900 |  5.190000 | -4.880000 |  7.020000 | ⋯ | 3.200000 |  1.110000 |  1.060000 |  1.414990 | -4.4750100 | 2.365000 |  1.080000 |  3.600000 | -0.685000 |  0.1399805 |\n",
       "| V5 | BREAST | -2.955000 | -2.955000 | -1.235000 |  0.00 | -2.535000 | -1.0550098 |  7.425000 | -3.235000 |  4.395000 | ⋯ | 2.865000 |  1.245000 |  0.000000 | -1.480010 | -3.8300098 | 3.320000 | -1.155000 | -1.385000 | -1.220000 |  0.4449805 |\n",
       "| V6 | CNS    |  0.000000 | -3.180000 | -3.050000 | -0.05 | -1.170000 |  0.5899902 |  4.230000 | -5.050000 | -0.220000 | ⋯ | 2.860000 |  1.360000 |  0.000000 | -1.425010 | -2.2550100 | 1.615000 | -0.970000 |  1.370000 | -2.445000 | -1.5400200 |\n",
       "\n"
      ],
      "text/plain": [
       "   Description 4701      4700      256       16    4699      6393      \n",
       "V1 CNS          5.770000  5.820000 -1.910000 -2.37  4.760000  5.4799900\n",
       "V2 CNS          5.039961  5.069961 -1.980039  0.00  4.779961  5.7299510\n",
       "V3 CNS         -1.440000 -1.030000 -0.580000  0.00  0.000000  4.6299900\n",
       "V4 RENAL       -2.420000 -2.420000 -1.880000 -1.02 -2.590000  1.2999900\n",
       "V5 BREAST      -2.955000 -2.955000 -1.235000  0.00 -2.535000 -1.0550098\n",
       "V6 CNS          0.000000 -3.180000 -3.050000 -0.05 -1.170000  0.5899902\n",
       "   6149      286       6415      ⋯ 5721     6622      5336      1067     \n",
       "V1  0.000000  0.610000  5.230000 ⋯ 2.790000  1.210000 -0.890000 -1.055010\n",
       "V2 -0.480039 -3.980039  5.329961 ⋯ 1.629961  1.599961 -1.060039 -1.055049\n",
       "V3  2.060000 -1.580000  0.000000 ⋯ 1.920000 -0.260000  0.000000  1.294990\n",
       "V4  5.190000 -4.880000  7.020000 ⋯ 3.200000  1.110000  1.060000  1.414990\n",
       "V5  7.425000 -3.235000  4.395000 ⋯ 2.865000  1.245000  0.000000 -1.480010\n",
       "V6  4.230000 -5.050000 -0.220000 ⋯ 2.860000  1.360000  0.000000 -1.425010\n",
       "   6288       5872     5489      78        127       3383      \n",
       "V1 -2.1850100 0.045000  1.990000  2.360000 -1.305000 -0.5400195\n",
       "V2 -3.4050490 0.874961  2.609961  0.869961 -0.375039  0.4799415\n",
       "V3 -0.6850098 1.445000  0.200000  1.990000  0.705000  0.3199805\n",
       "V4 -4.4750100 2.365000  1.080000  3.600000 -0.685000  0.1399805\n",
       "V5 -3.8300098 3.320000 -1.155000 -1.385000 -1.220000  0.4449805\n",
       "V6 -2.2550100 1.615000 -0.970000  1.370000 -2.445000 -1.5400200"
      ]
     },
     "metadata": {},
     "output_type": "display_data"
    }
   ],
   "source": [
    "head(top_nci60)"
   ]
  },
  {
   "cell_type": "markdown",
   "id": "e2acd8c2",
   "metadata": {},
   "source": [
    "# Clest <a class=\"anchor\" id=\"clest\"></a>\n",
    "Execution of Clest over the previous dataset."
   ]
  },
  {
   "cell_type": "code",
   "execution_count": 10,
   "id": "de3238a9",
   "metadata": {},
   "outputs": [
    {
     "name": "stdout",
     "output_type": "stream",
     "text": [
      "RSKC will be performed (maxK-1)*(B0*1*(1+1)+B*(1+1))= 360 times\n",
      "\n",
      "Assessing the observed data \n",
      "[1] \"Best k is: 6\"\n"
     ]
    }
   ],
   "source": [
    "set.seed(13606)\n",
    "nstart = 1000\n",
    "#L1 = 6\n",
    "L1 = 11.2112753007614\n",
    "alpha = 0.1\n",
    "top_nci60_matrix = as.matrix(top_nci60[, -1])\n",
    "clest_result = Clest(top_nci60_matrix, maxK=10, alpha=alpha, B = 15, B0 = 5, nstart = nstart, L1 = L1, beta = 0.1, pca = FALSE, silent=TRUE)\n",
    "print(paste0(\"Best k is: \", clest_result$K))"
   ]
  },
  {
   "cell_type": "code",
   "execution_count": 11,
   "id": "8c21f559",
   "metadata": {},
   "outputs": [
    {
     "data": {
      "text/html": [
       "<style>\n",
       ".list-inline {list-style: none; margin:0; padding: 0}\n",
       ".list-inline>li {display: inline-block}\n",
       ".list-inline>li:not(:last-child)::after {content: \"\\00b7\"; padding: 0 .5ex}\n",
       "</style>\n",
       "<ol class=list-inline><li>'call'</li><li>'K'</li><li>'result.table'</li><li>'referenceCERs'</li><li>'observedCERs'</li></ol>\n"
      ],
      "text/latex": [
       "\\begin{enumerate*}\n",
       "\\item 'call'\n",
       "\\item 'K'\n",
       "\\item 'result.table'\n",
       "\\item 'referenceCERs'\n",
       "\\item 'observedCERs'\n",
       "\\end{enumerate*}\n"
      ],
      "text/markdown": [
       "1. 'call'\n",
       "2. 'K'\n",
       "3. 'result.table'\n",
       "4. 'referenceCERs'\n",
       "5. 'observedCERs'\n",
       "\n",
       "\n"
      ],
      "text/plain": [
       "[1] \"call\"          \"K\"             \"result.table\"  \"referenceCERs\"\n",
       "[5] \"observedCERs\" "
      ]
     },
     "metadata": {},
     "output_type": "display_data"
    },
    {
     "data": {
      "text/html": [
       "<table class=\"dataframe\">\n",
       "<caption>A matrix: 8 × 4 of type dbl</caption>\n",
       "<thead>\n",
       "\t<tr><th></th><th scope=col>test.stat</th><th scope=col>obsCER</th><th scope=col>refCER</th><th scope=col>P-value</th></tr>\n",
       "</thead>\n",
       "<tbody>\n",
       "\t<tr><th scope=row>3</th><td>-0.2442105</td><td>0.2052632</td><td>0.4494737</td><td>0</td></tr>\n",
       "\t<tr><th scope=row>4</th><td>-0.2242105</td><td>0.2000000</td><td>0.4242105</td><td>0</td></tr>\n",
       "\t<tr><th scope=row>5</th><td>-0.2221053</td><td>0.1157895</td><td>0.3378947</td><td>0</td></tr>\n",
       "\t<tr><th scope=row>6</th><td>-0.3157895</td><td>0.1368421</td><td>0.4526316</td><td>0</td></tr>\n",
       "\t<tr><th scope=row>7</th><td>-0.2263158</td><td>0.1368421</td><td>0.3631579</td><td>0</td></tr>\n",
       "\t<tr><th scope=row>8</th><td>-0.2484211</td><td>0.1210526</td><td>0.3694737</td><td>0</td></tr>\n",
       "\t<tr><th scope=row>9</th><td>-0.1094737</td><td>0.1157895</td><td>0.2252632</td><td>0</td></tr>\n",
       "\t<tr><th scope=row>10</th><td>-0.1442105</td><td>0.1105263</td><td>0.2547368</td><td>0</td></tr>\n",
       "</tbody>\n",
       "</table>\n"
      ],
      "text/latex": [
       "A matrix: 8 × 4 of type dbl\n",
       "\\begin{tabular}{r|llll}\n",
       "  & test.stat & obsCER & refCER & P-value\\\\\n",
       "\\hline\n",
       "\t3 & -0.2442105 & 0.2052632 & 0.4494737 & 0\\\\\n",
       "\t4 & -0.2242105 & 0.2000000 & 0.4242105 & 0\\\\\n",
       "\t5 & -0.2221053 & 0.1157895 & 0.3378947 & 0\\\\\n",
       "\t6 & -0.3157895 & 0.1368421 & 0.4526316 & 0\\\\\n",
       "\t7 & -0.2263158 & 0.1368421 & 0.3631579 & 0\\\\\n",
       "\t8 & -0.2484211 & 0.1210526 & 0.3694737 & 0\\\\\n",
       "\t9 & -0.1094737 & 0.1157895 & 0.2252632 & 0\\\\\n",
       "\t10 & -0.1442105 & 0.1105263 & 0.2547368 & 0\\\\\n",
       "\\end{tabular}\n"
      ],
      "text/markdown": [
       "\n",
       "A matrix: 8 × 4 of type dbl\n",
       "\n",
       "| <!--/--> | test.stat | obsCER | refCER | P-value |\n",
       "|---|---|---|---|---|\n",
       "| 3 | -0.2442105 | 0.2052632 | 0.4494737 | 0 |\n",
       "| 4 | -0.2242105 | 0.2000000 | 0.4242105 | 0 |\n",
       "| 5 | -0.2221053 | 0.1157895 | 0.3378947 | 0 |\n",
       "| 6 | -0.3157895 | 0.1368421 | 0.4526316 | 0 |\n",
       "| 7 | -0.2263158 | 0.1368421 | 0.3631579 | 0 |\n",
       "| 8 | -0.2484211 | 0.1210526 | 0.3694737 | 0 |\n",
       "| 9 | -0.1094737 | 0.1157895 | 0.2252632 | 0 |\n",
       "| 10 | -0.1442105 | 0.1105263 | 0.2547368 | 0 |\n",
       "\n"
      ],
      "text/plain": [
       "   test.stat  obsCER    refCER    P-value\n",
       "3  -0.2442105 0.2052632 0.4494737 0      \n",
       "4  -0.2242105 0.2000000 0.4242105 0      \n",
       "5  -0.2221053 0.1157895 0.3378947 0      \n",
       "6  -0.3157895 0.1368421 0.4526316 0      \n",
       "7  -0.2263158 0.1368421 0.3631579 0      \n",
       "8  -0.2484211 0.1210526 0.3694737 0      \n",
       "9  -0.1094737 0.1157895 0.2252632 0      \n",
       "10 -0.1442105 0.1105263 0.2547368 0      "
      ]
     },
     "metadata": {},
     "output_type": "display_data"
    }
   ],
   "source": [
    "clest_result$result.table = clest_result$result.table[-1, ]\n",
    "names(clest_result)\n",
    "clest_result$result.table"
   ]
  },
  {
   "cell_type": "code",
   "execution_count": 12,
   "id": "dec13869",
   "metadata": {},
   "outputs": [],
   "source": [
    "clest_result$result.table = as.data.frame(clest_result$result.table)\n",
    "clest_result$result.table$k = as.numeric(rownames(clest_result$result.table))"
   ]
  },
  {
   "cell_type": "code",
   "execution_count": 13,
   "id": "75a1f741",
   "metadata": {},
   "outputs": [
    {
     "data": {
      "text/html": [
       "<table class=\"dataframe\">\n",
       "<caption>A data.frame: 6 × 3</caption>\n",
       "<thead>\n",
       "\t<tr><th></th><th scope=col>k</th><th scope=col>variable</th><th scope=col>value</th></tr>\n",
       "\t<tr><th></th><th scope=col>&lt;dbl&gt;</th><th scope=col>&lt;fct&gt;</th><th scope=col>&lt;dbl&gt;</th></tr>\n",
       "</thead>\n",
       "<tbody>\n",
       "\t<tr><th scope=row>1</th><td>3</td><td>obsCER</td><td>0.2052632</td></tr>\n",
       "\t<tr><th scope=row>2</th><td>4</td><td>obsCER</td><td>0.2000000</td></tr>\n",
       "\t<tr><th scope=row>3</th><td>5</td><td>obsCER</td><td>0.1157895</td></tr>\n",
       "\t<tr><th scope=row>4</th><td>6</td><td>obsCER</td><td>0.1368421</td></tr>\n",
       "\t<tr><th scope=row>5</th><td>7</td><td>obsCER</td><td>0.1368421</td></tr>\n",
       "\t<tr><th scope=row>6</th><td>8</td><td>obsCER</td><td>0.1210526</td></tr>\n",
       "</tbody>\n",
       "</table>\n"
      ],
      "text/latex": [
       "A data.frame: 6 × 3\n",
       "\\begin{tabular}{r|lll}\n",
       "  & k & variable & value\\\\\n",
       "  & <dbl> & <fct> & <dbl>\\\\\n",
       "\\hline\n",
       "\t1 & 3 & obsCER & 0.2052632\\\\\n",
       "\t2 & 4 & obsCER & 0.2000000\\\\\n",
       "\t3 & 5 & obsCER & 0.1157895\\\\\n",
       "\t4 & 6 & obsCER & 0.1368421\\\\\n",
       "\t5 & 7 & obsCER & 0.1368421\\\\\n",
       "\t6 & 8 & obsCER & 0.1210526\\\\\n",
       "\\end{tabular}\n"
      ],
      "text/markdown": [
       "\n",
       "A data.frame: 6 × 3\n",
       "\n",
       "| <!--/--> | k &lt;dbl&gt; | variable &lt;fct&gt; | value &lt;dbl&gt; |\n",
       "|---|---|---|---|\n",
       "| 1 | 3 | obsCER | 0.2052632 |\n",
       "| 2 | 4 | obsCER | 0.2000000 |\n",
       "| 3 | 5 | obsCER | 0.1157895 |\n",
       "| 4 | 6 | obsCER | 0.1368421 |\n",
       "| 5 | 7 | obsCER | 0.1368421 |\n",
       "| 6 | 8 | obsCER | 0.1210526 |\n",
       "\n"
      ],
      "text/plain": [
       "  k variable value    \n",
       "1 3 obsCER   0.2052632\n",
       "2 4 obsCER   0.2000000\n",
       "3 5 obsCER   0.1157895\n",
       "4 6 obsCER   0.1368421\n",
       "5 7 obsCER   0.1368421\n",
       "6 8 obsCER   0.1210526"
      ]
     },
     "metadata": {},
     "output_type": "display_data"
    }
   ],
   "source": [
    "melted_data <- melt(clest_result$result.table, id.vars = 'k', measure.vars = c('obsCER', 'refCER'))\n",
    "head(melted_data)"
   ]
  },
  {
   "cell_type": "code",
   "execution_count": 14,
   "id": "ee971468",
   "metadata": {},
   "outputs": [
    {
     "data": {
      "image/png": "[encoded data removed]",
      "text/plain": [
       "plot without title"
      ]
     },
     "metadata": {
      "image/png": {
       "height": 720,
       "width": 720
      }
     },
     "output_type": "display_data"
    }
   ],
   "source": [
    "ggplot(melted_data, aes(x = k, y = value, color = variable, linetype = variable, shape = variable)) +\n",
    "  geom_point() +\n",
    "  geom_line() +\n",
    "  scale_linetype_manual(values = c(\"solid\", \"dashed\")) +\n",
    "  scale_shape_manual(values = c(16, 17)) +\n",
    "  scale_x_continuous(breaks = melted_data$k) +\n",
    "  labs(title = \"Clest output with NCI-60\",\n",
    "       subtitle = \"Comparing observed CER and reference CER across k values\",\n",
    "       x = \"k\",\n",
    "       y = \"CER\",\n",
    "       linetype = \"CER Type\",\n",
    "       shape = \"CER Type\",\n",
    "       color = \"CER Type\") +\n",
    "  theme_minimal()"
   ]
  },
  {
   "cell_type": "markdown",
   "id": "62a59463",
   "metadata": {},
   "source": [
    "## RSKC <a class=\"anchor\" id=\"rskc\"></a>\n",
    "Running RSKC with the same parameters as Clest to retrieve the individuals per cluster."
   ]
  },
  {
   "cell_type": "code",
   "execution_count": 15,
   "id": "dec39c77",
   "metadata": {},
   "outputs": [],
   "source": [
    "rT<-RSKC(top_nci60_matrix, ncl = clest_result$K, alpha = alpha, L1 = L1, nstart = nstart, silent = TRUE)"
   ]
  },
  {
   "cell_type": "code",
   "execution_count": 16,
   "id": "8e9db801-3292-4503-a89b-529335300186",
   "metadata": {},
   "outputs": [],
   "source": [
    "labels = rT$labels"
   ]
  },
  {
   "cell_type": "code",
   "execution_count": 17,
   "id": "8bee4902-9f83-4f95-9bce-6fe65a0920e1",
   "metadata": {},
   "outputs": [
    {
     "name": "stderr",
     "output_type": "stream",
     "text": [
      "\tNumber of trimmed cases: 7\n",
      "\n"
     ]
    }
   ],
   "source": [
    "trimmedRows = c()\n",
    "if (length(rT$oW) > 1) {\n",
    "    trimmedRows  = c(rT$oE,rT$oW)\n",
    "    trimmedRows = unique(trimmedRows)\n",
    "    trimmedRows = sort(trimmedRows)\n",
    "    message(paste0(\"\\tNumber of trimmed cases: \", length(trimmedRows)))\n",
    "    top_nci60 = top_nci60[-trimmedRows, ]\n",
    "    labels = labels[-trimmedRows]\n",
    "}\n"
   ]
  },
  {
   "cell_type": "code",
   "execution_count": 18,
   "id": "fc64a034-80ac-40b3-a5c1-7b6ae70b9e11",
   "metadata": {},
   "outputs": [
    {
     "name": "stderr",
     "output_type": "stream",
     "text": [
      "\tNumber of affected columns: 3\n",
      "\n"
     ]
    }
   ],
   "source": [
    "trimmedColumns = names(rT$weights)[rT$weights == 0]\n",
    "if (length(trimmedColumns) > 0) {\n",
    "    message(paste0(\"\\tNumber of affected columns: \", length(trimmedColumns)))\n",
    "    top_nci60 = top_nci60[, !(names(top_nci60) %in% trimmedColumns)]\n",
    "}"
   ]
  },
  {
   "cell_type": "markdown",
   "id": "ee41eff9",
   "metadata": {},
   "source": [
    "# PCA <a class=\"anchor\" id=\"pca\"></a>\n",
    "We employ Principal Component Analysis (PCA) as a dimensionality reduction technique to facilitate the visualization of clusters within our dataset. PCA allow us to transform the original high-dimensional data into a lower-dimensional space, while preserving as much of the variability as possible."
   ]
  },
  {
   "cell_type": "code",
   "execution_count": 19,
   "id": "d9cfaeb8",
   "metadata": {},
   "outputs": [
    {
     "data": {
      "text/html": [
       "<table class=\"dataframe\">\n",
       "<caption>A data.frame: 6 × 56</caption>\n",
       "<thead>\n",
       "\t<tr><th></th><th scope=col>PC1</th><th scope=col>PC2</th><th scope=col>PC3</th><th scope=col>PC4</th><th scope=col>PC5</th><th scope=col>PC6</th><th scope=col>PC7</th><th scope=col>PC8</th><th scope=col>PC9</th><th scope=col>PC10</th><th scope=col>⋯</th><th scope=col>PC47</th><th scope=col>PC48</th><th scope=col>PC49</th><th scope=col>PC50</th><th scope=col>PC51</th><th scope=col>PC52</th><th scope=col>PC53</th><th scope=col>PC54</th><th scope=col>Cluster</th><th scope=col>Individual</th></tr>\n",
       "\t<tr><th></th><th scope=col>&lt;dbl&gt;</th><th scope=col>&lt;dbl&gt;</th><th scope=col>&lt;dbl&gt;</th><th scope=col>&lt;dbl&gt;</th><th scope=col>&lt;dbl&gt;</th><th scope=col>&lt;dbl&gt;</th><th scope=col>&lt;dbl&gt;</th><th scope=col>&lt;dbl&gt;</th><th scope=col>&lt;dbl&gt;</th><th scope=col>&lt;dbl&gt;</th><th scope=col>⋯</th><th scope=col>&lt;dbl&gt;</th><th scope=col>&lt;dbl&gt;</th><th scope=col>&lt;dbl&gt;</th><th scope=col>&lt;dbl&gt;</th><th scope=col>&lt;dbl&gt;</th><th scope=col>&lt;dbl&gt;</th><th scope=col>&lt;dbl&gt;</th><th scope=col>&lt;dbl&gt;</th><th scope=col>&lt;fct&gt;</th><th scope=col>&lt;chr&gt;</th></tr>\n",
       "</thead>\n",
       "<tbody>\n",
       "\t<tr><th scope=row>V1</th><td>-6.254786</td><td> 0.1282094</td><td>-2.431944</td><td>5.880122</td><td>-4.7991485</td><td> 4.4730400</td><td>-0.0157922</td><td> 3.556741</td><td>-0.8977973</td><td> 2.6609919</td><td>⋯</td><td>-1.953721848</td><td> 0.3243438</td><td> 0.40924312</td><td> 0.48025089</td><td>-0.2400962</td><td>-0.698876031</td><td> 1.21901714</td><td>3.616164e-15</td><td>1</td><td>CNS   </td></tr>\n",
       "\t<tr><th scope=row>V2</th><td>-6.175318</td><td>-1.2035723</td><td>-3.044739</td><td>4.951965</td><td>-5.3622008</td><td> 5.6565282</td><td>-0.1852564</td><td> 4.144812</td><td>-2.3097717</td><td> 2.8630531</td><td>⋯</td><td> 1.745653013</td><td>-0.2572544</td><td>-0.31207393</td><td>-0.42760750</td><td> 0.2612200</td><td> 0.735387137</td><td>-1.19392397</td><td>2.151292e-15</td><td>1</td><td>CNS   </td></tr>\n",
       "\t<tr><th scope=row>V3</th><td>-8.301388</td><td> 0.5930776</td><td>-2.761450</td><td>1.473972</td><td>-5.0674298</td><td> 1.7824641</td><td>-3.5267022</td><td>-1.667932</td><td>-0.8980462</td><td>-1.4620790</td><td>⋯</td><td> 0.368067289</td><td>-0.4142046</td><td>-0.03311634</td><td> 0.14853766</td><td>-0.1074674</td><td> 0.437399975</td><td>-0.51027172</td><td>1.751663e-15</td><td>4</td><td>CNS   </td></tr>\n",
       "\t<tr><th scope=row>V6</th><td>-8.435289</td><td>-1.8641133</td><td>-3.696029</td><td>4.003211</td><td>-1.6958788</td><td>-2.9061924</td><td>-3.6694011</td><td>-6.412844</td><td>-2.9171235</td><td>-4.8181796</td><td>⋯</td><td> 0.126036280</td><td>-0.3772265</td><td>-0.15507886</td><td> 0.02521459</td><td> 0.0558637</td><td>-0.110774431</td><td> 0.04686477</td><td>4.141576e-16</td><td>4</td><td>CNS   </td></tr>\n",
       "\t<tr><th scope=row>V7</th><td>-8.957647</td><td>-1.2889206</td><td>-5.382846</td><td>5.296414</td><td> 1.4963175</td><td>-0.5690616</td><td>-2.4060370</td><td>-1.425974</td><td>-0.5685393</td><td> 2.3953956</td><td>⋯</td><td> 0.001676569</td><td> 0.5564921</td><td> 0.01948530</td><td>-0.37147785</td><td>-0.1642024</td><td>-0.391015976</td><td> 0.38308715</td><td>7.588532e-16</td><td>4</td><td>CNS   </td></tr>\n",
       "\t<tr><th scope=row>V8</th><td>-6.813825</td><td>-1.5384759</td><td>-3.422179</td><td>3.949022</td><td>-0.6265393</td><td>-0.9964866</td><td>-3.5568087</td><td>-2.301324</td><td>-3.0355438</td><td>-0.0814719</td><td>⋯</td><td>-0.076385124</td><td> 0.6085448</td><td>-0.13394501</td><td> 0.10129177</td><td>-0.1289236</td><td> 0.009550845</td><td> 0.08098111</td><td>1.175814e-15</td><td>4</td><td>BREAST</td></tr>\n",
       "</tbody>\n",
       "</table>\n"
      ],
      "text/latex": [
       "A data.frame: 6 × 56\n",
       "\\begin{tabular}{r|lllllllllllllllllllll}\n",
       "  & PC1 & PC2 & PC3 & PC4 & PC5 & PC6 & PC7 & PC8 & PC9 & PC10 & ⋯ & PC47 & PC48 & PC49 & PC50 & PC51 & PC52 & PC53 & PC54 & Cluster & Individual\\\\\n",
       "  & <dbl> & <dbl> & <dbl> & <dbl> & <dbl> & <dbl> & <dbl> & <dbl> & <dbl> & <dbl> & ⋯ & <dbl> & <dbl> & <dbl> & <dbl> & <dbl> & <dbl> & <dbl> & <dbl> & <fct> & <chr>\\\\\n",
       "\\hline\n",
       "\tV1 & -6.254786 &  0.1282094 & -2.431944 & 5.880122 & -4.7991485 &  4.4730400 & -0.0157922 &  3.556741 & -0.8977973 &  2.6609919 & ⋯ & -1.953721848 &  0.3243438 &  0.40924312 &  0.48025089 & -0.2400962 & -0.698876031 &  1.21901714 & 3.616164e-15 & 1 & CNS   \\\\\n",
       "\tV2 & -6.175318 & -1.2035723 & -3.044739 & 4.951965 & -5.3622008 &  5.6565282 & -0.1852564 &  4.144812 & -2.3097717 &  2.8630531 & ⋯ &  1.745653013 & -0.2572544 & -0.31207393 & -0.42760750 &  0.2612200 &  0.735387137 & -1.19392397 & 2.151292e-15 & 1 & CNS   \\\\\n",
       "\tV3 & -8.301388 &  0.5930776 & -2.761450 & 1.473972 & -5.0674298 &  1.7824641 & -3.5267022 & -1.667932 & -0.8980462 & -1.4620790 & ⋯ &  0.368067289 & -0.4142046 & -0.03311634 &  0.14853766 & -0.1074674 &  0.437399975 & -0.51027172 & 1.751663e-15 & 4 & CNS   \\\\\n",
       "\tV6 & -8.435289 & -1.8641133 & -3.696029 & 4.003211 & -1.6958788 & -2.9061924 & -3.6694011 & -6.412844 & -2.9171235 & -4.8181796 & ⋯ &  0.126036280 & -0.3772265 & -0.15507886 &  0.02521459 &  0.0558637 & -0.110774431 &  0.04686477 & 4.141576e-16 & 4 & CNS   \\\\\n",
       "\tV7 & -8.957647 & -1.2889206 & -5.382846 & 5.296414 &  1.4963175 & -0.5690616 & -2.4060370 & -1.425974 & -0.5685393 &  2.3953956 & ⋯ &  0.001676569 &  0.5564921 &  0.01948530 & -0.37147785 & -0.1642024 & -0.391015976 &  0.38308715 & 7.588532e-16 & 4 & CNS   \\\\\n",
       "\tV8 & -6.813825 & -1.5384759 & -3.422179 & 3.949022 & -0.6265393 & -0.9964866 & -3.5568087 & -2.301324 & -3.0355438 & -0.0814719 & ⋯ & -0.076385124 &  0.6085448 & -0.13394501 &  0.10129177 & -0.1289236 &  0.009550845 &  0.08098111 & 1.175814e-15 & 4 & BREAST\\\\\n",
       "\\end{tabular}\n"
      ],
      "text/markdown": [
       "\n",
       "A data.frame: 6 × 56\n",
       "\n",
       "| <!--/--> | PC1 &lt;dbl&gt; | PC2 &lt;dbl&gt; | PC3 &lt;dbl&gt; | PC4 &lt;dbl&gt; | PC5 &lt;dbl&gt; | PC6 &lt;dbl&gt; | PC7 &lt;dbl&gt; | PC8 &lt;dbl&gt; | PC9 &lt;dbl&gt; | PC10 &lt;dbl&gt; | ⋯ ⋯ | PC47 &lt;dbl&gt; | PC48 &lt;dbl&gt; | PC49 &lt;dbl&gt; | PC50 &lt;dbl&gt; | PC51 &lt;dbl&gt; | PC52 &lt;dbl&gt; | PC53 &lt;dbl&gt; | PC54 &lt;dbl&gt; | Cluster &lt;fct&gt; | Individual &lt;chr&gt; |\n",
       "|---|---|---|---|---|---|---|---|---|---|---|---|---|---|---|---|---|---|---|---|---|---|\n",
       "| V1 | -6.254786 |  0.1282094 | -2.431944 | 5.880122 | -4.7991485 |  4.4730400 | -0.0157922 |  3.556741 | -0.8977973 |  2.6609919 | ⋯ | -1.953721848 |  0.3243438 |  0.40924312 |  0.48025089 | -0.2400962 | -0.698876031 |  1.21901714 | 3.616164e-15 | 1 | CNS    |\n",
       "| V2 | -6.175318 | -1.2035723 | -3.044739 | 4.951965 | -5.3622008 |  5.6565282 | -0.1852564 |  4.144812 | -2.3097717 |  2.8630531 | ⋯ |  1.745653013 | -0.2572544 | -0.31207393 | -0.42760750 |  0.2612200 |  0.735387137 | -1.19392397 | 2.151292e-15 | 1 | CNS    |\n",
       "| V3 | -8.301388 |  0.5930776 | -2.761450 | 1.473972 | -5.0674298 |  1.7824641 | -3.5267022 | -1.667932 | -0.8980462 | -1.4620790 | ⋯ |  0.368067289 | -0.4142046 | -0.03311634 |  0.14853766 | -0.1074674 |  0.437399975 | -0.51027172 | 1.751663e-15 | 4 | CNS    |\n",
       "| V6 | -8.435289 | -1.8641133 | -3.696029 | 4.003211 | -1.6958788 | -2.9061924 | -3.6694011 | -6.412844 | -2.9171235 | -4.8181796 | ⋯ |  0.126036280 | -0.3772265 | -0.15507886 |  0.02521459 |  0.0558637 | -0.110774431 |  0.04686477 | 4.141576e-16 | 4 | CNS    |\n",
       "| V7 | -8.957647 | -1.2889206 | -5.382846 | 5.296414 |  1.4963175 | -0.5690616 | -2.4060370 | -1.425974 | -0.5685393 |  2.3953956 | ⋯ |  0.001676569 |  0.5564921 |  0.01948530 | -0.37147785 | -0.1642024 | -0.391015976 |  0.38308715 | 7.588532e-16 | 4 | CNS    |\n",
       "| V8 | -6.813825 | -1.5384759 | -3.422179 | 3.949022 | -0.6265393 | -0.9964866 | -3.5568087 | -2.301324 | -3.0355438 | -0.0814719 | ⋯ | -0.076385124 |  0.6085448 | -0.13394501 |  0.10129177 | -0.1289236 |  0.009550845 |  0.08098111 | 1.175814e-15 | 4 | BREAST |\n",
       "\n"
      ],
      "text/plain": [
       "   PC1       PC2        PC3       PC4      PC5        PC6        PC7       \n",
       "V1 -6.254786  0.1282094 -2.431944 5.880122 -4.7991485  4.4730400 -0.0157922\n",
       "V2 -6.175318 -1.2035723 -3.044739 4.951965 -5.3622008  5.6565282 -0.1852564\n",
       "V3 -8.301388  0.5930776 -2.761450 1.473972 -5.0674298  1.7824641 -3.5267022\n",
       "V6 -8.435289 -1.8641133 -3.696029 4.003211 -1.6958788 -2.9061924 -3.6694011\n",
       "V7 -8.957647 -1.2889206 -5.382846 5.296414  1.4963175 -0.5690616 -2.4060370\n",
       "V8 -6.813825 -1.5384759 -3.422179 3.949022 -0.6265393 -0.9964866 -3.5568087\n",
       "   PC8       PC9        PC10       ⋯ PC47         PC48       PC49       \n",
       "V1  3.556741 -0.8977973  2.6609919 ⋯ -1.953721848  0.3243438  0.40924312\n",
       "V2  4.144812 -2.3097717  2.8630531 ⋯  1.745653013 -0.2572544 -0.31207393\n",
       "V3 -1.667932 -0.8980462 -1.4620790 ⋯  0.368067289 -0.4142046 -0.03311634\n",
       "V6 -6.412844 -2.9171235 -4.8181796 ⋯  0.126036280 -0.3772265 -0.15507886\n",
       "V7 -1.425974 -0.5685393  2.3953956 ⋯  0.001676569  0.5564921  0.01948530\n",
       "V8 -2.301324 -3.0355438 -0.0814719 ⋯ -0.076385124  0.6085448 -0.13394501\n",
       "   PC50        PC51       PC52         PC53        PC54         Cluster\n",
       "V1  0.48025089 -0.2400962 -0.698876031  1.21901714 3.616164e-15 1      \n",
       "V2 -0.42760750  0.2612200  0.735387137 -1.19392397 2.151292e-15 1      \n",
       "V3  0.14853766 -0.1074674  0.437399975 -0.51027172 1.751663e-15 4      \n",
       "V6  0.02521459  0.0558637 -0.110774431  0.04686477 4.141576e-16 4      \n",
       "V7 -0.37147785 -0.1642024 -0.391015976  0.38308715 7.588532e-16 4      \n",
       "V8  0.10129177 -0.1289236  0.009550845  0.08098111 1.175814e-15 4      \n",
       "   Individual\n",
       "V1 CNS       \n",
       "V2 CNS       \n",
       "V3 CNS       \n",
       "V6 CNS       \n",
       "V7 CNS       \n",
       "V8 BREAST    "
      ]
     },
     "metadata": {},
     "output_type": "display_data"
    }
   ],
   "source": [
    "top_nci60[\"inCluster\"] = as.numeric(labels)\n",
    "pca_matrix = top_nci60 %>% select(-Description, -inCluster)\n",
    "pca_result <- prcomp(pca_matrix, scale. = TRUE)\n",
    "pca_df <- data.frame(pca_result$x)\n",
    "pca_df$Cluster <- as.factor(top_nci60$inCluster)\n",
    "pca_df$Individual <- top_nci60$Description\n",
    "head(pca_df)"
   ]
  },
  {
   "cell_type": "code",
   "execution_count": 20,
   "id": "9367ae48",
   "metadata": {},
   "outputs": [
    {
     "name": "stderr",
     "output_type": "stream",
     "text": [
      "Warning message:\n",
      "\"\u001b[1m\u001b[22mThe following aesthetics were dropped during statistical transformation: \u001b[32mlabel\u001b[39m.\n",
      "\u001b[36mℹ\u001b[39m This can happen when ggplot fails to infer the correct grouping structure in\n",
      "  the data.\n",
      "\u001b[36mℹ\u001b[39m Did you forget to specify a `group` aesthetic or to convert a numerical\n",
      "  variable into a factor?\"\n"
     ]
    },
    {
     "data": {
      "image/png": "[encoded data removed]",
      "text/plain": [
       "plot without title"
      ]
     },
     "metadata": {
      "image/png": {
       "height": 720,
       "width": 720
      }
     },
     "output_type": "display_data"
    }
   ],
   "source": [
    "custom_colors <- c(\"#2E86C1\", \"#28B463\", \"#E74C3C\", \"#9B59B6\", \"#F1C40F\", \"#7F8C8D\")\n",
    "\n",
    "cluster_shapes <- c(16, 17, 15, 18, 19, 20, 21 , 22)\n",
    "cluster_labels = c(\"Renal\", \"Leukemia\", \"Breast\", \"CNS, NSCLC\", \"Colon, Ovarian\", \"Melanoma\")\n",
    "\n",
    "ggplot(pca_df, aes(x = PC1, y = PC2, shape = Cluster, color = Cluster, label = Individual)) +\n",
    "  geom_point(size = 3) +\n",
    "  geom_text_repel(\n",
    "    vjust = 1,\n",
    "    hjust = 1,\n",
    "    size = 4,\n",
    "    show.legend = FALSE,\n",
    "    point.padding = 0.25,\n",
    "    box.padding = 0.25,\n",
    "    max.overlaps = 15,\n",
    "    segment.color = \"grey70\",\n",
    "    segment.size = 0.2\n",
    "  ) +\n",
    "  stat_ellipse(aes(fill = Cluster), level = 0.95, alpha = 0.2, geom = \"polygon\") +\n",
    "  labs(\n",
    "    title = \"Clest: NCI-60 clusters\",\n",
    "    x = \"Principal Component 1\",\n",
    "    y = \"Principal Component 2\"\n",
    "  ) +\n",
    "  scale_shape_manual(values = cluster_shapes, labels = cluster_labels) +\n",
    "  scale_color_manual(values = custom_colors, labels = cluster_labels) +\n",
    "  scale_fill_manual(values = custom_colors, labels = cluster_labels) +\n",
    "  theme_minimal(base_size = 15) +\n",
    "  theme(\n",
    "    plot.title = element_text(hjust = 0.5, size = 18, face = \"bold\"),\n",
    "    axis.title.x = element_text(size = 14),\n",
    "    axis.title.y = element_text(size = 14),\n",
    "    axis.text = element_text(size = 12),\n",
    "    legend.position = \"right\",\n",
    "    legend.title = element_text(size = 12),\n",
    "    legend.text = element_text(size = 12),\n",
    "    panel.grid.major = element_line(color = \"grey90\"),\n",
    "    panel.grid.minor = element_blank()\n",
    "  )\n"
   ]
  },
  {
   "cell_type": "code",
   "execution_count": 21,
   "id": "9aa8374b-818b-4e21-b453-23f92d3fd13d",
   "metadata": {},
   "outputs": [
    {
     "data": {
      "text/html": [
       "<style>\n",
       ".list-inline {list-style: none; margin:0; padding: 0}\n",
       ".list-inline>li {display: inline-block}\n",
       ".list-inline>li:not(:last-child)::after {content: \"\\00b7\"; padding: 0 .5ex}\n",
       "</style>\n",
       "<ol class=list-inline><li>'CNS'</li><li>'CNS'</li><li>'CNS'</li><li>'CNS'</li><li>'CNS'</li><li>'BREAST'</li><li>'NSCLC'</li><li>'RENAL'</li><li>'RENAL'</li><li>'RENAL'</li><li>'RENAL'</li><li>'RENAL'</li><li>'RENAL'</li><li>'RENAL'</li><li>'BREAST'</li><li>'NSCLC'</li><li>'OVARIAN'</li><li>'MELANOMA'</li><li>'OVARIAN'</li><li>'OVARIAN'</li><li>'OVARIAN'</li><li>'OVARIAN'</li><li>'OVARIAN'</li><li>'NSCLC'</li><li>'NSCLC'</li><li>'NSCLC'</li><li>'K562B-repro'</li><li>'K562A-repro'</li><li>'LEUKEMIA'</li><li>'LEUKEMIA'</li><li>'LEUKEMIA'</li><li>'LEUKEMIA'</li><li>'LEUKEMIA'</li><li>'COLON'</li><li>'COLON'</li><li>'COLON'</li><li>'COLON'</li><li>'COLON'</li><li>'COLON'</li><li>'COLON'</li><li>'MCF7A-repro'</li><li>'BREAST'</li><li>'MCF7D-repro'</li><li>'BREAST'</li><li>'NSCLC'</li><li>'MELANOMA'</li><li>'BREAST'</li><li>'BREAST'</li><li>'MELANOMA'</li><li>'MELANOMA'</li><li>'MELANOMA'</li><li>'MELANOMA'</li><li>'MELANOMA'</li><li>'MELANOMA'</li></ol>\n"
      ],
      "text/latex": [
       "\\begin{enumerate*}\n",
       "\\item 'CNS'\n",
       "\\item 'CNS'\n",
       "\\item 'CNS'\n",
       "\\item 'CNS'\n",
       "\\item 'CNS'\n",
       "\\item 'BREAST'\n",
       "\\item 'NSCLC'\n",
       "\\item 'RENAL'\n",
       "\\item 'RENAL'\n",
       "\\item 'RENAL'\n",
       "\\item 'RENAL'\n",
       "\\item 'RENAL'\n",
       "\\item 'RENAL'\n",
       "\\item 'RENAL'\n",
       "\\item 'BREAST'\n",
       "\\item 'NSCLC'\n",
       "\\item 'OVARIAN'\n",
       "\\item 'MELANOMA'\n",
       "\\item 'OVARIAN'\n",
       "\\item 'OVARIAN'\n",
       "\\item 'OVARIAN'\n",
       "\\item 'OVARIAN'\n",
       "\\item 'OVARIAN'\n",
       "\\item 'NSCLC'\n",
       "\\item 'NSCLC'\n",
       "\\item 'NSCLC'\n",
       "\\item 'K562B-repro'\n",
       "\\item 'K562A-repro'\n",
       "\\item 'LEUKEMIA'\n",
       "\\item 'LEUKEMIA'\n",
       "\\item 'LEUKEMIA'\n",
       "\\item 'LEUKEMIA'\n",
       "\\item 'LEUKEMIA'\n",
       "\\item 'COLON'\n",
       "\\item 'COLON'\n",
       "\\item 'COLON'\n",
       "\\item 'COLON'\n",
       "\\item 'COLON'\n",
       "\\item 'COLON'\n",
       "\\item 'COLON'\n",
       "\\item 'MCF7A-repro'\n",
       "\\item 'BREAST'\n",
       "\\item 'MCF7D-repro'\n",
       "\\item 'BREAST'\n",
       "\\item 'NSCLC'\n",
       "\\item 'MELANOMA'\n",
       "\\item 'BREAST'\n",
       "\\item 'BREAST'\n",
       "\\item 'MELANOMA'\n",
       "\\item 'MELANOMA'\n",
       "\\item 'MELANOMA'\n",
       "\\item 'MELANOMA'\n",
       "\\item 'MELANOMA'\n",
       "\\item 'MELANOMA'\n",
       "\\end{enumerate*}\n"
      ],
      "text/markdown": [
       "1. 'CNS'\n",
       "2. 'CNS'\n",
       "3. 'CNS'\n",
       "4. 'CNS'\n",
       "5. 'CNS'\n",
       "6. 'BREAST'\n",
       "7. 'NSCLC'\n",
       "8. 'RENAL'\n",
       "9. 'RENAL'\n",
       "10. 'RENAL'\n",
       "11. 'RENAL'\n",
       "12. 'RENAL'\n",
       "13. 'RENAL'\n",
       "14. 'RENAL'\n",
       "15. 'BREAST'\n",
       "16. 'NSCLC'\n",
       "17. 'OVARIAN'\n",
       "18. 'MELANOMA'\n",
       "19. 'OVARIAN'\n",
       "20. 'OVARIAN'\n",
       "21. 'OVARIAN'\n",
       "22. 'OVARIAN'\n",
       "23. 'OVARIAN'\n",
       "24. 'NSCLC'\n",
       "25. 'NSCLC'\n",
       "26. 'NSCLC'\n",
       "27. 'K562B-repro'\n",
       "28. 'K562A-repro'\n",
       "29. 'LEUKEMIA'\n",
       "30. 'LEUKEMIA'\n",
       "31. 'LEUKEMIA'\n",
       "32. 'LEUKEMIA'\n",
       "33. 'LEUKEMIA'\n",
       "34. 'COLON'\n",
       "35. 'COLON'\n",
       "36. 'COLON'\n",
       "37. 'COLON'\n",
       "38. 'COLON'\n",
       "39. 'COLON'\n",
       "40. 'COLON'\n",
       "41. 'MCF7A-repro'\n",
       "42. 'BREAST'\n",
       "43. 'MCF7D-repro'\n",
       "44. 'BREAST'\n",
       "45. 'NSCLC'\n",
       "46. 'MELANOMA'\n",
       "47. 'BREAST'\n",
       "48. 'BREAST'\n",
       "49. 'MELANOMA'\n",
       "50. 'MELANOMA'\n",
       "51. 'MELANOMA'\n",
       "52. 'MELANOMA'\n",
       "53. 'MELANOMA'\n",
       "54. 'MELANOMA'\n",
       "\n",
       "\n"
      ],
      "text/plain": [
       " [1] \"CNS\"         \"CNS\"         \"CNS\"         \"CNS\"         \"CNS\"        \n",
       " [6] \"BREAST\"      \"NSCLC\"       \"RENAL\"       \"RENAL\"       \"RENAL\"      \n",
       "[11] \"RENAL\"       \"RENAL\"       \"RENAL\"       \"RENAL\"       \"BREAST\"     \n",
       "[16] \"NSCLC\"       \"OVARIAN\"     \"MELANOMA\"    \"OVARIAN\"     \"OVARIAN\"    \n",
       "[21] \"OVARIAN\"     \"OVARIAN\"     \"OVARIAN\"     \"NSCLC\"       \"NSCLC\"      \n",
       "[26] \"NSCLC\"       \"K562B-repro\" \"K562A-repro\" \"LEUKEMIA\"    \"LEUKEMIA\"   \n",
       "[31] \"LEUKEMIA\"    \"LEUKEMIA\"    \"LEUKEMIA\"    \"COLON\"       \"COLON\"      \n",
       "[36] \"COLON\"       \"COLON\"       \"COLON\"       \"COLON\"       \"COLON\"      \n",
       "[41] \"MCF7A-repro\" \"BREAST\"      \"MCF7D-repro\" \"BREAST\"      \"NSCLC\"      \n",
       "[46] \"MELANOMA\"    \"BREAST\"      \"BREAST\"      \"MELANOMA\"    \"MELANOMA\"   \n",
       "[51] \"MELANOMA\"    \"MELANOMA\"    \"MELANOMA\"    \"MELANOMA\"   "
      ]
     },
     "metadata": {},
     "output_type": "display_data"
    }
   ],
   "source": [
    "gold_standard_classes = as.character(unlist(top_nci60[\"Description\"]))\n",
    "gold_standard_classes"
   ]
  },
  {
   "cell_type": "code",
   "execution_count": 22,
   "id": "8227812a",
   "metadata": {},
   "outputs": [
    {
     "data": {
      "text/html": [
       "<table class=\"dataframe\">\n",
       "<caption>A data.frame: 6 × 2</caption>\n",
       "<thead>\n",
       "\t<tr><th></th><th scope=col>Description</th><th scope=col>Class</th></tr>\n",
       "\t<tr><th></th><th scope=col>&lt;chr&gt;</th><th scope=col>&lt;chr&gt;</th></tr>\n",
       "</thead>\n",
       "<tbody>\n",
       "\t<tr><th scope=row>V1</th><td>CNS   </td><td>CNS   </td></tr>\n",
       "\t<tr><th scope=row>V2</th><td>CNS   </td><td>CNS   </td></tr>\n",
       "\t<tr><th scope=row>V3</th><td>CNS   </td><td>CNS   </td></tr>\n",
       "\t<tr><th scope=row>V6</th><td>CNS   </td><td>CNS   </td></tr>\n",
       "\t<tr><th scope=row>V7</th><td>CNS   </td><td>CNS   </td></tr>\n",
       "\t<tr><th scope=row>V8</th><td>BREAST</td><td>BREAST</td></tr>\n",
       "</tbody>\n",
       "</table>\n"
      ],
      "text/latex": [
       "A data.frame: 6 × 2\n",
       "\\begin{tabular}{r|ll}\n",
       "  & Description & Class\\\\\n",
       "  & <chr> & <chr>\\\\\n",
       "\\hline\n",
       "\tV1 & CNS    & CNS   \\\\\n",
       "\tV2 & CNS    & CNS   \\\\\n",
       "\tV3 & CNS    & CNS   \\\\\n",
       "\tV6 & CNS    & CNS   \\\\\n",
       "\tV7 & CNS    & CNS   \\\\\n",
       "\tV8 & BREAST & BREAST\\\\\n",
       "\\end{tabular}\n"
      ],
      "text/markdown": [
       "\n",
       "A data.frame: 6 × 2\n",
       "\n",
       "| <!--/--> | Description &lt;chr&gt; | Class &lt;chr&gt; |\n",
       "|---|---|---|\n",
       "| V1 | CNS    | CNS    |\n",
       "| V2 | CNS    | CNS    |\n",
       "| V3 | CNS    | CNS    |\n",
       "| V6 | CNS    | CNS    |\n",
       "| V7 | CNS    | CNS    |\n",
       "| V8 | BREAST | BREAST |\n",
       "\n"
      ],
      "text/plain": [
       "   Description Class \n",
       "V1 CNS         CNS   \n",
       "V2 CNS         CNS   \n",
       "V3 CNS         CNS   \n",
       "V6 CNS         CNS   \n",
       "V7 CNS         CNS   \n",
       "V8 BREAST      BREAST"
      ]
     },
     "metadata": {},
     "output_type": "display_data"
    }
   ],
   "source": [
    "top_nci60[\"Class\"] = gold_standard_classes\n",
    "head(top_nci60)[, c(\"Description\", \"Class\")]"
   ]
  },
  {
   "cell_type": "code",
   "execution_count": 23,
   "id": "f3a514bc",
   "metadata": {},
   "outputs": [
    {
     "data": {
      "text/html": [
       "<table class=\"dataframe\">\n",
       "<caption>A data.frame: 6 × 4</caption>\n",
       "<thead>\n",
       "\t<tr><th></th><th scope=col>Description</th><th scope=col>Class</th><th scope=col>inCluster</th><th scope=col>Class_n</th></tr>\n",
       "\t<tr><th></th><th scope=col>&lt;chr&gt;</th><th scope=col>&lt;chr&gt;</th><th scope=col>&lt;dbl&gt;</th><th scope=col>&lt;dbl&gt;</th></tr>\n",
       "</thead>\n",
       "<tbody>\n",
       "\t<tr><th scope=row>V1</th><td>CNS   </td><td>CNS   </td><td>1</td><td>7</td></tr>\n",
       "\t<tr><th scope=row>V2</th><td>CNS   </td><td>CNS   </td><td>1</td><td>7</td></tr>\n",
       "\t<tr><th scope=row>V3</th><td>CNS   </td><td>CNS   </td><td>4</td><td>7</td></tr>\n",
       "\t<tr><th scope=row>V6</th><td>CNS   </td><td>CNS   </td><td>4</td><td>7</td></tr>\n",
       "\t<tr><th scope=row>V7</th><td>CNS   </td><td>CNS   </td><td>4</td><td>7</td></tr>\n",
       "\t<tr><th scope=row>V8</th><td>BREAST</td><td>BREAST</td><td>4</td><td>3</td></tr>\n",
       "</tbody>\n",
       "</table>\n"
      ],
      "text/latex": [
       "A data.frame: 6 × 4\n",
       "\\begin{tabular}{r|llll}\n",
       "  & Description & Class & inCluster & Class\\_n\\\\\n",
       "  & <chr> & <chr> & <dbl> & <dbl>\\\\\n",
       "\\hline\n",
       "\tV1 & CNS    & CNS    & 1 & 7\\\\\n",
       "\tV2 & CNS    & CNS    & 1 & 7\\\\\n",
       "\tV3 & CNS    & CNS    & 4 & 7\\\\\n",
       "\tV6 & CNS    & CNS    & 4 & 7\\\\\n",
       "\tV7 & CNS    & CNS    & 4 & 7\\\\\n",
       "\tV8 & BREAST & BREAST & 4 & 3\\\\\n",
       "\\end{tabular}\n"
      ],
      "text/markdown": [
       "\n",
       "A data.frame: 6 × 4\n",
       "\n",
       "| <!--/--> | Description &lt;chr&gt; | Class &lt;chr&gt; | inCluster &lt;dbl&gt; | Class_n &lt;dbl&gt; |\n",
       "|---|---|---|---|---|\n",
       "| V1 | CNS    | CNS    | 1 | 7 |\n",
       "| V2 | CNS    | CNS    | 1 | 7 |\n",
       "| V3 | CNS    | CNS    | 4 | 7 |\n",
       "| V6 | CNS    | CNS    | 4 | 7 |\n",
       "| V7 | CNS    | CNS    | 4 | 7 |\n",
       "| V8 | BREAST | BREAST | 4 | 3 |\n",
       "\n"
      ],
      "text/plain": [
       "   Description Class  inCluster Class_n\n",
       "V1 CNS         CNS    1         7      \n",
       "V2 CNS         CNS    1         7      \n",
       "V3 CNS         CNS    4         7      \n",
       "V6 CNS         CNS    4         7      \n",
       "V7 CNS         CNS    4         7      \n",
       "V8 BREAST      BREAST 4         3      "
      ]
     },
     "metadata": {},
     "output_type": "display_data"
    }
   ],
   "source": [
    "# Gold standard = k = 8\n",
    "level_mapping <- c(\"NSCLC\" = 4, \"CNS\" = 7, \"BREAST\" = 3,\n",
    "                 \"MCF7A-repro\" = 3, \"MCF7D-repro\" = 3, \"RENAL\" = 1, \n",
    "                 \"LEUKEMIA\" = 2, \"K562B-repro\" = 2, \"K562A-repro\" = 2, \n",
    "                 \"MELANOMA\" = 6,  \"COLON\" = 5, \"OVARIAN\" = 8\n",
    "                  )\n",
    "\n",
    "\n",
    "map_strings_to_numbers <- function(strings) {\n",
    "    return(as.numeric(level_mapping[strings]))\n",
    "}\n",
    "# Map categories with cluster number\n",
    "top_nci60[\"Class_n\"] = lapply(top_nci60[\"Class\"], map_strings_to_numbers)\n",
    "# Table of prediction vs actual classification\n",
    "head(top_nci60)[, c(\"Description\", \"Class\", \"inCluster\", \"Class_n\")]"
   ]
  },
  {
   "cell_type": "code",
   "execution_count": 24,
   "id": "5cfd4e84",
   "metadata": {},
   "outputs": [
    {
     "name": "stdout",
     "output_type": "stream",
     "text": [
      "[1] \"actual\"\n"
     ]
    },
    {
     "data": {
      "text/html": [
       "<style>\n",
       ".list-inline {list-style: none; margin:0; padding: 0}\n",
       ".list-inline>li {display: inline-block}\n",
       ".list-inline>li:not(:last-child)::after {content: \"\\00b7\"; padding: 0 .5ex}\n",
       "</style>\n",
       "<ol class=list-inline><li>7</li><li>7</li><li>7</li><li>7</li><li>7</li><li>3</li><li>4</li><li>1</li><li>1</li><li>1</li><li>1</li><li>1</li><li>1</li><li>1</li><li>3</li><li>4</li><li>8</li><li>6</li><li>8</li><li>8</li><li>8</li><li>8</li><li>8</li><li>4</li><li>4</li><li>4</li><li>2</li><li>2</li><li>2</li><li>2</li><li>2</li><li>2</li><li>2</li><li>5</li><li>5</li><li>5</li><li>5</li><li>5</li><li>5</li><li>5</li><li>3</li><li>3</li><li>3</li><li>3</li><li>4</li><li>6</li><li>3</li><li>3</li><li>6</li><li>6</li><li>6</li><li>6</li><li>6</li><li>6</li></ol>\n",
       "\n",
       "<details>\n",
       "\t<summary style=display:list-item;cursor:pointer>\n",
       "\t\t<strong>Levels</strong>:\n",
       "\t</summary>\n",
       "\t<style>\n",
       "\t.list-inline {list-style: none; margin:0; padding: 0}\n",
       "\t.list-inline>li {display: inline-block}\n",
       "\t.list-inline>li:not(:last-child)::after {content: \"\\00b7\"; padding: 0 .5ex}\n",
       "\t</style>\n",
       "\t<ol class=list-inline><li>'1'</li><li>'2'</li><li>'3'</li><li>'4'</li><li>'5'</li><li>'6'</li><li>'7'</li><li>'8'</li></ol>\n",
       "</details>"
      ],
      "text/latex": [
       "\\begin{enumerate*}\n",
       "\\item 7\n",
       "\\item 7\n",
       "\\item 7\n",
       "\\item 7\n",
       "\\item 7\n",
       "\\item 3\n",
       "\\item 4\n",
       "\\item 1\n",
       "\\item 1\n",
       "\\item 1\n",
       "\\item 1\n",
       "\\item 1\n",
       "\\item 1\n",
       "\\item 1\n",
       "\\item 3\n",
       "\\item 4\n",
       "\\item 8\n",
       "\\item 6\n",
       "\\item 8\n",
       "\\item 8\n",
       "\\item 8\n",
       "\\item 8\n",
       "\\item 8\n",
       "\\item 4\n",
       "\\item 4\n",
       "\\item 4\n",
       "\\item 2\n",
       "\\item 2\n",
       "\\item 2\n",
       "\\item 2\n",
       "\\item 2\n",
       "\\item 2\n",
       "\\item 2\n",
       "\\item 5\n",
       "\\item 5\n",
       "\\item 5\n",
       "\\item 5\n",
       "\\item 5\n",
       "\\item 5\n",
       "\\item 5\n",
       "\\item 3\n",
       "\\item 3\n",
       "\\item 3\n",
       "\\item 3\n",
       "\\item 4\n",
       "\\item 6\n",
       "\\item 3\n",
       "\\item 3\n",
       "\\item 6\n",
       "\\item 6\n",
       "\\item 6\n",
       "\\item 6\n",
       "\\item 6\n",
       "\\item 6\n",
       "\\end{enumerate*}\n",
       "\n",
       "\\emph{Levels}: \\begin{enumerate*}\n",
       "\\item '1'\n",
       "\\item '2'\n",
       "\\item '3'\n",
       "\\item '4'\n",
       "\\item '5'\n",
       "\\item '6'\n",
       "\\item '7'\n",
       "\\item '8'\n",
       "\\end{enumerate*}\n"
      ],
      "text/markdown": [
       "1. 7\n",
       "2. 7\n",
       "3. 7\n",
       "4. 7\n",
       "5. 7\n",
       "6. 3\n",
       "7. 4\n",
       "8. 1\n",
       "9. 1\n",
       "10. 1\n",
       "11. 1\n",
       "12. 1\n",
       "13. 1\n",
       "14. 1\n",
       "15. 3\n",
       "16. 4\n",
       "17. 8\n",
       "18. 6\n",
       "19. 8\n",
       "20. 8\n",
       "21. 8\n",
       "22. 8\n",
       "23. 8\n",
       "24. 4\n",
       "25. 4\n",
       "26. 4\n",
       "27. 2\n",
       "28. 2\n",
       "29. 2\n",
       "30. 2\n",
       "31. 2\n",
       "32. 2\n",
       "33. 2\n",
       "34. 5\n",
       "35. 5\n",
       "36. 5\n",
       "37. 5\n",
       "38. 5\n",
       "39. 5\n",
       "40. 5\n",
       "41. 3\n",
       "42. 3\n",
       "43. 3\n",
       "44. 3\n",
       "45. 4\n",
       "46. 6\n",
       "47. 3\n",
       "48. 3\n",
       "49. 6\n",
       "50. 6\n",
       "51. 6\n",
       "52. 6\n",
       "53. 6\n",
       "54. 6\n",
       "\n",
       "\n",
       "\n",
       "**Levels**: 1. '1'\n",
       "2. '2'\n",
       "3. '3'\n",
       "4. '4'\n",
       "5. '5'\n",
       "6. '6'\n",
       "7. '7'\n",
       "8. '8'\n",
       "\n",
       "\n"
      ],
      "text/plain": [
       " [1] 7 7 7 7 7 3 4 1 1 1 1 1 1 1 3 4 8 6 8 8 8 8 8 4 4 4 2 2 2 2 2 2 2 5 5 5 5 5\n",
       "[39] 5 5 3 3 3 3 4 6 3 3 6 6 6 6 6 6\n",
       "Levels: 1 2 3 4 5 6 7 8"
      ]
     },
     "metadata": {},
     "output_type": "display_data"
    },
    {
     "name": "stdout",
     "output_type": "stream",
     "text": [
      "[1] \"predicted\"\n"
     ]
    },
    {
     "data": {
      "text/html": [
       "<style>\n",
       ".list-inline {list-style: none; margin:0; padding: 0}\n",
       ".list-inline>li {display: inline-block}\n",
       ".list-inline>li:not(:last-child)::after {content: \"\\00b7\"; padding: 0 .5ex}\n",
       "</style>\n",
       "<ol class=list-inline><li>1</li><li>1</li><li>4</li><li>4</li><li>4</li><li>4</li><li>4</li><li>1</li><li>1</li><li>1</li><li>1</li><li>1</li><li>1</li><li>1</li><li>4</li><li>4</li><li>4</li><li>4</li><li>5</li><li>5</li><li>5</li><li>5</li><li>5</li><li>5</li><li>1</li><li>1</li><li>2</li><li>2</li><li>2</li><li>2</li><li>2</li><li>2</li><li>2</li><li>5</li><li>3</li><li>3</li><li>3</li><li>5</li><li>3</li><li>5</li><li>3</li><li>3</li><li>3</li><li>3</li><li>5</li><li>6</li><li>6</li><li>6</li><li>6</li><li>6</li><li>6</li><li>6</li><li>6</li><li>6</li></ol>\n",
       "\n",
       "<details>\n",
       "\t<summary style=display:list-item;cursor:pointer>\n",
       "\t\t<strong>Levels</strong>:\n",
       "\t</summary>\n",
       "\t<style>\n",
       "\t.list-inline {list-style: none; margin:0; padding: 0}\n",
       "\t.list-inline>li {display: inline-block}\n",
       "\t.list-inline>li:not(:last-child)::after {content: \"\\00b7\"; padding: 0 .5ex}\n",
       "\t</style>\n",
       "\t<ol class=list-inline><li>'1'</li><li>'2'</li><li>'3'</li><li>'4'</li><li>'5'</li><li>'6'</li></ol>\n",
       "</details>"
      ],
      "text/latex": [
       "\\begin{enumerate*}\n",
       "\\item 1\n",
       "\\item 1\n",
       "\\item 4\n",
       "\\item 4\n",
       "\\item 4\n",
       "\\item 4\n",
       "\\item 4\n",
       "\\item 1\n",
       "\\item 1\n",
       "\\item 1\n",
       "\\item 1\n",
       "\\item 1\n",
       "\\item 1\n",
       "\\item 1\n",
       "\\item 4\n",
       "\\item 4\n",
       "\\item 4\n",
       "\\item 4\n",
       "\\item 5\n",
       "\\item 5\n",
       "\\item 5\n",
       "\\item 5\n",
       "\\item 5\n",
       "\\item 5\n",
       "\\item 1\n",
       "\\item 1\n",
       "\\item 2\n",
       "\\item 2\n",
       "\\item 2\n",
       "\\item 2\n",
       "\\item 2\n",
       "\\item 2\n",
       "\\item 2\n",
       "\\item 5\n",
       "\\item 3\n",
       "\\item 3\n",
       "\\item 3\n",
       "\\item 5\n",
       "\\item 3\n",
       "\\item 5\n",
       "\\item 3\n",
       "\\item 3\n",
       "\\item 3\n",
       "\\item 3\n",
       "\\item 5\n",
       "\\item 6\n",
       "\\item 6\n",
       "\\item 6\n",
       "\\item 6\n",
       "\\item 6\n",
       "\\item 6\n",
       "\\item 6\n",
       "\\item 6\n",
       "\\item 6\n",
       "\\end{enumerate*}\n",
       "\n",
       "\\emph{Levels}: \\begin{enumerate*}\n",
       "\\item '1'\n",
       "\\item '2'\n",
       "\\item '3'\n",
       "\\item '4'\n",
       "\\item '5'\n",
       "\\item '6'\n",
       "\\end{enumerate*}\n"
      ],
      "text/markdown": [
       "1. 1\n",
       "2. 1\n",
       "3. 4\n",
       "4. 4\n",
       "5. 4\n",
       "6. 4\n",
       "7. 4\n",
       "8. 1\n",
       "9. 1\n",
       "10. 1\n",
       "11. 1\n",
       "12. 1\n",
       "13. 1\n",
       "14. 1\n",
       "15. 4\n",
       "16. 4\n",
       "17. 4\n",
       "18. 4\n",
       "19. 5\n",
       "20. 5\n",
       "21. 5\n",
       "22. 5\n",
       "23. 5\n",
       "24. 5\n",
       "25. 1\n",
       "26. 1\n",
       "27. 2\n",
       "28. 2\n",
       "29. 2\n",
       "30. 2\n",
       "31. 2\n",
       "32. 2\n",
       "33. 2\n",
       "34. 5\n",
       "35. 3\n",
       "36. 3\n",
       "37. 3\n",
       "38. 5\n",
       "39. 3\n",
       "40. 5\n",
       "41. 3\n",
       "42. 3\n",
       "43. 3\n",
       "44. 3\n",
       "45. 5\n",
       "46. 6\n",
       "47. 6\n",
       "48. 6\n",
       "49. 6\n",
       "50. 6\n",
       "51. 6\n",
       "52. 6\n",
       "53. 6\n",
       "54. 6\n",
       "\n",
       "\n",
       "\n",
       "**Levels**: 1. '1'\n",
       "2. '2'\n",
       "3. '3'\n",
       "4. '4'\n",
       "5. '5'\n",
       "6. '6'\n",
       "\n",
       "\n"
      ],
      "text/plain": [
       " [1] 1 1 4 4 4 4 4 1 1 1 1 1 1 1 4 4 4 4 5 5 5 5 5 5 1 1 2 2 2 2 2 2 2 5 3 3 3 5\n",
       "[39] 3 5 3 3 3 3 5 6 6 6 6 6 6 6 6 6\n",
       "Levels: 1 2 3 4 5 6"
      ]
     },
     "metadata": {},
     "output_type": "display_data"
    }
   ],
   "source": [
    "# Getting a vector of prediction vs actual classification\n",
    "actual = as.factor(as.vector(unlist(top_nci60[\"Class_n\"])))\n",
    "predicted <- factor(as.vector(unlist(top_nci60[\"inCluster\"])))\n",
    "\n",
    "print(\"actual\")\n",
    "actual\n",
    "print(\"predicted\")\n",
    "predicted"
   ]
  },
  {
   "cell_type": "markdown",
   "id": "e224aff7",
   "metadata": {},
   "source": [
    "# Sensitivity <a class=\"anchor\" id=\"sensitivity\"></a>\n",
    "In this Section we evaluate the sensitivity of our clustering using the `MLmetrics::Sensitivity` method. Sensitivity, or the true positive rate, measures the ability to correctly identify positive instances within the data. By focusing on sensitivity, we aim to ensure that our model effectively captures the relevant clusters, minimizing the number of false negatives. "
   ]
  },
  {
   "cell_type": "code",
   "execution_count": 25,
   "id": "4efdb1e1",
   "metadata": {},
   "outputs": [
    {
     "name": "stdout",
     "output_type": "stream",
     "text": [
      "[1] \"Sensitivity: 100.00%\"\n"
     ]
    }
   ],
   "source": [
    "sens <- MLmetrics::Sensitivity(y_pred = predicted, y_true = actual)\n",
    "sens = format(round(sens*100, 2), nsmall = 2)\n",
    "print(paste0(\"Sensitivity: \", sens, \"%\"))"
   ]
  },
  {
   "cell_type": "markdown",
   "id": "aeb33d3e",
   "metadata": {},
   "source": [
    "# CER <a class=\"anchor\" id=\"cer\"></a>\n",
    "To assess the overall accuracy of our clustering, we compute the Classification Error Rate (CER) and compare it with the gold standard classification. CER represents the proportion of misclassified instances, thus providing a clear measure of the clustering performance in assigning individuals to the correct clusters."
   ]
  },
  {
   "cell_type": "code",
   "execution_count": 26,
   "id": "ceef5ded",
   "metadata": {},
   "outputs": [
    {
     "name": "stdout",
     "output_type": "stream",
     "text": [
      "[1] \"CER: 13.00%\"\n"
     ]
    }
   ],
   "source": [
    "cer <- CER(predicted, actual)\n",
    "cer = format(round(cer*100, 2), nsmall = 2)\n",
    "print(paste0(\"CER: \", cer, \"%\"))"
   ]
  }
 ],
 "metadata": {
  "kernelspec": {
   "display_name": "R",
   "language": "R",
   "name": "ir"
  },
  "language_info": {
   "codemirror_mode": "r",
   "file_extension": ".r",
   "mimetype": "text/x-r-source",
   "name": "R",
   "pygments_lexer": "r",
   "version": "4.4.1"
  }
 },
 "nbformat": 4,
 "nbformat_minor": 5
}
