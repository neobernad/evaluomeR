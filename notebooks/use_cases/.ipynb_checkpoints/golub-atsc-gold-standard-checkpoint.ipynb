{
 "cells": [
  {
   "cell_type": "markdown",
   "id": "285a2f02",
   "metadata": {},
   "source": [
    " # GOLUB use case"
   ]
  },
  {
   "cell_type": "code",
   "execution_count": 1,
   "id": "5b925569",
   "metadata": {
    "scrolled": true
   },
   "outputs": [
    {
     "name": "stderr",
     "output_type": "stream",
     "text": [
      "Cargando paquete requerido: SummarizedExperiment\n",
      "\n",
      "Cargando paquete requerido: MatrixGenerics\n",
      "\n",
      "Cargando paquete requerido: matrixStats\n",
      "\n",
      "\n",
      "Adjuntando el paquete: 'MatrixGenerics'\n",
      "\n",
      "\n",
      "The following objects are masked from 'package:matrixStats':\n",
      "\n",
      "    colAlls, colAnyNAs, colAnys, colAvgsPerRowSet, colCollapse,\n",
      "    colCounts, colCummaxs, colCummins, colCumprods, colCumsums,\n",
      "    colDiffs, colIQRDiffs, colIQRs, colLogSumExps, colMadDiffs,\n",
      "    colMads, colMaxs, colMeans2, colMedians, colMins, colOrderStats,\n",
      "    colProds, colQuantiles, colRanges, colRanks, colSdDiffs, colSds,\n",
      "    colSums2, colTabulates, colVarDiffs, colVars, colWeightedMads,\n",
      "    colWeightedMeans, colWeightedMedians, colWeightedSds,\n",
      "    colWeightedVars, rowAlls, rowAnyNAs, rowAnys, rowAvgsPerColSet,\n",
      "    rowCollapse, rowCounts, rowCummaxs, rowCummins, rowCumprods,\n",
      "    rowCumsums, rowDiffs, rowIQRDiffs, rowIQRs, rowLogSumExps,\n",
      "    rowMadDiffs, rowMads, rowMaxs, rowMeans2, rowMedians, rowMins,\n",
      "    rowOrderStats, rowProds, rowQuantiles, rowRanges, rowRanks,\n",
      "    rowSdDiffs, rowSds, rowSums2, rowTabulates, rowVarDiffs, rowVars,\n",
      "    rowWeightedMads, rowWeightedMeans, rowWeightedMedians,\n",
      "    rowWeightedSds, rowWeightedVars\n",
      "\n",
      "\n",
      "Cargando paquete requerido: GenomicRanges\n",
      "\n",
      "Cargando paquete requerido: stats4\n",
      "\n",
      "Cargando paquete requerido: BiocGenerics\n",
      "\n",
      "\n",
      "Adjuntando el paquete: 'BiocGenerics'\n",
      "\n",
      "\n",
      "The following objects are masked from 'package:stats':\n",
      "\n",
      "    IQR, mad, sd, var, xtabs\n",
      "\n",
      "\n",
      "The following objects are masked from 'package:base':\n",
      "\n",
      "    anyDuplicated, aperm, append, as.data.frame, basename, cbind,\n",
      "    colnames, dirname, do.call, duplicated, eval, evalq, Filter, Find,\n",
      "    get, grep, grepl, intersect, is.unsorted, lapply, Map, mapply,\n",
      "    match, mget, order, paste, pmax, pmax.int, pmin, pmin.int,\n",
      "    Position, rank, rbind, Reduce, rownames, sapply, setdiff, table,\n",
      "    tapply, union, unique, unsplit, which.max, which.min\n",
      "\n",
      "\n",
      "Cargando paquete requerido: S4Vectors\n",
      "\n",
      "\n",
      "Adjuntando el paquete: 'S4Vectors'\n",
      "\n",
      "\n",
      "The following object is masked from 'package:utils':\n",
      "\n",
      "    findMatches\n",
      "\n",
      "\n",
      "The following objects are masked from 'package:base':\n",
      "\n",
      "    expand.grid, I, unname\n",
      "\n",
      "\n",
      "Cargando paquete requerido: IRanges\n",
      "\n",
      "\n",
      "Adjuntando el paquete: 'IRanges'\n",
      "\n",
      "\n",
      "The following object is masked from 'package:grDevices':\n",
      "\n",
      "    windows\n",
      "\n",
      "\n",
      "Cargando paquete requerido: GenomeInfoDb\n",
      "\n",
      "Cargando paquete requerido: Biobase\n",
      "\n",
      "Welcome to Bioconductor\n",
      "\n",
      "    Vignettes contain introductory material; view with\n",
      "    'browseVignettes()'. To cite Bioconductor, see\n",
      "    'citation(\"Biobase\")', and for packages 'citation(\"pkgname\")'.\n",
      "\n",
      "\n",
      "\n",
      "Adjuntando el paquete: 'Biobase'\n",
      "\n",
      "\n",
      "The following object is masked from 'package:MatrixGenerics':\n",
      "\n",
      "    rowMedians\n",
      "\n",
      "\n",
      "The following objects are masked from 'package:matrixStats':\n",
      "\n",
      "    anyMissing, rowMedians\n",
      "\n",
      "\n",
      "Cargando paquete requerido: MultiAssayExperiment\n",
      "\n",
      "Cargando paquete requerido: dplyr\n",
      "\n",
      "\n",
      "Adjuntando el paquete: 'dplyr'\n",
      "\n",
      "\n",
      "The following object is masked from 'package:Biobase':\n",
      "\n",
      "    combine\n",
      "\n",
      "\n",
      "The following objects are masked from 'package:GenomicRanges':\n",
      "\n",
      "    intersect, setdiff, union\n",
      "\n",
      "\n",
      "The following object is masked from 'package:GenomeInfoDb':\n",
      "\n",
      "    intersect\n",
      "\n",
      "\n",
      "The following objects are masked from 'package:IRanges':\n",
      "\n",
      "    collapse, desc, intersect, setdiff, slice, union\n",
      "\n",
      "\n",
      "The following objects are masked from 'package:S4Vectors':\n",
      "\n",
      "    first, intersect, rename, setdiff, setequal, union\n",
      "\n",
      "\n",
      "The following objects are masked from 'package:BiocGenerics':\n",
      "\n",
      "    combine, intersect, setdiff, union\n",
      "\n",
      "\n",
      "The following object is masked from 'package:matrixStats':\n",
      "\n",
      "    count\n",
      "\n",
      "\n",
      "The following objects are masked from 'package:stats':\n",
      "\n",
      "    filter, lag\n",
      "\n",
      "\n",
      "The following objects are masked from 'package:base':\n",
      "\n",
      "    intersect, setdiff, setequal, union\n",
      "\n",
      "\n",
      "Cargando paquete requerido: cluster\n",
      "\n",
      "Cargando paquete requerido: fpc\n",
      "\n",
      "Cargando paquete requerido: randomForest\n",
      "\n",
      "randomForest 4.7-1.2\n",
      "\n",
      "Type rfNews() to see new features/changes/bug fixes.\n",
      "\n",
      "\n",
      "Adjuntando el paquete: 'randomForest'\n",
      "\n",
      "\n",
      "The following object is masked from 'package:dplyr':\n",
      "\n",
      "    combine\n",
      "\n",
      "\n",
      "The following object is masked from 'package:Biobase':\n",
      "\n",
      "    combine\n",
      "\n",
      "\n",
      "The following object is masked from 'package:BiocGenerics':\n",
      "\n",
      "    combine\n",
      "\n",
      "\n",
      "Cargando paquete requerido: flexmix\n",
      "\n",
      "Cargando paquete requerido: lattice\n",
      "\n",
      "Cargando paquete requerido: RSKC\n",
      "\n",
      "Cargando paquete requerido: flexclust\n",
      "\n",
      "Cargando paquete requerido: grid\n",
      "\n",
      "Cargando paquete requerido: modeltools\n",
      "\n",
      "Cargando paquete requerido: sparcl\n",
      "\n",
      "\n",
      "Adjuntando el paquete: 'cancerclass'\n",
      "\n",
      "\n",
      "The following objects are masked from 'package:flexclust':\n",
      "\n",
      "    plot, predict, summary\n",
      "\n",
      "\n",
      "The following object is masked from 'package:modeltools':\n",
      "\n",
      "    fit\n",
      "\n",
      "\n",
      "The following objects are masked from 'package:flexmix':\n",
      "\n",
      "    plot, predict, summary\n",
      "\n",
      "\n",
      "The following object is masked from 'package:dplyr':\n",
      "\n",
      "    filter\n",
      "\n",
      "\n",
      "The following object is masked from 'package:GenomicRanges':\n",
      "\n",
      "    summary\n",
      "\n",
      "\n",
      "The following object is masked from 'package:GenomeInfoDb':\n",
      "\n",
      "    summary\n",
      "\n",
      "\n",
      "The following object is masked from 'package:IRanges':\n",
      "\n",
      "    summary\n",
      "\n",
      "\n",
      "The following object is masked from 'package:S4Vectors':\n",
      "\n",
      "    summary\n",
      "\n",
      "\n",
      "The following objects are masked from 'package:stats4':\n",
      "\n",
      "    plot, summary\n",
      "\n",
      "\n",
      "The following objects are masked from 'package:stats':\n",
      "\n",
      "    filter, predict\n",
      "\n",
      "\n",
      "The following object is masked from 'package:graphics':\n",
      "\n",
      "    plot\n",
      "\n",
      "\n",
      "The following objects are masked from 'package:base':\n",
      "\n",
      "    plot, summary\n",
      "\n",
      "\n",
      "Cargando paquete requerido: ggplot2\n",
      "\n",
      "\n",
      "Adjuntando el paquete: 'ggplot2'\n",
      "\n",
      "\n",
      "The following object is masked from 'package:randomForest':\n",
      "\n",
      "    margin\n",
      "\n",
      "\n",
      "\n",
      "Adjuntando el paquete: 'MLmetrics'\n",
      "\n",
      "\n",
      "The following objects are masked from 'package:caret':\n",
      "\n",
      "    MAE, RMSE\n",
      "\n",
      "\n",
      "The following object is masked from 'package:RSKC':\n",
      "\n",
      "    Sensitivity\n",
      "\n",
      "\n",
      "The following object is masked from 'package:base':\n",
      "\n",
      "    Recall\n",
      "\n",
      "\n"
     ]
    }
   ],
   "source": [
    "library(\"binom\") \n",
    "library(\"evaluomeR\")\n",
    "library(\"cancerclass\")\n",
    "library(\"dplyr\")\n",
    "library(\"caret\")\n",
    "library(\"MLmetrics\")\n",
    "library(\"ggplot2\")\n",
    "library(\"ggrepel\")\n",
    "library(\"reshape2\")\n",
    "\n",
    "options(scipen=10)\n",
    "options(repr.plot.width=12, repr.plot.height=12)"
   ]
  },
  {
   "cell_type": "markdown",
   "id": "58895eee",
   "metadata": {},
   "source": [
    "# Table of contents\n",
    "* [Dataset](#dataset)\n",
    "    * [Top 100](#top)\n",
    "* [evaluomeR - optimal $k$ analysis](#evaluomeR)\n",
    "    * [Stability plotting](#evaluomeR_stab_plot)\n",
    "    * [Quality plotting](#evaluomeR_qual_plot)\n",
    "* [PCA](#pca)\n",
    "* [Sensitivity](#sensitivity)\n",
    "* [CER](#cer)"
   ]
  },
  {
   "cell_type": "markdown",
   "id": "08d0e886",
   "metadata": {},
   "source": [
    "# Dataset <a class=\"anchor\" id=\"dataset\"></a>"
   ]
  },
  {
   "cell_type": "code",
   "execution_count": 2,
   "id": "cad180bc-ecbf-4aa4-bcba-ad55cc70af0e",
   "metadata": {},
   "outputs": [],
   "source": [
    "seed = 13606\n",
    "k.range = c(3,10)\n",
    "cbi = \"clara\"\n",
    "alpha = NULL\n",
    "max_alpha = 0.25 # Default 0.1\n",
    "# Compare max_alpha =.1 vs .25, which results in alpha=0.2"
   ]
  },
  {
   "cell_type": "code",
   "execution_count": 3,
   "id": "0a1bb939",
   "metadata": {},
   "outputs": [
    {
     "data": {
      "text/html": [
       "<table class=\"dataframe\">\n",
       "<caption>A data.frame: 6 × 102</caption>\n",
       "<thead>\n",
       "\t<tr><th></th><th scope=col>Description</th><th scope=col>AFFX.HUMRGE.M10098_5_at</th><th scope=col>AFFX.HUMRGE.M10098_M_at</th><th scope=col>AFFX.HUMRGE.M10098_3_at</th><th scope=col>AFFX.M27830_5_at</th><th scope=col>D13639_at</th><th scope=col>D83735_at</th><th scope=col>D83920_at</th><th scope=col>D87433_at</th><th scope=col>D88270_at</th><th scope=col>⋯</th><th scope=col>X65965_s_at</th><th scope=col>X76223_s_at</th><th scope=col>AF000424_s_at</th><th scope=col>M21305_at</th><th scope=col>U57341_at</th><th scope=col>HG3576.HT3779_f_at</th><th scope=col>U01317_cds4_at</th><th scope=col>M15395_at</th><th scope=col>M34516_at</th><th scope=col>Class</th></tr>\n",
       "\t<tr><th></th><th scope=col>&lt;fct&gt;</th><th scope=col>&lt;dbl&gt;</th><th scope=col>&lt;dbl&gt;</th><th scope=col>&lt;dbl&gt;</th><th scope=col>&lt;dbl&gt;</th><th scope=col>&lt;dbl&gt;</th><th scope=col>&lt;dbl&gt;</th><th scope=col>&lt;dbl&gt;</th><th scope=col>&lt;dbl&gt;</th><th scope=col>&lt;dbl&gt;</th><th scope=col>⋯</th><th scope=col>&lt;dbl&gt;</th><th scope=col>&lt;dbl&gt;</th><th scope=col>&lt;dbl&gt;</th><th scope=col>&lt;dbl&gt;</th><th scope=col>&lt;dbl&gt;</th><th scope=col>&lt;dbl&gt;</th><th scope=col>&lt;dbl&gt;</th><th scope=col>&lt;dbl&gt;</th><th scope=col>&lt;dbl&gt;</th><th scope=col>&lt;fct&gt;</th></tr>\n",
       "</thead>\n",
       "<tbody>\n",
       "\t<tr><th scope=row>1</th><td>B1</td><td>4.16250</td><td>3.98847</td><td>3.93090</td><td>3.82930</td><td>3.67274</td><td>2.00000</td><td>2.00000</td><td>2.0000</td><td>3.29336</td><td>⋯</td><td>2.83059</td><td>2.00000</td><td>3.49914</td><td>2.91960</td><td>2.30750</td><td>3.92536</td><td>2.07555</td><td>2.23553</td><td>3.82595</td><td>B</td></tr>\n",
       "\t<tr><th scope=row>2</th><td>T1</td><td>2.78888</td><td>2.06070</td><td>3.18127</td><td>3.34537</td><td>3.52724</td><td>3.04218</td><td>3.35545</td><td>2.0000</td><td>2.29667</td><td>⋯</td><td>3.40926</td><td>3.96624</td><td>3.71533</td><td>2.00000</td><td>2.69810</td><td>3.25479</td><td>2.00000</td><td>3.19535</td><td>3.46195</td><td>T</td></tr>\n",
       "\t<tr><th scope=row>3</th><td>T2</td><td>3.75351</td><td>3.51481</td><td>3.56443</td><td>3.52179</td><td>2.00000</td><td>2.89321</td><td>2.31175</td><td>2.0000</td><td>2.76268</td><td>⋯</td><td>2.52763</td><td>4.20412</td><td>2.85003</td><td>3.38364</td><td>2.64345</td><td>2.00000</td><td>2.23553</td><td>2.50379</td><td>2.00000</td><td>T</td></tr>\n",
       "\t<tr><th scope=row>4</th><td>B2</td><td>3.68574</td><td>3.36040</td><td>3.40976</td><td>3.48544</td><td>2.00432</td><td>2.00000</td><td>2.00000</td><td>2.0000</td><td>3.68851</td><td>⋯</td><td>2.43457</td><td>2.00000</td><td>2.00000</td><td>2.79029</td><td>2.98632</td><td>3.42911</td><td>2.59660</td><td>2.37658</td><td>3.14364</td><td>B</td></tr>\n",
       "\t<tr><th scope=row>5</th><td>B3</td><td>3.10857</td><td>3.43632</td><td>2.49969</td><td>3.05308</td><td>3.10585</td><td>2.00000</td><td>2.30750</td><td>2.4014</td><td>3.52930</td><td>⋯</td><td>2.56820</td><td>2.00000</td><td>2.73640</td><td>2.45637</td><td>2.22272</td><td>3.37014</td><td>2.09342</td><td>3.03383</td><td>3.36399</td><td>B</td></tr>\n",
       "\t<tr><th scope=row>6</th><td>T3</td><td>3.61784</td><td>3.43823</td><td>3.38093</td><td>3.59173</td><td>2.00000</td><td>2.00000</td><td>3.18639</td><td>2.0000</td><td>2.00000</td><td>⋯</td><td>2.50651</td><td>4.13117</td><td>3.25888</td><td>2.00000</td><td>2.07918</td><td>2.00000</td><td>2.00000</td><td>3.01536</td><td>2.00000</td><td>T</td></tr>\n",
       "</tbody>\n",
       "</table>\n"
      ],
      "text/latex": [
       "A data.frame: 6 × 102\n",
       "\\begin{tabular}{r|lllllllllllllllllllll}\n",
       "  & Description & AFFX.HUMRGE.M10098\\_5\\_at & AFFX.HUMRGE.M10098\\_M\\_at & AFFX.HUMRGE.M10098\\_3\\_at & AFFX.M27830\\_5\\_at & D13639\\_at & D83735\\_at & D83920\\_at & D87433\\_at & D88270\\_at & ⋯ & X65965\\_s\\_at & X76223\\_s\\_at & AF000424\\_s\\_at & M21305\\_at & U57341\\_at & HG3576.HT3779\\_f\\_at & U01317\\_cds4\\_at & M15395\\_at & M34516\\_at & Class\\\\\n",
       "  & <fct> & <dbl> & <dbl> & <dbl> & <dbl> & <dbl> & <dbl> & <dbl> & <dbl> & <dbl> & ⋯ & <dbl> & <dbl> & <dbl> & <dbl> & <dbl> & <dbl> & <dbl> & <dbl> & <dbl> & <fct>\\\\\n",
       "\\hline\n",
       "\t1 & B1 & 4.16250 & 3.98847 & 3.93090 & 3.82930 & 3.67274 & 2.00000 & 2.00000 & 2.0000 & 3.29336 & ⋯ & 2.83059 & 2.00000 & 3.49914 & 2.91960 & 2.30750 & 3.92536 & 2.07555 & 2.23553 & 3.82595 & B\\\\\n",
       "\t2 & T1 & 2.78888 & 2.06070 & 3.18127 & 3.34537 & 3.52724 & 3.04218 & 3.35545 & 2.0000 & 2.29667 & ⋯ & 3.40926 & 3.96624 & 3.71533 & 2.00000 & 2.69810 & 3.25479 & 2.00000 & 3.19535 & 3.46195 & T\\\\\n",
       "\t3 & T2 & 3.75351 & 3.51481 & 3.56443 & 3.52179 & 2.00000 & 2.89321 & 2.31175 & 2.0000 & 2.76268 & ⋯ & 2.52763 & 4.20412 & 2.85003 & 3.38364 & 2.64345 & 2.00000 & 2.23553 & 2.50379 & 2.00000 & T\\\\\n",
       "\t4 & B2 & 3.68574 & 3.36040 & 3.40976 & 3.48544 & 2.00432 & 2.00000 & 2.00000 & 2.0000 & 3.68851 & ⋯ & 2.43457 & 2.00000 & 2.00000 & 2.79029 & 2.98632 & 3.42911 & 2.59660 & 2.37658 & 3.14364 & B\\\\\n",
       "\t5 & B3 & 3.10857 & 3.43632 & 2.49969 & 3.05308 & 3.10585 & 2.00000 & 2.30750 & 2.4014 & 3.52930 & ⋯ & 2.56820 & 2.00000 & 2.73640 & 2.45637 & 2.22272 & 3.37014 & 2.09342 & 3.03383 & 3.36399 & B\\\\\n",
       "\t6 & T3 & 3.61784 & 3.43823 & 3.38093 & 3.59173 & 2.00000 & 2.00000 & 3.18639 & 2.0000 & 2.00000 & ⋯ & 2.50651 & 4.13117 & 3.25888 & 2.00000 & 2.07918 & 2.00000 & 2.00000 & 3.01536 & 2.00000 & T\\\\\n",
       "\\end{tabular}\n"
      ],
      "text/markdown": [
       "\n",
       "A data.frame: 6 × 102\n",
       "\n",
       "| <!--/--> | Description &lt;fct&gt; | AFFX.HUMRGE.M10098_5_at &lt;dbl&gt; | AFFX.HUMRGE.M10098_M_at &lt;dbl&gt; | AFFX.HUMRGE.M10098_3_at &lt;dbl&gt; | AFFX.M27830_5_at &lt;dbl&gt; | D13639_at &lt;dbl&gt; | D83735_at &lt;dbl&gt; | D83920_at &lt;dbl&gt; | D87433_at &lt;dbl&gt; | D88270_at &lt;dbl&gt; | ⋯ ⋯ | X65965_s_at &lt;dbl&gt; | X76223_s_at &lt;dbl&gt; | AF000424_s_at &lt;dbl&gt; | M21305_at &lt;dbl&gt; | U57341_at &lt;dbl&gt; | HG3576.HT3779_f_at &lt;dbl&gt; | U01317_cds4_at &lt;dbl&gt; | M15395_at &lt;dbl&gt; | M34516_at &lt;dbl&gt; | Class &lt;fct&gt; |\n",
       "|---|---|---|---|---|---|---|---|---|---|---|---|---|---|---|---|---|---|---|---|---|---|\n",
       "| 1 | B1 | 4.16250 | 3.98847 | 3.93090 | 3.82930 | 3.67274 | 2.00000 | 2.00000 | 2.0000 | 3.29336 | ⋯ | 2.83059 | 2.00000 | 3.49914 | 2.91960 | 2.30750 | 3.92536 | 2.07555 | 2.23553 | 3.82595 | B |\n",
       "| 2 | T1 | 2.78888 | 2.06070 | 3.18127 | 3.34537 | 3.52724 | 3.04218 | 3.35545 | 2.0000 | 2.29667 | ⋯ | 3.40926 | 3.96624 | 3.71533 | 2.00000 | 2.69810 | 3.25479 | 2.00000 | 3.19535 | 3.46195 | T |\n",
       "| 3 | T2 | 3.75351 | 3.51481 | 3.56443 | 3.52179 | 2.00000 | 2.89321 | 2.31175 | 2.0000 | 2.76268 | ⋯ | 2.52763 | 4.20412 | 2.85003 | 3.38364 | 2.64345 | 2.00000 | 2.23553 | 2.50379 | 2.00000 | T |\n",
       "| 4 | B2 | 3.68574 | 3.36040 | 3.40976 | 3.48544 | 2.00432 | 2.00000 | 2.00000 | 2.0000 | 3.68851 | ⋯ | 2.43457 | 2.00000 | 2.00000 | 2.79029 | 2.98632 | 3.42911 | 2.59660 | 2.37658 | 3.14364 | B |\n",
       "| 5 | B3 | 3.10857 | 3.43632 | 2.49969 | 3.05308 | 3.10585 | 2.00000 | 2.30750 | 2.4014 | 3.52930 | ⋯ | 2.56820 | 2.00000 | 2.73640 | 2.45637 | 2.22272 | 3.37014 | 2.09342 | 3.03383 | 3.36399 | B |\n",
       "| 6 | T3 | 3.61784 | 3.43823 | 3.38093 | 3.59173 | 2.00000 | 2.00000 | 3.18639 | 2.0000 | 2.00000 | ⋯ | 2.50651 | 4.13117 | 3.25888 | 2.00000 | 2.07918 | 2.00000 | 2.00000 | 3.01536 | 2.00000 | T |\n",
       "\n"
      ],
      "text/plain": [
       "  Description AFFX.HUMRGE.M10098_5_at AFFX.HUMRGE.M10098_M_at\n",
       "1 B1          4.16250                 3.98847                \n",
       "2 T1          2.78888                 2.06070                \n",
       "3 T2          3.75351                 3.51481                \n",
       "4 B2          3.68574                 3.36040                \n",
       "5 B3          3.10857                 3.43632                \n",
       "6 T3          3.61784                 3.43823                \n",
       "  AFFX.HUMRGE.M10098_3_at AFFX.M27830_5_at D13639_at D83735_at D83920_at\n",
       "1 3.93090                 3.82930          3.67274   2.00000   2.00000  \n",
       "2 3.18127                 3.34537          3.52724   3.04218   3.35545  \n",
       "3 3.56443                 3.52179          2.00000   2.89321   2.31175  \n",
       "4 3.40976                 3.48544          2.00432   2.00000   2.00000  \n",
       "5 2.49969                 3.05308          3.10585   2.00000   2.30750  \n",
       "6 3.38093                 3.59173          2.00000   2.00000   3.18639  \n",
       "  D87433_at D88270_at ⋯ X65965_s_at X76223_s_at AF000424_s_at M21305_at\n",
       "1 2.0000    3.29336   ⋯ 2.83059     2.00000     3.49914       2.91960  \n",
       "2 2.0000    2.29667   ⋯ 3.40926     3.96624     3.71533       2.00000  \n",
       "3 2.0000    2.76268   ⋯ 2.52763     4.20412     2.85003       3.38364  \n",
       "4 2.0000    3.68851   ⋯ 2.43457     2.00000     2.00000       2.79029  \n",
       "5 2.4014    3.52930   ⋯ 2.56820     2.00000     2.73640       2.45637  \n",
       "6 2.0000    2.00000   ⋯ 2.50651     4.13117     3.25888       2.00000  \n",
       "  U57341_at HG3576.HT3779_f_at U01317_cds4_at M15395_at M34516_at Class\n",
       "1 2.30750   3.92536            2.07555        2.23553   3.82595   B    \n",
       "2 2.69810   3.25479            2.00000        3.19535   3.46195   T    \n",
       "3 2.64345   2.00000            2.23553        2.50379   2.00000   T    \n",
       "4 2.98632   3.42911            2.59660        2.37658   3.14364   B    \n",
       "5 2.22272   3.37014            2.09342        3.03383   3.36399   B    \n",
       "6 2.07918   2.00000            2.00000        3.01536   2.00000   T    "
      ]
     },
     "metadata": {},
     "output_type": "display_data"
    }
   ],
   "source": [
    "data(\"golub\")\n",
    "golub = golub\n",
    "colnames(golub)[colnames(golub) == 'Case'] <- 'Description'\n",
    "head(golub)"
   ]
  },
  {
   "cell_type": "markdown",
   "id": "8a6ee24b",
   "metadata": {},
   "source": [
    "Three types of classes within the dataset: **B**, **T** and **M**."
   ]
  },
  {
   "cell_type": "code",
   "execution_count": 4,
   "id": "e3d9ffb3",
   "metadata": {},
   "outputs": [
    {
     "data": {
      "text/html": [
       "<style>\n",
       ".list-inline {list-style: none; margin:0; padding: 0}\n",
       ".list-inline>li {display: inline-block}\n",
       ".list-inline>li:not(:last-child)::after {content: \"\\00b7\"; padding: 0 .5ex}\n",
       "</style>\n",
       "<ol class=list-inline><li>1</li><li>2</li><li>2</li><li>1</li><li>1</li><li>2</li><li>1</li><li>1</li><li>2</li><li>2</li><li>2</li><li>1</li><li>1</li><li>2</li><li>1</li><li>1</li><li>1</li><li>1</li><li>1</li><li>1</li><li>1</li><li>1</li><li>2</li><li>1</li><li>1</li><li>1</li><li>1</li><li>3</li><li>3</li><li>3</li><li>3</li><li>3</li><li>3</li><li>3</li><li>3</li><li>3</li><li>3</li><li>3</li><li>1</li><li>1</li><li>1</li><li>1</li><li>1</li><li>1</li><li>1</li><li>1</li><li>1</li><li>1</li><li>1</li><li>1</li><li>1</li><li>1</li><li>1</li><li>1</li><li>2</li><li>1</li><li>1</li><li>1</li><li>3</li><li>3</li><li>3</li><li>3</li><li>3</li><li>3</li><li>3</li><li>3</li><li>3</li><li>3</li><li>3</li><li>3</li><li>3</li><li>3</li></ol>\n"
      ],
      "text/latex": [
       "\\begin{enumerate*}\n",
       "\\item 1\n",
       "\\item 2\n",
       "\\item 2\n",
       "\\item 1\n",
       "\\item 1\n",
       "\\item 2\n",
       "\\item 1\n",
       "\\item 1\n",
       "\\item 2\n",
       "\\item 2\n",
       "\\item 2\n",
       "\\item 1\n",
       "\\item 1\n",
       "\\item 2\n",
       "\\item 1\n",
       "\\item 1\n",
       "\\item 1\n",
       "\\item 1\n",
       "\\item 1\n",
       "\\item 1\n",
       "\\item 1\n",
       "\\item 1\n",
       "\\item 2\n",
       "\\item 1\n",
       "\\item 1\n",
       "\\item 1\n",
       "\\item 1\n",
       "\\item 3\n",
       "\\item 3\n",
       "\\item 3\n",
       "\\item 3\n",
       "\\item 3\n",
       "\\item 3\n",
       "\\item 3\n",
       "\\item 3\n",
       "\\item 3\n",
       "\\item 3\n",
       "\\item 3\n",
       "\\item 1\n",
       "\\item 1\n",
       "\\item 1\n",
       "\\item 1\n",
       "\\item 1\n",
       "\\item 1\n",
       "\\item 1\n",
       "\\item 1\n",
       "\\item 1\n",
       "\\item 1\n",
       "\\item 1\n",
       "\\item 1\n",
       "\\item 1\n",
       "\\item 1\n",
       "\\item 1\n",
       "\\item 1\n",
       "\\item 2\n",
       "\\item 1\n",
       "\\item 1\n",
       "\\item 1\n",
       "\\item 3\n",
       "\\item 3\n",
       "\\item 3\n",
       "\\item 3\n",
       "\\item 3\n",
       "\\item 3\n",
       "\\item 3\n",
       "\\item 3\n",
       "\\item 3\n",
       "\\item 3\n",
       "\\item 3\n",
       "\\item 3\n",
       "\\item 3\n",
       "\\item 3\n",
       "\\end{enumerate*}\n"
      ],
      "text/markdown": [
       "1. 1\n",
       "2. 2\n",
       "3. 2\n",
       "4. 1\n",
       "5. 1\n",
       "6. 2\n",
       "7. 1\n",
       "8. 1\n",
       "9. 2\n",
       "10. 2\n",
       "11. 2\n",
       "12. 1\n",
       "13. 1\n",
       "14. 2\n",
       "15. 1\n",
       "16. 1\n",
       "17. 1\n",
       "18. 1\n",
       "19. 1\n",
       "20. 1\n",
       "21. 1\n",
       "22. 1\n",
       "23. 2\n",
       "24. 1\n",
       "25. 1\n",
       "26. 1\n",
       "27. 1\n",
       "28. 3\n",
       "29. 3\n",
       "30. 3\n",
       "31. 3\n",
       "32. 3\n",
       "33. 3\n",
       "34. 3\n",
       "35. 3\n",
       "36. 3\n",
       "37. 3\n",
       "38. 3\n",
       "39. 1\n",
       "40. 1\n",
       "41. 1\n",
       "42. 1\n",
       "43. 1\n",
       "44. 1\n",
       "45. 1\n",
       "46. 1\n",
       "47. 1\n",
       "48. 1\n",
       "49. 1\n",
       "50. 1\n",
       "51. 1\n",
       "52. 1\n",
       "53. 1\n",
       "54. 1\n",
       "55. 2\n",
       "56. 1\n",
       "57. 1\n",
       "58. 1\n",
       "59. 3\n",
       "60. 3\n",
       "61. 3\n",
       "62. 3\n",
       "63. 3\n",
       "64. 3\n",
       "65. 3\n",
       "66. 3\n",
       "67. 3\n",
       "68. 3\n",
       "69. 3\n",
       "70. 3\n",
       "71. 3\n",
       "72. 3\n",
       "\n",
       "\n"
      ],
      "text/plain": [
       " [1] 1 2 2 1 1 2 1 1 2 2 2 1 1 2 1 1 1 1 1 1 1 1 2 1 1 1 1 3 3 3 3 3 3 3 3 3 3 3\n",
       "[39] 1 1 1 1 1 1 1 1 1 1 1 1 1 1 1 1 2 1 1 1 3 3 3 3 3 3 3 3 3 3 3 3 3 3"
      ]
     },
     "metadata": {},
     "output_type": "display_data"
    }
   ],
   "source": [
    "level_mapping <- c(\"B\" = 1, \"T\" = 2, \"M\" = 3)\n",
    "map_strings_to_numbers <- function(strings) {\n",
    "  factorized <- factor(strings, levels = names(level_mapping))\n",
    "  as.numeric(factorized)\n",
    "}\n",
    "gold_standard_vector = as.vector(unlist(lapply(golub[\"Class\"], map_strings_to_numbers)))\n",
    "gold_standard_vector"
   ]
  },
  {
   "cell_type": "markdown",
   "id": "916bfe1c",
   "metadata": {},
   "source": [
    "*Further information regarding GOLUB in [cancerclass](https://rdrr.io/bioc/cancerclass/man/GOLUB.html) package.*"
   ]
  },
  {
   "cell_type": "markdown",
   "id": "15b10987",
   "metadata": {},
   "source": [
    "Here, we prepare the GOLUB dataset for the analysis, in order to do so, we remove non-numeric columns:"
   ]
  },
  {
   "cell_type": "code",
   "execution_count": 5,
   "id": "82762fa9-673d-4b72-bda8-625e1b06d700",
   "metadata": {},
   "outputs": [
    {
     "name": "stderr",
     "output_type": "stream",
     "text": [
      "Preprocessing dataset\n",
      "\n",
      "Removing non-numeric columns...\n",
      "\n",
      "\tNon-numeric columns found:\n",
      "\n",
      "\t\tClass\n",
      "\n",
      "Removing correlations...\n",
      "\n",
      "\tNo correlated columns found\n",
      "\n",
      "Checking PCA suitability...\n",
      "\n",
      "\tPCA is not suitable. Bartlett's test produced NA for p-value.\n",
      "\n"
     ]
    }
   ],
   "source": [
    "golub_clean = evaluomeR::cleanDataset(golub, correlation_threshold=1)\n",
    "pca_suitability = evaluomeR::PCASuitability(golub_clean$R, sig_level = 0.05)\n",
    "dataset = golub_clean$dataset\n",
    "\n",
    "if (pca_suitability$pca_suitable) {\n",
    "    r_pca = evaluomeR::performPCA(dataset = dataset)\n",
    "    dataset = r_pca$dataset_ncp\n",
    "    evaluomeR::plotPCA_fviz_screeplot(r_pca$pca)\n",
    "    evaluomeR::plotPCA_fviz_biplot(r_pca$pca)\n",
    "}"
   ]
  },
  {
   "cell_type": "markdown",
   "id": "82a10a31",
   "metadata": {},
   "source": [
    "# evaluomeR - (ATSC) optimal $k$ analysis <a class=\"anchor\" id=\"evaluomeR\"></a>\n",
    "\n",
    "In this Section, evaluomeR executes an optimal $k$ analysis. First, stabilities and qualities are calculated, considering all the metrics in the dataset. The $k$ range is $k \\in [3,10]$ and the clustering method is `rskc`."
   ]
  },
  {
   "cell_type": "code",
   "execution_count": 6,
   "id": "e6e4f6f7-49be-478f-9258-f30c81a7e48d",
   "metadata": {},
   "outputs": [
    {
     "name": "stderr",
     "output_type": "stream",
     "text": [
      "Computing optimal k value with 'clara'\n",
      "\n",
      "Warning: 'gold_standard' parameter is set, argument 'bs' will be ignored.\n",
      "\n",
      "\n",
      "\n",
      "Data loaded.\n",
      "Number of rows: 72\n",
      "Number of columns: 101\n",
      "\n",
      "\n",
      "\n",
      "Processing all metrics, 'merge', in dataframe (100)\n",
      "\n",
      "\tCalculation of k = 3\n",
      "\n",
      "\tCalculation of k = 4\n",
      "\n",
      "\tCalculation of k = 5\n",
      "\n",
      "\tCalculation of k = 6\n",
      "\n",
      "\tCalculation of k = 7\n",
      "\n",
      "\tCalculation of k = 8\n",
      "\n",
      "\tCalculation of k = 9\n",
      "\n",
      "\tCalculation of k = 10\n",
      "\n",
      "\n",
      "\n",
      "Data loaded.\n",
      "Number of rows: 72\n",
      "Number of columns: 101\n",
      "\n",
      "\n",
      "\n",
      "Processing all metrics, 'merge', in dataframe (100)\n",
      "\n",
      "\tCalculation of k = 3\n",
      "\n",
      "\tCalculation of k = 4\n",
      "\n",
      "\tCalculation of k = 5\n",
      "\n",
      "\tCalculation of k = 6\n",
      "\n",
      "\tCalculation of k = 7\n",
      "\n",
      "\tCalculation of k = 8\n",
      "\n",
      "\tCalculation of k = 9\n",
      "\n",
      "\tCalculation of k = 10\n",
      "\n",
      "Processing metric: all_metrics\n",
      "\n",
      "\n",
      "\tMaximum stability and quality values matches the same K value: '3'\n",
      "\n",
      "\n",
      "Optimal k: 3\n",
      "\n",
      "Determining best L1 and alpha parameter automatically, it might take a while...\n",
      "\n",
      "Computing best L1 boundry with 'sparcl::KMeansSparseCluster.permute'\n",
      "\n",
      "Best L1 found is: 7.24137931034483\n",
      "\n",
      "Running stability and quality indexes with alpha=0 k=3 L1=7.24137931034483\n",
      "\n",
      "Running stability and quality indexes with alpha=0.01 k=3 L1=7.24137931034483\n",
      "\n",
      "Running stability and quality indexes with alpha=0.02 k=3 L1=7.24137931034483\n",
      "\n",
      "Running stability and quality indexes with alpha=0.03 k=3 L1=7.24137931034483\n",
      "\n",
      "Running stability and quality indexes with alpha=0.04 k=3 L1=7.24137931034483\n",
      "\n",
      "Running stability and quality indexes with alpha=0.05 k=3 L1=7.24137931034483\n",
      "\n",
      "Running stability and quality indexes with alpha=0.06 k=3 L1=7.24137931034483\n",
      "\n",
      "Running stability and quality indexes with alpha=0.07 k=3 L1=7.24137931034483\n",
      "\n",
      "Running stability and quality indexes with alpha=0.08 k=3 L1=7.24137931034483\n",
      "\n",
      "Running stability and quality indexes with alpha=0.09 k=3 L1=7.24137931034483\n",
      "\n",
      "Running stability and quality indexes with alpha=0.1 k=3 L1=7.24137931034483\n",
      "\n",
      "Highest stability found when alpha=0.04 (0.918731148474217)\n",
      "\n",
      "Highest quality found when alpha=0.07 (0.216331114665469)\n",
      "\n",
      "\tUsing L1 '7.24137931034483' and alpha '0.07'\n",
      "\n",
      "Running Trimmed & Sparse Clustering algorithm\n",
      "\n",
      "\tNumber of trimmed cases: 7\n",
      "\n",
      "\tTrimming gold standard as well\n",
      "\n",
      "\tNumber of affected columns: 4\n",
      "\n",
      "Computing optimal k value on the dataset processed by a trimmed sparse clustering method.\n",
      "\n",
      "Warning: 'gold_standard' parameter is set, argument 'bs' will be ignored.\n",
      "\n",
      "\n",
      "\n",
      "Data loaded.\n",
      "Number of rows: 65\n",
      "Number of columns: 97\n",
      "\n",
      "\n",
      "\n",
      "Processing all metrics, 'merge', in dataframe (96)\n",
      "\n",
      "\tCalculation of k = 3\n",
      "\n",
      "\tCalculation of k = 4\n",
      "\n",
      "\tCalculation of k = 5\n",
      "\n",
      "\tCalculation of k = 6\n",
      "\n",
      "\tCalculation of k = 7\n",
      "\n",
      "\tCalculation of k = 8\n",
      "\n",
      "\tCalculation of k = 9\n",
      "\n",
      "\tCalculation of k = 10\n",
      "\n",
      "\n",
      "\n",
      "Data loaded.\n",
      "Number of rows: 65\n",
      "Number of columns: 97\n",
      "\n",
      "\n",
      "\n",
      "Processing all metrics, 'merge', in dataframe (96)\n",
      "\n",
      "\tCalculation of k = 3\n",
      "\n",
      "\tCalculation of k = 4\n",
      "\n",
      "\tCalculation of k = 5\n",
      "\n",
      "\tCalculation of k = 6\n",
      "\n",
      "\tCalculation of k = 7\n",
      "\n",
      "\tCalculation of k = 8\n",
      "\n",
      "\tCalculation of k = 9\n",
      "\n",
      "\tCalculation of k = 10\n",
      "\n",
      "Processing metric: all_metrics\n",
      "\n",
      "\n",
      "\tMaximum stability and quality values matches the same K value: '3'\n",
      "\n",
      "\n",
      "New optimal k with ATSC: 3\n",
      "\n"
     ]
    }
   ],
   "source": [
    "r_atsc = evaluomeR::ATSC(data=dataset, k.range=k.range, cbi=cbi, alpha=alpha, \n",
    "                         max_alpha=max_alpha, gold_standard=gold_standard_vector, seed=seed)"
   ]
  },
  {
   "cell_type": "code",
   "execution_count": 7,
   "id": "f9076b37-b31d-45a7-94e4-9287262f0d02",
   "metadata": {},
   "outputs": [
    {
     "name": "stdout",
     "output_type": "stream",
     "text": [
      "[1] \"Optimal k before: 3\"\n",
      "[1] \"Optimal k after: 3\"\n",
      "[1] \"Gold standard vector trimmed, current values are:\"\n",
      " [1] 1 2 2 1 1 2 1 1 2 2 2 1 1 2 1 1 1 1 1 1 1 1 2 1 1 1 1 3 3 3 3 3 3 3 3 3 3 3\n",
      "[39] 1 1 1 1 1 1 1 1 1 1 1 1 1 1 1 1 2 1 1 1 3 3 3 3 3 3 3 3 3 3 3 3 3 3\n",
      "[1] \"After:\"\n",
      " [1] 1 2 2 1 1 2 1 1 2 2 2 1 1 2 1 1 1 1 1 1 1 2 1 1 1 3 3 3 3 3 3 3 1 1 1 1 1 1\n",
      "[39] 1 1 1 1 1 1 1 1 1 1 2 1 1 1 3 3 3 3 3 3 3 3 3 3 3 3 3\n"
     ]
    }
   ],
   "source": [
    "print(paste0(\"Optimal k before: \", r_atsc$optimalK))\n",
    "print(paste0(\"Optimal k after: \", r_atsc$optimalK_ATSC))\n",
    "if (!is.null(r_atsc$gold_standard_trimmed)) {\n",
    "    print(paste0(\"Gold standard vector trimmed, current values are:\"))\n",
    "    print(gold_standard_vector)\n",
    "    print(\"After:\")\n",
    "    print(r_atsc$gold_standard_trimmed)\n",
    "    gold_standard_vector = r_atsc$gold_standard_trimmed\n",
    "}"
   ]
  },
  {
   "cell_type": "markdown",
   "id": "70b2f168",
   "metadata": {},
   "source": [
    "Automatic computation of $L_1$ bound and $alpha$ accordingot the optimal $k$. The optimal $k$ is retrieved from the `kmeans` analysis in the notebook [golub.ipynb](https://github.com/neobernad/evaluomeR/blob/master/notebooks/use_cases/golub.ipynb). "
   ]
  },
  {
   "cell_type": "markdown",
   "id": "6ab90a46",
   "metadata": {},
   "source": [
    "## Stability plotting <a class=\"anchor\" id=\"evaluomeR_stab_plot\"></a>\n",
    "\n",
    "Stability plot"
   ]
  },
  {
   "cell_type": "code",
   "execution_count": 26,
   "id": "948b87f7",
   "metadata": {},
   "outputs": [],
   "source": [
    "stab = r_atsc$stab\n",
    "rownames(stab) = c(paste0(\"stab_\", cbi))\n",
    "stab$Metric = rownames(stab)\n",
    "stab$Method = \"without ATSC\"\n",
    "stab_melt = melt(stab, id.vars = c(\"Metric\", \"Method\"))\n",
    "\n",
    "stab_ATSC = r_atsc$stab_ATSC\n",
    "rownames(stab_ATSC) = c(paste0(\"stab_\", \"ATSC\"))\n",
    "stab_ATSC$Metric = rownames(stab_ATSC)\n",
    "stab_ATSC$Method = \"with ATSC\"\n",
    "stab_ATSC_melt = melt(stab_ATSC, id.vars = c(\"Metric\", \"Method\"))"
   ]
  },
  {
   "cell_type": "code",
   "execution_count": 27,
   "id": "399f8f27-faf8-4866-b9a1-5e79af597eb5",
   "metadata": {},
   "outputs": [
    {
     "data": {
      "text/html": [
       "<table class=\"dataframe\">\n",
       "<caption>A data.frame: 1 × 10</caption>\n",
       "<thead>\n",
       "\t<tr><th></th><th scope=col>k_3</th><th scope=col>k_4</th><th scope=col>k_5</th><th scope=col>k_6</th><th scope=col>k_7</th><th scope=col>k_8</th><th scope=col>k_9</th><th scope=col>k_10</th><th scope=col>Metric</th><th scope=col>Method</th></tr>\n",
       "\t<tr><th></th><th scope=col>&lt;dbl&gt;</th><th scope=col>&lt;dbl&gt;</th><th scope=col>&lt;dbl&gt;</th><th scope=col>&lt;dbl&gt;</th><th scope=col>&lt;dbl&gt;</th><th scope=col>&lt;dbl&gt;</th><th scope=col>&lt;dbl&gt;</th><th scope=col>&lt;dbl&gt;</th><th scope=col>&lt;chr&gt;</th><th scope=col>&lt;chr&gt;</th></tr>\n",
       "</thead>\n",
       "<tbody>\n",
       "\t<tr><th scope=row>stab_ATSC</th><td>0.9605769</td><td>0.8403846</td><td>0.8120192</td><td>0.7831731</td><td>0.7774038</td><td>0.7586538</td><td>0.7110577</td><td>0.6980769</td><td>stab_ATSC</td><td>with ATSC</td></tr>\n",
       "</tbody>\n",
       "</table>\n"
      ],
      "text/latex": [
       "A data.frame: 1 × 10\n",
       "\\begin{tabular}{r|llllllllll}\n",
       "  & k\\_3 & k\\_4 & k\\_5 & k\\_6 & k\\_7 & k\\_8 & k\\_9 & k\\_10 & Metric & Method\\\\\n",
       "  & <dbl> & <dbl> & <dbl> & <dbl> & <dbl> & <dbl> & <dbl> & <dbl> & <chr> & <chr>\\\\\n",
       "\\hline\n",
       "\tstab\\_ATSC & 0.9605769 & 0.8403846 & 0.8120192 & 0.7831731 & 0.7774038 & 0.7586538 & 0.7110577 & 0.6980769 & stab\\_ATSC & with ATSC\\\\\n",
       "\\end{tabular}\n"
      ],
      "text/markdown": [
       "\n",
       "A data.frame: 1 × 10\n",
       "\n",
       "| <!--/--> | k_3 &lt;dbl&gt; | k_4 &lt;dbl&gt; | k_5 &lt;dbl&gt; | k_6 &lt;dbl&gt; | k_7 &lt;dbl&gt; | k_8 &lt;dbl&gt; | k_9 &lt;dbl&gt; | k_10 &lt;dbl&gt; | Metric &lt;chr&gt; | Method &lt;chr&gt; |\n",
       "|---|---|---|---|---|---|---|---|---|---|---|\n",
       "| stab_ATSC | 0.9605769 | 0.8403846 | 0.8120192 | 0.7831731 | 0.7774038 | 0.7586538 | 0.7110577 | 0.6980769 | stab_ATSC | with ATSC |\n",
       "\n"
      ],
      "text/plain": [
       "          k_3       k_4       k_5       k_6       k_7       k_8       k_9      \n",
       "stab_ATSC 0.9605769 0.8403846 0.8120192 0.7831731 0.7774038 0.7586538 0.7110577\n",
       "          k_10      Metric    Method   \n",
       "stab_ATSC 0.6980769 stab_ATSC with ATSC"
      ]
     },
     "metadata": {},
     "output_type": "display_data"
    }
   ],
   "source": [
    "stab_ATSC"
   ]
  },
  {
   "cell_type": "code",
   "execution_count": 9,
   "id": "650ec629",
   "metadata": {},
   "outputs": [
    {
     "name": "stderr",
     "output_type": "stream",
     "text": [
      "Warning message:\n",
      "\"\u001b[1m\u001b[22mUsing `size` aesthetic for lines was deprecated in ggplot2 3.4.0.\n",
      "\u001b[36mℹ\u001b[39m Please use `linewidth` instead.\"\n"
     ]
    },
    {
     "data": {
      "image/png": "[encoded data removed]",
      "text/plain": [
       "plot without title"
      ]
     },
     "metadata": {
      "image/png": {
       "height": 720,
       "width": 720
      }
     },
     "output_type": "display_data"
    }
   ],
   "source": [
    "colors <- c(\"#4B4B4B\", \"#1E90FF\", \"black\", \"darkgray\", \"gray\", \"lightgray\", \"white\")\n",
    "\n",
    "p <- ggplot(stab_melt, aes(x = variable, y = value, color = Method, group = Method)) +\n",
    "    geom_point(size = 3) +\n",
    "     geom_line(size = 1.2) +\n",
    "  scale_color_manual(values = colors) +\n",
    "  labs(\n",
    "    title = paste0('GOLUB stability ',cbi,' - k = [', k.range[1], \",\", k.range[2], ']'),\n",
    "    x = 'k',\n",
    "    y = 'Stability'\n",
    "  ) +\n",
    "  scale_y_continuous(limits = c(0, 1)) +\n",
    "  theme_minimal() +\n",
    "  theme(\n",
    "    plot.title = element_text(hjust = 0.5, size = 20, face = \"bold\"),\n",
    "    legend.position = \"right\",\n",
    "    legend.title = element_text(size = 18),\n",
    "    legend.text = element_text(size = 16),\n",
    "    axis.title.x = element_text(size = 20),\n",
    "    axis.title.y = element_text(size = 20),\n",
    "    axis.text = element_text(size = 16)\n",
    "  )\n",
    "\n",
    "p + \n",
    "  annotate(\"rect\", xmin = -Inf, xmax = Inf, ymin = 0.85, ymax = 1, alpha = 0.3, fill = \"green\") +\n",
    "  annotate(\"rect\", xmin = -Inf, xmax = Inf, ymin = 0.75, ymax = 0.85, alpha = 0.2, fill = \"green\") +\n",
    "  annotate(\"rect\", xmin = -Inf, xmax = Inf, ymin = 0.6, ymax = 0.75, alpha = 0.1, fill = \"green\") +\n",
    "  annotate(\"rect\", xmin = -Inf, xmax = Inf, ymin = 0, ymax = 0.6, alpha = 0.1, fill = \"white\")"
   ]
  },
  {
   "cell_type": "code",
   "execution_count": 10,
   "id": "84ecf61e-68fa-40cc-a0ae-49c944239966",
   "metadata": {},
   "outputs": [
    {
     "data": {
      "image/png": "[encoded data removed]",
      "text/plain": [
       "plot without title"
      ]
     },
     "metadata": {
      "image/png": {
       "height": 720,
       "width": 720
      }
     },
     "output_type": "display_data"
    }
   ],
   "source": [
    "# Stab ATSC\n",
    "p <- ggplot(stab_ATSC_melt, aes(x = variable, y = value, color = Method, group = Method)) +\n",
    "    geom_point(size = 3) +\n",
    "     geom_line(size = 1.2) +\n",
    "  scale_color_manual(values = colors) +\n",
    "  labs(\n",
    "    title = paste0('GOLUB stability ATSC - k = [', k.range[1], \",\", k.range[2], ']'),\n",
    "    x = 'k',\n",
    "    y = 'Stability'\n",
    "  ) +\n",
    "  scale_y_continuous(limits = c(0, 1)) +\n",
    "  theme_minimal() +\n",
    "  theme(\n",
    "    plot.title = element_text(hjust = 0.5, size = 20, face = \"bold\"),\n",
    "    legend.position = \"right\",\n",
    "    legend.title = element_text(size = 18),\n",
    "    legend.text = element_text(size = 16),\n",
    "    axis.title.x = element_text(size = 20),\n",
    "    axis.title.y = element_text(size = 20),\n",
    "    axis.text = element_text(size = 16)\n",
    "  )\n",
    "\n",
    "p + \n",
    "  annotate(\"rect\", xmin = -Inf, xmax = Inf, ymin = 0.85, ymax = 1, alpha = 0.3, fill = \"green\") +\n",
    "  annotate(\"rect\", xmin = -Inf, xmax = Inf, ymin = 0.75, ymax = 0.85, alpha = 0.2, fill = \"green\") +\n",
    "  annotate(\"rect\", xmin = -Inf, xmax = Inf, ymin = 0.6, ymax = 0.75, alpha = 0.1, fill = \"green\") +\n",
    "  annotate(\"rect\", xmin = -Inf, xmax = Inf, ymin = 0, ymax = 0.6, alpha = 0.1, fill = \"white\")"
   ]
  },
  {
   "cell_type": "code",
   "execution_count": 33,
   "id": "28f5c4b5-307d-4a8f-893b-72fb463b3ee4",
   "metadata": {},
   "outputs": [
    {
     "data": {
      "image/png": "[encoded data removed]",
      "text/plain": [
       "plot without title"
      ]
     },
     "metadata": {
      "image/png": {
       "height": 720,
       "width": 720
      }
     },
     "output_type": "display_data"
    }
   ],
   "source": [
    "all_stab = rbind(stab_ATSC_melt, stab_melt)\n",
    "p <- ggplot(all_stab, aes(x = variable, y = value, color = Method, group = Method)) +\n",
    "    geom_point(size = 3) +\n",
    "     geom_line(size = 1.2) +\n",
    "  scale_color_manual(values = colors) +\n",
    "  labs(\n",
    "    title = expression(bold(\"GOLUB - Automatic Trimmed & Sparse Clustering\")),\n",
    "    subtitle = \"Stability analysis across k in [3,10]\",\n",
    "    x = 'k',\n",
    "    y = 'Stability'\n",
    "  ) +\n",
    "  scale_y_continuous(limits = c(0, 1)) +\n",
    "  scale_x_discrete(labels = function(x) sub(\"k_\", \"\", x)) +\n",
    "  theme_minimal() +\n",
    "  theme(\n",
    "    plot.title = element_text(hjust = 0.5, size = 20, face = \"bold\"),\n",
    "    plot.subtitle = element_text(hjust = 0.5, size = 20, face = \"italic\", color = \"gray40\"),\n",
    "    legend.position = \"right\",\n",
    "    legend.title = element_text(size = 18),\n",
    "    legend.text = element_text(size = 16),\n",
    "    axis.title.x = element_text(size = 20),\n",
    "    axis.title.y = element_text(size = 20),\n",
    "    axis.text = element_text(size = 16)\n",
    "  )\n",
    "\n",
    "p + \n",
    "  annotate(\"rect\", xmin = -Inf, xmax = Inf, ymin = 0.85, ymax = 1, alpha = 0.3, fill = \"green\") +\n",
    "  annotate(\"rect\", xmin = -Inf, xmax = Inf, ymin = 0.75, ymax = 0.85, alpha = 0.2, fill = \"green\") +\n",
    "  annotate(\"rect\", xmin = -Inf, xmax = Inf, ymin = 0.6, ymax = 0.75, alpha = 0.1, fill = \"green\") +\n",
    "  annotate(\"rect\", xmin = -Inf, xmax = Inf, ymin = 0, ymax = 0.6, alpha = 0.1, fill = \"white\")"
   ]
  },
  {
   "cell_type": "markdown",
   "id": "b5cada82",
   "metadata": {},
   "source": [
    "Quality calculation with $k \\in [3,10]$ and `RSKC`."
   ]
  },
  {
   "cell_type": "markdown",
   "id": "11c054b1",
   "metadata": {},
   "source": [
    "## Quality plotting <a class=\"anchor\" id=\"evaluomeR_qual_plot\"></a>\n",
    "\n",
    "Quality plot"
   ]
  },
  {
   "cell_type": "code",
   "execution_count": 48,
   "id": "7881c7ac",
   "metadata": {},
   "outputs": [],
   "source": [
    "qual = r_atsc$qual\n",
    "rownames(qual) = c(paste0(\"qual_\", cbi))\n",
    "qual$Metric = rownames(qual)\n",
    "qual$Method = \"without ATSC\"\n",
    "qual_melt = melt(qual, id.vars = c(\"Metric\", \"Method\"))\n",
    "\n",
    "qual_ATSC = r_atsc$qual_ATSC\n",
    "rownames(qual_ATSC) = c(paste0(\"qual_\", \"ATSC\"))\n",
    "qual_ATSC$Metric = rownames(qual_ATSC)\n",
    "qual_ATSC$Method = \"with ATSC\"\n",
    "qual_ATSC_melt = melt(qual_ATSC, id.vars = c(\"Metric\", \"Method\"))"
   ]
  },
  {
   "cell_type": "code",
   "execution_count": 49,
   "id": "b442246b",
   "metadata": {},
   "outputs": [
    {
     "data": {
      "image/png": "[encoded data removed]",
      "text/plain": [
       "plot without title"
      ]
     },
     "metadata": {
      "image/png": {
       "height": 720,
       "width": 720
      }
     },
     "output_type": "display_data"
    }
   ],
   "source": [
    "p <- ggplot(qual_melt, aes(x = variable, y = value, color = Method, group = Method)) +\n",
    "     geom_point(size = 3) +\n",
    "     geom_line(size = 1.2) +\n",
    "  scale_color_manual(values = colors) +\n",
    "  labs(\n",
    "    title = paste0('GOLUB quality -  k in [', k.range[1], \",\", k.range[2], ']'),\n",
    "    x = 'k',\n",
    "    y = 'Quality'\n",
    "  ) +\n",
    "  scale_y_continuous(limits = c(-1, 1)) +\n",
    "  theme_minimal() +\n",
    "  theme(\n",
    "    plot.title = element_text(hjust = 0.5, size = 20, face = \"bold\"),\n",
    "    legend.position = \"right\",\n",
    "    legend.title = element_text(size = 18),\n",
    "    legend.text = element_text(size = 16),\n",
    "    axis.title.x = element_text(size = 20),\n",
    "    axis.title.y = element_text(size = 20),\n",
    "    axis.text = element_text(size = 16)\n",
    "  )\n",
    "\n",
    "p + \n",
    "  annotate(\"rect\", xmin = -Inf, xmax = Inf, ymin = 0.7, ymax = 1, alpha = 0.3, fill = \"green\") +\n",
    "  annotate(\"rect\", xmin = -Inf, xmax = Inf, ymin = 0.5, ymax = 0.7, alpha = 0.2, fill = \"green\") +\n",
    "  annotate(\"rect\", xmin = -Inf, xmax = Inf, ymin = 0.25, ymax = 0.5, alpha = 0.1, fill = \"green\") +\n",
    "  annotate(\"rect\", xmin = -Inf, xmax = Inf, ymin = -1, ymax = 0.25, alpha = 0.1, fill = \"white\")"
   ]
  },
  {
   "cell_type": "code",
   "execution_count": 50,
   "id": "ff1ff2ce-6a96-481f-ba66-07ce95b8b66b",
   "metadata": {},
   "outputs": [
    {
     "data": {
      "image/png": "[encoded data removed]",
      "text/plain": [
       "plot without title"
      ]
     },
     "metadata": {
      "image/png": {
       "height": 720,
       "width": 720
      }
     },
     "output_type": "display_data"
    }
   ],
   "source": [
    "p <- ggplot(qual_ATSC_melt, aes(x = variable, y = value, color = Method, group = Method)) +\n",
    "     geom_point(size = 3) +\n",
    "     geom_line(size = 1.2) +\n",
    "  scale_color_manual(values = colors) +\n",
    "  labs(\n",
    "    title = paste0('GOLUB quality -  k in [', k.range[1], \",\", k.range[2], ']'),\n",
    "    x = 'k',\n",
    "    y = 'Quality'\n",
    "  ) +\n",
    "  scale_y_continuous(limits = c(-1, 1)) +\n",
    "  theme_minimal() +\n",
    "  theme(\n",
    "    plot.title = element_text(hjust = 0.5, size = 20, face = \"bold\"),\n",
    "    legend.position = \"right\",\n",
    "    legend.title = element_text(size = 18),\n",
    "    legend.text = element_text(size = 16),\n",
    "    axis.title.x = element_text(size = 20),\n",
    "    axis.title.y = element_text(size = 20),\n",
    "    axis.text = element_text(size = 16)\n",
    "  )\n",
    "\n",
    "p + \n",
    "  annotate(\"rect\", xmin = -Inf, xmax = Inf, ymin = 0.7, ymax = 1, alpha = 0.3, fill = \"green\") +\n",
    "  annotate(\"rect\", xmin = -Inf, xmax = Inf, ymin = 0.5, ymax = 0.7, alpha = 0.2, fill = \"green\") +\n",
    "  annotate(\"rect\", xmin = -Inf, xmax = Inf, ymin = 0.25, ymax = 0.5, alpha = 0.1, fill = \"green\") +\n",
    "  annotate(\"rect\", xmin = -Inf, xmax = Inf, ymin = -1, ymax = 0.25, alpha = 0.1, fill = \"white\")"
   ]
  },
  {
   "cell_type": "code",
   "execution_count": 51,
   "id": "41967c3a-0862-4c3d-a0c9-44e6421515d0",
   "metadata": {},
   "outputs": [
    {
     "data": {
      "image/png": "[encoded data removed]",
      "text/plain": [
       "plot without title"
      ]
     },
     "metadata": {
      "image/png": {
       "height": 720,
       "width": 720
      }
     },
     "output_type": "display_data"
    }
   ],
   "source": [
    "all_qual = rbind(qual_ATSC_melt, qual_melt)\n",
    "p <- ggplot(all_qual, aes(x = variable, y = value, color = Method, group = Method)) +\n",
    "     geom_point(size = 3) +\n",
    "     geom_line(size = 1.2) +\n",
    "  scale_color_manual(values = colors) +\n",
    "  labs(\n",
    "    title = expression(bold(\"GOLUB - Automatic Trimmed & Sparse Clustering\")),\n",
    "    subtitle = \"Quality analysis across k in [3,10]\",\n",
    "    x = 'k',\n",
    "    y = 'Quality'\n",
    "  ) +\n",
    "  scale_y_continuous(limits = c(-1, 1)) +\n",
    "  scale_x_discrete(labels = function(x) sub(\"k_\", \"\", x)) +\n",
    "  theme_minimal() +\n",
    "  theme(\n",
    "    plot.title = element_text(hjust = 0.5, size = 20, face = \"bold\"),\n",
    "    plot.subtitle = element_text(hjust = 0.5, size = 20, face = \"italic\", color = \"gray40\"),\n",
    "    legend.position = \"right\",\n",
    "    legend.title = element_text(size = 18),\n",
    "    legend.text = element_text(size = 16),\n",
    "    axis.title.x = element_text(size = 20),\n",
    "    axis.title.y = element_text(size = 20),\n",
    "    axis.text = element_text(size = 16)\n",
    "  )\n",
    "\n",
    "p + \n",
    "  annotate(\"rect\", xmin = -Inf, xmax = Inf, ymin = 0.7, ymax = 1, alpha = 0.3, fill = \"green\") +\n",
    "  annotate(\"rect\", xmin = -Inf, xmax = Inf, ymin = 0.5, ymax = 0.7, alpha = 0.2, fill = \"green\") +\n",
    "  annotate(\"rect\", xmin = -Inf, xmax = Inf, ymin = 0.25, ymax = 0.5, alpha = 0.1, fill = \"green\") +\n",
    "  annotate(\"rect\", xmin = -Inf, xmax = Inf, ymin = -1, ymax = 0.25, alpha = 0.1, fill = \"white\")"
   ]
  },
  {
   "cell_type": "markdown",
   "id": "3d3cef07",
   "metadata": {},
   "source": [
    "Determining the optimal $k$ given the stabilities and qualities in `stab_range` and `qual_range` objects:"
   ]
  },
  {
   "cell_type": "code",
   "execution_count": 35,
   "id": "ec99c5e5",
   "metadata": {},
   "outputs": [
    {
     "name": "stdout",
     "output_type": "stream",
     "text": [
      "[1] \"Stabilities and qualities per k with 'clara' as clustering method\"\n"
     ]
    },
    {
     "data": {
      "text/html": [
       "<table class=\"dataframe\">\n",
       "<caption>A data.frame: 1 × 10</caption>\n",
       "<thead>\n",
       "\t<tr><th></th><th scope=col>k_3</th><th scope=col>k_4</th><th scope=col>k_5</th><th scope=col>k_6</th><th scope=col>k_7</th><th scope=col>k_8</th><th scope=col>k_9</th><th scope=col>k_10</th><th scope=col>Metric</th><th scope=col>Method</th></tr>\n",
       "\t<tr><th></th><th scope=col>&lt;dbl&gt;</th><th scope=col>&lt;dbl&gt;</th><th scope=col>&lt;dbl&gt;</th><th scope=col>&lt;dbl&gt;</th><th scope=col>&lt;dbl&gt;</th><th scope=col>&lt;dbl&gt;</th><th scope=col>&lt;dbl&gt;</th><th scope=col>&lt;dbl&gt;</th><th scope=col>&lt;chr&gt;</th><th scope=col>&lt;chr&gt;</th></tr>\n",
       "</thead>\n",
       "<tbody>\n",
       "\t<tr><th scope=row>stab_clara</th><td>0.9624413</td><td>0.8376369</td><td>0.7938185</td><td>0.7374804</td><td>0.728482</td><td>0.7120501</td><td>0.7050078</td><td>0.7030516</td><td>stab_clara</td><td>without ATSC</td></tr>\n",
       "</tbody>\n",
       "</table>\n"
      ],
      "text/latex": [
       "A data.frame: 1 × 10\n",
       "\\begin{tabular}{r|llllllllll}\n",
       "  & k\\_3 & k\\_4 & k\\_5 & k\\_6 & k\\_7 & k\\_8 & k\\_9 & k\\_10 & Metric & Method\\\\\n",
       "  & <dbl> & <dbl> & <dbl> & <dbl> & <dbl> & <dbl> & <dbl> & <dbl> & <chr> & <chr>\\\\\n",
       "\\hline\n",
       "\tstab\\_clara & 0.9624413 & 0.8376369 & 0.7938185 & 0.7374804 & 0.728482 & 0.7120501 & 0.7050078 & 0.7030516 & stab\\_clara & without ATSC\\\\\n",
       "\\end{tabular}\n"
      ],
      "text/markdown": [
       "\n",
       "A data.frame: 1 × 10\n",
       "\n",
       "| <!--/--> | k_3 &lt;dbl&gt; | k_4 &lt;dbl&gt; | k_5 &lt;dbl&gt; | k_6 &lt;dbl&gt; | k_7 &lt;dbl&gt; | k_8 &lt;dbl&gt; | k_9 &lt;dbl&gt; | k_10 &lt;dbl&gt; | Metric &lt;chr&gt; | Method &lt;chr&gt; |\n",
       "|---|---|---|---|---|---|---|---|---|---|---|\n",
       "| stab_clara | 0.9624413 | 0.8376369 | 0.7938185 | 0.7374804 | 0.728482 | 0.7120501 | 0.7050078 | 0.7030516 | stab_clara | without ATSC |\n",
       "\n"
      ],
      "text/plain": [
       "           k_3       k_4       k_5       k_6       k_7      k_8       k_9      \n",
       "stab_clara 0.9624413 0.8376369 0.7938185 0.7374804 0.728482 0.7120501 0.7050078\n",
       "           k_10      Metric     Method      \n",
       "stab_clara 0.7030516 stab_clara without ATSC"
      ]
     },
     "metadata": {},
     "output_type": "display_data"
    },
    {
     "data": {
      "text/html": [
       "<table class=\"dataframe\">\n",
       "<caption>A data.frame: 1 × 10</caption>\n",
       "<thead>\n",
       "\t<tr><th></th><th scope=col>k_3</th><th scope=col>k_4</th><th scope=col>k_5</th><th scope=col>k_6</th><th scope=col>k_7</th><th scope=col>k_8</th><th scope=col>k_9</th><th scope=col>k_10</th><th scope=col>Metric</th><th scope=col>Method</th></tr>\n",
       "\t<tr><th></th><th scope=col>&lt;dbl&gt;</th><th scope=col>&lt;dbl&gt;</th><th scope=col>&lt;dbl&gt;</th><th scope=col>&lt;dbl&gt;</th><th scope=col>&lt;dbl&gt;</th><th scope=col>&lt;dbl&gt;</th><th scope=col>&lt;dbl&gt;</th><th scope=col>&lt;dbl&gt;</th><th scope=col>&lt;chr&gt;</th><th scope=col>&lt;chr&gt;</th></tr>\n",
       "</thead>\n",
       "<tbody>\n",
       "\t<tr><th scope=row>qual_clara</th><td>0.2320141</td><td>0.1299018</td><td>0.09750963</td><td>0.08118129</td><td>0.07984548</td><td>0.1031934</td><td>0.09457494</td><td>0.09856581</td><td>qual_clara</td><td>clara</td></tr>\n",
       "</tbody>\n",
       "</table>\n"
      ],
      "text/latex": [
       "A data.frame: 1 × 10\n",
       "\\begin{tabular}{r|llllllllll}\n",
       "  & k\\_3 & k\\_4 & k\\_5 & k\\_6 & k\\_7 & k\\_8 & k\\_9 & k\\_10 & Metric & Method\\\\\n",
       "  & <dbl> & <dbl> & <dbl> & <dbl> & <dbl> & <dbl> & <dbl> & <dbl> & <chr> & <chr>\\\\\n",
       "\\hline\n",
       "\tqual\\_clara & 0.2320141 & 0.1299018 & 0.09750963 & 0.08118129 & 0.07984548 & 0.1031934 & 0.09457494 & 0.09856581 & qual\\_clara & clara\\\\\n",
       "\\end{tabular}\n"
      ],
      "text/markdown": [
       "\n",
       "A data.frame: 1 × 10\n",
       "\n",
       "| <!--/--> | k_3 &lt;dbl&gt; | k_4 &lt;dbl&gt; | k_5 &lt;dbl&gt; | k_6 &lt;dbl&gt; | k_7 &lt;dbl&gt; | k_8 &lt;dbl&gt; | k_9 &lt;dbl&gt; | k_10 &lt;dbl&gt; | Metric &lt;chr&gt; | Method &lt;chr&gt; |\n",
       "|---|---|---|---|---|---|---|---|---|---|---|\n",
       "| qual_clara | 0.2320141 | 0.1299018 | 0.09750963 | 0.08118129 | 0.07984548 | 0.1031934 | 0.09457494 | 0.09856581 | qual_clara | clara |\n",
       "\n"
      ],
      "text/plain": [
       "           k_3       k_4       k_5        k_6        k_7        k_8      \n",
       "qual_clara 0.2320141 0.1299018 0.09750963 0.08118129 0.07984548 0.1031934\n",
       "           k_9        k_10       Metric     Method\n",
       "qual_clara 0.09457494 0.09856581 qual_clara clara "
      ]
     },
     "metadata": {},
     "output_type": "display_data"
    },
    {
     "name": "stdout",
     "output_type": "stream",
     "text": [
      "[1] \"Stabily in k=3: 0.962441314553991\"\n",
      "[1] \"Quality in k=: 0.23201412622582\"\n"
     ]
    }
   ],
   "source": [
    "print(paste0(\"Stabilities and qualities per k with '\", cbi, \"' as clustering method\"))\n",
    "stab\n",
    "qual\n",
    "print(paste0(\"Stabily in k=\", r_atsc$optimalK,\": \", stab[paste0(\"k_\",r_atsc$optimalK)]))\n",
    "print(paste0(\"Quality in k=\", r_atsc$optimalk,\": \", qual[paste0(\"k_\",r_atsc$optimalK)]))"
   ]
  },
  {
   "cell_type": "code",
   "execution_count": 36,
   "id": "4e51e9b3-9085-4a0b-a5d0-fb842f1f0a62",
   "metadata": {},
   "outputs": [
    {
     "name": "stdout",
     "output_type": "stream",
     "text": [
      "[1] \"Stabilities and qualities per k with 'ATSC' as clustering method\"\n"
     ]
    },
    {
     "data": {
      "text/html": [
       "<table class=\"dataframe\">\n",
       "<caption>A data.frame: 1 × 10</caption>\n",
       "<thead>\n",
       "\t<tr><th></th><th scope=col>k_3</th><th scope=col>k_4</th><th scope=col>k_5</th><th scope=col>k_6</th><th scope=col>k_7</th><th scope=col>k_8</th><th scope=col>k_9</th><th scope=col>k_10</th><th scope=col>Metric</th><th scope=col>Method</th></tr>\n",
       "\t<tr><th></th><th scope=col>&lt;dbl&gt;</th><th scope=col>&lt;dbl&gt;</th><th scope=col>&lt;dbl&gt;</th><th scope=col>&lt;dbl&gt;</th><th scope=col>&lt;dbl&gt;</th><th scope=col>&lt;dbl&gt;</th><th scope=col>&lt;dbl&gt;</th><th scope=col>&lt;dbl&gt;</th><th scope=col>&lt;chr&gt;</th><th scope=col>&lt;chr&gt;</th></tr>\n",
       "</thead>\n",
       "<tbody>\n",
       "\t<tr><th scope=row>stab_ATSC</th><td>0.9605769</td><td>0.8403846</td><td>0.8120192</td><td>0.7831731</td><td>0.7774038</td><td>0.7586538</td><td>0.7110577</td><td>0.6980769</td><td>stab_ATSC</td><td>with ATSC</td></tr>\n",
       "</tbody>\n",
       "</table>\n"
      ],
      "text/latex": [
       "A data.frame: 1 × 10\n",
       "\\begin{tabular}{r|llllllllll}\n",
       "  & k\\_3 & k\\_4 & k\\_5 & k\\_6 & k\\_7 & k\\_8 & k\\_9 & k\\_10 & Metric & Method\\\\\n",
       "  & <dbl> & <dbl> & <dbl> & <dbl> & <dbl> & <dbl> & <dbl> & <dbl> & <chr> & <chr>\\\\\n",
       "\\hline\n",
       "\tstab\\_ATSC & 0.9605769 & 0.8403846 & 0.8120192 & 0.7831731 & 0.7774038 & 0.7586538 & 0.7110577 & 0.6980769 & stab\\_ATSC & with ATSC\\\\\n",
       "\\end{tabular}\n"
      ],
      "text/markdown": [
       "\n",
       "A data.frame: 1 × 10\n",
       "\n",
       "| <!--/--> | k_3 &lt;dbl&gt; | k_4 &lt;dbl&gt; | k_5 &lt;dbl&gt; | k_6 &lt;dbl&gt; | k_7 &lt;dbl&gt; | k_8 &lt;dbl&gt; | k_9 &lt;dbl&gt; | k_10 &lt;dbl&gt; | Metric &lt;chr&gt; | Method &lt;chr&gt; |\n",
       "|---|---|---|---|---|---|---|---|---|---|---|\n",
       "| stab_ATSC | 0.9605769 | 0.8403846 | 0.8120192 | 0.7831731 | 0.7774038 | 0.7586538 | 0.7110577 | 0.6980769 | stab_ATSC | with ATSC |\n",
       "\n"
      ],
      "text/plain": [
       "          k_3       k_4       k_5       k_6       k_7       k_8       k_9      \n",
       "stab_ATSC 0.9605769 0.8403846 0.8120192 0.7831731 0.7774038 0.7586538 0.7110577\n",
       "          k_10      Metric    Method   \n",
       "stab_ATSC 0.6980769 stab_ATSC with ATSC"
      ]
     },
     "metadata": {},
     "output_type": "display_data"
    },
    {
     "data": {
      "text/html": [
       "<table class=\"dataframe\">\n",
       "<caption>A data.frame: 1 × 10</caption>\n",
       "<thead>\n",
       "\t<tr><th></th><th scope=col>k_3</th><th scope=col>k_4</th><th scope=col>k_5</th><th scope=col>k_6</th><th scope=col>k_7</th><th scope=col>k_8</th><th scope=col>k_9</th><th scope=col>k_10</th><th scope=col>Metric</th><th scope=col>Method</th></tr>\n",
       "\t<tr><th></th><th scope=col>&lt;dbl&gt;</th><th scope=col>&lt;dbl&gt;</th><th scope=col>&lt;dbl&gt;</th><th scope=col>&lt;dbl&gt;</th><th scope=col>&lt;dbl&gt;</th><th scope=col>&lt;dbl&gt;</th><th scope=col>&lt;dbl&gt;</th><th scope=col>&lt;dbl&gt;</th><th scope=col>&lt;chr&gt;</th><th scope=col>&lt;chr&gt;</th></tr>\n",
       "</thead>\n",
       "<tbody>\n",
       "\t<tr><th scope=row>qual_ATSC</th><td>0.2703322</td><td>0.154642</td><td>0.112125</td><td>0.1083377</td><td>0.1136682</td><td>0.1098556</td><td>0.1242393</td><td>0.1179146</td><td>qual_ATSC</td><td>ATSC</td></tr>\n",
       "</tbody>\n",
       "</table>\n"
      ],
      "text/latex": [
       "A data.frame: 1 × 10\n",
       "\\begin{tabular}{r|llllllllll}\n",
       "  & k\\_3 & k\\_4 & k\\_5 & k\\_6 & k\\_7 & k\\_8 & k\\_9 & k\\_10 & Metric & Method\\\\\n",
       "  & <dbl> & <dbl> & <dbl> & <dbl> & <dbl> & <dbl> & <dbl> & <dbl> & <chr> & <chr>\\\\\n",
       "\\hline\n",
       "\tqual\\_ATSC & 0.2703322 & 0.154642 & 0.112125 & 0.1083377 & 0.1136682 & 0.1098556 & 0.1242393 & 0.1179146 & qual\\_ATSC & ATSC\\\\\n",
       "\\end{tabular}\n"
      ],
      "text/markdown": [
       "\n",
       "A data.frame: 1 × 10\n",
       "\n",
       "| <!--/--> | k_3 &lt;dbl&gt; | k_4 &lt;dbl&gt; | k_5 &lt;dbl&gt; | k_6 &lt;dbl&gt; | k_7 &lt;dbl&gt; | k_8 &lt;dbl&gt; | k_9 &lt;dbl&gt; | k_10 &lt;dbl&gt; | Metric &lt;chr&gt; | Method &lt;chr&gt; |\n",
       "|---|---|---|---|---|---|---|---|---|---|---|\n",
       "| qual_ATSC | 0.2703322 | 0.154642 | 0.112125 | 0.1083377 | 0.1136682 | 0.1098556 | 0.1242393 | 0.1179146 | qual_ATSC | ATSC |\n",
       "\n"
      ],
      "text/plain": [
       "          k_3       k_4      k_5      k_6       k_7       k_8       k_9      \n",
       "qual_ATSC 0.2703322 0.154642 0.112125 0.1083377 0.1136682 0.1098556 0.1242393\n",
       "          k_10      Metric    Method\n",
       "qual_ATSC 0.1179146 qual_ATSC ATSC  "
      ]
     },
     "metadata": {},
     "output_type": "display_data"
    },
    {
     "name": "stdout",
     "output_type": "stream",
     "text": [
      "[1] \"Stabily in k=3: 0.960576923076923\"\n",
      "[1] \"Quality in k=: 0.270332227510205\"\n"
     ]
    }
   ],
   "source": [
    "print(paste0(\"Stabilities and qualities per k with 'ATSC' as clustering method\"))\n",
    "stab_ATSC\n",
    "qual_ATSC\n",
    "print(paste0(\"Stabily in k=\", r_atsc$optimalK_ATSC,\": \", stab_ATSC[paste0(\"k_\",r_atsc$optimalK_ATSC)]))\n",
    "print(paste0(\"Quality in k=\", r_atsc$optimalk_ATSC,\": \", qual_ATSC[paste0(\"k_\",r_atsc$optimalK_ATSC)]))"
   ]
  },
  {
   "cell_type": "markdown",
   "id": "e1dd0c73",
   "metadata": {},
   "source": [
    "# Clusters"
   ]
  },
  {
   "cell_type": "code",
   "execution_count": 37,
   "id": "afc1d7d4",
   "metadata": {},
   "outputs": [],
   "source": [
    "# Internal method used to group individuals per cluster\n",
    "individuals_per_cluster = function(qualityResult) {\n",
    "    \n",
    "  qual_df = as.data.frame(assay(qualityResult))\n",
    "    \n",
    "\n",
    "  cluster_pos_str = as.character(unlist(qual_df[\"Cluster_position\"]))\n",
    "  cluster_labels_str = as.character(unlist(qual_df[\"Cluster_labels\"]))\n",
    "\n",
    "  cluster_pos = as.list(strsplit(cluster_pos_str, \",\")[[1]])\n",
    "  cluster_labels = as.list(strsplit(cluster_labels_str, \",\")[[1]])\n",
    "\n",
    "  individuals_in_cluster = as.data.frame(cbind(cluster_labels, cluster_pos))\n",
    "  colnames(individuals_in_cluster) = c(\"Individual\", \"Cluster\")\n",
    "\n",
    "  return(individuals_in_cluster)\n",
    "}"
   ]
  },
  {
   "cell_type": "code",
   "execution_count": 38,
   "id": "fd0297d5",
   "metadata": {},
   "outputs": [
    {
     "name": "stderr",
     "output_type": "stream",
     "text": [
      "\n",
      "\n",
      "Data loaded.\n",
      "Number of rows: 65\n",
      "Number of columns: 97\n",
      "\n",
      "\n",
      "\n",
      "Processing all metrics, 'merge', in dataframe (96)\n",
      "\n",
      "\tCalculation of k = 3\n",
      "\n",
      "\tCalculation of k = 4\n",
      "\n",
      "\tCalculation of k = 5\n",
      "\n",
      "\tCalculation of k = 6\n",
      "\n",
      "\tCalculation of k = 7\n",
      "\n",
      "\tCalculation of k = 8\n",
      "\n",
      "\tCalculation of k = 9\n",
      "\n",
      "\tCalculation of k = 10\n",
      "\n"
     ]
    },
    {
     "name": "stdout",
     "output_type": "stream",
     "text": [
      "[1] \"CBI: clara - k: 3\"\n",
      "[1] \"Cluster 1 : B1,B2,B3,B4,B5,B6,B7,B8,B9,B11,B12,B13,B14,B15,B16,B18,B19,B20,B21,B22,B23,B24,B25,B26,B27,B28,B29,B30,B31,B32,B33,B34,B35,B36,B37,B38,AML22\"\n",
      "[1] \"\"\n",
      "[1] \"Cluster 2 : T1,T2,T3,T4,T5,T6,T7,T8\"\n",
      "[1] \"\"\n",
      "[1] \"Cluster 3 : AML1,AML3,AML4,AML7,AML8,AML9,AML11,T9,AML12,AML13,AML14,AML15,AML16,AML17,AML18,AML19,AML21,AML23,AML24,AML25\"\n",
      "[1] \"\"\n"
     ]
    }
   ],
   "source": [
    "dataset = r_atsc$trimmmedDataset\n",
    "qual_range = qualityRange(data=dataset, k.range=k.range, \n",
    "                            all_metrics=TRUE, seed=seed,\n",
    "                            cbi=cbi)\n",
    "optimal_k = r_atsc$optimalK_ATSC\n",
    "cluster_individuals = individuals_per_cluster(assay(qual_range[paste0(\"k_\",optimal_k)]))\n",
    "print(paste0(\"CBI: \", cbi, \" - k: \", optimal_k))\n",
    "for (cluster_i in 1:optimal_k) {\n",
    "    ind_in_cluster = paste(unlist(cluster_individuals[cluster_individuals$Cluster == cluster_i, ][\"Individual\"]), collapse = \",\")\n",
    "    print(paste(\"Cluster\", cluster_i, \":\", ind_in_cluster))\n",
    "    print(\"\")\n",
    "}"
   ]
  },
  {
   "cell_type": "markdown",
   "id": "884dc7ff",
   "metadata": {},
   "source": [
    "# PCA <a class=\"anchor\" id=\"pca\"></a>\n",
    "We employ Principal Component Analysis (PCA) as a dimensionality reduction technique to facilitate the visualization of clusters within our dataset. PCA allow us to transform the original high-dimensional data into a lower-dimensional space, while preserving as much of the variability as possible."
   ]
  },
  {
   "cell_type": "code",
   "execution_count": 39,
   "id": "e5482b73",
   "metadata": {},
   "outputs": [
    {
     "name": "stderr",
     "output_type": "stream",
     "text": [
      "Parameter 'npc' is null. Computing number of factors automatically:\n",
      "\n",
      "Number of factors, 'ncp' used is: 18\n",
      "\n"
     ]
    },
    {
     "data": {
      "text/html": [
       "<table class=\"dataframe\">\n",
       "<caption>A data.frame: 6 × 20</caption>\n",
       "<thead>\n",
       "\t<tr><th></th><th scope=col>Description</th><th scope=col>Dim.1</th><th scope=col>Dim.2</th><th scope=col>Dim.3</th><th scope=col>Dim.4</th><th scope=col>Dim.5</th><th scope=col>Dim.6</th><th scope=col>Dim.7</th><th scope=col>Dim.8</th><th scope=col>Dim.9</th><th scope=col>Dim.10</th><th scope=col>Dim.11</th><th scope=col>Dim.12</th><th scope=col>Dim.13</th><th scope=col>Dim.14</th><th scope=col>Dim.15</th><th scope=col>Dim.16</th><th scope=col>Dim.17</th><th scope=col>Dim.18</th><th scope=col>Cluster</th></tr>\n",
       "\t<tr><th></th><th scope=col>&lt;fct&gt;</th><th scope=col>&lt;dbl&gt;</th><th scope=col>&lt;dbl&gt;</th><th scope=col>&lt;dbl&gt;</th><th scope=col>&lt;dbl&gt;</th><th scope=col>&lt;dbl&gt;</th><th scope=col>&lt;dbl&gt;</th><th scope=col>&lt;dbl&gt;</th><th scope=col>&lt;dbl&gt;</th><th scope=col>&lt;dbl&gt;</th><th scope=col>&lt;dbl&gt;</th><th scope=col>&lt;dbl&gt;</th><th scope=col>&lt;dbl&gt;</th><th scope=col>&lt;dbl&gt;</th><th scope=col>&lt;dbl&gt;</th><th scope=col>&lt;dbl&gt;</th><th scope=col>&lt;dbl&gt;</th><th scope=col>&lt;dbl&gt;</th><th scope=col>&lt;dbl&gt;</th><th scope=col>&lt;fct&gt;</th></tr>\n",
       "</thead>\n",
       "<tbody>\n",
       "\t<tr><th scope=row>1</th><td>B1</td><td>-5.4377689</td><td>  0.9573456</td><td>-0.262557</td><td> 1.5954659</td><td>1.75318556</td><td>-4.4680406</td><td> 0.7844009</td><td> 1.683653</td><td> 1.07528388</td><td> 0.8357734</td><td>-0.74729535</td><td> 0.10612232</td><td> 1.85120900</td><td> 0.67959874</td><td> 0.4243538</td><td> 0.95376241</td><td> 2.8842148</td><td>-0.9746488</td><td>1</td></tr>\n",
       "\t<tr><th scope=row>2</th><td>T1</td><td> 2.8612105</td><td> -5.2810534</td><td> 5.679607</td><td> 3.3979949</td><td>1.67496327</td><td>-0.9154422</td><td> 1.4600439</td><td>-1.229403</td><td> 2.28014573</td><td>-0.6644495</td><td> 1.31703977</td><td> 0.04942413</td><td> 0.06954366</td><td> 0.72471141</td><td> 0.2329114</td><td>-1.46907481</td><td> 0.1194593</td><td>-2.1491955</td><td>2</td></tr>\n",
       "\t<tr><th scope=row>3</th><td>T2</td><td>-2.0011180</td><td>-11.3801812</td><td> 1.491330</td><td>-0.8813402</td><td>0.22273736</td><td> 1.1818440</td><td>-0.6468598</td><td> 2.186245</td><td> 0.04102304</td><td> 0.4264860</td><td>-0.03881684</td><td> 0.32987749</td><td>-0.42744838</td><td>-0.03289759</td><td>-0.9153398</td><td> 1.72665306</td><td>-0.9579595</td><td> 1.5185880</td><td>2</td></tr>\n",
       "\t<tr><th scope=row>4</th><td>B2</td><td>-4.8030923</td><td>  0.8465585</td><td>-4.343065</td><td>-1.9605626</td><td>2.64870917</td><td> 2.0736007</td><td> 1.6779892</td><td>-0.459361</td><td>-0.70565389</td><td>-1.3868816</td><td> 0.28088406</td><td>-0.94534672</td><td>-0.11817499</td><td> 1.09399072</td><td>-0.4434460</td><td> 0.74603992</td><td> 0.2071983</td><td> 0.1721435</td><td>1</td></tr>\n",
       "\t<tr><th scope=row>5</th><td>B3</td><td>-0.9315107</td><td>  1.5935097</td><td>-3.189957</td><td> 2.1234884</td><td>1.82307492</td><td> 2.0138997</td><td> 2.0673511</td><td> 1.501852</td><td>-1.22008940</td><td> 0.6026213</td><td>-0.04268666</td><td>-1.46636013</td><td>-1.05342804</td><td>-0.03697787</td><td> 1.1130522</td><td> 0.25658748</td><td> 0.8466788</td><td>-1.0410251</td><td>1</td></tr>\n",
       "\t<tr><th scope=row>6</th><td>T3</td><td>-0.7213580</td><td>-10.8121829</td><td> 1.258033</td><td>-0.3517227</td><td>0.08425905</td><td> 0.8085904</td><td>-0.1407362</td><td> 1.979803</td><td>-1.10502707</td><td>-0.5608123</td><td>-1.10378936</td><td> 1.41023352</td><td> 0.64501637</td><td>-1.08259213</td><td>-1.0089479</td><td>-0.07948896</td><td> 0.3234026</td><td> 0.4130838</td><td>2</td></tr>\n",
       "</tbody>\n",
       "</table>\n"
      ],
      "text/latex": [
       "A data.frame: 6 × 20\n",
       "\\begin{tabular}{r|llllllllllllllllllll}\n",
       "  & Description & Dim.1 & Dim.2 & Dim.3 & Dim.4 & Dim.5 & Dim.6 & Dim.7 & Dim.8 & Dim.9 & Dim.10 & Dim.11 & Dim.12 & Dim.13 & Dim.14 & Dim.15 & Dim.16 & Dim.17 & Dim.18 & Cluster\\\\\n",
       "  & <fct> & <dbl> & <dbl> & <dbl> & <dbl> & <dbl> & <dbl> & <dbl> & <dbl> & <dbl> & <dbl> & <dbl> & <dbl> & <dbl> & <dbl> & <dbl> & <dbl> & <dbl> & <dbl> & <fct>\\\\\n",
       "\\hline\n",
       "\t1 & B1 & -5.4377689 &   0.9573456 & -0.262557 &  1.5954659 & 1.75318556 & -4.4680406 &  0.7844009 &  1.683653 &  1.07528388 &  0.8357734 & -0.74729535 &  0.10612232 &  1.85120900 &  0.67959874 &  0.4243538 &  0.95376241 &  2.8842148 & -0.9746488 & 1\\\\\n",
       "\t2 & T1 &  2.8612105 &  -5.2810534 &  5.679607 &  3.3979949 & 1.67496327 & -0.9154422 &  1.4600439 & -1.229403 &  2.28014573 & -0.6644495 &  1.31703977 &  0.04942413 &  0.06954366 &  0.72471141 &  0.2329114 & -1.46907481 &  0.1194593 & -2.1491955 & 2\\\\\n",
       "\t3 & T2 & -2.0011180 & -11.3801812 &  1.491330 & -0.8813402 & 0.22273736 &  1.1818440 & -0.6468598 &  2.186245 &  0.04102304 &  0.4264860 & -0.03881684 &  0.32987749 & -0.42744838 & -0.03289759 & -0.9153398 &  1.72665306 & -0.9579595 &  1.5185880 & 2\\\\\n",
       "\t4 & B2 & -4.8030923 &   0.8465585 & -4.343065 & -1.9605626 & 2.64870917 &  2.0736007 &  1.6779892 & -0.459361 & -0.70565389 & -1.3868816 &  0.28088406 & -0.94534672 & -0.11817499 &  1.09399072 & -0.4434460 &  0.74603992 &  0.2071983 &  0.1721435 & 1\\\\\n",
       "\t5 & B3 & -0.9315107 &   1.5935097 & -3.189957 &  2.1234884 & 1.82307492 &  2.0138997 &  2.0673511 &  1.501852 & -1.22008940 &  0.6026213 & -0.04268666 & -1.46636013 & -1.05342804 & -0.03697787 &  1.1130522 &  0.25658748 &  0.8466788 & -1.0410251 & 1\\\\\n",
       "\t6 & T3 & -0.7213580 & -10.8121829 &  1.258033 & -0.3517227 & 0.08425905 &  0.8085904 & -0.1407362 &  1.979803 & -1.10502707 & -0.5608123 & -1.10378936 &  1.41023352 &  0.64501637 & -1.08259213 & -1.0089479 & -0.07948896 &  0.3234026 &  0.4130838 & 2\\\\\n",
       "\\end{tabular}\n"
      ],
      "text/markdown": [
       "\n",
       "A data.frame: 6 × 20\n",
       "\n",
       "| <!--/--> | Description &lt;fct&gt; | Dim.1 &lt;dbl&gt; | Dim.2 &lt;dbl&gt; | Dim.3 &lt;dbl&gt; | Dim.4 &lt;dbl&gt; | Dim.5 &lt;dbl&gt; | Dim.6 &lt;dbl&gt; | Dim.7 &lt;dbl&gt; | Dim.8 &lt;dbl&gt; | Dim.9 &lt;dbl&gt; | Dim.10 &lt;dbl&gt; | Dim.11 &lt;dbl&gt; | Dim.12 &lt;dbl&gt; | Dim.13 &lt;dbl&gt; | Dim.14 &lt;dbl&gt; | Dim.15 &lt;dbl&gt; | Dim.16 &lt;dbl&gt; | Dim.17 &lt;dbl&gt; | Dim.18 &lt;dbl&gt; | Cluster &lt;fct&gt; |\n",
       "|---|---|---|---|---|---|---|---|---|---|---|---|---|---|---|---|---|---|---|---|---|\n",
       "| 1 | B1 | -5.4377689 |   0.9573456 | -0.262557 |  1.5954659 | 1.75318556 | -4.4680406 |  0.7844009 |  1.683653 |  1.07528388 |  0.8357734 | -0.74729535 |  0.10612232 |  1.85120900 |  0.67959874 |  0.4243538 |  0.95376241 |  2.8842148 | -0.9746488 | 1 |\n",
       "| 2 | T1 |  2.8612105 |  -5.2810534 |  5.679607 |  3.3979949 | 1.67496327 | -0.9154422 |  1.4600439 | -1.229403 |  2.28014573 | -0.6644495 |  1.31703977 |  0.04942413 |  0.06954366 |  0.72471141 |  0.2329114 | -1.46907481 |  0.1194593 | -2.1491955 | 2 |\n",
       "| 3 | T2 | -2.0011180 | -11.3801812 |  1.491330 | -0.8813402 | 0.22273736 |  1.1818440 | -0.6468598 |  2.186245 |  0.04102304 |  0.4264860 | -0.03881684 |  0.32987749 | -0.42744838 | -0.03289759 | -0.9153398 |  1.72665306 | -0.9579595 |  1.5185880 | 2 |\n",
       "| 4 | B2 | -4.8030923 |   0.8465585 | -4.343065 | -1.9605626 | 2.64870917 |  2.0736007 |  1.6779892 | -0.459361 | -0.70565389 | -1.3868816 |  0.28088406 | -0.94534672 | -0.11817499 |  1.09399072 | -0.4434460 |  0.74603992 |  0.2071983 |  0.1721435 | 1 |\n",
       "| 5 | B3 | -0.9315107 |   1.5935097 | -3.189957 |  2.1234884 | 1.82307492 |  2.0138997 |  2.0673511 |  1.501852 | -1.22008940 |  0.6026213 | -0.04268666 | -1.46636013 | -1.05342804 | -0.03697787 |  1.1130522 |  0.25658748 |  0.8466788 | -1.0410251 | 1 |\n",
       "| 6 | T3 | -0.7213580 | -10.8121829 |  1.258033 | -0.3517227 | 0.08425905 |  0.8085904 | -0.1407362 |  1.979803 | -1.10502707 | -0.5608123 | -1.10378936 |  1.41023352 |  0.64501637 | -1.08259213 | -1.0089479 | -0.07948896 |  0.3234026 |  0.4130838 | 2 |\n",
       "\n"
      ],
      "text/plain": [
       "  Description Dim.1      Dim.2       Dim.3     Dim.4      Dim.5      Dim.6     \n",
       "1 B1          -5.4377689   0.9573456 -0.262557  1.5954659 1.75318556 -4.4680406\n",
       "2 T1           2.8612105  -5.2810534  5.679607  3.3979949 1.67496327 -0.9154422\n",
       "3 T2          -2.0011180 -11.3801812  1.491330 -0.8813402 0.22273736  1.1818440\n",
       "4 B2          -4.8030923   0.8465585 -4.343065 -1.9605626 2.64870917  2.0736007\n",
       "5 B3          -0.9315107   1.5935097 -3.189957  2.1234884 1.82307492  2.0138997\n",
       "6 T3          -0.7213580 -10.8121829  1.258033 -0.3517227 0.08425905  0.8085904\n",
       "  Dim.7      Dim.8     Dim.9       Dim.10     Dim.11      Dim.12     \n",
       "1  0.7844009  1.683653  1.07528388  0.8357734 -0.74729535  0.10612232\n",
       "2  1.4600439 -1.229403  2.28014573 -0.6644495  1.31703977  0.04942413\n",
       "3 -0.6468598  2.186245  0.04102304  0.4264860 -0.03881684  0.32987749\n",
       "4  1.6779892 -0.459361 -0.70565389 -1.3868816  0.28088406 -0.94534672\n",
       "5  2.0673511  1.501852 -1.22008940  0.6026213 -0.04268666 -1.46636013\n",
       "6 -0.1407362  1.979803 -1.10502707 -0.5608123 -1.10378936  1.41023352\n",
       "  Dim.13      Dim.14      Dim.15     Dim.16      Dim.17     Dim.18     Cluster\n",
       "1  1.85120900  0.67959874  0.4243538  0.95376241  2.8842148 -0.9746488 1      \n",
       "2  0.06954366  0.72471141  0.2329114 -1.46907481  0.1194593 -2.1491955 2      \n",
       "3 -0.42744838 -0.03289759 -0.9153398  1.72665306 -0.9579595  1.5185880 2      \n",
       "4 -0.11817499  1.09399072 -0.4434460  0.74603992  0.2071983  0.1721435 1      \n",
       "5 -1.05342804 -0.03697787  1.1130522  0.25658748  0.8466788 -1.0410251 1      \n",
       "6  0.64501637 -1.08259213 -1.0089479 -0.07948896  0.3234026  0.4130838 2      "
      ]
     },
     "metadata": {},
     "output_type": "display_data"
    }
   ],
   "source": [
    "dataset[\"Cluster\"] = as.factor(as.numeric(cluster_individuals$Cluster))\n",
    "if (pca_suitability$pca_suitable) {\n",
    "    pca_df = dataset\n",
    "} else {\n",
    "    pca_matrix = dataset %>% select(-Cluster)\n",
    "    r_pca = evaluomeR::performPCA(dataset = pca_matrix)\n",
    "    pca_df = r_pca$dataset_ncp\n",
    "    pca_df$Cluster <- as.factor(dataset$Cluster)\n",
    "    pca_df$Description <- dataset$Description\n",
    "}\n",
    "head(pca_df)"
   ]
  },
  {
   "cell_type": "code",
   "execution_count": 41,
   "id": "2dbdcbee",
   "metadata": {},
   "outputs": [
    {
     "name": "stderr",
     "output_type": "stream",
     "text": [
      "Warning message:\n",
      "\"\u001b[1m\u001b[22mThe following aesthetics were dropped during statistical transformation: \u001b[32mlabel\u001b[39m.\n",
      "\u001b[36mℹ\u001b[39m This can happen when ggplot fails to infer the correct grouping structure in\n",
      "  the data.\n",
      "\u001b[36mℹ\u001b[39m Did you forget to specify a `group` aesthetic or to convert a numerical\n",
      "  variable into a factor?\"\n",
      "Warning message:\n",
      "\"ggrepel: 23 unlabeled data points (too many overlaps). Consider increasing max.overlaps\"\n"
     ]
    },
    {
     "data": {
      "image/png": "[encoded data removed]",
      "text/plain": [
       "plot without title"
      ]
     },
     "metadata": {
      "image/png": {
       "height": 720,
       "width": 720
      }
     },
     "output_type": "display_data"
    }
   ],
   "source": [
    "custom_colors = c(\"#2E86C1\", \"#28B463\", \"#E74C3C\", \"#9B59B6\", \"#F1C40F\", \"#7F8C8D\")\n",
    "\n",
    "cluster_shapes = c(16, 17, 15, 18, 19)\n",
    "cluster_labels = c(\"B\", \"T\", \"AML\")\n",
    "\n",
    "ggplot(pca_df, aes(x = Dim.1, y = Dim.2, shape = Cluster, color = Cluster, label = Description)) +\n",
    "  geom_point(size = 3) +\n",
    "  geom_text_repel(\n",
    "    vjust = 1,\n",
    "    hjust = 1,\n",
    "    size = 6,\n",
    "    show.legend = FALSE,\n",
    "    point.padding = 0.4,\n",
    "    box.padding = 0.25,\n",
    "    max.overlaps = 10,\n",
    "    segment.color = \"grey70\",\n",
    "    segment.size = 0.2\n",
    "  ) +\n",
    "  stat_ellipse(aes(fill = Cluster), level = 0.95, alpha = 0.2, geom = \"polygon\") +\n",
    "  labs(\n",
    "    title = \"GOLUB individuals\",\n",
    "    x = \"Principal Component 1\",\n",
    "    y = \"Principal Component 2\"\n",
    "  ) +\n",
    "  scale_shape_manual(values = cluster_shapes, labels = cluster_labels) +\n",
    "  scale_color_manual(values = custom_colors, labels = cluster_labels)  +\n",
    "  scale_fill_manual(values = custom_colors, labels = cluster_labels)   +\n",
    "  theme_minimal(base_size = 15) +\n",
    "  theme(\n",
    "    plot.title = element_text(hjust = 0.5, size = 18, face = \"bold\"),\n",
    "    axis.title.x = element_text(size = 20),\n",
    "    axis.title.y = element_text(size = 20),\n",
    "    axis.text = element_text(size = 16),\n",
    "    legend.position = \"right\",\n",
    "    legend.title = element_text(size = 18),\n",
    "    legend.text = element_text(size = 16),\n",
    "    panel.grid.major = element_line(color = \"grey90\"),\n",
    "    panel.grid.minor = element_blank()\n",
    "  )\n"
   ]
  },
  {
   "cell_type": "markdown",
   "id": "b7fd561d",
   "metadata": {},
   "source": [
    "# Sensitivity <a class=\"anchor\" id=\"sensitivity\"></a>"
   ]
  },
  {
   "cell_type": "markdown",
   "id": "0163198f",
   "metadata": {},
   "source": [
    "In this Section we evaluate the sensitivity of our clustering using the `MLmetrics::Sensitivity` method. Sensitivity, or the true positive rate, measures the ability to correctly identify positive instances within the data. By focusing on sensitivity, we aim to ensure that our model effectively captures the relevant clusters, minimizing the number of false negatives. "
   ]
  },
  {
   "cell_type": "code",
   "execution_count": 42,
   "id": "328d1516",
   "metadata": {},
   "outputs": [],
   "source": [
    "if (length(r_atsc$trimmedRows) > 0) {\n",
    "    dataset[\"Class\"] = as.data.frame(golub)[\"Class\"][-r_atsc$trimmedRows, ]\n",
    "} else {\n",
    "    dataset[\"Class\"] = as.data.frame(golub)[\"Class\"]\n",
    "}"
   ]
  },
  {
   "cell_type": "code",
   "execution_count": 44,
   "id": "1642b419",
   "metadata": {},
   "outputs": [
    {
     "data": {
      "text/html": [
       "<table class=\"dataframe\">\n",
       "<caption>A data.frame: 6 × 3</caption>\n",
       "<thead>\n",
       "\t<tr><th></th><th scope=col>Description</th><th scope=col>Class</th><th scope=col>Class_n</th></tr>\n",
       "\t<tr><th></th><th scope=col>&lt;fct&gt;</th><th scope=col>&lt;fct&gt;</th><th scope=col>&lt;dbl&gt;</th></tr>\n",
       "</thead>\n",
       "<tbody>\n",
       "\t<tr><th scope=row>1</th><td>B1</td><td>B</td><td>1</td></tr>\n",
       "\t<tr><th scope=row>2</th><td>T1</td><td>T</td><td>2</td></tr>\n",
       "\t<tr><th scope=row>3</th><td>T2</td><td>T</td><td>2</td></tr>\n",
       "\t<tr><th scope=row>4</th><td>B2</td><td>B</td><td>1</td></tr>\n",
       "\t<tr><th scope=row>5</th><td>B3</td><td>B</td><td>1</td></tr>\n",
       "\t<tr><th scope=row>6</th><td>T3</td><td>T</td><td>2</td></tr>\n",
       "</tbody>\n",
       "</table>\n"
      ],
      "text/latex": [
       "A data.frame: 6 × 3\n",
       "\\begin{tabular}{r|lll}\n",
       "  & Description & Class & Class\\_n\\\\\n",
       "  & <fct> & <fct> & <dbl>\\\\\n",
       "\\hline\n",
       "\t1 & B1 & B & 1\\\\\n",
       "\t2 & T1 & T & 2\\\\\n",
       "\t3 & T2 & T & 2\\\\\n",
       "\t4 & B2 & B & 1\\\\\n",
       "\t5 & B3 & B & 1\\\\\n",
       "\t6 & T3 & T & 2\\\\\n",
       "\\end{tabular}\n"
      ],
      "text/markdown": [
       "\n",
       "A data.frame: 6 × 3\n",
       "\n",
       "| <!--/--> | Description &lt;fct&gt; | Class &lt;fct&gt; | Class_n &lt;dbl&gt; |\n",
       "|---|---|---|---|\n",
       "| 1 | B1 | B | 1 |\n",
       "| 2 | T1 | T | 2 |\n",
       "| 3 | T2 | T | 2 |\n",
       "| 4 | B2 | B | 1 |\n",
       "| 5 | B3 | B | 1 |\n",
       "| 6 | T3 | T | 2 |\n",
       "\n"
      ],
      "text/plain": [
       "  Description Class Class_n\n",
       "1 B1          B     1      \n",
       "2 T1          T     2      \n",
       "3 T2          T     2      \n",
       "4 B2          B     1      \n",
       "5 B3          B     1      \n",
       "6 T3          T     2      "
      ]
     },
     "metadata": {},
     "output_type": "display_data"
    }
   ],
   "source": [
    "dataset[\"Class_n\"] = gold_standard_vector\n",
    "# Table of prediction vs actual classification\n",
    "head(dataset[, c(\"Description\", \"Class\", \"Class_n\")])"
   ]
  },
  {
   "cell_type": "code",
   "execution_count": 45,
   "id": "ec847c32",
   "metadata": {},
   "outputs": [
    {
     "name": "stdout",
     "output_type": "stream",
     "text": [
      "[1] \"gold standard\"\n"
     ]
    },
    {
     "data": {
      "text/html": [
       "<style>\n",
       ".list-inline {list-style: none; margin:0; padding: 0}\n",
       ".list-inline>li {display: inline-block}\n",
       ".list-inline>li:not(:last-child)::after {content: \"\\00b7\"; padding: 0 .5ex}\n",
       "</style>\n",
       "<ol class=list-inline><li>1</li><li>2</li><li>2</li><li>1</li><li>1</li><li>2</li><li>1</li><li>1</li><li>2</li><li>2</li><li>2</li><li>1</li><li>1</li><li>2</li><li>1</li><li>1</li><li>1</li><li>1</li><li>1</li><li>1</li><li>1</li><li>2</li><li>1</li><li>1</li><li>1</li><li>3</li><li>3</li><li>3</li><li>3</li><li>3</li><li>3</li><li>3</li><li>1</li><li>1</li><li>1</li><li>1</li><li>1</li><li>1</li><li>1</li><li>1</li><li>1</li><li>1</li><li>1</li><li>1</li><li>1</li><li>1</li><li>1</li><li>1</li><li>2</li><li>1</li><li>1</li><li>1</li><li>3</li><li>3</li><li>3</li><li>3</li><li>3</li><li>3</li><li>3</li><li>3</li><li>3</li><li>3</li><li>3</li><li>3</li><li>3</li></ol>\n"
      ],
      "text/latex": [
       "\\begin{enumerate*}\n",
       "\\item 1\n",
       "\\item 2\n",
       "\\item 2\n",
       "\\item 1\n",
       "\\item 1\n",
       "\\item 2\n",
       "\\item 1\n",
       "\\item 1\n",
       "\\item 2\n",
       "\\item 2\n",
       "\\item 2\n",
       "\\item 1\n",
       "\\item 1\n",
       "\\item 2\n",
       "\\item 1\n",
       "\\item 1\n",
       "\\item 1\n",
       "\\item 1\n",
       "\\item 1\n",
       "\\item 1\n",
       "\\item 1\n",
       "\\item 2\n",
       "\\item 1\n",
       "\\item 1\n",
       "\\item 1\n",
       "\\item 3\n",
       "\\item 3\n",
       "\\item 3\n",
       "\\item 3\n",
       "\\item 3\n",
       "\\item 3\n",
       "\\item 3\n",
       "\\item 1\n",
       "\\item 1\n",
       "\\item 1\n",
       "\\item 1\n",
       "\\item 1\n",
       "\\item 1\n",
       "\\item 1\n",
       "\\item 1\n",
       "\\item 1\n",
       "\\item 1\n",
       "\\item 1\n",
       "\\item 1\n",
       "\\item 1\n",
       "\\item 1\n",
       "\\item 1\n",
       "\\item 1\n",
       "\\item 2\n",
       "\\item 1\n",
       "\\item 1\n",
       "\\item 1\n",
       "\\item 3\n",
       "\\item 3\n",
       "\\item 3\n",
       "\\item 3\n",
       "\\item 3\n",
       "\\item 3\n",
       "\\item 3\n",
       "\\item 3\n",
       "\\item 3\n",
       "\\item 3\n",
       "\\item 3\n",
       "\\item 3\n",
       "\\item 3\n",
       "\\end{enumerate*}\n"
      ],
      "text/markdown": [
       "1. 1\n",
       "2. 2\n",
       "3. 2\n",
       "4. 1\n",
       "5. 1\n",
       "6. 2\n",
       "7. 1\n",
       "8. 1\n",
       "9. 2\n",
       "10. 2\n",
       "11. 2\n",
       "12. 1\n",
       "13. 1\n",
       "14. 2\n",
       "15. 1\n",
       "16. 1\n",
       "17. 1\n",
       "18. 1\n",
       "19. 1\n",
       "20. 1\n",
       "21. 1\n",
       "22. 2\n",
       "23. 1\n",
       "24. 1\n",
       "25. 1\n",
       "26. 3\n",
       "27. 3\n",
       "28. 3\n",
       "29. 3\n",
       "30. 3\n",
       "31. 3\n",
       "32. 3\n",
       "33. 1\n",
       "34. 1\n",
       "35. 1\n",
       "36. 1\n",
       "37. 1\n",
       "38. 1\n",
       "39. 1\n",
       "40. 1\n",
       "41. 1\n",
       "42. 1\n",
       "43. 1\n",
       "44. 1\n",
       "45. 1\n",
       "46. 1\n",
       "47. 1\n",
       "48. 1\n",
       "49. 2\n",
       "50. 1\n",
       "51. 1\n",
       "52. 1\n",
       "53. 3\n",
       "54. 3\n",
       "55. 3\n",
       "56. 3\n",
       "57. 3\n",
       "58. 3\n",
       "59. 3\n",
       "60. 3\n",
       "61. 3\n",
       "62. 3\n",
       "63. 3\n",
       "64. 3\n",
       "65. 3\n",
       "\n",
       "\n"
      ],
      "text/plain": [
       " [1] 1 2 2 1 1 2 1 1 2 2 2 1 1 2 1 1 1 1 1 1 1 2 1 1 1 3 3 3 3 3 3 3 1 1 1 1 1 1\n",
       "[39] 1 1 1 1 1 1 1 1 1 1 2 1 1 1 3 3 3 3 3 3 3 3 3 3 3 3 3"
      ]
     },
     "metadata": {},
     "output_type": "display_data"
    },
    {
     "name": "stdout",
     "output_type": "stream",
     "text": [
      "[1] \"predicted\"\n"
     ]
    },
    {
     "data": {
      "text/html": [
       "<style>\n",
       ".list-inline {list-style: none; margin:0; padding: 0}\n",
       ".list-inline>li {display: inline-block}\n",
       ".list-inline>li:not(:last-child)::after {content: \"\\00b7\"; padding: 0 .5ex}\n",
       "</style>\n",
       "<ol class=list-inline><li>1</li><li>2</li><li>2</li><li>1</li><li>1</li><li>2</li><li>1</li><li>1</li><li>2</li><li>2</li><li>2</li><li>1</li><li>1</li><li>2</li><li>1</li><li>1</li><li>1</li><li>1</li><li>1</li><li>1</li><li>1</li><li>2</li><li>1</li><li>1</li><li>1</li><li>3</li><li>3</li><li>3</li><li>3</li><li>3</li><li>3</li><li>3</li><li>1</li><li>1</li><li>1</li><li>1</li><li>1</li><li>1</li><li>1</li><li>1</li><li>1</li><li>1</li><li>1</li><li>1</li><li>1</li><li>1</li><li>1</li><li>1</li><li>3</li><li>1</li><li>1</li><li>1</li><li>3</li><li>3</li><li>3</li><li>3</li><li>3</li><li>3</li><li>3</li><li>3</li><li>3</li><li>1</li><li>3</li><li>3</li><li>3</li></ol>\n",
       "\n",
       "<details>\n",
       "\t<summary style=display:list-item;cursor:pointer>\n",
       "\t\t<strong>Levels</strong>:\n",
       "\t</summary>\n",
       "\t<style>\n",
       "\t.list-inline {list-style: none; margin:0; padding: 0}\n",
       "\t.list-inline>li {display: inline-block}\n",
       "\t.list-inline>li:not(:last-child)::after {content: \"\\00b7\"; padding: 0 .5ex}\n",
       "\t</style>\n",
       "\t<ol class=list-inline><li>'1'</li><li>'2'</li><li>'3'</li></ol>\n",
       "</details>"
      ],
      "text/latex": [
       "\\begin{enumerate*}\n",
       "\\item 1\n",
       "\\item 2\n",
       "\\item 2\n",
       "\\item 1\n",
       "\\item 1\n",
       "\\item 2\n",
       "\\item 1\n",
       "\\item 1\n",
       "\\item 2\n",
       "\\item 2\n",
       "\\item 2\n",
       "\\item 1\n",
       "\\item 1\n",
       "\\item 2\n",
       "\\item 1\n",
       "\\item 1\n",
       "\\item 1\n",
       "\\item 1\n",
       "\\item 1\n",
       "\\item 1\n",
       "\\item 1\n",
       "\\item 2\n",
       "\\item 1\n",
       "\\item 1\n",
       "\\item 1\n",
       "\\item 3\n",
       "\\item 3\n",
       "\\item 3\n",
       "\\item 3\n",
       "\\item 3\n",
       "\\item 3\n",
       "\\item 3\n",
       "\\item 1\n",
       "\\item 1\n",
       "\\item 1\n",
       "\\item 1\n",
       "\\item 1\n",
       "\\item 1\n",
       "\\item 1\n",
       "\\item 1\n",
       "\\item 1\n",
       "\\item 1\n",
       "\\item 1\n",
       "\\item 1\n",
       "\\item 1\n",
       "\\item 1\n",
       "\\item 1\n",
       "\\item 1\n",
       "\\item 3\n",
       "\\item 1\n",
       "\\item 1\n",
       "\\item 1\n",
       "\\item 3\n",
       "\\item 3\n",
       "\\item 3\n",
       "\\item 3\n",
       "\\item 3\n",
       "\\item 3\n",
       "\\item 3\n",
       "\\item 3\n",
       "\\item 3\n",
       "\\item 1\n",
       "\\item 3\n",
       "\\item 3\n",
       "\\item 3\n",
       "\\end{enumerate*}\n",
       "\n",
       "\\emph{Levels}: \\begin{enumerate*}\n",
       "\\item '1'\n",
       "\\item '2'\n",
       "\\item '3'\n",
       "\\end{enumerate*}\n"
      ],
      "text/markdown": [
       "1. 1\n",
       "2. 2\n",
       "3. 2\n",
       "4. 1\n",
       "5. 1\n",
       "6. 2\n",
       "7. 1\n",
       "8. 1\n",
       "9. 2\n",
       "10. 2\n",
       "11. 2\n",
       "12. 1\n",
       "13. 1\n",
       "14. 2\n",
       "15. 1\n",
       "16. 1\n",
       "17. 1\n",
       "18. 1\n",
       "19. 1\n",
       "20. 1\n",
       "21. 1\n",
       "22. 2\n",
       "23. 1\n",
       "24. 1\n",
       "25. 1\n",
       "26. 3\n",
       "27. 3\n",
       "28. 3\n",
       "29. 3\n",
       "30. 3\n",
       "31. 3\n",
       "32. 3\n",
       "33. 1\n",
       "34. 1\n",
       "35. 1\n",
       "36. 1\n",
       "37. 1\n",
       "38. 1\n",
       "39. 1\n",
       "40. 1\n",
       "41. 1\n",
       "42. 1\n",
       "43. 1\n",
       "44. 1\n",
       "45. 1\n",
       "46. 1\n",
       "47. 1\n",
       "48. 1\n",
       "49. 3\n",
       "50. 1\n",
       "51. 1\n",
       "52. 1\n",
       "53. 3\n",
       "54. 3\n",
       "55. 3\n",
       "56. 3\n",
       "57. 3\n",
       "58. 3\n",
       "59. 3\n",
       "60. 3\n",
       "61. 3\n",
       "62. 1\n",
       "63. 3\n",
       "64. 3\n",
       "65. 3\n",
       "\n",
       "\n",
       "\n",
       "**Levels**: 1. '1'\n",
       "2. '2'\n",
       "3. '3'\n",
       "\n",
       "\n"
      ],
      "text/plain": [
       " [1] 1 2 2 1 1 2 1 1 2 2 2 1 1 2 1 1 1 1 1 1 1 2 1 1 1 3 3 3 3 3 3 3 1 1 1 1 1 1\n",
       "[39] 1 1 1 1 1 1 1 1 1 1 3 1 1 1 3 3 3 3 3 3 3 3 3 1 3 3 3\n",
       "Levels: 1 2 3"
      ]
     },
     "metadata": {},
     "output_type": "display_data"
    }
   ],
   "source": [
    "# Getting a vector of prediction vs actual classification\n",
    "#actual = as.factor(as.vector(unlist(dataset[\"Class_n\"])))\n",
    "predicted <- factor(as.vector(unlist(dataset[\"Cluster\"])))\n",
    "\n",
    "print(\"gold standard\")\n",
    "gold_standard_vector\n",
    "print(\"predicted\")\n",
    "predicted"
   ]
  },
  {
   "cell_type": "code",
   "execution_count": 46,
   "id": "0ecd0c82",
   "metadata": {},
   "outputs": [
    {
     "name": "stdout",
     "output_type": "stream",
     "text": [
      "[1] \"Sensitivity: 100.00%\"\n"
     ]
    }
   ],
   "source": [
    "sens = MLmetrics::Sensitivity(y_pred = predicted, y_true = gold_standard_vector)\n",
    "sens = format(round(sens*100, 2), nsmall = 2)\n",
    "print(paste0(\"Sensitivity: \", sens, \"%\"))"
   ]
  },
  {
   "cell_type": "markdown",
   "id": "69f1248e",
   "metadata": {},
   "source": [
    "# CER <a class=\"anchor\" id=\"cer\"></a>\n",
    "To assess the overall accuracy of our clustering, we compute the Classification Error Rate (CER) and compare it with the gold standard classification. CER represents the proportion of misclassified instances, thus providing a clear measure of the clustering performance in assigning individuals to the correct clusters."
   ]
  },
  {
   "cell_type": "code",
   "execution_count": 47,
   "id": "fc3052a4",
   "metadata": {},
   "outputs": [
    {
     "name": "stdout",
     "output_type": "stream",
     "text": [
      "[1] \"CER: 3.94%\"\n"
     ]
    }
   ],
   "source": [
    "cer = CER(predicted, gold_standard_vector)\n",
    "cer = format(round(cer*100, 2), nsmall = 2)\n",
    "print(paste0(\"CER: \", cer, \"%\"))"
   ]
  },
  {
   "cell_type": "code",
   "execution_count": null,
   "id": "12a8371d-2f8c-4e1c-b889-9013a0644d2d",
   "metadata": {},
   "outputs": [],
   "source": [
    "# Sensitivity: 100% - CER: 3.94% - max_alpha = 0.1 - alpha (automatic) = 0.07 - L1 = 7.24137931034483\n",
    "# Sensitivity: 100% - CER: 0.00% - max_alpha = 0.25 - alpha (automatic) = 0.2 - L1 = 7.24137931034483\n",
    "\n",
    "max_alpha\n",
    "r_atsc$alpha\n",
    "r_atsc$L1"
   ]
  },
  {
   "cell_type": "code",
   "execution_count": null,
   "id": "fb23ed7b-57b3-4ba0-9386-706d253cfe53",
   "metadata": {},
   "outputs": [],
   "source": []
  }
 ],
 "metadata": {
  "kernelspec": {
   "display_name": "R",
   "language": "R",
   "name": "ir"
  },
  "language_info": {
   "codemirror_mode": "r",
   "file_extension": ".r",
   "mimetype": "text/x-r-source",
   "name": "R",
   "pygments_lexer": "r",
   "version": "4.4.1"
  }
 },
 "nbformat": 4,
 "nbformat_minor": 5
}
