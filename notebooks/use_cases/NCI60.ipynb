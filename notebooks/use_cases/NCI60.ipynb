{
 "cells": [
  {
   "cell_type": "markdown",
   "id": "285a2f02",
   "metadata": {},
   "source": [
    "# NCI60 use case"
   ]
  },
  {
   "cell_type": "code",
   "execution_count": null,
   "id": "9ba99e51",
   "metadata": {
    "scrolled": true
   },
   "outputs": [],
   "source": [
    "library(\"ISLR\") \n",
    "library(\"evaluomeR\")\n",
    "library(\"dplyr\")\n",
    "library(\"caret\")\n",
    "library(\"MLmetrics\")\n",
    "library(\"plotly\")\n",
    "library(\"reshape2\")\n",
    "\n",
    "options(scipen=10)"
   ]
  },
  {
   "cell_type": "code",
   "execution_count": null,
   "id": "5b925569",
   "metadata": {
    "scrolled": true
   },
   "outputs": [],
   "source": [
    "packageVersion(\"evaluomeR\")"
   ]
  },
  {
   "cell_type": "markdown",
   "id": "52215d63",
   "metadata": {},
   "source": [
    "# Table of contents\n",
    "* [Dataset](#dataset)\n",
    "    * [Removing highly correlated metrics](#correlated)\n",
    "    * [Top 200](#top)\n",
    "* [evaluomeR - optimal $k$ analysis](#evaluomer)\n",
    "    * [Stability plotting](#evaluomeR_stab_plot)\n",
    "    * [Quality plotting](#evaluomeR_qual_plot)\n",
    "* [PCA](#pca)\n",
    "* [Sensitivity](#sensitivity)\n",
    "* [CER](#cer)"
   ]
  },
  {
   "cell_type": "markdown",
   "id": "8c073791",
   "metadata": {},
   "source": [
    "# Dataset <a class=\"anchor\" id=\"dataset\"></a>"
   ]
  },
  {
   "cell_type": "code",
   "execution_count": null,
   "id": "50cb9920",
   "metadata": {},
   "outputs": [],
   "source": [
    "nci60 = as.data.frame(NCI60$data)\n",
    "head(nci60)"
   ]
  },
  {
   "cell_type": "markdown",
   "id": "6e33e971",
   "metadata": {},
   "source": [
    "There are 14 types of classes within the dataset: **CNS**, **RENAL**, **BREAST**, **NSCLC**, **UNKNOWN**, **OVARIAN**, **MELANOMA**, **PROSTATE**, **LEUKEMIA**, **K562B-repro**, **K562A-repro**, **COLON**, **MCF7A-repro** and **MCF7D-repro**:"
   ]
  },
  {
   "cell_type": "code",
   "execution_count": null,
   "id": "7cc5ec8b",
   "metadata": {
    "scrolled": true
   },
   "outputs": [],
   "source": [
    "as.vector(unlist(unique(NCI60$labs)))"
   ]
  },
  {
   "cell_type": "markdown",
   "id": "9e8097f3",
   "metadata": {},
   "source": [
    "Here, we prepare the NCI60 dataset for the analysis:\n",
    "\n",
    "- We add a column named `Description` containing the class (category) of each row\n",
    "- Due to their small class size, we remove the two prostate cell lines and the unknown cell line, \"PROSTATE\" and \"UNKNOWN\" entires respectively."
   ]
  },
  {
   "cell_type": "code",
   "execution_count": null,
   "id": "ee296298",
   "metadata": {},
   "outputs": [],
   "source": [
    "nci60[\"labels\"] = rownames(nci60)\n",
    "nci60 = nci60[ , c(\"labels\", names(nci60)[names(nci60) != \"labels\"])]\n",
    "nci60[\"labels\"] = NCI60$labs\n",
    "colnames(nci60)[colnames(nci60) == 'labels'] <- 'Description'\n",
    "nci60 = nci60[!grepl(\"UNKNOWN\", nci60$Description),] # Remove UNKNOWN\n",
    "nci60 = nci60[!grepl(\"PROSTATE\", nci60$Description),] # Remove PROSTATE"
   ]
  },
  {
   "cell_type": "markdown",
   "id": "04dcb801",
   "metadata": {},
   "source": [
    "## Removing highly correlated metrics <a class=\"anchor\" id=\"correlated\"></a>\n",
    "We address the issue of multicorrelation by identifying and removing highly correlated metrics (absolute correlation, 1) from our dataset. First, we exclude the first column from the dataset `nci60`, where the column `Description` is. We then compute the correlation matrix R for data using the `cor` function. To pinpoint the metrics that exhibit perfect correlation (correlation coefficient of 1 or -1), we make use of the `findCorrelation` function from the `caret` package, setting a cutoff of 1. This function returns the names of the variables that are highly correlated, if any."
   ]
  },
  {
   "cell_type": "code",
   "execution_count": null,
   "id": "aa7caf5b",
   "metadata": {},
   "outputs": [],
   "source": [
    "data = nci60[-1]\n",
    "R = cor(data)\n",
    "head(R)"
   ]
  },
  {
   "cell_type": "code",
   "execution_count": null,
   "id": "8f577bb3",
   "metadata": {},
   "outputs": [],
   "source": [
    "cor_metrics = findCorrelation(R, cutoff = 1, verbose = FALSE, names=TRUE)\n",
    "length(cor_metrics)"
   ]
  },
  {
   "cell_type": "markdown",
   "id": "4b3b8ac9",
   "metadata": {},
   "source": [
    "Finally, we use `length(cor_metrics)` to determine the number of these highly correlated metrics. As this number is 0, we assess there are no highly correlated metrics."
   ]
  },
  {
   "cell_type": "markdown",
   "id": "173207a5",
   "metadata": {},
   "source": [
    "## Top 200 <a class=\"anchor\" id=\"top\"></a>"
   ]
  },
  {
   "cell_type": "markdown",
   "id": "6c138f75",
   "metadata": {},
   "source": [
    "We now filter the metrics for including only the top 200 with the greatest variance, as these metrics have the most significant impact on clustering."
   ]
  },
  {
   "cell_type": "code",
   "execution_count": null,
   "id": "a60b800d",
   "metadata": {},
   "outputs": [],
   "source": [
    "variance = sort(sapply(nci60[-1], var), decreasing = TRUE)  # Sorted gene variance\n",
    "nci60_var = as.data.frame(variance)\n",
    "nci60_var[\"Description\"] = rownames(nci60_var)"
   ]
  },
  {
   "cell_type": "code",
   "execution_count": null,
   "id": "89a5ce6f",
   "metadata": {},
   "outputs": [],
   "source": [
    "top_number = 200\n",
    "top_rows = nci60_var[c(1:top_number), ]\n",
    "head(top_rows)"
   ]
  },
  {
   "cell_type": "code",
   "execution_count": null,
   "id": "7a0d743b",
   "metadata": {},
   "outputs": [],
   "source": [
    "row_list = as.list(top_rows[\"Description\"])\n",
    "top_row_list = unlist(setdiff(row_list, names(nci60)))\n",
    "top_nci60 = nci60[, top_row_list]\n",
    "top_nci60[\"Description\"] = nci60[rownames(top_nci60) %in% rownames(nci60), \"Description\"]\n",
    "top_nci60 = top_nci60[ , c(\"Description\", names(top_nci60)[names(top_nci60) != \"Description\"])] "
   ]
  },
  {
   "cell_type": "markdown",
   "id": "4a3d9dcd",
   "metadata": {},
   "source": [
    "The dataframe `top_nci60` contains 200 genes (metrics) which provides the most variance."
   ]
  },
  {
   "cell_type": "code",
   "execution_count": null,
   "id": "165ac242",
   "metadata": {},
   "outputs": [],
   "source": [
    "head(top_nci60)"
   ]
  },
  {
   "cell_type": "markdown",
   "id": "82a10a31",
   "metadata": {},
   "source": [
    "# evaluomeR - optimal $k$ analysis <a class=\"anchor\" id=\"evaluomer\"></a>\n",
    "In this Section, evaluomeR executes an optimal $k$ analysis. First, stabilities and qualities are calculated, considering all the metrics in the dataset. The $k$ range is $k \\in [3,10]$ and the clustering method is `kmeans`."
   ]
  },
  {
   "cell_type": "code",
   "execution_count": null,
   "id": "3ae91fdf",
   "metadata": {},
   "outputs": [],
   "source": [
    "seed = 13606\n",
    "k.range=c(3,10)\n",
    "cbi = \"kmeans\""
   ]
  },
  {
   "cell_type": "markdown",
   "id": "0831116c",
   "metadata": {},
   "source": [
    "Stability calculation with $k \\in [3,10]$ and `kmeans`:"
   ]
  },
  {
   "cell_type": "code",
   "execution_count": null,
   "id": "7ec2c9b5",
   "metadata": {},
   "outputs": [],
   "source": [
    "stab_range = stabilityRange(data=top_nci60, k.range=k.range, \n",
    "                            bs=100, seed=seed,\n",
    "                            all_metrics=TRUE,\n",
    "                            cbi=cbi)\n",
    "stab = standardizeStabilityData(stab_range)"
   ]
  },
  {
   "cell_type": "markdown",
   "id": "b1a7b6f2",
   "metadata": {},
   "source": [
    "## Stability plotting <a class=\"anchor\" id=\"evaluomeR_stab_plot\"></a>\n",
    "\n",
    "Stability plot"
   ]
  },
  {
   "cell_type": "code",
   "execution_count": null,
   "id": "c76069dc",
   "metadata": {},
   "outputs": [],
   "source": [
    "rownames(stab) = c(\"stab_kmeans\")\n",
    "stab$Metric = rownames(stab)\n",
    "stab$Method = \"kmeans\"\n",
    "stab_melt = melt(stab, id.vars = c(\"Metric\", \"Method\"))"
   ]
  },
  {
   "cell_type": "code",
   "execution_count": null,
   "id": "fa0692e9",
   "metadata": {},
   "outputs": [],
   "source": [
    "# Color\n",
    "plot_ly(stab_melt, x=~variable, y=~value, colors = \"Set1\", color= ~Method,\n",
    "              type = 'scatter', mode = 'dot') %>%\n",
    "  layout(\n",
    "    title = paste0('Stability k in [', k.range[1], \",\", k.range[2],']'),\n",
    "    xaxis = list(title = 'k', range=c(0, 7)),\n",
    "    yaxis = list(title = 'Stability', range=c(0,1)),\n",
    "    shapes = list(\n",
    "        list(type = \"rect\", fillcolor = \"green\", line = list(color = \"green\"), opacity = 0.1,\n",
    "            y0 = 0.85, y1 = 1, x0 = 0, x1 = 7, layer=\"below\"),\n",
    "        list(type = \"rect\", fillcolor = \"blue\", line = list(color = \"blue\"), opacity = 0.1,\n",
    "            y0 = 0.75, y1 = 0.85, x0 = 0, x1 = 7, layer=\"below\"),\n",
    "        list(type = \"rect\", fillcolor = \"gray\", line = list(color = \"gray\"), opacity = 0.1,\n",
    "            y0 = 0.6, y1 = 0.75, x0 = 0, x1 = 7, layer=\"below\"),\n",
    "        list(type = \"rect\", fillcolor = \"red\", line = list(color = \"red\"), opacity = 0.1,\n",
    "            y0 = 0, y1 = 0.6, x0 = 0, x1 = 7, layer=\"below\")\n",
    "    )\n",
    "  )"
   ]
  },
  {
   "cell_type": "code",
   "execution_count": null,
   "id": "936a1016",
   "metadata": {},
   "outputs": [],
   "source": [
    "# Grayscale\n",
    "grayscale_colors <- c(\"black\")\n",
    "\n",
    "plot_ly(stab_melt, x = ~variable, y = ~value, colors = grayscale_colors, color = ~Method,\n",
    "              type = 'scatter', mode = 'dot') %>%\n",
    "  layout(\n",
    "    title = paste0('Stability k in [', k.range[1], \",\", k.range[2],']'),\n",
    "    xaxis = list(title = 'k', range = c(0, 7)),\n",
    "    yaxis = list(title = 'Stability', range = c(0, 1)),\n",
    "    shapes = list(\n",
    "        list(type = \"rect\", fillcolor = \"gray\", line = list(color = \"gray\"), opacity = 0.05,\n",
    "            y0 = 0.85, y1 = 1, x0 = 0, x1 = 7, layer = \"below\"),\n",
    "        list(type = \"rect\", fillcolor = \"gray\", line = list(color = \"gray\"), opacity = 0.15,\n",
    "            y0 = 0.75, y1 = 0.85, x0 = 0, x1 = 7, layer = \"below\"),\n",
    "        list(type = \"rect\", fillcolor = \"gray\", line = list(color = \"gray\"), opacity = 0.30,\n",
    "            y0 = 0.6, y1 = 0.75, x0 = 0, x1 = 7, layer = \"below\"),\n",
    "        list(type = \"rect\", fillcolor = \"gray\", line = list(color = \"gray\"), opacity = 0.40,\n",
    "            y0 = 0, y1 = 0.6, x0 = 0, x1 = 7, layer = \"below\")\n",
    "    )\n",
    "  )"
   ]
  },
  {
   "cell_type": "markdown",
   "id": "2ac17691",
   "metadata": {},
   "source": [
    "Quality calculation with $k \\in [3,10]$ and `kmeans`."
   ]
  },
  {
   "cell_type": "code",
   "execution_count": null,
   "id": "30e93f9e",
   "metadata": {},
   "outputs": [],
   "source": [
    "qual_range = qualityRange(data=top_nci60, k.range=k.range, \n",
    "                            seed=seed,\n",
    "                            all_metrics=TRUE,\n",
    "                            cbi=cbi)\n",
    "qual = standardizeQualityData(qual_range)"
   ]
  },
  {
   "cell_type": "markdown",
   "id": "1cff5124",
   "metadata": {},
   "source": [
    "## Quality plotting <a class=\"anchor\" id=\"evaluomeR_qual_plot\"></a>\n",
    "\n",
    "Quality plot"
   ]
  },
  {
   "cell_type": "code",
   "execution_count": null,
   "id": "265f34f6",
   "metadata": {},
   "outputs": [],
   "source": [
    "rownames(qual) = c(\"qual_kmeans\")\n",
    "qual$Metric = rownames(qual)\n",
    "qual$Method = \"qual\"\n",
    "qual_melt = melt(qual, id.vars = c(\"Metric\", \"Method\"))"
   ]
  },
  {
   "cell_type": "code",
   "execution_count": null,
   "id": "c07cd7bf",
   "metadata": {},
   "outputs": [],
   "source": [
    "# Color\n",
    "plot_ly(qual_melt, x=~variable, y=~value, colors = \"Set1\", color= ~Method,\n",
    "              type = 'scatter', mode = 'dot') %>%\n",
    "  layout(\n",
    "    title = paste0('Stability k in [', k.range[1], \",\", k.range[2],']'),\n",
    "    xaxis = list(title = 'k', range=c(0, 7)),\n",
    "    yaxis = list(title = 'Stability', range=c(0,1)),\n",
    "    shapes = list(\n",
    "        list(type = \"rect\", fillcolor = \"green\", line = list(color = \"green\"), opacity = 0.1,\n",
    "            y0 = 0.85, y1 = 1, x0 = 0, x1 = 7, layer=\"below\"),\n",
    "        list(type = \"rect\", fillcolor = \"blue\", line = list(color = \"blue\"), opacity = 0.1,\n",
    "            y0 = 0.75, y1 = 0.85, x0 = 0, x1 = 7, layer=\"below\"),\n",
    "        list(type = \"rect\", fillcolor = \"gray\", line = list(color = \"gray\"), opacity = 0.1,\n",
    "            y0 = 0.6, y1 = 0.75, x0 = 0, x1 = 7, layer=\"below\"),\n",
    "        list(type = \"rect\", fillcolor = \"red\", line = list(color = \"red\"), opacity = 0.1,\n",
    "            y0 = 0, y1 = 0.6, x0 = 0, x1 = 7, layer=\"below\")\n",
    "    )\n",
    "  )"
   ]
  },
  {
   "cell_type": "code",
   "execution_count": null,
   "id": "6baf596c",
   "metadata": {},
   "outputs": [],
   "source": [
    "# Grayscale\n",
    "grayscale_colors <- c(\"black\")\n",
    "\n",
    "plot_ly(qual_melt, x = ~variable, y = ~value, colors = grayscale_colors, color = ~Method,\n",
    "              type = 'scatter', mode = 'dot') %>%\n",
    "  layout(\n",
    "    title = paste0('Stability k in [', k.range[1], \",\", k.range[2],']'),\n",
    "    xaxis = list(title = 'k', range = c(0, 7)),\n",
    "    yaxis = list(title = 'Stability', range = c(0, 1)),\n",
    "    shapes = list(\n",
    "        list(type = \"rect\", fillcolor = \"gray\", line = list(color = \"gray\"), opacity = 0.05,\n",
    "            y0 = 0.85, y1 = 1, x0 = 0, x1 = 7, layer = \"below\"),\n",
    "        list(type = \"rect\", fillcolor = \"gray\", line = list(color = \"gray\"), opacity = 0.15,\n",
    "            y0 = 0.75, y1 = 0.85, x0 = 0, x1 = 7, layer = \"below\"),\n",
    "        list(type = \"rect\", fillcolor = \"gray\", line = list(color = \"gray\"), opacity = 0.30,\n",
    "            y0 = 0.6, y1 = 0.75, x0 = 0, x1 = 7, layer = \"below\"),\n",
    "        list(type = \"rect\", fillcolor = \"gray\", line = list(color = \"gray\"), opacity = 0.40,\n",
    "            y0 = 0, y1 = 0.6, x0 = 0, x1 = 7, layer = \"below\")\n",
    "    )\n",
    "  )"
   ]
  },
  {
   "cell_type": "markdown",
   "id": "3d2ca08c",
   "metadata": {},
   "source": [
    "Determining the optimal $k$ given the stabilities and qualities in `stab_range` and `qual_range` objects:"
   ]
  },
  {
   "cell_type": "code",
   "execution_count": null,
   "id": "7dbbae54",
   "metadata": {},
   "outputs": [],
   "source": [
    "k_opt = getOptimalKValue(stab_range, qual_range, k.range= k.range)\n",
    "optimal_k = k_opt$Global_optimal_k\n",
    "optimal_k_str = paste0(\"k_\", optimal_k)\n",
    "print(paste0(\"Optimal k: \", optimal_k))"
   ]
  },
  {
   "cell_type": "code",
   "execution_count": null,
   "id": "a1893312",
   "metadata": {},
   "outputs": [],
   "source": [
    "print(paste0(\"Stabilities and qualities per k with '\", cbi, \"' as clustering method\"))\n",
    "stab\n",
    "qual\n",
    "print(paste0(\"Stabily in k=\", optimal_k,\": \", stab[optimal_k_str]))\n",
    "print(paste0(\"Quality in k=\", optimal_k,\": \", qual[optimal_k_str]))"
   ]
  },
  {
   "cell_type": "markdown",
   "id": "e96ae474",
   "metadata": {},
   "source": [
    "# Clusters"
   ]
  },
  {
   "cell_type": "code",
   "execution_count": null,
   "id": "61294941",
   "metadata": {},
   "outputs": [],
   "source": [
    "# Internal method used to group individuals per cluster\n",
    "individuals_per_cluster = function(qualityResult) {\n",
    "  qual_df = as.data.frame(assay(qualityResult))\n",
    "\n",
    "\n",
    "  cluster_pos_str = as.character(unlist(qual_df[\"Cluster_position\"]))\n",
    "  cluster_labels_str = as.character(unlist(qual_df[\"Cluster_labels\"]))\n",
    "\n",
    "  cluster_pos = as.list(strsplit(cluster_pos_str, \",\")[[1]])\n",
    "  cluster_labels = as.list(strsplit(cluster_labels_str, \",\")[[1]])\n",
    "\n",
    "  individuals_in_cluster = as.data.frame(cbind(cluster_labels, cluster_pos))\n",
    "  colnames(individuals_in_cluster) = c(\"Individual\", \"InCluster\")\n",
    "\n",
    "  return(individuals_in_cluster)\n",
    "}"
   ]
  },
  {
   "cell_type": "code",
   "execution_count": null,
   "id": "77b5d886",
   "metadata": {
    "scrolled": true
   },
   "outputs": [],
   "source": [
    "cluster_individuals = individuals_per_cluster(assay(qual_range[optimal_k_str]))\n",
    "for (cluster_i in 1:optimal_k) {\n",
    "    ind_in_cluster = paste(unlist(cluster_individuals[cluster_individuals$InCluster == cluster_i, ][\"Individual\"]), collapse = \",\")\n",
    "    print(paste(\"Cluster\", cluster_i, \":\", ind_in_cluster))\n",
    "    print(\"---\")\n",
    "}"
   ]
  },
  {
   "cell_type": "markdown",
   "id": "516d4108",
   "metadata": {},
   "source": [
    "# PCA <a class=\"anchor\" id=\"pca\"></a>\n",
    "We employ Principal Component Analysis (PCA) as a dimensionality reduction technique to facilitate the visualization of clusters within our dataset. PCA allow us to transform the original high-dimensional data into a lower-dimensional space, while preserving as much of the variability as possible."
   ]
  },
  {
   "cell_type": "code",
   "execution_count": null,
   "id": "fb5ac766",
   "metadata": {},
   "outputs": [],
   "source": [
    "top_nci60[\"inCluster\"] = as.numeric(cluster_individuals$InCluster)\n",
    "pca_matrix = top_nci60 %>% select(-Description, -inCluster)\n",
    "pca_result <- prcomp(pca_matrix, scale. = TRUE)\n",
    "pca_df <- data.frame(pca_result$x)\n",
    "pca_df$Cluster <- as.factor(top_nci60$inCluster)\n",
    "pca_df$Individual <- top_nci60$Description\n",
    "head(pca_df)"
   ]
  },
  {
   "cell_type": "code",
   "execution_count": null,
   "id": "f1ee6dd6",
   "metadata": {},
   "outputs": [],
   "source": [
    "# Plot of the clusters, color\n",
    "ggplot2::ggplot(pca_df, ggplot2::aes(x = PC1, y = PC2, color = Cluster, label = Individual)) +\n",
    "  ggplot2::geom_point(size = 3) +\n",
    "  ggplot2::geom_text(vjust = 1, hjust = 1) +\n",
    "  ggplot2::labs(title = \"PCA of Features\",\n",
    "       x = \"Principal Component 1\",\n",
    "       y = \"Principal Component 2\") +\n",
    "  ggplot2::theme_minimal()"
   ]
  },
  {
   "cell_type": "code",
   "execution_count": null,
   "id": "0dd6b083",
   "metadata": {},
   "outputs": [],
   "source": [
    "# Plot of the clusters, grayscale\n",
    "ggplot(pca_df, aes(x = PC1, y = PC2, shape = Cluster, color = Cluster, label = Individual)) +\n",
    "  geom_point(size = 3) + # Point size\n",
    "  geom_text(vjust = 1, hjust = 1, color = \"black\") + # Black color for text\n",
    "  labs(title = \"PCA of Features\",\n",
    "       x = \"Principal Component 1\",\n",
    "       y = \"Principal Component 2\") +\n",
    "  theme_minimal() +\n",
    "  scale_shape_manual(values = c(16, 17, 15, 18, 19, 20, 21, 22, 23, 24)) + # Different point styles\n",
    "  scale_color_manual(values = c(\"gray20\", \"gray35\", \"gray50\", \"gray65\", \"gray80\", \n",
    "                                \"black\", \"gray30\", \"gray45\", \"gray60\", \"gray75\")) + # Different grayscale colors\n",
    "  theme(legend.position = \"right\")"
   ]
  },
  {
   "cell_type": "markdown",
   "id": "f3cede33",
   "metadata": {},
   "source": [
    "# Sensitivity <a class=\"anchor\" id=\"sensitivity\"></a>\n",
    "In this Section we evaluate the sensitivity of our clustering using the `MLmetrics::Sensitivity` method. Sensitivity, or the true positive rate, measures the ability to correctly identify positive instances within the data. By focusing on sensitivity, we aim to ensure that our model effectively captures the relevant clusters, minimizing the number of false negatives. "
   ]
  },
  {
   "cell_type": "code",
   "execution_count": null,
   "id": "6c304dd0",
   "metadata": {},
   "outputs": [],
   "source": [
    "top_nci60[\"Class\"] = top_nci60[\"Description\"]\n",
    "head(top_nci60)[, c(\"Description\", \"Class\")]"
   ]
  },
  {
   "cell_type": "code",
   "execution_count": null,
   "id": "518d502b",
   "metadata": {},
   "outputs": [],
   "source": [
    "# KMEANS\n",
    "# k=8\n",
    "level_mapping <- c(\"NSCLC\" = 1, \"CNS\" = 2, \"BREAST\" = 3,\n",
    "                 \"MCF7A-repro\" = 3, \"MCF7D-repro\" = 3, \"RENAL\" = 4, \n",
    "                 \"LEUKEMIA\" = 5, \"K562B-repro\" = 5, \"K562A-repro\" = 5, \n",
    "                 \"MELANOMA\" = 6,  \"COLON\" = 7, \"OVARIAN\" = 8\n",
    "                  )\n",
    "map_strings_to_numbers <- function(strings) {\n",
    "    return(as.numeric(level_mapping[strings]))\n",
    "}\n",
    "# Map categories with cluster number\n",
    "top_nci60[\"Class_n\"] = lapply(top_nci60[\"Class\"], map_strings_to_numbers)\n",
    "# Table of prediction vs actual classification\n",
    "head(top_nci60)[, c(\"Description\", \"Class\", \"inCluster\", \"Class_n\")]"
   ]
  },
  {
   "cell_type": "code",
   "execution_count": null,
   "id": "15224bba",
   "metadata": {},
   "outputs": [],
   "source": [
    "# Getting a vector of prediction vs actual classification\n",
    "actual = as.factor(as.vector(unlist(top_nci60[\"Class_n\"])))\n",
    "predicted <- factor(as.vector(unlist(top_nci60[\"inCluster\"])))\n",
    "\n",
    "print(\"actual\")\n",
    "actual\n",
    "print(\"predicted\")\n",
    "predicted"
   ]
  },
  {
   "cell_type": "code",
   "execution_count": null,
   "id": "01ac8a81",
   "metadata": {},
   "outputs": [],
   "source": [
    "sens <- MLmetrics::Sensitivity(y_pred = predicted, y_true = actual)\n",
    "sens = format(round(sens*100, 2), nsmall = 2)\n",
    "print(paste0(\"Sensitivity: \", sens, \"%\"))"
   ]
  },
  {
   "cell_type": "markdown",
   "id": "7cbef73d",
   "metadata": {},
   "source": [
    "# CER <a class=\"anchor\" id=\"cer\"></a>\n",
    "To assess the overall accuracy of our clustering, we compute the Classification Error Rate (CER) and compare it with the gold standard classification. CER represents the proportion of misclassified instances, thus providing a clear measure of the clustering performance in assigning individuals to the correct clusters."
   ]
  },
  {
   "cell_type": "code",
   "execution_count": null,
   "id": "046b1d20",
   "metadata": {},
   "outputs": [],
   "source": [
    "cer <- CER(predicted, actual)\n",
    "cer = format(round(cer*100, 2), nsmall = 2)\n",
    "print(paste0(\"CER: \", cer, \"%\"))"
   ]
  }
 ],
 "metadata": {
  "kernelspec": {
   "display_name": "R",
   "language": "R",
   "name": "ir"
  },
  "language_info": {
   "codemirror_mode": "r",
   "file_extension": ".r",
   "mimetype": "text/x-r-source",
   "name": "R",
   "pygments_lexer": "r",
   "version": "3.6.1"
  }
 },
 "nbformat": 4,
 "nbformat_minor": 5
}
