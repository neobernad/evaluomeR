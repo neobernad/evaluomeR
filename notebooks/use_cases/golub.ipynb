{
 "cells": [
  {
   "cell_type": "markdown",
   "id": "285a2f02",
   "metadata": {},
   "source": [
    " # GOLUB use case"
   ]
  },
  {
   "cell_type": "code",
   "execution_count": null,
   "id": "5b925569",
   "metadata": {
    "scrolled": true
   },
   "outputs": [],
   "source": [
    "library(\"binom\") \n",
    "library(\"evaluomeR\")\n",
    "library(\"cancerclass\")\n",
    "library(\"dplyr\")\n",
    "library(\"caret\")\n",
    "library(\"MLmetrics\")\n",
    "\n",
    "options(scipen=10)"
   ]
  },
  {
   "cell_type": "code",
   "execution_count": null,
   "id": "ce9016fb",
   "metadata": {},
   "outputs": [],
   "source": [
    "packageVersion(\"evaluomeR\")"
   ]
  },
  {
   "cell_type": "markdown",
   "id": "58895eee",
   "metadata": {},
   "source": [
    "# Table of contents\n",
    "* [Dataset](#dataset)\n",
    "    * [Removing highly correlated metrics](#correlated)\n",
    "    * [Top 100](#top)\n",
    "    * [evaluomeR - optimal $k$ analysis](#evaluomeR)\n",
    "* [PCA](#pca)\n",
    "* [Sensitivity](#sensitivity)\n",
    "* [CER](#cer)"
   ]
  },
  {
   "cell_type": "markdown",
   "id": "08d0e886",
   "metadata": {},
   "source": [
    "# Dataset <a class=\"anchor\" id=\"dataset\"></a>"
   ]
  },
  {
   "cell_type": "code",
   "execution_count": null,
   "id": "0a1bb939",
   "metadata": {},
   "outputs": [],
   "source": [
    "load(\"data/leukemia.RData\")\n",
    "golub = as.data.frame(leukemia)\n",
    "head(golub)"
   ]
  },
  {
   "cell_type": "markdown",
   "id": "8a6ee24b",
   "metadata": {},
   "source": [
    "Three types of classes within the dataset: **B**, **T** and **M**."
   ]
  },
  {
   "cell_type": "code",
   "execution_count": null,
   "id": "e3d9ffb3",
   "metadata": {},
   "outputs": [],
   "source": [
    "unique(golub[\"Class\"])"
   ]
  },
  {
   "cell_type": "markdown",
   "id": "916bfe1c",
   "metadata": {},
   "source": [
    "*Further information regarding GOLUB in [cancerclass](https://rdrr.io/bioc/cancerclass/man/GOLUB.html) package.*"
   ]
  },
  {
   "cell_type": "markdown",
   "id": "15b10987",
   "metadata": {},
   "source": [
    "Here, we prepare the GOLUB dataset for the analysis, in order to do so, we remove non-numeric columns:"
   ]
  },
  {
   "cell_type": "code",
   "execution_count": null,
   "id": "ee296298",
   "metadata": {},
   "outputs": [],
   "source": [
    "golub[\"Class\"] = NULL # leukemia\n",
    "golub[\"sample\"] = NULL\n",
    "golub[\"type\"] = NULL\n",
    "golub[\"FAB\"] = NULL\n",
    "golub[\"gender\"] = NULL"
   ]
  },
  {
   "cell_type": "code",
   "execution_count": null,
   "id": "98546ca9",
   "metadata": {},
   "outputs": [],
   "source": [
    "head(golub)"
   ]
  },
  {
   "cell_type": "markdown",
   "id": "edc610cf",
   "metadata": {},
   "source": [
    "# Removing highly correlated metrics <a class=\"anchor\" id=\"correlated\"></a>\n",
    "We address the issue of multicorrelation by identifying and removing highly correlated metrics (absolute correlation, 1) from our dataset. First, we exclude the first column from the dataset `golub`, where the column `Case` is. We then compute the correlation matrix R for data using the `cor` function. To pinpoint the metrics that exhibit perfect correlation (correlation coefficient of 1 or -1), we make use of the `findCorrelation` function from the `caret` package, setting a cutoff of 1. This function returns the names of the variables that are highly correlated, if any."
   ]
  },
  {
   "cell_type": "code",
   "execution_count": null,
   "id": "99a22477",
   "metadata": {},
   "outputs": [],
   "source": [
    "data = golub[-1]\n",
    "R = cor(data)\n",
    "head(R)"
   ]
  },
  {
   "cell_type": "code",
   "execution_count": null,
   "id": "4fe1892a",
   "metadata": {},
   "outputs": [],
   "source": [
    "cor_metrics = findCorrelation(R, cutoff = 1, verbose = FALSE, names=TRUE)\n",
    "length(cor_metrics)"
   ]
  },
  {
   "cell_type": "markdown",
   "id": "108d9a51",
   "metadata": {},
   "source": [
    "Finally, we use `length(cor_metrics)` to determine the number of these highly correlated metrics. As this number is 0, we assess there are no highly correlated metrics."
   ]
  },
  {
   "cell_type": "markdown",
   "id": "4e6e93c0",
   "metadata": {},
   "source": [
    "# Top 100 <a class=\"anchor\" id=\"top\"></a>\n",
    "We now filter the metrics for including only the top 100 with the greatest variance, as these metrics have the most significant impact on clustering."
   ]
  },
  {
   "cell_type": "code",
   "execution_count": null,
   "id": "fc27a4a6",
   "metadata": {},
   "outputs": [],
   "source": [
    "variance = sort(sapply(golub[-1], var,na.rm = TRUE), decreasing = TRUE)  # Sorted gene variance\n",
    "gene_var = as.data.frame(variance)\n",
    "gene_var[\"gene\"] = rownames(gene_var)\n",
    "head(gene_var)"
   ]
  },
  {
   "cell_type": "code",
   "execution_count": null,
   "id": "ad5808dc",
   "metadata": {},
   "outputs": [],
   "source": [
    "top_number = 100\n",
    "top_genes = gene_var[c(1:top_number), ]\n",
    "head(top_genes)"
   ]
  },
  {
   "cell_type": "code",
   "execution_count": null,
   "id": "05a6eb6d",
   "metadata": {},
   "outputs": [],
   "source": [
    "gene_list = as.list(top_genes[\"gene\"])\n",
    "top_gene_list = unlist(setdiff(gene_list, names(golub)))\n",
    "# Top 100 metrics (genes)\n",
    "top_gene_list"
   ]
  },
  {
   "cell_type": "code",
   "execution_count": null,
   "id": "b3fd3c62",
   "metadata": {},
   "outputs": [],
   "source": [
    "top_golub = golub[, top_gene_list]\n",
    "top_golub[\"labels\"] = rownames(top_golub)\n",
    "top_golub = top_golub[ , c(\"labels\", names(top_golub)[names(top_golub) != \"labels\"])] "
   ]
  },
  {
   "cell_type": "markdown",
   "id": "dd19cc1c",
   "metadata": {},
   "source": [
    "The dataframe `top_golub` contains 100 genes (metrics) which provides the most variance."
   ]
  },
  {
   "cell_type": "code",
   "execution_count": null,
   "id": "3ac2a74a",
   "metadata": {},
   "outputs": [],
   "source": [
    "head(top_golub)"
   ]
  },
  {
   "cell_type": "markdown",
   "id": "82a10a31",
   "metadata": {},
   "source": [
    "# evaluomeR - optimal $k$ analysis <a class=\"anchor\" id=\"evaluomeR\"></a>\n",
    "\n",
    "In this Section, evaluomeR executes an optimal $k$ analysis. First, stabilities and qualities are calculated, considering all the metrics in the dataset. The $k$ range is $k \\in [3,10]$ and the clustering method is `clara`."
   ]
  },
  {
   "cell_type": "code",
   "execution_count": null,
   "id": "3ae91fdf",
   "metadata": {},
   "outputs": [],
   "source": [
    "seed = 13606\n",
    "k.range=c(3,10)\n",
    "cbi = \"clara\"\n",
    "top_golub = golub\n",
    "colnames(top_golub)[colnames(top_golub) == 'Case'] <- 'Description'"
   ]
  },
  {
   "cell_type": "markdown",
   "id": "fe7435aa",
   "metadata": {},
   "source": [
    "Stability calculation with $k \\in [3,10]$ and `clara`:"
   ]
  },
  {
   "cell_type": "code",
   "execution_count": null,
   "id": "1a08ce56",
   "metadata": {},
   "outputs": [],
   "source": [
    "stab_range = stabilityRange(data=top_golub, k.range=k.range, \n",
    "                            bs=100, seed=seed,\n",
    "                            all_metrics=TRUE,\n",
    "                            cbi=cbi)\n",
    "stab = standardizeStabilityData(stab_range)"
   ]
  },
  {
   "cell_type": "markdown",
   "id": "b5cada82",
   "metadata": {},
   "source": [
    "Quality calculation with $k \\in [3,10]$ and `clara`."
   ]
  },
  {
   "cell_type": "code",
   "execution_count": null,
   "id": "4b665af0",
   "metadata": {},
   "outputs": [],
   "source": [
    "qual_range = qualityRange(data=top_golub, k.range=k.range, \n",
    "                            all_metrics=TRUE, seed=seed,\n",
    "                            cbi=cbi)\n",
    "qual = standardizeQualityData(qual_range)"
   ]
  },
  {
   "cell_type": "markdown",
   "id": "3d3cef07",
   "metadata": {},
   "source": [
    "Determining the optimal $k$ given the stabilities and qualities in `stab_range` and `qual_range` objects:"
   ]
  },
  {
   "cell_type": "code",
   "execution_count": null,
   "id": "74e626fc",
   "metadata": {},
   "outputs": [],
   "source": [
    "k_opt = getOptimalKValue(stab_range, qual_range, k.range= k.range)\n",
    "optimal_k = k_opt$Global_optimal_k\n",
    "optimal_k_str = paste0(\"k_\", optimal_k)\n",
    "print(paste0(\"Optimal k: \", optimal_k))"
   ]
  },
  {
   "cell_type": "code",
   "execution_count": null,
   "id": "ec99c5e5",
   "metadata": {},
   "outputs": [],
   "source": [
    "print(paste0(\"Stabilities and qualities per k with '\", cbi, \"' as clustering method\"))\n",
    "stab\n",
    "qual\n",
    "print(paste0(\"Stabily in k=\", optimal_k,\": \", stab[optimal_k_str]))\n",
    "print(paste0(\"Quality in k=\", optimal_k,\": \", qual[optimal_k_str]))"
   ]
  },
  {
   "cell_type": "markdown",
   "id": "e1dd0c73",
   "metadata": {},
   "source": [
    "# Clusters"
   ]
  },
  {
   "cell_type": "code",
   "execution_count": null,
   "id": "afc1d7d4",
   "metadata": {},
   "outputs": [],
   "source": [
    "# Internal method used to group individuals per cluster\n",
    "individuals_per_cluster = function(qualityResult) {\n",
    "    \n",
    "  qual_df = as.data.frame(assay(qualityResult))\n",
    "    \n",
    "\n",
    "  cluster_pos_str = as.character(unlist(qual_df[\"Cluster_position\"]))\n",
    "  cluster_labels_str = as.character(unlist(qual_df[\"Cluster_labels\"]))\n",
    "\n",
    "  cluster_pos = as.list(strsplit(cluster_pos_str, \",\")[[1]])\n",
    "  cluster_labels = as.list(strsplit(cluster_labels_str, \",\")[[1]])\n",
    "\n",
    "  individuals_in_cluster = as.data.frame(cbind(cluster_labels, cluster_pos))\n",
    "  colnames(individuals_in_cluster) = c(\"Individual\", \"InCluster\")\n",
    "\n",
    "  return(individuals_in_cluster)\n",
    "}"
   ]
  },
  {
   "cell_type": "code",
   "execution_count": null,
   "id": "fd0297d5",
   "metadata": {},
   "outputs": [],
   "source": [
    "cluster_individuals = individuals_per_cluster(assay(qual_range[optimal_k_str]))\n",
    "print(paste0(\"CBI: \", cbi, \" - k: \", optimal_k))\n",
    "for (cluster_i in 1:optimal_k) {\n",
    "    ind_in_cluster = paste(unlist(cluster_individuals[cluster_individuals$InCluster == cluster_i, ][\"Individual\"]), collapse = \",\")\n",
    "    print(paste(\"Cluster\", cluster_i, \":\", ind_in_cluster))\n",
    "    print(\"\")\n",
    "}"
   ]
  },
  {
   "cell_type": "markdown",
   "id": "884dc7ff",
   "metadata": {},
   "source": [
    "# PCA <a class=\"anchor\" id=\"pca\"></a>\n",
    "We employ Principal Component Analysis (PCA) as a dimensionality reduction technique to facilitate the visualization of clusters within our dataset. PCA allow us to transform the original high-dimensional data into a lower-dimensional space, while preserving as much of the variability as possible."
   ]
  },
  {
   "cell_type": "code",
   "execution_count": null,
   "id": "e5482b73",
   "metadata": {},
   "outputs": [],
   "source": [
    "top_golub[\"inCluster\"] = as.numeric(cluster_individuals$InCluster)\n",
    "pca_matrix = top_golub %>% select(-Description, -inCluster)\n",
    "pca_result <- prcomp(pca_matrix, scale. = TRUE)\n",
    "pca_df <- data.frame(pca_result$x)\n",
    "pca_df$Cluster <- as.factor(top_golub$inCluster)\n",
    "pca_df$Individual <- top_golub$Description\n",
    "head(pca_df)"
   ]
  },
  {
   "cell_type": "code",
   "execution_count": null,
   "id": "1534bc2e",
   "metadata": {},
   "outputs": [],
   "source": [
    "# Plot of the clusters, color\n",
    "ggplot2::ggplot(pca_df, ggplot2::aes(x = PC1, y = PC2, color = Cluster, label = Individual)) +\n",
    "  ggplot2::geom_point(size = 3) +\n",
    "  ggplot2::geom_text(vjust = 1, hjust = 1) +\n",
    "  ggplot2::labs(title = \"PCA of Features\",\n",
    "       x = \"Principal Component 1\",\n",
    "       y = \"Principal Component 2\") +\n",
    "  ggplot2::theme_minimal()"
   ]
  },
  {
   "cell_type": "code",
   "execution_count": null,
   "id": "b1b0509f",
   "metadata": {},
   "outputs": [],
   "source": [
    "# Plot of the clusters, grayscale\n",
    "ggplot(pca_df, aes(x = PC1, y = PC2, shape = Cluster, color = Cluster, label = Individual)) +\n",
    "  geom_point(size = 3) + # Point size\n",
    "  geom_text(vjust = 1, hjust = 1, color = \"black\") + # Black color for text\n",
    "  labs(title = \"PCA of Features\",\n",
    "       x = \"Principal Component 1\",\n",
    "       y = \"Principal Component 2\") +\n",
    "  theme_minimal() +\n",
    "  scale_shape_manual(values = c(16, 17, 15, 18, 19)) + # Different point styles\n",
    "  scale_color_manual(values = c(\"gray20\", \"gray40\", \"gray60\", \"gray80\", \"black\")) + # Different grayscale colors\n",
    "  theme(legend.position = \"right\")"
   ]
  },
  {
   "cell_type": "markdown",
   "id": "b7fd561d",
   "metadata": {},
   "source": [
    "# Sensitivity <a class=\"anchor\" id=\"sensitivity\"></a>"
   ]
  },
  {
   "cell_type": "markdown",
   "id": "0163198f",
   "metadata": {},
   "source": [
    "In this Section we evaluate the sensitivity of our clustering using the `MLmetrics::Sensitivity` method. Sensitivity, or the true positive rate, measures the ability to correctly identify positive instances within the data. By focusing on sensitivity, we aim to ensure that our model effectively captures the relevant clusters, minimizing the number of false negatives. "
   ]
  },
  {
   "cell_type": "code",
   "execution_count": null,
   "id": "328d1516",
   "metadata": {},
   "outputs": [],
   "source": [
    "top_golub[\"Class\"] = as.data.frame(leukemia)[\"Class\"]\n",
    "head(top_golub)[, c(\"Description\", \"Class\")]"
   ]
  },
  {
   "cell_type": "code",
   "execution_count": null,
   "id": "1642b419",
   "metadata": {},
   "outputs": [],
   "source": [
    "level_mapping <- c(\"B\" = 1, \"T\" = 2, \"M\" = 3)\n",
    "map_strings_to_numbers <- function(strings) {\n",
    "  factorized <- factor(strings, levels = names(level_mapping))\n",
    "  as.numeric(factorized)\n",
    "}\n",
    "# Map categories with cluster number\n",
    "top_golub[\"Class_n\"] = lapply(top_golub[\"Class\"], map_strings_to_numbers)\n",
    "# Table of prediction vs actual classification\n",
    "head(top_golub[, c(\"Description\", \"Class\", \"Class_n\")])"
   ]
  },
  {
   "cell_type": "code",
   "execution_count": null,
   "id": "ec847c32",
   "metadata": {
    "scrolled": true
   },
   "outputs": [],
   "source": [
    "# Getting a vector of prediction vs actual classification\n",
    "actual = as.factor(as.vector(unlist(top_golub[\"Class_n\"])))\n",
    "predicted <- factor(as.vector(unlist(top_golub[\"inCluster\"])))\n",
    "\n",
    "print(\"actual\")\n",
    "actual\n",
    "print(\"predicted\")\n",
    "predicted"
   ]
  },
  {
   "cell_type": "code",
   "execution_count": null,
   "id": "0ecd0c82",
   "metadata": {},
   "outputs": [],
   "source": [
    "sens <- MLmetrics::Sensitivity(y_pred = predicted, y_true = actual)\n",
    "sens = format(round(sens*100, 2), nsmall = 2)\n",
    "print(paste0(\"Sensitivity: \", sens, \"%\"))"
   ]
  },
  {
   "cell_type": "markdown",
   "id": "69f1248e",
   "metadata": {},
   "source": [
    "# CER <a class=\"anchor\" id=\"cer\"></a>\n",
    "To assess the overall accuracy of our clustering, we compute the Classification Error Rate (CER) and compare it with the gold standard classification. CER represents the proportion of misclassified instances, thus providing a clear measure of the clustering performance in assigning individuals to the correct clusters."
   ]
  },
  {
   "cell_type": "code",
   "execution_count": null,
   "id": "fc3052a4",
   "metadata": {},
   "outputs": [],
   "source": [
    "cer <- CER(predicted, actual)\n",
    "cer = format(round(cer*100, 2), nsmall = 2)\n",
    "print(paste0(\"CER: \", cer, \"%\"))"
   ]
  }
 ],
 "metadata": {
  "kernelspec": {
   "display_name": "R",
   "language": "R",
   "name": "ir"
  },
  "language_info": {
   "codemirror_mode": "r",
   "file_extension": ".r",
   "mimetype": "text/x-r-source",
   "name": "R",
   "pygments_lexer": "r",
   "version": "3.6.1"
  }
 },
 "nbformat": 4,
 "nbformat_minor": 5
}
